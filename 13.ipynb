{
 "cells": [
  {
   "cell_type": "markdown",
   "metadata": {
    "toc": true
   },
   "source": [
    "<h1>Содержание<span class=\"tocSkip\"></span></h1>\n",
    "<div class=\"toc\"><ul class=\"toc-item\"><li><span><a href=\"#Подготовка\" data-toc-modified-id=\"Подготовка-1\"><span class=\"toc-item-num\">1&nbsp;&nbsp;</span>Подготовка</a></span></li><li><span><a href=\"#Обучение\" data-toc-modified-id=\"Обучение-2\"><span class=\"toc-item-num\">2&nbsp;&nbsp;</span>Обучение</a></span></li><li><span><a href=\"#Выводы\" data-toc-modified-id=\"Выводы-3\"><span class=\"toc-item-num\">3&nbsp;&nbsp;</span>Выводы</a></span></li><li><span><a href=\"#Чек-лист-проверки\" data-toc-modified-id=\"Чек-лист-проверки-4\"><span class=\"toc-item-num\">4&nbsp;&nbsp;</span>Чек-лист проверки</a></span></li></ul></div>"
   ]
  },
  {
   "cell_type": "markdown",
   "metadata": {},
   "source": [
    "# Проект для «Викишоп»"
   ]
  },
  {
   "cell_type": "markdown",
   "metadata": {},
   "source": [
    "Интернет-магазин «Викишоп» запускает новый сервис. Теперь пользователи могут редактировать и дополнять описания товаров, как в вики-сообществах. То есть клиенты предлагают свои правки и комментируют изменения других. Магазину нужен инструмент, который будет искать токсичные комментарии и отправлять их на модерацию. \n",
    "\n",
    "Обучите модель классифицировать комментарии на позитивные и негативные. В вашем распоряжении набор данных с разметкой о токсичности правок.\n",
    "\n",
    "Постройте модель со значением метрики качества *F1* не меньше 0.75. \n",
    "\n",
    "**Инструкция по выполнению проекта**\n",
    "\n",
    "1. Загрузите и подготовьте данные.\n",
    "2. Обучите разные модели. \n",
    "3. Сделайте выводы.\n",
    "\n",
    "Для выполнения проекта применять *BERT* необязательно, но вы можете попробовать.\n",
    "\n",
    "**Описание данных**\n",
    "\n",
    "Данные находятся в файле `toxic_comments.csv`. Столбец *text* в нём содержит текст комментария, а *toxic* — целевой признак."
   ]
  },
  {
   "cell_type": "markdown",
   "metadata": {},
   "source": [
    "## Подготовка"
   ]
  },
  {
   "cell_type": "code",
   "execution_count": 51,
   "metadata": {},
   "outputs": [
    {
     "name": "stderr",
     "output_type": "stream",
     "text": [
      "[nltk_data] Downloading package stopwords to /home/jovyan/nltk_data...\n",
      "[nltk_data]   Package stopwords is already up-to-date!\n"
     ]
    }
   ],
   "source": [
    "import pandas as pd \n",
    "import numpy as np \n",
    "\n",
    "from sklearn.pipeline import Pipeline\n",
    "\n",
    "import re\n",
    "import nltk\n",
    "from nltk.corpus import stopwords as nltk_stopwords\n",
    "from sklearn.feature_extraction.text import TfidfVectorizer, TfidfTransformer\n",
    "from nltk.stem import WordNetLemmatizer \n",
    "from sklearn.model_selection import train_test_split, GridSearchCV\n",
    "from sklearn.utils import shuffle\n",
    "from sklearn.linear_model import LogisticRegression\n",
    "from lightgbm import LGBMClassifier \n",
    "import matplotlib.pyplot as plt\n",
    "from sklearn.metrics import f1_score\n",
    "\n",
    "import time\n",
    "import warnings\n",
    "warnings.filterwarnings('ignore')\n",
    "\n",
    "nltk.download('stopwords')\n",
    "stopwords = set(nltk_stopwords.words('english'))\n",
    "\n",
    "import plotly.graph_objects as go\n"
   ]
  },
  {
   "cell_type": "code",
   "execution_count": 60,
   "metadata": {},
   "outputs": [],
   "source": [
    "df = pd.read_csv('/datasets/toxic_comments.csv')"
   ]
  },
  {
   "cell_type": "code",
   "execution_count": 61,
   "metadata": {},
   "outputs": [
    {
     "data": {
      "text/plain": [
       "<bound method DataFrame.info of                                                      text  toxic\n",
       "0       Explanation\\nWhy the edits made under my usern...      0\n",
       "1       D'aww! He matches this background colour I'm s...      0\n",
       "2       Hey man, I'm really not trying to edit war. It...      0\n",
       "3       \"\\nMore\\nI can't make any real suggestions on ...      0\n",
       "4       You, sir, are my hero. Any chance you remember...      0\n",
       "...                                                   ...    ...\n",
       "159566  \":::::And for the second time of asking, when ...      0\n",
       "159567  You should be ashamed of yourself \\n\\nThat is ...      0\n",
       "159568  Spitzer \\n\\nUmm, theres no actual article for ...      0\n",
       "159569  And it looks like it was actually you who put ...      0\n",
       "159570  \"\\nAnd ... I really don't think you understand...      0\n",
       "\n",
       "[159571 rows x 2 columns]>"
      ]
     },
     "execution_count": 61,
     "metadata": {},
     "output_type": "execute_result"
    }
   ],
   "source": [
    "df.info"
   ]
  },
  {
   "cell_type": "code",
   "execution_count": 62,
   "metadata": {},
   "outputs": [
    {
     "data": {
      "text/html": [
       "<div>\n",
       "<style scoped>\n",
       "    .dataframe tbody tr th:only-of-type {\n",
       "        vertical-align: middle;\n",
       "    }\n",
       "\n",
       "    .dataframe tbody tr th {\n",
       "        vertical-align: top;\n",
       "    }\n",
       "\n",
       "    .dataframe thead th {\n",
       "        text-align: right;\n",
       "    }\n",
       "</style>\n",
       "<table border=\"1\" class=\"dataframe\">\n",
       "  <thead>\n",
       "    <tr style=\"text-align: right;\">\n",
       "      <th></th>\n",
       "      <th>text</th>\n",
       "      <th>toxic</th>\n",
       "    </tr>\n",
       "  </thead>\n",
       "  <tbody>\n",
       "    <tr>\n",
       "      <th>0</th>\n",
       "      <td>Explanation\\nWhy the edits made under my usern...</td>\n",
       "      <td>0</td>\n",
       "    </tr>\n",
       "    <tr>\n",
       "      <th>1</th>\n",
       "      <td>D'aww! He matches this background colour I'm s...</td>\n",
       "      <td>0</td>\n",
       "    </tr>\n",
       "    <tr>\n",
       "      <th>2</th>\n",
       "      <td>Hey man, I'm really not trying to edit war. It...</td>\n",
       "      <td>0</td>\n",
       "    </tr>\n",
       "    <tr>\n",
       "      <th>3</th>\n",
       "      <td>\"\\nMore\\nI can't make any real suggestions on ...</td>\n",
       "      <td>0</td>\n",
       "    </tr>\n",
       "    <tr>\n",
       "      <th>4</th>\n",
       "      <td>You, sir, are my hero. Any chance you remember...</td>\n",
       "      <td>0</td>\n",
       "    </tr>\n",
       "  </tbody>\n",
       "</table>\n",
       "</div>"
      ],
      "text/plain": [
       "                                                text  toxic\n",
       "0  Explanation\\nWhy the edits made under my usern...      0\n",
       "1  D'aww! He matches this background colour I'm s...      0\n",
       "2  Hey man, I'm really not trying to edit war. It...      0\n",
       "3  \"\\nMore\\nI can't make any real suggestions on ...      0\n",
       "4  You, sir, are my hero. Any chance you remember...      0"
      ]
     },
     "execution_count": 62,
     "metadata": {},
     "output_type": "execute_result"
    }
   ],
   "source": [
    "df.head()"
   ]
  },
  {
   "cell_type": "code",
   "execution_count": 63,
   "metadata": {},
   "outputs": [
    {
     "data": {
      "text/html": [
       "<div>\n",
       "<style scoped>\n",
       "    .dataframe tbody tr th:only-of-type {\n",
       "        vertical-align: middle;\n",
       "    }\n",
       "\n",
       "    .dataframe tbody tr th {\n",
       "        vertical-align: top;\n",
       "    }\n",
       "\n",
       "    .dataframe thead th {\n",
       "        text-align: right;\n",
       "    }\n",
       "</style>\n",
       "<table border=\"1\" class=\"dataframe\">\n",
       "  <thead>\n",
       "    <tr style=\"text-align: right;\">\n",
       "      <th></th>\n",
       "      <th>text</th>\n",
       "      <th>toxic</th>\n",
       "    </tr>\n",
       "  </thead>\n",
       "  <tbody>\n",
       "    <tr>\n",
       "      <th>159566</th>\n",
       "      <td>\":::::And for the second time of asking, when ...</td>\n",
       "      <td>0</td>\n",
       "    </tr>\n",
       "    <tr>\n",
       "      <th>159567</th>\n",
       "      <td>You should be ashamed of yourself \\n\\nThat is ...</td>\n",
       "      <td>0</td>\n",
       "    </tr>\n",
       "    <tr>\n",
       "      <th>159568</th>\n",
       "      <td>Spitzer \\n\\nUmm, theres no actual article for ...</td>\n",
       "      <td>0</td>\n",
       "    </tr>\n",
       "    <tr>\n",
       "      <th>159569</th>\n",
       "      <td>And it looks like it was actually you who put ...</td>\n",
       "      <td>0</td>\n",
       "    </tr>\n",
       "    <tr>\n",
       "      <th>159570</th>\n",
       "      <td>\"\\nAnd ... I really don't think you understand...</td>\n",
       "      <td>0</td>\n",
       "    </tr>\n",
       "  </tbody>\n",
       "</table>\n",
       "</div>"
      ],
      "text/plain": [
       "                                                     text  toxic\n",
       "159566  \":::::And for the second time of asking, when ...      0\n",
       "159567  You should be ashamed of yourself \\n\\nThat is ...      0\n",
       "159568  Spitzer \\n\\nUmm, theres no actual article for ...      0\n",
       "159569  And it looks like it was actually you who put ...      0\n",
       "159570  \"\\nAnd ... I really don't think you understand...      0"
      ]
     },
     "execution_count": 63,
     "metadata": {},
     "output_type": "execute_result"
    }
   ],
   "source": [
    "df.tail()"
   ]
  },
  {
   "cell_type": "code",
   "execution_count": 64,
   "metadata": {},
   "outputs": [
    {
     "data": {
      "text/plain": [
       "0    143346\n",
       "1     16225\n",
       "Name: toxic, dtype: int64"
      ]
     },
     "execution_count": 64,
     "metadata": {},
     "output_type": "execute_result"
    }
   ],
   "source": [
    "df['toxic'].value_counts()"
   ]
  },
  {
   "cell_type": "code",
   "execution_count": 65,
   "metadata": {},
   "outputs": [
    {
     "name": "stdout",
     "output_type": "stream",
     "text": [
      "text     0\n",
      "toxic    0\n",
      "dtype: int64\n"
     ]
    }
   ],
   "source": [
    "#пропуски\n",
    "print(df.isnull().sum())"
   ]
  },
  {
   "cell_type": "code",
   "execution_count": 66,
   "metadata": {},
   "outputs": [
    {
     "name": "stdout",
     "output_type": "stream",
     "text": [
      "0\n"
     ]
    }
   ],
   "source": [
    "#дубликаты\n",
    "print(df.duplicated().sum())"
   ]
  },
  {
   "cell_type": "code",
   "execution_count": 67,
   "metadata": {},
   "outputs": [
    {
     "data": {
      "text/plain": [
       "Text(0.5, 1.0, 'Целевой признак')"
      ]
     },
     "execution_count": 67,
     "metadata": {},
     "output_type": "execute_result"
    },
    {
     "data": {
      "image/png": "[encoded data removed]",
      "text/plain": [
       "<Figure size 432x288 with 1 Axes>"
      ]
     },
     "metadata": {
      "needs_background": "light"
     },
     "output_type": "display_data"
    }
   ],
   "source": [
    "# Смотрю как распределен целевой признак\n",
    "df['toxic'].hist()\n",
    "plt.title('Целевой признак')"
   ]
  },
  {
   "cell_type": "markdown",
   "metadata": {},
   "source": [
    "В представленном датасете 159571 строк и 2 столбца. Текст сырой, его необходимо будет очистить и ламметизировать. Пропущенных значений нет. Целевым признаком является ['toxic']-оценка токсичности в комментарии ['text']\n",
    "\n",
    "Присутствует сильный дисбаланс классов."
   ]
  },
  {
   "cell_type": "markdown",
   "metadata": {},
   "source": [
    "## Обучение"
   ]
  },
  {
   "cell_type": "code",
   "execution_count": 10,
   "metadata": {},
   "outputs": [],
   "source": [
    "# Очищаем текст. Лемматизируем c использованием WordNetLemmatizer. Приводим к нижнему регистру.\n",
    "\n",
    "lemmatizer = WordNetLemmatizer()\n",
    "\n",
    "def clean_text(text):\n",
    "    clean = \" \".join(re.sub(r'[^a-zA-z]', ' ', text).lower().split())\n",
    "    word_list = nltk.word_tokenize(clean)\n",
    "    lemmatized_output = ' '.join([lemmatizer.lemmatize(w) for w in word_list])    \n",
    "    return lemmatized_output\n",
    "\n",
    "df['lemmatize'] = df['text'].apply(clean_text)"
   ]
  },
  {
   "cell_type": "code",
   "execution_count": 11,
   "metadata": {
    "scrolled": true
   },
   "outputs": [
    {
     "data": {
      "text/html": [
       "<div>\n",
       "<style scoped>\n",
       "    .dataframe tbody tr th:only-of-type {\n",
       "        vertical-align: middle;\n",
       "    }\n",
       "\n",
       "    .dataframe tbody tr th {\n",
       "        vertical-align: top;\n",
       "    }\n",
       "\n",
       "    .dataframe thead th {\n",
       "        text-align: right;\n",
       "    }\n",
       "</style>\n",
       "<table border=\"1\" class=\"dataframe\">\n",
       "  <thead>\n",
       "    <tr style=\"text-align: right;\">\n",
       "      <th></th>\n",
       "      <th>text</th>\n",
       "      <th>toxic</th>\n",
       "      <th>lemmatize</th>\n",
       "    </tr>\n",
       "  </thead>\n",
       "  <tbody>\n",
       "    <tr>\n",
       "      <th>0</th>\n",
       "      <td>Explanation\\nWhy the edits made under my usern...</td>\n",
       "      <td>0</td>\n",
       "      <td>explanation why the edits made under my userna...</td>\n",
       "    </tr>\n",
       "    <tr>\n",
       "      <th>1</th>\n",
       "      <td>D'aww! He matches this background colour I'm s...</td>\n",
       "      <td>0</td>\n",
       "      <td>d aww he match this background colour i m seem...</td>\n",
       "    </tr>\n",
       "    <tr>\n",
       "      <th>2</th>\n",
       "      <td>Hey man, I'm really not trying to edit war. It...</td>\n",
       "      <td>0</td>\n",
       "      <td>hey man i m really not trying to edit war it s...</td>\n",
       "    </tr>\n",
       "    <tr>\n",
       "      <th>3</th>\n",
       "      <td>\"\\nMore\\nI can't make any real suggestions on ...</td>\n",
       "      <td>0</td>\n",
       "      <td>more i can t make any real suggestion on impro...</td>\n",
       "    </tr>\n",
       "    <tr>\n",
       "      <th>4</th>\n",
       "      <td>You, sir, are my hero. Any chance you remember...</td>\n",
       "      <td>0</td>\n",
       "      <td>you sir are my hero any chance you remember wh...</td>\n",
       "    </tr>\n",
       "    <tr>\n",
       "      <th>...</th>\n",
       "      <td>...</td>\n",
       "      <td>...</td>\n",
       "      <td>...</td>\n",
       "    </tr>\n",
       "    <tr>\n",
       "      <th>159566</th>\n",
       "      <td>\":::::And for the second time of asking, when ...</td>\n",
       "      <td>0</td>\n",
       "      <td>and for the second time of asking when your vi...</td>\n",
       "    </tr>\n",
       "    <tr>\n",
       "      <th>159567</th>\n",
       "      <td>You should be ashamed of yourself \\n\\nThat is ...</td>\n",
       "      <td>0</td>\n",
       "      <td>you should be ashamed of yourself that is a ho...</td>\n",
       "    </tr>\n",
       "    <tr>\n",
       "      <th>159568</th>\n",
       "      <td>Spitzer \\n\\nUmm, theres no actual article for ...</td>\n",
       "      <td>0</td>\n",
       "      <td>spitzer umm there no actual article for prosti...</td>\n",
       "    </tr>\n",
       "    <tr>\n",
       "      <th>159569</th>\n",
       "      <td>And it looks like it was actually you who put ...</td>\n",
       "      <td>0</td>\n",
       "      <td>and it look like it wa actually you who put on...</td>\n",
       "    </tr>\n",
       "    <tr>\n",
       "      <th>159570</th>\n",
       "      <td>\"\\nAnd ... I really don't think you understand...</td>\n",
       "      <td>0</td>\n",
       "      <td>and i really don t think you understand i came...</td>\n",
       "    </tr>\n",
       "  </tbody>\n",
       "</table>\n",
       "<p>159571 rows × 3 columns</p>\n",
       "</div>"
      ],
      "text/plain": [
       "                                                     text  toxic  \\\n",
       "0       Explanation\\nWhy the edits made under my usern...      0   \n",
       "1       D'aww! He matches this background colour I'm s...      0   \n",
       "2       Hey man, I'm really not trying to edit war. It...      0   \n",
       "3       \"\\nMore\\nI can't make any real suggestions on ...      0   \n",
       "4       You, sir, are my hero. Any chance you remember...      0   \n",
       "...                                                   ...    ...   \n",
       "159566  \":::::And for the second time of asking, when ...      0   \n",
       "159567  You should be ashamed of yourself \\n\\nThat is ...      0   \n",
       "159568  Spitzer \\n\\nUmm, theres no actual article for ...      0   \n",
       "159569  And it looks like it was actually you who put ...      0   \n",
       "159570  \"\\nAnd ... I really don't think you understand...      0   \n",
       "\n",
       "                                                lemmatize  \n",
       "0       explanation why the edits made under my userna...  \n",
       "1       d aww he match this background colour i m seem...  \n",
       "2       hey man i m really not trying to edit war it s...  \n",
       "3       more i can t make any real suggestion on impro...  \n",
       "4       you sir are my hero any chance you remember wh...  \n",
       "...                                                   ...  \n",
       "159566  and for the second time of asking when your vi...  \n",
       "159567  you should be ashamed of yourself that is a ho...  \n",
       "159568  spitzer umm there no actual article for prosti...  \n",
       "159569  and it look like it wa actually you who put on...  \n",
       "159570  and i really don t think you understand i came...  \n",
       "\n",
       "[159571 rows x 3 columns]"
      ]
     },
     "metadata": {},
     "output_type": "display_data"
    }
   ],
   "source": [
    "display(df)"
   ]
  },
  {
   "cell_type": "code",
   "execution_count": 22,
   "metadata": {},
   "outputs": [],
   "source": [
    "X = df.drop('toxic', axis=1)#выделяем признаки\n",
    "y = df['toxic']"
   ]
  },
  {
   "cell_type": "code",
   "execution_count": 23,
   "metadata": {},
   "outputs": [],
   "source": [
    "X_train, X_test, y_train, y_test = train_test_split(X, y, test_size = 0.3, random_state=12345)\n",
    "#делим на выборки"
   ]
  },
  {
   "cell_type": "code",
   "execution_count": 14,
   "metadata": {},
   "outputs": [
    {
     "name": "stdout",
     "output_type": "stream",
     "text": [
      "{'clf__C': 10, 'clf__class_weight': 'balanced'}\n",
      "0.7732424329449078\n",
      "CPU times: user 14min 2s, sys: 8min 38s, total: 22min 40s\n",
      "Wall time: 22min 42s\n"
     ]
    }
   ],
   "source": [
    "#LogisticRegression\n",
    "%%time\n",
    "\n",
    "lr_pipe = Pipeline([#обучаем с балансировкой классов при помощи Pipeline\n",
    "    ('tfidf', TfidfVectorizer(ngram_range=(1,3), min_df=3, max_df=0.9, use_idf=1,\n",
    "               smooth_idf=1, sublinear_tf=1, stop_words=stopwords)),\n",
    "    ('clf', LogisticRegression(random_state=12345))])\n",
    "\n",
    "params = {'clf__C': [0.1, 1, 10, 100],\n",
    "          'clf__class_weight': ['balanced', None]}\n",
    "\n",
    "lr_grid = GridSearchCV(estimator=lr_pipe, param_grid=params, cv=3, scoring='f1', n_jobs=-1,\\\n",
    "                       refit=False)#подбираем параметры\n",
    "lr_grid.fit(X_train['text'], y_train)\n",
    "lr_best_paramms = lr_grid.best_params_\n",
    "\n",
    "print(lr_best_paramms)\n",
    "print(lr_grid.best_score_)"
   ]
  },
  {
   "cell_type": "code",
   "execution_count": 15,
   "metadata": {},
   "outputs": [
    {
     "name": "stdout",
     "output_type": "stream",
     "text": [
      "{'clf__learning_rate': 0.15, 'clf__max_depth': -1, 'clf__n_estimators': 200}\n",
      "0.7677571478667092\n",
      "CPU times: user 4h 13min 11s, sys: 1min 16s, total: 4h 14min 28s\n",
      "Wall time: 4h 15min 43s\n"
     ]
    }
   ],
   "source": [
    "#LGBMClassifier\n",
    "%%time\n",
    "\n",
    "lgb_pipe = Pipeline([\n",
    "    ('tfidf', TfidfVectorizer(ngram_range=(1,3), min_df=3, max_df=0.9, use_idf=1,\n",
    "               smooth_idf=1, sublinear_tf=1, stop_words=stopwords)),\n",
    "    ('clf', LGBMClassifier(random_state=12345))])\n",
    "\n",
    "params = {\n",
    "  'clf__n_estimators': [200],\n",
    "  'clf__learning_rate': [0.15, 0.25],\n",
    "  'clf__max_depth': [8, 10, -1]}\n",
    "\n",
    "lgb_grid = GridSearchCV(estimator=lgb_pipe, param_grid=params, cv=3, scoring='f1', n_jobs=-1, refit=False)\n",
    "lgb_grid.fit(X_train['text'], y_train)\n",
    "lgb_best_params = lgb_grid.best_params_\n",
    "\n",
    "print(lgb_best_params)\n",
    "print(lgb_grid.best_score_)"
   ]
  },
  {
   "cell_type": "code",
   "execution_count": 24,
   "metadata": {},
   "outputs": [],
   "source": [
    "vectorize = TfidfVectorizer(ngram_range=(1,3),\n",
    "               min_df=3, max_df=0.9, use_idf=1,\n",
    "               smooth_idf=1, sublinear_tf=1, stop_words=stopwords)"
   ]
  },
  {
   "cell_type": "code",
   "execution_count": 25,
   "metadata": {},
   "outputs": [],
   "source": [
    "X_train = vectorize.fit_transform(X_train['text'])#преобразуем в векторы\n",
    "X_test = vectorize.transform(X_test['text'])"
   ]
  },
  {
   "cell_type": "code",
   "execution_count": 26,
   "metadata": {},
   "outputs": [
    {
     "data": {
      "text/plain": [
       "LogisticRegression(C=10, class_weight='balanced', random_state=12345)"
      ]
     },
     "execution_count": 26,
     "metadata": {},
     "output_type": "execute_result"
    }
   ],
   "source": [
    "lr_m = LogisticRegression(C=10, class_weight='balanced', random_state=12345)\n",
    "lr_m.fit(X_train, y_train)"
   ]
  },
  {
   "cell_type": "code",
   "execution_count": 27,
   "metadata": {},
   "outputs": [
    {
     "data": {
      "text/plain": [
       "LogisticRegression(C=10, class_weight='balanced', multi_class='warn',\n",
       "                   random_state=12345, solver='warn')"
      ]
     },
     "execution_count": 27,
     "metadata": {},
     "output_type": "execute_result"
    }
   ],
   "source": [
    "LogisticRegression(C=10, class_weight='balanced', dual=False,\n",
    "                   fit_intercept=True, intercept_scaling=1, l1_ratio=None,\n",
    "                   max_iter=100, multi_class='warn', n_jobs=None, penalty='l2',\n",
    "                   random_state=12345, solver='warn', tol=0.0001, verbose=0,\n",
    "                   warm_start=False)"
   ]
  },
  {
   "cell_type": "code",
   "execution_count": 28,
   "metadata": {},
   "outputs": [
    {
     "data": {
      "text/plain": [
       "LGBMClassifier(learning_rate=0.25, n_estimators=200, random_state=12345)"
      ]
     },
     "execution_count": 28,
     "metadata": {},
     "output_type": "execute_result"
    }
   ],
   "source": [
    "lgb_m = LGBMClassifier(learning_rate=0.25, max_depth=-1, n_estimators=200, random_state = 12345)\n",
    "lgb_m.fit(X_train, y_train)"
   ]
  },
  {
   "cell_type": "code",
   "execution_count": 29,
   "metadata": {},
   "outputs": [
    {
     "data": {
      "text/plain": [
       "LGBMClassifier(learning_rate=0.25, n_estimators=200, random_state=12345,\n",
       "               silent=True)"
      ]
     },
     "execution_count": 29,
     "metadata": {},
     "output_type": "execute_result"
    }
   ],
   "source": [
    "LGBMClassifier(boosting_type='gbdt', class_weight=None, colsample_bytree=1.0,\n",
    "               importance_type='split', learning_rate=0.25, max_depth=-1,\n",
    "               min_child_samples=20, min_child_weight=0.001, min_split_gain=0.0,\n",
    "               n_estimators=200, n_jobs=-1, num_leaves=31, objective=None,\n",
    "               random_state=12345, reg_alpha=0.0, reg_lambda=0.0, silent=True,\n",
    "               subsample=1.0, subsample_for_bin=200000, subsample_freq=0)"
   ]
  },
  {
   "cell_type": "code",
   "execution_count": 30,
   "metadata": {},
   "outputs": [],
   "source": [
    "def scoring(fitted_model):\n",
    "    test_pred = fitted_model.predict(X_test)\n",
    "    test_f1 = f1_score(y_test, test_pred)\n",
    "    \n",
    "    print('F1 on test: {:.3f}'.format(test_f1))"
   ]
  },
  {
   "cell_type": "markdown",
   "metadata": {},
   "source": [
    "## Выводы"
   ]
  },
  {
   "cell_type": "code",
   "execution_count": 47,
   "metadata": {},
   "outputs": [
    {
     "name": "stdout",
     "output_type": "stream",
     "text": [
      "F1 on test: 0.784\n"
     ]
    }
   ],
   "source": [
    "scoring(lr_m)"
   ]
  },
  {
   "cell_type": "code",
   "execution_count": 48,
   "metadata": {},
   "outputs": [
    {
     "name": "stdout",
     "output_type": "stream",
     "text": [
      "F1 on test: 0.777\n"
     ]
    }
   ],
   "source": [
    "scoring(lgb_m)"
   ]
  },
  {
   "cell_type": "markdown",
   "metadata": {},
   "source": [
    "Логистическая регрессия выдает результат F1-score: 0.784 на тестовой выборке, это лучший результат. LGBMClassifier показывает результат 0.777 и значительно уступает Логистической регрессии по времени обучения"
   ]
  }
 ],
 "metadata": {
  "ExecuteTimeLog": [
   {
    "duration": 1842,
    "start_time": "2022-05-29T10:16:34.603Z"
   },
   {
    "duration": 2787,
    "start_time": "2022-05-29T10:17:46.353Z"
   },
   {
    "duration": 14,
    "start_time": "2022-05-29T10:18:18.638Z"
   },
   {
    "duration": 9,
    "start_time": "2022-05-29T10:19:01.421Z"
   },
   {
    "duration": 7,
    "start_time": "2022-05-29T10:19:33.792Z"
   },
   {
    "duration": 6,
    "start_time": "2022-05-29T10:20:14.742Z"
   },
   {
    "duration": 232,
    "start_time": "2022-05-29T10:22:11.480Z"
   },
   {
    "duration": 62,
    "start_time": "2022-05-30T05:46:12.912Z"
   },
   {
    "duration": 1640,
    "start_time": "2022-05-30T05:46:20.064Z"
   },
   {
    "duration": 2518,
    "start_time": "2022-05-30T05:46:21.706Z"
   },
   {
    "duration": 13,
    "start_time": "2022-05-30T05:46:24.226Z"
   },
   {
    "duration": 8,
    "start_time": "2022-05-30T05:46:24.241Z"
   },
   {
    "duration": 9,
    "start_time": "2022-05-30T05:46:27.920Z"
   },
   {
    "duration": 9,
    "start_time": "2022-05-30T05:46:28.849Z"
   },
   {
    "duration": 221,
    "start_time": "2022-05-30T05:46:33.179Z"
   },
   {
    "duration": 600,
    "start_time": "2022-05-30T05:46:36.087Z"
   },
   {
    "duration": 6,
    "start_time": "2022-05-30T05:47:39.900Z"
   },
   {
    "duration": 816,
    "start_time": "2022-05-30T05:47:40.493Z"
   },
   {
    "duration": 8,
    "start_time": "2022-05-30T05:47:41.311Z"
   },
   {
    "duration": 7,
    "start_time": "2022-05-30T05:47:41.736Z"
   },
   {
    "duration": 7,
    "start_time": "2022-05-30T05:47:42.434Z"
   },
   {
    "duration": 7,
    "start_time": "2022-05-30T05:47:43.120Z"
   },
   {
    "duration": 235,
    "start_time": "2022-05-30T05:47:43.650Z"
   },
   {
    "duration": 152,
    "start_time": "2022-05-30T05:47:44.320Z"
   },
   {
    "duration": 33,
    "start_time": "2022-05-30T05:50:34.175Z"
   },
   {
    "duration": 23,
    "start_time": "2022-05-30T05:50:42.570Z"
   },
   {
    "duration": 42,
    "start_time": "2022-05-30T05:50:54.699Z"
   },
   {
    "duration": 26,
    "start_time": "2022-05-30T05:52:42.586Z"
   },
   {
    "duration": 12,
    "start_time": "2022-05-30T05:53:34.453Z"
   },
   {
    "duration": 209,
    "start_time": "2022-05-30T05:53:43.260Z"
   },
   {
    "duration": 13,
    "start_time": "2022-05-30T06:04:31.210Z"
   },
   {
    "duration": 104,
    "start_time": "2022-05-30T06:05:03.717Z"
   },
   {
    "duration": 107,
    "start_time": "2022-05-30T06:05:18.584Z"
   },
   {
    "duration": 3,
    "start_time": "2022-05-30T06:15:16.136Z"
   },
   {
    "duration": 376,
    "start_time": "2022-05-30T06:17:04.852Z"
   },
   {
    "duration": 3,
    "start_time": "2022-05-30T06:17:32.887Z"
   },
   {
    "duration": 433,
    "start_time": "2022-05-30T06:17:33.341Z"
   },
   {
    "duration": 4,
    "start_time": "2022-05-30T06:19:54.155Z"
   },
   {
    "duration": 589,
    "start_time": "2022-05-30T06:20:11.083Z"
   },
   {
    "duration": 468,
    "start_time": "2022-05-30T08:32:08.766Z"
   },
   {
    "duration": 157,
    "start_time": "2022-05-30T08:32:35.446Z"
   },
   {
    "duration": 82,
    "start_time": "2022-05-30T08:32:38.051Z"
   },
   {
    "duration": 3,
    "start_time": "2022-05-30T08:32:40.108Z"
   },
   {
    "duration": 501,
    "start_time": "2022-05-30T08:32:41.197Z"
   },
   {
    "duration": 4,
    "start_time": "2022-05-30T08:38:18.277Z"
   },
   {
    "duration": 150,
    "start_time": "2022-05-30T08:38:38.306Z"
   },
   {
    "duration": 122,
    "start_time": "2022-05-30T08:41:22.484Z"
   },
   {
    "duration": 838,
    "start_time": "2022-05-30T08:41:23.145Z"
   },
   {
    "duration": 6,
    "start_time": "2022-05-30T08:41:25.427Z"
   },
   {
    "duration": 7,
    "start_time": "2022-05-30T08:41:26.226Z"
   },
   {
    "duration": 7,
    "start_time": "2022-05-30T08:41:27.356Z"
   },
   {
    "duration": 6,
    "start_time": "2022-05-30T08:41:30.250Z"
   },
   {
    "duration": 28,
    "start_time": "2022-05-30T08:41:36.579Z"
   },
   {
    "duration": 236,
    "start_time": "2022-05-30T08:41:43.923Z"
   },
   {
    "duration": 148,
    "start_time": "2022-05-30T08:41:45.211Z"
   },
   {
    "duration": 12,
    "start_time": "2022-05-30T08:42:25.905Z"
   },
   {
    "duration": 61,
    "start_time": "2022-05-30T08:43:44.986Z"
   },
   {
    "duration": 1704,
    "start_time": "2022-05-30T08:43:52.389Z"
   },
   {
    "duration": 836,
    "start_time": "2022-05-30T08:43:54.095Z"
   },
   {
    "duration": 10,
    "start_time": "2022-05-30T08:43:54.932Z"
   },
   {
    "duration": 7,
    "start_time": "2022-05-30T08:43:54.944Z"
   },
   {
    "duration": 7,
    "start_time": "2022-05-30T08:43:56.124Z"
   },
   {
    "duration": 6,
    "start_time": "2022-05-30T08:43:56.782Z"
   },
   {
    "duration": 26,
    "start_time": "2022-05-30T08:43:57.646Z"
   },
   {
    "duration": 241,
    "start_time": "2022-05-30T08:43:59.859Z"
   },
   {
    "duration": 167,
    "start_time": "2022-05-30T08:44:00.940Z"
   },
   {
    "duration": 94022,
    "start_time": "2022-05-30T08:44:03.030Z"
   },
   {
    "duration": 13,
    "start_time": "2022-05-30T08:45:37.071Z"
   },
   {
    "duration": 2237,
    "start_time": "2022-06-02T10:27:31.890Z"
   },
   {
    "duration": 2268,
    "start_time": "2022-06-02T10:27:34.268Z"
   },
   {
    "duration": 12,
    "start_time": "2022-06-02T10:27:43.143Z"
   },
   {
    "duration": 8,
    "start_time": "2022-06-02T10:27:45.999Z"
   },
   {
    "duration": 10,
    "start_time": "2022-06-02T10:27:48.709Z"
   },
   {
    "duration": 10,
    "start_time": "2022-06-02T10:27:51.509Z"
   },
   {
    "duration": 25,
    "start_time": "2022-06-02T10:27:59.113Z"
   },
   {
    "duration": 240,
    "start_time": "2022-06-02T10:28:01.902Z"
   },
   {
    "duration": 155,
    "start_time": "2022-06-02T10:28:04.036Z"
   },
   {
    "duration": 88034,
    "start_time": "2022-06-02T10:28:23.709Z"
   },
   {
    "duration": 14,
    "start_time": "2022-06-02T10:30:10.633Z"
   },
   {
    "duration": 4,
    "start_time": "2022-06-02T10:30:16.542Z"
   },
   {
    "duration": 11045,
    "start_time": "2022-06-02T10:49:43.915Z"
   },
   {
    "duration": 86850,
    "start_time": "2022-06-02T10:51:58.704Z"
   },
   {
    "duration": 351,
    "start_time": "2022-06-02T10:56:22.944Z"
   },
   {
    "duration": 2292308,
    "start_time": "2022-06-02T10:56:43.643Z"
   },
   {
    "duration": 156,
    "start_time": "2022-06-02T11:34:55.953Z"
   },
   {
    "duration": 18,
    "start_time": "2022-06-02T12:23:00.226Z"
   },
   {
    "duration": 145,
    "start_time": "2022-06-02T12:25:10.978Z"
   },
   {
    "duration": 130,
    "start_time": "2022-06-02T12:26:49.540Z"
   },
   {
    "duration": 357,
    "start_time": "2022-06-02T12:28:59.312Z"
   },
   {
    "duration": 998,
    "start_time": "2022-06-02T12:29:41.511Z"
   },
   {
    "duration": 72,
    "start_time": "2022-06-02T12:29:50.272Z"
   },
   {
    "duration": 116,
    "start_time": "2022-06-02T12:30:31.876Z"
   },
   {
    "duration": 122,
    "start_time": "2022-06-02T12:31:17.241Z"
   },
   {
    "duration": 8098,
    "start_time": "2022-06-02T12:33:59.215Z"
   },
   {
    "duration": 28,
    "start_time": "2022-06-02T12:38:55.735Z"
   },
   {
    "duration": 4,
    "start_time": "2022-06-02T12:39:19.008Z"
   },
   {
    "duration": 27,
    "start_time": "2022-06-02T12:40:02.734Z"
   },
   {
    "duration": 33,
    "start_time": "2022-06-02T12:41:38.434Z"
   },
   {
    "duration": 905,
    "start_time": "2022-06-02T12:47:57.830Z"
   },
   {
    "duration": 838,
    "start_time": "2022-06-02T12:47:59.995Z"
   },
   {
    "duration": 9,
    "start_time": "2022-06-02T12:48:01.398Z"
   },
   {
    "duration": 12,
    "start_time": "2022-06-02T12:48:22.443Z"
   },
   {
    "duration": 11,
    "start_time": "2022-06-02T12:48:27.076Z"
   },
   {
    "duration": 8,
    "start_time": "2022-06-02T12:48:30.201Z"
   },
   {
    "duration": 31,
    "start_time": "2022-06-02T12:48:32.969Z"
   },
   {
    "duration": 225,
    "start_time": "2022-06-02T12:48:36.047Z"
   },
   {
    "duration": 193,
    "start_time": "2022-06-02T12:48:38.573Z"
   },
   {
    "duration": 94854,
    "start_time": "2022-06-02T12:48:51.649Z"
   },
   {
    "duration": 14,
    "start_time": "2022-06-02T12:54:33.959Z"
   },
   {
    "duration": 140,
    "start_time": "2022-06-02T12:54:43.421Z"
   },
   {
    "duration": 56,
    "start_time": "2022-06-02T12:54:48.575Z"
   },
   {
    "duration": 119,
    "start_time": "2022-06-02T12:54:50.871Z"
   },
   {
    "duration": 7753,
    "start_time": "2022-06-02T12:54:55.943Z"
   },
   {
    "duration": 3,
    "start_time": "2022-06-02T12:55:03.698Z"
   },
   {
    "duration": 37,
    "start_time": "2022-06-02T12:55:03.703Z"
   },
   {
    "duration": 27,
    "start_time": "2022-06-02T12:55:14.373Z"
   },
   {
    "duration": 16362,
    "start_time": "2022-06-02T12:56:21.403Z"
   },
   {
    "duration": 2367,
    "start_time": "2022-06-02T12:56:37.768Z"
   },
   {
    "duration": 15,
    "start_time": "2022-06-02T12:56:40.137Z"
   },
   {
    "duration": 10,
    "start_time": "2022-06-02T12:56:40.156Z"
   },
   {
    "duration": 22,
    "start_time": "2022-06-02T12:56:40.167Z"
   },
   {
    "duration": 10,
    "start_time": "2022-06-02T12:56:40.191Z"
   },
   {
    "duration": 27,
    "start_time": "2022-06-02T12:56:40.203Z"
   },
   {
    "duration": 271,
    "start_time": "2022-06-02T12:56:40.232Z"
   },
   {
    "duration": 219,
    "start_time": "2022-06-02T12:56:40.505Z"
   },
   {
    "duration": 96228,
    "start_time": "2022-06-02T12:56:40.727Z"
   },
   {
    "duration": 13,
    "start_time": "2022-06-02T12:58:16.957Z"
   },
   {
    "duration": 126,
    "start_time": "2022-06-02T12:58:16.980Z"
   },
   {
    "duration": 58,
    "start_time": "2022-06-02T12:58:17.108Z"
   },
   {
    "duration": 130,
    "start_time": "2022-06-02T12:58:17.167Z"
   },
   {
    "duration": 11667,
    "start_time": "2022-06-02T12:58:17.299Z"
   },
   {
    "duration": 10,
    "start_time": "2022-06-02T12:58:28.968Z"
   },
   {
    "duration": 382,
    "start_time": "2022-06-02T12:58:28.980Z"
   },
   {
    "duration": 12415,
    "start_time": "2022-06-02T13:19:12.883Z"
   },
   {
    "duration": 2441,
    "start_time": "2022-06-02T13:20:00.314Z"
   },
   {
    "duration": 11,
    "start_time": "2022-06-02T13:20:02.757Z"
   },
   {
    "duration": 9,
    "start_time": "2022-06-02T13:20:04.623Z"
   },
   {
    "duration": 9,
    "start_time": "2022-06-02T13:20:06.901Z"
   },
   {
    "duration": 7,
    "start_time": "2022-06-02T13:20:08.910Z"
   },
   {
    "duration": 25,
    "start_time": "2022-06-02T13:20:10.990Z"
   },
   {
    "duration": 209,
    "start_time": "2022-06-02T13:20:13.404Z"
   },
   {
    "duration": 172,
    "start_time": "2022-06-02T13:20:15.894Z"
   },
   {
    "duration": 86100,
    "start_time": "2022-06-02T13:20:19.377Z"
   },
   {
    "duration": 12,
    "start_time": "2022-06-02T13:22:03.739Z"
   },
   {
    "duration": 116,
    "start_time": "2022-06-02T13:22:09.901Z"
   },
   {
    "duration": 555,
    "start_time": "2022-06-02T13:22:25.984Z"
   },
   {
    "duration": 113,
    "start_time": "2022-06-02T13:22:29.585Z"
   },
   {
    "duration": 11349,
    "start_time": "2022-06-02T13:22:38.423Z"
   },
   {
    "duration": 4,
    "start_time": "2022-06-02T13:22:57.202Z"
   },
   {
    "duration": 353,
    "start_time": "2022-06-02T13:23:04.588Z"
   },
   {
    "duration": 28,
    "start_time": "2022-06-02T13:23:18.321Z"
   },
   {
    "duration": 12,
    "start_time": "2022-06-02T14:28:31.453Z"
   },
   {
    "duration": 43,
    "start_time": "2022-06-02T14:28:52.420Z"
   },
   {
    "duration": 12411,
    "start_time": "2022-06-02T14:29:56.461Z"
   },
   {
    "duration": 2431,
    "start_time": "2022-06-02T14:30:08.874Z"
   },
   {
    "duration": 11,
    "start_time": "2022-06-02T14:30:11.307Z"
   },
   {
    "duration": 8,
    "start_time": "2022-06-02T14:30:11.319Z"
   },
   {
    "duration": 7,
    "start_time": "2022-06-02T14:30:11.330Z"
   },
   {
    "duration": 9,
    "start_time": "2022-06-02T14:30:11.338Z"
   },
   {
    "duration": 40,
    "start_time": "2022-06-02T14:30:11.349Z"
   },
   {
    "duration": 238,
    "start_time": "2022-06-02T14:30:11.391Z"
   },
   {
    "duration": 173,
    "start_time": "2022-06-02T14:30:11.630Z"
   },
   {
    "duration": 81288,
    "start_time": "2022-06-02T14:30:11.805Z"
   },
   {
    "duration": 12,
    "start_time": "2022-06-02T14:31:33.095Z"
   },
   {
    "duration": 47,
    "start_time": "2022-06-02T14:31:33.108Z"
   },
   {
    "duration": 55,
    "start_time": "2022-06-02T14:31:33.157Z"
   },
   {
    "duration": 1407576,
    "start_time": "2022-06-02T14:31:33.214Z"
   },
   {
    "duration": 87,
    "start_time": "2022-06-02T14:55:00.791Z"
   },
   {
    "duration": 497,
    "start_time": "2022-06-02T14:55:00.880Z"
   },
   {
    "duration": 109,
    "start_time": "2022-06-02T14:55:01.378Z"
   },
   {
    "duration": 11380,
    "start_time": "2022-06-02T14:55:01.489Z"
   },
   {
    "duration": 5,
    "start_time": "2022-06-02T14:55:12.872Z"
   },
   {
    "duration": 362,
    "start_time": "2022-06-02T14:55:12.879Z"
   },
   {
    "duration": 5799,
    "start_time": "2022-06-03T04:50:24.181Z"
   },
   {
    "duration": 404,
    "start_time": "2022-06-03T04:50:40.576Z"
   },
   {
    "duration": 21,
    "start_time": "2022-06-03T04:50:51.609Z"
   },
   {
    "duration": 2760,
    "start_time": "2022-06-03T04:50:58.905Z"
   },
   {
    "duration": 11,
    "start_time": "2022-06-03T04:51:01.667Z"
   },
   {
    "duration": 9,
    "start_time": "2022-06-03T04:51:01.679Z"
   },
   {
    "duration": 6,
    "start_time": "2022-06-03T04:51:03.446Z"
   },
   {
    "duration": 9,
    "start_time": "2022-06-03T04:51:06.050Z"
   },
   {
    "duration": 24,
    "start_time": "2022-06-03T04:51:07.435Z"
   },
   {
    "duration": 253,
    "start_time": "2022-06-03T04:51:09.956Z"
   },
   {
    "duration": 189,
    "start_time": "2022-06-03T04:51:10.618Z"
   },
   {
    "duration": 94476,
    "start_time": "2022-06-03T04:51:13.372Z"
   },
   {
    "duration": 11,
    "start_time": "2022-06-03T04:53:16.553Z"
   },
   {
    "duration": 31,
    "start_time": "2022-06-03T04:53:19.523Z"
   },
   {
    "duration": 38,
    "start_time": "2022-06-03T04:53:22.227Z"
   },
   {
    "duration": 5239,
    "start_time": "2022-06-03T07:42:50.188Z"
   },
   {
    "duration": 862,
    "start_time": "2022-06-03T07:42:55.429Z"
   },
   {
    "duration": 17,
    "start_time": "2022-06-03T07:42:56.292Z"
   },
   {
    "duration": 10,
    "start_time": "2022-06-03T07:42:56.311Z"
   },
   {
    "duration": 9,
    "start_time": "2022-06-03T07:42:56.323Z"
   },
   {
    "duration": 9,
    "start_time": "2022-06-03T07:42:56.334Z"
   },
   {
    "duration": 51,
    "start_time": "2022-06-03T07:42:56.344Z"
   },
   {
    "duration": 258,
    "start_time": "2022-06-03T07:42:56.398Z"
   },
   {
    "duration": 181,
    "start_time": "2022-06-03T07:42:56.658Z"
   },
   {
    "duration": 90654,
    "start_time": "2022-06-03T07:42:56.842Z"
   },
   {
    "duration": 18,
    "start_time": "2022-06-03T07:44:27.498Z"
   },
   {
    "duration": 35,
    "start_time": "2022-06-03T07:44:27.518Z"
   },
   {
    "duration": 59,
    "start_time": "2022-06-03T07:44:27.555Z"
   },
   {
    "duration": 1362006,
    "start_time": "2022-06-03T07:44:27.616Z"
   },
   {
    "duration": 15343216,
    "start_time": "2022-06-03T08:07:09.624Z"
   },
   {
    "duration": 4,
    "start_time": "2022-06-03T12:22:52.842Z"
   },
   {
    "duration": 29137,
    "start_time": "2022-06-03T12:22:52.847Z"
   },
   {
    "duration": 63421,
    "start_time": "2022-06-03T12:23:21.985Z"
   },
   {
    "duration": 5,
    "start_time": "2022-06-03T12:24:25.410Z"
   },
   {
    "duration": 1134318,
    "start_time": "2022-06-03T12:24:25.417Z"
   },
   {
    "duration": 6,
    "start_time": "2022-06-03T12:43:19.737Z"
   },
   {
    "duration": 6,
    "start_time": "2022-06-03T12:43:19.744Z"
   },
   {
    "duration": 55,
    "start_time": "2022-06-04T05:20:39.659Z"
   },
   {
    "duration": 3,
    "start_time": "2022-06-04T05:20:44.361Z"
   },
   {
    "duration": 6,
    "start_time": "2022-06-04T05:20:45.078Z"
   },
   {
    "duration": 7,
    "start_time": "2022-06-04T05:20:56.198Z"
   },
   {
    "duration": 8,
    "start_time": "2022-06-04T05:21:00.442Z"
   },
   {
    "duration": 8,
    "start_time": "2022-06-04T05:21:13.318Z"
   },
   {
    "duration": 8,
    "start_time": "2022-06-04T05:21:29.480Z"
   },
   {
    "duration": 5180,
    "start_time": "2022-06-04T05:21:37.877Z"
   },
   {
    "duration": 3,
    "start_time": "2022-06-04T05:21:45.757Z"
   },
   {
    "duration": 286,
    "start_time": "2022-06-04T05:21:47.797Z"
   },
   {
    "duration": 23,
    "start_time": "2022-06-04T05:21:48.480Z"
   },
   {
    "duration": 21,
    "start_time": "2022-06-04T05:22:04.472Z"
   },
   {
    "duration": 418,
    "start_time": "2022-06-04T05:22:13.577Z"
   },
   {
    "duration": 2138,
    "start_time": "2022-06-04T05:22:16.552Z"
   },
   {
    "duration": 11,
    "start_time": "2022-06-04T05:22:20.833Z"
   },
   {
    "duration": 8,
    "start_time": "2022-06-04T05:22:22.916Z"
   },
   {
    "duration": 7,
    "start_time": "2022-06-04T05:22:25.351Z"
   },
   {
    "duration": 7,
    "start_time": "2022-06-04T05:22:27.920Z"
   },
   {
    "duration": 27,
    "start_time": "2022-06-04T05:22:30.167Z"
   },
   {
    "duration": 224,
    "start_time": "2022-06-04T05:22:30.866Z"
   },
   {
    "duration": 163,
    "start_time": "2022-06-04T05:22:32.065Z"
   },
   {
    "duration": 11,
    "start_time": "2022-06-04T05:22:41.723Z"
   },
   {
    "duration": 25,
    "start_time": "2022-06-04T05:22:43.794Z"
   },
   {
    "duration": 3,
    "start_time": "2022-06-04T05:22:50.497Z"
   },
   {
    "duration": 25573,
    "start_time": "2022-06-04T05:22:52.569Z"
   },
   {
    "duration": 68251,
    "start_time": "2022-06-04T05:23:18.144Z"
   },
   {
    "duration": 6,
    "start_time": "2022-06-04T05:24:26.398Z"
   },
   {
    "duration": 545454,
    "start_time": "2022-06-04T05:24:26.407Z"
   },
   {
    "duration": 33,
    "start_time": "2022-06-04T05:33:31.863Z"
   },
   {
    "duration": 11,
    "start_time": "2022-06-04T05:33:31.897Z"
   },
   {
    "duration": 8346,
    "start_time": "2022-06-04T05:33:31.910Z"
   },
   {
    "duration": 26,
    "start_time": "2022-06-04T05:35:20.798Z"
   },
   {
    "duration": 8328,
    "start_time": "2022-06-04T07:33:45.530Z"
   },
   {
    "duration": 8489,
    "start_time": "2022-06-04T07:35:22.466Z"
   },
   {
    "duration": 8309,
    "start_time": "2022-06-04T07:35:42.937Z"
   },
   {
    "duration": 8481,
    "start_time": "2022-06-04T07:39:36.636Z"
   },
   {
    "duration": 8614,
    "start_time": "2022-06-04T07:40:12.022Z"
   },
   {
    "duration": 20,
    "start_time": "2022-06-04T07:45:19.130Z"
   },
   {
    "duration": 28,
    "start_time": "2022-06-04T07:45:28.599Z"
   },
   {
    "duration": 16989,
    "start_time": "2022-06-04T07:45:48.657Z"
   },
   {
    "duration": 16551,
    "start_time": "2022-06-04T07:46:29.308Z"
   },
   {
    "duration": 16617,
    "start_time": "2022-06-04T07:47:26.408Z"
   },
   {
    "duration": 8395,
    "start_time": "2022-06-04T07:51:22.924Z"
   },
   {
    "duration": 8622,
    "start_time": "2022-06-04T07:52:52.716Z"
   },
   {
    "duration": 16562,
    "start_time": "2022-06-04T07:53:58.961Z"
   },
   {
    "duration": 8420,
    "start_time": "2022-06-04T07:55:05.824Z"
   },
   {
    "duration": 25,
    "start_time": "2022-06-04T07:55:45.147Z"
   },
   {
    "duration": 8397,
    "start_time": "2022-06-04T07:55:58.120Z"
   },
   {
    "duration": 8154,
    "start_time": "2022-06-04T07:57:53.060Z"
   },
   {
    "duration": 11,
    "start_time": "2022-06-04T07:59:31.801Z"
   },
   {
    "duration": 200,
    "start_time": "2022-06-04T08:04:34.712Z"
   },
   {
    "duration": 767,
    "start_time": "2022-06-04T08:04:41.967Z"
   },
   {
    "duration": 8,
    "start_time": "2022-06-04T08:04:42.736Z"
   },
   {
    "duration": 7,
    "start_time": "2022-06-04T08:04:45.270Z"
   },
   {
    "duration": 7,
    "start_time": "2022-06-04T08:04:48.280Z"
   },
   {
    "duration": 7,
    "start_time": "2022-06-04T08:04:51.579Z"
   },
   {
    "duration": 26,
    "start_time": "2022-06-04T08:04:54.468Z"
   },
   {
    "duration": 219,
    "start_time": "2022-06-04T08:04:56.447Z"
   },
   {
    "duration": 146,
    "start_time": "2022-06-04T08:04:58.250Z"
   },
   {
    "duration": 731,
    "start_time": "2022-06-04T08:07:32.874Z"
   },
   {
    "duration": 7,
    "start_time": "2022-06-04T08:07:33.723Z"
   },
   {
    "duration": 7,
    "start_time": "2022-06-04T08:07:34.534Z"
   },
   {
    "duration": 8,
    "start_time": "2022-06-04T08:07:36.853Z"
   },
   {
    "duration": 7,
    "start_time": "2022-06-04T08:07:39.737Z"
   },
   {
    "duration": 27,
    "start_time": "2022-06-04T08:07:42.780Z"
   },
   {
    "duration": 223,
    "start_time": "2022-06-04T08:07:44.727Z"
   },
   {
    "duration": 138,
    "start_time": "2022-06-04T08:07:47.349Z"
   }
  ],
  "kernelspec": {
   "display_name": "Python 3 (ipykernel)",
   "language": "python",
   "name": "python3"
  },
  "language_info": {
   "codemirror_mode": {
    "name": "ipython",
    "version": 3
   },
   "file_extension": ".py",
   "mimetype": "text/x-python",
   "name": "python",
   "nbconvert_exporter": "python",
   "pygments_lexer": "ipython3",
   "version": "3.9.5"
  },
  "toc": {
   "base_numbering": 1,
   "nav_menu": {},
   "number_sections": true,
   "sideBar": true,
   "skip_h1_title": true,
   "title_cell": "Содержание",
   "title_sidebar": "Contents",
   "toc_cell": true,
   "toc_position": {
    "height": "calc(100% - 180px)",
    "left": "10px",
    "top": "150px",
    "width": "214.149px"
   },
   "toc_section_display": true,
   "toc_window_display": true
  }
 },
 "nbformat": 4,
 "nbformat_minor": 2
}
