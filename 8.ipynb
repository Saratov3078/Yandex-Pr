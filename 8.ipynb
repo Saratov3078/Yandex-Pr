{
 "cells": [
  {
   "cell_type": "markdown",
   "metadata": {},
   "source": [
    "# Выбор локации для скважины"
   ]
  },
  {
   "cell_type": "markdown",
   "metadata": {},
   "source": [
    "Допустим, вы работаете в добывающей компании «ГлавРосГосНефть». Нужно решить, где бурить новую скважину.\n",
    "\n",
    "Вам предоставлены пробы нефти в трёх регионах: в каждом 10 000 месторождений, где измерили качество нефти и объём её запасов. Постройте модель машинного обучения, которая поможет определить регион, где добыча принесёт наибольшую прибыль. Проанализируйте возможную прибыль и риски техникой *Bootstrap.*\n",
    "\n",
    "Шаги для выбора локации:\n",
    "\n",
    "- В избранном регионе ищут месторождения, для каждого определяют значения признаков;\n",
    "- Строят модель и оценивают объём запасов;\n",
    "- Выбирают месторождения с самым высокими оценками значений. Количество месторождений зависит от бюджета компании и стоимости разработки одной скважины;\n",
    "- Прибыль равна суммарной прибыли отобранных месторождений.\n",
    "\n",
    "Описание данных\n",
    "\n",
    "id — уникальный идентификатор скважины;\n",
    "\n",
    "f0, f1, f2 — три признака точек (неважно, что они означают, но сами признаки значимы);\n",
    "\n",
    "product — объём запасов в скважине (тыс. баррелей)."
   ]
  },
  {
   "cell_type": "markdown",
   "metadata": {},
   "source": [
    "## Загрузка и подготовка данных"
   ]
  },
  {
   "cell_type": "code",
   "execution_count": 2,
   "metadata": {},
   "outputs": [],
   "source": [
    "import os\n",
    "import pandas as pd\n",
    "import numpy as np\n",
    "import seaborn as sns\n",
    "import matplotlib.pyplot as plt\n",
    "from sklearn.model_selection import train_test_split\n",
    "from sklearn.linear_model import LinearRegression\n",
    "from sklearn.metrics import mean_squared_error\n",
    "from sklearn.metrics import mean_absolute_error\n",
    "from sklearn.metrics import r2_score\n",
    "from numpy.random import RandomState\n",
    "from scipy import stats as st\n",
    "import warnings\n",
    "# отключить некритические предупреждения в коде\n",
    "warnings.filterwarnings(\"ignore\")\n",
    "\n",
    "\n",
    "\n"
   ]
  },
  {
   "cell_type": "code",
   "execution_count": 3,
   "metadata": {},
   "outputs": [],
   "source": [
    "geo_data_0=pd.read_csv('/datasets/geo_data_0.csv')\n",
    "geo_data_1=pd.read_csv('/datasets/geo_data_1.csv')\n",
    "geo_data_2=pd.read_csv('/datasets/geo_data_2.csv')"
   ]
  },
  {
   "cell_type": "code",
   "execution_count": 4,
   "metadata": {},
   "outputs": [
    {
     "data": {
      "text/html": [
       "<div>\n",
       "<style scoped>\n",
       "    .dataframe tbody tr th:only-of-type {\n",
       "        vertical-align: middle;\n",
       "    }\n",
       "\n",
       "    .dataframe tbody tr th {\n",
       "        vertical-align: top;\n",
       "    }\n",
       "\n",
       "    .dataframe thead th {\n",
       "        text-align: right;\n",
       "    }\n",
       "</style>\n",
       "<table border=\"1\" class=\"dataframe\">\n",
       "  <thead>\n",
       "    <tr style=\"text-align: right;\">\n",
       "      <th></th>\n",
       "      <th>id</th>\n",
       "      <th>f0</th>\n",
       "      <th>f1</th>\n",
       "      <th>f2</th>\n",
       "      <th>product</th>\n",
       "    </tr>\n",
       "  </thead>\n",
       "  <tbody>\n",
       "    <tr>\n",
       "      <th>0</th>\n",
       "      <td>txEyH</td>\n",
       "      <td>0.705745</td>\n",
       "      <td>-0.497823</td>\n",
       "      <td>1.221170</td>\n",
       "      <td>105.280062</td>\n",
       "    </tr>\n",
       "    <tr>\n",
       "      <th>1</th>\n",
       "      <td>2acmU</td>\n",
       "      <td>1.334711</td>\n",
       "      <td>-0.340164</td>\n",
       "      <td>4.365080</td>\n",
       "      <td>73.037750</td>\n",
       "    </tr>\n",
       "    <tr>\n",
       "      <th>2</th>\n",
       "      <td>409Wp</td>\n",
       "      <td>1.022732</td>\n",
       "      <td>0.151990</td>\n",
       "      <td>1.419926</td>\n",
       "      <td>85.265647</td>\n",
       "    </tr>\n",
       "    <tr>\n",
       "      <th>3</th>\n",
       "      <td>iJLyR</td>\n",
       "      <td>-0.032172</td>\n",
       "      <td>0.139033</td>\n",
       "      <td>2.978566</td>\n",
       "      <td>168.620776</td>\n",
       "    </tr>\n",
       "    <tr>\n",
       "      <th>4</th>\n",
       "      <td>Xdl7t</td>\n",
       "      <td>1.988431</td>\n",
       "      <td>0.155413</td>\n",
       "      <td>4.751769</td>\n",
       "      <td>154.036647</td>\n",
       "    </tr>\n",
       "    <tr>\n",
       "      <th>5</th>\n",
       "      <td>wX4Hy</td>\n",
       "      <td>0.969570</td>\n",
       "      <td>0.489775</td>\n",
       "      <td>-0.735383</td>\n",
       "      <td>64.741541</td>\n",
       "    </tr>\n",
       "    <tr>\n",
       "      <th>6</th>\n",
       "      <td>tL6pL</td>\n",
       "      <td>0.645075</td>\n",
       "      <td>0.530656</td>\n",
       "      <td>1.780266</td>\n",
       "      <td>49.055285</td>\n",
       "    </tr>\n",
       "    <tr>\n",
       "      <th>7</th>\n",
       "      <td>BYPU6</td>\n",
       "      <td>-0.400648</td>\n",
       "      <td>0.808337</td>\n",
       "      <td>-5.624670</td>\n",
       "      <td>72.943292</td>\n",
       "    </tr>\n",
       "    <tr>\n",
       "      <th>8</th>\n",
       "      <td>j9Oui</td>\n",
       "      <td>0.643105</td>\n",
       "      <td>-0.551583</td>\n",
       "      <td>2.372141</td>\n",
       "      <td>113.356160</td>\n",
       "    </tr>\n",
       "    <tr>\n",
       "      <th>9</th>\n",
       "      <td>OLuZU</td>\n",
       "      <td>2.173381</td>\n",
       "      <td>0.563698</td>\n",
       "      <td>9.441852</td>\n",
       "      <td>127.910945</td>\n",
       "    </tr>\n",
       "  </tbody>\n",
       "</table>\n",
       "</div>"
      ],
      "text/plain": [
       "      id        f0        f1        f2     product\n",
       "0  txEyH  0.705745 -0.497823  1.221170  105.280062\n",
       "1  2acmU  1.334711 -0.340164  4.365080   73.037750\n",
       "2  409Wp  1.022732  0.151990  1.419926   85.265647\n",
       "3  iJLyR -0.032172  0.139033  2.978566  168.620776\n",
       "4  Xdl7t  1.988431  0.155413  4.751769  154.036647\n",
       "5  wX4Hy  0.969570  0.489775 -0.735383   64.741541\n",
       "6  tL6pL  0.645075  0.530656  1.780266   49.055285\n",
       "7  BYPU6 -0.400648  0.808337 -5.624670   72.943292\n",
       "8  j9Oui  0.643105 -0.551583  2.372141  113.356160\n",
       "9  OLuZU  2.173381  0.563698  9.441852  127.910945"
      ]
     },
     "execution_count": 4,
     "metadata": {},
     "output_type": "execute_result"
    }
   ],
   "source": [
    "geo_data_0.head(10)"
   ]
  },
  {
   "cell_type": "code",
   "execution_count": 5,
   "metadata": {},
   "outputs": [
    {
     "name": "stdout",
     "output_type": "stream",
     "text": [
      "<class 'pandas.core.frame.DataFrame'>\n",
      "RangeIndex: 100000 entries, 0 to 99999\n",
      "Data columns (total 5 columns):\n",
      " #   Column   Non-Null Count   Dtype  \n",
      "---  ------   --------------   -----  \n",
      " 0   id       100000 non-null  object \n",
      " 1   f0       100000 non-null  float64\n",
      " 2   f1       100000 non-null  float64\n",
      " 3   f2       100000 non-null  float64\n",
      " 4   product  100000 non-null  float64\n",
      "dtypes: float64(4), object(1)\n",
      "memory usage: 3.8+ MB\n"
     ]
    }
   ],
   "source": [
    "geo_data_0.info()"
   ]
  },
  {
   "cell_type": "code",
   "execution_count": 6,
   "metadata": {},
   "outputs": [
    {
     "name": "stdout",
     "output_type": "stream",
     "text": [
      "<class 'pandas.core.frame.DataFrame'>\n",
      "RangeIndex: 100000 entries, 0 to 99999\n",
      "Data columns (total 5 columns):\n",
      " #   Column   Non-Null Count   Dtype  \n",
      "---  ------   --------------   -----  \n",
      " 0   id       100000 non-null  object \n",
      " 1   f0       100000 non-null  float64\n",
      " 2   f1       100000 non-null  float64\n",
      " 3   f2       100000 non-null  float64\n",
      " 4   product  100000 non-null  float64\n",
      "dtypes: float64(4), object(1)\n",
      "memory usage: 3.8+ MB\n"
     ]
    }
   ],
   "source": [
    "geo_data_1.info()"
   ]
  },
  {
   "cell_type": "code",
   "execution_count": 7,
   "metadata": {},
   "outputs": [
    {
     "name": "stdout",
     "output_type": "stream",
     "text": [
      "<class 'pandas.core.frame.DataFrame'>\n",
      "RangeIndex: 100000 entries, 0 to 99999\n",
      "Data columns (total 5 columns):\n",
      " #   Column   Non-Null Count   Dtype  \n",
      "---  ------   --------------   -----  \n",
      " 0   id       100000 non-null  object \n",
      " 1   f0       100000 non-null  float64\n",
      " 2   f1       100000 non-null  float64\n",
      " 3   f2       100000 non-null  float64\n",
      " 4   product  100000 non-null  float64\n",
      "dtypes: float64(4), object(1)\n",
      "memory usage: 3.8+ MB\n"
     ]
    }
   ],
   "source": [
    "geo_data_2.info()"
   ]
  },
  {
   "cell_type": "markdown",
   "metadata": {},
   "source": [
    "В каждой таблице по 100 тысяч записей. Названия столбцов - одинаковые во всех 3 датасэтах. Менять типы мы не будем."
   ]
  },
  {
   "cell_type": "code",
   "execution_count": 8,
   "metadata": {},
   "outputs": [
    {
     "name": "stdout",
     "output_type": "stream",
     "text": [
      "False    100000\n",
      "dtype: int64\n",
      "False    100000\n",
      "dtype: int64\n",
      "False    100000\n",
      "dtype: int64\n"
     ]
    }
   ],
   "source": [
    "geo_data_list = [geo_data_0,geo_data_1,geo_data_2]\n",
    "#проверим на полные дубликаты\n",
    "for data in geo_data_list:\n",
    "    print(data.duplicated().value_counts()) "
   ]
  },
  {
   "cell_type": "code",
   "execution_count": 9,
   "metadata": {},
   "outputs": [
    {
     "data": {
      "text/html": [
       "<div>\n",
       "<style scoped>\n",
       "    .dataframe tbody tr th:only-of-type {\n",
       "        vertical-align: middle;\n",
       "    }\n",
       "\n",
       "    .dataframe tbody tr th {\n",
       "        vertical-align: top;\n",
       "    }\n",
       "\n",
       "    .dataframe thead th {\n",
       "        text-align: right;\n",
       "    }\n",
       "</style>\n",
       "<table border=\"1\" class=\"dataframe\">\n",
       "  <thead>\n",
       "    <tr style=\"text-align: right;\">\n",
       "      <th></th>\n",
       "      <th>f0</th>\n",
       "      <th>f1</th>\n",
       "      <th>f2</th>\n",
       "      <th>product</th>\n",
       "    </tr>\n",
       "  </thead>\n",
       "  <tbody>\n",
       "    <tr>\n",
       "      <th>99999</th>\n",
       "      <td>1.764754</td>\n",
       "      <td>-0.266417</td>\n",
       "      <td>5.722849</td>\n",
       "      <td>149.633246</td>\n",
       "    </tr>\n",
       "  </tbody>\n",
       "</table>\n",
       "</div>"
      ],
      "text/plain": [
       "             f0        f1        f2     product\n",
       "99999  1.764754 -0.266417  5.722849  149.633246"
      ]
     },
     "metadata": {},
     "output_type": "display_data"
    },
    {
     "data": {
      "text/html": [
       "<div>\n",
       "<style scoped>\n",
       "    .dataframe tbody tr th:only-of-type {\n",
       "        vertical-align: middle;\n",
       "    }\n",
       "\n",
       "    .dataframe tbody tr th {\n",
       "        vertical-align: top;\n",
       "    }\n",
       "\n",
       "    .dataframe thead th {\n",
       "        text-align: right;\n",
       "    }\n",
       "</style>\n",
       "<table border=\"1\" class=\"dataframe\">\n",
       "  <thead>\n",
       "    <tr style=\"text-align: right;\">\n",
       "      <th></th>\n",
       "      <th>f0</th>\n",
       "      <th>f1</th>\n",
       "      <th>f2</th>\n",
       "      <th>product</th>\n",
       "    </tr>\n",
       "  </thead>\n",
       "  <tbody>\n",
       "    <tr>\n",
       "      <th>99999</th>\n",
       "      <td>-3.426139</td>\n",
       "      <td>-7.794274</td>\n",
       "      <td>-0.003299</td>\n",
       "      <td>3.179103</td>\n",
       "    </tr>\n",
       "  </tbody>\n",
       "</table>\n",
       "</div>"
      ],
      "text/plain": [
       "             f0        f1        f2   product\n",
       "99999 -3.426139 -7.794274 -0.003299  3.179103"
      ]
     },
     "metadata": {},
     "output_type": "display_data"
    },
    {
     "data": {
      "text/html": [
       "<div>\n",
       "<style scoped>\n",
       "    .dataframe tbody tr th:only-of-type {\n",
       "        vertical-align: middle;\n",
       "    }\n",
       "\n",
       "    .dataframe tbody tr th {\n",
       "        vertical-align: top;\n",
       "    }\n",
       "\n",
       "    .dataframe thead th {\n",
       "        text-align: right;\n",
       "    }\n",
       "</style>\n",
       "<table border=\"1\" class=\"dataframe\">\n",
       "  <thead>\n",
       "    <tr style=\"text-align: right;\">\n",
       "      <th></th>\n",
       "      <th>f0</th>\n",
       "      <th>f1</th>\n",
       "      <th>f2</th>\n",
       "      <th>product</th>\n",
       "    </tr>\n",
       "  </thead>\n",
       "  <tbody>\n",
       "    <tr>\n",
       "      <th>99999</th>\n",
       "      <td>-2.551421</td>\n",
       "      <td>-2.025625</td>\n",
       "      <td>6.090891</td>\n",
       "      <td>102.775767</td>\n",
       "    </tr>\n",
       "  </tbody>\n",
       "</table>\n",
       "</div>"
      ],
      "text/plain": [
       "             f0        f1        f2     product\n",
       "99999 -2.551421 -2.025625  6.090891  102.775767"
      ]
     },
     "metadata": {},
     "output_type": "display_data"
    }
   ],
   "source": [
    "# удалим столбец c id, для нашей задачи он не информативен\n",
    "for data in geo_data_list:\n",
    "    data.drop(columns=['id'],axis=1, inplace=True)\n",
    "    display(data.tail(1))"
   ]
  },
  {
   "cell_type": "code",
   "execution_count": 10,
   "metadata": {},
   "outputs": [
    {
     "data": {
      "text/plain": [
       "Text(0.5, 1.0, 'Распределение сырья в месторождении geo_data_0')"
      ]
     },
     "execution_count": 10,
     "metadata": {},
     "output_type": "execute_result"
    },
    {
     "data": {
      "image/png": "[encoded data removed]",
      "text/plain": [
       "<Figure size 432x288 with 1 Axes>"
      ]
     },
     "metadata": {
      "needs_background": "light"
     },
     "output_type": "display_data"
    }
   ],
   "source": [
    "sns.distplot(geo_data_0['product'],  color= \"b\")\n",
    "plt.title('Распределение сырья в месторождении geo_data_0')"
   ]
  },
  {
   "cell_type": "code",
   "execution_count": 11,
   "metadata": {},
   "outputs": [
    {
     "data": {
      "text/plain": [
       "Text(0.5, 1.0, 'Распределение сырья в месторождении geo_data_1')"
      ]
     },
     "execution_count": 11,
     "metadata": {},
     "output_type": "execute_result"
    },
    {
     "data": {
      "image/png": "[encoded data removed]",
      "text/plain": [
       "<Figure size 432x288 with 1 Axes>"
      ]
     },
     "metadata": {
      "needs_background": "light"
     },
     "output_type": "display_data"
    }
   ],
   "source": [
    "sns.distplot(geo_data_1['product'],  color= \"y\")\n",
    "plt.title('Распределение сырья в месторождении geo_data_1')"
   ]
  },
  {
   "cell_type": "code",
   "execution_count": 12,
   "metadata": {},
   "outputs": [
    {
     "data": {
      "text/plain": [
       "Text(0.5, 1.0, 'Распределение сырья в месторождении geo_data21')"
      ]
     },
     "execution_count": 12,
     "metadata": {},
     "output_type": "execute_result"
    },
    {
     "data": {
      "image/png": "[encoded data removed]",
      "text/plain": [
       "<Figure size 432x288 with 1 Axes>"
      ]
     },
     "metadata": {
      "needs_background": "light"
     },
     "output_type": "display_data"
    }
   ],
   "source": [
    "sns.distplot(geo_data_2['product'],  color= \"m\") \n",
    "plt.title('Распределение сырья в месторождении geo_data21')"
   ]
  },
  {
   "cell_type": "markdown",
   "metadata": {},
   "source": [
    "Посмотрели на данные.\n",
    "\n",
    "Выявили неинфомативный признак id. Удалили его.\n",
    "\n",
    "Распределение: в регионе 0 и 2 близко к нормальному,в регионе 1 не нормальное.\n",
    "\n"
   ]
  },
  {
   "cell_type": "markdown",
   "metadata": {},
   "source": [
    "## Обучение и проверка модели"
   ]
  },
  {
   "cell_type": "code",
   "execution_count": 13,
   "metadata": {},
   "outputs": [],
   "source": [
    "# готовим выборки для обучения. Разбиваем на целевой признак и признаки\n",
    "features_0=geo_data_0.drop(['product'],axis=1)\n",
    "target_0=geo_data_0['product']\n",
    "\n",
    "features_1=geo_data_1.drop(['product'],axis=1)\n",
    "target_1=geo_data_1['product']\n",
    "\n",
    "features_2=geo_data_2.drop(['product'],axis=1)\n",
    "target_2=geo_data_2['product']"
   ]
  },
  {
   "cell_type": "code",
   "execution_count": 14,
   "metadata": {},
   "outputs": [],
   "source": [
    "# готовим обучающую, валидную и тестовую выборку\n",
    "features_train_0,features_valid_0,target_train_0,target_valid_0=train_test_split(features_0,target_0,test_size=.25,random_state=1234)\n",
    "features_train_1,features_valid_1,target_train_1,target_valid_1=train_test_split(features_1,target_1,test_size=.25,random_state=1234)\n",
    "features_train_2,features_valid_2,target_train_2,target_valid_2=train_test_split(features_2,target_2,test_size=.25,random_state=1234)"
   ]
  },
  {
   "cell_type": "code",
   "execution_count": 15,
   "metadata": {},
   "outputs": [
    {
     "data": {
      "text/plain": [
       "LinearRegression()"
      ]
     },
     "execution_count": 15,
     "metadata": {},
     "output_type": "execute_result"
    }
   ],
   "source": [
    "# Обучаем модель линейной регрессии\n",
    "model_reg_0=LinearRegression()\n",
    "model_reg_0.fit(features_train_0,target_train_0)"
   ]
  },
  {
   "cell_type": "code",
   "execution_count": 16,
   "metadata": {},
   "outputs": [],
   "source": [
    "#Предсказания модели\n",
    "prediction_0=model_reg_0.predict(features_valid_0)"
   ]
  },
  {
   "cell_type": "code",
   "execution_count": 17,
   "metadata": {},
   "outputs": [
    {
     "name": "stdout",
     "output_type": "stream",
     "text": [
      "Средний запас сырья: 92.43045952558441 MSE: 1410.933456806986 MAE: 30.938765880476645 RMSE: 37.562394183637785 R2: 0.2740586761361865\n"
     ]
    }
   ],
   "source": [
    "mse = mean_squared_error(target_valid_0,prediction_0)\n",
    "mae = mean_absolute_error(target_valid_0,prediction_0)\n",
    "rmse = np.sqrt(mean_squared_error(target_valid_0,prediction_0))\n",
    "r2 = r2_score(target_valid_0,prediction_0)\n",
    "print('Средний запас сырья:',prediction_0.mean(),'MSE:',mse,'MAE:',mae,'RMSE:',rmse,'R2:',r2)"
   ]
  },
  {
   "cell_type": "code",
   "execution_count": 18,
   "metadata": {},
   "outputs": [
    {
     "data": {
      "text/plain": [
       "LinearRegression()"
      ]
     },
     "execution_count": 18,
     "metadata": {},
     "output_type": "execute_result"
    }
   ],
   "source": [
    "# Обучаем модель линейной регрессии\n",
    "model_reg_1=LinearRegression()\n",
    "model_reg_1.fit(features_train_1,target_train_1)"
   ]
  },
  {
   "cell_type": "code",
   "execution_count": 19,
   "metadata": {},
   "outputs": [],
   "source": [
    "#Предсказания модели\n",
    "prediction_1=model_reg_1.predict(features_valid_1)"
   ]
  },
  {
   "cell_type": "code",
   "execution_count": 20,
   "metadata": {},
   "outputs": [
    {
     "name": "stdout",
     "output_type": "stream",
     "text": [
      "Средний запас сырья: 68.80248249798365 MSE: 0.7991188434691269 MAE: 0.7208749581371285 RMSE: 0.8939344738117704 R2: 0.999619058765352\n"
     ]
    }
   ],
   "source": [
    "mse = mean_squared_error(target_valid_1,prediction_1)\n",
    "mae = mean_absolute_error(target_valid_1,prediction_1)\n",
    "rmse = np.sqrt(mean_squared_error(target_valid_1,prediction_1))\n",
    "r2 = r2_score(target_valid_1,prediction_1)\n",
    "print('Средний запас сырья:',prediction_1.mean(),'MSE:',mse,'MAE:',mae,'RMSE:',rmse,'R2:',r2)"
   ]
  },
  {
   "cell_type": "code",
   "execution_count": 21,
   "metadata": {},
   "outputs": [
    {
     "data": {
      "text/plain": [
       "LinearRegression()"
      ]
     },
     "execution_count": 21,
     "metadata": {},
     "output_type": "execute_result"
    }
   ],
   "source": [
    "# Обучаем модель линейной регрессии\n",
    "model_reg_2=LinearRegression()\n",
    "model_reg_2.fit(features_train_2,target_train_2)"
   ]
  },
  {
   "cell_type": "code",
   "execution_count": 22,
   "metadata": {},
   "outputs": [],
   "source": [
    "#Предсказания модели\n",
    "prediction_2=model_reg_2.predict(features_valid_2)"
   ]
  },
  {
   "cell_type": "code",
   "execution_count": 23,
   "metadata": {},
   "outputs": [
    {
     "name": "stdout",
     "output_type": "stream",
     "text": [
      "Средний запас сырья: 94.91573817913459 MSE: 1608.265125723965 MAE: 32.86813268581066 RMSE: 40.10318099258418 R2: 0.1983301043994069\n"
     ]
    }
   ],
   "source": [
    "mse = mean_squared_error(target_valid_2,prediction_2)\n",
    "mae = mean_absolute_error(target_valid_2,prediction_2)\n",
    "rmse = np.sqrt(mean_squared_error(target_valid_2,prediction_2))\n",
    "r2 = r2_score(target_valid_2,prediction_2)\n",
    "print('Средний запас сырья:',prediction_2.mean(),'MSE:',mse,'MAE:',mae,'RMSE:',rmse,'R2:',r2)"
   ]
  },
  {
   "cell_type": "markdown",
   "metadata": {},
   "source": [
    "geo_data_0.corr()"
   ]
  },
  {
   "cell_type": "markdown",
   "metadata": {},
   "source": [
    "В Регионе 0 видна корреляция между Product и F2, а также обратная корреляция между признаками F0 и F1"
   ]
  },
  {
   "cell_type": "code",
   "execution_count": 24,
   "metadata": {},
   "outputs": [
    {
     "data": {
      "text/html": [
       "<div>\n",
       "<style scoped>\n",
       "    .dataframe tbody tr th:only-of-type {\n",
       "        vertical-align: middle;\n",
       "    }\n",
       "\n",
       "    .dataframe tbody tr th {\n",
       "        vertical-align: top;\n",
       "    }\n",
       "\n",
       "    .dataframe thead th {\n",
       "        text-align: right;\n",
       "    }\n",
       "</style>\n",
       "<table border=\"1\" class=\"dataframe\">\n",
       "  <thead>\n",
       "    <tr style=\"text-align: right;\">\n",
       "      <th></th>\n",
       "      <th>f0</th>\n",
       "      <th>f1</th>\n",
       "      <th>f2</th>\n",
       "      <th>product</th>\n",
       "    </tr>\n",
       "  </thead>\n",
       "  <tbody>\n",
       "    <tr>\n",
       "      <th>f0</th>\n",
       "      <td>1.000000</td>\n",
       "      <td>0.182287</td>\n",
       "      <td>-0.001777</td>\n",
       "      <td>-0.030491</td>\n",
       "    </tr>\n",
       "    <tr>\n",
       "      <th>f1</th>\n",
       "      <td>0.182287</td>\n",
       "      <td>1.000000</td>\n",
       "      <td>-0.002595</td>\n",
       "      <td>-0.010155</td>\n",
       "    </tr>\n",
       "    <tr>\n",
       "      <th>f2</th>\n",
       "      <td>-0.001777</td>\n",
       "      <td>-0.002595</td>\n",
       "      <td>1.000000</td>\n",
       "      <td>0.999397</td>\n",
       "    </tr>\n",
       "    <tr>\n",
       "      <th>product</th>\n",
       "      <td>-0.030491</td>\n",
       "      <td>-0.010155</td>\n",
       "      <td>0.999397</td>\n",
       "      <td>1.000000</td>\n",
       "    </tr>\n",
       "  </tbody>\n",
       "</table>\n",
       "</div>"
      ],
      "text/plain": [
       "               f0        f1        f2   product\n",
       "f0       1.000000  0.182287 -0.001777 -0.030491\n",
       "f1       0.182287  1.000000 -0.002595 -0.010155\n",
       "f2      -0.001777 -0.002595  1.000000  0.999397\n",
       "product -0.030491 -0.010155  0.999397  1.000000"
      ]
     },
     "execution_count": 24,
     "metadata": {},
     "output_type": "execute_result"
    }
   ],
   "source": [
    "geo_data_1.corr()"
   ]
  },
  {
   "cell_type": "markdown",
   "metadata": {},
   "source": [
    "В Регионе 1 показана почти 100-процентная коррелляция у Product и F2"
   ]
  },
  {
   "cell_type": "code",
   "execution_count": 25,
   "metadata": {},
   "outputs": [
    {
     "data": {
      "text/html": [
       "<div>\n",
       "<style scoped>\n",
       "    .dataframe tbody tr th:only-of-type {\n",
       "        vertical-align: middle;\n",
       "    }\n",
       "\n",
       "    .dataframe tbody tr th {\n",
       "        vertical-align: top;\n",
       "    }\n",
       "\n",
       "    .dataframe thead th {\n",
       "        text-align: right;\n",
       "    }\n",
       "</style>\n",
       "<table border=\"1\" class=\"dataframe\">\n",
       "  <thead>\n",
       "    <tr style=\"text-align: right;\">\n",
       "      <th></th>\n",
       "      <th>f0</th>\n",
       "      <th>f1</th>\n",
       "      <th>f2</th>\n",
       "      <th>product</th>\n",
       "    </tr>\n",
       "  </thead>\n",
       "  <tbody>\n",
       "    <tr>\n",
       "      <th>f0</th>\n",
       "      <td>1.000000</td>\n",
       "      <td>0.000528</td>\n",
       "      <td>-0.000448</td>\n",
       "      <td>-0.001987</td>\n",
       "    </tr>\n",
       "    <tr>\n",
       "      <th>f1</th>\n",
       "      <td>0.000528</td>\n",
       "      <td>1.000000</td>\n",
       "      <td>0.000779</td>\n",
       "      <td>-0.001012</td>\n",
       "    </tr>\n",
       "    <tr>\n",
       "      <th>f2</th>\n",
       "      <td>-0.000448</td>\n",
       "      <td>0.000779</td>\n",
       "      <td>1.000000</td>\n",
       "      <td>0.445871</td>\n",
       "    </tr>\n",
       "    <tr>\n",
       "      <th>product</th>\n",
       "      <td>-0.001987</td>\n",
       "      <td>-0.001012</td>\n",
       "      <td>0.445871</td>\n",
       "      <td>1.000000</td>\n",
       "    </tr>\n",
       "  </tbody>\n",
       "</table>\n",
       "</div>"
      ],
      "text/plain": [
       "               f0        f1        f2   product\n",
       "f0       1.000000  0.000528 -0.000448 -0.001987\n",
       "f1       0.000528  1.000000  0.000779 -0.001012\n",
       "f2      -0.000448  0.000779  1.000000  0.445871\n",
       "product -0.001987 -0.001012  0.445871  1.000000"
      ]
     },
     "execution_count": 25,
     "metadata": {},
     "output_type": "execute_result"
    }
   ],
   "source": [
    "geo_data_2.corr()"
   ]
  },
  {
   "cell_type": "markdown",
   "metadata": {},
   "source": [
    "В Регионе 2 видна корреляция между Product и F2"
   ]
  },
  {
   "cell_type": "markdown",
   "metadata": {},
   "source": [
    "Корреляция показывает наличие зависимости продукта от признака f2 во всех регионах, но в регионе 1 она почти 100%"
   ]
  },
  {
   "cell_type": "code",
   "execution_count": 26,
   "metadata": {},
   "outputs": [
    {
     "data": {
      "text/html": [
       "<div>\n",
       "<style scoped>\n",
       "    .dataframe tbody tr th:only-of-type {\n",
       "        vertical-align: middle;\n",
       "    }\n",
       "\n",
       "    .dataframe tbody tr th {\n",
       "        vertical-align: top;\n",
       "    }\n",
       "\n",
       "    .dataframe thead th {\n",
       "        text-align: right;\n",
       "    }\n",
       "</style>\n",
       "<table border=\"1\" class=\"dataframe\">\n",
       "  <thead>\n",
       "    <tr style=\"text-align: right;\">\n",
       "      <th></th>\n",
       "      <th>geo_data_0</th>\n",
       "      <th>geo_data_1</th>\n",
       "      <th>geo_data_2</th>\n",
       "    </tr>\n",
       "  </thead>\n",
       "  <tbody>\n",
       "    <tr>\n",
       "      <th>Средний запас сырья, тыс.бареллей</th>\n",
       "      <td>92.40</td>\n",
       "      <td>68.80</td>\n",
       "      <td>94.90</td>\n",
       "    </tr>\n",
       "    <tr>\n",
       "      <th>RMSE</th>\n",
       "      <td>37.56</td>\n",
       "      <td>0.89</td>\n",
       "      <td>40.10</td>\n",
       "    </tr>\n",
       "    <tr>\n",
       "      <th>MAE</th>\n",
       "      <td>30.93</td>\n",
       "      <td>0.72</td>\n",
       "      <td>32.86</td>\n",
       "    </tr>\n",
       "    <tr>\n",
       "      <th>R2</th>\n",
       "      <td>0.27</td>\n",
       "      <td>0.99</td>\n",
       "      <td>0.19</td>\n",
       "    </tr>\n",
       "  </tbody>\n",
       "</table>\n",
       "</div>"
      ],
      "text/plain": [
       "                                   geo_data_0  geo_data_1  geo_data_2\n",
       "Средний запас сырья, тыс.бареллей       92.40       68.80       94.90\n",
       "RMSE                                    37.56        0.89       40.10\n",
       "MAE                                     30.93        0.72       32.86\n",
       "R2                                       0.27        0.99        0.19"
      ]
     },
     "execution_count": 26,
     "metadata": {},
     "output_type": "execute_result"
    }
   ],
   "source": [
    "metric_data={'geo_data_0':np.array([92.4,37.56,30.93,0.27]),'geo_data_1':np.array([68.8,0.89,0.72,0.99]),'geo_data_2':np.array([94.9,40.10,32.86,0.19])}\n",
    "data=pd.DataFrame(metric_data,index=['Средний запас сырья, тыс.бареллей','RMSE','MAE','R2'])\n",
    "data"
   ]
  },
  {
   "cell_type": "markdown",
   "metadata": {},
   "source": [
    " Применяя метрики оценки модели можно сделать вывод, что лучше всего предсказано месторождение geo_data_1. Остальные месторождения предсказаны с большой ошибкой. Также можно заметить, что у месторождения (geo_data_1), которое предсказано лучше всех, меньше всего среднего запаса сырья, чем у остальных. Можно сделать вывод, что из-за большой ошибки значения среднего запаса могут быть другими.  Попробуем применить технологию Bootstrap, чтобы получить нормальное распределение данных ."
   ]
  },
  {
   "cell_type": "markdown",
   "metadata": {},
   "source": [
    "## Подготовка к расчёту прибыли"
   ]
  },
  {
   "cell_type": "code",
   "execution_count": 27,
   "metadata": {},
   "outputs": [],
   "source": [
    "#Введем постоянные величины\n",
    "SAMPLS = 1000\n",
    "MLRD = 1000000000\n",
    "N=500 # При разведке региона проводится исследование 500 точек.\n",
    "WELLS_NUMBER = 200# число лучших для разработки точек\n",
    "BUDGET = 10**10# Бюджет на разработку месторождений — 10 млрд рублей\n",
    "BURREL=450000 # При нынешних ценах один баррель сырья приносит 450 рублей дохода.\n",
    "#Доход с каждой единицы продукта составляет 450 тыс. рублей, поскольку объём указан в тысячах баррелей.\n",
    "BUDGET_FOR_ONE = BUDGET / WELLS_NUMBER\n",
    "Min_mean_product = BUDGET_FOR_ONE / BURREL"
   ]
  },
  {
   "cell_type": "markdown",
   "metadata": {},
   "source": [
    "## Расчёт прибыли и рисков "
   ]
  },
  {
   "cell_type": "code",
   "execution_count": 28,
   "metadata": {},
   "outputs": [
    {
     "name": "stdout",
     "output_type": "stream",
     "text": [
      "Для безубыточной разработки необходимо чтобы одна скважина добывала не менее: 111.11111111111111\n"
     ]
    }
   ],
   "source": [
    "Min_mean_product\n",
    "print('Для безубыточной разработки необходимо чтобы одна скважина добывала не менее:',Min_mean_product)\n"
   ]
  },
  {
   "cell_type": "code",
   "execution_count": 29,
   "metadata": {},
   "outputs": [
    {
     "name": "stdout",
     "output_type": "stream",
     "text": [
      "Средний истинный запас сырья в регионе 0: 92.50000000000001 тыс. баррелей\n",
      "Средний истинный запас сырья в регионе 1: 68.82500000000002 тыс. баррелей\n",
      "Средний истинный запас сырья в регионе 2: 95.00000000000004 тыс. баррелей\n"
     ]
    }
   ],
   "source": [
    "print('Средний истинный запас сырья в регионе 0:', geo_data_0['product'].mean(), 'тыс. баррелей')\n",
    "print('Средний истинный запас сырья в регионе 1:', geo_data_1['product'].mean(), 'тыс. баррелей')\n",
    "print('Средний истинный запас сырья в регионе 2:', geo_data_2['product'].mean(), 'тыс. баррелей')"
   ]
  },
  {
   "cell_type": "markdown",
   "metadata": {},
   "source": [
    "Исследуя средний истинный запас сырья в регионах, разработка месторождений в любом регионе будет убыточной."
   ]
  },
  {
   "cell_type": "code",
   "execution_count": 30,
   "metadata": {},
   "outputs": [],
   "source": [
    "\n",
    "def revenue(target, probabilities):\n",
    "    target = pd.Series(target).reset_index(drop=True)\n",
    "    probabilities = pd.Series(probabilities).reset_index(drop=True)\n",
    "    probs_sorted = probabilities.sort_values(ascending=False)\n",
    "    selected = target[probs_sorted.index][:WELLS_NUMBER]\n",
    "    return ((BURREL * selected.sum()) - BUDGET) / MLRD"
   ]
  },
  {
   "cell_type": "code",
   "execution_count": 31,
   "metadata": {},
   "outputs": [
    {
     "data": {
      "text/plain": [
       "3.4240263202475374"
      ]
     },
     "execution_count": 31,
     "metadata": {},
     "output_type": "execute_result"
    }
   ],
   "source": [
    "revenue(target_valid_0,prediction_0)"
   ]
  },
  {
   "cell_type": "code",
   "execution_count": 32,
   "metadata": {},
   "outputs": [
    {
     "data": {
      "text/plain": [
       "2.4150866966815108"
      ]
     },
     "execution_count": 32,
     "metadata": {},
     "output_type": "execute_result"
    }
   ],
   "source": [
    "revenue(target_valid_1, prediction_1)"
   ]
  },
  {
   "cell_type": "code",
   "execution_count": 33,
   "metadata": {},
   "outputs": [
    {
     "data": {
      "text/plain": [
       "2.554955424433958"
      ]
     },
     "execution_count": 33,
     "metadata": {},
     "output_type": "execute_result"
    }
   ],
   "source": [
    "revenue(target_valid_2, prediction_2)"
   ]
  },
  {
   "cell_type": "markdown",
   "metadata": {},
   "source": [
    "Самый прибыльный регион - Регион 0, так как может принести прибыль больше трех миллиардов рублей"
   ]
  },
  {
   "cell_type": "code",
   "execution_count": 34,
   "metadata": {},
   "outputs": [],
   "source": [
    "state = np.random.RandomState(12345)\n",
    "values_0 =[]\n",
    "for i in range(1000):\n",
    "    # Делаю выборку по 500 точек 0-ого региона\n",
    "    target_subsample_0=target_valid_0.reset_index(drop=True).sample(n=N,random_state=state,replace=True)\n",
    "    predict_subsample_0=prediction_0[target_subsample_0.index]\n",
    "    values_0.append(revenue(target_subsample_0, predict_subsample_0))\n",
    "values_0 = pd.Series(values_0)\n"
   ]
  },
  {
   "cell_type": "markdown",
   "metadata": {},
   "source": [
    "### Регион 0"
   ]
  },
  {
   "cell_type": "code",
   "execution_count": 35,
   "metadata": {},
   "outputs": [
    {
     "name": "stdout",
     "output_type": "stream",
     "text": [
      "средняя прибыль месторождения 0: 0.3874697597257031 млрд. рублей\n"
     ]
    }
   ],
   "source": [
    "print('средняя прибыль месторождения 0:',values_0.mean(),'млрд. рублей')"
   ]
  },
  {
   "cell_type": "code",
   "execution_count": 36,
   "metadata": {},
   "outputs": [
    {
     "name": "stdout",
     "output_type": "stream",
     "text": [
      "95%-ый доверительный интервал: (0.3712838758790517, 0.40365564357235445)\n"
     ]
    }
   ],
   "source": [
    "confidence_interval_0 =st.t.interval(0.95,df=len(values_0)-1,loc=values_0.mean(),scale =values_0.sem()) \n",
    "\n",
    "print(\"95%-ый доверительный интервал:\", confidence_interval_0)"
   ]
  },
  {
   "cell_type": "code",
   "execution_count": 37,
   "metadata": {},
   "outputs": [
    {
     "data": {
      "text/plain": [
       "-0.1645711767368905"
      ]
     },
     "execution_count": 37,
     "metadata": {},
     "output_type": "execute_result"
    }
   ],
   "source": [
    "lower_0 =values_0.quantile(0.025)\n",
    "upper_0 = values_0.quantile(0.975)\n",
    "lower_0# 2.5% квантиль"
   ]
  },
  {
   "cell_type": "code",
   "execution_count": 38,
   "metadata": {},
   "outputs": [
    {
     "data": {
      "text/plain": [
       "0.8724395111968266"
      ]
     },
     "execution_count": 38,
     "metadata": {},
     "output_type": "execute_result"
    }
   ],
   "source": [
    "upper_0# 97.5 квантиль"
   ]
  },
  {
   "cell_type": "code",
   "execution_count": 39,
   "metadata": {},
   "outputs": [
    {
     "name": "stdout",
     "output_type": "stream",
     "text": [
      "Риск убытка: 6.9\n"
     ]
    }
   ],
   "source": [
    "demage_0 =  (values_0 < 0).mean()*100\n",
    "print(\"Риск убытка:\", demage_0)"
   ]
  },
  {
   "cell_type": "markdown",
   "metadata": {},
   "source": [
    "### Регион 1"
   ]
  },
  {
   "cell_type": "code",
   "execution_count": 40,
   "metadata": {},
   "outputs": [],
   "source": [
    "values_1 =[]\n",
    "for i in range(1000):\n",
    "    # Делаю выборку по 500 точек 0-ого региона\n",
    "    target_subsample_1=target_valid_1.reset_index(drop=True).sample(n=N,random_state=state,replace=True)\n",
    "    predict_subsample_1=prediction_1[target_subsample_1.index]\n",
    "    values_1.append(revenue(target_subsample_1, predict_subsample_1))\n",
    "values_1 = pd.Series(values_1)"
   ]
  },
  {
   "cell_type": "code",
   "execution_count": 41,
   "metadata": {},
   "outputs": [
    {
     "name": "stdout",
     "output_type": "stream",
     "text": [
      "средняя прибыль месторождения 1: 0.419143064375936 млрд. рублей\n"
     ]
    }
   ],
   "source": [
    "print('средняя прибыль месторождения 1:',values_1.mean(),'млрд. рублей')"
   ]
  },
  {
   "cell_type": "code",
   "execution_count": 42,
   "metadata": {},
   "outputs": [
    {
     "name": "stdout",
     "output_type": "stream",
     "text": [
      "95%-ый доверительный интервал: (0.4065717245153132, 0.4317144042365588)\n"
     ]
    }
   ],
   "source": [
    "confidence_interval_1 =st.t.interval(0.95,df=len(values_1)-1,loc=values_1.mean(),scale =values_1.sem()) \n",
    "\n",
    "print(\"95%-ый доверительный интервал:\", confidence_interval_1)"
   ]
  },
  {
   "cell_type": "code",
   "execution_count": 43,
   "metadata": {},
   "outputs": [
    {
     "data": {
      "text/plain": [
       "0.026000435376237824"
      ]
     },
     "execution_count": 43,
     "metadata": {},
     "output_type": "execute_result"
    }
   ],
   "source": [
    "lower_1 =values_1.quantile(0.025)\n",
    "upper_1 = values_1.quantile(0.975)\n",
    "lower_1# 2.5% квантиль"
   ]
  },
  {
   "cell_type": "code",
   "execution_count": 44,
   "metadata": {},
   "outputs": [
    {
     "data": {
      "text/plain": [
       "0.8037549240593178"
      ]
     },
     "execution_count": 44,
     "metadata": {},
     "output_type": "execute_result"
    }
   ],
   "source": [
    "upper_1# 97.5 квантиль"
   ]
  },
  {
   "cell_type": "code",
   "execution_count": 45,
   "metadata": {},
   "outputs": [
    {
     "name": "stdout",
     "output_type": "stream",
     "text": [
      "Риск убытка: 1.7999999999999998\n"
     ]
    }
   ],
   "source": [
    "demage_1 = (values_1 < 0).mean()*100\n",
    "print(\"Риск убытка:\", demage_1)\n"
   ]
  },
  {
   "cell_type": "markdown",
   "metadata": {},
   "source": [
    "### Регион 2"
   ]
  },
  {
   "cell_type": "code",
   "execution_count": 46,
   "metadata": {},
   "outputs": [],
   "source": [
    "values_2 =[]\n",
    "for i in range(1000):\n",
    "    # Делаю выборку по 500 точек 0-ого региона\n",
    "    target_subsample_2=target_valid_2.reset_index(drop=True).sample(n=N,random_state=state,replace=True)\n",
    "    predict_subsample_2=prediction_2[target_subsample_2.index]\n",
    "    values_2.append(revenue(target_subsample_2, predict_subsample_2))\n",
    "values_2 = pd.Series(values_2)"
   ]
  },
  {
   "cell_type": "code",
   "execution_count": 47,
   "metadata": {},
   "outputs": [
    {
     "name": "stdout",
     "output_type": "stream",
     "text": [
      "средняя прибыль месторождения 2: 0.35473917313989217 млрд. рублей\n"
     ]
    }
   ],
   "source": [
    "print('средняя прибыль месторождения 2:',values_2.mean(),'млрд. рублей')"
   ]
  },
  {
   "cell_type": "code",
   "execution_count": 48,
   "metadata": {},
   "outputs": [
    {
     "name": "stdout",
     "output_type": "stream",
     "text": [
      "95%-ый доверительный интервал: (0.3375581182747901, 0.37192022800499425)\n"
     ]
    }
   ],
   "source": [
    "confidence_interval_2 =st.t.interval(0.95,df=len(values_2)-1,loc=values_2.mean(),scale =values_2.sem()) \n",
    "#confidence_interval_2 = (values_2.quantile(0.025), values_2.quantile(0.975)) \n",
    "\n",
    "print(\"95%-ый доверительный интервал:\", confidence_interval_2)"
   ]
  },
  {
   "cell_type": "code",
   "execution_count": 49,
   "metadata": {},
   "outputs": [
    {
     "data": {
      "text/plain": [
       "-0.17293983228213713"
      ]
     },
     "execution_count": 49,
     "metadata": {},
     "output_type": "execute_result"
    }
   ],
   "source": [
    "lower_2 =values_2.quantile(0.025)\n",
    "upper_2 = values_2.quantile(0.975)\n",
    "lower_2# 2.5% квантиль"
   ]
  },
  {
   "cell_type": "code",
   "execution_count": 50,
   "metadata": {},
   "outputs": [
    {
     "data": {
      "text/plain": [
       "0.8891559673071864"
      ]
     },
     "execution_count": 50,
     "metadata": {},
     "output_type": "execute_result"
    }
   ],
   "source": [
    "upper_2# 97.5 квантиль"
   ]
  },
  {
   "cell_type": "code",
   "execution_count": 51,
   "metadata": {},
   "outputs": [
    {
     "name": "stdout",
     "output_type": "stream",
     "text": [
      "Риск убытка: 10.6\n"
     ]
    }
   ],
   "source": [
    "demage_2 =(values_2 < 0).mean()*100\n",
    "print(\"Риск убытка:\", demage_2)"
   ]
  },
  {
   "cell_type": "code",
   "execution_count": 52,
   "metadata": {},
   "outputs": [],
   "source": [
    "geo={'geo_data_0':np.array([values_0.mean(),confidence_interval_0,demage_0,]),'geo_data_1':np.array([values_1.mean(),confidence_interval_1,demage_1]),'geo_data_2':np.array([values_2.mean(),confidence_interval_2,demage_2])}\n",
    "new_data=pd.DataFrame(geo,index=['Средняя прибыль, млрд.руб','Доверительный интервал 95%','Риск убытков, %'])"
   ]
  },
  {
   "cell_type": "code",
   "execution_count": 53,
   "metadata": {},
   "outputs": [
    {
     "data": {
      "text/html": [
       "<div>\n",
       "<style scoped>\n",
       "    .dataframe tbody tr th:only-of-type {\n",
       "        vertical-align: middle;\n",
       "    }\n",
       "\n",
       "    .dataframe tbody tr th {\n",
       "        vertical-align: top;\n",
       "    }\n",
       "\n",
       "    .dataframe thead th {\n",
       "        text-align: right;\n",
       "    }\n",
       "</style>\n",
       "<table border=\"1\" class=\"dataframe\">\n",
       "  <thead>\n",
       "    <tr style=\"text-align: right;\">\n",
       "      <th></th>\n",
       "      <th>geo_data_0</th>\n",
       "      <th>geo_data_1</th>\n",
       "      <th>geo_data_2</th>\n",
       "    </tr>\n",
       "  </thead>\n",
       "  <tbody>\n",
       "    <tr>\n",
       "      <th>Средняя прибыль, млрд.руб</th>\n",
       "      <td>0.38747</td>\n",
       "      <td>0.419143</td>\n",
       "      <td>0.354739</td>\n",
       "    </tr>\n",
       "    <tr>\n",
       "      <th>Доверительный интервал 95%</th>\n",
       "      <td>(0.3712838758790517, 0.40365564357235445)</td>\n",
       "      <td>(0.4065717245153132, 0.4317144042365588)</td>\n",
       "      <td>(0.3375581182747901, 0.37192022800499425)</td>\n",
       "    </tr>\n",
       "    <tr>\n",
       "      <th>Риск убытков, %</th>\n",
       "      <td>6.9</td>\n",
       "      <td>1.8</td>\n",
       "      <td>10.6</td>\n",
       "    </tr>\n",
       "  </tbody>\n",
       "</table>\n",
       "</div>"
      ],
      "text/plain": [
       "                                                           geo_data_0  \\\n",
       "Средняя прибыль, млрд.руб                                     0.38747   \n",
       "Доверительный интервал 95%  (0.3712838758790517, 0.40365564357235445)   \n",
       "Риск убытков, %                                                   6.9   \n",
       "\n",
       "                                                          geo_data_1  \\\n",
       "Средняя прибыль, млрд.руб                                   0.419143   \n",
       "Доверительный интервал 95%  (0.4065717245153132, 0.4317144042365588)   \n",
       "Риск убытков, %                                                  1.8   \n",
       "\n",
       "                                                           geo_data_2  \n",
       "Средняя прибыль, млрд.руб                                    0.354739  \n",
       "Доверительный интервал 95%  (0.3375581182747901, 0.37192022800499425)  \n",
       "Риск убытков, %                                                  10.6  "
      ]
     },
     "execution_count": 53,
     "metadata": {},
     "output_type": "execute_result"
    }
   ],
   "source": [
    "new_data"
   ]
  },
  {
   "cell_type": "markdown",
   "metadata": {},
   "source": [
    "Оценивая средние значения прибыли после Bootstrap можно сделать выводы, что самым прибыльным районом оказался geo_data_1. Средняя прибыль по нему составляет 419.143 млн. рублей. На втором месте регион geo_data_0 со средней прибылью 387.47 млн. руб. Самым неблагоприятным районом для осваивания является geo_data_2. Средняя прибыль по нему 354.739 млн. руб. Наибольшие риски убытка в регионе geo_data_2.Они составляют 10.6%. По региону geo_data_0 риски убытков - 6.9%.Самые низкие риски убытков - 1.8% - выявлены в регионе geo_data_1. Для разработки можно рекомендовать район geo_data_1, как район с наибольшей прогнозируемой прибылью и наименьшими рисками убытков."
   ]
  }
 ],
 "metadata": {
  "ExecuteTimeLog": [
   {
    "duration": 72,
    "start_time": "2022-03-27T06:12:53.767Z"
   },
   {
    "duration": 9,
    "start_time": "2022-03-27T06:13:18.551Z"
   },
   {
    "duration": 1564,
    "start_time": "2022-03-27T06:13:30.285Z"
   },
   {
    "duration": 5,
    "start_time": "2022-03-27T06:13:39.556Z"
   },
   {
    "duration": 471,
    "start_time": "2022-03-27T06:13:41.312Z"
   },
   {
    "duration": 25,
    "start_time": "2022-03-27T06:14:05.493Z"
   },
   {
    "duration": 23,
    "start_time": "2022-03-27T06:14:33.792Z"
   },
   {
    "duration": 19,
    "start_time": "2022-03-27T06:14:52.166Z"
   },
   {
    "duration": 19,
    "start_time": "2022-03-27T06:15:14.735Z"
   },
   {
    "duration": 87,
    "start_time": "2022-03-27T06:18:51.679Z"
   },
   {
    "duration": 11,
    "start_time": "2022-03-27T06:19:17.046Z"
   },
   {
    "duration": 238,
    "start_time": "2022-03-27T06:19:34.456Z"
   },
   {
    "duration": 43,
    "start_time": "2022-03-27T06:21:32.498Z"
   },
   {
    "duration": 11,
    "start_time": "2022-03-27T06:24:44.705Z"
   },
   {
    "duration": 808,
    "start_time": "2022-03-27T06:25:14.223Z"
   },
   {
    "duration": 515,
    "start_time": "2022-03-27T06:25:15.269Z"
   },
   {
    "duration": 15,
    "start_time": "2022-03-27T06:25:15.927Z"
   },
   {
    "duration": 21,
    "start_time": "2022-03-27T06:25:16.652Z"
   },
   {
    "duration": 20,
    "start_time": "2022-03-27T06:25:17.418Z"
   },
   {
    "duration": 23,
    "start_time": "2022-03-27T06:25:18.097Z"
   },
   {
    "duration": 245,
    "start_time": "2022-03-27T06:25:18.857Z"
   },
   {
    "duration": 39,
    "start_time": "2022-03-27T06:25:21.047Z"
   },
   {
    "duration": 872,
    "start_time": "2022-03-27T06:25:22.514Z"
   },
   {
    "duration": 899,
    "start_time": "2022-03-27T06:26:52.897Z"
   },
   {
    "duration": 919,
    "start_time": "2022-03-27T06:35:32.991Z"
   },
   {
    "duration": 5,
    "start_time": "2022-03-27T06:35:46.222Z"
   },
   {
    "duration": 449,
    "start_time": "2022-03-27T06:35:47.069Z"
   },
   {
    "duration": 16,
    "start_time": "2022-03-27T06:35:47.638Z"
   },
   {
    "duration": 23,
    "start_time": "2022-03-27T06:35:48.116Z"
   },
   {
    "duration": 24,
    "start_time": "2022-03-27T06:35:48.636Z"
   },
   {
    "duration": 22,
    "start_time": "2022-03-27T06:35:49.118Z"
   },
   {
    "duration": 229,
    "start_time": "2022-03-27T06:35:49.615Z"
   },
   {
    "duration": 40,
    "start_time": "2022-03-27T06:35:50.143Z"
   },
   {
    "duration": 991,
    "start_time": "2022-03-27T06:35:51.685Z"
   },
   {
    "duration": 5,
    "start_time": "2022-03-27T06:36:21.933Z"
   },
   {
    "duration": 440,
    "start_time": "2022-03-27T06:36:22.925Z"
   },
   {
    "duration": 15,
    "start_time": "2022-03-27T06:36:23.448Z"
   },
   {
    "duration": 20,
    "start_time": "2022-03-27T06:36:24.084Z"
   },
   {
    "duration": 20,
    "start_time": "2022-03-27T06:36:24.790Z"
   },
   {
    "duration": 20,
    "start_time": "2022-03-27T06:36:25.468Z"
   },
   {
    "duration": 236,
    "start_time": "2022-03-27T06:36:26.151Z"
   },
   {
    "duration": 37,
    "start_time": "2022-03-27T06:36:27.230Z"
   },
   {
    "duration": 864,
    "start_time": "2022-03-27T06:36:28.726Z"
   },
   {
    "duration": 1127,
    "start_time": "2022-03-27T06:37:24.757Z"
   },
   {
    "duration": 15,
    "start_time": "2022-03-27T06:38:50.126Z"
   },
   {
    "duration": 6,
    "start_time": "2022-03-27T06:39:14.669Z"
   },
   {
    "duration": 443,
    "start_time": "2022-03-27T06:39:16.581Z"
   },
   {
    "duration": 15,
    "start_time": "2022-03-27T06:39:17.176Z"
   },
   {
    "duration": 20,
    "start_time": "2022-03-27T06:39:17.877Z"
   },
   {
    "duration": 21,
    "start_time": "2022-03-27T06:39:18.662Z"
   },
   {
    "duration": 21,
    "start_time": "2022-03-27T06:39:19.358Z"
   },
   {
    "duration": 268,
    "start_time": "2022-03-27T06:39:20.108Z"
   },
   {
    "duration": 38,
    "start_time": "2022-03-27T06:39:21.504Z"
   },
   {
    "duration": 851,
    "start_time": "2022-03-27T06:39:23.022Z"
   },
   {
    "duration": 758,
    "start_time": "2022-03-27T06:39:29.351Z"
   },
   {
    "duration": 865,
    "start_time": "2022-03-27T06:39:32.524Z"
   },
   {
    "duration": 16,
    "start_time": "2022-03-27T06:51:25.725Z"
   },
   {
    "duration": 50,
    "start_time": "2022-03-27T06:53:32.928Z"
   },
   {
    "duration": 444,
    "start_time": "2022-03-27T06:58:37.094Z"
   },
   {
    "duration": 5,
    "start_time": "2022-03-27T07:02:45.400Z"
   },
   {
    "duration": 440,
    "start_time": "2022-03-27T07:02:46.127Z"
   },
   {
    "duration": 14,
    "start_time": "2022-03-27T07:02:50.008Z"
   },
   {
    "duration": 22,
    "start_time": "2022-03-27T07:02:52.206Z"
   },
   {
    "duration": 31,
    "start_time": "2022-03-27T07:02:54.615Z"
   },
   {
    "duration": 29,
    "start_time": "2022-03-27T07:02:57.703Z"
   },
   {
    "duration": 228,
    "start_time": "2022-03-27T07:02:59.798Z"
   },
   {
    "duration": 40,
    "start_time": "2022-03-27T07:03:02.327Z"
   },
   {
    "duration": 905,
    "start_time": "2022-03-27T07:03:04.968Z"
   },
   {
    "duration": 802,
    "start_time": "2022-03-27T07:03:08.039Z"
   },
   {
    "duration": 876,
    "start_time": "2022-03-27T07:03:12.000Z"
   },
   {
    "duration": 42,
    "start_time": "2022-03-27T07:03:22.523Z"
   },
   {
    "duration": 12,
    "start_time": "2022-03-27T07:06:09.745Z"
   },
   {
    "duration": 16,
    "start_time": "2022-03-27T07:07:02.356Z"
   },
   {
    "duration": 7,
    "start_time": "2022-03-27T07:07:55.363Z"
   },
   {
    "duration": 125,
    "start_time": "2022-03-27T07:16:55.784Z"
   },
   {
    "duration": 97,
    "start_time": "2022-03-27T07:17:51.093Z"
   },
   {
    "duration": 148,
    "start_time": "2022-03-27T07:18:06.989Z"
   },
   {
    "duration": 5,
    "start_time": "2022-03-27T07:19:33.382Z"
   },
   {
    "duration": 435,
    "start_time": "2022-03-27T07:19:33.900Z"
   },
   {
    "duration": 15,
    "start_time": "2022-03-27T07:19:34.483Z"
   },
   {
    "duration": 20,
    "start_time": "2022-03-27T07:19:35.039Z"
   },
   {
    "duration": 20,
    "start_time": "2022-03-27T07:19:35.664Z"
   },
   {
    "duration": 22,
    "start_time": "2022-03-27T07:19:36.244Z"
   },
   {
    "duration": 253,
    "start_time": "2022-03-27T07:19:37.478Z"
   },
   {
    "duration": 39,
    "start_time": "2022-03-27T07:19:38.046Z"
   },
   {
    "duration": 907,
    "start_time": "2022-03-27T07:19:38.869Z"
   },
   {
    "duration": 950,
    "start_time": "2022-03-27T07:19:39.779Z"
   },
   {
    "duration": 842,
    "start_time": "2022-03-27T07:19:40.732Z"
   },
   {
    "duration": 47,
    "start_time": "2022-03-27T07:19:41.577Z"
   },
   {
    "duration": 12,
    "start_time": "2022-03-27T07:19:49.796Z"
   },
   {
    "duration": 11,
    "start_time": "2022-03-27T07:19:54.502Z"
   },
   {
    "duration": 137,
    "start_time": "2022-03-27T07:19:56.361Z"
   },
   {
    "duration": 18,
    "start_time": "2022-03-27T07:20:43.758Z"
   },
   {
    "duration": 13,
    "start_time": "2022-03-27T07:21:30.126Z"
   },
   {
    "duration": 13,
    "start_time": "2022-03-27T07:23:05.770Z"
   },
   {
    "duration": 8,
    "start_time": "2022-03-27T07:23:16.899Z"
   },
   {
    "duration": 13,
    "start_time": "2022-03-27T07:23:17.556Z"
   },
   {
    "duration": 14,
    "start_time": "2022-03-27T07:26:09.449Z"
   },
   {
    "duration": 6,
    "start_time": "2022-03-27T07:26:34.527Z"
   },
   {
    "duration": 434,
    "start_time": "2022-03-27T07:26:35.330Z"
   },
   {
    "duration": 15,
    "start_time": "2022-03-27T07:26:36.239Z"
   },
   {
    "duration": 21,
    "start_time": "2022-03-27T07:26:37.129Z"
   },
   {
    "duration": 22,
    "start_time": "2022-03-27T07:26:38.007Z"
   },
   {
    "duration": 20,
    "start_time": "2022-03-27T07:26:38.775Z"
   },
   {
    "duration": 221,
    "start_time": "2022-03-27T07:26:41.399Z"
   },
   {
    "duration": 38,
    "start_time": "2022-03-27T07:26:42.507Z"
   },
   {
    "duration": 902,
    "start_time": "2022-03-27T07:26:43.559Z"
   },
   {
    "duration": 867,
    "start_time": "2022-03-27T07:26:44.568Z"
   },
   {
    "duration": 906,
    "start_time": "2022-03-27T07:26:45.877Z"
   },
   {
    "duration": 44,
    "start_time": "2022-03-27T07:26:47.880Z"
   },
   {
    "duration": 13,
    "start_time": "2022-03-27T07:26:51.135Z"
   },
   {
    "duration": 7,
    "start_time": "2022-03-27T07:26:53.738Z"
   },
   {
    "duration": 14,
    "start_time": "2022-03-27T07:26:59.666Z"
   },
   {
    "duration": 15,
    "start_time": "2022-03-27T07:27:41.133Z"
   },
   {
    "duration": 6,
    "start_time": "2022-03-27T07:28:36.928Z"
   },
   {
    "duration": 467,
    "start_time": "2022-03-27T07:28:37.363Z"
   },
   {
    "duration": 15,
    "start_time": "2022-03-27T07:28:37.889Z"
   },
   {
    "duration": 20,
    "start_time": "2022-03-27T07:28:38.433Z"
   },
   {
    "duration": 21,
    "start_time": "2022-03-27T07:28:38.960Z"
   },
   {
    "duration": 21,
    "start_time": "2022-03-27T07:28:39.568Z"
   },
   {
    "duration": 224,
    "start_time": "2022-03-27T07:28:40.584Z"
   },
   {
    "duration": 36,
    "start_time": "2022-03-27T07:28:41.112Z"
   },
   {
    "duration": 864,
    "start_time": "2022-03-27T07:28:41.811Z"
   },
   {
    "duration": 854,
    "start_time": "2022-03-27T07:28:42.678Z"
   },
   {
    "duration": 892,
    "start_time": "2022-03-27T07:28:43.535Z"
   },
   {
    "duration": 54,
    "start_time": "2022-03-27T07:28:44.430Z"
   },
   {
    "duration": 13,
    "start_time": "2022-03-27T07:28:47.159Z"
   },
   {
    "duration": 16,
    "start_time": "2022-03-27T07:28:47.903Z"
   },
   {
    "duration": 9,
    "start_time": "2022-03-27T07:28:49.461Z"
   },
   {
    "duration": 12,
    "start_time": "2022-03-27T07:30:49.922Z"
   },
   {
    "duration": 14,
    "start_time": "2022-03-27T07:30:52.282Z"
   },
   {
    "duration": 12,
    "start_time": "2022-03-27T07:31:25.924Z"
   },
   {
    "duration": 9,
    "start_time": "2022-03-27T07:31:26.615Z"
   },
   {
    "duration": 10,
    "start_time": "2022-03-27T07:31:28.363Z"
   },
   {
    "duration": 13,
    "start_time": "2022-03-27T07:32:16.572Z"
   },
   {
    "duration": 12,
    "start_time": "2022-03-27T07:32:45.875Z"
   },
   {
    "duration": 12,
    "start_time": "2022-03-27T07:33:01.859Z"
   },
   {
    "duration": 14,
    "start_time": "2022-03-27T07:33:02.725Z"
   },
   {
    "duration": 11,
    "start_time": "2022-03-27T07:34:04.228Z"
   },
   {
    "duration": 63,
    "start_time": "2022-03-27T07:34:06.123Z"
   },
   {
    "duration": 9,
    "start_time": "2022-03-27T07:34:07.377Z"
   },
   {
    "duration": 29,
    "start_time": "2022-03-27T07:35:39.716Z"
   },
   {
    "duration": 6,
    "start_time": "2022-03-27T07:47:49.678Z"
   },
   {
    "duration": 444,
    "start_time": "2022-03-27T07:47:50.101Z"
   },
   {
    "duration": 14,
    "start_time": "2022-03-27T07:47:50.619Z"
   },
   {
    "duration": 21,
    "start_time": "2022-03-27T07:47:51.136Z"
   },
   {
    "duration": 22,
    "start_time": "2022-03-27T07:47:51.670Z"
   },
   {
    "duration": 21,
    "start_time": "2022-03-27T07:47:52.213Z"
   },
   {
    "duration": 232,
    "start_time": "2022-03-27T07:47:53.214Z"
   },
   {
    "duration": 38,
    "start_time": "2022-03-27T07:47:53.712Z"
   },
   {
    "duration": 910,
    "start_time": "2022-03-27T07:47:54.463Z"
   },
   {
    "duration": 965,
    "start_time": "2022-03-27T07:47:55.375Z"
   },
   {
    "duration": 927,
    "start_time": "2022-03-27T07:47:56.343Z"
   },
   {
    "duration": 45,
    "start_time": "2022-03-27T07:47:57.273Z"
   },
   {
    "duration": 13,
    "start_time": "2022-03-27T07:47:59.588Z"
   },
   {
    "duration": 8,
    "start_time": "2022-03-27T07:48:00.167Z"
   },
   {
    "duration": 16,
    "start_time": "2022-03-27T07:48:00.894Z"
   },
   {
    "duration": 11,
    "start_time": "2022-03-27T07:48:54.808Z"
   },
   {
    "duration": 15,
    "start_time": "2022-03-27T07:48:55.328Z"
   },
   {
    "duration": 16,
    "start_time": "2022-03-27T07:48:56.096Z"
   },
   {
    "duration": 15,
    "start_time": "2022-03-27T07:49:09.823Z"
   },
   {
    "duration": 12,
    "start_time": "2022-03-27T07:49:31.890Z"
   },
   {
    "duration": 15,
    "start_time": "2022-03-27T07:49:32.442Z"
   },
   {
    "duration": 10,
    "start_time": "2022-03-27T07:49:33.318Z"
   },
   {
    "duration": 12,
    "start_time": "2022-03-27T07:49:41.825Z"
   },
   {
    "duration": 7,
    "start_time": "2022-03-27T07:49:42.441Z"
   },
   {
    "duration": 16,
    "start_time": "2022-03-27T07:49:43.354Z"
   },
   {
    "duration": 12,
    "start_time": "2022-03-27T07:50:03.611Z"
   },
   {
    "duration": 11,
    "start_time": "2022-03-27T07:50:22.087Z"
   },
   {
    "duration": 2385,
    "start_time": "2022-03-29T05:30:46.081Z"
   },
   {
    "duration": 467,
    "start_time": "2022-03-29T05:30:51.014Z"
   },
   {
    "duration": 21,
    "start_time": "2022-03-29T05:30:54.325Z"
   },
   {
    "duration": 22,
    "start_time": "2022-03-29T05:30:59.326Z"
   },
   {
    "duration": 20,
    "start_time": "2022-03-29T05:31:03.237Z"
   },
   {
    "duration": 20,
    "start_time": "2022-03-29T05:31:05.588Z"
   },
   {
    "duration": 252,
    "start_time": "2022-03-29T05:31:23.500Z"
   },
   {
    "duration": 44,
    "start_time": "2022-03-29T05:31:44.784Z"
   },
   {
    "duration": 949,
    "start_time": "2022-03-29T05:31:50.855Z"
   },
   {
    "duration": 965,
    "start_time": "2022-03-29T05:31:56.025Z"
   },
   {
    "duration": 930,
    "start_time": "2022-03-29T05:32:02.563Z"
   },
   {
    "duration": 48,
    "start_time": "2022-03-29T05:32:30.495Z"
   },
   {
    "duration": 16,
    "start_time": "2022-03-29T05:33:01.710Z"
   },
   {
    "duration": 14,
    "start_time": "2022-03-29T05:33:04.573Z"
   },
   {
    "duration": 9,
    "start_time": "2022-03-29T05:33:23.351Z"
   },
   {
    "duration": 11,
    "start_time": "2022-03-29T05:33:32.815Z"
   },
   {
    "duration": 7,
    "start_time": "2022-03-29T05:33:34.854Z"
   },
   {
    "duration": 13,
    "start_time": "2022-03-29T05:33:41.271Z"
   },
   {
    "duration": 11,
    "start_time": "2022-03-29T05:33:50.033Z"
   },
   {
    "duration": 8,
    "start_time": "2022-03-29T05:33:53.822Z"
   },
   {
    "duration": 10,
    "start_time": "2022-03-29T05:33:56.150Z"
   },
   {
    "duration": 167,
    "start_time": "2022-03-29T05:46:28.274Z"
   },
   {
    "duration": 7,
    "start_time": "2022-03-29T05:47:01.292Z"
   },
   {
    "duration": 7,
    "start_time": "2022-03-29T05:47:11.790Z"
   },
   {
    "duration": 15,
    "start_time": "2022-03-29T05:47:57.833Z"
   },
   {
    "duration": 12,
    "start_time": "2022-03-29T06:11:10.286Z"
   },
   {
    "duration": 3,
    "start_time": "2022-03-29T06:11:24.319Z"
   },
   {
    "duration": 5,
    "start_time": "2022-03-29T06:11:25.799Z"
   },
   {
    "duration": 5,
    "start_time": "2022-03-29T06:30:48.271Z"
   },
   {
    "duration": 5,
    "start_time": "2022-03-29T06:30:49.824Z"
   },
   {
    "duration": 12,
    "start_time": "2022-03-29T06:31:10.306Z"
   },
   {
    "duration": 4,
    "start_time": "2022-03-29T06:34:29.036Z"
   },
   {
    "duration": 7,
    "start_time": "2022-03-29T06:34:51.810Z"
   },
   {
    "duration": 7,
    "start_time": "2022-03-29T06:35:02.460Z"
   },
   {
    "duration": 15,
    "start_time": "2022-03-29T06:35:35.636Z"
   },
   {
    "duration": 28,
    "start_time": "2022-03-29T06:36:10.596Z"
   },
   {
    "duration": 14,
    "start_time": "2022-03-29T06:36:32.710Z"
   },
   {
    "duration": 13,
    "start_time": "2022-03-29T06:36:43.175Z"
   },
   {
    "duration": 15,
    "start_time": "2022-03-29T06:36:50.081Z"
   },
   {
    "duration": 14,
    "start_time": "2022-03-29T06:36:52.347Z"
   },
   {
    "duration": 13,
    "start_time": "2022-03-29T06:36:53.751Z"
   },
   {
    "duration": 17,
    "start_time": "2022-03-29T09:40:07.633Z"
   },
   {
    "duration": 63,
    "start_time": "2022-03-29T09:40:09.186Z"
   },
   {
    "duration": 12,
    "start_time": "2022-03-29T09:41:50.507Z"
   },
   {
    "duration": 15,
    "start_time": "2022-03-29T09:44:18.766Z"
   },
   {
    "duration": 17,
    "start_time": "2022-03-29T09:44:36.033Z"
   },
   {
    "duration": 2248,
    "start_time": "2022-03-29T09:44:43.647Z"
   },
   {
    "duration": 449,
    "start_time": "2022-03-29T09:44:45.898Z"
   },
   {
    "duration": 23,
    "start_time": "2022-03-29T09:44:46.350Z"
   },
   {
    "duration": 20,
    "start_time": "2022-03-29T09:44:46.376Z"
   },
   {
    "duration": 18,
    "start_time": "2022-03-29T09:44:46.398Z"
   },
   {
    "duration": 19,
    "start_time": "2022-03-29T09:44:50.035Z"
   },
   {
    "duration": 218,
    "start_time": "2022-03-29T09:44:56.132Z"
   },
   {
    "duration": 50,
    "start_time": "2022-03-29T09:44:58.180Z"
   },
   {
    "duration": 1263,
    "start_time": "2022-03-29T09:44:59.795Z"
   },
   {
    "duration": 1048,
    "start_time": "2022-03-29T09:45:02.490Z"
   },
   {
    "duration": 863,
    "start_time": "2022-03-29T09:45:05.100Z"
   },
   {
    "duration": 49,
    "start_time": "2022-03-29T09:45:07.573Z"
   },
   {
    "duration": 15,
    "start_time": "2022-03-29T09:45:13.243Z"
   },
   {
    "duration": 10,
    "start_time": "2022-03-29T09:45:14.331Z"
   },
   {
    "duration": 11,
    "start_time": "2022-03-29T09:45:15.171Z"
   },
   {
    "duration": 14,
    "start_time": "2022-03-29T09:45:16.805Z"
   },
   {
    "duration": 99,
    "start_time": "2022-03-29T09:45:18.169Z"
   },
   {
    "duration": 10,
    "start_time": "2022-03-29T09:45:20.533Z"
   },
   {
    "duration": 12,
    "start_time": "2022-03-29T09:45:22.906Z"
   },
   {
    "duration": 14,
    "start_time": "2022-03-29T09:45:24.811Z"
   },
   {
    "duration": 10,
    "start_time": "2022-03-29T09:45:25.884Z"
   },
   {
    "duration": 15,
    "start_time": "2022-03-29T09:45:29.954Z"
   },
   {
    "duration": 5,
    "start_time": "2022-03-29T09:45:34.094Z"
   },
   {
    "duration": 4,
    "start_time": "2022-03-29T09:45:36.858Z"
   },
   {
    "duration": 16,
    "start_time": "2022-03-29T09:45:38.355Z"
   },
   {
    "duration": 14,
    "start_time": "2022-03-29T09:45:44.701Z"
   },
   {
    "duration": 13,
    "start_time": "2022-03-29T09:45:51.509Z"
   },
   {
    "duration": 13,
    "start_time": "2022-03-29T09:45:54.940Z"
   },
   {
    "duration": 13,
    "start_time": "2022-03-29T09:45:57.973Z"
   },
   {
    "duration": 11,
    "start_time": "2022-03-29T09:49:21.094Z"
   },
   {
    "duration": 106,
    "start_time": "2022-03-29T09:49:26.691Z"
   },
   {
    "duration": 12,
    "start_time": "2022-03-29T09:49:47.566Z"
   },
   {
    "duration": 24,
    "start_time": "2022-03-29T09:50:41.580Z"
   },
   {
    "duration": 11,
    "start_time": "2022-03-29T09:51:27.047Z"
   },
   {
    "duration": 24,
    "start_time": "2022-03-29T09:51:31.746Z"
   },
   {
    "duration": 11,
    "start_time": "2022-03-29T09:51:48.527Z"
   },
   {
    "duration": 23,
    "start_time": "2022-03-29T09:51:50.853Z"
   },
   {
    "duration": 10,
    "start_time": "2022-03-29T09:52:29.038Z"
   },
   {
    "duration": 17,
    "start_time": "2022-03-29T09:52:31.174Z"
   },
   {
    "duration": 13,
    "start_time": "2022-03-29T09:53:36.696Z"
   },
   {
    "duration": 13,
    "start_time": "2022-03-29T09:53:38.511Z"
   },
   {
    "duration": 10,
    "start_time": "2022-03-29T09:53:43.272Z"
   },
   {
    "duration": 11,
    "start_time": "2022-03-29T09:54:48.974Z"
   },
   {
    "duration": 13,
    "start_time": "2022-03-29T09:54:51.329Z"
   },
   {
    "duration": 82,
    "start_time": "2022-03-29T10:22:17.074Z"
   },
   {
    "duration": 2281,
    "start_time": "2022-03-29T10:22:31.521Z"
   },
   {
    "duration": 607,
    "start_time": "2022-03-29T10:22:33.805Z"
   },
   {
    "duration": 26,
    "start_time": "2022-03-29T10:22:34.415Z"
   },
   {
    "duration": 51,
    "start_time": "2022-03-29T10:22:34.444Z"
   },
   {
    "duration": 20,
    "start_time": "2022-03-29T10:22:39.238Z"
   },
   {
    "duration": 18,
    "start_time": "2022-03-29T10:22:41.302Z"
   },
   {
    "duration": 216,
    "start_time": "2022-03-29T10:22:44.166Z"
   },
   {
    "duration": 53,
    "start_time": "2022-03-29T10:22:46.866Z"
   },
   {
    "duration": 1175,
    "start_time": "2022-03-29T10:22:48.852Z"
   },
   {
    "duration": 880,
    "start_time": "2022-03-29T10:22:51.676Z"
   },
   {
    "duration": 955,
    "start_time": "2022-03-29T10:22:55.357Z"
   },
   {
    "duration": 51,
    "start_time": "2022-03-29T10:22:58.342Z"
   },
   {
    "duration": 14,
    "start_time": "2022-03-29T10:23:05.247Z"
   },
   {
    "duration": 9,
    "start_time": "2022-03-29T10:23:06.156Z"
   },
   {
    "duration": 12,
    "start_time": "2022-03-29T10:23:11.397Z"
   },
   {
    "duration": 16,
    "start_time": "2022-03-29T10:23:15.976Z"
   },
   {
    "duration": 9,
    "start_time": "2022-03-29T10:23:17.819Z"
   },
   {
    "duration": 12,
    "start_time": "2022-03-29T10:23:21.164Z"
   },
   {
    "duration": 15,
    "start_time": "2022-03-29T10:23:23.829Z"
   },
   {
    "duration": 13,
    "start_time": "2022-03-29T10:23:25.686Z"
   },
   {
    "duration": 10,
    "start_time": "2022-03-29T10:23:26.758Z"
   },
   {
    "duration": 15,
    "start_time": "2022-03-29T10:23:30.853Z"
   },
   {
    "duration": 4,
    "start_time": "2022-03-29T10:23:40.317Z"
   },
   {
    "duration": 5,
    "start_time": "2022-03-29T10:23:53.056Z"
   },
   {
    "duration": 17,
    "start_time": "2022-03-29T10:24:01.286Z"
   },
   {
    "duration": 13,
    "start_time": "2022-03-29T10:24:09.239Z"
   },
   {
    "duration": 16,
    "start_time": "2022-03-29T10:24:13.197Z"
   },
   {
    "duration": 17,
    "start_time": "2022-03-29T10:24:19.800Z"
   },
   {
    "duration": 7,
    "start_time": "2022-03-29T10:24:23.450Z"
   },
   {
    "duration": 14,
    "start_time": "2022-03-29T10:24:25.533Z"
   },
   {
    "duration": 14,
    "start_time": "2022-03-29T10:24:27.016Z"
   },
   {
    "duration": 15,
    "start_time": "2022-03-29T10:24:28.076Z"
   },
   {
    "duration": 5,
    "start_time": "2022-03-29T10:26:56.263Z"
   },
   {
    "duration": 122,
    "start_time": "2022-03-29T10:26:56.988Z"
   },
   {
    "duration": 5,
    "start_time": "2022-03-29T10:27:06.168Z"
   },
   {
    "duration": 7,
    "start_time": "2022-03-29T10:27:07.417Z"
   },
   {
    "duration": 12,
    "start_time": "2022-03-29T10:27:08.207Z"
   },
   {
    "duration": 16,
    "start_time": "2022-03-29T10:27:10.560Z"
   },
   {
    "duration": 13,
    "start_time": "2022-03-29T10:27:11.359Z"
   },
   {
    "duration": 14,
    "start_time": "2022-03-29T10:27:12.158Z"
   },
   {
    "duration": 6,
    "start_time": "2022-03-29T10:27:13.342Z"
   },
   {
    "duration": 14,
    "start_time": "2022-03-29T10:27:15.527Z"
   },
   {
    "duration": 15,
    "start_time": "2022-03-29T10:27:18.103Z"
   },
   {
    "duration": 15,
    "start_time": "2022-03-29T10:27:18.927Z"
   },
   {
    "duration": 16,
    "start_time": "2022-03-29T11:01:55.293Z"
   },
   {
    "duration": 13,
    "start_time": "2022-03-29T11:01:56.258Z"
   },
   {
    "duration": 13,
    "start_time": "2022-03-29T11:01:57.028Z"
   },
   {
    "duration": 5,
    "start_time": "2022-03-29T11:02:24.624Z"
   },
   {
    "duration": 6,
    "start_time": "2022-03-29T11:03:40.373Z"
   },
   {
    "duration": 4,
    "start_time": "2022-03-29T11:04:15.142Z"
   },
   {
    "duration": 11,
    "start_time": "2022-03-29T11:04:54.261Z"
   },
   {
    "duration": 5,
    "start_time": "2022-03-29T11:08:30.823Z"
   },
   {
    "duration": 5,
    "start_time": "2022-03-29T11:09:09.116Z"
   },
   {
    "duration": 18,
    "start_time": "2022-03-29T11:13:41.382Z"
   },
   {
    "duration": 14,
    "start_time": "2022-03-29T11:15:08.610Z"
   },
   {
    "duration": 6,
    "start_time": "2022-03-29T11:15:56.175Z"
   },
   {
    "duration": 440,
    "start_time": "2022-03-29T11:15:56.451Z"
   },
   {
    "duration": 18,
    "start_time": "2022-03-29T11:15:56.894Z"
   },
   {
    "duration": 26,
    "start_time": "2022-03-29T11:15:56.940Z"
   },
   {
    "duration": 26,
    "start_time": "2022-03-29T11:15:57.173Z"
   },
   {
    "duration": 23,
    "start_time": "2022-03-29T11:15:57.886Z"
   },
   {
    "duration": 197,
    "start_time": "2022-03-29T11:15:59.141Z"
   },
   {
    "duration": 43,
    "start_time": "2022-03-29T11:15:59.772Z"
   },
   {
    "duration": 851,
    "start_time": "2022-03-29T11:16:00.454Z"
   },
   {
    "duration": 928,
    "start_time": "2022-03-29T11:16:01.308Z"
   },
   {
    "duration": 928,
    "start_time": "2022-03-29T11:16:02.239Z"
   },
   {
    "duration": 46,
    "start_time": "2022-03-29T11:16:03.170Z"
   },
   {
    "duration": 13,
    "start_time": "2022-03-29T11:16:05.365Z"
   },
   {
    "duration": 15,
    "start_time": "2022-03-29T11:16:06.137Z"
   },
   {
    "duration": 14,
    "start_time": "2022-03-29T11:16:06.781Z"
   },
   {
    "duration": 12,
    "start_time": "2022-03-29T11:16:07.542Z"
   },
   {
    "duration": 7,
    "start_time": "2022-03-29T11:16:08.368Z"
   },
   {
    "duration": 17,
    "start_time": "2022-03-29T11:16:09.078Z"
   },
   {
    "duration": 13,
    "start_time": "2022-03-29T11:16:09.692Z"
   },
   {
    "duration": 7,
    "start_time": "2022-03-29T11:16:10.327Z"
   },
   {
    "duration": 11,
    "start_time": "2022-03-29T11:16:10.903Z"
   },
   {
    "duration": 15,
    "start_time": "2022-03-29T11:16:11.572Z"
   },
   {
    "duration": 5,
    "start_time": "2022-03-29T11:16:13.558Z"
   },
   {
    "duration": 5,
    "start_time": "2022-03-29T11:16:15.101Z"
   },
   {
    "duration": 14,
    "start_time": "2022-03-29T11:16:16.478Z"
   },
   {
    "duration": 18,
    "start_time": "2022-03-29T11:16:19.330Z"
   },
   {
    "duration": 17,
    "start_time": "2022-03-29T11:16:20.064Z"
   },
   {
    "duration": 16,
    "start_time": "2022-03-29T11:16:20.822Z"
   },
   {
    "duration": 5,
    "start_time": "2022-03-29T11:16:21.702Z"
   },
   {
    "duration": 4,
    "start_time": "2022-03-29T11:16:22.822Z"
   },
   {
    "duration": 5,
    "start_time": "2022-03-29T11:16:23.751Z"
   },
   {
    "duration": 3,
    "start_time": "2022-03-29T11:16:24.423Z"
   },
   {
    "duration": 1702,
    "start_time": "2022-03-29T11:16:25.662Z"
   },
   {
    "duration": 244,
    "start_time": "2022-03-29T11:19:01.609Z"
   },
   {
    "duration": 1456,
    "start_time": "2022-03-29T12:48:28.070Z"
   },
   {
    "duration": 333,
    "start_time": "2022-03-29T12:48:29.528Z"
   },
   {
    "duration": 13,
    "start_time": "2022-03-29T12:48:29.863Z"
   },
   {
    "duration": 15,
    "start_time": "2022-03-29T12:48:30.051Z"
   },
   {
    "duration": 14,
    "start_time": "2022-03-29T12:48:30.785Z"
   },
   {
    "duration": 12,
    "start_time": "2022-03-29T12:48:31.481Z"
   },
   {
    "duration": 130,
    "start_time": "2022-03-29T12:48:32.832Z"
   },
   {
    "duration": 29,
    "start_time": "2022-03-29T12:48:33.458Z"
   },
   {
    "duration": 677,
    "start_time": "2022-03-29T12:48:34.810Z"
   },
   {
    "duration": 605,
    "start_time": "2022-03-29T12:48:36.537Z"
   },
   {
    "duration": 616,
    "start_time": "2022-03-29T12:48:38.583Z"
   },
   {
    "duration": 39,
    "start_time": "2022-03-29T12:48:40.421Z"
   },
   {
    "duration": 12,
    "start_time": "2022-03-29T12:48:43.235Z"
   },
   {
    "duration": 6,
    "start_time": "2022-03-29T12:48:44.121Z"
   },
   {
    "duration": 7,
    "start_time": "2022-03-29T12:48:45.752Z"
   },
   {
    "duration": 9,
    "start_time": "2022-03-29T12:48:46.601Z"
   },
   {
    "duration": 5,
    "start_time": "2022-03-29T12:48:47.382Z"
   },
   {
    "duration": 9,
    "start_time": "2022-03-29T12:48:48.290Z"
   },
   {
    "duration": 9,
    "start_time": "2022-03-29T12:48:49.114Z"
   },
   {
    "duration": 6,
    "start_time": "2022-03-29T12:48:49.935Z"
   },
   {
    "duration": 6,
    "start_time": "2022-03-29T12:48:50.569Z"
   },
   {
    "duration": 10,
    "start_time": "2022-03-29T12:48:51.369Z"
   },
   {
    "duration": 106,
    "start_time": "2022-03-29T12:48:53.913Z"
   },
   {
    "duration": 10,
    "start_time": "2022-03-29T12:49:08.800Z"
   },
   {
    "duration": 3,
    "start_time": "2022-03-29T12:49:27.778Z"
   },
   {
    "duration": 4,
    "start_time": "2022-03-29T12:49:30.525Z"
   },
   {
    "duration": 7,
    "start_time": "2022-03-29T12:49:32.149Z"
   },
   {
    "duration": 12,
    "start_time": "2022-03-29T12:49:36.057Z"
   },
   {
    "duration": 11,
    "start_time": "2022-03-29T12:49:39.185Z"
   },
   {
    "duration": 11,
    "start_time": "2022-03-29T12:49:40.819Z"
   },
   {
    "duration": 3,
    "start_time": "2022-03-29T12:49:41.866Z"
   },
   {
    "duration": 2,
    "start_time": "2022-03-29T12:49:43.009Z"
   },
   {
    "duration": 3,
    "start_time": "2022-03-29T12:49:44.183Z"
   },
   {
    "duration": 3,
    "start_time": "2022-03-29T12:49:45.348Z"
   },
   {
    "duration": 15,
    "start_time": "2022-03-29T12:49:47.593Z"
   },
   {
    "duration": 5298,
    "start_time": "2022-03-29T12:50:01.755Z"
   },
   {
    "duration": 5304,
    "start_time": "2022-03-29T12:50:32.203Z"
   },
   {
    "duration": 5204,
    "start_time": "2022-03-29T12:51:34.182Z"
   },
   {
    "duration": 5315,
    "start_time": "2022-03-29T12:52:01.642Z"
   },
   {
    "duration": 5440,
    "start_time": "2022-03-29T12:53:03.012Z"
   },
   {
    "duration": 5,
    "start_time": "2022-03-29T12:54:12.433Z"
   },
   {
    "duration": 4,
    "start_time": "2022-03-29T12:54:38.458Z"
   },
   {
    "duration": 5,
    "start_time": "2022-03-29T12:55:04.139Z"
   },
   {
    "duration": 7,
    "start_time": "2022-03-29T12:55:43.346Z"
   },
   {
    "duration": 5,
    "start_time": "2022-03-29T12:55:57.990Z"
   },
   {
    "duration": 4,
    "start_time": "2022-03-29T12:57:28.186Z"
   },
   {
    "duration": 5,
    "start_time": "2022-03-29T12:58:54.980Z"
   },
   {
    "duration": 6,
    "start_time": "2022-03-29T12:59:06.124Z"
   },
   {
    "duration": 5,
    "start_time": "2022-03-29T12:59:12.856Z"
   },
   {
    "duration": 4,
    "start_time": "2022-03-29T12:59:24.121Z"
   },
   {
    "duration": 5,
    "start_time": "2022-03-29T12:59:31.590Z"
   },
   {
    "duration": 3,
    "start_time": "2022-03-29T13:01:16.789Z"
   },
   {
    "duration": 12,
    "start_time": "2022-03-29T13:01:54.405Z"
   },
   {
    "duration": 5,
    "start_time": "2022-03-29T13:02:10.830Z"
   },
   {
    "duration": 3,
    "start_time": "2022-03-29T13:02:29.182Z"
   },
   {
    "duration": 9,
    "start_time": "2022-03-29T13:03:26.440Z"
   },
   {
    "duration": 6,
    "start_time": "2022-03-29T13:04:30.530Z"
   },
   {
    "duration": 4,
    "start_time": "2022-03-29T13:04:52.865Z"
   },
   {
    "duration": 4,
    "start_time": "2022-03-29T13:05:42.193Z"
   },
   {
    "duration": 4,
    "start_time": "2022-03-29T13:31:06.945Z"
   },
   {
    "duration": 4,
    "start_time": "2022-03-29T13:31:13.858Z"
   },
   {
    "duration": 6,
    "start_time": "2022-03-29T13:32:14.110Z"
   },
   {
    "duration": 6,
    "start_time": "2022-03-29T13:33:02.754Z"
   },
   {
    "duration": 6,
    "start_time": "2022-03-29T13:33:08.087Z"
   },
   {
    "duration": 4,
    "start_time": "2022-03-29T13:33:48.139Z"
   },
   {
    "duration": 11,
    "start_time": "2022-03-29T13:34:44.430Z"
   },
   {
    "duration": 11,
    "start_time": "2022-03-29T13:35:46.708Z"
   },
   {
    "duration": 3,
    "start_time": "2022-03-29T13:37:23.571Z"
   },
   {
    "duration": 4,
    "start_time": "2022-03-29T13:37:34.242Z"
   },
   {
    "duration": 4,
    "start_time": "2022-03-29T13:37:54.547Z"
   },
   {
    "duration": 6,
    "start_time": "2022-03-29T13:37:55.732Z"
   },
   {
    "duration": 4,
    "start_time": "2022-03-29T13:37:56.764Z"
   },
   {
    "duration": 4,
    "start_time": "2022-03-29T13:37:57.836Z"
   },
   {
    "duration": 4,
    "start_time": "2022-03-29T13:38:01.006Z"
   },
   {
    "duration": 6,
    "start_time": "2022-03-29T13:38:02.966Z"
   },
   {
    "duration": 6,
    "start_time": "2022-03-29T13:38:04.845Z"
   },
   {
    "duration": 5,
    "start_time": "2022-03-29T13:38:06.269Z"
   },
   {
    "duration": 4,
    "start_time": "2022-03-29T13:38:07.234Z"
   },
   {
    "duration": 5,
    "start_time": "2022-03-29T13:38:12.676Z"
   },
   {
    "duration": 5,
    "start_time": "2022-03-29T13:38:22.187Z"
   },
   {
    "duration": 8,
    "start_time": "2022-03-29T13:38:41.498Z"
   },
   {
    "duration": 53,
    "start_time": "2022-03-29T14:59:00.715Z"
   },
   {
    "duration": 1840,
    "start_time": "2022-03-29T14:59:14.402Z"
   },
   {
    "duration": 399,
    "start_time": "2022-03-29T14:59:16.244Z"
   },
   {
    "duration": 15,
    "start_time": "2022-03-29T14:59:16.645Z"
   },
   {
    "duration": 18,
    "start_time": "2022-03-29T14:59:19.207Z"
   },
   {
    "duration": 15,
    "start_time": "2022-03-29T14:59:21.041Z"
   },
   {
    "duration": 24,
    "start_time": "2022-03-29T14:59:22.004Z"
   },
   {
    "duration": 144,
    "start_time": "2022-03-29T14:59:23.871Z"
   },
   {
    "duration": 33,
    "start_time": "2022-03-29T14:59:25.646Z"
   },
   {
    "duration": 720,
    "start_time": "2022-03-29T14:59:26.839Z"
   },
   {
    "duration": 685,
    "start_time": "2022-03-29T14:59:27.838Z"
   },
   {
    "duration": 712,
    "start_time": "2022-03-29T14:59:29.542Z"
   },
   {
    "duration": 44,
    "start_time": "2022-03-29T14:59:31.094Z"
   },
   {
    "duration": 13,
    "start_time": "2022-03-29T14:59:34.425Z"
   },
   {
    "duration": 6,
    "start_time": "2022-03-29T14:59:35.143Z"
   },
   {
    "duration": 9,
    "start_time": "2022-03-29T14:59:36.198Z"
   },
   {
    "duration": 13,
    "start_time": "2022-03-29T14:59:37.384Z"
   },
   {
    "duration": 18,
    "start_time": "2022-03-29T14:59:42.040Z"
   },
   {
    "duration": 10,
    "start_time": "2022-03-29T14:59:43.214Z"
   },
   {
    "duration": 10,
    "start_time": "2022-03-29T14:59:44.255Z"
   },
   {
    "duration": 13,
    "start_time": "2022-03-29T14:59:45.799Z"
   },
   {
    "duration": 11,
    "start_time": "2022-03-29T14:59:46.517Z"
   },
   {
    "duration": 11,
    "start_time": "2022-03-29T14:59:47.839Z"
   },
   {
    "duration": 3,
    "start_time": "2022-03-29T14:59:52.723Z"
   },
   {
    "duration": 5,
    "start_time": "2022-03-29T14:59:54.790Z"
   },
   {
    "duration": 13,
    "start_time": "2022-03-29T14:59:57.320Z"
   },
   {
    "duration": 20,
    "start_time": "2022-03-29T15:00:02.710Z"
   },
   {
    "duration": 13,
    "start_time": "2022-03-29T15:00:29.056Z"
   },
   {
    "duration": 11,
    "start_time": "2022-03-29T15:01:28.280Z"
   },
   {
    "duration": 12,
    "start_time": "2022-03-29T15:01:32.211Z"
   },
   {
    "duration": 13,
    "start_time": "2022-03-29T15:01:58.608Z"
   },
   {
    "duration": 13,
    "start_time": "2022-03-29T15:02:03.496Z"
   },
   {
    "duration": 13,
    "start_time": "2022-03-29T15:02:04.863Z"
   },
   {
    "duration": 4,
    "start_time": "2022-03-29T15:02:11.335Z"
   },
   {
    "duration": 3,
    "start_time": "2022-03-29T15:02:14.723Z"
   },
   {
    "duration": 3,
    "start_time": "2022-03-29T15:02:15.807Z"
   },
   {
    "duration": 3,
    "start_time": "2022-03-29T15:02:16.496Z"
   },
   {
    "duration": 5790,
    "start_time": "2022-03-29T15:03:48.953Z"
   },
   {
    "duration": 5,
    "start_time": "2022-03-29T15:03:54.745Z"
   },
   {
    "duration": 4,
    "start_time": "2022-03-29T15:03:57.209Z"
   },
   {
    "duration": 5,
    "start_time": "2022-03-29T15:04:10.697Z"
   },
   {
    "duration": 78,
    "start_time": "2022-03-29T15:04:15.553Z"
   },
   {
    "duration": 12,
    "start_time": "2022-03-29T15:04:44.368Z"
   },
   {
    "duration": 5705,
    "start_time": "2022-03-29T15:04:47.948Z"
   },
   {
    "duration": 5,
    "start_time": "2022-03-29T15:04:53.655Z"
   },
   {
    "duration": 13,
    "start_time": "2022-03-29T15:04:53.662Z"
   },
   {
    "duration": 9,
    "start_time": "2022-03-29T15:04:53.678Z"
   },
   {
    "duration": 4,
    "start_time": "2022-03-29T15:04:59.754Z"
   },
   {
    "duration": 389,
    "start_time": "2022-03-29T15:05:00.315Z"
   },
   {
    "duration": 10,
    "start_time": "2022-03-29T15:05:00.964Z"
   },
   {
    "duration": 15,
    "start_time": "2022-03-29T15:05:02.337Z"
   },
   {
    "duration": 15,
    "start_time": "2022-03-29T15:05:03.473Z"
   },
   {
    "duration": 15,
    "start_time": "2022-03-29T15:05:04.401Z"
   },
   {
    "duration": 135,
    "start_time": "2022-03-29T15:05:05.974Z"
   },
   {
    "duration": 31,
    "start_time": "2022-03-29T15:05:06.983Z"
   },
   {
    "duration": 624,
    "start_time": "2022-03-29T15:05:08.000Z"
   },
   {
    "duration": 716,
    "start_time": "2022-03-29T15:05:08.920Z"
   },
   {
    "duration": 628,
    "start_time": "2022-03-29T15:05:10.711Z"
   },
   {
    "duration": 30,
    "start_time": "2022-03-29T15:05:12.280Z"
   },
   {
    "duration": 10,
    "start_time": "2022-03-29T15:05:14.880Z"
   },
   {
    "duration": 5,
    "start_time": "2022-03-29T15:05:15.481Z"
   },
   {
    "duration": 7,
    "start_time": "2022-03-29T15:05:16.123Z"
   },
   {
    "duration": 10,
    "start_time": "2022-03-29T15:05:16.814Z"
   },
   {
    "duration": 6,
    "start_time": "2022-03-29T15:05:17.792Z"
   },
   {
    "duration": 8,
    "start_time": "2022-03-29T15:05:18.578Z"
   },
   {
    "duration": 10,
    "start_time": "2022-03-29T15:05:19.399Z"
   },
   {
    "duration": 9,
    "start_time": "2022-03-29T15:05:20.159Z"
   },
   {
    "duration": 7,
    "start_time": "2022-03-29T15:05:20.951Z"
   },
   {
    "duration": 12,
    "start_time": "2022-03-29T15:05:21.880Z"
   },
   {
    "duration": 4,
    "start_time": "2022-03-29T15:05:25.896Z"
   },
   {
    "duration": 4,
    "start_time": "2022-03-29T15:05:27.575Z"
   },
   {
    "duration": 9,
    "start_time": "2022-03-29T15:05:29.200Z"
   },
   {
    "duration": 12,
    "start_time": "2022-03-29T15:05:37.096Z"
   },
   {
    "duration": 12,
    "start_time": "2022-03-29T15:05:43.856Z"
   },
   {
    "duration": 12,
    "start_time": "2022-03-29T15:05:46.395Z"
   },
   {
    "duration": 3,
    "start_time": "2022-03-29T15:05:48.320Z"
   },
   {
    "duration": 4,
    "start_time": "2022-03-29T15:05:50.528Z"
   },
   {
    "duration": 3,
    "start_time": "2022-03-29T15:05:51.335Z"
   },
   {
    "duration": 3,
    "start_time": "2022-03-29T15:05:52.175Z"
   },
   {
    "duration": 5714,
    "start_time": "2022-03-29T15:05:54.752Z"
   },
   {
    "duration": 5,
    "start_time": "2022-03-29T15:06:00.468Z"
   },
   {
    "duration": 18,
    "start_time": "2022-03-29T15:06:00.474Z"
   },
   {
    "duration": 6,
    "start_time": "2022-03-29T15:06:04.572Z"
   },
   {
    "duration": 12,
    "start_time": "2022-03-29T15:06:07.760Z"
   },
   {
    "duration": 7,
    "start_time": "2022-03-29T15:06:31.257Z"
   },
   {
    "duration": 4,
    "start_time": "2022-03-29T15:06:35.045Z"
   },
   {
    "duration": 4,
    "start_time": "2022-03-29T15:06:36.990Z"
   },
   {
    "duration": 4,
    "start_time": "2022-03-29T15:06:42.905Z"
   },
   {
    "duration": 6,
    "start_time": "2022-03-29T15:06:45.648Z"
   },
   {
    "duration": 7,
    "start_time": "2022-03-29T15:06:48.860Z"
   },
   {
    "duration": 4,
    "start_time": "2022-03-29T15:06:52.483Z"
   },
   {
    "duration": 4,
    "start_time": "2022-03-29T15:06:54.570Z"
   },
   {
    "duration": 4,
    "start_time": "2022-03-29T15:06:57.293Z"
   },
   {
    "duration": 6,
    "start_time": "2022-03-29T15:06:58.962Z"
   },
   {
    "duration": 7,
    "start_time": "2022-03-29T15:07:02.329Z"
   },
   {
    "duration": 3,
    "start_time": "2022-03-29T15:07:03.602Z"
   },
   {
    "duration": 4,
    "start_time": "2022-03-29T15:07:05.066Z"
   },
   {
    "duration": 5,
    "start_time": "2022-03-29T15:07:07.458Z"
   },
   {
    "duration": 1694,
    "start_time": "2022-03-30T12:04:42.371Z"
   },
   {
    "duration": 381,
    "start_time": "2022-03-30T12:04:44.068Z"
   },
   {
    "duration": 17,
    "start_time": "2022-03-30T12:04:44.451Z"
   },
   {
    "duration": 22,
    "start_time": "2022-03-30T12:04:44.470Z"
   },
   {
    "duration": 16,
    "start_time": "2022-03-30T12:04:44.495Z"
   },
   {
    "duration": 42,
    "start_time": "2022-03-30T12:04:44.513Z"
   },
   {
    "duration": 174,
    "start_time": "2022-03-30T12:04:44.557Z"
   },
   {
    "duration": 36,
    "start_time": "2022-03-30T12:04:44.738Z"
   },
   {
    "duration": 772,
    "start_time": "2022-03-30T12:04:44.777Z"
   },
   {
    "duration": 1020,
    "start_time": "2022-03-30T12:04:45.551Z"
   },
   {
    "duration": 1085,
    "start_time": "2022-03-30T12:04:46.573Z"
   },
   {
    "duration": 43,
    "start_time": "2022-03-30T12:04:47.660Z"
   },
   {
    "duration": 13,
    "start_time": "2022-03-30T12:04:47.737Z"
   },
   {
    "duration": 85,
    "start_time": "2022-03-30T12:04:47.754Z"
   },
   {
    "duration": 107,
    "start_time": "2022-03-30T12:04:47.841Z"
   },
   {
    "duration": 9,
    "start_time": "2022-03-30T12:04:50.757Z"
   },
   {
    "duration": 5,
    "start_time": "2022-03-30T12:13:27.130Z"
   },
   {
    "duration": 3,
    "start_time": "2022-03-30T12:17:53.321Z"
   },
   {
    "duration": 7,
    "start_time": "2022-03-30T12:17:58.910Z"
   },
   {
    "duration": 6,
    "start_time": "2022-03-30T12:18:12.909Z"
   },
   {
    "duration": 73,
    "start_time": "2022-03-31T04:20:11.653Z"
   },
   {
    "duration": 2274,
    "start_time": "2022-03-31T04:20:27.289Z"
   },
   {
    "duration": 426,
    "start_time": "2022-03-31T04:20:29.565Z"
   },
   {
    "duration": 20,
    "start_time": "2022-03-31T04:20:29.994Z"
   },
   {
    "duration": 38,
    "start_time": "2022-03-31T04:20:30.016Z"
   },
   {
    "duration": 19,
    "start_time": "2022-03-31T04:20:30.056Z"
   },
   {
    "duration": 20,
    "start_time": "2022-03-31T04:20:30.593Z"
   },
   {
    "duration": 192,
    "start_time": "2022-03-31T04:20:31.956Z"
   },
   {
    "duration": 41,
    "start_time": "2022-03-31T04:20:33.393Z"
   },
   {
    "duration": 822,
    "start_time": "2022-03-31T04:20:35.114Z"
   },
   {
    "duration": 779,
    "start_time": "2022-03-31T04:20:35.964Z"
   },
   {
    "duration": 780,
    "start_time": "2022-03-31T04:20:36.916Z"
   },
   {
    "duration": 50,
    "start_time": "2022-03-31T04:20:38.290Z"
   },
   {
    "duration": 113,
    "start_time": "2022-03-31T04:20:42.570Z"
   },
   {
    "duration": 16,
    "start_time": "2022-03-31T04:21:23.009Z"
   },
   {
    "duration": 6,
    "start_time": "2022-03-31T04:22:02.418Z"
   },
   {
    "duration": 9,
    "start_time": "2022-03-31T04:22:03.595Z"
   },
   {
    "duration": 20,
    "start_time": "2022-03-31T04:22:07.638Z"
   },
   {
    "duration": 13,
    "start_time": "2022-03-31T04:22:35.116Z"
   },
   {
    "duration": 7,
    "start_time": "2022-03-31T04:22:38.042Z"
   },
   {
    "duration": 11,
    "start_time": "2022-03-31T04:22:39.781Z"
   },
   {
    "duration": 14,
    "start_time": "2022-03-31T04:24:00.123Z"
   },
   {
    "duration": 20,
    "start_time": "2022-03-31T04:24:09.090Z"
   },
   {
    "duration": 10,
    "start_time": "2022-03-31T04:24:09.883Z"
   },
   {
    "duration": 20,
    "start_time": "2022-03-31T04:24:10.732Z"
   },
   {
    "duration": 13,
    "start_time": "2022-03-31T04:24:40.204Z"
   },
   {
    "duration": 8,
    "start_time": "2022-03-31T04:24:42.530Z"
   },
   {
    "duration": 10,
    "start_time": "2022-03-31T04:24:45.472Z"
   },
   {
    "duration": 14,
    "start_time": "2022-03-31T04:24:49.323Z"
   },
   {
    "duration": 9,
    "start_time": "2022-03-31T04:26:20.691Z"
   },
   {
    "duration": 13,
    "start_time": "2022-03-31T04:44:07.261Z"
   },
   {
    "duration": 14,
    "start_time": "2022-03-31T04:44:22.608Z"
   },
   {
    "duration": 12,
    "start_time": "2022-03-31T04:44:25.821Z"
   },
   {
    "duration": 5,
    "start_time": "2022-03-31T04:44:49.605Z"
   },
   {
    "duration": 12,
    "start_time": "2022-03-31T04:45:57.962Z"
   },
   {
    "duration": 5,
    "start_time": "2022-03-31T04:47:33.211Z"
   },
   {
    "duration": 5,
    "start_time": "2022-03-31T04:47:59.772Z"
   },
   {
    "duration": 14,
    "start_time": "2022-03-31T04:48:34.115Z"
   },
   {
    "duration": 14,
    "start_time": "2022-03-31T04:48:52.022Z"
   },
   {
    "duration": 5,
    "start_time": "2022-03-31T04:58:05.019Z"
   },
   {
    "duration": 11,
    "start_time": "2022-03-31T04:58:26.105Z"
   },
   {
    "duration": 28,
    "start_time": "2022-03-31T05:00:57.093Z"
   },
   {
    "duration": 4,
    "start_time": "2022-03-31T05:03:51.367Z"
   },
   {
    "duration": 17,
    "start_time": "2022-03-31T05:03:56.663Z"
   },
   {
    "duration": 4,
    "start_time": "2022-03-31T05:04:46.963Z"
   },
   {
    "duration": 16,
    "start_time": "2022-03-31T05:04:54.603Z"
   },
   {
    "duration": 39,
    "start_time": "2022-03-31T05:05:11.254Z"
   },
   {
    "duration": 5,
    "start_time": "2022-03-31T05:05:14.302Z"
   },
   {
    "duration": 16,
    "start_time": "2022-03-31T05:05:16.611Z"
   },
   {
    "duration": 6,
    "start_time": "2022-03-31T05:07:05.588Z"
   },
   {
    "duration": 416,
    "start_time": "2022-03-31T05:07:06.188Z"
   },
   {
    "duration": 14,
    "start_time": "2022-03-31T05:07:06.725Z"
   },
   {
    "duration": 19,
    "start_time": "2022-03-31T05:07:07.702Z"
   },
   {
    "duration": 20,
    "start_time": "2022-03-31T05:07:08.745Z"
   },
   {
    "duration": 21,
    "start_time": "2022-03-31T05:07:09.438Z"
   },
   {
    "duration": 194,
    "start_time": "2022-03-31T05:07:11.596Z"
   },
   {
    "duration": 40,
    "start_time": "2022-03-31T05:07:13.342Z"
   },
   {
    "duration": 830,
    "start_time": "2022-03-31T05:07:15.300Z"
   },
   {
    "duration": 880,
    "start_time": "2022-03-31T05:07:16.180Z"
   },
   {
    "duration": 914,
    "start_time": "2022-03-31T05:07:17.892Z"
   },
   {
    "duration": 37,
    "start_time": "2022-03-31T05:07:20.376Z"
   },
   {
    "duration": 5,
    "start_time": "2022-03-31T05:07:24.419Z"
   },
   {
    "duration": 18,
    "start_time": "2022-03-31T05:07:30.531Z"
   },
   {
    "duration": 5,
    "start_time": "2022-03-31T05:09:25.187Z"
   },
   {
    "duration": 4,
    "start_time": "2022-03-31T05:09:33.960Z"
   },
   {
    "duration": 17,
    "start_time": "2022-03-31T05:09:40.454Z"
   },
   {
    "duration": 25,
    "start_time": "2022-03-31T05:12:54.167Z"
   },
   {
    "duration": 3,
    "start_time": "2022-03-31T05:20:25.759Z"
   },
   {
    "duration": 23,
    "start_time": "2022-03-31T05:20:26.509Z"
   },
   {
    "duration": 25,
    "start_time": "2022-03-31T05:21:01.527Z"
   },
   {
    "duration": 37,
    "start_time": "2022-03-31T05:21:20.306Z"
   },
   {
    "duration": 11,
    "start_time": "2022-03-31T05:24:02.759Z"
   },
   {
    "duration": 23,
    "start_time": "2022-03-31T05:24:06.537Z"
   },
   {
    "duration": 74,
    "start_time": "2022-03-31T05:27:50.872Z"
   },
   {
    "duration": 6,
    "start_time": "2022-03-31T05:28:04.478Z"
   },
   {
    "duration": 6,
    "start_time": "2022-03-31T05:28:48.463Z"
   },
   {
    "duration": 10,
    "start_time": "2022-03-31T05:29:29.546Z"
   },
   {
    "duration": 12,
    "start_time": "2022-03-31T05:29:36.385Z"
   },
   {
    "duration": 10,
    "start_time": "2022-03-31T05:29:48.281Z"
   },
   {
    "duration": 9,
    "start_time": "2022-03-31T05:29:57.769Z"
   },
   {
    "duration": 14,
    "start_time": "2022-03-31T05:30:00.845Z"
   },
   {
    "duration": 869,
    "start_time": "2022-03-31T06:22:23.354Z"
   },
   {
    "duration": 5,
    "start_time": "2022-03-31T06:22:24.532Z"
   },
   {
    "duration": 10,
    "start_time": "2022-03-31T06:22:42.989Z"
   },
   {
    "duration": 10,
    "start_time": "2022-03-31T06:22:51.195Z"
   },
   {
    "duration": 11,
    "start_time": "2022-03-31T06:22:54.265Z"
   },
   {
    "duration": 14,
    "start_time": "2022-03-31T06:22:55.122Z"
   },
   {
    "duration": 5,
    "start_time": "2022-03-31T06:23:00.266Z"
   },
   {
    "duration": 4,
    "start_time": "2022-03-31T06:23:06.088Z"
   },
   {
    "duration": 13,
    "start_time": "2022-03-31T06:23:09.307Z"
   },
   {
    "duration": 13,
    "start_time": "2022-03-31T06:23:53.332Z"
   },
   {
    "duration": 6,
    "start_time": "2022-03-31T06:24:30.708Z"
   },
   {
    "duration": 418,
    "start_time": "2022-03-31T06:24:31.521Z"
   },
   {
    "duration": 15,
    "start_time": "2022-03-31T06:24:32.141Z"
   },
   {
    "duration": 23,
    "start_time": "2022-03-31T06:24:32.811Z"
   },
   {
    "duration": 21,
    "start_time": "2022-03-31T06:24:33.420Z"
   },
   {
    "duration": 23,
    "start_time": "2022-03-31T06:24:34.089Z"
   },
   {
    "duration": 205,
    "start_time": "2022-03-31T06:24:35.275Z"
   },
   {
    "duration": 37,
    "start_time": "2022-03-31T06:24:36.491Z"
   },
   {
    "duration": 813,
    "start_time": "2022-03-31T06:24:37.681Z"
   },
   {
    "duration": 782,
    "start_time": "2022-03-31T06:24:38.497Z"
   },
   {
    "duration": 813,
    "start_time": "2022-03-31T06:24:39.282Z"
   },
   {
    "duration": 6,
    "start_time": "2022-03-31T06:24:40.098Z"
   },
   {
    "duration": 11,
    "start_time": "2022-03-31T06:24:46.378Z"
   },
   {
    "duration": 10,
    "start_time": "2022-03-31T06:24:50.538Z"
   },
   {
    "duration": 9,
    "start_time": "2022-03-31T06:24:52.060Z"
   },
   {
    "duration": 14,
    "start_time": "2022-03-31T06:24:52.965Z"
   },
   {
    "duration": 5,
    "start_time": "2022-03-31T06:24:57.443Z"
   },
   {
    "duration": 5,
    "start_time": "2022-03-31T06:25:00.879Z"
   },
   {
    "duration": 13,
    "start_time": "2022-03-31T06:25:02.914Z"
   },
   {
    "duration": 13,
    "start_time": "2022-03-31T06:26:06.867Z"
   },
   {
    "duration": 7,
    "start_time": "2022-03-31T06:26:38.616Z"
   },
   {
    "duration": 6,
    "start_time": "2022-03-31T06:27:13.724Z"
   },
   {
    "duration": 15,
    "start_time": "2022-03-31T06:27:24.724Z"
   },
   {
    "duration": 6,
    "start_time": "2022-03-31T06:27:35.004Z"
   },
   {
    "duration": 16,
    "start_time": "2022-03-31T06:27:47.886Z"
   },
   {
    "duration": 6,
    "start_time": "2022-03-31T06:29:06.005Z"
   },
   {
    "duration": 10,
    "start_time": "2022-03-31T06:29:22.156Z"
   },
   {
    "duration": 7,
    "start_time": "2022-03-31T06:30:12.675Z"
   },
   {
    "duration": 10,
    "start_time": "2022-03-31T06:30:21.723Z"
   },
   {
    "duration": 10,
    "start_time": "2022-03-31T06:30:34.364Z"
   },
   {
    "duration": 11,
    "start_time": "2022-03-31T06:30:38.606Z"
   },
   {
    "duration": 14,
    "start_time": "2022-03-31T06:30:40.749Z"
   },
   {
    "duration": 6,
    "start_time": "2022-03-31T06:31:14.806Z"
   },
   {
    "duration": 10,
    "start_time": "2022-03-31T06:31:20.163Z"
   },
   {
    "duration": 10,
    "start_time": "2022-03-31T06:31:27.501Z"
   },
   {
    "duration": 11,
    "start_time": "2022-03-31T06:31:30.844Z"
   },
   {
    "duration": 15,
    "start_time": "2022-03-31T06:31:31.894Z"
   },
   {
    "duration": 5,
    "start_time": "2022-03-31T06:31:35.773Z"
   },
   {
    "duration": 5,
    "start_time": "2022-03-31T06:31:47.942Z"
   },
   {
    "duration": 15,
    "start_time": "2022-03-31T06:31:53.972Z"
   },
   {
    "duration": 14,
    "start_time": "2022-03-31T06:32:09.958Z"
   },
   {
    "duration": 6,
    "start_time": "2022-03-31T06:44:42.667Z"
   },
   {
    "duration": 430,
    "start_time": "2022-03-31T06:44:43.293Z"
   },
   {
    "duration": 14,
    "start_time": "2022-03-31T06:44:43.920Z"
   },
   {
    "duration": 20,
    "start_time": "2022-03-31T06:44:44.593Z"
   },
   {
    "duration": 21,
    "start_time": "2022-03-31T06:44:45.321Z"
   },
   {
    "duration": 20,
    "start_time": "2022-03-31T06:44:46.019Z"
   },
   {
    "duration": 195,
    "start_time": "2022-03-31T06:44:47.882Z"
   },
   {
    "duration": 40,
    "start_time": "2022-03-31T06:44:51.381Z"
   },
   {
    "duration": 820,
    "start_time": "2022-03-31T06:44:53.276Z"
   },
   {
    "duration": 748,
    "start_time": "2022-03-31T06:44:55.603Z"
   },
   {
    "duration": 841,
    "start_time": "2022-03-31T06:44:58.252Z"
   },
   {
    "duration": 6,
    "start_time": "2022-03-31T06:45:09.611Z"
   },
   {
    "duration": 12,
    "start_time": "2022-03-31T06:45:25.779Z"
   },
   {
    "duration": 11,
    "start_time": "2022-03-31T06:45:29.881Z"
   },
   {
    "duration": 11,
    "start_time": "2022-03-31T06:45:32.850Z"
   },
   {
    "duration": 15,
    "start_time": "2022-03-31T06:45:34.202Z"
   },
   {
    "duration": 4,
    "start_time": "2022-03-31T06:46:01.722Z"
   },
   {
    "duration": 5,
    "start_time": "2022-03-31T06:46:06.214Z"
   },
   {
    "duration": 14,
    "start_time": "2022-03-31T06:46:12.323Z"
   },
   {
    "duration": 246,
    "start_time": "2022-03-31T06:50:42.877Z"
   },
   {
    "duration": 206,
    "start_time": "2022-03-31T06:50:59.335Z"
   },
   {
    "duration": 215,
    "start_time": "2022-03-31T06:51:20.375Z"
   },
   {
    "duration": 15,
    "start_time": "2022-03-31T06:52:06.236Z"
   },
   {
    "duration": 7,
    "start_time": "2022-03-31T06:52:47.415Z"
   },
   {
    "duration": 222,
    "start_time": "2022-03-31T06:53:49.775Z"
   },
   {
    "duration": 13,
    "start_time": "2022-03-31T06:54:04.764Z"
   },
   {
    "duration": 7,
    "start_time": "2022-03-31T06:54:20.689Z"
   },
   {
    "duration": 6,
    "start_time": "2022-03-31T06:55:19.706Z"
   },
   {
    "duration": 11,
    "start_time": "2022-03-31T06:57:29.455Z"
   },
   {
    "duration": 11,
    "start_time": "2022-03-31T06:59:27.941Z"
   },
   {
    "duration": 14,
    "start_time": "2022-03-31T07:02:29.248Z"
   },
   {
    "duration": 298,
    "start_time": "2022-03-31T07:05:38.554Z"
   },
   {
    "duration": 13,
    "start_time": "2022-03-31T07:06:17.718Z"
   },
   {
    "duration": 6,
    "start_time": "2022-03-31T07:06:44.468Z"
   },
   {
    "duration": 12,
    "start_time": "2022-03-31T07:12:27.678Z"
   },
   {
    "duration": 13,
    "start_time": "2022-03-31T07:13:26.464Z"
   },
   {
    "duration": 9,
    "start_time": "2022-03-31T07:13:44.085Z"
   },
   {
    "duration": 9,
    "start_time": "2022-03-31T07:14:10.016Z"
   },
   {
    "duration": 9,
    "start_time": "2022-03-31T07:14:26.360Z"
   },
   {
    "duration": 4,
    "start_time": "2022-03-31T07:15:38.162Z"
   },
   {
    "duration": 10,
    "start_time": "2022-03-31T07:15:41.623Z"
   },
   {
    "duration": 12,
    "start_time": "2022-03-31T07:15:44.348Z"
   },
   {
    "duration": 12,
    "start_time": "2022-03-31T07:17:30.792Z"
   },
   {
    "duration": 10,
    "start_time": "2022-03-31T07:17:33.212Z"
   },
   {
    "duration": 10,
    "start_time": "2022-03-31T07:17:35.072Z"
   },
   {
    "duration": 229,
    "start_time": "2022-03-31T07:27:15.527Z"
   },
   {
    "duration": 10,
    "start_time": "2022-03-31T07:27:22.196Z"
   },
   {
    "duration": 10,
    "start_time": "2022-03-31T07:27:35.162Z"
   },
   {
    "duration": 9,
    "start_time": "2022-03-31T07:27:37.615Z"
   },
   {
    "duration": 10,
    "start_time": "2022-03-31T07:27:40.266Z"
   },
   {
    "duration": 14,
    "start_time": "2022-03-31T07:27:41.911Z"
   },
   {
    "duration": 5,
    "start_time": "2022-03-31T07:27:51.506Z"
   },
   {
    "duration": 4,
    "start_time": "2022-03-31T07:27:54.347Z"
   },
   {
    "duration": 8,
    "start_time": "2022-03-31T07:27:55.537Z"
   },
   {
    "duration": 10,
    "start_time": "2022-03-31T07:27:58.026Z"
   },
   {
    "duration": 276,
    "start_time": "2022-03-31T07:34:24.985Z"
   },
   {
    "duration": 8,
    "start_time": "2022-03-31T07:38:23.230Z"
   },
   {
    "duration": 10,
    "start_time": "2022-03-31T07:38:52.976Z"
   },
   {
    "duration": 11,
    "start_time": "2022-03-31T07:41:35.052Z"
   },
   {
    "duration": 12,
    "start_time": "2022-03-31T07:42:22.498Z"
   },
   {
    "duration": 17,
    "start_time": "2022-03-31T07:42:52.251Z"
   },
   {
    "duration": 13,
    "start_time": "2022-03-31T07:43:16.647Z"
   },
   {
    "duration": 21,
    "start_time": "2022-03-31T07:49:31.491Z"
   },
   {
    "duration": 20,
    "start_time": "2022-03-31T07:50:04.480Z"
   },
   {
    "duration": 7,
    "start_time": "2022-03-31T07:53:24.480Z"
   },
   {
    "duration": 17,
    "start_time": "2022-03-31T07:54:38.541Z"
   },
   {
    "duration": 7,
    "start_time": "2022-03-31T07:54:56.556Z"
   },
   {
    "duration": 438,
    "start_time": "2022-03-31T07:54:57.324Z"
   },
   {
    "duration": 14,
    "start_time": "2022-03-31T07:54:58.106Z"
   },
   {
    "duration": 21,
    "start_time": "2022-03-31T07:54:58.747Z"
   },
   {
    "duration": 22,
    "start_time": "2022-03-31T07:54:59.475Z"
   },
   {
    "duration": 20,
    "start_time": "2022-03-31T07:55:00.166Z"
   },
   {
    "duration": 208,
    "start_time": "2022-03-31T07:55:01.619Z"
   },
   {
    "duration": 39,
    "start_time": "2022-03-31T07:55:03.181Z"
   },
   {
    "duration": 840,
    "start_time": "2022-03-31T07:55:05.172Z"
   },
   {
    "duration": 862,
    "start_time": "2022-03-31T07:55:07.323Z"
   },
   {
    "duration": 893,
    "start_time": "2022-03-31T07:55:09.236Z"
   },
   {
    "duration": 7,
    "start_time": "2022-03-31T07:55:11.388Z"
   },
   {
    "duration": 8,
    "start_time": "2022-03-31T07:55:17.523Z"
   },
   {
    "duration": 9,
    "start_time": "2022-03-31T07:55:20.492Z"
   },
   {
    "duration": 10,
    "start_time": "2022-03-31T07:55:22.883Z"
   },
   {
    "duration": 13,
    "start_time": "2022-03-31T07:55:23.621Z"
   },
   {
    "duration": 5,
    "start_time": "2022-03-31T07:55:28.523Z"
   },
   {
    "duration": 5,
    "start_time": "2022-03-31T07:55:31.106Z"
   },
   {
    "duration": 10,
    "start_time": "2022-03-31T07:55:32.269Z"
   },
   {
    "duration": 5,
    "start_time": "2022-03-31T07:55:37.778Z"
   },
   {
    "duration": 13,
    "start_time": "2022-03-31T07:55:39.237Z"
   },
   {
    "duration": 13,
    "start_time": "2022-03-31T07:55:40.549Z"
   },
   {
    "duration": 12,
    "start_time": "2022-03-31T07:55:41.859Z"
   },
   {
    "duration": 7,
    "start_time": "2022-03-31T07:55:43.960Z"
   },
   {
    "duration": 1854,
    "start_time": "2022-03-31T07:55:45.845Z"
   },
   {
    "duration": 1834,
    "start_time": "2022-03-31T07:56:37.493Z"
   },
   {
    "duration": 1841,
    "start_time": "2022-03-31T07:57:18.089Z"
   },
   {
    "duration": 4,
    "start_time": "2022-03-31T07:58:43.736Z"
   },
   {
    "duration": 6,
    "start_time": "2022-03-31T08:01:46.070Z"
   },
   {
    "duration": 13,
    "start_time": "2022-03-31T08:02:47.484Z"
   },
   {
    "duration": 13,
    "start_time": "2022-03-31T08:03:12.368Z"
   },
   {
    "duration": 13,
    "start_time": "2022-03-31T08:03:25.805Z"
   },
   {
    "duration": 4,
    "start_time": "2022-03-31T08:04:42.328Z"
   },
   {
    "duration": 5,
    "start_time": "2022-03-31T08:04:44.209Z"
   },
   {
    "duration": 6,
    "start_time": "2022-03-31T08:04:44.849Z"
   },
   {
    "duration": 4,
    "start_time": "2022-03-31T08:04:45.367Z"
   },
   {
    "duration": 8982,
    "start_time": "2022-03-31T08:04:48.665Z"
   },
   {
    "duration": 14,
    "start_time": "2022-03-31T08:06:37.986Z"
   },
   {
    "duration": 5,
    "start_time": "2022-03-31T08:06:42.705Z"
   },
   {
    "duration": 7,
    "start_time": "2022-03-31T08:06:52.656Z"
   },
   {
    "duration": 6,
    "start_time": "2022-03-31T08:07:14.728Z"
   },
   {
    "duration": 7,
    "start_time": "2022-03-31T08:10:52.331Z"
   },
   {
    "duration": 8,
    "start_time": "2022-03-31T08:11:02.233Z"
   },
   {
    "duration": 6,
    "start_time": "2022-03-31T08:11:07.156Z"
   },
   {
    "duration": 8,
    "start_time": "2022-03-31T08:11:09.341Z"
   },
   {
    "duration": 6,
    "start_time": "2022-03-31T08:11:19.332Z"
   },
   {
    "duration": 7,
    "start_time": "2022-03-31T08:11:21.269Z"
   },
   {
    "duration": 10,
    "start_time": "2022-03-31T08:11:23.259Z"
   },
   {
    "duration": 6,
    "start_time": "2022-03-31T08:11:24.782Z"
   },
   {
    "duration": 6,
    "start_time": "2022-03-31T08:11:26.589Z"
   },
   {
    "duration": 5,
    "start_time": "2022-03-31T08:11:41.298Z"
   },
   {
    "duration": 8,
    "start_time": "2022-03-31T08:11:41.772Z"
   },
   {
    "duration": 18,
    "start_time": "2022-03-31T08:11:42.354Z"
   },
   {
    "duration": 15,
    "start_time": "2022-03-31T08:11:43.244Z"
   },
   {
    "duration": 5,
    "start_time": "2022-03-31T08:11:44.061Z"
   },
   {
    "duration": 9,
    "start_time": "2022-03-31T08:11:44.760Z"
   },
   {
    "duration": 19,
    "start_time": "2022-03-31T08:11:47.143Z"
   },
   {
    "duration": 6,
    "start_time": "2022-03-31T08:12:21.616Z"
   },
   {
    "duration": 8,
    "start_time": "2022-03-31T08:12:22.132Z"
   },
   {
    "duration": 9,
    "start_time": "2022-03-31T08:12:23.305Z"
   },
   {
    "duration": 5,
    "start_time": "2022-03-31T08:12:24.381Z"
   },
   {
    "duration": 7,
    "start_time": "2022-03-31T08:12:25.657Z"
   },
   {
    "duration": 7,
    "start_time": "2022-03-31T08:12:31.640Z"
   },
   {
    "duration": 7,
    "start_time": "2022-03-31T08:12:34.016Z"
   },
   {
    "duration": 9,
    "start_time": "2022-03-31T08:12:39.507Z"
   },
   {
    "duration": 8,
    "start_time": "2022-03-31T08:12:43.955Z"
   },
   {
    "duration": 8,
    "start_time": "2022-03-31T08:13:05.357Z"
   },
   {
    "duration": 5,
    "start_time": "2022-03-31T08:13:05.779Z"
   },
   {
    "duration": 6,
    "start_time": "2022-03-31T08:13:06.310Z"
   },
   {
    "duration": 6,
    "start_time": "2022-03-31T08:13:06.765Z"
   },
   {
    "duration": 12,
    "start_time": "2022-03-31T08:13:08.753Z"
   },
   {
    "duration": 1853,
    "start_time": "2022-04-01T04:57:02.471Z"
   },
   {
    "duration": 350,
    "start_time": "2022-04-01T04:57:04.326Z"
   },
   {
    "duration": 14,
    "start_time": "2022-04-01T04:57:04.678Z"
   },
   {
    "duration": 15,
    "start_time": "2022-04-01T04:57:06.248Z"
   },
   {
    "duration": 14,
    "start_time": "2022-04-01T04:57:07.555Z"
   },
   {
    "duration": 15,
    "start_time": "2022-04-01T04:57:08.551Z"
   },
   {
    "duration": 139,
    "start_time": "2022-04-01T04:57:12.044Z"
   },
   {
    "duration": 31,
    "start_time": "2022-04-01T04:57:17.553Z"
   },
   {
    "duration": 604,
    "start_time": "2022-04-01T04:57:25.544Z"
   },
   {
    "duration": 571,
    "start_time": "2022-04-01T04:57:28.537Z"
   },
   {
    "duration": 609,
    "start_time": "2022-04-01T04:57:31.943Z"
   },
   {
    "duration": 4,
    "start_time": "2022-04-01T04:57:38.233Z"
   },
   {
    "duration": 200,
    "start_time": "2022-04-01T04:57:45.500Z"
   },
   {
    "duration": 4,
    "start_time": "2022-04-01T04:59:13.541Z"
   },
   {
    "duration": 109,
    "start_time": "2022-04-01T04:59:20.300Z"
   },
   {
    "duration": 4,
    "start_time": "2022-04-01T04:59:49.910Z"
   },
   {
    "duration": 8,
    "start_time": "2022-04-01T04:59:52.336Z"
   },
   {
    "duration": 9,
    "start_time": "2022-04-01T04:59:58.154Z"
   },
   {
    "duration": 19,
    "start_time": "2022-04-01T05:04:07.980Z"
   },
   {
    "duration": 15,
    "start_time": "2022-04-01T05:14:30.947Z"
   },
   {
    "duration": 12,
    "start_time": "2022-04-01T05:15:15.675Z"
   },
   {
    "duration": 9,
    "start_time": "2022-04-01T05:15:20.817Z"
   },
   {
    "duration": 4,
    "start_time": "2022-04-01T05:16:36.957Z"
   },
   {
    "duration": 9,
    "start_time": "2022-04-01T05:16:41.439Z"
   },
   {
    "duration": 4,
    "start_time": "2022-04-01T05:21:08.969Z"
   },
   {
    "duration": 4,
    "start_time": "2022-04-01T05:22:20.617Z"
   },
   {
    "duration": 10,
    "start_time": "2022-04-01T05:22:21.149Z"
   },
   {
    "duration": 16,
    "start_time": "2022-04-01T05:31:03.552Z"
   },
   {
    "duration": 3,
    "start_time": "2022-04-01T05:31:24.394Z"
   },
   {
    "duration": 4,
    "start_time": "2022-04-01T05:31:39.941Z"
   },
   {
    "duration": 16,
    "start_time": "2022-04-01T05:31:41.373Z"
   },
   {
    "duration": 4,
    "start_time": "2022-04-01T05:31:52.140Z"
   },
   {
    "duration": 4,
    "start_time": "2022-04-01T05:32:00.504Z"
   },
   {
    "duration": 482,
    "start_time": "2022-04-01T05:32:01.821Z"
   },
   {
    "duration": 10,
    "start_time": "2022-04-01T05:32:16.053Z"
   },
   {
    "duration": 11,
    "start_time": "2022-04-01T05:36:35.424Z"
   },
   {
    "duration": 32,
    "start_time": "2022-04-01T05:40:27.136Z"
   },
   {
    "duration": 9,
    "start_time": "2022-04-01T05:40:41.917Z"
   },
   {
    "duration": 9,
    "start_time": "2022-04-01T05:41:02.871Z"
   },
   {
    "duration": 8,
    "start_time": "2022-04-01T05:41:32.730Z"
   },
   {
    "duration": 4,
    "start_time": "2022-04-01T05:42:10.916Z"
   },
   {
    "duration": 9,
    "start_time": "2022-04-01T05:42:22.180Z"
   },
   {
    "duration": 14,
    "start_time": "2022-04-01T05:42:41.865Z"
   },
   {
    "duration": 13,
    "start_time": "2022-04-01T05:43:10.010Z"
   },
   {
    "duration": 7,
    "start_time": "2022-04-01T05:43:17.514Z"
   },
   {
    "duration": 10,
    "start_time": "2022-04-01T05:43:38.619Z"
   },
   {
    "duration": 11,
    "start_time": "2022-04-01T05:43:53.160Z"
   },
   {
    "duration": 11,
    "start_time": "2022-04-01T05:44:39.957Z"
   },
   {
    "duration": 13,
    "start_time": "2022-04-01T05:44:41.210Z"
   },
   {
    "duration": 10,
    "start_time": "2022-04-01T05:44:43.131Z"
   },
   {
    "duration": 5,
    "start_time": "2022-04-01T05:44:54.263Z"
   },
   {
    "duration": 6,
    "start_time": "2022-04-01T05:44:56.353Z"
   },
   {
    "duration": 32,
    "start_time": "2022-04-01T05:53:18.652Z"
   },
   {
    "duration": 9,
    "start_time": "2022-04-01T05:53:21.596Z"
   },
   {
    "duration": 64,
    "start_time": "2022-04-01T05:53:22.437Z"
   },
   {
    "duration": 7,
    "start_time": "2022-04-01T05:53:23.555Z"
   },
   {
    "duration": 9,
    "start_time": "2022-04-01T05:53:32.734Z"
   },
   {
    "duration": 5,
    "start_time": "2022-04-01T05:53:34.829Z"
   },
   {
    "duration": 6,
    "start_time": "2022-04-01T05:53:36.835Z"
   },
   {
    "duration": 11,
    "start_time": "2022-04-01T05:53:40.577Z"
   },
   {
    "duration": 5,
    "start_time": "2022-04-01T05:53:42.171Z"
   },
   {
    "duration": 5,
    "start_time": "2022-04-01T05:53:43.170Z"
   },
   {
    "duration": 9,
    "start_time": "2022-04-01T05:53:54.735Z"
   },
   {
    "duration": 8,
    "start_time": "2022-04-01T05:56:47.605Z"
   },
   {
    "duration": 4,
    "start_time": "2022-04-01T05:57:12.092Z"
   },
   {
    "duration": 4,
    "start_time": "2022-04-01T05:57:21.971Z"
   },
   {
    "duration": 7,
    "start_time": "2022-04-01T05:57:26.332Z"
   },
   {
    "duration": 4,
    "start_time": "2022-04-01T05:58:04.294Z"
   },
   {
    "duration": 11,
    "start_time": "2022-04-01T05:58:04.968Z"
   },
   {
    "duration": 12,
    "start_time": "2022-04-01T05:58:05.669Z"
   },
   {
    "duration": 11,
    "start_time": "2022-04-01T05:58:06.413Z"
   },
   {
    "duration": 4,
    "start_time": "2022-04-01T06:00:05.680Z"
   },
   {
    "duration": 12,
    "start_time": "2022-04-01T06:00:07.224Z"
   },
   {
    "duration": 4,
    "start_time": "2022-04-01T06:00:49.778Z"
   },
   {
    "duration": 213,
    "start_time": "2022-04-01T06:00:51.978Z"
   },
   {
    "duration": 20,
    "start_time": "2022-04-01T06:02:22.907Z"
   },
   {
    "duration": 1988,
    "start_time": "2022-04-01T06:02:45.289Z"
   },
   {
    "duration": 213,
    "start_time": "2022-04-01T06:02:51.246Z"
   },
   {
    "duration": 4,
    "start_time": "2022-04-01T06:10:09.688Z"
   },
   {
    "duration": 4,
    "start_time": "2022-04-01T06:10:11.395Z"
   },
   {
    "duration": 2559,
    "start_time": "2022-04-01T06:10:18.457Z"
   },
   {
    "duration": 209,
    "start_time": "2022-04-01T06:10:22.371Z"
   },
   {
    "duration": 9,
    "start_time": "2022-04-01T06:18:15.788Z"
   },
   {
    "duration": 3,
    "start_time": "2022-04-01T06:22:19.171Z"
   },
   {
    "duration": 3,
    "start_time": "2022-04-01T06:22:19.946Z"
   },
   {
    "duration": 3,
    "start_time": "2022-04-01T06:22:20.646Z"
   },
   {
    "duration": 2070,
    "start_time": "2022-04-01T06:22:21.425Z"
   },
   {
    "duration": 5,
    "start_time": "2022-04-01T06:22:23.497Z"
   },
   {
    "duration": 200,
    "start_time": "2022-04-01T06:22:25.772Z"
   },
   {
    "duration": 204,
    "start_time": "2022-04-01T06:22:26.361Z"
   },
   {
    "duration": 5,
    "start_time": "2022-04-01T06:22:43.899Z"
   },
   {
    "duration": 5,
    "start_time": "2022-04-01T06:22:44.485Z"
   },
   {
    "duration": 8,
    "start_time": "2022-04-01T06:22:45.401Z"
   },
   {
    "duration": 9,
    "start_time": "2022-04-01T06:23:35.225Z"
   },
   {
    "duration": 5,
    "start_time": "2022-04-01T06:23:35.744Z"
   },
   {
    "duration": 3,
    "start_time": "2022-04-01T06:24:17.771Z"
   },
   {
    "duration": 4,
    "start_time": "2022-04-01T06:24:18.468Z"
   },
   {
    "duration": 4,
    "start_time": "2022-04-01T06:24:19.016Z"
   },
   {
    "duration": 2065,
    "start_time": "2022-04-01T06:24:20.132Z"
   },
   {
    "duration": 5,
    "start_time": "2022-04-01T06:24:22.202Z"
   },
   {
    "duration": 4,
    "start_time": "2022-04-01T06:24:22.625Z"
   },
   {
    "duration": 5,
    "start_time": "2022-04-01T06:24:23.970Z"
   },
   {
    "duration": 4,
    "start_time": "2022-04-01T06:24:37.426Z"
   },
   {
    "duration": 4,
    "start_time": "2022-04-01T06:24:40.025Z"
   },
   {
    "duration": 5,
    "start_time": "2022-04-01T06:24:41.982Z"
   },
   {
    "duration": 5,
    "start_time": "2022-04-01T06:24:55.995Z"
   },
   {
    "duration": 6,
    "start_time": "2022-04-01T06:25:35.254Z"
   },
   {
    "duration": 4,
    "start_time": "2022-04-01T06:25:36.250Z"
   },
   {
    "duration": 4,
    "start_time": "2022-04-01T06:25:37.364Z"
   },
   {
    "duration": 3,
    "start_time": "2022-04-01T06:25:43.064Z"
   },
   {
    "duration": 4,
    "start_time": "2022-04-01T06:25:44.062Z"
   },
   {
    "duration": 6,
    "start_time": "2022-04-01T06:25:48.158Z"
   },
   {
    "duration": 3,
    "start_time": "2022-04-01T06:25:49.318Z"
   },
   {
    "duration": 4,
    "start_time": "2022-04-01T06:25:50.087Z"
   },
   {
    "duration": 4,
    "start_time": "2022-04-01T06:25:51.571Z"
   },
   {
    "duration": 4,
    "start_time": "2022-04-01T06:25:52.193Z"
   },
   {
    "duration": 6,
    "start_time": "2022-04-01T06:25:54.251Z"
   },
   {
    "duration": 4,
    "start_time": "2022-04-01T06:25:54.880Z"
   },
   {
    "duration": 4,
    "start_time": "2022-04-01T06:25:55.696Z"
   },
   {
    "duration": 10,
    "start_time": "2022-04-01T06:25:56.633Z"
   },
   {
    "duration": 9,
    "start_time": "2022-04-01T06:25:57.700Z"
   },
   {
    "duration": 5,
    "start_time": "2022-04-01T06:26:54.235Z"
   },
   {
    "duration": 5,
    "start_time": "2022-04-01T06:27:07.146Z"
   },
   {
    "duration": 4,
    "start_time": "2022-04-01T06:27:10.002Z"
   },
   {
    "duration": 5,
    "start_time": "2022-04-01T06:27:13.301Z"
   },
   {
    "duration": 4823,
    "start_time": "2022-04-01T06:30:50.599Z"
   },
   {
    "duration": 4,
    "start_time": "2022-04-01T06:30:55.987Z"
   },
   {
    "duration": 3,
    "start_time": "2022-04-01T06:30:57.538Z"
   },
   {
    "duration": 5,
    "start_time": "2022-04-01T06:30:59.578Z"
   },
   {
    "duration": 5,
    "start_time": "2022-04-01T06:31:09.520Z"
   },
   {
    "duration": 7,
    "start_time": "2022-04-01T06:32:52.506Z"
   },
   {
    "duration": 3,
    "start_time": "2022-04-01T06:32:53.901Z"
   },
   {
    "duration": 4,
    "start_time": "2022-04-01T06:32:55.072Z"
   },
   {
    "duration": 6,
    "start_time": "2022-04-01T06:35:31.212Z"
   },
   {
    "duration": 13,
    "start_time": "2022-04-01T06:36:02.613Z"
   },
   {
    "duration": 5,
    "start_time": "2022-04-01T06:36:17.864Z"
   },
   {
    "duration": 6,
    "start_time": "2022-04-01T06:38:24.878Z"
   },
   {
    "duration": 337,
    "start_time": "2022-04-01T06:38:25.559Z"
   },
   {
    "duration": 9,
    "start_time": "2022-04-01T06:38:26.458Z"
   },
   {
    "duration": 15,
    "start_time": "2022-04-01T06:38:28.252Z"
   },
   {
    "duration": 16,
    "start_time": "2022-04-01T06:38:29.853Z"
   },
   {
    "duration": 16,
    "start_time": "2022-04-01T06:38:31.089Z"
   },
   {
    "duration": 118,
    "start_time": "2022-04-01T06:38:33.653Z"
   },
   {
    "duration": 24,
    "start_time": "2022-04-01T06:38:35.877Z"
   },
   {
    "duration": 620,
    "start_time": "2022-04-01T06:38:39.421Z"
   },
   {
    "duration": 647,
    "start_time": "2022-04-01T06:38:41.583Z"
   },
   {
    "duration": 585,
    "start_time": "2022-04-01T06:38:43.861Z"
   },
   {
    "duration": 31,
    "start_time": "2022-04-01T06:38:50.565Z"
   },
   {
    "duration": 11,
    "start_time": "2022-04-01T06:38:56.323Z"
   },
   {
    "duration": 4,
    "start_time": "2022-04-01T06:38:58.365Z"
   },
   {
    "duration": 7,
    "start_time": "2022-04-01T06:39:00.607Z"
   },
   {
    "duration": 10,
    "start_time": "2022-04-01T06:39:05.592Z"
   },
   {
    "duration": 12,
    "start_time": "2022-04-01T06:39:06.820Z"
   },
   {
    "duration": 7,
    "start_time": "2022-04-01T06:39:07.895Z"
   },
   {
    "duration": 12,
    "start_time": "2022-04-01T06:39:09.688Z"
   },
   {
    "duration": 13,
    "start_time": "2022-04-01T06:39:11.716Z"
   },
   {
    "duration": 7,
    "start_time": "2022-04-01T06:39:13.397Z"
   },
   {
    "duration": 10,
    "start_time": "2022-04-01T06:39:15.422Z"
   },
   {
    "duration": 3,
    "start_time": "2022-04-01T06:39:27.586Z"
   },
   {
    "duration": 3,
    "start_time": "2022-04-01T06:40:24.079Z"
   },
   {
    "duration": 8,
    "start_time": "2022-04-01T06:40:26.086Z"
   },
   {
    "duration": 5,
    "start_time": "2022-04-01T06:43:31.739Z"
   },
   {
    "duration": 10,
    "start_time": "2022-04-01T06:49:00.050Z"
   },
   {
    "duration": 4,
    "start_time": "2022-04-01T06:49:04.952Z"
   },
   {
    "duration": 15,
    "start_time": "2022-04-01T06:49:05.914Z"
   },
   {
    "duration": 6,
    "start_time": "2022-04-01T06:52:02.522Z"
   },
   {
    "duration": 15,
    "start_time": "2022-04-01T06:52:04.524Z"
   },
   {
    "duration": 6,
    "start_time": "2022-04-01T06:52:34.116Z"
   },
   {
    "duration": 14,
    "start_time": "2022-04-01T06:52:37.885Z"
   },
   {
    "duration": 5,
    "start_time": "2022-04-01T06:52:52.223Z"
   },
   {
    "duration": 13,
    "start_time": "2022-04-01T06:52:53.275Z"
   },
   {
    "duration": 5,
    "start_time": "2022-04-01T06:53:56.623Z"
   },
   {
    "duration": 14,
    "start_time": "2022-04-01T06:53:59.118Z"
   },
   {
    "duration": 4,
    "start_time": "2022-04-01T07:00:14.162Z"
   },
   {
    "duration": 361,
    "start_time": "2022-04-01T07:00:14.850Z"
   },
   {
    "duration": 10,
    "start_time": "2022-04-01T07:00:15.649Z"
   },
   {
    "duration": 15,
    "start_time": "2022-04-01T07:00:16.312Z"
   },
   {
    "duration": 16,
    "start_time": "2022-04-01T07:00:17.673Z"
   },
   {
    "duration": 15,
    "start_time": "2022-04-01T07:00:18.491Z"
   },
   {
    "duration": 119,
    "start_time": "2022-04-01T07:00:20.920Z"
   },
   {
    "duration": 28,
    "start_time": "2022-04-01T07:00:22.867Z"
   },
   {
    "duration": 2,
    "start_time": "2022-04-01T07:00:51.400Z"
   },
   {
    "duration": 604,
    "start_time": "2022-04-01T07:00:55.635Z"
   },
   {
    "duration": 615,
    "start_time": "2022-04-01T07:00:57.595Z"
   },
   {
    "duration": 613,
    "start_time": "2022-04-01T07:00:59.709Z"
   },
   {
    "duration": 14,
    "start_time": "2022-04-01T07:01:41.188Z"
   },
   {
    "duration": 14,
    "start_time": "2022-04-01T07:02:21.118Z"
   },
   {
    "duration": 4,
    "start_time": "2022-04-01T07:02:31.901Z"
   },
   {
    "duration": 333,
    "start_time": "2022-04-01T07:02:32.827Z"
   },
   {
    "duration": 9,
    "start_time": "2022-04-01T07:02:33.982Z"
   },
   {
    "duration": 13,
    "start_time": "2022-04-01T07:02:34.946Z"
   },
   {
    "duration": 14,
    "start_time": "2022-04-01T07:02:36.202Z"
   },
   {
    "duration": 14,
    "start_time": "2022-04-01T07:02:37.248Z"
   },
   {
    "duration": 112,
    "start_time": "2022-04-01T07:02:41.266Z"
   },
   {
    "duration": 3,
    "start_time": "2022-04-01T07:02:45.206Z"
   },
   {
    "duration": 594,
    "start_time": "2022-04-01T07:02:47.458Z"
   },
   {
    "duration": 538,
    "start_time": "2022-04-01T07:02:50.391Z"
   },
   {
    "duration": 606,
    "start_time": "2022-04-01T07:02:53.079Z"
   },
   {
    "duration": 7,
    "start_time": "2022-04-01T07:02:58.004Z"
   },
   {
    "duration": 8,
    "start_time": "2022-04-01T07:10:10.324Z"
   },
   {
    "duration": 28,
    "start_time": "2022-04-01T07:10:10.984Z"
   },
   {
    "duration": 23,
    "start_time": "2022-04-01T07:10:42.401Z"
   },
   {
    "duration": 10,
    "start_time": "2022-04-01T07:10:44.079Z"
   },
   {
    "duration": 9,
    "start_time": "2022-04-01T07:10:45.336Z"
   },
   {
    "duration": 7,
    "start_time": "2022-04-01T07:10:51.968Z"
   },
   {
    "duration": 10,
    "start_time": "2022-04-01T07:10:59.594Z"
   },
   {
    "duration": 7,
    "start_time": "2022-04-01T07:11:00.495Z"
   },
   {
    "duration": 6,
    "start_time": "2022-04-01T07:11:02.696Z"
   },
   {
    "duration": 12,
    "start_time": "2022-04-01T07:11:03.955Z"
   },
   {
    "duration": 5,
    "start_time": "2022-04-01T07:11:04.785Z"
   },
   {
    "duration": 6,
    "start_time": "2022-04-01T07:11:05.953Z"
   },
   {
    "duration": 9,
    "start_time": "2022-04-01T07:11:07.709Z"
   },
   {
    "duration": 3,
    "start_time": "2022-04-01T07:11:13.063Z"
   },
   {
    "duration": 4,
    "start_time": "2022-04-01T07:11:16.103Z"
   },
   {
    "duration": 7,
    "start_time": "2022-04-01T07:11:17.679Z"
   },
   {
    "duration": 3,
    "start_time": "2022-04-01T07:11:59.160Z"
   },
   {
    "duration": 3,
    "start_time": "2022-04-01T07:12:36.333Z"
   },
   {
    "duration": 12,
    "start_time": "2022-04-01T07:19:24.947Z"
   },
   {
    "duration": 3,
    "start_time": "2022-04-01T07:20:03.759Z"
   },
   {
    "duration": 3,
    "start_time": "2022-04-01T07:20:04.433Z"
   },
   {
    "duration": 5,
    "start_time": "2022-04-01T07:20:05.040Z"
   },
   {
    "duration": 22,
    "start_time": "2022-04-01T07:20:06.086Z"
   },
   {
    "duration": 3,
    "start_time": "2022-04-01T07:23:38.247Z"
   },
   {
    "duration": 2,
    "start_time": "2022-04-01T07:23:38.909Z"
   },
   {
    "duration": 4,
    "start_time": "2022-04-01T07:23:40.649Z"
   },
   {
    "duration": 20,
    "start_time": "2022-04-01T07:23:42.006Z"
   },
   {
    "duration": 5051,
    "start_time": "2022-04-01T07:25:10.546Z"
   },
   {
    "duration": 5,
    "start_time": "2022-04-01T07:25:41.664Z"
   },
   {
    "duration": 3,
    "start_time": "2022-04-01T07:26:21.322Z"
   },
   {
    "duration": 9,
    "start_time": "2022-04-01T07:26:45.203Z"
   },
   {
    "duration": 10,
    "start_time": "2022-04-01T07:27:14.666Z"
   },
   {
    "duration": 10,
    "start_time": "2022-04-01T07:27:40.458Z"
   },
   {
    "duration": 3,
    "start_time": "2022-04-01T07:28:08.299Z"
   },
   {
    "duration": 3,
    "start_time": "2022-04-01T07:28:08.882Z"
   },
   {
    "duration": 4,
    "start_time": "2022-04-01T07:28:09.647Z"
   },
   {
    "duration": 4891,
    "start_time": "2022-04-01T07:28:11.506Z"
   },
   {
    "duration": 5,
    "start_time": "2022-04-01T07:28:16.400Z"
   },
   {
    "duration": 4886,
    "start_time": "2022-04-01T07:29:19.904Z"
   },
   {
    "duration": 9,
    "start_time": "2022-04-01T07:29:24.792Z"
   },
   {
    "duration": 4,
    "start_time": "2022-04-01T07:30:46.893Z"
   },
   {
    "duration": 10,
    "start_time": "2022-04-01T07:31:01.755Z"
   },
   {
    "duration": 5,
    "start_time": "2022-04-01T07:31:15.542Z"
   },
   {
    "duration": 10,
    "start_time": "2022-04-01T07:31:20.580Z"
   },
   {
    "duration": 5,
    "start_time": "2022-04-01T07:31:23.068Z"
   },
   {
    "duration": 9,
    "start_time": "2022-04-01T07:32:04.502Z"
   },
   {
    "duration": 4,
    "start_time": "2022-04-01T07:32:48.978Z"
   },
   {
    "duration": 5,
    "start_time": "2022-04-01T07:32:49.836Z"
   },
   {
    "duration": 5,
    "start_time": "2022-04-01T07:33:37.479Z"
   },
   {
    "duration": 3,
    "start_time": "2022-04-01T07:34:15.279Z"
   },
   {
    "duration": 6,
    "start_time": "2022-04-01T07:34:20.605Z"
   },
   {
    "duration": 6,
    "start_time": "2022-04-01T07:34:23.726Z"
   },
   {
    "duration": 4,
    "start_time": "2022-04-01T07:34:29.114Z"
   },
   {
    "duration": 5,
    "start_time": "2022-04-01T07:34:31.209Z"
   },
   {
    "duration": 4,
    "start_time": "2022-04-01T07:34:37.500Z"
   },
   {
    "duration": 6,
    "start_time": "2022-04-01T07:34:39.574Z"
   },
   {
    "duration": 6,
    "start_time": "2022-04-01T07:34:45.249Z"
   },
   {
    "duration": 6,
    "start_time": "2022-04-01T07:34:47.432Z"
   },
   {
    "duration": 4,
    "start_time": "2022-04-01T07:34:49.670Z"
   },
   {
    "duration": 3,
    "start_time": "2022-04-01T07:34:50.711Z"
   },
   {
    "duration": 5,
    "start_time": "2022-04-01T07:34:54.940Z"
   },
   {
    "duration": 5,
    "start_time": "2022-04-01T07:34:56.607Z"
   },
   {
    "duration": 6,
    "start_time": "2022-04-01T07:34:57.975Z"
   },
   {
    "duration": 4,
    "start_time": "2022-04-01T07:35:00.239Z"
   },
   {
    "duration": 4,
    "start_time": "2022-04-01T07:35:01.935Z"
   },
   {
    "duration": 5,
    "start_time": "2022-04-01T07:35:04.159Z"
   },
   {
    "duration": 3,
    "start_time": "2022-04-01T07:36:04.849Z"
   },
   {
    "duration": 345,
    "start_time": "2022-04-01T07:36:05.546Z"
   },
   {
    "duration": 9,
    "start_time": "2022-04-01T07:36:06.312Z"
   },
   {
    "duration": 15,
    "start_time": "2022-04-01T07:36:07.089Z"
   },
   {
    "duration": 15,
    "start_time": "2022-04-01T07:36:07.854Z"
   },
   {
    "duration": 15,
    "start_time": "2022-04-01T07:36:08.564Z"
   },
   {
    "duration": 136,
    "start_time": "2022-04-01T07:36:09.996Z"
   },
   {
    "duration": 2,
    "start_time": "2022-04-01T07:36:11.558Z"
   },
   {
    "duration": 575,
    "start_time": "2022-04-01T07:36:25.487Z"
   },
   {
    "duration": 658,
    "start_time": "2022-04-01T07:36:27.463Z"
   },
   {
    "duration": 577,
    "start_time": "2022-04-01T07:36:29.381Z"
   },
   {
    "duration": 7,
    "start_time": "2022-04-01T07:36:35.863Z"
   },
   {
    "duration": 23,
    "start_time": "2022-04-01T07:36:47.396Z"
   },
   {
    "duration": 10,
    "start_time": "2022-04-01T07:36:50.177Z"
   },
   {
    "duration": 12,
    "start_time": "2022-04-01T07:36:51.122Z"
   },
   {
    "duration": 4,
    "start_time": "2022-04-01T07:37:07.801Z"
   },
   {
    "duration": 7,
    "start_time": "2022-04-01T07:37:18.413Z"
   },
   {
    "duration": 12,
    "start_time": "2022-04-01T07:37:27.204Z"
   },
   {
    "duration": 11,
    "start_time": "2022-04-01T07:37:33.425Z"
   },
   {
    "duration": 7,
    "start_time": "2022-04-01T07:37:35.427Z"
   },
   {
    "duration": 10,
    "start_time": "2022-04-01T07:37:37.189Z"
   },
   {
    "duration": 5,
    "start_time": "2022-04-01T07:37:39.624Z"
   },
   {
    "duration": 6,
    "start_time": "2022-04-01T07:37:41.859Z"
   },
   {
    "duration": 10,
    "start_time": "2022-04-01T07:37:44.836Z"
   },
   {
    "duration": 12,
    "start_time": "2022-04-01T07:40:36.891Z"
   },
   {
    "duration": 3,
    "start_time": "2022-04-01T07:40:47.282Z"
   },
   {
    "duration": 3,
    "start_time": "2022-04-01T07:40:55.164Z"
   },
   {
    "duration": 6,
    "start_time": "2022-04-01T07:40:57.029Z"
   },
   {
    "duration": 4,
    "start_time": "2022-04-01T07:41:08.907Z"
   },
   {
    "duration": 9,
    "start_time": "2022-04-01T07:41:10.141Z"
   },
   {
    "duration": 11,
    "start_time": "2022-04-01T07:41:14.397Z"
   },
   {
    "duration": 10,
    "start_time": "2022-04-01T07:41:17.656Z"
   },
   {
    "duration": 3,
    "start_time": "2022-04-01T07:41:24.701Z"
   },
   {
    "duration": 3,
    "start_time": "2022-04-01T07:41:26.640Z"
   },
   {
    "duration": 4,
    "start_time": "2022-04-01T07:41:29.598Z"
   },
   {
    "duration": 4941,
    "start_time": "2022-04-01T07:41:33.036Z"
   },
   {
    "duration": 5,
    "start_time": "2022-04-01T07:41:37.979Z"
   },
   {
    "duration": 6,
    "start_time": "2022-04-01T07:41:37.985Z"
   },
   {
    "duration": 5,
    "start_time": "2022-04-01T07:41:43.078Z"
   },
   {
    "duration": 4,
    "start_time": "2022-04-01T07:42:00.346Z"
   },
   {
    "duration": 5,
    "start_time": "2022-04-01T07:42:01.811Z"
   },
   {
    "duration": 5,
    "start_time": "2022-04-01T07:42:09.411Z"
   },
   {
    "duration": 4,
    "start_time": "2022-04-01T07:42:11.701Z"
   },
   {
    "duration": 4,
    "start_time": "2022-04-01T07:42:12.987Z"
   },
   {
    "duration": 4,
    "start_time": "2022-04-01T07:42:16.698Z"
   },
   {
    "duration": 6,
    "start_time": "2022-04-01T07:42:18.196Z"
   },
   {
    "duration": 6,
    "start_time": "2022-04-01T07:42:20.123Z"
   },
   {
    "duration": 4,
    "start_time": "2022-04-01T07:42:21.388Z"
   },
   {
    "duration": 4,
    "start_time": "2022-04-01T07:42:22.571Z"
   },
   {
    "duration": 3,
    "start_time": "2022-04-01T07:43:01.533Z"
   },
   {
    "duration": 5,
    "start_time": "2022-04-01T07:43:02.405Z"
   },
   {
    "duration": 6,
    "start_time": "2022-04-01T07:43:03.523Z"
   },
   {
    "duration": 4,
    "start_time": "2022-04-01T07:43:04.572Z"
   },
   {
    "duration": 4,
    "start_time": "2022-04-01T07:43:13.758Z"
   },
   {
    "duration": 7,
    "start_time": "2022-04-01T07:43:14.659Z"
   },
   {
    "duration": 7,
    "start_time": "2022-04-01T07:43:15.722Z"
   },
   {
    "duration": 4,
    "start_time": "2022-04-01T07:43:18.056Z"
   },
   {
    "duration": 7,
    "start_time": "2022-04-01T07:43:18.062Z"
   },
   {
    "duration": 6,
    "start_time": "2022-04-01T07:43:19.907Z"
   },
   {
    "duration": 8,
    "start_time": "2022-04-01T07:43:23.844Z"
   },
   {
    "duration": 4,
    "start_time": "2022-04-01T08:04:39.919Z"
   },
   {
    "duration": 353,
    "start_time": "2022-04-01T08:04:40.744Z"
   },
   {
    "duration": 9,
    "start_time": "2022-04-01T08:04:42.500Z"
   },
   {
    "duration": 13,
    "start_time": "2022-04-01T08:04:43.350Z"
   },
   {
    "duration": 14,
    "start_time": "2022-04-01T08:04:44.150Z"
   },
   {
    "duration": 12,
    "start_time": "2022-04-01T08:04:45.079Z"
   },
   {
    "duration": 120,
    "start_time": "2022-04-01T08:04:46.830Z"
   },
   {
    "duration": 24,
    "start_time": "2022-04-01T08:04:49.761Z"
   },
   {
    "duration": 590,
    "start_time": "2022-04-01T08:04:52.350Z"
   },
   {
    "duration": 540,
    "start_time": "2022-04-01T08:04:56.288Z"
   },
   {
    "duration": 642,
    "start_time": "2022-04-01T08:05:00.145Z"
   },
   {
    "duration": 7,
    "start_time": "2022-04-01T08:05:11.685Z"
   },
   {
    "duration": 24,
    "start_time": "2022-04-01T08:05:13.842Z"
   },
   {
    "duration": 11,
    "start_time": "2022-04-01T08:05:16.180Z"
   },
   {
    "duration": 12,
    "start_time": "2022-04-01T08:05:18.690Z"
   },
   {
    "duration": 7,
    "start_time": "2022-04-01T08:05:35.473Z"
   },
   {
    "duration": 10,
    "start_time": "2022-04-01T08:05:48.848Z"
   },
   {
    "duration": 12,
    "start_time": "2022-04-01T08:05:50.544Z"
   },
   {
    "duration": 6,
    "start_time": "2022-04-01T08:05:51.817Z"
   },
   {
    "duration": 11,
    "start_time": "2022-04-01T08:05:58.288Z"
   },
   {
    "duration": 4,
    "start_time": "2022-04-01T08:05:59.719Z"
   },
   {
    "duration": 6,
    "start_time": "2022-04-01T08:06:00.840Z"
   },
   {
    "duration": 10,
    "start_time": "2022-04-01T08:06:05.296Z"
   },
   {
    "duration": 4,
    "start_time": "2022-04-01T08:06:35.737Z"
   },
   {
    "duration": 4,
    "start_time": "2022-04-01T08:06:49.064Z"
   },
   {
    "duration": 7,
    "start_time": "2022-04-01T08:06:51.403Z"
   },
   {
    "duration": 3,
    "start_time": "2022-04-01T08:07:18.035Z"
   },
   {
    "duration": 10,
    "start_time": "2022-04-01T08:07:20.003Z"
   },
   {
    "duration": 10,
    "start_time": "2022-04-01T08:07:22.713Z"
   },
   {
    "duration": 8,
    "start_time": "2022-04-01T08:07:25.643Z"
   },
   {
    "duration": 3,
    "start_time": "2022-04-01T08:07:55.157Z"
   },
   {
    "duration": 3,
    "start_time": "2022-04-01T08:07:57.112Z"
   },
   {
    "duration": 4,
    "start_time": "2022-04-01T08:07:59.329Z"
   },
   {
    "duration": 4899,
    "start_time": "2022-04-01T08:08:01.636Z"
   },
   {
    "duration": 5,
    "start_time": "2022-04-01T08:08:06.536Z"
   },
   {
    "duration": 8,
    "start_time": "2022-04-01T08:08:06.543Z"
   },
   {
    "duration": 5,
    "start_time": "2022-04-01T08:08:13.034Z"
   },
   {
    "duration": 3,
    "start_time": "2022-04-01T08:08:46.731Z"
   },
   {
    "duration": 4,
    "start_time": "2022-04-01T08:09:17.890Z"
   },
   {
    "duration": 5,
    "start_time": "2022-04-01T08:09:19.990Z"
   },
   {
    "duration": 5,
    "start_time": "2022-04-01T08:09:24.124Z"
   },
   {
    "duration": 3,
    "start_time": "2022-04-01T08:09:25.788Z"
   },
   {
    "duration": 4,
    "start_time": "2022-04-01T08:09:27.937Z"
   },
   {
    "duration": 3,
    "start_time": "2022-04-01T08:09:33.881Z"
   },
   {
    "duration": 5,
    "start_time": "2022-04-01T08:09:38.170Z"
   },
   {
    "duration": 6,
    "start_time": "2022-04-01T08:09:39.898Z"
   },
   {
    "duration": 3,
    "start_time": "2022-04-01T08:09:42.523Z"
   },
   {
    "duration": 4,
    "start_time": "2022-04-01T08:09:43.515Z"
   },
   {
    "duration": 3,
    "start_time": "2022-04-01T08:09:47.637Z"
   },
   {
    "duration": 4,
    "start_time": "2022-04-01T08:09:49.938Z"
   },
   {
    "duration": 5,
    "start_time": "2022-04-01T08:09:51.395Z"
   },
   {
    "duration": 4,
    "start_time": "2022-04-01T08:09:53.261Z"
   },
   {
    "duration": 4,
    "start_time": "2022-04-01T08:09:54.907Z"
   },
   {
    "duration": 4,
    "start_time": "2022-04-01T08:09:55.923Z"
   },
   {
    "duration": 8,
    "start_time": "2022-04-01T08:10:00.156Z"
   },
   {
    "duration": 389,
    "start_time": "2022-04-01T08:14:36.575Z"
   },
   {
    "duration": 5,
    "start_time": "2022-04-01T08:14:49.902Z"
   },
   {
    "duration": 237,
    "start_time": "2022-04-01T08:14:51.222Z"
   },
   {
    "duration": 4,
    "start_time": "2022-04-01T08:15:10.296Z"
   },
   {
    "duration": 349,
    "start_time": "2022-04-01T08:15:10.766Z"
   },
   {
    "duration": 10,
    "start_time": "2022-04-01T08:15:11.260Z"
   },
   {
    "duration": 16,
    "start_time": "2022-04-01T08:15:11.851Z"
   },
   {
    "duration": 15,
    "start_time": "2022-04-01T08:15:12.373Z"
   },
   {
    "duration": 15,
    "start_time": "2022-04-01T08:15:12.933Z"
   },
   {
    "duration": 124,
    "start_time": "2022-04-01T08:15:14.019Z"
   },
   {
    "duration": 26,
    "start_time": "2022-04-01T08:15:15.108Z"
   },
   {
    "duration": 639,
    "start_time": "2022-04-01T08:15:16.235Z"
   },
   {
    "duration": 627,
    "start_time": "2022-04-01T08:15:18.404Z"
   },
   {
    "duration": 618,
    "start_time": "2022-04-01T08:15:19.033Z"
   },
   {
    "duration": 7,
    "start_time": "2022-04-01T08:15:22.709Z"
   },
   {
    "duration": 25,
    "start_time": "2022-04-01T08:15:23.363Z"
   },
   {
    "duration": 12,
    "start_time": "2022-04-01T08:15:24.423Z"
   },
   {
    "duration": 6,
    "start_time": "2022-04-01T08:15:25.100Z"
   },
   {
    "duration": 274,
    "start_time": "2022-04-01T08:15:26.948Z"
   },
   {
    "duration": 281,
    "start_time": "2022-04-01T08:15:51.741Z"
   },
   {
    "duration": 11,
    "start_time": "2022-04-01T08:15:59.088Z"
   },
   {
    "duration": 12,
    "start_time": "2022-04-01T08:17:25.189Z"
   },
   {
    "duration": 12,
    "start_time": "2022-04-01T08:18:20.434Z"
   },
   {
    "duration": 7,
    "start_time": "2022-04-01T08:19:35.528Z"
   },
   {
    "duration": 7,
    "start_time": "2022-04-01T08:19:59.384Z"
   },
   {
    "duration": 8,
    "start_time": "2022-04-01T08:22:58.490Z"
   },
   {
    "duration": 7,
    "start_time": "2022-04-01T08:23:27.937Z"
   },
   {
    "duration": 10,
    "start_time": "2022-04-01T08:23:36.248Z"
   },
   {
    "duration": 9,
    "start_time": "2022-04-01T08:33:00.811Z"
   },
   {
    "duration": 12,
    "start_time": "2022-04-01T08:33:07.977Z"
   },
   {
    "duration": 7,
    "start_time": "2022-04-01T08:33:08.921Z"
   },
   {
    "duration": 8,
    "start_time": "2022-04-01T08:33:09.626Z"
   },
   {
    "duration": 11,
    "start_time": "2022-04-01T08:33:11.867Z"
   },
   {
    "duration": 7,
    "start_time": "2022-04-01T08:33:12.714Z"
   },
   {
    "duration": 7,
    "start_time": "2022-04-01T08:33:13.321Z"
   },
   {
    "duration": 10,
    "start_time": "2022-04-01T08:34:55.074Z"
   },
   {
    "duration": 4,
    "start_time": "2022-04-01T08:36:30.326Z"
   },
   {
    "duration": 5,
    "start_time": "2022-04-01T08:38:19.236Z"
   },
   {
    "duration": 9,
    "start_time": "2022-04-01T08:38:20.387Z"
   },
   {
    "duration": 4,
    "start_time": "2022-04-01T08:38:32.306Z"
   },
   {
    "duration": 3,
    "start_time": "2022-04-01T08:40:26.865Z"
   },
   {
    "duration": 8,
    "start_time": "2022-04-01T08:40:27.430Z"
   },
   {
    "duration": 9,
    "start_time": "2022-04-01T08:40:28.390Z"
   },
   {
    "duration": 9,
    "start_time": "2022-04-01T08:40:29.299Z"
   },
   {
    "duration": 3,
    "start_time": "2022-04-01T08:40:40.188Z"
   },
   {
    "duration": 4,
    "start_time": "2022-04-01T08:49:39.657Z"
   },
   {
    "duration": 10,
    "start_time": "2022-04-01T08:49:40.250Z"
   },
   {
    "duration": 9,
    "start_time": "2022-04-01T08:49:41.251Z"
   },
   {
    "duration": 9,
    "start_time": "2022-04-01T08:49:41.965Z"
   },
   {
    "duration": 3,
    "start_time": "2022-04-01T08:49:46.706Z"
   },
   {
    "duration": 3,
    "start_time": "2022-04-01T08:49:47.969Z"
   },
   {
    "duration": 17,
    "start_time": "2022-04-01T08:49:49.269Z"
   },
   {
    "duration": 3,
    "start_time": "2022-04-01T08:52:11.547Z"
   },
   {
    "duration": 10,
    "start_time": "2022-04-01T08:52:12.308Z"
   },
   {
    "duration": 3,
    "start_time": "2022-04-01T08:54:56.548Z"
   },
   {
    "duration": 4,
    "start_time": "2022-04-01T08:54:57.772Z"
   },
   {
    "duration": 4,
    "start_time": "2022-04-01T08:54:58.643Z"
   },
   {
    "duration": 17,
    "start_time": "2022-04-01T08:54:59.723Z"
   },
   {
    "duration": 4824,
    "start_time": "2022-04-01T08:56:23.057Z"
   },
   {
    "duration": 6,
    "start_time": "2022-04-01T08:56:27.883Z"
   },
   {
    "duration": 5,
    "start_time": "2022-04-01T08:56:43.740Z"
   },
   {
    "duration": 6,
    "start_time": "2022-04-01T08:56:45.862Z"
   },
   {
    "duration": 7,
    "start_time": "2022-04-01T08:56:48.251Z"
   },
   {
    "duration": 5,
    "start_time": "2022-04-01T08:56:49.213Z"
   },
   {
    "duration": 4,
    "start_time": "2022-04-01T08:56:51.547Z"
   },
   {
    "duration": 4,
    "start_time": "2022-04-01T08:56:54.724Z"
   },
   {
    "duration": 5,
    "start_time": "2022-04-01T08:56:58.045Z"
   },
   {
    "duration": 6,
    "start_time": "2022-04-01T08:56:59.515Z"
   },
   {
    "duration": 4,
    "start_time": "2022-04-01T08:57:00.414Z"
   },
   {
    "duration": 4,
    "start_time": "2022-04-01T08:57:01.533Z"
   },
   {
    "duration": 3,
    "start_time": "2022-04-01T08:57:03.527Z"
   },
   {
    "duration": 5,
    "start_time": "2022-04-01T08:57:05.213Z"
   },
   {
    "duration": 7,
    "start_time": "2022-04-01T08:57:15.869Z"
   },
   {
    "duration": 4,
    "start_time": "2022-04-01T08:57:17.804Z"
   },
   {
    "duration": 4,
    "start_time": "2022-04-01T08:57:19.022Z"
   },
   {
    "duration": 5,
    "start_time": "2022-04-01T08:57:19.750Z"
   },
   {
    "duration": 8,
    "start_time": "2022-04-01T08:57:23.101Z"
   },
   {
    "duration": 4,
    "start_time": "2022-04-01T08:58:09.180Z"
   },
   {
    "duration": 4,
    "start_time": "2022-04-01T08:58:24.223Z"
   },
   {
    "duration": 4,
    "start_time": "2022-04-01T08:58:41.897Z"
   },
   {
    "duration": 3,
    "start_time": "2022-04-01T08:59:28.856Z"
   },
   {
    "duration": 3,
    "start_time": "2022-04-01T08:59:34.165Z"
   },
   {
    "duration": 7,
    "start_time": "2022-04-01T08:59:34.887Z"
   },
   {
    "duration": 2,
    "start_time": "2022-04-01T08:59:40.555Z"
   },
   {
    "duration": 3,
    "start_time": "2022-04-01T08:59:41.188Z"
   },
   {
    "duration": 3,
    "start_time": "2022-04-01T08:59:42.158Z"
   },
   {
    "duration": 3,
    "start_time": "2022-04-01T08:59:42.820Z"
   },
   {
    "duration": 3,
    "start_time": "2022-04-01T08:59:45.647Z"
   },
   {
    "duration": 3,
    "start_time": "2022-04-01T08:59:48.260Z"
   },
   {
    "duration": 3,
    "start_time": "2022-04-01T08:59:49.221Z"
   },
   {
    "duration": 4904,
    "start_time": "2022-04-01T08:59:50.454Z"
   },
   {
    "duration": 5,
    "start_time": "2022-04-01T08:59:55.360Z"
   },
   {
    "duration": 4,
    "start_time": "2022-04-01T08:59:56.737Z"
   },
   {
    "duration": 5,
    "start_time": "2022-04-01T08:59:57.483Z"
   },
   {
    "duration": 6,
    "start_time": "2022-04-01T09:00:00.564Z"
   },
   {
    "duration": 5,
    "start_time": "2022-04-01T09:00:01.435Z"
   },
   {
    "duration": 3,
    "start_time": "2022-04-01T09:00:02.220Z"
   },
   {
    "duration": 4,
    "start_time": "2022-04-01T09:00:05.200Z"
   },
   {
    "duration": 5,
    "start_time": "2022-04-01T09:00:06.788Z"
   },
   {
    "duration": 5,
    "start_time": "2022-04-01T09:00:07.725Z"
   },
   {
    "duration": 4,
    "start_time": "2022-04-01T09:00:08.716Z"
   },
   {
    "duration": 4,
    "start_time": "2022-04-01T09:00:09.595Z"
   },
   {
    "duration": 4,
    "start_time": "2022-04-01T09:00:11.461Z"
   },
   {
    "duration": 5,
    "start_time": "2022-04-01T09:00:12.367Z"
   },
   {
    "duration": 6,
    "start_time": "2022-04-01T09:00:13.511Z"
   },
   {
    "duration": 3,
    "start_time": "2022-04-01T09:00:14.347Z"
   },
   {
    "duration": 4,
    "start_time": "2022-04-01T09:00:15.037Z"
   },
   {
    "duration": 5,
    "start_time": "2022-04-01T09:00:15.806Z"
   },
   {
    "duration": 9,
    "start_time": "2022-04-01T09:00:19.854Z"
   },
   {
    "duration": 3,
    "start_time": "2022-04-01T09:16:32.934Z"
   },
   {
    "duration": 17,
    "start_time": "2022-04-01T09:16:33.644Z"
   },
   {
    "duration": 4,
    "start_time": "2022-04-01T09:16:50.837Z"
   },
   {
    "duration": 16,
    "start_time": "2022-04-01T09:16:54.692Z"
   },
   {
    "duration": 4,
    "start_time": "2022-04-01T09:17:20.862Z"
   },
   {
    "duration": 10,
    "start_time": "2022-04-01T09:17:22.697Z"
   },
   {
    "duration": 9,
    "start_time": "2022-04-01T09:17:26.116Z"
   },
   {
    "duration": 9,
    "start_time": "2022-04-01T09:17:27.476Z"
   },
   {
    "duration": 9,
    "start_time": "2022-04-01T09:17:53.789Z"
   },
   {
    "duration": 10,
    "start_time": "2022-04-01T09:18:24.993Z"
   },
   {
    "duration": 9,
    "start_time": "2022-04-01T09:18:25.822Z"
   },
   {
    "duration": 9,
    "start_time": "2022-04-01T09:18:26.639Z"
   },
   {
    "duration": 3,
    "start_time": "2022-04-01T09:18:46.287Z"
   },
   {
    "duration": 3,
    "start_time": "2022-04-01T09:18:48.632Z"
   },
   {
    "duration": 3,
    "start_time": "2022-04-01T09:18:52.656Z"
   },
   {
    "duration": 4712,
    "start_time": "2022-04-01T09:18:54.329Z"
   },
   {
    "duration": 5,
    "start_time": "2022-04-01T09:18:59.042Z"
   },
   {
    "duration": 5,
    "start_time": "2022-04-01T09:18:59.049Z"
   },
   {
    "duration": 5,
    "start_time": "2022-04-01T09:19:00.362Z"
   },
   {
    "duration": 6,
    "start_time": "2022-04-01T09:19:03.460Z"
   },
   {
    "duration": 4,
    "start_time": "2022-04-01T09:19:04.100Z"
   },
   {
    "duration": 4,
    "start_time": "2022-04-01T09:19:05.032Z"
   },
   {
    "duration": 4,
    "start_time": "2022-04-01T09:19:06.644Z"
   },
   {
    "duration": 6,
    "start_time": "2022-04-01T09:19:07.333Z"
   },
   {
    "duration": 6,
    "start_time": "2022-04-01T09:19:08.004Z"
   },
   {
    "duration": 4,
    "start_time": "2022-04-01T09:19:08.794Z"
   },
   {
    "duration": 4,
    "start_time": "2022-04-01T09:19:09.593Z"
   },
   {
    "duration": 4,
    "start_time": "2022-04-01T09:19:11.237Z"
   },
   {
    "duration": 5,
    "start_time": "2022-04-01T09:19:11.861Z"
   },
   {
    "duration": 6,
    "start_time": "2022-04-01T09:19:12.491Z"
   },
   {
    "duration": 4,
    "start_time": "2022-04-01T09:19:13.123Z"
   },
   {
    "duration": 3,
    "start_time": "2022-04-01T09:19:13.780Z"
   },
   {
    "duration": 6,
    "start_time": "2022-04-01T09:19:14.539Z"
   },
   {
    "duration": 8,
    "start_time": "2022-04-01T09:19:15.313Z"
   },
   {
    "duration": 3,
    "start_time": "2022-04-01T09:26:30.466Z"
   },
   {
    "duration": 317,
    "start_time": "2022-04-01T09:26:32.478Z"
   },
   {
    "duration": 10,
    "start_time": "2022-04-01T09:26:33.370Z"
   },
   {
    "duration": 13,
    "start_time": "2022-04-01T09:26:34.310Z"
   },
   {
    "duration": 14,
    "start_time": "2022-04-01T09:26:35.398Z"
   },
   {
    "duration": 14,
    "start_time": "2022-04-01T09:26:36.352Z"
   },
   {
    "duration": 120,
    "start_time": "2022-04-01T09:26:38.182Z"
   },
   {
    "duration": 25,
    "start_time": "2022-04-01T09:26:40.317Z"
   },
   {
    "duration": 597,
    "start_time": "2022-04-01T09:26:42.359Z"
   },
   {
    "duration": 729,
    "start_time": "2022-04-01T09:26:44.200Z"
   },
   {
    "duration": 584,
    "start_time": "2022-04-01T09:26:46.182Z"
   },
   {
    "duration": 7,
    "start_time": "2022-04-01T09:27:01.558Z"
   },
   {
    "duration": 24,
    "start_time": "2022-04-01T09:27:11.920Z"
   },
   {
    "duration": 11,
    "start_time": "2022-04-01T09:27:14.655Z"
   },
   {
    "duration": 11,
    "start_time": "2022-04-01T09:27:23.832Z"
   },
   {
    "duration": 11,
    "start_time": "2022-04-01T09:27:24.871Z"
   },
   {
    "duration": 8,
    "start_time": "2022-04-01T09:27:32.872Z"
   },
   {
    "duration": 11,
    "start_time": "2022-04-01T09:27:40.216Z"
   },
   {
    "duration": 10,
    "start_time": "2022-04-01T09:27:45.683Z"
   },
   {
    "duration": 6,
    "start_time": "2022-04-01T09:27:46.929Z"
   },
   {
    "duration": 7,
    "start_time": "2022-04-01T09:27:50.018Z"
   },
   {
    "duration": 13,
    "start_time": "2022-04-01T09:27:55.915Z"
   },
   {
    "duration": 7,
    "start_time": "2022-04-01T09:27:58.105Z"
   },
   {
    "duration": 9,
    "start_time": "2022-04-01T09:28:04.900Z"
   },
   {
    "duration": 13,
    "start_time": "2022-04-01T09:28:07.809Z"
   },
   {
    "duration": 3,
    "start_time": "2022-04-01T09:28:46.817Z"
   },
   {
    "duration": 4,
    "start_time": "2022-04-01T09:28:58.233Z"
   },
   {
    "duration": 6,
    "start_time": "2022-04-01T09:29:04.633Z"
   },
   {
    "duration": 5,
    "start_time": "2022-04-01T09:29:12.014Z"
   },
   {
    "duration": 12,
    "start_time": "2022-04-01T09:29:14.626Z"
   },
   {
    "duration": 12,
    "start_time": "2022-04-01T09:29:16.031Z"
   },
   {
    "duration": 11,
    "start_time": "2022-04-01T09:29:16.910Z"
   },
   {
    "duration": 3,
    "start_time": "2022-04-01T09:29:32.543Z"
   },
   {
    "duration": 4,
    "start_time": "2022-04-01T09:29:35.767Z"
   },
   {
    "duration": 4,
    "start_time": "2022-04-01T09:29:38.265Z"
   },
   {
    "duration": 4876,
    "start_time": "2022-04-01T09:29:40.427Z"
   },
   {
    "duration": 4,
    "start_time": "2022-04-01T09:29:45.305Z"
   },
   {
    "duration": 4,
    "start_time": "2022-04-01T09:29:54.104Z"
   },
   {
    "duration": 5,
    "start_time": "2022-04-01T09:29:55.624Z"
   },
   {
    "duration": 6,
    "start_time": "2022-04-01T09:29:59.591Z"
   },
   {
    "duration": 4,
    "start_time": "2022-04-01T09:30:00.725Z"
   },
   {
    "duration": 3,
    "start_time": "2022-04-01T09:30:01.909Z"
   },
   {
    "duration": 4,
    "start_time": "2022-04-01T09:30:03.963Z"
   },
   {
    "duration": 5,
    "start_time": "2022-04-01T09:30:04.841Z"
   },
   {
    "duration": 6,
    "start_time": "2022-04-01T09:30:05.820Z"
   },
   {
    "duration": 4,
    "start_time": "2022-04-01T09:30:06.716Z"
   },
   {
    "duration": 4,
    "start_time": "2022-04-01T09:30:07.519Z"
   },
   {
    "duration": 3,
    "start_time": "2022-04-01T09:30:10.396Z"
   },
   {
    "duration": 5,
    "start_time": "2022-04-01T09:30:11.807Z"
   },
   {
    "duration": 7,
    "start_time": "2022-04-01T09:30:12.753Z"
   },
   {
    "duration": 5,
    "start_time": "2022-04-01T09:30:14.095Z"
   },
   {
    "duration": 4,
    "start_time": "2022-04-01T09:30:14.995Z"
   },
   {
    "duration": 5,
    "start_time": "2022-04-01T09:30:16.024Z"
   },
   {
    "duration": 9,
    "start_time": "2022-04-01T09:30:17.161Z"
   },
   {
    "duration": 4,
    "start_time": "2022-04-01T09:31:14.121Z"
   },
   {
    "duration": 351,
    "start_time": "2022-04-01T09:31:14.127Z"
   },
   {
    "duration": 23,
    "start_time": "2022-04-01T09:31:14.480Z"
   },
   {
    "duration": 15,
    "start_time": "2022-04-01T09:31:14.505Z"
   },
   {
    "duration": 14,
    "start_time": "2022-04-01T09:31:14.522Z"
   },
   {
    "duration": 14,
    "start_time": "2022-04-01T09:31:14.538Z"
   },
   {
    "duration": 173,
    "start_time": "2022-04-01T09:31:14.554Z"
   },
   {
    "duration": 25,
    "start_time": "2022-04-01T09:31:14.728Z"
   },
   {
    "duration": 704,
    "start_time": "2022-04-01T09:31:14.756Z"
   },
   {
    "duration": 690,
    "start_time": "2022-04-01T09:31:15.462Z"
   },
   {
    "duration": 712,
    "start_time": "2022-04-01T09:31:16.154Z"
   },
   {
    "duration": 7,
    "start_time": "2022-04-01T09:31:16.868Z"
   },
   {
    "duration": 39,
    "start_time": "2022-04-01T09:31:16.877Z"
   },
   {
    "duration": 11,
    "start_time": "2022-04-01T09:31:16.918Z"
   },
   {
    "duration": 71,
    "start_time": "2022-04-01T09:31:16.931Z"
   },
   {
    "duration": 10,
    "start_time": "2022-04-01T09:31:17.004Z"
   },
   {
    "duration": 96,
    "start_time": "2022-04-01T09:31:17.016Z"
   },
   {
    "duration": 14,
    "start_time": "2022-04-01T09:31:17.114Z"
   },
   {
    "duration": 174,
    "start_time": "2022-04-01T09:31:17.130Z"
   },
   {
    "duration": 11,
    "start_time": "2022-04-01T09:31:17.306Z"
   },
   {
    "duration": 16,
    "start_time": "2022-04-01T09:31:17.318Z"
   },
   {
    "duration": 76,
    "start_time": "2022-04-01T09:31:17.337Z"
   },
   {
    "duration": 100,
    "start_time": "2022-04-01T09:31:17.415Z"
   },
   {
    "duration": 11,
    "start_time": "2022-04-01T09:31:17.518Z"
   },
   {
    "duration": 11,
    "start_time": "2022-04-01T09:31:17.530Z"
   },
   {
    "duration": 30,
    "start_time": "2022-04-01T09:31:17.543Z"
   },
   {
    "duration": 15,
    "start_time": "2022-04-01T09:31:17.574Z"
   },
   {
    "duration": 29,
    "start_time": "2022-04-01T09:31:17.591Z"
   },
   {
    "duration": 18,
    "start_time": "2022-04-01T09:31:17.622Z"
   },
   {
    "duration": 16,
    "start_time": "2022-04-01T09:31:17.642Z"
   },
   {
    "duration": 9,
    "start_time": "2022-04-01T09:31:17.660Z"
   },
   {
    "duration": 24,
    "start_time": "2022-04-01T09:31:17.671Z"
   },
   {
    "duration": 9,
    "start_time": "2022-04-01T09:31:17.697Z"
   },
   {
    "duration": 5106,
    "start_time": "2022-04-01T09:31:17.708Z"
   },
   {
    "duration": 6,
    "start_time": "2022-04-01T09:31:22.815Z"
   },
   {
    "duration": 35,
    "start_time": "2022-04-01T09:31:22.823Z"
   },
   {
    "duration": 32,
    "start_time": "2022-04-01T09:31:22.860Z"
   },
   {
    "duration": 23,
    "start_time": "2022-04-01T09:31:22.894Z"
   },
   {
    "duration": 26,
    "start_time": "2022-04-01T09:31:22.919Z"
   },
   {
    "duration": 17,
    "start_time": "2022-04-01T09:31:22.947Z"
   },
   {
    "duration": 31,
    "start_time": "2022-04-01T09:31:22.965Z"
   },
   {
    "duration": 19,
    "start_time": "2022-04-01T09:31:22.997Z"
   },
   {
    "duration": 21,
    "start_time": "2022-04-01T09:31:23.018Z"
   },
   {
    "duration": 13,
    "start_time": "2022-04-01T09:31:23.041Z"
   },
   {
    "duration": 18,
    "start_time": "2022-04-01T09:31:23.056Z"
   },
   {
    "duration": 29,
    "start_time": "2022-04-01T09:31:23.076Z"
   },
   {
    "duration": 17,
    "start_time": "2022-04-01T09:31:23.107Z"
   },
   {
    "duration": 22,
    "start_time": "2022-04-01T09:31:23.126Z"
   },
   {
    "duration": 11,
    "start_time": "2022-04-01T09:31:23.150Z"
   },
   {
    "duration": 10,
    "start_time": "2022-04-01T09:31:23.163Z"
   },
   {
    "duration": 29,
    "start_time": "2022-04-01T09:31:23.175Z"
   },
   {
    "duration": 35,
    "start_time": "2022-04-01T09:31:23.206Z"
   },
   {
    "duration": 4,
    "start_time": "2022-04-01T09:31:38.657Z"
   },
   {
    "duration": 348,
    "start_time": "2022-04-01T09:31:38.664Z"
   },
   {
    "duration": 9,
    "start_time": "2022-04-01T09:31:39.014Z"
   },
   {
    "duration": 15,
    "start_time": "2022-04-01T09:31:39.025Z"
   },
   {
    "duration": 12,
    "start_time": "2022-04-01T09:31:39.042Z"
   },
   {
    "duration": 13,
    "start_time": "2022-04-01T09:31:39.056Z"
   },
   {
    "duration": 125,
    "start_time": "2022-04-01T09:31:39.100Z"
   },
   {
    "duration": 24,
    "start_time": "2022-04-01T09:31:39.226Z"
   },
   {
    "duration": 697,
    "start_time": "2022-04-01T09:31:39.251Z"
   },
   {
    "duration": 686,
    "start_time": "2022-04-01T09:31:39.950Z"
   },
   {
    "duration": 628,
    "start_time": "2022-04-01T09:31:40.639Z"
   },
   {
    "duration": 8,
    "start_time": "2022-04-01T09:31:41.269Z"
   },
   {
    "duration": 37,
    "start_time": "2022-04-01T09:31:41.279Z"
   },
   {
    "duration": 11,
    "start_time": "2022-04-01T09:31:41.318Z"
   },
   {
    "duration": 5,
    "start_time": "2022-04-01T09:31:41.331Z"
   },
   {
    "duration": 70,
    "start_time": "2022-04-01T09:31:41.338Z"
   },
   {
    "duration": 11,
    "start_time": "2022-04-01T09:31:41.501Z"
   },
   {
    "duration": 5,
    "start_time": "2022-04-01T09:31:41.513Z"
   },
   {
    "duration": 83,
    "start_time": "2022-04-01T09:31:41.521Z"
   },
   {
    "duration": 100,
    "start_time": "2022-04-01T09:31:41.606Z"
   },
   {
    "duration": 5,
    "start_time": "2022-04-01T09:31:41.707Z"
   },
   {
    "duration": 88,
    "start_time": "2022-04-01T09:31:41.715Z"
   },
   {
    "duration": 99,
    "start_time": "2022-04-01T09:31:41.805Z"
   },
   {
    "duration": 3,
    "start_time": "2022-04-01T09:31:41.906Z"
   },
   {
    "duration": 5,
    "start_time": "2022-04-01T09:31:41.911Z"
   },
   {
    "duration": 9,
    "start_time": "2022-04-01T09:31:41.917Z"
   },
   {
    "duration": 4,
    "start_time": "2022-04-01T09:31:41.927Z"
   },
   {
    "duration": 16,
    "start_time": "2022-04-01T09:31:41.932Z"
   },
   {
    "duration": 8,
    "start_time": "2022-04-01T09:31:41.951Z"
   },
   {
    "duration": 42,
    "start_time": "2022-04-01T09:31:41.960Z"
   },
   {
    "duration": 3,
    "start_time": "2022-04-01T09:31:42.004Z"
   },
   {
    "duration": 31,
    "start_time": "2022-04-01T09:31:42.009Z"
   },
   {
    "duration": 8,
    "start_time": "2022-04-01T09:31:42.042Z"
   },
   {
    "duration": 4808,
    "start_time": "2022-04-01T09:31:42.051Z"
   },
   {
    "duration": 5,
    "start_time": "2022-04-01T09:31:46.860Z"
   },
   {
    "duration": 13,
    "start_time": "2022-04-01T09:31:46.867Z"
   },
   {
    "duration": 26,
    "start_time": "2022-04-01T09:31:46.882Z"
   },
   {
    "duration": 16,
    "start_time": "2022-04-01T09:31:46.909Z"
   },
   {
    "duration": 21,
    "start_time": "2022-04-01T09:31:46.927Z"
   },
   {
    "duration": 21,
    "start_time": "2022-04-01T09:31:46.950Z"
   },
   {
    "duration": 14,
    "start_time": "2022-04-01T09:31:46.973Z"
   },
   {
    "duration": 23,
    "start_time": "2022-04-01T09:31:46.988Z"
   },
   {
    "duration": 19,
    "start_time": "2022-04-01T09:31:47.013Z"
   },
   {
    "duration": 21,
    "start_time": "2022-04-01T09:31:47.034Z"
   },
   {
    "duration": 31,
    "start_time": "2022-04-01T09:31:47.058Z"
   },
   {
    "duration": 14,
    "start_time": "2022-04-01T09:31:47.091Z"
   },
   {
    "duration": 28,
    "start_time": "2022-04-01T09:31:47.107Z"
   },
   {
    "duration": 15,
    "start_time": "2022-04-01T09:31:47.137Z"
   },
   {
    "duration": 22,
    "start_time": "2022-04-01T09:31:47.154Z"
   },
   {
    "duration": 17,
    "start_time": "2022-04-01T09:31:47.177Z"
   },
   {
    "duration": 14,
    "start_time": "2022-04-01T09:31:47.195Z"
   },
   {
    "duration": 22,
    "start_time": "2022-04-01T09:31:47.211Z"
   },
   {
    "duration": 49,
    "start_time": "2022-04-01T14:38:34.503Z"
   },
   {
    "duration": 67,
    "start_time": "2022-04-02T04:36:05.065Z"
   },
   {
    "duration": 10,
    "start_time": "2022-04-02T04:36:05.463Z"
   },
   {
    "duration": 2049,
    "start_time": "2022-04-02T04:36:18.643Z"
   },
   {
    "duration": 409,
    "start_time": "2022-04-02T04:36:20.695Z"
   },
   {
    "duration": 20,
    "start_time": "2022-04-02T04:36:21.107Z"
   },
   {
    "duration": 39,
    "start_time": "2022-04-02T04:36:21.129Z"
   },
   {
    "duration": 21,
    "start_time": "2022-04-02T04:36:21.234Z"
   },
   {
    "duration": 20,
    "start_time": "2022-04-02T04:36:21.857Z"
   },
   {
    "duration": 212,
    "start_time": "2022-04-02T04:36:23.243Z"
   },
   {
    "duration": 41,
    "start_time": "2022-04-02T04:36:24.737Z"
   },
   {
    "duration": 853,
    "start_time": "2022-04-02T04:36:26.165Z"
   },
   {
    "duration": 824,
    "start_time": "2022-04-02T04:36:27.852Z"
   },
   {
    "duration": 834,
    "start_time": "2022-04-02T04:36:28.679Z"
   },
   {
    "duration": 15,
    "start_time": "2022-04-02T04:36:31.953Z"
   },
   {
    "duration": 39,
    "start_time": "2022-04-02T04:36:33.078Z"
   },
   {
    "duration": 97,
    "start_time": "2022-04-02T04:36:34.071Z"
   },
   {
    "duration": 9,
    "start_time": "2022-04-02T04:36:34.708Z"
   },
   {
    "duration": 11,
    "start_time": "2022-04-02T04:36:36.365Z"
   },
   {
    "duration": 103,
    "start_time": "2022-04-02T04:37:47.966Z"
   },
   {
    "duration": 16,
    "start_time": "2022-04-02T04:37:57.617Z"
   },
   {
    "duration": 15,
    "start_time": "2022-04-02T04:37:58.103Z"
   },
   {
    "duration": 9,
    "start_time": "2022-04-02T04:37:59.481Z"
   },
   {
    "duration": 13,
    "start_time": "2022-04-02T04:38:13.504Z"
   },
   {
    "duration": 14,
    "start_time": "2022-04-02T04:38:14.622Z"
   },
   {
    "duration": 10,
    "start_time": "2022-04-02T04:39:03.570Z"
   },
   {
    "duration": 14,
    "start_time": "2022-04-02T04:40:22.111Z"
   },
   {
    "duration": 90,
    "start_time": "2022-04-02T04:41:22.617Z"
   },
   {
    "duration": 5,
    "start_time": "2022-04-02T04:42:40.288Z"
   },
   {
    "duration": 5,
    "start_time": "2022-04-02T04:42:45.255Z"
   },
   {
    "duration": 10,
    "start_time": "2022-04-02T04:42:45.955Z"
   },
   {
    "duration": 6,
    "start_time": "2022-04-02T04:42:48.515Z"
   },
   {
    "duration": 4,
    "start_time": "2022-04-02T04:45:50.516Z"
   },
   {
    "duration": 5,
    "start_time": "2022-04-02T04:45:57.129Z"
   },
   {
    "duration": 8,
    "start_time": "2022-04-02T04:45:58.273Z"
   },
   {
    "duration": 5,
    "start_time": "2022-04-02T04:46:06.355Z"
   },
   {
    "duration": 13,
    "start_time": "2022-04-02T04:46:15.753Z"
   },
   {
    "duration": 12,
    "start_time": "2022-04-02T04:46:17.882Z"
   },
   {
    "duration": 12,
    "start_time": "2022-04-02T04:46:18.810Z"
   },
   {
    "duration": 4,
    "start_time": "2022-04-02T04:46:31.571Z"
   },
   {
    "duration": 4,
    "start_time": "2022-04-02T04:46:32.262Z"
   },
   {
    "duration": 6,
    "start_time": "2022-04-02T04:47:02.258Z"
   },
   {
    "duration": 8064,
    "start_time": "2022-04-02T04:47:03.427Z"
   },
   {
    "duration": 7,
    "start_time": "2022-04-02T04:47:11.494Z"
   },
   {
    "duration": 5,
    "start_time": "2022-04-02T04:52:40.141Z"
   },
   {
    "duration": 13,
    "start_time": "2022-04-02T04:52:42.328Z"
   },
   {
    "duration": 12,
    "start_time": "2022-04-02T04:52:43.085Z"
   },
   {
    "duration": 12,
    "start_time": "2022-04-02T04:52:43.780Z"
   },
   {
    "duration": 3,
    "start_time": "2022-04-02T04:52:46.899Z"
   },
   {
    "duration": 3,
    "start_time": "2022-04-02T04:52:47.624Z"
   },
   {
    "duration": 5,
    "start_time": "2022-04-02T04:52:50.747Z"
   },
   {
    "duration": 10703,
    "start_time": "2022-04-02T04:52:53.812Z"
   },
   {
    "duration": 8,
    "start_time": "2022-04-02T04:53:04.517Z"
   },
   {
    "duration": 5,
    "start_time": "2022-04-02T04:53:15.452Z"
   },
   {
    "duration": 15,
    "start_time": "2022-04-02T04:53:25.429Z"
   },
   {
    "duration": 14,
    "start_time": "2022-04-02T04:53:58.446Z"
   },
   {
    "duration": 7,
    "start_time": "2022-04-02T04:54:09.087Z"
   },
   {
    "duration": 10,
    "start_time": "2022-04-02T04:54:16.636Z"
   },
   {
    "duration": 6,
    "start_time": "2022-04-02T04:54:20.518Z"
   },
   {
    "duration": 6,
    "start_time": "2022-04-02T04:54:28.503Z"
   },
   {
    "duration": 6,
    "start_time": "2022-04-02T04:54:31.127Z"
   },
   {
    "duration": 8,
    "start_time": "2022-04-02T04:54:58.876Z"
   },
   {
    "duration": 9,
    "start_time": "2022-04-02T04:55:00.259Z"
   },
   {
    "duration": 6,
    "start_time": "2022-04-02T04:55:01.172Z"
   },
   {
    "duration": 5,
    "start_time": "2022-04-02T04:55:31.944Z"
   },
   {
    "duration": 6,
    "start_time": "2022-04-02T04:55:38.332Z"
   },
   {
    "duration": 7,
    "start_time": "2022-04-02T04:55:45.982Z"
   },
   {
    "duration": 9,
    "start_time": "2022-04-02T04:55:50.046Z"
   },
   {
    "duration": 6,
    "start_time": "2022-04-02T04:55:59.316Z"
   },
   {
    "duration": 6,
    "start_time": "2022-04-02T04:56:00.565Z"
   },
   {
    "duration": 5,
    "start_time": "2022-04-02T04:56:08.542Z"
   },
   {
    "duration": 7,
    "start_time": "2022-04-02T04:56:10.314Z"
   },
   {
    "duration": 9,
    "start_time": "2022-04-02T04:56:13.332Z"
   },
   {
    "duration": 6,
    "start_time": "2022-04-02T04:56:14.871Z"
   },
   {
    "duration": 6,
    "start_time": "2022-04-02T04:56:16.294Z"
   },
   {
    "duration": 6,
    "start_time": "2022-04-02T04:56:18.071Z"
   },
   {
    "duration": 13,
    "start_time": "2022-04-02T04:56:22.105Z"
   },
   {
    "duration": 5951,
    "start_time": "2022-04-02T05:04:45.923Z"
   },
   {
    "duration": 7,
    "start_time": "2022-04-02T05:04:51.876Z"
   },
   {
    "duration": 9,
    "start_time": "2022-04-02T05:04:51.885Z"
   },
   {
    "duration": 7,
    "start_time": "2022-04-02T05:04:51.897Z"
   },
   {
    "duration": 9,
    "start_time": "2022-04-02T05:05:02.370Z"
   },
   {
    "duration": 6,
    "start_time": "2022-04-02T05:05:03.981Z"
   },
   {
    "duration": 5,
    "start_time": "2022-04-02T05:05:05.818Z"
   },
   {
    "duration": 6,
    "start_time": "2022-04-02T05:06:04.416Z"
   },
   {
    "duration": 6,
    "start_time": "2022-04-02T05:06:41.682Z"
   },
   {
    "duration": 7,
    "start_time": "2022-04-02T05:06:42.767Z"
   },
   {
    "duration": 9,
    "start_time": "2022-04-02T05:06:43.840Z"
   },
   {
    "duration": 6,
    "start_time": "2022-04-02T05:06:45.995Z"
   },
   {
    "duration": 6,
    "start_time": "2022-04-02T05:06:47.854Z"
   },
   {
    "duration": 5,
    "start_time": "2022-04-02T05:07:14.805Z"
   },
   {
    "duration": 7,
    "start_time": "2022-04-02T05:07:15.206Z"
   },
   {
    "duration": 8,
    "start_time": "2022-04-02T05:07:16.512Z"
   },
   {
    "duration": 6,
    "start_time": "2022-04-02T05:07:18.187Z"
   },
   {
    "duration": 6,
    "start_time": "2022-04-02T05:07:46.211Z"
   },
   {
    "duration": 5,
    "start_time": "2022-04-02T05:07:58.866Z"
   },
   {
    "duration": 9,
    "start_time": "2022-04-02T05:08:09.409Z"
   },
   {
    "duration": 6,
    "start_time": "2022-04-02T05:08:10.898Z"
   },
   {
    "duration": 6,
    "start_time": "2022-04-02T05:08:11.672Z"
   },
   {
    "duration": 5,
    "start_time": "2022-04-02T05:08:14.208Z"
   },
   {
    "duration": 6,
    "start_time": "2022-04-02T05:19:49.494Z"
   },
   {
    "duration": 6,
    "start_time": "2022-04-02T05:20:14.107Z"
   },
   {
    "duration": 8,
    "start_time": "2022-04-02T05:36:20.190Z"
   },
   {
    "duration": 6,
    "start_time": "2022-04-02T05:36:20.701Z"
   },
   {
    "duration": 6,
    "start_time": "2022-04-02T05:36:21.573Z"
   },
   {
    "duration": 102,
    "start_time": "2022-04-02T05:36:34.444Z"
   },
   {
    "duration": 26,
    "start_time": "2022-04-02T05:37:16.007Z"
   },
   {
    "duration": 6,
    "start_time": "2022-04-02T05:38:11.385Z"
   },
   {
    "duration": 8,
    "start_time": "2022-04-02T05:38:12.230Z"
   },
   {
    "duration": 8,
    "start_time": "2022-04-02T05:38:13.081Z"
   },
   {
    "duration": 5,
    "start_time": "2022-04-02T05:38:14.650Z"
   },
   {
    "duration": 24,
    "start_time": "2022-04-02T05:38:16.186Z"
   },
   {
    "duration": 23,
    "start_time": "2022-04-02T05:39:40.337Z"
   },
   {
    "duration": 6,
    "start_time": "2022-04-02T05:40:10.120Z"
   },
   {
    "duration": 24,
    "start_time": "2022-04-02T05:41:20.959Z"
   },
   {
    "duration": 12,
    "start_time": "2022-04-02T05:44:37.706Z"
   },
   {
    "duration": 6,
    "start_time": "2022-04-02T05:45:13.569Z"
   },
   {
    "duration": 12,
    "start_time": "2022-04-02T05:45:15.353Z"
   },
   {
    "duration": 14,
    "start_time": "2022-04-02T05:45:15.876Z"
   },
   {
    "duration": 13,
    "start_time": "2022-04-02T05:45:16.334Z"
   },
   {
    "duration": 4,
    "start_time": "2022-04-02T05:45:17.944Z"
   },
   {
    "duration": 3,
    "start_time": "2022-04-02T05:45:18.568Z"
   },
   {
    "duration": 6,
    "start_time": "2022-04-02T05:45:19.712Z"
   },
   {
    "duration": 5846,
    "start_time": "2022-04-02T05:45:20.713Z"
   },
   {
    "duration": 7,
    "start_time": "2022-04-02T05:45:26.561Z"
   },
   {
    "duration": 4,
    "start_time": "2022-04-02T05:45:28.756Z"
   },
   {
    "duration": 6,
    "start_time": "2022-04-02T05:45:29.578Z"
   },
   {
    "duration": 8,
    "start_time": "2022-04-02T05:45:31.438Z"
   },
   {
    "duration": 5,
    "start_time": "2022-04-02T05:45:32.151Z"
   },
   {
    "duration": 5,
    "start_time": "2022-04-02T05:45:33.097Z"
   },
   {
    "duration": 5,
    "start_time": "2022-04-02T05:45:39.679Z"
   },
   {
    "duration": 9,
    "start_time": "2022-04-02T05:45:40.530Z"
   },
   {
    "duration": 8,
    "start_time": "2022-04-02T05:45:42.298Z"
   },
   {
    "duration": 5,
    "start_time": "2022-04-02T05:45:44.335Z"
   },
   {
    "duration": 12,
    "start_time": "2022-04-02T05:45:46.538Z"
   },
   {
    "duration": 23,
    "start_time": "2022-04-02T05:46:02.019Z"
   },
   {
    "duration": 22,
    "start_time": "2022-04-02T05:52:07.571Z"
   },
   {
    "duration": 13,
    "start_time": "2022-04-02T05:57:24.998Z"
   },
   {
    "duration": 14,
    "start_time": "2022-04-02T05:58:02.384Z"
   },
   {
    "duration": 13,
    "start_time": "2022-04-02T05:58:14.943Z"
   },
   {
    "duration": 12,
    "start_time": "2022-04-02T05:58:36.825Z"
   },
   {
    "duration": 5,
    "start_time": "2022-04-02T06:00:14.010Z"
   },
   {
    "duration": 8,
    "start_time": "2022-04-02T06:00:56.277Z"
   },
   {
    "duration": 5,
    "start_time": "2022-04-02T06:01:18.752Z"
   },
   {
    "duration": 6,
    "start_time": "2022-04-02T06:01:25.147Z"
   },
   {
    "duration": 6,
    "start_time": "2022-04-02T06:02:15.642Z"
   },
   {
    "duration": 10,
    "start_time": "2022-04-02T06:03:14.573Z"
   },
   {
    "duration": 11,
    "start_time": "2022-04-02T06:03:29.647Z"
   },
   {
    "duration": 6,
    "start_time": "2022-04-02T06:03:58.851Z"
   },
   {
    "duration": 5,
    "start_time": "2022-04-02T06:27:32.455Z"
   },
   {
    "duration": 5,
    "start_time": "2022-04-02T06:27:36.439Z"
   },
   {
    "duration": 6475,
    "start_time": "2022-04-02T06:27:38.349Z"
   },
   {
    "duration": 7,
    "start_time": "2022-04-02T06:27:44.827Z"
   },
   {
    "duration": 6,
    "start_time": "2022-04-02T06:27:47.807Z"
   },
   {
    "duration": 8,
    "start_time": "2022-04-02T06:27:49.127Z"
   },
   {
    "duration": 9,
    "start_time": "2022-04-02T06:27:52.527Z"
   },
   {
    "duration": 6,
    "start_time": "2022-04-02T06:27:53.671Z"
   },
   {
    "duration": 6,
    "start_time": "2022-04-02T06:28:31.052Z"
   },
   {
    "duration": 8,
    "start_time": "2022-04-02T06:28:32.811Z"
   },
   {
    "duration": 5,
    "start_time": "2022-04-02T06:28:35.755Z"
   },
   {
    "duration": 7,
    "start_time": "2022-04-02T06:28:36.440Z"
   },
   {
    "duration": 8,
    "start_time": "2022-04-02T06:28:37.424Z"
   },
   {
    "duration": 5,
    "start_time": "2022-04-02T06:28:38.281Z"
   },
   {
    "duration": 6,
    "start_time": "2022-04-02T06:28:45.969Z"
   },
   {
    "duration": 5,
    "start_time": "2022-04-02T06:28:58.001Z"
   },
   {
    "duration": 8,
    "start_time": "2022-04-02T06:28:59.737Z"
   },
   {
    "duration": 5,
    "start_time": "2022-04-02T06:30:20.988Z"
   },
   {
    "duration": 5,
    "start_time": "2022-04-02T06:30:36.857Z"
   },
   {
    "duration": 6,
    "start_time": "2022-04-02T06:30:51.210Z"
   },
   {
    "duration": 6,
    "start_time": "2022-04-02T06:35:54.419Z"
   },
   {
    "duration": 9,
    "start_time": "2022-04-02T06:35:55.258Z"
   },
   {
    "duration": 7,
    "start_time": "2022-04-02T06:36:03.830Z"
   },
   {
    "duration": 15,
    "start_time": "2022-04-02T06:36:09.201Z"
   },
   {
    "duration": 15,
    "start_time": "2022-04-02T06:36:10.180Z"
   },
   {
    "duration": 14,
    "start_time": "2022-04-02T06:36:11.882Z"
   },
   {
    "duration": 4,
    "start_time": "2022-04-02T06:36:20.441Z"
   },
   {
    "duration": 5,
    "start_time": "2022-04-02T06:36:46.169Z"
   },
   {
    "duration": 5,
    "start_time": "2022-04-02T06:36:54.768Z"
   },
   {
    "duration": 6036,
    "start_time": "2022-04-02T06:36:59.437Z"
   },
   {
    "duration": 7,
    "start_time": "2022-04-02T06:37:05.475Z"
   },
   {
    "duration": 26,
    "start_time": "2022-04-02T07:21:42.720Z"
   },
   {
    "duration": 5,
    "start_time": "2022-04-02T07:22:00.659Z"
   },
   {
    "duration": 5,
    "start_time": "2022-04-02T07:22:03.409Z"
   },
   {
    "duration": 9,
    "start_time": "2022-04-02T07:22:04.573Z"
   },
   {
    "duration": 5,
    "start_time": "2022-04-02T07:22:09.172Z"
   },
   {
    "duration": 13,
    "start_time": "2022-04-02T07:22:12.106Z"
   },
   {
    "duration": 13,
    "start_time": "2022-04-02T07:22:12.474Z"
   },
   {
    "duration": 12,
    "start_time": "2022-04-02T07:22:13.058Z"
   },
   {
    "duration": 4,
    "start_time": "2022-04-02T07:22:14.729Z"
   },
   {
    "duration": 4,
    "start_time": "2022-04-02T07:23:39.749Z"
   },
   {
    "duration": 4,
    "start_time": "2022-04-02T07:23:43.005Z"
   },
   {
    "duration": 28,
    "start_time": "2022-04-02T07:23:45.097Z"
   },
   {
    "duration": 34,
    "start_time": "2022-04-02T07:25:47.264Z"
   },
   {
    "duration": 28,
    "start_time": "2022-04-02T07:26:41.969Z"
   },
   {
    "duration": 5,
    "start_time": "2022-04-02T07:27:19.230Z"
   },
   {
    "duration": 414,
    "start_time": "2022-04-02T07:27:19.772Z"
   },
   {
    "duration": 14,
    "start_time": "2022-04-02T07:27:20.311Z"
   },
   {
    "duration": 20,
    "start_time": "2022-04-02T07:27:21.116Z"
   },
   {
    "duration": 20,
    "start_time": "2022-04-02T07:27:21.811Z"
   },
   {
    "duration": 20,
    "start_time": "2022-04-02T07:27:22.764Z"
   },
   {
    "duration": 188,
    "start_time": "2022-04-02T07:27:24.372Z"
   },
   {
    "duration": 39,
    "start_time": "2022-04-02T07:27:25.924Z"
   },
   {
    "duration": 809,
    "start_time": "2022-04-02T07:27:27.820Z"
   },
   {
    "duration": 874,
    "start_time": "2022-04-02T07:27:29.924Z"
   },
   {
    "duration": 972,
    "start_time": "2022-04-02T07:27:31.781Z"
   },
   {
    "duration": 12,
    "start_time": "2022-04-02T07:27:35.763Z"
   },
   {
    "duration": 32,
    "start_time": "2022-04-02T07:27:36.615Z"
   },
   {
    "duration": 18,
    "start_time": "2022-04-02T07:27:37.461Z"
   },
   {
    "duration": 11,
    "start_time": "2022-04-02T07:27:38.245Z"
   },
   {
    "duration": 12,
    "start_time": "2022-04-02T07:27:40.844Z"
   },
   {
    "duration": 19,
    "start_time": "2022-04-02T07:27:43.132Z"
   },
   {
    "duration": 10,
    "start_time": "2022-04-02T07:27:44.349Z"
   },
   {
    "duration": 13,
    "start_time": "2022-04-02T07:27:45.245Z"
   },
   {
    "duration": 19,
    "start_time": "2022-04-02T07:27:46.449Z"
   },
   {
    "duration": 8,
    "start_time": "2022-04-02T07:27:49.277Z"
   },
   {
    "duration": 13,
    "start_time": "2022-04-02T07:27:52.951Z"
   },
   {
    "duration": 19,
    "start_time": "2022-04-02T07:27:54.050Z"
   },
   {
    "duration": 5,
    "start_time": "2022-04-02T07:28:15.420Z"
   },
   {
    "duration": 5,
    "start_time": "2022-04-02T07:28:18.179Z"
   },
   {
    "duration": 9,
    "start_time": "2022-04-02T07:28:19.019Z"
   },
   {
    "duration": 5,
    "start_time": "2022-04-02T07:28:21.602Z"
   },
   {
    "duration": 13,
    "start_time": "2022-04-02T07:28:26.483Z"
   },
   {
    "duration": 13,
    "start_time": "2022-04-02T07:28:27.125Z"
   },
   {
    "duration": 14,
    "start_time": "2022-04-02T07:28:27.892Z"
   },
   {
    "duration": 4,
    "start_time": "2022-04-02T07:28:29.598Z"
   },
   {
    "duration": 4,
    "start_time": "2022-04-02T07:28:30.267Z"
   },
   {
    "duration": 6,
    "start_time": "2022-04-02T07:28:32.410Z"
   },
   {
    "duration": 32,
    "start_time": "2022-04-02T07:28:34.168Z"
   },
   {
    "duration": 25,
    "start_time": "2022-04-02T07:31:17.867Z"
   },
   {
    "duration": 25,
    "start_time": "2022-04-02T07:41:14.569Z"
   },
   {
    "duration": 25,
    "start_time": "2022-04-02T07:41:36.222Z"
   },
   {
    "duration": 4,
    "start_time": "2022-04-02T07:43:06.908Z"
   },
   {
    "duration": 12,
    "start_time": "2022-04-02T07:43:08.635Z"
   },
   {
    "duration": 14,
    "start_time": "2022-04-02T07:43:09.147Z"
   },
   {
    "duration": 12,
    "start_time": "2022-04-02T07:43:09.659Z"
   },
   {
    "duration": 3,
    "start_time": "2022-04-02T07:43:10.875Z"
   },
   {
    "duration": 4,
    "start_time": "2022-04-02T07:43:11.400Z"
   },
   {
    "duration": 4,
    "start_time": "2022-04-02T07:43:12.440Z"
   },
   {
    "duration": 32,
    "start_time": "2022-04-02T07:43:13.387Z"
   },
   {
    "duration": 5,
    "start_time": "2022-04-02T07:45:50.435Z"
   },
   {
    "duration": 11,
    "start_time": "2022-04-02T07:45:53.139Z"
   },
   {
    "duration": 11,
    "start_time": "2022-04-02T07:45:53.436Z"
   },
   {
    "duration": 12,
    "start_time": "2022-04-02T07:46:06.547Z"
   },
   {
    "duration": 12,
    "start_time": "2022-04-02T07:46:52.414Z"
   },
   {
    "duration": 12,
    "start_time": "2022-04-02T07:46:53.357Z"
   },
   {
    "duration": 13,
    "start_time": "2022-04-02T07:46:54.470Z"
   },
   {
    "duration": 24,
    "start_time": "2022-04-02T07:48:23.949Z"
   },
   {
    "duration": 24,
    "start_time": "2022-04-02T07:51:43.189Z"
   },
   {
    "duration": 5,
    "start_time": "2022-04-02T07:57:03.791Z"
   },
   {
    "duration": 5,
    "start_time": "2022-04-02T07:57:06.424Z"
   },
   {
    "duration": 10,
    "start_time": "2022-04-02T07:57:07.185Z"
   },
   {
    "duration": 5,
    "start_time": "2022-04-02T07:57:09.991Z"
   },
   {
    "duration": 11,
    "start_time": "2022-04-02T07:57:14.664Z"
   },
   {
    "duration": 12,
    "start_time": "2022-04-02T07:57:20.921Z"
   },
   {
    "duration": 12,
    "start_time": "2022-04-02T07:57:26.736Z"
   },
   {
    "duration": 12,
    "start_time": "2022-04-02T07:57:30.946Z"
   },
   {
    "duration": 3,
    "start_time": "2022-04-02T07:57:33.752Z"
   },
   {
    "duration": 3,
    "start_time": "2022-04-02T07:57:34.218Z"
   },
   {
    "duration": 3,
    "start_time": "2022-04-02T07:57:35.456Z"
   },
   {
    "duration": 7,
    "start_time": "2022-04-02T07:57:37.455Z"
   },
   {
    "duration": 7,
    "start_time": "2022-04-02T07:57:49.443Z"
   },
   {
    "duration": 5,
    "start_time": "2022-04-02T07:58:30.763Z"
   },
   {
    "duration": 4,
    "start_time": "2022-04-02T07:59:09.915Z"
   },
   {
    "duration": 15,
    "start_time": "2022-04-02T08:00:08.727Z"
   },
   {
    "duration": 6,
    "start_time": "2022-04-02T08:01:07.470Z"
   },
   {
    "duration": 5,
    "start_time": "2022-04-02T08:01:08.377Z"
   },
   {
    "duration": 4,
    "start_time": "2022-04-02T08:01:09.291Z"
   },
   {
    "duration": 28,
    "start_time": "2022-04-02T08:01:17.266Z"
   },
   {
    "duration": 7,
    "start_time": "2022-04-02T08:06:37.781Z"
   },
   {
    "duration": 4,
    "start_time": "2022-04-02T08:06:39.057Z"
   },
   {
    "duration": 3,
    "start_time": "2022-04-02T08:06:39.591Z"
   },
   {
    "duration": 27,
    "start_time": "2022-04-02T08:06:43.851Z"
   },
   {
    "duration": 25,
    "start_time": "2022-04-02T08:09:25.302Z"
   },
   {
    "duration": 5,
    "start_time": "2022-04-02T08:09:34.637Z"
   },
   {
    "duration": 392,
    "start_time": "2022-04-02T08:09:35.172Z"
   },
   {
    "duration": 14,
    "start_time": "2022-04-02T08:09:35.712Z"
   },
   {
    "duration": 20,
    "start_time": "2022-04-02T08:09:36.113Z"
   },
   {
    "duration": 19,
    "start_time": "2022-04-02T08:09:36.701Z"
   },
   {
    "duration": 20,
    "start_time": "2022-04-02T08:09:37.253Z"
   },
   {
    "duration": 184,
    "start_time": "2022-04-02T08:09:38.532Z"
   },
   {
    "duration": 36,
    "start_time": "2022-04-02T08:09:41.077Z"
   },
   {
    "duration": 854,
    "start_time": "2022-04-02T08:09:42.565Z"
   },
   {
    "duration": 771,
    "start_time": "2022-04-02T08:09:44.101Z"
   },
   {
    "duration": 852,
    "start_time": "2022-04-02T08:09:44.974Z"
   },
   {
    "duration": 10,
    "start_time": "2022-04-02T08:09:55.172Z"
   },
   {
    "duration": 31,
    "start_time": "2022-04-02T08:09:56.300Z"
   },
   {
    "duration": 15,
    "start_time": "2022-04-02T08:09:58.256Z"
   },
   {
    "duration": 74,
    "start_time": "2022-04-02T08:09:58.795Z"
   },
   {
    "duration": 10,
    "start_time": "2022-04-02T08:10:15.145Z"
   },
   {
    "duration": 15,
    "start_time": "2022-04-02T08:10:16.685Z"
   },
   {
    "duration": 7,
    "start_time": "2022-04-02T08:10:17.543Z"
   },
   {
    "duration": 9,
    "start_time": "2022-04-02T08:10:18.151Z"
   },
   {
    "duration": 15,
    "start_time": "2022-04-02T08:10:18.894Z"
   },
   {
    "duration": 9,
    "start_time": "2022-04-02T08:10:19.840Z"
   },
   {
    "duration": 10,
    "start_time": "2022-04-02T08:10:20.568Z"
   },
   {
    "duration": 14,
    "start_time": "2022-04-02T08:10:21.302Z"
   },
   {
    "duration": 5,
    "start_time": "2022-04-02T08:10:26.139Z"
   },
   {
    "duration": 6,
    "start_time": "2022-04-02T08:10:29.114Z"
   },
   {
    "duration": 9,
    "start_time": "2022-04-02T08:10:31.164Z"
   },
   {
    "duration": 6,
    "start_time": "2022-04-02T08:10:47.436Z"
   },
   {
    "duration": 12,
    "start_time": "2022-04-02T08:10:50.891Z"
   },
   {
    "duration": 11,
    "start_time": "2022-04-02T08:10:51.551Z"
   },
   {
    "duration": 12,
    "start_time": "2022-04-02T08:10:52.064Z"
   },
   {
    "duration": 4,
    "start_time": "2022-04-02T08:10:53.340Z"
   },
   {
    "duration": 4,
    "start_time": "2022-04-02T08:10:54.042Z"
   },
   {
    "duration": 3,
    "start_time": "2022-04-02T08:10:55.163Z"
   },
   {
    "duration": 7,
    "start_time": "2022-04-02T08:10:58.184Z"
   },
   {
    "duration": 4,
    "start_time": "2022-04-02T08:10:59.215Z"
   },
   {
    "duration": 3,
    "start_time": "2022-04-02T08:11:00.016Z"
   },
   {
    "duration": 17,
    "start_time": "2022-04-02T08:11:04.149Z"
   },
   {
    "duration": 11,
    "start_time": "2022-04-02T08:11:07.630Z"
   },
   {
    "duration": 4,
    "start_time": "2022-04-02T08:14:35.954Z"
   },
   {
    "duration": 12,
    "start_time": "2022-04-02T08:14:37.750Z"
   },
   {
    "duration": 12,
    "start_time": "2022-04-02T08:14:38.286Z"
   },
   {
    "duration": 12,
    "start_time": "2022-04-02T08:14:38.792Z"
   },
   {
    "duration": 3,
    "start_time": "2022-04-02T08:14:40.029Z"
   },
   {
    "duration": 3,
    "start_time": "2022-04-02T08:14:40.557Z"
   },
   {
    "duration": 5,
    "start_time": "2022-04-02T08:14:41.790Z"
   },
   {
    "duration": 7,
    "start_time": "2022-04-02T08:14:42.999Z"
   },
   {
    "duration": 3,
    "start_time": "2022-04-02T08:14:44.881Z"
   },
   {
    "duration": 3,
    "start_time": "2022-04-02T08:14:45.500Z"
   },
   {
    "duration": 18,
    "start_time": "2022-04-02T08:14:51.182Z"
   },
   {
    "duration": 5,
    "start_time": "2022-04-02T08:15:06.216Z"
   },
   {
    "duration": 485,
    "start_time": "2022-04-02T08:15:06.424Z"
   },
   {
    "duration": 14,
    "start_time": "2022-04-02T08:15:06.912Z"
   },
   {
    "duration": 30,
    "start_time": "2022-04-02T08:15:06.928Z"
   },
   {
    "duration": 19,
    "start_time": "2022-04-02T08:15:07.044Z"
   },
   {
    "duration": 20,
    "start_time": "2022-04-02T08:15:07.210Z"
   },
   {
    "duration": 239,
    "start_time": "2022-04-02T08:15:07.606Z"
   },
   {
    "duration": 38,
    "start_time": "2022-04-02T08:15:07.975Z"
   },
   {
    "duration": 905,
    "start_time": "2022-04-02T08:15:08.332Z"
   },
   {
    "duration": 951,
    "start_time": "2022-04-02T08:15:09.240Z"
   },
   {
    "duration": 1074,
    "start_time": "2022-04-02T08:15:10.194Z"
   },
   {
    "duration": 10,
    "start_time": "2022-04-02T08:15:11.271Z"
   },
   {
    "duration": 34,
    "start_time": "2022-04-02T08:15:11.284Z"
   },
   {
    "duration": 16,
    "start_time": "2022-04-02T08:15:11.320Z"
   },
   {
    "duration": 15,
    "start_time": "2022-04-02T08:15:11.368Z"
   },
   {
    "duration": 107,
    "start_time": "2022-04-02T08:15:11.467Z"
   },
   {
    "duration": 15,
    "start_time": "2022-04-02T08:15:11.577Z"
   },
   {
    "duration": 76,
    "start_time": "2022-04-02T08:15:11.595Z"
   },
   {
    "duration": 97,
    "start_time": "2022-04-02T08:15:11.674Z"
   },
   {
    "duration": 13,
    "start_time": "2022-04-02T08:15:12.124Z"
   },
   {
    "duration": 9,
    "start_time": "2022-04-02T08:15:12.854Z"
   },
   {
    "duration": 9,
    "start_time": "2022-04-02T08:15:13.725Z"
   },
   {
    "duration": 15,
    "start_time": "2022-04-02T08:15:15.001Z"
   },
   {
    "duration": 4,
    "start_time": "2022-04-02T08:15:19.695Z"
   },
   {
    "duration": 5,
    "start_time": "2022-04-02T08:15:22.453Z"
   },
   {
    "duration": 9,
    "start_time": "2022-04-02T08:15:23.110Z"
   },
   {
    "duration": 6,
    "start_time": "2022-04-02T08:15:25.365Z"
   },
   {
    "duration": 14,
    "start_time": "2022-04-02T08:15:27.549Z"
   },
   {
    "duration": 13,
    "start_time": "2022-04-02T08:15:28.053Z"
   },
   {
    "duration": 17,
    "start_time": "2022-04-02T08:15:28.606Z"
   },
   {
    "duration": 4,
    "start_time": "2022-04-02T08:15:30.751Z"
   },
   {
    "duration": 3,
    "start_time": "2022-04-02T08:15:31.287Z"
   },
   {
    "duration": 6,
    "start_time": "2022-04-02T08:15:32.438Z"
   },
   {
    "duration": 7,
    "start_time": "2022-04-02T08:15:33.400Z"
   },
   {
    "duration": 5,
    "start_time": "2022-04-02T08:15:34.249Z"
   },
   {
    "duration": 4,
    "start_time": "2022-04-02T08:15:34.854Z"
   },
   {
    "duration": 17,
    "start_time": "2022-04-02T08:15:39.615Z"
   },
   {
    "duration": 6,
    "start_time": "2022-04-02T08:23:16.818Z"
   },
   {
    "duration": 525,
    "start_time": "2022-04-02T08:23:17.108Z"
   },
   {
    "duration": 14,
    "start_time": "2022-04-02T08:23:17.636Z"
   },
   {
    "duration": 31,
    "start_time": "2022-04-02T08:23:17.719Z"
   },
   {
    "duration": 20,
    "start_time": "2022-04-02T08:23:17.990Z"
   },
   {
    "duration": 21,
    "start_time": "2022-04-02T08:23:18.218Z"
   },
   {
    "duration": 190,
    "start_time": "2022-04-02T08:23:18.632Z"
   },
   {
    "duration": 41,
    "start_time": "2022-04-02T08:23:19.115Z"
   },
   {
    "duration": 813,
    "start_time": "2022-04-02T08:23:19.610Z"
   },
   {
    "duration": 854,
    "start_time": "2022-04-02T08:23:20.425Z"
   },
   {
    "duration": 839,
    "start_time": "2022-04-02T08:23:21.281Z"
   },
   {
    "duration": 9,
    "start_time": "2022-04-02T08:23:22.123Z"
   },
   {
    "duration": 49,
    "start_time": "2022-04-02T08:23:22.134Z"
   },
   {
    "duration": 14,
    "start_time": "2022-04-02T08:23:22.185Z"
   },
   {
    "duration": 7,
    "start_time": "2022-04-02T08:23:22.201Z"
   },
   {
    "duration": 11,
    "start_time": "2022-04-02T08:23:29.790Z"
   },
   {
    "duration": 14,
    "start_time": "2022-04-02T08:23:31.818Z"
   },
   {
    "duration": 7,
    "start_time": "2022-04-02T08:23:32.515Z"
   },
   {
    "duration": 9,
    "start_time": "2022-04-02T08:23:33.129Z"
   },
   {
    "duration": 14,
    "start_time": "2022-04-02T08:23:33.749Z"
   },
   {
    "duration": 14,
    "start_time": "2022-04-02T08:23:34.393Z"
   },
   {
    "duration": 10,
    "start_time": "2022-04-02T08:23:36.528Z"
   },
   {
    "duration": 13,
    "start_time": "2022-04-02T08:23:37.281Z"
   },
   {
    "duration": 5,
    "start_time": "2022-04-02T08:23:42.682Z"
   },
   {
    "duration": 5,
    "start_time": "2022-04-02T08:23:45.400Z"
   },
   {
    "duration": 10,
    "start_time": "2022-04-02T08:23:46.669Z"
   },
   {
    "duration": 5,
    "start_time": "2022-04-02T08:23:48.458Z"
   },
   {
    "duration": 13,
    "start_time": "2022-04-02T08:23:52.967Z"
   },
   {
    "duration": 14,
    "start_time": "2022-04-02T08:23:53.420Z"
   },
   {
    "duration": 13,
    "start_time": "2022-04-02T08:23:54.458Z"
   },
   {
    "duration": 4,
    "start_time": "2022-04-02T08:23:56.313Z"
   },
   {
    "duration": 3,
    "start_time": "2022-04-02T08:23:56.960Z"
   },
   {
    "duration": 6,
    "start_time": "2022-04-02T08:23:58.129Z"
   },
   {
    "duration": 10,
    "start_time": "2022-04-02T08:24:00.339Z"
   },
   {
    "duration": 5,
    "start_time": "2022-04-02T08:24:01.370Z"
   },
   {
    "duration": 4,
    "start_time": "2022-04-02T08:24:02.123Z"
   },
   {
    "duration": 17,
    "start_time": "2022-04-02T08:24:08.089Z"
   },
   {
    "duration": 7,
    "start_time": "2022-04-02T08:27:41.230Z"
   },
   {
    "duration": 3,
    "start_time": "2022-04-02T08:27:42.773Z"
   },
   {
    "duration": 3,
    "start_time": "2022-04-02T08:27:43.726Z"
   },
   {
    "duration": 17,
    "start_time": "2022-04-02T08:27:48.854Z"
   },
   {
    "duration": 97,
    "start_time": "2022-04-02T08:35:28.952Z"
   },
   {
    "duration": 4,
    "start_time": "2022-04-02T08:35:30.255Z"
   },
   {
    "duration": 4,
    "start_time": "2022-04-02T08:35:30.907Z"
   },
   {
    "duration": 4,
    "start_time": "2022-04-02T08:35:50.758Z"
   },
   {
    "duration": 11,
    "start_time": "2022-04-02T08:35:53.698Z"
   },
   {
    "duration": 97,
    "start_time": "2022-04-02T08:36:43.711Z"
   },
   {
    "duration": 4,
    "start_time": "2022-04-02T08:36:44.581Z"
   },
   {
    "duration": 4,
    "start_time": "2022-04-02T08:36:45.095Z"
   },
   {
    "duration": 3,
    "start_time": "2022-04-02T08:36:50.771Z"
   },
   {
    "duration": 11,
    "start_time": "2022-04-02T08:36:51.944Z"
   },
   {
    "duration": 13,
    "start_time": "2022-04-02T08:37:06.269Z"
   },
   {
    "duration": 98,
    "start_time": "2022-04-02T08:37:36.521Z"
   },
   {
    "duration": 114,
    "start_time": "2022-04-02T08:37:55.802Z"
   },
   {
    "duration": 17,
    "start_time": "2022-04-02T08:38:27.120Z"
   },
   {
    "duration": 6,
    "start_time": "2022-04-02T08:38:59.618Z"
   },
   {
    "duration": 18,
    "start_time": "2022-04-02T08:39:00.194Z"
   },
   {
    "duration": 5,
    "start_time": "2022-04-02T08:39:12.925Z"
   },
   {
    "duration": 393,
    "start_time": "2022-04-02T08:39:13.147Z"
   },
   {
    "duration": 13,
    "start_time": "2022-04-02T08:39:13.543Z"
   },
   {
    "duration": 22,
    "start_time": "2022-04-02T08:39:13.743Z"
   },
   {
    "duration": 21,
    "start_time": "2022-04-02T08:39:14.753Z"
   },
   {
    "duration": 20,
    "start_time": "2022-04-02T08:39:14.776Z"
   },
   {
    "duration": 196,
    "start_time": "2022-04-02T08:39:15.168Z"
   },
   {
    "duration": 38,
    "start_time": "2022-04-02T08:39:16.600Z"
   },
   {
    "duration": 897,
    "start_time": "2022-04-02T08:39:17.739Z"
   },
   {
    "duration": 865,
    "start_time": "2022-04-02T08:39:18.639Z"
   },
   {
    "duration": 864,
    "start_time": "2022-04-02T08:39:19.507Z"
   },
   {
    "duration": 10,
    "start_time": "2022-04-02T08:39:22.429Z"
   },
   {
    "duration": 29,
    "start_time": "2022-04-02T08:39:23.432Z"
   },
   {
    "duration": 15,
    "start_time": "2022-04-02T08:39:24.799Z"
   },
   {
    "duration": 6,
    "start_time": "2022-04-02T08:39:26.350Z"
   },
   {
    "duration": 11,
    "start_time": "2022-04-02T08:39:28.171Z"
   },
   {
    "duration": 14,
    "start_time": "2022-04-02T08:39:29.729Z"
   },
   {
    "duration": 12,
    "start_time": "2022-04-02T08:39:30.423Z"
   },
   {
    "duration": 9,
    "start_time": "2022-04-02T08:39:31.050Z"
   },
   {
    "duration": 16,
    "start_time": "2022-04-02T08:39:31.783Z"
   },
   {
    "duration": 15,
    "start_time": "2022-04-02T08:39:32.495Z"
   },
   {
    "duration": 10,
    "start_time": "2022-04-02T08:39:33.159Z"
   },
   {
    "duration": 13,
    "start_time": "2022-04-02T08:39:33.944Z"
   },
   {
    "duration": 5,
    "start_time": "2022-04-02T08:39:39.165Z"
   },
   {
    "duration": 5,
    "start_time": "2022-04-02T08:39:42.062Z"
   },
   {
    "duration": 9,
    "start_time": "2022-04-02T08:39:43.025Z"
   },
   {
    "duration": 5,
    "start_time": "2022-04-02T08:39:46.654Z"
   },
   {
    "duration": 12,
    "start_time": "2022-04-02T08:39:48.574Z"
   },
   {
    "duration": 13,
    "start_time": "2022-04-02T08:39:49.071Z"
   },
   {
    "duration": 13,
    "start_time": "2022-04-02T08:39:49.631Z"
   },
   {
    "duration": 4,
    "start_time": "2022-04-02T08:39:51.295Z"
   },
   {
    "duration": 4,
    "start_time": "2022-04-02T08:39:52.302Z"
   },
   {
    "duration": 6,
    "start_time": "2022-04-02T08:39:54.410Z"
   },
   {
    "duration": 17,
    "start_time": "2022-04-02T08:39:55.631Z"
   },
   {
    "duration": 19,
    "start_time": "2022-04-02T08:41:04.178Z"
   },
   {
    "duration": 17,
    "start_time": "2022-04-02T08:42:47.432Z"
   },
   {
    "duration": 6,
    "start_time": "2022-04-02T08:43:15.826Z"
   },
   {
    "duration": 425,
    "start_time": "2022-04-02T08:43:16.292Z"
   },
   {
    "duration": 14,
    "start_time": "2022-04-02T08:43:16.720Z"
   },
   {
    "duration": 25,
    "start_time": "2022-04-02T08:43:16.938Z"
   },
   {
    "duration": 21,
    "start_time": "2022-04-02T08:43:17.222Z"
   },
   {
    "duration": 22,
    "start_time": "2022-04-02T08:43:17.512Z"
   },
   {
    "duration": 232,
    "start_time": "2022-04-02T08:43:18.024Z"
   },
   {
    "duration": 38,
    "start_time": "2022-04-02T08:43:18.515Z"
   },
   {
    "duration": 819,
    "start_time": "2022-04-02T08:43:19.008Z"
   },
   {
    "duration": 750,
    "start_time": "2022-04-02T08:43:19.830Z"
   },
   {
    "duration": 1023,
    "start_time": "2022-04-02T08:43:20.582Z"
   },
   {
    "duration": 10,
    "start_time": "2022-04-02T08:43:21.608Z"
   },
   {
    "duration": 51,
    "start_time": "2022-04-02T08:43:21.621Z"
   },
   {
    "duration": 14,
    "start_time": "2022-04-02T08:43:21.674Z"
   },
   {
    "duration": 13,
    "start_time": "2022-04-02T08:43:21.690Z"
   },
   {
    "duration": 10,
    "start_time": "2022-04-02T08:43:22.017Z"
   },
   {
    "duration": 14,
    "start_time": "2022-04-02T08:43:22.610Z"
   },
   {
    "duration": 11,
    "start_time": "2022-04-02T08:43:22.955Z"
   },
   {
    "duration": 11,
    "start_time": "2022-04-02T08:43:23.183Z"
   },
   {
    "duration": 15,
    "start_time": "2022-04-02T08:43:23.468Z"
   },
   {
    "duration": 15,
    "start_time": "2022-04-02T08:43:23.713Z"
   },
   {
    "duration": 9,
    "start_time": "2022-04-02T08:43:23.946Z"
   },
   {
    "duration": 16,
    "start_time": "2022-04-02T08:43:24.115Z"
   },
   {
    "duration": 6,
    "start_time": "2022-04-02T08:43:28.544Z"
   },
   {
    "duration": 5,
    "start_time": "2022-04-02T08:43:32.927Z"
   },
   {
    "duration": 9,
    "start_time": "2022-04-02T08:43:33.745Z"
   },
   {
    "duration": 5,
    "start_time": "2022-04-02T08:43:52.881Z"
   },
   {
    "duration": 12,
    "start_time": "2022-04-02T08:43:58.093Z"
   },
   {
    "duration": 13,
    "start_time": "2022-04-02T08:43:59.089Z"
   },
   {
    "duration": 12,
    "start_time": "2022-04-02T08:44:00.082Z"
   },
   {
    "duration": 4,
    "start_time": "2022-04-02T08:44:04.151Z"
   },
   {
    "duration": 3,
    "start_time": "2022-04-02T08:44:04.753Z"
   },
   {
    "duration": 5,
    "start_time": "2022-04-02T08:44:12.483Z"
   },
   {
    "duration": 17,
    "start_time": "2022-04-02T08:44:43.204Z"
   },
   {
    "duration": 17,
    "start_time": "2022-04-02T08:44:54.932Z"
   },
   {
    "duration": 18,
    "start_time": "2022-04-02T08:46:17.923Z"
   },
   {
    "duration": 2237,
    "start_time": "2022-04-02T08:47:21.470Z"
   },
   {
    "duration": 2215,
    "start_time": "2022-04-02T08:48:57.067Z"
   },
   {
    "duration": 6,
    "start_time": "2022-04-02T08:49:27.040Z"
   },
   {
    "duration": 429,
    "start_time": "2022-04-02T08:49:27.219Z"
   },
   {
    "duration": 21,
    "start_time": "2022-04-02T08:49:27.651Z"
   },
   {
    "duration": 33,
    "start_time": "2022-04-02T08:49:27.675Z"
   },
   {
    "duration": 22,
    "start_time": "2022-04-02T08:49:27.830Z"
   },
   {
    "duration": 22,
    "start_time": "2022-04-02T08:49:28.084Z"
   },
   {
    "duration": 199,
    "start_time": "2022-04-02T08:49:28.363Z"
   },
   {
    "duration": 38,
    "start_time": "2022-04-02T08:49:28.698Z"
   },
   {
    "duration": 862,
    "start_time": "2022-04-02T08:49:29.050Z"
   },
   {
    "duration": 771,
    "start_time": "2022-04-02T08:49:29.915Z"
   },
   {
    "duration": 1030,
    "start_time": "2022-04-02T08:49:30.689Z"
   },
   {
    "duration": 10,
    "start_time": "2022-04-02T08:49:31.721Z"
   },
   {
    "duration": 49,
    "start_time": "2022-04-02T08:49:31.734Z"
   },
   {
    "duration": 17,
    "start_time": "2022-04-02T08:49:31.785Z"
   },
   {
    "duration": 8,
    "start_time": "2022-04-02T08:49:31.804Z"
   },
   {
    "duration": 10,
    "start_time": "2022-04-02T08:49:32.690Z"
   },
   {
    "duration": 15,
    "start_time": "2022-04-02T08:49:33.596Z"
   },
   {
    "duration": 7,
    "start_time": "2022-04-02T08:49:34.017Z"
   },
   {
    "duration": 10,
    "start_time": "2022-04-02T08:49:34.433Z"
   },
   {
    "duration": 15,
    "start_time": "2022-04-02T08:49:34.893Z"
   },
   {
    "duration": 13,
    "start_time": "2022-04-02T08:49:35.269Z"
   },
   {
    "duration": 9,
    "start_time": "2022-04-02T08:49:35.634Z"
   },
   {
    "duration": 15,
    "start_time": "2022-04-02T08:49:36.013Z"
   },
   {
    "duration": 5,
    "start_time": "2022-04-02T08:49:39.737Z"
   },
   {
    "duration": 4,
    "start_time": "2022-04-02T08:49:44.025Z"
   },
   {
    "duration": 10,
    "start_time": "2022-04-02T08:50:28.778Z"
   },
   {
    "duration": 5,
    "start_time": "2022-04-02T08:50:33.067Z"
   },
   {
    "duration": 13,
    "start_time": "2022-04-02T08:50:39.290Z"
   },
   {
    "duration": 16,
    "start_time": "2022-04-02T08:50:39.538Z"
   },
   {
    "duration": 12,
    "start_time": "2022-04-02T08:50:39.932Z"
   },
   {
    "duration": 4,
    "start_time": "2022-04-02T08:50:41.115Z"
   },
   {
    "duration": 4,
    "start_time": "2022-04-02T08:50:41.601Z"
   },
   {
    "duration": 7,
    "start_time": "2022-04-02T08:50:42.595Z"
   },
   {
    "duration": 2512,
    "start_time": "2022-04-02T08:50:44.419Z"
   },
   {
    "duration": 2547,
    "start_time": "2022-04-02T08:51:16.822Z"
   },
   {
    "duration": 2341,
    "start_time": "2022-04-02T08:51:47.690Z"
   },
   {
    "duration": 2476,
    "start_time": "2022-04-02T08:52:46.182Z"
   },
   {
    "duration": 2285,
    "start_time": "2022-04-02T08:54:06.955Z"
   },
   {
    "duration": 2254,
    "start_time": "2022-04-02T08:54:41.144Z"
   },
   {
    "duration": 2219,
    "start_time": "2022-04-02T08:55:25.127Z"
   },
   {
    "duration": 12,
    "start_time": "2022-04-02T08:56:08.667Z"
   },
   {
    "duration": 22,
    "start_time": "2022-04-02T08:57:16.897Z"
   },
   {
    "duration": 26,
    "start_time": "2022-04-02T08:58:45.648Z"
   },
   {
    "duration": 26,
    "start_time": "2022-04-02T08:59:30.219Z"
   },
   {
    "duration": 26,
    "start_time": "2022-04-02T09:00:02.986Z"
   },
   {
    "duration": 5,
    "start_time": "2022-04-02T09:00:17.268Z"
   },
   {
    "duration": 5,
    "start_time": "2022-04-02T09:00:29.849Z"
   },
   {
    "duration": 27,
    "start_time": "2022-04-02T09:00:50.738Z"
   },
   {
    "duration": 6,
    "start_time": "2022-04-02T09:00:54.602Z"
   },
   {
    "duration": 12,
    "start_time": "2022-04-02T09:36:20.796Z"
   },
   {
    "duration": 27,
    "start_time": "2022-04-02T09:36:30.997Z"
   },
   {
    "duration": 5,
    "start_time": "2022-04-02T13:27:52.761Z"
   },
   {
    "duration": 32,
    "start_time": "2022-04-02T13:28:34.661Z"
   },
   {
    "duration": 6,
    "start_time": "2022-04-02T13:32:33.131Z"
   },
   {
    "duration": 408,
    "start_time": "2022-04-02T13:32:33.518Z"
   },
   {
    "duration": 15,
    "start_time": "2022-04-02T13:32:33.930Z"
   },
   {
    "duration": 23,
    "start_time": "2022-04-02T13:32:34.304Z"
   },
   {
    "duration": 21,
    "start_time": "2022-04-02T13:32:34.643Z"
   },
   {
    "duration": 20,
    "start_time": "2022-04-02T13:32:34.995Z"
   },
   {
    "duration": 187,
    "start_time": "2022-04-02T13:32:36.035Z"
   },
   {
    "duration": 40,
    "start_time": "2022-04-02T13:32:37.276Z"
   },
   {
    "duration": 839,
    "start_time": "2022-04-02T13:32:38.084Z"
   },
   {
    "duration": 781,
    "start_time": "2022-04-02T13:32:38.925Z"
   },
   {
    "duration": 816,
    "start_time": "2022-04-02T13:32:39.709Z"
   },
   {
    "duration": 10,
    "start_time": "2022-04-02T13:32:41.358Z"
   },
   {
    "duration": 31,
    "start_time": "2022-04-02T13:32:42.071Z"
   },
   {
    "duration": 16,
    "start_time": "2022-04-02T13:32:42.628Z"
   },
   {
    "duration": 15,
    "start_time": "2022-04-02T13:32:43.230Z"
   },
   {
    "duration": 10,
    "start_time": "2022-04-02T13:32:44.485Z"
   },
   {
    "duration": 14,
    "start_time": "2022-04-02T13:32:45.748Z"
   },
   {
    "duration": 11,
    "start_time": "2022-04-02T13:32:46.355Z"
   },
   {
    "duration": 11,
    "start_time": "2022-04-02T13:32:47.007Z"
   },
   {
    "duration": 16,
    "start_time": "2022-04-02T13:32:47.631Z"
   },
   {
    "duration": 12,
    "start_time": "2022-04-02T13:32:48.307Z"
   },
   {
    "duration": 9,
    "start_time": "2022-04-02T13:32:48.891Z"
   },
   {
    "duration": 14,
    "start_time": "2022-04-02T13:32:49.537Z"
   },
   {
    "duration": 5,
    "start_time": "2022-04-02T13:32:56.963Z"
   },
   {
    "duration": 5,
    "start_time": "2022-04-02T13:33:00.381Z"
   },
   {
    "duration": 9,
    "start_time": "2022-04-02T13:33:01.234Z"
   },
   {
    "duration": 5,
    "start_time": "2022-04-02T13:33:04.261Z"
   },
   {
    "duration": 32,
    "start_time": "2022-04-02T13:33:09.453Z"
   },
   {
    "duration": 5,
    "start_time": "2022-04-02T13:34:58.750Z"
   },
   {
    "duration": 17,
    "start_time": "2022-04-02T13:35:02.790Z"
   },
   {
    "duration": 6,
    "start_time": "2022-04-02T13:36:24.573Z"
   },
   {
    "duration": 12,
    "start_time": "2022-04-02T13:36:36.469Z"
   },
   {
    "duration": 14,
    "start_time": "2022-04-02T13:36:38.188Z"
   },
   {
    "duration": 12,
    "start_time": "2022-04-02T13:36:38.877Z"
   },
   {
    "duration": 3,
    "start_time": "2022-04-02T13:36:42.316Z"
   },
   {
    "duration": 4,
    "start_time": "2022-04-02T13:36:42.963Z"
   },
   {
    "duration": 6,
    "start_time": "2022-04-02T13:36:53.292Z"
   },
   {
    "duration": 30,
    "start_time": "2022-04-02T13:36:57.304Z"
   },
   {
    "duration": 5,
    "start_time": "2022-04-02T13:37:07.646Z"
   },
   {
    "duration": 3,
    "start_time": "2022-04-02T13:38:28.392Z"
   },
   {
    "duration": 25,
    "start_time": "2022-04-02T13:38:30.264Z"
   },
   {
    "duration": 5,
    "start_time": "2022-04-02T13:38:39.416Z"
   },
   {
    "duration": 7,
    "start_time": "2022-04-02T13:39:50.591Z"
   },
   {
    "duration": 5,
    "start_time": "2022-04-02T13:39:52.120Z"
   },
   {
    "duration": 8,
    "start_time": "2022-04-02T13:40:01.135Z"
   },
   {
    "duration": 7,
    "start_time": "2022-04-02T13:40:30.807Z"
   },
   {
    "duration": 7,
    "start_time": "2022-04-02T13:40:36.222Z"
   },
   {
    "duration": 6,
    "start_time": "2022-04-02T13:40:44.734Z"
   },
   {
    "duration": 13,
    "start_time": "2022-04-02T13:40:46.326Z"
   },
   {
    "duration": 12,
    "start_time": "2022-04-02T13:40:46.901Z"
   },
   {
    "duration": 12,
    "start_time": "2022-04-02T13:40:47.527Z"
   },
   {
    "duration": 3,
    "start_time": "2022-04-02T13:40:48.902Z"
   },
   {
    "duration": 3,
    "start_time": "2022-04-02T13:40:49.414Z"
   },
   {
    "duration": 3,
    "start_time": "2022-04-02T13:40:50.377Z"
   },
   {
    "duration": 8,
    "start_time": "2022-04-02T13:40:50.917Z"
   },
   {
    "duration": 7,
    "start_time": "2022-04-02T13:40:57.921Z"
   },
   {
    "duration": 4,
    "start_time": "2022-04-02T13:42:21.023Z"
   },
   {
    "duration": 9,
    "start_time": "2022-04-02T13:42:21.599Z"
   },
   {
    "duration": 5,
    "start_time": "2022-04-02T13:47:53.226Z"
   },
   {
    "duration": 14,
    "start_time": "2022-04-02T13:47:55.072Z"
   },
   {
    "duration": 14,
    "start_time": "2022-04-02T13:47:56.112Z"
   },
   {
    "duration": 13,
    "start_time": "2022-04-02T13:47:56.841Z"
   },
   {
    "duration": 3,
    "start_time": "2022-04-02T13:47:58.375Z"
   },
   {
    "duration": 6,
    "start_time": "2022-04-02T13:47:59.142Z"
   },
   {
    "duration": 7,
    "start_time": "2022-04-02T13:48:02.188Z"
   },
   {
    "duration": 22,
    "start_time": "2022-04-02T13:48:03.715Z"
   },
   {
    "duration": 23,
    "start_time": "2022-04-02T13:51:35.337Z"
   },
   {
    "duration": 22,
    "start_time": "2022-04-02T13:52:02.596Z"
   },
   {
    "duration": 104,
    "start_time": "2022-04-02T13:53:29.484Z"
   },
   {
    "duration": 4,
    "start_time": "2022-04-02T13:53:36.947Z"
   },
   {
    "duration": 4,
    "start_time": "2022-04-02T13:53:38.845Z"
   },
   {
    "duration": 5,
    "start_time": "2022-04-02T13:53:55.705Z"
   },
   {
    "duration": 20,
    "start_time": "2022-04-02T13:59:57.726Z"
   },
   {
    "duration": 8165,
    "start_time": "2022-04-02T14:00:19.303Z"
   },
   {
    "duration": 7,
    "start_time": "2022-04-02T14:01:33.559Z"
   },
   {
    "duration": 3,
    "start_time": "2022-04-02T14:01:43.640Z"
   },
   {
    "duration": 5,
    "start_time": "2022-04-02T14:01:45.336Z"
   },
   {
    "duration": 7,
    "start_time": "2022-04-02T14:01:55.101Z"
   },
   {
    "duration": 9,
    "start_time": "2022-04-02T14:02:03.300Z"
   },
   {
    "duration": 5,
    "start_time": "2022-04-02T14:02:07.445Z"
   },
   {
    "duration": 6,
    "start_time": "2022-04-02T14:02:08.997Z"
   },
   {
    "duration": 6,
    "start_time": "2022-04-02T14:02:38.046Z"
   },
   {
    "duration": 8,
    "start_time": "2022-04-02T14:02:42.110Z"
   },
   {
    "duration": 8,
    "start_time": "2022-04-02T14:02:44.096Z"
   },
   {
    "duration": 5,
    "start_time": "2022-04-02T14:02:44.911Z"
   },
   {
    "duration": 5,
    "start_time": "2022-04-02T14:02:46.866Z"
   },
   {
    "duration": 7,
    "start_time": "2022-04-02T14:02:49.710Z"
   },
   {
    "duration": 5,
    "start_time": "2022-04-02T14:03:11.639Z"
   },
   {
    "duration": 7,
    "start_time": "2022-04-02T14:03:12.585Z"
   },
   {
    "duration": 7,
    "start_time": "2022-04-02T14:03:14.496Z"
   },
   {
    "duration": 5,
    "start_time": "2022-04-02T14:03:15.855Z"
   },
   {
    "duration": 5,
    "start_time": "2022-04-02T14:03:16.784Z"
   },
   {
    "duration": 8,
    "start_time": "2022-04-02T14:03:18.221Z"
   },
   {
    "duration": 7,
    "start_time": "2022-04-02T14:03:20.591Z"
   },
   {
    "duration": 12,
    "start_time": "2022-04-02T14:03:22.094Z"
   },
   {
    "duration": 5,
    "start_time": "2022-04-02T14:05:56.097Z"
   },
   {
    "duration": 7,
    "start_time": "2022-04-02T14:06:02.577Z"
   },
   {
    "duration": 5,
    "start_time": "2022-04-02T14:06:30.243Z"
   },
   {
    "duration": 6,
    "start_time": "2022-04-02T14:07:13.246Z"
   },
   {
    "duration": 6,
    "start_time": "2022-04-02T14:07:56.650Z"
   },
   {
    "duration": 28,
    "start_time": "2022-04-02T14:14:18.273Z"
   },
   {
    "duration": 5,
    "start_time": "2022-04-02T14:15:57.587Z"
   },
   {
    "duration": 12,
    "start_time": "2022-04-02T14:15:59.507Z"
   },
   {
    "duration": 12,
    "start_time": "2022-04-02T14:16:00.164Z"
   },
   {
    "duration": 12,
    "start_time": "2022-04-02T14:16:00.836Z"
   },
   {
    "duration": 4,
    "start_time": "2022-04-02T14:16:02.521Z"
   },
   {
    "duration": 3,
    "start_time": "2022-04-02T14:16:03.295Z"
   },
   {
    "duration": 5,
    "start_time": "2022-04-02T14:16:04.625Z"
   },
   {
    "duration": 27,
    "start_time": "2022-04-02T14:16:05.451Z"
   },
   {
    "duration": 5,
    "start_time": "2022-04-02T14:23:07.981Z"
   },
   {
    "duration": 26,
    "start_time": "2022-04-02T14:23:29.643Z"
   },
   {
    "duration": 6,
    "start_time": "2022-04-02T14:24:12.065Z"
   },
   {
    "duration": 13,
    "start_time": "2022-04-02T14:24:13.754Z"
   },
   {
    "duration": 12,
    "start_time": "2022-04-02T14:24:14.369Z"
   },
   {
    "duration": 12,
    "start_time": "2022-04-02T14:24:14.946Z"
   },
   {
    "duration": 3,
    "start_time": "2022-04-02T14:24:16.733Z"
   },
   {
    "duration": 5,
    "start_time": "2022-04-02T14:24:18.147Z"
   },
   {
    "duration": 5,
    "start_time": "2022-04-02T14:24:20.428Z"
   },
   {
    "duration": 25,
    "start_time": "2022-04-02T14:24:28.510Z"
   },
   {
    "duration": 26,
    "start_time": "2022-04-02T14:27:06.980Z"
   },
   {
    "duration": 3,
    "start_time": "2022-04-02T14:37:04.511Z"
   },
   {
    "duration": 36,
    "start_time": "2022-04-02T14:38:20.110Z"
   },
   {
    "duration": 5,
    "start_time": "2022-04-02T14:43:03.624Z"
   },
   {
    "duration": 23,
    "start_time": "2022-04-02T14:43:04.736Z"
   },
   {
    "duration": 14,
    "start_time": "2022-04-02T14:51:52.099Z"
   },
   {
    "duration": 12,
    "start_time": "2022-04-02T14:52:05.395Z"
   },
   {
    "duration": 8,
    "start_time": "2022-04-02T14:54:11.154Z"
   },
   {
    "duration": 9,
    "start_time": "2022-04-02T14:54:24.835Z"
   },
   {
    "duration": 8,
    "start_time": "2022-04-02T14:54:26.162Z"
   },
   {
    "duration": 120,
    "start_time": "2022-04-02T14:54:58.874Z"
   },
   {
    "duration": 15,
    "start_time": "2022-04-02T14:55:07.526Z"
   },
   {
    "duration": 24,
    "start_time": "2022-04-02T15:10:18.257Z"
   },
   {
    "duration": 25,
    "start_time": "2022-04-02T15:16:00.334Z"
   },
   {
    "duration": 24,
    "start_time": "2022-04-02T15:21:09.000Z"
   },
   {
    "duration": 8,
    "start_time": "2022-04-02T15:22:22.916Z"
   },
   {
    "duration": 7,
    "start_time": "2022-04-02T15:23:36.583Z"
   },
   {
    "duration": 12,
    "start_time": "2022-04-02T15:23:38.405Z"
   },
   {
    "duration": 15,
    "start_time": "2022-04-02T15:23:54.832Z"
   },
   {
    "duration": 12,
    "start_time": "2022-04-02T15:24:39.179Z"
   },
   {
    "duration": 10,
    "start_time": "2022-04-02T15:26:38.897Z"
   },
   {
    "duration": 11,
    "start_time": "2022-04-02T15:26:56.177Z"
   },
   {
    "duration": 7,
    "start_time": "2022-04-02T15:27:26.919Z"
   },
   {
    "duration": 440,
    "start_time": "2022-04-02T15:27:27.518Z"
   },
   {
    "duration": 15,
    "start_time": "2022-04-02T15:27:28.053Z"
   },
   {
    "duration": 22,
    "start_time": "2022-04-02T15:27:28.901Z"
   },
   {
    "duration": 20,
    "start_time": "2022-04-02T15:27:29.502Z"
   },
   {
    "duration": 21,
    "start_time": "2022-04-02T15:27:30.414Z"
   },
   {
    "duration": 218,
    "start_time": "2022-04-02T15:27:31.985Z"
   },
   {
    "duration": 50,
    "start_time": "2022-04-02T15:27:33.407Z"
   },
   {
    "duration": 1054,
    "start_time": "2022-04-02T15:27:34.893Z"
   },
   {
    "duration": 860,
    "start_time": "2022-04-02T15:27:36.949Z"
   },
   {
    "duration": 913,
    "start_time": "2022-04-02T15:27:38.895Z"
   },
   {
    "duration": 11,
    "start_time": "2022-04-02T15:27:42.941Z"
   },
   {
    "duration": 43,
    "start_time": "2022-04-02T15:27:43.600Z"
   },
   {
    "duration": 20,
    "start_time": "2022-04-02T15:27:48.487Z"
   },
   {
    "duration": 8,
    "start_time": "2022-04-02T15:27:53.611Z"
   },
   {
    "duration": 12,
    "start_time": "2022-04-02T15:27:55.911Z"
   },
   {
    "duration": 15,
    "start_time": "2022-04-02T15:27:58.781Z"
   },
   {
    "duration": 15,
    "start_time": "2022-04-02T15:27:59.750Z"
   },
   {
    "duration": 11,
    "start_time": "2022-04-02T15:28:02.943Z"
   },
   {
    "duration": 15,
    "start_time": "2022-04-02T15:28:03.740Z"
   },
   {
    "duration": 15,
    "start_time": "2022-04-02T15:28:04.871Z"
   },
   {
    "duration": 11,
    "start_time": "2022-04-02T15:28:05.670Z"
   },
   {
    "duration": 16,
    "start_time": "2022-04-02T15:28:06.441Z"
   },
   {
    "duration": 6,
    "start_time": "2022-04-02T15:28:12.536Z"
   },
   {
    "duration": 4,
    "start_time": "2022-04-02T15:28:15.926Z"
   },
   {
    "duration": 9,
    "start_time": "2022-04-02T15:28:16.753Z"
   },
   {
    "duration": 7,
    "start_time": "2022-04-02T15:28:19.616Z"
   },
   {
    "duration": 13,
    "start_time": "2022-04-02T15:28:21.896Z"
   },
   {
    "duration": 14,
    "start_time": "2022-04-02T15:28:22.951Z"
   },
   {
    "duration": 13,
    "start_time": "2022-04-02T15:28:23.721Z"
   },
   {
    "duration": 6,
    "start_time": "2022-04-02T15:28:25.847Z"
   },
   {
    "duration": 12,
    "start_time": "2022-04-02T15:28:27.445Z"
   },
   {
    "duration": 18,
    "start_time": "2022-04-02T15:29:11.387Z"
   },
   {
    "duration": 19,
    "start_time": "2022-04-02T15:29:25.488Z"
   },
   {
    "duration": 11,
    "start_time": "2022-04-02T15:35:15.023Z"
   },
   {
    "duration": 19,
    "start_time": "2022-04-02T15:35:19.002Z"
   },
   {
    "duration": 5,
    "start_time": "2022-04-02T15:35:36.602Z"
   },
   {
    "duration": 406,
    "start_time": "2022-04-02T15:35:36.889Z"
   },
   {
    "duration": 15,
    "start_time": "2022-04-02T15:35:37.297Z"
   },
   {
    "duration": 21,
    "start_time": "2022-04-02T15:35:37.436Z"
   },
   {
    "duration": 20,
    "start_time": "2022-04-02T15:35:37.696Z"
   },
   {
    "duration": 21,
    "start_time": "2022-04-02T15:35:37.928Z"
   },
   {
    "duration": 187,
    "start_time": "2022-04-02T15:35:38.394Z"
   },
   {
    "duration": 35,
    "start_time": "2022-04-02T15:35:38.898Z"
   },
   {
    "duration": 1257,
    "start_time": "2022-04-02T15:35:39.449Z"
   },
   {
    "duration": 1110,
    "start_time": "2022-04-02T15:35:40.709Z"
   },
   {
    "duration": 863,
    "start_time": "2022-04-02T15:35:41.821Z"
   },
   {
    "duration": 12,
    "start_time": "2022-04-02T15:35:42.687Z"
   },
   {
    "duration": 49,
    "start_time": "2022-04-02T15:35:42.702Z"
   },
   {
    "duration": 27,
    "start_time": "2022-04-02T15:35:42.753Z"
   },
   {
    "duration": 19,
    "start_time": "2022-04-02T15:35:42.783Z"
   },
   {
    "duration": 169,
    "start_time": "2022-04-02T15:35:42.805Z"
   },
   {
    "duration": 14,
    "start_time": "2022-04-02T15:35:42.978Z"
   },
   {
    "duration": 8,
    "start_time": "2022-04-02T15:35:42.995Z"
   },
   {
    "duration": 10,
    "start_time": "2022-04-02T15:35:43.180Z"
   },
   {
    "duration": 15,
    "start_time": "2022-04-02T15:35:43.423Z"
   },
   {
    "duration": 14,
    "start_time": "2022-04-02T15:35:43.652Z"
   },
   {
    "duration": 13,
    "start_time": "2022-04-02T15:35:43.869Z"
   },
   {
    "duration": 14,
    "start_time": "2022-04-02T15:35:44.099Z"
   },
   {
    "duration": 4,
    "start_time": "2022-04-02T15:35:46.043Z"
   },
   {
    "duration": 6,
    "start_time": "2022-04-02T15:35:48.405Z"
   },
   {
    "duration": 10,
    "start_time": "2022-04-02T15:35:48.978Z"
   },
   {
    "duration": 5,
    "start_time": "2022-04-02T15:35:50.674Z"
   },
   {
    "duration": 12,
    "start_time": "2022-04-02T15:35:52.672Z"
   },
   {
    "duration": 12,
    "start_time": "2022-04-02T15:35:53.080Z"
   },
   {
    "duration": 12,
    "start_time": "2022-04-02T15:35:53.722Z"
   },
   {
    "duration": 7,
    "start_time": "2022-04-02T15:35:55.585Z"
   },
   {
    "duration": 18,
    "start_time": "2022-04-02T15:35:57.273Z"
   },
   {
    "duration": 8,
    "start_time": "2022-04-02T15:41:54.169Z"
   },
   {
    "duration": 18,
    "start_time": "2022-04-02T15:41:56.333Z"
   },
   {
    "duration": 8,
    "start_time": "2022-04-02T15:45:17.160Z"
   },
   {
    "duration": 17,
    "start_time": "2022-04-02T15:45:19.867Z"
   },
   {
    "duration": 7,
    "start_time": "2022-04-02T15:49:10.047Z"
   },
   {
    "duration": 18,
    "start_time": "2022-04-02T15:49:11.487Z"
   },
   {
    "duration": 18,
    "start_time": "2022-04-02T15:53:16.442Z"
   },
   {
    "duration": 6,
    "start_time": "2022-04-02T15:53:29.151Z"
   },
   {
    "duration": 424,
    "start_time": "2022-04-02T15:53:29.337Z"
   },
   {
    "duration": 16,
    "start_time": "2022-04-02T15:53:29.769Z"
   },
   {
    "duration": 46,
    "start_time": "2022-04-02T15:53:29.788Z"
   },
   {
    "duration": 23,
    "start_time": "2022-04-02T15:53:29.909Z"
   },
   {
    "duration": 21,
    "start_time": "2022-04-02T15:53:30.069Z"
   },
   {
    "duration": 220,
    "start_time": "2022-04-02T15:53:30.469Z"
   },
   {
    "duration": 39,
    "start_time": "2022-04-02T15:53:30.832Z"
   },
   {
    "duration": 828,
    "start_time": "2022-04-02T15:53:31.204Z"
   },
   {
    "duration": 972,
    "start_time": "2022-04-02T15:53:32.035Z"
   },
   {
    "duration": 844,
    "start_time": "2022-04-02T15:53:33.010Z"
   },
   {
    "duration": 19,
    "start_time": "2022-04-02T15:53:33.857Z"
   },
   {
    "duration": 38,
    "start_time": "2022-04-02T15:53:33.878Z"
   },
   {
    "duration": 31,
    "start_time": "2022-04-02T15:53:33.919Z"
   },
   {
    "duration": 19,
    "start_time": "2022-04-02T15:53:33.952Z"
   },
   {
    "duration": 104,
    "start_time": "2022-04-02T15:53:33.975Z"
   },
   {
    "duration": 107,
    "start_time": "2022-04-02T15:53:34.083Z"
   },
   {
    "duration": 28,
    "start_time": "2022-04-02T15:53:34.192Z"
   },
   {
    "duration": 156,
    "start_time": "2022-04-02T15:53:34.227Z"
   },
   {
    "duration": 14,
    "start_time": "2022-04-02T15:53:34.386Z"
   },
   {
    "duration": 14,
    "start_time": "2022-04-02T15:53:34.593Z"
   },
   {
    "duration": 15,
    "start_time": "2022-04-02T15:53:34.769Z"
   },
   {
    "duration": 15,
    "start_time": "2022-04-02T15:53:34.973Z"
   },
   {
    "duration": 6,
    "start_time": "2022-04-02T15:53:37.294Z"
   },
   {
    "duration": 5,
    "start_time": "2022-04-02T15:53:39.390Z"
   },
   {
    "duration": 10,
    "start_time": "2022-04-02T15:53:40.160Z"
   },
   {
    "duration": 7,
    "start_time": "2022-04-02T15:53:42.080Z"
   },
   {
    "duration": 14,
    "start_time": "2022-04-02T15:53:44.022Z"
   },
   {
    "duration": 13,
    "start_time": "2022-04-02T15:53:44.504Z"
   },
   {
    "duration": 12,
    "start_time": "2022-04-02T15:53:45.008Z"
   },
   {
    "duration": 16,
    "start_time": "2022-04-02T15:53:47.036Z"
   },
   {
    "duration": 1532,
    "start_time": "2022-04-03T02:41:47.923Z"
   },
   {
    "duration": 358,
    "start_time": "2022-04-03T02:41:49.773Z"
   },
   {
    "duration": 15,
    "start_time": "2022-04-03T02:41:52.391Z"
   },
   {
    "duration": 15,
    "start_time": "2022-04-03T02:41:54.197Z"
   },
   {
    "duration": 15,
    "start_time": "2022-04-03T02:41:55.812Z"
   },
   {
    "duration": 14,
    "start_time": "2022-04-03T02:41:57.466Z"
   },
   {
    "duration": 131,
    "start_time": "2022-04-03T02:42:04.181Z"
   },
   {
    "duration": 33,
    "start_time": "2022-04-03T02:42:15.073Z"
   },
   {
    "duration": 690,
    "start_time": "2022-04-03T02:42:22.501Z"
   },
   {
    "duration": 565,
    "start_time": "2022-04-03T02:42:26.680Z"
   },
   {
    "duration": 660,
    "start_time": "2022-04-03T02:42:30.227Z"
   },
   {
    "duration": 12,
    "start_time": "2022-04-03T02:42:54.120Z"
   },
   {
    "duration": 32,
    "start_time": "2022-04-03T02:42:55.673Z"
   },
   {
    "duration": 19,
    "start_time": "2022-04-03T02:43:00.094Z"
   },
   {
    "duration": 5,
    "start_time": "2022-04-03T02:43:02.798Z"
   },
   {
    "duration": 8,
    "start_time": "2022-04-03T02:43:21.622Z"
   },
   {
    "duration": 12,
    "start_time": "2022-04-03T02:43:36.386Z"
   },
   {
    "duration": 6,
    "start_time": "2022-04-03T02:43:37.777Z"
   },
   {
    "duration": 6,
    "start_time": "2022-04-03T02:43:39.285Z"
   },
   {
    "duration": 10,
    "start_time": "2022-04-03T02:43:44.173Z"
   },
   {
    "duration": 6,
    "start_time": "2022-04-03T02:43:45.913Z"
   },
   {
    "duration": 7,
    "start_time": "2022-04-03T02:43:48.569Z"
   },
   {
    "duration": 10,
    "start_time": "2022-04-03T02:43:51.397Z"
   },
   {
    "duration": 4,
    "start_time": "2022-04-03T02:44:26.549Z"
   },
   {
    "duration": 3,
    "start_time": "2022-04-03T02:44:41.014Z"
   },
   {
    "duration": 7,
    "start_time": "2022-04-03T02:44:42.652Z"
   },
   {
    "duration": 4,
    "start_time": "2022-04-03T02:44:52.492Z"
   },
   {
    "duration": 10,
    "start_time": "2022-04-03T02:44:57.071Z"
   },
   {
    "duration": 9,
    "start_time": "2022-04-03T02:44:59.052Z"
   },
   {
    "duration": 10,
    "start_time": "2022-04-03T02:45:19.475Z"
   },
   {
    "duration": 4,
    "start_time": "2022-04-03T02:45:23.406Z"
   },
   {
    "duration": 111,
    "start_time": "2022-04-03T02:45:28.880Z"
   },
   {
    "duration": 5,
    "start_time": "2022-04-03T02:47:04.210Z"
   },
   {
    "duration": 14,
    "start_time": "2022-04-03T02:47:06.564Z"
   },
   {
    "duration": 5,
    "start_time": "2022-04-03T02:47:22.355Z"
   },
   {
    "duration": 13,
    "start_time": "2022-04-03T02:47:23.502Z"
   },
   {
    "duration": 4,
    "start_time": "2022-04-03T02:48:31.450Z"
   },
   {
    "duration": 5,
    "start_time": "2022-04-03T02:48:32.531Z"
   },
   {
    "duration": 13,
    "start_time": "2022-04-03T02:48:33.869Z"
   },
   {
    "duration": 3,
    "start_time": "2022-04-03T02:56:23.248Z"
   },
   {
    "duration": 71,
    "start_time": "2022-04-03T02:56:24.322Z"
   },
   {
    "duration": 3,
    "start_time": "2022-04-03T02:57:34.336Z"
   },
   {
    "duration": 63,
    "start_time": "2022-04-03T02:57:35.696Z"
   },
   {
    "duration": 69,
    "start_time": "2022-04-03T02:57:55.627Z"
   },
   {
    "duration": 65,
    "start_time": "2022-04-03T02:58:08.870Z"
   },
   {
    "duration": 73,
    "start_time": "2022-04-03T02:58:30.064Z"
   },
   {
    "duration": 3,
    "start_time": "2022-04-03T03:19:53.409Z"
   },
   {
    "duration": 65,
    "start_time": "2022-04-03T03:19:55.188Z"
   },
   {
    "duration": 3,
    "start_time": "2022-04-03T03:21:07.067Z"
   },
   {
    "duration": 81,
    "start_time": "2022-04-03T03:21:07.775Z"
   },
   {
    "duration": 3,
    "start_time": "2022-04-03T03:27:16.831Z"
   },
   {
    "duration": 10,
    "start_time": "2022-04-03T03:27:39.397Z"
   },
   {
    "duration": 11,
    "start_time": "2022-04-03T03:28:54.699Z"
   },
   {
    "duration": 3,
    "start_time": "2022-04-03T03:34:53.749Z"
   },
   {
    "duration": 12,
    "start_time": "2022-04-03T03:35:02.814Z"
   },
   {
    "duration": 13,
    "start_time": "2022-04-03T03:35:16.536Z"
   },
   {
    "duration": 12,
    "start_time": "2022-04-03T03:35:34.992Z"
   },
   {
    "duration": 11,
    "start_time": "2022-04-03T03:36:18.403Z"
   },
   {
    "duration": 12,
    "start_time": "2022-04-03T03:36:58.147Z"
   },
   {
    "duration": 12,
    "start_time": "2022-04-03T03:40:43.474Z"
   },
   {
    "duration": 3,
    "start_time": "2022-04-03T03:40:57.200Z"
   },
   {
    "duration": 13,
    "start_time": "2022-04-03T03:41:05.372Z"
   },
   {
    "duration": 3,
    "start_time": "2022-04-03T03:42:44.546Z"
   },
   {
    "duration": 13,
    "start_time": "2022-04-03T03:42:49.062Z"
   },
   {
    "duration": 4,
    "start_time": "2022-04-03T03:43:58.524Z"
   },
   {
    "duration": 344,
    "start_time": "2022-04-03T03:43:59.144Z"
   },
   {
    "duration": 10,
    "start_time": "2022-04-03T03:43:59.692Z"
   },
   {
    "duration": 15,
    "start_time": "2022-04-03T03:44:00.384Z"
   },
   {
    "duration": 14,
    "start_time": "2022-04-03T03:44:00.999Z"
   },
   {
    "duration": 14,
    "start_time": "2022-04-03T03:44:01.672Z"
   },
   {
    "duration": 125,
    "start_time": "2022-04-03T03:44:02.897Z"
   },
   {
    "duration": 28,
    "start_time": "2022-04-03T03:44:04.095Z"
   },
   {
    "duration": 648,
    "start_time": "2022-04-03T03:44:05.360Z"
   },
   {
    "duration": 652,
    "start_time": "2022-04-03T03:44:06.010Z"
   },
   {
    "duration": 605,
    "start_time": "2022-04-03T03:44:06.785Z"
   },
   {
    "duration": 9,
    "start_time": "2022-04-03T03:44:09.523Z"
   },
   {
    "duration": 24,
    "start_time": "2022-04-03T03:44:10.144Z"
   },
   {
    "duration": 12,
    "start_time": "2022-04-03T03:44:10.871Z"
   },
   {
    "duration": 5,
    "start_time": "2022-04-03T03:44:11.531Z"
   },
   {
    "duration": 7,
    "start_time": "2022-04-03T03:44:13.358Z"
   },
   {
    "duration": 12,
    "start_time": "2022-04-03T03:44:14.926Z"
   },
   {
    "duration": 20,
    "start_time": "2022-04-03T03:44:15.647Z"
   },
   {
    "duration": 8,
    "start_time": "2022-04-03T03:44:16.327Z"
   },
   {
    "duration": 11,
    "start_time": "2022-04-03T03:44:17.295Z"
   },
   {
    "duration": 5,
    "start_time": "2022-04-03T03:44:17.992Z"
   },
   {
    "duration": 7,
    "start_time": "2022-04-03T03:44:18.623Z"
   },
   {
    "duration": 12,
    "start_time": "2022-04-03T03:44:19.387Z"
   },
   {
    "duration": 4,
    "start_time": "2022-04-03T03:44:24.366Z"
   },
   {
    "duration": 4,
    "start_time": "2022-04-03T03:44:27.575Z"
   },
   {
    "duration": 7,
    "start_time": "2022-04-03T03:44:28.431Z"
   },
   {
    "duration": 4,
    "start_time": "2022-04-03T03:44:30.781Z"
   },
   {
    "duration": 10,
    "start_time": "2022-04-03T03:44:33.120Z"
   },
   {
    "duration": 11,
    "start_time": "2022-04-03T03:44:33.774Z"
   },
   {
    "duration": 10,
    "start_time": "2022-04-03T03:44:34.472Z"
   },
   {
    "duration": 4,
    "start_time": "2022-04-03T03:44:35.983Z"
   },
   {
    "duration": 12,
    "start_time": "2022-04-03T03:44:39.306Z"
   },
   {
    "duration": 13,
    "start_time": "2022-04-03T03:45:03.499Z"
   },
   {
    "duration": 13,
    "start_time": "2022-04-03T03:45:20.124Z"
   },
   {
    "duration": 4,
    "start_time": "2022-04-03T03:56:23.344Z"
   },
   {
    "duration": 10,
    "start_time": "2022-04-03T03:57:13.756Z"
   },
   {
    "duration": 5,
    "start_time": "2022-04-03T03:57:27.228Z"
   },
   {
    "duration": 11,
    "start_time": "2022-04-03T03:59:13.491Z"
   },
   {
    "duration": 11,
    "start_time": "2022-04-03T03:59:34.745Z"
   },
   {
    "duration": 12,
    "start_time": "2022-04-03T04:00:04.574Z"
   },
   {
    "duration": 12,
    "start_time": "2022-04-03T04:00:40.484Z"
   },
   {
    "duration": 12,
    "start_time": "2022-04-03T04:13:39.346Z"
   },
   {
    "duration": 11,
    "start_time": "2022-04-03T04:18:17.775Z"
   },
   {
    "duration": 3,
    "start_time": "2022-04-03T04:19:58.959Z"
   },
   {
    "duration": 11,
    "start_time": "2022-04-03T04:19:59.939Z"
   },
   {
    "duration": 11,
    "start_time": "2022-04-03T04:20:36.558Z"
   },
   {
    "duration": 11,
    "start_time": "2022-04-03T04:25:32.737Z"
   },
   {
    "duration": 11,
    "start_time": "2022-04-03T04:25:55.193Z"
   },
   {
    "duration": 11,
    "start_time": "2022-04-03T04:34:42.085Z"
   },
   {
    "duration": 11,
    "start_time": "2022-04-03T04:34:57.785Z"
   },
   {
    "duration": 12,
    "start_time": "2022-04-03T04:35:09.331Z"
   },
   {
    "duration": 4,
    "start_time": "2022-04-03T04:35:18.482Z"
   },
   {
    "duration": 3,
    "start_time": "2022-04-03T04:35:20.136Z"
   },
   {
    "duration": 8,
    "start_time": "2022-04-03T04:35:20.656Z"
   },
   {
    "duration": 4,
    "start_time": "2022-04-03T04:35:22.000Z"
   },
   {
    "duration": 9,
    "start_time": "2022-04-03T04:35:23.874Z"
   },
   {
    "duration": 9,
    "start_time": "2022-04-03T04:35:24.258Z"
   },
   {
    "duration": 10,
    "start_time": "2022-04-03T04:35:24.746Z"
   },
   {
    "duration": 3,
    "start_time": "2022-04-03T04:35:26.189Z"
   },
   {
    "duration": 11,
    "start_time": "2022-04-03T04:35:27.539Z"
   },
   {
    "duration": 10,
    "start_time": "2022-04-03T04:35:44.873Z"
   },
   {
    "duration": 11,
    "start_time": "2022-04-03T04:35:46.979Z"
   },
   {
    "duration": 11,
    "start_time": "2022-04-03T04:36:49.045Z"
   },
   {
    "duration": 12,
    "start_time": "2022-04-03T04:36:53.134Z"
   },
   {
    "duration": 4,
    "start_time": "2022-04-03T04:37:00.763Z"
   },
   {
    "duration": 3,
    "start_time": "2022-04-03T04:37:02.733Z"
   },
   {
    "duration": 7,
    "start_time": "2022-04-03T04:37:03.244Z"
   },
   {
    "duration": 4,
    "start_time": "2022-04-03T04:37:04.753Z"
   },
   {
    "duration": 11,
    "start_time": "2022-04-03T04:37:06.367Z"
   },
   {
    "duration": 10,
    "start_time": "2022-04-03T04:37:06.837Z"
   },
   {
    "duration": 9,
    "start_time": "2022-04-03T04:37:07.328Z"
   },
   {
    "duration": 11,
    "start_time": "2022-04-03T04:37:09.440Z"
   },
   {
    "duration": 11,
    "start_time": "2022-04-03T04:46:27.302Z"
   },
   {
    "duration": 4,
    "start_time": "2022-04-03T04:46:37.765Z"
   },
   {
    "duration": 9,
    "start_time": "2022-04-03T04:46:38.774Z"
   },
   {
    "duration": 9,
    "start_time": "2022-04-03T04:46:39.165Z"
   },
   {
    "duration": 9,
    "start_time": "2022-04-03T04:46:39.447Z"
   },
   {
    "duration": 11,
    "start_time": "2022-04-03T04:46:41.124Z"
   },
   {
    "duration": 1315,
    "start_time": "2022-04-03T04:47:23.606Z"
   },
   {
    "duration": 9,
    "start_time": "2022-04-03T04:47:48.382Z"
   },
   {
    "duration": 4,
    "start_time": "2022-04-03T04:48:28.069Z"
   },
   {
    "duration": 5,
    "start_time": "2022-04-03T04:48:33.168Z"
   },
   {
    "duration": 1262,
    "start_time": "2022-04-03T04:50:55.447Z"
   },
   {
    "duration": 4,
    "start_time": "2022-04-03T04:51:03.057Z"
   },
   {
    "duration": 5,
    "start_time": "2022-04-03T04:51:04.255Z"
   },
   {
    "duration": 8,
    "start_time": "2022-04-03T04:51:06.893Z"
   },
   {
    "duration": 4,
    "start_time": "2022-04-03T04:51:07.901Z"
   },
   {
    "duration": 10,
    "start_time": "2022-04-03T04:51:15.025Z"
   },
   {
    "duration": 9,
    "start_time": "2022-04-03T04:52:24.630Z"
   },
   {
    "duration": 4,
    "start_time": "2022-04-03T04:52:33.653Z"
   },
   {
    "duration": 18,
    "start_time": "2022-04-03T04:54:39.047Z"
   },
   {
    "duration": 1321,
    "start_time": "2022-04-03T04:55:09.552Z"
   },
   {
    "duration": 4,
    "start_time": "2022-04-03T04:55:12.271Z"
   },
   {
    "duration": 6,
    "start_time": "2022-04-03T04:55:15.720Z"
   },
   {
    "duration": 7,
    "start_time": "2022-04-03T04:55:17.089Z"
   },
   {
    "duration": 4,
    "start_time": "2022-04-03T04:55:19.457Z"
   },
   {
    "duration": 10,
    "start_time": "2022-04-03T04:55:22.103Z"
   },
   {
    "duration": 4,
    "start_time": "2022-04-03T04:55:45.392Z"
   },
   {
    "duration": 6,
    "start_time": "2022-04-03T04:56:07.744Z"
   },
   {
    "duration": 1302,
    "start_time": "2022-04-03T04:57:39.280Z"
   },
   {
    "duration": 4,
    "start_time": "2022-04-03T04:57:40.584Z"
   },
   {
    "duration": 5,
    "start_time": "2022-04-03T04:57:43.074Z"
   },
   {
    "duration": 4,
    "start_time": "2022-04-03T05:11:19.781Z"
   },
   {
    "duration": 353,
    "start_time": "2022-04-03T05:11:20.404Z"
   },
   {
    "duration": 10,
    "start_time": "2022-04-03T05:11:21.102Z"
   },
   {
    "duration": 15,
    "start_time": "2022-04-03T05:11:21.780Z"
   },
   {
    "duration": 15,
    "start_time": "2022-04-03T05:11:22.518Z"
   },
   {
    "duration": 15,
    "start_time": "2022-04-03T05:11:23.206Z"
   },
   {
    "duration": 125,
    "start_time": "2022-04-03T05:11:24.386Z"
   },
   {
    "duration": 29,
    "start_time": "2022-04-03T05:11:25.615Z"
   },
   {
    "duration": 652,
    "start_time": "2022-04-03T05:11:26.844Z"
   },
   {
    "duration": 574,
    "start_time": "2022-04-03T05:11:27.498Z"
   },
   {
    "duration": 634,
    "start_time": "2022-04-03T05:11:28.074Z"
   },
   {
    "duration": 7,
    "start_time": "2022-04-03T05:11:30.876Z"
   },
   {
    "duration": 23,
    "start_time": "2022-04-03T05:11:31.546Z"
   },
   {
    "duration": 11,
    "start_time": "2022-04-03T05:11:32.226Z"
   },
   {
    "duration": 9,
    "start_time": "2022-04-03T05:11:32.906Z"
   },
   {
    "duration": 7,
    "start_time": "2022-04-03T05:11:34.684Z"
   },
   {
    "duration": 10,
    "start_time": "2022-04-03T05:11:37.886Z"
   },
   {
    "duration": 5,
    "start_time": "2022-04-03T05:11:39.350Z"
   },
   {
    "duration": 8,
    "start_time": "2022-04-03T05:11:40.330Z"
   },
   {
    "duration": 13,
    "start_time": "2022-04-03T05:11:41.217Z"
   },
   {
    "duration": 6,
    "start_time": "2022-04-03T05:11:42.034Z"
   },
   {
    "duration": 8,
    "start_time": "2022-04-03T05:11:42.754Z"
   },
   {
    "duration": 10,
    "start_time": "2022-04-03T05:11:43.573Z"
   },
   {
    "duration": 4,
    "start_time": "2022-04-03T05:11:51.948Z"
   },
   {
    "duration": 3,
    "start_time": "2022-04-03T05:11:55.827Z"
   },
   {
    "duration": 7,
    "start_time": "2022-04-03T05:11:56.779Z"
   },
   {
    "duration": 4,
    "start_time": "2022-04-03T05:11:59.207Z"
   },
   {
    "duration": 10,
    "start_time": "2022-04-03T05:12:02.050Z"
   },
   {
    "duration": 10,
    "start_time": "2022-04-03T05:12:02.923Z"
   },
   {
    "duration": 10,
    "start_time": "2022-04-03T05:12:03.614Z"
   },
   {
    "duration": 1385,
    "start_time": "2022-04-03T05:12:07.233Z"
   },
   {
    "duration": 4,
    "start_time": "2022-04-03T05:12:13.797Z"
   },
   {
    "duration": 6,
    "start_time": "2022-04-03T05:12:18.092Z"
   },
   {
    "duration": 6,
    "start_time": "2022-04-03T05:12:23.574Z"
   },
   {
    "duration": 4,
    "start_time": "2022-04-03T05:12:24.693Z"
   },
   {
    "duration": 5,
    "start_time": "2022-04-03T05:12:27.876Z"
   },
   {
    "duration": 1393,
    "start_time": "2022-04-03T05:12:29.985Z"
   },
   {
    "duration": 3,
    "start_time": "2022-04-03T05:12:31.380Z"
   },
   {
    "duration": 6,
    "start_time": "2022-04-03T05:12:34.676Z"
   },
   {
    "duration": 7,
    "start_time": "2022-04-03T05:12:38.420Z"
   },
   {
    "duration": 4,
    "start_time": "2022-04-03T05:12:39.988Z"
   },
   {
    "duration": 4,
    "start_time": "2022-04-03T05:12:41.909Z"
   },
   {
    "duration": 6,
    "start_time": "2022-04-03T05:12:43.877Z"
   },
   {
    "duration": 1300,
    "start_time": "2022-04-03T05:12:47.142Z"
   },
   {
    "duration": 4,
    "start_time": "2022-04-03T05:12:48.444Z"
   },
   {
    "duration": 5,
    "start_time": "2022-04-03T05:12:50.367Z"
   },
   {
    "duration": 6,
    "start_time": "2022-04-03T05:12:52.516Z"
   },
   {
    "duration": 4,
    "start_time": "2022-04-03T05:12:54.317Z"
   },
   {
    "duration": 10,
    "start_time": "2022-04-03T05:12:55.260Z"
   },
   {
    "duration": 5,
    "start_time": "2022-04-03T05:13:25.734Z"
   },
   {
    "duration": 6,
    "start_time": "2022-04-03T05:14:27.822Z"
   },
   {
    "duration": 6,
    "start_time": "2022-04-03T05:14:44.638Z"
   },
   {
    "duration": 4,
    "start_time": "2022-04-03T05:18:19.899Z"
   },
   {
    "duration": 360,
    "start_time": "2022-04-03T05:18:20.512Z"
   },
   {
    "duration": 10,
    "start_time": "2022-04-03T05:18:21.104Z"
   },
   {
    "duration": 15,
    "start_time": "2022-04-03T05:18:21.681Z"
   },
   {
    "duration": 15,
    "start_time": "2022-04-03T05:18:22.167Z"
   },
   {
    "duration": 14,
    "start_time": "2022-04-03T05:18:22.705Z"
   },
   {
    "duration": 124,
    "start_time": "2022-04-03T05:18:23.724Z"
   },
   {
    "duration": 29,
    "start_time": "2022-04-03T05:18:24.789Z"
   },
   {
    "duration": 678,
    "start_time": "2022-04-03T05:18:25.805Z"
   },
   {
    "duration": 587,
    "start_time": "2022-04-03T05:18:26.484Z"
   },
   {
    "duration": 622,
    "start_time": "2022-04-03T05:18:27.073Z"
   },
   {
    "duration": 8,
    "start_time": "2022-04-03T05:18:28.849Z"
   },
   {
    "duration": 24,
    "start_time": "2022-04-03T05:18:29.325Z"
   },
   {
    "duration": 11,
    "start_time": "2022-04-03T05:18:29.886Z"
   },
   {
    "duration": 9,
    "start_time": "2022-04-03T05:18:30.377Z"
   },
   {
    "duration": 7,
    "start_time": "2022-04-03T05:18:31.358Z"
   },
   {
    "duration": 10,
    "start_time": "2022-04-03T05:18:32.294Z"
   },
   {
    "duration": 5,
    "start_time": "2022-04-03T05:18:32.816Z"
   },
   {
    "duration": 7,
    "start_time": "2022-04-03T05:18:33.349Z"
   },
   {
    "duration": 11,
    "start_time": "2022-04-03T05:18:33.855Z"
   },
   {
    "duration": 6,
    "start_time": "2022-04-03T05:18:34.382Z"
   },
   {
    "duration": 7,
    "start_time": "2022-04-03T05:18:34.917Z"
   },
   {
    "duration": 10,
    "start_time": "2022-04-03T05:18:35.446Z"
   },
   {
    "duration": 4,
    "start_time": "2022-04-03T05:18:39.654Z"
   },
   {
    "duration": 3,
    "start_time": "2022-04-03T05:18:41.748Z"
   },
   {
    "duration": 6,
    "start_time": "2022-04-03T05:18:42.272Z"
   },
   {
    "duration": 4,
    "start_time": "2022-04-03T05:18:44.225Z"
   },
   {
    "duration": 9,
    "start_time": "2022-04-03T05:18:45.701Z"
   },
   {
    "duration": 10,
    "start_time": "2022-04-03T05:18:46.159Z"
   },
   {
    "duration": 9,
    "start_time": "2022-04-03T05:18:46.659Z"
   },
   {
    "duration": 1310,
    "start_time": "2022-04-03T05:18:48.724Z"
   },
   {
    "duration": 4,
    "start_time": "2022-04-03T05:18:53.007Z"
   },
   {
    "duration": 6,
    "start_time": "2022-04-03T05:18:53.565Z"
   },
   {
    "duration": 6,
    "start_time": "2022-04-03T05:18:56.220Z"
   },
   {
    "duration": 3,
    "start_time": "2022-04-03T05:19:07.880Z"
   },
   {
    "duration": 4,
    "start_time": "2022-04-03T05:19:09.641Z"
   },
   {
    "duration": 1361,
    "start_time": "2022-04-03T05:19:11.640Z"
   },
   {
    "duration": 4,
    "start_time": "2022-04-03T05:19:13.003Z"
   },
   {
    "duration": 6,
    "start_time": "2022-04-03T05:19:14.931Z"
   },
   {
    "duration": 7,
    "start_time": "2022-04-03T05:19:17.730Z"
   },
   {
    "duration": 4,
    "start_time": "2022-04-03T05:19:26.186Z"
   },
   {
    "duration": 5,
    "start_time": "2022-04-03T05:19:41.262Z"
   },
   {
    "duration": 5,
    "start_time": "2022-04-03T05:19:42.163Z"
   },
   {
    "duration": 1318,
    "start_time": "2022-04-03T05:19:46.495Z"
   },
   {
    "duration": 4,
    "start_time": "2022-04-03T05:19:48.960Z"
   },
   {
    "duration": 4,
    "start_time": "2022-04-03T05:19:53.420Z"
   },
   {
    "duration": 6,
    "start_time": "2022-04-03T05:20:23.121Z"
   },
   {
    "duration": 4,
    "start_time": "2022-04-03T05:20:24.942Z"
   },
   {
    "duration": 8,
    "start_time": "2022-04-03T05:21:32.786Z"
   },
   {
    "duration": 7,
    "start_time": "2022-04-03T05:22:04.043Z"
   },
   {
    "duration": 6,
    "start_time": "2022-04-03T05:22:26.682Z"
   },
   {
    "duration": 4,
    "start_time": "2022-04-03T05:22:28.088Z"
   },
   {
    "duration": 4,
    "start_time": "2022-04-03T05:26:28.426Z"
   },
   {
    "duration": 5,
    "start_time": "2022-04-03T05:26:55.604Z"
   },
   {
    "duration": 5,
    "start_time": "2022-04-03T05:27:42.284Z"
   },
   {
    "duration": 5,
    "start_time": "2022-04-03T05:29:14.475Z"
   },
   {
    "duration": 5,
    "start_time": "2022-04-03T05:29:57.373Z"
   },
   {
    "duration": 3,
    "start_time": "2022-04-03T05:32:00.901Z"
   },
   {
    "duration": 3,
    "start_time": "2022-04-03T05:32:04.051Z"
   },
   {
    "duration": 7,
    "start_time": "2022-04-03T05:32:04.770Z"
   },
   {
    "duration": 4,
    "start_time": "2022-04-03T05:32:06.991Z"
   },
   {
    "duration": 11,
    "start_time": "2022-04-03T05:32:09.095Z"
   },
   {
    "duration": 10,
    "start_time": "2022-04-03T05:32:09.561Z"
   },
   {
    "duration": 9,
    "start_time": "2022-04-03T05:32:10.019Z"
   },
   {
    "duration": 1122,
    "start_time": "2022-04-03T05:32:14.701Z"
   },
   {
    "duration": 4,
    "start_time": "2022-04-03T05:32:20.473Z"
   },
   {
    "duration": 6,
    "start_time": "2022-04-03T05:32:24.153Z"
   },
   {
    "duration": 6,
    "start_time": "2022-04-03T05:32:31.955Z"
   },
   {
    "duration": 4,
    "start_time": "2022-04-03T05:32:37.642Z"
   },
   {
    "duration": 5,
    "start_time": "2022-04-03T05:32:41.659Z"
   },
   {
    "duration": 5,
    "start_time": "2022-04-03T05:32:46.267Z"
   },
   {
    "duration": 1069,
    "start_time": "2022-04-03T05:32:48.277Z"
   },
   {
    "duration": 4,
    "start_time": "2022-04-03T05:32:49.434Z"
   },
   {
    "duration": 5,
    "start_time": "2022-04-03T05:32:51.842Z"
   },
   {
    "duration": 6,
    "start_time": "2022-04-03T05:32:54.399Z"
   },
   {
    "duration": 4,
    "start_time": "2022-04-03T05:32:55.403Z"
   },
   {
    "duration": 4,
    "start_time": "2022-04-03T05:32:57.324Z"
   },
   {
    "duration": 5,
    "start_time": "2022-04-03T05:33:11.504Z"
   },
   {
    "duration": 1128,
    "start_time": "2022-04-03T05:33:14.513Z"
   },
   {
    "duration": 4,
    "start_time": "2022-04-03T05:33:15.673Z"
   },
   {
    "duration": 6,
    "start_time": "2022-04-03T05:33:21.295Z"
   },
   {
    "duration": 7,
    "start_time": "2022-04-03T05:33:33.592Z"
   },
   {
    "duration": 4,
    "start_time": "2022-04-03T05:33:34.759Z"
   },
   {
    "duration": 4,
    "start_time": "2022-04-03T05:35:15.858Z"
   },
   {
    "duration": 354,
    "start_time": "2022-04-03T05:35:16.410Z"
   },
   {
    "duration": 9,
    "start_time": "2022-04-03T05:35:17.029Z"
   },
   {
    "duration": 17,
    "start_time": "2022-04-03T05:35:17.634Z"
   },
   {
    "duration": 15,
    "start_time": "2022-04-03T05:35:18.299Z"
   },
   {
    "duration": 16,
    "start_time": "2022-04-03T05:35:19.003Z"
   },
   {
    "duration": 123,
    "start_time": "2022-04-03T05:35:20.322Z"
   },
   {
    "duration": 33,
    "start_time": "2022-04-03T05:35:21.863Z"
   },
   {
    "duration": 668,
    "start_time": "2022-04-03T05:35:23.531Z"
   },
   {
    "duration": 587,
    "start_time": "2022-04-03T05:35:24.987Z"
   },
   {
    "duration": 709,
    "start_time": "2022-04-03T05:35:25.585Z"
   },
   {
    "duration": 8,
    "start_time": "2022-04-03T05:35:29.115Z"
   },
   {
    "duration": 24,
    "start_time": "2022-04-03T05:35:30.107Z"
   },
   {
    "duration": 11,
    "start_time": "2022-04-03T05:35:30.883Z"
   },
   {
    "duration": 9,
    "start_time": "2022-04-03T05:35:31.626Z"
   },
   {
    "duration": 7,
    "start_time": "2022-04-03T05:35:33.595Z"
   },
   {
    "duration": 11,
    "start_time": "2022-04-03T05:35:35.330Z"
   },
   {
    "duration": 5,
    "start_time": "2022-04-03T05:35:36.149Z"
   },
   {
    "duration": 7,
    "start_time": "2022-04-03T05:35:36.970Z"
   },
   {
    "duration": 11,
    "start_time": "2022-04-03T05:35:37.867Z"
   },
   {
    "duration": 5,
    "start_time": "2022-04-03T05:35:38.740Z"
   },
   {
    "duration": 8,
    "start_time": "2022-04-03T05:35:39.594Z"
   },
   {
    "duration": 10,
    "start_time": "2022-04-03T05:35:40.530Z"
   },
   {
    "duration": 4,
    "start_time": "2022-04-03T05:35:47.684Z"
   },
   {
    "duration": 4,
    "start_time": "2022-04-03T05:35:51.621Z"
   },
   {
    "duration": 6,
    "start_time": "2022-04-03T05:35:52.606Z"
   },
   {
    "duration": 4,
    "start_time": "2022-04-03T05:35:56.257Z"
   },
   {
    "duration": 9,
    "start_time": "2022-04-03T05:35:59.417Z"
   },
   {
    "duration": 9,
    "start_time": "2022-04-03T05:36:00.243Z"
   },
   {
    "duration": 10,
    "start_time": "2022-04-03T05:36:01.122Z"
   },
   {
    "duration": 1112,
    "start_time": "2022-04-03T05:36:06.713Z"
   },
   {
    "duration": 4,
    "start_time": "2022-04-03T05:36:19.946Z"
   },
   {
    "duration": 5,
    "start_time": "2022-04-03T05:36:27.955Z"
   },
   {
    "duration": 6,
    "start_time": "2022-04-03T05:36:42.766Z"
   },
   {
    "duration": 4,
    "start_time": "2022-04-03T05:37:03.460Z"
   },
   {
    "duration": 1098,
    "start_time": "2022-04-03T05:37:23.685Z"
   },
   {
    "duration": 4,
    "start_time": "2022-04-03T05:37:27.532Z"
   },
   {
    "duration": 5,
    "start_time": "2022-04-03T05:37:33.589Z"
   },
   {
    "duration": 6,
    "start_time": "2022-04-03T05:37:38.612Z"
   },
   {
    "duration": 4,
    "start_time": "2022-04-03T05:37:42.684Z"
   },
   {
    "duration": 4,
    "start_time": "2022-04-03T05:37:46.044Z"
   },
   {
    "duration": 1129,
    "start_time": "2022-04-03T05:38:04.105Z"
   },
   {
    "duration": 4,
    "start_time": "2022-04-03T05:38:06.940Z"
   },
   {
    "duration": 5,
    "start_time": "2022-04-03T05:38:53.421Z"
   },
   {
    "duration": 7,
    "start_time": "2022-04-03T05:39:01.900Z"
   },
   {
    "duration": 4,
    "start_time": "2022-04-03T05:39:04.869Z"
   },
   {
    "duration": 4,
    "start_time": "2022-04-03T05:39:37.751Z"
   },
   {
    "duration": 12,
    "start_time": "2022-04-03T05:40:03.929Z"
   },
   {
    "duration": 4,
    "start_time": "2022-04-03T05:43:11.217Z"
   },
   {
    "duration": 3,
    "start_time": "2022-04-03T05:43:13.516Z"
   },
   {
    "duration": 6,
    "start_time": "2022-04-03T05:43:14.175Z"
   },
   {
    "duration": 3,
    "start_time": "2022-04-03T05:43:15.910Z"
   },
   {
    "duration": 10,
    "start_time": "2022-04-03T05:43:17.649Z"
   },
   {
    "duration": 10,
    "start_time": "2022-04-03T05:43:18.187Z"
   },
   {
    "duration": 10,
    "start_time": "2022-04-03T05:43:18.752Z"
   },
   {
    "duration": 1102,
    "start_time": "2022-04-03T05:43:21.602Z"
   },
   {
    "duration": 4,
    "start_time": "2022-04-03T05:43:26.757Z"
   },
   {
    "duration": 6,
    "start_time": "2022-04-03T05:43:27.440Z"
   },
   {
    "duration": 6,
    "start_time": "2022-04-03T05:43:32.594Z"
   },
   {
    "duration": 4,
    "start_time": "2022-04-03T05:43:34.806Z"
   },
   {
    "duration": 3,
    "start_time": "2022-04-03T05:43:38.503Z"
   },
   {
    "duration": 4,
    "start_time": "2022-04-03T05:44:05.262Z"
   },
   {
    "duration": 1116,
    "start_time": "2022-04-03T05:44:11.910Z"
   },
   {
    "duration": 4,
    "start_time": "2022-04-03T05:44:27.662Z"
   },
   {
    "duration": 5,
    "start_time": "2022-04-03T05:44:28.417Z"
   },
   {
    "duration": 6,
    "start_time": "2022-04-03T05:44:29.733Z"
   },
   {
    "duration": 4,
    "start_time": "2022-04-03T05:44:32.114Z"
   },
   {
    "duration": 3,
    "start_time": "2022-04-03T05:44:41.377Z"
   },
   {
    "duration": 4,
    "start_time": "2022-04-03T05:44:49.712Z"
   },
   {
    "duration": 1164,
    "start_time": "2022-04-03T05:45:02.834Z"
   },
   {
    "duration": 5,
    "start_time": "2022-04-03T05:45:03.999Z"
   },
   {
    "duration": 5,
    "start_time": "2022-04-03T05:45:07.616Z"
   },
   {
    "duration": 7,
    "start_time": "2022-04-03T05:45:08.926Z"
   },
   {
    "duration": 4,
    "start_time": "2022-04-03T05:45:10.216Z"
   },
   {
    "duration": 4,
    "start_time": "2022-04-03T05:45:17.393Z"
   },
   {
    "duration": 5,
    "start_time": "2022-04-03T05:45:21.225Z"
   },
   {
    "duration": 5,
    "start_time": "2022-04-03T05:46:43.833Z"
   },
   {
    "duration": 5,
    "start_time": "2022-04-03T05:46:47.392Z"
   },
   {
    "duration": 3,
    "start_time": "2022-04-03T05:46:58.330Z"
   },
   {
    "duration": 3,
    "start_time": "2022-04-03T05:47:00.026Z"
   },
   {
    "duration": 7,
    "start_time": "2022-04-03T05:47:00.568Z"
   },
   {
    "duration": 4,
    "start_time": "2022-04-03T05:47:01.966Z"
   },
   {
    "duration": 9,
    "start_time": "2022-04-03T05:47:03.143Z"
   },
   {
    "duration": 10,
    "start_time": "2022-04-03T05:47:03.543Z"
   },
   {
    "duration": 10,
    "start_time": "2022-04-03T05:47:03.883Z"
   },
   {
    "duration": 1132,
    "start_time": "2022-04-03T05:47:06.586Z"
   },
   {
    "duration": 4,
    "start_time": "2022-04-03T05:47:09.331Z"
   },
   {
    "duration": 6,
    "start_time": "2022-04-03T05:47:09.761Z"
   },
   {
    "duration": 6,
    "start_time": "2022-04-03T05:47:11.623Z"
   },
   {
    "duration": 4,
    "start_time": "2022-04-03T05:47:12.391Z"
   },
   {
    "duration": 4,
    "start_time": "2022-04-03T05:47:13.039Z"
   },
   {
    "duration": 1126,
    "start_time": "2022-04-03T05:47:17.304Z"
   },
   {
    "duration": 4,
    "start_time": "2022-04-03T05:47:18.909Z"
   },
   {
    "duration": 5,
    "start_time": "2022-04-03T05:47:20.013Z"
   },
   {
    "duration": 7,
    "start_time": "2022-04-03T05:47:21.154Z"
   },
   {
    "duration": 4,
    "start_time": "2022-04-03T05:47:22.842Z"
   },
   {
    "duration": 4,
    "start_time": "2022-04-03T05:47:24.272Z"
   },
   {
    "duration": 1111,
    "start_time": "2022-04-03T05:47:25.991Z"
   },
   {
    "duration": 4,
    "start_time": "2022-04-03T05:47:27.104Z"
   },
   {
    "duration": 5,
    "start_time": "2022-04-03T05:47:27.214Z"
   },
   {
    "duration": 7,
    "start_time": "2022-04-03T05:47:27.784Z"
   },
   {
    "duration": 5,
    "start_time": "2022-04-03T05:47:28.447Z"
   },
   {
    "duration": 5,
    "start_time": "2022-04-03T05:47:29.466Z"
   },
   {
    "duration": 7,
    "start_time": "2022-04-03T05:47:30.377Z"
   },
   {
    "duration": 4,
    "start_time": "2022-04-03T05:50:21.690Z"
   },
   {
    "duration": 356,
    "start_time": "2022-04-03T05:50:22.415Z"
   },
   {
    "duration": 10,
    "start_time": "2022-04-03T05:50:22.950Z"
   },
   {
    "duration": 16,
    "start_time": "2022-04-03T05:50:23.321Z"
   },
   {
    "duration": 14,
    "start_time": "2022-04-03T05:50:23.817Z"
   },
   {
    "duration": 14,
    "start_time": "2022-04-03T05:50:24.210Z"
   },
   {
    "duration": 119,
    "start_time": "2022-04-03T05:50:24.922Z"
   },
   {
    "duration": 30,
    "start_time": "2022-04-03T05:50:25.648Z"
   },
   {
    "duration": 592,
    "start_time": "2022-04-03T05:50:26.703Z"
   },
   {
    "duration": 572,
    "start_time": "2022-04-03T05:50:27.296Z"
   },
   {
    "duration": 623,
    "start_time": "2022-04-03T05:50:27.870Z"
   },
   {
    "duration": 7,
    "start_time": "2022-04-03T05:50:30.128Z"
   },
   {
    "duration": 25,
    "start_time": "2022-04-03T05:50:30.857Z"
   },
   {
    "duration": 11,
    "start_time": "2022-04-03T05:50:31.521Z"
   },
   {
    "duration": 6,
    "start_time": "2022-04-03T05:50:32.155Z"
   },
   {
    "duration": 8,
    "start_time": "2022-04-03T05:50:33.304Z"
   },
   {
    "duration": 12,
    "start_time": "2022-04-03T05:50:34.469Z"
   },
   {
    "duration": 7,
    "start_time": "2022-04-03T05:50:35.053Z"
   },
   {
    "duration": 8,
    "start_time": "2022-04-03T05:50:35.640Z"
   },
   {
    "duration": 12,
    "start_time": "2022-04-03T05:50:36.209Z"
   },
   {
    "duration": 6,
    "start_time": "2022-04-03T05:50:36.809Z"
   },
   {
    "duration": 8,
    "start_time": "2022-04-03T05:50:37.723Z"
   },
   {
    "duration": 11,
    "start_time": "2022-04-03T05:50:38.483Z"
   },
   {
    "duration": 3,
    "start_time": "2022-04-03T05:50:45.566Z"
   },
   {
    "duration": 4,
    "start_time": "2022-04-03T05:50:48.641Z"
   },
   {
    "duration": 6,
    "start_time": "2022-04-03T05:50:49.418Z"
   },
   {
    "duration": 3,
    "start_time": "2022-04-03T05:50:52.360Z"
   },
   {
    "duration": 10,
    "start_time": "2022-04-03T05:50:55.000Z"
   },
   {
    "duration": 10,
    "start_time": "2022-04-03T05:50:55.649Z"
   },
   {
    "duration": 10,
    "start_time": "2022-04-03T05:50:56.329Z"
   },
   {
    "duration": 1120,
    "start_time": "2022-04-03T05:50:59.473Z"
   },
   {
    "duration": 4,
    "start_time": "2022-04-03T05:51:07.945Z"
   },
   {
    "duration": 6,
    "start_time": "2022-04-03T05:51:13.857Z"
   },
   {
    "duration": 8,
    "start_time": "2022-04-03T05:51:17.436Z"
   },
   {
    "duration": 4,
    "start_time": "2022-04-03T05:51:18.530Z"
   },
   {
    "duration": 4,
    "start_time": "2022-04-03T05:51:26.977Z"
   },
   {
    "duration": 1104,
    "start_time": "2022-04-03T05:51:29.059Z"
   },
   {
    "duration": 3,
    "start_time": "2022-04-03T05:51:30.165Z"
   },
   {
    "duration": 5,
    "start_time": "2022-04-03T05:51:32.289Z"
   },
   {
    "duration": 7,
    "start_time": "2022-04-03T05:51:33.560Z"
   },
   {
    "duration": 4,
    "start_time": "2022-04-03T05:51:35.127Z"
   },
   {
    "duration": 4,
    "start_time": "2022-04-03T05:51:37.329Z"
   },
   {
    "duration": 1090,
    "start_time": "2022-04-03T05:51:39.881Z"
   },
   {
    "duration": 3,
    "start_time": "2022-04-03T05:51:41.578Z"
   },
   {
    "duration": 5,
    "start_time": "2022-04-03T05:51:42.506Z"
   },
   {
    "duration": 7,
    "start_time": "2022-04-03T05:51:43.324Z"
   },
   {
    "duration": 3,
    "start_time": "2022-04-03T05:51:44.353Z"
   },
   {
    "duration": 4,
    "start_time": "2022-04-03T05:51:48.293Z"
   },
   {
    "duration": 5,
    "start_time": "2022-04-03T05:51:50.898Z"
   },
   {
    "duration": 5,
    "start_time": "2022-04-03T05:52:46.021Z"
   },
   {
    "duration": 5,
    "start_time": "2022-04-03T05:52:55.853Z"
   },
   {
    "duration": 8,
    "start_time": "2022-04-03T05:52:57.997Z"
   },
   {
    "duration": 4,
    "start_time": "2022-04-03T05:57:14.236Z"
   },
   {
    "duration": 4,
    "start_time": "2022-04-03T05:57:27.110Z"
   },
   {
    "duration": 4,
    "start_time": "2022-04-03T05:57:38.430Z"
   },
   {
    "duration": 5,
    "start_time": "2022-04-03T05:57:59.007Z"
   },
   {
    "duration": 8,
    "start_time": "2022-04-03T05:57:59.757Z"
   },
   {
    "duration": 6,
    "start_time": "2022-04-03T05:59:06.129Z"
   },
   {
    "duration": 5,
    "start_time": "2022-04-03T05:59:38.558Z"
   },
   {
    "duration": 5,
    "start_time": "2022-04-03T05:59:52.301Z"
   },
   {
    "duration": 4,
    "start_time": "2022-04-03T06:00:38.831Z"
   },
   {
    "duration": 4,
    "start_time": "2022-04-03T06:01:12.672Z"
   },
   {
    "duration": 5,
    "start_time": "2022-04-03T06:01:38.118Z"
   },
   {
    "duration": 5,
    "start_time": "2022-04-03T06:01:47.646Z"
   },
   {
    "duration": 4,
    "start_time": "2022-04-03T06:02:03.463Z"
   },
   {
    "duration": 5,
    "start_time": "2022-04-03T06:02:07.286Z"
   },
   {
    "duration": 8,
    "start_time": "2022-04-03T06:02:08.110Z"
   },
   {
    "duration": 9,
    "start_time": "2022-04-03T06:07:19.990Z"
   },
   {
    "duration": 4,
    "start_time": "2022-04-03T06:13:40.809Z"
   },
   {
    "duration": 339,
    "start_time": "2022-04-03T06:13:41.418Z"
   },
   {
    "duration": 10,
    "start_time": "2022-04-03T06:13:42.037Z"
   },
   {
    "duration": 14,
    "start_time": "2022-04-03T06:13:42.634Z"
   },
   {
    "duration": 15,
    "start_time": "2022-04-03T06:13:43.259Z"
   },
   {
    "duration": 15,
    "start_time": "2022-04-03T06:13:43.755Z"
   },
   {
    "duration": 126,
    "start_time": "2022-04-03T06:13:44.897Z"
   },
   {
    "duration": 28,
    "start_time": "2022-04-03T06:13:46.081Z"
   },
   {
    "duration": 586,
    "start_time": "2022-04-03T06:13:47.296Z"
   },
   {
    "duration": 576,
    "start_time": "2022-04-03T06:13:47.884Z"
   },
   {
    "duration": 627,
    "start_time": "2022-04-03T06:13:48.462Z"
   },
   {
    "duration": 8,
    "start_time": "2022-04-03T06:13:51.905Z"
   },
   {
    "duration": 24,
    "start_time": "2022-04-03T06:13:52.579Z"
   },
   {
    "duration": 11,
    "start_time": "2022-04-03T06:13:53.433Z"
   },
   {
    "duration": 5,
    "start_time": "2022-04-03T06:13:54.073Z"
   },
   {
    "duration": 7,
    "start_time": "2022-04-03T06:13:55.768Z"
   },
   {
    "duration": 11,
    "start_time": "2022-04-03T06:13:59.120Z"
   },
   {
    "duration": 6,
    "start_time": "2022-04-03T06:13:59.769Z"
   },
   {
    "duration": 7,
    "start_time": "2022-04-03T06:14:00.370Z"
   },
   {
    "duration": 11,
    "start_time": "2022-04-03T06:14:01.534Z"
   },
   {
    "duration": 5,
    "start_time": "2022-04-03T06:14:02.529Z"
   },
   {
    "duration": 7,
    "start_time": "2022-04-03T06:14:03.388Z"
   },
   {
    "duration": 10,
    "start_time": "2022-04-03T06:14:04.172Z"
   },
   {
    "duration": 8,
    "start_time": "2022-04-03T06:18:28.764Z"
   },
   {
    "duration": 13,
    "start_time": "2022-04-03T06:20:23.136Z"
   },
   {
    "duration": 12,
    "start_time": "2022-04-03T06:20:39.370Z"
   },
   {
    "duration": 12,
    "start_time": "2022-04-03T06:20:45.441Z"
   },
   {
    "duration": 6,
    "start_time": "2022-04-03T06:20:58.934Z"
   },
   {
    "duration": 329,
    "start_time": "2022-04-03T06:20:59.168Z"
   },
   {
    "duration": 10,
    "start_time": "2022-04-03T06:20:59.499Z"
   },
   {
    "duration": 16,
    "start_time": "2022-04-03T06:20:59.665Z"
   },
   {
    "duration": 16,
    "start_time": "2022-04-03T06:20:59.890Z"
   },
   {
    "duration": 16,
    "start_time": "2022-04-03T06:21:00.140Z"
   },
   {
    "duration": 122,
    "start_time": "2022-04-03T06:21:00.551Z"
   },
   {
    "duration": 30,
    "start_time": "2022-04-03T06:21:01.007Z"
   },
   {
    "duration": 702,
    "start_time": "2022-04-03T06:21:01.600Z"
   },
   {
    "duration": 681,
    "start_time": "2022-04-03T06:21:02.308Z"
   },
   {
    "duration": 609,
    "start_time": "2022-04-03T06:21:02.991Z"
   },
   {
    "duration": 8,
    "start_time": "2022-04-03T06:21:06.446Z"
   },
   {
    "duration": 25,
    "start_time": "2022-04-03T06:21:06.456Z"
   },
   {
    "duration": 12,
    "start_time": "2022-04-03T06:21:07.105Z"
   },
   {
    "duration": 5,
    "start_time": "2022-04-03T06:21:07.736Z"
   },
   {
    "duration": 9,
    "start_time": "2022-04-03T06:21:09.007Z"
   },
   {
    "duration": 12,
    "start_time": "2022-04-03T06:21:12.822Z"
   },
   {
    "duration": 12,
    "start_time": "2022-04-03T06:21:14.272Z"
   },
   {
    "duration": 13,
    "start_time": "2022-04-03T06:21:18.767Z"
   },
   {
    "duration": 11,
    "start_time": "2022-04-03T06:21:24.713Z"
   },
   {
    "duration": 4,
    "start_time": "2022-04-03T06:21:38.225Z"
   },
   {
    "duration": 323,
    "start_time": "2022-04-03T06:21:38.464Z"
   },
   {
    "duration": 10,
    "start_time": "2022-04-03T06:21:38.789Z"
   },
   {
    "duration": 13,
    "start_time": "2022-04-03T06:21:38.926Z"
   },
   {
    "duration": 14,
    "start_time": "2022-04-03T06:21:39.161Z"
   },
   {
    "duration": 15,
    "start_time": "2022-04-03T06:21:39.385Z"
   },
   {
    "duration": 110,
    "start_time": "2022-04-03T06:21:39.796Z"
   },
   {
    "duration": 25,
    "start_time": "2022-04-03T06:21:40.209Z"
   },
   {
    "duration": 739,
    "start_time": "2022-04-03T06:21:40.646Z"
   },
   {
    "duration": 555,
    "start_time": "2022-04-03T06:21:41.388Z"
   },
   {
    "duration": 644,
    "start_time": "2022-04-03T06:21:41.945Z"
   },
   {
    "duration": 18,
    "start_time": "2022-04-03T06:21:42.591Z"
   },
   {
    "duration": 23,
    "start_time": "2022-04-03T06:21:42.935Z"
   },
   {
    "duration": 11,
    "start_time": "2022-04-03T06:21:43.342Z"
   },
   {
    "duration": 9,
    "start_time": "2022-04-03T06:21:43.934Z"
   },
   {
    "duration": 7,
    "start_time": "2022-04-03T06:21:51.055Z"
   },
   {
    "duration": 11,
    "start_time": "2022-04-03T06:21:54.914Z"
   },
   {
    "duration": 6,
    "start_time": "2022-04-03T06:21:58.815Z"
   },
   {
    "duration": 12,
    "start_time": "2022-04-03T06:22:00.831Z"
   },
   {
    "duration": 13,
    "start_time": "2022-04-03T06:22:27.156Z"
   },
   {
    "duration": 12,
    "start_time": "2022-04-03T06:22:46.218Z"
   },
   {
    "duration": 12,
    "start_time": "2022-04-03T06:22:50.146Z"
   },
   {
    "duration": 8,
    "start_time": "2022-04-03T06:22:53.563Z"
   },
   {
    "duration": 12,
    "start_time": "2022-04-03T06:22:54.993Z"
   },
   {
    "duration": 11,
    "start_time": "2022-04-03T06:23:17.614Z"
   },
   {
    "duration": 5,
    "start_time": "2022-04-03T06:23:18.193Z"
   },
   {
    "duration": 12,
    "start_time": "2022-04-03T06:23:19.117Z"
   },
   {
    "duration": 11,
    "start_time": "2022-04-03T06:23:20.179Z"
   },
   {
    "duration": 5,
    "start_time": "2022-04-03T06:23:21.166Z"
   },
   {
    "duration": 13,
    "start_time": "2022-04-03T06:23:22.354Z"
   },
   {
    "duration": 4,
    "start_time": "2022-04-03T06:23:40.251Z"
   },
   {
    "duration": 336,
    "start_time": "2022-04-03T06:23:40.527Z"
   },
   {
    "duration": 10,
    "start_time": "2022-04-03T06:23:40.865Z"
   },
   {
    "duration": 15,
    "start_time": "2022-04-03T06:23:41.144Z"
   },
   {
    "duration": 15,
    "start_time": "2022-04-03T06:23:41.857Z"
   },
   {
    "duration": 15,
    "start_time": "2022-04-03T06:23:42.408Z"
   },
   {
    "duration": 117,
    "start_time": "2022-04-03T06:23:43.658Z"
   },
   {
    "duration": 31,
    "start_time": "2022-04-03T06:23:44.888Z"
   },
   {
    "duration": 623,
    "start_time": "2022-04-03T06:23:46.064Z"
   },
   {
    "duration": 585,
    "start_time": "2022-04-03T06:23:47.569Z"
   },
   {
    "duration": 640,
    "start_time": "2022-04-03T06:23:48.960Z"
   },
   {
    "duration": 7,
    "start_time": "2022-04-03T06:23:54.281Z"
   },
   {
    "duration": 23,
    "start_time": "2022-04-03T06:23:54.952Z"
   },
   {
    "duration": 11,
    "start_time": "2022-04-03T06:23:55.617Z"
   },
   {
    "duration": 6,
    "start_time": "2022-04-03T06:23:56.320Z"
   },
   {
    "duration": 9,
    "start_time": "2022-04-03T06:23:58.705Z"
   },
   {
    "duration": 11,
    "start_time": "2022-04-03T06:24:01.928Z"
   },
   {
    "duration": 5,
    "start_time": "2022-04-03T06:24:02.841Z"
   },
   {
    "duration": 8,
    "start_time": "2022-04-03T06:24:04.549Z"
   },
   {
    "duration": 12,
    "start_time": "2022-04-03T06:24:05.962Z"
   },
   {
    "duration": 8,
    "start_time": "2022-04-03T06:24:06.780Z"
   },
   {
    "duration": 9,
    "start_time": "2022-04-03T06:24:07.722Z"
   },
   {
    "duration": 11,
    "start_time": "2022-04-03T06:24:09.175Z"
   },
   {
    "duration": 8,
    "start_time": "2022-04-03T06:29:45.670Z"
   },
   {
    "duration": 11,
    "start_time": "2022-04-03T06:29:48.079Z"
   },
   {
    "duration": 4,
    "start_time": "2022-04-03T06:30:44.036Z"
   },
   {
    "duration": 3,
    "start_time": "2022-04-03T06:30:49.459Z"
   },
   {
    "duration": 7,
    "start_time": "2022-04-03T06:30:50.300Z"
   },
   {
    "duration": 3,
    "start_time": "2022-04-03T06:30:53.202Z"
   },
   {
    "duration": 10,
    "start_time": "2022-04-03T06:30:58.709Z"
   },
   {
    "duration": 11,
    "start_time": "2022-04-03T06:30:59.356Z"
   },
   {
    "duration": 10,
    "start_time": "2022-04-03T06:30:59.966Z"
   },
   {
    "duration": 1096,
    "start_time": "2022-04-03T06:31:07.647Z"
   },
   {
    "duration": 4,
    "start_time": "2022-04-03T06:31:19.446Z"
   },
   {
    "duration": 6,
    "start_time": "2022-04-03T06:31:21.259Z"
   },
   {
    "duration": 6,
    "start_time": "2022-04-03T06:31:24.653Z"
   },
   {
    "duration": 4,
    "start_time": "2022-04-03T06:31:25.996Z"
   },
   {
    "duration": 4,
    "start_time": "2022-04-03T06:31:27.268Z"
   },
   {
    "duration": 1102,
    "start_time": "2022-04-03T06:31:29.399Z"
   },
   {
    "duration": 7,
    "start_time": "2022-04-03T06:31:30.503Z"
   },
   {
    "duration": 5,
    "start_time": "2022-04-03T06:31:31.731Z"
   },
   {
    "duration": 7,
    "start_time": "2022-04-03T06:31:32.692Z"
   },
   {
    "duration": 4,
    "start_time": "2022-04-03T06:31:33.517Z"
   },
   {
    "duration": 4,
    "start_time": "2022-04-03T06:31:34.214Z"
   },
   {
    "duration": 1109,
    "start_time": "2022-04-03T06:31:36.199Z"
   },
   {
    "duration": 4,
    "start_time": "2022-04-03T06:31:37.310Z"
   },
   {
    "duration": 6,
    "start_time": "2022-04-03T06:31:37.883Z"
   },
   {
    "duration": 7,
    "start_time": "2022-04-03T06:31:38.741Z"
   },
   {
    "duration": 4,
    "start_time": "2022-04-03T06:31:39.636Z"
   },
   {
    "duration": 4,
    "start_time": "2022-04-03T06:31:40.620Z"
   },
   {
    "duration": 5,
    "start_time": "2022-04-03T06:31:41.924Z"
   },
   {
    "duration": 8,
    "start_time": "2022-04-03T06:31:43.272Z"
   },
   {
    "duration": 15,
    "start_time": "2022-04-03T06:33:03.416Z"
   },
   {
    "duration": 15,
    "start_time": "2022-04-03T06:35:06.106Z"
   },
   {
    "duration": 67,
    "start_time": "2022-04-03T06:36:08.483Z"
   },
   {
    "duration": 15,
    "start_time": "2022-04-03T06:36:31.767Z"
   },
   {
    "duration": 11,
    "start_time": "2022-04-03T06:40:23.636Z"
   },
   {
    "duration": 78,
    "start_time": "2022-04-03T06:42:07.340Z"
   },
   {
    "duration": 3,
    "start_time": "2022-04-03T06:42:18.574Z"
   },
   {
    "duration": 3,
    "start_time": "2022-04-03T06:42:23.210Z"
   },
   {
    "duration": 8,
    "start_time": "2022-04-03T06:42:24.474Z"
   },
   {
    "duration": 3,
    "start_time": "2022-04-03T06:42:27.913Z"
   },
   {
    "duration": 9,
    "start_time": "2022-04-03T06:42:31.734Z"
   },
   {
    "duration": 10,
    "start_time": "2022-04-03T06:42:33.721Z"
   },
   {
    "duration": 10,
    "start_time": "2022-04-03T06:42:35.109Z"
   },
   {
    "duration": 10,
    "start_time": "2022-04-03T06:42:37.999Z"
   },
   {
    "duration": 9,
    "start_time": "2022-04-03T06:42:38.571Z"
   },
   {
    "duration": 10,
    "start_time": "2022-04-03T06:42:39.205Z"
   },
   {
    "duration": 1077,
    "start_time": "2022-04-03T06:42:42.308Z"
   },
   {
    "duration": 1096,
    "start_time": "2022-04-03T06:42:53.469Z"
   },
   {
    "duration": 4,
    "start_time": "2022-04-03T06:43:04.306Z"
   },
   {
    "duration": 4,
    "start_time": "2022-04-03T06:43:08.525Z"
   },
   {
    "duration": 5,
    "start_time": "2022-04-03T06:43:09.397Z"
   },
   {
    "duration": 7,
    "start_time": "2022-04-03T06:43:12.508Z"
   },
   {
    "duration": 4,
    "start_time": "2022-04-03T06:43:13.522Z"
   },
   {
    "duration": 4,
    "start_time": "2022-04-03T06:43:19.868Z"
   },
   {
    "duration": 1080,
    "start_time": "2022-04-03T06:43:24.570Z"
   },
   {
    "duration": 3,
    "start_time": "2022-04-03T06:43:25.807Z"
   },
   {
    "duration": 5,
    "start_time": "2022-04-03T06:43:30.635Z"
   },
   {
    "duration": 6,
    "start_time": "2022-04-03T06:43:33.683Z"
   },
   {
    "duration": 4,
    "start_time": "2022-04-03T06:43:34.802Z"
   },
   {
    "duration": 4,
    "start_time": "2022-04-03T06:43:35.707Z"
   },
   {
    "duration": 1086,
    "start_time": "2022-04-03T06:43:38.826Z"
   },
   {
    "duration": 4,
    "start_time": "2022-04-03T06:43:39.914Z"
   },
   {
    "duration": 5,
    "start_time": "2022-04-03T06:43:41.920Z"
   },
   {
    "duration": 6,
    "start_time": "2022-04-03T06:43:42.916Z"
   },
   {
    "duration": 4,
    "start_time": "2022-04-03T06:43:43.722Z"
   },
   {
    "duration": 4,
    "start_time": "2022-04-03T06:43:44.721Z"
   },
   {
    "duration": 5,
    "start_time": "2022-04-03T06:43:45.717Z"
   },
   {
    "duration": 8,
    "start_time": "2022-04-03T06:43:46.610Z"
   },
   {
    "duration": 5,
    "start_time": "2022-04-03T06:44:11.657Z"
   },
   {
    "duration": 348,
    "start_time": "2022-04-03T06:44:11.932Z"
   },
   {
    "duration": 10,
    "start_time": "2022-04-03T06:44:12.282Z"
   },
   {
    "duration": 16,
    "start_time": "2022-04-03T06:44:12.497Z"
   },
   {
    "duration": 14,
    "start_time": "2022-04-03T06:44:12.873Z"
   },
   {
    "duration": 15,
    "start_time": "2022-04-03T06:44:13.555Z"
   },
   {
    "duration": 132,
    "start_time": "2022-04-03T06:44:14.638Z"
   },
   {
    "duration": 29,
    "start_time": "2022-04-03T06:44:15.749Z"
   },
   {
    "duration": 610,
    "start_time": "2022-04-03T06:44:16.889Z"
   },
   {
    "duration": 567,
    "start_time": "2022-04-03T06:44:17.508Z"
   },
   {
    "duration": 616,
    "start_time": "2022-04-03T06:44:18.077Z"
   },
   {
    "duration": 8,
    "start_time": "2022-04-03T06:44:20.609Z"
   },
   {
    "duration": 26,
    "start_time": "2022-04-03T06:44:21.204Z"
   },
   {
    "duration": 11,
    "start_time": "2022-04-03T06:44:21.804Z"
   },
   {
    "duration": 11,
    "start_time": "2022-04-03T06:44:22.380Z"
   },
   {
    "duration": 10,
    "start_time": "2022-04-03T06:44:23.554Z"
   },
   {
    "duration": 11,
    "start_time": "2022-04-03T06:44:25.043Z"
   },
   {
    "duration": 6,
    "start_time": "2022-04-03T06:44:25.682Z"
   },
   {
    "duration": 7,
    "start_time": "2022-04-03T06:44:26.277Z"
   },
   {
    "duration": 8,
    "start_time": "2022-04-03T06:44:30.188Z"
   },
   {
    "duration": 11,
    "start_time": "2022-04-03T06:44:30.732Z"
   },
   {
    "duration": 8,
    "start_time": "2022-04-03T06:44:31.500Z"
   },
   {
    "duration": 9,
    "start_time": "2022-04-03T06:44:32.351Z"
   },
   {
    "duration": 5,
    "start_time": "2022-04-03T06:44:35.068Z"
   },
   {
    "duration": 8,
    "start_time": "2022-04-03T06:44:35.644Z"
   },
   {
    "duration": 15,
    "start_time": "2022-04-03T06:44:38.330Z"
   },
   {
    "duration": 15,
    "start_time": "2022-04-03T06:44:40.008Z"
   },
   {
    "duration": 10,
    "start_time": "2022-04-03T06:44:44.354Z"
   },
   {
    "duration": 3,
    "start_time": "2022-04-03T06:44:54.257Z"
   },
   {
    "duration": 4,
    "start_time": "2022-04-03T06:44:58.767Z"
   },
   {
    "duration": 7,
    "start_time": "2022-04-03T06:44:59.516Z"
   },
   {
    "duration": 3,
    "start_time": "2022-04-03T06:45:01.883Z"
   },
   {
    "duration": 9,
    "start_time": "2022-04-03T06:45:06.347Z"
   },
   {
    "duration": 9,
    "start_time": "2022-04-03T06:45:06.951Z"
   },
   {
    "duration": 9,
    "start_time": "2022-04-03T06:45:07.633Z"
   },
   {
    "duration": 1127,
    "start_time": "2022-04-03T06:45:12.627Z"
   },
   {
    "duration": 3,
    "start_time": "2022-04-03T06:45:21.645Z"
   },
   {
    "duration": 6,
    "start_time": "2022-04-03T06:45:22.325Z"
   },
   {
    "duration": 6,
    "start_time": "2022-04-03T06:45:23.843Z"
   },
   {
    "duration": 4,
    "start_time": "2022-04-03T06:45:24.499Z"
   },
   {
    "duration": 4,
    "start_time": "2022-04-03T06:45:25.290Z"
   },
   {
    "duration": 1088,
    "start_time": "2022-04-03T06:45:26.866Z"
   },
   {
    "duration": 3,
    "start_time": "2022-04-03T06:45:27.956Z"
   },
   {
    "duration": 5,
    "start_time": "2022-04-03T06:45:28.782Z"
   },
   {
    "duration": 6,
    "start_time": "2022-04-03T06:45:29.417Z"
   },
   {
    "duration": 4,
    "start_time": "2022-04-03T06:45:30.148Z"
   },
   {
    "duration": 4,
    "start_time": "2022-04-03T06:45:30.862Z"
   },
   {
    "duration": 1082,
    "start_time": "2022-04-03T06:45:32.370Z"
   },
   {
    "duration": 4,
    "start_time": "2022-04-03T06:45:33.454Z"
   },
   {
    "duration": 6,
    "start_time": "2022-04-03T06:45:33.658Z"
   },
   {
    "duration": 6,
    "start_time": "2022-04-03T06:45:34.412Z"
   },
   {
    "duration": 4,
    "start_time": "2022-04-03T06:45:35.034Z"
   },
   {
    "duration": 4,
    "start_time": "2022-04-03T06:45:35.747Z"
   },
   {
    "duration": 5,
    "start_time": "2022-04-03T06:45:36.475Z"
   },
   {
    "duration": 9,
    "start_time": "2022-04-03T06:45:37.660Z"
   },
   {
    "duration": 3,
    "start_time": "2022-04-03T06:46:29.742Z"
   },
   {
    "duration": 376,
    "start_time": "2022-04-03T06:46:29.811Z"
   },
   {
    "duration": 10,
    "start_time": "2022-04-03T06:46:30.190Z"
   },
   {
    "duration": 16,
    "start_time": "2022-04-03T06:46:30.209Z"
   },
   {
    "duration": 14,
    "start_time": "2022-04-03T06:46:30.227Z"
   },
   {
    "duration": 14,
    "start_time": "2022-04-03T06:46:30.243Z"
   },
   {
    "duration": 149,
    "start_time": "2022-04-03T06:46:30.259Z"
   },
   {
    "duration": 28,
    "start_time": "2022-04-03T06:46:30.410Z"
   },
   {
    "duration": 658,
    "start_time": "2022-04-03T06:46:30.440Z"
   },
   {
    "duration": 565,
    "start_time": "2022-04-03T06:46:31.099Z"
   },
   {
    "duration": 817,
    "start_time": "2022-04-03T06:46:31.666Z"
   },
   {
    "duration": 7,
    "start_time": "2022-04-03T06:46:32.485Z"
   },
   {
    "duration": 31,
    "start_time": "2022-04-03T06:46:32.493Z"
   },
   {
    "duration": 11,
    "start_time": "2022-04-03T06:46:32.525Z"
   },
   {
    "duration": 5,
    "start_time": "2022-04-03T06:46:32.539Z"
   },
   {
    "duration": 164,
    "start_time": "2022-04-03T06:46:32.546Z"
   },
   {
    "duration": 10,
    "start_time": "2022-04-03T06:46:32.712Z"
   },
   {
    "duration": 32,
    "start_time": "2022-04-03T06:46:32.724Z"
   },
   {
    "duration": 154,
    "start_time": "2022-04-03T06:46:32.758Z"
   },
   {
    "duration": 11,
    "start_time": "2022-04-03T06:46:32.914Z"
   },
   {
    "duration": 5,
    "start_time": "2022-04-03T06:46:32.927Z"
   },
   {
    "duration": 82,
    "start_time": "2022-04-03T06:46:32.935Z"
   },
   {
    "duration": 105,
    "start_time": "2022-04-03T06:46:33.019Z"
   },
   {
    "duration": 15,
    "start_time": "2022-04-03T06:46:33.125Z"
   },
   {
    "duration": 11,
    "start_time": "2022-04-03T06:46:33.141Z"
   },
   {
    "duration": 12,
    "start_time": "2022-04-03T06:46:33.154Z"
   },
   {
    "duration": 11,
    "start_time": "2022-04-03T06:46:33.168Z"
   },
   {
    "duration": 8,
    "start_time": "2022-04-03T06:46:33.209Z"
   },
   {
    "duration": 4,
    "start_time": "2022-04-03T06:46:33.219Z"
   },
   {
    "duration": 14,
    "start_time": "2022-04-03T06:46:33.225Z"
   },
   {
    "duration": 8,
    "start_time": "2022-04-03T06:46:33.241Z"
   },
   {
    "duration": 8,
    "start_time": "2022-04-03T06:46:33.251Z"
   },
   {
    "duration": 1148,
    "start_time": "2022-04-03T06:46:33.260Z"
   },
   {
    "duration": 4,
    "start_time": "2022-04-03T06:46:34.410Z"
   },
   {
    "duration": 7,
    "start_time": "2022-04-03T06:46:34.415Z"
   },
   {
    "duration": 7,
    "start_time": "2022-04-03T06:46:34.423Z"
   },
   {
    "duration": 4,
    "start_time": "2022-04-03T06:46:34.432Z"
   },
   {
    "duration": 7,
    "start_time": "2022-04-03T06:46:34.437Z"
   },
   {
    "duration": 1117,
    "start_time": "2022-04-03T06:46:34.446Z"
   },
   {
    "duration": 4,
    "start_time": "2022-04-03T06:46:35.565Z"
   },
   {
    "duration": 11,
    "start_time": "2022-04-03T06:46:35.571Z"
   },
   {
    "duration": 7,
    "start_time": "2022-04-03T06:46:35.586Z"
   },
   {
    "duration": 15,
    "start_time": "2022-04-03T06:46:35.595Z"
   },
   {
    "duration": 6,
    "start_time": "2022-04-03T06:46:35.612Z"
   },
   {
    "duration": 1123,
    "start_time": "2022-04-03T06:46:35.619Z"
   },
   {
    "duration": 4,
    "start_time": "2022-04-03T06:46:36.744Z"
   },
   {
    "duration": 7,
    "start_time": "2022-04-03T06:46:36.750Z"
   },
   {
    "duration": 10,
    "start_time": "2022-04-03T06:46:36.758Z"
   },
   {
    "duration": 6,
    "start_time": "2022-04-03T06:46:36.770Z"
   },
   {
    "duration": 7,
    "start_time": "2022-04-03T06:46:36.777Z"
   },
   {
    "duration": 26,
    "start_time": "2022-04-03T06:46:36.785Z"
   },
   {
    "duration": 12,
    "start_time": "2022-04-03T06:46:36.813Z"
   },
   {
    "duration": 4,
    "start_time": "2022-04-03T06:46:43.607Z"
   },
   {
    "duration": 347,
    "start_time": "2022-04-03T06:46:43.615Z"
   },
   {
    "duration": 10,
    "start_time": "2022-04-03T06:46:43.964Z"
   },
   {
    "duration": 37,
    "start_time": "2022-04-03T06:46:43.976Z"
   },
   {
    "duration": 13,
    "start_time": "2022-04-03T06:46:44.016Z"
   },
   {
    "duration": 14,
    "start_time": "2022-04-03T06:46:44.030Z"
   },
   {
    "duration": 146,
    "start_time": "2022-04-03T06:46:44.046Z"
   },
   {
    "duration": 31,
    "start_time": "2022-04-03T06:46:44.194Z"
   },
   {
    "duration": 665,
    "start_time": "2022-04-03T06:46:44.227Z"
   },
   {
    "duration": 563,
    "start_time": "2022-04-03T06:46:44.894Z"
   },
   {
    "duration": 626,
    "start_time": "2022-04-03T06:46:45.460Z"
   },
   {
    "duration": 8,
    "start_time": "2022-04-03T06:46:46.088Z"
   },
   {
    "duration": 35,
    "start_time": "2022-04-03T06:46:46.097Z"
   },
   {
    "duration": 11,
    "start_time": "2022-04-03T06:46:46.133Z"
   },
   {
    "duration": 6,
    "start_time": "2022-04-03T06:46:46.146Z"
   },
   {
    "duration": 63,
    "start_time": "2022-04-03T06:46:46.155Z"
   },
   {
    "duration": 11,
    "start_time": "2022-04-03T06:46:46.310Z"
   },
   {
    "duration": 6,
    "start_time": "2022-04-03T06:46:46.323Z"
   },
   {
    "duration": 87,
    "start_time": "2022-04-03T06:46:46.331Z"
   },
   {
    "duration": 11,
    "start_time": "2022-04-03T06:46:46.510Z"
   },
   {
    "duration": 6,
    "start_time": "2022-04-03T06:46:46.522Z"
   },
   {
    "duration": 88,
    "start_time": "2022-04-03T06:46:46.531Z"
   },
   {
    "duration": 15,
    "start_time": "2022-04-03T06:46:46.710Z"
   },
   {
    "duration": 14,
    "start_time": "2022-04-03T06:46:46.727Z"
   },
   {
    "duration": 11,
    "start_time": "2022-04-03T06:46:46.743Z"
   },
   {
    "duration": 6,
    "start_time": "2022-04-03T06:46:46.755Z"
   },
   {
    "duration": 8,
    "start_time": "2022-04-03T06:46:46.763Z"
   },
   {
    "duration": 6,
    "start_time": "2022-04-03T06:46:46.810Z"
   },
   {
    "duration": 4,
    "start_time": "2022-04-03T06:46:46.820Z"
   },
   {
    "duration": 12,
    "start_time": "2022-04-03T06:46:46.826Z"
   },
   {
    "duration": 9,
    "start_time": "2022-04-03T06:46:46.840Z"
   },
   {
    "duration": 11,
    "start_time": "2022-04-03T06:46:46.851Z"
   },
   {
    "duration": 1109,
    "start_time": "2022-04-03T06:46:46.864Z"
   },
   {
    "duration": 4,
    "start_time": "2022-04-03T06:46:47.975Z"
   },
   {
    "duration": 6,
    "start_time": "2022-04-03T06:46:47.981Z"
   },
   {
    "duration": 20,
    "start_time": "2022-04-03T06:46:47.989Z"
   },
   {
    "duration": 3,
    "start_time": "2022-04-03T06:46:48.011Z"
   },
   {
    "duration": 6,
    "start_time": "2022-04-03T06:46:48.016Z"
   },
   {
    "duration": 1097,
    "start_time": "2022-04-03T06:46:48.023Z"
   },
   {
    "duration": 3,
    "start_time": "2022-04-03T06:46:49.122Z"
   },
   {
    "duration": 6,
    "start_time": "2022-04-03T06:46:49.127Z"
   },
   {
    "duration": 6,
    "start_time": "2022-04-03T06:46:49.135Z"
   },
   {
    "duration": 4,
    "start_time": "2022-04-03T06:46:49.142Z"
   },
   {
    "duration": 6,
    "start_time": "2022-04-03T06:46:49.147Z"
   },
   {
    "duration": 1116,
    "start_time": "2022-04-03T06:46:49.154Z"
   },
   {
    "duration": 4,
    "start_time": "2022-04-03T06:46:50.271Z"
   },
   {
    "duration": 9,
    "start_time": "2022-04-03T06:46:50.276Z"
   },
   {
    "duration": 10,
    "start_time": "2022-04-03T06:46:50.287Z"
   },
   {
    "duration": 11,
    "start_time": "2022-04-03T06:46:50.299Z"
   },
   {
    "duration": 5,
    "start_time": "2022-04-03T06:46:50.312Z"
   },
   {
    "duration": 7,
    "start_time": "2022-04-03T06:46:50.319Z"
   },
   {
    "duration": 15,
    "start_time": "2022-04-03T06:46:50.328Z"
   },
   {
    "duration": 29885,
    "start_time": "2022-04-03T15:31:48.598Z"
   },
   {
    "duration": 440,
    "start_time": "2022-04-03T15:32:18.486Z"
   },
   {
    "duration": 20,
    "start_time": "2022-04-03T15:32:18.928Z"
   },
   {
    "duration": 36,
    "start_time": "2022-04-03T15:32:18.951Z"
   },
   {
    "duration": 20,
    "start_time": "2022-04-03T15:32:18.990Z"
   },
   {
    "duration": 19,
    "start_time": "2022-04-03T15:32:19.013Z"
   },
   {
    "duration": 262,
    "start_time": "2022-04-03T15:32:19.034Z"
   },
   {
    "duration": 41,
    "start_time": "2022-04-03T15:32:19.298Z"
   },
   {
    "duration": 954,
    "start_time": "2022-04-03T15:32:19.341Z"
   },
   {
    "duration": 842,
    "start_time": "2022-04-03T15:32:20.300Z"
   },
   {
    "duration": 934,
    "start_time": "2022-04-03T15:32:21.144Z"
   },
   {
    "duration": 15,
    "start_time": "2022-04-03T15:32:22.081Z"
   },
   {
    "duration": 41,
    "start_time": "2022-04-03T15:32:22.098Z"
   },
   {
    "duration": 40,
    "start_time": "2022-04-03T15:32:22.142Z"
   },
   {
    "duration": 10,
    "start_time": "2022-04-03T15:32:22.185Z"
   },
   {
    "duration": 183,
    "start_time": "2022-04-03T15:32:22.198Z"
   },
   {
    "duration": 16,
    "start_time": "2022-04-03T15:32:22.383Z"
   },
   {
    "duration": 9,
    "start_time": "2022-04-03T15:32:22.401Z"
   },
   {
    "duration": 110,
    "start_time": "2022-04-03T15:32:22.475Z"
   },
   {
    "duration": 18,
    "start_time": "2022-04-03T15:32:22.589Z"
   },
   {
    "duration": 80,
    "start_time": "2022-04-03T15:32:22.609Z"
   },
   {
    "duration": 100,
    "start_time": "2022-04-03T15:32:22.692Z"
   },
   {
    "duration": 29,
    "start_time": "2022-04-03T15:32:22.794Z"
   },
   {
    "duration": 66,
    "start_time": "2022-04-03T15:32:22.825Z"
   },
   {
    "duration": 13,
    "start_time": "2022-04-03T15:32:22.894Z"
   },
   {
    "duration": 9,
    "start_time": "2022-04-03T15:32:22.910Z"
   },
   {
    "duration": 8,
    "start_time": "2022-04-03T15:32:22.921Z"
   },
   {
    "duration": 8,
    "start_time": "2022-04-03T15:32:22.935Z"
   },
   {
    "duration": 7,
    "start_time": "2022-04-03T15:32:22.979Z"
   },
   {
    "duration": 16,
    "start_time": "2022-04-03T15:32:22.988Z"
   },
   {
    "duration": 11,
    "start_time": "2022-04-03T15:32:23.006Z"
   },
   {
    "duration": 13,
    "start_time": "2022-04-03T15:32:23.019Z"
   },
   {
    "duration": 1759,
    "start_time": "2022-04-03T15:32:23.034Z"
   },
   {
    "duration": 5,
    "start_time": "2022-04-03T15:32:24.795Z"
   },
   {
    "duration": 14,
    "start_time": "2022-04-03T15:32:24.802Z"
   },
   {
    "duration": 26,
    "start_time": "2022-04-03T15:32:24.818Z"
   },
   {
    "duration": 13,
    "start_time": "2022-04-03T15:32:24.846Z"
   },
   {
    "duration": 18,
    "start_time": "2022-04-03T15:32:24.861Z"
   },
   {
    "duration": 1785,
    "start_time": "2022-04-03T15:32:24.881Z"
   },
   {
    "duration": 8,
    "start_time": "2022-04-03T15:32:26.668Z"
   },
   {
    "duration": 25,
    "start_time": "2022-04-03T15:32:26.679Z"
   },
   {
    "duration": 13,
    "start_time": "2022-04-03T15:32:26.707Z"
   },
   {
    "duration": 7,
    "start_time": "2022-04-03T15:32:26.723Z"
   },
   {
    "duration": 11,
    "start_time": "2022-04-03T15:32:26.732Z"
   },
   {
    "duration": 2001,
    "start_time": "2022-04-03T15:32:26.745Z"
   },
   {
    "duration": 8,
    "start_time": "2022-04-03T15:32:28.748Z"
   },
   {
    "duration": 20,
    "start_time": "2022-04-03T15:32:28.759Z"
   },
   {
    "duration": 19,
    "start_time": "2022-04-03T15:32:28.781Z"
   },
   {
    "duration": 9,
    "start_time": "2022-04-03T15:32:28.804Z"
   },
   {
    "duration": 12,
    "start_time": "2022-04-03T15:32:28.816Z"
   },
   {
    "duration": 45,
    "start_time": "2022-04-03T15:32:28.831Z"
   },
   {
    "duration": 23,
    "start_time": "2022-04-03T15:32:28.879Z"
   },
   {
    "duration": 7,
    "start_time": "2022-04-03T15:33:03.067Z"
   },
   {
    "duration": 7,
    "start_time": "2022-04-03T15:33:11.881Z"
   },
   {
    "duration": 7,
    "start_time": "2022-04-03T15:33:15.952Z"
   },
   {
    "duration": 69,
    "start_time": "2022-04-04T04:40:03.660Z"
   },
   {
    "duration": 2149,
    "start_time": "2022-04-04T04:40:20.292Z"
   },
   {
    "duration": 402,
    "start_time": "2022-04-04T04:40:22.444Z"
   },
   {
    "duration": 19,
    "start_time": "2022-04-04T04:40:22.848Z"
   },
   {
    "duration": 29,
    "start_time": "2022-04-04T04:40:22.870Z"
   },
   {
    "duration": 18,
    "start_time": "2022-04-04T04:40:22.902Z"
   },
   {
    "duration": 19,
    "start_time": "2022-04-04T04:40:23.060Z"
   },
   {
    "duration": 180,
    "start_time": "2022-04-04T04:40:24.166Z"
   },
   {
    "duration": 39,
    "start_time": "2022-04-04T04:40:25.277Z"
   },
   {
    "duration": 826,
    "start_time": "2022-04-04T04:40:26.394Z"
   },
   {
    "duration": 743,
    "start_time": "2022-04-04T04:40:27.222Z"
   },
   {
    "duration": 839,
    "start_time": "2022-04-04T04:40:27.967Z"
   },
   {
    "duration": 14,
    "start_time": "2022-04-04T04:40:29.714Z"
   },
   {
    "duration": 38,
    "start_time": "2022-04-04T04:40:30.344Z"
   },
   {
    "duration": 20,
    "start_time": "2022-04-04T04:40:30.803Z"
   },
   {
    "duration": 7,
    "start_time": "2022-04-04T04:40:31.330Z"
   },
   {
    "duration": 10,
    "start_time": "2022-04-04T04:40:32.362Z"
   },
   {
    "duration": 14,
    "start_time": "2022-04-04T04:40:33.355Z"
   },
   {
    "duration": 8,
    "start_time": "2022-04-04T04:40:33.961Z"
   },
   {
    "duration": 13,
    "start_time": "2022-04-04T04:40:34.599Z"
   },
   {
    "duration": 15,
    "start_time": "2022-04-04T04:40:35.628Z"
   },
   {
    "duration": 6,
    "start_time": "2022-04-04T04:40:37.862Z"
   },
   {
    "duration": 10,
    "start_time": "2022-04-04T04:40:38.498Z"
   },
   {
    "duration": 19,
    "start_time": "2022-04-04T04:40:41.562Z"
   },
   {
    "duration": 18,
    "start_time": "2022-04-04T04:40:43.995Z"
   },
   {
    "duration": 14,
    "start_time": "2022-04-04T04:41:03.050Z"
   },
   {
    "duration": 5,
    "start_time": "2022-04-04T04:41:20.726Z"
   },
   {
    "duration": 5,
    "start_time": "2022-04-04T04:41:25.010Z"
   },
   {
    "duration": 8,
    "start_time": "2022-04-04T04:41:25.889Z"
   },
   {
    "duration": 5,
    "start_time": "2022-04-04T04:41:31.091Z"
   },
   {
    "duration": 13,
    "start_time": "2022-04-04T04:41:34.180Z"
   },
   {
    "duration": 13,
    "start_time": "2022-04-04T04:41:35.044Z"
   },
   {
    "duration": 12,
    "start_time": "2022-04-04T04:41:35.598Z"
   },
   {
    "duration": 1527,
    "start_time": "2022-04-04T04:41:40.214Z"
   },
   {
    "duration": 6,
    "start_time": "2022-04-04T04:41:51.378Z"
   },
   {
    "duration": 7,
    "start_time": "2022-04-04T04:42:04.901Z"
   },
   {
    "duration": 10,
    "start_time": "2022-04-04T04:42:08.593Z"
   },
   {
    "duration": 6,
    "start_time": "2022-04-04T04:42:09.364Z"
   },
   {
    "duration": 5,
    "start_time": "2022-04-04T04:42:10.934Z"
   },
   {
    "duration": 1497,
    "start_time": "2022-04-04T04:42:23.764Z"
   },
   {
    "duration": 6,
    "start_time": "2022-04-04T04:42:26.856Z"
   },
   {
    "duration": 7,
    "start_time": "2022-04-04T04:42:28.199Z"
   },
   {
    "duration": 9,
    "start_time": "2022-04-04T04:42:31.221Z"
   },
   {
    "duration": 6,
    "start_time": "2022-04-04T04:42:32.236Z"
   },
   {
    "duration": 6,
    "start_time": "2022-04-04T04:42:40.046Z"
   },
   {
    "duration": 1602,
    "start_time": "2022-04-04T04:42:50.004Z"
   },
   {
    "duration": 5,
    "start_time": "2022-04-04T04:42:51.608Z"
   },
   {
    "duration": 7,
    "start_time": "2022-04-04T04:42:54.352Z"
   },
   {
    "duration": 8,
    "start_time": "2022-04-04T04:42:56.904Z"
   },
   {
    "duration": 5,
    "start_time": "2022-04-04T04:42:58.474Z"
   },
   {
    "duration": 6,
    "start_time": "2022-04-04T04:42:59.268Z"
   },
   {
    "duration": 5,
    "start_time": "2022-04-04T04:43:08.949Z"
   },
   {
    "duration": 6,
    "start_time": "2022-04-04T04:43:14.900Z"
   },
   {
    "duration": 12,
    "start_time": "2022-04-04T04:43:20.215Z"
   },
   {
    "duration": 147,
    "start_time": "2022-04-04T04:51:36.834Z"
   },
   {
    "duration": 6,
    "start_time": "2022-04-04T04:52:19.358Z"
   },
   {
    "duration": 416,
    "start_time": "2022-04-04T04:52:19.377Z"
   },
   {
    "duration": 13,
    "start_time": "2022-04-04T04:52:19.796Z"
   },
   {
    "duration": 20,
    "start_time": "2022-04-04T04:52:19.811Z"
   },
   {
    "duration": 18,
    "start_time": "2022-04-04T04:52:19.833Z"
   },
   {
    "duration": 19,
    "start_time": "2022-04-04T04:52:19.882Z"
   },
   {
    "duration": 217,
    "start_time": "2022-04-04T04:52:19.903Z"
   },
   {
    "duration": 38,
    "start_time": "2022-04-04T04:52:20.122Z"
   },
   {
    "duration": 847,
    "start_time": "2022-04-04T04:52:20.162Z"
   },
   {
    "duration": 861,
    "start_time": "2022-04-04T04:52:21.011Z"
   },
   {
    "duration": 843,
    "start_time": "2022-04-04T04:52:21.874Z"
   },
   {
    "duration": 10,
    "start_time": "2022-04-04T04:52:22.720Z"
   },
   {
    "duration": 31,
    "start_time": "2022-04-04T04:52:22.732Z"
   },
   {
    "duration": 26,
    "start_time": "2022-04-04T04:52:22.765Z"
   },
   {
    "duration": 6,
    "start_time": "2022-04-04T04:52:22.795Z"
   },
   {
    "duration": 188,
    "start_time": "2022-04-04T04:52:22.805Z"
   },
   {
    "duration": 14,
    "start_time": "2022-04-04T04:52:22.996Z"
   },
   {
    "duration": 8,
    "start_time": "2022-04-04T04:52:23.012Z"
   },
   {
    "duration": 101,
    "start_time": "2022-04-04T04:52:23.083Z"
   },
   {
    "duration": 19,
    "start_time": "2022-04-04T04:52:23.186Z"
   },
   {
    "duration": 79,
    "start_time": "2022-04-04T04:52:23.207Z"
   },
   {
    "duration": 102,
    "start_time": "2022-04-04T04:52:23.289Z"
   },
   {
    "duration": 21,
    "start_time": "2022-04-04T04:52:23.394Z"
   },
   {
    "duration": 77,
    "start_time": "2022-04-04T04:52:23.418Z"
   },
   {
    "duration": 13,
    "start_time": "2022-04-04T04:52:23.497Z"
   },
   {
    "duration": 6,
    "start_time": "2022-04-04T04:52:23.512Z"
   },
   {
    "duration": 13,
    "start_time": "2022-04-04T04:52:23.520Z"
   },
   {
    "duration": 21,
    "start_time": "2022-04-04T04:52:23.535Z"
   },
   {
    "duration": 25,
    "start_time": "2022-04-04T04:52:23.559Z"
   },
   {
    "duration": 18,
    "start_time": "2022-04-04T04:52:23.586Z"
   },
   {
    "duration": 13,
    "start_time": "2022-04-04T04:52:23.606Z"
   },
   {
    "duration": 12,
    "start_time": "2022-04-04T04:52:23.621Z"
   },
   {
    "duration": 1538,
    "start_time": "2022-04-04T04:52:23.635Z"
   },
   {
    "duration": 8,
    "start_time": "2022-04-04T04:52:25.175Z"
   },
   {
    "duration": 6,
    "start_time": "2022-04-04T04:52:25.185Z"
   },
   {
    "duration": 8,
    "start_time": "2022-04-04T04:52:25.193Z"
   },
   {
    "duration": 7,
    "start_time": "2022-04-04T04:52:25.204Z"
   },
   {
    "duration": 7,
    "start_time": "2022-04-04T04:52:25.213Z"
   },
   {
    "duration": 1534,
    "start_time": "2022-04-04T04:52:25.223Z"
   },
   {
    "duration": 6,
    "start_time": "2022-04-04T04:52:26.759Z"
   },
   {
    "duration": 19,
    "start_time": "2022-04-04T04:52:26.767Z"
   },
   {
    "duration": 7,
    "start_time": "2022-04-04T04:52:26.792Z"
   },
   {
    "duration": 5,
    "start_time": "2022-04-04T04:52:26.802Z"
   },
   {
    "duration": 6,
    "start_time": "2022-04-04T04:52:26.809Z"
   },
   {
    "duration": 1524,
    "start_time": "2022-04-04T04:52:26.817Z"
   },
   {
    "duration": 5,
    "start_time": "2022-04-04T04:52:28.343Z"
   },
   {
    "duration": 9,
    "start_time": "2022-04-04T04:52:28.350Z"
   },
   {
    "duration": 25,
    "start_time": "2022-04-04T04:52:28.361Z"
   },
   {
    "duration": 5,
    "start_time": "2022-04-04T04:52:28.388Z"
   },
   {
    "duration": 7,
    "start_time": "2022-04-04T04:52:28.395Z"
   },
   {
    "duration": 8,
    "start_time": "2022-04-04T04:52:28.404Z"
   },
   {
    "duration": 16,
    "start_time": "2022-04-04T04:52:28.414Z"
   },
   {
    "duration": 26507,
    "start_time": "2022-04-04T07:08:38.754Z"
   },
   {
    "duration": 3,
    "start_time": "2022-04-04T07:09:08.677Z"
   },
   {
    "duration": 369,
    "start_time": "2022-04-04T07:09:08.682Z"
   },
   {
    "duration": 12,
    "start_time": "2022-04-04T07:09:09.053Z"
   },
   {
    "duration": 18,
    "start_time": "2022-04-04T07:09:09.067Z"
   },
   {
    "duration": 13,
    "start_time": "2022-04-04T07:09:09.087Z"
   },
   {
    "duration": 13,
    "start_time": "2022-04-04T07:09:09.101Z"
   },
   {
    "duration": 136,
    "start_time": "2022-04-04T07:09:09.116Z"
   },
   {
    "duration": 36,
    "start_time": "2022-04-04T07:09:09.253Z"
   },
   {
    "duration": 661,
    "start_time": "2022-04-04T07:09:09.290Z"
   },
   {
    "duration": 550,
    "start_time": "2022-04-04T07:09:09.953Z"
   },
   {
    "duration": 629,
    "start_time": "2022-04-04T07:09:10.505Z"
   },
   {
    "duration": 10,
    "start_time": "2022-04-04T07:09:11.136Z"
   },
   {
    "duration": 45,
    "start_time": "2022-04-04T07:09:11.148Z"
   },
   {
    "duration": 14,
    "start_time": "2022-04-04T07:09:11.195Z"
   },
   {
    "duration": 183,
    "start_time": "2022-04-04T07:09:11.211Z"
   },
   {
    "duration": 102,
    "start_time": "2022-04-04T07:09:11.481Z"
   },
   {
    "duration": 9,
    "start_time": "2022-04-04T07:09:11.585Z"
   },
   {
    "duration": 7,
    "start_time": "2022-04-04T07:09:11.596Z"
   },
   {
    "duration": 180,
    "start_time": "2022-04-04T07:09:11.605Z"
   },
   {
    "duration": 25,
    "start_time": "2022-04-04T07:09:11.786Z"
   },
   {
    "duration": 16,
    "start_time": "2022-04-04T07:09:11.813Z"
   },
   {
    "duration": 154,
    "start_time": "2022-04-04T07:09:11.831Z"
   },
   {
    "duration": 13,
    "start_time": "2022-04-04T07:09:11.986Z"
   },
   {
    "duration": 18,
    "start_time": "2022-04-04T07:09:12.000Z"
   },
   {
    "duration": 16,
    "start_time": "2022-04-04T07:09:12.019Z"
   },
   {
    "duration": 14,
    "start_time": "2022-04-04T07:09:12.036Z"
   },
   {
    "duration": 20,
    "start_time": "2022-04-04T07:09:12.051Z"
   },
   {
    "duration": 30,
    "start_time": "2022-04-04T07:09:12.072Z"
   },
   {
    "duration": 14,
    "start_time": "2022-04-04T07:09:12.105Z"
   },
   {
    "duration": 31,
    "start_time": "2022-04-04T07:09:12.121Z"
   },
   {
    "duration": 26,
    "start_time": "2022-04-04T07:09:12.153Z"
   },
   {
    "duration": 9,
    "start_time": "2022-04-04T07:09:12.180Z"
   },
   {
    "duration": 1055,
    "start_time": "2022-04-04T07:09:12.191Z"
   },
   {
    "duration": 3,
    "start_time": "2022-04-04T07:09:13.247Z"
   },
   {
    "duration": 6,
    "start_time": "2022-04-04T07:09:13.252Z"
   },
   {
    "duration": 10,
    "start_time": "2022-04-04T07:09:13.260Z"
   },
   {
    "duration": 10,
    "start_time": "2022-04-04T07:09:13.271Z"
   },
   {
    "duration": 7,
    "start_time": "2022-04-04T07:09:13.283Z"
   },
   {
    "duration": 903,
    "start_time": "2022-04-04T07:09:13.292Z"
   },
   {
    "duration": 4,
    "start_time": "2022-04-04T07:09:14.196Z"
   },
   {
    "duration": 8,
    "start_time": "2022-04-04T07:09:14.201Z"
   },
   {
    "duration": 10,
    "start_time": "2022-04-04T07:09:14.211Z"
   },
   {
    "duration": 8,
    "start_time": "2022-04-04T07:09:14.222Z"
   },
   {
    "duration": 6,
    "start_time": "2022-04-04T07:09:14.231Z"
   },
   {
    "duration": 910,
    "start_time": "2022-04-04T07:09:14.238Z"
   },
   {
    "duration": 3,
    "start_time": "2022-04-04T07:09:15.150Z"
   },
   {
    "duration": 7,
    "start_time": "2022-04-04T07:09:15.155Z"
   },
   {
    "duration": 22,
    "start_time": "2022-04-04T07:09:15.163Z"
   },
   {
    "duration": 4,
    "start_time": "2022-04-04T07:09:15.187Z"
   },
   {
    "duration": 5,
    "start_time": "2022-04-04T07:09:15.193Z"
   },
   {
    "duration": 11,
    "start_time": "2022-04-04T07:09:15.199Z"
   },
   {
    "duration": 17,
    "start_time": "2022-04-04T07:09:15.212Z"
   }
  ],
  "kernelspec": {
   "display_name": "Python 3 (ipykernel)",
   "language": "python",
   "name": "python3"
  },
  "language_info": {
   "codemirror_mode": {
    "name": "ipython",
    "version": 3
   },
   "file_extension": ".py",
   "mimetype": "text/x-python",
   "name": "python",
   "nbconvert_exporter": "python",
   "pygments_lexer": "ipython3",
   "version": "3.9.5"
  },
  "toc": {
   "base_numbering": 1,
   "nav_menu": {},
   "number_sections": true,
   "sideBar": true,
   "skip_h1_title": true,
   "title_cell": "Table of Contents",
   "title_sidebar": "Contents",
   "toc_cell": false,
   "toc_position": {},
   "toc_section_display": true,
   "toc_window_display": false
  }
 },
 "nbformat": 4,
 "nbformat_minor": 2
}
