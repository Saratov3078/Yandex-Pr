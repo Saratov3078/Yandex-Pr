{
 "cells": [
  {
   "cell_type": "markdown",
   "metadata": {},
   "source": [
    "# Исследование надёжности заёмщиков\n",
    "\n",
    "Заказчик — кредитный отдел банка. Нужно разобраться, влияет ли семейное положение и количество детей клиента на факт погашения кредита в срок. Входные данные от банка — статистика о платёжеспособности клиентов.\n",
    "\n",
    "Результаты исследования будут учтены при построении модели **кредитного скоринга** — специальной системы, которая оценивает способность потенциального заёмщика вернуть кредит банку."
   ]
  },
  {
   "cell_type": "markdown",
   "metadata": {},
   "source": [
    "## Шаг 1. Откройте файл с данными и изучите общую информацию"
   ]
  },
  {
   "cell_type": "code",
   "execution_count": 17,
   "metadata": {},
   "outputs": [
    {
     "name": "stdout",
     "output_type": "stream",
     "text": [
      "0.40000000000000002220446049250313080847263336181641\n"
     ]
    },
    {
     "data": {
      "text/plain": [
       "0.4"
      ]
     },
     "execution_count": 17,
     "metadata": {},
     "output_type": "execute_result"
    }
   ],
   "source": [
    "import pandas as pd\n",
    "from pymystem3 import Mystem \n",
    "m = Mystem()\n",
    "Data = pd.read_csv('/datasets/data.csv')\n",
    "Data.info() # посмотрим информацию \n",
    "Data.head() # визуально изучим таблицу \n",
    "\n",
    "\n",
    " "
   ]
  },
  {
   "cell_type": "markdown",
   "metadata": {},
   "source": [
    "**Вывод** Столбцы days_employed и total_income равны друг другу, но отличаются от остальных кол-вом элементов. Их нужно заполнить. С типами данных все в порядке, за исключением неудобного формата для total_income. Его мы округлим и переведем в int. Значения days_employed ещё и часто отрицательные. Также есть проблемы с регистром в education."
   ]
  },
  {
   "cell_type": "markdown",
   "metadata": {},
   "source": [
    "## Шаг 2. Предобработка данных"
   ]
  },
  {
   "cell_type": "markdown",
   "metadata": {},
   "source": [
    "### Обработка пропусков"
   ]
  },
  {
   "cell_type": "code",
   "execution_count": 16,
   "metadata": {},
   "outputs": [
    {
     "data": {
      "text/html": [
       "<div>\n",
       "<style scoped>\n",
       "    .dataframe tbody tr th:only-of-type {\n",
       "        vertical-align: middle;\n",
       "    }\n",
       "\n",
       "    .dataframe tbody tr th {\n",
       "        vertical-align: top;\n",
       "    }\n",
       "\n",
       "    .dataframe thead th {\n",
       "        text-align: right;\n",
       "    }\n",
       "</style>\n",
       "<table border=\"1\" class=\"dataframe\">\n",
       "  <thead>\n",
       "    <tr style=\"text-align: right;\">\n",
       "      <th></th>\n",
       "      <th>children</th>\n",
       "      <th>days_employed</th>\n",
       "      <th>dob_years</th>\n",
       "      <th>education</th>\n",
       "      <th>education_id</th>\n",
       "      <th>family_status</th>\n",
       "      <th>family_status_id</th>\n",
       "      <th>gender</th>\n",
       "      <th>income_type</th>\n",
       "      <th>debt</th>\n",
       "      <th>total_income</th>\n",
       "      <th>purpose</th>\n",
       "    </tr>\n",
       "  </thead>\n",
       "  <tbody>\n",
       "    <tr>\n",
       "      <td>0</td>\n",
       "      <td>1</td>\n",
       "      <td>8437.673028</td>\n",
       "      <td>42</td>\n",
       "      <td>высшее</td>\n",
       "      <td>0</td>\n",
       "      <td>женат / замужем</td>\n",
       "      <td>0</td>\n",
       "      <td>F</td>\n",
       "      <td>сотрудник</td>\n",
       "      <td>0</td>\n",
       "      <td>253875.639453</td>\n",
       "      <td>покупка жилья</td>\n",
       "    </tr>\n",
       "    <tr>\n",
       "      <td>1</td>\n",
       "      <td>1</td>\n",
       "      <td>4024.803754</td>\n",
       "      <td>36</td>\n",
       "      <td>среднее</td>\n",
       "      <td>1</td>\n",
       "      <td>женат / замужем</td>\n",
       "      <td>0</td>\n",
       "      <td>F</td>\n",
       "      <td>сотрудник</td>\n",
       "      <td>0</td>\n",
       "      <td>112080.014102</td>\n",
       "      <td>приобретение автомобиля</td>\n",
       "    </tr>\n",
       "    <tr>\n",
       "      <td>2</td>\n",
       "      <td>0</td>\n",
       "      <td>5623.422610</td>\n",
       "      <td>33</td>\n",
       "      <td>Среднее</td>\n",
       "      <td>1</td>\n",
       "      <td>женат / замужем</td>\n",
       "      <td>0</td>\n",
       "      <td>M</td>\n",
       "      <td>сотрудник</td>\n",
       "      <td>0</td>\n",
       "      <td>145885.952297</td>\n",
       "      <td>покупка жилья</td>\n",
       "    </tr>\n",
       "    <tr>\n",
       "      <td>3</td>\n",
       "      <td>3</td>\n",
       "      <td>4124.747207</td>\n",
       "      <td>32</td>\n",
       "      <td>среднее</td>\n",
       "      <td>1</td>\n",
       "      <td>женат / замужем</td>\n",
       "      <td>0</td>\n",
       "      <td>M</td>\n",
       "      <td>сотрудник</td>\n",
       "      <td>0</td>\n",
       "      <td>267628.550329</td>\n",
       "      <td>дополнительное образование</td>\n",
       "    </tr>\n",
       "    <tr>\n",
       "      <td>4</td>\n",
       "      <td>0</td>\n",
       "      <td>340266.072047</td>\n",
       "      <td>53</td>\n",
       "      <td>среднее</td>\n",
       "      <td>1</td>\n",
       "      <td>гражданский брак</td>\n",
       "      <td>1</td>\n",
       "      <td>F</td>\n",
       "      <td>пенсионер</td>\n",
       "      <td>0</td>\n",
       "      <td>158616.077870</td>\n",
       "      <td>сыграть свадьбу</td>\n",
       "    </tr>\n",
       "    <tr>\n",
       "      <td>...</td>\n",
       "      <td>...</td>\n",
       "      <td>...</td>\n",
       "      <td>...</td>\n",
       "      <td>...</td>\n",
       "      <td>...</td>\n",
       "      <td>...</td>\n",
       "      <td>...</td>\n",
       "      <td>...</td>\n",
       "      <td>...</td>\n",
       "      <td>...</td>\n",
       "      <td>...</td>\n",
       "      <td>...</td>\n",
       "    </tr>\n",
       "    <tr>\n",
       "      <td>21520</td>\n",
       "      <td>1</td>\n",
       "      <td>4529.316663</td>\n",
       "      <td>43</td>\n",
       "      <td>среднее</td>\n",
       "      <td>1</td>\n",
       "      <td>гражданский брак</td>\n",
       "      <td>1</td>\n",
       "      <td>F</td>\n",
       "      <td>компаньон</td>\n",
       "      <td>0</td>\n",
       "      <td>224791.862382</td>\n",
       "      <td>операции с жильем</td>\n",
       "    </tr>\n",
       "    <tr>\n",
       "      <td>21521</td>\n",
       "      <td>0</td>\n",
       "      <td>343937.404131</td>\n",
       "      <td>67</td>\n",
       "      <td>среднее</td>\n",
       "      <td>1</td>\n",
       "      <td>женат / замужем</td>\n",
       "      <td>0</td>\n",
       "      <td>F</td>\n",
       "      <td>пенсионер</td>\n",
       "      <td>0</td>\n",
       "      <td>155999.806512</td>\n",
       "      <td>сделка с автомобилем</td>\n",
       "    </tr>\n",
       "    <tr>\n",
       "      <td>21522</td>\n",
       "      <td>1</td>\n",
       "      <td>2113.346888</td>\n",
       "      <td>38</td>\n",
       "      <td>среднее</td>\n",
       "      <td>1</td>\n",
       "      <td>гражданский брак</td>\n",
       "      <td>1</td>\n",
       "      <td>M</td>\n",
       "      <td>сотрудник</td>\n",
       "      <td>1</td>\n",
       "      <td>89672.561153</td>\n",
       "      <td>недвижимость</td>\n",
       "    </tr>\n",
       "    <tr>\n",
       "      <td>21523</td>\n",
       "      <td>3</td>\n",
       "      <td>3112.481705</td>\n",
       "      <td>38</td>\n",
       "      <td>среднее</td>\n",
       "      <td>1</td>\n",
       "      <td>женат / замужем</td>\n",
       "      <td>0</td>\n",
       "      <td>M</td>\n",
       "      <td>сотрудник</td>\n",
       "      <td>1</td>\n",
       "      <td>244093.050500</td>\n",
       "      <td>на покупку своего автомобиля</td>\n",
       "    </tr>\n",
       "    <tr>\n",
       "      <td>21524</td>\n",
       "      <td>2</td>\n",
       "      <td>1984.507589</td>\n",
       "      <td>40</td>\n",
       "      <td>среднее</td>\n",
       "      <td>1</td>\n",
       "      <td>женат / замужем</td>\n",
       "      <td>0</td>\n",
       "      <td>F</td>\n",
       "      <td>сотрудник</td>\n",
       "      <td>0</td>\n",
       "      <td>82047.418899</td>\n",
       "      <td>на покупку автомобиля</td>\n",
       "    </tr>\n",
       "  </tbody>\n",
       "</table>\n",
       "<p>21525 rows × 12 columns</p>\n",
       "</div>"
      ],
      "text/plain": [
       "       children  days_employed  dob_years education  education_id  \\\n",
       "0             1    8437.673028         42    высшее             0   \n",
       "1             1    4024.803754         36   среднее             1   \n",
       "2             0    5623.422610         33   Среднее             1   \n",
       "3             3    4124.747207         32   среднее             1   \n",
       "4             0  340266.072047         53   среднее             1   \n",
       "...         ...            ...        ...       ...           ...   \n",
       "21520         1    4529.316663         43   среднее             1   \n",
       "21521         0  343937.404131         67   среднее             1   \n",
       "21522         1    2113.346888         38   среднее             1   \n",
       "21523         3    3112.481705         38   среднее             1   \n",
       "21524         2    1984.507589         40   среднее             1   \n",
       "\n",
       "          family_status  family_status_id gender income_type  debt  \\\n",
       "0       женат / замужем                 0      F   сотрудник     0   \n",
       "1       женат / замужем                 0      F   сотрудник     0   \n",
       "2       женат / замужем                 0      M   сотрудник     0   \n",
       "3       женат / замужем                 0      M   сотрудник     0   \n",
       "4      гражданский брак                 1      F   пенсионер     0   \n",
       "...                 ...               ...    ...         ...   ...   \n",
       "21520  гражданский брак                 1      F   компаньон     0   \n",
       "21521   женат / замужем                 0      F   пенсионер     0   \n",
       "21522  гражданский брак                 1      M   сотрудник     1   \n",
       "21523   женат / замужем                 0      M   сотрудник     1   \n",
       "21524   женат / замужем                 0      F   сотрудник     0   \n",
       "\n",
       "        total_income                       purpose  \n",
       "0      253875.639453                 покупка жилья  \n",
       "1      112080.014102       приобретение автомобиля  \n",
       "2      145885.952297                 покупка жилья  \n",
       "3      267628.550329    дополнительное образование  \n",
       "4      158616.077870               сыграть свадьбу  \n",
       "...              ...                           ...  \n",
       "21520  224791.862382             операции с жильем  \n",
       "21521  155999.806512          сделка с автомобилем  \n",
       "21522   89672.561153                  недвижимость  \n",
       "21523  244093.050500  на покупку своего автомобиля  \n",
       "21524   82047.418899         на покупку автомобиля  \n",
       "\n",
       "[21525 rows x 12 columns]"
      ]
     },
     "execution_count": 16,
     "metadata": {},
     "output_type": "execute_result"
    }
   ],
   "source": [
    "income_grouped_mean = Data.groupby('income_type')['total_income'].mean()#среднее значение \n",
    "# print(income_grouped_mean)\n",
    "income_grouped_median = Data.groupby('income_type')['total_income'].median()#медианное значение\n",
    "#print(income_grouped_median) # данные среднего и медианы совпадают, заполняю пропуски\n",
    "def fillbygroup(Data, row): # функция заменяет NaN в row на медианное значение этого столбца у соответствующего income_type\n",
    "    unique_inc_type = Data['income_type'].unique()\n",
    "    for type in unique_inc_type:\n",
    "        Data.loc[Data['income_type'] == type, row] = Data.loc[Data['income_type'] == type, row].fillna(Data[Data['income_type'] == type]['total_income'].median())\n",
    "    return Data\n",
    "Data = fillbygroup(Data, 'total_income')\n",
    "#Data.info() # снова вызываю метод и подтверждаю замену пропусков.\n",
    "Data['days_employed'] = Data['days_employed'].apply(abs) # избавляюсь от отрицательных значений\n",
    "Data = fillbygroup(Data, 'days_employed') # применяю функцию\n",
    "dob_mean = Data['dob_years'].mean() # в возрасте нет выдающихся значений, поэтому заполняю нули средним возрастом\n",
    "Data.loc[Data['dob_years'] == 0, 'dob_years'] = dob_mean\n",
    "Data['dob_years'] = Data['dob_years'].round().astype('int')\n",
    "#print(Data.info()) # пропусков больше нет\n",
    "Data\n",
    "\n"
   ]
  },
  {
   "cell_type": "markdown",
   "metadata": {},
   "source": [
    "**Вывод**Заполнил пропуски в столбце total_income на среднее значение по столбцу и заменил нулевой возраст в столбце dob_years на средний возраст , а так же избавился от отрицательных значений"
   ]
  },
  {
   "cell_type": "markdown",
   "metadata": {},
   "source": [
    "### Замена типа данных"
   ]
  },
  {
   "cell_type": "code",
   "execution_count": 17,
   "metadata": {},
   "outputs": [
    {
     "name": "stdout",
     "output_type": "stream",
     "text": [
      "<class 'pandas.core.frame.DataFrame'>\n",
      "Int64Index: 21524 entries, 0 to 21524\n",
      "Data columns (total 12 columns):\n",
      "children            21524 non-null int64\n",
      "days_employed       21524 non-null int64\n",
      "dob_years           21524 non-null int64\n",
      "education           21524 non-null object\n",
      "education_id        21524 non-null int64\n",
      "family_status       21524 non-null object\n",
      "family_status_id    21524 non-null int64\n",
      "gender              21524 non-null object\n",
      "income_type         21524 non-null object\n",
      "debt                21524 non-null int64\n",
      "total_income        21524 non-null int64\n",
      "purpose             21524 non-null object\n",
      "dtypes: int64(7), object(5)\n",
      "memory usage: 2.1+ MB\n"
     ]
    },
    {
     "data": {
      "text/html": [
       "<div>\n",
       "<style scoped>\n",
       "    .dataframe tbody tr th:only-of-type {\n",
       "        vertical-align: middle;\n",
       "    }\n",
       "\n",
       "    .dataframe tbody tr th {\n",
       "        vertical-align: top;\n",
       "    }\n",
       "\n",
       "    .dataframe thead th {\n",
       "        text-align: right;\n",
       "    }\n",
       "</style>\n",
       "<table border=\"1\" class=\"dataframe\">\n",
       "  <thead>\n",
       "    <tr style=\"text-align: right;\">\n",
       "      <th></th>\n",
       "      <th>children</th>\n",
       "      <th>days_employed</th>\n",
       "      <th>dob_years</th>\n",
       "      <th>education</th>\n",
       "      <th>education_id</th>\n",
       "      <th>family_status</th>\n",
       "      <th>family_status_id</th>\n",
       "      <th>gender</th>\n",
       "      <th>income_type</th>\n",
       "      <th>debt</th>\n",
       "      <th>total_income</th>\n",
       "      <th>purpose</th>\n",
       "    </tr>\n",
       "  </thead>\n",
       "  <tbody>\n",
       "    <tr>\n",
       "      <td>0</td>\n",
       "      <td>1</td>\n",
       "      <td>8438</td>\n",
       "      <td>42</td>\n",
       "      <td>высшее</td>\n",
       "      <td>0</td>\n",
       "      <td>женат / замужем</td>\n",
       "      <td>0</td>\n",
       "      <td>F</td>\n",
       "      <td>сотрудник</td>\n",
       "      <td>0</td>\n",
       "      <td>253876</td>\n",
       "      <td>покупка жилья</td>\n",
       "    </tr>\n",
       "    <tr>\n",
       "      <td>1</td>\n",
       "      <td>1</td>\n",
       "      <td>4025</td>\n",
       "      <td>36</td>\n",
       "      <td>среднее</td>\n",
       "      <td>1</td>\n",
       "      <td>женат / замужем</td>\n",
       "      <td>0</td>\n",
       "      <td>F</td>\n",
       "      <td>сотрудник</td>\n",
       "      <td>0</td>\n",
       "      <td>112080</td>\n",
       "      <td>приобретение автомобиля</td>\n",
       "    </tr>\n",
       "    <tr>\n",
       "      <td>2</td>\n",
       "      <td>0</td>\n",
       "      <td>5623</td>\n",
       "      <td>33</td>\n",
       "      <td>Среднее</td>\n",
       "      <td>1</td>\n",
       "      <td>женат / замужем</td>\n",
       "      <td>0</td>\n",
       "      <td>M</td>\n",
       "      <td>сотрудник</td>\n",
       "      <td>0</td>\n",
       "      <td>145886</td>\n",
       "      <td>покупка жилья</td>\n",
       "    </tr>\n",
       "    <tr>\n",
       "      <td>3</td>\n",
       "      <td>3</td>\n",
       "      <td>4125</td>\n",
       "      <td>32</td>\n",
       "      <td>среднее</td>\n",
       "      <td>1</td>\n",
       "      <td>женат / замужем</td>\n",
       "      <td>0</td>\n",
       "      <td>M</td>\n",
       "      <td>сотрудник</td>\n",
       "      <td>0</td>\n",
       "      <td>267629</td>\n",
       "      <td>дополнительное образование</td>\n",
       "    </tr>\n",
       "    <tr>\n",
       "      <td>4</td>\n",
       "      <td>0</td>\n",
       "      <td>340266</td>\n",
       "      <td>53</td>\n",
       "      <td>среднее</td>\n",
       "      <td>1</td>\n",
       "      <td>гражданский брак</td>\n",
       "      <td>1</td>\n",
       "      <td>F</td>\n",
       "      <td>пенсионер</td>\n",
       "      <td>0</td>\n",
       "      <td>158616</td>\n",
       "      <td>сыграть свадьбу</td>\n",
       "    </tr>\n",
       "    <tr>\n",
       "      <td>...</td>\n",
       "      <td>...</td>\n",
       "      <td>...</td>\n",
       "      <td>...</td>\n",
       "      <td>...</td>\n",
       "      <td>...</td>\n",
       "      <td>...</td>\n",
       "      <td>...</td>\n",
       "      <td>...</td>\n",
       "      <td>...</td>\n",
       "      <td>...</td>\n",
       "      <td>...</td>\n",
       "      <td>...</td>\n",
       "    </tr>\n",
       "    <tr>\n",
       "      <td>21520</td>\n",
       "      <td>1</td>\n",
       "      <td>4529</td>\n",
       "      <td>43</td>\n",
       "      <td>среднее</td>\n",
       "      <td>1</td>\n",
       "      <td>гражданский брак</td>\n",
       "      <td>1</td>\n",
       "      <td>F</td>\n",
       "      <td>компаньон</td>\n",
       "      <td>0</td>\n",
       "      <td>224792</td>\n",
       "      <td>операции с жильем</td>\n",
       "    </tr>\n",
       "    <tr>\n",
       "      <td>21521</td>\n",
       "      <td>0</td>\n",
       "      <td>343937</td>\n",
       "      <td>67</td>\n",
       "      <td>среднее</td>\n",
       "      <td>1</td>\n",
       "      <td>женат / замужем</td>\n",
       "      <td>0</td>\n",
       "      <td>F</td>\n",
       "      <td>пенсионер</td>\n",
       "      <td>0</td>\n",
       "      <td>156000</td>\n",
       "      <td>сделка с автомобилем</td>\n",
       "    </tr>\n",
       "    <tr>\n",
       "      <td>21522</td>\n",
       "      <td>1</td>\n",
       "      <td>2113</td>\n",
       "      <td>38</td>\n",
       "      <td>среднее</td>\n",
       "      <td>1</td>\n",
       "      <td>гражданский брак</td>\n",
       "      <td>1</td>\n",
       "      <td>M</td>\n",
       "      <td>сотрудник</td>\n",
       "      <td>1</td>\n",
       "      <td>89673</td>\n",
       "      <td>недвижимость</td>\n",
       "    </tr>\n",
       "    <tr>\n",
       "      <td>21523</td>\n",
       "      <td>3</td>\n",
       "      <td>3112</td>\n",
       "      <td>38</td>\n",
       "      <td>среднее</td>\n",
       "      <td>1</td>\n",
       "      <td>женат / замужем</td>\n",
       "      <td>0</td>\n",
       "      <td>M</td>\n",
       "      <td>сотрудник</td>\n",
       "      <td>1</td>\n",
       "      <td>244093</td>\n",
       "      <td>на покупку своего автомобиля</td>\n",
       "    </tr>\n",
       "    <tr>\n",
       "      <td>21524</td>\n",
       "      <td>2</td>\n",
       "      <td>1985</td>\n",
       "      <td>40</td>\n",
       "      <td>среднее</td>\n",
       "      <td>1</td>\n",
       "      <td>женат / замужем</td>\n",
       "      <td>0</td>\n",
       "      <td>F</td>\n",
       "      <td>сотрудник</td>\n",
       "      <td>0</td>\n",
       "      <td>82047</td>\n",
       "      <td>на покупку автомобиля</td>\n",
       "    </tr>\n",
       "  </tbody>\n",
       "</table>\n",
       "<p>21524 rows × 12 columns</p>\n",
       "</div>"
      ],
      "text/plain": [
       "       children  days_employed  dob_years education  education_id  \\\n",
       "0             1           8438         42    высшее             0   \n",
       "1             1           4025         36   среднее             1   \n",
       "2             0           5623         33   Среднее             1   \n",
       "3             3           4125         32   среднее             1   \n",
       "4             0         340266         53   среднее             1   \n",
       "...         ...            ...        ...       ...           ...   \n",
       "21520         1           4529         43   среднее             1   \n",
       "21521         0         343937         67   среднее             1   \n",
       "21522         1           2113         38   среднее             1   \n",
       "21523         3           3112         38   среднее             1   \n",
       "21524         2           1985         40   среднее             1   \n",
       "\n",
       "          family_status  family_status_id gender income_type  debt  \\\n",
       "0       женат / замужем                 0      F   сотрудник     0   \n",
       "1       женат / замужем                 0      F   сотрудник     0   \n",
       "2       женат / замужем                 0      M   сотрудник     0   \n",
       "3       женат / замужем                 0      M   сотрудник     0   \n",
       "4      гражданский брак                 1      F   пенсионер     0   \n",
       "...                 ...               ...    ...         ...   ...   \n",
       "21520  гражданский брак                 1      F   компаньон     0   \n",
       "21521   женат / замужем                 0      F   пенсионер     0   \n",
       "21522  гражданский брак                 1      M   сотрудник     1   \n",
       "21523   женат / замужем                 0      M   сотрудник     1   \n",
       "21524   женат / замужем                 0      F   сотрудник     0   \n",
       "\n",
       "       total_income                       purpose  \n",
       "0            253876                 покупка жилья  \n",
       "1            112080       приобретение автомобиля  \n",
       "2            145886                 покупка жилья  \n",
       "3            267629    дополнительное образование  \n",
       "4            158616               сыграть свадьбу  \n",
       "...             ...                           ...  \n",
       "21520        224792             операции с жильем  \n",
       "21521        156000          сделка с автомобилем  \n",
       "21522         89673                  недвижимость  \n",
       "21523        244093  на покупку своего автомобиля  \n",
       "21524         82047         на покупку автомобиля  \n",
       "\n",
       "[21524 rows x 12 columns]"
      ]
     },
     "execution_count": 17,
     "metadata": {},
     "output_type": "execute_result"
    }
   ],
   "source": [
    "Data['days_employed'] = Data['days_employed'].round().astype('int') # округляю float значения в большую сторону, а затем перевожу в int\n",
    "Data['total_income'] = Data['total_income'].round().astype('int')\n",
    "Data['gender'].value_counts()\n",
    "Data=Data.drop(Data[Data['gender']=='XNA'].index) #удаляю в столбце {'gender'} значение XNA\n",
    "Data['gender'].value_counts()\n",
    "Data['children'].value_counts()\n",
    "Data['children']=Data['children'].replace(-1,1) # заменяю знечение в столбце ['children'] -1 на 1 и 20 на 2. \n",
    "Data['children']=Data['children'].replace(20,2) # скорее всего это были неправильно занесенные данные\n",
    "Data['children'].value_counts() # Теперь данные корректны\n",
    "Data['dob_years'].unique() \n",
    "Data.info() # total_income теперь int\n",
    "Data\n"
   ]
  },
  {
   "cell_type": "markdown",
   "metadata": {},
   "source": [
    "**Вывод**В столбце ['total_incom'] тип  был поменян с вещественного на целочисленный.Удалены выделяющиеся объекты в  'gender', а в столбце 'children' значения -1 и 20 заменены на 1 и 2 соответственно. По моему мнению это человеческие ошбки."
   ]
  },
  {
   "cell_type": "markdown",
   "metadata": {},
   "source": [
    " "
   ]
  },
  {
   "cell_type": "markdown",
   "metadata": {},
   "source": [
    " ### Обработка дубликатов"
   ]
  },
  {
   "cell_type": "code",
   "execution_count": 18,
   "metadata": {},
   "outputs": [
    {
     "name": "stdout",
     "output_type": "stream",
     "text": [
      "71\n",
      "свадьба                                   797\n",
      "на проведение свадьбы                     777\n",
      "сыграть свадьбу                           774\n",
      "операции с недвижимостью                  676\n",
      "покупка коммерческой недвижимости         664\n",
      "покупка жилья для сдачи                   653\n",
      "операции с жильем                         653\n",
      "операции с коммерческой недвижимостью     651\n",
      "покупка жилья                             647\n",
      "жилье                                     647\n",
      "покупка жилья для семьи                   641\n",
      "строительство собственной недвижимости    635\n",
      "недвижимость                              634\n",
      "операции со своей недвижимостью           630\n",
      "строительство жилой недвижимости          626\n",
      "покупка недвижимости                      623\n",
      "строительство недвижимости                620\n",
      "покупка своего жилья                      620\n",
      "ремонт жилью                              612\n",
      "покупка жилой недвижимости                607\n",
      "на покупку своего автомобиля              505\n",
      "заняться высшим образованием              496\n",
      "автомобиль                                495\n",
      "сделка с подержанным автомобилем          489\n",
      "свой автомобиль                           480\n",
      "на покупку подержанного автомобиля        479\n",
      "автомобили                                478\n",
      "на покупку автомобиля                     472\n",
      "приобретение автомобиля                   462\n",
      "дополнительное образование                462\n",
      "сделка с автомобилем                      455\n",
      "высшее образование                        453\n",
      "получение дополнительного образования     447\n",
      "образование                               447\n",
      "получение образования                     443\n",
      "профильное образование                    436\n",
      "получение высшего образования             426\n",
      "заняться образованием                     412\n",
      "Name: purpose, dtype: int64\n",
      "0\n"
     ]
    },
    {
     "data": {
      "text/html": [
       "<div>\n",
       "<style scoped>\n",
       "    .dataframe tbody tr th:only-of-type {\n",
       "        vertical-align: middle;\n",
       "    }\n",
       "\n",
       "    .dataframe tbody tr th {\n",
       "        vertical-align: top;\n",
       "    }\n",
       "\n",
       "    .dataframe thead th {\n",
       "        text-align: right;\n",
       "    }\n",
       "</style>\n",
       "<table border=\"1\" class=\"dataframe\">\n",
       "  <thead>\n",
       "    <tr style=\"text-align: right;\">\n",
       "      <th></th>\n",
       "      <th>index</th>\n",
       "      <th>children</th>\n",
       "      <th>dob_years</th>\n",
       "      <th>education</th>\n",
       "      <th>education_id</th>\n",
       "      <th>family_status</th>\n",
       "      <th>family_status_id</th>\n",
       "      <th>gender</th>\n",
       "      <th>income_type</th>\n",
       "      <th>debt</th>\n",
       "      <th>total_income</th>\n",
       "      <th>purpose</th>\n",
       "    </tr>\n",
       "  </thead>\n",
       "  <tbody>\n",
       "    <tr>\n",
       "      <td>0</td>\n",
       "      <td>0</td>\n",
       "      <td>1</td>\n",
       "      <td>42</td>\n",
       "      <td>высшее</td>\n",
       "      <td>0</td>\n",
       "      <td>женат / замужем</td>\n",
       "      <td>0</td>\n",
       "      <td>F</td>\n",
       "      <td>сотрудник</td>\n",
       "      <td>0</td>\n",
       "      <td>253876</td>\n",
       "      <td>покупка жилья</td>\n",
       "    </tr>\n",
       "    <tr>\n",
       "      <td>1</td>\n",
       "      <td>1</td>\n",
       "      <td>1</td>\n",
       "      <td>36</td>\n",
       "      <td>среднее</td>\n",
       "      <td>1</td>\n",
       "      <td>женат / замужем</td>\n",
       "      <td>0</td>\n",
       "      <td>F</td>\n",
       "      <td>сотрудник</td>\n",
       "      <td>0</td>\n",
       "      <td>112080</td>\n",
       "      <td>приобретение автомобиля</td>\n",
       "    </tr>\n",
       "    <tr>\n",
       "      <td>2</td>\n",
       "      <td>2</td>\n",
       "      <td>0</td>\n",
       "      <td>33</td>\n",
       "      <td>среднее</td>\n",
       "      <td>1</td>\n",
       "      <td>женат / замужем</td>\n",
       "      <td>0</td>\n",
       "      <td>M</td>\n",
       "      <td>сотрудник</td>\n",
       "      <td>0</td>\n",
       "      <td>145886</td>\n",
       "      <td>покупка жилья</td>\n",
       "    </tr>\n",
       "    <tr>\n",
       "      <td>3</td>\n",
       "      <td>3</td>\n",
       "      <td>3</td>\n",
       "      <td>32</td>\n",
       "      <td>среднее</td>\n",
       "      <td>1</td>\n",
       "      <td>женат / замужем</td>\n",
       "      <td>0</td>\n",
       "      <td>M</td>\n",
       "      <td>сотрудник</td>\n",
       "      <td>0</td>\n",
       "      <td>267629</td>\n",
       "      <td>дополнительное образование</td>\n",
       "    </tr>\n",
       "    <tr>\n",
       "      <td>4</td>\n",
       "      <td>4</td>\n",
       "      <td>0</td>\n",
       "      <td>53</td>\n",
       "      <td>среднее</td>\n",
       "      <td>1</td>\n",
       "      <td>гражданский брак</td>\n",
       "      <td>1</td>\n",
       "      <td>F</td>\n",
       "      <td>пенсионер</td>\n",
       "      <td>0</td>\n",
       "      <td>158616</td>\n",
       "      <td>сыграть свадьбу</td>\n",
       "    </tr>\n",
       "    <tr>\n",
       "      <td>...</td>\n",
       "      <td>...</td>\n",
       "      <td>...</td>\n",
       "      <td>...</td>\n",
       "      <td>...</td>\n",
       "      <td>...</td>\n",
       "      <td>...</td>\n",
       "      <td>...</td>\n",
       "      <td>...</td>\n",
       "      <td>...</td>\n",
       "      <td>...</td>\n",
       "      <td>...</td>\n",
       "      <td>...</td>\n",
       "    </tr>\n",
       "    <tr>\n",
       "      <td>21448</td>\n",
       "      <td>21520</td>\n",
       "      <td>1</td>\n",
       "      <td>43</td>\n",
       "      <td>среднее</td>\n",
       "      <td>1</td>\n",
       "      <td>гражданский брак</td>\n",
       "      <td>1</td>\n",
       "      <td>F</td>\n",
       "      <td>компаньон</td>\n",
       "      <td>0</td>\n",
       "      <td>224792</td>\n",
       "      <td>операции с жильем</td>\n",
       "    </tr>\n",
       "    <tr>\n",
       "      <td>21449</td>\n",
       "      <td>21521</td>\n",
       "      <td>0</td>\n",
       "      <td>67</td>\n",
       "      <td>среднее</td>\n",
       "      <td>1</td>\n",
       "      <td>женат / замужем</td>\n",
       "      <td>0</td>\n",
       "      <td>F</td>\n",
       "      <td>пенсионер</td>\n",
       "      <td>0</td>\n",
       "      <td>156000</td>\n",
       "      <td>сделка с автомобилем</td>\n",
       "    </tr>\n",
       "    <tr>\n",
       "      <td>21450</td>\n",
       "      <td>21522</td>\n",
       "      <td>1</td>\n",
       "      <td>38</td>\n",
       "      <td>среднее</td>\n",
       "      <td>1</td>\n",
       "      <td>гражданский брак</td>\n",
       "      <td>1</td>\n",
       "      <td>M</td>\n",
       "      <td>сотрудник</td>\n",
       "      <td>1</td>\n",
       "      <td>89673</td>\n",
       "      <td>недвижимость</td>\n",
       "    </tr>\n",
       "    <tr>\n",
       "      <td>21451</td>\n",
       "      <td>21523</td>\n",
       "      <td>3</td>\n",
       "      <td>38</td>\n",
       "      <td>среднее</td>\n",
       "      <td>1</td>\n",
       "      <td>женат / замужем</td>\n",
       "      <td>0</td>\n",
       "      <td>M</td>\n",
       "      <td>сотрудник</td>\n",
       "      <td>1</td>\n",
       "      <td>244093</td>\n",
       "      <td>на покупку своего автомобиля</td>\n",
       "    </tr>\n",
       "    <tr>\n",
       "      <td>21452</td>\n",
       "      <td>21524</td>\n",
       "      <td>2</td>\n",
       "      <td>40</td>\n",
       "      <td>среднее</td>\n",
       "      <td>1</td>\n",
       "      <td>женат / замужем</td>\n",
       "      <td>0</td>\n",
       "      <td>F</td>\n",
       "      <td>сотрудник</td>\n",
       "      <td>0</td>\n",
       "      <td>82047</td>\n",
       "      <td>на покупку автомобиля</td>\n",
       "    </tr>\n",
       "  </tbody>\n",
       "</table>\n",
       "<p>21453 rows × 12 columns</p>\n",
       "</div>"
      ],
      "text/plain": [
       "       index  children  dob_years education  education_id     family_status  \\\n",
       "0          0         1         42    высшее             0   женат / замужем   \n",
       "1          1         1         36   среднее             1   женат / замужем   \n",
       "2          2         0         33   среднее             1   женат / замужем   \n",
       "3          3         3         32   среднее             1   женат / замужем   \n",
       "4          4         0         53   среднее             1  гражданский брак   \n",
       "...      ...       ...        ...       ...           ...               ...   \n",
       "21448  21520         1         43   среднее             1  гражданский брак   \n",
       "21449  21521         0         67   среднее             1   женат / замужем   \n",
       "21450  21522         1         38   среднее             1  гражданский брак   \n",
       "21451  21523         3         38   среднее             1   женат / замужем   \n",
       "21452  21524         2         40   среднее             1   женат / замужем   \n",
       "\n",
       "       family_status_id gender income_type  debt  total_income  \\\n",
       "0                     0      F   сотрудник     0        253876   \n",
       "1                     0      F   сотрудник     0        112080   \n",
       "2                     0      M   сотрудник     0        145886   \n",
       "3                     0      M   сотрудник     0        267629   \n",
       "4                     1      F   пенсионер     0        158616   \n",
       "...                 ...    ...         ...   ...           ...   \n",
       "21448                 1      F   компаньон     0        224792   \n",
       "21449                 0      F   пенсионер     0        156000   \n",
       "21450                 1      M   сотрудник     1         89673   \n",
       "21451                 0      M   сотрудник     1        244093   \n",
       "21452                 0      F   сотрудник     0         82047   \n",
       "\n",
       "                            purpose  \n",
       "0                     покупка жилья  \n",
       "1           приобретение автомобиля  \n",
       "2                     покупка жилья  \n",
       "3        дополнительное образование  \n",
       "4                   сыграть свадьбу  \n",
       "...                             ...  \n",
       "21448             операции с жильем  \n",
       "21449          сделка с автомобилем  \n",
       "21450                  недвижимость  \n",
       "21451  на покупку своего автомобиля  \n",
       "21452         на покупку автомобиля  \n",
       "\n",
       "[21453 rows x 12 columns]"
      ]
     },
     "execution_count": 18,
     "metadata": {},
     "output_type": "execute_result"
    }
   ],
   "source": [
    "del Data['days_employed']# решил просто удалить, так как этот столбец не нужен для анализа\n",
    "Data['education'] = Data['education'].str.lower()# тут только проблемы с регистром, исправляю\n",
    "print(Data.duplicated().sum())# нахожу дубликаты \n",
    "Data['education'].value_counts()\n",
    "purpose_counts = Data['purpose'].value_counts() \n",
    "print(purpose_counts) # тут придется выделять основу\n",
    "Data = Data.drop_duplicates().reset_index()# 71 дубликат. Удаляю\n",
    "print(Data.duplicated().sum())\n",
    "Data.isna().sum()# Проверка на пропуски\n",
    "Data"
   ]
  },
  {
   "cell_type": "markdown",
   "metadata": {},
   "source": [
    "**Вывод**В ходе обработки пропусков был удален столбец по стажу работы, т.к он не нужен для анализа.Мы не можем получить недостающие данные о трудовом стаже и доходе. Эти значения можем удалить,а столбец ['days_employed'] убрать вовсе, чтобы не портили таблицу.\n",
    "Было замечено, что значения пропущены как в столбце ['days_employed'] так и в столбце ['total_income'], причем с одинаковым индексом. Возможные причины появления пропусков связяны с тем, что клиент не помнит свой трудовой стаж или он просто не работает, а про тип занятости мог соврать. Скорее всего эти пропуски не связяны с техническими проблемами, а человеческий фактор. \n",
    "Пропуски по доходу были заменены на средние значения дохода по соответствующему роду деятельности.Дубликаты были  обнаружены в столбце ['education'] и отличались они только регистром. Поэтому воспользовался функцией str.lower() и понизил весь текст по регистру. После этого ушли все дубликаты в столбце ['education']."
   ]
  },
  {
   "cell_type": "markdown",
   "metadata": {},
   "source": [
    "### Лемматизация"
   ]
  },
  {
   "cell_type": "code",
   "execution_count": 19,
   "metadata": {},
   "outputs": [
    {
     "data": {
      "text/html": [
       "<div>\n",
       "<style scoped>\n",
       "    .dataframe tbody tr th:only-of-type {\n",
       "        vertical-align: middle;\n",
       "    }\n",
       "\n",
       "    .dataframe tbody tr th {\n",
       "        vertical-align: top;\n",
       "    }\n",
       "\n",
       "    .dataframe thead th {\n",
       "        text-align: right;\n",
       "    }\n",
       "</style>\n",
       "<table border=\"1\" class=\"dataframe\">\n",
       "  <thead>\n",
       "    <tr style=\"text-align: right;\">\n",
       "      <th></th>\n",
       "      <th>index</th>\n",
       "      <th>children</th>\n",
       "      <th>dob_years</th>\n",
       "      <th>education</th>\n",
       "      <th>education_id</th>\n",
       "      <th>family_status</th>\n",
       "      <th>family_status_id</th>\n",
       "      <th>gender</th>\n",
       "      <th>income_type</th>\n",
       "      <th>debt</th>\n",
       "      <th>total_income</th>\n",
       "      <th>purpose</th>\n",
       "    </tr>\n",
       "  </thead>\n",
       "  <tbody>\n",
       "    <tr>\n",
       "      <td>0</td>\n",
       "      <td>0</td>\n",
       "      <td>1</td>\n",
       "      <td>42</td>\n",
       "      <td>высшее</td>\n",
       "      <td>0</td>\n",
       "      <td>женат / замужем</td>\n",
       "      <td>0</td>\n",
       "      <td>F</td>\n",
       "      <td>сотрудник</td>\n",
       "      <td>0</td>\n",
       "      <td>253876</td>\n",
       "      <td>недвижимость</td>\n",
       "    </tr>\n",
       "    <tr>\n",
       "      <td>1</td>\n",
       "      <td>1</td>\n",
       "      <td>1</td>\n",
       "      <td>36</td>\n",
       "      <td>среднее</td>\n",
       "      <td>1</td>\n",
       "      <td>женат / замужем</td>\n",
       "      <td>0</td>\n",
       "      <td>F</td>\n",
       "      <td>сотрудник</td>\n",
       "      <td>0</td>\n",
       "      <td>112080</td>\n",
       "      <td>автомобиль</td>\n",
       "    </tr>\n",
       "    <tr>\n",
       "      <td>2</td>\n",
       "      <td>2</td>\n",
       "      <td>0</td>\n",
       "      <td>33</td>\n",
       "      <td>среднее</td>\n",
       "      <td>1</td>\n",
       "      <td>женат / замужем</td>\n",
       "      <td>0</td>\n",
       "      <td>M</td>\n",
       "      <td>сотрудник</td>\n",
       "      <td>0</td>\n",
       "      <td>145886</td>\n",
       "      <td>недвижимость</td>\n",
       "    </tr>\n",
       "    <tr>\n",
       "      <td>3</td>\n",
       "      <td>3</td>\n",
       "      <td>3</td>\n",
       "      <td>32</td>\n",
       "      <td>среднее</td>\n",
       "      <td>1</td>\n",
       "      <td>женат / замужем</td>\n",
       "      <td>0</td>\n",
       "      <td>M</td>\n",
       "      <td>сотрудник</td>\n",
       "      <td>0</td>\n",
       "      <td>267629</td>\n",
       "      <td>образование</td>\n",
       "    </tr>\n",
       "    <tr>\n",
       "      <td>4</td>\n",
       "      <td>4</td>\n",
       "      <td>0</td>\n",
       "      <td>53</td>\n",
       "      <td>среднее</td>\n",
       "      <td>1</td>\n",
       "      <td>гражданский брак</td>\n",
       "      <td>1</td>\n",
       "      <td>F</td>\n",
       "      <td>пенсионер</td>\n",
       "      <td>0</td>\n",
       "      <td>158616</td>\n",
       "      <td>свадьба</td>\n",
       "    </tr>\n",
       "  </tbody>\n",
       "</table>\n",
       "</div>"
      ],
      "text/plain": [
       "   index  children  dob_years education  education_id     family_status  \\\n",
       "0      0         1         42    высшее             0   женат / замужем   \n",
       "1      1         1         36   среднее             1   женат / замужем   \n",
       "2      2         0         33   среднее             1   женат / замужем   \n",
       "3      3         3         32   среднее             1   женат / замужем   \n",
       "4      4         0         53   среднее             1  гражданский брак   \n",
       "\n",
       "   family_status_id gender income_type  debt  total_income       purpose  \n",
       "0                 0      F   сотрудник     0        253876  недвижимость  \n",
       "1                 0      F   сотрудник     0        112080    автомобиль  \n",
       "2                 0      M   сотрудник     0        145886  недвижимость  \n",
       "3                 0      M   сотрудник     0        267629   образование  \n",
       "4                 1      F   пенсионер     0        158616       свадьба  "
      ]
     },
     "execution_count": 19,
     "metadata": {},
     "output_type": "execute_result"
    }
   ],
   "source": [
    "Data['purpose'].value_counts() # уникальные цели \n",
    "#В функцию lemmatization аргументом попадает цель purpose. \n",
    "# Группа условий проверяет lemma_tmp и \n",
    "#определяет ее в одну из четырех: жилье, автомобиль, образование, личные цели.\n",
    "def lemmatizer(Data): # функция лемматизирует каждую цель, затем по ключевому слову заменяет цель в таблице\n",
    "    for i in range(0, len(Data['purpose'])):\n",
    "        lemmas = m.lemmatize(Data.loc[i,'purpose'])\n",
    "        if 'свадьба' in lemmas:\n",
    "            Data.loc[i,'purpose'] = 'свадьба'\n",
    "        if 'жилье' in lemmas or 'недвижимость' in lemmas:\n",
    "            Data.loc[i,'purpose'] = 'недвижимость'\n",
    "        if 'автомобиль' in lemmas:\n",
    "            Data.loc[i,'purpose'] = 'автомобиль'\n",
    "        if 'образование' in lemmas:\n",
    "            Data.loc[i,'purpose'] = 'образование'\n",
    "    return Data\n",
    "\n",
    "Data = lemmatizer(Data)\n",
    "Data.head(5)\n",
    "\n"
   ]
  },
  {
   "cell_type": "markdown",
   "metadata": {},
   "source": [
    "**Вывод**После лемматизации столбец выглядит понятнее, видно 4 категории целей, которыу можно удобно группировать и исследовать"
   ]
  },
  {
   "cell_type": "markdown",
   "metadata": {},
   "source": [
    "### Категоризация данных"
   ]
  },
  {
   "cell_type": "code",
   "execution_count": 20,
   "metadata": {},
   "outputs": [
    {
     "data": {
      "text/html": [
       "<div>\n",
       "<style scoped>\n",
       "    .dataframe tbody tr th:only-of-type {\n",
       "        vertical-align: middle;\n",
       "    }\n",
       "\n",
       "    .dataframe tbody tr th {\n",
       "        vertical-align: top;\n",
       "    }\n",
       "\n",
       "    .dataframe thead th {\n",
       "        text-align: right;\n",
       "    }\n",
       "</style>\n",
       "<table border=\"1\" class=\"dataframe\">\n",
       "  <thead>\n",
       "    <tr style=\"text-align: right;\">\n",
       "      <th></th>\n",
       "      <th>index</th>\n",
       "      <th>children</th>\n",
       "      <th>dob_years</th>\n",
       "      <th>education</th>\n",
       "      <th>education_id</th>\n",
       "      <th>family_status</th>\n",
       "      <th>family_status_id</th>\n",
       "      <th>gender</th>\n",
       "      <th>income_type</th>\n",
       "      <th>debt</th>\n",
       "      <th>total_income</th>\n",
       "      <th>purpose</th>\n",
       "    </tr>\n",
       "  </thead>\n",
       "  <tbody>\n",
       "    <tr>\n",
       "      <td>0</td>\n",
       "      <td>0</td>\n",
       "      <td>1</td>\n",
       "      <td>взрослые</td>\n",
       "      <td>высшее</td>\n",
       "      <td>0</td>\n",
       "      <td>женат / замужем</td>\n",
       "      <td>0</td>\n",
       "      <td>F</td>\n",
       "      <td>сотрудник</td>\n",
       "      <td>0</td>\n",
       "      <td>очень высокий доход</td>\n",
       "      <td>недвижимость</td>\n",
       "    </tr>\n",
       "    <tr>\n",
       "      <td>1</td>\n",
       "      <td>1</td>\n",
       "      <td>1</td>\n",
       "      <td>пенсионеры</td>\n",
       "      <td>среднее</td>\n",
       "      <td>1</td>\n",
       "      <td>женат / замужем</td>\n",
       "      <td>0</td>\n",
       "      <td>F</td>\n",
       "      <td>сотрудник</td>\n",
       "      <td>0</td>\n",
       "      <td>средний доход</td>\n",
       "      <td>автомобиль</td>\n",
       "    </tr>\n",
       "    <tr>\n",
       "      <td>2</td>\n",
       "      <td>2</td>\n",
       "      <td>0</td>\n",
       "      <td>молодые</td>\n",
       "      <td>среднее</td>\n",
       "      <td>1</td>\n",
       "      <td>женат / замужем</td>\n",
       "      <td>0</td>\n",
       "      <td>M</td>\n",
       "      <td>сотрудник</td>\n",
       "      <td>0</td>\n",
       "      <td>высокий доход</td>\n",
       "      <td>недвижимость</td>\n",
       "    </tr>\n",
       "    <tr>\n",
       "      <td>3</td>\n",
       "      <td>3</td>\n",
       "      <td>3</td>\n",
       "      <td>молодые</td>\n",
       "      <td>среднее</td>\n",
       "      <td>1</td>\n",
       "      <td>женат / замужем</td>\n",
       "      <td>0</td>\n",
       "      <td>M</td>\n",
       "      <td>сотрудник</td>\n",
       "      <td>0</td>\n",
       "      <td>очень высокий доход</td>\n",
       "      <td>образование</td>\n",
       "    </tr>\n",
       "    <tr>\n",
       "      <td>4</td>\n",
       "      <td>4</td>\n",
       "      <td>0</td>\n",
       "      <td>взрослые</td>\n",
       "      <td>среднее</td>\n",
       "      <td>1</td>\n",
       "      <td>гражданский брак</td>\n",
       "      <td>1</td>\n",
       "      <td>F</td>\n",
       "      <td>пенсионер</td>\n",
       "      <td>0</td>\n",
       "      <td>высокий доход</td>\n",
       "      <td>свадьба</td>\n",
       "    </tr>\n",
       "  </tbody>\n",
       "</table>\n",
       "</div>"
      ],
      "text/plain": [
       "   index  children   dob_years education  education_id     family_status  \\\n",
       "0      0         1    взрослые    высшее             0   женат / замужем   \n",
       "1      1         1  пенсионеры   среднее             1   женат / замужем   \n",
       "2      2         0     молодые   среднее             1   женат / замужем   \n",
       "3      3         3     молодые   среднее             1   женат / замужем   \n",
       "4      4         0    взрослые   среднее             1  гражданский брак   \n",
       "\n",
       "   family_status_id gender income_type  debt         total_income  \\\n",
       "0                 0      F   сотрудник     0  очень высокий доход   \n",
       "1                 0      F   сотрудник     0        средний доход   \n",
       "2                 0      M   сотрудник     0        высокий доход   \n",
       "3                 0      M   сотрудник     0  очень высокий доход   \n",
       "4                 1      F   пенсионер     0        высокий доход   \n",
       "\n",
       "        purpose  \n",
       "0  недвижимость  \n",
       "1    автомобиль  \n",
       "2  недвижимость  \n",
       "3   образование  \n",
       "4       свадьба  "
      ]
     },
     "execution_count": 20,
     "metadata": {},
     "output_type": "execute_result"
    }
   ],
   "source": [
    "# Функция для разбивки на категории в зависимости от возраста.\n",
    "def dob_years_group(age):\n",
    "    if 19<=age<=35:\n",
    "        return 'молодые'\n",
    "    if 36<age<59:\n",
    "        return 'взрослые'\n",
    "    return 'пенсионеры'\n",
    "dob_years_group(60)\n",
    "dob_years_group=Data['dob_years'].apply(dob_years_group)\n",
    "Data['dob_years']=dob_years_group\n",
    "\n",
    "# Функция для категоризации по уровню дохода\n",
    "def total_income_group(income):\n",
    "    if 20000<=income<70000:\n",
    "        return \"низкий доход\"\n",
    "    if 70001<=income<120000:\n",
    "        return 'средний доход'\n",
    "    if 120001<=income<200000:\n",
    "        return 'высокий доход'\n",
    "    return 'очень высокий доход'\n",
    "total_income_group(70000)\n",
    "total_income_gr=Data['total_income'].apply(total_income_group)\n",
    "Data['total_income']=total_income_gr\n",
    "Data.head(5)"
   ]
  },
  {
   "cell_type": "markdown",
   "metadata": {},
   "source": [
    "**Вывод**В процессе категоризации были выбраны две группы, которые я разбивал на категории. Это Возраст и Доход. Категоризация проходила с помощью функиции с группой условий и метода apply. "
   ]
  },
  {
   "cell_type": "markdown",
   "metadata": {},
   "source": [
    "## Шаг 3. Ответьте на вопросы"
   ]
  },
  {
   "cell_type": "markdown",
   "metadata": {},
   "source": [
    "- Есть ли зависимость между наличием детей и возвратом кредита в срок?"
   ]
  },
  {
   "cell_type": "code",
   "execution_count": 22,
   "metadata": {},
   "outputs": [
    {
     "data": {
      "text/plain": [
       "children\n",
       "0    0.075444\n",
       "1    0.091658\n",
       "2    0.094925\n",
       "3    0.081818\n",
       "4    0.097561\n",
       "5    0.000000\n",
       "dtype: float64"
      ]
     },
     "execution_count": 22,
     "metadata": {},
     "output_type": "execute_result"
    }
   ],
   "source": [
    "chil_debt=Data.groupby('children').agg({'debt':['count','sum']}) # агрегированная функция\n",
    "chil_debt\n",
    "chil_quality=chil_debt['debt']['sum']/chil_debt['debt']['count']\n",
    "chil_quality # Подсчет доли"
   ]
  },
  {
   "cell_type": "markdown",
   "metadata": {},
   "source": [
    "**Вывод**Из этих данных видно, что возврат кредит связан с количеством детей. Больше всего просрочек у людей с 1, 2,3,4 детьми. Нет росрочек в тех у кого 5 детей. У кого детей вообще нет- просрочек меньше. Скорее всего это связано с финансовой нагрузкой"
   ]
  },
  {
   "cell_type": "markdown",
   "metadata": {},
   "source": [
    "- Есть ли зависимость между семейным положением и возвратом кредита в срок?"
   ]
  },
  {
   "cell_type": "code",
   "execution_count": 23,
   "metadata": {},
   "outputs": [
    {
     "data": {
      "text/plain": [
       "family_status\n",
       "Не женат / не замужем    0.097509\n",
       "в разводе                0.071130\n",
       "вдовец / вдова           0.065693\n",
       "гражданский брак         0.093494\n",
       "женат / замужем          0.075452\n",
       "dtype: float64"
      ]
     },
     "execution_count": 23,
     "metadata": {},
     "output_type": "execute_result"
    }
   ],
   "source": [
    "family_grouped=Data.groupby('family_status').agg({'debt':['count','sum']}) \n",
    "family_debt_quality=family_grouped['debt']['sum']/family_grouped['debt']['count']\n",
    "family_debt_quality"
   ]
  },
  {
   "cell_type": "markdown",
   "metadata": {},
   "source": [
    "**Вывод** Доля просрочек на всех \"вдовцов/вдов\" составляет- 0.06. Похожие результаты можно увидеть и у людей, которые в \"разводе\". Доля просрочек на всех разведенных составляет - 0.07. Я это могу объяснить тем, что человек, который был в официальном браке, а в дальнейшем развелся или потерял мужа/жену, инеет высокий уровень ответственности.\n",
    "Доля просрочек на всех женатых/ замужем составляет- 0.075. Можно сказать, что доля просрочек у \"женат / замужем\" и в \"разводе\" почти одинакова.\n",
    "Что касается людей в \"гражданском браке\" и \"не женатых / не замужем\", то тут самый плохой показатель. Хуже всего этот показатель у \"не женат / не замужем\"- доля просрочек - 0.1. Думаю, что это связано с нежеланием брать ответственность. !"
   ]
  },
  {
   "cell_type": "markdown",
   "metadata": {},
   "source": []
  },
  {
   "cell_type": "markdown",
   "metadata": {},
   "source": [
    "- Есть ли зависимость между уровнем дохода и возвратом кредита в срок?"
   ]
  },
  {
   "cell_type": "code",
   "execution_count": 24,
   "metadata": {},
   "outputs": [
    {
     "data": {
      "text/html": [
       "<div>\n",
       "<style scoped>\n",
       "    .dataframe tbody tr th:only-of-type {\n",
       "        vertical-align: middle;\n",
       "    }\n",
       "\n",
       "    .dataframe tbody tr th {\n",
       "        vertical-align: top;\n",
       "    }\n",
       "\n",
       "    .dataframe thead th {\n",
       "        text-align: right;\n",
       "    }\n",
       "</style>\n",
       "<table border=\"1\" class=\"dataframe\">\n",
       "  <thead>\n",
       "    <tr style=\"text-align: right;\">\n",
       "      <th>total_income</th>\n",
       "      <th>высокий доход</th>\n",
       "      <th>низкий доход</th>\n",
       "      <th>очень высокий доход</th>\n",
       "      <th>средний доход</th>\n",
       "    </tr>\n",
       "    <tr>\n",
       "      <th>dob_years</th>\n",
       "      <th></th>\n",
       "      <th></th>\n",
       "      <th></th>\n",
       "      <th></th>\n",
       "    </tr>\n",
       "  </thead>\n",
       "  <tbody>\n",
       "    <tr>\n",
       "      <td>взрослые</td>\n",
       "      <td>368</td>\n",
       "      <td>41</td>\n",
       "      <td>192</td>\n",
       "      <td>246</td>\n",
       "    </tr>\n",
       "    <tr>\n",
       "      <td>молодые</td>\n",
       "      <td>348</td>\n",
       "      <td>35</td>\n",
       "      <td>133</td>\n",
       "      <td>182</td>\n",
       "    </tr>\n",
       "    <tr>\n",
       "      <td>пенсионеры</td>\n",
       "      <td>81</td>\n",
       "      <td>25</td>\n",
       "      <td>33</td>\n",
       "      <td>57</td>\n",
       "    </tr>\n",
       "  </tbody>\n",
       "</table>\n",
       "</div>"
      ],
      "text/plain": [
       "total_income  высокий доход  низкий доход  очень высокий доход  средний доход\n",
       "dob_years                                                                    \n",
       "взрослые                368            41                  192            246\n",
       "молодые                 348            35                  133            182\n",
       "пенсионеры               81            25                   33             57"
      ]
     },
     "execution_count": 24,
     "metadata": {},
     "output_type": "execute_result"
    }
   ],
   "source": [
    "total_income_grouped=Data.groupby('total_income').agg({'debt':['sum','count']})\n",
    "total_income_quality=total_income_grouped['debt']['sum']/total_income_grouped['debt']['count']\n",
    "total_income_grouped['debt']\n",
    "total_income_quality\n",
    "Data_pivot=Data.pivot_table(index=['dob_years'],columns='total_income',values='debt',aggfunc='sum')\n",
    "Data_pivot#Сводная таблица просрочкам кредита в зависимости от возраста и уровня дохода. "
   ]
  },
  {
   "cell_type": "markdown",
   "metadata": {},
   "source": [
    "**Вывод** Лушчий средний показатель имеют клиенты с низким доходом. Рассуждая логически, клиенты с низким доходом понимают, что в им нужна положительная кредитная история, для того, чтобы одобрили следующий. "
   ]
  },
  {
   "cell_type": "markdown",
   "metadata": {},
   "source": [
    "- Как разные цели кредита влияют на его возврат в срок?"
   ]
  },
  {
   "cell_type": "code",
   "execution_count": 25,
   "metadata": {},
   "outputs": [
    {
     "data": {
      "text/plain": [
       "purpose\n",
       "автомобиль      0.093590\n",
       "недвижимость    0.072340\n",
       "образование     0.092200\n",
       "свадьба         0.080034\n",
       "dtype: float64"
      ]
     },
     "execution_count": 25,
     "metadata": {},
     "output_type": "execute_result"
    }
   ],
   "source": [
    "purpose_grouped=Data.groupby('purpose').agg({'debt':['sum','count']})\n",
    "purpose_convers=purpose_grouped['debt']['sum']/purpose_grouped['debt']['count']\n",
    "purpose_convers"
   ]
  },
  {
   "cell_type": "markdown",
   "metadata": {},
   "source": [
    "**Вывод** Больше всего просрочек у кредитов на автомобиль и образование. Доля их получается 0.092. Можно это объяснить тем, что на рынке автокредитования создаются очень привлекательные предложения и человек порой берет кредит не оценевая аддекватно свои возможности.\n",
    "Кредит на личные цели и кредит на недвижимось имеют меньше просрочек. Человек, выбирая ипотеку, хорошо просчитывает свои возможности, так как срок платежа очень большой."
   ]
  },
  {
   "cell_type": "markdown",
   "metadata": {},
   "source": [
    "## Шаг 4. Общий вывод"
   ]
  },
  {
   "cell_type": "markdown",
   "metadata": {},
   "source": [
    "Из полученных данных я могу сделать вывод, что самыми надежными заемщиками являются люди, которые берут ипотеку, с низким или очень высоким уровнем заработка, имеющие детей, состоящие в официальном браке(лучше вдовец или вдова)"
   ]
  }
 ],
 "metadata": {
  "ExecuteTimeLog": [
   {
    "duration": 242,
    "start_time": "2021-12-26T03:06:44.030Z"
   },
   {
    "duration": 631,
    "start_time": "2021-12-26T03:08:06.393Z"
   },
   {
    "duration": 50,
    "start_time": "2021-12-26T03:08:29.140Z"
   },
   {
    "duration": 63,
    "start_time": "2021-12-26T03:11:18.164Z"
   },
   {
    "duration": 61,
    "start_time": "2021-12-26T06:10:35.646Z"
   },
   {
    "duration": 61,
    "start_time": "2021-12-26T06:11:14.164Z"
   },
   {
    "duration": 69,
    "start_time": "2021-12-26T06:21:32.572Z"
   },
   {
    "duration": 19,
    "start_time": "2021-12-26T07:26:25.920Z"
   },
   {
    "duration": 496,
    "start_time": "2021-12-27T05:05:39.003Z"
   },
   {
    "duration": 256,
    "start_time": "2021-12-27T05:07:20.119Z"
   },
   {
    "duration": 863,
    "start_time": "2021-12-27T05:07:28.800Z"
   },
   {
    "duration": 12,
    "start_time": "2021-12-27T05:07:37.672Z"
   },
   {
    "duration": 7,
    "start_time": "2021-12-27T05:07:46.145Z"
   },
   {
    "duration": 8,
    "start_time": "2021-12-27T05:07:50.172Z"
   },
   {
    "duration": 9,
    "start_time": "2021-12-27T05:07:53.448Z"
   },
   {
    "duration": 8,
    "start_time": "2021-12-27T05:08:10.452Z"
   },
   {
    "duration": 16,
    "start_time": "2021-12-27T05:09:13.162Z"
   },
   {
    "duration": 17,
    "start_time": "2021-12-27T05:09:39.465Z"
   },
   {
    "duration": 16,
    "start_time": "2021-12-27T05:11:23.812Z"
   },
   {
    "duration": 97,
    "start_time": "2021-12-27T05:12:01.146Z"
   },
   {
    "duration": 17,
    "start_time": "2021-12-27T05:12:06.946Z"
   },
   {
    "duration": 99,
    "start_time": "2021-12-27T05:12:41.588Z"
   },
   {
    "duration": 107,
    "start_time": "2021-12-27T05:12:58.372Z"
   },
   {
    "duration": 199,
    "start_time": "2021-12-27T05:14:00.725Z"
   },
   {
    "duration": 266,
    "start_time": "2021-12-27T05:18:13.893Z"
   },
   {
    "duration": 197,
    "start_time": "2021-12-27T05:19:11.999Z"
   },
   {
    "duration": 194,
    "start_time": "2021-12-27T05:19:43.013Z"
   },
   {
    "duration": 197,
    "start_time": "2021-12-27T05:20:54.571Z"
   },
   {
    "duration": 236,
    "start_time": "2021-12-27T05:21:37.944Z"
   },
   {
    "duration": 6,
    "start_time": "2021-12-27T05:22:20.415Z"
   },
   {
    "duration": 90,
    "start_time": "2021-12-27T05:22:28.665Z"
   },
   {
    "duration": 242,
    "start_time": "2021-12-27T05:22:33.663Z"
   },
   {
    "duration": 5,
    "start_time": "2021-12-27T05:22:41.473Z"
   },
   {
    "duration": 35,
    "start_time": "2021-12-27T05:23:31.658Z"
   },
   {
    "duration": 26,
    "start_time": "2021-12-27T05:24:27.286Z"
   },
   {
    "duration": 96,
    "start_time": "2021-12-27T05:25:17.453Z"
   },
   {
    "duration": 108,
    "start_time": "2021-12-27T05:25:40.015Z"
   },
   {
    "duration": 387,
    "start_time": "2021-12-27T05:25:54.202Z"
   },
   {
    "duration": 364,
    "start_time": "2021-12-27T05:26:23.287Z"
   },
   {
    "duration": 81,
    "start_time": "2021-12-27T05:27:32.913Z"
   },
   {
    "duration": 61,
    "start_time": "2021-12-27T05:27:49.169Z"
   },
   {
    "duration": 271,
    "start_time": "2021-12-27T05:28:41.280Z"
   },
   {
    "duration": 11,
    "start_time": "2021-12-27T05:28:59.219Z"
   },
   {
    "duration": 294,
    "start_time": "2021-12-27T05:29:31.617Z"
   },
   {
    "duration": 283,
    "start_time": "2021-12-27T05:30:01.958Z"
   },
   {
    "duration": 32,
    "start_time": "2021-12-27T05:30:13.008Z"
   },
   {
    "duration": 10,
    "start_time": "2021-12-27T05:30:56.903Z"
   },
   {
    "duration": 91,
    "start_time": "2021-12-27T05:32:01.985Z"
   },
   {
    "duration": 12,
    "start_time": "2021-12-27T07:43:23.227Z"
   },
   {
    "duration": 29,
    "start_time": "2021-12-27T07:43:43.578Z"
   },
   {
    "duration": 10,
    "start_time": "2021-12-27T07:44:10.243Z"
   },
   {
    "duration": 37,
    "start_time": "2021-12-27T07:46:05.216Z"
   },
   {
    "duration": 42,
    "start_time": "2021-12-27T07:46:16.784Z"
   },
   {
    "duration": 55,
    "start_time": "2021-12-27T07:46:28.289Z"
   },
   {
    "duration": 75,
    "start_time": "2021-12-27T07:46:36.049Z"
   },
   {
    "duration": 92,
    "start_time": "2021-12-27T07:46:44.132Z"
   },
   {
    "duration": 286,
    "start_time": "2021-12-27T07:47:34.666Z"
   },
   {
    "duration": 13,
    "start_time": "2021-12-27T07:48:01.245Z"
   },
   {
    "duration": 27,
    "start_time": "2021-12-27T07:48:58.581Z"
   },
   {
    "duration": 8,
    "start_time": "2021-12-27T07:49:32.825Z"
   },
   {
    "duration": 10,
    "start_time": "2021-12-27T07:50:10.553Z"
   },
   {
    "duration": 29,
    "start_time": "2021-12-27T07:50:48.958Z"
   },
   {
    "duration": 33,
    "start_time": "2021-12-27T07:51:12.448Z"
   },
   {
    "duration": 35,
    "start_time": "2021-12-27T07:51:32.155Z"
   },
   {
    "duration": 58,
    "start_time": "2021-12-27T07:52:09.766Z"
   },
   {
    "duration": 52,
    "start_time": "2021-12-27T07:52:38.213Z"
   },
   {
    "duration": 42,
    "start_time": "2021-12-27T07:55:03.911Z"
   },
   {
    "duration": 266,
    "start_time": "2021-12-27T07:56:12.016Z"
   },
   {
    "duration": 49,
    "start_time": "2021-12-27T07:56:24.062Z"
   },
   {
    "duration": 471,
    "start_time": "2021-12-27T07:58:14.757Z"
   },
   {
    "duration": 244,
    "start_time": "2021-12-27T07:58:41.895Z"
   },
   {
    "duration": 43,
    "start_time": "2021-12-27T07:58:53.639Z"
   },
   {
    "duration": 43,
    "start_time": "2021-12-27T07:59:02.085Z"
   },
   {
    "duration": 96,
    "start_time": "2021-12-27T08:00:50.648Z"
   },
   {
    "duration": 15,
    "start_time": "2021-12-27T08:01:29.597Z"
   },
   {
    "duration": 20,
    "start_time": "2021-12-27T08:01:54.057Z"
   },
   {
    "duration": 27,
    "start_time": "2021-12-27T08:02:25.097Z"
   },
   {
    "duration": 26,
    "start_time": "2021-12-27T08:03:27.303Z"
   },
   {
    "duration": 120,
    "start_time": "2021-12-27T08:04:44.393Z"
   },
   {
    "duration": 78,
    "start_time": "2021-12-27T08:08:23.131Z"
   },
   {
    "duration": 85,
    "start_time": "2021-12-27T08:08:52.050Z"
   },
   {
    "duration": 72,
    "start_time": "2021-12-27T08:09:10.788Z"
   },
   {
    "duration": 269,
    "start_time": "2021-12-27T08:12:23.638Z"
   },
   {
    "duration": 9,
    "start_time": "2021-12-27T08:12:36.959Z"
   },
   {
    "duration": 93,
    "start_time": "2021-12-27T08:16:11.561Z"
   },
   {
    "duration": 95,
    "start_time": "2021-12-27T08:17:50.674Z"
   },
   {
    "duration": 10,
    "start_time": "2021-12-27T08:18:16.843Z"
   },
   {
    "duration": 14,
    "start_time": "2021-12-27T08:19:06.245Z"
   },
   {
    "duration": 18,
    "start_time": "2021-12-27T08:21:35.975Z"
   },
   {
    "duration": 108,
    "start_time": "2021-12-27T08:23:03.758Z"
   },
   {
    "duration": 214,
    "start_time": "2021-12-27T08:24:13.987Z"
   },
   {
    "duration": 246,
    "start_time": "2021-12-27T08:25:09.123Z"
   },
   {
    "duration": 34,
    "start_time": "2021-12-27T08:26:55.760Z"
   },
   {
    "duration": 8,
    "start_time": "2021-12-27T08:27:42.808Z"
   },
   {
    "duration": 9,
    "start_time": "2021-12-27T08:28:16.626Z"
   },
   {
    "duration": 21,
    "start_time": "2021-12-27T08:28:51.940Z"
   },
   {
    "duration": 96,
    "start_time": "2021-12-27T08:29:33.816Z"
   },
   {
    "duration": 258,
    "start_time": "2021-12-27T08:29:38.961Z"
   },
   {
    "duration": 34,
    "start_time": "2021-12-27T08:29:46.564Z"
   },
   {
    "duration": 22,
    "start_time": "2021-12-27T08:29:51.109Z"
   },
   {
    "duration": 50,
    "start_time": "2021-12-27T08:31:27.433Z"
   },
   {
    "duration": 106,
    "start_time": "2021-12-27T08:32:08.451Z"
   },
   {
    "duration": 69,
    "start_time": "2021-12-27T08:32:41.299Z"
   },
   {
    "duration": 73,
    "start_time": "2021-12-27T08:33:36.658Z"
   },
   {
    "duration": 316,
    "start_time": "2021-12-27T08:34:20.429Z"
   },
   {
    "duration": 94,
    "start_time": "2021-12-27T08:34:40.908Z"
   },
   {
    "duration": 58,
    "start_time": "2021-12-27T08:34:54.556Z"
   },
   {
    "duration": 41,
    "start_time": "2021-12-27T08:35:32.813Z"
   },
   {
    "duration": 47,
    "start_time": "2021-12-27T08:35:44.884Z"
   },
   {
    "duration": 49,
    "start_time": "2021-12-27T08:36:32.533Z"
   },
   {
    "duration": 93,
    "start_time": "2021-12-27T08:36:53.309Z"
   },
   {
    "duration": 283,
    "start_time": "2021-12-27T08:36:59.953Z"
   },
   {
    "duration": 27,
    "start_time": "2021-12-27T08:37:20.333Z"
   },
   {
    "duration": 53,
    "start_time": "2021-12-27T08:37:27.061Z"
   },
   {
    "duration": 51,
    "start_time": "2021-12-27T08:39:18.585Z"
   },
   {
    "duration": 72,
    "start_time": "2021-12-27T08:39:45.174Z"
   },
   {
    "duration": 108,
    "start_time": "2021-12-27T08:40:51.283Z"
   },
   {
    "duration": 4868,
    "start_time": "2021-12-27T08:42:52.655Z"
   },
   {
    "duration": 55,
    "start_time": "2021-12-27T08:46:36.362Z"
   },
   {
    "duration": 28,
    "start_time": "2021-12-27T08:48:41.291Z"
   },
   {
    "duration": 67,
    "start_time": "2021-12-27T08:49:03.426Z"
   },
   {
    "duration": 91,
    "start_time": "2021-12-27T08:50:51.046Z"
   },
   {
    "duration": 9,
    "start_time": "2021-12-27T08:59:47.121Z"
   },
   {
    "duration": 122,
    "start_time": "2021-12-27T09:00:24.808Z"
   },
   {
    "duration": 268,
    "start_time": "2021-12-27T09:00:30.726Z"
   },
   {
    "duration": 27,
    "start_time": "2021-12-27T09:00:39.095Z"
   },
   {
    "duration": 108,
    "start_time": "2021-12-27T09:00:43.294Z"
   },
   {
    "duration": 41,
    "start_time": "2021-12-27T09:00:49.022Z"
   },
   {
    "duration": 62,
    "start_time": "2021-12-27T09:02:11.396Z"
   },
   {
    "duration": 677,
    "start_time": "2021-12-27T09:02:51.035Z"
   },
   {
    "duration": 273,
    "start_time": "2021-12-27T09:03:16.575Z"
   },
   {
    "duration": 363,
    "start_time": "2021-12-27T09:03:44.016Z"
   },
   {
    "duration": 268,
    "start_time": "2021-12-27T09:03:59.285Z"
   },
   {
    "duration": 94,
    "start_time": "2021-12-27T09:04:50.416Z"
   },
   {
    "duration": 258,
    "start_time": "2021-12-27T09:04:56.722Z"
   },
   {
    "duration": 37,
    "start_time": "2021-12-27T09:05:03.760Z"
   },
   {
    "duration": 104,
    "start_time": "2021-12-27T09:05:10.137Z"
   },
   {
    "duration": 293,
    "start_time": "2021-12-27T09:05:15.577Z"
   },
   {
    "duration": 49,
    "start_time": "2021-12-27T09:12:00.171Z"
   },
   {
    "duration": 99,
    "start_time": "2021-12-27T09:15:10.621Z"
   },
   {
    "duration": 254,
    "start_time": "2021-12-27T09:15:15.996Z"
   },
   {
    "duration": 28,
    "start_time": "2021-12-27T09:15:24.723Z"
   },
   {
    "duration": 96,
    "start_time": "2021-12-27T09:15:30.388Z"
   },
   {
    "duration": 41465,
    "start_time": "2021-12-27T09:15:36.094Z"
   },
   {
    "duration": 520,
    "start_time": "2021-12-27T09:16:47.767Z"
   },
   {
    "duration": 36737,
    "start_time": "2021-12-27T09:17:15.772Z"
   },
   {
    "duration": 9168,
    "start_time": "2021-12-27T09:18:43.879Z"
   },
   {
    "duration": 7099,
    "start_time": "2021-12-27T09:20:33.328Z"
   },
   {
    "duration": 86,
    "start_time": "2021-12-27T09:22:19.336Z"
   },
   {
    "duration": 149,
    "start_time": "2021-12-27T09:29:38.003Z"
   },
   {
    "duration": 433,
    "start_time": "2021-12-28T07:35:05.904Z"
   },
   {
    "duration": 1068,
    "start_time": "2021-12-28T07:36:05.289Z"
   },
   {
    "duration": 244,
    "start_time": "2021-12-28T07:36:12.227Z"
   },
   {
    "duration": 39,
    "start_time": "2021-12-28T07:36:19.257Z"
   },
   {
    "duration": 122,
    "start_time": "2021-12-28T07:36:25.746Z"
   },
   {
    "duration": 35638,
    "start_time": "2021-12-28T07:37:14.079Z"
   },
   {
    "duration": 36424,
    "start_time": "2021-12-28T07:39:21.182Z"
   },
   {
    "duration": 35696,
    "start_time": "2021-12-28T07:48:54.007Z"
   },
   {
    "duration": 25116,
    "start_time": "2021-12-28T07:50:16.208Z"
   },
   {
    "duration": 126,
    "start_time": "2021-12-28T07:51:12.211Z"
   },
   {
    "duration": 233,
    "start_time": "2021-12-28T07:51:17.208Z"
   },
   {
    "duration": 27,
    "start_time": "2021-12-28T07:51:25.877Z"
   },
   {
    "duration": 114,
    "start_time": "2021-12-28T07:51:40.267Z"
   },
   {
    "duration": 40617,
    "start_time": "2021-12-28T07:51:48.291Z"
   },
   {
    "duration": 122,
    "start_time": "2021-12-28T07:54:13.468Z"
   },
   {
    "duration": 248,
    "start_time": "2021-12-28T07:54:18.287Z"
   },
   {
    "duration": 38,
    "start_time": "2021-12-28T07:54:35.586Z"
   },
   {
    "duration": 35,
    "start_time": "2021-12-28T07:55:09.311Z"
   },
   {
    "duration": 41,
    "start_time": "2021-12-28T07:55:20.305Z"
   },
   {
    "duration": 112,
    "start_time": "2021-12-28T07:55:47.369Z"
   },
   {
    "duration": 39915,
    "start_time": "2021-12-28T07:55:54.527Z"
   },
   {
    "duration": 6,
    "start_time": "2021-12-28T08:01:05.528Z"
   },
   {
    "duration": 5,
    "start_time": "2021-12-28T08:02:45.481Z"
   },
   {
    "duration": 115,
    "start_time": "2021-12-28T08:09:38.221Z"
   },
   {
    "duration": 269,
    "start_time": "2021-12-28T08:09:43.782Z"
   },
   {
    "duration": 53,
    "start_time": "2021-12-28T08:09:51.503Z"
   },
   {
    "duration": 118,
    "start_time": "2021-12-28T08:09:58.272Z"
   },
   {
    "duration": 40392,
    "start_time": "2021-12-28T08:10:07.030Z"
   },
   {
    "duration": 10,
    "start_time": "2021-12-28T08:10:55.156Z"
   },
   {
    "duration": 282,
    "start_time": "2021-12-28T08:46:31.792Z"
   },
   {
    "duration": 93,
    "start_time": "2021-12-28T08:46:56.474Z"
   },
   {
    "duration": 192,
    "start_time": "2021-12-28T08:47:18.809Z"
   },
   {
    "duration": 187,
    "start_time": "2021-12-28T08:47:30.044Z"
   },
   {
    "duration": 176,
    "start_time": "2021-12-28T08:47:49.124Z"
   },
   {
    "duration": 32,
    "start_time": "2021-12-28T08:47:57.417Z"
   },
   {
    "duration": 74,
    "start_time": "2021-12-28T08:48:14.173Z"
   },
   {
    "duration": 57,
    "start_time": "2021-12-28T08:48:25.462Z"
   },
   {
    "duration": 39992,
    "start_time": "2021-12-28T08:48:32.803Z"
   },
   {
    "duration": 5,
    "start_time": "2021-12-28T08:49:12.798Z"
   },
   {
    "duration": 282,
    "start_time": "2021-12-28T08:49:12.806Z"
   },
   {
    "duration": 278,
    "start_time": "2021-12-28T08:49:42.896Z"
   },
   {
    "duration": 35725,
    "start_time": "2021-12-28T08:53:03.693Z"
   },
   {
    "duration": 17,
    "start_time": "2021-12-28T08:54:30.201Z"
   },
   {
    "duration": 23,
    "start_time": "2021-12-28T09:00:04.130Z"
   },
   {
    "duration": 354,
    "start_time": "2021-12-28T09:02:52.906Z"
   },
   {
    "duration": 96,
    "start_time": "2021-12-28T09:02:59.507Z"
   },
   {
    "duration": 175,
    "start_time": "2021-12-28T09:03:02.693Z"
   },
   {
    "duration": 316,
    "start_time": "2021-12-28T09:03:07.816Z"
   },
   {
    "duration": 45,
    "start_time": "2021-12-28T09:04:14.436Z"
   },
   {
    "duration": 50,
    "start_time": "2021-12-28T09:04:28.257Z"
   },
   {
    "duration": 39995,
    "start_time": "2021-12-28T09:04:32.757Z"
   },
   {
    "duration": 5,
    "start_time": "2021-12-28T09:05:20.433Z"
   },
   {
    "duration": 23,
    "start_time": "2021-12-28T09:05:30.892Z"
   },
   {
    "duration": 15,
    "start_time": "2021-12-28T09:07:05.793Z"
   },
   {
    "duration": 19,
    "start_time": "2021-12-28T09:07:31.102Z"
   },
   {
    "duration": 29,
    "start_time": "2021-12-28T09:09:33.234Z"
   },
   {
    "duration": 23,
    "start_time": "2021-12-28T09:11:41.346Z"
   },
   {
    "duration": 8,
    "start_time": "2021-12-28T09:13:27.900Z"
   },
   {
    "duration": 35,
    "start_time": "2021-12-28T09:14:01.685Z"
   },
   {
    "duration": 418,
    "start_time": "2021-12-28T09:15:21.646Z"
   },
   {
    "duration": 413,
    "start_time": "2021-12-28T09:15:34.703Z"
   },
   {
    "duration": 66,
    "start_time": "2021-12-28T09:15:45.663Z"
   },
   {
    "duration": 7140,
    "start_time": "2021-12-28T09:17:10.600Z"
   },
   {
    "duration": 1435,
    "start_time": "2021-12-28T09:17:34.744Z"
   },
   {
    "duration": 90,
    "start_time": "2021-12-28T09:18:13.767Z"
   },
   {
    "duration": 179,
    "start_time": "2021-12-28T09:18:16.983Z"
   },
   {
    "duration": 50,
    "start_time": "2021-12-28T09:18:21.046Z"
   },
   {
    "duration": 50,
    "start_time": "2021-12-28T09:18:24.582Z"
   },
   {
    "duration": 40382,
    "start_time": "2021-12-28T09:18:28.177Z"
   },
   {
    "duration": 59,
    "start_time": "2021-12-28T09:20:05.116Z"
   },
   {
    "duration": 21,
    "start_time": "2021-12-28T09:21:07.900Z"
   },
   {
    "duration": 18,
    "start_time": "2021-12-28T09:21:15.366Z"
   },
   {
    "duration": 18,
    "start_time": "2021-12-28T09:21:19.863Z"
   },
   {
    "duration": 16,
    "start_time": "2021-12-28T09:24:28.140Z"
   },
   {
    "duration": 117,
    "start_time": "2021-12-28T09:27:28.105Z"
   },
   {
    "duration": 176,
    "start_time": "2021-12-28T09:28:26.218Z"
   },
   {
    "duration": 197,
    "start_time": "2021-12-28T09:28:32.802Z"
   },
   {
    "duration": 53,
    "start_time": "2021-12-28T09:29:02.429Z"
   },
   {
    "duration": 72,
    "start_time": "2021-12-28T09:29:12.795Z"
   },
   {
    "duration": 40303,
    "start_time": "2021-12-28T09:29:27.300Z"
   },
   {
    "duration": 757,
    "start_time": "2021-12-29T07:50:27.241Z"
   },
   {
    "duration": 685,
    "start_time": "2021-12-29T07:53:51.583Z"
   },
   {
    "duration": 126,
    "start_time": "2021-12-29T07:54:26.557Z"
   },
   {
    "duration": 128,
    "start_time": "2021-12-29T07:54:40.307Z"
   },
   {
    "duration": 135,
    "start_time": "2021-12-29T07:55:17.131Z"
   },
   {
    "duration": 183,
    "start_time": "2021-12-29T07:55:34.774Z"
   },
   {
    "duration": 145,
    "start_time": "2021-12-29T07:57:34.996Z"
   },
   {
    "duration": 162,
    "start_time": "2021-12-29T07:58:43.034Z"
   },
   {
    "duration": 223,
    "start_time": "2021-12-29T07:59:19.309Z"
   },
   {
    "duration": 30,
    "start_time": "2021-12-29T08:17:07.128Z"
   },
   {
    "duration": 26,
    "start_time": "2021-12-29T08:21:29.351Z"
   },
   {
    "duration": 74,
    "start_time": "2021-12-29T08:23:58.762Z"
   },
   {
    "duration": 82,
    "start_time": "2021-12-29T08:24:17.580Z"
   },
   {
    "duration": 649,
    "start_time": "2021-12-29T08:24:27.569Z"
   },
   {
    "duration": 47,
    "start_time": "2021-12-29T08:28:58.303Z"
   },
   {
    "duration": 131,
    "start_time": "2021-12-29T08:29:03.321Z"
   },
   {
    "duration": 29,
    "start_time": "2021-12-29T08:29:09.815Z"
   },
   {
    "duration": 100,
    "start_time": "2021-12-29T08:29:14.447Z"
   },
   {
    "duration": 27643,
    "start_time": "2021-12-29T08:29:26.007Z"
   },
   {
    "duration": 25694,
    "start_time": "2021-12-29T08:32:44.840Z"
   },
   {
    "duration": 26,
    "start_time": "2021-12-29T08:36:44.336Z"
   },
   {
    "duration": 17,
    "start_time": "2021-12-29T08:39:06.901Z"
   },
   {
    "duration": 11,
    "start_time": "2021-12-29T08:41:02.425Z"
   },
   {
    "duration": 280,
    "start_time": "2021-12-30T08:58:32.135Z"
   },
   {
    "duration": 600,
    "start_time": "2021-12-30T08:58:39.404Z"
   },
   {
    "duration": 129,
    "start_time": "2021-12-30T08:58:42.913Z"
   },
   {
    "duration": 26,
    "start_time": "2021-12-30T08:58:49.423Z"
   },
   {
    "duration": 72,
    "start_time": "2021-12-30T08:59:00.979Z"
   },
   {
    "duration": 6137,
    "start_time": "2021-12-30T08:59:53.144Z"
   },
   {
    "duration": 6795,
    "start_time": "2021-12-30T09:00:12.428Z"
   },
   {
    "duration": 6531,
    "start_time": "2021-12-30T09:10:32.952Z"
   },
   {
    "duration": 49,
    "start_time": "2021-12-30T09:13:22.734Z"
   },
   {
    "duration": 124,
    "start_time": "2021-12-30T09:13:26.183Z"
   },
   {
    "duration": 25,
    "start_time": "2021-12-30T09:13:57.431Z"
   },
   {
    "duration": 39,
    "start_time": "2021-12-30T09:14:29.446Z"
   },
   {
    "duration": 37,
    "start_time": "2021-12-30T09:14:54.408Z"
   },
   {
    "duration": 6438,
    "start_time": "2021-12-30T09:15:17.839Z"
   },
   {
    "duration": 49,
    "start_time": "2021-12-30T09:15:36.334Z"
   },
   {
    "duration": 119,
    "start_time": "2021-12-30T09:15:41.483Z"
   },
   {
    "duration": 37,
    "start_time": "2021-12-30T09:15:46.191Z"
   },
   {
    "duration": 69,
    "start_time": "2021-12-30T09:15:56.062Z"
   },
   {
    "duration": 25139,
    "start_time": "2021-12-30T09:24:02.877Z"
   },
   {
    "duration": 26,
    "start_time": "2021-12-30T09:24:45.530Z"
   },
   {
    "duration": 256,
    "start_time": "2021-12-30T09:32:59.144Z"
   },
   {
    "duration": 252,
    "start_time": "2021-12-30T09:33:17.433Z"
   },
   {
    "duration": 29,
    "start_time": "2021-12-30T09:33:51.358Z"
   },
   {
    "duration": 25,
    "start_time": "2021-12-30T09:36:11.870Z"
   },
   {
    "duration": 11,
    "start_time": "2021-12-30T09:37:29.514Z"
   },
   {
    "duration": 10,
    "start_time": "2021-12-31T11:51:51.480Z"
   },
   {
    "duration": 787,
    "start_time": "2022-01-09T03:45:21.843Z"
   },
   {
    "duration": 60,
    "start_time": "2022-01-09T03:45:43.251Z"
   },
   {
    "duration": 67,
    "start_time": "2022-01-09T03:46:05.148Z"
   },
   {
    "duration": 59,
    "start_time": "2022-01-09T03:46:28.287Z"
   },
   {
    "duration": 12,
    "start_time": "2022-01-09T03:49:19.421Z"
   },
   {
    "duration": 5,
    "start_time": "2022-01-09T03:49:34.046Z"
   },
   {
    "duration": 5,
    "start_time": "2022-01-09T03:50:04.414Z"
   },
   {
    "duration": 4,
    "start_time": "2022-01-09T03:50:19.895Z"
   },
   {
    "duration": 762,
    "start_time": "2022-01-09T03:52:22.395Z"
   },
   {
    "duration": 5,
    "start_time": "2022-01-09T03:52:38.283Z"
   },
   {
    "duration": 5,
    "start_time": "2022-01-09T03:52:53.362Z"
   },
   {
    "duration": 6,
    "start_time": "2022-01-09T04:08:40.605Z"
   },
   {
    "duration": 5,
    "start_time": "2022-01-09T04:09:33.909Z"
   },
   {
    "duration": 7,
    "start_time": "2022-01-09T04:10:38.710Z"
   },
   {
    "duration": 5,
    "start_time": "2022-01-09T04:11:25.286Z"
   },
   {
    "duration": 6,
    "start_time": "2022-01-09T04:11:37.374Z"
   },
   {
    "duration": 6,
    "start_time": "2022-01-09T04:11:52.309Z"
   }
  ],
  "kernelspec": {
   "display_name": "Python 3 (ipykernel)",
   "language": "python",
   "name": "python3"
  },
  "language_info": {
   "codemirror_mode": {
    "name": "ipython",
    "version": 3
   },
   "file_extension": ".py",
   "mimetype": "text/x-python",
   "name": "python",
   "nbconvert_exporter": "python",
   "pygments_lexer": "ipython3",
   "version": "3.9.5"
  },
  "toc": {
   "base_numbering": 1,
   "nav_menu": {},
   "number_sections": true,
   "sideBar": true,
   "skip_h1_title": true,
   "title_cell": "Table of Contents",
   "title_sidebar": "Contents",
   "toc_cell": false,
   "toc_position": {},
   "toc_section_display": true,
   "toc_window_display": false
  }
 },
 "nbformat": 4,
 "nbformat_minor": 2
}
