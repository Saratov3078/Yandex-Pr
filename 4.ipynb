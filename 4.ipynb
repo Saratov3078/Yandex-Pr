{
 "cells": [
  {
   "cell_type": "markdown",
   "metadata": {},
   "source": [
    "# Определение перспективного тарифа для телеком компании\n",
    "Вы аналитик компании «Мегалайн» — федерального оператора сотовой связи. Клиентам предлагают два тарифных плана: «Смарт» и «Ультра». Чтобы скорректировать рекламный бюджет, коммерческий департамент хочет понять, какой тариф приносит больше денег. Вам предстоит сделать предварительный анализ тарифов на небольшой выборке клиентов. В вашем распоряжении данные 500 пользователей «Мегалайна»: кто они, откуда, каким тарифом пользуются, сколько звонков и сообщений каждый отправил за 2018 год. Нужно проанализировать поведение клиентов и сделать вывод — какой тариф лучше.\n",
    "\n",
    "\n"
   ]
  },
  {
   "cell_type": "markdown",
   "metadata": {},
   "source": [
    "# Шаг 1 . Откройте файл с данными и изучите общую информацию.\n"
   ]
  },
  {
   "cell_type": "code",
   "execution_count": 18,
   "metadata": {},
   "outputs": [],
   "source": [
    "import pandas as pd\n",
    "import seaborn as sns\n",
    "import matplotlib.pyplot as plt\n",
    "import numpy as np\n",
    "from scipy import stats as st\n",
    "calls = pd.read_csv('/datasets/calls.csv')\n",
    "internet = pd.read_csv('/datasets/internet.csv')\n",
    "messages = pd.read_csv('/datasets/messages.csv')\n",
    "tariffs = pd.read_csv('/datasets/tariffs.csv')\n",
    "users = pd.read_csv('/datasets/users.csv')\n",
    "\n",
    "\n"
   ]
  },
  {
   "cell_type": "code",
   "execution_count": 19,
   "metadata": {},
   "outputs": [
    {
     "data": {
      "text/html": [
       "<div>\n",
       "<style scoped>\n",
       "    .dataframe tbody tr th:only-of-type {\n",
       "        vertical-align: middle;\n",
       "    }\n",
       "\n",
       "    .dataframe tbody tr th {\n",
       "        vertical-align: top;\n",
       "    }\n",
       "\n",
       "    .dataframe thead th {\n",
       "        text-align: right;\n",
       "    }\n",
       "</style>\n",
       "<table border=\"1\" class=\"dataframe\">\n",
       "  <thead>\n",
       "    <tr style=\"text-align: right;\">\n",
       "      <th></th>\n",
       "      <th>id</th>\n",
       "      <th>call_date</th>\n",
       "      <th>duration</th>\n",
       "      <th>user_id</th>\n",
       "    </tr>\n",
       "  </thead>\n",
       "  <tbody>\n",
       "    <tr>\n",
       "      <td>0</td>\n",
       "      <td>1000_0</td>\n",
       "      <td>2018-07-25</td>\n",
       "      <td>0.00</td>\n",
       "      <td>1000</td>\n",
       "    </tr>\n",
       "    <tr>\n",
       "      <td>1</td>\n",
       "      <td>1000_1</td>\n",
       "      <td>2018-08-17</td>\n",
       "      <td>0.00</td>\n",
       "      <td>1000</td>\n",
       "    </tr>\n",
       "    <tr>\n",
       "      <td>2</td>\n",
       "      <td>1000_2</td>\n",
       "      <td>2018-06-11</td>\n",
       "      <td>2.85</td>\n",
       "      <td>1000</td>\n",
       "    </tr>\n",
       "    <tr>\n",
       "      <td>3</td>\n",
       "      <td>1000_3</td>\n",
       "      <td>2018-09-21</td>\n",
       "      <td>13.80</td>\n",
       "      <td>1000</td>\n",
       "    </tr>\n",
       "    <tr>\n",
       "      <td>4</td>\n",
       "      <td>1000_4</td>\n",
       "      <td>2018-12-15</td>\n",
       "      <td>5.18</td>\n",
       "      <td>1000</td>\n",
       "    </tr>\n",
       "    <tr>\n",
       "      <td>5</td>\n",
       "      <td>1000_5</td>\n",
       "      <td>2018-11-02</td>\n",
       "      <td>0.00</td>\n",
       "      <td>1000</td>\n",
       "    </tr>\n",
       "    <tr>\n",
       "      <td>6</td>\n",
       "      <td>1000_6</td>\n",
       "      <td>2018-10-18</td>\n",
       "      <td>0.00</td>\n",
       "      <td>1000</td>\n",
       "    </tr>\n",
       "    <tr>\n",
       "      <td>7</td>\n",
       "      <td>1000_7</td>\n",
       "      <td>2018-08-22</td>\n",
       "      <td>18.31</td>\n",
       "      <td>1000</td>\n",
       "    </tr>\n",
       "    <tr>\n",
       "      <td>8</td>\n",
       "      <td>1000_8</td>\n",
       "      <td>2018-09-15</td>\n",
       "      <td>18.44</td>\n",
       "      <td>1000</td>\n",
       "    </tr>\n",
       "    <tr>\n",
       "      <td>9</td>\n",
       "      <td>1000_9</td>\n",
       "      <td>2018-08-15</td>\n",
       "      <td>0.00</td>\n",
       "      <td>1000</td>\n",
       "    </tr>\n",
       "  </tbody>\n",
       "</table>\n",
       "</div>"
      ],
      "text/plain": [
       "       id   call_date  duration  user_id\n",
       "0  1000_0  2018-07-25      0.00     1000\n",
       "1  1000_1  2018-08-17      0.00     1000\n",
       "2  1000_2  2018-06-11      2.85     1000\n",
       "3  1000_3  2018-09-21     13.80     1000\n",
       "4  1000_4  2018-12-15      5.18     1000\n",
       "5  1000_5  2018-11-02      0.00     1000\n",
       "6  1000_6  2018-10-18      0.00     1000\n",
       "7  1000_7  2018-08-22     18.31     1000\n",
       "8  1000_8  2018-09-15     18.44     1000\n",
       "9  1000_9  2018-08-15      0.00     1000"
      ]
     },
     "execution_count": 19,
     "metadata": {},
     "output_type": "execute_result"
    }
   ],
   "source": [
    "calls.head(10)"
   ]
  },
  {
   "cell_type": "code",
   "execution_count": 20,
   "metadata": {},
   "outputs": [
    {
     "name": "stdout",
     "output_type": "stream",
     "text": [
      "<class 'pandas.core.frame.DataFrame'>\n",
      "RangeIndex: 202607 entries, 0 to 202606\n",
      "Data columns (total 4 columns):\n",
      "id           202607 non-null object\n",
      "call_date    202607 non-null object\n",
      "duration     202607 non-null float64\n",
      "user_id      202607 non-null int64\n",
      "dtypes: float64(1), int64(1), object(2)\n",
      "memory usage: 6.2+ MB\n"
     ]
    }
   ],
   "source": [
    "calls.info()"
   ]
  },
  {
   "cell_type": "code",
   "execution_count": 21,
   "metadata": {},
   "outputs": [
    {
     "data": {
      "text/html": [
       "<div>\n",
       "<style scoped>\n",
       "    .dataframe tbody tr th:only-of-type {\n",
       "        vertical-align: middle;\n",
       "    }\n",
       "\n",
       "    .dataframe tbody tr th {\n",
       "        vertical-align: top;\n",
       "    }\n",
       "\n",
       "    .dataframe thead th {\n",
       "        text-align: right;\n",
       "    }\n",
       "</style>\n",
       "<table border=\"1\" class=\"dataframe\">\n",
       "  <thead>\n",
       "    <tr style=\"text-align: right;\">\n",
       "      <th></th>\n",
       "      <th>Unnamed: 0</th>\n",
       "      <th>id</th>\n",
       "      <th>mb_used</th>\n",
       "      <th>session_date</th>\n",
       "      <th>user_id</th>\n",
       "    </tr>\n",
       "  </thead>\n",
       "  <tbody>\n",
       "    <tr>\n",
       "      <td>149386</td>\n",
       "      <td>149386</td>\n",
       "      <td>1499_147</td>\n",
       "      <td>0.00</td>\n",
       "      <td>2018-10-21</td>\n",
       "      <td>1499</td>\n",
       "    </tr>\n",
       "    <tr>\n",
       "      <td>149387</td>\n",
       "      <td>149387</td>\n",
       "      <td>1499_148</td>\n",
       "      <td>268.19</td>\n",
       "      <td>2018-11-13</td>\n",
       "      <td>1499</td>\n",
       "    </tr>\n",
       "    <tr>\n",
       "      <td>149388</td>\n",
       "      <td>149388</td>\n",
       "      <td>1499_149</td>\n",
       "      <td>778.68</td>\n",
       "      <td>2018-11-24</td>\n",
       "      <td>1499</td>\n",
       "    </tr>\n",
       "    <tr>\n",
       "      <td>149389</td>\n",
       "      <td>149389</td>\n",
       "      <td>1499_150</td>\n",
       "      <td>273.98</td>\n",
       "      <td>2018-11-20</td>\n",
       "      <td>1499</td>\n",
       "    </tr>\n",
       "    <tr>\n",
       "      <td>149390</td>\n",
       "      <td>149390</td>\n",
       "      <td>1499_151</td>\n",
       "      <td>752.72</td>\n",
       "      <td>2018-10-11</td>\n",
       "      <td>1499</td>\n",
       "    </tr>\n",
       "    <tr>\n",
       "      <td>149391</td>\n",
       "      <td>149391</td>\n",
       "      <td>1499_152</td>\n",
       "      <td>318.90</td>\n",
       "      <td>2018-10-03</td>\n",
       "      <td>1499</td>\n",
       "    </tr>\n",
       "    <tr>\n",
       "      <td>149392</td>\n",
       "      <td>149392</td>\n",
       "      <td>1499_153</td>\n",
       "      <td>490.13</td>\n",
       "      <td>2018-12-14</td>\n",
       "      <td>1499</td>\n",
       "    </tr>\n",
       "    <tr>\n",
       "      <td>149393</td>\n",
       "      <td>149393</td>\n",
       "      <td>1499_154</td>\n",
       "      <td>0.00</td>\n",
       "      <td>2018-10-27</td>\n",
       "      <td>1499</td>\n",
       "    </tr>\n",
       "    <tr>\n",
       "      <td>149394</td>\n",
       "      <td>149394</td>\n",
       "      <td>1499_155</td>\n",
       "      <td>1246.32</td>\n",
       "      <td>2018-11-26</td>\n",
       "      <td>1499</td>\n",
       "    </tr>\n",
       "    <tr>\n",
       "      <td>149395</td>\n",
       "      <td>149395</td>\n",
       "      <td>1499_156</td>\n",
       "      <td>544.37</td>\n",
       "      <td>2018-10-26</td>\n",
       "      <td>1499</td>\n",
       "    </tr>\n",
       "  </tbody>\n",
       "</table>\n",
       "</div>"
      ],
      "text/plain": [
       "        Unnamed: 0        id  mb_used session_date  user_id\n",
       "149386      149386  1499_147     0.00   2018-10-21     1499\n",
       "149387      149387  1499_148   268.19   2018-11-13     1499\n",
       "149388      149388  1499_149   778.68   2018-11-24     1499\n",
       "149389      149389  1499_150   273.98   2018-11-20     1499\n",
       "149390      149390  1499_151   752.72   2018-10-11     1499\n",
       "149391      149391  1499_152   318.90   2018-10-03     1499\n",
       "149392      149392  1499_153   490.13   2018-12-14     1499\n",
       "149393      149393  1499_154     0.00   2018-10-27     1499\n",
       "149394      149394  1499_155  1246.32   2018-11-26     1499\n",
       "149395      149395  1499_156   544.37   2018-10-26     1499"
      ]
     },
     "execution_count": 21,
     "metadata": {},
     "output_type": "execute_result"
    }
   ],
   "source": [
    "internet.tail(10)"
   ]
  },
  {
   "cell_type": "code",
   "execution_count": 22,
   "metadata": {},
   "outputs": [
    {
     "name": "stdout",
     "output_type": "stream",
     "text": [
      "<class 'pandas.core.frame.DataFrame'>\n",
      "RangeIndex: 149396 entries, 0 to 149395\n",
      "Data columns (total 5 columns):\n",
      "Unnamed: 0      149396 non-null int64\n",
      "id              149396 non-null object\n",
      "mb_used         149396 non-null float64\n",
      "session_date    149396 non-null object\n",
      "user_id         149396 non-null int64\n",
      "dtypes: float64(1), int64(2), object(2)\n",
      "memory usage: 5.7+ MB\n"
     ]
    }
   ],
   "source": [
    "internet.info()"
   ]
  },
  {
   "cell_type": "code",
   "execution_count": 23,
   "metadata": {},
   "outputs": [
    {
     "data": {
      "text/html": [
       "<div>\n",
       "<style scoped>\n",
       "    .dataframe tbody tr th:only-of-type {\n",
       "        vertical-align: middle;\n",
       "    }\n",
       "\n",
       "    .dataframe tbody tr th {\n",
       "        vertical-align: top;\n",
       "    }\n",
       "\n",
       "    .dataframe thead th {\n",
       "        text-align: right;\n",
       "    }\n",
       "</style>\n",
       "<table border=\"1\" class=\"dataframe\">\n",
       "  <thead>\n",
       "    <tr style=\"text-align: right;\">\n",
       "      <th></th>\n",
       "      <th>id</th>\n",
       "      <th>message_date</th>\n",
       "      <th>user_id</th>\n",
       "    </tr>\n",
       "  </thead>\n",
       "  <tbody>\n",
       "    <tr>\n",
       "      <td>0</td>\n",
       "      <td>1000_0</td>\n",
       "      <td>2018-06-27</td>\n",
       "      <td>1000</td>\n",
       "    </tr>\n",
       "    <tr>\n",
       "      <td>1</td>\n",
       "      <td>1000_1</td>\n",
       "      <td>2018-10-08</td>\n",
       "      <td>1000</td>\n",
       "    </tr>\n",
       "    <tr>\n",
       "      <td>2</td>\n",
       "      <td>1000_2</td>\n",
       "      <td>2018-08-04</td>\n",
       "      <td>1000</td>\n",
       "    </tr>\n",
       "    <tr>\n",
       "      <td>3</td>\n",
       "      <td>1000_3</td>\n",
       "      <td>2018-06-16</td>\n",
       "      <td>1000</td>\n",
       "    </tr>\n",
       "    <tr>\n",
       "      <td>4</td>\n",
       "      <td>1000_4</td>\n",
       "      <td>2018-12-05</td>\n",
       "      <td>1000</td>\n",
       "    </tr>\n",
       "    <tr>\n",
       "      <td>5</td>\n",
       "      <td>1000_5</td>\n",
       "      <td>2018-06-20</td>\n",
       "      <td>1000</td>\n",
       "    </tr>\n",
       "    <tr>\n",
       "      <td>6</td>\n",
       "      <td>1000_6</td>\n",
       "      <td>2018-11-19</td>\n",
       "      <td>1000</td>\n",
       "    </tr>\n",
       "    <tr>\n",
       "      <td>7</td>\n",
       "      <td>1000_7</td>\n",
       "      <td>2018-10-29</td>\n",
       "      <td>1000</td>\n",
       "    </tr>\n",
       "    <tr>\n",
       "      <td>8</td>\n",
       "      <td>1000_8</td>\n",
       "      <td>2018-06-25</td>\n",
       "      <td>1000</td>\n",
       "    </tr>\n",
       "    <tr>\n",
       "      <td>9</td>\n",
       "      <td>1000_9</td>\n",
       "      <td>2018-12-18</td>\n",
       "      <td>1000</td>\n",
       "    </tr>\n",
       "  </tbody>\n",
       "</table>\n",
       "</div>"
      ],
      "text/plain": [
       "       id message_date  user_id\n",
       "0  1000_0   2018-06-27     1000\n",
       "1  1000_1   2018-10-08     1000\n",
       "2  1000_2   2018-08-04     1000\n",
       "3  1000_3   2018-06-16     1000\n",
       "4  1000_4   2018-12-05     1000\n",
       "5  1000_5   2018-06-20     1000\n",
       "6  1000_6   2018-11-19     1000\n",
       "7  1000_7   2018-10-29     1000\n",
       "8  1000_8   2018-06-25     1000\n",
       "9  1000_9   2018-12-18     1000"
      ]
     },
     "execution_count": 23,
     "metadata": {},
     "output_type": "execute_result"
    }
   ],
   "source": [
    "messages.head(10)"
   ]
  },
  {
   "cell_type": "code",
   "execution_count": 24,
   "metadata": {},
   "outputs": [
    {
     "name": "stdout",
     "output_type": "stream",
     "text": [
      "<class 'pandas.core.frame.DataFrame'>\n",
      "RangeIndex: 123036 entries, 0 to 123035\n",
      "Data columns (total 3 columns):\n",
      "id              123036 non-null object\n",
      "message_date    123036 non-null object\n",
      "user_id         123036 non-null int64\n",
      "dtypes: int64(1), object(2)\n",
      "memory usage: 2.8+ MB\n"
     ]
    }
   ],
   "source": [
    "messages.info()"
   ]
  },
  {
   "cell_type": "code",
   "execution_count": 25,
   "metadata": {},
   "outputs": [
    {
     "data": {
      "text/html": [
       "<div>\n",
       "<style scoped>\n",
       "    .dataframe tbody tr th:only-of-type {\n",
       "        vertical-align: middle;\n",
       "    }\n",
       "\n",
       "    .dataframe tbody tr th {\n",
       "        vertical-align: top;\n",
       "    }\n",
       "\n",
       "    .dataframe thead th {\n",
       "        text-align: right;\n",
       "    }\n",
       "</style>\n",
       "<table border=\"1\" class=\"dataframe\">\n",
       "  <thead>\n",
       "    <tr style=\"text-align: right;\">\n",
       "      <th></th>\n",
       "      <th>messages_included</th>\n",
       "      <th>mb_per_month_included</th>\n",
       "      <th>minutes_included</th>\n",
       "      <th>rub_monthly_fee</th>\n",
       "      <th>rub_per_gb</th>\n",
       "      <th>rub_per_message</th>\n",
       "      <th>rub_per_minute</th>\n",
       "      <th>tariff_name</th>\n",
       "    </tr>\n",
       "  </thead>\n",
       "  <tbody>\n",
       "    <tr>\n",
       "      <td>0</td>\n",
       "      <td>50</td>\n",
       "      <td>15360</td>\n",
       "      <td>500</td>\n",
       "      <td>550</td>\n",
       "      <td>200</td>\n",
       "      <td>3</td>\n",
       "      <td>3</td>\n",
       "      <td>smart</td>\n",
       "    </tr>\n",
       "    <tr>\n",
       "      <td>1</td>\n",
       "      <td>1000</td>\n",
       "      <td>30720</td>\n",
       "      <td>3000</td>\n",
       "      <td>1950</td>\n",
       "      <td>150</td>\n",
       "      <td>1</td>\n",
       "      <td>1</td>\n",
       "      <td>ultra</td>\n",
       "    </tr>\n",
       "  </tbody>\n",
       "</table>\n",
       "</div>"
      ],
      "text/plain": [
       "   messages_included  mb_per_month_included  minutes_included  \\\n",
       "0                 50                  15360               500   \n",
       "1               1000                  30720              3000   \n",
       "\n",
       "   rub_monthly_fee  rub_per_gb  rub_per_message  rub_per_minute tariff_name  \n",
       "0              550         200                3               3       smart  \n",
       "1             1950         150                1               1       ultra  "
      ]
     },
     "execution_count": 25,
     "metadata": {},
     "output_type": "execute_result"
    }
   ],
   "source": [
    "tariffs.head(10)"
   ]
  },
  {
   "cell_type": "code",
   "execution_count": 26,
   "metadata": {},
   "outputs": [
    {
     "name": "stdout",
     "output_type": "stream",
     "text": [
      "<class 'pandas.core.frame.DataFrame'>\n",
      "RangeIndex: 2 entries, 0 to 1\n",
      "Data columns (total 8 columns):\n",
      "messages_included        2 non-null int64\n",
      "mb_per_month_included    2 non-null int64\n",
      "minutes_included         2 non-null int64\n",
      "rub_monthly_fee          2 non-null int64\n",
      "rub_per_gb               2 non-null int64\n",
      "rub_per_message          2 non-null int64\n",
      "rub_per_minute           2 non-null int64\n",
      "tariff_name              2 non-null object\n",
      "dtypes: int64(7), object(1)\n",
      "memory usage: 256.0+ bytes\n"
     ]
    }
   ],
   "source": [
    "tariffs.info()"
   ]
  },
  {
   "cell_type": "code",
   "execution_count": 27,
   "metadata": {},
   "outputs": [
    {
     "data": {
      "text/html": [
       "<div>\n",
       "<style scoped>\n",
       "    .dataframe tbody tr th:only-of-type {\n",
       "        vertical-align: middle;\n",
       "    }\n",
       "\n",
       "    .dataframe tbody tr th {\n",
       "        vertical-align: top;\n",
       "    }\n",
       "\n",
       "    .dataframe thead th {\n",
       "        text-align: right;\n",
       "    }\n",
       "</style>\n",
       "<table border=\"1\" class=\"dataframe\">\n",
       "  <thead>\n",
       "    <tr style=\"text-align: right;\">\n",
       "      <th></th>\n",
       "      <th>user_id</th>\n",
       "      <th>age</th>\n",
       "      <th>churn_date</th>\n",
       "      <th>city</th>\n",
       "      <th>first_name</th>\n",
       "      <th>last_name</th>\n",
       "      <th>reg_date</th>\n",
       "      <th>tariff</th>\n",
       "    </tr>\n",
       "  </thead>\n",
       "  <tbody>\n",
       "    <tr>\n",
       "      <td>0</td>\n",
       "      <td>1000</td>\n",
       "      <td>52</td>\n",
       "      <td>NaN</td>\n",
       "      <td>Краснодар</td>\n",
       "      <td>Рафаил</td>\n",
       "      <td>Верещагин</td>\n",
       "      <td>2018-05-25</td>\n",
       "      <td>ultra</td>\n",
       "    </tr>\n",
       "    <tr>\n",
       "      <td>1</td>\n",
       "      <td>1001</td>\n",
       "      <td>41</td>\n",
       "      <td>NaN</td>\n",
       "      <td>Москва</td>\n",
       "      <td>Иван</td>\n",
       "      <td>Ежов</td>\n",
       "      <td>2018-11-01</td>\n",
       "      <td>smart</td>\n",
       "    </tr>\n",
       "    <tr>\n",
       "      <td>2</td>\n",
       "      <td>1002</td>\n",
       "      <td>59</td>\n",
       "      <td>NaN</td>\n",
       "      <td>Стерлитамак</td>\n",
       "      <td>Евгений</td>\n",
       "      <td>Абрамович</td>\n",
       "      <td>2018-06-17</td>\n",
       "      <td>smart</td>\n",
       "    </tr>\n",
       "    <tr>\n",
       "      <td>3</td>\n",
       "      <td>1003</td>\n",
       "      <td>23</td>\n",
       "      <td>NaN</td>\n",
       "      <td>Москва</td>\n",
       "      <td>Белла</td>\n",
       "      <td>Белякова</td>\n",
       "      <td>2018-08-17</td>\n",
       "      <td>ultra</td>\n",
       "    </tr>\n",
       "    <tr>\n",
       "      <td>4</td>\n",
       "      <td>1004</td>\n",
       "      <td>68</td>\n",
       "      <td>NaN</td>\n",
       "      <td>Новокузнецк</td>\n",
       "      <td>Татьяна</td>\n",
       "      <td>Авдеенко</td>\n",
       "      <td>2018-05-14</td>\n",
       "      <td>ultra</td>\n",
       "    </tr>\n",
       "    <tr>\n",
       "      <td>5</td>\n",
       "      <td>1005</td>\n",
       "      <td>67</td>\n",
       "      <td>NaN</td>\n",
       "      <td>Набережные Челны</td>\n",
       "      <td>Афанасий</td>\n",
       "      <td>Горлов</td>\n",
       "      <td>2018-01-25</td>\n",
       "      <td>smart</td>\n",
       "    </tr>\n",
       "    <tr>\n",
       "      <td>6</td>\n",
       "      <td>1006</td>\n",
       "      <td>21</td>\n",
       "      <td>NaN</td>\n",
       "      <td>Ульяновск</td>\n",
       "      <td>Леонид</td>\n",
       "      <td>Ермолаев</td>\n",
       "      <td>2018-02-26</td>\n",
       "      <td>smart</td>\n",
       "    </tr>\n",
       "    <tr>\n",
       "      <td>7</td>\n",
       "      <td>1007</td>\n",
       "      <td>65</td>\n",
       "      <td>NaN</td>\n",
       "      <td>Москва</td>\n",
       "      <td>Юна</td>\n",
       "      <td>Березина</td>\n",
       "      <td>2018-04-19</td>\n",
       "      <td>smart</td>\n",
       "    </tr>\n",
       "    <tr>\n",
       "      <td>8</td>\n",
       "      <td>1008</td>\n",
       "      <td>63</td>\n",
       "      <td>NaN</td>\n",
       "      <td>Челябинск</td>\n",
       "      <td>Рустэм</td>\n",
       "      <td>Пономарёв</td>\n",
       "      <td>2018-12-19</td>\n",
       "      <td>smart</td>\n",
       "    </tr>\n",
       "    <tr>\n",
       "      <td>9</td>\n",
       "      <td>1009</td>\n",
       "      <td>24</td>\n",
       "      <td>NaN</td>\n",
       "      <td>Пермь</td>\n",
       "      <td>Василиса</td>\n",
       "      <td>Блинова</td>\n",
       "      <td>2018-03-22</td>\n",
       "      <td>smart</td>\n",
       "    </tr>\n",
       "  </tbody>\n",
       "</table>\n",
       "</div>"
      ],
      "text/plain": [
       "   user_id  age churn_date              city first_name  last_name  \\\n",
       "0     1000   52        NaN         Краснодар     Рафаил  Верещагин   \n",
       "1     1001   41        NaN            Москва       Иван       Ежов   \n",
       "2     1002   59        NaN       Стерлитамак    Евгений  Абрамович   \n",
       "3     1003   23        NaN            Москва      Белла   Белякова   \n",
       "4     1004   68        NaN       Новокузнецк    Татьяна   Авдеенко   \n",
       "5     1005   67        NaN  Набережные Челны   Афанасий     Горлов   \n",
       "6     1006   21        NaN         Ульяновск     Леонид   Ермолаев   \n",
       "7     1007   65        NaN            Москва        Юна   Березина   \n",
       "8     1008   63        NaN         Челябинск     Рустэм  Пономарёв   \n",
       "9     1009   24        NaN             Пермь   Василиса    Блинова   \n",
       "\n",
       "     reg_date tariff  \n",
       "0  2018-05-25  ultra  \n",
       "1  2018-11-01  smart  \n",
       "2  2018-06-17  smart  \n",
       "3  2018-08-17  ultra  \n",
       "4  2018-05-14  ultra  \n",
       "5  2018-01-25  smart  \n",
       "6  2018-02-26  smart  \n",
       "7  2018-04-19  smart  \n",
       "8  2018-12-19  smart  \n",
       "9  2018-03-22  smart  "
      ]
     },
     "execution_count": 27,
     "metadata": {},
     "output_type": "execute_result"
    }
   ],
   "source": [
    "users.head(10)"
   ]
  },
  {
   "cell_type": "code",
   "execution_count": 28,
   "metadata": {},
   "outputs": [
    {
     "name": "stdout",
     "output_type": "stream",
     "text": [
      "<class 'pandas.core.frame.DataFrame'>\n",
      "RangeIndex: 500 entries, 0 to 499\n",
      "Data columns (total 8 columns):\n",
      "user_id       500 non-null int64\n",
      "age           500 non-null int64\n",
      "churn_date    38 non-null object\n",
      "city          500 non-null object\n",
      "first_name    500 non-null object\n",
      "last_name     500 non-null object\n",
      "reg_date      500 non-null object\n",
      "tariff        500 non-null object\n",
      "dtypes: int64(2), object(6)\n",
      "memory usage: 31.4+ KB\n"
     ]
    }
   ],
   "source": [
    "users.info()"
   ]
  },
  {
   "cell_type": "markdown",
   "metadata": {},
   "source": [
    "##  Вывод:\n",
    "  Обнаружен неверный формат даты во всех таблицах с датами. \n",
    "  Необходимо округлить время звонков и мегабайты трафика в большую сторону в соответствии с условиями тарифов."
   ]
  },
  {
   "cell_type": "markdown",
   "metadata": {},
   "source": [
    "# Шаг 2.  Предобработка данных"
   ]
  },
  {
   "cell_type": "code",
   "execution_count": 29,
   "metadata": {},
   "outputs": [],
   "source": [
    "calls['call_date'] = pd.to_datetime(calls['call_date'], format='%Y-%m-%d')#приводим даты в datetime64\n",
    "internet['session_date'] = pd.to_datetime(internet['session_date'], format='%Y-%m-%d')\n",
    "messages['message_date'] = pd.to_datetime(messages['message_date'], format='%Y-%m-%d')\n",
    "users['reg_date'] = pd.to_datetime(users['reg_date'], format='%Y-%m-%d')\n",
    "users['churn_date'] = pd.to_datetime(users['churn_date'], format='%Y-%m-%d')\n",
    "internet.drop(['Unnamed: 0'], axis='columns', inplace=True)"
   ]
  },
  {
   "cell_type": "code",
   "execution_count": 30,
   "metadata": {},
   "outputs": [
    {
     "data": {
      "text/html": [
       "<div>\n",
       "<style scoped>\n",
       "    .dataframe tbody tr th:only-of-type {\n",
       "        vertical-align: middle;\n",
       "    }\n",
       "\n",
       "    .dataframe tbody tr th {\n",
       "        vertical-align: top;\n",
       "    }\n",
       "\n",
       "    .dataframe thead th {\n",
       "        text-align: right;\n",
       "    }\n",
       "</style>\n",
       "<table border=\"1\" class=\"dataframe\">\n",
       "  <thead>\n",
       "    <tr style=\"text-align: right;\">\n",
       "      <th></th>\n",
       "      <th>id</th>\n",
       "      <th>call_date</th>\n",
       "      <th>duration</th>\n",
       "      <th>user_id</th>\n",
       "      <th>month</th>\n",
       "    </tr>\n",
       "  </thead>\n",
       "  <tbody>\n",
       "    <tr>\n",
       "      <td>0</td>\n",
       "      <td>1000_0</td>\n",
       "      <td>2018-07-25</td>\n",
       "      <td>0.00</td>\n",
       "      <td>1000</td>\n",
       "      <td>7</td>\n",
       "    </tr>\n",
       "    <tr>\n",
       "      <td>1</td>\n",
       "      <td>1000_1</td>\n",
       "      <td>2018-08-17</td>\n",
       "      <td>0.00</td>\n",
       "      <td>1000</td>\n",
       "      <td>8</td>\n",
       "    </tr>\n",
       "    <tr>\n",
       "      <td>2</td>\n",
       "      <td>1000_2</td>\n",
       "      <td>2018-06-11</td>\n",
       "      <td>2.85</td>\n",
       "      <td>1000</td>\n",
       "      <td>6</td>\n",
       "    </tr>\n",
       "    <tr>\n",
       "      <td>3</td>\n",
       "      <td>1000_3</td>\n",
       "      <td>2018-09-21</td>\n",
       "      <td>13.80</td>\n",
       "      <td>1000</td>\n",
       "      <td>9</td>\n",
       "    </tr>\n",
       "    <tr>\n",
       "      <td>4</td>\n",
       "      <td>1000_4</td>\n",
       "      <td>2018-12-15</td>\n",
       "      <td>5.18</td>\n",
       "      <td>1000</td>\n",
       "      <td>12</td>\n",
       "    </tr>\n",
       "    <tr>\n",
       "      <td>...</td>\n",
       "      <td>...</td>\n",
       "      <td>...</td>\n",
       "      <td>...</td>\n",
       "      <td>...</td>\n",
       "      <td>...</td>\n",
       "    </tr>\n",
       "    <tr>\n",
       "      <td>202602</td>\n",
       "      <td>1499_215</td>\n",
       "      <td>2018-12-26</td>\n",
       "      <td>0.76</td>\n",
       "      <td>1499</td>\n",
       "      <td>12</td>\n",
       "    </tr>\n",
       "    <tr>\n",
       "      <td>202603</td>\n",
       "      <td>1499_216</td>\n",
       "      <td>2018-10-18</td>\n",
       "      <td>18.83</td>\n",
       "      <td>1499</td>\n",
       "      <td>10</td>\n",
       "    </tr>\n",
       "    <tr>\n",
       "      <td>202604</td>\n",
       "      <td>1499_217</td>\n",
       "      <td>2018-11-10</td>\n",
       "      <td>10.81</td>\n",
       "      <td>1499</td>\n",
       "      <td>11</td>\n",
       "    </tr>\n",
       "    <tr>\n",
       "      <td>202605</td>\n",
       "      <td>1499_218</td>\n",
       "      <td>2018-10-06</td>\n",
       "      <td>4.27</td>\n",
       "      <td>1499</td>\n",
       "      <td>10</td>\n",
       "    </tr>\n",
       "    <tr>\n",
       "      <td>202606</td>\n",
       "      <td>1499_219</td>\n",
       "      <td>2018-12-14</td>\n",
       "      <td>19.62</td>\n",
       "      <td>1499</td>\n",
       "      <td>12</td>\n",
       "    </tr>\n",
       "  </tbody>\n",
       "</table>\n",
       "<p>202607 rows × 5 columns</p>\n",
       "</div>"
      ],
      "text/plain": [
       "              id  call_date  duration  user_id  month\n",
       "0         1000_0 2018-07-25      0.00     1000      7\n",
       "1         1000_1 2018-08-17      0.00     1000      8\n",
       "2         1000_2 2018-06-11      2.85     1000      6\n",
       "3         1000_3 2018-09-21     13.80     1000      9\n",
       "4         1000_4 2018-12-15      5.18     1000     12\n",
       "...          ...        ...       ...      ...    ...\n",
       "202602  1499_215 2018-12-26      0.76     1499     12\n",
       "202603  1499_216 2018-10-18     18.83     1499     10\n",
       "202604  1499_217 2018-11-10     10.81     1499     11\n",
       "202605  1499_218 2018-10-06      4.27     1499     10\n",
       "202606  1499_219 2018-12-14     19.62     1499     12\n",
       "\n",
       "[202607 rows x 5 columns]"
      ]
     },
     "execution_count": 30,
     "metadata": {},
     "output_type": "execute_result"
    }
   ],
   "source": [
    "calls['month'] = calls['call_date'].dt.month #добавим колонку \"месяц\" для сводной таблицы\n",
    "internet['month'] = internet['session_date'].dt.month\n",
    "messages['month'] = messages['message_date'].dt.month \n",
    "calls\n"
   ]
  },
  {
   "cell_type": "code",
   "execution_count": 31,
   "metadata": {},
   "outputs": [
    {
     "data": {
      "text/html": [
       "<div>\n",
       "<style scoped>\n",
       "    .dataframe tbody tr th:only-of-type {\n",
       "        vertical-align: middle;\n",
       "    }\n",
       "\n",
       "    .dataframe tbody tr th {\n",
       "        vertical-align: top;\n",
       "    }\n",
       "\n",
       "    .dataframe thead th {\n",
       "        text-align: right;\n",
       "    }\n",
       "</style>\n",
       "<table border=\"1\" class=\"dataframe\">\n",
       "  <thead>\n",
       "    <tr style=\"text-align: right;\">\n",
       "      <th></th>\n",
       "      <th>id</th>\n",
       "      <th>call_date</th>\n",
       "      <th>duration</th>\n",
       "      <th>user_id</th>\n",
       "      <th>month</th>\n",
       "    </tr>\n",
       "  </thead>\n",
       "  <tbody>\n",
       "    <tr>\n",
       "      <td>0</td>\n",
       "      <td>1000_0</td>\n",
       "      <td>2018-07-25</td>\n",
       "      <td>0.0</td>\n",
       "      <td>1000</td>\n",
       "      <td>7</td>\n",
       "    </tr>\n",
       "    <tr>\n",
       "      <td>1</td>\n",
       "      <td>1000_1</td>\n",
       "      <td>2018-08-17</td>\n",
       "      <td>0.0</td>\n",
       "      <td>1000</td>\n",
       "      <td>8</td>\n",
       "    </tr>\n",
       "    <tr>\n",
       "      <td>2</td>\n",
       "      <td>1000_2</td>\n",
       "      <td>2018-06-11</td>\n",
       "      <td>3.0</td>\n",
       "      <td>1000</td>\n",
       "      <td>6</td>\n",
       "    </tr>\n",
       "    <tr>\n",
       "      <td>3</td>\n",
       "      <td>1000_3</td>\n",
       "      <td>2018-09-21</td>\n",
       "      <td>14.0</td>\n",
       "      <td>1000</td>\n",
       "      <td>9</td>\n",
       "    </tr>\n",
       "    <tr>\n",
       "      <td>4</td>\n",
       "      <td>1000_4</td>\n",
       "      <td>2018-12-15</td>\n",
       "      <td>6.0</td>\n",
       "      <td>1000</td>\n",
       "      <td>12</td>\n",
       "    </tr>\n",
       "    <tr>\n",
       "      <td>...</td>\n",
       "      <td>...</td>\n",
       "      <td>...</td>\n",
       "      <td>...</td>\n",
       "      <td>...</td>\n",
       "      <td>...</td>\n",
       "    </tr>\n",
       "    <tr>\n",
       "      <td>202602</td>\n",
       "      <td>1499_215</td>\n",
       "      <td>2018-12-26</td>\n",
       "      <td>1.0</td>\n",
       "      <td>1499</td>\n",
       "      <td>12</td>\n",
       "    </tr>\n",
       "    <tr>\n",
       "      <td>202603</td>\n",
       "      <td>1499_216</td>\n",
       "      <td>2018-10-18</td>\n",
       "      <td>19.0</td>\n",
       "      <td>1499</td>\n",
       "      <td>10</td>\n",
       "    </tr>\n",
       "    <tr>\n",
       "      <td>202604</td>\n",
       "      <td>1499_217</td>\n",
       "      <td>2018-11-10</td>\n",
       "      <td>11.0</td>\n",
       "      <td>1499</td>\n",
       "      <td>11</td>\n",
       "    </tr>\n",
       "    <tr>\n",
       "      <td>202605</td>\n",
       "      <td>1499_218</td>\n",
       "      <td>2018-10-06</td>\n",
       "      <td>5.0</td>\n",
       "      <td>1499</td>\n",
       "      <td>10</td>\n",
       "    </tr>\n",
       "    <tr>\n",
       "      <td>202606</td>\n",
       "      <td>1499_219</td>\n",
       "      <td>2018-12-14</td>\n",
       "      <td>20.0</td>\n",
       "      <td>1499</td>\n",
       "      <td>12</td>\n",
       "    </tr>\n",
       "  </tbody>\n",
       "</table>\n",
       "<p>202607 rows × 5 columns</p>\n",
       "</div>"
      ],
      "text/plain": [
       "              id  call_date  duration  user_id  month\n",
       "0         1000_0 2018-07-25       0.0     1000      7\n",
       "1         1000_1 2018-08-17       0.0     1000      8\n",
       "2         1000_2 2018-06-11       3.0     1000      6\n",
       "3         1000_3 2018-09-21      14.0     1000      9\n",
       "4         1000_4 2018-12-15       6.0     1000     12\n",
       "...          ...        ...       ...      ...    ...\n",
       "202602  1499_215 2018-12-26       1.0     1499     12\n",
       "202603  1499_216 2018-10-18      19.0     1499     10\n",
       "202604  1499_217 2018-11-10      11.0     1499     11\n",
       "202605  1499_218 2018-10-06       5.0     1499     10\n",
       "202606  1499_219 2018-12-14      20.0     1499     12\n",
       "\n",
       "[202607 rows x 5 columns]"
      ]
     },
     "execution_count": 31,
     "metadata": {},
     "output_type": "execute_result"
    }
   ],
   "source": [
    "\n",
    "calls['duration'] = calls['duration'].apply(np.ceil)#округлим в большую сторону звонки,\n",
    "calls\n",
    "#как это делает оператор"
   ]
  },
  {
   "cell_type": "markdown",
   "metadata": {},
   "source": [
    "  Расчеты для каждого пользователя:\n",
    "  "
   ]
  },
  {
   "cell_type": "code",
   "execution_count": 33,
   "metadata": {},
   "outputs": [
    {
     "data": {
      "text/html": [
       "<div>\n",
       "<style scoped>\n",
       "    .dataframe tbody tr th:only-of-type {\n",
       "        vertical-align: middle;\n",
       "    }\n",
       "\n",
       "    .dataframe tbody tr th {\n",
       "        vertical-align: top;\n",
       "    }\n",
       "\n",
       "    .dataframe thead th {\n",
       "        text-align: right;\n",
       "    }\n",
       "</style>\n",
       "<table border=\"1\" class=\"dataframe\">\n",
       "  <thead>\n",
       "    <tr style=\"text-align: right;\">\n",
       "      <th></th>\n",
       "      <th></th>\n",
       "      <th>calls</th>\n",
       "      <th>duration</th>\n",
       "    </tr>\n",
       "    <tr>\n",
       "      <th>user_id</th>\n",
       "      <th>month</th>\n",
       "      <th></th>\n",
       "      <th></th>\n",
       "    </tr>\n",
       "  </thead>\n",
       "  <tbody>\n",
       "    <tr>\n",
       "      <td rowspan=\"5\" valign=\"top\">1000</td>\n",
       "      <td>5</td>\n",
       "      <td>22</td>\n",
       "      <td>159.0</td>\n",
       "    </tr>\n",
       "    <tr>\n",
       "      <td>6</td>\n",
       "      <td>43</td>\n",
       "      <td>172.0</td>\n",
       "    </tr>\n",
       "    <tr>\n",
       "      <td>7</td>\n",
       "      <td>47</td>\n",
       "      <td>340.0</td>\n",
       "    </tr>\n",
       "    <tr>\n",
       "      <td>8</td>\n",
       "      <td>52</td>\n",
       "      <td>408.0</td>\n",
       "    </tr>\n",
       "    <tr>\n",
       "      <td>9</td>\n",
       "      <td>58</td>\n",
       "      <td>466.0</td>\n",
       "    </tr>\n",
       "    <tr>\n",
       "      <td>...</td>\n",
       "      <td>...</td>\n",
       "      <td>...</td>\n",
       "      <td>...</td>\n",
       "    </tr>\n",
       "    <tr>\n",
       "      <td>1498</td>\n",
       "      <td>10</td>\n",
       "      <td>41</td>\n",
       "      <td>247.0</td>\n",
       "    </tr>\n",
       "    <tr>\n",
       "      <td rowspan=\"4\" valign=\"top\">1499</td>\n",
       "      <td>9</td>\n",
       "      <td>9</td>\n",
       "      <td>70.0</td>\n",
       "    </tr>\n",
       "    <tr>\n",
       "      <td>10</td>\n",
       "      <td>68</td>\n",
       "      <td>449.0</td>\n",
       "    </tr>\n",
       "    <tr>\n",
       "      <td>11</td>\n",
       "      <td>74</td>\n",
       "      <td>612.0</td>\n",
       "    </tr>\n",
       "    <tr>\n",
       "      <td>12</td>\n",
       "      <td>69</td>\n",
       "      <td>492.0</td>\n",
       "    </tr>\n",
       "  </tbody>\n",
       "</table>\n",
       "<p>3174 rows × 2 columns</p>\n",
       "</div>"
      ],
      "text/plain": [
       "               calls  duration\n",
       "user_id month                 \n",
       "1000    5         22     159.0\n",
       "        6         43     172.0\n",
       "        7         47     340.0\n",
       "        8         52     408.0\n",
       "        9         58     466.0\n",
       "...              ...       ...\n",
       "1498    10        41     247.0\n",
       "1499    9          9      70.0\n",
       "        10        68     449.0\n",
       "        11        74     612.0\n",
       "        12        69     492.0\n",
       "\n",
       "[3174 rows x 2 columns]"
      ]
     },
     "execution_count": 33,
     "metadata": {},
     "output_type": "execute_result"
    }
   ],
   "source": [
    "calls_in_month = calls.pivot_table( # Сводная таблица количества сделанных звонков и израсходованных минут разговора по месяцам;\n",
    "    index=['user_id', 'month'],\n",
    "    values='duration',\n",
    "    aggfunc=['count', 'sum']\n",
    ")\n",
    "calls_in_month.columns = ['calls', 'duration']\n",
    "calls_in_month"
   ]
  },
  {
   "cell_type": "code",
   "execution_count": 34,
   "metadata": {},
   "outputs": [
    {
     "data": {
      "text/plain": [
       "array([[<matplotlib.axes._subplots.AxesSubplot object at 0x7f4cdd364fd0>]],\n",
       "      dtype=object)"
      ]
     },
     "execution_count": 34,
     "metadata": {},
     "output_type": "execute_result"
    },
    {
     "data": {
      "image/png": "[encoded data removed]",
      "text/plain": [
       "<Figure size 432x288 with 1 Axes>"
      ]
     },
     "metadata": {
      "needs_background": "light"
     },
     "output_type": "display_data"
    }
   ],
   "source": [
    "calls.hist('duration', bins=5)"
   ]
  },
  {
   "cell_type": "code",
   "execution_count": 35,
   "metadata": {},
   "outputs": [
    {
     "data": {
      "text/html": [
       "<div>\n",
       "<style scoped>\n",
       "    .dataframe tbody tr th:only-of-type {\n",
       "        vertical-align: middle;\n",
       "    }\n",
       "\n",
       "    .dataframe tbody tr th {\n",
       "        vertical-align: top;\n",
       "    }\n",
       "\n",
       "    .dataframe thead th {\n",
       "        text-align: right;\n",
       "    }\n",
       "</style>\n",
       "<table border=\"1\" class=\"dataframe\">\n",
       "  <thead>\n",
       "    <tr style=\"text-align: right;\">\n",
       "      <th></th>\n",
       "      <th></th>\n",
       "      <th>num_messages</th>\n",
       "    </tr>\n",
       "    <tr>\n",
       "      <th>user_id</th>\n",
       "      <th>month</th>\n",
       "      <th></th>\n",
       "    </tr>\n",
       "  </thead>\n",
       "  <tbody>\n",
       "    <tr>\n",
       "      <td rowspan=\"5\" valign=\"top\">1000</td>\n",
       "      <td>5</td>\n",
       "      <td>22</td>\n",
       "    </tr>\n",
       "    <tr>\n",
       "      <td>6</td>\n",
       "      <td>60</td>\n",
       "    </tr>\n",
       "    <tr>\n",
       "      <td>7</td>\n",
       "      <td>75</td>\n",
       "    </tr>\n",
       "    <tr>\n",
       "      <td>8</td>\n",
       "      <td>81</td>\n",
       "    </tr>\n",
       "    <tr>\n",
       "      <td>9</td>\n",
       "      <td>57</td>\n",
       "    </tr>\n",
       "    <tr>\n",
       "      <td>...</td>\n",
       "      <td>...</td>\n",
       "      <td>...</td>\n",
       "    </tr>\n",
       "    <tr>\n",
       "      <td>1498</td>\n",
       "      <td>10</td>\n",
       "      <td>42</td>\n",
       "    </tr>\n",
       "    <tr>\n",
       "      <td rowspan=\"4\" valign=\"top\">1499</td>\n",
       "      <td>9</td>\n",
       "      <td>11</td>\n",
       "    </tr>\n",
       "    <tr>\n",
       "      <td>10</td>\n",
       "      <td>48</td>\n",
       "    </tr>\n",
       "    <tr>\n",
       "      <td>11</td>\n",
       "      <td>59</td>\n",
       "    </tr>\n",
       "    <tr>\n",
       "      <td>12</td>\n",
       "      <td>66</td>\n",
       "    </tr>\n",
       "  </tbody>\n",
       "</table>\n",
       "<p>2717 rows × 1 columns</p>\n",
       "</div>"
      ],
      "text/plain": [
       "               num_messages\n",
       "user_id month              \n",
       "1000    5                22\n",
       "        6                60\n",
       "        7                75\n",
       "        8                81\n",
       "        9                57\n",
       "...                     ...\n",
       "1498    10               42\n",
       "1499    9                11\n",
       "        10               48\n",
       "        11               59\n",
       "        12               66\n",
       "\n",
       "[2717 rows x 1 columns]"
      ]
     },
     "execution_count": 35,
     "metadata": {},
     "output_type": "execute_result"
    }
   ],
   "source": [
    "messages_in_month = messages.pivot_table( # Сводная таблица сообщений по месяцам\n",
    "    index=['user_id', 'month'],\n",
    "    values='id',\n",
    "    aggfunc='count'\n",
    ")\n",
    "messages_in_month.columns = ['num_messages']\n",
    "messages_in_month"
   ]
  },
  {
   "cell_type": "code",
   "execution_count": 36,
   "metadata": {},
   "outputs": [
    {
     "data": {
      "text/plain": [
       "array([[<matplotlib.axes._subplots.AxesSubplot object at 0x7f4cd98b9c90>]],\n",
       "      dtype=object)"
      ]
     },
     "execution_count": 36,
     "metadata": {},
     "output_type": "execute_result"
    },
    {
     "data": {
      "image/png": "[encoded data removed]",
      "text/plain": [
       "<Figure size 432x288 with 1 Axes>"
      ]
     },
     "metadata": {
      "needs_background": "light"
     },
     "output_type": "display_data"
    }
   ],
   "source": [
    "messages_in_month.hist('num_messages', bins=5)"
   ]
  },
  {
   "cell_type": "code",
   "execution_count": 37,
   "metadata": {},
   "outputs": [
    {
     "data": {
      "text/html": [
       "<div>\n",
       "<style scoped>\n",
       "    .dataframe tbody tr th:only-of-type {\n",
       "        vertical-align: middle;\n",
       "    }\n",
       "\n",
       "    .dataframe tbody tr th {\n",
       "        vertical-align: top;\n",
       "    }\n",
       "\n",
       "    .dataframe thead th {\n",
       "        text-align: right;\n",
       "    }\n",
       "</style>\n",
       "<table border=\"1\" class=\"dataframe\">\n",
       "  <thead>\n",
       "    <tr style=\"text-align: right;\">\n",
       "      <th></th>\n",
       "      <th></th>\n",
       "      <th>mb</th>\n",
       "    </tr>\n",
       "    <tr>\n",
       "      <th>user_id</th>\n",
       "      <th>month</th>\n",
       "      <th></th>\n",
       "    </tr>\n",
       "  </thead>\n",
       "  <tbody>\n",
       "    <tr>\n",
       "      <td rowspan=\"5\" valign=\"top\">1000</td>\n",
       "      <td>5</td>\n",
       "      <td>2253.49</td>\n",
       "    </tr>\n",
       "    <tr>\n",
       "      <td>6</td>\n",
       "      <td>23233.77</td>\n",
       "    </tr>\n",
       "    <tr>\n",
       "      <td>7</td>\n",
       "      <td>14003.64</td>\n",
       "    </tr>\n",
       "    <tr>\n",
       "      <td>8</td>\n",
       "      <td>14055.93</td>\n",
       "    </tr>\n",
       "    <tr>\n",
       "      <td>9</td>\n",
       "      <td>14568.91</td>\n",
       "    </tr>\n",
       "    <tr>\n",
       "      <td>...</td>\n",
       "      <td>...</td>\n",
       "      <td>...</td>\n",
       "    </tr>\n",
       "    <tr>\n",
       "      <td>1498</td>\n",
       "      <td>10</td>\n",
       "      <td>20579.36</td>\n",
       "    </tr>\n",
       "    <tr>\n",
       "      <td rowspan=\"4\" valign=\"top\">1499</td>\n",
       "      <td>9</td>\n",
       "      <td>1845.75</td>\n",
       "    </tr>\n",
       "    <tr>\n",
       "      <td>10</td>\n",
       "      <td>17788.51</td>\n",
       "    </tr>\n",
       "    <tr>\n",
       "      <td>11</td>\n",
       "      <td>17963.31</td>\n",
       "    </tr>\n",
       "    <tr>\n",
       "      <td>12</td>\n",
       "      <td>13055.58</td>\n",
       "    </tr>\n",
       "  </tbody>\n",
       "</table>\n",
       "<p>3203 rows × 1 columns</p>\n",
       "</div>"
      ],
      "text/plain": [
       "                     mb\n",
       "user_id month          \n",
       "1000    5       2253.49\n",
       "        6      23233.77\n",
       "        7      14003.64\n",
       "        8      14055.93\n",
       "        9      14568.91\n",
       "...                 ...\n",
       "1498    10     20579.36\n",
       "1499    9       1845.75\n",
       "        10     17788.51\n",
       "        11     17963.31\n",
       "        12     13055.58\n",
       "\n",
       "[3203 rows x 1 columns]"
      ]
     },
     "execution_count": 37,
     "metadata": {},
     "output_type": "execute_result"
    }
   ],
   "source": [
    "internet_in_month = internet.pivot_table( #Сводная таблица объема  интернет-трафика по месяцам\n",
    "    index=['user_id', 'month'],\n",
    "    values='mb_used',\n",
    "    aggfunc='sum'\n",
    ")\n",
    "internet_in_month.columns = ['mb']\n",
    "internet_in_month"
   ]
  },
  {
   "cell_type": "code",
   "execution_count": 38,
   "metadata": {},
   "outputs": [
    {
     "data": {
      "text/html": [
       "<div>\n",
       "<style scoped>\n",
       "    .dataframe tbody tr th:only-of-type {\n",
       "        vertical-align: middle;\n",
       "    }\n",
       "\n",
       "    .dataframe tbody tr th {\n",
       "        vertical-align: top;\n",
       "    }\n",
       "\n",
       "    .dataframe thead th {\n",
       "        text-align: right;\n",
       "    }\n",
       "</style>\n",
       "<table border=\"1\" class=\"dataframe\">\n",
       "  <thead>\n",
       "    <tr style=\"text-align: right;\">\n",
       "      <th></th>\n",
       "      <th>id</th>\n",
       "      <th>mb_used</th>\n",
       "      <th>session_date</th>\n",
       "      <th>user_id</th>\n",
       "      <th>month</th>\n",
       "      <th>gb_used</th>\n",
       "    </tr>\n",
       "  </thead>\n",
       "  <tbody>\n",
       "    <tr>\n",
       "      <td>0</td>\n",
       "      <td>1000_0</td>\n",
       "      <td>112.95</td>\n",
       "      <td>2018-11-25</td>\n",
       "      <td>1000</td>\n",
       "      <td>11</td>\n",
       "      <td>1.0</td>\n",
       "    </tr>\n",
       "    <tr>\n",
       "      <td>1</td>\n",
       "      <td>1000_1</td>\n",
       "      <td>1052.81</td>\n",
       "      <td>2018-09-07</td>\n",
       "      <td>1000</td>\n",
       "      <td>9</td>\n",
       "      <td>2.0</td>\n",
       "    </tr>\n",
       "    <tr>\n",
       "      <td>2</td>\n",
       "      <td>1000_2</td>\n",
       "      <td>1197.26</td>\n",
       "      <td>2018-06-25</td>\n",
       "      <td>1000</td>\n",
       "      <td>6</td>\n",
       "      <td>2.0</td>\n",
       "    </tr>\n",
       "    <tr>\n",
       "      <td>3</td>\n",
       "      <td>1000_3</td>\n",
       "      <td>550.27</td>\n",
       "      <td>2018-08-22</td>\n",
       "      <td>1000</td>\n",
       "      <td>8</td>\n",
       "      <td>1.0</td>\n",
       "    </tr>\n",
       "    <tr>\n",
       "      <td>4</td>\n",
       "      <td>1000_4</td>\n",
       "      <td>302.56</td>\n",
       "      <td>2018-09-24</td>\n",
       "      <td>1000</td>\n",
       "      <td>9</td>\n",
       "      <td>1.0</td>\n",
       "    </tr>\n",
       "    <tr>\n",
       "      <td>5</td>\n",
       "      <td>1000_5</td>\n",
       "      <td>399.97</td>\n",
       "      <td>2018-10-02</td>\n",
       "      <td>1000</td>\n",
       "      <td>10</td>\n",
       "      <td>1.0</td>\n",
       "    </tr>\n",
       "    <tr>\n",
       "      <td>6</td>\n",
       "      <td>1000_6</td>\n",
       "      <td>540.08</td>\n",
       "      <td>2018-09-07</td>\n",
       "      <td>1000</td>\n",
       "      <td>9</td>\n",
       "      <td>1.0</td>\n",
       "    </tr>\n",
       "    <tr>\n",
       "      <td>7</td>\n",
       "      <td>1000_7</td>\n",
       "      <td>415.70</td>\n",
       "      <td>2018-07-11</td>\n",
       "      <td>1000</td>\n",
       "      <td>7</td>\n",
       "      <td>1.0</td>\n",
       "    </tr>\n",
       "    <tr>\n",
       "      <td>8</td>\n",
       "      <td>1000_8</td>\n",
       "      <td>505.40</td>\n",
       "      <td>2018-10-08</td>\n",
       "      <td>1000</td>\n",
       "      <td>10</td>\n",
       "      <td>1.0</td>\n",
       "    </tr>\n",
       "    <tr>\n",
       "      <td>9</td>\n",
       "      <td>1000_9</td>\n",
       "      <td>345.54</td>\n",
       "      <td>2018-09-03</td>\n",
       "      <td>1000</td>\n",
       "      <td>9</td>\n",
       "      <td>1.0</td>\n",
       "    </tr>\n",
       "    <tr>\n",
       "      <td>10</td>\n",
       "      <td>1000_10</td>\n",
       "      <td>385.14</td>\n",
       "      <td>2018-09-27</td>\n",
       "      <td>1000</td>\n",
       "      <td>9</td>\n",
       "      <td>1.0</td>\n",
       "    </tr>\n",
       "    <tr>\n",
       "      <td>11</td>\n",
       "      <td>1000_11</td>\n",
       "      <td>0.00</td>\n",
       "      <td>2018-08-28</td>\n",
       "      <td>1000</td>\n",
       "      <td>8</td>\n",
       "      <td>1.0</td>\n",
       "    </tr>\n",
       "    <tr>\n",
       "      <td>12</td>\n",
       "      <td>1000_12</td>\n",
       "      <td>375.87</td>\n",
       "      <td>2018-06-20</td>\n",
       "      <td>1000</td>\n",
       "      <td>6</td>\n",
       "      <td>1.0</td>\n",
       "    </tr>\n",
       "    <tr>\n",
       "      <td>13</td>\n",
       "      <td>1000_13</td>\n",
       "      <td>393.83</td>\n",
       "      <td>2018-08-09</td>\n",
       "      <td>1000</td>\n",
       "      <td>8</td>\n",
       "      <td>1.0</td>\n",
       "    </tr>\n",
       "    <tr>\n",
       "      <td>14</td>\n",
       "      <td>1000_14</td>\n",
       "      <td>180.64</td>\n",
       "      <td>2018-08-11</td>\n",
       "      <td>1000</td>\n",
       "      <td>8</td>\n",
       "      <td>1.0</td>\n",
       "    </tr>\n",
       "  </tbody>\n",
       "</table>\n",
       "</div>"
      ],
      "text/plain": [
       "         id  mb_used session_date  user_id  month  gb_used\n",
       "0    1000_0   112.95   2018-11-25     1000     11      1.0\n",
       "1    1000_1  1052.81   2018-09-07     1000      9      2.0\n",
       "2    1000_2  1197.26   2018-06-25     1000      6      2.0\n",
       "3    1000_3   550.27   2018-08-22     1000      8      1.0\n",
       "4    1000_4   302.56   2018-09-24     1000      9      1.0\n",
       "5    1000_5   399.97   2018-10-02     1000     10      1.0\n",
       "6    1000_6   540.08   2018-09-07     1000      9      1.0\n",
       "7    1000_7   415.70   2018-07-11     1000      7      1.0\n",
       "8    1000_8   505.40   2018-10-08     1000     10      1.0\n",
       "9    1000_9   345.54   2018-09-03     1000      9      1.0\n",
       "10  1000_10   385.14   2018-09-27     1000      9      1.0\n",
       "11  1000_11     0.00   2018-08-28     1000      8      1.0\n",
       "12  1000_12   375.87   2018-06-20     1000      6      1.0\n",
       "13  1000_13   393.83   2018-08-09     1000      8      1.0\n",
       "14  1000_14   180.64   2018-08-11     1000      8      1.0"
      ]
     },
     "execution_count": 38,
     "metadata": {},
     "output_type": "execute_result"
    }
   ],
   "source": [
    "internet['gb_used'] = (internet['mb_used'] / 1024)#в таблице с интернет-трафиком для дальнейшего анализа \n",
    "                                                            #переведем мб в гб и округлим в бОльшую сторону\n",
    "\n",
    "internet['gb_used'] = internet['gb_used'].apply(np.ceil)\n",
    "internet['gb_used'].where(internet['gb_used'] > 0, 1, inplace=True)  \n",
    "internet.head(15)\n",
    "\n"
   ]
  },
  {
   "cell_type": "code",
   "execution_count": 39,
   "metadata": {},
   "outputs": [
    {
     "data": {
      "text/plain": [
       "array([[<matplotlib.axes._subplots.AxesSubplot object at 0x7f4cd9833250>]],\n",
       "      dtype=object)"
      ]
     },
     "execution_count": 39,
     "metadata": {},
     "output_type": "execute_result"
    },
    {
     "data": {
      "image/png": "[encoded data removed]",
      "text/plain": [
       "<Figure size 432x288 with 1 Axes>"
      ]
     },
     "metadata": {
      "needs_background": "light"
     },
     "output_type": "display_data"
    }
   ],
   "source": [
    "internet.hist('mb_used', bins=5)"
   ]
  },
  {
   "cell_type": "markdown",
   "metadata": {},
   "source": [
    "В процессе обработки данных нашли следующие ошибки:\n",
    "в таблице internet был найден некорректный столбец Unnamed: 0 - удален\n",
    "\n",
    "формат столбцов с датами был некорректным - исправлен формат\n",
    "\n",
    "длительность многих звонков — 0.0 минут. Это могут быть пропущенные звонки либо звонки, когда клиент не дозвонился до адресата. Оставлены как есть. Они никак не повлияют на сумму использованных минут.\n",
    "\n",
    "Про построенным гистограммам наблюддаем, что критически выделяющихся значенй в данных нет. "
   ]
  },
  {
   "cell_type": "markdown",
   "metadata": {},
   "source": [
    " Помесячная выручка: "
   ]
  },
  {
   "cell_type": "code",
   "execution_count": 40,
   "metadata": {},
   "outputs": [
    {
     "data": {
      "text/html": [
       "<div>\n",
       "<style scoped>\n",
       "    .dataframe tbody tr th:only-of-type {\n",
       "        vertical-align: middle;\n",
       "    }\n",
       "\n",
       "    .dataframe tbody tr th {\n",
       "        vertical-align: top;\n",
       "    }\n",
       "\n",
       "    .dataframe thead th {\n",
       "        text-align: right;\n",
       "    }\n",
       "</style>\n",
       "<table border=\"1\" class=\"dataframe\">\n",
       "  <thead>\n",
       "    <tr style=\"text-align: right;\">\n",
       "      <th></th>\n",
       "      <th>user_id</th>\n",
       "      <th>month</th>\n",
       "      <th>calls</th>\n",
       "      <th>duration</th>\n",
       "      <th>num_messages</th>\n",
       "      <th>mb</th>\n",
       "      <th>tariff</th>\n",
       "    </tr>\n",
       "  </thead>\n",
       "  <tbody>\n",
       "    <tr>\n",
       "      <td>0</td>\n",
       "      <td>1000</td>\n",
       "      <td>5</td>\n",
       "      <td>22.0</td>\n",
       "      <td>159.0</td>\n",
       "      <td>22.0</td>\n",
       "      <td>2253.49</td>\n",
       "      <td>ultra</td>\n",
       "    </tr>\n",
       "    <tr>\n",
       "      <td>1</td>\n",
       "      <td>1000</td>\n",
       "      <td>6</td>\n",
       "      <td>43.0</td>\n",
       "      <td>172.0</td>\n",
       "      <td>60.0</td>\n",
       "      <td>23233.77</td>\n",
       "      <td>ultra</td>\n",
       "    </tr>\n",
       "    <tr>\n",
       "      <td>2</td>\n",
       "      <td>1000</td>\n",
       "      <td>7</td>\n",
       "      <td>47.0</td>\n",
       "      <td>340.0</td>\n",
       "      <td>75.0</td>\n",
       "      <td>14003.64</td>\n",
       "      <td>ultra</td>\n",
       "    </tr>\n",
       "    <tr>\n",
       "      <td>3</td>\n",
       "      <td>1000</td>\n",
       "      <td>8</td>\n",
       "      <td>52.0</td>\n",
       "      <td>408.0</td>\n",
       "      <td>81.0</td>\n",
       "      <td>14055.93</td>\n",
       "      <td>ultra</td>\n",
       "    </tr>\n",
       "    <tr>\n",
       "      <td>4</td>\n",
       "      <td>1000</td>\n",
       "      <td>9</td>\n",
       "      <td>58.0</td>\n",
       "      <td>466.0</td>\n",
       "      <td>57.0</td>\n",
       "      <td>14568.91</td>\n",
       "      <td>ultra</td>\n",
       "    </tr>\n",
       "    <tr>\n",
       "      <td>...</td>\n",
       "      <td>...</td>\n",
       "      <td>...</td>\n",
       "      <td>...</td>\n",
       "      <td>...</td>\n",
       "      <td>...</td>\n",
       "      <td>...</td>\n",
       "      <td>...</td>\n",
       "    </tr>\n",
       "    <tr>\n",
       "      <td>3209</td>\n",
       "      <td>1489</td>\n",
       "      <td>9</td>\n",
       "      <td>NaN</td>\n",
       "      <td>NaN</td>\n",
       "      <td>32.0</td>\n",
       "      <td>17206.30</td>\n",
       "      <td>smart</td>\n",
       "    </tr>\n",
       "    <tr>\n",
       "      <td>3210</td>\n",
       "      <td>1489</td>\n",
       "      <td>10</td>\n",
       "      <td>NaN</td>\n",
       "      <td>NaN</td>\n",
       "      <td>21.0</td>\n",
       "      <td>19559.44</td>\n",
       "      <td>smart</td>\n",
       "    </tr>\n",
       "    <tr>\n",
       "      <td>3211</td>\n",
       "      <td>1489</td>\n",
       "      <td>11</td>\n",
       "      <td>NaN</td>\n",
       "      <td>NaN</td>\n",
       "      <td>20.0</td>\n",
       "      <td>17491.56</td>\n",
       "      <td>smart</td>\n",
       "    </tr>\n",
       "    <tr>\n",
       "      <td>3212</td>\n",
       "      <td>1489</td>\n",
       "      <td>12</td>\n",
       "      <td>NaN</td>\n",
       "      <td>NaN</td>\n",
       "      <td>35.0</td>\n",
       "      <td>17322.51</td>\n",
       "      <td>smart</td>\n",
       "    </tr>\n",
       "    <tr>\n",
       "      <td>3213</td>\n",
       "      <td>1476</td>\n",
       "      <td>4</td>\n",
       "      <td>NaN</td>\n",
       "      <td>NaN</td>\n",
       "      <td>NaN</td>\n",
       "      <td>530.78</td>\n",
       "      <td>ultra</td>\n",
       "    </tr>\n",
       "  </tbody>\n",
       "</table>\n",
       "<p>3214 rows × 7 columns</p>\n",
       "</div>"
      ],
      "text/plain": [
       "      user_id  month  calls  duration  num_messages        mb tariff\n",
       "0        1000      5   22.0     159.0          22.0   2253.49  ultra\n",
       "1        1000      6   43.0     172.0          60.0  23233.77  ultra\n",
       "2        1000      7   47.0     340.0          75.0  14003.64  ultra\n",
       "3        1000      8   52.0     408.0          81.0  14055.93  ultra\n",
       "4        1000      9   58.0     466.0          57.0  14568.91  ultra\n",
       "...       ...    ...    ...       ...           ...       ...    ...\n",
       "3209     1489      9    NaN       NaN          32.0  17206.30  smart\n",
       "3210     1489     10    NaN       NaN          21.0  19559.44  smart\n",
       "3211     1489     11    NaN       NaN          20.0  17491.56  smart\n",
       "3212     1489     12    NaN       NaN          35.0  17322.51  smart\n",
       "3213     1476      4    NaN       NaN           NaN    530.78  ultra\n",
       "\n",
       "[3214 rows x 7 columns]"
      ]
     },
     "execution_count": 40,
     "metadata": {},
     "output_type": "execute_result"
    }
   ],
   "source": [
    "\n",
    "df_users = calls_in_month.merge(messages_in_month,  on=['user_id', 'month'], how='outer')# Объеденим звонки минуты гигобайты каждого пользователя,\n",
    "                                                                                         #и добавим тарифный план\n",
    "df_users = df_users.merge(internet_in_month,  on=['user_id', 'month'], how='outer')\n",
    "df_users = df_users.reset_index(drop=False)\n",
    "df_users = df_users.merge(users[['user_id', 'tariff']], on='user_id', how='left')\n",
    "df_users"
   ]
  },
  {
   "cell_type": "code",
   "execution_count": 41,
   "metadata": {},
   "outputs": [
    {
     "name": "stdout",
     "output_type": "stream",
     "text": [
      "<class 'pandas.core.frame.DataFrame'>\n",
      "Int64Index: 3214 entries, 0 to 3213\n",
      "Data columns (total 7 columns):\n",
      "user_id         3214 non-null int64\n",
      "month           3214 non-null int64\n",
      "calls           3214 non-null float64\n",
      "duration        3214 non-null float64\n",
      "num_messages    3214 non-null float64\n",
      "mb              3214 non-null float64\n",
      "tariff          3214 non-null object\n",
      "dtypes: float64(4), int64(2), object(1)\n",
      "memory usage: 200.9+ KB\n"
     ]
    }
   ],
   "source": [
    "df_users.loc[df_users['duration'].isna(), 'duration'] = 0# Заменим пропущенные значения на нули\n",
    "df_users.loc[df_users['calls'].isna(), 'calls'] = 0\n",
    "df_users.loc[df_users['num_messages'].isna(), 'num_messages'] = 0\n",
    "df_users.loc[df_users['mb'].isna(), 'mb'] = 0\n",
    "df_users.info()"
   ]
  },
  {
   "cell_type": "code",
   "execution_count": 42,
   "metadata": {},
   "outputs": [
    {
     "data": {
      "text/html": [
       "<div>\n",
       "<style scoped>\n",
       "    .dataframe tbody tr th:only-of-type {\n",
       "        vertical-align: middle;\n",
       "    }\n",
       "\n",
       "    .dataframe tbody tr th {\n",
       "        vertical-align: top;\n",
       "    }\n",
       "\n",
       "    .dataframe thead th {\n",
       "        text-align: right;\n",
       "    }\n",
       "</style>\n",
       "<table border=\"1\" class=\"dataframe\">\n",
       "  <thead>\n",
       "    <tr style=\"text-align: right;\">\n",
       "      <th></th>\n",
       "      <th>user_id</th>\n",
       "      <th>month</th>\n",
       "      <th>calls</th>\n",
       "      <th>duration</th>\n",
       "      <th>num_messages</th>\n",
       "      <th>mb</th>\n",
       "      <th>tariff</th>\n",
       "      <th>revenue</th>\n",
       "    </tr>\n",
       "  </thead>\n",
       "  <tbody>\n",
       "    <tr>\n",
       "      <td>0</td>\n",
       "      <td>1000</td>\n",
       "      <td>5</td>\n",
       "      <td>22.0</td>\n",
       "      <td>159.0</td>\n",
       "      <td>22.0</td>\n",
       "      <td>2253.49</td>\n",
       "      <td>ultra</td>\n",
       "      <td>1950.0</td>\n",
       "    </tr>\n",
       "    <tr>\n",
       "      <td>1</td>\n",
       "      <td>1000</td>\n",
       "      <td>6</td>\n",
       "      <td>43.0</td>\n",
       "      <td>172.0</td>\n",
       "      <td>60.0</td>\n",
       "      <td>23233.77</td>\n",
       "      <td>ultra</td>\n",
       "      <td>1950.0</td>\n",
       "    </tr>\n",
       "    <tr>\n",
       "      <td>2</td>\n",
       "      <td>1000</td>\n",
       "      <td>7</td>\n",
       "      <td>47.0</td>\n",
       "      <td>340.0</td>\n",
       "      <td>75.0</td>\n",
       "      <td>14003.64</td>\n",
       "      <td>ultra</td>\n",
       "      <td>1950.0</td>\n",
       "    </tr>\n",
       "    <tr>\n",
       "      <td>3</td>\n",
       "      <td>1000</td>\n",
       "      <td>8</td>\n",
       "      <td>52.0</td>\n",
       "      <td>408.0</td>\n",
       "      <td>81.0</td>\n",
       "      <td>14055.93</td>\n",
       "      <td>ultra</td>\n",
       "      <td>1950.0</td>\n",
       "    </tr>\n",
       "    <tr>\n",
       "      <td>4</td>\n",
       "      <td>1000</td>\n",
       "      <td>9</td>\n",
       "      <td>58.0</td>\n",
       "      <td>466.0</td>\n",
       "      <td>57.0</td>\n",
       "      <td>14568.91</td>\n",
       "      <td>ultra</td>\n",
       "      <td>1950.0</td>\n",
       "    </tr>\n",
       "    <tr>\n",
       "      <td>...</td>\n",
       "      <td>...</td>\n",
       "      <td>...</td>\n",
       "      <td>...</td>\n",
       "      <td>...</td>\n",
       "      <td>...</td>\n",
       "      <td>...</td>\n",
       "      <td>...</td>\n",
       "      <td>...</td>\n",
       "    </tr>\n",
       "    <tr>\n",
       "      <td>3209</td>\n",
       "      <td>1489</td>\n",
       "      <td>9</td>\n",
       "      <td>0.0</td>\n",
       "      <td>0.0</td>\n",
       "      <td>32.0</td>\n",
       "      <td>17206.30</td>\n",
       "      <td>smart</td>\n",
       "      <td>950.0</td>\n",
       "    </tr>\n",
       "    <tr>\n",
       "      <td>3210</td>\n",
       "      <td>1489</td>\n",
       "      <td>10</td>\n",
       "      <td>0.0</td>\n",
       "      <td>0.0</td>\n",
       "      <td>21.0</td>\n",
       "      <td>19559.44</td>\n",
       "      <td>smart</td>\n",
       "      <td>1550.0</td>\n",
       "    </tr>\n",
       "    <tr>\n",
       "      <td>3211</td>\n",
       "      <td>1489</td>\n",
       "      <td>11</td>\n",
       "      <td>0.0</td>\n",
       "      <td>0.0</td>\n",
       "      <td>20.0</td>\n",
       "      <td>17491.56</td>\n",
       "      <td>smart</td>\n",
       "      <td>1150.0</td>\n",
       "    </tr>\n",
       "    <tr>\n",
       "      <td>3212</td>\n",
       "      <td>1489</td>\n",
       "      <td>12</td>\n",
       "      <td>0.0</td>\n",
       "      <td>0.0</td>\n",
       "      <td>35.0</td>\n",
       "      <td>17322.51</td>\n",
       "      <td>smart</td>\n",
       "      <td>950.0</td>\n",
       "    </tr>\n",
       "    <tr>\n",
       "      <td>3213</td>\n",
       "      <td>1476</td>\n",
       "      <td>4</td>\n",
       "      <td>0.0</td>\n",
       "      <td>0.0</td>\n",
       "      <td>0.0</td>\n",
       "      <td>530.78</td>\n",
       "      <td>ultra</td>\n",
       "      <td>1950.0</td>\n",
       "    </tr>\n",
       "  </tbody>\n",
       "</table>\n",
       "<p>3214 rows × 8 columns</p>\n",
       "</div>"
      ],
      "text/plain": [
       "      user_id  month  calls  duration  num_messages        mb tariff  revenue\n",
       "0        1000      5   22.0     159.0          22.0   2253.49  ultra   1950.0\n",
       "1        1000      6   43.0     172.0          60.0  23233.77  ultra   1950.0\n",
       "2        1000      7   47.0     340.0          75.0  14003.64  ultra   1950.0\n",
       "3        1000      8   52.0     408.0          81.0  14055.93  ultra   1950.0\n",
       "4        1000      9   58.0     466.0          57.0  14568.91  ultra   1950.0\n",
       "...       ...    ...    ...       ...           ...       ...    ...      ...\n",
       "3209     1489      9    0.0       0.0          32.0  17206.30  smart    950.0\n",
       "3210     1489     10    0.0       0.0          21.0  19559.44  smart   1550.0\n",
       "3211     1489     11    0.0       0.0          20.0  17491.56  smart   1150.0\n",
       "3212     1489     12    0.0       0.0          35.0  17322.51  smart    950.0\n",
       "3213     1476      4    0.0       0.0           0.0    530.78  ultra   1950.0\n",
       "\n",
       "[3214 rows x 8 columns]"
      ]
     },
     "execution_count": 42,
     "metadata": {},
     "output_type": "execute_result"
    }
   ],
   "source": [
    "def revenue_calc(row):#Вычитаем бесплатный лимит из суммарного количества звонков, сообщений и интернет-трафика;\n",
    "    #остаток умножаем на значение из тарифного плана; прибавляем абонентскую плату, соответствующую тарифному плану.\n",
    "    duration = row['duration']\n",
    "    calls = row['calls']\n",
    "    num_messages = row['num_messages']\n",
    "    mb = row['mb']\n",
    "    tariff = row['tariff']\n",
    "    \n",
    "    if tariff == 'smart':\n",
    "        over_duration = duration - tariffs.loc[0, 'minutes_included']\n",
    "        over_mb = mb - tariffs.loc[0, 'mb_per_month_included']\n",
    "        over_messages = num_messages - tariffs.loc[0, 'messages_included']\n",
    "        \n",
    "        if over_duration < 0:\n",
    "            over_duration = 0\n",
    "        if over_mb < 0:\n",
    "            over_mb = 0\n",
    "        if over_messages < 0:\n",
    "            over_messages = 0\n",
    "        \n",
    "        return (tariffs.loc[0, 'rub_per_message'] * over_messages + \n",
    "                   tariffs.loc[0, 'rub_per_gb'] * ((over_mb - 1)//1024+1) + \n",
    "                   tariffs.loc[0, 'rub_per_minute'] * over_duration + \n",
    "                   tariffs.loc[0, 'rub_monthly_fee']\n",
    "                  ) \n",
    "    else:\n",
    "        over_duration = duration - tariffs.loc[1, 'minutes_included']\n",
    "        over_mb = mb - tariffs.loc[1, 'mb_per_month_included']\n",
    "        over_messages = num_messages - tariffs.loc[1, 'messages_included']\n",
    "        \n",
    "        if over_duration < 0:\n",
    "            over_duration = 0\n",
    "        if over_mb < 0:\n",
    "            over_mb = 0\n",
    "        if over_messages < 0:\n",
    "            over_messages = 0\n",
    "        \n",
    "        return (tariffs.loc[1, 'rub_per_message'] * over_messages + \n",
    "                   tariffs.loc[1, 'rub_per_gb'] * ((over_mb - 1)//1024+1) + \n",
    "                   tariffs.loc[1, 'rub_per_minute'] * over_duration + \n",
    "                   tariffs.loc[1, 'rub_monthly_fee']\n",
    "                  )\n",
    "df_users['revenue'] = df_users.apply(revenue_calc, axis=1)\n",
    "df_users"
   ]
  },
  {
   "cell_type": "markdown",
   "metadata": {},
   "source": [
    "# Вывод:\n",
    "Привели данные к нужным типам, нашли и исправили ошибки.Провели  вычисления для каждого пользователя."
   ]
  },
  {
   "cell_type": "markdown",
   "metadata": {},
   "source": [
    "# Шаг 3. Проанализируйте данные"
   ]
  },
  {
   "cell_type": "markdown",
   "metadata": {},
   "source": [
    "Опишем поведение клиентов оператора, исходя из выборки. Сколько минут разговора, сколько сообщений и какой объём интернет-трафика требуется пользователям каждого тарифа в месяц?"
   ]
  },
  {
   "cell_type": "markdown",
   "metadata": {},
   "source": [
    "### Звонки\n",
    "\n"
   ]
  },
  {
   "cell_type": "code",
   "execution_count": 43,
   "metadata": {},
   "outputs": [
    {
     "data": {
      "text/html": [
       "<div>\n",
       "<style scoped>\n",
       "    .dataframe tbody tr th:only-of-type {\n",
       "        vertical-align: middle;\n",
       "    }\n",
       "\n",
       "    .dataframe tbody tr th {\n",
       "        vertical-align: top;\n",
       "    }\n",
       "\n",
       "    .dataframe thead th {\n",
       "        text-align: right;\n",
       "    }\n",
       "</style>\n",
       "<table border=\"1\" class=\"dataframe\">\n",
       "  <thead>\n",
       "    <tr style=\"text-align: right;\">\n",
       "      <th></th>\n",
       "      <th>user_id</th>\n",
       "      <th>month</th>\n",
       "      <th>calls</th>\n",
       "      <th>duration</th>\n",
       "      <th>num_messages</th>\n",
       "      <th>mb</th>\n",
       "      <th>tariff</th>\n",
       "      <th>revenue</th>\n",
       "    </tr>\n",
       "  </thead>\n",
       "  <tbody>\n",
       "    <tr>\n",
       "      <td>8</td>\n",
       "      <td>1001</td>\n",
       "      <td>11</td>\n",
       "      <td>59.0</td>\n",
       "      <td>430.0</td>\n",
       "      <td>0.0</td>\n",
       "      <td>18429.34</td>\n",
       "      <td>smart</td>\n",
       "      <td>1150.0</td>\n",
       "    </tr>\n",
       "    <tr>\n",
       "      <td>9</td>\n",
       "      <td>1001</td>\n",
       "      <td>12</td>\n",
       "      <td>63.0</td>\n",
       "      <td>414.0</td>\n",
       "      <td>0.0</td>\n",
       "      <td>14036.66</td>\n",
       "      <td>smart</td>\n",
       "      <td>550.0</td>\n",
       "    </tr>\n",
       "    <tr>\n",
       "      <td>10</td>\n",
       "      <td>1002</td>\n",
       "      <td>6</td>\n",
       "      <td>15.0</td>\n",
       "      <td>117.0</td>\n",
       "      <td>4.0</td>\n",
       "      <td>10856.82</td>\n",
       "      <td>smart</td>\n",
       "      <td>550.0</td>\n",
       "    </tr>\n",
       "    <tr>\n",
       "      <td>11</td>\n",
       "      <td>1002</td>\n",
       "      <td>7</td>\n",
       "      <td>26.0</td>\n",
       "      <td>214.0</td>\n",
       "      <td>11.0</td>\n",
       "      <td>17580.10</td>\n",
       "      <td>smart</td>\n",
       "      <td>1150.0</td>\n",
       "    </tr>\n",
       "    <tr>\n",
       "      <td>12</td>\n",
       "      <td>1002</td>\n",
       "      <td>8</td>\n",
       "      <td>42.0</td>\n",
       "      <td>289.0</td>\n",
       "      <td>13.0</td>\n",
       "      <td>20319.26</td>\n",
       "      <td>smart</td>\n",
       "      <td>1550.0</td>\n",
       "    </tr>\n",
       "    <tr>\n",
       "      <td>...</td>\n",
       "      <td>...</td>\n",
       "      <td>...</td>\n",
       "      <td>...</td>\n",
       "      <td>...</td>\n",
       "      <td>...</td>\n",
       "      <td>...</td>\n",
       "      <td>...</td>\n",
       "      <td>...</td>\n",
       "    </tr>\n",
       "    <tr>\n",
       "      <td>3208</td>\n",
       "      <td>1489</td>\n",
       "      <td>8</td>\n",
       "      <td>0.0</td>\n",
       "      <td>0.0</td>\n",
       "      <td>17.0</td>\n",
       "      <td>11050.56</td>\n",
       "      <td>smart</td>\n",
       "      <td>550.0</td>\n",
       "    </tr>\n",
       "    <tr>\n",
       "      <td>3209</td>\n",
       "      <td>1489</td>\n",
       "      <td>9</td>\n",
       "      <td>0.0</td>\n",
       "      <td>0.0</td>\n",
       "      <td>32.0</td>\n",
       "      <td>17206.30</td>\n",
       "      <td>smart</td>\n",
       "      <td>950.0</td>\n",
       "    </tr>\n",
       "    <tr>\n",
       "      <td>3210</td>\n",
       "      <td>1489</td>\n",
       "      <td>10</td>\n",
       "      <td>0.0</td>\n",
       "      <td>0.0</td>\n",
       "      <td>21.0</td>\n",
       "      <td>19559.44</td>\n",
       "      <td>smart</td>\n",
       "      <td>1550.0</td>\n",
       "    </tr>\n",
       "    <tr>\n",
       "      <td>3211</td>\n",
       "      <td>1489</td>\n",
       "      <td>11</td>\n",
       "      <td>0.0</td>\n",
       "      <td>0.0</td>\n",
       "      <td>20.0</td>\n",
       "      <td>17491.56</td>\n",
       "      <td>smart</td>\n",
       "      <td>1150.0</td>\n",
       "    </tr>\n",
       "    <tr>\n",
       "      <td>3212</td>\n",
       "      <td>1489</td>\n",
       "      <td>12</td>\n",
       "      <td>0.0</td>\n",
       "      <td>0.0</td>\n",
       "      <td>35.0</td>\n",
       "      <td>17322.51</td>\n",
       "      <td>smart</td>\n",
       "      <td>950.0</td>\n",
       "    </tr>\n",
       "  </tbody>\n",
       "</table>\n",
       "<p>2229 rows × 8 columns</p>\n",
       "</div>"
      ],
      "text/plain": [
       "      user_id  month  calls  duration  num_messages        mb tariff  revenue\n",
       "8        1001     11   59.0     430.0           0.0  18429.34  smart   1150.0\n",
       "9        1001     12   63.0     414.0           0.0  14036.66  smart    550.0\n",
       "10       1002      6   15.0     117.0           4.0  10856.82  smart    550.0\n",
       "11       1002      7   26.0     214.0          11.0  17580.10  smart   1150.0\n",
       "12       1002      8   42.0     289.0          13.0  20319.26  smart   1550.0\n",
       "...       ...    ...    ...       ...           ...       ...    ...      ...\n",
       "3208     1489      8    0.0       0.0          17.0  11050.56  smart    550.0\n",
       "3209     1489      9    0.0       0.0          32.0  17206.30  smart    950.0\n",
       "3210     1489     10    0.0       0.0          21.0  19559.44  smart   1550.0\n",
       "3211     1489     11    0.0       0.0          20.0  17491.56  smart   1150.0\n",
       "3212     1489     12    0.0       0.0          35.0  17322.51  smart    950.0\n",
       "\n",
       "[2229 rows x 8 columns]"
      ]
     },
     "execution_count": 43,
     "metadata": {},
     "output_type": "execute_result"
    }
   ],
   "source": [
    "df_users_call_smart = df_users.query('tariff == \"smart\"') # тариф Смарт\n",
    "df_users_call_smart\n",
    "\n"
   ]
  },
  {
   "cell_type": "code",
   "execution_count": 44,
   "metadata": {},
   "outputs": [
    {
     "data": {
      "text/plain": [
       "417.9349484073576"
      ]
     },
     "execution_count": 44,
     "metadata": {},
     "output_type": "execute_result"
    }
   ],
   "source": [
    "df_users_call_smart['duration'].mean()#посчитаем среднее количество минут\n",
    "\n"
   ]
  },
  {
   "cell_type": "code",
   "execution_count": 45,
   "metadata": {},
   "outputs": [
    {
     "data": {
      "text/plain": [
       "36219.31578434428"
      ]
     },
     "execution_count": 45,
     "metadata": {},
     "output_type": "execute_result"
    }
   ],
   "source": [
    "np.var(df_users_call_smart['duration'], ddof=1)#посчитаем дисперсию\n",
    "\n"
   ]
  },
  {
   "cell_type": "code",
   "execution_count": 46,
   "metadata": {},
   "outputs": [
    {
     "data": {
      "text/plain": [
       "190.31372988921288"
      ]
     },
     "execution_count": 46,
     "metadata": {},
     "output_type": "execute_result"
    }
   ],
   "source": [
    "np.std(df_users_call_smart['duration'], ddof=1)#посчитаем стандартное отклонение\n"
   ]
  },
  {
   "cell_type": "code",
   "execution_count": 47,
   "metadata": {},
   "outputs": [],
   "source": [
    "df_users_call_ultra = df_users.query('tariff == \"ultra\"')# то же самое, но с тарифом Ультра\n",
    "\n"
   ]
  },
  {
   "cell_type": "code",
   "execution_count": 48,
   "metadata": {},
   "outputs": [
    {
     "data": {
      "text/plain": [
       "526.6233502538071"
      ]
     },
     "execution_count": 48,
     "metadata": {},
     "output_type": "execute_result"
    }
   ],
   "source": [
    "\n",
    "df_users_call_ultra['duration'].mean()#посчитаем среднее количество минут\n",
    "\n"
   ]
  },
  {
   "cell_type": "code",
   "execution_count": 49,
   "metadata": {},
   "outputs": [
    {
     "data": {
      "text/plain": [
       "100873.63339730098"
      ]
     },
     "execution_count": 49,
     "metadata": {},
     "output_type": "execute_result"
    }
   ],
   "source": [
    "\n",
    "np.var(df_users_call_ultra['duration'], ddof=1)#дисперсию\n",
    "\n"
   ]
  },
  {
   "cell_type": "code",
   "execution_count": 50,
   "metadata": {},
   "outputs": [
    {
     "data": {
      "text/plain": [
       "317.6060978591264"
      ]
     },
     "execution_count": 50,
     "metadata": {},
     "output_type": "execute_result"
    }
   ],
   "source": [
    "\n",
    "np.std(df_users_call_ultra['duration'], ddof=1)#стандартное отклонение"
   ]
  },
  {
   "cell_type": "code",
   "execution_count": 51,
   "metadata": {},
   "outputs": [
    {
     "data": {
      "text/plain": [
       "Text(0.5, 1.0, 'Гистограмма звонков')"
      ]
     },
     "execution_count": 51,
     "metadata": {},
     "output_type": "execute_result"
    },
    {
     "data": {
      "image/png": "[encoded data removed]",
      "text/plain": [
       "<Figure size 432x288 with 1 Axes>"
      ]
     },
     "metadata": {
      "needs_background": "light"
     },
     "output_type": "display_data"
    }
   ],
   "source": [
    "smart = df_users.query(\"tariff == 'smart'\")\n",
    "ultra = df_users.query(\"tariff == 'ultra'\")\n",
    "sns.distplot(smart['duration'], kde=False)\n",
    "sns.distplot(ultra['duration'], kde=False)\n",
    "plt.legend(['smart', 'ultra'])\n",
    "plt.xlabel('количество минут')\n",
    "plt.ylabel('количество пользователей')\n",
    "plt.title('Гистограмма звонков')"
   ]
  },
  {
   "cell_type": "markdown",
   "metadata": {},
   "source": [
    "Распределение гистограммы по тарифу Смарт можно назвать нормальным, видно, что большая часть значений действительно лежит в промежутке, который мы выявили ранее. Абсолютное большинство абонентов тарифа smart используют от 175  до 620 минут звонков в месяц.\n",
    "\n",
    "Гистограмма по тарифу Ультра скошена вправо. Это говорит о том, что значение медианы меньше среднего, значит, есть ряд высоких значений, которые влияют на среднее, но не влияют на медиану. Видим, что основная масса пользователей использует 400-650 минут в месяц."
   ]
  },
  {
   "cell_type": "markdown",
   "metadata": {},
   "source": [
    "### Cообщения\n"
   ]
  },
  {
   "cell_type": "code",
   "execution_count": 52,
   "metadata": {},
   "outputs": [
    {
     "data": {
      "text/html": [
       "<div>\n",
       "<style scoped>\n",
       "    .dataframe tbody tr th:only-of-type {\n",
       "        vertical-align: middle;\n",
       "    }\n",
       "\n",
       "    .dataframe tbody tr th {\n",
       "        vertical-align: top;\n",
       "    }\n",
       "\n",
       "    .dataframe thead th {\n",
       "        text-align: right;\n",
       "    }\n",
       "</style>\n",
       "<table border=\"1\" class=\"dataframe\">\n",
       "  <thead>\n",
       "    <tr style=\"text-align: right;\">\n",
       "      <th></th>\n",
       "      <th>user_id</th>\n",
       "      <th>month</th>\n",
       "      <th>calls</th>\n",
       "      <th>duration</th>\n",
       "      <th>num_messages</th>\n",
       "      <th>mb</th>\n",
       "      <th>tariff</th>\n",
       "      <th>revenue</th>\n",
       "    </tr>\n",
       "  </thead>\n",
       "  <tbody>\n",
       "    <tr>\n",
       "      <td>8</td>\n",
       "      <td>1001</td>\n",
       "      <td>11</td>\n",
       "      <td>59.0</td>\n",
       "      <td>430.0</td>\n",
       "      <td>0.0</td>\n",
       "      <td>18429.34</td>\n",
       "      <td>smart</td>\n",
       "      <td>1150.0</td>\n",
       "    </tr>\n",
       "    <tr>\n",
       "      <td>9</td>\n",
       "      <td>1001</td>\n",
       "      <td>12</td>\n",
       "      <td>63.0</td>\n",
       "      <td>414.0</td>\n",
       "      <td>0.0</td>\n",
       "      <td>14036.66</td>\n",
       "      <td>smart</td>\n",
       "      <td>550.0</td>\n",
       "    </tr>\n",
       "    <tr>\n",
       "      <td>10</td>\n",
       "      <td>1002</td>\n",
       "      <td>6</td>\n",
       "      <td>15.0</td>\n",
       "      <td>117.0</td>\n",
       "      <td>4.0</td>\n",
       "      <td>10856.82</td>\n",
       "      <td>smart</td>\n",
       "      <td>550.0</td>\n",
       "    </tr>\n",
       "    <tr>\n",
       "      <td>11</td>\n",
       "      <td>1002</td>\n",
       "      <td>7</td>\n",
       "      <td>26.0</td>\n",
       "      <td>214.0</td>\n",
       "      <td>11.0</td>\n",
       "      <td>17580.10</td>\n",
       "      <td>smart</td>\n",
       "      <td>1150.0</td>\n",
       "    </tr>\n",
       "    <tr>\n",
       "      <td>12</td>\n",
       "      <td>1002</td>\n",
       "      <td>8</td>\n",
       "      <td>42.0</td>\n",
       "      <td>289.0</td>\n",
       "      <td>13.0</td>\n",
       "      <td>20319.26</td>\n",
       "      <td>smart</td>\n",
       "      <td>1550.0</td>\n",
       "    </tr>\n",
       "    <tr>\n",
       "      <td>...</td>\n",
       "      <td>...</td>\n",
       "      <td>...</td>\n",
       "      <td>...</td>\n",
       "      <td>...</td>\n",
       "      <td>...</td>\n",
       "      <td>...</td>\n",
       "      <td>...</td>\n",
       "      <td>...</td>\n",
       "    </tr>\n",
       "    <tr>\n",
       "      <td>3208</td>\n",
       "      <td>1489</td>\n",
       "      <td>8</td>\n",
       "      <td>0.0</td>\n",
       "      <td>0.0</td>\n",
       "      <td>17.0</td>\n",
       "      <td>11050.56</td>\n",
       "      <td>smart</td>\n",
       "      <td>550.0</td>\n",
       "    </tr>\n",
       "    <tr>\n",
       "      <td>3209</td>\n",
       "      <td>1489</td>\n",
       "      <td>9</td>\n",
       "      <td>0.0</td>\n",
       "      <td>0.0</td>\n",
       "      <td>32.0</td>\n",
       "      <td>17206.30</td>\n",
       "      <td>smart</td>\n",
       "      <td>950.0</td>\n",
       "    </tr>\n",
       "    <tr>\n",
       "      <td>3210</td>\n",
       "      <td>1489</td>\n",
       "      <td>10</td>\n",
       "      <td>0.0</td>\n",
       "      <td>0.0</td>\n",
       "      <td>21.0</td>\n",
       "      <td>19559.44</td>\n",
       "      <td>smart</td>\n",
       "      <td>1550.0</td>\n",
       "    </tr>\n",
       "    <tr>\n",
       "      <td>3211</td>\n",
       "      <td>1489</td>\n",
       "      <td>11</td>\n",
       "      <td>0.0</td>\n",
       "      <td>0.0</td>\n",
       "      <td>20.0</td>\n",
       "      <td>17491.56</td>\n",
       "      <td>smart</td>\n",
       "      <td>1150.0</td>\n",
       "    </tr>\n",
       "    <tr>\n",
       "      <td>3212</td>\n",
       "      <td>1489</td>\n",
       "      <td>12</td>\n",
       "      <td>0.0</td>\n",
       "      <td>0.0</td>\n",
       "      <td>35.0</td>\n",
       "      <td>17322.51</td>\n",
       "      <td>smart</td>\n",
       "      <td>950.0</td>\n",
       "    </tr>\n",
       "  </tbody>\n",
       "</table>\n",
       "<p>2229 rows × 8 columns</p>\n",
       "</div>"
      ],
      "text/plain": [
       "      user_id  month  calls  duration  num_messages        mb tariff  revenue\n",
       "8        1001     11   59.0     430.0           0.0  18429.34  smart   1150.0\n",
       "9        1001     12   63.0     414.0           0.0  14036.66  smart    550.0\n",
       "10       1002      6   15.0     117.0           4.0  10856.82  smart    550.0\n",
       "11       1002      7   26.0     214.0          11.0  17580.10  smart   1150.0\n",
       "12       1002      8   42.0     289.0          13.0  20319.26  smart   1550.0\n",
       "...       ...    ...    ...       ...           ...       ...    ...      ...\n",
       "3208     1489      8    0.0       0.0          17.0  11050.56  smart    550.0\n",
       "3209     1489      9    0.0       0.0          32.0  17206.30  smart    950.0\n",
       "3210     1489     10    0.0       0.0          21.0  19559.44  smart   1550.0\n",
       "3211     1489     11    0.0       0.0          20.0  17491.56  smart   1150.0\n",
       "3212     1489     12    0.0       0.0          35.0  17322.51  smart    950.0\n",
       "\n",
       "[2229 rows x 8 columns]"
      ]
     },
     "execution_count": 52,
     "metadata": {},
     "output_type": "execute_result"
    }
   ],
   "source": [
    "df_users_message_smart = df_users.query('tariff == \"smart\"')# тариф Смарт\n",
    "df_users_message_smart"
   ]
  },
  {
   "cell_type": "code",
   "execution_count": 53,
   "metadata": {},
   "outputs": [
    {
     "data": {
      "text/plain": [
       "33.384028712427096"
      ]
     },
     "execution_count": 53,
     "metadata": {},
     "output_type": "execute_result"
    }
   ],
   "source": [
    "#посчитаем среднее количество сообщений в месяц для пользователей Смарт\n",
    "df_users_message_smart['num_messages'].mean()"
   ]
  },
  {
   "cell_type": "code",
   "execution_count": 54,
   "metadata": {},
   "outputs": [
    {
     "data": {
      "text/plain": [
       "796.8129584480083"
      ]
     },
     "execution_count": 54,
     "metadata": {},
     "output_type": "execute_result"
    }
   ],
   "source": [
    "#посчитаем дисперсию\n",
    "np.var(df_users_message_smart['num_messages'], ddof=1)"
   ]
  },
  {
   "cell_type": "code",
   "execution_count": 55,
   "metadata": {},
   "outputs": [
    {
     "data": {
      "text/plain": [
       "28.22787555676141"
      ]
     },
     "execution_count": 55,
     "metadata": {},
     "output_type": "execute_result"
    }
   ],
   "source": [
    "#стандартное отклонение\n",
    "np.std(df_users_message_smart['num_messages'], ddof=1)\n"
   ]
  },
  {
   "cell_type": "code",
   "execution_count": 56,
   "metadata": {},
   "outputs": [],
   "source": [
    "df_users_message_ultra = df_users.query('tariff == \"ultra\"')#то же самое, но с тарифом Ультра\n",
    "\n"
   ]
  },
  {
   "cell_type": "code",
   "execution_count": 57,
   "metadata": {},
   "outputs": [
    {
     "data": {
      "text/plain": [
       "49.36345177664975"
      ]
     },
     "execution_count": 57,
     "metadata": {},
     "output_type": "execute_result"
    }
   ],
   "source": [
    "#посчитаем среднее количество сообщений в месяц для пользователей Ультра\n",
    "df_users_message_ultra['num_messages'].mean()"
   ]
  },
  {
   "cell_type": "code",
   "execution_count": 58,
   "metadata": {},
   "outputs": [
    {
     "data": {
      "text/plain": [
       "2285.2661425446736"
      ]
     },
     "execution_count": 58,
     "metadata": {},
     "output_type": "execute_result"
    }
   ],
   "source": [
    "#дисперсию\n",
    "np.var(df_users_message_ultra['num_messages'], ddof=1)"
   ]
  },
  {
   "cell_type": "code",
   "execution_count": 59,
   "metadata": {},
   "outputs": [
    {
     "data": {
      "text/plain": [
       "47.804457350174715"
      ]
     },
     "execution_count": 59,
     "metadata": {},
     "output_type": "execute_result"
    }
   ],
   "source": [
    "#среднее отклонение\n",
    "np.std(df_users_message_ultra['num_messages'], ddof=1)"
   ]
  },
  {
   "cell_type": "code",
   "execution_count": 60,
   "metadata": {},
   "outputs": [
    {
     "data": {
      "text/plain": [
       "Text(0.5, 1.0, 'Гистограмма сообщений')"
      ]
     },
     "execution_count": 60,
     "metadata": {},
     "output_type": "execute_result"
    },
    {
     "data": {
      "image/png": "[encoded data removed]",
      "text/plain": [
       "<Figure size 432x288 with 1 Axes>"
      ]
     },
     "metadata": {
      "needs_background": "light"
     },
     "output_type": "display_data"
    }
   ],
   "source": [
    "smart = df_users.query(\"tariff == 'smart'\")\n",
    "ultra = df_users.query(\"tariff == 'ultra'\")\n",
    "sns.distplot(smart['num_messages'], kde=False)\n",
    "sns.distplot(ultra['num_messages'], kde=False)\n",
    "plt.legend(['smart', 'ultra'])\n",
    "plt.xlabel('количество сообщений')\n",
    "plt.ylabel('количество пользователей')\n",
    "plt.title('Гистограмма сообщений')"
   ]
  },
  {
   "cell_type": "markdown",
   "metadata": {},
   "source": [
    "Отображенные гистаграммы показывают, что дисперсия по \"Ультра\" больше, чем у пользователей с тарифом \"Смарт\". Пользователи тарифа Смарт явно себя ограничивают\n",
    "\n",
    "Основная масса пользователей ultra использует еще меньше сообщений, чем в smart. Однако, опять-таки, есть и те, кто отправляет 100 и больше сообщений. Но лимита в 1000 сообщений не достигает никто."
   ]
  },
  {
   "cell_type": "markdown",
   "metadata": {},
   "source": [
    "### Интернет траффик "
   ]
  },
  {
   "cell_type": "code",
   "execution_count": 61,
   "metadata": {},
   "outputs": [
    {
     "data": {
      "text/html": [
       "<div>\n",
       "<style scoped>\n",
       "    .dataframe tbody tr th:only-of-type {\n",
       "        vertical-align: middle;\n",
       "    }\n",
       "\n",
       "    .dataframe tbody tr th {\n",
       "        vertical-align: top;\n",
       "    }\n",
       "\n",
       "    .dataframe thead th {\n",
       "        text-align: right;\n",
       "    }\n",
       "</style>\n",
       "<table border=\"1\" class=\"dataframe\">\n",
       "  <thead>\n",
       "    <tr style=\"text-align: right;\">\n",
       "      <th></th>\n",
       "      <th>user_id</th>\n",
       "      <th>month</th>\n",
       "      <th>calls</th>\n",
       "      <th>duration</th>\n",
       "      <th>num_messages</th>\n",
       "      <th>mb</th>\n",
       "      <th>tariff</th>\n",
       "      <th>revenue</th>\n",
       "    </tr>\n",
       "  </thead>\n",
       "  <tbody>\n",
       "    <tr>\n",
       "      <td>8</td>\n",
       "      <td>1001</td>\n",
       "      <td>11</td>\n",
       "      <td>59.0</td>\n",
       "      <td>430.0</td>\n",
       "      <td>0.0</td>\n",
       "      <td>18429.34</td>\n",
       "      <td>smart</td>\n",
       "      <td>1150.0</td>\n",
       "    </tr>\n",
       "    <tr>\n",
       "      <td>9</td>\n",
       "      <td>1001</td>\n",
       "      <td>12</td>\n",
       "      <td>63.0</td>\n",
       "      <td>414.0</td>\n",
       "      <td>0.0</td>\n",
       "      <td>14036.66</td>\n",
       "      <td>smart</td>\n",
       "      <td>550.0</td>\n",
       "    </tr>\n",
       "    <tr>\n",
       "      <td>10</td>\n",
       "      <td>1002</td>\n",
       "      <td>6</td>\n",
       "      <td>15.0</td>\n",
       "      <td>117.0</td>\n",
       "      <td>4.0</td>\n",
       "      <td>10856.82</td>\n",
       "      <td>smart</td>\n",
       "      <td>550.0</td>\n",
       "    </tr>\n",
       "    <tr>\n",
       "      <td>11</td>\n",
       "      <td>1002</td>\n",
       "      <td>7</td>\n",
       "      <td>26.0</td>\n",
       "      <td>214.0</td>\n",
       "      <td>11.0</td>\n",
       "      <td>17580.10</td>\n",
       "      <td>smart</td>\n",
       "      <td>1150.0</td>\n",
       "    </tr>\n",
       "    <tr>\n",
       "      <td>12</td>\n",
       "      <td>1002</td>\n",
       "      <td>8</td>\n",
       "      <td>42.0</td>\n",
       "      <td>289.0</td>\n",
       "      <td>13.0</td>\n",
       "      <td>20319.26</td>\n",
       "      <td>smart</td>\n",
       "      <td>1550.0</td>\n",
       "    </tr>\n",
       "    <tr>\n",
       "      <td>...</td>\n",
       "      <td>...</td>\n",
       "      <td>...</td>\n",
       "      <td>...</td>\n",
       "      <td>...</td>\n",
       "      <td>...</td>\n",
       "      <td>...</td>\n",
       "      <td>...</td>\n",
       "      <td>...</td>\n",
       "    </tr>\n",
       "    <tr>\n",
       "      <td>3208</td>\n",
       "      <td>1489</td>\n",
       "      <td>8</td>\n",
       "      <td>0.0</td>\n",
       "      <td>0.0</td>\n",
       "      <td>17.0</td>\n",
       "      <td>11050.56</td>\n",
       "      <td>smart</td>\n",
       "      <td>550.0</td>\n",
       "    </tr>\n",
       "    <tr>\n",
       "      <td>3209</td>\n",
       "      <td>1489</td>\n",
       "      <td>9</td>\n",
       "      <td>0.0</td>\n",
       "      <td>0.0</td>\n",
       "      <td>32.0</td>\n",
       "      <td>17206.30</td>\n",
       "      <td>smart</td>\n",
       "      <td>950.0</td>\n",
       "    </tr>\n",
       "    <tr>\n",
       "      <td>3210</td>\n",
       "      <td>1489</td>\n",
       "      <td>10</td>\n",
       "      <td>0.0</td>\n",
       "      <td>0.0</td>\n",
       "      <td>21.0</td>\n",
       "      <td>19559.44</td>\n",
       "      <td>smart</td>\n",
       "      <td>1550.0</td>\n",
       "    </tr>\n",
       "    <tr>\n",
       "      <td>3211</td>\n",
       "      <td>1489</td>\n",
       "      <td>11</td>\n",
       "      <td>0.0</td>\n",
       "      <td>0.0</td>\n",
       "      <td>20.0</td>\n",
       "      <td>17491.56</td>\n",
       "      <td>smart</td>\n",
       "      <td>1150.0</td>\n",
       "    </tr>\n",
       "    <tr>\n",
       "      <td>3212</td>\n",
       "      <td>1489</td>\n",
       "      <td>12</td>\n",
       "      <td>0.0</td>\n",
       "      <td>0.0</td>\n",
       "      <td>35.0</td>\n",
       "      <td>17322.51</td>\n",
       "      <td>smart</td>\n",
       "      <td>950.0</td>\n",
       "    </tr>\n",
       "  </tbody>\n",
       "</table>\n",
       "<p>2229 rows × 8 columns</p>\n",
       "</div>"
      ],
      "text/plain": [
       "      user_id  month  calls  duration  num_messages        mb tariff  revenue\n",
       "8        1001     11   59.0     430.0           0.0  18429.34  smart   1150.0\n",
       "9        1001     12   63.0     414.0           0.0  14036.66  smart    550.0\n",
       "10       1002      6   15.0     117.0           4.0  10856.82  smart    550.0\n",
       "11       1002      7   26.0     214.0          11.0  17580.10  smart   1150.0\n",
       "12       1002      8   42.0     289.0          13.0  20319.26  smart   1550.0\n",
       "...       ...    ...    ...       ...           ...       ...    ...      ...\n",
       "3208     1489      8    0.0       0.0          17.0  11050.56  smart    550.0\n",
       "3209     1489      9    0.0       0.0          32.0  17206.30  smart    950.0\n",
       "3210     1489     10    0.0       0.0          21.0  19559.44  smart   1550.0\n",
       "3211     1489     11    0.0       0.0          20.0  17491.56  smart   1150.0\n",
       "3212     1489     12    0.0       0.0          35.0  17322.51  smart    950.0\n",
       "\n",
       "[2229 rows x 8 columns]"
      ]
     },
     "execution_count": 61,
     "metadata": {},
     "output_type": "execute_result"
    }
   ],
   "source": [
    "df_users_smart_mb = df_users.query('tariff == \"smart\"')# тариф Смарт\n",
    "df_users_smart_mb"
   ]
  },
  {
   "cell_type": "code",
   "execution_count": 62,
   "metadata": {},
   "outputs": [
    {
     "data": {
      "text/plain": [
       "16208.386989681472"
      ]
     },
     "execution_count": 62,
     "metadata": {},
     "output_type": "execute_result"
    }
   ],
   "source": [
    "#посчитаем среднее количество мегабайт в месяц для пользователей Смарт\n",
    "df_users_smart_mb['mb'].mean()"
   ]
  },
  {
   "cell_type": "code",
   "execution_count": 63,
   "metadata": {},
   "outputs": [
    {
     "data": {
      "text/plain": [
       "34462496.46274242"
      ]
     },
     "execution_count": 63,
     "metadata": {},
     "output_type": "execute_result"
    }
   ],
   "source": [
    "#дисперсию\n",
    "np.var(df_users_smart_mb['mb'], ddof=1)"
   ]
  },
  {
   "cell_type": "code",
   "execution_count": 64,
   "metadata": {},
   "outputs": [
    {
     "data": {
      "text/plain": [
       "5870.476681049199"
      ]
     },
     "execution_count": 64,
     "metadata": {},
     "output_type": "execute_result"
    }
   ],
   "source": [
    "#среднее отклонение\n",
    "np.std(df_users_smart_mb['mb'], ddof=1)"
   ]
  },
  {
   "cell_type": "code",
   "execution_count": 65,
   "metadata": {},
   "outputs": [],
   "source": [
    "df_users_ultra_mb = df_users.query('tariff == \"ultra\"')#то же самое, но с тарифом Ультра\n"
   ]
  },
  {
   "cell_type": "code",
   "execution_count": 66,
   "metadata": {},
   "outputs": [
    {
     "data": {
      "text/plain": [
       "19468.805208121827"
      ]
     },
     "execution_count": 66,
     "metadata": {},
     "output_type": "execute_result"
    }
   ],
   "source": [
    "#посчитаем среднее количество мегабайт в месяц для пользователей Ультра\n",
    "df_users_ultra_mb['mb'].mean()"
   ]
  },
  {
   "cell_type": "code",
   "execution_count": 67,
   "metadata": {},
   "outputs": [
    {
     "data": {
      "text/plain": [
       "101751013.78335385"
      ]
     },
     "execution_count": 67,
     "metadata": {},
     "output_type": "execute_result"
    }
   ],
   "source": [
    "#дисперсию\n",
    "np.var(df_users_ultra_mb['mb'], ddof=1)"
   ]
  },
  {
   "cell_type": "code",
   "execution_count": 68,
   "metadata": {},
   "outputs": [
    {
     "data": {
      "text/plain": [
       "10087.170752166034"
      ]
     },
     "execution_count": 68,
     "metadata": {},
     "output_type": "execute_result"
    }
   ],
   "source": [
    "#стандартное отклонение\n",
    "np.std(df_users_ultra_mb['mb'], ddof=1)"
   ]
  },
  {
   "cell_type": "code",
   "execution_count": 69,
   "metadata": {},
   "outputs": [
    {
     "data": {
      "text/plain": [
       "Text(0.5, 1.0, 'Гистограмма интернет траффика')"
      ]
     },
     "execution_count": 69,
     "metadata": {},
     "output_type": "execute_result"
    },
    {
     "data": {
      "image/png": "[encoded data removed]",
      "text/plain": [
       "<Figure size 432x288 with 1 Axes>"
      ]
     },
     "metadata": {
      "needs_background": "light"
     },
     "output_type": "display_data"
    }
   ],
   "source": [
    "smart = df_users.query(\"tariff == 'smart'\")\n",
    "ultra = df_users.query(\"tariff == 'ultra'\")\n",
    "sns.distplot(smart['mb'], kde=False)\n",
    "sns.distplot(ultra['mb'], kde=False)\n",
    "plt.legend(['smart', 'ultra'])\n",
    "plt.xlabel('количество мегабайт')\n",
    "plt.ylabel('количество пользователей')\n",
    "plt.title('Гистограмма интернет траффика')"
   ]
  },
  {
   "cell_type": "markdown",
   "metadata": {},
   "source": [
    "Пользователи тарифа ultra используют гораздо больше трафика, чем пользователи более дешевого тарифа. Можно предположить, что те, кто выбирает тариф ultra заинтересованы именно в более активном пользовании интернетом."
   ]
  },
  {
   "cell_type": "markdown",
   "metadata": {},
   "source": [
    "Выводы:\n",
    "Пользователи тарифа Ультра потребляют больше услуг и платят больше. Пользователям тарифа смарт не хватает выделенного объема услуг"
   ]
  },
  {
   "cell_type": "markdown",
   "metadata": {},
   "source": [
    "###  Посчитал дисперсию,среднее значение и стандартное отклонение исходя из данных предыдущей таблицы.В построении гистограмм так же использовал срезы из  таблицы   df_users\n"
   ]
  },
  {
   "cell_type": "markdown",
   "metadata": {},
   "source": [
    "## Вывод:\n",
    "Дисперсия тарифа Ультра больше, а медианы смещены в большую сторону. Этот тариф выгодее для оператора."
   ]
  },
  {
   "cell_type": "markdown",
   "metadata": {},
   "source": [
    "# Шаг 4. Проверка гипотез\n"
   ]
  },
  {
   "cell_type": "markdown",
   "metadata": {},
   "source": [
    "Cредняя выручка пользователей тарифов «Ультра» и «Смарт» различается.\n",
    "Формируем гимотезы:\n",
    "\n",
    "Нулевая гипотеза: H0 — Средняя выручка пользователей тарифов \"Ультра\" и \"Смарт\" равна\n",
    "\n",
    "Альтернативная гипотеза:H1 — Средняя выручка пользователей тарифов \"Ультра\" и \"Смарт\" различна\n",
    "\n",
    "Критический уровень статистической значимости 5%, можно брать и меньше, но есть риск отбросить работающую гипотезу."
   ]
  },
  {
   "cell_type": "code",
   "execution_count": 70,
   "metadata": {},
   "outputs": [
    {
     "name": "stdout",
     "output_type": "stream",
     "text": [
      "p-значение: 1.4229814360764067e-160\n",
      "Отвергаем нулевую гипотезу\n"
     ]
    }
   ],
   "source": [
    "alpha = 0.05 \n",
    "results = st.ttest_ind(\n",
    "    smart['revenue'], \n",
    "    ultra['revenue'])\n",
    "\n",
    "print('p-значение:', results.pvalue)\n",
    "\n",
    "if (results.pvalue < alpha):\n",
    "    print(\"Отвергаем нулевую гипотезу\")\n",
    "else:\n",
    "    print(\"Не получилось отвергнуть нулевую гипотезу\")   "
   ]
  },
  {
   "cell_type": "markdown",
   "metadata": {},
   "source": [
    "# Вывод:\n",
    "Вероятность очень близка к нулю. На основании полученных результатов, можем предположить, что \n",
    "средняя выручка пользователей тарифов «Ультра» и «Смарт»  различаются.\n",
    "\n",
    "\n",
    "\n"
   ]
  },
  {
   "cell_type": "markdown",
   "metadata": {},
   "source": [
    "Средняя выручка пользователей из Москвы отличается от выручки пользователей из других регионов\n",
    "\n",
    "Нулевая гипотеза:H0 — средняя выручка пользователей из Москвы равна средней выручке пользователей из регионов.\n",
    "\n",
    "Альтернативная гипотеза:H1 — средняя выручка пользователей из Москвы отличается от средней выручке пользователей из регионов.\n",
    "\n",
    "Критический уровень статистической значимости 5%\n"
   ]
  },
  {
   "cell_type": "code",
   "execution_count": 71,
   "metadata": {},
   "outputs": [
    {
     "name": "stdout",
     "output_type": "stream",
     "text": [
      "p-значение: 0.5440152911670224\n",
      "Не получилось отвергнуть нулевую гипотезу\n"
     ]
    }
   ],
   "source": [
    "df_users = df_users.merge(users[['user_id', 'city',]], on='user_id', how='left')\n",
    "moscow = df_users.query('city == \"Москва\"')['revenue']\n",
    "regions = df_users.query('city != \"Москва\"')['revenue']\n",
    "alpha = 0.05 \n",
    "results = st.ttest_ind(moscow, regions)\n",
    "\n",
    "print('p-значение:', results.pvalue)\n",
    "\n",
    "if (results.pvalue < alpha):\n",
    "    print(\"Отвергаем нулевую гипотезу\")\n",
    "else:\n",
    "    print(\"Не получилось отвергнуть нулевую гипотезу\")"
   ]
  },
  {
   "cell_type": "markdown",
   "metadata": {},
   "source": [
    "# Вывод:\n",
    "C вероятностью 59% - не получилось отвергнуть нулевую гипотезу. Это значит, что средняя выручка по Москве не отличается от выручки по другим регионам.\n"
   ]
  },
  {
   "cell_type": "code",
   "execution_count": 72,
   "metadata": {},
   "outputs": [
    {
     "data": {
      "text/plain": [
       "smart    351\n",
       "ultra    149\n",
       "Name: tariff, dtype: int64"
      ]
     },
     "execution_count": 72,
     "metadata": {},
     "output_type": "execute_result"
    }
   ],
   "source": [
    "users['tariff'].value_counts() #посчитаем колличество пользователей каждого тарифа"
   ]
  },
  {
   "cell_type": "markdown",
   "metadata": {},
   "source": [
    "# Общий вывод\n",
    "По результатам анализа для оператора доходы от тарифа «Ультра»(2062р.) больше, чем от тарифа «Смарт»(1330р.)\n",
    "\n",
    "Судя по гистограммам не все пользователи тарифа «Ультра» вырабатывают весь доступный лимит.\n",
    "\n",
    "Колличество пользователей таррифа «Смарт» больше в 2 раза, что можно объяснить более приемлемой ценой тарифа.\n",
    "\n",
    "Доплат по тарифу «Ультра» очень мало. В тарифе «Смарт» часто доплачивают за дополнительные пакеты гигобайт. \n",
    "\n",
    "Лимита на звонки и минуты в «Ультра» в среднем не достигает никто. При этом интернетом пользователи «Ультра» пользуются гораздо активнее. Скорее всего, пользователи ultra выбирают этот тариф из-за большего интернет-трафика.\n",
    "\n",
    "Средние доходы от пользователей в Москве не отличаются от доходов в других населенных пунктах\n",
    "\n",
    "Тариф «Ультра» приносит компании бОльшую выручку. Стоит сфокусироваться на его продвижении повсеместно.\n"
   ]
  }
 ],
 "metadata": {
  "ExecuteTimeLog": [
   {
    "duration": 1598,
    "start_time": "2022-01-29T15:52:20.649Z"
   },
   {
    "duration": 515,
    "start_time": "2022-01-29T15:55:33.191Z"
   },
   {
    "duration": 487,
    "start_time": "2022-01-29T15:56:21.836Z"
   },
   {
    "duration": 455,
    "start_time": "2022-01-29T15:56:44.484Z"
   },
   {
    "duration": 448,
    "start_time": "2022-01-29T15:58:19.784Z"
   },
   {
    "duration": 10,
    "start_time": "2022-01-29T15:58:49.429Z"
   },
   {
    "duration": 22,
    "start_time": "2022-01-29T15:59:11.221Z"
   },
   {
    "duration": 10,
    "start_time": "2022-01-29T15:59:45.376Z"
   },
   {
    "duration": 18,
    "start_time": "2022-01-29T16:00:22.075Z"
   },
   {
    "duration": 13,
    "start_time": "2022-01-29T16:01:18.597Z"
   },
   {
    "duration": 15,
    "start_time": "2022-01-29T16:01:34.673Z"
   },
   {
    "duration": 8,
    "start_time": "2022-01-29T16:02:03.527Z"
   },
   {
    "duration": 7,
    "start_time": "2022-01-29T16:02:24.126Z"
   },
   {
    "duration": 13,
    "start_time": "2022-01-29T16:03:12.334Z"
   },
   {
    "duration": 7,
    "start_time": "2022-01-29T16:03:36.233Z"
   },
   {
    "duration": 526,
    "start_time": "2022-01-29T16:13:40.668Z"
   },
   {
    "duration": 70,
    "start_time": "2022-01-29T16:17:20.561Z"
   },
   {
    "duration": 42,
    "start_time": "2022-01-29T16:21:42.117Z"
   },
   {
    "duration": 264,
    "start_time": "2022-01-29T16:25:32.827Z"
   },
   {
    "duration": 11,
    "start_time": "2022-01-29T16:26:06.429Z"
   },
   {
    "duration": 6,
    "start_time": "2022-01-29T16:29:33.083Z"
   },
   {
    "duration": 66,
    "start_time": "2022-01-29T16:46:33.489Z"
   },
   {
    "duration": 360,
    "start_time": "2022-01-30T05:11:45.563Z"
   },
   {
    "duration": 1447,
    "start_time": "2022-01-30T05:12:57.111Z"
   },
   {
    "duration": 64,
    "start_time": "2022-01-30T05:13:06.121Z"
   },
   {
    "duration": 34,
    "start_time": "2022-01-30T05:13:07.945Z"
   },
   {
    "duration": 9,
    "start_time": "2022-01-30T05:13:09.448Z"
   },
   {
    "duration": 8,
    "start_time": "2022-01-30T05:13:11.431Z"
   },
   {
    "duration": 58,
    "start_time": "2022-01-30T05:13:16.340Z"
   },
   {
    "duration": 355,
    "start_time": "2022-01-30T05:13:21.404Z"
   },
   {
    "duration": 348,
    "start_time": "2022-01-30T05:15:45.429Z"
   },
   {
    "duration": 330,
    "start_time": "2022-01-30T05:15:52.922Z"
   },
   {
    "duration": 369,
    "start_time": "2022-01-30T05:18:00.121Z"
   },
   {
    "duration": 57,
    "start_time": "2022-01-30T05:18:09.697Z"
   },
   {
    "duration": 44,
    "start_time": "2022-01-30T05:18:11.422Z"
   },
   {
    "duration": 8,
    "start_time": "2022-01-30T05:18:13.006Z"
   },
   {
    "duration": 4,
    "start_time": "2022-01-30T05:18:14.714Z"
   },
   {
    "duration": 4,
    "start_time": "2022-01-30T05:18:17.564Z"
   },
   {
    "duration": 48,
    "start_time": "2022-01-30T05:18:21.466Z"
   },
   {
    "duration": 28,
    "start_time": "2022-01-30T05:18:29.076Z"
   },
   {
    "duration": 24,
    "start_time": "2022-01-30T05:19:28.945Z"
   },
   {
    "duration": 23,
    "start_time": "2022-01-30T05:19:45.372Z"
   },
   {
    "duration": 30,
    "start_time": "2022-01-30T07:28:54.655Z"
   },
   {
    "duration": 24,
    "start_time": "2022-01-30T07:30:06.829Z"
   },
   {
    "duration": 12,
    "start_time": "2022-01-30T07:31:37.042Z"
   },
   {
    "duration": 301,
    "start_time": "2022-01-30T07:46:48.455Z"
   },
   {
    "duration": 306,
    "start_time": "2022-01-30T07:53:46.380Z"
   },
   {
    "duration": 345,
    "start_time": "2022-01-30T08:05:31.390Z"
   },
   {
    "duration": 349,
    "start_time": "2022-01-30T08:08:03.186Z"
   },
   {
    "duration": 328,
    "start_time": "2022-01-30T08:10:29.454Z"
   },
   {
    "duration": 349,
    "start_time": "2022-01-30T08:11:03.913Z"
   },
   {
    "duration": 356,
    "start_time": "2022-01-30T08:45:48.391Z"
   },
   {
    "duration": 337,
    "start_time": "2022-01-30T08:46:32.100Z"
   },
   {
    "duration": 31,
    "start_time": "2022-01-30T08:52:02.623Z"
   },
   {
    "duration": 9,
    "start_time": "2022-01-30T08:54:04.426Z"
   },
   {
    "duration": 330,
    "start_time": "2022-01-30T08:55:11.736Z"
   },
   {
    "duration": 5,
    "start_time": "2022-01-30T08:55:21.802Z"
   },
   {
    "duration": 4,
    "start_time": "2022-01-30T08:56:09.782Z"
   },
   {
    "duration": 4,
    "start_time": "2022-01-30T08:56:56.427Z"
   },
   {
    "duration": 4,
    "start_time": "2022-01-30T08:57:00.902Z"
   },
   {
    "duration": 15,
    "start_time": "2022-01-30T09:01:34.246Z"
   },
   {
    "duration": 112,
    "start_time": "2022-01-30T09:06:40.048Z"
   },
   {
    "duration": 384,
    "start_time": "2022-01-30T09:10:08.034Z"
   },
   {
    "duration": 394,
    "start_time": "2022-01-30T09:11:30.273Z"
   },
   {
    "duration": 321,
    "start_time": "2022-01-30T09:11:41.152Z"
   },
   {
    "duration": 25,
    "start_time": "2022-01-30T09:12:18.016Z"
   },
   {
    "duration": 26,
    "start_time": "2022-01-30T09:15:06.558Z"
   },
   {
    "duration": 351,
    "start_time": "2022-01-30T09:15:18.234Z"
   },
   {
    "duration": 58,
    "start_time": "2022-01-30T09:15:34.234Z"
   },
   {
    "duration": 44,
    "start_time": "2022-01-30T09:15:36.048Z"
   },
   {
    "duration": 9,
    "start_time": "2022-01-30T09:15:37.401Z"
   },
   {
    "duration": 5,
    "start_time": "2022-01-30T09:15:39.226Z"
   },
   {
    "duration": 40,
    "start_time": "2022-01-30T09:15:43.434Z"
   },
   {
    "duration": 25,
    "start_time": "2022-01-30T09:15:46.888Z"
   },
   {
    "duration": 22,
    "start_time": "2022-01-30T09:15:50.568Z"
   },
   {
    "duration": 309,
    "start_time": "2022-01-30T09:15:56.990Z"
   },
   {
    "duration": 20,
    "start_time": "2022-01-30T09:16:15.270Z"
   },
   {
    "duration": 17,
    "start_time": "2022-01-30T09:16:19.776Z"
   },
   {
    "duration": 27,
    "start_time": "2022-01-30T09:16:24.410Z"
   },
   {
    "duration": 12,
    "start_time": "2022-01-30T09:39:25.296Z"
   },
   {
    "duration": 337,
    "start_time": "2022-01-30T09:42:02.100Z"
   },
   {
    "duration": 370,
    "start_time": "2022-01-30T09:57:39.118Z"
   },
   {
    "duration": 423,
    "start_time": "2022-01-30T10:00:19.972Z"
   },
   {
    "duration": 61,
    "start_time": "2022-01-30T10:00:29.937Z"
   },
   {
    "duration": 45,
    "start_time": "2022-01-30T10:00:31.500Z"
   },
   {
    "duration": 9,
    "start_time": "2022-01-30T10:00:32.970Z"
   },
   {
    "duration": 4,
    "start_time": "2022-01-30T10:00:35.034Z"
   },
   {
    "duration": 50,
    "start_time": "2022-01-30T10:00:38.456Z"
   },
   {
    "duration": 28,
    "start_time": "2022-01-30T10:00:41.525Z"
   },
   {
    "duration": 23,
    "start_time": "2022-01-30T10:00:46.436Z"
   },
   {
    "duration": 13,
    "start_time": "2022-01-30T10:00:50.763Z"
   },
   {
    "duration": 317,
    "start_time": "2022-01-30T10:00:54.590Z"
   },
   {
    "duration": 21,
    "start_time": "2022-01-30T10:01:00.068Z"
   },
   {
    "duration": 17,
    "start_time": "2022-01-30T10:01:04.738Z"
   },
   {
    "duration": 26,
    "start_time": "2022-01-30T10:01:08.299Z"
   },
   {
    "duration": 203,
    "start_time": "2022-01-30T10:01:38.435Z"
   },
   {
    "duration": 1968,
    "start_time": "2022-01-31T04:35:26.057Z"
   },
   {
    "duration": 27,
    "start_time": "2022-01-31T04:35:40.730Z"
   },
   {
    "duration": 18,
    "start_time": "2022-01-31T04:35:43.700Z"
   },
   {
    "duration": 24,
    "start_time": "2022-01-31T04:35:46.176Z"
   },
   {
    "duration": 12,
    "start_time": "2022-01-31T04:35:48.532Z"
   },
   {
    "duration": 20,
    "start_time": "2022-01-31T04:35:54.208Z"
   },
   {
    "duration": 17,
    "start_time": "2022-01-31T04:36:04.009Z"
   },
   {
    "duration": 9,
    "start_time": "2022-01-31T04:36:07.626Z"
   },
   {
    "duration": 93,
    "start_time": "2022-01-31T04:36:20.872Z"
   },
   {
    "duration": 68,
    "start_time": "2022-01-31T04:36:26.240Z"
   },
   {
    "duration": 13,
    "start_time": "2022-01-31T04:36:28.216Z"
   },
   {
    "duration": 13,
    "start_time": "2022-01-31T04:36:30.408Z"
   },
   {
    "duration": 84,
    "start_time": "2022-01-31T04:36:34.643Z"
   },
   {
    "duration": 49,
    "start_time": "2022-01-31T04:36:41.314Z"
   },
   {
    "duration": 396,
    "start_time": "2022-01-31T04:36:53.690Z"
   },
   {
    "duration": 38,
    "start_time": "2022-01-31T04:37:08.506Z"
   },
   {
    "duration": 278,
    "start_time": "2022-01-31T04:37:19.415Z"
   },
   {
    "duration": 274,
    "start_time": "2022-01-31T04:39:44.058Z"
   },
   {
    "duration": 267,
    "start_time": "2022-01-31T04:40:11.498Z"
   },
   {
    "duration": 301,
    "start_time": "2022-01-31T04:40:28.865Z"
   },
   {
    "duration": 492,
    "start_time": "2022-01-31T04:40:45.761Z"
   },
   {
    "duration": 13,
    "start_time": "2022-01-31T04:40:50.434Z"
   },
   {
    "duration": 22,
    "start_time": "2022-01-31T04:40:53.979Z"
   },
   {
    "duration": 11,
    "start_time": "2022-01-31T04:40:57.931Z"
   },
   {
    "duration": 19,
    "start_time": "2022-01-31T04:41:01.866Z"
   },
   {
    "duration": 12,
    "start_time": "2022-01-31T04:41:05.178Z"
   },
   {
    "duration": 9,
    "start_time": "2022-01-31T04:41:10.628Z"
   },
   {
    "duration": 16,
    "start_time": "2022-01-31T04:41:14.024Z"
   },
   {
    "duration": 14,
    "start_time": "2022-01-31T04:41:17.108Z"
   },
   {
    "duration": 174,
    "start_time": "2022-01-31T04:41:21.433Z"
   },
   {
    "duration": 69,
    "start_time": "2022-01-31T04:41:40.162Z"
   },
   {
    "duration": 11,
    "start_time": "2022-01-31T04:41:45.523Z"
   },
   {
    "duration": 6,
    "start_time": "2022-01-31T04:41:48.721Z"
   },
   {
    "duration": 79,
    "start_time": "2022-01-31T04:41:53.354Z"
   },
   {
    "duration": 47,
    "start_time": "2022-01-31T04:41:58.721Z"
   },
   {
    "duration": 357,
    "start_time": "2022-01-31T04:42:03.891Z"
   },
   {
    "duration": 288,
    "start_time": "2022-01-31T04:51:16.481Z"
   },
   {
    "duration": 46,
    "start_time": "2022-01-31T05:06:20.558Z"
   },
   {
    "duration": 38,
    "start_time": "2022-01-31T05:06:23.486Z"
   },
   {
    "duration": 36,
    "start_time": "2022-01-31T05:06:26.788Z"
   },
   {
    "duration": 49,
    "start_time": "2022-01-31T05:06:31.631Z"
   },
   {
    "duration": 22,
    "start_time": "2022-01-31T05:06:38.620Z"
   },
   {
    "duration": 46,
    "start_time": "2022-01-31T05:06:53.565Z"
   },
   {
    "duration": 30,
    "start_time": "2022-01-31T05:06:57.175Z"
   },
   {
    "duration": 574,
    "start_time": "2022-01-31T05:07:04.968Z"
   },
   {
    "duration": 36,
    "start_time": "2022-01-31T05:07:17.917Z"
   },
   {
    "duration": 26,
    "start_time": "2022-01-31T05:07:24.440Z"
   },
   {
    "duration": 49,
    "start_time": "2022-01-31T05:07:31.301Z"
   },
   {
    "duration": 19,
    "start_time": "2022-01-31T05:07:40.831Z"
   },
   {
    "duration": 378,
    "start_time": "2022-01-31T05:07:45.348Z"
   },
   {
    "duration": 18,
    "start_time": "2022-01-31T05:08:37.502Z"
   },
   {
    "duration": 510,
    "start_time": "2022-01-31T05:09:26.757Z"
   },
   {
    "duration": 491,
    "start_time": "2022-01-31T05:10:06.896Z"
   },
   {
    "duration": 8,
    "start_time": "2022-01-31T05:35:26.903Z"
   },
   {
    "duration": 22,
    "start_time": "2022-01-31T05:41:03.547Z"
   },
   {
    "duration": 496,
    "start_time": "2022-01-31T10:28:59.242Z"
   },
   {
    "duration": 27,
    "start_time": "2022-01-31T10:29:00.397Z"
   },
   {
    "duration": 13,
    "start_time": "2022-01-31T10:29:07.708Z"
   },
   {
    "duration": 23,
    "start_time": "2022-01-31T10:29:11.710Z"
   },
   {
    "duration": 21,
    "start_time": "2022-01-31T10:29:15.126Z"
   },
   {
    "duration": 19,
    "start_time": "2022-01-31T10:29:18.032Z"
   },
   {
    "duration": 9,
    "start_time": "2022-01-31T10:29:21.494Z"
   },
   {
    "duration": 16,
    "start_time": "2022-01-31T10:29:25.756Z"
   },
   {
    "duration": 9,
    "start_time": "2022-01-31T10:29:29.598Z"
   },
   {
    "duration": 90,
    "start_time": "2022-01-31T10:29:34.334Z"
   },
   {
    "duration": 70,
    "start_time": "2022-01-31T10:29:36.972Z"
   },
   {
    "duration": 15,
    "start_time": "2022-01-31T10:29:42.003Z"
   },
   {
    "duration": 6,
    "start_time": "2022-01-31T10:29:47.711Z"
   },
   {
    "duration": 82,
    "start_time": "2022-01-31T10:29:56.679Z"
   },
   {
    "duration": 49,
    "start_time": "2022-01-31T10:30:04.216Z"
   },
   {
    "duration": 53,
    "start_time": "2022-01-31T10:30:11.063Z"
   },
   {
    "duration": 22,
    "start_time": "2022-01-31T10:30:19.192Z"
   },
   {
    "duration": 675,
    "start_time": "2022-01-31T10:30:37.232Z"
   },
   {
    "duration": 39,
    "start_time": "2022-01-31T10:30:51.876Z"
   },
   {
    "duration": 26,
    "start_time": "2022-01-31T10:31:10.055Z"
   },
   {
    "duration": 48,
    "start_time": "2022-01-31T10:31:22.823Z"
   },
   {
    "duration": 20,
    "start_time": "2022-01-31T10:31:34.835Z"
   },
   {
    "duration": 404,
    "start_time": "2022-01-31T10:31:41.727Z"
   },
   {
    "duration": 462,
    "start_time": "2022-01-31T10:31:46.848Z"
   },
   {
    "duration": 448,
    "start_time": "2022-01-31T10:31:50.558Z"
   },
   {
    "duration": 8,
    "start_time": "2022-01-31T10:32:33.312Z"
   },
   {
    "duration": 22,
    "start_time": "2022-01-31T10:33:00.687Z"
   },
   {
    "duration": 10,
    "start_time": "2022-01-31T10:36:48.817Z"
   },
   {
    "duration": 483,
    "start_time": "2022-01-31T10:42:06.386Z"
   },
   {
    "duration": 27,
    "start_time": "2022-01-31T10:42:14.507Z"
   },
   {
    "duration": 14,
    "start_time": "2022-01-31T10:42:16.996Z"
   },
   {
    "duration": 23,
    "start_time": "2022-01-31T10:42:20.840Z"
   },
   {
    "duration": 11,
    "start_time": "2022-01-31T10:42:24.012Z"
   },
   {
    "duration": 28,
    "start_time": "2022-01-31T10:42:27.134Z"
   },
   {
    "duration": 13,
    "start_time": "2022-01-31T10:42:30.443Z"
   },
   {
    "duration": 10,
    "start_time": "2022-01-31T10:42:35.624Z"
   },
   {
    "duration": 17,
    "start_time": "2022-01-31T10:42:39.738Z"
   },
   {
    "duration": 9,
    "start_time": "2022-01-31T10:42:44.363Z"
   },
   {
    "duration": 9,
    "start_time": "2022-01-31T10:50:05.482Z"
   },
   {
    "duration": 516,
    "start_time": "2022-01-31T10:54:03.310Z"
   },
   {
    "duration": 12,
    "start_time": "2022-01-31T10:54:07.712Z"
   },
   {
    "duration": 28,
    "start_time": "2022-01-31T10:54:11.015Z"
   },
   {
    "duration": 14,
    "start_time": "2022-01-31T10:54:16.169Z"
   },
   {
    "duration": 24,
    "start_time": "2022-01-31T10:54:19.470Z"
   },
   {
    "duration": 12,
    "start_time": "2022-01-31T10:54:23.047Z"
   },
   {
    "duration": 22,
    "start_time": "2022-01-31T10:54:27.230Z"
   },
   {
    "duration": 13,
    "start_time": "2022-01-31T10:54:30.190Z"
   },
   {
    "duration": 10,
    "start_time": "2022-01-31T10:54:32.758Z"
   },
   {
    "duration": 18,
    "start_time": "2022-01-31T10:54:35.736Z"
   },
   {
    "duration": 10,
    "start_time": "2022-01-31T10:54:38.983Z"
   },
   {
    "duration": 97,
    "start_time": "2022-01-31T10:54:44.786Z"
   },
   {
    "duration": 72,
    "start_time": "2022-01-31T10:54:46.629Z"
   },
   {
    "duration": 13,
    "start_time": "2022-01-31T10:54:48.398Z"
   },
   {
    "duration": 6,
    "start_time": "2022-01-31T10:54:50.579Z"
   },
   {
    "duration": 1499,
    "start_time": "2022-02-09T13:31:41.580Z"
   },
   {
    "duration": 11,
    "start_time": "2022-02-09T13:31:43.081Z"
   },
   {
    "duration": 24,
    "start_time": "2022-02-09T13:31:43.094Z"
   },
   {
    "duration": 8,
    "start_time": "2022-02-09T13:31:43.120Z"
   },
   {
    "duration": 19,
    "start_time": "2022-02-09T13:31:43.130Z"
   },
   {
    "duration": 7,
    "start_time": "2022-02-09T13:31:43.150Z"
   },
   {
    "duration": 19,
    "start_time": "2022-02-09T13:31:43.159Z"
   },
   {
    "duration": 12,
    "start_time": "2022-02-09T13:31:43.179Z"
   },
   {
    "duration": 25,
    "start_time": "2022-02-09T13:31:43.194Z"
   },
   {
    "duration": 15,
    "start_time": "2022-02-09T13:31:43.221Z"
   },
   {
    "duration": 10,
    "start_time": "2022-02-09T13:31:43.237Z"
   },
   {
    "duration": 74,
    "start_time": "2022-02-09T13:31:43.249Z"
   },
   {
    "duration": 51,
    "start_time": "2022-02-09T13:31:43.325Z"
   },
   {
    "duration": 12,
    "start_time": "2022-02-09T13:31:43.377Z"
   },
   {
    "duration": 9,
    "start_time": "2022-02-09T13:31:43.390Z"
   },
   {
    "duration": 81,
    "start_time": "2022-02-09T13:31:43.401Z"
   },
   {
    "duration": 44,
    "start_time": "2022-02-09T13:31:43.484Z"
   },
   {
    "duration": 34,
    "start_time": "2022-02-09T13:31:43.530Z"
   },
   {
    "duration": 53,
    "start_time": "2022-02-09T13:31:43.566Z"
   },
   {
    "duration": 15,
    "start_time": "2022-02-09T13:31:43.621Z"
   },
   {
    "duration": 378,
    "start_time": "2022-02-09T13:31:43.639Z"
   },
   {
    "duration": 25,
    "start_time": "2022-02-09T13:31:44.019Z"
   },
   {
    "duration": 21,
    "start_time": "2022-02-09T13:31:44.046Z"
   },
   {
    "duration": 58,
    "start_time": "2022-02-09T13:31:44.069Z"
   },
   {
    "duration": 22,
    "start_time": "2022-02-09T13:31:44.129Z"
   },
   {
    "duration": 265,
    "start_time": "2022-02-09T13:31:44.153Z"
   },
   {
    "duration": 297,
    "start_time": "2022-02-09T13:31:44.421Z"
   },
   {
    "duration": 259,
    "start_time": "2022-02-09T13:31:44.720Z"
   },
   {
    "duration": 9,
    "start_time": "2022-02-09T13:31:44.981Z"
   },
   {
    "duration": 38,
    "start_time": "2022-02-09T13:31:44.992Z"
   },
   {
    "duration": 8,
    "start_time": "2022-02-09T13:31:45.032Z"
   },
   {
    "duration": 1582,
    "start_time": "2022-02-10T05:17:51.638Z"
   },
   {
    "duration": 24,
    "start_time": "2022-02-10T05:17:58.257Z"
   },
   {
    "duration": 14,
    "start_time": "2022-02-10T05:18:01.490Z"
   },
   {
    "duration": 19,
    "start_time": "2022-02-10T05:18:04.991Z"
   },
   {
    "duration": 9,
    "start_time": "2022-02-10T05:18:07.745Z"
   },
   {
    "duration": 16,
    "start_time": "2022-02-10T05:18:12.064Z"
   },
   {
    "duration": 10,
    "start_time": "2022-02-10T05:18:15.640Z"
   },
   {
    "duration": 12,
    "start_time": "2022-02-10T05:19:07.259Z"
   },
   {
    "duration": 8,
    "start_time": "2022-02-10T05:19:10.668Z"
   },
   {
    "duration": 76,
    "start_time": "2022-02-10T05:19:30.777Z"
   },
   {
    "duration": 55,
    "start_time": "2022-02-10T05:19:38.024Z"
   },
   {
    "duration": 10,
    "start_time": "2022-02-10T05:19:39.842Z"
   },
   {
    "duration": 13,
    "start_time": "2022-02-10T05:19:44.004Z"
   },
   {
    "duration": 69,
    "start_time": "2022-02-10T05:19:52.248Z"
   },
   {
    "duration": 395,
    "start_time": "2022-02-10T05:29:40.732Z"
   },
   {
    "duration": 10,
    "start_time": "2022-02-10T05:29:44.636Z"
   },
   {
    "duration": 23,
    "start_time": "2022-02-10T05:29:47.986Z"
   },
   {
    "duration": 10,
    "start_time": "2022-02-10T05:29:53.917Z"
   },
   {
    "duration": 19,
    "start_time": "2022-02-10T05:29:57.507Z"
   },
   {
    "duration": 8,
    "start_time": "2022-02-10T05:30:00.914Z"
   },
   {
    "duration": 17,
    "start_time": "2022-02-10T05:30:04.914Z"
   },
   {
    "duration": 9,
    "start_time": "2022-02-10T05:30:14.507Z"
   },
   {
    "duration": 12,
    "start_time": "2022-02-10T05:30:19.050Z"
   },
   {
    "duration": 7,
    "start_time": "2022-02-10T05:30:23.458Z"
   },
   {
    "duration": 383,
    "start_time": "2022-02-10T05:30:35.079Z"
   },
   {
    "duration": 274,
    "start_time": "2022-02-10T05:31:50.879Z"
   },
   {
    "duration": 85,
    "start_time": "2022-02-10T05:32:14.948Z"
   },
   {
    "duration": 107,
    "start_time": "2022-02-10T05:33:08.800Z"
   },
   {
    "duration": 24,
    "start_time": "2022-02-10T05:33:42.892Z"
   },
   {
    "duration": 257,
    "start_time": "2022-02-10T05:38:25.881Z"
   },
   {
    "duration": 248,
    "start_time": "2022-02-10T05:38:31.141Z"
   },
   {
    "duration": 400,
    "start_time": "2022-02-10T05:38:42.526Z"
   },
   {
    "duration": 10,
    "start_time": "2022-02-10T05:38:46.169Z"
   },
   {
    "duration": 36,
    "start_time": "2022-02-10T05:38:49.312Z"
   },
   {
    "duration": 15,
    "start_time": "2022-02-10T05:38:52.161Z"
   },
   {
    "duration": 31,
    "start_time": "2022-02-10T05:38:56.127Z"
   },
   {
    "duration": 12,
    "start_time": "2022-02-10T05:39:00.079Z"
   },
   {
    "duration": 26,
    "start_time": "2022-02-10T05:39:04.990Z"
   },
   {
    "duration": 16,
    "start_time": "2022-02-10T05:39:09.863Z"
   },
   {
    "duration": 10,
    "start_time": "2022-02-10T05:39:15.238Z"
   },
   {
    "duration": 17,
    "start_time": "2022-02-10T05:39:19.377Z"
   },
   {
    "duration": 10,
    "start_time": "2022-02-10T05:39:23.088Z"
   },
   {
    "duration": 76,
    "start_time": "2022-02-10T05:39:31.142Z"
   },
   {
    "duration": 56,
    "start_time": "2022-02-10T05:39:35.876Z"
   },
   {
    "duration": 8,
    "start_time": "2022-02-10T05:39:42.129Z"
   },
   {
    "duration": 8,
    "start_time": "2022-02-10T05:39:47.487Z"
   },
   {
    "duration": 68,
    "start_time": "2022-02-10T05:40:14.942Z"
   },
   {
    "duration": 36,
    "start_time": "2022-02-10T05:40:21.272Z"
   },
   {
    "duration": 241,
    "start_time": "2022-02-10T05:40:26.664Z"
   },
   {
    "duration": 383,
    "start_time": "2022-02-10T05:40:46.520Z"
   },
   {
    "duration": 10,
    "start_time": "2022-02-10T05:40:48.972Z"
   },
   {
    "duration": 21,
    "start_time": "2022-02-10T05:40:52.098Z"
   },
   {
    "duration": 10,
    "start_time": "2022-02-10T05:40:54.325Z"
   },
   {
    "duration": 18,
    "start_time": "2022-02-10T05:40:57.023Z"
   },
   {
    "duration": 9,
    "start_time": "2022-02-10T05:41:01.471Z"
   },
   {
    "duration": 16,
    "start_time": "2022-02-10T05:41:05.102Z"
   },
   {
    "duration": 11,
    "start_time": "2022-02-10T05:41:08.775Z"
   },
   {
    "duration": 7,
    "start_time": "2022-02-10T05:41:11.569Z"
   },
   {
    "duration": 11,
    "start_time": "2022-02-10T05:41:14.269Z"
   },
   {
    "duration": 7,
    "start_time": "2022-02-10T05:41:17.605Z"
   },
   {
    "duration": 71,
    "start_time": "2022-02-10T05:41:21.999Z"
   },
   {
    "duration": 54,
    "start_time": "2022-02-10T05:41:25.815Z"
   },
   {
    "duration": 7,
    "start_time": "2022-02-10T05:41:28.434Z"
   },
   {
    "duration": 7,
    "start_time": "2022-02-10T05:41:33.231Z"
   },
   {
    "duration": 67,
    "start_time": "2022-02-10T05:41:38.962Z"
   },
   {
    "duration": 38,
    "start_time": "2022-02-10T05:41:44.450Z"
   },
   {
    "duration": 34,
    "start_time": "2022-02-10T05:41:47.905Z"
   },
   {
    "duration": 34,
    "start_time": "2022-02-10T05:41:55.143Z"
   },
   {
    "duration": 15,
    "start_time": "2022-02-10T05:41:59.674Z"
   },
   {
    "duration": 362,
    "start_time": "2022-02-10T05:42:16.575Z"
   },
   {
    "duration": 27,
    "start_time": "2022-02-10T05:42:28.267Z"
   },
   {
    "duration": 17,
    "start_time": "2022-02-10T05:42:33.544Z"
   },
   {
    "duration": 269,
    "start_time": "2022-02-10T06:09:13.931Z"
   },
   {
    "duration": 258,
    "start_time": "2022-02-10T06:10:54.250Z"
   },
   {
    "duration": 276,
    "start_time": "2022-02-10T06:13:29.989Z"
   },
   {
    "duration": 274,
    "start_time": "2022-02-10T06:15:07.583Z"
   },
   {
    "duration": 380,
    "start_time": "2022-02-10T06:15:26.173Z"
   },
   {
    "duration": 10,
    "start_time": "2022-02-10T06:15:28.986Z"
   },
   {
    "duration": 24,
    "start_time": "2022-02-10T06:15:30.027Z"
   },
   {
    "duration": 11,
    "start_time": "2022-02-10T06:15:31.940Z"
   },
   {
    "duration": 21,
    "start_time": "2022-02-10T06:15:32.876Z"
   },
   {
    "duration": 9,
    "start_time": "2022-02-10T06:15:33.827Z"
   },
   {
    "duration": 16,
    "start_time": "2022-02-10T06:15:34.609Z"
   },
   {
    "duration": 9,
    "start_time": "2022-02-10T06:15:36.349Z"
   },
   {
    "duration": 8,
    "start_time": "2022-02-10T06:15:37.730Z"
   },
   {
    "duration": 13,
    "start_time": "2022-02-10T06:15:39.325Z"
   },
   {
    "duration": 7,
    "start_time": "2022-02-10T06:15:40.712Z"
   },
   {
    "duration": 72,
    "start_time": "2022-02-10T06:15:45.834Z"
   },
   {
    "duration": 54,
    "start_time": "2022-02-10T06:15:48.590Z"
   },
   {
    "duration": 9,
    "start_time": "2022-02-10T06:15:51.465Z"
   },
   {
    "duration": 8,
    "start_time": "2022-02-10T06:15:57.348Z"
   },
   {
    "duration": 67,
    "start_time": "2022-02-10T06:16:06.001Z"
   },
   {
    "duration": 40,
    "start_time": "2022-02-10T06:16:08.779Z"
   },
   {
    "duration": 32,
    "start_time": "2022-02-10T06:16:11.173Z"
   },
   {
    "duration": 37,
    "start_time": "2022-02-10T06:16:17.927Z"
   },
   {
    "duration": 15,
    "start_time": "2022-02-10T06:16:18.868Z"
   },
   {
    "duration": 356,
    "start_time": "2022-02-10T06:16:22.509Z"
   },
   {
    "duration": 267,
    "start_time": "2022-02-10T06:16:31.184Z"
   },
   {
    "duration": 271,
    "start_time": "2022-02-10T06:22:53.370Z"
   },
   {
    "duration": 272,
    "start_time": "2022-02-10T06:23:22.001Z"
   },
   {
    "duration": 257,
    "start_time": "2022-02-10T06:24:24.032Z"
   },
   {
    "duration": 361,
    "start_time": "2022-02-10T06:28:31.813Z"
   },
   {
    "duration": 438,
    "start_time": "2022-02-10T06:29:00.006Z"
   },
   {
    "duration": 12,
    "start_time": "2022-02-10T06:29:01.120Z"
   },
   {
    "duration": 28,
    "start_time": "2022-02-10T06:29:02.016Z"
   },
   {
    "duration": 13,
    "start_time": "2022-02-10T06:29:02.915Z"
   },
   {
    "duration": 19,
    "start_time": "2022-02-10T06:29:03.632Z"
   },
   {
    "duration": 10,
    "start_time": "2022-02-10T06:29:04.365Z"
   },
   {
    "duration": 19,
    "start_time": "2022-02-10T06:29:05.122Z"
   },
   {
    "duration": 10,
    "start_time": "2022-02-10T06:29:05.826Z"
   },
   {
    "duration": 8,
    "start_time": "2022-02-10T06:29:06.808Z"
   },
   {
    "duration": 12,
    "start_time": "2022-02-10T06:29:07.977Z"
   },
   {
    "duration": 9,
    "start_time": "2022-02-10T06:29:08.880Z"
   },
   {
    "duration": 83,
    "start_time": "2022-02-10T06:29:12.454Z"
   },
   {
    "duration": 58,
    "start_time": "2022-02-10T06:29:30.062Z"
   },
   {
    "duration": 10,
    "start_time": "2022-02-10T06:29:31.044Z"
   },
   {
    "duration": 16,
    "start_time": "2022-02-10T06:29:35.807Z"
   },
   {
    "duration": 73,
    "start_time": "2022-02-10T06:29:53.174Z"
   },
   {
    "duration": 43,
    "start_time": "2022-02-10T06:29:58.625Z"
   },
   {
    "duration": 41,
    "start_time": "2022-02-10T06:30:05.073Z"
   },
   {
    "duration": 49,
    "start_time": "2022-02-10T06:30:27.499Z"
   },
   {
    "duration": 16,
    "start_time": "2022-02-10T06:30:34.929Z"
   },
   {
    "duration": 390,
    "start_time": "2022-02-10T06:30:45.833Z"
   },
   {
    "duration": 358,
    "start_time": "2022-02-10T06:30:57.417Z"
   },
   {
    "duration": 30,
    "start_time": "2022-02-10T06:32:16.192Z"
   },
   {
    "duration": 310,
    "start_time": "2022-02-10T06:43:37.387Z"
   },
   {
    "duration": 263,
    "start_time": "2022-02-10T06:46:55.817Z"
   },
   {
    "duration": 253,
    "start_time": "2022-02-10T06:47:12.009Z"
   },
   {
    "duration": 7,
    "start_time": "2022-02-10T06:48:33.875Z"
   },
   {
    "duration": 241,
    "start_time": "2022-02-10T06:48:48.911Z"
   },
   {
    "duration": 21,
    "start_time": "2022-02-10T06:49:03.408Z"
   },
   {
    "duration": 10,
    "start_time": "2022-02-10T06:51:47.408Z"
   },
   {
    "duration": 10,
    "start_time": "2022-02-10T06:54:01.146Z"
   },
   {
    "duration": 10,
    "start_time": "2022-02-10T07:19:31.228Z"
   },
   {
    "duration": 11,
    "start_time": "2022-02-10T07:20:09.696Z"
   },
   {
    "duration": 12,
    "start_time": "2022-02-10T07:21:46.125Z"
   },
   {
    "duration": 11,
    "start_time": "2022-02-10T07:22:21.928Z"
   },
   {
    "duration": 257,
    "start_time": "2022-02-10T07:24:25.814Z"
   },
   {
    "duration": 276,
    "start_time": "2022-02-10T07:24:54.824Z"
   },
   {
    "duration": 11,
    "start_time": "2022-02-10T07:25:16.936Z"
   },
   {
    "duration": 21,
    "start_time": "2022-02-10T07:31:11.061Z"
   },
   {
    "duration": 5,
    "start_time": "2022-02-10T07:31:17.550Z"
   },
   {
    "duration": 6,
    "start_time": "2022-02-10T07:31:21.049Z"
   },
   {
    "duration": 5,
    "start_time": "2022-02-10T07:31:25.658Z"
   },
   {
    "duration": 6,
    "start_time": "2022-02-10T07:31:28.320Z"
   },
   {
    "duration": 5,
    "start_time": "2022-02-10T07:32:13.725Z"
   },
   {
    "duration": 8,
    "start_time": "2022-02-10T07:35:54.157Z"
   },
   {
    "duration": 5,
    "start_time": "2022-02-10T07:35:56.958Z"
   },
   {
    "duration": 6,
    "start_time": "2022-02-10T07:36:00.108Z"
   },
   {
    "duration": 5,
    "start_time": "2022-02-10T07:36:07.342Z"
   },
   {
    "duration": 291,
    "start_time": "2022-02-10T07:37:12.084Z"
   },
   {
    "duration": 76,
    "start_time": "2022-02-10T07:45:08.073Z"
   },
   {
    "duration": 252,
    "start_time": "2022-02-10T07:45:22.649Z"
   },
   {
    "duration": 8,
    "start_time": "2022-02-10T07:45:39.974Z"
   },
   {
    "duration": 10,
    "start_time": "2022-02-10T07:46:07.249Z"
   },
   {
    "duration": 24,
    "start_time": "2022-02-10T07:46:42.291Z"
   },
   {
    "duration": 5,
    "start_time": "2022-02-10T07:47:38.570Z"
   },
   {
    "duration": 5,
    "start_time": "2022-02-10T07:48:02.263Z"
   },
   {
    "duration": 6,
    "start_time": "2022-02-10T07:48:30.946Z"
   },
   {
    "duration": 20,
    "start_time": "2022-02-10T07:50:49.773Z"
   },
   {
    "duration": 4,
    "start_time": "2022-02-10T07:51:33.902Z"
   },
   {
    "duration": 5,
    "start_time": "2022-02-10T07:51:58.611Z"
   },
   {
    "duration": 4,
    "start_time": "2022-02-10T07:52:22.096Z"
   },
   {
    "duration": 256,
    "start_time": "2022-02-10T07:53:09.221Z"
   },
   {
    "duration": 4,
    "start_time": "2022-02-10T07:56:10.783Z"
   },
   {
    "duration": 8,
    "start_time": "2022-02-10T07:56:13.247Z"
   },
   {
    "duration": 5,
    "start_time": "2022-02-10T07:56:16.968Z"
   },
   {
    "duration": 5,
    "start_time": "2022-02-10T07:56:19.308Z"
   },
   {
    "duration": 6,
    "start_time": "2022-02-10T07:56:20.830Z"
   },
   {
    "duration": 255,
    "start_time": "2022-02-10T07:56:22.109Z"
   },
   {
    "duration": 21,
    "start_time": "2022-02-10T08:02:13.273Z"
   },
   {
    "duration": 5,
    "start_time": "2022-02-10T08:02:43.121Z"
   },
   {
    "duration": 6,
    "start_time": "2022-02-10T08:03:10.310Z"
   },
   {
    "duration": 5,
    "start_time": "2022-02-10T08:03:30.511Z"
   },
   {
    "duration": 8,
    "start_time": "2022-02-10T08:16:26.320Z"
   },
   {
    "duration": 5,
    "start_time": "2022-02-10T08:16:58.448Z"
   },
   {
    "duration": 5,
    "start_time": "2022-02-10T08:17:19.967Z"
   },
   {
    "duration": 5,
    "start_time": "2022-02-10T08:17:43.481Z"
   },
   {
    "duration": 327,
    "start_time": "2022-02-10T08:19:33.418Z"
   },
   {
    "duration": 296,
    "start_time": "2022-02-10T08:20:18.385Z"
   },
   {
    "duration": 416,
    "start_time": "2022-02-10T08:20:51.101Z"
   },
   {
    "duration": 7,
    "start_time": "2022-02-10T08:37:15.145Z"
   },
   {
    "duration": 3,
    "start_time": "2022-02-10T08:38:55.735Z"
   },
   {
    "duration": 5,
    "start_time": "2022-02-10T08:39:08.326Z"
   },
   {
    "duration": 14,
    "start_time": "2022-02-10T08:40:06.832Z"
   },
   {
    "duration": 107,
    "start_time": "2022-02-10T08:45:27.859Z"
   },
   {
    "duration": 418,
    "start_time": "2022-02-10T08:50:01.330Z"
   },
   {
    "duration": 10,
    "start_time": "2022-02-10T08:50:06.530Z"
   },
   {
    "duration": 23,
    "start_time": "2022-02-10T08:50:08.680Z"
   },
   {
    "duration": 10,
    "start_time": "2022-02-10T08:50:10.871Z"
   },
   {
    "duration": 30,
    "start_time": "2022-02-10T08:50:12.485Z"
   },
   {
    "duration": 10,
    "start_time": "2022-02-10T08:50:14.620Z"
   },
   {
    "duration": 17,
    "start_time": "2022-02-10T08:50:16.084Z"
   },
   {
    "duration": 9,
    "start_time": "2022-02-10T08:50:19.030Z"
   },
   {
    "duration": 8,
    "start_time": "2022-02-10T08:50:21.221Z"
   },
   {
    "duration": 13,
    "start_time": "2022-02-10T08:50:23.141Z"
   },
   {
    "duration": 7,
    "start_time": "2022-02-10T08:50:25.611Z"
   },
   {
    "duration": 72,
    "start_time": "2022-02-10T08:50:32.814Z"
   },
   {
    "duration": 56,
    "start_time": "2022-02-10T08:50:42.190Z"
   },
   {
    "duration": 7,
    "start_time": "2022-02-10T08:50:45.459Z"
   },
   {
    "duration": 8,
    "start_time": "2022-02-10T08:50:54.250Z"
   },
   {
    "duration": 51,
    "start_time": "2022-02-10T08:51:25.292Z"
   },
   {
    "duration": 36,
    "start_time": "2022-02-10T08:51:27.228Z"
   },
   {
    "duration": 32,
    "start_time": "2022-02-10T08:51:30.517Z"
   },
   {
    "duration": 38,
    "start_time": "2022-02-10T08:51:37.570Z"
   },
   {
    "duration": 18,
    "start_time": "2022-02-10T08:51:40.347Z"
   },
   {
    "duration": 383,
    "start_time": "2022-02-10T08:51:44.236Z"
   },
   {
    "duration": 21,
    "start_time": "2022-02-10T08:51:53.547Z"
   },
   {
    "duration": 5,
    "start_time": "2022-02-10T08:51:55.620Z"
   },
   {
    "duration": 5,
    "start_time": "2022-02-10T08:51:59.028Z"
   },
   {
    "duration": 6,
    "start_time": "2022-02-10T08:52:00.356Z"
   },
   {
    "duration": 6,
    "start_time": "2022-02-10T08:52:02.549Z"
   },
   {
    "duration": 5,
    "start_time": "2022-02-10T08:52:04.812Z"
   },
   {
    "duration": 9,
    "start_time": "2022-02-10T08:52:06.645Z"
   },
   {
    "duration": 5,
    "start_time": "2022-02-10T08:52:07.833Z"
   },
   {
    "duration": 4,
    "start_time": "2022-02-10T08:52:08.796Z"
   },
   {
    "duration": 5,
    "start_time": "2022-02-10T08:52:09.718Z"
   },
   {
    "duration": 349,
    "start_time": "2022-02-10T08:52:11.990Z"
   },
   {
    "duration": 26,
    "start_time": "2022-02-10T08:52:20.660Z"
   },
   {
    "duration": 5,
    "start_time": "2022-02-10T08:52:22.165Z"
   },
   {
    "duration": 5,
    "start_time": "2022-02-10T08:52:23.355Z"
   },
   {
    "duration": 6,
    "start_time": "2022-02-10T08:52:24.172Z"
   },
   {
    "duration": 9,
    "start_time": "2022-02-10T08:52:25.707Z"
   },
   {
    "duration": 5,
    "start_time": "2022-02-10T08:52:26.709Z"
   },
   {
    "duration": 5,
    "start_time": "2022-02-10T08:52:27.448Z"
   },
   {
    "duration": 5,
    "start_time": "2022-02-10T08:52:28.219Z"
   },
   {
    "duration": 298,
    "start_time": "2022-02-10T08:52:29.876Z"
   },
   {
    "duration": 28,
    "start_time": "2022-02-10T08:52:35.251Z"
   },
   {
    "duration": 6,
    "start_time": "2022-02-10T08:52:36.255Z"
   },
   {
    "duration": 5,
    "start_time": "2022-02-10T08:52:37.435Z"
   },
   {
    "duration": 5,
    "start_time": "2022-02-10T08:52:38.200Z"
   },
   {
    "duration": 9,
    "start_time": "2022-02-10T08:52:39.004Z"
   },
   {
    "duration": 5,
    "start_time": "2022-02-10T08:52:39.771Z"
   },
   {
    "duration": 5,
    "start_time": "2022-02-10T08:52:40.675Z"
   },
   {
    "duration": 6,
    "start_time": "2022-02-10T08:52:41.604Z"
   },
   {
    "duration": 502,
    "start_time": "2022-02-10T08:52:42.716Z"
   },
   {
    "duration": 7,
    "start_time": "2022-02-10T08:53:03.211Z"
   },
   {
    "duration": 345,
    "start_time": "2022-02-10T08:53:18.998Z"
   },
   {
    "duration": 16,
    "start_time": "2022-02-10T08:53:23.913Z"
   },
   {
    "duration": 274,
    "start_time": "2022-02-10T08:53:27.952Z"
   },
   {
    "duration": 22,
    "start_time": "2022-02-10T08:53:32.106Z"
   },
   {
    "duration": 297,
    "start_time": "2022-02-10T08:53:35.805Z"
   },
   {
    "duration": 21,
    "start_time": "2022-02-10T08:53:40.347Z"
   },
   {
    "duration": 7,
    "start_time": "2022-02-10T08:53:46.324Z"
   },
   {
    "duration": 448,
    "start_time": "2022-02-10T08:54:55.680Z"
   },
   {
    "duration": 11,
    "start_time": "2022-02-10T08:54:57.762Z"
   },
   {
    "duration": 24,
    "start_time": "2022-02-10T08:54:58.786Z"
   },
   {
    "duration": 11,
    "start_time": "2022-02-10T08:54:59.888Z"
   },
   {
    "duration": 19,
    "start_time": "2022-02-10T08:55:00.888Z"
   },
   {
    "duration": 9,
    "start_time": "2022-02-10T08:55:01.751Z"
   },
   {
    "duration": 17,
    "start_time": "2022-02-10T08:55:02.589Z"
   },
   {
    "duration": 10,
    "start_time": "2022-02-10T08:55:03.461Z"
   },
   {
    "duration": 7,
    "start_time": "2022-02-10T08:55:04.277Z"
   },
   {
    "duration": 12,
    "start_time": "2022-02-10T08:55:05.078Z"
   },
   {
    "duration": 7,
    "start_time": "2022-02-10T08:55:05.886Z"
   },
   {
    "duration": 77,
    "start_time": "2022-02-10T08:55:09.197Z"
   },
   {
    "duration": 57,
    "start_time": "2022-02-10T08:55:11.428Z"
   },
   {
    "duration": 9,
    "start_time": "2022-02-10T08:55:13.123Z"
   },
   {
    "duration": 8,
    "start_time": "2022-02-10T08:55:16.411Z"
   },
   {
    "duration": 67,
    "start_time": "2022-02-10T08:55:22.380Z"
   },
   {
    "duration": 37,
    "start_time": "2022-02-10T08:55:24.412Z"
   },
   {
    "duration": 34,
    "start_time": "2022-02-10T08:55:26.245Z"
   },
   {
    "duration": 39,
    "start_time": "2022-02-10T08:55:32.460Z"
   },
   {
    "duration": 17,
    "start_time": "2022-02-10T08:55:33.603Z"
   },
   {
    "duration": 389,
    "start_time": "2022-02-10T08:55:36.664Z"
   },
   {
    "duration": 22,
    "start_time": "2022-02-10T08:55:44.047Z"
   },
   {
    "duration": 4,
    "start_time": "2022-02-10T08:55:46.244Z"
   },
   {
    "duration": 4,
    "start_time": "2022-02-10T08:55:48.144Z"
   },
   {
    "duration": 5,
    "start_time": "2022-02-10T08:55:49.205Z"
   },
   {
    "duration": 5,
    "start_time": "2022-02-10T08:55:50.102Z"
   },
   {
    "duration": 5,
    "start_time": "2022-02-10T08:55:51.340Z"
   },
   {
    "duration": 7,
    "start_time": "2022-02-10T08:55:52.196Z"
   },
   {
    "duration": 4,
    "start_time": "2022-02-10T08:55:53.165Z"
   },
   {
    "duration": 5,
    "start_time": "2022-02-10T08:55:54.045Z"
   },
   {
    "duration": 5,
    "start_time": "2022-02-10T08:55:54.961Z"
   },
   {
    "duration": 324,
    "start_time": "2022-02-10T08:55:56.165Z"
   },
   {
    "duration": 22,
    "start_time": "2022-02-10T08:56:00.095Z"
   },
   {
    "duration": 5,
    "start_time": "2022-02-10T08:56:01.085Z"
   },
   {
    "duration": 5,
    "start_time": "2022-02-10T08:56:02.142Z"
   },
   {
    "duration": 5,
    "start_time": "2022-02-10T08:56:02.935Z"
   },
   {
    "duration": 7,
    "start_time": "2022-02-10T08:56:03.702Z"
   },
   {
    "duration": 5,
    "start_time": "2022-02-10T08:56:04.860Z"
   },
   {
    "duration": 5,
    "start_time": "2022-02-10T08:56:05.752Z"
   },
   {
    "duration": 5,
    "start_time": "2022-02-10T08:56:06.604Z"
   },
   {
    "duration": 387,
    "start_time": "2022-02-10T08:56:07.902Z"
   },
   {
    "duration": 21,
    "start_time": "2022-02-10T08:56:12.196Z"
   },
   {
    "duration": 4,
    "start_time": "2022-02-10T08:56:13.237Z"
   },
   {
    "duration": 5,
    "start_time": "2022-02-10T08:56:14.303Z"
   },
   {
    "duration": 5,
    "start_time": "2022-02-10T08:56:15.024Z"
   },
   {
    "duration": 8,
    "start_time": "2022-02-10T08:56:15.793Z"
   },
   {
    "duration": 5,
    "start_time": "2022-02-10T08:56:16.636Z"
   },
   {
    "duration": 5,
    "start_time": "2022-02-10T08:56:17.528Z"
   },
   {
    "duration": 5,
    "start_time": "2022-02-10T08:56:18.308Z"
   },
   {
    "duration": 326,
    "start_time": "2022-02-10T08:56:19.742Z"
   },
   {
    "duration": 6,
    "start_time": "2022-02-10T08:56:35.824Z"
   },
   {
    "duration": 275,
    "start_time": "2022-02-10T08:56:42.877Z"
   },
   {
    "duration": 249,
    "start_time": "2022-02-10T09:06:44.565Z"
   },
   {
    "duration": 6,
    "start_time": "2022-02-10T09:07:03.619Z"
   },
   {
    "duration": 353,
    "start_time": "2022-02-10T09:07:57.334Z"
   },
   {
    "duration": 299,
    "start_time": "2022-02-10T09:08:37.301Z"
   },
   {
    "duration": 19,
    "start_time": "2022-02-10T09:13:05.254Z"
   },
   {
    "duration": 7,
    "start_time": "2022-02-10T09:13:15.350Z"
   },
   {
    "duration": 400,
    "start_time": "2022-02-10T09:13:32.899Z"
   },
   {
    "duration": 9,
    "start_time": "2022-02-10T09:13:37.701Z"
   },
   {
    "duration": 23,
    "start_time": "2022-02-10T09:13:41.149Z"
   },
   {
    "duration": 10,
    "start_time": "2022-02-10T09:13:44.807Z"
   },
   {
    "duration": 19,
    "start_time": "2022-02-10T09:13:48.464Z"
   },
   {
    "duration": 11,
    "start_time": "2022-02-10T09:13:52.587Z"
   },
   {
    "duration": 16,
    "start_time": "2022-02-10T09:13:56.095Z"
   },
   {
    "duration": 9,
    "start_time": "2022-02-10T09:14:00.371Z"
   },
   {
    "duration": 7,
    "start_time": "2022-02-10T09:14:04.651Z"
   },
   {
    "duration": 13,
    "start_time": "2022-02-10T09:14:08.062Z"
   },
   {
    "duration": 8,
    "start_time": "2022-02-10T09:14:12.347Z"
   },
   {
    "duration": 73,
    "start_time": "2022-02-10T09:14:18.775Z"
   },
   {
    "duration": 55,
    "start_time": "2022-02-10T09:14:24.255Z"
   },
   {
    "duration": 9,
    "start_time": "2022-02-10T09:14:28.505Z"
   },
   {
    "duration": 6,
    "start_time": "2022-02-10T09:17:13.975Z"
   },
   {
    "duration": 8,
    "start_time": "2022-02-10T09:17:19.359Z"
   },
   {
    "duration": 77,
    "start_time": "2022-02-10T09:17:27.297Z"
   },
   {
    "duration": 44,
    "start_time": "2022-02-10T09:17:31.006Z"
   },
   {
    "duration": 37,
    "start_time": "2022-02-10T09:17:36.255Z"
   },
   {
    "duration": 16,
    "start_time": "2022-02-10T09:17:40.505Z"
   },
   {
    "duration": 369,
    "start_time": "2022-02-10T09:17:46.157Z"
   },
   {
    "duration": 20,
    "start_time": "2022-02-10T09:17:55.454Z"
   },
   {
    "duration": 5,
    "start_time": "2022-02-10T09:18:01.279Z"
   },
   {
    "duration": 7,
    "start_time": "2022-02-10T09:18:04.773Z"
   },
   {
    "duration": 5,
    "start_time": "2022-02-10T09:18:06.616Z"
   },
   {
    "duration": 5,
    "start_time": "2022-02-10T09:18:11.328Z"
   },
   {
    "duration": 5,
    "start_time": "2022-02-10T09:18:15.176Z"
   },
   {
    "duration": 7,
    "start_time": "2022-02-10T09:18:18.290Z"
   },
   {
    "duration": 5,
    "start_time": "2022-02-10T09:18:22.504Z"
   },
   {
    "duration": 5,
    "start_time": "2022-02-10T09:18:24.289Z"
   },
   {
    "duration": 5,
    "start_time": "2022-02-10T09:18:25.686Z"
   },
   {
    "duration": 357,
    "start_time": "2022-02-10T09:18:29.861Z"
   },
   {
    "duration": 20,
    "start_time": "2022-02-10T09:18:34.488Z"
   },
   {
    "duration": 5,
    "start_time": "2022-02-10T09:18:39.325Z"
   },
   {
    "duration": 5,
    "start_time": "2022-02-10T09:18:41.055Z"
   },
   {
    "duration": 4,
    "start_time": "2022-02-10T09:18:42.599Z"
   },
   {
    "duration": 8,
    "start_time": "2022-02-10T09:18:44.949Z"
   },
   {
    "duration": 4,
    "start_time": "2022-02-10T09:18:46.527Z"
   },
   {
    "duration": 5,
    "start_time": "2022-02-10T09:18:50.648Z"
   },
   {
    "duration": 5,
    "start_time": "2022-02-10T09:18:51.918Z"
   },
   {
    "duration": 276,
    "start_time": "2022-02-10T09:18:54.745Z"
   },
   {
    "duration": 22,
    "start_time": "2022-02-10T09:18:58.738Z"
   },
   {
    "duration": 6,
    "start_time": "2022-02-10T09:19:02.040Z"
   },
   {
    "duration": 4,
    "start_time": "2022-02-10T09:19:04.199Z"
   },
   {
    "duration": 5,
    "start_time": "2022-02-10T09:19:05.498Z"
   },
   {
    "duration": 8,
    "start_time": "2022-02-10T09:19:07.088Z"
   },
   {
    "duration": 6,
    "start_time": "2022-02-10T09:19:08.109Z"
   },
   {
    "duration": 5,
    "start_time": "2022-02-10T09:19:10.276Z"
   },
   {
    "duration": 5,
    "start_time": "2022-02-10T09:19:17.509Z"
   },
   {
    "duration": 335,
    "start_time": "2022-02-10T09:19:21.983Z"
   },
   {
    "duration": 7,
    "start_time": "2022-02-10T09:19:38.777Z"
   },
   {
    "duration": 657,
    "start_time": "2022-02-10T09:19:45.448Z"
   },
   {
    "duration": 18,
    "start_time": "2022-02-10T09:19:49.756Z"
   },
   {
    "duration": 396,
    "start_time": "2022-02-10T09:19:55.510Z"
   },
   {
    "duration": 19,
    "start_time": "2022-02-10T09:19:59.289Z"
   },
   {
    "duration": 7,
    "start_time": "2022-02-10T09:20:11.350Z"
   },
   {
    "duration": 7,
    "start_time": "2022-02-10T09:20:47.582Z"
   },
   {
    "duration": 326,
    "start_time": "2022-02-10T09:20:50.580Z"
   },
   {
    "duration": 20,
    "start_time": "2022-02-10T09:20:54.901Z"
   },
   {
    "duration": 394,
    "start_time": "2022-02-10T09:20:57.902Z"
   },
   {
    "duration": 19,
    "start_time": "2022-02-10T09:21:06.748Z"
   },
   {
    "duration": 423,
    "start_time": "2022-02-10T09:21:16.167Z"
   },
   {
    "duration": 20,
    "start_time": "2022-02-10T09:21:25.635Z"
   },
   {
    "duration": 407,
    "start_time": "2022-02-10T09:21:39.968Z"
   },
   {
    "duration": 19,
    "start_time": "2022-02-10T09:21:42.827Z"
   },
   {
    "duration": 2544,
    "start_time": "2022-02-12T05:54:29.851Z"
   },
   {
    "duration": 17,
    "start_time": "2022-02-12T05:54:32.397Z"
   },
   {
    "duration": 35,
    "start_time": "2022-02-12T05:54:32.416Z"
   },
   {
    "duration": 13,
    "start_time": "2022-02-12T05:54:32.948Z"
   },
   {
    "duration": 23,
    "start_time": "2022-02-12T05:54:34.057Z"
   },
   {
    "duration": 11,
    "start_time": "2022-02-12T05:54:34.845Z"
   },
   {
    "duration": 20,
    "start_time": "2022-02-12T05:54:35.617Z"
   },
   {
    "duration": 12,
    "start_time": "2022-02-12T05:54:36.450Z"
   },
   {
    "duration": 9,
    "start_time": "2022-02-12T05:54:37.204Z"
   },
   {
    "duration": 17,
    "start_time": "2022-02-12T05:54:37.970Z"
   },
   {
    "duration": 10,
    "start_time": "2022-02-12T05:54:38.770Z"
   },
   {
    "duration": 108,
    "start_time": "2022-02-12T05:54:42.290Z"
   },
   {
    "duration": 70,
    "start_time": "2022-02-12T05:54:44.130Z"
   },
   {
    "duration": 11,
    "start_time": "2022-02-12T05:54:44.949Z"
   },
   {
    "duration": 95,
    "start_time": "2022-02-12T05:55:02.298Z"
   },
   {
    "duration": 52,
    "start_time": "2022-02-12T05:55:04.963Z"
   },
   {
    "duration": 48,
    "start_time": "2022-02-12T05:55:06.634Z"
   },
   {
    "duration": 14,
    "start_time": "2022-02-12T05:55:11.859Z"
   },
   {
    "duration": 8,
    "start_time": "2022-02-12T05:55:17.250Z"
   },
   {
    "duration": 23,
    "start_time": "2022-02-12T05:55:48.197Z"
   },
   {
    "duration": 23,
    "start_time": "2022-02-12T05:55:58.525Z"
   },
   {
    "duration": 385,
    "start_time": "2022-02-12T06:06:17.068Z"
   },
   {
    "duration": 265,
    "start_time": "2022-02-12T06:06:29.330Z"
   },
   {
    "duration": 307,
    "start_time": "2022-02-12T06:06:50.897Z"
   },
   {
    "duration": 309,
    "start_time": "2022-02-12T06:08:38.941Z"
   },
   {
    "duration": 305,
    "start_time": "2022-02-12T06:10:03.134Z"
   },
   {
    "duration": 8,
    "start_time": "2022-02-12T06:16:09.479Z"
   },
   {
    "duration": 25,
    "start_time": "2022-02-12T06:16:23.948Z"
   },
   {
    "duration": 26,
    "start_time": "2022-02-12T06:18:15.157Z"
   },
   {
    "duration": 25,
    "start_time": "2022-02-12T06:19:50.176Z"
   },
   {
    "duration": 26,
    "start_time": "2022-02-12T06:20:36.383Z"
   },
   {
    "duration": 26,
    "start_time": "2022-02-12T06:28:29.828Z"
   },
   {
    "duration": 27,
    "start_time": "2022-02-12T06:29:39.546Z"
   },
   {
    "duration": 25,
    "start_time": "2022-02-12T06:30:14.510Z"
   },
   {
    "duration": 27,
    "start_time": "2022-02-12T06:30:47.203Z"
   },
   {
    "duration": 24,
    "start_time": "2022-02-12T06:31:25.107Z"
   },
   {
    "duration": 29,
    "start_time": "2022-02-12T06:31:48.720Z"
   },
   {
    "duration": 26,
    "start_time": "2022-02-12T06:32:28.268Z"
   },
   {
    "duration": 8,
    "start_time": "2022-02-12T06:33:27.489Z"
   },
   {
    "duration": 26,
    "start_time": "2022-02-12T06:33:37.194Z"
   },
   {
    "duration": 27,
    "start_time": "2022-02-12T06:35:55.342Z"
   },
   {
    "duration": 27,
    "start_time": "2022-02-12T06:36:50.144Z"
   },
   {
    "duration": 1403,
    "start_time": "2022-02-12T06:37:20.492Z"
   },
   {
    "duration": 6097,
    "start_time": "2022-02-12T06:37:39.165Z"
   },
   {
    "duration": 31,
    "start_time": "2022-02-12T06:38:03.376Z"
   },
   {
    "duration": 26,
    "start_time": "2022-02-12T06:59:31.402Z"
   },
   {
    "duration": 24,
    "start_time": "2022-02-12T07:02:12.367Z"
   },
   {
    "duration": 22,
    "start_time": "2022-02-12T07:02:51.318Z"
   },
   {
    "duration": 21,
    "start_time": "2022-02-12T07:03:42.720Z"
   },
   {
    "duration": 21,
    "start_time": "2022-02-12T07:03:56.519Z"
   },
   {
    "duration": 17,
    "start_time": "2022-02-12T07:04:26.400Z"
   },
   {
    "duration": 23,
    "start_time": "2022-02-12T07:04:53.967Z"
   },
   {
    "duration": 48,
    "start_time": "2022-02-12T07:05:08.632Z"
   },
   {
    "duration": 288,
    "start_time": "2022-02-12T07:12:21.527Z"
   },
   {
    "duration": 84,
    "start_time": "2022-02-12T07:13:15.858Z"
   },
   {
    "duration": 99,
    "start_time": "2022-02-12T07:14:09.384Z"
   },
   {
    "duration": 620,
    "start_time": "2022-02-12T07:14:25.850Z"
   },
   {
    "duration": 85,
    "start_time": "2022-02-12T07:15:31.884Z"
   },
   {
    "duration": 296,
    "start_time": "2022-02-12T07:15:46.114Z"
   },
   {
    "duration": 468,
    "start_time": "2022-02-13T03:19:06.488Z"
   },
   {
    "duration": 1763,
    "start_time": "2022-02-13T03:19:19.772Z"
   },
   {
    "duration": 15,
    "start_time": "2022-02-13T03:19:23.806Z"
   },
   {
    "duration": 32,
    "start_time": "2022-02-13T03:19:24.677Z"
   },
   {
    "duration": 13,
    "start_time": "2022-02-13T03:19:25.941Z"
   },
   {
    "duration": 32,
    "start_time": "2022-02-13T03:19:26.982Z"
   },
   {
    "duration": 9,
    "start_time": "2022-02-13T03:19:28.014Z"
   },
   {
    "duration": 16,
    "start_time": "2022-02-13T03:19:28.787Z"
   },
   {
    "duration": 9,
    "start_time": "2022-02-13T03:19:30.404Z"
   },
   {
    "duration": 6,
    "start_time": "2022-02-13T03:19:31.700Z"
   },
   {
    "duration": 10,
    "start_time": "2022-02-13T03:19:33.284Z"
   },
   {
    "duration": 7,
    "start_time": "2022-02-13T03:19:34.460Z"
   },
   {
    "duration": 83,
    "start_time": "2022-02-13T03:19:39.059Z"
   },
   {
    "duration": 59,
    "start_time": "2022-02-13T03:19:42.515Z"
   },
   {
    "duration": 10,
    "start_time": "2022-02-13T03:19:46.959Z"
   },
   {
    "duration": 82,
    "start_time": "2022-02-13T03:20:01.090Z"
   },
   {
    "duration": 55,
    "start_time": "2022-02-13T03:20:03.411Z"
   },
   {
    "duration": 48,
    "start_time": "2022-02-13T03:20:07.340Z"
   },
   {
    "duration": 20,
    "start_time": "2022-02-13T03:20:10.804Z"
   },
   {
    "duration": 33,
    "start_time": "2022-02-13T03:20:41.046Z"
   },
   {
    "duration": 361,
    "start_time": "2022-02-13T03:27:25.136Z"
   },
   {
    "duration": 306,
    "start_time": "2022-02-13T03:40:13.273Z"
   },
   {
    "duration": 482,
    "start_time": "2022-02-13T03:40:57.822Z"
   },
   {
    "duration": 286,
    "start_time": "2022-02-13T03:41:30.293Z"
   },
   {
    "duration": 301,
    "start_time": "2022-02-13T03:41:46.834Z"
   },
   {
    "duration": 291,
    "start_time": "2022-02-13T03:50:19.218Z"
   },
   {
    "duration": 154,
    "start_time": "2022-02-13T03:51:21.144Z"
   },
   {
    "duration": 211,
    "start_time": "2022-02-13T03:52:52.816Z"
   },
   {
    "duration": 254,
    "start_time": "2022-02-13T03:55:04.321Z"
   },
   {
    "duration": 191,
    "start_time": "2022-02-13T03:55:17.193Z"
   },
   {
    "duration": 175,
    "start_time": "2022-02-13T03:59:53.243Z"
   },
   {
    "duration": 285,
    "start_time": "2022-02-13T04:02:47.861Z"
   },
   {
    "duration": 166,
    "start_time": "2022-02-13T04:04:08.247Z"
   },
   {
    "duration": 268,
    "start_time": "2022-02-13T04:04:56.138Z"
   },
   {
    "duration": 7,
    "start_time": "2022-02-13T04:14:28.234Z"
   },
   {
    "duration": 10,
    "start_time": "2022-02-13T04:14:47.585Z"
   },
   {
    "duration": 6,
    "start_time": "2022-02-13T04:15:37.825Z"
   },
   {
    "duration": 11,
    "start_time": "2022-02-13T04:15:48.034Z"
   },
   {
    "duration": 12,
    "start_time": "2022-02-13T04:17:42.155Z"
   },
   {
    "duration": 10,
    "start_time": "2022-02-13T04:18:50.134Z"
   },
   {
    "duration": 10,
    "start_time": "2022-02-13T04:21:40.110Z"
   },
   {
    "duration": 5,
    "start_time": "2022-02-13T04:24:09.459Z"
   },
   {
    "duration": 6,
    "start_time": "2022-02-13T04:24:38.969Z"
   },
   {
    "duration": 5,
    "start_time": "2022-02-13T04:25:12.748Z"
   },
   {
    "duration": 270,
    "start_time": "2022-02-13T04:26:58.609Z"
   },
   {
    "duration": 6,
    "start_time": "2022-02-13T04:27:03.100Z"
   },
   {
    "duration": 9,
    "start_time": "2022-02-13T04:27:25.927Z"
   },
   {
    "duration": 5,
    "start_time": "2022-02-13T04:28:40.025Z"
   },
   {
    "duration": 5,
    "start_time": "2022-02-13T04:32:33.546Z"
   },
   {
    "duration": 6,
    "start_time": "2022-02-13T04:32:50.893Z"
   },
   {
    "duration": 12,
    "start_time": "2022-02-13T04:33:02.376Z"
   },
   {
    "duration": 333,
    "start_time": "2022-02-13T04:35:33.250Z"
   },
   {
    "duration": 371,
    "start_time": "2022-02-13T04:35:58.261Z"
   },
   {
    "duration": 9,
    "start_time": "2022-02-13T04:35:59.822Z"
   },
   {
    "duration": 23,
    "start_time": "2022-02-13T04:36:00.786Z"
   },
   {
    "duration": 189,
    "start_time": "2022-02-13T04:36:02.337Z"
   },
   {
    "duration": 9,
    "start_time": "2022-02-13T04:36:04.281Z"
   },
   {
    "duration": 22,
    "start_time": "2022-02-13T04:36:05.579Z"
   },
   {
    "duration": 176,
    "start_time": "2022-02-13T04:36:06.770Z"
   },
   {
    "duration": 8,
    "start_time": "2022-02-13T04:36:08.148Z"
   },
   {
    "duration": 17,
    "start_time": "2022-02-13T04:36:10.991Z"
   },
   {
    "duration": 9,
    "start_time": "2022-02-13T04:36:13.337Z"
   },
   {
    "duration": 7,
    "start_time": "2022-02-13T04:36:14.393Z"
   },
   {
    "duration": 11,
    "start_time": "2022-02-13T04:36:16.217Z"
   },
   {
    "duration": 7,
    "start_time": "2022-02-13T04:36:17.118Z"
   },
   {
    "duration": 71,
    "start_time": "2022-02-13T04:36:20.975Z"
   },
   {
    "duration": 60,
    "start_time": "2022-02-13T04:36:23.128Z"
   },
   {
    "duration": 9,
    "start_time": "2022-02-13T04:36:24.183Z"
   },
   {
    "duration": 56,
    "start_time": "2022-02-13T04:36:34.618Z"
   },
   {
    "duration": 36,
    "start_time": "2022-02-13T04:36:36.207Z"
   },
   {
    "duration": 29,
    "start_time": "2022-02-13T04:36:37.519Z"
   },
   {
    "duration": 36,
    "start_time": "2022-02-13T04:36:39.012Z"
   },
   {
    "duration": 44,
    "start_time": "2022-02-13T04:36:49.617Z"
   },
   {
    "duration": 17,
    "start_time": "2022-02-13T04:36:51.715Z"
   },
   {
    "duration": 330,
    "start_time": "2022-02-13T04:36:56.883Z"
   },
   {
    "duration": 22,
    "start_time": "2022-02-13T04:37:10.311Z"
   },
   {
    "duration": 5,
    "start_time": "2022-02-13T04:37:22.946Z"
   },
   {
    "duration": 5,
    "start_time": "2022-02-13T04:37:49.340Z"
   },
   {
    "duration": 5,
    "start_time": "2022-02-13T04:38:03.622Z"
   },
   {
    "duration": 5,
    "start_time": "2022-02-13T04:39:49.011Z"
   },
   {
    "duration": 10,
    "start_time": "2022-02-13T04:41:00.196Z"
   },
   {
    "duration": 5,
    "start_time": "2022-02-13T04:41:10.779Z"
   },
   {
    "duration": 308,
    "start_time": "2022-02-13T04:41:16.581Z"
   },
   {
    "duration": 379,
    "start_time": "2022-02-13T04:41:28.227Z"
   },
   {
    "duration": 12,
    "start_time": "2022-02-13T04:41:29.803Z"
   },
   {
    "duration": 31,
    "start_time": "2022-02-13T04:41:30.531Z"
   },
   {
    "duration": 201,
    "start_time": "2022-02-13T04:41:31.306Z"
   },
   {
    "duration": 9,
    "start_time": "2022-02-13T04:41:31.979Z"
   },
   {
    "duration": 18,
    "start_time": "2022-02-13T04:41:32.875Z"
   },
   {
    "duration": 177,
    "start_time": "2022-02-13T04:41:33.706Z"
   },
   {
    "duration": 8,
    "start_time": "2022-02-13T04:41:34.571Z"
   },
   {
    "duration": 15,
    "start_time": "2022-02-13T04:41:36.265Z"
   },
   {
    "duration": 8,
    "start_time": "2022-02-13T04:41:37.266Z"
   },
   {
    "duration": 8,
    "start_time": "2022-02-13T04:41:38.072Z"
   },
   {
    "duration": 12,
    "start_time": "2022-02-13T04:41:39.058Z"
   },
   {
    "duration": 8,
    "start_time": "2022-02-13T04:41:40.018Z"
   },
   {
    "duration": 87,
    "start_time": "2022-02-13T04:41:44.369Z"
   },
   {
    "duration": 75,
    "start_time": "2022-02-13T04:41:46.571Z"
   },
   {
    "duration": 8,
    "start_time": "2022-02-13T04:41:48.025Z"
   },
   {
    "duration": 54,
    "start_time": "2022-02-13T04:41:56.562Z"
   },
   {
    "duration": 35,
    "start_time": "2022-02-13T04:41:57.897Z"
   },
   {
    "duration": 35,
    "start_time": "2022-02-13T04:41:59.684Z"
   },
   {
    "duration": 20,
    "start_time": "2022-02-13T04:42:00.863Z"
   },
   {
    "duration": 43,
    "start_time": "2022-02-13T04:42:04.930Z"
   },
   {
    "duration": 17,
    "start_time": "2022-02-13T04:42:05.905Z"
   },
   {
    "duration": 342,
    "start_time": "2022-02-13T04:42:08.876Z"
   },
   {
    "duration": 17,
    "start_time": "2022-02-13T04:42:17.803Z"
   },
   {
    "duration": 5,
    "start_time": "2022-02-13T04:42:20.026Z"
   },
   {
    "duration": 5,
    "start_time": "2022-02-13T04:42:24.247Z"
   },
   {
    "duration": 6,
    "start_time": "2022-02-13T04:42:25.389Z"
   },
   {
    "duration": 9,
    "start_time": "2022-02-13T04:42:27.824Z"
   },
   {
    "duration": 9,
    "start_time": "2022-02-13T04:43:57.060Z"
   },
   {
    "duration": 11,
    "start_time": "2022-02-13T04:44:05.972Z"
   },
   {
    "duration": 320,
    "start_time": "2022-02-13T04:44:11.086Z"
   },
   {
    "duration": 470,
    "start_time": "2022-02-13T04:44:27.074Z"
   },
   {
    "duration": 11,
    "start_time": "2022-02-13T04:44:28.292Z"
   },
   {
    "duration": 32,
    "start_time": "2022-02-13T04:44:29.139Z"
   },
   {
    "duration": 278,
    "start_time": "2022-02-13T04:44:30.060Z"
   },
   {
    "duration": 13,
    "start_time": "2022-02-13T04:44:31.240Z"
   },
   {
    "duration": 18,
    "start_time": "2022-02-13T04:44:32.090Z"
   },
   {
    "duration": 184,
    "start_time": "2022-02-13T04:44:32.935Z"
   },
   {
    "duration": 8,
    "start_time": "2022-02-13T04:44:34.755Z"
   },
   {
    "duration": 16,
    "start_time": "2022-02-13T04:44:36.555Z"
   },
   {
    "duration": 8,
    "start_time": "2022-02-13T04:44:37.420Z"
   },
   {
    "duration": 7,
    "start_time": "2022-02-13T04:44:38.298Z"
   },
   {
    "duration": 11,
    "start_time": "2022-02-13T04:44:39.117Z"
   },
   {
    "duration": 8,
    "start_time": "2022-02-13T04:44:39.921Z"
   },
   {
    "duration": 92,
    "start_time": "2022-02-13T04:44:43.154Z"
   },
   {
    "duration": 77,
    "start_time": "2022-02-13T04:44:45.050Z"
   },
   {
    "duration": 7,
    "start_time": "2022-02-13T04:44:46.650Z"
   },
   {
    "duration": 71,
    "start_time": "2022-02-13T04:44:54.453Z"
   },
   {
    "duration": 44,
    "start_time": "2022-02-13T04:44:55.282Z"
   },
   {
    "duration": 36,
    "start_time": "2022-02-13T04:44:56.181Z"
   },
   {
    "duration": 19,
    "start_time": "2022-02-13T04:44:58.715Z"
   },
   {
    "duration": 43,
    "start_time": "2022-02-13T04:45:04.420Z"
   },
   {
    "duration": 15,
    "start_time": "2022-02-13T04:45:05.349Z"
   },
   {
    "duration": 345,
    "start_time": "2022-02-13T04:45:09.958Z"
   },
   {
    "duration": 17,
    "start_time": "2022-02-13T04:45:18.714Z"
   },
   {
    "duration": 5,
    "start_time": "2022-02-13T04:45:20.873Z"
   },
   {
    "duration": 5,
    "start_time": "2022-02-13T04:45:22.242Z"
   },
   {
    "duration": 7,
    "start_time": "2022-02-13T04:45:23.126Z"
   },
   {
    "duration": 19,
    "start_time": "2022-02-13T04:45:24.436Z"
   },
   {
    "duration": 367,
    "start_time": "2022-02-13T04:48:51.285Z"
   },
   {
    "duration": 8,
    "start_time": "2022-02-13T04:48:52.352Z"
   },
   {
    "duration": 22,
    "start_time": "2022-02-13T04:48:53.046Z"
   },
   {
    "duration": 191,
    "start_time": "2022-02-13T04:48:53.863Z"
   },
   {
    "duration": 10,
    "start_time": "2022-02-13T04:48:54.616Z"
   },
   {
    "duration": 18,
    "start_time": "2022-02-13T04:48:55.356Z"
   },
   {
    "duration": 187,
    "start_time": "2022-02-13T04:48:56.107Z"
   },
   {
    "duration": 9,
    "start_time": "2022-02-13T04:48:56.884Z"
   },
   {
    "duration": 16,
    "start_time": "2022-02-13T04:48:58.443Z"
   },
   {
    "duration": 9,
    "start_time": "2022-02-13T04:48:59.188Z"
   },
   {
    "duration": 6,
    "start_time": "2022-02-13T04:48:59.972Z"
   },
   {
    "duration": 11,
    "start_time": "2022-02-13T04:49:00.740Z"
   },
   {
    "duration": 7,
    "start_time": "2022-02-13T04:49:01.587Z"
   },
   {
    "duration": 68,
    "start_time": "2022-02-13T04:49:05.595Z"
   },
   {
    "duration": 58,
    "start_time": "2022-02-13T04:49:08.706Z"
   },
   {
    "duration": 8,
    "start_time": "2022-02-13T04:49:09.604Z"
   },
   {
    "duration": 52,
    "start_time": "2022-02-13T04:49:17.172Z"
   },
   {
    "duration": 33,
    "start_time": "2022-02-13T04:49:18.132Z"
   },
   {
    "duration": 27,
    "start_time": "2022-02-13T04:49:20.958Z"
   },
   {
    "duration": 17,
    "start_time": "2022-02-13T04:49:22.237Z"
   },
   {
    "duration": 32,
    "start_time": "2022-02-13T04:49:27.237Z"
   },
   {
    "duration": 15,
    "start_time": "2022-02-13T04:49:30.397Z"
   },
   {
    "duration": 335,
    "start_time": "2022-02-13T04:49:34.287Z"
   },
   {
    "duration": 17,
    "start_time": "2022-02-13T04:49:58.694Z"
   },
   {
    "duration": 5,
    "start_time": "2022-02-13T04:50:06.182Z"
   },
   {
    "duration": 6,
    "start_time": "2022-02-13T04:50:11.494Z"
   },
   {
    "duration": 6,
    "start_time": "2022-02-13T04:50:15.165Z"
   },
   {
    "duration": 17,
    "start_time": "2022-02-13T04:50:23.503Z"
   },
   {
    "duration": 5,
    "start_time": "2022-02-13T04:50:29.838Z"
   },
   {
    "duration": 5,
    "start_time": "2022-02-13T04:50:34.737Z"
   },
   {
    "duration": 5,
    "start_time": "2022-02-13T04:50:42.318Z"
   },
   {
    "duration": 317,
    "start_time": "2022-02-13T04:51:04.258Z"
   },
   {
    "duration": 360,
    "start_time": "2022-02-13T06:11:43.390Z"
   },
   {
    "duration": 12,
    "start_time": "2022-02-13T06:11:45.221Z"
   },
   {
    "duration": 20,
    "start_time": "2022-02-13T06:11:46.211Z"
   },
   {
    "duration": 196,
    "start_time": "2022-02-13T06:11:47.222Z"
   },
   {
    "duration": 9,
    "start_time": "2022-02-13T06:11:48.420Z"
   },
   {
    "duration": 18,
    "start_time": "2022-02-13T06:11:49.474Z"
   },
   {
    "duration": 183,
    "start_time": "2022-02-13T06:11:50.476Z"
   },
   {
    "duration": 8,
    "start_time": "2022-02-13T06:11:51.632Z"
   },
   {
    "duration": 16,
    "start_time": "2022-02-13T06:11:53.669Z"
   },
   {
    "duration": 9,
    "start_time": "2022-02-13T06:11:54.668Z"
   },
   {
    "duration": 6,
    "start_time": "2022-02-13T06:11:55.687Z"
   },
   {
    "duration": 11,
    "start_time": "2022-02-13T06:11:56.540Z"
   },
   {
    "duration": 6,
    "start_time": "2022-02-13T06:11:57.436Z"
   },
   {
    "duration": 73,
    "start_time": "2022-02-13T06:12:00.888Z"
   },
   {
    "duration": 60,
    "start_time": "2022-02-13T06:12:02.947Z"
   },
   {
    "duration": 8,
    "start_time": "2022-02-13T06:12:03.900Z"
   },
   {
    "duration": 58,
    "start_time": "2022-02-13T06:12:15.213Z"
   },
   {
    "duration": 33,
    "start_time": "2022-02-13T06:12:17.100Z"
   },
   {
    "duration": 27,
    "start_time": "2022-02-13T06:12:17.948Z"
   },
   {
    "duration": 16,
    "start_time": "2022-02-13T06:12:19.439Z"
   },
   {
    "duration": 33,
    "start_time": "2022-02-13T06:12:24.987Z"
   },
   {
    "duration": 13,
    "start_time": "2022-02-13T06:12:27.392Z"
   },
   {
    "duration": 349,
    "start_time": "2022-02-13T06:12:30.059Z"
   },
   {
    "duration": 19,
    "start_time": "2022-02-13T06:12:39.262Z"
   },
   {
    "duration": 5,
    "start_time": "2022-02-13T06:12:44.176Z"
   },
   {
    "duration": 5,
    "start_time": "2022-02-13T06:12:46.941Z"
   },
   {
    "duration": 5,
    "start_time": "2022-02-13T06:12:50.533Z"
   },
   {
    "duration": 18,
    "start_time": "2022-02-13T06:12:57.950Z"
   },
   {
    "duration": 5,
    "start_time": "2022-02-13T06:13:02.318Z"
   },
   {
    "duration": 5,
    "start_time": "2022-02-13T06:13:06.238Z"
   },
   {
    "duration": 5,
    "start_time": "2022-02-13T06:13:11.584Z"
   },
   {
    "duration": 289,
    "start_time": "2022-02-13T06:13:15.807Z"
   },
   {
    "duration": 16,
    "start_time": "2022-02-13T06:13:29.095Z"
   },
   {
    "duration": 5,
    "start_time": "2022-02-13T06:13:34.678Z"
   },
   {
    "duration": 5,
    "start_time": "2022-02-13T06:13:37.197Z"
   },
   {
    "duration": 5,
    "start_time": "2022-02-13T06:13:55.223Z"
   },
   {
    "duration": 271,
    "start_time": "2022-02-13T06:14:03.669Z"
   },
   {
    "duration": 6,
    "start_time": "2022-02-13T06:14:29.477Z"
   },
   {
    "duration": 4,
    "start_time": "2022-02-13T06:14:32.945Z"
   },
   {
    "duration": 5,
    "start_time": "2022-02-13T06:14:35.413Z"
   },
   {
    "duration": 5,
    "start_time": "2022-02-13T06:14:43.590Z"
   },
   {
    "duration": 246,
    "start_time": "2022-02-13T06:14:49.759Z"
   },
   {
    "duration": 19,
    "start_time": "2022-02-13T06:14:59.578Z"
   },
   {
    "duration": 12,
    "start_time": "2022-02-13T06:15:08.797Z"
   },
   {
    "duration": 5,
    "start_time": "2022-02-13T06:15:12.006Z"
   },
   {
    "duration": 4,
    "start_time": "2022-02-13T06:15:17.176Z"
   },
   {
    "duration": 6,
    "start_time": "2022-02-13T06:15:26.038Z"
   },
   {
    "duration": 5,
    "start_time": "2022-02-13T06:15:28.663Z"
   },
   {
    "duration": 5,
    "start_time": "2022-02-13T06:15:35.918Z"
   },
   {
    "duration": 5,
    "start_time": "2022-02-13T06:15:43.583Z"
   },
   {
    "duration": 290,
    "start_time": "2022-02-13T06:26:17.654Z"
   },
   {
    "duration": 432,
    "start_time": "2022-02-13T06:26:59.748Z"
   },
   {
    "duration": 296,
    "start_time": "2022-02-13T06:27:46.163Z"
   },
   {
    "duration": 219,
    "start_time": "2022-02-13T06:28:24.694Z"
   },
   {
    "duration": 253,
    "start_time": "2022-02-13T06:28:32.816Z"
   },
   {
    "duration": 197,
    "start_time": "2022-02-13T06:35:50.830Z"
   },
   {
    "duration": 188,
    "start_time": "2022-02-13T06:37:01.172Z"
   },
   {
    "duration": 60,
    "start_time": "2022-02-13T06:39:14.360Z"
   },
   {
    "duration": 289,
    "start_time": "2022-02-13T06:41:09.969Z"
   },
   {
    "duration": 169,
    "start_time": "2022-02-13T06:41:34.123Z"
   },
   {
    "duration": 159,
    "start_time": "2022-02-13T06:42:07.338Z"
   },
   {
    "duration": 279,
    "start_time": "2022-02-13T06:43:52.819Z"
   },
   {
    "duration": 337,
    "start_time": "2022-02-13T06:46:27.180Z"
   },
   {
    "duration": 63,
    "start_time": "2022-02-13T06:48:11.515Z"
   },
   {
    "duration": 60,
    "start_time": "2022-02-13T06:48:26.423Z"
   },
   {
    "duration": 58,
    "start_time": "2022-02-13T06:50:03.939Z"
   },
   {
    "duration": 10,
    "start_time": "2022-02-13T06:52:31.935Z"
   },
   {
    "duration": 4,
    "start_time": "2022-02-13T06:52:56.190Z"
   },
   {
    "duration": 543,
    "start_time": "2022-02-13T06:54:14.246Z"
   },
   {
    "duration": 350,
    "start_time": "2022-02-13T06:54:36.602Z"
   },
   {
    "duration": 10,
    "start_time": "2022-02-13T06:54:37.372Z"
   },
   {
    "duration": 21,
    "start_time": "2022-02-13T06:54:38.084Z"
   },
   {
    "duration": 236,
    "start_time": "2022-02-13T06:54:39.165Z"
   },
   {
    "duration": 9,
    "start_time": "2022-02-13T06:54:41.190Z"
   },
   {
    "duration": 18,
    "start_time": "2022-02-13T06:54:42.137Z"
   },
   {
    "duration": 178,
    "start_time": "2022-02-13T06:54:43.394Z"
   },
   {
    "duration": 8,
    "start_time": "2022-02-13T06:54:44.475Z"
   },
   {
    "duration": 15,
    "start_time": "2022-02-13T06:54:46.058Z"
   },
   {
    "duration": 12,
    "start_time": "2022-02-13T06:54:46.716Z"
   },
   {
    "duration": 6,
    "start_time": "2022-02-13T06:54:47.703Z"
   },
   {
    "duration": 11,
    "start_time": "2022-02-13T06:54:48.703Z"
   },
   {
    "duration": 7,
    "start_time": "2022-02-13T06:54:49.527Z"
   },
   {
    "duration": 64,
    "start_time": "2022-02-13T06:54:52.911Z"
   },
   {
    "duration": 58,
    "start_time": "2022-02-13T06:54:56.990Z"
   },
   {
    "duration": 6,
    "start_time": "2022-02-13T06:55:05.510Z"
   },
   {
    "duration": 181,
    "start_time": "2022-02-13T06:55:08.850Z"
   },
   {
    "duration": 250,
    "start_time": "2022-02-13T06:55:10.082Z"
   },
   {
    "duration": 51,
    "start_time": "2022-02-13T06:55:20.153Z"
   },
   {
    "duration": 30,
    "start_time": "2022-02-13T06:55:26.517Z"
   },
   {
    "duration": 276,
    "start_time": "2022-02-13T06:55:32.525Z"
   },
   {
    "duration": 166,
    "start_time": "2022-02-13T06:56:07.671Z"
   },
   {
    "duration": 1480,
    "start_time": "2022-02-14T03:07:09.007Z"
   },
   {
    "duration": 11,
    "start_time": "2022-02-14T03:07:13.452Z"
   },
   {
    "duration": 18,
    "start_time": "2022-02-14T03:07:18.156Z"
   },
   {
    "duration": 213,
    "start_time": "2022-02-14T03:07:29.045Z"
   },
   {
    "duration": 8,
    "start_time": "2022-02-14T03:07:33.553Z"
   },
   {
    "duration": 16,
    "start_time": "2022-02-14T03:07:37.239Z"
   },
   {
    "duration": 161,
    "start_time": "2022-02-14T03:07:43.414Z"
   },
   {
    "duration": 7,
    "start_time": "2022-02-14T03:07:47.037Z"
   },
   {
    "duration": 13,
    "start_time": "2022-02-14T03:07:54.707Z"
   },
   {
    "duration": 8,
    "start_time": "2022-02-14T03:07:58.381Z"
   },
   {
    "duration": 6,
    "start_time": "2022-02-14T03:08:00.917Z"
   },
   {
    "duration": 10,
    "start_time": "2022-02-14T03:08:04.637Z"
   },
   {
    "duration": 7,
    "start_time": "2022-02-14T03:08:07.773Z"
   },
   {
    "duration": 69,
    "start_time": "2022-02-14T03:08:18.961Z"
   },
   {
    "duration": 51,
    "start_time": "2022-02-14T03:08:31.949Z"
   },
   {
    "duration": 8,
    "start_time": "2022-02-14T03:08:37.083Z"
   },
   {
    "duration": 158,
    "start_time": "2022-02-14T03:08:55.680Z"
   },
   {
    "duration": 166,
    "start_time": "2022-02-14T03:09:14.900Z"
   },
   {
    "duration": 63,
    "start_time": "2022-02-14T03:09:31.683Z"
   },
   {
    "duration": 35,
    "start_time": "2022-02-14T03:09:36.964Z"
   },
   {
    "duration": 149,
    "start_time": "2022-02-14T03:09:51.143Z"
   },
   {
    "duration": 31,
    "start_time": "2022-02-14T03:09:56.366Z"
   },
   {
    "duration": 19,
    "start_time": "2022-02-14T03:10:01.576Z"
   },
   {
    "duration": 30,
    "start_time": "2022-02-14T03:10:09.996Z"
   },
   {
    "duration": 14,
    "start_time": "2022-02-14T03:10:17.984Z"
   },
   {
    "duration": 299,
    "start_time": "2022-02-14T03:10:29.508Z"
   },
   {
    "duration": 16,
    "start_time": "2022-02-14T03:10:50.904Z"
   },
   {
    "duration": 4,
    "start_time": "2022-02-14T03:10:58.333Z"
   },
   {
    "duration": 4,
    "start_time": "2022-02-14T03:11:05.884Z"
   },
   {
    "duration": 5,
    "start_time": "2022-02-14T03:11:09.903Z"
   },
   {
    "duration": 5,
    "start_time": "2022-02-14T03:11:31.016Z"
   },
   {
    "duration": 4,
    "start_time": "2022-02-14T03:11:35.004Z"
   },
   {
    "duration": 4,
    "start_time": "2022-02-14T03:11:38.755Z"
   },
   {
    "duration": 5,
    "start_time": "2022-02-14T03:11:40.117Z"
   },
   {
    "duration": 314,
    "start_time": "2022-02-14T03:11:44.244Z"
   },
   {
    "duration": 15,
    "start_time": "2022-02-14T03:11:55.887Z"
   },
   {
    "duration": 4,
    "start_time": "2022-02-14T03:12:05.231Z"
   },
   {
    "duration": 4,
    "start_time": "2022-02-14T03:12:12.404Z"
   },
   {
    "duration": 5,
    "start_time": "2022-02-14T03:12:17.025Z"
   },
   {
    "duration": 4,
    "start_time": "2022-02-14T03:12:21.905Z"
   },
   {
    "duration": 4,
    "start_time": "2022-02-14T03:12:24.229Z"
   },
   {
    "duration": 4,
    "start_time": "2022-02-14T03:12:26.896Z"
   },
   {
    "duration": 5,
    "start_time": "2022-02-14T03:12:30.162Z"
   },
   {
    "duration": 217,
    "start_time": "2022-02-14T03:12:31.831Z"
   },
   {
    "duration": 16,
    "start_time": "2022-02-14T03:12:40.397Z"
   },
   {
    "duration": 4,
    "start_time": "2022-02-14T03:12:44.949Z"
   },
   {
    "duration": 4,
    "start_time": "2022-02-14T03:12:51.837Z"
   },
   {
    "duration": 4,
    "start_time": "2022-02-14T03:12:53.238Z"
   },
   {
    "duration": 5,
    "start_time": "2022-02-14T03:12:54.681Z"
   },
   {
    "duration": 4,
    "start_time": "2022-02-14T03:12:55.941Z"
   },
   {
    "duration": 4,
    "start_time": "2022-02-14T03:12:57.086Z"
   },
   {
    "duration": 3,
    "start_time": "2022-02-14T03:12:58.294Z"
   },
   {
    "duration": 249,
    "start_time": "2022-02-14T03:13:00.194Z"
   },
   {
    "duration": 5,
    "start_time": "2022-02-14T03:13:23.158Z"
   },
   {
    "duration": 395,
    "start_time": "2022-02-14T03:13:30.903Z"
   },
   {
    "duration": 5,
    "start_time": "2022-02-14T03:13:37.723Z"
   },
   {
    "duration": 300,
    "start_time": "2022-02-14T03:13:52.594Z"
   },
   {
    "duration": 346,
    "start_time": "2022-02-14T03:14:01.096Z"
   },
   {
    "duration": 323,
    "start_time": "2022-02-14T03:15:10.374Z"
   },
   {
    "duration": 317,
    "start_time": "2022-02-14T03:15:52.072Z"
   },
   {
    "duration": 5,
    "start_time": "2022-02-14T03:16:01.961Z"
   },
   {
    "duration": 308,
    "start_time": "2022-02-14T03:16:10.127Z"
   },
   {
    "duration": 5,
    "start_time": "2022-02-14T03:16:12.925Z"
   },
   {
    "duration": 322,
    "start_time": "2022-02-14T03:23:11.498Z"
   },
   {
    "duration": 388,
    "start_time": "2022-02-14T03:23:31.969Z"
   },
   {
    "duration": 8,
    "start_time": "2022-02-14T03:23:32.644Z"
   },
   {
    "duration": 19,
    "start_time": "2022-02-14T03:23:33.530Z"
   },
   {
    "duration": 206,
    "start_time": "2022-02-14T03:23:34.415Z"
   },
   {
    "duration": 8,
    "start_time": "2022-02-14T03:23:35.434Z"
   },
   {
    "duration": 16,
    "start_time": "2022-02-14T03:23:36.305Z"
   },
   {
    "duration": 164,
    "start_time": "2022-02-14T03:23:37.623Z"
   },
   {
    "duration": 7,
    "start_time": "2022-02-14T03:23:38.520Z"
   },
   {
    "duration": 14,
    "start_time": "2022-02-14T03:23:40.125Z"
   },
   {
    "duration": 8,
    "start_time": "2022-02-14T03:23:40.841Z"
   },
   {
    "duration": 6,
    "start_time": "2022-02-14T03:23:41.656Z"
   },
   {
    "duration": 9,
    "start_time": "2022-02-14T03:23:42.687Z"
   },
   {
    "duration": 6,
    "start_time": "2022-02-14T03:23:43.543Z"
   },
   {
    "duration": 64,
    "start_time": "2022-02-14T03:23:46.581Z"
   },
   {
    "duration": 51,
    "start_time": "2022-02-14T03:23:48.280Z"
   },
   {
    "duration": 8,
    "start_time": "2022-02-14T03:23:49.151Z"
   },
   {
    "duration": 167,
    "start_time": "2022-02-14T03:23:50.000Z"
   },
   {
    "duration": 183,
    "start_time": "2022-02-14T03:23:52.283Z"
   },
   {
    "duration": 47,
    "start_time": "2022-02-14T03:23:59.592Z"
   },
   {
    "duration": 30,
    "start_time": "2022-02-14T03:24:00.639Z"
   },
   {
    "duration": 158,
    "start_time": "2022-02-14T03:24:01.516Z"
   },
   {
    "duration": 27,
    "start_time": "2022-02-14T03:24:02.532Z"
   },
   {
    "duration": 13,
    "start_time": "2022-02-14T03:24:03.322Z"
   },
   {
    "duration": 28,
    "start_time": "2022-02-14T03:24:05.817Z"
   },
   {
    "duration": 12,
    "start_time": "2022-02-14T03:24:06.641Z"
   },
   {
    "duration": 293,
    "start_time": "2022-02-14T03:24:08.355Z"
   },
   {
    "duration": 15,
    "start_time": "2022-02-14T03:24:12.772Z"
   },
   {
    "duration": 4,
    "start_time": "2022-02-14T03:24:13.807Z"
   },
   {
    "duration": 4,
    "start_time": "2022-02-14T03:24:14.982Z"
   },
   {
    "duration": 4,
    "start_time": "2022-02-14T03:24:15.754Z"
   },
   {
    "duration": 5,
    "start_time": "2022-02-14T03:24:16.365Z"
   },
   {
    "duration": 4,
    "start_time": "2022-02-14T03:24:17.047Z"
   },
   {
    "duration": 3,
    "start_time": "2022-02-14T03:24:17.875Z"
   },
   {
    "duration": 4,
    "start_time": "2022-02-14T03:24:18.735Z"
   },
   {
    "duration": 273,
    "start_time": "2022-02-14T03:24:19.655Z"
   },
   {
    "duration": 16,
    "start_time": "2022-02-14T03:24:22.081Z"
   },
   {
    "duration": 4,
    "start_time": "2022-02-14T03:24:22.830Z"
   },
   {
    "duration": 4,
    "start_time": "2022-02-14T03:24:23.576Z"
   },
   {
    "duration": 4,
    "start_time": "2022-02-14T03:24:24.287Z"
   },
   {
    "duration": 5,
    "start_time": "2022-02-14T03:24:25.016Z"
   },
   {
    "duration": 4,
    "start_time": "2022-02-14T03:24:25.784Z"
   },
   {
    "duration": 4,
    "start_time": "2022-02-14T03:24:26.473Z"
   },
   {
    "duration": 4,
    "start_time": "2022-02-14T03:24:27.143Z"
   },
   {
    "duration": 285,
    "start_time": "2022-02-14T03:24:28.142Z"
   },
   {
    "duration": 14,
    "start_time": "2022-02-14T03:24:31.585Z"
   },
   {
    "duration": 4,
    "start_time": "2022-02-14T03:24:32.495Z"
   },
   {
    "duration": 4,
    "start_time": "2022-02-14T03:24:33.507Z"
   },
   {
    "duration": 4,
    "start_time": "2022-02-14T03:24:34.143Z"
   },
   {
    "duration": 5,
    "start_time": "2022-02-14T03:24:34.808Z"
   },
   {
    "duration": 4,
    "start_time": "2022-02-14T03:24:35.576Z"
   },
   {
    "duration": 4,
    "start_time": "2022-02-14T03:24:36.361Z"
   },
   {
    "duration": 4,
    "start_time": "2022-02-14T03:24:38.569Z"
   },
   {
    "duration": 254,
    "start_time": "2022-02-14T03:24:39.632Z"
   },
   {
    "duration": 5,
    "start_time": "2022-02-14T03:24:52.828Z"
   },
   {
    "duration": 420,
    "start_time": "2022-02-14T03:25:01.543Z"
   },
   {
    "duration": 335,
    "start_time": "2022-02-14T03:25:07.054Z"
   },
   {
    "duration": 351,
    "start_time": "2022-02-14T03:25:14.042Z"
   },
   {
    "duration": 14,
    "start_time": "2022-02-14T03:27:16.897Z"
   },
   {
    "duration": 355,
    "start_time": "2022-02-14T03:27:49.236Z"
   },
   {
    "duration": 16,
    "start_time": "2022-02-14T03:27:53.649Z"
   },
   {
    "duration": 326,
    "start_time": "2022-02-14T03:28:13.499Z"
   },
   {
    "duration": 17,
    "start_time": "2022-02-14T03:28:18.359Z"
   },
   {
    "duration": 342,
    "start_time": "2022-02-14T03:29:11.748Z"
   },
   {
    "duration": 17,
    "start_time": "2022-02-14T03:29:16.101Z"
   },
   {
    "duration": 34,
    "start_time": "2022-02-14T03:55:28.889Z"
   },
   {
    "duration": 155,
    "start_time": "2022-02-14T03:55:30.190Z"
   },
   {
    "duration": 31,
    "start_time": "2022-02-14T03:55:31.253Z"
   },
   {
    "duration": 14,
    "start_time": "2022-02-14T03:55:31.996Z"
   },
   {
    "duration": 27,
    "start_time": "2022-02-14T03:55:34.036Z"
   },
   {
    "duration": 13,
    "start_time": "2022-02-14T03:55:34.683Z"
   },
   {
    "duration": 338,
    "start_time": "2022-02-14T03:55:36.024Z"
   },
   {
    "duration": 16,
    "start_time": "2022-02-14T03:55:39.864Z"
   },
   {
    "duration": 4,
    "start_time": "2022-02-14T03:55:40.482Z"
   },
   {
    "duration": 4,
    "start_time": "2022-02-14T03:55:41.065Z"
   },
   {
    "duration": 4,
    "start_time": "2022-02-14T03:55:41.698Z"
   },
   {
    "duration": 5,
    "start_time": "2022-02-14T03:55:42.275Z"
   },
   {
    "duration": 4,
    "start_time": "2022-02-14T03:55:42.940Z"
   },
   {
    "duration": 5,
    "start_time": "2022-02-14T03:55:43.506Z"
   },
   {
    "duration": 6,
    "start_time": "2022-02-14T03:55:44.125Z"
   },
   {
    "duration": 268,
    "start_time": "2022-02-14T03:55:44.762Z"
   },
   {
    "duration": 15,
    "start_time": "2022-02-14T03:55:46.868Z"
   },
   {
    "duration": 5,
    "start_time": "2022-02-14T03:55:47.569Z"
   },
   {
    "duration": 5,
    "start_time": "2022-02-14T03:55:48.243Z"
   },
   {
    "duration": 4,
    "start_time": "2022-02-14T03:55:48.890Z"
   },
   {
    "duration": 5,
    "start_time": "2022-02-14T03:55:49.548Z"
   },
   {
    "duration": 3,
    "start_time": "2022-02-14T03:55:50.131Z"
   },
   {
    "duration": 4,
    "start_time": "2022-02-14T03:55:50.740Z"
   },
   {
    "duration": 4,
    "start_time": "2022-02-14T03:55:51.316Z"
   },
   {
    "duration": 219,
    "start_time": "2022-02-14T03:55:52.034Z"
   },
   {
    "duration": 20,
    "start_time": "2022-02-14T03:55:54.443Z"
   },
   {
    "duration": 4,
    "start_time": "2022-02-14T03:55:55.246Z"
   },
   {
    "duration": 4,
    "start_time": "2022-02-14T03:55:56.379Z"
   },
   {
    "duration": 5,
    "start_time": "2022-02-14T03:55:56.980Z"
   },
   {
    "duration": 5,
    "start_time": "2022-02-14T03:55:57.586Z"
   },
   {
    "duration": 4,
    "start_time": "2022-02-14T03:55:58.210Z"
   },
   {
    "duration": 5,
    "start_time": "2022-02-14T03:55:58.834Z"
   },
   {
    "duration": 4,
    "start_time": "2022-02-14T03:55:59.459Z"
   },
   {
    "duration": 262,
    "start_time": "2022-02-14T03:56:00.260Z"
   },
   {
    "duration": 5,
    "start_time": "2022-02-14T03:56:09.522Z"
   },
   {
    "duration": 15,
    "start_time": "2022-02-14T03:56:21.166Z"
   },
   {
    "duration": 6,
    "start_time": "2022-02-14T03:56:29.618Z"
   },
   {
    "duration": 339,
    "start_time": "2022-02-14T04:03:02.728Z"
   },
   {
    "duration": 145,
    "start_time": "2022-02-14T04:03:45.448Z"
   },
   {
    "duration": 146,
    "start_time": "2022-02-14T04:04:07.882Z"
   },
   {
    "duration": 156,
    "start_time": "2022-02-14T04:06:55.802Z"
   },
   {
    "duration": 243,
    "start_time": "2022-02-14T04:07:40.091Z"
   },
   {
    "duration": 386,
    "start_time": "2022-02-14T04:10:53.179Z"
   },
   {
    "duration": 4445,
    "start_time": "2022-02-14T04:12:36.973Z"
   },
   {
    "duration": 36460,
    "start_time": "2022-02-14T04:14:02.321Z"
   },
   {
    "duration": 36546,
    "start_time": "2022-02-14T04:15:20.874Z"
   },
   {
    "duration": 311,
    "start_time": "2022-02-14T04:18:08.161Z"
   },
   {
    "duration": 357,
    "start_time": "2022-02-14T04:18:43.590Z"
   },
   {
    "duration": 326,
    "start_time": "2022-02-14T04:19:11.922Z"
   },
   {
    "duration": 330,
    "start_time": "2022-02-14T04:19:50.481Z"
   },
   {
    "duration": 4956,
    "start_time": "2022-02-14T04:20:24.449Z"
   },
   {
    "duration": 327,
    "start_time": "2022-02-14T04:22:35.873Z"
   },
   {
    "duration": 335,
    "start_time": "2022-02-14T04:22:57.545Z"
   },
   {
    "duration": 309,
    "start_time": "2022-02-14T04:25:34.862Z"
   },
   {
    "duration": 102,
    "start_time": "2022-02-14T04:39:57.552Z"
   },
   {
    "duration": 112,
    "start_time": "2022-02-14T04:40:01.840Z"
   },
   {
    "duration": 401,
    "start_time": "2022-02-14T04:44:59.744Z"
   },
   {
    "duration": 9,
    "start_time": "2022-02-14T04:45:02.273Z"
   },
   {
    "duration": 19,
    "start_time": "2022-02-14T04:45:05.553Z"
   },
   {
    "duration": 8,
    "start_time": "2022-02-14T04:45:07.577Z"
   },
   {
    "duration": 16,
    "start_time": "2022-02-14T04:45:10.918Z"
   },
   {
    "duration": 7,
    "start_time": "2022-02-14T04:45:15.126Z"
   },
   {
    "duration": 13,
    "start_time": "2022-02-14T04:45:22.988Z"
   },
   {
    "duration": 8,
    "start_time": "2022-02-14T04:45:25.069Z"
   },
   {
    "duration": 6,
    "start_time": "2022-02-14T04:45:29.037Z"
   },
   {
    "duration": 9,
    "start_time": "2022-02-14T04:45:32.751Z"
   },
   {
    "duration": 6,
    "start_time": "2022-02-14T04:45:36.168Z"
   },
   {
    "duration": 62,
    "start_time": "2022-02-14T04:45:48.351Z"
   },
   {
    "duration": 51,
    "start_time": "2022-02-14T04:45:54.509Z"
   },
   {
    "duration": 61,
    "start_time": "2022-02-14T04:45:58.564Z"
   },
   {
    "duration": 6,
    "start_time": "2022-02-14T04:46:03.351Z"
   },
   {
    "duration": 53,
    "start_time": "2022-02-14T04:46:20.061Z"
   },
   {
    "duration": 159,
    "start_time": "2022-02-14T04:46:23.288Z"
   },
   {
    "duration": 32,
    "start_time": "2022-02-14T04:46:29.314Z"
   },
   {
    "duration": 153,
    "start_time": "2022-02-14T04:46:33.029Z"
   },
   {
    "duration": 26,
    "start_time": "2022-02-14T04:46:37.038Z"
   },
   {
    "duration": 14,
    "start_time": "2022-02-14T04:46:39.927Z"
   },
   {
    "duration": 159,
    "start_time": "2022-02-14T04:46:42.278Z"
   },
   {
    "duration": 28,
    "start_time": "2022-02-14T04:46:50.286Z"
   },
   {
    "duration": 27,
    "start_time": "2022-02-14T04:46:57.087Z"
   },
   {
    "duration": 13,
    "start_time": "2022-02-14T04:46:59.082Z"
   },
   {
    "duration": 299,
    "start_time": "2022-02-14T04:47:03.213Z"
   },
   {
    "duration": 16,
    "start_time": "2022-02-14T04:47:21.351Z"
   },
   {
    "duration": 4,
    "start_time": "2022-02-14T04:47:24.734Z"
   },
   {
    "duration": 4,
    "start_time": "2022-02-14T04:47:26.479Z"
   },
   {
    "duration": 4,
    "start_time": "2022-02-14T04:47:28.430Z"
   },
   {
    "duration": 5,
    "start_time": "2022-02-14T04:47:30.022Z"
   },
   {
    "duration": 5,
    "start_time": "2022-02-14T04:47:31.933Z"
   },
   {
    "duration": 4,
    "start_time": "2022-02-14T04:47:33.207Z"
   },
   {
    "duration": 4,
    "start_time": "2022-02-14T04:47:34.270Z"
   },
   {
    "duration": 256,
    "start_time": "2022-02-14T04:47:36.598Z"
   },
   {
    "duration": 15,
    "start_time": "2022-02-14T04:47:41.751Z"
   },
   {
    "duration": 4,
    "start_time": "2022-02-14T04:47:44.255Z"
   },
   {
    "duration": 4,
    "start_time": "2022-02-14T04:47:45.607Z"
   },
   {
    "duration": 4,
    "start_time": "2022-02-14T04:47:47.679Z"
   },
   {
    "duration": 5,
    "start_time": "2022-02-14T04:47:49.207Z"
   },
   {
    "duration": 4,
    "start_time": "2022-02-14T04:47:50.254Z"
   },
   {
    "duration": 4,
    "start_time": "2022-02-14T04:47:51.157Z"
   },
   {
    "duration": 4,
    "start_time": "2022-02-14T04:47:51.982Z"
   },
   {
    "duration": 217,
    "start_time": "2022-02-14T04:47:53.503Z"
   },
   {
    "duration": 17,
    "start_time": "2022-02-14T04:47:59.711Z"
   },
   {
    "duration": 4,
    "start_time": "2022-02-14T04:48:01.000Z"
   },
   {
    "duration": 4,
    "start_time": "2022-02-14T04:48:03.007Z"
   },
   {
    "duration": 4,
    "start_time": "2022-02-14T04:48:04.486Z"
   },
   {
    "duration": 5,
    "start_time": "2022-02-14T04:48:05.239Z"
   },
   {
    "duration": 4,
    "start_time": "2022-02-14T04:48:05.981Z"
   },
   {
    "duration": 5,
    "start_time": "2022-02-14T04:48:06.836Z"
   },
   {
    "duration": 4,
    "start_time": "2022-02-14T04:48:07.737Z"
   },
   {
    "duration": 257,
    "start_time": "2022-02-14T04:48:08.824Z"
   },
   {
    "duration": 5,
    "start_time": "2022-02-14T04:48:33.996Z"
   },
   {
    "duration": 4,
    "start_time": "2022-02-14T04:48:50.920Z"
   },
   {
    "duration": 14,
    "start_time": "2022-02-14T04:48:58.283Z"
   },
   {
    "duration": 397,
    "start_time": "2022-02-15T04:11:36.059Z"
   },
   {
    "duration": 2022,
    "start_time": "2022-02-15T04:11:52.084Z"
   },
   {
    "duration": 17,
    "start_time": "2022-02-15T04:11:54.108Z"
   },
   {
    "duration": 28,
    "start_time": "2022-02-15T04:11:54.278Z"
   },
   {
    "duration": 13,
    "start_time": "2022-02-15T04:11:55.173Z"
   },
   {
    "duration": 34,
    "start_time": "2022-02-15T04:11:56.012Z"
   },
   {
    "duration": 10,
    "start_time": "2022-02-15T04:11:56.844Z"
   },
   {
    "duration": 19,
    "start_time": "2022-02-15T04:11:57.665Z"
   },
   {
    "duration": 11,
    "start_time": "2022-02-15T04:11:58.587Z"
   },
   {
    "duration": 9,
    "start_time": "2022-02-15T04:11:59.322Z"
   },
   {
    "duration": 16,
    "start_time": "2022-02-15T04:12:00.612Z"
   },
   {
    "duration": 10,
    "start_time": "2022-02-15T04:12:01.449Z"
   },
   {
    "duration": 116,
    "start_time": "2022-02-15T04:12:04.793Z"
   },
   {
    "duration": 84,
    "start_time": "2022-02-15T04:12:06.674Z"
   },
   {
    "duration": 24,
    "start_time": "2022-02-15T04:12:11.943Z"
   },
   {
    "duration": 21,
    "start_time": "2022-02-15T04:12:32.460Z"
   },
   {
    "duration": 21,
    "start_time": "2022-02-15T05:00:10.868Z"
   },
   {
    "duration": 501,
    "start_time": "2022-02-15T05:00:29.319Z"
   },
   {
    "duration": 13,
    "start_time": "2022-02-15T05:00:30.631Z"
   },
   {
    "duration": 27,
    "start_time": "2022-02-15T05:00:35.303Z"
   },
   {
    "duration": 13,
    "start_time": "2022-02-15T05:00:37.716Z"
   },
   {
    "duration": 24,
    "start_time": "2022-02-15T05:00:40.427Z"
   },
   {
    "duration": 12,
    "start_time": "2022-02-15T05:00:42.123Z"
   },
   {
    "duration": 22,
    "start_time": "2022-02-15T05:00:43.184Z"
   },
   {
    "duration": 12,
    "start_time": "2022-02-15T05:00:44.970Z"
   },
   {
    "duration": 10,
    "start_time": "2022-02-15T05:00:46.898Z"
   },
   {
    "duration": 16,
    "start_time": "2022-02-15T05:00:48.419Z"
   },
   {
    "duration": 9,
    "start_time": "2022-02-15T05:00:52.332Z"
   },
   {
    "duration": 94,
    "start_time": "2022-02-15T05:01:05.377Z"
   },
   {
    "duration": 84,
    "start_time": "2022-02-15T05:01:12.170Z"
   },
   {
    "duration": 21,
    "start_time": "2022-02-15T05:01:18.994Z"
   },
   {
    "duration": 122,
    "start_time": "2022-02-15T05:02:47.242Z"
   },
   {
    "duration": 95,
    "start_time": "2022-02-15T05:03:40.547Z"
   },
   {
    "duration": 281,
    "start_time": "2022-02-15T05:03:44.983Z"
   },
   {
    "duration": 48,
    "start_time": "2022-02-15T05:03:46.091Z"
   },
   {
    "duration": 281,
    "start_time": "2022-02-15T05:03:48.021Z"
   },
   {
    "duration": 40,
    "start_time": "2022-02-15T05:03:52.270Z"
   },
   {
    "duration": 27,
    "start_time": "2022-02-15T05:03:53.181Z"
   },
   {
    "duration": 289,
    "start_time": "2022-02-15T05:03:59.789Z"
   },
   {
    "duration": 49,
    "start_time": "2022-02-15T05:04:05.147Z"
   },
   {
    "duration": 22,
    "start_time": "2022-02-15T05:04:06.382Z"
   },
   {
    "duration": 575,
    "start_time": "2022-02-15T05:04:09.907Z"
   },
   {
    "duration": 26,
    "start_time": "2022-02-15T05:04:18.034Z"
   },
   {
    "duration": 7,
    "start_time": "2022-02-15T05:04:19.562Z"
   },
   {
    "duration": 7,
    "start_time": "2022-02-15T05:04:21.138Z"
   },
   {
    "duration": 6,
    "start_time": "2022-02-15T05:04:21.875Z"
   },
   {
    "duration": 8,
    "start_time": "2022-02-15T05:04:22.581Z"
   },
   {
    "duration": 6,
    "start_time": "2022-02-15T05:04:23.361Z"
   },
   {
    "duration": 6,
    "start_time": "2022-02-15T05:04:24.091Z"
   },
   {
    "duration": 7,
    "start_time": "2022-02-15T05:04:24.906Z"
   },
   {
    "duration": 597,
    "start_time": "2022-02-15T05:04:25.952Z"
   },
   {
    "duration": 26,
    "start_time": "2022-02-15T05:04:30.261Z"
   },
   {
    "duration": 6,
    "start_time": "2022-02-15T05:04:31.563Z"
   },
   {
    "duration": 6,
    "start_time": "2022-02-15T05:04:32.538Z"
   },
   {
    "duration": 6,
    "start_time": "2022-02-15T05:04:33.179Z"
   },
   {
    "duration": 6,
    "start_time": "2022-02-15T05:04:33.851Z"
   },
   {
    "duration": 6,
    "start_time": "2022-02-15T05:04:34.691Z"
   },
   {
    "duration": 6,
    "start_time": "2022-02-15T05:04:35.339Z"
   },
   {
    "duration": 6,
    "start_time": "2022-02-15T05:04:35.859Z"
   },
   {
    "duration": 406,
    "start_time": "2022-02-15T05:04:36.787Z"
   },
   {
    "duration": 26,
    "start_time": "2022-02-15T05:04:39.644Z"
   },
   {
    "duration": 7,
    "start_time": "2022-02-15T05:04:40.491Z"
   },
   {
    "duration": 6,
    "start_time": "2022-02-15T05:04:41.218Z"
   },
   {
    "duration": 7,
    "start_time": "2022-02-15T05:04:41.843Z"
   },
   {
    "duration": 7,
    "start_time": "2022-02-15T05:04:42.442Z"
   },
   {
    "duration": 6,
    "start_time": "2022-02-15T05:04:43.177Z"
   },
   {
    "duration": 6,
    "start_time": "2022-02-15T05:04:43.823Z"
   },
   {
    "duration": 6,
    "start_time": "2022-02-15T05:04:44.477Z"
   },
   {
    "duration": 537,
    "start_time": "2022-02-15T05:04:45.275Z"
   },
   {
    "duration": 7,
    "start_time": "2022-02-15T05:05:00.717Z"
   },
   {
    "duration": 23,
    "start_time": "2022-02-15T05:05:07.518Z"
   },
   {
    "duration": 8,
    "start_time": "2022-02-15T05:05:10.561Z"
   }
  ],
  "kernelspec": {
   "display_name": "Python 3 (ipykernel)",
   "language": "python",
   "name": "python3"
  },
  "language_info": {
   "codemirror_mode": {
    "name": "ipython",
    "version": 3
   },
   "file_extension": ".py",
   "mimetype": "text/x-python",
   "name": "python",
   "nbconvert_exporter": "python",
   "pygments_lexer": "ipython3",
   "version": "3.9.5"
  },
  "toc": {
   "base_numbering": 1,
   "nav_menu": {},
   "number_sections": false,
   "sideBar": true,
   "skip_h1_title": false,
   "title_cell": "Table of Contents",
   "title_sidebar": "Contents",
   "toc_cell": false,
   "toc_position": {},
   "toc_section_display": true,
   "toc_window_display": true
  }
 },
 "nbformat": 4,
 "nbformat_minor": 2
}
