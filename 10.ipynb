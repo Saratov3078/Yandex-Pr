{
 "cells": [
  {
   "cell_type": "markdown",
   "metadata": {
    "toc": true
   },
   "source": [
    "<h1>Содержание<span class=\"tocSkip\"></span></h1>\n",
    "<div class=\"toc\"><ul class=\"toc-item\"><li><span><a href=\"#Загрузка-данных\" data-toc-modified-id=\"Загрузка-данных-1\"><span class=\"toc-item-num\">1&nbsp;&nbsp;</span>Загрузка данных</a></span></li><li><span><a href=\"#Умножение-матриц\" data-toc-modified-id=\"Умножение-матриц-2\"><span class=\"toc-item-num\">2&nbsp;&nbsp;</span>Умножение матриц</a></span></li><li><span><a href=\"#Алгоритм-преобразования\" data-toc-modified-id=\"Алгоритм-преобразования-3\"><span class=\"toc-item-num\">3&nbsp;&nbsp;</span>Алгоритм преобразования</a></span></li><li><span><a href=\"#Проверка-алгоритма\" data-toc-modified-id=\"Проверка-алгоритма-4\"><span class=\"toc-item-num\">4&nbsp;&nbsp;</span>Проверка алгоритма</a></span></li><li><span><a href=\"#Чек-лист-проверки\" data-toc-modified-id=\"Чек-лист-проверки-5\"><span class=\"toc-item-num\">5&nbsp;&nbsp;</span>Чек-лист проверки</a></span></li></ul></div>"
   ]
  },
  {
   "cell_type": "markdown",
   "metadata": {},
   "source": [
    "# Защита персональных данных клиентов"
   ]
  },
  {
   "cell_type": "markdown",
   "metadata": {},
   "source": [
    "Вам нужно защитить данные клиентов страховой компании «Хоть потоп». Разработайте такой метод преобразования данных, чтобы по ним было сложно восстановить персональную информацию. Обоснуйте корректность его работы.\n",
    "\n",
    "Нужно защитить данные, чтобы при преобразовании качество моделей машинного обучения не ухудшилось. Подбирать наилучшую модель не требуется."
   ]
  },
  {
   "cell_type": "markdown",
   "metadata": {},
   "source": [
    "## Загрузка данных"
   ]
  },
  {
   "cell_type": "code",
   "execution_count": 1,
   "metadata": {},
   "outputs": [],
   "source": [
    "import pandas as pd\n",
    "import numpy as np\n",
    "from sklearn.model_selection import train_test_split, cross_val_score\n",
    "from sklearn.metrics import r2_score\n",
    "from sklearn.linear_model import LinearRegression\n",
    "from sklearn.datasets import make_spd_matrix\n",
    "from numpy.linalg import inv, cond"
   ]
  },
  {
   "cell_type": "code",
   "execution_count": 2,
   "metadata": {},
   "outputs": [],
   "source": [
    "df=pd.read_csv('/datasets/insurance.csv')"
   ]
  },
  {
   "cell_type": "code",
   "execution_count": 3,
   "metadata": {},
   "outputs": [
    {
     "data": {
      "text/html": [
       "<div>\n",
       "<style scoped>\n",
       "    .dataframe tbody tr th:only-of-type {\n",
       "        vertical-align: middle;\n",
       "    }\n",
       "\n",
       "    .dataframe tbody tr th {\n",
       "        vertical-align: top;\n",
       "    }\n",
       "\n",
       "    .dataframe thead th {\n",
       "        text-align: right;\n",
       "    }\n",
       "</style>\n",
       "<table border=\"1\" class=\"dataframe\">\n",
       "  <thead>\n",
       "    <tr style=\"text-align: right;\">\n",
       "      <th></th>\n",
       "      <th>Пол</th>\n",
       "      <th>Возраст</th>\n",
       "      <th>Зарплата</th>\n",
       "      <th>Члены семьи</th>\n",
       "      <th>Страховые выплаты</th>\n",
       "    </tr>\n",
       "  </thead>\n",
       "  <tbody>\n",
       "    <tr>\n",
       "      <th>0</th>\n",
       "      <td>1</td>\n",
       "      <td>41.0</td>\n",
       "      <td>49600.0</td>\n",
       "      <td>1</td>\n",
       "      <td>0</td>\n",
       "    </tr>\n",
       "    <tr>\n",
       "      <th>1</th>\n",
       "      <td>0</td>\n",
       "      <td>46.0</td>\n",
       "      <td>38000.0</td>\n",
       "      <td>1</td>\n",
       "      <td>1</td>\n",
       "    </tr>\n",
       "    <tr>\n",
       "      <th>2</th>\n",
       "      <td>0</td>\n",
       "      <td>29.0</td>\n",
       "      <td>21000.0</td>\n",
       "      <td>0</td>\n",
       "      <td>0</td>\n",
       "    </tr>\n",
       "    <tr>\n",
       "      <th>3</th>\n",
       "      <td>0</td>\n",
       "      <td>21.0</td>\n",
       "      <td>41700.0</td>\n",
       "      <td>2</td>\n",
       "      <td>0</td>\n",
       "    </tr>\n",
       "    <tr>\n",
       "      <th>4</th>\n",
       "      <td>1</td>\n",
       "      <td>28.0</td>\n",
       "      <td>26100.0</td>\n",
       "      <td>0</td>\n",
       "      <td>0</td>\n",
       "    </tr>\n",
       "  </tbody>\n",
       "</table>\n",
       "</div>"
      ],
      "text/plain": [
       "   Пол  Возраст  Зарплата  Члены семьи  Страховые выплаты\n",
       "0    1     41.0   49600.0            1                  0\n",
       "1    0     46.0   38000.0            1                  1\n",
       "2    0     29.0   21000.0            0                  0\n",
       "3    0     21.0   41700.0            2                  0\n",
       "4    1     28.0   26100.0            0                  0"
      ]
     },
     "execution_count": 3,
     "metadata": {},
     "output_type": "execute_result"
    }
   ],
   "source": [
    "df.head()"
   ]
  },
  {
   "cell_type": "code",
   "execution_count": 4,
   "metadata": {},
   "outputs": [
    {
     "name": "stdout",
     "output_type": "stream",
     "text": [
      "<class 'pandas.core.frame.DataFrame'>\n",
      "RangeIndex: 5000 entries, 0 to 4999\n",
      "Data columns (total 5 columns):\n",
      " #   Column             Non-Null Count  Dtype  \n",
      "---  ------             --------------  -----  \n",
      " 0   Пол                5000 non-null   int64  \n",
      " 1   Возраст            5000 non-null   float64\n",
      " 2   Зарплата           5000 non-null   float64\n",
      " 3   Члены семьи        5000 non-null   int64  \n",
      " 4   Страховые выплаты  5000 non-null   int64  \n",
      "dtypes: float64(2), int64(3)\n",
      "memory usage: 195.4 KB\n"
     ]
    }
   ],
   "source": [
    "df.info()"
   ]
  },
  {
   "cell_type": "markdown",
   "metadata": {},
   "source": [
    "Данные состроят из 5000 строк и 5 столбцов. 4 из них - признаки, а один - Страховые выплаты - целевой признак.  "
   ]
  },
  {
   "cell_type": "code",
   "execution_count": 5,
   "metadata": {},
   "outputs": [
    {
     "data": {
      "text/plain": [
       "Пол                  0\n",
       "Возраст              0\n",
       "Зарплата             0\n",
       "Члены семьи          0\n",
       "Страховые выплаты    0\n",
       "dtype: int64"
      ]
     },
     "execution_count": 5,
     "metadata": {},
     "output_type": "execute_result"
    }
   ],
   "source": [
    "# Количество пропусков\n",
    "df.isnull().sum()"
   ]
  },
  {
   "cell_type": "code",
   "execution_count": 6,
   "metadata": {},
   "outputs": [
    {
     "data": {
      "text/plain": [
       "153"
      ]
     },
     "execution_count": 6,
     "metadata": {},
     "output_type": "execute_result"
    }
   ],
   "source": [
    "#дубликаты\n",
    "df.duplicated().sum()"
   ]
  },
  {
   "cell_type": "markdown",
   "metadata": {},
   "source": [
    "Пропущенных значений нет.153 дубликата.Вариативность данных низка по причине малого количества данных. Удалять дублиаты не будем. "
   ]
  },
  {
   "cell_type": "code",
   "execution_count": 7,
   "metadata": {},
   "outputs": [
    {
     "name": "stdout",
     "output_type": "stream",
     "text": [
      "Количество уникальных значений столбцов\n",
      "2\n",
      "46\n",
      "524\n",
      "7\n",
      "6\n"
     ]
    }
   ],
   "source": [
    "columns = ['Пол', 'Возраст',  'Зарплата',  'Члены семьи',  'Страховые выплаты']\n",
    "print('Количество уникальных значений столбцов')\n",
    "for i in columns:\n",
    "     print( df[i].nunique())"
   ]
  },
  {
   "cell_type": "markdown",
   "metadata": {},
   "source": [
    "Вывод:\n",
    "\n",
    "5000 строк и 5 столбцов\n",
    "\n",
    "Целевой признак: Страховые выплаты\n",
    "\n",
    "Признаки: Пол, Возраст, Зарплата, Члены семьи\n",
    "\n",
    "Данные пришли уже в обработанном состоянии.Предбработка не нужна."
   ]
  },
  {
   "cell_type": "markdown",
   "metadata": {},
   "source": [
    "## Умножение матриц"
   ]
  },
  {
   "cell_type": "markdown",
   "metadata": {},
   "source": [
    "В этом задании вы можете записывать формулы в *Jupyter Notebook.*\n",
    "\n",
    "Чтобы записать формулу внутри текста, окружите её символами доллара \\\\$; если снаружи —  двойными символами \\\\$\\\\$. Эти формулы записываются на языке вёрстки *LaTeX.* \n",
    "\n",
    "Для примера мы записали формулы линейной регрессии. Можете их скопировать и отредактировать, чтобы решить задачу.\n",
    "\n",
    "Работать в *LaTeX* необязательно."
   ]
  },
  {
   "cell_type": "markdown",
   "metadata": {},
   "source": [
    "Обозначения:\n",
    "\n",
    "- $X$ — матрица признаков (нулевой столбец состоит из единиц)\n",
    "\n",
    "- $y$ — вектор целевого признака\n",
    "\n",
    "- $P$ — матрица, на которую умножаются признаки\n",
    "\n",
    "- $w$ — вектор весов линейной регрессии (нулевой элемент равен сдвигу)"
   ]
  },
  {
   "cell_type": "markdown",
   "metadata": {},
   "source": [
    "Предсказания:\n",
    "\n",
    "$$\n",
    "a = Xw\n",
    "$$\n",
    "\n",
    "Задача обучения:\n",
    "\n",
    "$$\n",
    "w = \\arg\\min_w MSE(Xw, y)\n",
    "$$\n",
    "\n",
    "Формула обучения:\n",
    "\n",
    "$$\n",
    "w = (X^T X)^{-1} X^T y\n",
    "$$"
   ]
  },
  {
   "cell_type": "markdown",
   "metadata": {},
   "source": [
    "**Ответ:** Не изменится.\n",
    "\n",
    "**Обоснование:** Докажем,что:\n",
    "                             $$a = Xw = X1w = XPw1 = a1$$\n",
    "   Для этого необходимо что бы :\n",
    "                             $$w1 = P^-1w$$\n",
    "   Представим новую матрицу признаков X1 как произведение старой X на матрицу P(обратимую):\n",
    "                             $$X^i = Xw$$\n",
    "   Подставим новое значение X1 в формулу w1:\n",
    "                             $$w1=((XP)^{T}XP)^{-1}(XP)^{T}y$$\n",
    "                             $$w1 = (X^{T}P^{T}XP)^{-1}$$\n",
    "                             $$(P^{T}(X^{T}X)P)^{-1}P^{T}X^{T}y$$\n",
    "                             $$w1 = P^{-1}(X^{T}X)^{-1}(P^{T})^{-1}P^{T}X^{T}y$$\n",
    "   Так как  по условию P обратимая, то произведение P степени -1 и Р равно E (единичная матрица):                                                    $$w1+P^{-1}(X^{T}X)^{-1}EX^{T}y = P^{-1}({T}X)^{-1}X^{T}y$$\n",
    "   Cправа получилась формула для w:\n",
    "                             $$w1 = P^{-1}(X^{T}X)^{-1}X^{T}y = P^{-1}w$$\n",
    "   \n",
    "Подставим новое значение весов w1 в формулу для предсказаний линейной регрессии. Предсказания модели расчитываются по формуле: \n",
    "                            $$a = Xw$$\n",
    " Подставим в эту формулу значения X1 и w1 для того, чтобы на их основе вычислить предсказания модели a1:\n",
    "                            $$a1 = X1w1 = XPP^{-1}w$$\n",
    " Так как P по условию обратимая, то произведение P и Pв -1 степени  снова равно E :\n",
    "                            $$a1 = XPP^{-1}w = XEw = Xw = a$$\n",
    "                            \n",
    " Предсказания а1 для матрицы признаков, умноженных на обратимую матрицу Р равны предсказаниям а.Параметры линейной регрессии в исходной задаче w и в преобразованной w1 связаны следующим образом:\n",
    "                           $$w1 = P^{-1}w$$\n",
    "  "
   ]
  },
  {
   "cell_type": "markdown",
   "metadata": {},
   "source": [
    "## Алгоритм преобразования"
   ]
  },
  {
   "cell_type": "markdown",
   "metadata": {},
   "source": [
    "**Алгоритм**\n",
    "\n",
    "Для того чтобы закодировать данные пользователя, можно создать рандомно генирирующуюся матрицу которая имеет обратную себе матрицу. Таким образом домножая матрицу признаков на рандомную матрицу матрицу мы получим матрицу с закодированными значениями а для того чтобы получить обратно данные мы должны будем умножить закодированные данные на обратную рандомную матрицу"
   ]
  },
  {
   "cell_type": "markdown",
   "metadata": {},
   "source": [
    "**Обоснование**\n",
    "\n"
   ]
  },
  {
   "cell_type": "code",
   "execution_count": 8,
   "metadata": {},
   "outputs": [],
   "source": [
    "#Выделим из датасета набор признаков и целевой признак.\n",
    "df_features = df.drop('Страховые выплаты', axis=1)\n",
    "df_target = df['Страховые выплаты']"
   ]
  },
  {
   "cell_type": "code",
   "execution_count": 9,
   "metadata": {},
   "outputs": [],
   "source": [
    "#Поделим признаки на test и train\n",
    "features_train, features_test, target_train, target_test = train_test_split(df_features,\\\n",
    "                                                                            df_target,test_size=0.2,random_state=12345)"
   ]
  },
  {
   "cell_type": "code",
   "execution_count": 10,
   "metadata": {},
   "outputs": [],
   "source": [
    "#Преобразуем выборки в матрицы\n",
    "\n",
    "matrix_features_train = features_train.values\n",
    "matrix_features_test = features_test.values"
   ]
  },
  {
   "cell_type": "code",
   "execution_count": 11,
   "metadata": {},
   "outputs": [
    {
     "name": "stdout",
     "output_type": "stream",
     "text": [
      "(4000, 4)\n",
      "(1000, 4)\n"
     ]
    }
   ],
   "source": [
    "print(matrix_features_train.shape)\n",
    "print(matrix_features_test.shape)"
   ]
  },
  {
   "cell_type": "code",
   "execution_count": 12,
   "metadata": {},
   "outputs": [
    {
     "data": {
      "text/plain": [
       "array([[ 1.56367304,  0.73717011, -0.78955303, -0.58962849],\n",
       "       [ 1.76252901,  0.39204528, -2.51081622, -1.06422601],\n",
       "       [-1.25006842,  0.78552047,  0.33984895,  1.27187934],\n",
       "       [ 1.11318838, -0.97933067, -1.16602743, -1.77833015]])"
      ]
     },
     "execution_count": 12,
     "metadata": {},
     "output_type": "execute_result"
    }
   ],
   "source": [
    "#Сделаем рандомную обратимую матрицу 4 на 4 по количеству признаков основной матрицы:\n",
    "\n",
    "random_matrix = np.random.randn(4, 4)\n",
    "random_matrix"
   ]
  },
  {
   "cell_type": "markdown",
   "metadata": {},
   "source": [
    "Полученная матрица является единичной, что значит случайная матрица обратима."
   ]
  },
  {
   "cell_type": "code",
   "execution_count": 13,
   "metadata": {},
   "outputs": [],
   "source": [
    "#Перемножим тестовую и тренировочную матрицы на получившуюся случайноую обратимую матрицу:\n",
    "\n",
    "encoded_matrix_features_train = matrix_features_train.dot(random_matrix)\n",
    "encoded_matrix_features_test = matrix_features_test.dot(random_matrix)"
   ]
  },
  {
   "cell_type": "code",
   "execution_count": 14,
   "metadata": {},
   "outputs": [],
   "source": [
    "#Для проверки попробуем перемножить признаки train на обратную случайной матрицу:\n",
    "\n",
    "decoded_matrix_features_train = encoded_matrix_features_train.dot(np.linalg.inv(random_matrix))"
   ]
  },
  {
   "cell_type": "markdown",
   "metadata": {},
   "source": [
    "## Проверка алгоритма"
   ]
  },
  {
   "cell_type": "markdown",
   "metadata": {},
   "source": [
    "Создадим модель для матриц."
   ]
  },
  {
   "cell_type": "code",
   "execution_count": 15,
   "metadata": {},
   "outputs": [
    {
     "name": "stdout",
     "output_type": "stream",
     "text": [
      "R2_score на обычных данных: 0.4117683956770434\n"
     ]
    }
   ],
   "source": [
    "model = LinearRegression()#Линейная регрессия\n",
    "\n",
    "model.fit(features_train, target_train)\n",
    "predistions = model.predict(features_test)\n",
    "print('R2_score на обычных данных:', r2_score(target_test, predistions))"
   ]
  },
  {
   "cell_type": "code",
   "execution_count": 16,
   "metadata": {},
   "outputs": [
    {
     "name": "stdout",
     "output_type": "stream",
     "text": [
      "R2_score на кодированных данных: 0.4117683956769197\n"
     ]
    }
   ],
   "source": [
    "model.fit(encoded_matrix_features_train, target_train)\n",
    "predicted_encoded = model.predict(encoded_matrix_features_test)\n",
    "#encoded_r2 = model.score(encoded_matrix_features_test, target_test)\n",
    "print('R2_score на кодированных данных:', r2_score(target_test, predicted_encoded))"
   ]
  },
  {
   "cell_type": "code",
   "execution_count": 17,
   "metadata": {},
   "outputs": [
    {
     "data": {
      "text/html": [
       "<div>\n",
       "<style scoped>\n",
       "    .dataframe tbody tr th:only-of-type {\n",
       "        vertical-align: middle;\n",
       "    }\n",
       "\n",
       "    .dataframe tbody tr th {\n",
       "        vertical-align: top;\n",
       "    }\n",
       "\n",
       "    .dataframe thead th {\n",
       "        text-align: right;\n",
       "    }\n",
       "</style>\n",
       "<table border=\"1\" class=\"dataframe\">\n",
       "  <thead>\n",
       "    <tr style=\"text-align: right;\">\n",
       "      <th></th>\n",
       "      <th>r2_score</th>\n",
       "    </tr>\n",
       "  </thead>\n",
       "  <tbody>\n",
       "    <tr>\n",
       "      <th>R2_score на обычных данных</th>\n",
       "      <td>0.411768</td>\n",
       "    </tr>\n",
       "    <tr>\n",
       "      <th>R2_score на кодированных данных</th>\n",
       "      <td>0.411768</td>\n",
       "    </tr>\n",
       "  </tbody>\n",
       "</table>\n",
       "</div>"
      ],
      "text/plain": [
       "                                 r2_score\n",
       "R2_score на обычных данных       0.411768\n",
       "R2_score на кодированных данных  0.411768"
      ]
     },
     "execution_count": 17,
     "metadata": {},
     "output_type": "execute_result"
    }
   ],
   "source": [
    "rezume=[ r2_score(target_test, predistions),r2_score(target_test, predicted_encoded)]\n",
    "df_rezume=pd.DataFrame(rezume,index=['R2_score на обычных данных','R2_score на кодированных данных'])\n",
    "df_rezume.set_axis(['r2_score'],axis='columns',inplace=True)\n",
    "df_rezume\n"
   ]
  },
  {
   "cell_type": "markdown",
   "metadata": {},
   "source": [
    " Вывод: Мы проверили качества моделей Линейной регрессии с помощью метрики R2 на данных - сначала на исходных, затем умноженных на обратимую матрицу,т,е, кодированных, размер которой равен числу признаков. Показатели метрики совпали. Можно сделать вывод, что алгоритм работает."
   ]
  }
 ],
 "metadata": {
  "ExecuteTimeLog": [
   {
    "duration": 1548,
    "start_time": "2022-04-24T13:51:37.628Z"
   },
   {
    "duration": 121,
    "start_time": "2022-04-24T13:52:16.576Z"
   },
   {
    "duration": 13,
    "start_time": "2022-04-24T13:52:35.656Z"
   },
   {
    "duration": 14,
    "start_time": "2022-04-24T13:52:54.848Z"
   },
   {
    "duration": 12,
    "start_time": "2022-04-24T13:57:21.285Z"
   },
   {
    "duration": 8,
    "start_time": "2022-04-24T14:42:30.581Z"
   },
   {
    "duration": 15,
    "start_time": "2022-04-24T14:43:06.533Z"
   },
   {
    "duration": 69,
    "start_time": "2022-04-25T02:25:29.960Z"
   },
   {
    "duration": 1895,
    "start_time": "2022-04-25T02:25:37.946Z"
   },
   {
    "duration": 16,
    "start_time": "2022-04-25T02:25:39.844Z"
   },
   {
    "duration": 18,
    "start_time": "2022-04-25T02:25:39.862Z"
   },
   {
    "duration": 16,
    "start_time": "2022-04-25T02:25:39.908Z"
   },
   {
    "duration": 8,
    "start_time": "2022-04-25T02:25:40.893Z"
   },
   {
    "duration": 7,
    "start_time": "2022-04-25T02:25:43.186Z"
   },
   {
    "duration": 9,
    "start_time": "2022-04-25T02:27:12.675Z"
   },
   {
    "duration": 3,
    "start_time": "2022-04-25T08:23:27.024Z"
   },
   {
    "duration": 6,
    "start_time": "2022-04-25T08:23:32.423Z"
   },
   {
    "duration": 4,
    "start_time": "2022-04-25T08:26:46.505Z"
   },
   {
    "duration": 4,
    "start_time": "2022-04-25T08:27:04.686Z"
   },
   {
    "duration": 4,
    "start_time": "2022-04-25T08:27:27.260Z"
   },
   {
    "duration": 67,
    "start_time": "2022-04-25T08:38:13.175Z"
   },
   {
    "duration": 19,
    "start_time": "2022-04-25T08:38:47.859Z"
   },
   {
    "duration": 3,
    "start_time": "2022-04-25T08:39:05.437Z"
   },
   {
    "duration": 12,
    "start_time": "2022-04-25T08:39:05.868Z"
   },
   {
    "duration": 9,
    "start_time": "2022-04-25T08:39:06.460Z"
   },
   {
    "duration": 10,
    "start_time": "2022-04-25T08:39:07.037Z"
   },
   {
    "duration": 6,
    "start_time": "2022-04-25T08:39:08.070Z"
   },
   {
    "duration": 6,
    "start_time": "2022-04-25T08:39:08.412Z"
   },
   {
    "duration": 6,
    "start_time": "2022-04-25T08:39:09.779Z"
   },
   {
    "duration": 15,
    "start_time": "2022-04-25T08:39:18.762Z"
   },
   {
    "duration": 14,
    "start_time": "2022-04-25T08:41:53.996Z"
   },
   {
    "duration": 4,
    "start_time": "2022-04-25T08:42:28.045Z"
   },
   {
    "duration": 3,
    "start_time": "2022-04-25T08:43:52.567Z"
   },
   {
    "duration": 2,
    "start_time": "2022-04-25T08:44:51.785Z"
   },
   {
    "duration": 5,
    "start_time": "2022-04-25T08:45:05.244Z"
   },
   {
    "duration": 9,
    "start_time": "2022-04-25T08:46:29.198Z"
   },
   {
    "duration": 35,
    "start_time": "2022-04-25T08:47:08.109Z"
   },
   {
    "duration": 16,
    "start_time": "2022-04-25T08:47:08.358Z"
   },
   {
    "duration": 8,
    "start_time": "2022-04-25T08:47:08.643Z"
   },
   {
    "duration": 11,
    "start_time": "2022-04-25T08:47:08.973Z"
   },
   {
    "duration": 6,
    "start_time": "2022-04-25T08:47:09.432Z"
   },
   {
    "duration": 5,
    "start_time": "2022-04-25T08:47:09.853Z"
   },
   {
    "duration": 7,
    "start_time": "2022-04-25T08:47:10.357Z"
   },
   {
    "duration": 4,
    "start_time": "2022-04-25T08:47:16.325Z"
   },
   {
    "duration": 3,
    "start_time": "2022-04-25T08:47:17.444Z"
   },
   {
    "duration": 3,
    "start_time": "2022-04-25T08:47:18.076Z"
   },
   {
    "duration": 4,
    "start_time": "2022-04-25T08:47:18.711Z"
   },
   {
    "duration": 9,
    "start_time": "2022-04-25T08:47:21.557Z"
   },
   {
    "duration": 3,
    "start_time": "2022-04-25T08:49:07.794Z"
   },
   {
    "duration": 14,
    "start_time": "2022-04-25T08:49:08.318Z"
   },
   {
    "duration": 12,
    "start_time": "2022-04-25T08:49:08.703Z"
   },
   {
    "duration": 10,
    "start_time": "2022-04-25T08:49:09.191Z"
   },
   {
    "duration": 7,
    "start_time": "2022-04-25T08:49:09.722Z"
   },
   {
    "duration": 8,
    "start_time": "2022-04-25T08:49:10.302Z"
   },
   {
    "duration": 7,
    "start_time": "2022-04-25T08:49:10.838Z"
   },
   {
    "duration": 3,
    "start_time": "2022-04-25T08:49:16.871Z"
   },
   {
    "duration": 3,
    "start_time": "2022-04-25T08:49:17.957Z"
   },
   {
    "duration": 4,
    "start_time": "2022-04-25T08:49:18.541Z"
   },
   {
    "duration": 4,
    "start_time": "2022-04-25T08:49:19.143Z"
   },
   {
    "duration": 5,
    "start_time": "2022-04-25T08:49:23.439Z"
   },
   {
    "duration": 11,
    "start_time": "2022-04-25T08:49:26.305Z"
   },
   {
    "duration": 14,
    "start_time": "2022-04-25T08:50:16.072Z"
   },
   {
    "duration": 5,
    "start_time": "2022-04-25T08:50:57.689Z"
   },
   {
    "duration": 5,
    "start_time": "2022-04-25T08:53:28.735Z"
   },
   {
    "duration": 4,
    "start_time": "2022-04-25T08:54:12.426Z"
   },
   {
    "duration": 6,
    "start_time": "2022-04-25T08:54:34.000Z"
   },
   {
    "duration": 1610,
    "start_time": "2022-04-26T04:35:05.380Z"
   },
   {
    "duration": 41,
    "start_time": "2022-04-26T04:35:06.992Z"
   },
   {
    "duration": 15,
    "start_time": "2022-04-26T04:35:07.035Z"
   },
   {
    "duration": 13,
    "start_time": "2022-04-26T04:35:08.908Z"
   },
   {
    "duration": 7,
    "start_time": "2022-04-26T04:35:10.090Z"
   },
   {
    "duration": 6,
    "start_time": "2022-04-26T04:35:12.381Z"
   },
   {
    "duration": 7,
    "start_time": "2022-04-26T04:35:13.516Z"
   },
   {
    "duration": 99,
    "start_time": "2022-04-26T05:15:49.348Z"
   },
   {
    "duration": 9,
    "start_time": "2022-04-26T05:17:59.474Z"
   },
   {
    "duration": 9,
    "start_time": "2022-04-26T05:18:34.579Z"
   },
   {
    "duration": 4,
    "start_time": "2022-04-26T05:18:46.568Z"
   },
   {
    "duration": 3,
    "start_time": "2022-04-26T05:18:47.071Z"
   },
   {
    "duration": 3,
    "start_time": "2022-04-26T05:18:47.641Z"
   },
   {
    "duration": 4,
    "start_time": "2022-04-26T05:18:48.235Z"
   },
   {
    "duration": 4,
    "start_time": "2022-04-26T05:18:49.851Z"
   },
   {
    "duration": 11,
    "start_time": "2022-04-26T05:18:51.628Z"
   },
   {
    "duration": 111,
    "start_time": "2022-04-26T05:18:53.300Z"
   },
   {
    "duration": 4,
    "start_time": "2022-04-26T05:20:27.725Z"
   },
   {
    "duration": 128,
    "start_time": "2022-04-26T05:22:51.393Z"
   },
   {
    "duration": 11,
    "start_time": "2022-04-26T05:22:59.035Z"
   },
   {
    "duration": 8,
    "start_time": "2022-04-26T05:23:33.263Z"
   },
   {
    "duration": 13,
    "start_time": "2022-04-26T05:23:33.619Z"
   },
   {
    "duration": 9,
    "start_time": "2022-04-26T05:23:34.301Z"
   },
   {
    "duration": 11,
    "start_time": "2022-04-26T05:23:35.083Z"
   },
   {
    "duration": 5,
    "start_time": "2022-04-26T05:23:35.868Z"
   },
   {
    "duration": 7,
    "start_time": "2022-04-26T05:23:36.751Z"
   },
   {
    "duration": 6,
    "start_time": "2022-04-26T05:23:37.563Z"
   },
   {
    "duration": 4,
    "start_time": "2022-04-26T05:23:46.811Z"
   },
   {
    "duration": 3,
    "start_time": "2022-04-26T05:23:48.010Z"
   },
   {
    "duration": 3,
    "start_time": "2022-04-26T05:23:48.691Z"
   },
   {
    "duration": 4,
    "start_time": "2022-04-26T05:23:49.394Z"
   },
   {
    "duration": 4,
    "start_time": "2022-04-26T05:23:53.419Z"
   },
   {
    "duration": 5,
    "start_time": "2022-04-26T05:24:00.620Z"
   },
   {
    "duration": 4,
    "start_time": "2022-04-26T05:24:04.495Z"
   },
   {
    "duration": 6,
    "start_time": "2022-04-26T05:24:07.485Z"
   },
   {
    "duration": 12,
    "start_time": "2022-04-26T05:24:46.228Z"
   },
   {
    "duration": 26,
    "start_time": "2022-04-26T05:25:55.976Z"
   },
   {
    "duration": 17,
    "start_time": "2022-04-26T05:25:56.501Z"
   },
   {
    "duration": 11,
    "start_time": "2022-04-26T05:25:57.105Z"
   },
   {
    "duration": 10,
    "start_time": "2022-04-26T05:25:57.796Z"
   },
   {
    "duration": 6,
    "start_time": "2022-04-26T05:25:58.593Z"
   },
   {
    "duration": 6,
    "start_time": "2022-04-26T05:25:59.343Z"
   },
   {
    "duration": 7,
    "start_time": "2022-04-26T05:26:00.045Z"
   },
   {
    "duration": 3,
    "start_time": "2022-04-26T05:26:07.644Z"
   },
   {
    "duration": 3,
    "start_time": "2022-04-26T05:26:08.555Z"
   },
   {
    "duration": 3,
    "start_time": "2022-04-26T05:26:09.267Z"
   },
   {
    "duration": 4,
    "start_time": "2022-04-26T05:26:10.092Z"
   },
   {
    "duration": 4,
    "start_time": "2022-04-26T05:26:12.035Z"
   },
   {
    "duration": 6,
    "start_time": "2022-04-26T05:26:13.675Z"
   },
   {
    "duration": 4,
    "start_time": "2022-04-26T05:26:15.683Z"
   },
   {
    "duration": 6,
    "start_time": "2022-04-26T05:26:16.496Z"
   },
   {
    "duration": 2,
    "start_time": "2022-04-26T05:26:18.741Z"
   },
   {
    "duration": 13,
    "start_time": "2022-04-26T05:28:03.414Z"
   },
   {
    "duration": 11,
    "start_time": "2022-04-26T05:28:18.326Z"
   },
   {
    "duration": 2,
    "start_time": "2022-04-26T05:28:24.533Z"
   },
   {
    "duration": 9,
    "start_time": "2022-04-26T05:28:25.134Z"
   },
   {
    "duration": 10,
    "start_time": "2022-04-26T05:28:39.321Z"
   },
   {
    "duration": 13,
    "start_time": "2022-04-26T05:28:53.561Z"
   },
   {
    "duration": 9,
    "start_time": "2022-04-26T05:30:36.210Z"
   },
   {
    "duration": 5,
    "start_time": "2022-04-26T05:33:25.767Z"
   },
   {
    "duration": 9,
    "start_time": "2022-04-26T05:33:27.368Z"
   },
   {
    "duration": 7,
    "start_time": "2022-04-26T05:34:27.218Z"
   },
   {
    "duration": 11,
    "start_time": "2022-04-26T05:34:29.267Z"
   },
   {
    "duration": 3,
    "start_time": "2022-04-26T05:48:37.224Z"
   },
   {
    "duration": 4,
    "start_time": "2022-04-26T05:50:15.473Z"
   },
   {
    "duration": 10,
    "start_time": "2022-04-26T05:50:53.777Z"
   },
   {
    "duration": 8,
    "start_time": "2022-04-26T05:51:10.536Z"
   },
   {
    "duration": 9,
    "start_time": "2022-04-26T05:51:11.366Z"
   },
   {
    "duration": 4,
    "start_time": "2022-04-26T05:51:22.486Z"
   },
   {
    "duration": 6,
    "start_time": "2022-04-26T05:51:22.998Z"
   },
   {
    "duration": 3,
    "start_time": "2022-04-26T05:51:23.564Z"
   },
   {
    "duration": 3,
    "start_time": "2022-04-26T05:51:24.304Z"
   },
   {
    "duration": 10,
    "start_time": "2022-04-26T05:51:25.218Z"
   },
   {
    "duration": 7,
    "start_time": "2022-04-26T05:51:25.862Z"
   },
   {
    "duration": 8,
    "start_time": "2022-04-26T05:51:26.720Z"
   },
   {
    "duration": 9,
    "start_time": "2022-04-26T05:52:21.871Z"
   },
   {
    "duration": 3,
    "start_time": "2022-04-26T05:52:28.496Z"
   },
   {
    "duration": 16,
    "start_time": "2022-04-26T05:52:28.896Z"
   },
   {
    "duration": 8,
    "start_time": "2022-04-26T05:52:29.273Z"
   },
   {
    "duration": 10,
    "start_time": "2022-04-26T05:52:29.826Z"
   },
   {
    "duration": 6,
    "start_time": "2022-04-26T05:52:30.383Z"
   },
   {
    "duration": 7,
    "start_time": "2022-04-26T05:52:30.975Z"
   },
   {
    "duration": 7,
    "start_time": "2022-04-26T05:52:31.719Z"
   },
   {
    "duration": 4,
    "start_time": "2022-04-26T05:52:39.824Z"
   },
   {
    "duration": 3,
    "start_time": "2022-04-26T05:52:40.436Z"
   },
   {
    "duration": 3,
    "start_time": "2022-04-26T05:52:41.071Z"
   },
   {
    "duration": 4,
    "start_time": "2022-04-26T05:52:41.697Z"
   },
   {
    "duration": 4,
    "start_time": "2022-04-26T05:52:42.990Z"
   },
   {
    "duration": 5,
    "start_time": "2022-04-26T05:52:44.215Z"
   },
   {
    "duration": 5,
    "start_time": "2022-04-26T05:52:45.445Z"
   },
   {
    "duration": 5,
    "start_time": "2022-04-26T05:52:46.054Z"
   },
   {
    "duration": 4,
    "start_time": "2022-04-26T05:52:46.710Z"
   },
   {
    "duration": 2,
    "start_time": "2022-04-26T05:52:47.378Z"
   },
   {
    "duration": 11,
    "start_time": "2022-04-26T05:52:48.487Z"
   },
   {
    "duration": 7,
    "start_time": "2022-04-26T05:52:49.485Z"
   },
   {
    "duration": 9,
    "start_time": "2022-04-26T05:52:50.605Z"
   },
   {
    "duration": 6,
    "start_time": "2022-04-26T05:54:57.610Z"
   },
   {
    "duration": 9,
    "start_time": "2022-04-26T05:54:58.403Z"
   },
   {
    "duration": 1257,
    "start_time": "2022-04-27T05:06:14.571Z"
   },
   {
    "duration": 17,
    "start_time": "2022-04-27T05:06:15.830Z"
   },
   {
    "duration": 16,
    "start_time": "2022-04-27T05:06:16.228Z"
   },
   {
    "duration": 12,
    "start_time": "2022-04-27T05:06:17.079Z"
   },
   {
    "duration": 6,
    "start_time": "2022-04-27T05:06:18.065Z"
   },
   {
    "duration": 6,
    "start_time": "2022-04-27T05:06:19.233Z"
   },
   {
    "duration": 7,
    "start_time": "2022-04-27T05:06:20.204Z"
   },
   {
    "duration": 4,
    "start_time": "2022-04-27T05:06:34.764Z"
   },
   {
    "duration": 3,
    "start_time": "2022-04-27T05:06:37.580Z"
   },
   {
    "duration": 3,
    "start_time": "2022-04-27T05:06:38.260Z"
   },
   {
    "duration": 5,
    "start_time": "2022-04-27T05:06:41.084Z"
   },
   {
    "duration": 5,
    "start_time": "2022-04-27T05:06:46.661Z"
   },
   {
    "duration": 5,
    "start_time": "2022-04-27T05:06:58.584Z"
   },
   {
    "duration": 4,
    "start_time": "2022-04-27T05:07:03.838Z"
   },
   {
    "duration": 7,
    "start_time": "2022-04-27T05:07:16.797Z"
   },
   {
    "duration": 4,
    "start_time": "2022-04-27T05:07:18.072Z"
   },
   {
    "duration": 3,
    "start_time": "2022-04-27T05:07:22.760Z"
   },
   {
    "duration": 11,
    "start_time": "2022-04-27T05:07:25.589Z"
   },
   {
    "duration": 6,
    "start_time": "2022-04-27T05:07:28.743Z"
   },
   {
    "duration": 104,
    "start_time": "2022-04-27T05:07:29.822Z"
   },
   {
    "duration": 12,
    "start_time": "2022-04-27T05:07:33.056Z"
   },
   {
    "duration": 10,
    "start_time": "2022-04-27T05:09:17.458Z"
   },
   {
    "duration": 3,
    "start_time": "2022-04-27T05:09:18.346Z"
   },
   {
    "duration": 9,
    "start_time": "2022-04-27T05:10:32.553Z"
   },
   {
    "duration": 9,
    "start_time": "2022-04-27T05:11:12.259Z"
   },
   {
    "duration": 4,
    "start_time": "2022-04-27T05:11:13.496Z"
   },
   {
    "duration": 4,
    "start_time": "2022-04-27T05:11:15.480Z"
   },
   {
    "duration": 3,
    "start_time": "2022-04-27T05:11:31.967Z"
   },
   {
    "duration": 8,
    "start_time": "2022-04-27T05:11:33.687Z"
   },
   {
    "duration": 4,
    "start_time": "2022-04-27T05:11:34.286Z"
   },
   {
    "duration": 3,
    "start_time": "2022-04-27T05:11:35.168Z"
   },
   {
    "duration": 3,
    "start_time": "2022-04-27T05:11:41.470Z"
   },
   {
    "duration": 12,
    "start_time": "2022-04-27T05:11:43.040Z"
   },
   {
    "duration": 4,
    "start_time": "2022-04-27T05:11:47.305Z"
   },
   {
    "duration": 6,
    "start_time": "2022-04-27T05:11:48.622Z"
   },
   {
    "duration": 139,
    "start_time": "2022-04-27T05:13:29.001Z"
   },
   {
    "duration": 3,
    "start_time": "2022-04-27T05:14:21.160Z"
   },
   {
    "duration": 15,
    "start_time": "2022-04-27T05:14:24.556Z"
   },
   {
    "duration": 7,
    "start_time": "2022-04-27T05:14:28.974Z"
   },
   {
    "duration": 5,
    "start_time": "2022-04-27T05:22:16.203Z"
   },
   {
    "duration": 3,
    "start_time": "2022-04-27T05:22:16.955Z"
   },
   {
    "duration": 4,
    "start_time": "2022-04-27T05:22:34.506Z"
   },
   {
    "duration": 5,
    "start_time": "2022-04-27T05:22:56.420Z"
   },
   {
    "duration": 147,
    "start_time": "2022-04-27T05:23:24.531Z"
   },
   {
    "duration": 6,
    "start_time": "2022-04-27T05:23:32.858Z"
   },
   {
    "duration": 166,
    "start_time": "2022-04-27T05:24:06.524Z"
   },
   {
    "duration": 4,
    "start_time": "2022-04-27T05:24:16.132Z"
   },
   {
    "duration": 140,
    "start_time": "2022-04-27T05:24:48.289Z"
   },
   {
    "duration": 146,
    "start_time": "2022-04-27T05:25:13.692Z"
   },
   {
    "duration": 8,
    "start_time": "2022-04-27T05:25:38.949Z"
   },
   {
    "duration": 4,
    "start_time": "2022-04-27T05:25:53.557Z"
   },
   {
    "duration": 8,
    "start_time": "2022-04-27T05:28:59.384Z"
   },
   {
    "duration": 5,
    "start_time": "2022-04-27T05:29:16.752Z"
   },
   {
    "duration": 3,
    "start_time": "2022-04-27T05:29:55.677Z"
   },
   {
    "duration": 8,
    "start_time": "2022-04-27T07:41:07.585Z"
   },
   {
    "duration": 7,
    "start_time": "2022-04-27T07:41:30.956Z"
   },
   {
    "duration": 4,
    "start_time": "2022-04-27T07:41:50.915Z"
   },
   {
    "duration": 5,
    "start_time": "2022-04-27T07:43:11.391Z"
   },
   {
    "duration": 4,
    "start_time": "2022-04-27T07:43:13.218Z"
   },
   {
    "duration": 6,
    "start_time": "2022-04-27T07:49:06.781Z"
   },
   {
    "duration": 7,
    "start_time": "2022-04-27T07:49:33.886Z"
   },
   {
    "duration": 192,
    "start_time": "2022-04-27T07:58:15.498Z"
   },
   {
    "duration": 3,
    "start_time": "2022-04-27T07:58:16.628Z"
   },
   {
    "duration": 164,
    "start_time": "2022-04-27T07:59:06.657Z"
   },
   {
    "duration": 143,
    "start_time": "2022-04-27T07:59:18.146Z"
   },
   {
    "duration": 149,
    "start_time": "2022-04-27T07:59:28.217Z"
   },
   {
    "duration": 156,
    "start_time": "2022-04-27T07:59:38.409Z"
   },
   {
    "duration": 158,
    "start_time": "2022-04-27T07:59:45.639Z"
   },
   {
    "duration": 127,
    "start_time": "2022-04-27T07:59:57.162Z"
   },
   {
    "duration": 138,
    "start_time": "2022-04-27T08:00:17.817Z"
   },
   {
    "duration": 147,
    "start_time": "2022-04-27T08:00:37.194Z"
   },
   {
    "duration": 139,
    "start_time": "2022-04-27T08:00:49.419Z"
   },
   {
    "duration": 141,
    "start_time": "2022-04-27T08:01:49.115Z"
   },
   {
    "duration": 211,
    "start_time": "2022-04-27T08:02:01.327Z"
   },
   {
    "duration": 4,
    "start_time": "2022-04-27T08:02:07.935Z"
   },
   {
    "duration": 143,
    "start_time": "2022-04-27T08:02:16.448Z"
   },
   {
    "duration": 8,
    "start_time": "2022-04-27T08:02:53.358Z"
   },
   {
    "duration": 6,
    "start_time": "2022-04-27T08:03:11.020Z"
   },
   {
    "duration": 3,
    "start_time": "2022-04-27T08:03:14.402Z"
   },
   {
    "duration": 4,
    "start_time": "2022-04-27T08:03:17.306Z"
   },
   {
    "duration": 4,
    "start_time": "2022-04-27T08:03:42.690Z"
   },
   {
    "duration": 5,
    "start_time": "2022-04-27T08:04:40.571Z"
   },
   {
    "duration": 4,
    "start_time": "2022-04-27T08:06:15.868Z"
   },
   {
    "duration": 3,
    "start_time": "2022-04-27T08:06:43.403Z"
   },
   {
    "duration": 9,
    "start_time": "2022-04-27T08:10:30.422Z"
   },
   {
    "duration": 6,
    "start_time": "2022-04-27T08:10:35.861Z"
   },
   {
    "duration": 6,
    "start_time": "2022-04-27T08:11:59.360Z"
   },
   {
    "duration": 9,
    "start_time": "2022-04-27T08:16:27.187Z"
   },
   {
    "duration": 4,
    "start_time": "2022-04-27T08:21:12.808Z"
   },
   {
    "duration": 13,
    "start_time": "2022-04-27T08:21:18.608Z"
   },
   {
    "duration": 8,
    "start_time": "2022-04-27T08:21:19.393Z"
   },
   {
    "duration": 12,
    "start_time": "2022-04-27T08:21:25.387Z"
   },
   {
    "duration": 7,
    "start_time": "2022-04-27T08:24:19.834Z"
   },
   {
    "duration": 7,
    "start_time": "2022-04-27T08:24:27.491Z"
   },
   {
    "duration": 8,
    "start_time": "2022-04-27T08:24:31.778Z"
   },
   {
    "duration": 4,
    "start_time": "2022-04-27T08:27:32.165Z"
   },
   {
    "duration": 6,
    "start_time": "2022-04-27T08:27:34.771Z"
   },
   {
    "duration": 3,
    "start_time": "2022-04-27T08:27:36.932Z"
   },
   {
    "duration": 3,
    "start_time": "2022-04-27T08:27:37.927Z"
   },
   {
    "duration": 4,
    "start_time": "2022-04-27T08:27:42.860Z"
   },
   {
    "duration": 3,
    "start_time": "2022-04-27T08:27:50.600Z"
   },
   {
    "duration": 3,
    "start_time": "2022-04-27T08:28:04.478Z"
   },
   {
    "duration": 9,
    "start_time": "2022-04-27T08:28:10.655Z"
   },
   {
    "duration": 7,
    "start_time": "2022-04-27T08:28:12.026Z"
   },
   {
    "duration": 12,
    "start_time": "2022-04-27T08:28:15.693Z"
   },
   {
    "duration": 1460,
    "start_time": "2022-04-27T08:28:49.379Z"
   },
   {
    "duration": 13,
    "start_time": "2022-04-27T08:28:50.841Z"
   },
   {
    "duration": 22,
    "start_time": "2022-04-27T08:28:50.856Z"
   },
   {
    "duration": 20,
    "start_time": "2022-04-27T08:28:50.881Z"
   },
   {
    "duration": 25,
    "start_time": "2022-04-27T08:28:50.903Z"
   },
   {
    "duration": 8,
    "start_time": "2022-04-27T08:28:50.930Z"
   },
   {
    "duration": 8,
    "start_time": "2022-04-27T08:28:50.940Z"
   },
   {
    "duration": 4,
    "start_time": "2022-04-27T08:28:50.951Z"
   },
   {
    "duration": 10,
    "start_time": "2022-04-27T08:28:50.957Z"
   },
   {
    "duration": 143,
    "start_time": "2022-04-27T08:28:50.970Z"
   },
   {
    "duration": 0,
    "start_time": "2022-04-27T08:28:51.115Z"
   },
   {
    "duration": 0,
    "start_time": "2022-04-27T08:28:51.117Z"
   },
   {
    "duration": 0,
    "start_time": "2022-04-27T08:28:51.118Z"
   },
   {
    "duration": 0,
    "start_time": "2022-04-27T08:28:51.119Z"
   },
   {
    "duration": 0,
    "start_time": "2022-04-27T08:28:51.120Z"
   },
   {
    "duration": 0,
    "start_time": "2022-04-27T08:28:51.122Z"
   },
   {
    "duration": 0,
    "start_time": "2022-04-27T08:28:51.122Z"
   },
   {
    "duration": 13,
    "start_time": "2022-04-27T08:29:52.391Z"
   },
   {
    "duration": 3,
    "start_time": "2022-04-27T08:30:13.382Z"
   },
   {
    "duration": 3,
    "start_time": "2022-04-27T08:30:17.932Z"
   },
   {
    "duration": 1265,
    "start_time": "2022-04-27T08:30:45.231Z"
   },
   {
    "duration": 21,
    "start_time": "2022-04-27T08:30:46.498Z"
   },
   {
    "duration": 18,
    "start_time": "2022-04-27T08:30:46.520Z"
   },
   {
    "duration": 12,
    "start_time": "2022-04-27T08:30:46.541Z"
   },
   {
    "duration": 11,
    "start_time": "2022-04-27T08:30:46.554Z"
   },
   {
    "duration": 8,
    "start_time": "2022-04-27T08:30:46.566Z"
   },
   {
    "duration": 25,
    "start_time": "2022-04-27T08:30:46.576Z"
   },
   {
    "duration": 12,
    "start_time": "2022-04-27T08:30:46.603Z"
   },
   {
    "duration": 9,
    "start_time": "2022-04-27T08:30:46.617Z"
   },
   {
    "duration": 4,
    "start_time": "2022-04-27T08:30:46.628Z"
   },
   {
    "duration": 7,
    "start_time": "2022-04-27T08:30:46.633Z"
   },
   {
    "duration": 10,
    "start_time": "2022-04-27T08:30:46.642Z"
   },
   {
    "duration": 8,
    "start_time": "2022-04-27T08:30:46.654Z"
   },
   {
    "duration": 14,
    "start_time": "2022-04-27T08:30:46.664Z"
   },
   {
    "duration": 11,
    "start_time": "2022-04-27T08:30:46.701Z"
   },
   {
    "duration": 8,
    "start_time": "2022-04-27T08:30:46.714Z"
   },
   {
    "duration": 24,
    "start_time": "2022-04-27T08:30:46.796Z"
   },
   {
    "duration": 73,
    "start_time": "2022-04-29T09:38:56.121Z"
   },
   {
    "duration": 1562,
    "start_time": "2022-04-29T09:39:06.022Z"
   },
   {
    "duration": 20,
    "start_time": "2022-04-29T09:39:07.586Z"
   },
   {
    "duration": 31,
    "start_time": "2022-04-29T09:39:08.369Z"
   },
   {
    "duration": 16,
    "start_time": "2022-04-29T09:39:08.522Z"
   },
   {
    "duration": 8,
    "start_time": "2022-04-29T09:39:09.701Z"
   },
   {
    "duration": 8,
    "start_time": "2022-04-29T09:39:10.431Z"
   },
   {
    "duration": 9,
    "start_time": "2022-04-29T09:39:12.797Z"
   },
   {
    "duration": 6,
    "start_time": "2022-04-29T09:39:24.700Z"
   },
   {
    "duration": 7,
    "start_time": "2022-04-29T09:39:26.922Z"
   },
   {
    "duration": 794,
    "start_time": "2022-04-29T09:40:12.086Z"
   },
   {
    "duration": 4,
    "start_time": "2022-04-29T09:46:52.783Z"
   },
   {
    "duration": 13,
    "start_time": "2022-04-29T09:46:53.513Z"
   },
   {
    "duration": 12,
    "start_time": "2022-04-29T09:46:54.979Z"
   },
   {
    "duration": 15,
    "start_time": "2022-04-29T09:46:55.688Z"
   },
   {
    "duration": 8,
    "start_time": "2022-04-29T09:46:56.992Z"
   },
   {
    "duration": 7,
    "start_time": "2022-04-29T09:46:57.681Z"
   },
   {
    "duration": 8,
    "start_time": "2022-04-29T09:46:59.065Z"
   },
   {
    "duration": 5,
    "start_time": "2022-04-29T09:47:10.487Z"
   },
   {
    "duration": 7,
    "start_time": "2022-04-29T09:47:11.280Z"
   },
   {
    "duration": 4,
    "start_time": "2022-04-29T09:47:13.345Z"
   },
   {
    "duration": 4,
    "start_time": "2022-04-29T09:47:14.991Z"
   },
   {
    "duration": 8,
    "start_time": "2022-04-29T09:47:16.134Z"
   },
   {
    "duration": 4,
    "start_time": "2022-04-29T09:47:17.968Z"
   },
   {
    "duration": 4,
    "start_time": "2022-04-29T09:47:18.652Z"
   },
   {
    "duration": 13,
    "start_time": "2022-04-29T09:47:20.747Z"
   },
   {
    "duration": 8,
    "start_time": "2022-04-29T09:47:21.952Z"
   },
   {
    "duration": 14,
    "start_time": "2022-04-29T09:47:23.583Z"
   },
   {
    "duration": 1587,
    "start_time": "2022-04-29T09:47:43.610Z"
   },
   {
    "duration": 14,
    "start_time": "2022-04-29T09:47:45.200Z"
   },
   {
    "duration": 23,
    "start_time": "2022-04-29T09:47:45.217Z"
   },
   {
    "duration": 15,
    "start_time": "2022-04-29T09:47:45.244Z"
   },
   {
    "duration": 23,
    "start_time": "2022-04-29T09:47:45.261Z"
   },
   {
    "duration": 10,
    "start_time": "2022-04-29T09:47:45.286Z"
   },
   {
    "duration": 11,
    "start_time": "2022-04-29T09:47:45.299Z"
   },
   {
    "duration": 8,
    "start_time": "2022-04-29T09:47:45.313Z"
   },
   {
    "duration": 12,
    "start_time": "2022-04-29T09:47:45.323Z"
   },
   {
    "duration": 4,
    "start_time": "2022-04-29T09:47:45.338Z"
   },
   {
    "duration": 41,
    "start_time": "2022-04-29T09:47:45.344Z"
   },
   {
    "duration": 13,
    "start_time": "2022-04-29T09:47:45.388Z"
   },
   {
    "duration": 11,
    "start_time": "2022-04-29T09:47:45.403Z"
   },
   {
    "duration": 8,
    "start_time": "2022-04-29T09:47:45.416Z"
   },
   {
    "duration": 71,
    "start_time": "2022-04-29T09:47:45.427Z"
   },
   {
    "duration": 84,
    "start_time": "2022-04-29T09:47:45.502Z"
   },
   {
    "duration": 19,
    "start_time": "2022-04-29T09:47:45.588Z"
   }
  ],
  "kernelspec": {
   "display_name": "Python 3 (ipykernel)",
   "language": "python",
   "name": "python3"
  },
  "language_info": {
   "codemirror_mode": {
    "name": "ipython",
    "version": 3
   },
   "file_extension": ".py",
   "mimetype": "text/x-python",
   "name": "python",
   "nbconvert_exporter": "python",
   "pygments_lexer": "ipython3",
   "version": "3.9.5"
  },
  "toc": {
   "base_numbering": 1,
   "nav_menu": {},
   "number_sections": true,
   "sideBar": true,
   "skip_h1_title": true,
   "title_cell": "Содержание",
   "title_sidebar": "Contents",
   "toc_cell": true,
   "toc_position": {},
   "toc_section_display": true,
   "toc_window_display": false
  }
 },
 "nbformat": 4,
 "nbformat_minor": 2
}
