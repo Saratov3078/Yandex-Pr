{
 "cells": [
  {
   "cell_type": "markdown",
   "metadata": {
    "toc": true
   },
   "source": [
    "<h1>Содержание<span class=\"tocSkip\"></span></h1>\n",
    "<div class=\"toc\"><ul class=\"toc-item\"><li><span><a href=\"#Подготовка-данных\" data-toc-modified-id=\"Подготовка-данных-1\"><span class=\"toc-item-num\">1&nbsp;&nbsp;</span>Подготовка данных</a></span><ul class=\"toc-item\"><li><span><a href=\"#Проверка-правильности-расчета-эффективности-обогащения\" data-toc-modified-id=\"Проверка-правильности-расчета-эффективности-обогащения-1.1\"><span class=\"toc-item-num\">1.1&nbsp;&nbsp;</span>Проверка правильности расчета эффективности обогащения</a></span></li><li><span><a href=\"#Проанализируйте-признаки,-недоступные-в-тестовой-выборке.-Что-это-за-параметры?-К-какому-типу-относятся\" data-toc-modified-id=\"Проанализируйте-признаки,-недоступные-в-тестовой-выборке.-Что-это-за-параметры?-К-какому-типу-относятся-1.2\"><span class=\"toc-item-num\">1.2&nbsp;&nbsp;</span>Проанализируйте признаки, недоступные в тестовой выборке. Что это за параметры? К какому типу относятся</a></span></li><li><span><a href=\"#Предобработка\" data-toc-modified-id=\"Предобработка-1.3\"><span class=\"toc-item-num\">1.3&nbsp;&nbsp;</span>Предобработка</a></span></li></ul></li><li><span><a href=\"#Анализ-данных\" data-toc-modified-id=\"Анализ-данных-2\"><span class=\"toc-item-num\">2&nbsp;&nbsp;</span>Анализ данных</a></span><ul class=\"toc-item\"><li><span><a href=\"#Посмотрите,-как-меняется-концентрация-металлов-(Au,-Ag,-Pb)-на-различных-этапах-очистки.\" data-toc-modified-id=\"Посмотрите,-как-меняется-концентрация-металлов-(Au,-Ag,-Pb)-на-различных-этапах-очистки.-2.1\"><span class=\"toc-item-num\">2.1&nbsp;&nbsp;</span>Посмотрите, как меняется концентрация металлов (Au, Ag, Pb) на различных этапах очистки.</a></span></li><li><span><a href=\"#Распределения-размеров-гранул-сырья-на-обучающей-и-тестовой-выборках\" data-toc-modified-id=\"Распределения-размеров-гранул-сырья-на-обучающей-и-тестовой-выборках-2.2\"><span class=\"toc-item-num\">2.2&nbsp;&nbsp;</span>Распределения размеров гранул сырья на обучающей и тестовой выборках</a></span></li><li><span><a href=\"#Суммарная-концентрация-всех-веществ-на-разных-этапах-очистки\" data-toc-modified-id=\"Суммарная-концентрация-всех-веществ-на-разных-этапах-очистки-2.3\"><span class=\"toc-item-num\">2.3&nbsp;&nbsp;</span>Суммарная концентрация всех веществ на разных этапах очистки</a></span></li></ul></li><li><span><a href=\"#Модель\" data-toc-modified-id=\"Модель-3\"><span class=\"toc-item-num\">3&nbsp;&nbsp;</span>Модель</a></span><ul class=\"toc-item\"><li><span><a href=\"#Предсказания-на-тестовом-наборе-данных\" data-toc-modified-id=\"Предсказания-на-тестовом-наборе-данных-3.1\"><span class=\"toc-item-num\">3.1&nbsp;&nbsp;</span>Предсказания на тестовом наборе данных</a></span></li><li><span><a href=\"#Проверка-адекватности-на-константной-модели\" data-toc-modified-id=\"Проверка-адекватности-на-константной-модели-3.2\"><span class=\"toc-item-num\">3.2&nbsp;&nbsp;</span>Проверка адекватности на константной модели</a></span></li><li><span><a href=\"#Вывод\" data-toc-modified-id=\"Вывод-3.3\"><span class=\"toc-item-num\">3.3&nbsp;&nbsp;</span>Вывод</a></span></li></ul></li><li><span><a href=\"#Чек-лист-готовности-проекта\" data-toc-modified-id=\"Чек-лист-готовности-проекта-4\"><span class=\"toc-item-num\">4&nbsp;&nbsp;</span>Чек-лист готовности проекта</a></span></li></ul></div>"
   ]
  },
  {
   "cell_type": "markdown",
   "metadata": {},
   "source": [
    "# Восстановление золота из руды"
   ]
  },
  {
   "cell_type": "markdown",
   "metadata": {},
   "source": [
    "Подготовьте прототип модели машинного обучения для «Цифры». Компания разрабатывает решения для эффективной работы промышленных предприятий.\n",
    "\n",
    "Модель должна предсказать коэффициент восстановления золота из золотосодержащей руды. Используйте данные с параметрами добычи и очистки. \n",
    "\n",
    "Модель поможет оптимизировать производство, чтобы не запускать предприятие с убыточными характеристиками.\n",
    "\n",
    "Вам нужно:\n",
    "\n",
    "1. Подготовить данные;\n",
    "2. Провести исследовательский анализ данных;\n",
    "3. Построить и обучить модель.\n",
    "\n",
    "Чтобы выполнить проект, обращайтесь к библиотекам *pandas*, *matplotlib* и *sklearn.* Вам поможет их документация."
   ]
  },
  {
   "cell_type": "markdown",
   "metadata": {},
   "source": [
    "Описание данных:\n",
    "Технологический процесс\n",
    "\n",
    "Rougher feed — исходное сырье\n",
    "\n",
    "Rougher additions (или reagent additions) — флотационные реагенты: Xanthate, Sulphate, Depressant\n",
    "Xanthate **— ксантогенат (промотер, или активатор флотации);\n",
    "Sulphate — сульфат (на данном производстве сульфид натрия);\n",
    "Depressant — депрессант (силикат натрия).\n",
    "\n",
    "Rougher process (англ. «грубый процесс») — флотация\n",
    "\n",
    "Rougher tails — отвальные хвосты\n",
    "\n",
    "Float banks — флотационная установка\n",
    "\n",
    "Cleaner process — очистка\n",
    "\n",
    "Rougher Au — черновой концентрат золота\n",
    "\n",
    "Final Au — финальный концентрат золота\n",
    "\n",
    "\n",
    "Параметры этапов\n",
    "\n",
    "air amount — объём воздуха\n",
    "\n",
    "fluid levels — уровень жидкости\n",
    "\n",
    "feed size — размер гранул сырья\n",
    "\n",
    "feed rate — скорость подачи\n",
    "\n",
    "\n",
    "Наименование признаков\n",
    "\n",
    "Наименование признаков выглядит следующим образом: этап.тип_параметра.название_параметра\n",
    "\n",
    "Пример: rougher.input.feed_ag\n",
    "\n",
    "Возможные значения для блока этап:\n",
    "\n",
    "rougher — флотация\n",
    "\n",
    "primary_cleaner — первичная очистка\n",
    "\n",
    "secondary_cleaner — вторичная очистка\n",
    "\n",
    "final — финальные характеристики\n",
    "\n",
    "\n",
    "Возможные значения для блока тип_параметра:\n",
    "\n",
    "input — параметры сырья\n",
    "\n",
    "output — параметры продукта\n",
    "\n",
    "state — параметры, характеризующие текущее состояние этапа\n",
    "\n",
    "calculation — расчётные характеристики"
   ]
  },
  {
   "cell_type": "markdown",
   "metadata": {},
   "source": [
    "## Подготовка данных"
   ]
  },
  {
   "cell_type": "code",
   "execution_count": 1,
   "metadata": {},
   "outputs": [],
   "source": [
    "import pandas as pd\n",
    "from sklearn.metrics import mean_absolute_error\n",
    "import numpy as np \n",
    "import matplotlib.pyplot as plt\n",
    "import seaborn as sns\n",
    "from sklearn.preprocessing import StandardScaler\n",
    "from sklearn.ensemble import RandomForestRegressor\n",
    "from sklearn.linear_model import LinearRegression\n",
    "from sklearn.linear_model import SGDRegressor\n",
    "from sklearn.dummy import DummyRegressor\n",
    "from sklearn.svm import LinearSVR\n",
    "import warnings\n",
    "warnings.filterwarnings(\"ignore\")"
   ]
  },
  {
   "cell_type": "code",
   "execution_count": 2,
   "metadata": {},
   "outputs": [
    {
     "name": "stdout",
     "output_type": "stream",
     "text": [
      "<class 'pandas.core.frame.DataFrame'>\n",
      "RangeIndex: 14149 entries, 0 to 14148\n",
      "Data columns (total 87 columns):\n",
      " #   Column                                              Non-Null Count  Dtype  \n",
      "---  ------                                              --------------  -----  \n",
      " 0   date                                                14149 non-null  object \n",
      " 1   final.output.concentrate_ag                         14148 non-null  float64\n",
      " 2   final.output.concentrate_pb                         14148 non-null  float64\n",
      " 3   final.output.concentrate_sol                        13938 non-null  float64\n",
      " 4   final.output.concentrate_au                         14149 non-null  float64\n",
      " 5   final.output.recovery                               14149 non-null  float64\n",
      " 6   final.output.tail_ag                                14149 non-null  float64\n",
      " 7   final.output.tail_pb                                14049 non-null  float64\n",
      " 8   final.output.tail_sol                               14144 non-null  float64\n",
      " 9   final.output.tail_au                                14149 non-null  float64\n",
      " 10  primary_cleaner.input.sulfate                       14129 non-null  float64\n",
      " 11  primary_cleaner.input.depressant                    14117 non-null  float64\n",
      " 12  primary_cleaner.input.feed_size                     14149 non-null  float64\n",
      " 13  primary_cleaner.input.xanthate                      14049 non-null  float64\n",
      " 14  primary_cleaner.output.concentrate_ag               14149 non-null  float64\n",
      " 15  primary_cleaner.output.concentrate_pb               14063 non-null  float64\n",
      " 16  primary_cleaner.output.concentrate_sol              13863 non-null  float64\n",
      " 17  primary_cleaner.output.concentrate_au               14149 non-null  float64\n",
      " 18  primary_cleaner.output.tail_ag                      14148 non-null  float64\n",
      " 19  primary_cleaner.output.tail_pb                      14134 non-null  float64\n",
      " 20  primary_cleaner.output.tail_sol                     14103 non-null  float64\n",
      " 21  primary_cleaner.output.tail_au                      14149 non-null  float64\n",
      " 22  primary_cleaner.state.floatbank8_a_air              14145 non-null  float64\n",
      " 23  primary_cleaner.state.floatbank8_a_level            14148 non-null  float64\n",
      " 24  primary_cleaner.state.floatbank8_b_air              14145 non-null  float64\n",
      " 25  primary_cleaner.state.floatbank8_b_level            14148 non-null  float64\n",
      " 26  primary_cleaner.state.floatbank8_c_air              14147 non-null  float64\n",
      " 27  primary_cleaner.state.floatbank8_c_level            14148 non-null  float64\n",
      " 28  primary_cleaner.state.floatbank8_d_air              14146 non-null  float64\n",
      " 29  primary_cleaner.state.floatbank8_d_level            14148 non-null  float64\n",
      " 30  rougher.calculation.sulfate_to_au_concentrate       14148 non-null  float64\n",
      " 31  rougher.calculation.floatbank10_sulfate_to_au_feed  14148 non-null  float64\n",
      " 32  rougher.calculation.floatbank11_sulfate_to_au_feed  14148 non-null  float64\n",
      " 33  rougher.calculation.au_pb_ratio                     14149 non-null  float64\n",
      " 34  rougher.input.feed_ag                               14149 non-null  float64\n",
      " 35  rougher.input.feed_pb                               14049 non-null  float64\n",
      " 36  rougher.input.feed_rate                             14141 non-null  float64\n",
      " 37  rougher.input.feed_size                             14005 non-null  float64\n",
      " 38  rougher.input.feed_sol                              14071 non-null  float64\n",
      " 39  rougher.input.feed_au                               14149 non-null  float64\n",
      " 40  rougher.input.floatbank10_sulfate                   14120 non-null  float64\n",
      " 41  rougher.input.floatbank10_xanthate                  14141 non-null  float64\n",
      " 42  rougher.input.floatbank11_sulfate                   14113 non-null  float64\n",
      " 43  rougher.input.floatbank11_xanthate                  13721 non-null  float64\n",
      " 44  rougher.output.concentrate_ag                       14149 non-null  float64\n",
      " 45  rougher.output.concentrate_pb                       14149 non-null  float64\n",
      " 46  rougher.output.concentrate_sol                      14127 non-null  float64\n",
      " 47  rougher.output.concentrate_au                       14149 non-null  float64\n",
      " 48  rougher.output.recovery                             14149 non-null  float64\n",
      " 49  rougher.output.tail_ag                              14148 non-null  float64\n",
      " 50  rougher.output.tail_pb                              14149 non-null  float64\n",
      " 51  rougher.output.tail_sol                             14149 non-null  float64\n",
      " 52  rougher.output.tail_au                              14149 non-null  float64\n",
      " 53  rougher.state.floatbank10_a_air                     14148 non-null  float64\n",
      " 54  rougher.state.floatbank10_a_level                   14148 non-null  float64\n",
      " 55  rougher.state.floatbank10_b_air                     14148 non-null  float64\n",
      " 56  rougher.state.floatbank10_b_level                   14148 non-null  float64\n",
      " 57  rougher.state.floatbank10_c_air                     14148 non-null  float64\n",
      " 58  rougher.state.floatbank10_c_level                   14148 non-null  float64\n",
      " 59  rougher.state.floatbank10_d_air                     14149 non-null  float64\n",
      " 60  rougher.state.floatbank10_d_level                   14149 non-null  float64\n",
      " 61  rougher.state.floatbank10_e_air                     13713 non-null  float64\n",
      " 62  rougher.state.floatbank10_e_level                   14149 non-null  float64\n",
      " 63  rougher.state.floatbank10_f_air                     14149 non-null  float64\n",
      " 64  rougher.state.floatbank10_f_level                   14149 non-null  float64\n",
      " 65  secondary_cleaner.output.tail_ag                    14147 non-null  float64\n",
      " 66  secondary_cleaner.output.tail_pb                    14139 non-null  float64\n",
      " 67  secondary_cleaner.output.tail_sol                   12544 non-null  float64\n",
      " 68  secondary_cleaner.output.tail_au                    14149 non-null  float64\n",
      " 69  secondary_cleaner.state.floatbank2_a_air            13932 non-null  float64\n",
      " 70  secondary_cleaner.state.floatbank2_a_level          14148 non-null  float64\n",
      " 71  secondary_cleaner.state.floatbank2_b_air            14128 non-null  float64\n",
      " 72  secondary_cleaner.state.floatbank2_b_level          14148 non-null  float64\n",
      " 73  secondary_cleaner.state.floatbank3_a_air            14145 non-null  float64\n",
      " 74  secondary_cleaner.state.floatbank3_a_level          14148 non-null  float64\n",
      " 75  secondary_cleaner.state.floatbank3_b_air            14148 non-null  float64\n",
      " 76  secondary_cleaner.state.floatbank3_b_level          14148 non-null  float64\n",
      " 77  secondary_cleaner.state.floatbank4_a_air            14143 non-null  float64\n",
      " 78  secondary_cleaner.state.floatbank4_a_level          14148 non-null  float64\n",
      " 79  secondary_cleaner.state.floatbank4_b_air            14148 non-null  float64\n",
      " 80  secondary_cleaner.state.floatbank4_b_level          14148 non-null  float64\n",
      " 81  secondary_cleaner.state.floatbank5_a_air            14148 non-null  float64\n",
      " 82  secondary_cleaner.state.floatbank5_a_level          14148 non-null  float64\n",
      " 83  secondary_cleaner.state.floatbank5_b_air            14148 non-null  float64\n",
      " 84  secondary_cleaner.state.floatbank5_b_level          14148 non-null  float64\n",
      " 85  secondary_cleaner.state.floatbank6_a_air            14147 non-null  float64\n",
      " 86  secondary_cleaner.state.floatbank6_a_level          14148 non-null  float64\n",
      "dtypes: float64(86), object(1)\n",
      "memory usage: 9.4+ MB\n"
     ]
    }
   ],
   "source": [
    "train = pd.read_csv('/datasets/gold_recovery_train_new.csv')\n",
    "test = pd.read_csv('/datasets/gold_recovery_test_new.csv')\n",
    "full = pd.read_csv('/datasets/gold_recovery_full_new.csv')\n",
    "datasets = [train, test,full]\n",
    "train.info()\n",
    "\n"
   ]
  },
  {
   "cell_type": "code",
   "execution_count": 3,
   "metadata": {},
   "outputs": [
    {
     "name": "stdout",
     "output_type": "stream",
     "text": [
      "<class 'pandas.core.frame.DataFrame'>\n",
      "RangeIndex: 5290 entries, 0 to 5289\n",
      "Data columns (total 53 columns):\n",
      " #   Column                                      Non-Null Count  Dtype  \n",
      "---  ------                                      --------------  -----  \n",
      " 0   date                                        5290 non-null   object \n",
      " 1   primary_cleaner.input.sulfate               5286 non-null   float64\n",
      " 2   primary_cleaner.input.depressant            5285 non-null   float64\n",
      " 3   primary_cleaner.input.feed_size             5290 non-null   float64\n",
      " 4   primary_cleaner.input.xanthate              5286 non-null   float64\n",
      " 5   primary_cleaner.state.floatbank8_a_air      5290 non-null   float64\n",
      " 6   primary_cleaner.state.floatbank8_a_level    5290 non-null   float64\n",
      " 7   primary_cleaner.state.floatbank8_b_air      5290 non-null   float64\n",
      " 8   primary_cleaner.state.floatbank8_b_level    5290 non-null   float64\n",
      " 9   primary_cleaner.state.floatbank8_c_air      5290 non-null   float64\n",
      " 10  primary_cleaner.state.floatbank8_c_level    5290 non-null   float64\n",
      " 11  primary_cleaner.state.floatbank8_d_air      5290 non-null   float64\n",
      " 12  primary_cleaner.state.floatbank8_d_level    5290 non-null   float64\n",
      " 13  rougher.input.feed_ag                       5290 non-null   float64\n",
      " 14  rougher.input.feed_pb                       5290 non-null   float64\n",
      " 15  rougher.input.feed_rate                     5287 non-null   float64\n",
      " 16  rougher.input.feed_size                     5289 non-null   float64\n",
      " 17  rougher.input.feed_sol                      5269 non-null   float64\n",
      " 18  rougher.input.feed_au                       5290 non-null   float64\n",
      " 19  rougher.input.floatbank10_sulfate           5285 non-null   float64\n",
      " 20  rougher.input.floatbank10_xanthate          5290 non-null   float64\n",
      " 21  rougher.input.floatbank11_sulfate           5282 non-null   float64\n",
      " 22  rougher.input.floatbank11_xanthate          5265 non-null   float64\n",
      " 23  rougher.state.floatbank10_a_air             5290 non-null   float64\n",
      " 24  rougher.state.floatbank10_a_level           5290 non-null   float64\n",
      " 25  rougher.state.floatbank10_b_air             5290 non-null   float64\n",
      " 26  rougher.state.floatbank10_b_level           5290 non-null   float64\n",
      " 27  rougher.state.floatbank10_c_air             5290 non-null   float64\n",
      " 28  rougher.state.floatbank10_c_level           5290 non-null   float64\n",
      " 29  rougher.state.floatbank10_d_air             5290 non-null   float64\n",
      " 30  rougher.state.floatbank10_d_level           5290 non-null   float64\n",
      " 31  rougher.state.floatbank10_e_air             5290 non-null   float64\n",
      " 32  rougher.state.floatbank10_e_level           5290 non-null   float64\n",
      " 33  rougher.state.floatbank10_f_air             5290 non-null   float64\n",
      " 34  rougher.state.floatbank10_f_level           5290 non-null   float64\n",
      " 35  secondary_cleaner.state.floatbank2_a_air    5287 non-null   float64\n",
      " 36  secondary_cleaner.state.floatbank2_a_level  5290 non-null   float64\n",
      " 37  secondary_cleaner.state.floatbank2_b_air    5288 non-null   float64\n",
      " 38  secondary_cleaner.state.floatbank2_b_level  5290 non-null   float64\n",
      " 39  secondary_cleaner.state.floatbank3_a_air    5281 non-null   float64\n",
      " 40  secondary_cleaner.state.floatbank3_a_level  5290 non-null   float64\n",
      " 41  secondary_cleaner.state.floatbank3_b_air    5290 non-null   float64\n",
      " 42  secondary_cleaner.state.floatbank3_b_level  5290 non-null   float64\n",
      " 43  secondary_cleaner.state.floatbank4_a_air    5290 non-null   float64\n",
      " 44  secondary_cleaner.state.floatbank4_a_level  5290 non-null   float64\n",
      " 45  secondary_cleaner.state.floatbank4_b_air    5290 non-null   float64\n",
      " 46  secondary_cleaner.state.floatbank4_b_level  5290 non-null   float64\n",
      " 47  secondary_cleaner.state.floatbank5_a_air    5290 non-null   float64\n",
      " 48  secondary_cleaner.state.floatbank5_a_level  5290 non-null   float64\n",
      " 49  secondary_cleaner.state.floatbank5_b_air    5290 non-null   float64\n",
      " 50  secondary_cleaner.state.floatbank5_b_level  5290 non-null   float64\n",
      " 51  secondary_cleaner.state.floatbank6_a_air    5290 non-null   float64\n",
      " 52  secondary_cleaner.state.floatbank6_a_level  5290 non-null   float64\n",
      "dtypes: float64(52), object(1)\n",
      "memory usage: 2.1+ MB\n"
     ]
    }
   ],
   "source": [
    "test.info()\n",
    "\n"
   ]
  },
  {
   "cell_type": "code",
   "execution_count": 4,
   "metadata": {},
   "outputs": [
    {
     "name": "stdout",
     "output_type": "stream",
     "text": [
      "<class 'pandas.core.frame.DataFrame'>\n",
      "RangeIndex: 19439 entries, 0 to 19438\n",
      "Data columns (total 87 columns):\n",
      " #   Column                                              Non-Null Count  Dtype  \n",
      "---  ------                                              --------------  -----  \n",
      " 0   date                                                19439 non-null  object \n",
      " 1   final.output.concentrate_ag                         19438 non-null  float64\n",
      " 2   final.output.concentrate_pb                         19438 non-null  float64\n",
      " 3   final.output.concentrate_sol                        19228 non-null  float64\n",
      " 4   final.output.concentrate_au                         19439 non-null  float64\n",
      " 5   final.output.recovery                               19439 non-null  float64\n",
      " 6   final.output.tail_ag                                19438 non-null  float64\n",
      " 7   final.output.tail_pb                                19338 non-null  float64\n",
      " 8   final.output.tail_sol                               19433 non-null  float64\n",
      " 9   final.output.tail_au                                19439 non-null  float64\n",
      " 10  primary_cleaner.input.sulfate                       19415 non-null  float64\n",
      " 11  primary_cleaner.input.depressant                    19402 non-null  float64\n",
      " 12  primary_cleaner.input.feed_size                     19439 non-null  float64\n",
      " 13  primary_cleaner.input.xanthate                      19335 non-null  float64\n",
      " 14  primary_cleaner.output.concentrate_ag               19439 non-null  float64\n",
      " 15  primary_cleaner.output.concentrate_pb               19323 non-null  float64\n",
      " 16  primary_cleaner.output.concentrate_sol              19069 non-null  float64\n",
      " 17  primary_cleaner.output.concentrate_au               19439 non-null  float64\n",
      " 18  primary_cleaner.output.tail_ag                      19435 non-null  float64\n",
      " 19  primary_cleaner.output.tail_pb                      19418 non-null  float64\n",
      " 20  primary_cleaner.output.tail_sol                     19377 non-null  float64\n",
      " 21  primary_cleaner.output.tail_au                      19439 non-null  float64\n",
      " 22  primary_cleaner.state.floatbank8_a_air              19435 non-null  float64\n",
      " 23  primary_cleaner.state.floatbank8_a_level            19438 non-null  float64\n",
      " 24  primary_cleaner.state.floatbank8_b_air              19435 non-null  float64\n",
      " 25  primary_cleaner.state.floatbank8_b_level            19438 non-null  float64\n",
      " 26  primary_cleaner.state.floatbank8_c_air              19437 non-null  float64\n",
      " 27  primary_cleaner.state.floatbank8_c_level            19438 non-null  float64\n",
      " 28  primary_cleaner.state.floatbank8_d_air              19436 non-null  float64\n",
      " 29  primary_cleaner.state.floatbank8_d_level            19438 non-null  float64\n",
      " 30  rougher.calculation.sulfate_to_au_concentrate       19437 non-null  float64\n",
      " 31  rougher.calculation.floatbank10_sulfate_to_au_feed  19437 non-null  float64\n",
      " 32  rougher.calculation.floatbank11_sulfate_to_au_feed  19437 non-null  float64\n",
      " 33  rougher.calculation.au_pb_ratio                     19439 non-null  float64\n",
      " 34  rougher.input.feed_ag                               19439 non-null  float64\n",
      " 35  rougher.input.feed_pb                               19339 non-null  float64\n",
      " 36  rougher.input.feed_rate                             19428 non-null  float64\n",
      " 37  rougher.input.feed_size                             19294 non-null  float64\n",
      " 38  rougher.input.feed_sol                              19340 non-null  float64\n",
      " 39  rougher.input.feed_au                               19439 non-null  float64\n",
      " 40  rougher.input.floatbank10_sulfate                   19405 non-null  float64\n",
      " 41  rougher.input.floatbank10_xanthate                  19431 non-null  float64\n",
      " 42  rougher.input.floatbank11_sulfate                   19395 non-null  float64\n",
      " 43  rougher.input.floatbank11_xanthate                  18986 non-null  float64\n",
      " 44  rougher.output.concentrate_ag                       19439 non-null  float64\n",
      " 45  rougher.output.concentrate_pb                       19439 non-null  float64\n",
      " 46  rougher.output.concentrate_sol                      19416 non-null  float64\n",
      " 47  rougher.output.concentrate_au                       19439 non-null  float64\n",
      " 48  rougher.output.recovery                             19439 non-null  float64\n",
      " 49  rougher.output.tail_ag                              19438 non-null  float64\n",
      " 50  rougher.output.tail_pb                              19439 non-null  float64\n",
      " 51  rougher.output.tail_sol                             19439 non-null  float64\n",
      " 52  rougher.output.tail_au                              19439 non-null  float64\n",
      " 53  rougher.state.floatbank10_a_air                     19438 non-null  float64\n",
      " 54  rougher.state.floatbank10_a_level                   19438 non-null  float64\n",
      " 55  rougher.state.floatbank10_b_air                     19438 non-null  float64\n",
      " 56  rougher.state.floatbank10_b_level                   19438 non-null  float64\n",
      " 57  rougher.state.floatbank10_c_air                     19438 non-null  float64\n",
      " 58  rougher.state.floatbank10_c_level                   19438 non-null  float64\n",
      " 59  rougher.state.floatbank10_d_air                     19439 non-null  float64\n",
      " 60  rougher.state.floatbank10_d_level                   19439 non-null  float64\n",
      " 61  rougher.state.floatbank10_e_air                     19003 non-null  float64\n",
      " 62  rougher.state.floatbank10_e_level                   19439 non-null  float64\n",
      " 63  rougher.state.floatbank10_f_air                     19439 non-null  float64\n",
      " 64  rougher.state.floatbank10_f_level                   19439 non-null  float64\n",
      " 65  secondary_cleaner.output.tail_ag                    19437 non-null  float64\n",
      " 66  secondary_cleaner.output.tail_pb                    19427 non-null  float64\n",
      " 67  secondary_cleaner.output.tail_sol                   17691 non-null  float64\n",
      " 68  secondary_cleaner.output.tail_au                    19439 non-null  float64\n",
      " 69  secondary_cleaner.state.floatbank2_a_air            19219 non-null  float64\n",
      " 70  secondary_cleaner.state.floatbank2_a_level          19438 non-null  float64\n",
      " 71  secondary_cleaner.state.floatbank2_b_air            19416 non-null  float64\n",
      " 72  secondary_cleaner.state.floatbank2_b_level          19438 non-null  float64\n",
      " 73  secondary_cleaner.state.floatbank3_a_air            19426 non-null  float64\n",
      " 74  secondary_cleaner.state.floatbank3_a_level          19438 non-null  float64\n",
      " 75  secondary_cleaner.state.floatbank3_b_air            19438 non-null  float64\n",
      " 76  secondary_cleaner.state.floatbank3_b_level          19438 non-null  float64\n",
      " 77  secondary_cleaner.state.floatbank4_a_air            19433 non-null  float64\n",
      " 78  secondary_cleaner.state.floatbank4_a_level          19438 non-null  float64\n",
      " 79  secondary_cleaner.state.floatbank4_b_air            19438 non-null  float64\n",
      " 80  secondary_cleaner.state.floatbank4_b_level          19438 non-null  float64\n",
      " 81  secondary_cleaner.state.floatbank5_a_air            19438 non-null  float64\n",
      " 82  secondary_cleaner.state.floatbank5_a_level          19438 non-null  float64\n",
      " 83  secondary_cleaner.state.floatbank5_b_air            19438 non-null  float64\n",
      " 84  secondary_cleaner.state.floatbank5_b_level          19438 non-null  float64\n",
      " 85  secondary_cleaner.state.floatbank6_a_air            19437 non-null  float64\n",
      " 86  secondary_cleaner.state.floatbank6_a_level          19438 non-null  float64\n",
      "dtypes: float64(86), object(1)\n",
      "memory usage: 12.9+ MB\n"
     ]
    }
   ],
   "source": [
    "full.info()\n",
    "\n"
   ]
  },
  {
   "cell_type": "code",
   "execution_count": 5,
   "metadata": {},
   "outputs": [
    {
     "data": {
      "text/html": [
       "<div>\n",
       "<style scoped>\n",
       "    .dataframe tbody tr th:only-of-type {\n",
       "        vertical-align: middle;\n",
       "    }\n",
       "\n",
       "    .dataframe tbody tr th {\n",
       "        vertical-align: top;\n",
       "    }\n",
       "\n",
       "    .dataframe thead th {\n",
       "        text-align: right;\n",
       "    }\n",
       "</style>\n",
       "<table border=\"1\" class=\"dataframe\">\n",
       "  <thead>\n",
       "    <tr style=\"text-align: right;\">\n",
       "      <th></th>\n",
       "      <th>date</th>\n",
       "      <th>final.output.concentrate_ag</th>\n",
       "      <th>final.output.concentrate_pb</th>\n",
       "      <th>final.output.concentrate_sol</th>\n",
       "      <th>final.output.concentrate_au</th>\n",
       "      <th>final.output.recovery</th>\n",
       "      <th>final.output.tail_ag</th>\n",
       "      <th>final.output.tail_pb</th>\n",
       "      <th>final.output.tail_sol</th>\n",
       "      <th>final.output.tail_au</th>\n",
       "      <th>...</th>\n",
       "      <th>secondary_cleaner.state.floatbank4_a_air</th>\n",
       "      <th>secondary_cleaner.state.floatbank4_a_level</th>\n",
       "      <th>secondary_cleaner.state.floatbank4_b_air</th>\n",
       "      <th>secondary_cleaner.state.floatbank4_b_level</th>\n",
       "      <th>secondary_cleaner.state.floatbank5_a_air</th>\n",
       "      <th>secondary_cleaner.state.floatbank5_a_level</th>\n",
       "      <th>secondary_cleaner.state.floatbank5_b_air</th>\n",
       "      <th>secondary_cleaner.state.floatbank5_b_level</th>\n",
       "      <th>secondary_cleaner.state.floatbank6_a_air</th>\n",
       "      <th>secondary_cleaner.state.floatbank6_a_level</th>\n",
       "    </tr>\n",
       "  </thead>\n",
       "  <tbody>\n",
       "    <tr>\n",
       "      <th>0</th>\n",
       "      <td>2016-01-15 00:00:00</td>\n",
       "      <td>6.055403</td>\n",
       "      <td>9.889648</td>\n",
       "      <td>5.507324</td>\n",
       "      <td>42.192020</td>\n",
       "      <td>70.541216</td>\n",
       "      <td>10.411962</td>\n",
       "      <td>0.895447</td>\n",
       "      <td>16.904297</td>\n",
       "      <td>2.143149</td>\n",
       "      <td>...</td>\n",
       "      <td>14.016835</td>\n",
       "      <td>-502.488007</td>\n",
       "      <td>12.099931</td>\n",
       "      <td>-504.715942</td>\n",
       "      <td>9.925633</td>\n",
       "      <td>-498.310211</td>\n",
       "      <td>8.079666</td>\n",
       "      <td>-500.470978</td>\n",
       "      <td>14.151341</td>\n",
       "      <td>-605.841980</td>\n",
       "    </tr>\n",
       "    <tr>\n",
       "      <th>1</th>\n",
       "      <td>2016-01-15 01:00:00</td>\n",
       "      <td>6.029369</td>\n",
       "      <td>9.968944</td>\n",
       "      <td>5.257781</td>\n",
       "      <td>42.701629</td>\n",
       "      <td>69.266198</td>\n",
       "      <td>10.462676</td>\n",
       "      <td>0.927452</td>\n",
       "      <td>16.634514</td>\n",
       "      <td>2.224930</td>\n",
       "      <td>...</td>\n",
       "      <td>13.992281</td>\n",
       "      <td>-505.503262</td>\n",
       "      <td>11.950531</td>\n",
       "      <td>-501.331529</td>\n",
       "      <td>10.039245</td>\n",
       "      <td>-500.169983</td>\n",
       "      <td>7.984757</td>\n",
       "      <td>-500.582168</td>\n",
       "      <td>13.998353</td>\n",
       "      <td>-599.787184</td>\n",
       "    </tr>\n",
       "    <tr>\n",
       "      <th>2</th>\n",
       "      <td>2016-01-15 02:00:00</td>\n",
       "      <td>6.055926</td>\n",
       "      <td>10.213995</td>\n",
       "      <td>5.383759</td>\n",
       "      <td>42.657501</td>\n",
       "      <td>68.116445</td>\n",
       "      <td>10.507046</td>\n",
       "      <td>0.953716</td>\n",
       "      <td>16.208849</td>\n",
       "      <td>2.257889</td>\n",
       "      <td>...</td>\n",
       "      <td>14.015015</td>\n",
       "      <td>-502.520901</td>\n",
       "      <td>11.912783</td>\n",
       "      <td>-501.133383</td>\n",
       "      <td>10.070913</td>\n",
       "      <td>-500.129135</td>\n",
       "      <td>8.013877</td>\n",
       "      <td>-500.517572</td>\n",
       "      <td>14.028663</td>\n",
       "      <td>-601.427363</td>\n",
       "    </tr>\n",
       "    <tr>\n",
       "      <th>3</th>\n",
       "      <td>2016-01-15 03:00:00</td>\n",
       "      <td>6.047977</td>\n",
       "      <td>9.977019</td>\n",
       "      <td>4.858634</td>\n",
       "      <td>42.689819</td>\n",
       "      <td>68.347543</td>\n",
       "      <td>10.422762</td>\n",
       "      <td>0.883763</td>\n",
       "      <td>16.532835</td>\n",
       "      <td>2.146849</td>\n",
       "      <td>...</td>\n",
       "      <td>14.036510</td>\n",
       "      <td>-500.857308</td>\n",
       "      <td>11.999550</td>\n",
       "      <td>-501.193686</td>\n",
       "      <td>9.970366</td>\n",
       "      <td>-499.201640</td>\n",
       "      <td>7.977324</td>\n",
       "      <td>-500.255908</td>\n",
       "      <td>14.005551</td>\n",
       "      <td>-599.996129</td>\n",
       "    </tr>\n",
       "    <tr>\n",
       "      <th>4</th>\n",
       "      <td>2016-01-15 04:00:00</td>\n",
       "      <td>6.148599</td>\n",
       "      <td>10.142511</td>\n",
       "      <td>4.939416</td>\n",
       "      <td>42.774141</td>\n",
       "      <td>66.927016</td>\n",
       "      <td>10.360302</td>\n",
       "      <td>0.792826</td>\n",
       "      <td>16.525686</td>\n",
       "      <td>2.055292</td>\n",
       "      <td>...</td>\n",
       "      <td>14.027298</td>\n",
       "      <td>-499.838632</td>\n",
       "      <td>11.953070</td>\n",
       "      <td>-501.053894</td>\n",
       "      <td>9.925709</td>\n",
       "      <td>-501.686727</td>\n",
       "      <td>7.894242</td>\n",
       "      <td>-500.356035</td>\n",
       "      <td>13.996647</td>\n",
       "      <td>-601.496691</td>\n",
       "    </tr>\n",
       "  </tbody>\n",
       "</table>\n",
       "<p>5 rows × 87 columns</p>\n",
       "</div>"
      ],
      "text/plain": [
       "                  date  final.output.concentrate_ag  \\\n",
       "0  2016-01-15 00:00:00                     6.055403   \n",
       "1  2016-01-15 01:00:00                     6.029369   \n",
       "2  2016-01-15 02:00:00                     6.055926   \n",
       "3  2016-01-15 03:00:00                     6.047977   \n",
       "4  2016-01-15 04:00:00                     6.148599   \n",
       "\n",
       "   final.output.concentrate_pb  final.output.concentrate_sol  \\\n",
       "0                     9.889648                      5.507324   \n",
       "1                     9.968944                      5.257781   \n",
       "2                    10.213995                      5.383759   \n",
       "3                     9.977019                      4.858634   \n",
       "4                    10.142511                      4.939416   \n",
       "\n",
       "   final.output.concentrate_au  final.output.recovery  final.output.tail_ag  \\\n",
       "0                    42.192020              70.541216             10.411962   \n",
       "1                    42.701629              69.266198             10.462676   \n",
       "2                    42.657501              68.116445             10.507046   \n",
       "3                    42.689819              68.347543             10.422762   \n",
       "4                    42.774141              66.927016             10.360302   \n",
       "\n",
       "   final.output.tail_pb  final.output.tail_sol  final.output.tail_au  ...  \\\n",
       "0              0.895447              16.904297              2.143149  ...   \n",
       "1              0.927452              16.634514              2.224930  ...   \n",
       "2              0.953716              16.208849              2.257889  ...   \n",
       "3              0.883763              16.532835              2.146849  ...   \n",
       "4              0.792826              16.525686              2.055292  ...   \n",
       "\n",
       "   secondary_cleaner.state.floatbank4_a_air  \\\n",
       "0                                 14.016835   \n",
       "1                                 13.992281   \n",
       "2                                 14.015015   \n",
       "3                                 14.036510   \n",
       "4                                 14.027298   \n",
       "\n",
       "   secondary_cleaner.state.floatbank4_a_level  \\\n",
       "0                                 -502.488007   \n",
       "1                                 -505.503262   \n",
       "2                                 -502.520901   \n",
       "3                                 -500.857308   \n",
       "4                                 -499.838632   \n",
       "\n",
       "   secondary_cleaner.state.floatbank4_b_air  \\\n",
       "0                                 12.099931   \n",
       "1                                 11.950531   \n",
       "2                                 11.912783   \n",
       "3                                 11.999550   \n",
       "4                                 11.953070   \n",
       "\n",
       "   secondary_cleaner.state.floatbank4_b_level  \\\n",
       "0                                 -504.715942   \n",
       "1                                 -501.331529   \n",
       "2                                 -501.133383   \n",
       "3                                 -501.193686   \n",
       "4                                 -501.053894   \n",
       "\n",
       "   secondary_cleaner.state.floatbank5_a_air  \\\n",
       "0                                  9.925633   \n",
       "1                                 10.039245   \n",
       "2                                 10.070913   \n",
       "3                                  9.970366   \n",
       "4                                  9.925709   \n",
       "\n",
       "   secondary_cleaner.state.floatbank5_a_level  \\\n",
       "0                                 -498.310211   \n",
       "1                                 -500.169983   \n",
       "2                                 -500.129135   \n",
       "3                                 -499.201640   \n",
       "4                                 -501.686727   \n",
       "\n",
       "   secondary_cleaner.state.floatbank5_b_air  \\\n",
       "0                                  8.079666   \n",
       "1                                  7.984757   \n",
       "2                                  8.013877   \n",
       "3                                  7.977324   \n",
       "4                                  7.894242   \n",
       "\n",
       "   secondary_cleaner.state.floatbank5_b_level  \\\n",
       "0                                 -500.470978   \n",
       "1                                 -500.582168   \n",
       "2                                 -500.517572   \n",
       "3                                 -500.255908   \n",
       "4                                 -500.356035   \n",
       "\n",
       "   secondary_cleaner.state.floatbank6_a_air  \\\n",
       "0                                 14.151341   \n",
       "1                                 13.998353   \n",
       "2                                 14.028663   \n",
       "3                                 14.005551   \n",
       "4                                 13.996647   \n",
       "\n",
       "   secondary_cleaner.state.floatbank6_a_level  \n",
       "0                                 -605.841980  \n",
       "1                                 -599.787184  \n",
       "2                                 -601.427363  \n",
       "3                                 -599.996129  \n",
       "4                                 -601.496691  \n",
       "\n",
       "[5 rows x 87 columns]"
      ]
     },
     "metadata": {},
     "output_type": "display_data"
    }
   ],
   "source": [
    "display(full.head(5))"
   ]
  },
  {
   "cell_type": "code",
   "execution_count": 6,
   "metadata": {},
   "outputs": [
    {
     "name": "stdout",
     "output_type": "stream",
     "text": [
      "0\n",
      "0\n",
      "0\n"
     ]
    }
   ],
   "source": [
    "#наличие дубликатов\n",
    "for data in datasets:\n",
    "    print(data.duplicated().sum())"
   ]
  },
  {
   "cell_type": "markdown",
   "metadata": {},
   "source": [
    "Датасет full содержит 87 столбцов и 22716 строк. В строках есть пропуски. Скорее всего это из-за того, что они измеряются позже.\n",
    "\n",
    "Датасет train содержит 87 столбцов и 16859 строк. В строках есть пропуски. Скорее всего это из-за того, что они измеряются позже.\n",
    "\n",
    "Датасет test содержит 53 столбцов и 5856 строк. В строках есть пропуски. Скорее всего это из-за того, что они измеряются позже."
   ]
  },
  {
   "cell_type": "markdown",
   "metadata": {},
   "source": [
    "###   Проверка правильности расчета эффективности обогащения"
   ]
  },
  {
   "attachments": {
    "image.png": {
     "image/png": "[encoded data removed]"
    }
   },
   "cell_type": "markdown",
   "metadata": {},
   "source": [
    "![image.png](attachment:image.png)"
   ]
  },
  {
   "cell_type": "markdown",
   "metadata": {},
   "source": [
    "где:\n",
    "\n",
    "C — доля золота в концентрате после флотации/очистки;\n",
    "F — доля золота в сырье/концентрате до флотации/очистки;\n",
    "T — доля золота в отвальных хвостах после флотации/очистки.\n",
    "Основываясь на полученных от компании данных, необходимые нам признаки для проверки формулы это:\n",
    "\n",
    "rougher.output.concentrate_au (С)\n",
    "rougher.input.feed_au (F)\n",
    "rougher.output.tail_au (T)\n",
    "А сам результат работы формулы находится здесь:rougher.output.recovery\n",
    "\n",
    "Проверим, что эффективность обогащения рассчитана правильно. Вычислим её на обучающей выборке для признака rougher.output.recovery. Найдем MAE между нашими расчётами и значением признака.\n",
    "\n"
   ]
  },
  {
   "cell_type": "code",
   "execution_count": 7,
   "metadata": {},
   "outputs": [],
   "source": [
    "columns_for_mae = ['rougher.output.recovery',\n",
    "           'rougher.output.concentrate_au',\n",
    "           'rougher.input.feed_au',\n",
    "           'rougher.output.tail_au']\n",
    "\n",
    "data_check = train[columns_for_mae].dropna()\n"
   ]
  },
  {
   "cell_type": "code",
   "execution_count": 8,
   "metadata": {},
   "outputs": [],
   "source": [
    "C = data_check['rougher.output.concentrate_au']\n",
    "F = data_check['rougher.input.feed_au']\n",
    "T = data_check['rougher.output.tail_au']\n",
    "recovery = (C * (F-T)) / (F * (C - T)) * 100 "
   ]
  },
  {
   "cell_type": "code",
   "execution_count": 9,
   "metadata": {},
   "outputs": [
    {
     "data": {
      "text/plain": [
       "9.73512347450521e-15"
      ]
     },
     "execution_count": 9,
     "metadata": {},
     "output_type": "execute_result"
    }
   ],
   "source": [
    "mean_absolute_error(data_check['rougher.output.recovery'], recovery)"
   ]
  },
  {
   "cell_type": "markdown",
   "metadata": {},
   "source": [
    "Комментарий: Данный показатель MAE говорит нам о том что от истинных значений в среднем мы отклоняемся на очень маленькую величину в -15 степени, это говорит о том, что эффективность обогащения рассчитана правильно. Различий между данными нет, рассчеты верны.\n",
    "\n",
    "Сравним наполнение обучающей и тестовой выборок."
   ]
  },
  {
   "cell_type": "code",
   "execution_count": 10,
   "metadata": {},
   "outputs": [
    {
     "name": "stdout",
     "output_type": "stream",
     "text": [
      "(14149, 87)\n",
      "(5290, 53)\n",
      "(19439, 87)\n"
     ]
    }
   ],
   "source": [
    "for data in datasets:\n",
    "    print(data.shape)"
   ]
  },
  {
   "cell_type": "markdown",
   "metadata": {},
   "source": [
    "###  Проанализируйте признаки, недоступные в тестовой выборке. Что это за параметры? К какому типу относятся"
   ]
  },
  {
   "cell_type": "code",
   "execution_count": 11,
   "metadata": {},
   "outputs": [],
   "source": [
    "#Признаки в тестовой выборке\n",
    "test_col=test.columns"
   ]
  },
  {
   "cell_type": "code",
   "execution_count": 12,
   "metadata": {},
   "outputs": [
    {
     "data": {
      "text/plain": [
       "Index(['date', 'primary_cleaner.input.sulfate',\n",
       "       'primary_cleaner.input.depressant', 'primary_cleaner.input.feed_size',\n",
       "       'primary_cleaner.input.xanthate',\n",
       "       'primary_cleaner.state.floatbank8_a_air',\n",
       "       'primary_cleaner.state.floatbank8_a_level',\n",
       "       'primary_cleaner.state.floatbank8_b_air',\n",
       "       'primary_cleaner.state.floatbank8_b_level',\n",
       "       'primary_cleaner.state.floatbank8_c_air',\n",
       "       'primary_cleaner.state.floatbank8_c_level',\n",
       "       'primary_cleaner.state.floatbank8_d_air',\n",
       "       'primary_cleaner.state.floatbank8_d_level', 'rougher.input.feed_ag',\n",
       "       'rougher.input.feed_pb', 'rougher.input.feed_rate',\n",
       "       'rougher.input.feed_size', 'rougher.input.feed_sol',\n",
       "       'rougher.input.feed_au', 'rougher.input.floatbank10_sulfate',\n",
       "       'rougher.input.floatbank10_xanthate',\n",
       "       'rougher.input.floatbank11_sulfate',\n",
       "       'rougher.input.floatbank11_xanthate', 'rougher.state.floatbank10_a_air',\n",
       "       'rougher.state.floatbank10_a_level', 'rougher.state.floatbank10_b_air',\n",
       "       'rougher.state.floatbank10_b_level', 'rougher.state.floatbank10_c_air',\n",
       "       'rougher.state.floatbank10_c_level', 'rougher.state.floatbank10_d_air',\n",
       "       'rougher.state.floatbank10_d_level', 'rougher.state.floatbank10_e_air',\n",
       "       'rougher.state.floatbank10_e_level', 'rougher.state.floatbank10_f_air',\n",
       "       'rougher.state.floatbank10_f_level',\n",
       "       'secondary_cleaner.state.floatbank2_a_air',\n",
       "       'secondary_cleaner.state.floatbank2_a_level',\n",
       "       'secondary_cleaner.state.floatbank2_b_air',\n",
       "       'secondary_cleaner.state.floatbank2_b_level',\n",
       "       'secondary_cleaner.state.floatbank3_a_air',\n",
       "       'secondary_cleaner.state.floatbank3_a_level',\n",
       "       'secondary_cleaner.state.floatbank3_b_air',\n",
       "       'secondary_cleaner.state.floatbank3_b_level',\n",
       "       'secondary_cleaner.state.floatbank4_a_air',\n",
       "       'secondary_cleaner.state.floatbank4_a_level',\n",
       "       'secondary_cleaner.state.floatbank4_b_air',\n",
       "       'secondary_cleaner.state.floatbank4_b_level',\n",
       "       'secondary_cleaner.state.floatbank5_a_air',\n",
       "       'secondary_cleaner.state.floatbank5_a_level',\n",
       "       'secondary_cleaner.state.floatbank5_b_air',\n",
       "       'secondary_cleaner.state.floatbank5_b_level',\n",
       "       'secondary_cleaner.state.floatbank6_a_air',\n",
       "       'secondary_cleaner.state.floatbank6_a_level'],\n",
       "      dtype='object')"
      ]
     },
     "execution_count": 12,
     "metadata": {},
     "output_type": "execute_result"
    }
   ],
   "source": [
    "test_col"
   ]
  },
  {
   "cell_type": "code",
   "execution_count": 13,
   "metadata": {},
   "outputs": [],
   "source": [
    "#Признаки в полной выборке\n",
    "full_col=full.columns"
   ]
  },
  {
   "cell_type": "code",
   "execution_count": 14,
   "metadata": {},
   "outputs": [],
   "source": [
    "#Разница признаков. \n",
    "main_list=list(set(full_col)-set(test_col))"
   ]
  },
  {
   "cell_type": "code",
   "execution_count": 15,
   "metadata": {},
   "outputs": [
    {
     "data": {
      "text/plain": [
       "5                           final.output.concentrate_ag\n",
       "11                          final.output.concentrate_au\n",
       "21                          final.output.concentrate_pb\n",
       "22                         final.output.concentrate_sol\n",
       "9                                 final.output.recovery\n",
       "19                                 final.output.tail_ag\n",
       "2                                  final.output.tail_au\n",
       "28                                 final.output.tail_pb\n",
       "14                                final.output.tail_sol\n",
       "10                primary_cleaner.output.concentrate_ag\n",
       "4                 primary_cleaner.output.concentrate_au\n",
       "26                primary_cleaner.output.concentrate_pb\n",
       "24               primary_cleaner.output.concentrate_sol\n",
       "23                       primary_cleaner.output.tail_ag\n",
       "0                        primary_cleaner.output.tail_au\n",
       "29                       primary_cleaner.output.tail_pb\n",
       "31                      primary_cleaner.output.tail_sol\n",
       "16                      rougher.calculation.au_pb_ratio\n",
       "17    rougher.calculation.floatbank10_sulfate_to_au_...\n",
       "13    rougher.calculation.floatbank11_sulfate_to_au_...\n",
       "25        rougher.calculation.sulfate_to_au_concentrate\n",
       "32                        rougher.output.concentrate_ag\n",
       "7                         rougher.output.concentrate_au\n",
       "12                        rougher.output.concentrate_pb\n",
       "33                       rougher.output.concentrate_sol\n",
       "18                              rougher.output.recovery\n",
       "27                               rougher.output.tail_ag\n",
       "3                                rougher.output.tail_au\n",
       "6                                rougher.output.tail_pb\n",
       "15                              rougher.output.tail_sol\n",
       "20                     secondary_cleaner.output.tail_ag\n",
       "8                      secondary_cleaner.output.tail_au\n",
       "1                      secondary_cleaner.output.tail_pb\n",
       "30                    secondary_cleaner.output.tail_sol\n",
       "dtype: object"
      ]
     },
     "execution_count": 15,
     "metadata": {},
     "output_type": "execute_result"
    }
   ],
   "source": [
    "# Этих признаков нет в тестовой выборке\n",
    "main_list=pd.Series(main_list)\n",
    "main_list.sort_values()"
   ]
  },
  {
   "cell_type": "markdown",
   "metadata": {},
   "source": [
    "Данные столбцы показывают состояния продукта после этапов флотации и очисток, а также содержат расчетные характеристики и целевые значения эффективности обогащения.Тут присутствуют и наши целевые признаки final.output.recovery и rougher.output.recovery."
   ]
  },
  {
   "cell_type": "markdown",
   "metadata": {},
   "source": [
    "### Предобработка "
   ]
  },
  {
   "cell_type": "code",
   "execution_count": 16,
   "metadata": {},
   "outputs": [
    {
     "data": {
      "text/html": [
       "<div>\n",
       "<style scoped>\n",
       "    .dataframe tbody tr th:only-of-type {\n",
       "        vertical-align: middle;\n",
       "    }\n",
       "\n",
       "    .dataframe tbody tr th {\n",
       "        vertical-align: top;\n",
       "    }\n",
       "\n",
       "    .dataframe thead th {\n",
       "        text-align: right;\n",
       "    }\n",
       "</style>\n",
       "<table border=\"1\" class=\"dataframe\">\n",
       "  <thead>\n",
       "    <tr style=\"text-align: right;\">\n",
       "      <th></th>\n",
       "      <th>date</th>\n",
       "      <th>final.output.concentrate_ag</th>\n",
       "      <th>final.output.concentrate_pb</th>\n",
       "      <th>final.output.concentrate_sol</th>\n",
       "      <th>final.output.concentrate_au</th>\n",
       "      <th>final.output.recovery</th>\n",
       "      <th>final.output.tail_ag</th>\n",
       "      <th>final.output.tail_pb</th>\n",
       "      <th>final.output.tail_sol</th>\n",
       "      <th>final.output.tail_au</th>\n",
       "      <th>...</th>\n",
       "      <th>secondary_cleaner.state.floatbank4_a_air</th>\n",
       "      <th>secondary_cleaner.state.floatbank4_a_level</th>\n",
       "      <th>secondary_cleaner.state.floatbank4_b_air</th>\n",
       "      <th>secondary_cleaner.state.floatbank4_b_level</th>\n",
       "      <th>secondary_cleaner.state.floatbank5_a_air</th>\n",
       "      <th>secondary_cleaner.state.floatbank5_a_level</th>\n",
       "      <th>secondary_cleaner.state.floatbank5_b_air</th>\n",
       "      <th>secondary_cleaner.state.floatbank5_b_level</th>\n",
       "      <th>secondary_cleaner.state.floatbank6_a_air</th>\n",
       "      <th>secondary_cleaner.state.floatbank6_a_level</th>\n",
       "    </tr>\n",
       "  </thead>\n",
       "  <tbody>\n",
       "    <tr>\n",
       "      <th>2869</th>\n",
       "      <td>2016-06-08 17:59:59</td>\n",
       "      <td>NaN</td>\n",
       "      <td>NaN</td>\n",
       "      <td>10.188231</td>\n",
       "      <td>29.020814</td>\n",
       "      <td>63.725335</td>\n",
       "      <td>7.387115</td>\n",
       "      <td>2.072266</td>\n",
       "      <td>16.982505</td>\n",
       "      <td>2.908215</td>\n",
       "      <td>...</td>\n",
       "      <td>8.985634</td>\n",
       "      <td>-548.815307</td>\n",
       "      <td>7.011665</td>\n",
       "      <td>-537.231749</td>\n",
       "      <td>8.031238</td>\n",
       "      <td>-550.028193</td>\n",
       "      <td>5.984399</td>\n",
       "      <td>-549.63625</td>\n",
       "      <td>18.01224</td>\n",
       "      <td>-551.325271</td>\n",
       "    </tr>\n",
       "  </tbody>\n",
       "</table>\n",
       "<p>1 rows × 87 columns</p>\n",
       "</div>"
      ],
      "text/plain": [
       "                     date  final.output.concentrate_ag  \\\n",
       "2869  2016-06-08 17:59:59                          NaN   \n",
       "\n",
       "      final.output.concentrate_pb  final.output.concentrate_sol  \\\n",
       "2869                          NaN                     10.188231   \n",
       "\n",
       "      final.output.concentrate_au  final.output.recovery  \\\n",
       "2869                    29.020814              63.725335   \n",
       "\n",
       "      final.output.tail_ag  final.output.tail_pb  final.output.tail_sol  \\\n",
       "2869              7.387115              2.072266              16.982505   \n",
       "\n",
       "      final.output.tail_au  ...  secondary_cleaner.state.floatbank4_a_air  \\\n",
       "2869              2.908215  ...                                  8.985634   \n",
       "\n",
       "      secondary_cleaner.state.floatbank4_a_level  \\\n",
       "2869                                 -548.815307   \n",
       "\n",
       "      secondary_cleaner.state.floatbank4_b_air  \\\n",
       "2869                                  7.011665   \n",
       "\n",
       "      secondary_cleaner.state.floatbank4_b_level  \\\n",
       "2869                                 -537.231749   \n",
       "\n",
       "      secondary_cleaner.state.floatbank5_a_air  \\\n",
       "2869                                  8.031238   \n",
       "\n",
       "      secondary_cleaner.state.floatbank5_a_level  \\\n",
       "2869                                 -550.028193   \n",
       "\n",
       "      secondary_cleaner.state.floatbank5_b_air  \\\n",
       "2869                                  5.984399   \n",
       "\n",
       "      secondary_cleaner.state.floatbank5_b_level  \\\n",
       "2869                                  -549.63625   \n",
       "\n",
       "      secondary_cleaner.state.floatbank6_a_air  \\\n",
       "2869                                  18.01224   \n",
       "\n",
       "      secondary_cleaner.state.floatbank6_a_level  \n",
       "2869                                 -551.325271  \n",
       "\n",
       "[1 rows x 87 columns]"
      ]
     },
     "execution_count": 16,
     "metadata": {},
     "output_type": "execute_result"
    }
   ],
   "source": [
    "train[train['final.output.concentrate_pb'].isna()].head(5) # Смотрим припуски. Их много."
   ]
  },
  {
   "cell_type": "code",
   "execution_count": 17,
   "metadata": {},
   "outputs": [
    {
     "name": "stdout",
     "output_type": "stream",
     "text": [
      "date                                            0\n",
      "final.output.concentrate_ag                     1\n",
      "final.output.concentrate_pb                     1\n",
      "final.output.concentrate_sol                  211\n",
      "final.output.concentrate_au                     0\n",
      "                                             ... \n",
      "secondary_cleaner.state.floatbank5_a_level      1\n",
      "secondary_cleaner.state.floatbank5_b_air        1\n",
      "secondary_cleaner.state.floatbank5_b_level      1\n",
      "secondary_cleaner.state.floatbank6_a_air        2\n",
      "secondary_cleaner.state.floatbank6_a_level      1\n",
      "Length: 87, dtype: int64\n",
      "date                                           0\n",
      "primary_cleaner.input.sulfate                  4\n",
      "primary_cleaner.input.depressant               5\n",
      "primary_cleaner.input.feed_size                0\n",
      "primary_cleaner.input.xanthate                 4\n",
      "primary_cleaner.state.floatbank8_a_air         0\n",
      "primary_cleaner.state.floatbank8_a_level       0\n",
      "primary_cleaner.state.floatbank8_b_air         0\n",
      "primary_cleaner.state.floatbank8_b_level       0\n",
      "primary_cleaner.state.floatbank8_c_air         0\n",
      "primary_cleaner.state.floatbank8_c_level       0\n",
      "primary_cleaner.state.floatbank8_d_air         0\n",
      "primary_cleaner.state.floatbank8_d_level       0\n",
      "rougher.input.feed_ag                          0\n",
      "rougher.input.feed_pb                          0\n",
      "rougher.input.feed_rate                        3\n",
      "rougher.input.feed_size                        1\n",
      "rougher.input.feed_sol                        21\n",
      "rougher.input.feed_au                          0\n",
      "rougher.input.floatbank10_sulfate              5\n",
      "rougher.input.floatbank10_xanthate             0\n",
      "rougher.input.floatbank11_sulfate              8\n",
      "rougher.input.floatbank11_xanthate            25\n",
      "rougher.state.floatbank10_a_air                0\n",
      "rougher.state.floatbank10_a_level              0\n",
      "rougher.state.floatbank10_b_air                0\n",
      "rougher.state.floatbank10_b_level              0\n",
      "rougher.state.floatbank10_c_air                0\n",
      "rougher.state.floatbank10_c_level              0\n",
      "rougher.state.floatbank10_d_air                0\n",
      "rougher.state.floatbank10_d_level              0\n",
      "rougher.state.floatbank10_e_air                0\n",
      "rougher.state.floatbank10_e_level              0\n",
      "rougher.state.floatbank10_f_air                0\n",
      "rougher.state.floatbank10_f_level              0\n",
      "secondary_cleaner.state.floatbank2_a_air       3\n",
      "secondary_cleaner.state.floatbank2_a_level     0\n",
      "secondary_cleaner.state.floatbank2_b_air       2\n",
      "secondary_cleaner.state.floatbank2_b_level     0\n",
      "secondary_cleaner.state.floatbank3_a_air       9\n",
      "secondary_cleaner.state.floatbank3_a_level     0\n",
      "secondary_cleaner.state.floatbank3_b_air       0\n",
      "secondary_cleaner.state.floatbank3_b_level     0\n",
      "secondary_cleaner.state.floatbank4_a_air       0\n",
      "secondary_cleaner.state.floatbank4_a_level     0\n",
      "secondary_cleaner.state.floatbank4_b_air       0\n",
      "secondary_cleaner.state.floatbank4_b_level     0\n",
      "secondary_cleaner.state.floatbank5_a_air       0\n",
      "secondary_cleaner.state.floatbank5_a_level     0\n",
      "secondary_cleaner.state.floatbank5_b_air       0\n",
      "secondary_cleaner.state.floatbank5_b_level     0\n",
      "secondary_cleaner.state.floatbank6_a_air       0\n",
      "secondary_cleaner.state.floatbank6_a_level     0\n",
      "dtype: int64\n",
      "date                                            0\n",
      "final.output.concentrate_ag                     1\n",
      "final.output.concentrate_pb                     1\n",
      "final.output.concentrate_sol                  211\n",
      "final.output.concentrate_au                     0\n",
      "                                             ... \n",
      "secondary_cleaner.state.floatbank5_a_level      1\n",
      "secondary_cleaner.state.floatbank5_b_air        1\n",
      "secondary_cleaner.state.floatbank5_b_level      1\n",
      "secondary_cleaner.state.floatbank6_a_air        2\n",
      "secondary_cleaner.state.floatbank6_a_level      1\n",
      "Length: 87, dtype: int64\n"
     ]
    }
   ],
   "source": [
    "#сумма пропусков\n",
    "for data in datasets:\n",
    "    print(data.isna().sum())\n"
   ]
  },
  {
   "cell_type": "code",
   "execution_count": 18,
   "metadata": {},
   "outputs": [
    {
     "name": "stdout",
     "output_type": "stream",
     "text": [
      "date                                          0.000000\n",
      "final.output.concentrate_ag                   0.000071\n",
      "final.output.concentrate_pb                   0.000071\n",
      "final.output.concentrate_sol                  0.014913\n",
      "final.output.concentrate_au                   0.000000\n",
      "                                                ...   \n",
      "secondary_cleaner.state.floatbank5_a_level    0.000071\n",
      "secondary_cleaner.state.floatbank5_b_air      0.000071\n",
      "secondary_cleaner.state.floatbank5_b_level    0.000071\n",
      "secondary_cleaner.state.floatbank6_a_air      0.000141\n",
      "secondary_cleaner.state.floatbank6_a_level    0.000071\n",
      "Length: 87, dtype: float64\n",
      "date                                          0.000000\n",
      "primary_cleaner.input.sulfate                 0.000756\n",
      "primary_cleaner.input.depressant              0.000945\n",
      "primary_cleaner.input.feed_size               0.000000\n",
      "primary_cleaner.input.xanthate                0.000756\n",
      "primary_cleaner.state.floatbank8_a_air        0.000000\n",
      "primary_cleaner.state.floatbank8_a_level      0.000000\n",
      "primary_cleaner.state.floatbank8_b_air        0.000000\n",
      "primary_cleaner.state.floatbank8_b_level      0.000000\n",
      "primary_cleaner.state.floatbank8_c_air        0.000000\n",
      "primary_cleaner.state.floatbank8_c_level      0.000000\n",
      "primary_cleaner.state.floatbank8_d_air        0.000000\n",
      "primary_cleaner.state.floatbank8_d_level      0.000000\n",
      "rougher.input.feed_ag                         0.000000\n",
      "rougher.input.feed_pb                         0.000000\n",
      "rougher.input.feed_rate                       0.000567\n",
      "rougher.input.feed_size                       0.000189\n",
      "rougher.input.feed_sol                        0.003970\n",
      "rougher.input.feed_au                         0.000000\n",
      "rougher.input.floatbank10_sulfate             0.000945\n",
      "rougher.input.floatbank10_xanthate            0.000000\n",
      "rougher.input.floatbank11_sulfate             0.001512\n",
      "rougher.input.floatbank11_xanthate            0.004726\n",
      "rougher.state.floatbank10_a_air               0.000000\n",
      "rougher.state.floatbank10_a_level             0.000000\n",
      "rougher.state.floatbank10_b_air               0.000000\n",
      "rougher.state.floatbank10_b_level             0.000000\n",
      "rougher.state.floatbank10_c_air               0.000000\n",
      "rougher.state.floatbank10_c_level             0.000000\n",
      "rougher.state.floatbank10_d_air               0.000000\n",
      "rougher.state.floatbank10_d_level             0.000000\n",
      "rougher.state.floatbank10_e_air               0.000000\n",
      "rougher.state.floatbank10_e_level             0.000000\n",
      "rougher.state.floatbank10_f_air               0.000000\n",
      "rougher.state.floatbank10_f_level             0.000000\n",
      "secondary_cleaner.state.floatbank2_a_air      0.000567\n",
      "secondary_cleaner.state.floatbank2_a_level    0.000000\n",
      "secondary_cleaner.state.floatbank2_b_air      0.000378\n",
      "secondary_cleaner.state.floatbank2_b_level    0.000000\n",
      "secondary_cleaner.state.floatbank3_a_air      0.001701\n",
      "secondary_cleaner.state.floatbank3_a_level    0.000000\n",
      "secondary_cleaner.state.floatbank3_b_air      0.000000\n",
      "secondary_cleaner.state.floatbank3_b_level    0.000000\n",
      "secondary_cleaner.state.floatbank4_a_air      0.000000\n",
      "secondary_cleaner.state.floatbank4_a_level    0.000000\n",
      "secondary_cleaner.state.floatbank4_b_air      0.000000\n",
      "secondary_cleaner.state.floatbank4_b_level    0.000000\n",
      "secondary_cleaner.state.floatbank5_a_air      0.000000\n",
      "secondary_cleaner.state.floatbank5_a_level    0.000000\n",
      "secondary_cleaner.state.floatbank5_b_air      0.000000\n",
      "secondary_cleaner.state.floatbank5_b_level    0.000000\n",
      "secondary_cleaner.state.floatbank6_a_air      0.000000\n",
      "secondary_cleaner.state.floatbank6_a_level    0.000000\n",
      "dtype: float64\n",
      "date                                          0.000000\n",
      "final.output.concentrate_ag                   0.000051\n",
      "final.output.concentrate_pb                   0.000051\n",
      "final.output.concentrate_sol                  0.010854\n",
      "final.output.concentrate_au                   0.000000\n",
      "                                                ...   \n",
      "secondary_cleaner.state.floatbank5_a_level    0.000051\n",
      "secondary_cleaner.state.floatbank5_b_air      0.000051\n",
      "secondary_cleaner.state.floatbank5_b_level    0.000051\n",
      "secondary_cleaner.state.floatbank6_a_air      0.000103\n",
      "secondary_cleaner.state.floatbank6_a_level    0.000051\n",
      "Length: 87, dtype: float64\n"
     ]
    }
   ],
   "source": [
    "for data in datasets:\n",
    "    print(data.isna().mean())"
   ]
  },
  {
   "cell_type": "code",
   "execution_count": 19,
   "metadata": {},
   "outputs": [],
   "source": [
    "# Данные индексируются датой и временем получения информации (признак date). Соседние по времени параметры часто похожи.\n",
    "# Поэтому заполняем последним действительным значением вперед\n",
    "full=full.fillna(method='ffill')\n",
    "train=train.fillna(method='ffill') "
   ]
  },
  {
   "cell_type": "code",
   "execution_count": 20,
   "metadata": {
    "scrolled": true
   },
   "outputs": [
    {
     "data": {
      "text/html": [
       "<div>\n",
       "<style scoped>\n",
       "    .dataframe tbody tr th:only-of-type {\n",
       "        vertical-align: middle;\n",
       "    }\n",
       "\n",
       "    .dataframe tbody tr th {\n",
       "        vertical-align: top;\n",
       "    }\n",
       "\n",
       "    .dataframe thead th {\n",
       "        text-align: right;\n",
       "    }\n",
       "</style>\n",
       "<table border=\"1\" class=\"dataframe\">\n",
       "  <thead>\n",
       "    <tr style=\"text-align: right;\">\n",
       "      <th></th>\n",
       "      <th>date</th>\n",
       "      <th>final.output.concentrate_ag</th>\n",
       "      <th>final.output.concentrate_pb</th>\n",
       "      <th>final.output.concentrate_sol</th>\n",
       "      <th>final.output.concentrate_au</th>\n",
       "      <th>final.output.recovery</th>\n",
       "      <th>final.output.tail_ag</th>\n",
       "      <th>final.output.tail_pb</th>\n",
       "      <th>final.output.tail_sol</th>\n",
       "      <th>final.output.tail_au</th>\n",
       "      <th>...</th>\n",
       "      <th>secondary_cleaner.state.floatbank4_a_air</th>\n",
       "      <th>secondary_cleaner.state.floatbank4_a_level</th>\n",
       "      <th>secondary_cleaner.state.floatbank4_b_air</th>\n",
       "      <th>secondary_cleaner.state.floatbank4_b_level</th>\n",
       "      <th>secondary_cleaner.state.floatbank5_a_air</th>\n",
       "      <th>secondary_cleaner.state.floatbank5_a_level</th>\n",
       "      <th>secondary_cleaner.state.floatbank5_b_air</th>\n",
       "      <th>secondary_cleaner.state.floatbank5_b_level</th>\n",
       "      <th>secondary_cleaner.state.floatbank6_a_air</th>\n",
       "      <th>secondary_cleaner.state.floatbank6_a_level</th>\n",
       "    </tr>\n",
       "  </thead>\n",
       "  <tbody>\n",
       "  </tbody>\n",
       "</table>\n",
       "<p>0 rows × 87 columns</p>\n",
       "</div>"
      ],
      "text/plain": [
       "Empty DataFrame\n",
       "Columns: [date, final.output.concentrate_ag, final.output.concentrate_pb, final.output.concentrate_sol, final.output.concentrate_au, final.output.recovery, final.output.tail_ag, final.output.tail_pb, final.output.tail_sol, final.output.tail_au, primary_cleaner.input.sulfate, primary_cleaner.input.depressant, primary_cleaner.input.feed_size, primary_cleaner.input.xanthate, primary_cleaner.output.concentrate_ag, primary_cleaner.output.concentrate_pb, primary_cleaner.output.concentrate_sol, primary_cleaner.output.concentrate_au, primary_cleaner.output.tail_ag, primary_cleaner.output.tail_pb, primary_cleaner.output.tail_sol, primary_cleaner.output.tail_au, primary_cleaner.state.floatbank8_a_air, primary_cleaner.state.floatbank8_a_level, primary_cleaner.state.floatbank8_b_air, primary_cleaner.state.floatbank8_b_level, primary_cleaner.state.floatbank8_c_air, primary_cleaner.state.floatbank8_c_level, primary_cleaner.state.floatbank8_d_air, primary_cleaner.state.floatbank8_d_level, rougher.calculation.sulfate_to_au_concentrate, rougher.calculation.floatbank10_sulfate_to_au_feed, rougher.calculation.floatbank11_sulfate_to_au_feed, rougher.calculation.au_pb_ratio, rougher.input.feed_ag, rougher.input.feed_pb, rougher.input.feed_rate, rougher.input.feed_size, rougher.input.feed_sol, rougher.input.feed_au, rougher.input.floatbank10_sulfate, rougher.input.floatbank10_xanthate, rougher.input.floatbank11_sulfate, rougher.input.floatbank11_xanthate, rougher.output.concentrate_ag, rougher.output.concentrate_pb, rougher.output.concentrate_sol, rougher.output.concentrate_au, rougher.output.recovery, rougher.output.tail_ag, rougher.output.tail_pb, rougher.output.tail_sol, rougher.output.tail_au, rougher.state.floatbank10_a_air, rougher.state.floatbank10_a_level, rougher.state.floatbank10_b_air, rougher.state.floatbank10_b_level, rougher.state.floatbank10_c_air, rougher.state.floatbank10_c_level, rougher.state.floatbank10_d_air, rougher.state.floatbank10_d_level, rougher.state.floatbank10_e_air, rougher.state.floatbank10_e_level, rougher.state.floatbank10_f_air, rougher.state.floatbank10_f_level, secondary_cleaner.output.tail_ag, secondary_cleaner.output.tail_pb, secondary_cleaner.output.tail_sol, secondary_cleaner.output.tail_au, secondary_cleaner.state.floatbank2_a_air, secondary_cleaner.state.floatbank2_a_level, secondary_cleaner.state.floatbank2_b_air, secondary_cleaner.state.floatbank2_b_level, secondary_cleaner.state.floatbank3_a_air, secondary_cleaner.state.floatbank3_a_level, secondary_cleaner.state.floatbank3_b_air, secondary_cleaner.state.floatbank3_b_level, secondary_cleaner.state.floatbank4_a_air, secondary_cleaner.state.floatbank4_a_level, secondary_cleaner.state.floatbank4_b_air, secondary_cleaner.state.floatbank4_b_level, secondary_cleaner.state.floatbank5_a_air, secondary_cleaner.state.floatbank5_a_level, secondary_cleaner.state.floatbank5_b_air, secondary_cleaner.state.floatbank5_b_level, secondary_cleaner.state.floatbank6_a_air, secondary_cleaner.state.floatbank6_a_level]\n",
       "Index: []\n",
       "\n",
       "[0 rows x 87 columns]"
      ]
     },
     "execution_count": 20,
     "metadata": {},
     "output_type": "execute_result"
    }
   ],
   "source": [
    "full[full['final.output.concentrate_ag'].isna()]"
   ]
  },
  {
   "cell_type": "markdown",
   "metadata": {},
   "source": [
    "## Анализ данных"
   ]
  },
  {
   "cell_type": "markdown",
   "metadata": {},
   "source": [
    "### Посмотрите, как меняется концентрация металлов (Au, Ag, Pb) на различных этапах очистки."
   ]
  },
  {
   "cell_type": "code",
   "execution_count": 21,
   "metadata": {},
   "outputs": [],
   "source": [
    "# Создаю датасеты с концентрациями металлов на первичной очистке\n",
    "concetrates_primary=[]\n",
    "concetrates_primary=pd.DataFrame(concetrates_primary)\n",
    "concetrates_primary['primary_cleaner.output.concentrate_ag']\\\n",
    "=full['primary_cleaner.output.concentrate_ag']\n",
    "concetrates_primary['primary_cleaner.output.concentrate_pb']=\\\n",
    "full['primary_cleaner.output.concentrate_pb']\n",
    "concetrates_primary['primary_cleaner.output.concentrate_sol']=\\\n",
    "full['primary_cleaner.output.concentrate_sol']\n",
    "concetrates_primary['primary_cleaner.output.concentrate_au']=\\\n",
    "full['primary_cleaner.output.concentrate_au']"
   ]
  },
  {
   "cell_type": "code",
   "execution_count": 22,
   "metadata": {},
   "outputs": [
    {
     "data": {
      "image/png": "[encoded data removed]",
      "text/plain": [
       "<Figure size 1224x720 with 1 Axes>"
      ]
     },
     "metadata": {
      "needs_background": "light"
     },
     "output_type": "display_data"
    }
   ],
   "source": [
    "plt.figure(figsize=(17,10))\n",
    "a=sns.set(style=\"whitegrid\")\n",
    "a=sns.boxplot(data=concetrates_primary)"
   ]
  },
  {
   "cell_type": "code",
   "execution_count": 23,
   "metadata": {},
   "outputs": [],
   "source": [
    "# Создаю датасеты с концентрациями металлов на финальной очистке\n",
    "concetrates_final=[]\n",
    "concetrates_final=pd.DataFrame(concetrates_final)\n",
    "concetrates_final['final.output.concentrate_ag']=full['final.output.concentrate_ag']\n",
    "concetrates_final['final.output.concentrate_pb']=full['final.output.concentrate_pb']\n",
    "concetrates_final['final.output.concentrate_sol']=full['final.output.concentrate_sol']\n",
    "concetrates_final['final.output.concentrate_au']=full['final.output.concentrate_au']"
   ]
  },
  {
   "cell_type": "code",
   "execution_count": 24,
   "metadata": {},
   "outputs": [
    {
     "data": {
      "image/png": "[encoded data removed]",
      "text/plain": [
       "<Figure size 1224x792 with 1 Axes>"
      ]
     },
     "metadata": {},
     "output_type": "display_data"
    }
   ],
   "source": [
    "plt.figure(figsize=(17,11))\n",
    "b=sns.set(style=\"whitegrid\")\n",
    "b=sns.boxplot(data=concetrates_final)"
   ]
  },
  {
   "cell_type": "markdown",
   "metadata": {},
   "source": [
    "По \"ящику с усами\" видно, что имеются выбросы. Особенно их много в концентрации золота (AU) на стадии первичной и финальной очистки. Так же можно наблюдать, что среднее значение концентрации золота на финальной очистке выросло по сравнению с первичной очисткой."
   ]
  },
  {
   "cell_type": "code",
   "execution_count": 25,
   "metadata": {},
   "outputs": [],
   "source": [
    "#подготовим датасет с необходимыми данными для золота\n",
    "au_data = (full[[\n",
    "    'rougher.input.feed_au', \n",
    "    'rougher.output.concentrate_au', \n",
    "    'primary_cleaner.output.concentrate_au', \n",
    "    'final.output.concentrate_au']].copy())"
   ]
  },
  {
   "cell_type": "code",
   "execution_count": 26,
   "metadata": {},
   "outputs": [],
   "source": [
    "#подготовим датасет с необходимыми данными для золота\n",
    "ag_data = (full[[\n",
    "    'rougher.input.feed_ag', \n",
    "    'rougher.output.concentrate_ag', \n",
    "    'primary_cleaner.output.concentrate_ag', \n",
    "    'final.output.concentrate_ag']].copy())"
   ]
  },
  {
   "cell_type": "code",
   "execution_count": 27,
   "metadata": {},
   "outputs": [],
   "source": [
    "#свинца\n",
    "pb_data = (full[[\n",
    "    'rougher.input.feed_pb', \n",
    "    'rougher.output.concentrate_pb', \n",
    "    'primary_cleaner.output.concentrate_pb', \n",
    "    'final.output.concentrate_pb']].copy())"
   ]
  },
  {
   "cell_type": "code",
   "execution_count": 28,
   "metadata": {},
   "outputs": [],
   "source": [
    "#напишем функцию, которая будет рисовать данные всех четырех столбцов на одном графике\n",
    "def draw_hist (data, title):\n",
    "    fig, ax = plt.subplots()\n",
    "    ax.set_ylabel('Кол-во наблюдений')\n",
    "    ax.set_xlabel('Концентрация металла')\n",
    "    ax.set_title(title)\n",
    "    for col in data:\n",
    "        data[col].hist(alpha=.9) \n",
    "        ax.legend(['Исходное сырье','Флотация','Первичная очистка', 'Вторичная очистка'])"
   ]
  },
  {
   "cell_type": "code",
   "execution_count": 29,
   "metadata": {},
   "outputs": [
    {
     "data": {
      "image/png": "[encoded data removed]",
      "text/plain": [
       "<Figure size 432x288 with 1 Axes>"
      ]
     },
     "metadata": {},
     "output_type": "display_data"
    }
   ],
   "source": [
    "draw_hist(au_data, 'Золото')"
   ]
  },
  {
   "cell_type": "code",
   "execution_count": 30,
   "metadata": {},
   "outputs": [
    {
     "data": {
      "image/png": "[encoded data removed]",
      "text/plain": [
       "<Figure size 432x288 with 1 Axes>"
      ]
     },
     "metadata": {},
     "output_type": "display_data"
    }
   ],
   "source": [
    "draw_hist(ag_data, 'Серебро')"
   ]
  },
  {
   "cell_type": "code",
   "execution_count": 31,
   "metadata": {},
   "outputs": [
    {
     "data": {
      "image/png": "[encoded data removed]",
      "text/plain": [
       "<Figure size 432x288 with 1 Axes>"
      ]
     },
     "metadata": {},
     "output_type": "display_data"
    }
   ],
   "source": [
    "draw_hist(pb_data, 'Свинец')"
   ]
  },
  {
   "cell_type": "markdown",
   "metadata": {},
   "source": [
    "По графикам можем определить следующее:\n",
    "\n",
    "для разных металлов концентрация на различных этапах очистки отличается. Например, концентрация золота увеличивается с каждым этапом. Концентрация серебра после вторичной очистки меньше, чем в исходном сырье. А у свинца результаты первичной и вторичной очистки почти идентичны.\n",
    "\n",
    "в данных много нулевых значений. Скорее всего, для таких наблюдений не были сделаны замеры по какой-то причине, либо эти данные утрачены. Впоследствии нужно будет избавиться от таких данных, они могут повлиять на качество модели.\n",
    "\n",
    "У нас есть два признака с параметром feed_size в обучающей и тестовой выборках - rougher.input.feed_size и primary_cleaner.input.feed_size. Сравним их распределения. Если они сильно отличаются друг от друга, оценка модели будет неправильной."
   ]
  },
  {
   "cell_type": "markdown",
   "metadata": {},
   "source": [
    "### Распределения размеров гранул сырья на обучающей и тестовой выборках"
   ]
  },
  {
   "cell_type": "code",
   "execution_count": 32,
   "metadata": {},
   "outputs": [],
   "source": [
    "def show_feed_size_hist(step, title):\n",
    "    x0 = train[f'{step}.input.feed_size'].dropna()\n",
    "    x1 = test[f'{step}.input.feed_size'].dropna()\n",
    "    plt.figure(figsize=(12, 6))\n",
    "    sns.distplot(x0, kde_kws= {\"label\": \"Train\"})\n",
    "    sns.distplot(x1, kde_kws= {\"label\": \"Test\"})\n",
    "    plt.xlabel('Размер гранул')\n",
    "    plt.ylabel('Количество наблюдений')\n",
    "    plt.title(label=f'Распределение размеров гранул сырья для {title}', fontsize=15)"
   ]
  },
  {
   "cell_type": "code",
   "execution_count": 33,
   "metadata": {},
   "outputs": [
    {
     "data": {
      "image/png": "[encoded data removed]",
      "text/plain": [
       "<Figure size 864x432 with 1 Axes>"
      ]
     },
     "metadata": {},
     "output_type": "display_data"
    }
   ],
   "source": [
    "show_feed_size_hist('rougher', 'флотации')"
   ]
  },
  {
   "cell_type": "code",
   "execution_count": 34,
   "metadata": {},
   "outputs": [
    {
     "data": {
      "image/png": "[encoded data removed]",
      "text/plain": [
       "<Figure size 864x432 with 1 Axes>"
      ]
     },
     "metadata": {},
     "output_type": "display_data"
    }
   ],
   "source": [
    "show_feed_size_hist('primary_cleaner', 'очистки')"
   ]
  },
  {
   "cell_type": "markdown",
   "metadata": {},
   "source": [
    "Для обоих параметров распределения не сильно отличаются друг от друга, такие неточности не должны критично повлиять на работу модели."
   ]
  },
  {
   "cell_type": "markdown",
   "metadata": {},
   "source": [
    "### Суммарная концентрация всех веществ на разных этапах очистки"
   ]
  },
  {
   "cell_type": "code",
   "execution_count": 35,
   "metadata": {},
   "outputs": [],
   "source": [
    "# Считаю сумму концентраций металлов после флотации\n",
    "full['rougher_sum'] = (\n",
    "    full['rougher.output.concentrate_ag'] +\n",
    "    full['rougher.output.concentrate_pb'] +\n",
    "    full['rougher.output.concentrate_sol'] +\n",
    "    full['rougher.output.concentrate_au']\n",
    ")"
   ]
  },
  {
   "cell_type": "code",
   "execution_count": 36,
   "metadata": {},
   "outputs": [],
   "source": [
    "# Считаю сумму концентраций металлов в сырье\n",
    "full['rougher_input_sum'] = (\n",
    "    full['rougher.input.feed_ag'] +\n",
    "    full['rougher.input.feed_pb'] +\n",
    "    full['rougher.input.feed_sol'] +\n",
    "    full['rougher.input.feed_au']\n",
    ")"
   ]
  },
  {
   "cell_type": "code",
   "execution_count": 37,
   "metadata": {},
   "outputs": [],
   "source": [
    "# Считаю сумму концентраций металлов после финальной очистки\n",
    "full['final_concentrate_sum'] = (\n",
    "    full['final.output.concentrate_ag'] +\n",
    "    full['final.output.concentrate_pb'] + \n",
    "    full['final.output.concentrate_sol'] + \n",
    "   full['final.output.concentrate_au']\n",
    ")"
   ]
  },
  {
   "cell_type": "code",
   "execution_count": 38,
   "metadata": {},
   "outputs": [],
   "source": [
    "sum_concentrate=['rougher_sum','rougher_input_sum'\\\n",
    "                 ,'final_concentrate_sum']"
   ]
  },
  {
   "cell_type": "code",
   "execution_count": 39,
   "metadata": {},
   "outputs": [
    {
     "data": {
      "text/plain": [
       "Text(0, 0.5, 'Количество наблюдений')"
      ]
     },
     "execution_count": 39,
     "metadata": {},
     "output_type": "execute_result"
    },
    {
     "data": {
      "image/png": "[encoded data removed]",
      "text/plain": [
       "<Figure size 1008x576 with 1 Axes>"
      ]
     },
     "metadata": {},
     "output_type": "display_data"
    }
   ],
   "source": [
    "plt.figure(figsize=(14,8))\n",
    "sns.distplot(full[full['rougher_sum']>0.04]['rougher_sum'],bins=80,label='Черновой концентрат')\n",
    "sns.distplot(full[full['rougher_input_sum']>0.04]['rougher_input_sum'],bins=80,label='Сырьё')\n",
    "sns.distplot(full[full['final_concentrate_sum']>0.04]['final_concentrate_sum'],bins=80,label='Финальный концентрат')\n",
    "plt.vlines(full[full['rougher_sum']>0.3]['rougher_sum'].mean(),0,0.07,color = 'r')\n",
    "plt.vlines(full[full['rougher_input_sum']>0.3]['rougher_input_sum'].mean(),0,0.10,color = 'r')\n",
    "plt.vlines(full[full['final_concentrate_sum']>0.3]['final_concentrate_sum'].mean(),0,0.17,color = 'r')\n",
    "plt.legend()\n",
    "plt.title('Концентрация всех веществ на разных стадиях')\n",
    "plt.xlabel(\"Концентрация\")\n",
    "plt.ylabel(\"Количество наблюдений\")\n"
   ]
  },
  {
   "cell_type": "code",
   "execution_count": 40,
   "metadata": {},
   "outputs": [
    {
     "data": {
      "image/png": "[encoded data removed]",
      "text/plain": [
       "<Figure size 432x288 with 1 Axes>"
      ]
     },
     "metadata": {},
     "output_type": "display_data"
    }
   ],
   "source": [
    "fig = plt.figure()\n",
    "ax = fig.add_axes([0,0,1,1])\n",
    "ax.grid()\n",
    "ax.set_xlabel('Суммарная концентрация всех веществ')\n",
    "ax.set_ylabel('Количество попаданий')\n",
    "plt.suptitle('Черновой концентрат', x=0.5, y=1.1, ha='center', fontsize='xx-large')\n",
    "\n",
    "full['rougher_sum'].hist()\n",
    "plt.show()"
   ]
  },
  {
   "cell_type": "code",
   "execution_count": 41,
   "metadata": {},
   "outputs": [
    {
     "data": {
      "image/png": "[encoded data removed]",
      "text/plain": [
       "<Figure size 432x288 with 1 Axes>"
      ]
     },
     "metadata": {},
     "output_type": "display_data"
    }
   ],
   "source": [
    "fig = plt.figure()\n",
    "ax = fig.add_axes([0,0,1,1])\n",
    "ax.grid()\n",
    "ax.set_xlabel('Суммарная концентрация всех веществ')\n",
    "ax.set_ylabel('Количество попаданий')\n",
    "plt.suptitle('Сырьё', x=0.5, y=1.1, ha='center', fontsize='xx-large')\n",
    "\n",
    "full['rougher_input_sum'].hist()\n",
    "plt.show()"
   ]
  },
  {
   "cell_type": "code",
   "execution_count": 42,
   "metadata": {},
   "outputs": [
    {
     "data": {
      "image/png": "[encoded data removed]",
      "text/plain": [
       "<Figure size 432x288 with 1 Axes>"
      ]
     },
     "metadata": {},
     "output_type": "display_data"
    }
   ],
   "source": [
    "fig = plt.figure()\n",
    "ax = fig.add_axes([0,0,1,1])\n",
    "ax.grid()\n",
    "ax.set_xlabel('Суммарная концентрация всех веществ')\n",
    "ax.set_ylabel('Количество попаданий')\n",
    "plt.suptitle('Финальный концентрат', x=0.5, y=1.1, ha='center', fontsize='xx-large')\n",
    "\n",
    "full['final_concentrate_sum'].hist()\n",
    "plt.show()"
   ]
  },
  {
   "cell_type": "markdown",
   "metadata": {},
   "source": [
    "По распределению видно, что присутствуют выбросы. Есть много значений от 0 до 40, которые можно удалить. их очень много,а чистота их нулевая.Думаю можно их удалить, чтобы не мешали обучению модели."
   ]
  },
  {
   "cell_type": "code",
   "execution_count": 43,
   "metadata": {},
   "outputs": [
    {
     "data": {
      "text/html": [
       "<div>\n",
       "<style scoped>\n",
       "    .dataframe tbody tr th:only-of-type {\n",
       "        vertical-align: middle;\n",
       "    }\n",
       "\n",
       "    .dataframe tbody tr th {\n",
       "        vertical-align: top;\n",
       "    }\n",
       "\n",
       "    .dataframe thead th {\n",
       "        text-align: right;\n",
       "    }\n",
       "</style>\n",
       "<table border=\"1\" class=\"dataframe\">\n",
       "  <thead>\n",
       "    <tr style=\"text-align: right;\">\n",
       "      <th></th>\n",
       "      <th>date</th>\n",
       "      <th>final.output.concentrate_ag</th>\n",
       "      <th>final.output.concentrate_pb</th>\n",
       "      <th>final.output.concentrate_sol</th>\n",
       "      <th>final.output.concentrate_au</th>\n",
       "      <th>final.output.recovery</th>\n",
       "      <th>final.output.tail_ag</th>\n",
       "      <th>final.output.tail_pb</th>\n",
       "      <th>final.output.tail_sol</th>\n",
       "      <th>final.output.tail_au</th>\n",
       "      <th>...</th>\n",
       "      <th>secondary_cleaner.state.floatbank4_b_level</th>\n",
       "      <th>secondary_cleaner.state.floatbank5_a_air</th>\n",
       "      <th>secondary_cleaner.state.floatbank5_a_level</th>\n",
       "      <th>secondary_cleaner.state.floatbank5_b_air</th>\n",
       "      <th>secondary_cleaner.state.floatbank5_b_level</th>\n",
       "      <th>secondary_cleaner.state.floatbank6_a_air</th>\n",
       "      <th>secondary_cleaner.state.floatbank6_a_level</th>\n",
       "      <th>rougher_sum</th>\n",
       "      <th>rougher_input_sum</th>\n",
       "      <th>final_concentrate_sum</th>\n",
       "    </tr>\n",
       "  </thead>\n",
       "  <tbody>\n",
       "    <tr>\n",
       "      <th>0</th>\n",
       "      <td>2016-01-15 00:00:00</td>\n",
       "      <td>6.055403</td>\n",
       "      <td>9.889648</td>\n",
       "      <td>5.507324</td>\n",
       "      <td>42.192020</td>\n",
       "      <td>70.541216</td>\n",
       "      <td>10.411962</td>\n",
       "      <td>0.895447</td>\n",
       "      <td>16.904297</td>\n",
       "      <td>2.143149</td>\n",
       "      <td>...</td>\n",
       "      <td>-504.715942</td>\n",
       "      <td>9.925633</td>\n",
       "      <td>-498.310211</td>\n",
       "      <td>8.079666</td>\n",
       "      <td>-500.470978</td>\n",
       "      <td>14.151341</td>\n",
       "      <td>-605.841980</td>\n",
       "      <td>66.424950</td>\n",
       "      <td>51.680034</td>\n",
       "      <td>63.644396</td>\n",
       "    </tr>\n",
       "    <tr>\n",
       "      <th>1</th>\n",
       "      <td>2016-01-15 01:00:00</td>\n",
       "      <td>6.029369</td>\n",
       "      <td>9.968944</td>\n",
       "      <td>5.257781</td>\n",
       "      <td>42.701629</td>\n",
       "      <td>69.266198</td>\n",
       "      <td>10.462676</td>\n",
       "      <td>0.927452</td>\n",
       "      <td>16.634514</td>\n",
       "      <td>2.224930</td>\n",
       "      <td>...</td>\n",
       "      <td>-501.331529</td>\n",
       "      <td>10.039245</td>\n",
       "      <td>-500.169983</td>\n",
       "      <td>7.984757</td>\n",
       "      <td>-500.582168</td>\n",
       "      <td>13.998353</td>\n",
       "      <td>-599.787184</td>\n",
       "      <td>67.012710</td>\n",
       "      <td>50.659114</td>\n",
       "      <td>63.957723</td>\n",
       "    </tr>\n",
       "    <tr>\n",
       "      <th>2</th>\n",
       "      <td>2016-01-15 02:00:00</td>\n",
       "      <td>6.055926</td>\n",
       "      <td>10.213995</td>\n",
       "      <td>5.383759</td>\n",
       "      <td>42.657501</td>\n",
       "      <td>68.116445</td>\n",
       "      <td>10.507046</td>\n",
       "      <td>0.953716</td>\n",
       "      <td>16.208849</td>\n",
       "      <td>2.257889</td>\n",
       "      <td>...</td>\n",
       "      <td>-501.133383</td>\n",
       "      <td>10.070913</td>\n",
       "      <td>-500.129135</td>\n",
       "      <td>8.013877</td>\n",
       "      <td>-500.517572</td>\n",
       "      <td>14.028663</td>\n",
       "      <td>-601.427363</td>\n",
       "      <td>66.103793</td>\n",
       "      <td>50.609929</td>\n",
       "      <td>64.311180</td>\n",
       "    </tr>\n",
       "    <tr>\n",
       "      <th>3</th>\n",
       "      <td>2016-01-15 03:00:00</td>\n",
       "      <td>6.047977</td>\n",
       "      <td>9.977019</td>\n",
       "      <td>4.858634</td>\n",
       "      <td>42.689819</td>\n",
       "      <td>68.347543</td>\n",
       "      <td>10.422762</td>\n",
       "      <td>0.883763</td>\n",
       "      <td>16.532835</td>\n",
       "      <td>2.146849</td>\n",
       "      <td>...</td>\n",
       "      <td>-501.193686</td>\n",
       "      <td>9.970366</td>\n",
       "      <td>-499.201640</td>\n",
       "      <td>7.977324</td>\n",
       "      <td>-500.255908</td>\n",
       "      <td>14.005551</td>\n",
       "      <td>-599.996129</td>\n",
       "      <td>65.752751</td>\n",
       "      <td>51.061546</td>\n",
       "      <td>63.573449</td>\n",
       "    </tr>\n",
       "    <tr>\n",
       "      <th>4</th>\n",
       "      <td>2016-01-15 04:00:00</td>\n",
       "      <td>6.148599</td>\n",
       "      <td>10.142511</td>\n",
       "      <td>4.939416</td>\n",
       "      <td>42.774141</td>\n",
       "      <td>66.927016</td>\n",
       "      <td>10.360302</td>\n",
       "      <td>0.792826</td>\n",
       "      <td>16.525686</td>\n",
       "      <td>2.055292</td>\n",
       "      <td>...</td>\n",
       "      <td>-501.053894</td>\n",
       "      <td>9.925709</td>\n",
       "      <td>-501.686727</td>\n",
       "      <td>7.894242</td>\n",
       "      <td>-500.356035</td>\n",
       "      <td>13.996647</td>\n",
       "      <td>-601.496691</td>\n",
       "      <td>65.908382</td>\n",
       "      <td>47.859163</td>\n",
       "      <td>64.004667</td>\n",
       "    </tr>\n",
       "  </tbody>\n",
       "</table>\n",
       "<p>5 rows × 90 columns</p>\n",
       "</div>"
      ],
      "text/plain": [
       "                  date  final.output.concentrate_ag  \\\n",
       "0  2016-01-15 00:00:00                     6.055403   \n",
       "1  2016-01-15 01:00:00                     6.029369   \n",
       "2  2016-01-15 02:00:00                     6.055926   \n",
       "3  2016-01-15 03:00:00                     6.047977   \n",
       "4  2016-01-15 04:00:00                     6.148599   \n",
       "\n",
       "   final.output.concentrate_pb  final.output.concentrate_sol  \\\n",
       "0                     9.889648                      5.507324   \n",
       "1                     9.968944                      5.257781   \n",
       "2                    10.213995                      5.383759   \n",
       "3                     9.977019                      4.858634   \n",
       "4                    10.142511                      4.939416   \n",
       "\n",
       "   final.output.concentrate_au  final.output.recovery  final.output.tail_ag  \\\n",
       "0                    42.192020              70.541216             10.411962   \n",
       "1                    42.701629              69.266198             10.462676   \n",
       "2                    42.657501              68.116445             10.507046   \n",
       "3                    42.689819              68.347543             10.422762   \n",
       "4                    42.774141              66.927016             10.360302   \n",
       "\n",
       "   final.output.tail_pb  final.output.tail_sol  final.output.tail_au  ...  \\\n",
       "0              0.895447              16.904297              2.143149  ...   \n",
       "1              0.927452              16.634514              2.224930  ...   \n",
       "2              0.953716              16.208849              2.257889  ...   \n",
       "3              0.883763              16.532835              2.146849  ...   \n",
       "4              0.792826              16.525686              2.055292  ...   \n",
       "\n",
       "   secondary_cleaner.state.floatbank4_b_level  \\\n",
       "0                                 -504.715942   \n",
       "1                                 -501.331529   \n",
       "2                                 -501.133383   \n",
       "3                                 -501.193686   \n",
       "4                                 -501.053894   \n",
       "\n",
       "   secondary_cleaner.state.floatbank5_a_air  \\\n",
       "0                                  9.925633   \n",
       "1                                 10.039245   \n",
       "2                                 10.070913   \n",
       "3                                  9.970366   \n",
       "4                                  9.925709   \n",
       "\n",
       "   secondary_cleaner.state.floatbank5_a_level  \\\n",
       "0                                 -498.310211   \n",
       "1                                 -500.169983   \n",
       "2                                 -500.129135   \n",
       "3                                 -499.201640   \n",
       "4                                 -501.686727   \n",
       "\n",
       "   secondary_cleaner.state.floatbank5_b_air  \\\n",
       "0                                  8.079666   \n",
       "1                                  7.984757   \n",
       "2                                  8.013877   \n",
       "3                                  7.977324   \n",
       "4                                  7.894242   \n",
       "\n",
       "   secondary_cleaner.state.floatbank5_b_level  \\\n",
       "0                                 -500.470978   \n",
       "1                                 -500.582168   \n",
       "2                                 -500.517572   \n",
       "3                                 -500.255908   \n",
       "4                                 -500.356035   \n",
       "\n",
       "   secondary_cleaner.state.floatbank6_a_air  \\\n",
       "0                                 14.151341   \n",
       "1                                 13.998353   \n",
       "2                                 14.028663   \n",
       "3                                 14.005551   \n",
       "4                                 13.996647   \n",
       "\n",
       "   secondary_cleaner.state.floatbank6_a_level  rougher_sum  rougher_input_sum  \\\n",
       "0                                 -605.841980    66.424950          51.680034   \n",
       "1                                 -599.787184    67.012710          50.659114   \n",
       "2                                 -601.427363    66.103793          50.609929   \n",
       "3                                 -599.996129    65.752751          51.061546   \n",
       "4                                 -601.496691    65.908382          47.859163   \n",
       "\n",
       "   final_concentrate_sum  \n",
       "0              63.644396  \n",
       "1              63.957723  \n",
       "2              64.311180  \n",
       "3              63.573449  \n",
       "4              64.004667  \n",
       "\n",
       "[5 rows x 90 columns]"
      ]
     },
     "execution_count": 43,
     "metadata": {},
     "output_type": "execute_result"
    }
   ],
   "source": [
    "full=full[full['rougher_sum']>15]\n",
    "full=full[full['rougher_input_sum']>15]\n",
    "full=full[full['final_concentrate_sum']>15]\n",
    "full.head()"
   ]
  },
  {
   "cell_type": "code",
   "execution_count": 44,
   "metadata": {},
   "outputs": [],
   "source": [
    "# Убираем выбросы из train суммарные концентрации, которых <15\n",
    "# Считаю сумму концентраций металлов после флотации\n",
    "train['rougher_sum']=train['rougher.output.concentrate_ag']\\\n",
    "+train['rougher.output.concentrate_pb']\\\n",
    "+train['rougher.output.concentrate_sol']\\\n",
    "+train['rougher.output.concentrate_au']\n"
   ]
  },
  {
   "cell_type": "code",
   "execution_count": 45,
   "metadata": {},
   "outputs": [],
   "source": [
    "# Считаю сумму концентраций металлов после первичной очистки\n",
    "train['rougher_input_sum']=train['rougher.input.feed_ag']\\\n",
    "+train['rougher.input.feed_pb']\\\n",
    "+train['rougher.input.feed_sol']\\\n",
    "+train['rougher.input.feed_au']"
   ]
  },
  {
   "cell_type": "code",
   "execution_count": 46,
   "metadata": {},
   "outputs": [],
   "source": [
    "# Считаю сумму концентраций металлов после финальной очистки\n",
    "train['final_concentrate_sum']=train['final.output.concentrate_ag']\\\n",
    "+train['final.output.concentrate_pb']\\\n",
    "+train['final.output.concentrate_sol']\\\n",
    "+train['final.output.concentrate_au']"
   ]
  },
  {
   "cell_type": "code",
   "execution_count": 47,
   "metadata": {},
   "outputs": [
    {
     "data": {
      "text/html": [
       "<div>\n",
       "<style scoped>\n",
       "    .dataframe tbody tr th:only-of-type {\n",
       "        vertical-align: middle;\n",
       "    }\n",
       "\n",
       "    .dataframe tbody tr th {\n",
       "        vertical-align: top;\n",
       "    }\n",
       "\n",
       "    .dataframe thead th {\n",
       "        text-align: right;\n",
       "    }\n",
       "</style>\n",
       "<table border=\"1\" class=\"dataframe\">\n",
       "  <thead>\n",
       "    <tr style=\"text-align: right;\">\n",
       "      <th></th>\n",
       "      <th>index</th>\n",
       "      <th>date</th>\n",
       "      <th>final.output.concentrate_ag</th>\n",
       "      <th>final.output.concentrate_pb</th>\n",
       "      <th>final.output.concentrate_sol</th>\n",
       "      <th>final.output.concentrate_au</th>\n",
       "      <th>final.output.recovery</th>\n",
       "      <th>final.output.tail_ag</th>\n",
       "      <th>final.output.tail_pb</th>\n",
       "      <th>final.output.tail_sol</th>\n",
       "      <th>...</th>\n",
       "      <th>secondary_cleaner.state.floatbank4_b_level</th>\n",
       "      <th>secondary_cleaner.state.floatbank5_a_air</th>\n",
       "      <th>secondary_cleaner.state.floatbank5_a_level</th>\n",
       "      <th>secondary_cleaner.state.floatbank5_b_air</th>\n",
       "      <th>secondary_cleaner.state.floatbank5_b_level</th>\n",
       "      <th>secondary_cleaner.state.floatbank6_a_air</th>\n",
       "      <th>secondary_cleaner.state.floatbank6_a_level</th>\n",
       "      <th>rougher_sum</th>\n",
       "      <th>rougher_input_sum</th>\n",
       "      <th>final_concentrate_sum</th>\n",
       "    </tr>\n",
       "  </thead>\n",
       "  <tbody>\n",
       "    <tr>\n",
       "      <th>0</th>\n",
       "      <td>0</td>\n",
       "      <td>2016-01-15 00:00:00</td>\n",
       "      <td>6.055403</td>\n",
       "      <td>9.889648</td>\n",
       "      <td>5.507324</td>\n",
       "      <td>42.192020</td>\n",
       "      <td>70.541216</td>\n",
       "      <td>10.411962</td>\n",
       "      <td>0.895447</td>\n",
       "      <td>16.904297</td>\n",
       "      <td>...</td>\n",
       "      <td>-504.715942</td>\n",
       "      <td>9.925633</td>\n",
       "      <td>-498.310211</td>\n",
       "      <td>8.079666</td>\n",
       "      <td>-500.470978</td>\n",
       "      <td>14.151341</td>\n",
       "      <td>-605.841980</td>\n",
       "      <td>66.424950</td>\n",
       "      <td>51.680034</td>\n",
       "      <td>63.644396</td>\n",
       "    </tr>\n",
       "    <tr>\n",
       "      <th>1</th>\n",
       "      <td>1</td>\n",
       "      <td>2016-01-15 01:00:00</td>\n",
       "      <td>6.029369</td>\n",
       "      <td>9.968944</td>\n",
       "      <td>5.257781</td>\n",
       "      <td>42.701629</td>\n",
       "      <td>69.266198</td>\n",
       "      <td>10.462676</td>\n",
       "      <td>0.927452</td>\n",
       "      <td>16.634514</td>\n",
       "      <td>...</td>\n",
       "      <td>-501.331529</td>\n",
       "      <td>10.039245</td>\n",
       "      <td>-500.169983</td>\n",
       "      <td>7.984757</td>\n",
       "      <td>-500.582168</td>\n",
       "      <td>13.998353</td>\n",
       "      <td>-599.787184</td>\n",
       "      <td>67.012710</td>\n",
       "      <td>50.659114</td>\n",
       "      <td>63.957723</td>\n",
       "    </tr>\n",
       "    <tr>\n",
       "      <th>2</th>\n",
       "      <td>2</td>\n",
       "      <td>2016-01-15 02:00:00</td>\n",
       "      <td>6.055926</td>\n",
       "      <td>10.213995</td>\n",
       "      <td>5.383759</td>\n",
       "      <td>42.657501</td>\n",
       "      <td>68.116445</td>\n",
       "      <td>10.507046</td>\n",
       "      <td>0.953716</td>\n",
       "      <td>16.208849</td>\n",
       "      <td>...</td>\n",
       "      <td>-501.133383</td>\n",
       "      <td>10.070913</td>\n",
       "      <td>-500.129135</td>\n",
       "      <td>8.013877</td>\n",
       "      <td>-500.517572</td>\n",
       "      <td>14.028663</td>\n",
       "      <td>-601.427363</td>\n",
       "      <td>66.103793</td>\n",
       "      <td>50.609929</td>\n",
       "      <td>64.311180</td>\n",
       "    </tr>\n",
       "    <tr>\n",
       "      <th>3</th>\n",
       "      <td>3</td>\n",
       "      <td>2016-01-15 03:00:00</td>\n",
       "      <td>6.047977</td>\n",
       "      <td>9.977019</td>\n",
       "      <td>4.858634</td>\n",
       "      <td>42.689819</td>\n",
       "      <td>68.347543</td>\n",
       "      <td>10.422762</td>\n",
       "      <td>0.883763</td>\n",
       "      <td>16.532835</td>\n",
       "      <td>...</td>\n",
       "      <td>-501.193686</td>\n",
       "      <td>9.970366</td>\n",
       "      <td>-499.201640</td>\n",
       "      <td>7.977324</td>\n",
       "      <td>-500.255908</td>\n",
       "      <td>14.005551</td>\n",
       "      <td>-599.996129</td>\n",
       "      <td>65.752751</td>\n",
       "      <td>51.061546</td>\n",
       "      <td>63.573449</td>\n",
       "    </tr>\n",
       "    <tr>\n",
       "      <th>4</th>\n",
       "      <td>4</td>\n",
       "      <td>2016-01-15 04:00:00</td>\n",
       "      <td>6.148599</td>\n",
       "      <td>10.142511</td>\n",
       "      <td>4.939416</td>\n",
       "      <td>42.774141</td>\n",
       "      <td>66.927016</td>\n",
       "      <td>10.360302</td>\n",
       "      <td>0.792826</td>\n",
       "      <td>16.525686</td>\n",
       "      <td>...</td>\n",
       "      <td>-501.053894</td>\n",
       "      <td>9.925709</td>\n",
       "      <td>-501.686727</td>\n",
       "      <td>7.894242</td>\n",
       "      <td>-500.356035</td>\n",
       "      <td>13.996647</td>\n",
       "      <td>-601.496691</td>\n",
       "      <td>65.908382</td>\n",
       "      <td>47.859163</td>\n",
       "      <td>64.004667</td>\n",
       "    </tr>\n",
       "  </tbody>\n",
       "</table>\n",
       "<p>5 rows × 91 columns</p>\n",
       "</div>"
      ],
      "text/plain": [
       "   index                 date  final.output.concentrate_ag  \\\n",
       "0      0  2016-01-15 00:00:00                     6.055403   \n",
       "1      1  2016-01-15 01:00:00                     6.029369   \n",
       "2      2  2016-01-15 02:00:00                     6.055926   \n",
       "3      3  2016-01-15 03:00:00                     6.047977   \n",
       "4      4  2016-01-15 04:00:00                     6.148599   \n",
       "\n",
       "   final.output.concentrate_pb  final.output.concentrate_sol  \\\n",
       "0                     9.889648                      5.507324   \n",
       "1                     9.968944                      5.257781   \n",
       "2                    10.213995                      5.383759   \n",
       "3                     9.977019                      4.858634   \n",
       "4                    10.142511                      4.939416   \n",
       "\n",
       "   final.output.concentrate_au  final.output.recovery  final.output.tail_ag  \\\n",
       "0                    42.192020              70.541216             10.411962   \n",
       "1                    42.701629              69.266198             10.462676   \n",
       "2                    42.657501              68.116445             10.507046   \n",
       "3                    42.689819              68.347543             10.422762   \n",
       "4                    42.774141              66.927016             10.360302   \n",
       "\n",
       "   final.output.tail_pb  final.output.tail_sol  ...  \\\n",
       "0              0.895447              16.904297  ...   \n",
       "1              0.927452              16.634514  ...   \n",
       "2              0.953716              16.208849  ...   \n",
       "3              0.883763              16.532835  ...   \n",
       "4              0.792826              16.525686  ...   \n",
       "\n",
       "   secondary_cleaner.state.floatbank4_b_level  \\\n",
       "0                                 -504.715942   \n",
       "1                                 -501.331529   \n",
       "2                                 -501.133383   \n",
       "3                                 -501.193686   \n",
       "4                                 -501.053894   \n",
       "\n",
       "   secondary_cleaner.state.floatbank5_a_air  \\\n",
       "0                                  9.925633   \n",
       "1                                 10.039245   \n",
       "2                                 10.070913   \n",
       "3                                  9.970366   \n",
       "4                                  9.925709   \n",
       "\n",
       "   secondary_cleaner.state.floatbank5_a_level  \\\n",
       "0                                 -498.310211   \n",
       "1                                 -500.169983   \n",
       "2                                 -500.129135   \n",
       "3                                 -499.201640   \n",
       "4                                 -501.686727   \n",
       "\n",
       "   secondary_cleaner.state.floatbank5_b_air  \\\n",
       "0                                  8.079666   \n",
       "1                                  7.984757   \n",
       "2                                  8.013877   \n",
       "3                                  7.977324   \n",
       "4                                  7.894242   \n",
       "\n",
       "   secondary_cleaner.state.floatbank5_b_level  \\\n",
       "0                                 -500.470978   \n",
       "1                                 -500.582168   \n",
       "2                                 -500.517572   \n",
       "3                                 -500.255908   \n",
       "4                                 -500.356035   \n",
       "\n",
       "   secondary_cleaner.state.floatbank6_a_air  \\\n",
       "0                                 14.151341   \n",
       "1                                 13.998353   \n",
       "2                                 14.028663   \n",
       "3                                 14.005551   \n",
       "4                                 13.996647   \n",
       "\n",
       "   secondary_cleaner.state.floatbank6_a_level  rougher_sum  rougher_input_sum  \\\n",
       "0                                 -605.841980    66.424950          51.680034   \n",
       "1                                 -599.787184    67.012710          50.659114   \n",
       "2                                 -601.427363    66.103793          50.609929   \n",
       "3                                 -599.996129    65.752751          51.061546   \n",
       "4                                 -601.496691    65.908382          47.859163   \n",
       "\n",
       "   final_concentrate_sum  \n",
       "0              63.644396  \n",
       "1              63.957723  \n",
       "2              64.311180  \n",
       "3              63.573449  \n",
       "4              64.004667  \n",
       "\n",
       "[5 rows x 91 columns]"
      ]
     },
     "execution_count": 47,
     "metadata": {},
     "output_type": "execute_result"
    }
   ],
   "source": [
    "train=train[train['final_concentrate_sum']>15]\n",
    "train=train[train['rougher_input_sum']>15]\n",
    "train=train[train['rougher_sum']>15]\n",
    "train=train.reset_index()\n",
    "train.head()"
   ]
  },
  {
   "cell_type": "code",
   "execution_count": 48,
   "metadata": {},
   "outputs": [
    {
     "data": {
      "text/plain": [
       "Text(0, 0.5, 'Количество наблюдений')"
      ]
     },
     "execution_count": 48,
     "metadata": {},
     "output_type": "execute_result"
    },
    {
     "data": {
      "image/png": "[encoded data removed]",
      "text/plain": [
       "<Figure size 1008x576 with 1 Axes>"
      ]
     },
     "metadata": {},
     "output_type": "display_data"
    }
   ],
   "source": [
    "plt.figure(figsize=(14,8))\n",
    "sns.distplot(full['rougher_sum'],bins=80,label='Флотация')\n",
    "sns.distplot(full['rougher_input_sum'],bins=80,label='Черновой концентрат')\n",
    "sns.distplot(full['final_concentrate_sum'],bins=80,label='Финальный концентрат')\n",
    "plt.vlines(full['rougher_sum'].mean(),0,0.07,color = 'r')\n",
    "plt.vlines(full['rougher_input_sum'].mean(),0,0.10,color = 'r')\n",
    "plt.vlines(full['final_concentrate_sum'].mean(),0,0.17,color = 'r')\n",
    "plt.legend()\n",
    "plt.title('Концентрация всех веществ на разных стадиях')\n",
    "plt.xlabel(\"Концентрация\")\n",
    "plt.ylabel(\"Количество наблюдений\")"
   ]
  },
  {
   "cell_type": "markdown",
   "metadata": {},
   "source": [
    "Убрали выбросы  до 15"
   ]
  },
  {
   "cell_type": "code",
   "execution_count": 49,
   "metadata": {},
   "outputs": [
    {
     "data": {
      "text/plain": [
       "Index(['index', 'date', 'final.output.concentrate_ag',\n",
       "       'final.output.concentrate_pb', 'final.output.concentrate_sol',\n",
       "       'final.output.concentrate_au', 'final.output.recovery',\n",
       "       'final.output.tail_ag', 'final.output.tail_pb', 'final.output.tail_sol',\n",
       "       'final.output.tail_au', 'primary_cleaner.input.sulfate',\n",
       "       'primary_cleaner.input.depressant', 'primary_cleaner.input.feed_size',\n",
       "       'primary_cleaner.input.xanthate',\n",
       "       'primary_cleaner.output.concentrate_ag',\n",
       "       'primary_cleaner.output.concentrate_pb',\n",
       "       'primary_cleaner.output.concentrate_sol',\n",
       "       'primary_cleaner.output.concentrate_au',\n",
       "       'primary_cleaner.output.tail_ag', 'primary_cleaner.output.tail_pb',\n",
       "       'primary_cleaner.output.tail_sol', 'primary_cleaner.output.tail_au',\n",
       "       'primary_cleaner.state.floatbank8_a_air',\n",
       "       'primary_cleaner.state.floatbank8_a_level',\n",
       "       'primary_cleaner.state.floatbank8_b_air',\n",
       "       'primary_cleaner.state.floatbank8_b_level',\n",
       "       'primary_cleaner.state.floatbank8_c_air',\n",
       "       'primary_cleaner.state.floatbank8_c_level',\n",
       "       'primary_cleaner.state.floatbank8_d_air',\n",
       "       'primary_cleaner.state.floatbank8_d_level',\n",
       "       'rougher.calculation.sulfate_to_au_concentrate',\n",
       "       'rougher.calculation.floatbank10_sulfate_to_au_feed',\n",
       "       'rougher.calculation.floatbank11_sulfate_to_au_feed',\n",
       "       'rougher.calculation.au_pb_ratio', 'rougher.input.feed_ag',\n",
       "       'rougher.input.feed_pb', 'rougher.input.feed_rate',\n",
       "       'rougher.input.feed_size', 'rougher.input.feed_sol',\n",
       "       'rougher.input.feed_au', 'rougher.input.floatbank10_sulfate',\n",
       "       'rougher.input.floatbank10_xanthate',\n",
       "       'rougher.input.floatbank11_sulfate',\n",
       "       'rougher.input.floatbank11_xanthate', 'rougher.output.concentrate_ag',\n",
       "       'rougher.output.concentrate_pb', 'rougher.output.concentrate_sol',\n",
       "       'rougher.output.concentrate_au', 'rougher.output.recovery',\n",
       "       'rougher.output.tail_ag', 'rougher.output.tail_pb',\n",
       "       'rougher.output.tail_sol', 'rougher.output.tail_au',\n",
       "       'rougher.state.floatbank10_a_air', 'rougher.state.floatbank10_a_level',\n",
       "       'rougher.state.floatbank10_b_air', 'rougher.state.floatbank10_b_level',\n",
       "       'rougher.state.floatbank10_c_air', 'rougher.state.floatbank10_c_level',\n",
       "       'rougher.state.floatbank10_d_air', 'rougher.state.floatbank10_d_level',\n",
       "       'rougher.state.floatbank10_e_air', 'rougher.state.floatbank10_e_level',\n",
       "       'rougher.state.floatbank10_f_air', 'rougher.state.floatbank10_f_level',\n",
       "       'secondary_cleaner.output.tail_ag', 'secondary_cleaner.output.tail_pb',\n",
       "       'secondary_cleaner.output.tail_sol', 'secondary_cleaner.output.tail_au',\n",
       "       'secondary_cleaner.state.floatbank2_a_air',\n",
       "       'secondary_cleaner.state.floatbank2_a_level',\n",
       "       'secondary_cleaner.state.floatbank2_b_air',\n",
       "       'secondary_cleaner.state.floatbank2_b_level',\n",
       "       'secondary_cleaner.state.floatbank3_a_air',\n",
       "       'secondary_cleaner.state.floatbank3_a_level',\n",
       "       'secondary_cleaner.state.floatbank3_b_air',\n",
       "       'secondary_cleaner.state.floatbank3_b_level',\n",
       "       'secondary_cleaner.state.floatbank4_a_air',\n",
       "       'secondary_cleaner.state.floatbank4_a_level',\n",
       "       'secondary_cleaner.state.floatbank4_b_air',\n",
       "       'secondary_cleaner.state.floatbank4_b_level',\n",
       "       'secondary_cleaner.state.floatbank5_a_air',\n",
       "       'secondary_cleaner.state.floatbank5_a_level',\n",
       "       'secondary_cleaner.state.floatbank5_b_air',\n",
       "       'secondary_cleaner.state.floatbank5_b_level',\n",
       "       'secondary_cleaner.state.floatbank6_a_air',\n",
       "       'secondary_cleaner.state.floatbank6_a_level', 'rougher_sum',\n",
       "       'rougher_input_sum', 'final_concentrate_sum'],\n",
       "      dtype='object')"
      ]
     },
     "execution_count": 49,
     "metadata": {},
     "output_type": "execute_result"
    }
   ],
   "source": [
    "train.columns\n"
   ]
  },
  {
   "cell_type": "code",
   "execution_count": 50,
   "metadata": {},
   "outputs": [],
   "source": [
    "train=train.drop(['rougher_sum','rougher_input_sum'\\\n",
    "                  ,'final_concentrate_sum'],axis=1)"
   ]
  },
  {
   "cell_type": "code",
   "execution_count": 51,
   "metadata": {},
   "outputs": [
    {
     "data": {
      "text/plain": [
       "Index(['date', 'final.output.concentrate_ag', 'final.output.concentrate_pb',\n",
       "       'final.output.concentrate_sol', 'final.output.concentrate_au',\n",
       "       'final.output.recovery', 'final.output.tail_ag', 'final.output.tail_pb',\n",
       "       'final.output.tail_sol', 'final.output.tail_au',\n",
       "       'primary_cleaner.input.sulfate', 'primary_cleaner.input.depressant',\n",
       "       'primary_cleaner.input.feed_size', 'primary_cleaner.input.xanthate',\n",
       "       'primary_cleaner.output.concentrate_ag',\n",
       "       'primary_cleaner.output.concentrate_pb',\n",
       "       'primary_cleaner.output.concentrate_sol',\n",
       "       'primary_cleaner.output.concentrate_au',\n",
       "       'primary_cleaner.output.tail_ag', 'primary_cleaner.output.tail_pb',\n",
       "       'primary_cleaner.output.tail_sol', 'primary_cleaner.output.tail_au',\n",
       "       'primary_cleaner.state.floatbank8_a_air',\n",
       "       'primary_cleaner.state.floatbank8_a_level',\n",
       "       'primary_cleaner.state.floatbank8_b_air',\n",
       "       'primary_cleaner.state.floatbank8_b_level',\n",
       "       'primary_cleaner.state.floatbank8_c_air',\n",
       "       'primary_cleaner.state.floatbank8_c_level',\n",
       "       'primary_cleaner.state.floatbank8_d_air',\n",
       "       'primary_cleaner.state.floatbank8_d_level',\n",
       "       'rougher.calculation.sulfate_to_au_concentrate',\n",
       "       'rougher.calculation.floatbank10_sulfate_to_au_feed',\n",
       "       'rougher.calculation.floatbank11_sulfate_to_au_feed',\n",
       "       'rougher.calculation.au_pb_ratio', 'rougher.input.feed_ag',\n",
       "       'rougher.input.feed_pb', 'rougher.input.feed_rate',\n",
       "       'rougher.input.feed_size', 'rougher.input.feed_sol',\n",
       "       'rougher.input.feed_au', 'rougher.input.floatbank10_sulfate',\n",
       "       'rougher.input.floatbank10_xanthate',\n",
       "       'rougher.input.floatbank11_sulfate',\n",
       "       'rougher.input.floatbank11_xanthate', 'rougher.output.concentrate_ag',\n",
       "       'rougher.output.concentrate_pb', 'rougher.output.concentrate_sol',\n",
       "       'rougher.output.concentrate_au', 'rougher.output.recovery',\n",
       "       'rougher.output.tail_ag', 'rougher.output.tail_pb',\n",
       "       'rougher.output.tail_sol', 'rougher.output.tail_au',\n",
       "       'rougher.state.floatbank10_a_air', 'rougher.state.floatbank10_a_level',\n",
       "       'rougher.state.floatbank10_b_air', 'rougher.state.floatbank10_b_level',\n",
       "       'rougher.state.floatbank10_c_air', 'rougher.state.floatbank10_c_level',\n",
       "       'rougher.state.floatbank10_d_air', 'rougher.state.floatbank10_d_level',\n",
       "       'rougher.state.floatbank10_e_air', 'rougher.state.floatbank10_e_level',\n",
       "       'rougher.state.floatbank10_f_air', 'rougher.state.floatbank10_f_level',\n",
       "       'secondary_cleaner.output.tail_ag', 'secondary_cleaner.output.tail_pb',\n",
       "       'secondary_cleaner.output.tail_sol', 'secondary_cleaner.output.tail_au',\n",
       "       'secondary_cleaner.state.floatbank2_a_air',\n",
       "       'secondary_cleaner.state.floatbank2_a_level',\n",
       "       'secondary_cleaner.state.floatbank2_b_air',\n",
       "       'secondary_cleaner.state.floatbank2_b_level',\n",
       "       'secondary_cleaner.state.floatbank3_a_air',\n",
       "       'secondary_cleaner.state.floatbank3_a_level',\n",
       "       'secondary_cleaner.state.floatbank3_b_air',\n",
       "       'secondary_cleaner.state.floatbank3_b_level',\n",
       "       'secondary_cleaner.state.floatbank4_a_air',\n",
       "       'secondary_cleaner.state.floatbank4_a_level',\n",
       "       'secondary_cleaner.state.floatbank4_b_air',\n",
       "       'secondary_cleaner.state.floatbank4_b_level',\n",
       "       'secondary_cleaner.state.floatbank5_a_air',\n",
       "       'secondary_cleaner.state.floatbank5_a_level',\n",
       "       'secondary_cleaner.state.floatbank5_b_air',\n",
       "       'secondary_cleaner.state.floatbank5_b_level',\n",
       "       'secondary_cleaner.state.floatbank6_a_air',\n",
       "       'secondary_cleaner.state.floatbank6_a_level', 'rougher_sum',\n",
       "       'rougher_input_sum', 'final_concentrate_sum'],\n",
       "      dtype='object')"
      ]
     },
     "execution_count": 51,
     "metadata": {},
     "output_type": "execute_result"
    }
   ],
   "source": [
    "full.columns"
   ]
  },
  {
   "cell_type": "code",
   "execution_count": 52,
   "metadata": {},
   "outputs": [],
   "source": [
    "full=full.drop(['rougher_sum','rougher_input_sum'\\\n",
    "                  ,'final_concentrate_sum'],axis=1)"
   ]
  },
  {
   "cell_type": "markdown",
   "metadata": {},
   "source": [
    "## Модель"
   ]
  },
  {
   "attachments": {
    "image.png": {
     "image/png": "[encoded data removed]"
    }
   },
   "cell_type": "markdown",
   "metadata": {},
   "source": [
    "![image.png](attachment:image.png)"
   ]
  },
  {
   "attachments": {
    "image.png": {
     "image/png": "[encoded data removed]"
    }
   },
   "cell_type": "markdown",
   "metadata": {},
   "source": [
    "![image.png](attachment:image.png)"
   ]
  },
  {
   "cell_type": "markdown",
   "metadata": {},
   "source": [
    "target_rougher - целевой признак(эффективность обогащения чернового концентрата)\n",
    "\n",
    "predict_rougher - предсказание эффективности обогащения чернового концентрата\n",
    "\n",
    "target_final - целевой признак(эффективность обогащения финального концентрата)\n",
    "\n",
    "predict_final - предсказание эффективности обогащения финального концентрата"
   ]
  },
  {
   "cell_type": "code",
   "execution_count": 53,
   "metadata": {},
   "outputs": [],
   "source": [
    "# Функция метрики качества\n",
    "def sMAPE(predict,target):\n",
    "    predict_rougher=predict[:,0]\n",
    "    target__rougher=target[:,0]\n",
    "    predict_final=predict[:,1]\n",
    "    target__final=target[:,1]\n",
    "    \n",
    "    sMAPE_rougher=np.sum(abs(target__rougher-predict_rougher)/((abs(target__rougher)+abs(predict_rougher))/2))\n",
    "    \n",
    "\n",
    "    sMAPE_rougher=sMAPE_rougher/len(target__rougher)*100\n",
    "    \n",
    "   \n",
    "    sMAPE_final=np.sum(abs(target__final-predict_final)/((abs(target__final)+abs(predict_final))/2))\n",
    "    sMAPE_final=sMAPE_final/len(target__final)*100\n",
    "    \n",
    "    sMAP=0.25*sMAPE_rougher+0.75*sMAPE_final\n",
    "    return sMAP"
   ]
  },
  {
   "cell_type": "code",
   "execution_count": 54,
   "metadata": {},
   "outputs": [],
   "source": [
    "columns=test.columns # Колонки которые в тестовой выборке"
   ]
  },
  {
   "cell_type": "code",
   "execution_count": 55,
   "metadata": {},
   "outputs": [],
   "source": [
    "feature=train[columns] # Формируем признаки Выбираем из trian только те колонки, которые есть в test\n",
    "feature=feature.drop(['date'],axis=1)\n",
    "target=train[['rougher.output.recovery','final.output.recovery']] # Формируем вектор целевых признаков\n"
   ]
  },
  {
   "cell_type": "code",
   "execution_count": 56,
   "metadata": {},
   "outputs": [],
   "source": [
    "target_array=np.array(target) # конвертирую в array"
   ]
  },
  {
   "cell_type": "code",
   "execution_count": 57,
   "metadata": {},
   "outputs": [],
   "source": [
    "sample_size=int(len(target)/6)#Формирую длину датасета для кроcc-валидации. "
   ]
  },
  {
   "cell_type": "code",
   "execution_count": 58,
   "metadata": {},
   "outputs": [
    {
     "name": "stdout",
     "output_type": "stream",
     "text": [
      "5.693806956337435\n",
      "9.089039776517021\n"
     ]
    }
   ],
   "source": [
    "# Кросс-валидация Линейная регрессия\n",
    "mae_score=[]\n",
    "smape_score=[]\n",
    "for i in range(0,len(target),sample_size):\n",
    "    valid_index=feature.iloc[i:i+sample_size].index\n",
    "    \n",
    "    train_index=feature.query('index not in @valid_index').index\n",
    "    \n",
    "    target_valid=target.iloc[valid_index]\n",
    "   \n",
    "    feature_valid=feature.iloc[valid_index]\n",
    "    \n",
    "    target_train=target.iloc[train_index]\n",
    "    feature_train=feature.iloc[train_index]\n",
    "    \n",
    "    target_valid_arr=np.array(target_valid)\n",
    "    \n",
    "    model_regression=LinearRegression().fit(feature_train,target_train)\n",
    "    prediction_regress=model_regression.predict(feature_valid)   \n",
    "    \n",
    "    mae=mean_absolute_error(prediction_regress,target_valid)\n",
    "    mae_score.append(mae)\n",
    "    smape=sMAPE(prediction_regress,target_valid_arr)\n",
    "    smape_score.append(smape)\n",
    "    \n",
    "    #print(mae_score)\n",
    "\n",
    "print(np.mean(mae_score))\n",
    "print(np.mean(smape_score))\n",
    "\n"
   ]
  },
  {
   "cell_type": "code",
   "execution_count": 59,
   "metadata": {},
   "outputs": [
    {
     "name": "stdout",
     "output_type": "stream",
     "text": [
      "max_depth: 1 MAE: 6.063763572200866\n",
      "max_depth: 1 sMAPE: 9.420445958191761\n",
      "max_depth: 2 MAE: 6.138410478910497\n",
      "max_depth: 2 sMAPE: 9.478474590830025\n",
      "max_depth: 3 MAE: 6.274209741010168\n",
      "max_depth: 3 sMAPE: 9.789689194853263\n",
      "max_depth: 4 MAE: 6.336430693437753\n",
      "max_depth: 4 sMAPE: 10.013177964537375\n",
      "max_depth: 1 MAE: 6.371521540790469\n",
      "max_depth: 1 sMAPE: 9.78109816332476\n",
      "max_depth: 2 MAE: 6.2573073945677065\n",
      "max_depth: 2 sMAPE: 9.523117821444993\n",
      "max_depth: 3 MAE: 6.1375944776724\n",
      "max_depth: 3 sMAPE: 9.305152197378295\n",
      "max_depth: 4 MAE: 6.048403560263152\n",
      "max_depth: 4 sMAPE: 9.171812659288436\n",
      "max_depth: 1 MAE: 5.9084173940975955\n",
      "max_depth: 1 sMAPE: 8.91155235886933\n",
      "max_depth: 2 MAE: 5.778163536202719\n",
      "max_depth: 2 sMAPE: 8.690562862120363\n",
      "max_depth: 3 MAE: 5.723365837588625\n",
      "max_depth: 3 sMAPE: 8.581524798160116\n",
      "max_depth: 4 MAE: 5.661644587109605\n",
      "max_depth: 4 sMAPE: 8.471857294712644\n",
      "max_depth: 1 MAE: 5.754684696729279\n",
      "max_depth: 1 sMAPE: 8.710638956722313\n",
      "max_depth: 2 MAE: 5.769047791133155\n",
      "max_depth: 2 sMAPE: 8.81477179905839\n",
      "max_depth: 3 MAE: 5.763867488964065\n",
      "max_depth: 3 sMAPE: 8.885935672702821\n",
      "max_depth: 4 MAE: 5.752747284427416\n",
      "max_depth: 4 sMAPE: 8.94276801835133\n",
      "max_depth: 1 MAE: 5.795642602587869\n",
      "max_depth: 1 sMAPE: 8.948350451882659\n",
      "max_depth: 2 MAE: 5.850604188306905\n",
      "max_depth: 2 sMAPE: 8.972300478826305\n",
      "max_depth: 3 MAE: 5.875115290835849\n",
      "max_depth: 3 sMAPE: 8.956819362058793\n",
      "max_depth: 4 MAE: 5.867964859866598\n",
      "max_depth: 4 sMAPE: 8.913394620297506\n",
      "max_depth: 1 MAE: 5.937527778211855\n",
      "max_depth: 1 sMAPE: 8.997539931842336\n",
      "max_depth: 2 MAE: 5.993409960286627\n",
      "max_depth: 2 sMAPE: 9.06188625635494\n",
      "max_depth: 3 MAE: 6.027270393587637\n",
      "max_depth: 3 sMAPE: 9.099072439667719\n",
      "max_depth: 4 MAE: 6.051221235265758\n",
      "max_depth: 4 sMAPE: 9.131440278084927\n",
      "max_depth: 1 MAE: 6.018020370153294\n",
      "max_depth: 1 sMAPE: 8.994583191656364\n",
      "max_depth: 2 MAE: 5.88210529922568\n",
      "max_depth: 2 sMAPE: 8.757143475676582\n",
      "max_depth: 3 MAE: 5.7257556472213516\n",
      "max_depth: 3 sMAPE: 8.53212918015961\n",
      "max_depth: 4 MAE: 5.559156484884103\n",
      "max_depth: 4 sMAPE: 8.296222939830994\n"
     ]
    }
   ],
   "source": [
    "# Кросс-валидация Случайный лес\n",
    "mae_score=[]\n",
    "smape_score=[]\n",
    "for i in range(0,len(target),sample_size):\n",
    "    \n",
    "    valid_index=feature.iloc[i:i+sample_size].index\n",
    "    \n",
    "    train_index=feature.query('index not in @valid_index').index\n",
    "    \n",
    "    target_valid=target.iloc[valid_index]\n",
    "    feature_valid=feature.iloc[valid_index]\n",
    "    \n",
    "    target_train=target.iloc[train_index]\n",
    "    feature_train=feature.iloc[train_index]\n",
    "    \n",
    "    target_valid_arr=np.array(target_valid)\n",
    "    for i in range(1,5,1):\n",
    "        \n",
    "        model_forest=RandomForestRegressor(random_state=1234,max_depth=i,n_estimators=10).\\\n",
    "        fit(feature_train,target_train)\n",
    "        prediction_forest=model_forest.predict(feature_valid)\n",
    "        mae=mean_absolute_error(prediction_forest,target_valid)\n",
    "        mae_score.append(mae)\n",
    "        smape=sMAPE(prediction_forest,target_valid_arr)\n",
    "        smape_score.append(smape)\n",
    "        \n",
    "        print('max_depth:',i,'MAE:',np.mean(mae_score))\n",
    "        print('max_depth:',i,'sMAPE:',np.mean(smape_score))"
   ]
  },
  {
   "cell_type": "code",
   "execution_count": 60,
   "metadata": {},
   "outputs": [
    {
     "name": "stdout",
     "output_type": "stream",
     "text": [
      "MAE: 5.437459009876162\n",
      "sMAPE: 8.199105694528951\n"
     ]
    }
   ],
   "source": [
    " # берем значение max_depth=3 и n_estimators=5\n",
    "mae_score=[]\n",
    "smape_score=[]\n",
    "for i in range(0,len(target),sample_size):\n",
    "    \n",
    "    valid_index=feature.iloc[i:i+sample_size].index\n",
    "    \n",
    "    train_index=feature.query('index not in @valid_index').index\n",
    "    \n",
    "    target_valid=target.iloc[valid_index]\n",
    "    feature_valid=feature.iloc[valid_index]\n",
    "    \n",
    "    target_train=target.iloc[train_index]\n",
    "    feature_train=feature.iloc[train_index]\n",
    "    \n",
    "    target_valid_arr=np.array(target_valid)\n",
    "    \n",
    "        \n",
    "    model_forest=RandomForestRegressor(random_state=1234,max_depth=3,n_estimators=5).fit(feature_train,target_train)\n",
    "    prediction_forest=model_forest.predict(feature_valid)\n",
    "    mae=mean_absolute_error(prediction_forest,target_valid)\n",
    "    mae_score.append(mae)\n",
    "    smape=sMAPE(prediction_forest,target_valid_arr)\n",
    "    smape_score.append(smape)\n",
    "        \n",
    "print('MAE:',np.mean(mae_score))\n",
    "print('sMAPE:',np.mean(smape_score))"
   ]
  },
  {
   "cell_type": "code",
   "execution_count": 61,
   "metadata": {
    "scrolled": true
   },
   "outputs": [
    {
     "name": "stdout",
     "output_type": "stream",
     "text": [
      "9.712780831674307\n"
     ]
    }
   ],
   "source": [
    "# Кросс-валидация для LinearSVR\n",
    "mae_score=[]\n",
    "smape_score=[]\n",
    "for i in range(0,len(target),sample_size):\n",
    "    valid_index=feature.iloc[i:i+sample_size].index\n",
    "    \n",
    "    train_index=feature.query('index not in @valid_index').index\n",
    "    \n",
    "    target_valid=target.iloc[valid_index]\n",
    "    feature_valid=feature.iloc[valid_index]\n",
    "    \n",
    "    target_train=target.iloc[train_index]\n",
    "    feature_train=feature.iloc[train_index]\n",
    "    \n",
    "    target_valid_arr=np.array(target_valid)\n",
    "    \n",
    "    target_train_1=target_train.iloc[:,0]\n",
    "    target_train_2=target_train.iloc[:,1]\n",
    "    \n",
    "    \n",
    "    \n",
    "    \n",
    "    model_regressionSVR_1=LinearSVR(C=1.0, dual=True, epsilon=0.0, fit_intercept=True,\n",
    "    intercept_scaling=1.0, loss='epsilon_insensitive', max_iter=1000,\n",
    "    random_state=0, tol=1e-05, verbose=0).fit(feature_train,target_train_1)\n",
    "    prediction_regressSVR_rouger=model_regressionSVR_1.predict(feature_valid)   \n",
    "    \n",
    "    model_regressionSVR_2=LinearSVR(C=1.0, dual=True, epsilon=0.0, fit_intercept=True,\n",
    "    intercept_scaling=1.0, loss='epsilon_insensitive', max_iter=1000,\n",
    "    random_state=0, tol=1e-05, verbose=0).fit(feature_train,target_train_2)\n",
    "    prediction_regressSVR_final=model_regressionSVR_2.predict(feature_valid)   \n",
    "    \n",
    "    \n",
    "    \n",
    "    prediction_regressSVR=pd.DataFrame(prediction_regressSVR_rouger)\n",
    "    prediction_regressSVR['final.output.recovery']=pd.DataFrame(prediction_regressSVR_final)\n",
    "    prediction_regressSVR.set_axis(['rougher.output.recovery','final.output.recovery'],axis='columns',inplace=True)\n",
    "    prediction_regressSVR=np.array(prediction_regressSVR)\n",
    "    smape=sMAPE(prediction_regressSVR,target_valid_arr)\n",
    "    smape_score.append(smape)\n",
    "print(np.mean(smape_score))"
   ]
  },
  {
   "cell_type": "markdown",
   "metadata": {},
   "source": [
    "### Предсказания на тестовом наборе данных"
   ]
  },
  {
   "cell_type": "code",
   "execution_count": 62,
   "metadata": {},
   "outputs": [],
   "source": [
    "target=full[['date','rougher.output.recovery','final.output.recovery']]"
   ]
  },
  {
   "cell_type": "code",
   "execution_count": 63,
   "metadata": {},
   "outputs": [],
   "source": [
    "test=test.merge(target,on=['date'],how='left')"
   ]
  },
  {
   "cell_type": "code",
   "execution_count": 64,
   "metadata": {},
   "outputs": [],
   "source": [
    "test=test.dropna()"
   ]
  },
  {
   "cell_type": "code",
   "execution_count": 65,
   "metadata": {},
   "outputs": [],
   "source": [
    "target=test[['rougher.output.recovery','final.output.recovery']]"
   ]
  },
  {
   "cell_type": "code",
   "execution_count": 66,
   "metadata": {},
   "outputs": [],
   "source": [
    "feature=test.drop(['date','rougher.output.recovery','final.output.recovery'],axis=1)"
   ]
  },
  {
   "cell_type": "code",
   "execution_count": 67,
   "metadata": {},
   "outputs": [],
   "source": [
    "prediction_reg=model_regression.predict(feature)"
   ]
  },
  {
   "cell_type": "code",
   "execution_count": 68,
   "metadata": {},
   "outputs": [
    {
     "data": {
      "text/plain": [
       "7.465543276351503"
      ]
     },
     "execution_count": 68,
     "metadata": {},
     "output_type": "execute_result"
    }
   ],
   "source": [
    "smape_line=sMAPE(prediction_reg,np.array(target))\n",
    "smape_line"
   ]
  },
  {
   "cell_type": "code",
   "execution_count": 69,
   "metadata": {},
   "outputs": [],
   "source": [
    "prediction_forest=model_forest.predict(feature)"
   ]
  },
  {
   "cell_type": "code",
   "execution_count": 70,
   "metadata": {},
   "outputs": [
    {
     "data": {
      "text/plain": [
       "6.792155932368202"
      ]
     },
     "execution_count": 70,
     "metadata": {},
     "output_type": "execute_result"
    }
   ],
   "source": [
    "smape_forest=sMAPE(prediction_forest,np.array(target))\n",
    "smape_forest"
   ]
  },
  {
   "cell_type": "code",
   "execution_count": 71,
   "metadata": {},
   "outputs": [],
   "source": [
    "prediction_regressSVR_rouger=model_regressionSVR_1.predict(feature) \n",
    "prediction_regressSVR_final=model_regressionSVR_2.predict(feature) "
   ]
  },
  {
   "cell_type": "code",
   "execution_count": 72,
   "metadata": {},
   "outputs": [],
   "source": [
    "prediction_regressSVR=pd.DataFrame(prediction_regressSVR_rouger)\n",
    "prediction_regressSVR['final.output.recovery']=pd.DataFrame(prediction_regressSVR_final)\n",
    "prediction_regressSVR.set_axis(['rougher.output.recovery','final.output.recovery'],axis='columns',inplace=True)\n",
    "prediction_regressSVR=np.array(prediction_regressSVR)"
   ]
  },
  {
   "cell_type": "code",
   "execution_count": 73,
   "metadata": {},
   "outputs": [
    {
     "data": {
      "text/plain": [
       "8.056562686672144"
      ]
     },
     "execution_count": 73,
     "metadata": {},
     "output_type": "execute_result"
    }
   ],
   "source": [
    "smape_line_svr=sMAPE(prediction_regressSVR,np.array(target))\n",
    "smape_line_svr"
   ]
  },
  {
   "cell_type": "markdown",
   "metadata": {},
   "source": [
    "### Проверка адекватности на константной модели "
   ]
  },
  {
   "cell_type": "code",
   "execution_count": 74,
   "metadata": {},
   "outputs": [],
   "source": [
    "\n",
    "def smape (target, predictions):\n",
    "    return 100/len(target) * np.sum(2 * np.abs(predictions - target) / (np.abs(target) + np.abs(predictions)))\n",
    "def final_smape(rougher, final):\n",
    "    return 0.25 * rougher + 0.75 * final\n",
    "\n",
    "# Разделим датафреймы на features и target\n",
    "\n",
    "target_rougher_train = train['rougher.output.recovery']\n",
    "target_final_train = train['final.output.recovery']\n",
    "features_train = train.drop(['date', 'rougher.output.recovery', 'final.output.recovery'], axis=1)\n",
    "\n",
    "target_rougher_test = test['rougher.output.recovery']\n",
    "target_final_test = test['final.output.recovery']\n",
    "features_test = test.drop(['date', 'rougher.output.recovery', 'final.output.recovery'], axis=1)\n",
    "\n"
   ]
  },
  {
   "cell_type": "code",
   "execution_count": 75,
   "metadata": {},
   "outputs": [
    {
     "name": "stdout",
     "output_type": "stream",
     "text": [
      "Итоговое smape константной модели: 7.65014996260745\n"
     ]
    }
   ],
   "source": [
    "dummy = DummyRegressor(strategy = 'mean')\n",
    "dummy_1 = DummyRegressor(strategy = 'mean')\n",
    "\n",
    "dummy_rougher = dummy.fit(features_train,target_rougher_train)\n",
    "dummy_predictions_rougher = dummy_rougher.predict(features_test)\n",
    "\n",
    "dummy_final = dummy_1.fit(features_train,target_final_train)\n",
    "dummy_predictions_final = dummy_final.predict(features_test)\n",
    "\n",
    "smape_rougher_dummy = smape(target_rougher_test, dummy_predictions_rougher)\n",
    "smape_final_dummy = smape(target_final_test, dummy_predictions_final)\n",
    "total_smape = final_smape(smape_rougher_dummy, smape_final_dummy)\n",
    "\n",
    "print('Итоговое smape константной модели:',total_smape)"
   ]
  },
  {
   "cell_type": "markdown",
   "metadata": {},
   "source": [
    "### Вывод "
   ]
  },
  {
   "cell_type": "code",
   "execution_count": 76,
   "metadata": {},
   "outputs": [],
   "source": [
    "models=['LinearRegression','RandomForestRegressor','LinearSVR','DummyRegressor']"
   ]
  },
  {
   "cell_type": "code",
   "execution_count": 77,
   "metadata": {},
   "outputs": [
    {
     "data": {
      "text/html": [
       "<div>\n",
       "<style scoped>\n",
       "    .dataframe tbody tr th:only-of-type {\n",
       "        vertical-align: middle;\n",
       "    }\n",
       "\n",
       "    .dataframe tbody tr th {\n",
       "        vertical-align: top;\n",
       "    }\n",
       "\n",
       "    .dataframe thead th {\n",
       "        text-align: right;\n",
       "    }\n",
       "</style>\n",
       "<table border=\"1\" class=\"dataframe\">\n",
       "  <thead>\n",
       "    <tr style=\"text-align: right;\">\n",
       "      <th></th>\n",
       "      <th>sMAPE</th>\n",
       "    </tr>\n",
       "  </thead>\n",
       "  <tbody>\n",
       "    <tr>\n",
       "      <th>LinearRegression</th>\n",
       "      <td>7.465543</td>\n",
       "    </tr>\n",
       "    <tr>\n",
       "      <th>RandomForestRegressor</th>\n",
       "      <td>6.792156</td>\n",
       "    </tr>\n",
       "    <tr>\n",
       "      <th>LinearSVR</th>\n",
       "      <td>8.056563</td>\n",
       "    </tr>\n",
       "    <tr>\n",
       "      <th>DummyRegressor</th>\n",
       "      <td>7.650150</td>\n",
       "    </tr>\n",
       "  </tbody>\n",
       "</table>\n",
       "</div>"
      ],
      "text/plain": [
       "                          sMAPE\n",
       "LinearRegression       7.465543\n",
       "RandomForestRegressor  6.792156\n",
       "LinearSVR              8.056563\n",
       "DummyRegressor         7.650150"
      ]
     },
     "execution_count": 77,
     "metadata": {},
     "output_type": "execute_result"
    }
   ],
   "source": [
    "smape_rezult=pd.DataFrame(np.array([smape_line,smape_forest,smape_line_svr,total_smape]),index=models)\n",
    "smape_rezult.set_axis(['sMAPE'],axis='columns',inplace=True)\n",
    "smape_rezult"
   ]
  },
  {
   "cell_type": "markdown",
   "metadata": {},
   "source": [
    "В сравнении с константной моделью, после обучения на тестовой выборке лучше всего себя показала модель Случайного леса, с финальным sMAPE=6.792156 Значение smape меньше, чем у константной модели - проверка на адекватность пройдена. Возможно если удалить аномалии из test то smape будут лучше, но не думаю, что их надо удалять, т.к получается, что мы специально подгоняем тестовую выборку для хорошего результата."
   ]
  }
 ],
 "metadata": {
  "ExecuteTimeLog": [
   {
    "duration": 1634,
    "start_time": "2022-04-06T05:14:46.462Z"
   },
   {
    "duration": 718,
    "start_time": "2022-04-06T05:14:48.098Z"
   },
   {
    "duration": 14,
    "start_time": "2022-04-06T05:15:03.015Z"
   },
   {
    "duration": 18,
    "start_time": "2022-04-06T05:15:07.209Z"
   },
   {
    "duration": 22,
    "start_time": "2022-04-06T05:15:11.639Z"
   },
   {
    "duration": 701,
    "start_time": "2022-04-06T05:19:25.802Z"
   },
   {
    "duration": 13,
    "start_time": "2022-04-06T05:19:36.345Z"
   },
   {
    "duration": 19,
    "start_time": "2022-04-06T05:19:48.000Z"
   },
   {
    "duration": 19,
    "start_time": "2022-04-06T05:20:01.647Z"
   },
   {
    "duration": 49,
    "start_time": "2022-04-06T06:07:23.194Z"
   },
   {
    "duration": 3,
    "start_time": "2022-04-06T06:08:04.099Z"
   },
   {
    "duration": 5,
    "start_time": "2022-04-06T06:08:18.122Z"
   },
   {
    "duration": 6,
    "start_time": "2022-04-06T06:08:31.135Z"
   },
   {
    "duration": 148,
    "start_time": "2022-04-06T06:17:07.067Z"
   },
   {
    "duration": 139,
    "start_time": "2022-04-06T06:17:45.968Z"
   },
   {
    "duration": 6,
    "start_time": "2022-04-06T06:19:39.100Z"
   },
   {
    "duration": 130,
    "start_time": "2022-04-06T06:22:01.577Z"
   },
   {
    "duration": 185,
    "start_time": "2022-04-06T06:23:35.209Z"
   },
   {
    "duration": 155,
    "start_time": "2022-04-06T06:24:45.584Z"
   },
   {
    "duration": 95,
    "start_time": "2022-04-06T06:24:57.377Z"
   },
   {
    "duration": 22,
    "start_time": "2022-04-06T06:37:24.022Z"
   },
   {
    "duration": 20,
    "start_time": "2022-04-06T06:37:33.568Z"
   },
   {
    "duration": 3,
    "start_time": "2022-04-06T06:45:36.712Z"
   },
   {
    "duration": 739,
    "start_time": "2022-04-06T06:45:37.312Z"
   },
   {
    "duration": 10,
    "start_time": "2022-04-06T06:45:38.053Z"
   },
   {
    "duration": 16,
    "start_time": "2022-04-06T06:45:38.640Z"
   },
   {
    "duration": 18,
    "start_time": "2022-04-06T06:45:39.340Z"
   },
   {
    "duration": 5,
    "start_time": "2022-04-06T06:45:45.128Z"
   },
   {
    "duration": 6,
    "start_time": "2022-04-06T06:45:49.937Z"
   },
   {
    "duration": 5,
    "start_time": "2022-04-06T06:45:51.089Z"
   },
   {
    "duration": 8,
    "start_time": "2022-04-06T06:45:53.647Z"
   },
   {
    "duration": 5,
    "start_time": "2022-04-06T06:46:57.492Z"
   },
   {
    "duration": 206,
    "start_time": "2022-04-06T06:52:16.482Z"
   },
   {
    "duration": 5,
    "start_time": "2022-04-06T06:52:31.545Z"
   },
   {
    "duration": 23,
    "start_time": "2022-04-06T06:54:17.679Z"
   },
   {
    "duration": 32,
    "start_time": "2022-04-06T06:54:27.645Z"
   },
   {
    "duration": 23,
    "start_time": "2022-04-06T06:54:53.900Z"
   },
   {
    "duration": 10,
    "start_time": "2022-04-06T07:03:06.582Z"
   },
   {
    "duration": 2,
    "start_time": "2022-04-06T07:03:29.247Z"
   },
   {
    "duration": 5,
    "start_time": "2022-04-06T07:03:51.725Z"
   },
   {
    "duration": 5,
    "start_time": "2022-04-06T07:03:52.485Z"
   },
   {
    "duration": 134,
    "start_time": "2022-04-06T07:06:41.462Z"
   },
   {
    "duration": 4,
    "start_time": "2022-04-06T07:06:52.950Z"
   },
   {
    "duration": 4,
    "start_time": "2022-04-06T07:07:52.169Z"
   },
   {
    "duration": 3,
    "start_time": "2022-04-06T07:09:42.056Z"
   },
   {
    "duration": 3,
    "start_time": "2022-04-06T07:13:24.403Z"
   },
   {
    "duration": 2,
    "start_time": "2022-04-06T07:13:40.266Z"
   },
   {
    "duration": 3,
    "start_time": "2022-04-06T07:14:03.636Z"
   },
   {
    "duration": 5,
    "start_time": "2022-04-06T07:14:24.882Z"
   },
   {
    "duration": 19,
    "start_time": "2022-04-06T07:21:15.200Z"
   },
   {
    "duration": 21,
    "start_time": "2022-04-06T07:24:31.208Z"
   },
   {
    "duration": 18,
    "start_time": "2022-04-06T07:24:37.233Z"
   },
   {
    "duration": 11,
    "start_time": "2022-04-06T07:25:11.478Z"
   },
   {
    "duration": 7,
    "start_time": "2022-04-06T07:36:42.173Z"
   },
   {
    "duration": 12,
    "start_time": "2022-04-06T07:36:42.698Z"
   },
   {
    "duration": 50,
    "start_time": "2022-04-06T07:37:27.659Z"
   },
   {
    "duration": 646,
    "start_time": "2022-04-06T07:37:28.187Z"
   },
   {
    "duration": 16,
    "start_time": "2022-04-06T07:37:28.835Z"
   },
   {
    "duration": 18,
    "start_time": "2022-04-06T07:37:29.241Z"
   },
   {
    "duration": 18,
    "start_time": "2022-04-06T07:37:29.643Z"
   },
   {
    "duration": 9,
    "start_time": "2022-04-06T07:37:32.470Z"
   },
   {
    "duration": 3,
    "start_time": "2022-04-06T07:37:33.116Z"
   },
   {
    "duration": 4,
    "start_time": "2022-04-06T07:37:34.431Z"
   },
   {
    "duration": 5,
    "start_time": "2022-04-06T07:37:35.370Z"
   },
   {
    "duration": 5,
    "start_time": "2022-04-06T07:37:36.229Z"
   },
   {
    "duration": 2,
    "start_time": "2022-04-06T07:37:39.670Z"
   },
   {
    "duration": 2,
    "start_time": "2022-04-06T07:37:40.859Z"
   },
   {
    "duration": 2,
    "start_time": "2022-04-06T07:37:48.374Z"
   },
   {
    "duration": 6,
    "start_time": "2022-04-06T07:37:51.028Z"
   },
   {
    "duration": 18,
    "start_time": "2022-04-06T07:37:58.884Z"
   },
   {
    "duration": 16,
    "start_time": "2022-04-06T07:38:00.046Z"
   },
   {
    "duration": 11,
    "start_time": "2022-04-06T07:38:02.844Z"
   },
   {
    "duration": 7,
    "start_time": "2022-04-06T07:38:10.147Z"
   },
   {
    "duration": 185,
    "start_time": "2022-04-06T07:38:11.316Z"
   },
   {
    "duration": 16,
    "start_time": "2022-04-06T07:40:37.136Z"
   },
   {
    "duration": 7,
    "start_time": "2022-04-06T07:41:01.050Z"
   },
   {
    "duration": 244,
    "start_time": "2022-04-06T07:41:01.606Z"
   },
   {
    "duration": 1687,
    "start_time": "2022-04-06T07:45:36.409Z"
   },
   {
    "duration": 1696,
    "start_time": "2022-04-06T07:46:54.033Z"
   },
   {
    "duration": 1442,
    "start_time": "2022-04-06T07:58:18.344Z"
   },
   {
    "duration": 1350,
    "start_time": "2022-04-06T07:59:17.518Z"
   },
   {
    "duration": 4,
    "start_time": "2022-04-06T08:04:24.788Z"
   },
   {
    "duration": 9,
    "start_time": "2022-04-06T08:05:00.742Z"
   },
   {
    "duration": 4,
    "start_time": "2022-04-06T08:05:17.210Z"
   },
   {
    "duration": 9,
    "start_time": "2022-04-06T08:05:19.822Z"
   },
   {
    "duration": 2275,
    "start_time": "2022-04-07T03:53:41.283Z"
   },
   {
    "duration": 953,
    "start_time": "2022-04-07T03:53:43.561Z"
   },
   {
    "duration": 21,
    "start_time": "2022-04-07T03:53:46.838Z"
   },
   {
    "duration": 29,
    "start_time": "2022-04-07T03:53:49.106Z"
   },
   {
    "duration": 37,
    "start_time": "2022-04-07T03:54:21.239Z"
   },
   {
    "duration": 21,
    "start_time": "2022-04-07T03:54:35.915Z"
   },
   {
    "duration": 5,
    "start_time": "2022-04-07T03:55:02.963Z"
   },
   {
    "duration": 6,
    "start_time": "2022-04-07T03:55:05.123Z"
   },
   {
    "duration": 8,
    "start_time": "2022-04-07T03:55:07.153Z"
   },
   {
    "duration": 6,
    "start_time": "2022-04-07T03:55:08.255Z"
   },
   {
    "duration": 4,
    "start_time": "2022-04-07T04:01:38.935Z"
   },
   {
    "duration": 4,
    "start_time": "2022-04-07T04:01:46.585Z"
   },
   {
    "duration": 4,
    "start_time": "2022-04-07T04:01:49.362Z"
   },
   {
    "duration": 9,
    "start_time": "2022-04-07T04:01:53.560Z"
   },
   {
    "duration": 33,
    "start_time": "2022-04-07T04:02:10.416Z"
   },
   {
    "duration": 26,
    "start_time": "2022-04-07T04:03:08.414Z"
   },
   {
    "duration": 20,
    "start_time": "2022-04-07T04:03:11.040Z"
   },
   {
    "duration": 12,
    "start_time": "2022-04-07T04:03:17.104Z"
   },
   {
    "duration": 382,
    "start_time": "2022-04-07T04:03:18.478Z"
   },
   {
    "duration": 13,
    "start_time": "2022-04-07T04:03:23.103Z"
   },
   {
    "duration": 384,
    "start_time": "2022-04-07T04:03:25.590Z"
   },
   {
    "duration": 3430,
    "start_time": "2022-04-07T04:03:58.458Z"
   },
   {
    "duration": 1916,
    "start_time": "2022-04-07T04:05:07.009Z"
   },
   {
    "duration": 172,
    "start_time": "2022-04-07T04:45:27.334Z"
   },
   {
    "duration": 6,
    "start_time": "2022-04-07T04:46:42.647Z"
   },
   {
    "duration": 6,
    "start_time": "2022-04-07T04:46:43.391Z"
   },
   {
    "duration": 6,
    "start_time": "2022-04-07T04:46:44.184Z"
   },
   {
    "duration": 5,
    "start_time": "2022-04-07T04:46:45.161Z"
   },
   {
    "duration": 416,
    "start_time": "2022-04-07T04:46:47.640Z"
   },
   {
    "duration": 13,
    "start_time": "2022-04-07T04:47:17.064Z"
   },
   {
    "duration": 6,
    "start_time": "2022-04-07T04:47:58.135Z"
   },
   {
    "duration": 6,
    "start_time": "2022-04-07T04:47:58.807Z"
   },
   {
    "duration": 5,
    "start_time": "2022-04-07T04:47:59.495Z"
   },
   {
    "duration": 413,
    "start_time": "2022-04-07T04:48:00.200Z"
   },
   {
    "duration": 422,
    "start_time": "2022-04-07T04:48:05.318Z"
   },
   {
    "duration": 5,
    "start_time": "2022-04-07T04:48:30.698Z"
   },
   {
    "duration": 636,
    "start_time": "2022-04-07T04:48:31.448Z"
   },
   {
    "duration": 5,
    "start_time": "2022-04-07T04:48:44.200Z"
   },
   {
    "duration": 418,
    "start_time": "2022-04-07T04:48:44.786Z"
   },
   {
    "duration": 409,
    "start_time": "2022-04-07T04:48:55.936Z"
   },
   {
    "duration": 5,
    "start_time": "2022-04-07T04:49:18.977Z"
   },
   {
    "duration": 406,
    "start_time": "2022-04-07T04:49:19.745Z"
   },
   {
    "duration": 5,
    "start_time": "2022-04-07T04:49:43.536Z"
   },
   {
    "duration": 295,
    "start_time": "2022-04-07T04:49:44.201Z"
   },
   {
    "duration": 5,
    "start_time": "2022-04-07T04:49:51.111Z"
   },
   {
    "duration": 5,
    "start_time": "2022-04-07T04:50:04.345Z"
   },
   {
    "duration": 409,
    "start_time": "2022-04-07T04:50:08.099Z"
   },
   {
    "duration": 5,
    "start_time": "2022-04-07T04:50:16.433Z"
   },
   {
    "duration": 415,
    "start_time": "2022-04-07T04:50:17.368Z"
   },
   {
    "duration": 6,
    "start_time": "2022-04-07T04:50:24.352Z"
   },
   {
    "duration": 299,
    "start_time": "2022-04-07T04:50:26.072Z"
   },
   {
    "duration": 5,
    "start_time": "2022-04-07T04:50:36.775Z"
   },
   {
    "duration": 399,
    "start_time": "2022-04-07T04:50:39.044Z"
   },
   {
    "duration": 440,
    "start_time": "2022-04-07T04:51:01.569Z"
   },
   {
    "duration": 1051,
    "start_time": "2022-04-07T04:53:30.223Z"
   },
   {
    "duration": 5,
    "start_time": "2022-04-07T04:56:48.148Z"
   },
   {
    "duration": 775,
    "start_time": "2022-04-07T04:57:07.443Z"
   },
   {
    "duration": 3312,
    "start_time": "2022-04-07T04:58:06.961Z"
   },
   {
    "duration": 3495,
    "start_time": "2022-04-07T04:59:06.014Z"
   },
   {
    "duration": 912,
    "start_time": "2022-04-07T06:48:54.568Z"
   },
   {
    "duration": 6,
    "start_time": "2022-04-07T06:55:23.513Z"
   },
   {
    "duration": 6,
    "start_time": "2022-04-07T06:56:41.337Z"
   },
   {
    "duration": 7,
    "start_time": "2022-04-07T06:58:30.047Z"
   },
   {
    "duration": 3,
    "start_time": "2022-04-07T06:59:11.035Z"
   },
   {
    "duration": 6,
    "start_time": "2022-04-07T06:59:11.639Z"
   },
   {
    "duration": 8,
    "start_time": "2022-04-07T07:00:35.835Z"
   },
   {
    "duration": 6,
    "start_time": "2022-04-07T07:09:35.334Z"
   },
   {
    "duration": 261,
    "start_time": "2022-04-07T07:10:10.765Z"
   },
   {
    "duration": 14,
    "start_time": "2022-04-07T07:11:01.235Z"
   },
   {
    "duration": 5,
    "start_time": "2022-04-07T07:11:17.597Z"
   },
   {
    "duration": 297,
    "start_time": "2022-04-07T07:11:40.259Z"
   },
   {
    "duration": 5,
    "start_time": "2022-04-07T07:12:35.555Z"
   },
   {
    "duration": 297,
    "start_time": "2022-04-07T07:13:00.972Z"
   },
   {
    "duration": 13,
    "start_time": "2022-04-07T07:19:52.960Z"
   },
   {
    "duration": 6,
    "start_time": "2022-04-07T07:22:21.303Z"
   },
   {
    "duration": 26,
    "start_time": "2022-04-07T07:24:22.303Z"
   },
   {
    "duration": 4,
    "start_time": "2022-04-07T07:26:18.039Z"
   },
   {
    "duration": 16,
    "start_time": "2022-04-07T07:26:18.581Z"
   },
   {
    "duration": 2832,
    "start_time": "2022-04-07T07:26:19.556Z"
   },
   {
    "duration": 6,
    "start_time": "2022-04-07T07:28:12.250Z"
   },
   {
    "duration": 4,
    "start_time": "2022-04-07T07:29:00.081Z"
   },
   {
    "duration": 27,
    "start_time": "2022-04-07T07:29:28.071Z"
   },
   {
    "duration": 7,
    "start_time": "2022-04-07T07:29:38.534Z"
   },
   {
    "duration": 3,
    "start_time": "2022-04-07T07:29:39.194Z"
   },
   {
    "duration": 24,
    "start_time": "2022-04-07T07:29:40.627Z"
   },
   {
    "duration": 7,
    "start_time": "2022-04-07T07:30:15.740Z"
   },
   {
    "duration": 12,
    "start_time": "2022-04-07T07:30:35.642Z"
   },
   {
    "duration": 5,
    "start_time": "2022-04-07T07:31:26.707Z"
   },
   {
    "duration": 923,
    "start_time": "2022-04-07T07:31:28.466Z"
   },
   {
    "duration": 21,
    "start_time": "2022-04-07T07:31:29.392Z"
   },
   {
    "duration": 28,
    "start_time": "2022-04-07T07:31:29.747Z"
   },
   {
    "duration": 32,
    "start_time": "2022-04-07T07:31:30.534Z"
   },
   {
    "duration": 14,
    "start_time": "2022-04-07T07:31:34.857Z"
   },
   {
    "duration": 4,
    "start_time": "2022-04-07T07:31:36.066Z"
   },
   {
    "duration": 6,
    "start_time": "2022-04-07T07:31:43.936Z"
   },
   {
    "duration": 7,
    "start_time": "2022-04-07T07:31:46.070Z"
   },
   {
    "duration": 7,
    "start_time": "2022-04-07T07:31:47.819Z"
   },
   {
    "duration": 4,
    "start_time": "2022-04-07T07:31:54.981Z"
   },
   {
    "duration": 4,
    "start_time": "2022-04-07T07:31:56.302Z"
   },
   {
    "duration": 4,
    "start_time": "2022-04-07T07:32:00.311Z"
   },
   {
    "duration": 9,
    "start_time": "2022-04-07T07:32:02.035Z"
   },
   {
    "duration": 34,
    "start_time": "2022-04-07T07:32:12.788Z"
   },
   {
    "duration": 27,
    "start_time": "2022-04-07T07:32:15.251Z"
   },
   {
    "duration": 19,
    "start_time": "2022-04-07T07:32:24.795Z"
   },
   {
    "duration": 12,
    "start_time": "2022-04-07T07:32:31.620Z"
   },
   {
    "duration": 361,
    "start_time": "2022-04-07T07:32:33.149Z"
   },
   {
    "duration": 11,
    "start_time": "2022-04-07T07:32:35.651Z"
   },
   {
    "duration": 372,
    "start_time": "2022-04-07T07:32:36.922Z"
   },
   {
    "duration": 3503,
    "start_time": "2022-04-07T07:32:40.812Z"
   },
   {
    "duration": 1923,
    "start_time": "2022-04-07T07:32:52.950Z"
   },
   {
    "duration": 6,
    "start_time": "2022-04-07T07:33:07.012Z"
   },
   {
    "duration": 6,
    "start_time": "2022-04-07T07:33:07.906Z"
   },
   {
    "duration": 5,
    "start_time": "2022-04-07T07:33:10.165Z"
   },
   {
    "duration": 5,
    "start_time": "2022-04-07T07:33:11.036Z"
   },
   {
    "duration": 416,
    "start_time": "2022-04-07T07:33:11.934Z"
   },
   {
    "duration": 417,
    "start_time": "2022-04-07T07:33:13.641Z"
   },
   {
    "duration": 437,
    "start_time": "2022-04-07T07:33:15.405Z"
   },
   {
    "duration": 6,
    "start_time": "2022-04-07T07:33:19.411Z"
   },
   {
    "duration": 766,
    "start_time": "2022-04-07T07:33:21.451Z"
   },
   {
    "duration": 993,
    "start_time": "2022-04-07T07:33:23.886Z"
   },
   {
    "duration": 6,
    "start_time": "2022-04-07T07:33:38.362Z"
   },
   {
    "duration": 378,
    "start_time": "2022-04-07T07:33:39.426Z"
   },
   {
    "duration": 7,
    "start_time": "2022-04-07T07:33:41.925Z"
   },
   {
    "duration": 284,
    "start_time": "2022-04-07T07:33:43.187Z"
   },
   {
    "duration": 6,
    "start_time": "2022-04-07T07:33:44.870Z"
   },
   {
    "duration": 403,
    "start_time": "2022-04-07T07:33:46.077Z"
   },
   {
    "duration": 7,
    "start_time": "2022-04-07T07:33:52.843Z"
   },
   {
    "duration": 3,
    "start_time": "2022-04-07T07:33:53.983Z"
   },
   {
    "duration": 9,
    "start_time": "2022-04-07T07:33:55.220Z"
   },
   {
    "duration": 4,
    "start_time": "2022-04-07T07:33:56.875Z"
   },
   {
    "duration": 3,
    "start_time": "2022-04-07T07:34:42.861Z"
   },
   {
    "duration": 42,
    "start_time": "2022-04-07T07:35:16.215Z"
   },
   {
    "duration": 1872,
    "start_time": "2022-04-07T07:44:06.299Z"
   },
   {
    "duration": 5,
    "start_time": "2022-04-07T07:48:00.506Z"
   },
   {
    "duration": 4,
    "start_time": "2022-04-07T07:48:42.109Z"
   },
   {
    "duration": 9,
    "start_time": "2022-04-07T07:49:26.763Z"
   },
   {
    "duration": 18,
    "start_time": "2022-04-07T07:50:02.192Z"
   },
   {
    "duration": 7,
    "start_time": "2022-04-07T07:50:50.619Z"
   },
   {
    "duration": 35,
    "start_time": "2022-04-07T07:51:08.372Z"
   },
   {
    "duration": 3538,
    "start_time": "2022-04-07T07:56:34.956Z"
   },
   {
    "duration": 1360,
    "start_time": "2022-04-07T07:57:02.134Z"
   },
   {
    "duration": 14,
    "start_time": "2022-04-07T07:58:13.981Z"
   },
   {
    "duration": 32,
    "start_time": "2022-04-07T07:58:55.037Z"
   },
   {
    "duration": 6199,
    "start_time": "2022-04-07T07:59:03.276Z"
   },
   {
    "duration": 30454,
    "start_time": "2022-04-07T07:59:55.424Z"
   },
   {
    "duration": 1898,
    "start_time": "2022-04-07T08:01:57.368Z"
   },
   {
    "duration": 13,
    "start_time": "2022-04-07T08:02:13.949Z"
   },
   {
    "duration": 2808,
    "start_time": "2022-04-07T08:02:30.329Z"
   },
   {
    "duration": 8,
    "start_time": "2022-04-07T08:03:21.015Z"
   },
   {
    "duration": 1114,
    "start_time": "2022-04-07T08:03:21.811Z"
   },
   {
    "duration": 20,
    "start_time": "2022-04-07T08:03:22.928Z"
   },
   {
    "duration": 29,
    "start_time": "2022-04-07T08:03:23.058Z"
   },
   {
    "duration": 32,
    "start_time": "2022-04-07T08:03:24.153Z"
   },
   {
    "duration": 13,
    "start_time": "2022-04-07T08:03:26.398Z"
   },
   {
    "duration": 5,
    "start_time": "2022-04-07T08:03:26.920Z"
   },
   {
    "duration": 5,
    "start_time": "2022-04-07T08:03:27.496Z"
   },
   {
    "duration": 9,
    "start_time": "2022-04-07T08:03:28.071Z"
   },
   {
    "duration": 5,
    "start_time": "2022-04-07T08:03:28.552Z"
   },
   {
    "duration": 4,
    "start_time": "2022-04-07T08:03:30.247Z"
   },
   {
    "duration": 4,
    "start_time": "2022-04-07T08:03:30.820Z"
   },
   {
    "duration": 4,
    "start_time": "2022-04-07T08:03:31.369Z"
   },
   {
    "duration": 12,
    "start_time": "2022-04-07T08:03:31.916Z"
   },
   {
    "duration": 34,
    "start_time": "2022-04-07T08:03:33.601Z"
   },
   {
    "duration": 25,
    "start_time": "2022-04-07T08:03:34.223Z"
   },
   {
    "duration": 28,
    "start_time": "2022-04-07T08:03:34.838Z"
   },
   {
    "duration": 12,
    "start_time": "2022-04-07T08:03:36.647Z"
   },
   {
    "duration": 361,
    "start_time": "2022-04-07T08:03:37.240Z"
   },
   {
    "duration": 12,
    "start_time": "2022-04-07T08:03:37.834Z"
   },
   {
    "duration": 375,
    "start_time": "2022-04-07T08:03:40.143Z"
   },
   {
    "duration": 4100,
    "start_time": "2022-04-07T08:03:42.793Z"
   },
   {
    "duration": 2003,
    "start_time": "2022-04-07T08:03:47.184Z"
   },
   {
    "duration": 7,
    "start_time": "2022-04-07T08:03:50.447Z"
   },
   {
    "duration": 6,
    "start_time": "2022-04-07T08:03:53.519Z"
   },
   {
    "duration": 6,
    "start_time": "2022-04-07T08:03:54.895Z"
   },
   {
    "duration": 6,
    "start_time": "2022-04-07T08:03:56.164Z"
   },
   {
    "duration": 421,
    "start_time": "2022-04-07T08:03:57.549Z"
   },
   {
    "duration": 420,
    "start_time": "2022-04-07T08:03:58.393Z"
   },
   {
    "duration": 439,
    "start_time": "2022-04-07T08:03:59.924Z"
   },
   {
    "duration": 6,
    "start_time": "2022-04-07T08:04:03.271Z"
   },
   {
    "duration": 1090,
    "start_time": "2022-04-07T08:04:04.819Z"
   },
   {
    "duration": 880,
    "start_time": "2022-04-07T08:04:05.912Z"
   },
   {
    "duration": 8,
    "start_time": "2022-04-07T08:04:09.057Z"
   },
   {
    "duration": 428,
    "start_time": "2022-04-07T08:04:09.841Z"
   },
   {
    "duration": 6,
    "start_time": "2022-04-07T08:04:11.156Z"
   },
   {
    "duration": 274,
    "start_time": "2022-04-07T08:04:11.274Z"
   },
   {
    "duration": 5,
    "start_time": "2022-04-07T08:04:12.606Z"
   },
   {
    "duration": 304,
    "start_time": "2022-04-07T08:04:13.384Z"
   },
   {
    "duration": 4,
    "start_time": "2022-04-07T08:04:18.167Z"
   },
   {
    "duration": 5,
    "start_time": "2022-04-07T08:04:23.886Z"
   },
   {
    "duration": 10,
    "start_time": "2022-04-07T08:04:24.587Z"
   },
   {
    "duration": 33,
    "start_time": "2022-04-07T08:04:26.824Z"
   },
   {
    "duration": 3512,
    "start_time": "2022-04-07T08:04:37.760Z"
   },
   {
    "duration": 1278,
    "start_time": "2022-04-07T08:05:29.106Z"
   },
   {
    "duration": 4322,
    "start_time": "2022-04-07T08:05:31.400Z"
   },
   {
    "duration": 22514,
    "start_time": "2022-04-07T08:05:39.543Z"
   },
   {
    "duration": 1933,
    "start_time": "2022-04-07T08:06:09.793Z"
   },
   {
    "duration": 5,
    "start_time": "2022-04-07T08:10:15.337Z"
   },
   {
    "duration": 4,
    "start_time": "2022-04-07T08:10:16.043Z"
   },
   {
    "duration": 13,
    "start_time": "2022-04-07T08:10:17.132Z"
   },
   {
    "duration": 4,
    "start_time": "2022-04-07T08:10:37.300Z"
   },
   {
    "duration": 4,
    "start_time": "2022-04-07T08:10:55.859Z"
   },
   {
    "duration": 11,
    "start_time": "2022-04-07T08:14:50.418Z"
   },
   {
    "duration": 5,
    "start_time": "2022-04-07T08:15:00.776Z"
   },
   {
    "duration": 3,
    "start_time": "2022-04-07T08:15:03.270Z"
   },
   {
    "duration": 19,
    "start_time": "2022-04-07T08:16:44.573Z"
   },
   {
    "duration": 1496,
    "start_time": "2022-04-07T08:17:20.999Z"
   },
   {
    "duration": 25,
    "start_time": "2022-04-07T08:19:54.607Z"
   },
   {
    "duration": 19,
    "start_time": "2022-04-07T08:35:28.797Z"
   },
   {
    "duration": 5,
    "start_time": "2022-04-07T08:37:34.157Z"
   },
   {
    "duration": 16,
    "start_time": "2022-04-07T08:37:57.298Z"
   },
   {
    "duration": 3520,
    "start_time": "2022-04-07T08:38:25.766Z"
   },
   {
    "duration": 12986,
    "start_time": "2022-04-07T08:39:25.653Z"
   },
   {
    "duration": 18,
    "start_time": "2022-04-07T08:41:57.871Z"
   },
   {
    "duration": 16,
    "start_time": "2022-04-07T08:43:27.039Z"
   },
   {
    "duration": 121003,
    "start_time": "2022-04-07T08:43:55.737Z"
   },
   {
    "duration": 14,
    "start_time": "2022-04-07T08:47:03.847Z"
   },
   {
    "duration": 26,
    "start_time": "2022-04-07T08:47:14.631Z"
   },
   {
    "duration": 6,
    "start_time": "2022-04-07T08:50:23.586Z"
   },
   {
    "duration": 4,
    "start_time": "2022-04-07T08:50:42.984Z"
   },
   {
    "duration": 24,
    "start_time": "2022-04-07T08:51:05.153Z"
   },
   {
    "duration": 8,
    "start_time": "2022-04-07T08:51:20.626Z"
   },
   {
    "duration": 4,
    "start_time": "2022-04-07T08:52:03.756Z"
   },
   {
    "duration": 4,
    "start_time": "2022-04-07T08:52:25.817Z"
   },
   {
    "duration": 42,
    "start_time": "2022-04-07T08:53:15.274Z"
   },
   {
    "duration": 2188,
    "start_time": "2022-04-08T05:12:12.644Z"
   },
   {
    "duration": 904,
    "start_time": "2022-04-08T05:12:14.835Z"
   },
   {
    "duration": 31,
    "start_time": "2022-04-08T05:12:15.741Z"
   },
   {
    "duration": 27,
    "start_time": "2022-04-08T05:12:15.775Z"
   },
   {
    "duration": 36,
    "start_time": "2022-04-08T05:12:15.804Z"
   },
   {
    "duration": 21,
    "start_time": "2022-04-08T05:12:19.551Z"
   },
   {
    "duration": 5,
    "start_time": "2022-04-08T05:12:20.150Z"
   },
   {
    "duration": 7,
    "start_time": "2022-04-08T05:12:20.750Z"
   },
   {
    "duration": 8,
    "start_time": "2022-04-08T05:12:21.518Z"
   },
   {
    "duration": 6,
    "start_time": "2022-04-08T05:12:23.178Z"
   },
   {
    "duration": 4,
    "start_time": "2022-04-08T05:12:30.241Z"
   },
   {
    "duration": 4,
    "start_time": "2022-04-08T05:12:32.368Z"
   },
   {
    "duration": 4,
    "start_time": "2022-04-08T05:12:33.054Z"
   },
   {
    "duration": 9,
    "start_time": "2022-04-08T05:12:52.259Z"
   },
   {
    "duration": 30,
    "start_time": "2022-04-08T05:12:57.626Z"
   },
   {
    "duration": 25,
    "start_time": "2022-04-08T05:13:13.455Z"
   },
   {
    "duration": 19,
    "start_time": "2022-04-08T05:13:14.594Z"
   },
   {
    "duration": 13,
    "start_time": "2022-04-08T05:13:24.961Z"
   },
   {
    "duration": 341,
    "start_time": "2022-04-08T05:13:26.001Z"
   },
   {
    "duration": 11,
    "start_time": "2022-04-08T05:13:34.849Z"
   },
   {
    "duration": 358,
    "start_time": "2022-04-08T05:13:36.498Z"
   },
   {
    "duration": 3130,
    "start_time": "2022-04-08T05:13:41.025Z"
   },
   {
    "duration": 1872,
    "start_time": "2022-04-08T05:13:55.664Z"
   },
   {
    "duration": 5,
    "start_time": "2022-04-08T05:14:04.102Z"
   },
   {
    "duration": 5,
    "start_time": "2022-04-08T05:14:06.162Z"
   },
   {
    "duration": 7,
    "start_time": "2022-04-08T05:14:07.487Z"
   },
   {
    "duration": 6,
    "start_time": "2022-04-08T05:14:08.891Z"
   },
   {
    "duration": 392,
    "start_time": "2022-04-08T05:14:09.791Z"
   },
   {
    "duration": 378,
    "start_time": "2022-04-08T05:14:12.633Z"
   },
   {
    "duration": 391,
    "start_time": "2022-04-08T05:14:15.305Z"
   },
   {
    "duration": 6,
    "start_time": "2022-04-08T05:14:23.293Z"
   },
   {
    "duration": 914,
    "start_time": "2022-04-08T05:14:42.135Z"
   },
   {
    "duration": 803,
    "start_time": "2022-04-08T05:14:55.768Z"
   },
   {
    "duration": 6,
    "start_time": "2022-04-08T05:15:06.993Z"
   },
   {
    "duration": 229,
    "start_time": "2022-04-08T05:15:08.662Z"
   },
   {
    "duration": 6,
    "start_time": "2022-04-08T05:15:09.951Z"
   },
   {
    "duration": 260,
    "start_time": "2022-04-08T05:15:10.941Z"
   },
   {
    "duration": 5,
    "start_time": "2022-04-08T05:15:11.943Z"
   },
   {
    "duration": 267,
    "start_time": "2022-04-08T05:15:22.788Z"
   },
   {
    "duration": 6,
    "start_time": "2022-04-08T05:15:39.089Z"
   },
   {
    "duration": 3,
    "start_time": "2022-04-08T05:15:40.935Z"
   },
   {
    "duration": 9,
    "start_time": "2022-04-08T05:15:42.543Z"
   },
   {
    "duration": 4,
    "start_time": "2022-04-08T05:15:43.369Z"
   },
   {
    "duration": 5,
    "start_time": "2022-04-08T05:15:46.445Z"
   },
   {
    "duration": 185,
    "start_time": "2022-04-08T05:15:57.413Z"
   },
   {
    "duration": 6,
    "start_time": "2022-04-08T05:34:44.603Z"
   },
   {
    "duration": 4,
    "start_time": "2022-04-08T05:34:50.877Z"
   },
   {
    "duration": 13,
    "start_time": "2022-04-08T05:35:28.365Z"
   },
   {
    "duration": 12,
    "start_time": "2022-04-08T05:35:32.327Z"
   },
   {
    "duration": 4,
    "start_time": "2022-04-08T05:35:34.074Z"
   },
   {
    "duration": 4,
    "start_time": "2022-04-08T05:35:36.192Z"
   },
   {
    "duration": 40,
    "start_time": "2022-04-08T05:35:40.466Z"
   },
   {
    "duration": 6,
    "start_time": "2022-04-08T06:45:42.285Z"
   },
   {
    "duration": 893,
    "start_time": "2022-04-08T06:45:43.930Z"
   },
   {
    "duration": 41,
    "start_time": "2022-04-08T06:45:44.827Z"
   },
   {
    "duration": 29,
    "start_time": "2022-04-08T06:45:45.207Z"
   },
   {
    "duration": 33,
    "start_time": "2022-04-08T06:45:45.908Z"
   },
   {
    "duration": 16,
    "start_time": "2022-04-08T06:45:49.128Z"
   },
   {
    "duration": 5,
    "start_time": "2022-04-08T06:45:49.769Z"
   },
   {
    "duration": 7,
    "start_time": "2022-04-08T06:45:50.665Z"
   },
   {
    "duration": 7,
    "start_time": "2022-04-08T06:45:51.403Z"
   },
   {
    "duration": 7,
    "start_time": "2022-04-08T06:45:52.419Z"
   },
   {
    "duration": 4,
    "start_time": "2022-04-08T06:45:56.576Z"
   },
   {
    "duration": 4,
    "start_time": "2022-04-08T06:45:59.329Z"
   },
   {
    "duration": 4,
    "start_time": "2022-04-08T06:46:00.721Z"
   },
   {
    "duration": 9,
    "start_time": "2022-04-08T06:46:02.053Z"
   },
   {
    "duration": 31,
    "start_time": "2022-04-08T06:46:08.189Z"
   },
   {
    "duration": 3,
    "start_time": "2022-04-08T06:46:09.418Z"
   },
   {
    "duration": 3,
    "start_time": "2022-04-08T06:46:12.419Z"
   },
   {
    "duration": 11,
    "start_time": "2022-04-08T06:46:15.444Z"
   },
   {
    "duration": 340,
    "start_time": "2022-04-08T06:46:16.146Z"
   },
   {
    "duration": 10,
    "start_time": "2022-04-08T06:46:17.667Z"
   },
   {
    "duration": 352,
    "start_time": "2022-04-08T06:46:18.410Z"
   },
   {
    "duration": 3233,
    "start_time": "2022-04-08T06:46:20.553Z"
   },
   {
    "duration": 1824,
    "start_time": "2022-04-08T06:46:23.789Z"
   },
   {
    "duration": 6,
    "start_time": "2022-04-08T06:46:25.616Z"
   },
   {
    "duration": 7,
    "start_time": "2022-04-08T06:46:25.624Z"
   },
   {
    "duration": 6,
    "start_time": "2022-04-08T06:46:29.033Z"
   },
   {
    "duration": 6,
    "start_time": "2022-04-08T06:46:30.297Z"
   },
   {
    "duration": 386,
    "start_time": "2022-04-08T06:46:31.744Z"
   },
   {
    "duration": 391,
    "start_time": "2022-04-08T06:46:33.355Z"
   },
   {
    "duration": 395,
    "start_time": "2022-04-08T06:46:34.929Z"
   },
   {
    "duration": 7,
    "start_time": "2022-04-08T06:46:38.549Z"
   },
   {
    "duration": 784,
    "start_time": "2022-04-08T06:46:40.387Z"
   },
   {
    "duration": 912,
    "start_time": "2022-04-08T06:46:41.184Z"
   },
   {
    "duration": 5,
    "start_time": "2022-04-08T06:46:45.475Z"
   },
   {
    "duration": 233,
    "start_time": "2022-04-08T06:46:46.440Z"
   },
   {
    "duration": 5,
    "start_time": "2022-04-08T06:46:47.800Z"
   },
   {
    "duration": 242,
    "start_time": "2022-04-08T06:46:49.521Z"
   },
   {
    "duration": 5,
    "start_time": "2022-04-08T06:46:50.772Z"
   },
   {
    "duration": 280,
    "start_time": "2022-04-08T06:46:51.801Z"
   },
   {
    "duration": 6,
    "start_time": "2022-04-08T06:46:56.122Z"
   },
   {
    "duration": 4,
    "start_time": "2022-04-08T06:46:57.576Z"
   },
   {
    "duration": 12,
    "start_time": "2022-04-08T06:47:00.017Z"
   },
   {
    "duration": 5,
    "start_time": "2022-04-08T06:47:00.892Z"
   },
   {
    "duration": 4,
    "start_time": "2022-04-08T06:47:01.633Z"
   },
   {
    "duration": 39,
    "start_time": "2022-04-08T06:47:03.001Z"
   },
   {
    "duration": 14,
    "start_time": "2022-04-08T06:58:17.086Z"
   },
   {
    "duration": 21,
    "start_time": "2022-04-08T06:59:33.807Z"
   },
   {
    "duration": 33,
    "start_time": "2022-04-08T07:01:57.475Z"
   },
   {
    "duration": 36,
    "start_time": "2022-04-08T07:02:09.030Z"
   },
   {
    "duration": 8,
    "start_time": "2022-04-08T07:02:33.618Z"
   },
   {
    "duration": 6,
    "start_time": "2022-04-08T07:04:06.311Z"
   },
   {
    "duration": 871,
    "start_time": "2022-04-08T07:04:07.234Z"
   },
   {
    "duration": 21,
    "start_time": "2022-04-08T07:04:08.586Z"
   },
   {
    "duration": 30,
    "start_time": "2022-04-08T07:04:10.311Z"
   },
   {
    "duration": 31,
    "start_time": "2022-04-08T07:04:11.421Z"
   },
   {
    "duration": 13,
    "start_time": "2022-04-08T07:04:16.720Z"
   },
   {
    "duration": 4,
    "start_time": "2022-04-08T07:04:18.152Z"
   },
   {
    "duration": 6,
    "start_time": "2022-04-08T07:04:20.113Z"
   },
   {
    "duration": 7,
    "start_time": "2022-04-08T07:04:21.376Z"
   },
   {
    "duration": 7,
    "start_time": "2022-04-08T07:04:22.537Z"
   },
   {
    "duration": 4,
    "start_time": "2022-04-08T07:04:26.708Z"
   },
   {
    "duration": 4,
    "start_time": "2022-04-08T07:04:29.183Z"
   },
   {
    "duration": 36,
    "start_time": "2022-04-08T07:04:47.608Z"
   },
   {
    "duration": 10,
    "start_time": "2022-04-08T07:04:49.047Z"
   },
   {
    "duration": 24,
    "start_time": "2022-04-08T07:04:50.771Z"
   },
   {
    "duration": 5,
    "start_time": "2022-04-08T07:08:09.056Z"
   },
   {
    "duration": 12,
    "start_time": "2022-04-08T07:08:15.902Z"
   },
   {
    "duration": 8,
    "start_time": "2022-04-08T07:10:42.724Z"
   },
   {
    "duration": 18,
    "start_time": "2022-04-08T07:10:44.514Z"
   },
   {
    "duration": 12,
    "start_time": "2022-04-08T07:11:24.403Z"
   },
   {
    "duration": 7,
    "start_time": "2022-04-08T07:12:17.178Z"
   },
   {
    "duration": 16,
    "start_time": "2022-04-08T07:12:39.932Z"
   },
   {
    "duration": 9,
    "start_time": "2022-04-08T07:12:58.994Z"
   },
   {
    "duration": 10,
    "start_time": "2022-04-08T07:13:24.533Z"
   },
   {
    "duration": 17,
    "start_time": "2022-04-08T07:14:07.292Z"
   },
   {
    "duration": 4,
    "start_time": "2022-04-08T07:14:20.480Z"
   },
   {
    "duration": 5,
    "start_time": "2022-04-08T07:14:37.580Z"
   },
   {
    "duration": 5,
    "start_time": "2022-04-08T07:14:54.796Z"
   },
   {
    "duration": 1587,
    "start_time": "2022-04-08T07:15:07.411Z"
   },
   {
    "duration": 1634,
    "start_time": "2022-04-08T07:15:51.820Z"
   },
   {
    "duration": 8,
    "start_time": "2022-04-08T07:16:08.569Z"
   },
   {
    "duration": 8,
    "start_time": "2022-04-08T07:16:09.030Z"
   },
   {
    "duration": 15,
    "start_time": "2022-04-08T07:16:10.403Z"
   },
   {
    "duration": 4,
    "start_time": "2022-04-08T07:16:10.788Z"
   },
   {
    "duration": 5,
    "start_time": "2022-04-08T07:16:11.252Z"
   },
   {
    "duration": 3,
    "start_time": "2022-04-08T07:16:59.751Z"
   },
   {
    "duration": 3,
    "start_time": "2022-04-08T07:17:00.196Z"
   },
   {
    "duration": 11,
    "start_time": "2022-04-08T07:17:02.173Z"
   },
   {
    "duration": 462,
    "start_time": "2022-04-08T07:17:03.523Z"
   },
   {
    "duration": 11,
    "start_time": "2022-04-08T07:17:05.099Z"
   },
   {
    "duration": 359,
    "start_time": "2022-04-08T07:17:05.859Z"
   },
   {
    "duration": 3191,
    "start_time": "2022-04-08T07:17:08.045Z"
   },
   {
    "duration": 1949,
    "start_time": "2022-04-08T07:17:15.607Z"
   },
   {
    "duration": 6,
    "start_time": "2022-04-08T07:17:18.956Z"
   },
   {
    "duration": 6,
    "start_time": "2022-04-08T07:17:19.648Z"
   },
   {
    "duration": 6,
    "start_time": "2022-04-08T07:17:21.380Z"
   },
   {
    "duration": 5,
    "start_time": "2022-04-08T07:17:22.367Z"
   },
   {
    "duration": 411,
    "start_time": "2022-04-08T07:17:23.643Z"
   },
   {
    "duration": 388,
    "start_time": "2022-04-08T07:17:25.745Z"
   },
   {
    "duration": 398,
    "start_time": "2022-04-08T07:17:26.477Z"
   },
   {
    "duration": 6,
    "start_time": "2022-04-08T07:17:30.440Z"
   },
   {
    "duration": 726,
    "start_time": "2022-04-08T07:17:31.221Z"
   },
   {
    "duration": 1219,
    "start_time": "2022-04-08T07:17:32.316Z"
   },
   {
    "duration": 6,
    "start_time": "2022-04-08T07:17:36.812Z"
   },
   {
    "duration": 228,
    "start_time": "2022-04-08T07:17:38.852Z"
   },
   {
    "duration": 6,
    "start_time": "2022-04-08T07:17:39.843Z"
   },
   {
    "duration": 264,
    "start_time": "2022-04-08T07:17:40.461Z"
   },
   {
    "duration": 7,
    "start_time": "2022-04-08T07:17:41.799Z"
   },
   {
    "duration": 265,
    "start_time": "2022-04-08T07:17:42.822Z"
   },
   {
    "duration": 8,
    "start_time": "2022-04-08T07:20:48.195Z"
   },
   {
    "duration": 5,
    "start_time": "2022-04-08T07:21:07.538Z"
   },
   {
    "duration": 15,
    "start_time": "2022-04-08T07:22:30.891Z"
   },
   {
    "duration": 20,
    "start_time": "2022-04-08T07:22:47.413Z"
   },
   {
    "duration": 25,
    "start_time": "2022-04-08T07:25:14.938Z"
   },
   {
    "duration": 19,
    "start_time": "2022-04-08T07:27:12.309Z"
   },
   {
    "duration": 4,
    "start_time": "2022-04-08T07:27:27.956Z"
   },
   {
    "duration": 36,
    "start_time": "2022-04-08T07:27:29.200Z"
   },
   {
    "duration": 4,
    "start_time": "2022-04-08T07:54:35.873Z"
   },
   {
    "duration": 4,
    "start_time": "2022-04-08T07:54:49.281Z"
   },
   {
    "duration": 13,
    "start_time": "2022-04-08T07:55:19.101Z"
   },
   {
    "duration": 10,
    "start_time": "2022-04-08T07:58:28.816Z"
   },
   {
    "duration": 1370,
    "start_time": "2022-04-08T07:59:11.581Z"
   },
   {
    "duration": 1400,
    "start_time": "2022-04-08T08:02:01.490Z"
   },
   {
    "duration": 1588,
    "start_time": "2022-04-08T08:02:23.331Z"
   },
   {
    "duration": 1467,
    "start_time": "2022-04-08T08:02:36.790Z"
   },
   {
    "duration": 1425,
    "start_time": "2022-04-08T08:02:51.555Z"
   },
   {
    "duration": 248,
    "start_time": "2022-04-08T08:05:55.323Z"
   },
   {
    "duration": 230,
    "start_time": "2022-04-08T08:07:19.892Z"
   },
   {
    "duration": 4,
    "start_time": "2022-04-08T08:07:43.682Z"
   },
   {
    "duration": 7,
    "start_time": "2022-04-08T08:07:44.237Z"
   },
   {
    "duration": 10,
    "start_time": "2022-04-08T08:07:44.682Z"
   },
   {
    "duration": 1827,
    "start_time": "2022-04-08T08:07:45.940Z"
   },
   {
    "duration": 15,
    "start_time": "2022-04-08T08:07:49.192Z"
   },
   {
    "duration": 238,
    "start_time": "2022-04-08T08:07:51.230Z"
   },
   {
    "duration": 6,
    "start_time": "2022-04-08T08:08:40.180Z"
   },
   {
    "duration": 251,
    "start_time": "2022-04-08T08:08:41.636Z"
   },
   {
    "duration": 22,
    "start_time": "2022-04-08T08:10:50.188Z"
   },
   {
    "duration": 34,
    "start_time": "2022-04-08T08:11:21.781Z"
   },
   {
    "duration": 6,
    "start_time": "2022-04-08T08:16:27.792Z"
   },
   {
    "duration": 9,
    "start_time": "2022-04-08T08:17:19.069Z"
   },
   {
    "duration": 3,
    "start_time": "2022-04-08T08:17:20.428Z"
   },
   {
    "duration": 4,
    "start_time": "2022-04-08T08:17:21.164Z"
   },
   {
    "duration": 4,
    "start_time": "2022-04-08T08:17:21.981Z"
   },
   {
    "duration": 4,
    "start_time": "2022-04-08T08:17:22.602Z"
   },
   {
    "duration": 3,
    "start_time": "2022-04-08T08:17:23.995Z"
   },
   {
    "duration": 3,
    "start_time": "2022-04-08T08:17:53.102Z"
   },
   {
    "duration": 5,
    "start_time": "2022-04-08T08:17:53.748Z"
   },
   {
    "duration": 4,
    "start_time": "2022-04-08T08:17:57.981Z"
   },
   {
    "duration": 3,
    "start_time": "2022-04-08T08:17:58.681Z"
   },
   {
    "duration": 13,
    "start_time": "2022-04-08T08:18:23.189Z"
   },
   {
    "duration": 385,
    "start_time": "2022-04-08T08:18:24.038Z"
   },
   {
    "duration": 12,
    "start_time": "2022-04-08T08:18:24.661Z"
   },
   {
    "duration": 362,
    "start_time": "2022-04-08T08:18:25.268Z"
   },
   {
    "duration": 3815,
    "start_time": "2022-04-08T08:18:26.881Z"
   },
   {
    "duration": 1982,
    "start_time": "2022-04-08T08:18:31.325Z"
   },
   {
    "duration": 7,
    "start_time": "2022-04-08T08:18:33.309Z"
   },
   {
    "duration": 7,
    "start_time": "2022-04-08T08:18:33.517Z"
   },
   {
    "duration": 6,
    "start_time": "2022-04-08T08:18:34.396Z"
   },
   {
    "duration": 5,
    "start_time": "2022-04-08T08:18:35.245Z"
   },
   {
    "duration": 408,
    "start_time": "2022-04-08T08:18:36.128Z"
   },
   {
    "duration": 417,
    "start_time": "2022-04-08T08:18:36.868Z"
   },
   {
    "duration": 424,
    "start_time": "2022-04-08T08:18:37.939Z"
   },
   {
    "duration": 6,
    "start_time": "2022-04-08T08:18:41.139Z"
   },
   {
    "duration": 755,
    "start_time": "2022-04-08T08:18:42.100Z"
   },
   {
    "duration": 840,
    "start_time": "2022-04-08T08:18:42.860Z"
   },
   {
    "duration": 4,
    "start_time": "2022-04-08T08:18:46.651Z"
   },
   {
    "duration": 5,
    "start_time": "2022-04-08T08:18:47.412Z"
   },
   {
    "duration": 10,
    "start_time": "2022-04-08T08:18:48.030Z"
   },
   {
    "duration": 1487,
    "start_time": "2022-04-08T08:18:49.083Z"
   },
   {
    "duration": 6,
    "start_time": "2022-04-08T08:18:51.193Z"
   },
   {
    "duration": 235,
    "start_time": "2022-04-08T08:18:53.028Z"
   },
   {
    "duration": 6,
    "start_time": "2022-04-08T08:18:54.035Z"
   },
   {
    "duration": 275,
    "start_time": "2022-04-08T08:18:54.620Z"
   },
   {
    "duration": 6,
    "start_time": "2022-04-08T08:18:55.589Z"
   },
   {
    "duration": 284,
    "start_time": "2022-04-08T08:18:56.236Z"
   },
   {
    "duration": 18,
    "start_time": "2022-04-08T08:19:01.252Z"
   },
   {
    "duration": 32,
    "start_time": "2022-04-08T08:19:03.829Z"
   },
   {
    "duration": 32,
    "start_time": "2022-04-08T08:19:08.581Z"
   },
   {
    "duration": 15,
    "start_time": "2022-04-08T08:19:51.797Z"
   },
   {
    "duration": 33,
    "start_time": "2022-04-08T08:19:53.304Z"
   },
   {
    "duration": 17,
    "start_time": "2022-04-08T08:22:52.703Z"
   },
   {
    "duration": 16,
    "start_time": "2022-04-08T08:24:12.841Z"
   },
   {
    "duration": 6,
    "start_time": "2022-04-08T08:25:23.729Z"
   },
   {
    "duration": 10556,
    "start_time": "2022-04-08T08:25:50.496Z"
   },
   {
    "duration": 64,
    "start_time": "2022-04-08T08:26:08.016Z"
   },
   {
    "duration": 330,
    "start_time": "2022-04-08T08:26:35.432Z"
   },
   {
    "duration": 39,
    "start_time": "2022-04-08T08:26:50.353Z"
   },
   {
    "duration": 6,
    "start_time": "2022-04-08T08:28:04.257Z"
   },
   {
    "duration": 8,
    "start_time": "2022-04-08T08:28:42.274Z"
   },
   {
    "duration": 7,
    "start_time": "2022-04-08T08:28:55.336Z"
   },
   {
    "duration": 7,
    "start_time": "2022-04-08T08:29:09.442Z"
   },
   {
    "duration": 4,
    "start_time": "2022-04-08T08:29:27.115Z"
   },
   {
    "duration": 4,
    "start_time": "2022-04-08T08:30:02.892Z"
   },
   {
    "duration": 4,
    "start_time": "2022-04-08T08:30:14.746Z"
   },
   {
    "duration": 10,
    "start_time": "2022-04-08T08:30:33.802Z"
   },
   {
    "duration": 1341,
    "start_time": "2022-04-08T08:30:59.321Z"
   },
   {
    "duration": 23,
    "start_time": "2022-04-08T08:31:19.018Z"
   },
   {
    "duration": 51,
    "start_time": "2022-04-08T08:31:30.778Z"
   },
   {
    "duration": 65,
    "start_time": "2022-04-08T08:39:47.729Z"
   },
   {
    "duration": 6,
    "start_time": "2022-04-08T08:39:56.381Z"
   },
   {
    "duration": 64,
    "start_time": "2022-04-08T08:39:57.328Z"
   },
   {
    "duration": 5,
    "start_time": "2022-04-08T08:40:32.662Z"
   },
   {
    "duration": 62,
    "start_time": "2022-04-08T08:40:33.377Z"
   },
   {
    "duration": 5,
    "start_time": "2022-04-08T08:41:10.487Z"
   },
   {
    "duration": 5,
    "start_time": "2022-04-08T08:41:43.408Z"
   },
   {
    "duration": 924,
    "start_time": "2022-04-08T08:42:00.509Z"
   },
   {
    "duration": 95,
    "start_time": "2022-04-08T08:43:40.397Z"
   },
   {
    "duration": 94,
    "start_time": "2022-04-08T08:44:17.105Z"
   },
   {
    "duration": 91,
    "start_time": "2022-04-08T08:44:29.504Z"
   },
   {
    "duration": 42,
    "start_time": "2022-04-08T08:46:16.596Z"
   },
   {
    "duration": 19,
    "start_time": "2022-04-08T08:48:21.261Z"
   },
   {
    "duration": 18,
    "start_time": "2022-04-08T08:49:02.131Z"
   },
   {
    "duration": 5,
    "start_time": "2022-04-08T08:49:16.344Z"
   },
   {
    "duration": 889,
    "start_time": "2022-04-08T08:49:16.827Z"
   },
   {
    "duration": 18,
    "start_time": "2022-04-08T08:49:18.591Z"
   },
   {
    "duration": 14,
    "start_time": "2022-04-08T08:53:10.453Z"
   },
   {
    "duration": 6,
    "start_time": "2022-04-08T08:53:26.907Z"
   },
   {
    "duration": 799,
    "start_time": "2022-04-08T08:53:27.620Z"
   },
   {
    "duration": 20,
    "start_time": "2022-04-08T08:53:28.421Z"
   },
   {
    "duration": 28,
    "start_time": "2022-04-08T08:53:29.201Z"
   },
   {
    "duration": 31,
    "start_time": "2022-04-08T08:53:30.169Z"
   },
   {
    "duration": 13,
    "start_time": "2022-04-08T08:53:34.187Z"
   },
   {
    "duration": 4,
    "start_time": "2022-04-08T08:59:02.772Z"
   },
   {
    "duration": 6,
    "start_time": "2022-04-08T08:59:03.499Z"
   },
   {
    "duration": 9,
    "start_time": "2022-04-08T08:59:04.463Z"
   },
   {
    "duration": 8,
    "start_time": "2022-04-08T08:59:05.659Z"
   },
   {
    "duration": 5,
    "start_time": "2022-04-08T08:59:08.183Z"
   },
   {
    "duration": 7,
    "start_time": "2022-04-08T08:59:10.092Z"
   },
   {
    "duration": 3,
    "start_time": "2022-04-08T08:59:11.402Z"
   },
   {
    "duration": 3,
    "start_time": "2022-04-08T08:59:13.118Z"
   },
   {
    "duration": 5,
    "start_time": "2022-04-08T08:59:13.781Z"
   },
   {
    "duration": 4,
    "start_time": "2022-04-08T08:59:15.329Z"
   },
   {
    "duration": 6,
    "start_time": "2022-04-08T08:59:15.337Z"
   },
   {
    "duration": 4,
    "start_time": "2022-04-08T08:59:15.835Z"
   },
   {
    "duration": 4,
    "start_time": "2022-04-08T08:59:16.650Z"
   },
   {
    "duration": 5,
    "start_time": "2022-04-08T08:59:17.215Z"
   },
   {
    "duration": 3,
    "start_time": "2022-04-08T08:59:19.402Z"
   },
   {
    "duration": 3,
    "start_time": "2022-04-08T08:59:20.123Z"
   },
   {
    "duration": 12,
    "start_time": "2022-04-08T08:59:23.105Z"
   },
   {
    "duration": 342,
    "start_time": "2022-04-08T08:59:24.114Z"
   },
   {
    "duration": 11,
    "start_time": "2022-04-08T08:59:30.794Z"
   },
   {
    "duration": 357,
    "start_time": "2022-04-08T08:59:31.552Z"
   },
   {
    "duration": 3191,
    "start_time": "2022-04-08T08:59:34.413Z"
   },
   {
    "duration": 2125,
    "start_time": "2022-04-08T08:59:42.507Z"
   },
   {
    "duration": 6,
    "start_time": "2022-04-08T08:59:47.356Z"
   },
   {
    "duration": 6,
    "start_time": "2022-04-08T08:59:47.928Z"
   },
   {
    "duration": 5,
    "start_time": "2022-04-08T08:59:49.410Z"
   },
   {
    "duration": 5,
    "start_time": "2022-04-08T08:59:50.801Z"
   },
   {
    "duration": 464,
    "start_time": "2022-04-08T08:59:52.709Z"
   },
   {
    "duration": 644,
    "start_time": "2022-04-08T08:59:53.623Z"
   },
   {
    "duration": 676,
    "start_time": "2022-04-08T08:59:55.259Z"
   },
   {
    "duration": 6,
    "start_time": "2022-04-08T08:59:58.680Z"
   },
   {
    "duration": 833,
    "start_time": "2022-04-08T09:00:00.599Z"
   },
   {
    "duration": 814,
    "start_time": "2022-04-08T09:00:03.493Z"
   },
   {
    "duration": 4,
    "start_time": "2022-04-08T09:00:08.518Z"
   },
   {
    "duration": 3,
    "start_time": "2022-04-08T09:00:09.205Z"
   },
   {
    "duration": 10,
    "start_time": "2022-04-08T09:00:10.141Z"
   },
   {
    "duration": 1463,
    "start_time": "2022-04-08T09:00:11.208Z"
   },
   {
    "duration": 5,
    "start_time": "2022-04-08T09:00:14.163Z"
   },
   {
    "duration": 240,
    "start_time": "2022-04-08T09:00:18.348Z"
   },
   {
    "duration": 6,
    "start_time": "2022-04-08T09:00:19.574Z"
   },
   {
    "duration": 259,
    "start_time": "2022-04-08T09:00:20.276Z"
   },
   {
    "duration": 7,
    "start_time": "2022-04-08T09:00:21.428Z"
   },
   {
    "duration": 429,
    "start_time": "2022-04-08T09:00:22.282Z"
   },
   {
    "duration": 29,
    "start_time": "2022-04-08T09:00:28.810Z"
   },
   {
    "duration": 69,
    "start_time": "2022-04-08T09:00:30.740Z"
   },
   {
    "duration": 32,
    "start_time": "2022-04-08T09:00:33.725Z"
   },
   {
    "duration": 31,
    "start_time": "2022-04-08T09:02:33.783Z"
   },
   {
    "duration": 4,
    "start_time": "2022-04-08T09:03:28.041Z"
   },
   {
    "duration": 5,
    "start_time": "2022-04-08T09:03:51.109Z"
   },
   {
    "duration": 1477,
    "start_time": "2022-04-08T09:04:11.758Z"
   },
   {
    "duration": 5,
    "start_time": "2022-04-08T09:04:47.756Z"
   },
   {
    "duration": 843,
    "start_time": "2022-04-08T09:04:48.391Z"
   },
   {
    "duration": 24,
    "start_time": "2022-04-08T09:04:49.278Z"
   },
   {
    "duration": 30,
    "start_time": "2022-04-08T09:04:50.270Z"
   },
   {
    "duration": 30,
    "start_time": "2022-04-08T09:04:51.611Z"
   },
   {
    "duration": 14,
    "start_time": "2022-04-08T09:04:56.341Z"
   },
   {
    "duration": 5,
    "start_time": "2022-04-08T09:04:57.632Z"
   },
   {
    "duration": 3,
    "start_time": "2022-04-08T09:05:13.383Z"
   },
   {
    "duration": 4,
    "start_time": "2022-04-08T09:05:13.975Z"
   },
   {
    "duration": 6,
    "start_time": "2022-04-08T09:05:14.597Z"
   },
   {
    "duration": 8,
    "start_time": "2022-04-08T09:05:15.310Z"
   },
   {
    "duration": 6,
    "start_time": "2022-04-08T09:05:16.432Z"
   },
   {
    "duration": 4,
    "start_time": "2022-04-08T09:05:19.376Z"
   },
   {
    "duration": 6,
    "start_time": "2022-04-08T09:05:20.983Z"
   },
   {
    "duration": 4,
    "start_time": "2022-04-08T09:05:23.354Z"
   },
   {
    "duration": 5,
    "start_time": "2022-04-08T09:05:29.453Z"
   },
   {
    "duration": 3,
    "start_time": "2022-04-08T09:05:30.128Z"
   },
   {
    "duration": 4,
    "start_time": "2022-04-08T09:05:30.671Z"
   },
   {
    "duration": 4,
    "start_time": "2022-04-08T09:05:31.578Z"
   },
   {
    "duration": 4,
    "start_time": "2022-04-08T09:05:32.926Z"
   },
   {
    "duration": 3,
    "start_time": "2022-04-08T09:05:33.617Z"
   },
   {
    "duration": 5,
    "start_time": "2022-04-08T09:05:34.183Z"
   },
   {
    "duration": 3,
    "start_time": "2022-04-08T09:05:36.527Z"
   },
   {
    "duration": 4,
    "start_time": "2022-04-08T09:05:37.141Z"
   },
   {
    "duration": 12,
    "start_time": "2022-04-08T09:05:39.010Z"
   },
   {
    "duration": 339,
    "start_time": "2022-04-08T09:05:40.185Z"
   },
   {
    "duration": 12,
    "start_time": "2022-04-08T09:05:41.664Z"
   },
   {
    "duration": 606,
    "start_time": "2022-04-08T09:05:43.145Z"
   },
   {
    "duration": 3257,
    "start_time": "2022-04-08T09:05:45.329Z"
   },
   {
    "duration": 1774,
    "start_time": "2022-04-08T09:05:51.043Z"
   },
   {
    "duration": 6,
    "start_time": "2022-04-08T09:05:53.776Z"
   },
   {
    "duration": 6,
    "start_time": "2022-04-08T09:05:54.418Z"
   },
   {
    "duration": 6,
    "start_time": "2022-04-08T09:05:55.770Z"
   },
   {
    "duration": 5,
    "start_time": "2022-04-08T09:05:56.840Z"
   },
   {
    "duration": 400,
    "start_time": "2022-04-08T09:05:57.911Z"
   },
   {
    "duration": 388,
    "start_time": "2022-04-08T09:06:01.023Z"
   },
   {
    "duration": 401,
    "start_time": "2022-04-08T09:06:03.217Z"
   },
   {
    "duration": 5,
    "start_time": "2022-04-08T09:06:06.306Z"
   },
   {
    "duration": 762,
    "start_time": "2022-04-08T09:06:07.424Z"
   },
   {
    "duration": 1020,
    "start_time": "2022-04-08T09:06:08.311Z"
   },
   {
    "duration": 4,
    "start_time": "2022-04-08T09:06:12.558Z"
   },
   {
    "duration": 4,
    "start_time": "2022-04-08T09:06:13.623Z"
   },
   {
    "duration": 11,
    "start_time": "2022-04-08T09:06:26.448Z"
   },
   {
    "duration": 1450,
    "start_time": "2022-04-08T09:06:27.598Z"
   },
   {
    "duration": 5,
    "start_time": "2022-04-08T09:06:29.051Z"
   },
   {
    "duration": 228,
    "start_time": "2022-04-08T09:06:31.616Z"
   },
   {
    "duration": 6,
    "start_time": "2022-04-08T09:06:32.649Z"
   },
   {
    "duration": 262,
    "start_time": "2022-04-08T09:06:33.447Z"
   },
   {
    "duration": 6,
    "start_time": "2022-04-08T09:06:34.830Z"
   },
   {
    "duration": 269,
    "start_time": "2022-04-08T09:06:35.687Z"
   },
   {
    "duration": 4,
    "start_time": "2022-04-08T09:06:39.773Z"
   },
   {
    "duration": 3,
    "start_time": "2022-04-08T09:06:40.632Z"
   },
   {
    "duration": 9,
    "start_time": "2022-04-08T09:06:43.320Z"
   },
   {
    "duration": 99,
    "start_time": "2022-04-08T09:06:51.968Z"
   },
   {
    "duration": 9,
    "start_time": "2022-04-08T09:07:17.448Z"
   },
   {
    "duration": 95,
    "start_time": "2022-04-08T09:07:18.378Z"
   },
   {
    "duration": 4,
    "start_time": "2022-04-08T09:08:21.401Z"
   },
   {
    "duration": 3,
    "start_time": "2022-04-08T09:08:21.890Z"
   },
   {
    "duration": 7,
    "start_time": "2022-04-08T09:08:22.332Z"
   },
   {
    "duration": 90,
    "start_time": "2022-04-08T09:08:23.127Z"
   },
   {
    "duration": 92,
    "start_time": "2022-04-08T09:09:09.803Z"
   },
   {
    "duration": 14,
    "start_time": "2022-04-08T09:13:07.062Z"
   },
   {
    "duration": 302,
    "start_time": "2022-04-08T09:15:19.376Z"
   },
   {
    "duration": 15,
    "start_time": "2022-04-08T09:17:57.355Z"
   },
   {
    "duration": 2173,
    "start_time": "2022-04-08T09:18:12.639Z"
   },
   {
    "duration": 1711,
    "start_time": "2022-04-08T09:20:03.405Z"
   },
   {
    "duration": 18,
    "start_time": "2022-04-08T09:20:49.659Z"
   },
   {
    "duration": 29,
    "start_time": "2022-04-08T09:21:40.749Z"
   },
   {
    "duration": 15,
    "start_time": "2022-04-08T09:22:07.291Z"
   },
   {
    "duration": 11,
    "start_time": "2022-04-08T09:22:33.526Z"
   },
   {
    "duration": 7,
    "start_time": "2022-04-08T09:22:56.387Z"
   },
   {
    "duration": 19,
    "start_time": "2022-04-08T09:23:15.804Z"
   },
   {
    "duration": 278,
    "start_time": "2022-04-08T09:23:32.466Z"
   },
   {
    "duration": 7,
    "start_time": "2022-04-08T09:23:55.473Z"
   },
   {
    "duration": 54,
    "start_time": "2022-04-08T09:24:16.395Z"
   },
   {
    "duration": 21,
    "start_time": "2022-04-08T09:24:39.489Z"
   },
   {
    "duration": 6,
    "start_time": "2022-04-08T09:24:54.023Z"
   },
   {
    "duration": 5,
    "start_time": "2022-04-08T09:25:52.862Z"
   },
   {
    "duration": 4,
    "start_time": "2022-04-08T09:26:00.330Z"
   },
   {
    "duration": 9,
    "start_time": "2022-04-08T09:26:01.404Z"
   },
   {
    "duration": 82,
    "start_time": "2022-04-08T09:26:03.156Z"
   },
   {
    "duration": 4,
    "start_time": "2022-04-08T09:26:28.677Z"
   },
   {
    "duration": 10,
    "start_time": "2022-04-08T09:26:53.947Z"
   },
   {
    "duration": 31,
    "start_time": "2022-04-08T09:27:46.110Z"
   },
   {
    "duration": 2796,
    "start_time": "2022-04-08T09:28:17.183Z"
   },
   {
    "duration": 78,
    "start_time": "2022-04-08T09:28:46.665Z"
   },
   {
    "duration": 5,
    "start_time": "2022-04-08T09:29:10.994Z"
   },
   {
    "duration": 10128,
    "start_time": "2022-04-08T09:29:11.592Z"
   },
   {
    "duration": 19,
    "start_time": "2022-04-08T09:29:21.723Z"
   },
   {
    "duration": 42,
    "start_time": "2022-04-08T09:29:21.744Z"
   },
   {
    "duration": 29,
    "start_time": "2022-04-08T09:29:21.789Z"
   },
   {
    "duration": 4,
    "start_time": "2022-04-08T09:29:21.820Z"
   },
   {
    "duration": 10,
    "start_time": "2022-04-08T09:29:21.826Z"
   },
   {
    "duration": 6,
    "start_time": "2022-04-08T09:29:21.867Z"
   },
   {
    "duration": 9,
    "start_time": "2022-04-08T09:29:21.875Z"
   },
   {
    "duration": 21,
    "start_time": "2022-04-08T09:29:21.886Z"
   },
   {
    "duration": 4,
    "start_time": "2022-04-08T09:29:22.076Z"
   },
   {
    "duration": 7,
    "start_time": "2022-04-08T09:29:23.372Z"
   },
   {
    "duration": 3,
    "start_time": "2022-04-08T09:29:24.386Z"
   },
   {
    "duration": 3,
    "start_time": "2022-04-08T09:29:25.076Z"
   },
   {
    "duration": 4,
    "start_time": "2022-04-08T09:29:25.614Z"
   },
   {
    "duration": 3,
    "start_time": "2022-04-08T09:29:26.170Z"
   },
   {
    "duration": 4,
    "start_time": "2022-04-08T09:29:26.682Z"
   },
   {
    "duration": 3,
    "start_time": "2022-04-08T09:29:27.911Z"
   },
   {
    "duration": 4,
    "start_time": "2022-04-08T09:29:28.555Z"
   },
   {
    "duration": 6,
    "start_time": "2022-04-08T09:29:29.194Z"
   },
   {
    "duration": 4,
    "start_time": "2022-04-08T09:29:31.026Z"
   },
   {
    "duration": 3,
    "start_time": "2022-04-08T09:29:31.586Z"
   },
   {
    "duration": 11,
    "start_time": "2022-04-08T09:29:33.237Z"
   },
   {
    "duration": 339,
    "start_time": "2022-04-08T09:29:33.805Z"
   },
   {
    "duration": 10,
    "start_time": "2022-04-08T09:29:34.405Z"
   },
   {
    "duration": 360,
    "start_time": "2022-04-08T09:29:35.068Z"
   },
   {
    "duration": 3303,
    "start_time": "2022-04-08T09:29:37.550Z"
   },
   {
    "duration": 1877,
    "start_time": "2022-04-08T09:29:42.256Z"
   },
   {
    "duration": 6,
    "start_time": "2022-04-08T09:29:44.136Z"
   },
   {
    "duration": 6,
    "start_time": "2022-04-08T09:29:45.587Z"
   },
   {
    "duration": 6,
    "start_time": "2022-04-08T09:29:46.599Z"
   },
   {
    "duration": 5,
    "start_time": "2022-04-08T09:29:47.586Z"
   },
   {
    "duration": 394,
    "start_time": "2022-04-08T09:29:48.734Z"
   },
   {
    "duration": 644,
    "start_time": "2022-04-08T09:29:50.417Z"
   },
   {
    "duration": 510,
    "start_time": "2022-04-08T09:29:52.530Z"
   },
   {
    "duration": 7,
    "start_time": "2022-04-08T09:29:56.019Z"
   },
   {
    "duration": 803,
    "start_time": "2022-04-08T09:29:56.931Z"
   },
   {
    "duration": 805,
    "start_time": "2022-04-08T09:29:58.187Z"
   },
   {
    "duration": 4,
    "start_time": "2022-04-08T09:30:03.781Z"
   },
   {
    "duration": 4,
    "start_time": "2022-04-08T09:30:04.643Z"
   },
   {
    "duration": 11,
    "start_time": "2022-04-08T09:30:05.351Z"
   },
   {
    "duration": 1505,
    "start_time": "2022-04-08T09:30:06.580Z"
   },
   {
    "duration": 7,
    "start_time": "2022-04-08T09:30:08.089Z"
   },
   {
    "duration": 225,
    "start_time": "2022-04-08T09:30:09.795Z"
   },
   {
    "duration": 6,
    "start_time": "2022-04-08T09:30:10.802Z"
   },
   {
    "duration": 247,
    "start_time": "2022-04-08T09:30:11.723Z"
   },
   {
    "duration": 6,
    "start_time": "2022-04-08T09:30:12.709Z"
   },
   {
    "duration": 272,
    "start_time": "2022-04-08T09:30:13.413Z"
   },
   {
    "duration": 24,
    "start_time": "2022-04-08T09:30:14.163Z"
   },
   {
    "duration": 14,
    "start_time": "2022-04-08T09:30:15.123Z"
   },
   {
    "duration": 14,
    "start_time": "2022-04-08T09:30:16.140Z"
   },
   {
    "duration": 13,
    "start_time": "2022-04-08T09:30:17.420Z"
   },
   {
    "duration": 9,
    "start_time": "2022-04-08T09:30:19.228Z"
   },
   {
    "duration": 20,
    "start_time": "2022-04-08T09:30:20.059Z"
   },
   {
    "duration": 255,
    "start_time": "2022-04-08T09:30:21.044Z"
   },
   {
    "duration": 7,
    "start_time": "2022-04-08T09:30:22.316Z"
   },
   {
    "duration": 54,
    "start_time": "2022-04-08T09:30:24.493Z"
   },
   {
    "duration": 22,
    "start_time": "2022-04-08T09:30:25.691Z"
   },
   {
    "duration": 5,
    "start_time": "2022-04-08T09:30:27.571Z"
   },
   {
    "duration": 5,
    "start_time": "2022-04-08T09:30:34.044Z"
   },
   {
    "duration": 4,
    "start_time": "2022-04-08T09:30:35.028Z"
   },
   {
    "duration": 9,
    "start_time": "2022-04-08T09:30:35.924Z"
   },
   {
    "duration": 24,
    "start_time": "2022-04-08T09:30:36.806Z"
   },
   {
    "duration": 109,
    "start_time": "2022-04-08T09:30:39.494Z"
   },
   {
    "duration": 43,
    "start_time": "2022-04-08T09:32:23.640Z"
   },
   {
    "duration": 15,
    "start_time": "2022-04-08T09:34:29.199Z"
   },
   {
    "duration": 19,
    "start_time": "2022-04-08T09:34:30.046Z"
   },
   {
    "duration": 32,
    "start_time": "2022-04-08T09:34:31.768Z"
   },
   {
    "duration": 37,
    "start_time": "2022-04-08T09:34:51.767Z"
   },
   {
    "duration": 1862,
    "start_time": "2022-04-10T04:57:59.440Z"
   },
   {
    "duration": 861,
    "start_time": "2022-04-10T04:58:01.305Z"
   },
   {
    "duration": 14,
    "start_time": "2022-04-10T04:58:02.168Z"
   },
   {
    "duration": 27,
    "start_time": "2022-04-10T04:58:02.184Z"
   },
   {
    "duration": 27,
    "start_time": "2022-04-10T04:58:02.291Z"
   },
   {
    "duration": 3,
    "start_time": "2022-04-10T04:58:06.553Z"
   },
   {
    "duration": 3,
    "start_time": "2022-04-10T04:58:08.178Z"
   },
   {
    "duration": 7,
    "start_time": "2022-04-10T04:58:11.121Z"
   },
   {
    "duration": 6,
    "start_time": "2022-04-10T04:58:12.434Z"
   },
   {
    "duration": 121,
    "start_time": "2022-04-10T04:58:18.948Z"
   },
   {
    "duration": 12,
    "start_time": "2022-04-10T04:58:33.524Z"
   },
   {
    "duration": 4,
    "start_time": "2022-04-10T04:58:34.748Z"
   },
   {
    "duration": 5,
    "start_time": "2022-04-10T04:58:35.420Z"
   },
   {
    "duration": 7,
    "start_time": "2022-04-10T04:58:36.364Z"
   },
   {
    "duration": 5,
    "start_time": "2022-04-10T04:58:37.699Z"
   },
   {
    "duration": 4,
    "start_time": "2022-04-10T04:58:44.634Z"
   },
   {
    "duration": 11,
    "start_time": "2022-04-10T04:58:49.502Z"
   },
   {
    "duration": 3,
    "start_time": "2022-04-10T04:59:48.277Z"
   },
   {
    "duration": 3,
    "start_time": "2022-04-10T04:59:48.960Z"
   },
   {
    "duration": 3,
    "start_time": "2022-04-10T04:59:49.597Z"
   },
   {
    "duration": 2,
    "start_time": "2022-04-10T04:59:49.955Z"
   },
   {
    "duration": 2,
    "start_time": "2022-04-10T04:59:50.376Z"
   },
   {
    "duration": 2,
    "start_time": "2022-04-10T04:59:50.877Z"
   },
   {
    "duration": 3,
    "start_time": "2022-04-10T04:59:52.325Z"
   },
   {
    "duration": 2,
    "start_time": "2022-04-10T04:59:53.132Z"
   },
   {
    "duration": 4,
    "start_time": "2022-04-10T04:59:53.970Z"
   },
   {
    "duration": 3,
    "start_time": "2022-04-10T04:59:59.343Z"
   },
   {
    "duration": 3,
    "start_time": "2022-04-10T04:59:59.825Z"
   },
   {
    "duration": 11,
    "start_time": "2022-04-10T05:00:05.246Z"
   },
   {
    "duration": 223,
    "start_time": "2022-04-10T05:00:07.686Z"
   },
   {
    "duration": 9,
    "start_time": "2022-04-10T05:00:14.680Z"
   },
   {
    "duration": 226,
    "start_time": "2022-04-10T05:00:15.315Z"
   },
   {
    "duration": 2264,
    "start_time": "2022-04-10T05:00:20.350Z"
   },
   {
    "duration": 1659,
    "start_time": "2022-04-10T05:00:23.333Z"
   },
   {
    "duration": 4,
    "start_time": "2022-04-10T05:00:33.844Z"
   },
   {
    "duration": 5,
    "start_time": "2022-04-10T05:00:34.448Z"
   },
   {
    "duration": 5,
    "start_time": "2022-04-10T05:00:35.182Z"
   },
   {
    "duration": 4,
    "start_time": "2022-04-10T05:00:35.812Z"
   },
   {
    "duration": 285,
    "start_time": "2022-04-10T05:00:36.998Z"
   },
   {
    "duration": 271,
    "start_time": "2022-04-10T05:00:40.441Z"
   },
   {
    "duration": 290,
    "start_time": "2022-04-10T05:00:42.171Z"
   },
   {
    "duration": 4,
    "start_time": "2022-04-10T05:00:45.799Z"
   },
   {
    "duration": 695,
    "start_time": "2022-04-10T05:00:47.086Z"
   },
   {
    "duration": 610,
    "start_time": "2022-04-10T05:00:48.087Z"
   },
   {
    "duration": 3,
    "start_time": "2022-04-10T05:00:54.204Z"
   },
   {
    "duration": 3,
    "start_time": "2022-04-10T05:00:55.179Z"
   },
   {
    "duration": 9,
    "start_time": "2022-04-10T05:00:59.552Z"
   },
   {
    "duration": 1289,
    "start_time": "2022-04-10T05:01:02.557Z"
   },
   {
    "duration": 5,
    "start_time": "2022-04-10T05:01:13.379Z"
   },
   {
    "duration": 155,
    "start_time": "2022-04-10T05:01:15.413Z"
   },
   {
    "duration": 4,
    "start_time": "2022-04-10T05:01:17.204Z"
   },
   {
    "duration": 187,
    "start_time": "2022-04-10T05:01:18.035Z"
   },
   {
    "duration": 4,
    "start_time": "2022-04-10T05:01:19.209Z"
   },
   {
    "duration": 192,
    "start_time": "2022-04-10T05:01:19.979Z"
   },
   {
    "duration": 30,
    "start_time": "2022-04-10T05:01:21.020Z"
   },
   {
    "duration": 14,
    "start_time": "2022-04-10T05:01:23.213Z"
   },
   {
    "duration": 10,
    "start_time": "2022-04-10T05:01:24.951Z"
   },
   {
    "duration": 9,
    "start_time": "2022-04-10T05:01:28.212Z"
   },
   {
    "duration": 8,
    "start_time": "2022-04-10T05:01:29.907Z"
   },
   {
    "duration": 13,
    "start_time": "2022-04-10T05:01:31.021Z"
   },
   {
    "duration": 178,
    "start_time": "2022-04-10T05:01:34.140Z"
   },
   {
    "duration": 6,
    "start_time": "2022-04-10T05:01:40.120Z"
   },
   {
    "duration": 188,
    "start_time": "2022-04-10T05:01:42.124Z"
   },
   {
    "duration": 15,
    "start_time": "2022-04-10T05:01:44.630Z"
   },
   {
    "duration": 3,
    "start_time": "2022-04-10T05:01:49.989Z"
   },
   {
    "duration": 4,
    "start_time": "2022-04-10T05:01:58.172Z"
   },
   {
    "duration": 3,
    "start_time": "2022-04-10T05:01:59.219Z"
   },
   {
    "duration": 7,
    "start_time": "2022-04-10T05:02:00.085Z"
   },
   {
    "duration": 11,
    "start_time": "2022-04-10T05:02:04.204Z"
   },
   {
    "duration": 25,
    "start_time": "2022-04-10T05:02:06.698Z"
   },
   {
    "duration": 32,
    "start_time": "2022-04-10T05:02:08.533Z"
   },
   {
    "duration": 15,
    "start_time": "2022-04-10T05:02:32.943Z"
   },
   {
    "duration": 9,
    "start_time": "2022-04-10T05:03:45.413Z"
   },
   {
    "duration": 10,
    "start_time": "2022-04-10T05:03:49.444Z"
   },
   {
    "duration": 12,
    "start_time": "2022-04-10T05:03:50.608Z"
   },
   {
    "duration": 13,
    "start_time": "2022-04-10T05:04:04.394Z"
   },
   {
    "duration": 3645,
    "start_time": "2022-04-10T05:40:12.847Z"
   },
   {
    "duration": 5,
    "start_time": "2022-04-10T05:41:13.236Z"
   },
   {
    "duration": 812,
    "start_time": "2022-04-10T05:41:14.423Z"
   },
   {
    "duration": 15,
    "start_time": "2022-04-10T05:41:15.649Z"
   },
   {
    "duration": 22,
    "start_time": "2022-04-10T05:41:17.602Z"
   },
   {
    "duration": 23,
    "start_time": "2022-04-10T05:41:18.995Z"
   },
   {
    "duration": 11,
    "start_time": "2022-04-10T05:41:23.712Z"
   },
   {
    "duration": 4,
    "start_time": "2022-04-10T05:41:24.732Z"
   },
   {
    "duration": 6,
    "start_time": "2022-04-10T05:41:26.041Z"
   },
   {
    "duration": 7,
    "start_time": "2022-04-10T05:41:27.008Z"
   },
   {
    "duration": 6,
    "start_time": "2022-04-10T05:41:28.280Z"
   },
   {
    "duration": 4,
    "start_time": "2022-04-10T05:41:30.363Z"
   },
   {
    "duration": 3,
    "start_time": "2022-04-10T05:41:32.593Z"
   },
   {
    "duration": 2,
    "start_time": "2022-04-10T05:41:33.697Z"
   },
   {
    "duration": 3,
    "start_time": "2022-04-10T05:41:34.520Z"
   },
   {
    "duration": 2,
    "start_time": "2022-04-10T05:41:35.281Z"
   },
   {
    "duration": 2,
    "start_time": "2022-04-10T05:41:36.007Z"
   },
   {
    "duration": 2,
    "start_time": "2022-04-10T05:41:36.785Z"
   },
   {
    "duration": 3,
    "start_time": "2022-04-10T05:41:38.043Z"
   },
   {
    "duration": 2,
    "start_time": "2022-04-10T05:41:38.706Z"
   },
   {
    "duration": 3,
    "start_time": "2022-04-10T05:41:39.338Z"
   },
   {
    "duration": 2,
    "start_time": "2022-04-10T05:41:41.578Z"
   },
   {
    "duration": 3,
    "start_time": "2022-04-10T05:41:44.450Z"
   },
   {
    "duration": 13,
    "start_time": "2022-04-10T05:41:50.699Z"
   },
   {
    "duration": 225,
    "start_time": "2022-04-10T05:41:51.338Z"
   },
   {
    "duration": 9,
    "start_time": "2022-04-10T05:41:52.562Z"
   },
   {
    "duration": 232,
    "start_time": "2022-04-10T05:41:53.274Z"
   },
   {
    "duration": 2223,
    "start_time": "2022-04-10T05:41:54.587Z"
   },
   {
    "duration": 1678,
    "start_time": "2022-04-10T05:41:56.812Z"
   },
   {
    "duration": 4,
    "start_time": "2022-04-10T05:41:58.492Z"
   },
   {
    "duration": 6,
    "start_time": "2022-04-10T05:41:58.498Z"
   },
   {
    "duration": 26,
    "start_time": "2022-04-10T05:41:58.506Z"
   },
   {
    "duration": 4,
    "start_time": "2022-04-10T05:41:59.079Z"
   },
   {
    "duration": 283,
    "start_time": "2022-04-10T05:41:59.738Z"
   },
   {
    "duration": 440,
    "start_time": "2022-04-10T05:42:00.425Z"
   },
   {
    "duration": 321,
    "start_time": "2022-04-10T05:42:01.331Z"
   },
   {
    "duration": 4,
    "start_time": "2022-04-10T05:42:03.827Z"
   },
   {
    "duration": 559,
    "start_time": "2022-04-10T05:42:04.649Z"
   },
   {
    "duration": 579,
    "start_time": "2022-04-10T05:42:06.531Z"
   },
   {
    "duration": 3,
    "start_time": "2022-04-10T05:42:09.573Z"
   },
   {
    "duration": 3,
    "start_time": "2022-04-10T05:42:10.217Z"
   },
   {
    "duration": 9,
    "start_time": "2022-04-10T05:42:11.356Z"
   },
   {
    "duration": 1254,
    "start_time": "2022-04-10T05:42:12.195Z"
   },
   {
    "duration": 4,
    "start_time": "2022-04-10T05:42:13.562Z"
   },
   {
    "duration": 160,
    "start_time": "2022-04-10T05:42:17.339Z"
   },
   {
    "duration": 4,
    "start_time": "2022-04-10T05:42:17.963Z"
   },
   {
    "duration": 177,
    "start_time": "2022-04-10T05:42:18.754Z"
   },
   {
    "duration": 4,
    "start_time": "2022-04-10T05:42:19.681Z"
   },
   {
    "duration": 353,
    "start_time": "2022-04-10T05:42:20.441Z"
   },
   {
    "duration": 24,
    "start_time": "2022-04-10T05:42:21.611Z"
   },
   {
    "duration": 11,
    "start_time": "2022-04-10T05:42:22.273Z"
   },
   {
    "duration": 9,
    "start_time": "2022-04-10T05:42:23.227Z"
   },
   {
    "duration": 9,
    "start_time": "2022-04-10T05:42:25.027Z"
   },
   {
    "duration": 7,
    "start_time": "2022-04-10T05:42:34.057Z"
   },
   {
    "duration": 14,
    "start_time": "2022-04-10T05:43:00.040Z"
   },
   {
    "duration": 208,
    "start_time": "2022-04-10T05:43:01.938Z"
   },
   {
    "duration": 5,
    "start_time": "2022-04-10T05:43:03.025Z"
   },
   {
    "duration": 38,
    "start_time": "2022-04-10T05:43:11.715Z"
   },
   {
    "duration": 17,
    "start_time": "2022-04-10T05:43:16.330Z"
   },
   {
    "duration": 3,
    "start_time": "2022-04-10T05:43:17.499Z"
   },
   {
    "duration": 10,
    "start_time": "2022-04-10T05:47:10.210Z"
   },
   {
    "duration": 779,
    "start_time": "2022-04-10T05:47:21.743Z"
   },
   {
    "duration": 15,
    "start_time": "2022-04-10T05:47:24.604Z"
   },
   {
    "duration": 20,
    "start_time": "2022-04-10T05:47:29.908Z"
   },
   {
    "duration": 25,
    "start_time": "2022-04-10T05:47:31.128Z"
   },
   {
    "duration": 208,
    "start_time": "2022-04-10T05:47:32.782Z"
   },
   {
    "duration": 7,
    "start_time": "2022-04-10T05:48:26.579Z"
   },
   {
    "duration": 6,
    "start_time": "2022-04-10T05:49:06.040Z"
   },
   {
    "duration": 7,
    "start_time": "2022-04-10T05:49:32.573Z"
   },
   {
    "duration": 8,
    "start_time": "2022-04-10T05:49:33.917Z"
   },
   {
    "duration": 27,
    "start_time": "2022-04-10T05:49:35.423Z"
   },
   {
    "duration": 16,
    "start_time": "2022-04-10T05:49:40.569Z"
   },
   {
    "duration": 13,
    "start_time": "2022-04-10T05:50:27.016Z"
   },
   {
    "duration": 5,
    "start_time": "2022-04-10T05:51:48.770Z"
   },
   {
    "duration": 814,
    "start_time": "2022-04-10T05:51:49.166Z"
   },
   {
    "duration": 13,
    "start_time": "2022-04-10T05:51:49.982Z"
   },
   {
    "duration": 18,
    "start_time": "2022-04-10T05:51:50.288Z"
   },
   {
    "duration": 25,
    "start_time": "2022-04-10T05:51:50.862Z"
   },
   {
    "duration": 209,
    "start_time": "2022-04-10T05:51:51.685Z"
   },
   {
    "duration": 6,
    "start_time": "2022-04-10T05:51:58.125Z"
   },
   {
    "duration": 6,
    "start_time": "2022-04-10T05:51:59.713Z"
   },
   {
    "duration": 6,
    "start_time": "2022-04-10T05:52:00.349Z"
   },
   {
    "duration": 7,
    "start_time": "2022-04-10T05:52:01.407Z"
   },
   {
    "duration": 10,
    "start_time": "2022-04-10T05:52:02.304Z"
   },
   {
    "duration": 9,
    "start_time": "2022-04-10T05:52:06.613Z"
   },
   {
    "duration": 10,
    "start_time": "2022-04-10T05:52:34.822Z"
   },
   {
    "duration": 5,
    "start_time": "2022-04-10T05:54:21.786Z"
   },
   {
    "duration": 4,
    "start_time": "2022-04-10T05:54:47.639Z"
   },
   {
    "duration": 2584,
    "start_time": "2022-04-10T05:55:55.105Z"
   },
   {
    "duration": 3,
    "start_time": "2022-04-10T05:58:33.331Z"
   },
   {
    "duration": 3,
    "start_time": "2022-04-10T05:58:34.026Z"
   },
   {
    "duration": 8,
    "start_time": "2022-04-10T05:58:35.464Z"
   },
   {
    "duration": 1267,
    "start_time": "2022-04-10T05:58:36.681Z"
   },
   {
    "duration": 5,
    "start_time": "2022-04-10T05:58:47.160Z"
   },
   {
    "duration": 172,
    "start_time": "2022-04-10T05:58:49.224Z"
   },
   {
    "duration": 5,
    "start_time": "2022-04-10T05:58:50.679Z"
   },
   {
    "duration": 183,
    "start_time": "2022-04-10T05:58:51.549Z"
   },
   {
    "duration": 5,
    "start_time": "2022-04-10T05:58:52.641Z"
   },
   {
    "duration": 204,
    "start_time": "2022-04-10T05:58:53.463Z"
   },
   {
    "duration": 12,
    "start_time": "2022-04-10T05:58:54.664Z"
   },
   {
    "duration": 2637,
    "start_time": "2022-04-10T05:59:26.233Z"
   },
   {
    "duration": 1327,
    "start_time": "2022-04-10T06:00:43.656Z"
   },
   {
    "duration": 4,
    "start_time": "2022-04-10T06:00:49.016Z"
   },
   {
    "duration": 164,
    "start_time": "2022-04-10T06:00:51.456Z"
   },
   {
    "duration": 4,
    "start_time": "2022-04-10T06:00:52.571Z"
   },
   {
    "duration": 187,
    "start_time": "2022-04-10T06:00:53.338Z"
   },
   {
    "duration": 4,
    "start_time": "2022-04-10T06:00:54.097Z"
   },
   {
    "duration": 195,
    "start_time": "2022-04-10T06:00:54.863Z"
   },
   {
    "duration": 2691,
    "start_time": "2022-04-10T06:01:00.334Z"
   },
   {
    "duration": 2688,
    "start_time": "2022-04-10T06:02:27.177Z"
   },
   {
    "duration": 6,
    "start_time": "2022-04-10T06:06:03.289Z"
   },
   {
    "duration": 6,
    "start_time": "2022-04-10T06:06:37.467Z"
   },
   {
    "duration": 6,
    "start_time": "2022-04-10T06:06:38.424Z"
   },
   {
    "duration": 6,
    "start_time": "2022-04-10T06:06:39.250Z"
   },
   {
    "duration": 6,
    "start_time": "2022-04-10T06:06:40.113Z"
   },
   {
    "duration": 5,
    "start_time": "2022-04-10T06:06:41.012Z"
   },
   {
    "duration": 3,
    "start_time": "2022-04-10T06:06:44.041Z"
   },
   {
    "duration": 3,
    "start_time": "2022-04-10T06:06:46.705Z"
   },
   {
    "duration": 4,
    "start_time": "2022-04-10T06:06:48.119Z"
   },
   {
    "duration": 2,
    "start_time": "2022-04-10T06:06:48.907Z"
   },
   {
    "duration": 2,
    "start_time": "2022-04-10T06:06:49.672Z"
   },
   {
    "duration": 2,
    "start_time": "2022-04-10T06:06:51.218Z"
   },
   {
    "duration": 3,
    "start_time": "2022-04-10T06:06:51.944Z"
   },
   {
    "duration": 2,
    "start_time": "2022-04-10T06:06:53.610Z"
   },
   {
    "duration": 3,
    "start_time": "2022-04-10T06:06:54.243Z"
   },
   {
    "duration": 3,
    "start_time": "2022-04-10T06:06:54.903Z"
   },
   {
    "duration": 3,
    "start_time": "2022-04-10T06:07:06.402Z"
   },
   {
    "duration": 2,
    "start_time": "2022-04-10T06:07:06.979Z"
   },
   {
    "duration": 8,
    "start_time": "2022-04-10T06:07:12.089Z"
   },
   {
    "duration": 215,
    "start_time": "2022-04-10T06:07:12.874Z"
   },
   {
    "duration": 8,
    "start_time": "2022-04-10T06:07:14.137Z"
   },
   {
    "duration": 228,
    "start_time": "2022-04-10T06:07:14.994Z"
   },
   {
    "duration": 2246,
    "start_time": "2022-04-10T06:07:17.194Z"
   },
   {
    "duration": 2023,
    "start_time": "2022-04-10T06:07:20.704Z"
   },
   {
    "duration": 4,
    "start_time": "2022-04-10T06:07:24.001Z"
   },
   {
    "duration": 4,
    "start_time": "2022-04-10T06:07:25.617Z"
   },
   {
    "duration": 4,
    "start_time": "2022-04-10T06:07:26.978Z"
   },
   {
    "duration": 4,
    "start_time": "2022-04-10T06:07:27.812Z"
   },
   {
    "duration": 292,
    "start_time": "2022-04-10T06:07:28.745Z"
   },
   {
    "duration": 295,
    "start_time": "2022-04-10T06:07:29.889Z"
   },
   {
    "duration": 313,
    "start_time": "2022-04-10T06:07:31.009Z"
   },
   {
    "duration": 3,
    "start_time": "2022-04-10T06:08:56.539Z"
   },
   {
    "duration": 8,
    "start_time": "2022-04-10T06:08:57.365Z"
   },
   {
    "duration": 1265,
    "start_time": "2022-04-10T06:08:59.390Z"
   },
   {
    "duration": 5,
    "start_time": "2022-04-10T06:09:08.705Z"
   },
   {
    "duration": 158,
    "start_time": "2022-04-10T06:09:10.802Z"
   },
   {
    "duration": 6,
    "start_time": "2022-04-10T06:09:11.897Z"
   },
   {
    "duration": 181,
    "start_time": "2022-04-10T06:09:12.539Z"
   },
   {
    "duration": 5,
    "start_time": "2022-04-10T06:09:13.041Z"
   },
   {
    "duration": 189,
    "start_time": "2022-04-10T06:09:14.004Z"
   },
   {
    "duration": 2723,
    "start_time": "2022-04-10T06:09:18.689Z"
   },
   {
    "duration": 34,
    "start_time": "2022-04-10T06:13:52.013Z"
   },
   {
    "duration": 4,
    "start_time": "2022-04-10T06:14:18.531Z"
   },
   {
    "duration": 10,
    "start_time": "2022-04-10T06:14:35.227Z"
   },
   {
    "duration": 5,
    "start_time": "2022-04-10T06:16:03.437Z"
   },
   {
    "duration": 3,
    "start_time": "2022-04-10T06:16:23.349Z"
   },
   {
    "duration": 9,
    "start_time": "2022-04-10T06:17:07.413Z"
   },
   {
    "duration": 4,
    "start_time": "2022-04-10T06:17:29.747Z"
   },
   {
    "duration": 11,
    "start_time": "2022-04-10T06:18:06.904Z"
   },
   {
    "duration": 11,
    "start_time": "2022-04-10T06:20:09.160Z"
   },
   {
    "duration": 4,
    "start_time": "2022-04-10T06:22:01.083Z"
   },
   {
    "duration": 25,
    "start_time": "2022-04-10T06:22:17.513Z"
   },
   {
    "duration": 6,
    "start_time": "2022-04-10T06:23:02.022Z"
   },
   {
    "duration": 786,
    "start_time": "2022-04-10T06:23:02.696Z"
   },
   {
    "duration": 13,
    "start_time": "2022-04-10T06:23:03.864Z"
   },
   {
    "duration": 19,
    "start_time": "2022-04-10T06:23:06.215Z"
   },
   {
    "duration": 22,
    "start_time": "2022-04-10T06:23:07.583Z"
   },
   {
    "duration": 211,
    "start_time": "2022-04-10T06:23:08.766Z"
   },
   {
    "duration": 5,
    "start_time": "2022-04-10T06:23:09.862Z"
   },
   {
    "duration": 6,
    "start_time": "2022-04-10T06:23:14.165Z"
   },
   {
    "duration": 6,
    "start_time": "2022-04-10T06:23:16.006Z"
   },
   {
    "duration": 6,
    "start_time": "2022-04-10T06:23:17.396Z"
   },
   {
    "duration": 6,
    "start_time": "2022-04-10T06:23:18.792Z"
   },
   {
    "duration": 4,
    "start_time": "2022-04-10T06:23:21.542Z"
   },
   {
    "duration": 4,
    "start_time": "2022-04-10T06:23:25.647Z"
   },
   {
    "duration": 3,
    "start_time": "2022-04-10T06:23:28.615Z"
   },
   {
    "duration": 2,
    "start_time": "2022-04-10T06:23:29.215Z"
   },
   {
    "duration": 3,
    "start_time": "2022-04-10T06:23:29.665Z"
   },
   {
    "duration": 3,
    "start_time": "2022-04-10T06:23:30.086Z"
   },
   {
    "duration": 3,
    "start_time": "2022-04-10T06:23:30.565Z"
   },
   {
    "duration": 3,
    "start_time": "2022-04-10T06:23:31.009Z"
   },
   {
    "duration": 3,
    "start_time": "2022-04-10T06:23:32.389Z"
   },
   {
    "duration": 2,
    "start_time": "2022-04-10T06:23:32.880Z"
   },
   {
    "duration": 3,
    "start_time": "2022-04-10T06:23:33.421Z"
   },
   {
    "duration": 3,
    "start_time": "2022-04-10T06:23:36.059Z"
   },
   {
    "duration": 3,
    "start_time": "2022-04-10T06:23:36.485Z"
   },
   {
    "duration": 9,
    "start_time": "2022-04-10T06:23:40.273Z"
   },
   {
    "duration": 217,
    "start_time": "2022-04-10T06:23:41.166Z"
   },
   {
    "duration": 8,
    "start_time": "2022-04-10T06:23:42.381Z"
   },
   {
    "duration": 240,
    "start_time": "2022-04-10T06:23:43.215Z"
   },
   {
    "duration": 2517,
    "start_time": "2022-04-10T06:23:45.704Z"
   },
   {
    "duration": 1547,
    "start_time": "2022-04-10T06:23:50.937Z"
   },
   {
    "duration": 4,
    "start_time": "2022-04-10T06:23:52.519Z"
   },
   {
    "duration": 4,
    "start_time": "2022-04-10T06:23:54.455Z"
   },
   {
    "duration": 4,
    "start_time": "2022-04-10T06:23:55.423Z"
   },
   {
    "duration": 4,
    "start_time": "2022-04-10T06:23:56.278Z"
   },
   {
    "duration": 264,
    "start_time": "2022-04-10T06:23:56.943Z"
   },
   {
    "duration": 275,
    "start_time": "2022-04-10T06:23:57.749Z"
   },
   {
    "duration": 276,
    "start_time": "2022-04-10T06:23:58.838Z"
   },
   {
    "duration": 5,
    "start_time": "2022-04-10T06:24:02.576Z"
   },
   {
    "duration": 581,
    "start_time": "2022-04-10T06:24:04.397Z"
   },
   {
    "duration": 737,
    "start_time": "2022-04-10T06:24:05.552Z"
   },
   {
    "duration": 3,
    "start_time": "2022-04-10T06:24:10.805Z"
   },
   {
    "duration": 2,
    "start_time": "2022-04-10T06:24:11.357Z"
   },
   {
    "duration": 7,
    "start_time": "2022-04-10T06:24:12.223Z"
   },
   {
    "duration": 1200,
    "start_time": "2022-04-10T06:24:13.334Z"
   },
   {
    "duration": 5,
    "start_time": "2022-04-10T06:24:15.574Z"
   },
   {
    "duration": 149,
    "start_time": "2022-04-10T06:24:17.101Z"
   },
   {
    "duration": 5,
    "start_time": "2022-04-10T06:24:18.093Z"
   },
   {
    "duration": 168,
    "start_time": "2022-04-10T06:24:18.789Z"
   },
   {
    "duration": 5,
    "start_time": "2022-04-10T06:24:19.430Z"
   },
   {
    "duration": 180,
    "start_time": "2022-04-10T06:24:20.206Z"
   },
   {
    "duration": 26,
    "start_time": "2022-04-10T06:24:28.048Z"
   },
   {
    "duration": 3,
    "start_time": "2022-04-10T06:24:32.872Z"
   },
   {
    "duration": 3,
    "start_time": "2022-04-10T06:24:33.657Z"
   },
   {
    "duration": 10,
    "start_time": "2022-04-10T06:24:37.573Z"
   },
   {
    "duration": 5,
    "start_time": "2022-04-10T06:24:39.144Z"
   },
   {
    "duration": 4627,
    "start_time": "2022-04-10T06:24:41.473Z"
   },
   {
    "duration": 16,
    "start_time": "2022-04-10T06:26:59.234Z"
   },
   {
    "duration": 4537,
    "start_time": "2022-04-10T06:27:19.521Z"
   },
   {
    "duration": 15,
    "start_time": "2022-04-10T06:27:24.060Z"
   },
   {
    "duration": 14,
    "start_time": "2022-04-10T06:30:39.516Z"
   },
   {
    "duration": 4719,
    "start_time": "2022-04-10T06:30:47.890Z"
   },
   {
    "duration": 14,
    "start_time": "2022-04-10T06:30:53.803Z"
   },
   {
    "duration": 9406,
    "start_time": "2022-04-10T06:35:55.391Z"
   },
   {
    "duration": 4651,
    "start_time": "2022-04-10T06:36:32.709Z"
   },
   {
    "duration": 4636,
    "start_time": "2022-04-10T06:37:04.390Z"
   },
   {
    "duration": 16,
    "start_time": "2022-04-10T06:38:56.533Z"
   },
   {
    "duration": 4,
    "start_time": "2022-04-10T06:39:16.470Z"
   },
   {
    "duration": 4,
    "start_time": "2022-04-10T06:48:43.936Z"
   },
   {
    "duration": 750,
    "start_time": "2022-04-10T06:48:44.446Z"
   },
   {
    "duration": 3,
    "start_time": "2022-04-10T06:49:40.890Z"
   },
   {
    "duration": 14,
    "start_time": "2022-04-10T06:49:41.496Z"
   },
   {
    "duration": 3,
    "start_time": "2022-04-10T06:49:57.163Z"
   },
   {
    "duration": 3,
    "start_time": "2022-04-10T06:50:11.033Z"
   },
   {
    "duration": 3,
    "start_time": "2022-04-10T06:50:26.585Z"
   },
   {
    "duration": 3,
    "start_time": "2022-04-10T06:50:41.603Z"
   },
   {
    "duration": 6,
    "start_time": "2022-04-10T06:52:36.373Z"
   },
   {
    "duration": 6,
    "start_time": "2022-04-10T06:52:53.204Z"
   },
   {
    "duration": 6,
    "start_time": "2022-04-10T06:53:06.247Z"
   },
   {
    "duration": 4,
    "start_time": "2022-04-10T06:53:53.381Z"
   },
   {
    "duration": 775,
    "start_time": "2022-04-10T06:55:37.773Z"
   },
   {
    "duration": 14,
    "start_time": "2022-04-10T06:55:38.707Z"
   },
   {
    "duration": 20,
    "start_time": "2022-04-10T06:55:39.574Z"
   },
   {
    "duration": 24,
    "start_time": "2022-04-10T06:55:40.596Z"
   },
   {
    "duration": 201,
    "start_time": "2022-04-10T06:55:41.692Z"
   },
   {
    "duration": 4,
    "start_time": "2022-04-10T06:55:42.599Z"
   },
   {
    "duration": 7,
    "start_time": "2022-04-10T06:55:46.532Z"
   },
   {
    "duration": 5,
    "start_time": "2022-04-10T06:55:47.259Z"
   },
   {
    "duration": 6,
    "start_time": "2022-04-10T06:55:47.906Z"
   },
   {
    "duration": 4,
    "start_time": "2022-04-10T06:55:51.160Z"
   },
   {
    "duration": 2,
    "start_time": "2022-04-10T06:55:58.520Z"
   },
   {
    "duration": 2,
    "start_time": "2022-04-10T06:56:16.304Z"
   },
   {
    "duration": 3,
    "start_time": "2022-04-10T06:56:31.191Z"
   },
   {
    "duration": 7,
    "start_time": "2022-04-10T06:56:49.174Z"
   },
   {
    "duration": 23,
    "start_time": "2022-04-10T06:57:42.284Z"
   },
   {
    "duration": 22,
    "start_time": "2022-04-10T06:58:06.310Z"
   },
   {
    "duration": 13,
    "start_time": "2022-04-10T06:58:21.931Z"
   },
   {
    "duration": 9,
    "start_time": "2022-04-10T06:58:34.581Z"
   },
   {
    "duration": 216,
    "start_time": "2022-04-10T06:58:36.605Z"
   },
   {
    "duration": 8,
    "start_time": "2022-04-10T06:58:40.972Z"
   },
   {
    "duration": 232,
    "start_time": "2022-04-10T06:58:41.796Z"
   },
   {
    "duration": 2364,
    "start_time": "2022-04-10T06:58:45.461Z"
   },
   {
    "duration": 1953,
    "start_time": "2022-04-10T06:58:53.654Z"
   },
   {
    "duration": 5,
    "start_time": "2022-04-10T06:58:59.261Z"
   },
   {
    "duration": 5,
    "start_time": "2022-04-10T06:59:00.647Z"
   },
   {
    "duration": 4,
    "start_time": "2022-04-10T06:59:01.228Z"
   },
   {
    "duration": 5,
    "start_time": "2022-04-10T06:59:01.797Z"
   },
   {
    "duration": 297,
    "start_time": "2022-04-10T06:59:02.412Z"
   },
   {
    "duration": 285,
    "start_time": "2022-04-10T06:59:03.652Z"
   },
   {
    "duration": 299,
    "start_time": "2022-04-10T06:59:04.356Z"
   },
   {
    "duration": 4,
    "start_time": "2022-04-10T06:59:23.118Z"
   },
   {
    "duration": 582,
    "start_time": "2022-04-10T06:59:24.017Z"
   },
   {
    "duration": 628,
    "start_time": "2022-04-10T06:59:24.884Z"
   },
   {
    "duration": 6,
    "start_time": "2022-04-10T07:01:03.613Z"
   },
   {
    "duration": 12,
    "start_time": "2022-04-10T07:02:42.748Z"
   },
   {
    "duration": 5,
    "start_time": "2022-04-10T07:02:54.518Z"
   },
   {
    "duration": 5,
    "start_time": "2022-04-10T07:03:48.368Z"
   },
   {
    "duration": 4,
    "start_time": "2022-04-10T07:04:12.216Z"
   },
   {
    "duration": 2782,
    "start_time": "2022-04-10T07:04:41.848Z"
   },
   {
    "duration": 1444,
    "start_time": "2022-04-10T07:05:32.969Z"
   },
   {
    "duration": 5,
    "start_time": "2022-04-10T07:06:12.927Z"
   },
   {
    "duration": 375,
    "start_time": "2022-04-10T07:06:14.448Z"
   },
   {
    "duration": 5,
    "start_time": "2022-04-10T07:06:15.814Z"
   },
   {
    "duration": 181,
    "start_time": "2022-04-10T07:06:16.422Z"
   },
   {
    "duration": 5,
    "start_time": "2022-04-10T07:06:17.414Z"
   },
   {
    "duration": 194,
    "start_time": "2022-04-10T07:06:18.150Z"
   },
   {
    "duration": 37,
    "start_time": "2022-04-10T07:07:25.221Z"
   },
   {
    "duration": 1542,
    "start_time": "2022-04-10T07:08:24.178Z"
   },
   {
    "duration": 5,
    "start_time": "2022-04-10T07:10:33.387Z"
   },
   {
    "duration": 6,
    "start_time": "2022-04-10T07:11:48.242Z"
   },
   {
    "duration": 3090,
    "start_time": "2022-04-10T07:12:56.491Z"
   },
   {
    "duration": 5,
    "start_time": "2022-04-10T07:13:17.784Z"
   },
   {
    "duration": 43,
    "start_time": "2022-04-10T07:13:44.776Z"
   },
   {
    "duration": 4,
    "start_time": "2022-04-10T07:14:33.172Z"
   },
   {
    "duration": 4,
    "start_time": "2022-04-10T07:15:39.755Z"
   },
   {
    "duration": 3,
    "start_time": "2022-04-10T07:15:59.464Z"
   },
   {
    "duration": 9,
    "start_time": "2022-04-10T07:16:15.635Z"
   },
   {
    "duration": 3,
    "start_time": "2022-04-10T07:16:34.188Z"
   },
   {
    "duration": 3,
    "start_time": "2022-04-10T07:16:55.723Z"
   },
   {
    "duration": 6,
    "start_time": "2022-04-10T07:17:14.030Z"
   },
   {
    "duration": 2245,
    "start_time": "2022-04-10T07:17:39.594Z"
   },
   {
    "duration": 30029,
    "start_time": "2022-04-10T07:23:14.892Z"
   },
   {
    "duration": 4570,
    "start_time": "2022-04-10T07:25:51.746Z"
   },
   {
    "duration": 45830,
    "start_time": "2022-04-10T07:35:47.924Z"
   },
   {
    "duration": 5,
    "start_time": "2022-04-10T07:38:01.358Z"
   },
   {
    "duration": 13,
    "start_time": "2022-04-10T07:38:15.762Z"
   },
   {
    "duration": 5,
    "start_time": "2022-04-10T07:38:44.329Z"
   },
   {
    "duration": 5,
    "start_time": "2022-04-10T07:39:03.089Z"
   },
   {
    "duration": 17,
    "start_time": "2022-04-10T07:39:21.761Z"
   },
   {
    "duration": 18,
    "start_time": "2022-04-10T07:39:35.340Z"
   },
   {
    "duration": 5,
    "start_time": "2022-04-10T07:39:39.871Z"
   },
   {
    "duration": 15,
    "start_time": "2022-04-10T07:39:40.463Z"
   },
   {
    "duration": 10,
    "start_time": "2022-04-10T07:39:40.985Z"
   },
   {
    "duration": 15,
    "start_time": "2022-04-10T07:39:41.540Z"
   },
   {
    "duration": 14,
    "start_time": "2022-04-10T07:39:42.083Z"
   },
   {
    "duration": 4,
    "start_time": "2022-04-10T07:39:59.930Z"
   },
   {
    "duration": 823,
    "start_time": "2022-04-10T07:41:57.716Z"
   },
   {
    "duration": 14,
    "start_time": "2022-04-10T07:41:58.686Z"
   },
   {
    "duration": 21,
    "start_time": "2022-04-10T07:41:59.450Z"
   },
   {
    "duration": 27,
    "start_time": "2022-04-10T07:42:00.326Z"
   },
   {
    "duration": 218,
    "start_time": "2022-04-10T07:42:01.169Z"
   },
   {
    "duration": 5,
    "start_time": "2022-04-10T07:42:01.948Z"
   },
   {
    "duration": 7,
    "start_time": "2022-04-10T07:42:05.939Z"
   },
   {
    "duration": 7,
    "start_time": "2022-04-10T07:42:06.880Z"
   },
   {
    "duration": 10,
    "start_time": "2022-04-10T07:42:07.673Z"
   },
   {
    "duration": 4,
    "start_time": "2022-04-10T07:42:09.185Z"
   },
   {
    "duration": 3,
    "start_time": "2022-04-10T07:42:10.939Z"
   },
   {
    "duration": 3,
    "start_time": "2022-04-10T07:42:13.081Z"
   },
   {
    "duration": 3,
    "start_time": "2022-04-10T07:42:13.897Z"
   },
   {
    "duration": 8,
    "start_time": "2022-04-10T07:42:14.744Z"
   },
   {
    "duration": 27,
    "start_time": "2022-04-10T07:42:16.531Z"
   },
   {
    "duration": 25,
    "start_time": "2022-04-10T07:42:17.330Z"
   },
   {
    "duration": 17,
    "start_time": "2022-04-10T07:42:18.057Z"
   },
   {
    "duration": 12,
    "start_time": "2022-04-10T07:42:20.338Z"
   },
   {
    "duration": 236,
    "start_time": "2022-04-10T07:42:21.224Z"
   },
   {
    "duration": 9,
    "start_time": "2022-04-10T07:42:22.121Z"
   },
   {
    "duration": 239,
    "start_time": "2022-04-10T07:42:23.113Z"
   },
   {
    "duration": 2481,
    "start_time": "2022-04-10T07:42:25.011Z"
   },
   {
    "duration": 1556,
    "start_time": "2022-04-10T07:42:27.538Z"
   },
   {
    "duration": 4,
    "start_time": "2022-04-10T07:42:30.986Z"
   },
   {
    "duration": 4,
    "start_time": "2022-04-10T07:42:32.817Z"
   },
   {
    "duration": 4,
    "start_time": "2022-04-10T07:42:33.475Z"
   },
   {
    "duration": 4,
    "start_time": "2022-04-10T07:42:34.386Z"
   },
   {
    "duration": 336,
    "start_time": "2022-04-10T07:42:35.160Z"
   },
   {
    "duration": 541,
    "start_time": "2022-04-10T07:42:36.297Z"
   },
   {
    "duration": 311,
    "start_time": "2022-04-10T07:42:37.115Z"
   },
   {
    "duration": 5,
    "start_time": "2022-04-10T07:42:41.170Z"
   },
   {
    "duration": 598,
    "start_time": "2022-04-10T07:42:42.209Z"
   },
   {
    "duration": 578,
    "start_time": "2022-04-10T07:42:43.048Z"
   },
   {
    "duration": 6,
    "start_time": "2022-04-10T07:42:45.865Z"
   },
   {
    "duration": 6,
    "start_time": "2022-04-10T07:42:46.699Z"
   },
   {
    "duration": 6,
    "start_time": "2022-04-10T07:42:47.568Z"
   },
   {
    "duration": 3,
    "start_time": "2022-04-10T07:42:48.313Z"
   },
   {
    "duration": 1500,
    "start_time": "2022-04-10T07:42:49.239Z"
   },
   {
    "duration": 6,
    "start_time": "2022-04-10T07:42:53.344Z"
   },
   {
    "duration": 164,
    "start_time": "2022-04-10T07:42:55.154Z"
   },
   {
    "duration": 5,
    "start_time": "2022-04-10T07:42:56.067Z"
   },
   {
    "duration": 208,
    "start_time": "2022-04-10T07:42:56.732Z"
   },
   {
    "duration": 5,
    "start_time": "2022-04-10T07:42:57.617Z"
   },
   {
    "duration": 199,
    "start_time": "2022-04-10T07:42:59.617Z"
   },
   {
    "duration": 44,
    "start_time": "2022-04-10T07:43:02.285Z"
   },
   {
    "duration": 1450,
    "start_time": "2022-04-10T07:43:03.369Z"
   },
   {
    "duration": 6,
    "start_time": "2022-04-10T07:43:05.332Z"
   },
   {
    "duration": 5,
    "start_time": "2022-04-10T07:43:06.555Z"
   },
   {
    "duration": 5,
    "start_time": "2022-04-10T07:43:07.409Z"
   },
   {
    "duration": 41,
    "start_time": "2022-04-10T07:43:08.244Z"
   },
   {
    "duration": 5,
    "start_time": "2022-04-10T07:43:13.892Z"
   },
   {
    "duration": 3,
    "start_time": "2022-04-10T07:43:15.200Z"
   },
   {
    "duration": 9,
    "start_time": "2022-04-10T07:43:16.417Z"
   },
   {
    "duration": 3,
    "start_time": "2022-04-10T07:43:17.502Z"
   },
   {
    "duration": 3,
    "start_time": "2022-04-10T07:43:18.369Z"
   },
   {
    "duration": 2754,
    "start_time": "2022-04-10T07:43:19.380Z"
   },
   {
    "duration": 30970,
    "start_time": "2022-04-10T07:43:28.100Z"
   },
   {
    "duration": 4651,
    "start_time": "2022-04-10T07:44:08.013Z"
   },
   {
    "duration": 47142,
    "start_time": "2022-04-10T07:44:12.666Z"
   },
   {
    "duration": 5,
    "start_time": "2022-04-10T07:45:16.980Z"
   },
   {
    "duration": 15,
    "start_time": "2022-04-10T07:45:18.544Z"
   },
   {
    "duration": 10,
    "start_time": "2022-04-10T07:45:20.084Z"
   },
   {
    "duration": 4,
    "start_time": "2022-04-10T07:45:23.419Z"
   },
   {
    "duration": 5,
    "start_time": "2022-04-10T07:45:30.634Z"
   },
   {
    "duration": 8,
    "start_time": "2022-04-10T07:45:35.980Z"
   },
   {
    "duration": 5,
    "start_time": "2022-04-10T07:45:58.452Z"
   },
   {
    "duration": 7,
    "start_time": "2022-04-10T07:46:35.691Z"
   },
   {
    "duration": 5,
    "start_time": "2022-04-10T07:46:52.494Z"
   },
   {
    "duration": 13,
    "start_time": "2022-04-10T07:47:21.853Z"
   },
   {
    "duration": 6,
    "start_time": "2022-04-10T07:47:37.698Z"
   },
   {
    "duration": 6,
    "start_time": "2022-04-10T07:47:51.297Z"
   },
   {
    "duration": 3,
    "start_time": "2022-04-10T07:48:50.849Z"
   },
   {
    "duration": 8,
    "start_time": "2022-04-10T07:49:05.749Z"
   },
   {
    "duration": 3,
    "start_time": "2022-04-10T07:51:35.920Z"
   },
   {
    "duration": 21,
    "start_time": "2022-04-10T07:51:51.819Z"
   },
   {
    "duration": 13,
    "start_time": "2022-04-10T07:52:56.658Z"
   },
   {
    "duration": 19,
    "start_time": "2022-04-10T08:01:35.989Z"
   },
   {
    "duration": 3,
    "start_time": "2022-04-10T08:01:55.211Z"
   },
   {
    "duration": 20,
    "start_time": "2022-04-10T08:01:56.797Z"
   },
   {
    "duration": 3,
    "start_time": "2022-04-10T08:02:51.358Z"
   },
   {
    "duration": 32,
    "start_time": "2022-04-10T08:02:52.029Z"
   },
   {
    "duration": 10,
    "start_time": "2022-04-10T08:05:27.217Z"
   },
   {
    "duration": 5,
    "start_time": "2022-04-10T08:06:12.501Z"
   },
   {
    "duration": 12,
    "start_time": "2022-04-10T08:06:22.157Z"
   },
   {
    "duration": 14,
    "start_time": "2022-04-10T08:07:07.065Z"
   },
   {
    "duration": 5,
    "start_time": "2022-04-10T08:07:15.391Z"
   },
   {
    "duration": 14,
    "start_time": "2022-04-10T08:07:54.532Z"
   },
   {
    "duration": 15,
    "start_time": "2022-04-10T08:10:55.938Z"
   },
   {
    "duration": 7,
    "start_time": "2022-04-10T08:14:22.940Z"
   },
   {
    "duration": 7,
    "start_time": "2022-04-10T08:14:24.816Z"
   },
   {
    "duration": 9,
    "start_time": "2022-04-10T08:14:26.619Z"
   },
   {
    "duration": 5,
    "start_time": "2022-04-10T08:14:53.048Z"
   },
   {
    "duration": 11,
    "start_time": "2022-04-10T08:14:53.657Z"
   },
   {
    "duration": 5,
    "start_time": "2022-04-10T08:14:54.463Z"
   },
   {
    "duration": 13,
    "start_time": "2022-04-10T08:14:56.623Z"
   },
   {
    "duration": 4,
    "start_time": "2022-04-10T08:15:09.845Z"
   },
   {
    "duration": 764,
    "start_time": "2022-04-10T08:15:10.848Z"
   },
   {
    "duration": 31,
    "start_time": "2022-04-10T08:15:11.614Z"
   },
   {
    "duration": 22,
    "start_time": "2022-04-10T08:15:12.141Z"
   },
   {
    "duration": 23,
    "start_time": "2022-04-10T08:15:12.760Z"
   },
   {
    "duration": 221,
    "start_time": "2022-04-10T08:15:13.352Z"
   },
   {
    "duration": 7,
    "start_time": "2022-04-10T08:15:14.048Z"
   },
   {
    "duration": 6,
    "start_time": "2022-04-10T08:15:17.903Z"
   },
   {
    "duration": 8,
    "start_time": "2022-04-10T08:15:18.736Z"
   },
   {
    "duration": 10,
    "start_time": "2022-04-10T08:15:19.608Z"
   },
   {
    "duration": 7,
    "start_time": "2022-04-10T08:15:29.465Z"
   },
   {
    "duration": 6,
    "start_time": "2022-04-10T08:15:30.103Z"
   },
   {
    "duration": 10,
    "start_time": "2022-04-10T08:15:30.948Z"
   },
   {
    "duration": 4,
    "start_time": "2022-04-10T08:15:47.119Z"
   },
   {
    "duration": 821,
    "start_time": "2022-04-10T08:16:20.943Z"
   },
   {
    "duration": 14,
    "start_time": "2022-04-10T08:16:21.993Z"
   },
   {
    "duration": 32,
    "start_time": "2022-04-10T08:16:22.848Z"
   },
   {
    "duration": 27,
    "start_time": "2022-04-10T08:16:23.768Z"
   },
   {
    "duration": 243,
    "start_time": "2022-04-10T08:16:24.736Z"
   },
   {
    "duration": 9,
    "start_time": "2022-04-10T08:16:25.639Z"
   },
   {
    "duration": 7,
    "start_time": "2022-04-10T08:16:30.594Z"
   },
   {
    "duration": 6,
    "start_time": "2022-04-10T08:16:31.489Z"
   },
   {
    "duration": 11,
    "start_time": "2022-04-10T08:16:32.568Z"
   },
   {
    "duration": 6,
    "start_time": "2022-04-10T08:17:19.604Z"
   },
   {
    "duration": 4,
    "start_time": "2022-04-10T08:17:26.067Z"
   },
   {
    "duration": 3,
    "start_time": "2022-04-10T08:17:33.151Z"
   },
   {
    "duration": 5,
    "start_time": "2022-04-10T08:17:33.842Z"
   },
   {
    "duration": 8,
    "start_time": "2022-04-10T08:17:34.639Z"
   },
   {
    "duration": 9,
    "start_time": "2022-04-10T08:17:35.601Z"
   },
   {
    "duration": 30,
    "start_time": "2022-04-10T08:17:37.826Z"
   },
   {
    "duration": 23,
    "start_time": "2022-04-10T08:17:38.894Z"
   },
   {
    "duration": 16,
    "start_time": "2022-04-10T08:17:42.330Z"
   },
   {
    "duration": 10,
    "start_time": "2022-04-10T08:17:46.722Z"
   },
   {
    "duration": 242,
    "start_time": "2022-04-10T08:17:47.605Z"
   },
   {
    "duration": 10,
    "start_time": "2022-04-10T08:17:48.667Z"
   },
   {
    "duration": 254,
    "start_time": "2022-04-10T08:17:49.298Z"
   },
   {
    "duration": 2645,
    "start_time": "2022-04-10T08:17:51.107Z"
   },
   {
    "duration": 1755,
    "start_time": "2022-04-10T08:18:05.292Z"
   },
   {
    "duration": 6,
    "start_time": "2022-04-10T08:18:07.080Z"
   },
   {
    "duration": 6,
    "start_time": "2022-04-10T08:18:09.161Z"
   },
   {
    "duration": 5,
    "start_time": "2022-04-10T08:18:15.152Z"
   },
   {
    "duration": 5,
    "start_time": "2022-04-10T08:18:16.067Z"
   },
   {
    "duration": 305,
    "start_time": "2022-04-10T08:18:17.050Z"
   },
   {
    "duration": 314,
    "start_time": "2022-04-10T08:18:17.737Z"
   },
   {
    "duration": 311,
    "start_time": "2022-04-10T08:18:18.546Z"
   },
   {
    "duration": 4,
    "start_time": "2022-04-10T08:18:33.453Z"
   },
   {
    "duration": 693,
    "start_time": "2022-04-10T08:18:35.328Z"
   },
   {
    "duration": 617,
    "start_time": "2022-04-10T08:18:37.921Z"
   },
   {
    "duration": 5,
    "start_time": "2022-04-10T08:18:49.617Z"
   },
   {
    "duration": 5,
    "start_time": "2022-04-10T08:18:50.521Z"
   },
   {
    "duration": 5,
    "start_time": "2022-04-10T08:18:51.224Z"
   },
   {
    "duration": 2,
    "start_time": "2022-04-10T08:18:51.888Z"
   },
   {
    "duration": 1979,
    "start_time": "2022-04-10T08:18:52.522Z"
   },
   {
    "duration": 6,
    "start_time": "2022-04-10T08:18:55.632Z"
   },
   {
    "duration": 173,
    "start_time": "2022-04-10T08:18:59.475Z"
   },
   {
    "duration": 4,
    "start_time": "2022-04-10T08:18:59.651Z"
   },
   {
    "duration": 193,
    "start_time": "2022-04-10T08:19:00.664Z"
   },
   {
    "duration": 5,
    "start_time": "2022-04-10T08:19:01.648Z"
   },
   {
    "duration": 206,
    "start_time": "2022-04-10T08:19:02.643Z"
   },
   {
    "duration": 41,
    "start_time": "2022-04-10T08:19:04.481Z"
   },
   {
    "duration": 1495,
    "start_time": "2022-04-10T08:19:05.344Z"
   },
   {
    "duration": 6,
    "start_time": "2022-04-10T08:19:06.983Z"
   },
   {
    "duration": 6,
    "start_time": "2022-04-10T08:19:08.311Z"
   },
   {
    "duration": 6,
    "start_time": "2022-04-10T08:19:10.355Z"
   },
   {
    "duration": 45,
    "start_time": "2022-04-10T08:19:11.353Z"
   },
   {
    "duration": 5,
    "start_time": "2022-04-10T08:19:23.577Z"
   },
   {
    "duration": 3,
    "start_time": "2022-04-10T08:19:26.504Z"
   },
   {
    "duration": 11,
    "start_time": "2022-04-10T08:19:30.066Z"
   },
   {
    "duration": 3,
    "start_time": "2022-04-10T08:19:51.281Z"
   },
   {
    "duration": 4,
    "start_time": "2022-04-10T08:20:01.820Z"
   },
   {
    "duration": 2985,
    "start_time": "2022-04-10T08:20:07.057Z"
   },
   {
    "duration": 31243,
    "start_time": "2022-04-10T08:20:10.052Z"
   },
   {
    "duration": 4737,
    "start_time": "2022-04-10T08:20:45.170Z"
   },
   {
    "duration": 48216,
    "start_time": "2022-04-10T08:20:55.204Z"
   },
   {
    "duration": 4,
    "start_time": "2022-04-10T08:21:43.422Z"
   },
   {
    "duration": 26,
    "start_time": "2022-04-10T08:21:43.437Z"
   },
   {
    "duration": 8,
    "start_time": "2022-04-10T08:21:43.466Z"
   },
   {
    "duration": 6,
    "start_time": "2022-04-10T08:21:43.476Z"
   },
   {
    "duration": 8,
    "start_time": "2022-04-10T08:21:43.484Z"
   },
   {
    "duration": 43,
    "start_time": "2022-04-10T08:21:43.494Z"
   },
   {
    "duration": 105,
    "start_time": "2022-04-10T08:21:43.538Z"
   },
   {
    "duration": 10,
    "start_time": "2022-04-10T08:21:43.648Z"
   },
   {
    "duration": 7,
    "start_time": "2022-04-10T08:21:43.668Z"
   },
   {
    "duration": 34,
    "start_time": "2022-04-10T08:21:49.404Z"
   },
   {
    "duration": 6,
    "start_time": "2022-04-10T08:21:50.043Z"
   },
   {
    "duration": 6,
    "start_time": "2022-04-10T08:21:50.948Z"
   },
   {
    "duration": 5,
    "start_time": "2022-04-10T08:21:56.394Z"
   },
   {
    "duration": 11,
    "start_time": "2022-04-10T08:21:57.418Z"
   },
   {
    "duration": 4,
    "start_time": "2022-04-10T08:21:58.203Z"
   },
   {
    "duration": 10,
    "start_time": "2022-04-10T08:21:59.154Z"
   },
   {
    "duration": 3,
    "start_time": "2022-04-10T08:32:30.526Z"
   },
   {
    "duration": 8,
    "start_time": "2022-04-10T08:32:31.584Z"
   },
   {
    "duration": 4,
    "start_time": "2022-04-10T09:01:02.565Z"
   },
   {
    "duration": 743,
    "start_time": "2022-04-10T09:01:05.644Z"
   },
   {
    "duration": 14,
    "start_time": "2022-04-10T09:01:06.903Z"
   },
   {
    "duration": 19,
    "start_time": "2022-04-10T09:01:07.836Z"
   },
   {
    "duration": 24,
    "start_time": "2022-04-10T09:01:20.323Z"
   },
   {
    "duration": 12,
    "start_time": "2022-04-10T09:02:23.787Z"
   },
   {
    "duration": 17,
    "start_time": "2022-04-10T09:02:45.949Z"
   },
   {
    "duration": 5,
    "start_time": "2022-04-10T09:06:32.849Z"
   },
   {
    "duration": 4,
    "start_time": "2022-04-10T09:06:56.663Z"
   },
   {
    "duration": 14,
    "start_time": "2022-04-10T09:09:26.188Z"
   },
   {
    "duration": 18,
    "start_time": "2022-04-10T09:09:26.791Z"
   },
   {
    "duration": 24,
    "start_time": "2022-04-10T09:09:28.173Z"
   },
   {
    "duration": 195,
    "start_time": "2022-04-10T09:09:29.640Z"
   },
   {
    "duration": 6,
    "start_time": "2022-04-10T09:09:41.312Z"
   },
   {
    "duration": 6,
    "start_time": "2022-04-10T09:09:42.353Z"
   },
   {
    "duration": 6,
    "start_time": "2022-04-10T09:09:43.787Z"
   },
   {
    "duration": 4,
    "start_time": "2022-04-10T09:09:47.039Z"
   },
   {
    "duration": 2,
    "start_time": "2022-04-10T09:09:56.527Z"
   },
   {
    "duration": 4,
    "start_time": "2022-04-10T09:10:12.413Z"
   },
   {
    "duration": 3,
    "start_time": "2022-04-10T09:10:19.894Z"
   },
   {
    "duration": 2,
    "start_time": "2022-04-10T09:10:21.132Z"
   },
   {
    "duration": 23,
    "start_time": "2022-04-10T09:11:21.652Z"
   },
   {
    "duration": 26,
    "start_time": "2022-04-10T09:12:31.914Z"
   },
   {
    "duration": 20,
    "start_time": "2022-04-10T09:12:55.520Z"
   },
   {
    "duration": 14,
    "start_time": "2022-04-10T09:13:01.104Z"
   },
   {
    "duration": 6,
    "start_time": "2022-04-10T09:18:17.553Z"
   },
   {
    "duration": 5,
    "start_time": "2022-04-10T09:18:18.275Z"
   },
   {
    "duration": 4,
    "start_time": "2022-04-10T09:18:18.919Z"
   },
   {
    "duration": 5,
    "start_time": "2022-04-10T09:18:19.842Z"
   },
   {
    "duration": 287,
    "start_time": "2022-04-10T09:18:21.587Z"
   },
   {
    "duration": 287,
    "start_time": "2022-04-10T09:18:28.008Z"
   },
   {
    "duration": 311,
    "start_time": "2022-04-10T09:18:46.884Z"
   },
   {
    "duration": 5,
    "start_time": "2022-04-10T09:20:06.667Z"
   },
   {
    "duration": 571,
    "start_time": "2022-04-10T09:20:09.630Z"
   },
   {
    "duration": 606,
    "start_time": "2022-04-10T09:20:48.003Z"
   },
   {
    "duration": 2644,
    "start_time": "2022-04-10T09:30:22.168Z"
   },
   {
    "duration": 2782,
    "start_time": "2022-04-10T09:30:58.987Z"
   },
   {
    "duration": 2709,
    "start_time": "2022-04-10T09:33:31.284Z"
   },
   {
    "duration": 2885,
    "start_time": "2022-04-10T09:34:05.706Z"
   },
   {
    "duration": 4,
    "start_time": "2022-04-10T09:34:15.866Z"
   },
   {
    "duration": 577,
    "start_time": "2022-04-10T09:34:21.121Z"
   },
   {
    "duration": 574,
    "start_time": "2022-04-10T09:34:23.930Z"
   },
   {
    "duration": 6,
    "start_time": "2022-04-10T09:34:29.920Z"
   },
   {
    "duration": 6,
    "start_time": "2022-04-10T09:34:30.545Z"
   },
   {
    "duration": 5,
    "start_time": "2022-04-10T09:34:31.513Z"
   },
   {
    "duration": 3,
    "start_time": "2022-04-10T09:34:32.374Z"
   },
   {
    "duration": 1807,
    "start_time": "2022-04-10T09:34:33.624Z"
   },
   {
    "duration": 1481,
    "start_time": "2022-04-10T09:35:03.461Z"
   },
   {
    "duration": 1472,
    "start_time": "2022-04-10T09:35:30.145Z"
   },
   {
    "duration": 1466,
    "start_time": "2022-04-10T09:35:51.371Z"
   },
   {
    "duration": 1788,
    "start_time": "2022-04-10T09:37:06.827Z"
   },
   {
    "duration": 5,
    "start_time": "2022-04-10T09:37:29.144Z"
   },
   {
    "duration": 169,
    "start_time": "2022-04-10T09:37:33.170Z"
   },
   {
    "duration": 5,
    "start_time": "2022-04-10T09:37:43.573Z"
   },
   {
    "duration": 187,
    "start_time": "2022-04-10T09:37:47.145Z"
   },
   {
    "duration": 5,
    "start_time": "2022-04-10T09:37:51.478Z"
   },
   {
    "duration": 202,
    "start_time": "2022-04-10T09:37:52.373Z"
   },
   {
    "duration": 1399,
    "start_time": "2022-04-10T09:39:04.604Z"
   },
   {
    "duration": 4,
    "start_time": "2022-04-10T09:39:11.826Z"
   },
   {
    "duration": 163,
    "start_time": "2022-04-10T09:39:12.923Z"
   },
   {
    "duration": 5,
    "start_time": "2022-04-10T09:39:14.833Z"
   },
   {
    "duration": 189,
    "start_time": "2022-04-10T09:39:16.890Z"
   },
   {
    "duration": 5,
    "start_time": "2022-04-10T09:39:18.022Z"
   },
   {
    "duration": 196,
    "start_time": "2022-04-10T09:39:19.143Z"
   },
   {
    "duration": 203,
    "start_time": "2022-04-10T09:39:46.924Z"
   },
   {
    "duration": 199,
    "start_time": "2022-04-10T09:40:08.877Z"
   },
   {
    "duration": 45,
    "start_time": "2022-04-10T09:40:18.931Z"
   },
   {
    "duration": 1459,
    "start_time": "2022-04-10T09:42:59.133Z"
   },
   {
    "duration": 5,
    "start_time": "2022-04-10T09:43:28.790Z"
   },
   {
    "duration": 6,
    "start_time": "2022-04-10T09:43:31.007Z"
   },
   {
    "duration": 5,
    "start_time": "2022-04-10T09:43:31.567Z"
   },
   {
    "duration": 6,
    "start_time": "2022-04-10T09:43:32.323Z"
   },
   {
    "duration": 44,
    "start_time": "2022-04-10T09:43:34.501Z"
   },
   {
    "duration": 1375,
    "start_time": "2022-04-10T09:45:17.701Z"
   },
   {
    "duration": 39,
    "start_time": "2022-04-10T09:47:37.337Z"
   },
   {
    "duration": 4,
    "start_time": "2022-04-10T09:47:38.189Z"
   },
   {
    "duration": 5,
    "start_time": "2022-04-10T09:47:41.236Z"
   },
   {
    "duration": 4,
    "start_time": "2022-04-10T09:47:42.022Z"
   },
   {
    "duration": 36,
    "start_time": "2022-04-10T09:47:42.984Z"
   },
   {
    "duration": 1422,
    "start_time": "2022-04-10T09:47:43.949Z"
   },
   {
    "duration": 5,
    "start_time": "2022-04-10T09:48:37.861Z"
   },
   {
    "duration": 5,
    "start_time": "2022-04-10T09:49:42.855Z"
   },
   {
    "duration": 3,
    "start_time": "2022-04-10T09:49:48.022Z"
   },
   {
    "duration": 10,
    "start_time": "2022-04-10T09:49:53.623Z"
   },
   {
    "duration": 2,
    "start_time": "2022-04-10T09:49:55.703Z"
   },
   {
    "duration": 3,
    "start_time": "2022-04-10T09:49:57.015Z"
   },
   {
    "duration": 2028,
    "start_time": "2022-04-10T09:49:59.005Z"
   },
   {
    "duration": 29006,
    "start_time": "2022-04-10T09:50:05.919Z"
   },
   {
    "duration": 4418,
    "start_time": "2022-04-10T09:50:42.860Z"
   },
   {
    "duration": 45331,
    "start_time": "2022-04-10T09:50:54.624Z"
   },
   {
    "duration": 43646,
    "start_time": "2022-04-10T09:51:48.886Z"
   },
   {
    "duration": 5,
    "start_time": "2022-04-10T09:52:32.534Z"
   },
   {
    "duration": 25,
    "start_time": "2022-04-10T09:52:32.542Z"
   },
   {
    "duration": 10,
    "start_time": "2022-04-10T09:52:32.569Z"
   },
   {
    "duration": 4,
    "start_time": "2022-04-10T09:52:32.581Z"
   },
   {
    "duration": 11,
    "start_time": "2022-04-10T09:52:32.587Z"
   },
   {
    "duration": 32,
    "start_time": "2022-04-10T09:52:32.600Z"
   },
   {
    "duration": 104,
    "start_time": "2022-04-10T09:52:32.636Z"
   },
   {
    "duration": 7,
    "start_time": "2022-04-10T09:53:38.208Z"
   },
   {
    "duration": 5,
    "start_time": "2022-04-10T09:53:38.841Z"
   },
   {
    "duration": 9,
    "start_time": "2022-04-10T09:53:41.544Z"
   },
   {
    "duration": 5,
    "start_time": "2022-04-10T09:53:42.523Z"
   },
   {
    "duration": 4,
    "start_time": "2022-04-10T09:53:43.502Z"
   },
   {
    "duration": 3,
    "start_time": "2022-04-10T09:53:46.157Z"
   },
   {
    "duration": 10,
    "start_time": "2022-04-10T09:53:46.844Z"
   },
   {
    "duration": 4,
    "start_time": "2022-04-10T11:29:26.454Z"
   },
   {
    "duration": 820,
    "start_time": "2022-04-10T11:29:26.474Z"
   },
   {
    "duration": 14,
    "start_time": "2022-04-10T11:29:27.296Z"
   },
   {
    "duration": 35,
    "start_time": "2022-04-10T11:29:27.312Z"
   },
   {
    "duration": 14,
    "start_time": "2022-04-10T11:29:27.350Z"
   },
   {
    "duration": 33,
    "start_time": "2022-04-10T11:29:27.367Z"
   },
   {
    "duration": 46,
    "start_time": "2022-04-10T11:29:27.402Z"
   },
   {
    "duration": 213,
    "start_time": "2022-04-10T11:29:27.451Z"
   },
   {
    "duration": 7,
    "start_time": "2022-04-10T11:29:27.666Z"
   },
   {
    "duration": 35,
    "start_time": "2022-04-10T11:29:27.675Z"
   },
   {
    "duration": 30,
    "start_time": "2022-04-10T11:29:27.712Z"
   },
   {
    "duration": 12,
    "start_time": "2022-04-10T11:29:27.743Z"
   },
   {
    "duration": 29,
    "start_time": "2022-04-10T11:29:27.757Z"
   },
   {
    "duration": 28,
    "start_time": "2022-04-10T11:29:27.788Z"
   },
   {
    "duration": 23,
    "start_time": "2022-04-10T11:29:27.819Z"
   },
   {
    "duration": 32,
    "start_time": "2022-04-10T11:29:27.844Z"
   },
   {
    "duration": 23,
    "start_time": "2022-04-10T11:29:27.878Z"
   },
   {
    "duration": 43,
    "start_time": "2022-04-10T11:29:27.903Z"
   },
   {
    "duration": 21,
    "start_time": "2022-04-10T11:29:27.948Z"
   },
   {
    "duration": 13,
    "start_time": "2022-04-10T11:29:27.971Z"
   },
   {
    "duration": 9,
    "start_time": "2022-04-10T11:29:27.985Z"
   },
   {
    "duration": 261,
    "start_time": "2022-04-10T11:29:27.996Z"
   },
   {
    "duration": 9,
    "start_time": "2022-04-10T11:29:28.259Z"
   },
   {
    "duration": 242,
    "start_time": "2022-04-10T11:29:28.270Z"
   },
   {
    "duration": 5,
    "start_time": "2022-04-10T11:29:28.514Z"
   },
   {
    "duration": 28,
    "start_time": "2022-04-10T11:29:28.521Z"
   },
   {
    "duration": 21,
    "start_time": "2022-04-10T11:29:28.551Z"
   },
   {
    "duration": 43,
    "start_time": "2022-04-10T11:29:28.574Z"
   },
   {
    "duration": 278,
    "start_time": "2022-04-10T11:29:28.619Z"
   },
   {
    "duration": 294,
    "start_time": "2022-04-10T11:29:28.898Z"
   },
   {
    "duration": 309,
    "start_time": "2022-04-10T11:29:29.194Z"
   },
   {
    "duration": 4,
    "start_time": "2022-04-10T11:29:29.505Z"
   },
   {
    "duration": 580,
    "start_time": "2022-04-10T11:29:29.511Z"
   },
   {
    "duration": 598,
    "start_time": "2022-04-10T11:29:30.094Z"
   },
   {
    "duration": 5,
    "start_time": "2022-04-10T11:29:30.694Z"
   },
   {
    "duration": 14,
    "start_time": "2022-04-10T11:29:30.701Z"
   },
   {
    "duration": 19,
    "start_time": "2022-04-10T11:29:30.717Z"
   },
   {
    "duration": 19,
    "start_time": "2022-04-10T11:29:30.738Z"
   },
   {
    "duration": 1438,
    "start_time": "2022-04-10T11:29:30.759Z"
   },
   {
    "duration": 5,
    "start_time": "2022-04-10T11:29:32.199Z"
   },
   {
    "duration": 184,
    "start_time": "2022-04-10T11:29:32.206Z"
   },
   {
    "duration": 5,
    "start_time": "2022-04-10T11:29:32.395Z"
   },
   {
    "duration": 204,
    "start_time": "2022-04-10T11:29:32.402Z"
   },
   {
    "duration": 5,
    "start_time": "2022-04-10T11:29:32.608Z"
   },
   {
    "duration": 213,
    "start_time": "2022-04-10T11:29:32.614Z"
   },
   {
    "duration": 41,
    "start_time": "2022-04-10T11:29:32.831Z"
   },
   {
    "duration": 5,
    "start_time": "2022-04-10T11:29:32.874Z"
   },
   {
    "duration": 16,
    "start_time": "2022-04-10T11:29:32.881Z"
   },
   {
    "duration": 7,
    "start_time": "2022-04-10T11:29:32.899Z"
   },
   {
    "duration": 46,
    "start_time": "2022-04-10T11:29:32.931Z"
   },
   {
    "duration": 1393,
    "start_time": "2022-04-10T11:29:32.979Z"
   },
   {
    "duration": 5,
    "start_time": "2022-04-10T11:29:34.374Z"
   },
   {
    "duration": 14,
    "start_time": "2022-04-10T11:29:34.380Z"
   },
   {
    "duration": 23,
    "start_time": "2022-04-10T11:29:34.396Z"
   },
   {
    "duration": 13,
    "start_time": "2022-04-10T11:29:34.421Z"
   },
   {
    "duration": 24,
    "start_time": "2022-04-10T11:29:34.436Z"
   },
   {
    "duration": 1576,
    "start_time": "2022-04-10T11:29:34.462Z"
   },
   {
    "duration": 29345,
    "start_time": "2022-04-10T11:29:36.131Z"
   },
   {
    "duration": 4532,
    "start_time": "2022-04-10T11:30:05.478Z"
   },
   {
    "duration": 46212,
    "start_time": "2022-04-10T11:30:10.012Z"
   },
   {
    "duration": 9,
    "start_time": "2022-04-10T11:30:56.226Z"
   },
   {
    "duration": 26,
    "start_time": "2022-04-10T11:30:56.237Z"
   },
   {
    "duration": 11,
    "start_time": "2022-04-10T11:30:56.264Z"
   },
   {
    "duration": 5,
    "start_time": "2022-04-10T11:30:56.277Z"
   },
   {
    "duration": 7,
    "start_time": "2022-04-10T11:30:56.284Z"
   },
   {
    "duration": 39,
    "start_time": "2022-04-10T11:30:56.293Z"
   },
   {
    "duration": 105,
    "start_time": "2022-04-10T11:30:56.335Z"
   },
   {
    "duration": 27,
    "start_time": "2022-04-10T11:30:56.442Z"
   },
   {
    "duration": 17,
    "start_time": "2022-04-10T11:30:56.471Z"
   },
   {
    "duration": 45,
    "start_time": "2022-04-10T11:30:56.490Z"
   },
   {
    "duration": 12,
    "start_time": "2022-04-10T11:30:56.631Z"
   },
   {
    "duration": 8,
    "start_time": "2022-04-10T11:30:56.645Z"
   },
   {
    "duration": 14,
    "start_time": "2022-04-10T11:30:56.655Z"
   },
   {
    "duration": 10,
    "start_time": "2022-04-10T11:30:56.671Z"
   },
   {
    "duration": 2512,
    "start_time": "2022-04-10T16:17:17.229Z"
   },
   {
    "duration": 1129,
    "start_time": "2022-04-10T16:17:24.578Z"
   },
   {
    "duration": 20,
    "start_time": "2022-04-10T16:17:29.794Z"
   },
   {
    "duration": 18,
    "start_time": "2022-04-10T16:17:39.497Z"
   },
   {
    "duration": 13,
    "start_time": "2022-04-10T16:17:47.507Z"
   },
   {
    "duration": 15,
    "start_time": "2022-04-10T16:17:51.718Z"
   },
   {
    "duration": 22,
    "start_time": "2022-04-10T16:17:57.314Z"
   },
   {
    "duration": 204,
    "start_time": "2022-04-10T16:18:08.123Z"
   },
   {
    "duration": 13,
    "start_time": "2022-04-10T16:19:38.748Z"
   },
   {
    "duration": 7,
    "start_time": "2022-04-10T16:19:59.876Z"
   },
   {
    "duration": 7,
    "start_time": "2022-04-10T16:20:04.188Z"
   },
   {
    "duration": 4,
    "start_time": "2022-04-10T16:20:36.779Z"
   },
   {
    "duration": 3,
    "start_time": "2022-04-10T16:20:45.363Z"
   },
   {
    "duration": 5,
    "start_time": "2022-04-10T16:20:47.087Z"
   },
   {
    "duration": 2,
    "start_time": "2022-04-10T16:20:52.732Z"
   },
   {
    "duration": 3,
    "start_time": "2022-04-10T16:20:59.715Z"
   },
   {
    "duration": 8,
    "start_time": "2022-04-10T16:21:01.187Z"
   },
   {
    "duration": 20,
    "start_time": "2022-04-10T16:21:53.725Z"
   },
   {
    "duration": 24,
    "start_time": "2022-04-10T16:22:02.395Z"
   },
   {
    "duration": 14,
    "start_time": "2022-04-10T16:22:20.884Z"
   },
   {
    "duration": 9,
    "start_time": "2022-04-10T16:23:20.188Z"
   },
   {
    "duration": 206,
    "start_time": "2022-04-10T16:23:21.877Z"
   },
   {
    "duration": 10,
    "start_time": "2022-04-10T16:23:42.614Z"
   },
   {
    "duration": 291,
    "start_time": "2022-04-10T16:23:44.273Z"
   },
   {
    "duration": 4,
    "start_time": "2022-04-10T16:24:38.695Z"
   },
   {
    "duration": 5,
    "start_time": "2022-04-10T16:24:40.190Z"
   },
   {
    "duration": 6,
    "start_time": "2022-04-10T16:24:41.409Z"
   },
   {
    "duration": 3,
    "start_time": "2022-04-10T16:24:42.719Z"
   },
   {
    "duration": 310,
    "start_time": "2022-04-10T16:24:44.486Z"
   },
   {
    "duration": 232,
    "start_time": "2022-04-10T16:24:46.519Z"
   },
   {
    "duration": 352,
    "start_time": "2022-04-10T16:24:49.391Z"
   },
   {
    "duration": 4,
    "start_time": "2022-04-10T16:25:42.022Z"
   },
   {
    "duration": 565,
    "start_time": "2022-04-10T16:25:44.033Z"
   },
   {
    "duration": 567,
    "start_time": "2022-04-10T16:26:02.444Z"
   },
   {
    "duration": 5,
    "start_time": "2022-04-10T16:26:17.831Z"
   },
   {
    "duration": 5,
    "start_time": "2022-04-10T16:26:22.317Z"
   },
   {
    "duration": 4,
    "start_time": "2022-04-10T16:26:29.189Z"
   },
   {
    "duration": 2,
    "start_time": "2022-04-10T16:26:34.805Z"
   },
   {
    "duration": 1540,
    "start_time": "2022-04-10T16:26:36.847Z"
   },
   {
    "duration": 4,
    "start_time": "2022-04-10T16:27:02.597Z"
   },
   {
    "duration": 141,
    "start_time": "2022-04-10T16:27:04.470Z"
   },
   {
    "duration": 5,
    "start_time": "2022-04-10T16:27:20.177Z"
   },
   {
    "duration": 163,
    "start_time": "2022-04-10T16:27:20.345Z"
   },
   {
    "duration": 10,
    "start_time": "2022-04-10T16:27:28.704Z"
   },
   {
    "duration": 173,
    "start_time": "2022-04-10T16:27:33.741Z"
   },
   {
    "duration": 35,
    "start_time": "2022-04-10T16:27:55.944Z"
   },
   {
    "duration": 6,
    "start_time": "2022-04-10T16:28:16.038Z"
   },
   {
    "duration": 5,
    "start_time": "2022-04-10T16:28:16.857Z"
   },
   {
    "duration": 5,
    "start_time": "2022-04-10T16:28:18.085Z"
   },
   {
    "duration": 55,
    "start_time": "2022-04-10T16:28:20.929Z"
   },
   {
    "duration": 1905,
    "start_time": "2022-04-10T16:28:25.901Z"
   },
   {
    "duration": 4,
    "start_time": "2022-04-10T16:29:26.634Z"
   },
   {
    "duration": 2,
    "start_time": "2022-04-10T16:29:30.798Z"
   },
   {
    "duration": 9,
    "start_time": "2022-04-10T16:29:50.612Z"
   },
   {
    "duration": 3,
    "start_time": "2022-04-10T16:29:53.285Z"
   },
   {
    "duration": 3,
    "start_time": "2022-04-10T16:29:54.694Z"
   },
   {
    "duration": 1467,
    "start_time": "2022-04-10T16:29:56.542Z"
   },
   {
    "duration": 29780,
    "start_time": "2022-04-10T16:30:03.504Z"
   },
   {
    "duration": 4411,
    "start_time": "2022-04-10T16:31:02.609Z"
   },
   {
    "duration": 45481,
    "start_time": "2022-04-10T16:31:37.539Z"
   },
   {
    "duration": 58061,
    "start_time": "2022-04-10T16:32:53.832Z"
   },
   {
    "duration": 6,
    "start_time": "2022-04-10T16:34:13.230Z"
   },
   {
    "duration": 18,
    "start_time": "2022-04-10T16:34:14.432Z"
   },
   {
    "duration": 11,
    "start_time": "2022-04-10T16:34:15.512Z"
   },
   {
    "duration": 5,
    "start_time": "2022-04-10T16:34:16.442Z"
   },
   {
    "duration": 6,
    "start_time": "2022-04-10T16:34:19.825Z"
   },
   {
    "duration": 14,
    "start_time": "2022-04-10T16:34:20.776Z"
   },
   {
    "duration": 5,
    "start_time": "2022-04-10T16:34:23.367Z"
   },
   {
    "duration": 9,
    "start_time": "2022-04-10T16:34:28.423Z"
   },
   {
    "duration": 5,
    "start_time": "2022-04-10T16:34:32.060Z"
   },
   {
    "duration": 14,
    "start_time": "2022-04-10T16:34:43.804Z"
   },
   {
    "duration": 5,
    "start_time": "2022-04-10T16:35:02.552Z"
   },
   {
    "duration": 5,
    "start_time": "2022-04-10T16:35:04.029Z"
   },
   {
    "duration": 2,
    "start_time": "2022-04-10T16:35:08.529Z"
   },
   {
    "duration": 8,
    "start_time": "2022-04-10T16:35:11.536Z"
   },
   {
    "duration": 2737,
    "start_time": "2022-04-10T18:03:53.110Z"
   },
   {
    "duration": 906,
    "start_time": "2022-04-10T18:03:55.850Z"
   },
   {
    "duration": 19,
    "start_time": "2022-04-10T18:03:56.758Z"
   },
   {
    "duration": 26,
    "start_time": "2022-04-10T18:03:56.779Z"
   },
   {
    "duration": 45,
    "start_time": "2022-04-10T18:03:56.807Z"
   },
   {
    "duration": 21,
    "start_time": "2022-04-10T18:03:56.854Z"
   },
   {
    "duration": 35,
    "start_time": "2022-04-10T18:03:56.877Z"
   },
   {
    "duration": 434,
    "start_time": "2022-04-10T18:03:56.943Z"
   },
   {
    "duration": 15,
    "start_time": "2022-04-10T18:03:57.379Z"
   },
   {
    "duration": 8,
    "start_time": "2022-04-10T18:03:57.399Z"
   },
   {
    "duration": 12,
    "start_time": "2022-04-10T18:03:57.409Z"
   },
   {
    "duration": 25,
    "start_time": "2022-04-10T18:03:57.424Z"
   },
   {
    "duration": 11,
    "start_time": "2022-04-10T18:03:57.452Z"
   },
   {
    "duration": 8,
    "start_time": "2022-04-10T18:03:57.466Z"
   },
   {
    "duration": 9,
    "start_time": "2022-04-10T18:03:57.476Z"
   },
   {
    "duration": 7,
    "start_time": "2022-04-10T18:03:57.487Z"
   },
   {
    "duration": 14,
    "start_time": "2022-04-10T18:03:57.496Z"
   },
   {
    "duration": 59,
    "start_time": "2022-04-10T18:03:57.512Z"
   },
   {
    "duration": 31,
    "start_time": "2022-04-10T18:03:57.573Z"
   },
   {
    "duration": 40,
    "start_time": "2022-04-10T18:03:57.606Z"
   },
   {
    "duration": 13,
    "start_time": "2022-04-10T18:03:57.648Z"
   },
   {
    "duration": 375,
    "start_time": "2022-04-10T18:03:57.663Z"
   },
   {
    "duration": 12,
    "start_time": "2022-04-10T18:03:58.040Z"
   },
   {
    "duration": 389,
    "start_time": "2022-04-10T18:03:58.054Z"
   },
   {
    "duration": 6,
    "start_time": "2022-04-10T18:03:58.445Z"
   },
   {
    "duration": 17,
    "start_time": "2022-04-10T18:03:58.453Z"
   },
   {
    "duration": 7,
    "start_time": "2022-04-10T18:03:58.474Z"
   },
   {
    "duration": 5,
    "start_time": "2022-04-10T18:03:58.489Z"
   },
   {
    "duration": 506,
    "start_time": "2022-04-10T18:03:58.497Z"
   },
   {
    "duration": 422,
    "start_time": "2022-04-10T18:03:59.006Z"
   },
   {
    "duration": 422,
    "start_time": "2022-04-10T18:03:59.442Z"
   },
   {
    "duration": 7,
    "start_time": "2022-04-10T18:03:59.867Z"
   },
   {
    "duration": 908,
    "start_time": "2022-04-10T18:03:59.876Z"
   },
   {
    "duration": 835,
    "start_time": "2022-04-10T18:04:00.786Z"
   },
   {
    "duration": 7,
    "start_time": "2022-04-10T18:04:01.623Z"
   },
   {
    "duration": 14,
    "start_time": "2022-04-10T18:04:01.642Z"
   },
   {
    "duration": 16,
    "start_time": "2022-04-10T18:04:01.658Z"
   },
   {
    "duration": 23,
    "start_time": "2022-04-10T18:04:01.676Z"
   },
   {
    "duration": 2196,
    "start_time": "2022-04-10T18:04:01.702Z"
   },
   {
    "duration": 7,
    "start_time": "2022-04-10T18:04:03.900Z"
   },
   {
    "duration": 253,
    "start_time": "2022-04-10T18:04:03.909Z"
   },
   {
    "duration": 6,
    "start_time": "2022-04-10T18:04:04.164Z"
   },
   {
    "duration": 281,
    "start_time": "2022-04-10T18:04:04.172Z"
   },
   {
    "duration": 6,
    "start_time": "2022-04-10T18:04:04.455Z"
   },
   {
    "duration": 302,
    "start_time": "2022-04-10T18:04:04.464Z"
   },
   {
    "duration": 75,
    "start_time": "2022-04-10T18:04:04.769Z"
   },
   {
    "duration": 9,
    "start_time": "2022-04-10T18:04:04.847Z"
   },
   {
    "duration": 11,
    "start_time": "2022-04-10T18:04:04.858Z"
   },
   {
    "duration": 12,
    "start_time": "2022-04-10T18:04:04.871Z"
   },
   {
    "duration": 88,
    "start_time": "2022-04-10T18:04:04.885Z"
   },
   {
    "duration": 1673,
    "start_time": "2022-04-10T18:04:04.976Z"
   },
   {
    "duration": 6,
    "start_time": "2022-04-10T18:04:06.651Z"
   },
   {
    "duration": 8,
    "start_time": "2022-04-10T18:04:06.659Z"
   },
   {
    "duration": 14,
    "start_time": "2022-04-10T18:04:06.669Z"
   },
   {
    "duration": 8,
    "start_time": "2022-04-10T18:04:06.685Z"
   },
   {
    "duration": 7,
    "start_time": "2022-04-10T18:04:06.695Z"
   },
   {
    "duration": 1741,
    "start_time": "2022-04-10T18:04:06.704Z"
   },
   {
    "duration": 37074,
    "start_time": "2022-04-10T18:04:08.448Z"
   },
   {
    "duration": 5284,
    "start_time": "2022-04-10T18:04:45.524Z"
   },
   {
    "duration": 66144,
    "start_time": "2022-04-10T18:04:50.811Z"
   },
   {
    "duration": 6,
    "start_time": "2022-04-10T18:05:56.957Z"
   },
   {
    "duration": 37,
    "start_time": "2022-04-10T18:05:56.965Z"
   },
   {
    "duration": 11,
    "start_time": "2022-04-10T18:05:57.004Z"
   },
   {
    "duration": 16,
    "start_time": "2022-04-10T18:05:57.017Z"
   },
   {
    "duration": 29,
    "start_time": "2022-04-10T18:05:57.035Z"
   },
   {
    "duration": 18,
    "start_time": "2022-04-10T18:05:57.067Z"
   },
   {
    "duration": 13,
    "start_time": "2022-04-10T18:05:57.143Z"
   },
   {
    "duration": 9,
    "start_time": "2022-04-10T18:05:57.244Z"
   },
   {
    "duration": 7,
    "start_time": "2022-04-10T18:05:57.255Z"
   },
   {
    "duration": 11,
    "start_time": "2022-04-10T18:05:57.264Z"
   },
   {
    "duration": 11,
    "start_time": "2022-04-10T18:05:57.344Z"
   },
   {
    "duration": 93,
    "start_time": "2022-04-10T18:05:57.357Z"
   },
   {
    "duration": 12,
    "start_time": "2022-04-10T18:05:57.452Z"
   },
   {
    "duration": 16,
    "start_time": "2022-04-10T18:05:57.467Z"
   },
   {
    "duration": 242,
    "start_time": "2022-04-10T18:33:33.590Z"
   },
   {
    "duration": 350,
    "start_time": "2022-04-10T18:33:39.616Z"
   },
   {
    "duration": 6,
    "start_time": "2022-04-10T18:40:25.569Z"
   },
   {
    "duration": 37,
    "start_time": "2022-04-10T18:45:12.244Z"
   },
   {
    "duration": 2137,
    "start_time": "2022-04-12T04:38:20.473Z"
   },
   {
    "duration": 814,
    "start_time": "2022-04-12T04:38:22.612Z"
   },
   {
    "duration": 18,
    "start_time": "2022-04-12T04:38:34.290Z"
   },
   {
    "duration": 25,
    "start_time": "2022-04-12T04:38:37.749Z"
   },
   {
    "duration": 21,
    "start_time": "2022-04-12T04:39:03.791Z"
   },
   {
    "duration": 38,
    "start_time": "2022-04-12T04:39:32.535Z"
   },
   {
    "duration": 360,
    "start_time": "2022-04-12T04:39:36.332Z"
   },
   {
    "duration": 12,
    "start_time": "2022-04-12T04:39:44.269Z"
   },
   {
    "duration": 8,
    "start_time": "2022-04-12T04:39:45.933Z"
   },
   {
    "duration": 7,
    "start_time": "2022-04-12T04:39:47.147Z"
   },
   {
    "duration": 5,
    "start_time": "2022-04-12T04:39:53.396Z"
   },
   {
    "duration": 4,
    "start_time": "2022-04-12T04:39:59.052Z"
   },
   {
    "duration": 6,
    "start_time": "2022-04-12T04:40:00.171Z"
   },
   {
    "duration": 4,
    "start_time": "2022-04-12T04:40:01.203Z"
   },
   {
    "duration": 6,
    "start_time": "2022-04-12T04:40:03.033Z"
   },
   {
    "duration": 11,
    "start_time": "2022-04-12T04:40:04.544Z"
   },
   {
    "duration": 29,
    "start_time": "2022-04-12T04:40:13.553Z"
   },
   {
    "duration": 25,
    "start_time": "2022-04-12T04:40:18.637Z"
   },
   {
    "duration": 21,
    "start_time": "2022-04-12T04:40:24.211Z"
   },
   {
    "duration": 11,
    "start_time": "2022-04-12T04:40:31.202Z"
   },
   {
    "duration": 343,
    "start_time": "2022-04-12T04:40:33.449Z"
   },
   {
    "duration": 11,
    "start_time": "2022-04-12T04:40:38.955Z"
   },
   {
    "duration": 450,
    "start_time": "2022-04-12T04:40:44.763Z"
   },
   {
    "duration": 5,
    "start_time": "2022-04-12T04:40:56.197Z"
   },
   {
    "duration": 6,
    "start_time": "2022-04-12T04:41:21.102Z"
   },
   {
    "duration": 6,
    "start_time": "2022-04-12T04:41:25.195Z"
   },
   {
    "duration": 6,
    "start_time": "2022-04-12T04:41:26.034Z"
   },
   {
    "duration": 451,
    "start_time": "2022-04-12T04:41:28.083Z"
   },
   {
    "duration": 404,
    "start_time": "2022-04-12T04:41:30.530Z"
   },
   {
    "duration": 511,
    "start_time": "2022-04-12T04:41:35.656Z"
   },
   {
    "duration": 6,
    "start_time": "2022-04-12T04:42:00.215Z"
   },
   {
    "duration": 795,
    "start_time": "2022-04-12T04:42:01.578Z"
   },
   {
    "duration": 917,
    "start_time": "2022-04-12T04:42:06.666Z"
   },
   {
    "duration": 7,
    "start_time": "2022-04-12T04:42:25.731Z"
   },
   {
    "duration": 7,
    "start_time": "2022-04-12T04:42:26.483Z"
   },
   {
    "duration": 7,
    "start_time": "2022-04-12T04:42:27.210Z"
   },
   {
    "duration": 3,
    "start_time": "2022-04-12T04:42:28.067Z"
   },
   {
    "duration": 1940,
    "start_time": "2022-04-12T04:42:29.534Z"
   },
   {
    "duration": 5,
    "start_time": "2022-04-12T04:42:34.747Z"
   },
   {
    "duration": 245,
    "start_time": "2022-04-12T04:42:41.131Z"
   },
   {
    "duration": 6,
    "start_time": "2022-04-12T04:42:44.741Z"
   },
   {
    "duration": 247,
    "start_time": "2022-04-12T04:42:52.109Z"
   },
   {
    "duration": 5,
    "start_time": "2022-04-12T04:42:58.704Z"
   },
   {
    "duration": 265,
    "start_time": "2022-04-12T04:43:00.658Z"
   },
   {
    "duration": 56,
    "start_time": "2022-04-12T04:43:42.384Z"
   },
   {
    "duration": 6,
    "start_time": "2022-04-12T04:43:55.643Z"
   },
   {
    "duration": 6,
    "start_time": "2022-04-12T04:43:56.801Z"
   },
   {
    "duration": 6,
    "start_time": "2022-04-12T04:43:58.266Z"
   },
   {
    "duration": 60,
    "start_time": "2022-04-12T04:44:14.691Z"
   },
   {
    "duration": 1771,
    "start_time": "2022-04-12T04:44:18.621Z"
   },
   {
    "duration": 6,
    "start_time": "2022-04-12T04:46:06.911Z"
   },
   {
    "duration": 4,
    "start_time": "2022-04-12T04:46:10.562Z"
   },
   {
    "duration": 13,
    "start_time": "2022-04-12T04:46:11.523Z"
   },
   {
    "duration": 3,
    "start_time": "2022-04-12T04:46:12.257Z"
   },
   {
    "duration": 4,
    "start_time": "2022-04-12T04:46:13.129Z"
   },
   {
    "duration": 1863,
    "start_time": "2022-04-12T04:46:14.610Z"
   },
   {
    "duration": 32828,
    "start_time": "2022-04-12T04:46:24.254Z"
   },
   {
    "duration": 4994,
    "start_time": "2022-04-12T04:46:57.084Z"
   },
   {
    "duration": 5066,
    "start_time": "2022-04-12T04:48:24.313Z"
   },
   {
    "duration": 53635,
    "start_time": "2022-04-12T04:49:29.948Z"
   },
   {
    "duration": 5,
    "start_time": "2022-04-12T04:50:23.586Z"
   },
   {
    "duration": 21,
    "start_time": "2022-04-12T04:50:23.593Z"
   },
   {
    "duration": 10,
    "start_time": "2022-04-12T04:50:23.618Z"
   },
   {
    "duration": 6,
    "start_time": "2022-04-12T04:50:23.630Z"
   },
   {
    "duration": 10,
    "start_time": "2022-04-12T04:50:23.638Z"
   },
   {
    "duration": 26,
    "start_time": "2022-04-12T04:50:23.650Z"
   },
   {
    "duration": 98,
    "start_time": "2022-04-12T04:50:23.769Z"
   },
   {
    "duration": 8,
    "start_time": "2022-04-12T04:50:23.870Z"
   },
   {
    "duration": 5,
    "start_time": "2022-04-12T04:50:41.478Z"
   },
   {
    "duration": 6,
    "start_time": "2022-04-12T04:50:42.023Z"
   },
   {
    "duration": 48,
    "start_time": "2022-04-12T04:50:42.621Z"
   },
   {
    "duration": 6,
    "start_time": "2022-04-12T04:50:43.237Z"
   },
   {
    "duration": 12,
    "start_time": "2022-04-12T04:50:45.163Z"
   },
   {
    "duration": 8,
    "start_time": "2022-04-12T04:50:46.099Z"
   },
   {
    "duration": 19,
    "start_time": "2022-04-12T04:50:49.294Z"
   },
   {
    "duration": 9,
    "start_time": "2022-04-12T04:50:50.301Z"
   },
   {
    "duration": 8,
    "start_time": "2022-04-12T04:50:51.141Z"
   },
   {
    "duration": 4,
    "start_time": "2022-04-12T04:50:57.593Z"
   },
   {
    "duration": 10,
    "start_time": "2022-04-12T04:50:58.483Z"
   },
   {
    "duration": 7,
    "start_time": "2022-04-12T05:35:35.699Z"
   },
   {
    "duration": 153,
    "start_time": "2022-04-12T05:35:37.208Z"
   },
   {
    "duration": 20,
    "start_time": "2022-04-12T05:37:45.463Z"
   },
   {
    "duration": 35,
    "start_time": "2022-04-12T05:38:42.851Z"
   },
   {
    "duration": 13,
    "start_time": "2022-04-12T05:50:13.532Z"
   },
   {
    "duration": 1895,
    "start_time": "2022-04-12T05:51:47.902Z"
   },
   {
    "duration": 7,
    "start_time": "2022-04-12T05:52:02.911Z"
   },
   {
    "duration": 4,
    "start_time": "2022-04-12T05:52:04.715Z"
   },
   {
    "duration": 12,
    "start_time": "2022-04-12T05:52:05.747Z"
   },
   {
    "duration": 3,
    "start_time": "2022-04-12T05:52:06.491Z"
   },
   {
    "duration": 4,
    "start_time": "2022-04-12T05:52:07.266Z"
   },
   {
    "duration": 1789,
    "start_time": "2022-04-12T05:52:08.285Z"
   },
   {
    "duration": 36732,
    "start_time": "2022-04-12T05:52:14.428Z"
   },
   {
    "duration": 5310,
    "start_time": "2022-04-12T05:52:51.167Z"
   },
   {
    "duration": 5524,
    "start_time": "2022-04-12T05:55:22.567Z"
   },
   {
    "duration": 65058,
    "start_time": "2022-04-12T05:55:37.210Z"
   },
   {
    "duration": 6,
    "start_time": "2022-04-12T05:56:42.271Z"
   },
   {
    "duration": 20,
    "start_time": "2022-04-12T05:56:42.279Z"
   },
   {
    "duration": 11,
    "start_time": "2022-04-12T05:56:42.303Z"
   },
   {
    "duration": 19,
    "start_time": "2022-04-12T05:56:42.316Z"
   },
   {
    "duration": 0,
    "start_time": "2022-04-12T05:56:42.367Z"
   },
   {
    "duration": 0,
    "start_time": "2022-04-12T05:56:42.369Z"
   },
   {
    "duration": 1,
    "start_time": "2022-04-12T05:56:42.371Z"
   },
   {
    "duration": 0,
    "start_time": "2022-04-12T05:56:42.373Z"
   },
   {
    "duration": 0,
    "start_time": "2022-04-12T05:56:42.376Z"
   },
   {
    "duration": 0,
    "start_time": "2022-04-12T05:56:42.377Z"
   },
   {
    "duration": 0,
    "start_time": "2022-04-12T05:56:42.379Z"
   },
   {
    "duration": 0,
    "start_time": "2022-04-12T05:56:42.381Z"
   },
   {
    "duration": 5,
    "start_time": "2022-04-12T06:46:36.209Z"
   },
   {
    "duration": 869,
    "start_time": "2022-04-12T06:46:36.936Z"
   },
   {
    "duration": 21,
    "start_time": "2022-04-12T06:46:39.710Z"
   },
   {
    "duration": 27,
    "start_time": "2022-04-12T06:46:40.445Z"
   },
   {
    "duration": 20,
    "start_time": "2022-04-12T06:46:41.158Z"
   },
   {
    "duration": 34,
    "start_time": "2022-04-12T06:46:43.186Z"
   },
   {
    "duration": 374,
    "start_time": "2022-04-12T06:46:44.382Z"
   },
   {
    "duration": 10,
    "start_time": "2022-04-12T06:46:49.158Z"
   },
   {
    "duration": 7,
    "start_time": "2022-04-12T06:46:53.158Z"
   },
   {
    "duration": 7,
    "start_time": "2022-04-12T06:46:54.003Z"
   },
   {
    "duration": 6,
    "start_time": "2022-04-12T06:46:57.309Z"
   },
   {
    "duration": 4,
    "start_time": "2022-04-12T06:47:00.431Z"
   },
   {
    "duration": 7,
    "start_time": "2022-04-12T06:47:01.416Z"
   },
   {
    "duration": 4,
    "start_time": "2022-04-12T06:47:02.641Z"
   },
   {
    "duration": 5,
    "start_time": "2022-04-12T06:47:03.741Z"
   },
   {
    "duration": 12,
    "start_time": "2022-04-12T06:47:04.846Z"
   },
   {
    "duration": 42,
    "start_time": "2022-04-12T06:47:10.289Z"
   },
   {
    "duration": 22,
    "start_time": "2022-04-12T06:47:12.022Z"
   },
   {
    "duration": 28,
    "start_time": "2022-04-12T06:47:13.766Z"
   },
   {
    "duration": 13,
    "start_time": "2022-04-12T06:47:19.780Z"
   },
   {
    "duration": 335,
    "start_time": "2022-04-12T06:47:54.687Z"
   },
   {
    "duration": 11,
    "start_time": "2022-04-12T06:48:00.375Z"
   },
   {
    "duration": 352,
    "start_time": "2022-04-12T06:48:07.342Z"
   },
   {
    "duration": 5,
    "start_time": "2022-04-12T06:48:15.312Z"
   },
   {
    "duration": 5,
    "start_time": "2022-04-12T06:48:16.135Z"
   },
   {
    "duration": 6,
    "start_time": "2022-04-12T06:48:20.790Z"
   },
   {
    "duration": 5,
    "start_time": "2022-04-12T06:48:22.495Z"
   },
   {
    "duration": 395,
    "start_time": "2022-04-12T06:48:24.837Z"
   },
   {
    "duration": 410,
    "start_time": "2022-04-12T06:48:27.501Z"
   },
   {
    "duration": 421,
    "start_time": "2022-04-12T06:48:58.391Z"
   },
   {
    "duration": 7,
    "start_time": "2022-04-12T06:49:20.825Z"
   },
   {
    "duration": 1109,
    "start_time": "2022-04-12T06:49:21.920Z"
   },
   {
    "duration": 1110,
    "start_time": "2022-04-12T06:49:25.176Z"
   },
   {
    "duration": 8,
    "start_time": "2022-04-12T06:49:29.768Z"
   },
   {
    "duration": 8,
    "start_time": "2022-04-12T06:49:30.551Z"
   },
   {
    "duration": 7,
    "start_time": "2022-04-12T06:49:35.849Z"
   },
   {
    "duration": 4,
    "start_time": "2022-04-12T06:49:37.327Z"
   },
   {
    "duration": 2075,
    "start_time": "2022-04-12T06:49:38.505Z"
   },
   {
    "duration": 6,
    "start_time": "2022-04-12T06:49:44.623Z"
   },
   {
    "duration": 377,
    "start_time": "2022-04-12T06:49:46.567Z"
   },
   {
    "duration": 6,
    "start_time": "2022-04-12T06:49:49.846Z"
   },
   {
    "duration": 298,
    "start_time": "2022-04-12T06:49:53.929Z"
   },
   {
    "duration": 6,
    "start_time": "2022-04-12T06:52:04.402Z"
   },
   {
    "duration": 271,
    "start_time": "2022-04-12T06:52:04.931Z"
   },
   {
    "duration": 56,
    "start_time": "2022-04-12T06:52:07.994Z"
   },
   {
    "duration": 7,
    "start_time": "2022-04-12T06:52:25.599Z"
   },
   {
    "duration": 7,
    "start_time": "2022-04-12T06:52:27.785Z"
   },
   {
    "duration": 6,
    "start_time": "2022-04-12T06:52:28.667Z"
   },
   {
    "duration": 56,
    "start_time": "2022-04-12T06:52:29.722Z"
   },
   {
    "duration": 2109,
    "start_time": "2022-04-12T06:52:31.537Z"
   },
   {
    "duration": 7,
    "start_time": "2022-04-12T06:52:49.833Z"
   },
   {
    "duration": 4,
    "start_time": "2022-04-12T06:52:51.611Z"
   },
   {
    "duration": 10,
    "start_time": "2022-04-12T06:52:52.601Z"
   },
   {
    "duration": 4,
    "start_time": "2022-04-12T06:52:53.511Z"
   },
   {
    "duration": 4,
    "start_time": "2022-04-12T06:52:54.280Z"
   },
   {
    "duration": 3001,
    "start_time": "2022-04-12T06:52:55.168Z"
   },
   {
    "duration": 38565,
    "start_time": "2022-04-12T06:53:02.820Z"
   },
   {
    "duration": 6940,
    "start_time": "2022-04-12T06:53:41.388Z"
   },
   {
    "duration": 61129,
    "start_time": "2022-04-12T06:53:52.981Z"
   },
   {
    "duration": 6,
    "start_time": "2022-04-12T06:55:50.483Z"
   },
   {
    "duration": 17,
    "start_time": "2022-04-12T06:55:51.319Z"
   },
   {
    "duration": 14,
    "start_time": "2022-04-12T06:55:57.930Z"
   },
   {
    "duration": 6,
    "start_time": "2022-04-12T06:56:03.523Z"
   },
   {
    "duration": 7,
    "start_time": "2022-04-12T06:56:05.370Z"
   },
   {
    "duration": 75,
    "start_time": "2022-04-12T06:56:06.395Z"
   },
   {
    "duration": 7,
    "start_time": "2022-04-12T06:56:07.090Z"
   },
   {
    "duration": 10,
    "start_time": "2022-04-12T06:56:08.923Z"
   },
   {
    "duration": 9,
    "start_time": "2022-04-12T06:56:09.610Z"
   },
   {
    "duration": 19,
    "start_time": "2022-04-12T06:56:11.531Z"
   },
   {
    "duration": 7,
    "start_time": "2022-04-12T06:56:12.913Z"
   },
   {
    "duration": 7,
    "start_time": "2022-04-12T06:56:15.402Z"
   },
   {
    "duration": 14,
    "start_time": "2022-04-12T06:56:18.291Z"
   },
   {
    "duration": 114,
    "start_time": "2022-04-12T06:58:41.273Z"
   },
   {
    "duration": 51,
    "start_time": "2022-04-12T06:58:55.745Z"
   },
   {
    "duration": 24,
    "start_time": "2022-04-12T07:01:08.290Z"
   },
   {
    "duration": 7,
    "start_time": "2022-04-12T07:01:38.937Z"
   },
   {
    "duration": 22,
    "start_time": "2022-04-12T07:01:45.511Z"
   },
   {
    "duration": 15,
    "start_time": "2022-04-12T07:03:52.332Z"
   },
   {
    "duration": 19,
    "start_time": "2022-04-12T07:27:03.362Z"
   },
   {
    "duration": 12,
    "start_time": "2022-04-12T07:33:48.343Z"
   },
   {
    "duration": 7,
    "start_time": "2022-04-12T07:33:50.983Z"
   },
   {
    "duration": 11,
    "start_time": "2022-04-12T07:33:58.211Z"
   },
   {
    "duration": 12,
    "start_time": "2022-04-12T07:34:42.741Z"
   },
   {
    "duration": 12,
    "start_time": "2022-04-12T07:35:19.082Z"
   },
   {
    "duration": 11,
    "start_time": "2022-04-12T07:35:19.731Z"
   },
   {
    "duration": 5,
    "start_time": "2022-04-12T07:36:10.235Z"
   },
   {
    "duration": 11,
    "start_time": "2022-04-12T07:36:40.355Z"
   },
   {
    "duration": 14,
    "start_time": "2022-04-12T07:36:41.129Z"
   },
   {
    "duration": 6,
    "start_time": "2022-04-12T07:36:42.625Z"
   },
   {
    "duration": 12,
    "start_time": "2022-04-12T07:36:44.121Z"
   },
   {
    "duration": 22,
    "start_time": "2022-04-12T07:38:17.082Z"
   },
   {
    "duration": 23,
    "start_time": "2022-04-12T07:39:48.892Z"
   },
   {
    "duration": 17,
    "start_time": "2022-04-12T07:40:39.239Z"
   },
   {
    "duration": 11,
    "start_time": "2022-04-12T07:42:15.132Z"
   },
   {
    "duration": 6,
    "start_time": "2022-04-12T07:42:31.711Z"
   },
   {
    "duration": 4,
    "start_time": "2022-04-12T07:42:33.518Z"
   },
   {
    "duration": 12,
    "start_time": "2022-04-12T07:42:34.277Z"
   },
   {
    "duration": 4,
    "start_time": "2022-04-12T07:42:35.589Z"
   },
   {
    "duration": 3,
    "start_time": "2022-04-12T07:42:36.551Z"
   },
   {
    "duration": 2783,
    "start_time": "2022-04-12T07:42:38.885Z"
   },
   {
    "duration": 44616,
    "start_time": "2022-04-12T07:42:45.965Z"
   },
   {
    "duration": 7536,
    "start_time": "2022-04-12T07:43:30.585Z"
   },
   {
    "duration": 7631,
    "start_time": "2022-04-12T07:43:41.004Z"
   },
   {
    "duration": 79608,
    "start_time": "2022-04-12T07:44:04.222Z"
   },
   {
    "duration": 62263,
    "start_time": "2022-04-12T07:45:36.793Z"
   },
   {
    "duration": 11,
    "start_time": "2022-04-12T07:46:39.059Z"
   },
   {
    "duration": 22,
    "start_time": "2022-04-12T07:47:41.382Z"
   },
   {
    "duration": 12,
    "start_time": "2022-04-12T07:47:42.327Z"
   },
   {
    "duration": 19,
    "start_time": "2022-04-12T07:47:43.585Z"
   },
   {
    "duration": 23,
    "start_time": "2022-04-12T07:47:44.831Z"
   },
   {
    "duration": 19,
    "start_time": "2022-04-12T07:47:48.601Z"
   },
   {
    "duration": 8,
    "start_time": "2022-04-12T07:48:20.951Z"
   },
   {
    "duration": 6098,
    "start_time": "2022-04-12T07:48:22.001Z"
   },
   {
    "duration": 20,
    "start_time": "2022-04-12T07:48:28.743Z"
   },
   {
    "duration": 28,
    "start_time": "2022-04-12T07:48:31.086Z"
   },
   {
    "duration": 24,
    "start_time": "2022-04-12T07:48:32.749Z"
   },
   {
    "duration": 32,
    "start_time": "2022-04-12T07:48:35.833Z"
   },
   {
    "duration": 380,
    "start_time": "2022-04-12T07:48:37.393Z"
   },
   {
    "duration": 12,
    "start_time": "2022-04-12T07:48:42.384Z"
   },
   {
    "duration": 10,
    "start_time": "2022-04-12T07:48:44.030Z"
   },
   {
    "duration": 10,
    "start_time": "2022-04-12T07:48:45.168Z"
   },
   {
    "duration": 6,
    "start_time": "2022-04-12T07:48:51.663Z"
   },
   {
    "duration": 5,
    "start_time": "2022-04-12T07:48:56.080Z"
   },
   {
    "duration": 6,
    "start_time": "2022-04-12T07:48:57.205Z"
   },
   {
    "duration": 3,
    "start_time": "2022-04-12T07:48:58.600Z"
   },
   {
    "duration": 5,
    "start_time": "2022-04-12T07:49:00.430Z"
   },
   {
    "duration": 9,
    "start_time": "2022-04-12T07:49:01.422Z"
   },
   {
    "duration": 32,
    "start_time": "2022-04-12T07:49:05.631Z"
   },
   {
    "duration": 17,
    "start_time": "2022-04-12T07:49:06.805Z"
   },
   {
    "duration": 18,
    "start_time": "2022-04-12T07:49:07.880Z"
   },
   {
    "duration": 12,
    "start_time": "2022-04-12T07:49:12.695Z"
   },
   {
    "duration": 375,
    "start_time": "2022-04-12T07:49:13.840Z"
   },
   {
    "duration": 11,
    "start_time": "2022-04-12T07:49:17.352Z"
   },
   {
    "duration": 393,
    "start_time": "2022-04-12T07:49:19.127Z"
   },
   {
    "duration": 6,
    "start_time": "2022-04-12T07:49:23.984Z"
   },
   {
    "duration": 6,
    "start_time": "2022-04-12T07:49:24.731Z"
   },
   {
    "duration": 7,
    "start_time": "2022-04-12T07:49:26.350Z"
   },
   {
    "duration": 6,
    "start_time": "2022-04-12T07:49:27.376Z"
   },
   {
    "duration": 420,
    "start_time": "2022-04-12T07:49:28.559Z"
   },
   {
    "duration": 445,
    "start_time": "2022-04-12T07:49:29.831Z"
   },
   {
    "duration": 701,
    "start_time": "2022-04-12T07:49:31.569Z"
   },
   {
    "duration": 6,
    "start_time": "2022-04-12T07:49:36.369Z"
   },
   {
    "duration": 991,
    "start_time": "2022-04-12T07:49:38.546Z"
   },
   {
    "duration": 871,
    "start_time": "2022-04-12T07:49:41.256Z"
   },
   {
    "duration": 7,
    "start_time": "2022-04-12T07:49:47.728Z"
   },
   {
    "duration": 6,
    "start_time": "2022-04-12T07:49:49.656Z"
   },
   {
    "duration": 7,
    "start_time": "2022-04-12T07:49:51.655Z"
   },
   {
    "duration": 4,
    "start_time": "2022-04-12T07:49:55.646Z"
   },
   {
    "duration": 1983,
    "start_time": "2022-04-12T07:49:57.217Z"
   },
   {
    "duration": 6,
    "start_time": "2022-04-12T07:50:03.047Z"
   },
   {
    "duration": 253,
    "start_time": "2022-04-12T07:50:05.344Z"
   },
   {
    "duration": 5,
    "start_time": "2022-04-12T07:50:06.832Z"
   },
   {
    "duration": 325,
    "start_time": "2022-04-12T07:50:08.523Z"
   },
   {
    "duration": 6,
    "start_time": "2022-04-12T07:50:09.944Z"
   },
   {
    "duration": 309,
    "start_time": "2022-04-12T07:50:11.247Z"
   },
   {
    "duration": 62,
    "start_time": "2022-04-12T07:50:18.673Z"
   },
   {
    "duration": 9,
    "start_time": "2022-04-12T07:50:22.127Z"
   },
   {
    "duration": 10,
    "start_time": "2022-04-12T07:50:25.504Z"
   },
   {
    "duration": 9,
    "start_time": "2022-04-12T07:50:26.512Z"
   },
   {
    "duration": 57,
    "start_time": "2022-04-12T07:50:27.888Z"
   },
   {
    "duration": 1923,
    "start_time": "2022-04-12T07:50:31.879Z"
   },
   {
    "duration": 7,
    "start_time": "2022-04-12T07:50:41.534Z"
   },
   {
    "duration": 5,
    "start_time": "2022-04-12T07:50:44.185Z"
   },
   {
    "duration": 14,
    "start_time": "2022-04-12T07:50:50.048Z"
   },
   {
    "duration": 4,
    "start_time": "2022-04-12T07:50:56.032Z"
   },
   {
    "duration": 4,
    "start_time": "2022-04-12T07:50:58.880Z"
   },
   {
    "duration": 1713,
    "start_time": "2022-04-12T07:51:00.856Z"
   },
   {
    "duration": 42219,
    "start_time": "2022-04-12T07:51:18.386Z"
   },
   {
    "duration": 7208,
    "start_time": "2022-04-12T07:52:08.369Z"
   },
   {
    "duration": 51989,
    "start_time": "2022-04-12T07:52:21.879Z"
   },
   {
    "duration": 5,
    "start_time": "2022-04-12T07:53:22.161Z"
   },
   {
    "duration": 17,
    "start_time": "2022-04-12T07:53:25.560Z"
   },
   {
    "duration": 11,
    "start_time": "2022-04-12T07:53:28.833Z"
   },
   {
    "duration": 6,
    "start_time": "2022-04-12T07:53:32.817Z"
   },
   {
    "duration": 6,
    "start_time": "2022-04-12T07:53:37.149Z"
   },
   {
    "duration": 61,
    "start_time": "2022-04-12T07:53:39.007Z"
   },
   {
    "duration": 10,
    "start_time": "2022-04-12T07:53:40.521Z"
   },
   {
    "duration": 11,
    "start_time": "2022-04-12T07:53:48.484Z"
   },
   {
    "duration": 6,
    "start_time": "2022-04-12T07:53:49.585Z"
   },
   {
    "duration": 66,
    "start_time": "2022-04-12T07:53:54.603Z"
   },
   {
    "duration": 9,
    "start_time": "2022-04-12T07:53:56.487Z"
   },
   {
    "duration": 9,
    "start_time": "2022-04-12T07:54:01.459Z"
   },
   {
    "duration": 11,
    "start_time": "2022-04-12T07:54:04.459Z"
   },
   {
    "duration": 13,
    "start_time": "2022-04-12T07:54:07.868Z"
   },
   {
    "duration": 7,
    "start_time": "2022-04-12T07:54:11.192Z"
   },
   {
    "duration": 16,
    "start_time": "2022-04-12T07:54:15.617Z"
   },
   {
    "duration": 18,
    "start_time": "2022-04-12T07:57:49.003Z"
   },
   {
    "duration": 14,
    "start_time": "2022-04-12T07:58:43.097Z"
   },
   {
    "duration": 6,
    "start_time": "2022-04-12T07:58:59.938Z"
   },
   {
    "duration": 17,
    "start_time": "2022-04-12T08:05:12.360Z"
   },
   {
    "duration": 22,
    "start_time": "2022-04-12T08:06:53.359Z"
   },
   {
    "duration": 17,
    "start_time": "2022-04-12T08:07:50.781Z"
   },
   {
    "duration": 16,
    "start_time": "2022-04-12T08:08:10.484Z"
   },
   {
    "duration": 11,
    "start_time": "2022-04-12T08:23:55.933Z"
   },
   {
    "duration": 6,
    "start_time": "2022-04-12T08:23:57.643Z"
   },
   {
    "duration": 16,
    "start_time": "2022-04-12T08:24:03.357Z"
   },
   {
    "duration": 17,
    "start_time": "2022-04-12T08:24:54.169Z"
   },
   {
    "duration": 7,
    "start_time": "2022-04-12T08:25:02.471Z"
   },
   {
    "duration": 17,
    "start_time": "2022-04-12T08:25:03.263Z"
   },
   {
    "duration": 7,
    "start_time": "2022-04-12T08:27:59.191Z"
   },
   {
    "duration": 17,
    "start_time": "2022-04-12T09:03:26.223Z"
   },
   {
    "duration": 12,
    "start_time": "2022-04-12T09:03:49.164Z"
   },
   {
    "duration": 4,
    "start_time": "2022-04-12T09:03:50.898Z"
   },
   {
    "duration": 16,
    "start_time": "2022-04-12T09:03:51.611Z"
   },
   {
    "duration": 15,
    "start_time": "2022-04-12T09:06:57.735Z"
   },
   {
    "duration": 5,
    "start_time": "2022-04-12T09:07:26.598Z"
   },
   {
    "duration": 775,
    "start_time": "2022-04-12T09:07:27.382Z"
   },
   {
    "duration": 20,
    "start_time": "2022-04-12T09:07:28.844Z"
   },
   {
    "duration": 26,
    "start_time": "2022-04-12T09:07:29.595Z"
   },
   {
    "duration": 22,
    "start_time": "2022-04-12T09:07:30.332Z"
   },
   {
    "duration": 32,
    "start_time": "2022-04-12T09:07:32.441Z"
   },
   {
    "duration": 371,
    "start_time": "2022-04-12T09:07:33.275Z"
   },
   {
    "duration": 9,
    "start_time": "2022-04-12T09:07:38.995Z"
   },
   {
    "duration": 8,
    "start_time": "2022-04-12T09:07:39.875Z"
   },
   {
    "duration": 6,
    "start_time": "2022-04-12T09:07:40.675Z"
   },
   {
    "duration": 5,
    "start_time": "2022-04-12T09:08:06.980Z"
   },
   {
    "duration": 4,
    "start_time": "2022-04-12T09:08:08.318Z"
   },
   {
    "duration": 7,
    "start_time": "2022-04-12T09:08:08.948Z"
   },
   {
    "duration": 5,
    "start_time": "2022-04-12T09:08:09.804Z"
   },
   {
    "duration": 4,
    "start_time": "2022-04-12T09:08:10.733Z"
   },
   {
    "duration": 9,
    "start_time": "2022-04-12T09:08:11.501Z"
   },
   {
    "duration": 31,
    "start_time": "2022-04-12T09:08:14.301Z"
   },
   {
    "duration": 18,
    "start_time": "2022-04-12T09:08:14.986Z"
   },
   {
    "duration": 21,
    "start_time": "2022-04-12T09:08:15.620Z"
   },
   {
    "duration": 11,
    "start_time": "2022-04-12T09:08:18.519Z"
   },
   {
    "duration": 482,
    "start_time": "2022-04-12T09:08:19.690Z"
   },
   {
    "duration": 15,
    "start_time": "2022-04-12T09:08:20.176Z"
   },
   {
    "duration": 500,
    "start_time": "2022-04-12T09:08:20.831Z"
   },
   {
    "duration": 8,
    "start_time": "2022-04-12T09:08:22.124Z"
   },
   {
    "duration": 8,
    "start_time": "2022-04-12T09:08:22.889Z"
   },
   {
    "duration": 7,
    "start_time": "2022-04-12T09:08:25.824Z"
   },
   {
    "duration": 5,
    "start_time": "2022-04-12T09:08:26.158Z"
   },
   {
    "duration": 466,
    "start_time": "2022-04-12T09:08:26.166Z"
   },
   {
    "duration": 421,
    "start_time": "2022-04-12T09:08:28.937Z"
   },
   {
    "duration": 456,
    "start_time": "2022-04-12T09:08:29.361Z"
   },
   {
    "duration": 6,
    "start_time": "2022-04-12T09:08:30.418Z"
   },
   {
    "duration": 799,
    "start_time": "2022-04-12T09:08:31.009Z"
   },
   {
    "duration": 795,
    "start_time": "2022-04-12T09:08:31.811Z"
   },
   {
    "duration": 7,
    "start_time": "2022-04-12T09:08:35.877Z"
   },
   {
    "duration": 6,
    "start_time": "2022-04-12T09:08:36.548Z"
   },
   {
    "duration": 6,
    "start_time": "2022-04-12T09:08:37.328Z"
   },
   {
    "duration": 4,
    "start_time": "2022-04-12T09:08:37.997Z"
   },
   {
    "duration": 2010,
    "start_time": "2022-04-12T09:08:38.690Z"
   },
   {
    "duration": 6,
    "start_time": "2022-04-12T09:08:40.750Z"
   },
   {
    "duration": 259,
    "start_time": "2022-04-12T09:08:41.850Z"
   },
   {
    "duration": 6,
    "start_time": "2022-04-12T09:08:43.005Z"
   },
   {
    "duration": 271,
    "start_time": "2022-04-12T09:08:43.709Z"
   },
   {
    "duration": 6,
    "start_time": "2022-04-12T09:08:44.886Z"
   },
   {
    "duration": 279,
    "start_time": "2022-04-12T09:08:45.577Z"
   },
   {
    "duration": 61,
    "start_time": "2022-04-12T09:08:48.725Z"
   },
   {
    "duration": 6,
    "start_time": "2022-04-12T09:08:49.715Z"
   },
   {
    "duration": 6,
    "start_time": "2022-04-12T09:08:50.542Z"
   },
   {
    "duration": 8,
    "start_time": "2022-04-12T09:08:51.259Z"
   },
   {
    "duration": 59,
    "start_time": "2022-04-12T09:08:51.833Z"
   },
   {
    "duration": 1811,
    "start_time": "2022-04-12T09:08:52.793Z"
   },
   {
    "duration": 10,
    "start_time": "2022-04-12T09:09:01.184Z"
   },
   {
    "duration": 4,
    "start_time": "2022-04-12T09:09:04.719Z"
   },
   {
    "duration": 14,
    "start_time": "2022-04-12T09:09:05.362Z"
   },
   {
    "duration": 5,
    "start_time": "2022-04-12T09:09:05.956Z"
   },
   {
    "duration": 4,
    "start_time": "2022-04-12T09:09:06.793Z"
   },
   {
    "duration": 1694,
    "start_time": "2022-04-12T09:09:08.189Z"
   },
   {
    "duration": 39231,
    "start_time": "2022-04-12T09:09:18.363Z"
   },
   {
    "duration": 7104,
    "start_time": "2022-04-12T09:10:20.099Z"
   },
   {
    "duration": 5632,
    "start_time": "2022-04-12T09:10:34.657Z"
   },
   {
    "duration": 56350,
    "start_time": "2022-04-12T09:10:46.096Z"
   },
   {
    "duration": 5,
    "start_time": "2022-04-12T09:11:47.943Z"
   },
   {
    "duration": 19,
    "start_time": "2022-04-12T09:11:48.645Z"
   },
   {
    "duration": 12,
    "start_time": "2022-04-12T09:11:50.205Z"
   },
   {
    "duration": 5,
    "start_time": "2022-04-12T09:11:51.753Z"
   },
   {
    "duration": 6,
    "start_time": "2022-04-12T09:11:52.431Z"
   },
   {
    "duration": 8,
    "start_time": "2022-04-12T09:11:53.038Z"
   },
   {
    "duration": 7,
    "start_time": "2022-04-12T09:11:53.750Z"
   },
   {
    "duration": 8,
    "start_time": "2022-04-12T09:11:57.421Z"
   },
   {
    "duration": 6,
    "start_time": "2022-04-12T09:11:58.119Z"
   },
   {
    "duration": 39,
    "start_time": "2022-04-12T09:12:01.334Z"
   },
   {
    "duration": 8,
    "start_time": "2022-04-12T09:12:02.048Z"
   },
   {
    "duration": 7,
    "start_time": "2022-04-12T09:12:02.760Z"
   },
   {
    "duration": 11,
    "start_time": "2022-04-12T09:12:07.950Z"
   },
   {
    "duration": 3,
    "start_time": "2022-04-12T09:12:12.011Z"
   },
   {
    "duration": 16,
    "start_time": "2022-04-12T09:12:13.798Z"
   },
   {
    "duration": 18,
    "start_time": "2022-04-12T09:13:24.807Z"
   },
   {
    "duration": 6,
    "start_time": "2022-04-12T09:16:03.017Z"
   },
   {
    "duration": 16,
    "start_time": "2022-04-12T09:16:07.626Z"
   },
   {
    "duration": 11,
    "start_time": "2022-04-12T09:16:27.951Z"
   },
   {
    "duration": 12,
    "start_time": "2022-04-12T09:16:56.425Z"
   },
   {
    "duration": 12,
    "start_time": "2022-04-12T09:16:57.233Z"
   },
   {
    "duration": 1620,
    "start_time": "2022-04-13T04:05:10.305Z"
   },
   {
    "duration": 692,
    "start_time": "2022-04-13T04:05:16.262Z"
   },
   {
    "duration": 12,
    "start_time": "2022-04-13T04:05:17.014Z"
   },
   {
    "duration": 15,
    "start_time": "2022-04-13T04:05:17.065Z"
   },
   {
    "duration": 14,
    "start_time": "2022-04-13T04:05:19.940Z"
   },
   {
    "duration": 21,
    "start_time": "2022-04-13T04:05:20.297Z"
   },
   {
    "duration": 222,
    "start_time": "2022-04-13T04:05:24.478Z"
   },
   {
    "duration": 10,
    "start_time": "2022-04-13T04:05:33.179Z"
   },
   {
    "duration": 5,
    "start_time": "2022-04-13T04:05:36.712Z"
   },
   {
    "duration": 5,
    "start_time": "2022-04-13T04:05:38.013Z"
   },
   {
    "duration": 4,
    "start_time": "2022-04-13T04:06:45.015Z"
   },
   {
    "duration": 3,
    "start_time": "2022-04-13T04:06:53.585Z"
   },
   {
    "duration": 5,
    "start_time": "2022-04-13T04:07:05.094Z"
   },
   {
    "duration": 2,
    "start_time": "2022-04-13T04:07:06.573Z"
   },
   {
    "duration": 3,
    "start_time": "2022-04-13T04:07:09.241Z"
   },
   {
    "duration": 6,
    "start_time": "2022-04-13T04:07:10.174Z"
   },
   {
    "duration": 16,
    "start_time": "2022-04-13T04:07:17.325Z"
   },
   {
    "duration": 21,
    "start_time": "2022-04-13T04:07:19.140Z"
   },
   {
    "duration": 12,
    "start_time": "2022-04-13T04:07:20.573Z"
   },
   {
    "duration": 8,
    "start_time": "2022-04-13T04:07:26.613Z"
   },
   {
    "duration": 176,
    "start_time": "2022-04-13T04:07:27.755Z"
   },
   {
    "duration": 8,
    "start_time": "2022-04-13T04:07:29.980Z"
   },
   {
    "duration": 176,
    "start_time": "2022-04-13T04:07:31.353Z"
   },
   {
    "duration": 4,
    "start_time": "2022-04-13T04:07:44.421Z"
   },
   {
    "duration": 3,
    "start_time": "2022-04-13T04:07:46.217Z"
   },
   {
    "duration": 4,
    "start_time": "2022-04-13T04:07:52.291Z"
   },
   {
    "duration": 4,
    "start_time": "2022-04-13T04:07:55.068Z"
   },
   {
    "duration": 286,
    "start_time": "2022-04-13T04:08:11.297Z"
   },
   {
    "duration": 224,
    "start_time": "2022-04-13T04:08:12.812Z"
   },
   {
    "duration": 243,
    "start_time": "2022-04-13T04:08:16.033Z"
   },
   {
    "duration": 4,
    "start_time": "2022-04-13T04:08:25.023Z"
   },
   {
    "duration": 500,
    "start_time": "2022-04-13T04:08:27.270Z"
   },
   {
    "duration": 477,
    "start_time": "2022-04-13T04:08:29.112Z"
   },
   {
    "duration": 5,
    "start_time": "2022-04-13T04:08:38.965Z"
   },
   {
    "duration": 4,
    "start_time": "2022-04-13T04:08:50.153Z"
   },
   {
    "duration": 4,
    "start_time": "2022-04-13T04:08:52.880Z"
   },
   {
    "duration": 2,
    "start_time": "2022-04-13T04:08:57.699Z"
   },
   {
    "duration": 1443,
    "start_time": "2022-04-13T04:08:59.686Z"
   },
   {
    "duration": 4,
    "start_time": "2022-04-13T04:09:02.332Z"
   },
   {
    "duration": 139,
    "start_time": "2022-04-13T04:09:04.473Z"
   },
   {
    "duration": 4,
    "start_time": "2022-04-13T04:09:05.910Z"
   },
   {
    "duration": 139,
    "start_time": "2022-04-13T04:09:08.634Z"
   },
   {
    "duration": 4,
    "start_time": "2022-04-13T04:09:10.397Z"
   },
   {
    "duration": 145,
    "start_time": "2022-04-13T04:09:12.215Z"
   },
   {
    "duration": 34,
    "start_time": "2022-04-13T04:09:19.074Z"
   },
   {
    "duration": 5,
    "start_time": "2022-04-13T04:09:20.293Z"
   },
   {
    "duration": 5,
    "start_time": "2022-04-13T04:09:38.141Z"
   },
   {
    "duration": 5,
    "start_time": "2022-04-13T04:09:40.949Z"
   },
   {
    "duration": 35,
    "start_time": "2022-04-13T04:09:49.493Z"
   },
   {
    "duration": 1255,
    "start_time": "2022-04-13T04:09:51.702Z"
   },
   {
    "duration": 4,
    "start_time": "2022-04-13T04:10:17.005Z"
   },
   {
    "duration": 2,
    "start_time": "2022-04-13T04:10:19.943Z"
   },
   {
    "duration": 11,
    "start_time": "2022-04-13T04:10:21.100Z"
   },
   {
    "duration": 3,
    "start_time": "2022-04-13T04:10:22.135Z"
   },
   {
    "duration": 3,
    "start_time": "2022-04-13T04:10:49.580Z"
   },
   {
    "duration": 1289,
    "start_time": "2022-04-13T04:10:50.914Z"
   },
   {
    "duration": 25613,
    "start_time": "2022-04-13T04:10:58.078Z"
   },
   {
    "duration": 4008,
    "start_time": "2022-04-13T04:14:42.750Z"
   },
   {
    "duration": 33773,
    "start_time": "2022-04-13T04:14:57.456Z"
   },
   {
    "duration": 4,
    "start_time": "2022-04-13T04:15:31.231Z"
   },
   {
    "duration": 16,
    "start_time": "2022-04-13T04:15:31.237Z"
   },
   {
    "duration": 10,
    "start_time": "2022-04-13T04:15:31.255Z"
   },
   {
    "duration": 4,
    "start_time": "2022-04-13T04:15:58.275Z"
   },
   {
    "duration": 5,
    "start_time": "2022-04-13T04:15:59.642Z"
   },
   {
    "duration": 6,
    "start_time": "2022-04-13T04:16:00.686Z"
   },
   {
    "duration": 4,
    "start_time": "2022-04-13T04:16:01.589Z"
   },
   {
    "duration": 6,
    "start_time": "2022-04-13T04:16:04.673Z"
   },
   {
    "duration": 4,
    "start_time": "2022-04-13T04:16:05.907Z"
   },
   {
    "duration": 8,
    "start_time": "2022-04-13T04:16:07.080Z"
   },
   {
    "duration": 4,
    "start_time": "2022-04-13T04:16:09.228Z"
   },
   {
    "duration": 5,
    "start_time": "2022-04-13T04:16:10.439Z"
   },
   {
    "duration": 101,
    "start_time": "2022-04-13T04:16:12.897Z"
   },
   {
    "duration": 12,
    "start_time": "2022-04-13T04:18:05.369Z"
   },
   {
    "duration": 7,
    "start_time": "2022-04-13T04:18:22.073Z"
   },
   {
    "duration": 8,
    "start_time": "2022-04-13T04:18:29.177Z"
   },
   {
    "duration": 1366,
    "start_time": "2022-04-13T04:18:46.288Z"
   },
   {
    "duration": 6,
    "start_time": "2022-04-13T04:19:33.705Z"
   },
   {
    "duration": 6,
    "start_time": "2022-04-13T04:19:34.446Z"
   },
   {
    "duration": 1376,
    "start_time": "2022-04-13T04:19:39.820Z"
   },
   {
    "duration": 5,
    "start_time": "2022-04-13T04:24:28.507Z"
   },
   {
    "duration": 8,
    "start_time": "2022-04-13T04:25:36.635Z"
   },
   {
    "duration": 8,
    "start_time": "2022-04-13T04:26:35.957Z"
   },
   {
    "duration": 4,
    "start_time": "2022-04-13T04:33:18.195Z"
   },
   {
    "duration": 9,
    "start_time": "2022-04-13T04:33:38.589Z"
   },
   {
    "duration": 9,
    "start_time": "2022-04-13T04:42:28.369Z"
   },
   {
    "duration": 9,
    "start_time": "2022-04-13T04:45:13.378Z"
   },
   {
    "duration": 6,
    "start_time": "2022-04-13T04:46:09.588Z"
   },
   {
    "duration": 10,
    "start_time": "2022-04-13T04:46:13.307Z"
   },
   {
    "duration": 9,
    "start_time": "2022-04-13T04:46:59.235Z"
   },
   {
    "duration": 5,
    "start_time": "2022-04-13T04:47:00.673Z"
   },
   {
    "duration": 12,
    "start_time": "2022-04-13T04:47:06.187Z"
   },
   {
    "duration": 11,
    "start_time": "2022-04-13T04:48:09.565Z"
   },
   {
    "duration": 8,
    "start_time": "2022-04-13T04:48:44.879Z"
   },
   {
    "duration": 5,
    "start_time": "2022-04-13T04:48:48.002Z"
   },
   {
    "duration": 12,
    "start_time": "2022-04-13T04:48:49.523Z"
   },
   {
    "duration": 4,
    "start_time": "2022-04-13T04:48:58.821Z"
   },
   {
    "duration": 11,
    "start_time": "2022-04-13T04:48:59.348Z"
   },
   {
    "duration": 15,
    "start_time": "2022-04-13T04:49:51.828Z"
   },
   {
    "duration": 4,
    "start_time": "2022-04-13T05:11:38.822Z"
   },
   {
    "duration": 9,
    "start_time": "2022-04-13T05:11:57.099Z"
   },
   {
    "duration": 9,
    "start_time": "2022-04-13T05:13:57.420Z"
   },
   {
    "duration": 9,
    "start_time": "2022-04-13T05:13:58.045Z"
   },
   {
    "duration": 4,
    "start_time": "2022-04-13T05:14:16.312Z"
   },
   {
    "duration": 12,
    "start_time": "2022-04-13T05:17:41.128Z"
   },
   {
    "duration": 36,
    "start_time": "2022-04-13T05:31:16.803Z"
   },
   {
    "duration": 22,
    "start_time": "2022-04-13T05:36:31.813Z"
   },
   {
    "duration": 6,
    "start_time": "2022-04-13T05:40:54.088Z"
   },
   {
    "duration": 17,
    "start_time": "2022-04-13T05:43:25.087Z"
   },
   {
    "duration": 6,
    "start_time": "2022-04-13T05:43:45.537Z"
   },
   {
    "duration": 4,
    "start_time": "2022-04-13T05:44:07.194Z"
   },
   {
    "duration": 12,
    "start_time": "2022-04-13T05:45:38.896Z"
   },
   {
    "duration": 8,
    "start_time": "2022-04-13T05:51:01.476Z"
   },
   {
    "duration": 4,
    "start_time": "2022-04-13T05:51:03.404Z"
   },
   {
    "duration": 13,
    "start_time": "2022-04-13T05:51:05.580Z"
   },
   {
    "duration": 7,
    "start_time": "2022-04-13T05:51:38.298Z"
   },
   {
    "duration": 4,
    "start_time": "2022-04-13T05:51:39.016Z"
   },
   {
    "duration": 12,
    "start_time": "2022-04-13T05:51:40.677Z"
   },
   {
    "duration": 7,
    "start_time": "2022-04-13T05:53:00.971Z"
   },
   {
    "duration": 4,
    "start_time": "2022-04-13T05:53:01.932Z"
   },
   {
    "duration": 11,
    "start_time": "2022-04-13T05:53:03.743Z"
   },
   {
    "duration": 7,
    "start_time": "2022-04-13T05:54:23.517Z"
   },
   {
    "duration": 4,
    "start_time": "2022-04-13T05:54:24.907Z"
   },
   {
    "duration": 11,
    "start_time": "2022-04-13T05:54:27.177Z"
   },
   {
    "duration": 12,
    "start_time": "2022-04-13T05:55:49.651Z"
   },
   {
    "duration": 5,
    "start_time": "2022-04-13T06:08:32.720Z"
   },
   {
    "duration": 13,
    "start_time": "2022-04-13T06:33:39.377Z"
   },
   {
    "duration": 21,
    "start_time": "2022-04-13T06:35:15.505Z"
   },
   {
    "duration": 8,
    "start_time": "2022-04-13T06:35:33.155Z"
   },
   {
    "duration": 14,
    "start_time": "2022-04-13T06:35:35.249Z"
   },
   {
    "duration": 8,
    "start_time": "2022-04-13T06:36:09.267Z"
   },
   {
    "duration": 13,
    "start_time": "2022-04-13T06:36:10.403Z"
   },
   {
    "duration": 15,
    "start_time": "2022-04-13T06:37:51.019Z"
   },
   {
    "duration": 14,
    "start_time": "2022-04-13T06:38:07.860Z"
   },
   {
    "duration": 22,
    "start_time": "2022-04-13T06:40:13.880Z"
   },
   {
    "duration": 9,
    "start_time": "2022-04-13T06:50:25.950Z"
   },
   {
    "duration": 19,
    "start_time": "2022-04-13T06:50:27.247Z"
   },
   {
    "duration": 18,
    "start_time": "2022-04-13T06:50:34.162Z"
   },
   {
    "duration": 31,
    "start_time": "2022-04-13T06:59:27.747Z"
   },
   {
    "duration": 15,
    "start_time": "2022-04-13T06:59:31.649Z"
   },
   {
    "duration": 11,
    "start_time": "2022-04-13T06:59:41.364Z"
   },
   {
    "duration": 31,
    "start_time": "2022-04-13T07:01:16.629Z"
   },
   {
    "duration": 11,
    "start_time": "2022-04-13T07:01:18.965Z"
   },
   {
    "duration": 28,
    "start_time": "2022-04-13T07:02:53.532Z"
   },
   {
    "duration": 11,
    "start_time": "2022-04-13T07:02:54.908Z"
   },
   {
    "duration": 13,
    "start_time": "2022-04-13T07:03:27.862Z"
   },
   {
    "duration": 4,
    "start_time": "2022-04-13T07:03:54.629Z"
   },
   {
    "duration": 627,
    "start_time": "2022-04-13T07:03:58.129Z"
   },
   {
    "duration": 12,
    "start_time": "2022-04-13T07:04:01.021Z"
   },
   {
    "duration": 18,
    "start_time": "2022-04-13T07:04:01.943Z"
   },
   {
    "duration": 14,
    "start_time": "2022-04-13T07:04:02.735Z"
   },
   {
    "duration": 18,
    "start_time": "2022-04-13T07:04:05.660Z"
   },
   {
    "duration": 209,
    "start_time": "2022-04-13T07:04:06.733Z"
   },
   {
    "duration": 6,
    "start_time": "2022-04-13T07:04:11.543Z"
   },
   {
    "duration": 5,
    "start_time": "2022-04-13T07:04:15.110Z"
   },
   {
    "duration": 6,
    "start_time": "2022-04-13T07:04:20.659Z"
   },
   {
    "duration": 4,
    "start_time": "2022-04-13T07:04:24.173Z"
   },
   {
    "duration": 3,
    "start_time": "2022-04-13T07:04:28.412Z"
   },
   {
    "duration": 4,
    "start_time": "2022-04-13T07:04:29.356Z"
   },
   {
    "duration": 3,
    "start_time": "2022-04-13T07:04:30.344Z"
   },
   {
    "duration": 2,
    "start_time": "2022-04-13T07:04:32.236Z"
   },
   {
    "duration": 6,
    "start_time": "2022-04-13T07:04:33.164Z"
   },
   {
    "duration": 17,
    "start_time": "2022-04-13T07:04:36.604Z"
   },
   {
    "duration": 19,
    "start_time": "2022-04-13T07:04:38.522Z"
   },
   {
    "duration": 12,
    "start_time": "2022-04-13T07:04:40.214Z"
   },
   {
    "duration": 8,
    "start_time": "2022-04-13T07:04:44.437Z"
   },
   {
    "duration": 185,
    "start_time": "2022-04-13T07:04:45.402Z"
   },
   {
    "duration": 8,
    "start_time": "2022-04-13T07:04:46.796Z"
   },
   {
    "duration": 283,
    "start_time": "2022-04-13T07:04:47.790Z"
   },
   {
    "duration": 4,
    "start_time": "2022-04-13T07:04:50.021Z"
   },
   {
    "duration": 5,
    "start_time": "2022-04-13T07:04:50.921Z"
   },
   {
    "duration": 4,
    "start_time": "2022-04-13T07:04:54.171Z"
   },
   {
    "duration": 6,
    "start_time": "2022-04-13T07:04:54.178Z"
   },
   {
    "duration": 223,
    "start_time": "2022-04-13T07:04:54.915Z"
   },
   {
    "duration": 227,
    "start_time": "2022-04-13T07:04:56.084Z"
   },
   {
    "duration": 240,
    "start_time": "2022-04-13T07:04:57.349Z"
   },
   {
    "duration": 4,
    "start_time": "2022-04-13T07:05:01.729Z"
   },
   {
    "duration": 475,
    "start_time": "2022-04-13T07:05:02.917Z"
   },
   {
    "duration": 506,
    "start_time": "2022-04-13T07:05:04.394Z"
   },
   {
    "duration": 4,
    "start_time": "2022-04-13T07:05:09.427Z"
   },
   {
    "duration": 5,
    "start_time": "2022-04-13T07:05:10.734Z"
   },
   {
    "duration": 5,
    "start_time": "2022-04-13T07:05:11.484Z"
   },
   {
    "duration": 2,
    "start_time": "2022-04-13T07:05:12.155Z"
   },
   {
    "duration": 1434,
    "start_time": "2022-04-13T07:05:12.828Z"
   },
   {
    "duration": 4,
    "start_time": "2022-04-13T07:05:14.264Z"
   },
   {
    "duration": 147,
    "start_time": "2022-04-13T07:05:14.378Z"
   },
   {
    "duration": 5,
    "start_time": "2022-04-13T07:05:15.020Z"
   },
   {
    "duration": 146,
    "start_time": "2022-04-13T07:05:15.763Z"
   },
   {
    "duration": 4,
    "start_time": "2022-04-13T07:05:16.574Z"
   },
   {
    "duration": 149,
    "start_time": "2022-04-13T07:05:17.229Z"
   },
   {
    "duration": 35,
    "start_time": "2022-04-13T07:05:19.684Z"
   },
   {
    "duration": 5,
    "start_time": "2022-04-13T07:05:20.572Z"
   },
   {
    "duration": 5,
    "start_time": "2022-04-13T07:05:21.710Z"
   },
   {
    "duration": 5,
    "start_time": "2022-04-13T07:05:22.708Z"
   },
   {
    "duration": 34,
    "start_time": "2022-04-13T07:05:23.652Z"
   },
   {
    "duration": 1759,
    "start_time": "2022-04-13T07:05:24.574Z"
   },
   {
    "duration": 6,
    "start_time": "2022-04-13T07:05:31.572Z"
   },
   {
    "duration": 3,
    "start_time": "2022-04-13T07:05:34.028Z"
   },
   {
    "duration": 8,
    "start_time": "2022-04-13T07:05:34.889Z"
   },
   {
    "duration": 3,
    "start_time": "2022-04-13T07:05:35.924Z"
   },
   {
    "duration": 2,
    "start_time": "2022-04-13T07:05:42.926Z"
   },
   {
    "duration": 1354,
    "start_time": "2022-04-13T07:05:43.747Z"
   },
   {
    "duration": 35826,
    "start_time": "2022-04-13T07:05:45.104Z"
   },
   {
    "duration": 5346,
    "start_time": "2022-04-13T07:06:27.790Z"
   },
   {
    "duration": 33909,
    "start_time": "2022-04-13T07:06:35.778Z"
   },
   {
    "duration": 4,
    "start_time": "2022-04-13T07:07:24.341Z"
   },
   {
    "duration": 12,
    "start_time": "2022-04-13T07:07:25.136Z"
   },
   {
    "duration": 7,
    "start_time": "2022-04-13T07:07:26.632Z"
   },
   {
    "duration": 4,
    "start_time": "2022-04-13T07:07:28.518Z"
   },
   {
    "duration": 4,
    "start_time": "2022-04-13T07:07:29.367Z"
   },
   {
    "duration": 16,
    "start_time": "2022-04-13T07:07:30.118Z"
   },
   {
    "duration": 5,
    "start_time": "2022-04-13T07:07:31.087Z"
   },
   {
    "duration": 5,
    "start_time": "2022-04-13T07:07:33.550Z"
   },
   {
    "duration": 4,
    "start_time": "2022-04-13T07:07:35.341Z"
   },
   {
    "duration": 18,
    "start_time": "2022-04-13T07:07:36.976Z"
   },
   {
    "duration": 5,
    "start_time": "2022-04-13T07:07:37.918Z"
   },
   {
    "duration": 5,
    "start_time": "2022-04-13T07:07:39.094Z"
   },
   {
    "duration": 89,
    "start_time": "2022-04-13T07:07:45.314Z"
   },
   {
    "duration": 90,
    "start_time": "2022-04-13T07:08:38.462Z"
   },
   {
    "duration": 12,
    "start_time": "2022-04-13T07:08:49.980Z"
   },
   {
    "duration": 11,
    "start_time": "2022-04-13T07:10:26.533Z"
   },
   {
    "duration": 198,
    "start_time": "2022-04-13T07:11:18.048Z"
   },
   {
    "duration": 202,
    "start_time": "2022-04-13T07:11:36.348Z"
   },
   {
    "duration": 14,
    "start_time": "2022-04-13T07:12:11.604Z"
   },
   {
    "duration": 10,
    "start_time": "2022-04-13T07:12:28.159Z"
   },
   {
    "duration": 10,
    "start_time": "2022-04-13T07:12:36.406Z"
   },
   {
    "duration": 11,
    "start_time": "2022-04-13T07:12:43.878Z"
   },
   {
    "duration": 326,
    "start_time": "2022-04-13T07:12:59.363Z"
   },
   {
    "duration": 14,
    "start_time": "2022-04-13T07:13:12.865Z"
   },
   {
    "duration": 18,
    "start_time": "2022-04-13T07:13:17.890Z"
   },
   {
    "duration": 14,
    "start_time": "2022-04-13T07:13:28.298Z"
   },
   {
    "duration": 10,
    "start_time": "2022-04-13T07:13:59.452Z"
   },
   {
    "duration": 9,
    "start_time": "2022-04-13T07:16:15.346Z"
   },
   {
    "duration": 9,
    "start_time": "2022-04-13T07:16:17.168Z"
   },
   {
    "duration": 8,
    "start_time": "2022-04-13T07:21:18.348Z"
   },
   {
    "duration": 17,
    "start_time": "2022-04-13T07:24:39.692Z"
   },
   {
    "duration": 4,
    "start_time": "2022-04-13T07:34:35.411Z"
   },
   {
    "duration": 3,
    "start_time": "2022-04-13T07:34:39.306Z"
   },
   {
    "duration": 9,
    "start_time": "2022-04-13T07:34:40.535Z"
   },
   {
    "duration": 3,
    "start_time": "2022-04-13T07:34:42.952Z"
   },
   {
    "duration": 3,
    "start_time": "2022-04-13T07:34:47.152Z"
   },
   {
    "duration": 2012,
    "start_time": "2022-04-13T07:34:50.231Z"
   },
   {
    "duration": 4,
    "start_time": "2022-04-13T07:37:18.982Z"
   },
   {
    "duration": 2,
    "start_time": "2022-04-13T07:37:23.814Z"
   },
   {
    "duration": 10,
    "start_time": "2022-04-13T07:37:24.543Z"
   },
   {
    "duration": 3,
    "start_time": "2022-04-13T07:37:25.207Z"
   },
   {
    "duration": 3,
    "start_time": "2022-04-13T07:37:25.856Z"
   },
   {
    "duration": 1547,
    "start_time": "2022-04-13T07:37:27.352Z"
   },
   {
    "duration": 4,
    "start_time": "2022-04-13T07:39:35.296Z"
   },
   {
    "duration": 3,
    "start_time": "2022-04-13T07:39:39.666Z"
   },
   {
    "duration": 10,
    "start_time": "2022-04-13T07:39:40.507Z"
   },
   {
    "duration": 3,
    "start_time": "2022-04-13T07:39:41.834Z"
   },
   {
    "duration": 2,
    "start_time": "2022-04-13T07:39:43.411Z"
   },
   {
    "duration": 1589,
    "start_time": "2022-04-13T07:39:58.746Z"
   },
   {
    "duration": 5,
    "start_time": "2022-04-13T07:42:47.605Z"
   },
   {
    "duration": 3,
    "start_time": "2022-04-13T07:42:54.083Z"
   },
   {
    "duration": 11,
    "start_time": "2022-04-13T07:42:54.938Z"
   },
   {
    "duration": 4,
    "start_time": "2022-04-13T07:42:55.913Z"
   },
   {
    "duration": 3,
    "start_time": "2022-04-13T07:42:56.587Z"
   },
   {
    "duration": 1729,
    "start_time": "2022-04-13T07:43:03.493Z"
   },
   {
    "duration": 2235,
    "start_time": "2022-04-13T07:43:36.050Z"
   },
   {
    "duration": 4,
    "start_time": "2022-04-13T07:45:33.421Z"
   },
   {
    "duration": 2,
    "start_time": "2022-04-13T07:45:34.629Z"
   },
   {
    "duration": 8,
    "start_time": "2022-04-13T07:45:35.558Z"
   },
   {
    "duration": 189,
    "start_time": "2022-04-13T07:45:43.660Z"
   },
   {
    "duration": 4,
    "start_time": "2022-04-13T07:55:59.017Z"
   },
   {
    "duration": 3,
    "start_time": "2022-04-13T07:56:01.308Z"
   },
   {
    "duration": 10,
    "start_time": "2022-04-13T07:56:02.347Z"
   },
   {
    "duration": 3,
    "start_time": "2022-04-13T07:56:08.672Z"
   },
   {
    "duration": 3,
    "start_time": "2022-04-13T07:56:10.717Z"
   },
   {
    "duration": 514,
    "start_time": "2022-04-13T07:56:14.292Z"
   },
   {
    "duration": 4,
    "start_time": "2022-04-13T07:56:44.335Z"
   },
   {
    "duration": 3,
    "start_time": "2022-04-13T07:56:50.108Z"
   },
   {
    "duration": 8,
    "start_time": "2022-04-13T07:56:50.938Z"
   },
   {
    "duration": 4,
    "start_time": "2022-04-13T07:56:53.067Z"
   },
   {
    "duration": 7,
    "start_time": "2022-04-13T07:56:53.073Z"
   },
   {
    "duration": 107,
    "start_time": "2022-04-13T07:56:53.914Z"
   },
   {
    "duration": 6,
    "start_time": "2022-04-13T07:57:16.402Z"
   },
   {
    "duration": 691,
    "start_time": "2022-04-13T07:57:16.929Z"
   },
   {
    "duration": 13,
    "start_time": "2022-04-13T07:57:18.083Z"
   },
   {
    "duration": 17,
    "start_time": "2022-04-13T07:57:18.635Z"
   },
   {
    "duration": 19,
    "start_time": "2022-04-13T07:57:19.190Z"
   },
   {
    "duration": 20,
    "start_time": "2022-04-13T07:57:20.833Z"
   },
   {
    "duration": 220,
    "start_time": "2022-04-13T07:57:21.431Z"
   },
   {
    "duration": 6,
    "start_time": "2022-04-13T07:57:24.385Z"
   },
   {
    "duration": 6,
    "start_time": "2022-04-13T07:57:25.376Z"
   },
   {
    "duration": 6,
    "start_time": "2022-04-13T07:57:26.079Z"
   },
   {
    "duration": 3,
    "start_time": "2022-04-13T07:57:28.721Z"
   },
   {
    "duration": 3,
    "start_time": "2022-04-13T07:57:30.951Z"
   },
   {
    "duration": 4,
    "start_time": "2022-04-13T07:57:31.801Z"
   },
   {
    "duration": 3,
    "start_time": "2022-04-13T07:57:32.615Z"
   },
   {
    "duration": 3,
    "start_time": "2022-04-13T07:57:33.400Z"
   },
   {
    "duration": 6,
    "start_time": "2022-04-13T07:57:34.228Z"
   },
   {
    "duration": 18,
    "start_time": "2022-04-13T07:57:37.456Z"
   },
   {
    "duration": 16,
    "start_time": "2022-04-13T07:57:38.248Z"
   },
   {
    "duration": 14,
    "start_time": "2022-04-13T07:57:39.019Z"
   },
   {
    "duration": 9,
    "start_time": "2022-04-13T07:57:42.409Z"
   },
   {
    "duration": 245,
    "start_time": "2022-04-13T07:57:43.351Z"
   },
   {
    "duration": 8,
    "start_time": "2022-04-13T07:57:44.615Z"
   },
   {
    "duration": 187,
    "start_time": "2022-04-13T07:57:45.399Z"
   },
   {
    "duration": 4,
    "start_time": "2022-04-13T07:57:48.294Z"
   },
   {
    "duration": 4,
    "start_time": "2022-04-13T07:57:49.115Z"
   },
   {
    "duration": 4,
    "start_time": "2022-04-13T07:57:50.569Z"
   },
   {
    "duration": 4,
    "start_time": "2022-04-13T07:57:51.826Z"
   },
   {
    "duration": 237,
    "start_time": "2022-04-13T07:57:52.639Z"
   },
   {
    "duration": 249,
    "start_time": "2022-04-13T07:57:53.810Z"
   },
   {
    "duration": 256,
    "start_time": "2022-04-13T07:57:54.552Z"
   },
   {
    "duration": 4,
    "start_time": "2022-04-13T07:57:57.880Z"
   },
   {
    "duration": 573,
    "start_time": "2022-04-13T07:57:58.921Z"
   },
   {
    "duration": 601,
    "start_time": "2022-04-13T07:58:00.232Z"
   },
   {
    "duration": 5,
    "start_time": "2022-04-13T07:58:04.344Z"
   },
   {
    "duration": 5,
    "start_time": "2022-04-13T07:58:05.305Z"
   },
   {
    "duration": 5,
    "start_time": "2022-04-13T07:58:05.968Z"
   },
   {
    "duration": 3,
    "start_time": "2022-04-13T07:58:06.639Z"
   },
   {
    "duration": 1485,
    "start_time": "2022-04-13T07:58:07.379Z"
   },
   {
    "duration": 4,
    "start_time": "2022-04-13T07:58:10.034Z"
   },
   {
    "duration": 153,
    "start_time": "2022-04-13T07:58:10.752Z"
   },
   {
    "duration": 5,
    "start_time": "2022-04-13T07:58:12.583Z"
   },
   {
    "duration": 180,
    "start_time": "2022-04-13T07:58:13.231Z"
   },
   {
    "duration": 4,
    "start_time": "2022-04-13T07:58:14.479Z"
   },
   {
    "duration": 167,
    "start_time": "2022-04-13T07:58:16.799Z"
   },
   {
    "duration": 32,
    "start_time": "2022-04-13T07:58:19.353Z"
   },
   {
    "duration": 5,
    "start_time": "2022-04-13T07:58:21.096Z"
   },
   {
    "duration": 5,
    "start_time": "2022-04-13T07:58:21.967Z"
   },
   {
    "duration": 5,
    "start_time": "2022-04-13T07:58:22.745Z"
   },
   {
    "duration": 35,
    "start_time": "2022-04-13T07:58:23.458Z"
   },
   {
    "duration": 1309,
    "start_time": "2022-04-13T07:58:24.173Z"
   },
   {
    "duration": 5,
    "start_time": "2022-04-13T07:58:29.810Z"
   },
   {
    "duration": 3,
    "start_time": "2022-04-13T07:58:31.567Z"
   },
   {
    "duration": 12,
    "start_time": "2022-04-13T07:58:32.297Z"
   },
   {
    "duration": 3,
    "start_time": "2022-04-13T07:58:33.128Z"
   },
   {
    "duration": 2,
    "start_time": "2022-04-13T07:58:33.981Z"
   },
   {
    "duration": 399,
    "start_time": "2022-04-13T07:58:35.312Z"
   },
   {
    "duration": 1992,
    "start_time": "2022-04-13T07:59:14.215Z"
   },
   {
    "duration": 31415,
    "start_time": "2022-04-13T07:59:25.229Z"
   },
   {
    "duration": 5468,
    "start_time": "2022-04-13T08:02:37.806Z"
   },
   {
    "duration": 43523,
    "start_time": "2022-04-13T08:02:47.614Z"
   },
   {
    "duration": 5,
    "start_time": "2022-04-13T08:03:38.611Z"
   },
   {
    "duration": 12,
    "start_time": "2022-04-13T08:03:39.386Z"
   },
   {
    "duration": 7,
    "start_time": "2022-04-13T08:03:40.938Z"
   },
   {
    "duration": 4,
    "start_time": "2022-04-13T08:03:45.370Z"
   },
   {
    "duration": 7,
    "start_time": "2022-04-13T08:03:46.816Z"
   },
   {
    "duration": 35,
    "start_time": "2022-04-13T08:03:47.682Z"
   },
   {
    "duration": 5,
    "start_time": "2022-04-13T08:03:49.097Z"
   },
   {
    "duration": 7,
    "start_time": "2022-04-13T08:03:50.754Z"
   },
   {
    "duration": 5,
    "start_time": "2022-04-13T08:03:52.218Z"
   },
   {
    "duration": 11,
    "start_time": "2022-04-13T08:03:53.745Z"
   },
   {
    "duration": 5,
    "start_time": "2022-04-13T08:03:55.650Z"
   },
   {
    "duration": 6,
    "start_time": "2022-04-13T08:03:56.699Z"
   },
   {
    "duration": 9,
    "start_time": "2022-04-13T08:04:08.080Z"
   },
   {
    "duration": 17,
    "start_time": "2022-04-13T08:04:19.617Z"
   },
   {
    "duration": 17,
    "start_time": "2022-04-13T08:05:29.767Z"
   },
   {
    "duration": 10,
    "start_time": "2022-04-13T08:07:40.524Z"
   },
   {
    "duration": 18,
    "start_time": "2022-04-13T08:07:42.573Z"
   },
   {
    "duration": 10,
    "start_time": "2022-04-13T08:08:31.805Z"
   },
   {
    "duration": 5,
    "start_time": "2022-04-13T08:08:48.293Z"
   },
   {
    "duration": 9,
    "start_time": "2022-04-13T08:08:48.821Z"
   },
   {
    "duration": 9,
    "start_time": "2022-04-13T08:09:30.114Z"
   },
   {
    "duration": 8,
    "start_time": "2022-04-13T08:09:31.394Z"
   },
   {
    "duration": 4,
    "start_time": "2022-04-13T08:09:55.085Z"
   },
   {
    "duration": 802,
    "start_time": "2022-04-13T08:09:55.091Z"
   },
   {
    "duration": 16,
    "start_time": "2022-04-13T08:09:55.900Z"
   },
   {
    "duration": 25,
    "start_time": "2022-04-13T08:09:55.918Z"
   },
   {
    "duration": 18,
    "start_time": "2022-04-13T08:09:55.946Z"
   },
   {
    "duration": 46,
    "start_time": "2022-04-13T08:09:55.966Z"
   },
   {
    "duration": 225,
    "start_time": "2022-04-13T08:09:56.018Z"
   },
   {
    "duration": 6,
    "start_time": "2022-04-13T08:09:56.244Z"
   },
   {
    "duration": 7,
    "start_time": "2022-04-13T08:09:56.251Z"
   },
   {
    "duration": 8,
    "start_time": "2022-04-13T08:09:56.259Z"
   },
   {
    "duration": 3,
    "start_time": "2022-04-13T08:09:56.270Z"
   },
   {
    "duration": 6,
    "start_time": "2022-04-13T08:09:56.274Z"
   },
   {
    "duration": 6,
    "start_time": "2022-04-13T08:09:56.301Z"
   },
   {
    "duration": 9,
    "start_time": "2022-04-13T08:09:56.312Z"
   },
   {
    "duration": 8,
    "start_time": "2022-04-13T08:09:56.322Z"
   },
   {
    "duration": 8,
    "start_time": "2022-04-13T08:09:56.331Z"
   },
   {
    "duration": 18,
    "start_time": "2022-04-13T08:09:56.340Z"
   },
   {
    "duration": 17,
    "start_time": "2022-04-13T08:09:56.359Z"
   },
   {
    "duration": 23,
    "start_time": "2022-04-13T08:09:56.378Z"
   },
   {
    "duration": 14,
    "start_time": "2022-04-13T08:09:56.404Z"
   },
   {
    "duration": 187,
    "start_time": "2022-04-13T08:09:56.420Z"
   },
   {
    "duration": 11,
    "start_time": "2022-04-13T08:09:56.610Z"
   },
   {
    "duration": 347,
    "start_time": "2022-04-13T08:09:56.623Z"
   },
   {
    "duration": 4,
    "start_time": "2022-04-13T08:09:56.972Z"
   },
   {
    "duration": 12,
    "start_time": "2022-04-13T08:09:56.978Z"
   },
   {
    "duration": 8,
    "start_time": "2022-04-13T08:09:56.992Z"
   },
   {
    "duration": 5,
    "start_time": "2022-04-13T08:09:57.002Z"
   },
   {
    "duration": 244,
    "start_time": "2022-04-13T08:09:57.009Z"
   },
   {
    "duration": 258,
    "start_time": "2022-04-13T08:09:57.257Z"
   },
   {
    "duration": 273,
    "start_time": "2022-04-13T08:09:57.517Z"
   },
   {
    "duration": 11,
    "start_time": "2022-04-13T08:09:57.791Z"
   },
   {
    "duration": 505,
    "start_time": "2022-04-13T08:09:57.805Z"
   },
   {
    "duration": 617,
    "start_time": "2022-04-13T08:09:58.312Z"
   },
   {
    "duration": 5,
    "start_time": "2022-04-13T08:09:58.931Z"
   },
   {
    "duration": 9,
    "start_time": "2022-04-13T08:09:58.938Z"
   },
   {
    "duration": 10,
    "start_time": "2022-04-13T08:09:58.949Z"
   },
   {
    "duration": 4,
    "start_time": "2022-04-13T08:09:58.961Z"
   },
   {
    "duration": 1494,
    "start_time": "2022-04-13T08:09:58.967Z"
   },
   {
    "duration": 5,
    "start_time": "2022-04-13T08:10:00.463Z"
   },
   {
    "duration": 161,
    "start_time": "2022-04-13T08:10:00.470Z"
   },
   {
    "duration": 4,
    "start_time": "2022-04-13T08:10:00.633Z"
   },
   {
    "duration": 168,
    "start_time": "2022-04-13T08:10:00.639Z"
   },
   {
    "duration": 5,
    "start_time": "2022-04-13T08:10:00.808Z"
   },
   {
    "duration": 177,
    "start_time": "2022-04-13T08:10:00.814Z"
   },
   {
    "duration": 40,
    "start_time": "2022-04-13T08:10:00.993Z"
   },
   {
    "duration": 5,
    "start_time": "2022-04-13T08:10:01.034Z"
   },
   {
    "duration": 26,
    "start_time": "2022-04-13T08:10:01.041Z"
   },
   {
    "duration": 9,
    "start_time": "2022-04-13T08:10:01.069Z"
   },
   {
    "duration": 57,
    "start_time": "2022-04-13T08:10:01.080Z"
   },
   {
    "duration": 1371,
    "start_time": "2022-04-13T08:10:01.139Z"
   },
   {
    "duration": 6,
    "start_time": "2022-04-13T08:10:02.512Z"
   },
   {
    "duration": 16,
    "start_time": "2022-04-13T08:10:02.519Z"
   },
   {
    "duration": 11,
    "start_time": "2022-04-13T08:10:02.537Z"
   },
   {
    "duration": 4,
    "start_time": "2022-04-13T08:10:02.550Z"
   },
   {
    "duration": 4,
    "start_time": "2022-04-13T08:10:02.556Z"
   },
   {
    "duration": 2458,
    "start_time": "2022-04-13T08:10:02.561Z"
   },
   {
    "duration": 31129,
    "start_time": "2022-04-13T08:10:05.024Z"
   },
   {
    "duration": 4161,
    "start_time": "2022-04-13T08:10:36.154Z"
   },
   {
    "duration": 43448,
    "start_time": "2022-04-13T08:10:40.316Z"
   },
   {
    "duration": 5,
    "start_time": "2022-04-13T08:11:23.766Z"
   },
   {
    "duration": 13,
    "start_time": "2022-04-13T08:11:23.773Z"
   },
   {
    "duration": 11,
    "start_time": "2022-04-13T08:11:23.801Z"
   },
   {
    "duration": 7,
    "start_time": "2022-04-13T08:11:23.814Z"
   },
   {
    "duration": 12,
    "start_time": "2022-04-13T08:11:23.823Z"
   },
   {
    "duration": 10,
    "start_time": "2022-04-13T08:11:23.837Z"
   },
   {
    "duration": 69,
    "start_time": "2022-04-13T08:11:23.849Z"
   },
   {
    "duration": 86,
    "start_time": "2022-04-13T08:11:23.924Z"
   },
   {
    "duration": 6,
    "start_time": "2022-04-13T08:11:24.012Z"
   },
   {
    "duration": 20,
    "start_time": "2022-04-13T08:11:24.020Z"
   },
   {
    "duration": 59,
    "start_time": "2022-04-13T08:11:24.042Z"
   },
   {
    "duration": 6,
    "start_time": "2022-04-13T08:11:24.103Z"
   },
   {
    "duration": 94,
    "start_time": "2022-04-13T08:11:24.110Z"
   },
   {
    "duration": 20,
    "start_time": "2022-04-13T08:11:24.206Z"
   },
   {
    "duration": 9,
    "start_time": "2022-04-13T08:11:24.229Z"
   },
   {
    "duration": 11,
    "start_time": "2022-04-13T08:11:24.240Z"
   },
   {
    "duration": 3,
    "start_time": "2022-04-13T08:12:43.870Z"
   },
   {
    "duration": 23,
    "start_time": "2022-04-13T08:12:45.656Z"
   },
   {
    "duration": 10,
    "start_time": "2022-04-13T08:13:33.050Z"
   },
   {
    "duration": 10,
    "start_time": "2022-04-13T08:14:56.455Z"
   },
   {
    "duration": 4,
    "start_time": "2022-04-13T08:14:59.671Z"
   },
   {
    "duration": 9,
    "start_time": "2022-04-13T08:15:01.106Z"
   },
   {
    "duration": 9,
    "start_time": "2022-04-13T08:18:02.223Z"
   },
   {
    "duration": 15,
    "start_time": "2022-04-13T08:18:03.642Z"
   },
   {
    "duration": 10,
    "start_time": "2022-04-13T08:18:59.571Z"
   },
   {
    "duration": 10,
    "start_time": "2022-04-13T08:21:53.554Z"
   },
   {
    "duration": 19,
    "start_time": "2022-04-13T08:21:59.867Z"
   },
   {
    "duration": 10,
    "start_time": "2022-04-13T08:23:02.629Z"
   },
   {
    "duration": 17,
    "start_time": "2022-04-13T08:23:13.720Z"
   },
   {
    "duration": 15,
    "start_time": "2022-04-13T08:23:51.700Z"
   },
   {
    "duration": 19,
    "start_time": "2022-04-13T08:23:56.363Z"
   },
   {
    "duration": 20,
    "start_time": "2022-04-13T08:25:45.101Z"
   },
   {
    "duration": 17,
    "start_time": "2022-04-13T08:27:54.294Z"
   },
   {
    "duration": 19,
    "start_time": "2022-04-13T08:29:15.279Z"
   },
   {
    "duration": 5,
    "start_time": "2022-04-13T08:31:53.490Z"
   },
   {
    "duration": 10,
    "start_time": "2022-04-13T08:31:56.359Z"
   },
   {
    "duration": 15,
    "start_time": "2022-04-13T08:32:08.155Z"
   },
   {
    "duration": 9,
    "start_time": "2022-04-13T08:33:24.664Z"
   },
   {
    "duration": 15,
    "start_time": "2022-04-13T08:33:33.359Z"
   },
   {
    "duration": 10,
    "start_time": "2022-04-13T08:37:57.065Z"
   },
   {
    "duration": 15,
    "start_time": "2022-04-13T08:38:00.128Z"
   },
   {
    "duration": 10,
    "start_time": "2022-04-13T08:40:43.083Z"
   },
   {
    "duration": 20,
    "start_time": "2022-04-13T08:40:44.332Z"
   },
   {
    "duration": 17,
    "start_time": "2022-04-13T08:45:11.925Z"
   },
   {
    "duration": 17,
    "start_time": "2022-04-13T08:45:28.007Z"
   },
   {
    "duration": 10,
    "start_time": "2022-04-13T08:45:58.790Z"
   },
   {
    "duration": 17,
    "start_time": "2022-04-13T08:46:01.382Z"
   },
   {
    "duration": 13,
    "start_time": "2022-04-13T08:47:00.837Z"
   },
   {
    "duration": 18,
    "start_time": "2022-04-13T08:47:04.149Z"
   },
   {
    "duration": 5,
    "start_time": "2022-04-13T08:47:15.821Z"
   },
   {
    "duration": 3,
    "start_time": "2022-04-13T08:47:17.951Z"
   },
   {
    "duration": 8,
    "start_time": "2022-04-13T08:47:18.933Z"
   },
   {
    "duration": 3,
    "start_time": "2022-04-13T08:47:19.756Z"
   },
   {
    "duration": 3,
    "start_time": "2022-04-13T08:47:20.459Z"
   },
   {
    "duration": 1759,
    "start_time": "2022-04-13T08:47:21.555Z"
   },
   {
    "duration": 32897,
    "start_time": "2022-04-13T08:47:33.172Z"
   },
   {
    "duration": 4584,
    "start_time": "2022-04-13T08:51:11.857Z"
   },
   {
    "duration": 4616,
    "start_time": "2022-04-13T08:51:42.523Z"
   },
   {
    "duration": 45929,
    "start_time": "2022-04-13T08:52:20.928Z"
   },
   {
    "duration": 5,
    "start_time": "2022-04-13T08:53:19.042Z"
   },
   {
    "duration": 18,
    "start_time": "2022-04-13T08:53:20.814Z"
   },
   {
    "duration": 10,
    "start_time": "2022-04-13T08:53:22.269Z"
   },
   {
    "duration": 16,
    "start_time": "2022-04-13T08:53:23.838Z"
   },
   {
    "duration": 17,
    "start_time": "2022-04-13T08:53:36.553Z"
   },
   {
    "duration": 8,
    "start_time": "2022-04-13T08:53:37.153Z"
   },
   {
    "duration": 21,
    "start_time": "2022-04-13T08:53:37.975Z"
   },
   {
    "duration": 10,
    "start_time": "2022-04-13T08:53:39.016Z"
   },
   {
    "duration": 20,
    "start_time": "2022-04-13T08:53:39.733Z"
   },
   {
    "duration": 9,
    "start_time": "2022-04-13T08:53:40.438Z"
   },
   {
    "duration": 6,
    "start_time": "2022-04-13T08:53:41.093Z"
   },
   {
    "duration": 14,
    "start_time": "2022-04-13T08:53:41.876Z"
   },
   {
    "duration": 2959,
    "start_time": "2022-04-13T08:53:42.694Z"
   },
   {
    "duration": 0,
    "start_time": "2022-04-13T08:53:45.654Z"
   },
   {
    "duration": 4,
    "start_time": "2022-04-13T08:54:23.536Z"
   },
   {
    "duration": 2,
    "start_time": "2022-04-13T08:54:24.823Z"
   },
   {
    "duration": 12,
    "start_time": "2022-04-13T08:54:25.528Z"
   },
   {
    "duration": 7,
    "start_time": "2022-04-13T08:55:04.001Z"
   },
   {
    "duration": 815,
    "start_time": "2022-04-13T08:55:04.629Z"
   },
   {
    "duration": 13,
    "start_time": "2022-04-13T08:55:05.965Z"
   },
   {
    "duration": 17,
    "start_time": "2022-04-13T08:55:07.366Z"
   },
   {
    "duration": 16,
    "start_time": "2022-04-13T08:55:08.093Z"
   },
   {
    "duration": 19,
    "start_time": "2022-04-13T08:55:09.817Z"
   },
   {
    "duration": 288,
    "start_time": "2022-04-13T08:55:10.644Z"
   },
   {
    "duration": 7,
    "start_time": "2022-04-13T08:55:14.448Z"
   },
   {
    "duration": 7,
    "start_time": "2022-04-13T08:55:15.197Z"
   },
   {
    "duration": 6,
    "start_time": "2022-04-13T08:55:15.892Z"
   },
   {
    "duration": 4,
    "start_time": "2022-04-13T08:55:18.518Z"
   },
   {
    "duration": 2,
    "start_time": "2022-04-13T08:55:20.776Z"
   },
   {
    "duration": 5,
    "start_time": "2022-04-13T08:55:21.525Z"
   },
   {
    "duration": 3,
    "start_time": "2022-04-13T08:55:22.363Z"
   },
   {
    "duration": 3,
    "start_time": "2022-04-13T08:55:23.821Z"
   },
   {
    "duration": 6,
    "start_time": "2022-04-13T08:55:25.053Z"
   },
   {
    "duration": 17,
    "start_time": "2022-04-13T08:55:28.477Z"
   },
   {
    "duration": 15,
    "start_time": "2022-04-13T08:55:29.430Z"
   },
   {
    "duration": 16,
    "start_time": "2022-04-13T08:55:30.313Z"
   },
   {
    "duration": 10,
    "start_time": "2022-04-13T08:55:33.942Z"
   },
   {
    "duration": 276,
    "start_time": "2022-04-13T08:55:34.815Z"
   },
   {
    "duration": 10,
    "start_time": "2022-04-13T08:55:35.936Z"
   },
   {
    "duration": 215,
    "start_time": "2022-04-13T08:55:36.926Z"
   },
   {
    "duration": 4,
    "start_time": "2022-04-13T08:55:38.878Z"
   },
   {
    "duration": 4,
    "start_time": "2022-04-13T08:55:39.622Z"
   },
   {
    "duration": 6,
    "start_time": "2022-04-13T08:55:41.494Z"
   },
   {
    "duration": 3,
    "start_time": "2022-04-13T08:55:42.472Z"
   },
   {
    "duration": 244,
    "start_time": "2022-04-13T08:55:43.477Z"
   },
   {
    "duration": 239,
    "start_time": "2022-04-13T08:55:44.510Z"
   },
   {
    "duration": 257,
    "start_time": "2022-04-13T08:55:45.279Z"
   },
   {
    "duration": 3,
    "start_time": "2022-04-13T08:55:48.919Z"
   },
   {
    "duration": 743,
    "start_time": "2022-04-13T08:55:50.039Z"
   },
   {
    "duration": 508,
    "start_time": "2022-04-13T08:55:51.117Z"
   },
   {
    "duration": 6,
    "start_time": "2022-04-13T08:55:55.332Z"
   },
   {
    "duration": 5,
    "start_time": "2022-04-13T08:55:56.022Z"
   },
   {
    "duration": 5,
    "start_time": "2022-04-13T08:55:56.659Z"
   },
   {
    "duration": 2,
    "start_time": "2022-04-13T08:55:57.254Z"
   },
   {
    "duration": 1531,
    "start_time": "2022-04-13T08:55:57.865Z"
   },
   {
    "duration": 5,
    "start_time": "2022-04-13T08:55:59.402Z"
   },
   {
    "duration": 168,
    "start_time": "2022-04-13T08:56:00.665Z"
   },
   {
    "duration": 6,
    "start_time": "2022-04-13T08:56:01.717Z"
   },
   {
    "duration": 172,
    "start_time": "2022-04-13T08:56:02.474Z"
   },
   {
    "duration": 4,
    "start_time": "2022-04-13T08:56:03.525Z"
   },
   {
    "duration": 176,
    "start_time": "2022-04-13T08:56:04.462Z"
   },
   {
    "duration": 34,
    "start_time": "2022-04-13T08:56:07.550Z"
   },
   {
    "duration": 5,
    "start_time": "2022-04-13T08:56:09.078Z"
   },
   {
    "duration": 6,
    "start_time": "2022-04-13T08:56:10.133Z"
   },
   {
    "duration": 5,
    "start_time": "2022-04-13T08:56:10.830Z"
   },
   {
    "duration": 55,
    "start_time": "2022-04-13T08:56:11.792Z"
   },
   {
    "duration": 2104,
    "start_time": "2022-04-13T08:56:12.903Z"
   },
   {
    "duration": 4,
    "start_time": "2022-04-13T08:56:21.527Z"
   },
   {
    "duration": 3,
    "start_time": "2022-04-13T08:56:23.488Z"
   },
   {
    "duration": 10,
    "start_time": "2022-04-13T08:56:24.607Z"
   },
   {
    "duration": 3,
    "start_time": "2022-04-13T08:56:25.917Z"
   },
   {
    "duration": 3,
    "start_time": "2022-04-13T08:56:26.641Z"
   },
   {
    "duration": 1993,
    "start_time": "2022-04-13T08:56:27.629Z"
   },
   {
    "duration": 28799,
    "start_time": "2022-04-13T08:56:34.197Z"
   },
   {
    "duration": 4127,
    "start_time": "2022-04-13T08:57:23.149Z"
   },
   {
    "duration": 35366,
    "start_time": "2022-04-13T08:57:32.216Z"
   },
   {
    "duration": 5,
    "start_time": "2022-04-13T08:58:11.760Z"
   },
   {
    "duration": 12,
    "start_time": "2022-04-13T08:58:12.328Z"
   },
   {
    "duration": 8,
    "start_time": "2022-04-13T08:58:13.481Z"
   },
   {
    "duration": 6,
    "start_time": "2022-04-13T08:58:15.232Z"
   },
   {
    "duration": 5,
    "start_time": "2022-04-13T08:58:19.345Z"
   },
   {
    "duration": 18,
    "start_time": "2022-04-13T08:58:20.841Z"
   },
   {
    "duration": 5,
    "start_time": "2022-04-13T08:58:22.688Z"
   },
   {
    "duration": 6,
    "start_time": "2022-04-13T08:58:24.553Z"
   },
   {
    "duration": 5,
    "start_time": "2022-04-13T08:58:26.029Z"
   },
   {
    "duration": 22,
    "start_time": "2022-04-13T08:58:27.303Z"
   },
   {
    "duration": 5,
    "start_time": "2022-04-13T08:58:28.423Z"
   },
   {
    "duration": 4,
    "start_time": "2022-04-13T08:58:29.767Z"
   },
   {
    "duration": 12,
    "start_time": "2022-04-13T08:58:32.002Z"
   },
   {
    "duration": 18,
    "start_time": "2022-04-13T08:58:34.136Z"
   },
   {
    "duration": 22,
    "start_time": "2022-04-13T09:00:19.701Z"
   },
   {
    "duration": 9,
    "start_time": "2022-04-13T09:01:02.819Z"
   },
   {
    "duration": 19,
    "start_time": "2022-04-13T09:01:03.813Z"
   },
   {
    "duration": 11,
    "start_time": "2022-04-13T09:02:24.320Z"
   },
   {
    "duration": 19,
    "start_time": "2022-04-13T09:02:27.100Z"
   },
   {
    "duration": 17,
    "start_time": "2022-04-13T09:03:08.573Z"
   },
   {
    "duration": 10,
    "start_time": "2022-04-13T09:03:21.940Z"
   },
   {
    "duration": 18,
    "start_time": "2022-04-13T09:03:23.830Z"
   },
   {
    "duration": 4,
    "start_time": "2022-04-13T09:03:43.484Z"
   },
   {
    "duration": 9,
    "start_time": "2022-04-13T09:03:44.641Z"
   },
   {
    "duration": 4,
    "start_time": "2022-04-13T09:03:55.447Z"
   },
   {
    "duration": 3,
    "start_time": "2022-04-13T09:04:06.623Z"
   },
   {
    "duration": 681,
    "start_time": "2022-04-13T09:04:07.249Z"
   },
   {
    "duration": 14,
    "start_time": "2022-04-13T09:04:08.523Z"
   },
   {
    "duration": 21,
    "start_time": "2022-04-13T09:04:09.202Z"
   },
   {
    "duration": 15,
    "start_time": "2022-04-13T09:04:09.818Z"
   },
   {
    "duration": 28,
    "start_time": "2022-04-13T09:04:11.273Z"
   },
   {
    "duration": 220,
    "start_time": "2022-04-13T09:04:12.241Z"
   },
   {
    "duration": 5,
    "start_time": "2022-04-13T09:04:15.724Z"
   },
   {
    "duration": 5,
    "start_time": "2022-04-13T09:04:16.442Z"
   },
   {
    "duration": 5,
    "start_time": "2022-04-13T09:04:17.041Z"
   },
   {
    "duration": 4,
    "start_time": "2022-04-13T09:04:19.117Z"
   },
   {
    "duration": 2,
    "start_time": "2022-04-13T09:04:20.370Z"
   },
   {
    "duration": 5,
    "start_time": "2022-04-13T09:04:21.019Z"
   },
   {
    "duration": 3,
    "start_time": "2022-04-13T09:04:21.632Z"
   },
   {
    "duration": 2,
    "start_time": "2022-04-13T09:04:22.345Z"
   },
   {
    "duration": 6,
    "start_time": "2022-04-13T09:04:23.016Z"
   },
   {
    "duration": 19,
    "start_time": "2022-04-13T09:04:25.814Z"
   },
   {
    "duration": 16,
    "start_time": "2022-04-13T09:04:26.439Z"
   },
   {
    "duration": 14,
    "start_time": "2022-04-13T09:04:27.097Z"
   },
   {
    "duration": 9,
    "start_time": "2022-04-13T09:04:29.641Z"
   },
   {
    "duration": 181,
    "start_time": "2022-04-13T09:04:30.321Z"
   },
   {
    "duration": 8,
    "start_time": "2022-04-13T09:04:31.258Z"
   },
   {
    "duration": 295,
    "start_time": "2022-04-13T09:04:31.907Z"
   },
   {
    "duration": 4,
    "start_time": "2022-04-13T09:04:33.288Z"
   },
   {
    "duration": 4,
    "start_time": "2022-04-13T09:04:33.938Z"
   },
   {
    "duration": 4,
    "start_time": "2022-04-13T09:04:35.129Z"
   },
   {
    "duration": 3,
    "start_time": "2022-04-13T09:04:35.777Z"
   },
   {
    "duration": 247,
    "start_time": "2022-04-13T09:04:36.537Z"
   },
   {
    "duration": 248,
    "start_time": "2022-04-13T09:04:37.192Z"
   },
   {
    "duration": 253,
    "start_time": "2022-04-13T09:04:38.060Z"
   },
   {
    "duration": 4,
    "start_time": "2022-04-13T09:04:40.633Z"
   },
   {
    "duration": 501,
    "start_time": "2022-04-13T09:04:41.386Z"
   },
   {
    "duration": 558,
    "start_time": "2022-04-13T09:04:42.473Z"
   },
   {
    "duration": 5,
    "start_time": "2022-04-13T09:04:45.622Z"
   },
   {
    "duration": 5,
    "start_time": "2022-04-13T09:04:46.258Z"
   },
   {
    "duration": 5,
    "start_time": "2022-04-13T09:04:46.929Z"
   },
   {
    "duration": 3,
    "start_time": "2022-04-13T09:04:47.513Z"
   },
   {
    "duration": 1591,
    "start_time": "2022-04-13T09:04:48.114Z"
   },
   {
    "duration": 6,
    "start_time": "2022-04-13T09:04:49.708Z"
   },
   {
    "duration": 239,
    "start_time": "2022-04-13T09:04:49.717Z"
   },
   {
    "duration": 6,
    "start_time": "2022-04-13T09:04:50.144Z"
   },
   {
    "duration": 457,
    "start_time": "2022-04-13T09:04:50.957Z"
   },
   {
    "duration": 6,
    "start_time": "2022-04-13T09:04:53.499Z"
   },
   {
    "duration": 164,
    "start_time": "2022-04-13T09:04:53.508Z"
   },
   {
    "duration": 33,
    "start_time": "2022-04-13T09:04:54.013Z"
   },
   {
    "duration": 5,
    "start_time": "2022-04-13T09:04:54.648Z"
   },
   {
    "duration": 5,
    "start_time": "2022-04-13T09:04:55.282Z"
   },
   {
    "duration": 5,
    "start_time": "2022-04-13T09:04:55.936Z"
   },
   {
    "duration": 37,
    "start_time": "2022-04-13T09:04:56.494Z"
   },
   {
    "duration": 1609,
    "start_time": "2022-04-13T09:04:57.196Z"
   },
   {
    "duration": 7,
    "start_time": "2022-04-13T09:05:02.474Z"
   },
   {
    "duration": 3,
    "start_time": "2022-04-13T09:05:04.317Z"
   },
   {
    "duration": 9,
    "start_time": "2022-04-13T09:05:05.040Z"
   },
   {
    "duration": 3,
    "start_time": "2022-04-13T09:05:05.826Z"
   },
   {
    "duration": 3,
    "start_time": "2022-04-13T09:05:06.539Z"
   },
   {
    "duration": 2150,
    "start_time": "2022-04-13T09:05:07.559Z"
   },
   {
    "duration": 27641,
    "start_time": "2022-04-13T09:05:12.468Z"
   },
   {
    "duration": 4923,
    "start_time": "2022-04-13T09:05:40.113Z"
   },
   {
    "duration": 5386,
    "start_time": "2022-04-13T09:05:45.939Z"
   },
   {
    "duration": 43342,
    "start_time": "2022-04-13T09:05:53.583Z"
   },
   {
    "duration": 4,
    "start_time": "2022-04-13T09:06:45.818Z"
   },
   {
    "duration": 12,
    "start_time": "2022-04-13T09:06:46.616Z"
   },
   {
    "duration": 8,
    "start_time": "2022-04-13T09:06:48.314Z"
   },
   {
    "duration": 4,
    "start_time": "2022-04-13T09:06:50.530Z"
   },
   {
    "duration": 4,
    "start_time": "2022-04-13T09:06:52.276Z"
   },
   {
    "duration": 7,
    "start_time": "2022-04-13T09:06:52.282Z"
   },
   {
    "duration": 5,
    "start_time": "2022-04-13T09:06:52.913Z"
   },
   {
    "duration": 6,
    "start_time": "2022-04-13T09:06:54.658Z"
   },
   {
    "duration": 5,
    "start_time": "2022-04-13T09:06:55.824Z"
   },
   {
    "duration": 50,
    "start_time": "2022-04-13T09:06:56.856Z"
   },
   {
    "duration": 5,
    "start_time": "2022-04-13T09:06:57.532Z"
   },
   {
    "duration": 5,
    "start_time": "2022-04-13T09:06:58.282Z"
   },
   {
    "duration": 10,
    "start_time": "2022-04-13T09:07:01.323Z"
   },
   {
    "duration": 17,
    "start_time": "2022-04-13T09:07:06.235Z"
   },
   {
    "duration": 8,
    "start_time": "2022-04-13T09:08:22.734Z"
   },
   {
    "duration": 8,
    "start_time": "2022-04-13T09:09:10.559Z"
   },
   {
    "duration": 3,
    "start_time": "2022-04-13T09:09:14.777Z"
   },
   {
    "duration": 7,
    "start_time": "2022-04-13T09:09:15.651Z"
   },
   {
    "duration": 9,
    "start_time": "2022-04-13T09:14:20.595Z"
   },
   {
    "duration": 15,
    "start_time": "2022-04-13T09:14:23.726Z"
   },
   {
    "duration": 12,
    "start_time": "2022-04-13T09:14:37.600Z"
   },
   {
    "duration": 15,
    "start_time": "2022-04-13T09:14:42.462Z"
   },
   {
    "duration": 181,
    "start_time": "2022-04-13T09:15:44.849Z"
   },
   {
    "duration": 10,
    "start_time": "2022-04-13T09:15:56.148Z"
   },
   {
    "duration": 16,
    "start_time": "2022-04-13T09:16:04.832Z"
   },
   {
    "duration": 10,
    "start_time": "2022-04-13T09:30:00.113Z"
   },
   {
    "duration": 18,
    "start_time": "2022-04-13T09:30:08.596Z"
   },
   {
    "duration": 9,
    "start_time": "2022-04-13T09:32:52.505Z"
   },
   {
    "duration": 18,
    "start_time": "2022-04-13T09:32:58.518Z"
   },
   {
    "duration": 12,
    "start_time": "2022-04-13T09:40:14.505Z"
   },
   {
    "duration": 10,
    "start_time": "2022-04-13T09:41:10.325Z"
   },
   {
    "duration": 8,
    "start_time": "2022-04-13T09:41:12.481Z"
   },
   {
    "duration": 2396,
    "start_time": "2022-04-14T04:54:32.912Z"
   },
   {
    "duration": 862,
    "start_time": "2022-04-14T04:54:35.310Z"
   },
   {
    "duration": 20,
    "start_time": "2022-04-14T04:54:38.229Z"
   },
   {
    "duration": 29,
    "start_time": "2022-04-14T04:54:39.021Z"
   },
   {
    "duration": 23,
    "start_time": "2022-04-14T04:54:39.913Z"
   },
   {
    "duration": 39,
    "start_time": "2022-04-14T04:54:42.291Z"
   },
   {
    "duration": 397,
    "start_time": "2022-04-14T04:54:43.300Z"
   },
   {
    "duration": 14,
    "start_time": "2022-04-14T04:54:47.422Z"
   },
   {
    "duration": 7,
    "start_time": "2022-04-14T04:54:48.056Z"
   },
   {
    "duration": 7,
    "start_time": "2022-04-14T04:54:48.751Z"
   },
   {
    "duration": 4,
    "start_time": "2022-04-14T04:54:54.225Z"
   },
   {
    "duration": 4,
    "start_time": "2022-04-14T04:55:05.472Z"
   },
   {
    "duration": 7,
    "start_time": "2022-04-14T04:55:06.603Z"
   },
   {
    "duration": 4,
    "start_time": "2022-04-14T04:55:14.608Z"
   },
   {
    "duration": 4,
    "start_time": "2022-04-14T04:55:15.913Z"
   },
   {
    "duration": 9,
    "start_time": "2022-04-14T04:55:26.918Z"
   },
   {
    "duration": 32,
    "start_time": "2022-04-14T04:56:09.783Z"
   },
   {
    "duration": 25,
    "start_time": "2022-04-14T04:56:13.474Z"
   },
   {
    "duration": 19,
    "start_time": "2022-04-14T04:56:14.224Z"
   },
   {
    "duration": 14,
    "start_time": "2022-04-14T04:56:17.821Z"
   },
   {
    "duration": 366,
    "start_time": "2022-04-14T04:56:19.140Z"
   },
   {
    "duration": 13,
    "start_time": "2022-04-14T04:56:21.188Z"
   },
   {
    "duration": 392,
    "start_time": "2022-04-14T04:56:24.917Z"
   },
   {
    "duration": 5,
    "start_time": "2022-04-14T04:56:28.701Z"
   },
   {
    "duration": 6,
    "start_time": "2022-04-14T04:56:29.622Z"
   },
   {
    "duration": 7,
    "start_time": "2022-04-14T04:56:31.847Z"
   },
   {
    "duration": 5,
    "start_time": "2022-04-14T04:56:32.525Z"
   },
   {
    "duration": 535,
    "start_time": "2022-04-14T04:56:33.263Z"
   },
   {
    "duration": 543,
    "start_time": "2022-04-14T04:56:34.019Z"
   },
   {
    "duration": 442,
    "start_time": "2022-04-14T04:56:35.212Z"
   },
   {
    "duration": 6,
    "start_time": "2022-04-14T04:56:38.949Z"
   },
   {
    "duration": 877,
    "start_time": "2022-04-14T04:56:40.168Z"
   },
   {
    "duration": 856,
    "start_time": "2022-04-14T04:56:42.318Z"
   },
   {
    "duration": 7,
    "start_time": "2022-04-14T04:56:46.968Z"
   },
   {
    "duration": 7,
    "start_time": "2022-04-14T04:56:47.869Z"
   },
   {
    "duration": 6,
    "start_time": "2022-04-14T04:56:48.632Z"
   },
   {
    "duration": 4,
    "start_time": "2022-04-14T04:56:49.351Z"
   },
   {
    "duration": 2007,
    "start_time": "2022-04-14T04:56:50.180Z"
   },
   {
    "duration": 6,
    "start_time": "2022-04-14T04:56:52.190Z"
   },
   {
    "duration": 271,
    "start_time": "2022-04-14T04:56:52.980Z"
   },
   {
    "duration": 7,
    "start_time": "2022-04-14T04:57:01.203Z"
   },
   {
    "duration": 278,
    "start_time": "2022-04-14T04:57:02.113Z"
   },
   {
    "duration": 6,
    "start_time": "2022-04-14T04:57:03.014Z"
   },
   {
    "duration": 292,
    "start_time": "2022-04-14T04:57:04.120Z"
   },
   {
    "duration": 62,
    "start_time": "2022-04-14T04:57:29.416Z"
   },
   {
    "duration": 6,
    "start_time": "2022-04-14T04:57:30.814Z"
   },
   {
    "duration": 7,
    "start_time": "2022-04-14T04:57:31.814Z"
   },
   {
    "duration": 7,
    "start_time": "2022-04-14T04:57:32.495Z"
   },
   {
    "duration": 61,
    "start_time": "2022-04-14T04:57:33.319Z"
   },
   {
    "duration": 1861,
    "start_time": "2022-04-14T04:57:39.024Z"
   },
   {
    "duration": 6,
    "start_time": "2022-04-14T04:57:46.686Z"
   },
   {
    "duration": 4,
    "start_time": "2022-04-14T04:57:50.006Z"
   },
   {
    "duration": 16,
    "start_time": "2022-04-14T04:57:50.932Z"
   },
   {
    "duration": 4,
    "start_time": "2022-04-14T04:57:51.736Z"
   },
   {
    "duration": 4,
    "start_time": "2022-04-14T04:57:55.449Z"
   },
   {
    "duration": 1712,
    "start_time": "2022-04-14T04:57:56.422Z"
   },
   {
    "duration": 36559,
    "start_time": "2022-04-14T04:57:59.415Z"
   },
   {
    "duration": 5486,
    "start_time": "2022-04-14T04:58:35.977Z"
   },
   {
    "duration": 75965,
    "start_time": "2022-04-14T04:58:41.465Z"
   },
   {
    "duration": 5,
    "start_time": "2022-04-14T05:01:25.605Z"
   },
   {
    "duration": 18,
    "start_time": "2022-04-14T05:01:26.271Z"
   },
   {
    "duration": 10,
    "start_time": "2022-04-14T05:01:27.817Z"
   },
   {
    "duration": 10,
    "start_time": "2022-04-14T05:01:29.586Z"
   },
   {
    "duration": 6,
    "start_time": "2022-04-14T05:01:30.263Z"
   },
   {
    "duration": 17,
    "start_time": "2022-04-14T05:01:30.894Z"
   },
   {
    "duration": 7,
    "start_time": "2022-04-14T05:01:31.536Z"
   },
   {
    "duration": 10,
    "start_time": "2022-04-14T05:01:32.208Z"
   },
   {
    "duration": 8,
    "start_time": "2022-04-14T05:01:33.014Z"
   },
   {
    "duration": 38,
    "start_time": "2022-04-14T05:01:33.989Z"
   },
   {
    "duration": 8,
    "start_time": "2022-04-14T05:01:35.116Z"
   },
   {
    "duration": 7,
    "start_time": "2022-04-14T05:01:35.877Z"
   },
   {
    "duration": 14,
    "start_time": "2022-04-14T05:01:37.950Z"
   },
   {
    "duration": 12,
    "start_time": "2022-04-14T05:01:40.615Z"
   },
   {
    "duration": 13,
    "start_time": "2022-04-14T05:14:30.435Z"
   },
   {
    "duration": 176,
    "start_time": "2022-04-14T05:14:31.697Z"
   },
   {
    "duration": 7,
    "start_time": "2022-04-14T05:14:42.596Z"
   },
   {
    "duration": 13,
    "start_time": "2022-04-14T05:14:45.900Z"
   },
   {
    "duration": 21,
    "start_time": "2022-04-14T05:14:50.382Z"
   },
   {
    "duration": 14,
    "start_time": "2022-04-14T05:21:44.206Z"
   },
   {
    "duration": 13,
    "start_time": "2022-04-14T05:22:25.552Z"
   },
   {
    "duration": 13,
    "start_time": "2022-04-14T05:22:27.503Z"
   },
   {
    "duration": 20,
    "start_time": "2022-04-14T05:23:27.439Z"
   },
   {
    "duration": 12,
    "start_time": "2022-04-14T05:23:31.818Z"
   },
   {
    "duration": 12,
    "start_time": "2022-04-14T05:23:32.562Z"
   },
   {
    "duration": 19,
    "start_time": "2022-04-14T05:23:46.034Z"
   },
   {
    "duration": 13,
    "start_time": "2022-04-14T05:23:49.020Z"
   },
   {
    "duration": 13,
    "start_time": "2022-04-14T05:23:50.199Z"
   },
   {
    "duration": 13,
    "start_time": "2022-04-14T05:35:02.286Z"
   },
   {
    "duration": 13,
    "start_time": "2022-04-14T05:35:03.179Z"
   },
   {
    "duration": 118,
    "start_time": "2022-04-14T05:37:37.371Z"
   },
   {
    "duration": 6,
    "start_time": "2022-04-14T05:38:03.220Z"
   },
   {
    "duration": 4,
    "start_time": "2022-04-14T05:38:06.780Z"
   },
   {
    "duration": 15,
    "start_time": "2022-04-14T05:38:07.971Z"
   },
   {
    "duration": 4,
    "start_time": "2022-04-14T05:38:09.507Z"
   },
   {
    "duration": 4,
    "start_time": "2022-04-14T05:38:10.378Z"
   },
   {
    "duration": 2601,
    "start_time": "2022-04-14T05:38:12.427Z"
   },
   {
    "duration": 5,
    "start_time": "2022-04-14T05:38:40.028Z"
   },
   {
    "duration": 825,
    "start_time": "2022-04-14T05:38:40.659Z"
   },
   {
    "duration": 21,
    "start_time": "2022-04-14T05:38:42.130Z"
   },
   {
    "duration": 27,
    "start_time": "2022-04-14T05:38:42.795Z"
   },
   {
    "duration": 20,
    "start_time": "2022-04-14T05:38:43.538Z"
   },
   {
    "duration": 33,
    "start_time": "2022-04-14T05:38:45.090Z"
   },
   {
    "duration": 379,
    "start_time": "2022-04-14T05:38:45.706Z"
   },
   {
    "duration": 8,
    "start_time": "2022-04-14T05:38:49.404Z"
   },
   {
    "duration": 7,
    "start_time": "2022-04-14T05:38:49.988Z"
   },
   {
    "duration": 8,
    "start_time": "2022-04-14T05:38:50.587Z"
   },
   {
    "duration": 5,
    "start_time": "2022-04-14T05:38:52.742Z"
   },
   {
    "duration": 4,
    "start_time": "2022-04-14T05:38:54.178Z"
   },
   {
    "duration": 7,
    "start_time": "2022-04-14T05:38:54.818Z"
   },
   {
    "duration": 4,
    "start_time": "2022-04-14T05:38:55.475Z"
   },
   {
    "duration": 4,
    "start_time": "2022-04-14T05:38:56.082Z"
   },
   {
    "duration": 12,
    "start_time": "2022-04-14T05:38:56.716Z"
   },
   {
    "duration": 52,
    "start_time": "2022-04-14T05:38:59.220Z"
   },
   {
    "duration": 23,
    "start_time": "2022-04-14T05:38:59.819Z"
   },
   {
    "duration": 20,
    "start_time": "2022-04-14T05:39:00.476Z"
   },
   {
    "duration": 12,
    "start_time": "2022-04-14T05:39:02.931Z"
   },
   {
    "duration": 341,
    "start_time": "2022-04-14T05:39:03.531Z"
   },
   {
    "duration": 15,
    "start_time": "2022-04-14T05:39:04.195Z"
   },
   {
    "duration": 479,
    "start_time": "2022-04-14T05:39:15.499Z"
   },
   {
    "duration": 6,
    "start_time": "2022-04-14T05:39:24.701Z"
   },
   {
    "duration": 6,
    "start_time": "2022-04-14T05:39:25.522Z"
   },
   {
    "duration": 6,
    "start_time": "2022-04-14T05:39:27.061Z"
   },
   {
    "duration": 6,
    "start_time": "2022-04-14T05:39:27.875Z"
   },
   {
    "duration": 413,
    "start_time": "2022-04-14T05:39:29.669Z"
   },
   {
    "duration": 436,
    "start_time": "2022-04-14T05:39:30.557Z"
   },
   {
    "duration": 454,
    "start_time": "2022-04-14T05:39:34.199Z"
   },
   {
    "duration": 7,
    "start_time": "2022-04-14T05:39:37.146Z"
   },
   {
    "duration": 788,
    "start_time": "2022-04-14T05:39:37.938Z"
   },
   {
    "duration": 825,
    "start_time": "2022-04-14T05:39:38.732Z"
   },
   {
    "duration": 6,
    "start_time": "2022-04-14T05:39:41.973Z"
   },
   {
    "duration": 6,
    "start_time": "2022-04-14T05:39:42.724Z"
   },
   {
    "duration": 6,
    "start_time": "2022-04-14T05:39:43.541Z"
   },
   {
    "duration": 3,
    "start_time": "2022-04-14T05:39:44.235Z"
   },
   {
    "duration": 2706,
    "start_time": "2022-04-14T05:39:45.066Z"
   },
   {
    "duration": 5,
    "start_time": "2022-04-14T05:39:47.775Z"
   },
   {
    "duration": 259,
    "start_time": "2022-04-14T05:39:48.106Z"
   },
   {
    "duration": 5,
    "start_time": "2022-04-14T05:39:49.140Z"
   },
   {
    "duration": 272,
    "start_time": "2022-04-14T05:39:49.822Z"
   },
   {
    "duration": 7,
    "start_time": "2022-04-14T05:39:50.506Z"
   },
   {
    "duration": 296,
    "start_time": "2022-04-14T05:39:51.278Z"
   },
   {
    "duration": 65,
    "start_time": "2022-04-14T05:39:53.871Z"
   },
   {
    "duration": 7,
    "start_time": "2022-04-14T05:39:54.920Z"
   },
   {
    "duration": 6,
    "start_time": "2022-04-14T05:39:55.739Z"
   },
   {
    "duration": 7,
    "start_time": "2022-04-14T05:39:56.388Z"
   },
   {
    "duration": 60,
    "start_time": "2022-04-14T05:39:56.991Z"
   },
   {
    "duration": 1785,
    "start_time": "2022-04-14T05:39:57.784Z"
   },
   {
    "duration": 5,
    "start_time": "2022-04-14T05:40:14.588Z"
   },
   {
    "duration": 4,
    "start_time": "2022-04-14T05:40:16.874Z"
   },
   {
    "duration": 12,
    "start_time": "2022-04-14T05:40:17.531Z"
   },
   {
    "duration": 4,
    "start_time": "2022-04-14T05:40:18.387Z"
   },
   {
    "duration": 3,
    "start_time": "2022-04-14T05:40:19.148Z"
   },
   {
    "duration": 2165,
    "start_time": "2022-04-14T05:40:20.061Z"
   },
   {
    "duration": 37627,
    "start_time": "2022-04-14T05:40:35.521Z"
   },
   {
    "duration": 5394,
    "start_time": "2022-04-14T05:41:21.887Z"
   },
   {
    "duration": 74108,
    "start_time": "2022-04-14T05:41:30.871Z"
   },
   {
    "duration": 6,
    "start_time": "2022-04-14T05:42:56.903Z"
   },
   {
    "duration": 17,
    "start_time": "2022-04-14T05:42:57.665Z"
   },
   {
    "duration": 12,
    "start_time": "2022-04-14T05:42:59.304Z"
   },
   {
    "duration": 8,
    "start_time": "2022-04-14T05:43:00.889Z"
   },
   {
    "duration": 8,
    "start_time": "2022-04-14T05:43:01.392Z"
   },
   {
    "duration": 20,
    "start_time": "2022-04-14T05:43:01.926Z"
   },
   {
    "duration": 8,
    "start_time": "2022-04-14T05:43:02.469Z"
   },
   {
    "duration": 10,
    "start_time": "2022-04-14T05:43:04.045Z"
   },
   {
    "duration": 7,
    "start_time": "2022-04-14T05:43:05.044Z"
   },
   {
    "duration": 21,
    "start_time": "2022-04-14T05:43:06.684Z"
   },
   {
    "duration": 8,
    "start_time": "2022-04-14T05:43:07.372Z"
   },
   {
    "duration": 7,
    "start_time": "2022-04-14T05:43:08.084Z"
   },
   {
    "duration": 14,
    "start_time": "2022-04-14T05:43:12.789Z"
   },
   {
    "duration": 17,
    "start_time": "2022-04-14T05:43:14.021Z"
   },
   {
    "duration": 16,
    "start_time": "2022-04-14T05:43:42.682Z"
   },
   {
    "duration": 21,
    "start_time": "2022-04-14T05:43:45.272Z"
   },
   {
    "duration": 12,
    "start_time": "2022-04-14T05:44:51.892Z"
   },
   {
    "duration": 12,
    "start_time": "2022-04-14T05:44:52.784Z"
   },
   {
    "duration": 5,
    "start_time": "2022-04-14T05:45:01.559Z"
   },
   {
    "duration": 12,
    "start_time": "2022-04-14T05:45:02.132Z"
   },
   {
    "duration": 6,
    "start_time": "2022-04-14T06:02:08.550Z"
   },
   {
    "duration": 3,
    "start_time": "2022-04-14T06:02:11.470Z"
   },
   {
    "duration": 12,
    "start_time": "2022-04-14T06:02:12.117Z"
   },
   {
    "duration": 4,
    "start_time": "2022-04-14T06:02:12.724Z"
   },
   {
    "duration": 5,
    "start_time": "2022-04-14T06:02:13.349Z"
   },
   {
    "duration": 2103,
    "start_time": "2022-04-14T06:02:13.823Z"
   },
   {
    "duration": 2357,
    "start_time": "2022-04-14T06:02:23.469Z"
   },
   {
    "duration": 38052,
    "start_time": "2022-04-14T06:02:30.365Z"
   },
   {
    "duration": 5632,
    "start_time": "2022-04-14T06:03:25.272Z"
   },
   {
    "duration": 65454,
    "start_time": "2022-04-14T06:03:36.528Z"
   },
   {
    "duration": 6,
    "start_time": "2022-04-14T06:05:33.689Z"
   },
   {
    "duration": 17,
    "start_time": "2022-04-14T06:05:34.009Z"
   },
   {
    "duration": 10,
    "start_time": "2022-04-14T06:05:34.759Z"
   },
   {
    "duration": 30,
    "start_time": "2022-04-14T06:05:35.878Z"
   },
   {
    "duration": 7,
    "start_time": "2022-04-14T06:05:47.191Z"
   },
   {
    "duration": 17,
    "start_time": "2022-04-14T06:05:47.502Z"
   },
   {
    "duration": 11,
    "start_time": "2022-04-14T06:05:48.277Z"
   },
   {
    "duration": 6,
    "start_time": "2022-04-14T06:05:49.549Z"
   },
   {
    "duration": 5,
    "start_time": "2022-04-14T06:05:50.877Z"
   },
   {
    "duration": 22,
    "start_time": "2022-04-14T06:05:51.568Z"
   },
   {
    "duration": 6,
    "start_time": "2022-04-14T06:06:02.327Z"
   },
   {
    "duration": 22,
    "start_time": "2022-04-14T06:06:03.472Z"
   },
   {
    "duration": 6,
    "start_time": "2022-04-14T06:06:08.343Z"
   },
   {
    "duration": 20,
    "start_time": "2022-04-14T06:06:21.302Z"
   },
   {
    "duration": 18,
    "start_time": "2022-04-14T06:06:23.239Z"
   },
   {
    "duration": 21,
    "start_time": "2022-04-14T06:06:25.655Z"
   },
   {
    "duration": 7,
    "start_time": "2022-04-14T06:06:25.996Z"
   },
   {
    "duration": 19,
    "start_time": "2022-04-14T06:06:26.698Z"
   },
   {
    "duration": 7,
    "start_time": "2022-04-14T06:11:59.964Z"
   },
   {
    "duration": 4,
    "start_time": "2022-04-14T06:12:01.928Z"
   },
   {
    "duration": 18,
    "start_time": "2022-04-14T06:12:02.736Z"
   },
   {
    "duration": 6,
    "start_time": "2022-04-14T06:12:29.244Z"
   },
   {
    "duration": 1004,
    "start_time": "2022-04-14T06:12:29.728Z"
   },
   {
    "duration": 21,
    "start_time": "2022-04-14T06:12:30.944Z"
   },
   {
    "duration": 28,
    "start_time": "2022-04-14T06:12:31.473Z"
   },
   {
    "duration": 26,
    "start_time": "2022-04-14T06:12:32.255Z"
   },
   {
    "duration": 32,
    "start_time": "2022-04-14T06:12:33.657Z"
   },
   {
    "duration": 372,
    "start_time": "2022-04-14T06:12:34.272Z"
   },
   {
    "duration": 8,
    "start_time": "2022-04-14T06:12:36.918Z"
   },
   {
    "duration": 7,
    "start_time": "2022-04-14T06:12:37.375Z"
   },
   {
    "duration": 8,
    "start_time": "2022-04-14T06:12:37.823Z"
   },
   {
    "duration": 5,
    "start_time": "2022-04-14T06:12:39.521Z"
   },
   {
    "duration": 4,
    "start_time": "2022-04-14T06:12:40.594Z"
   },
   {
    "duration": 6,
    "start_time": "2022-04-14T06:12:41.132Z"
   },
   {
    "duration": 3,
    "start_time": "2022-04-14T06:12:41.619Z"
   },
   {
    "duration": 4,
    "start_time": "2022-04-14T06:12:42.183Z"
   },
   {
    "duration": 8,
    "start_time": "2022-04-14T06:12:42.721Z"
   },
   {
    "duration": 30,
    "start_time": "2022-04-14T06:12:44.728Z"
   },
   {
    "duration": 18,
    "start_time": "2022-04-14T06:12:45.544Z"
   },
   {
    "duration": 20,
    "start_time": "2022-04-14T06:12:46.142Z"
   },
   {
    "duration": 13,
    "start_time": "2022-04-14T06:12:48.352Z"
   },
   {
    "duration": 348,
    "start_time": "2022-04-14T06:12:49.011Z"
   },
   {
    "duration": 12,
    "start_time": "2022-04-14T06:12:49.574Z"
   },
   {
    "duration": 362,
    "start_time": "2022-04-14T06:12:50.546Z"
   },
   {
    "duration": 5,
    "start_time": "2022-04-14T06:12:51.954Z"
   },
   {
    "duration": 5,
    "start_time": "2022-04-14T06:12:52.586Z"
   },
   {
    "duration": 6,
    "start_time": "2022-04-14T06:12:53.923Z"
   },
   {
    "duration": 5,
    "start_time": "2022-04-14T06:12:54.522Z"
   },
   {
    "duration": 415,
    "start_time": "2022-04-14T06:12:55.160Z"
   },
   {
    "duration": 416,
    "start_time": "2022-04-14T06:12:55.783Z"
   },
   {
    "duration": 454,
    "start_time": "2022-04-14T06:12:56.370Z"
   },
   {
    "duration": 7,
    "start_time": "2022-04-14T06:12:58.633Z"
   },
   {
    "duration": 812,
    "start_time": "2022-04-14T06:12:59.231Z"
   },
   {
    "duration": 785,
    "start_time": "2022-04-14T06:13:00.876Z"
   },
   {
    "duration": 7,
    "start_time": "2022-04-14T06:13:04.253Z"
   },
   {
    "duration": 6,
    "start_time": "2022-04-14T06:13:04.386Z"
   },
   {
    "duration": 7,
    "start_time": "2022-04-14T06:13:04.814Z"
   },
   {
    "duration": 4,
    "start_time": "2022-04-14T06:13:05.226Z"
   },
   {
    "duration": 2056,
    "start_time": "2022-04-14T06:13:05.728Z"
   },
   {
    "duration": 6,
    "start_time": "2022-04-14T06:13:07.786Z"
   },
   {
    "duration": 278,
    "start_time": "2022-04-14T06:13:07.794Z"
   },
   {
    "duration": 5,
    "start_time": "2022-04-14T06:13:08.075Z"
   },
   {
    "duration": 291,
    "start_time": "2022-04-14T06:13:08.082Z"
   },
   {
    "duration": 6,
    "start_time": "2022-04-14T06:13:08.375Z"
   },
   {
    "duration": 283,
    "start_time": "2022-04-14T06:13:08.687Z"
   },
   {
    "duration": 61,
    "start_time": "2022-04-14T06:13:11.016Z"
   },
   {
    "duration": 7,
    "start_time": "2022-04-14T06:13:11.496Z"
   },
   {
    "duration": 7,
    "start_time": "2022-04-14T06:13:12.024Z"
   },
   {
    "duration": 7,
    "start_time": "2022-04-14T06:13:12.750Z"
   },
   {
    "duration": 66,
    "start_time": "2022-04-14T06:13:13.162Z"
   },
   {
    "duration": 1835,
    "start_time": "2022-04-14T06:13:13.648Z"
   },
   {
    "duration": 7,
    "start_time": "2022-04-14T06:13:18.688Z"
   },
   {
    "duration": 4,
    "start_time": "2022-04-14T06:13:20.382Z"
   },
   {
    "duration": 11,
    "start_time": "2022-04-14T06:13:24.529Z"
   },
   {
    "duration": 4,
    "start_time": "2022-04-14T06:13:26.137Z"
   },
   {
    "duration": 4,
    "start_time": "2022-04-14T06:13:26.737Z"
   },
   {
    "duration": 1896,
    "start_time": "2022-04-14T06:13:27.230Z"
   },
   {
    "duration": 37429,
    "start_time": "2022-04-14T06:13:59.553Z"
   },
   {
    "duration": 7844,
    "start_time": "2022-04-14T06:14:41.740Z"
   },
   {
    "duration": 59789,
    "start_time": "2022-04-14T06:15:02.729Z"
   },
   {
    "duration": 5,
    "start_time": "2022-04-14T06:16:09.296Z"
   },
   {
    "duration": 19,
    "start_time": "2022-04-14T06:16:09.920Z"
   },
   {
    "duration": 12,
    "start_time": "2022-04-14T06:16:11.978Z"
   },
   {
    "duration": 5,
    "start_time": "2022-04-14T06:16:14.130Z"
   },
   {
    "duration": 6,
    "start_time": "2022-04-14T06:16:14.902Z"
   },
   {
    "duration": 16,
    "start_time": "2022-04-14T06:16:16.275Z"
   },
   {
    "duration": 7,
    "start_time": "2022-04-14T06:16:23.197Z"
   },
   {
    "duration": 9,
    "start_time": "2022-04-14T06:16:26.657Z"
   },
   {
    "duration": 6,
    "start_time": "2022-04-14T06:16:28.000Z"
   },
   {
    "duration": 17,
    "start_time": "2022-04-14T06:16:31.346Z"
   },
   {
    "duration": 8,
    "start_time": "2022-04-14T06:16:32.793Z"
   },
   {
    "duration": 8,
    "start_time": "2022-04-14T06:16:34.178Z"
   },
   {
    "duration": 14,
    "start_time": "2022-04-14T06:16:44.396Z"
   },
   {
    "duration": 16,
    "start_time": "2022-04-14T06:16:54.022Z"
   },
   {
    "duration": 26,
    "start_time": "2022-04-14T06:18:02.596Z"
   },
   {
    "duration": 16,
    "start_time": "2022-04-14T06:30:28.194Z"
   },
   {
    "duration": 26,
    "start_time": "2022-04-14T06:32:27.834Z"
   },
   {
    "duration": 12,
    "start_time": "2022-04-14T06:36:26.777Z"
   },
   {
    "duration": 24,
    "start_time": "2022-04-14T06:36:30.738Z"
   },
   {
    "duration": 14,
    "start_time": "2022-04-14T06:40:36.036Z"
   },
   {
    "duration": 22,
    "start_time": "2022-04-14T06:40:36.526Z"
   },
   {
    "duration": 12,
    "start_time": "2022-04-14T06:41:03.471Z"
   },
   {
    "duration": 21,
    "start_time": "2022-04-14T06:41:04.392Z"
   },
   {
    "duration": 11,
    "start_time": "2022-04-14T06:43:27.638Z"
   },
   {
    "duration": 21,
    "start_time": "2022-04-14T06:43:28.781Z"
   },
   {
    "duration": 12,
    "start_time": "2022-04-14T06:51:15.236Z"
   },
   {
    "duration": 19,
    "start_time": "2022-04-14T06:51:16.194Z"
   },
   {
    "duration": 13,
    "start_time": "2022-04-14T06:51:34.457Z"
   },
   {
    "duration": 27,
    "start_time": "2022-04-14T06:51:35.248Z"
   },
   {
    "duration": 14,
    "start_time": "2022-04-14T06:51:46.968Z"
   },
   {
    "duration": 26,
    "start_time": "2022-04-14T06:51:47.905Z"
   },
   {
    "duration": 6,
    "start_time": "2022-04-14T06:52:06.289Z"
   },
   {
    "duration": 17,
    "start_time": "2022-04-14T06:52:06.852Z"
   },
   {
    "duration": 12,
    "start_time": "2022-04-14T06:52:08.319Z"
   },
   {
    "duration": 18,
    "start_time": "2022-04-14T06:52:09.661Z"
   },
   {
    "duration": 6,
    "start_time": "2022-04-14T06:52:38.368Z"
   },
   {
    "duration": 827,
    "start_time": "2022-04-14T06:52:39.128Z"
   },
   {
    "duration": 20,
    "start_time": "2022-04-14T06:52:40.567Z"
   },
   {
    "duration": 27,
    "start_time": "2022-04-14T06:52:41.263Z"
   },
   {
    "duration": 21,
    "start_time": "2022-04-14T06:52:41.927Z"
   },
   {
    "duration": 33,
    "start_time": "2022-04-14T06:52:43.301Z"
   },
   {
    "duration": 366,
    "start_time": "2022-04-14T06:52:44.088Z"
   },
   {
    "duration": 10,
    "start_time": "2022-04-14T06:52:47.744Z"
   },
   {
    "duration": 8,
    "start_time": "2022-04-14T06:52:48.545Z"
   },
   {
    "duration": 7,
    "start_time": "2022-04-14T06:52:49.215Z"
   },
   {
    "duration": 5,
    "start_time": "2022-04-14T06:52:51.374Z"
   },
   {
    "duration": 3,
    "start_time": "2022-04-14T06:52:52.798Z"
   },
   {
    "duration": 7,
    "start_time": "2022-04-14T06:52:53.445Z"
   },
   {
    "duration": 3,
    "start_time": "2022-04-14T06:52:54.174Z"
   },
   {
    "duration": 4,
    "start_time": "2022-04-14T06:52:55.486Z"
   },
   {
    "duration": 10,
    "start_time": "2022-04-14T06:52:56.480Z"
   },
   {
    "duration": 30,
    "start_time": "2022-04-14T06:53:06.848Z"
   },
   {
    "duration": 17,
    "start_time": "2022-04-14T06:53:07.433Z"
   },
   {
    "duration": 27,
    "start_time": "2022-04-14T06:53:08.143Z"
   },
   {
    "duration": 12,
    "start_time": "2022-04-14T06:53:10.631Z"
   },
   {
    "duration": 523,
    "start_time": "2022-04-14T06:53:11.342Z"
   },
   {
    "duration": 10,
    "start_time": "2022-04-14T06:53:11.954Z"
   },
   {
    "duration": 366,
    "start_time": "2022-04-14T06:53:12.633Z"
   },
   {
    "duration": 7,
    "start_time": "2022-04-14T06:53:14.054Z"
   },
   {
    "duration": 7,
    "start_time": "2022-04-14T06:53:14.829Z"
   },
   {
    "duration": 6,
    "start_time": "2022-04-14T06:53:16.575Z"
   },
   {
    "duration": 5,
    "start_time": "2022-04-14T06:53:17.231Z"
   },
   {
    "duration": 412,
    "start_time": "2022-04-14T06:53:17.818Z"
   },
   {
    "duration": 416,
    "start_time": "2022-04-14T06:53:18.551Z"
   },
   {
    "duration": 431,
    "start_time": "2022-04-14T06:53:19.189Z"
   },
   {
    "duration": 6,
    "start_time": "2022-04-14T06:53:22.449Z"
   },
   {
    "duration": 767,
    "start_time": "2022-04-14T06:53:22.457Z"
   },
   {
    "duration": 838,
    "start_time": "2022-04-14T06:53:24.120Z"
   },
   {
    "duration": 8,
    "start_time": "2022-04-14T06:53:27.318Z"
   },
   {
    "duration": 6,
    "start_time": "2022-04-14T06:53:27.638Z"
   },
   {
    "duration": 7,
    "start_time": "2022-04-14T06:53:27.918Z"
   },
   {
    "duration": 4,
    "start_time": "2022-04-14T06:53:28.254Z"
   },
   {
    "duration": 2018,
    "start_time": "2022-04-14T06:53:29.048Z"
   },
   {
    "duration": 6,
    "start_time": "2022-04-14T06:53:31.068Z"
   },
   {
    "duration": 253,
    "start_time": "2022-04-14T06:53:31.200Z"
   },
   {
    "duration": 5,
    "start_time": "2022-04-14T06:53:32.071Z"
   },
   {
    "duration": 271,
    "start_time": "2022-04-14T06:53:32.664Z"
   },
   {
    "duration": 6,
    "start_time": "2022-04-14T06:53:33.655Z"
   },
   {
    "duration": 283,
    "start_time": "2022-04-14T06:53:34.240Z"
   },
   {
    "duration": 65,
    "start_time": "2022-04-14T06:53:36.607Z"
   },
   {
    "duration": 7,
    "start_time": "2022-04-14T06:53:37.384Z"
   },
   {
    "duration": 6,
    "start_time": "2022-04-14T06:53:38.022Z"
   },
   {
    "duration": 6,
    "start_time": "2022-04-14T06:53:38.686Z"
   },
   {
    "duration": 59,
    "start_time": "2022-04-14T06:53:39.441Z"
   },
   {
    "duration": 1820,
    "start_time": "2022-04-14T06:53:40.559Z"
   },
   {
    "duration": 7,
    "start_time": "2022-04-14T06:53:47.689Z"
   },
   {
    "duration": 4,
    "start_time": "2022-04-14T06:53:49.670Z"
   },
   {
    "duration": 12,
    "start_time": "2022-04-14T06:53:50.329Z"
   },
   {
    "duration": 4,
    "start_time": "2022-04-14T06:53:50.951Z"
   },
   {
    "duration": 4,
    "start_time": "2022-04-14T06:53:51.638Z"
   },
   {
    "duration": 1850,
    "start_time": "2022-04-14T06:53:52.582Z"
   },
   {
    "duration": 35639,
    "start_time": "2022-04-14T06:53:56.879Z"
   },
   {
    "duration": 5435,
    "start_time": "2022-04-14T06:54:51.722Z"
   },
   {
    "duration": 59644,
    "start_time": "2022-04-14T06:55:02.382Z"
   },
   {
    "duration": 6,
    "start_time": "2022-04-14T06:56:12.862Z"
   },
   {
    "duration": 19,
    "start_time": "2022-04-14T06:56:13.561Z"
   },
   {
    "duration": 12,
    "start_time": "2022-04-14T06:56:14.896Z"
   },
   {
    "duration": 6,
    "start_time": "2022-04-14T06:56:16.562Z"
   },
   {
    "duration": 7,
    "start_time": "2022-04-14T06:56:17.344Z"
   },
   {
    "duration": 16,
    "start_time": "2022-04-14T06:56:17.963Z"
   },
   {
    "duration": 7,
    "start_time": "2022-04-14T06:56:18.561Z"
   },
   {
    "duration": 13,
    "start_time": "2022-04-14T06:56:19.398Z"
   },
   {
    "duration": 8,
    "start_time": "2022-04-14T06:56:19.953Z"
   },
   {
    "duration": 92,
    "start_time": "2022-04-14T06:56:20.633Z"
   },
   {
    "duration": 7,
    "start_time": "2022-04-14T06:56:21.249Z"
   },
   {
    "duration": 7,
    "start_time": "2022-04-14T06:56:21.921Z"
   },
   {
    "duration": 14,
    "start_time": "2022-04-14T06:56:23.949Z"
   },
   {
    "duration": 26,
    "start_time": "2022-04-14T06:56:26.143Z"
   },
   {
    "duration": 34,
    "start_time": "2022-04-14T07:03:52.222Z"
   },
   {
    "duration": 18,
    "start_time": "2022-04-14T07:05:03.144Z"
   },
   {
    "duration": 25,
    "start_time": "2022-04-14T07:05:04.828Z"
   },
   {
    "duration": 14,
    "start_time": "2022-04-14T07:05:54.489Z"
   },
   {
    "duration": 25,
    "start_time": "2022-04-14T07:05:55.372Z"
   },
   {
    "duration": 14,
    "start_time": "2022-04-14T07:06:37.441Z"
   },
   {
    "duration": 25,
    "start_time": "2022-04-14T07:06:39.294Z"
   },
   {
    "duration": 13,
    "start_time": "2022-04-14T07:08:02.759Z"
   },
   {
    "duration": 24,
    "start_time": "2022-04-14T07:08:04.796Z"
   },
   {
    "duration": 13,
    "start_time": "2022-04-14T07:35:10.650Z"
   },
   {
    "duration": 13,
    "start_time": "2022-04-14T07:35:12.095Z"
   },
   {
    "duration": 13,
    "start_time": "2022-04-14T07:36:05.592Z"
   },
   {
    "duration": 13,
    "start_time": "2022-04-14T07:40:00.071Z"
   },
   {
    "duration": 14,
    "start_time": "2022-04-14T07:40:01.120Z"
   },
   {
    "duration": 13,
    "start_time": "2022-04-14T07:43:48.732Z"
   },
   {
    "duration": 15,
    "start_time": "2022-04-14T07:43:59.755Z"
   },
   {
    "duration": 18,
    "start_time": "2022-04-14T07:49:00.921Z"
   },
   {
    "duration": 14,
    "start_time": "2022-04-14T07:49:01.727Z"
   },
   {
    "duration": 12,
    "start_time": "2022-04-14T07:50:07.102Z"
   },
   {
    "duration": 17,
    "start_time": "2022-04-14T07:50:08.397Z"
   },
   {
    "duration": 12,
    "start_time": "2022-04-14T07:52:37.873Z"
   },
   {
    "duration": 22,
    "start_time": "2022-04-14T07:52:41.790Z"
   },
   {
    "duration": 14,
    "start_time": "2022-04-14T07:54:03.692Z"
   },
   {
    "duration": 7,
    "start_time": "2022-04-14T07:54:05.057Z"
   },
   {
    "duration": 8,
    "start_time": "2022-04-14T07:58:39.009Z"
   },
   {
    "duration": 10,
    "start_time": "2022-04-14T07:58:58.308Z"
   },
   {
    "duration": 13,
    "start_time": "2022-04-14T07:59:18.240Z"
   },
   {
    "duration": 25,
    "start_time": "2022-04-14T08:01:40.900Z"
   },
   {
    "duration": 26,
    "start_time": "2022-04-14T08:02:14.364Z"
   },
   {
    "duration": 15,
    "start_time": "2022-04-14T08:02:24.420Z"
   },
   {
    "duration": 26,
    "start_time": "2022-04-14T08:02:25.107Z"
   },
   {
    "duration": 14,
    "start_time": "2022-04-14T08:02:45.055Z"
   },
   {
    "duration": 12,
    "start_time": "2022-04-14T08:12:50.973Z"
   },
   {
    "duration": 104,
    "start_time": "2022-04-14T08:12:51.696Z"
   },
   {
    "duration": 11,
    "start_time": "2022-04-14T08:12:59.688Z"
   },
   {
    "duration": 24,
    "start_time": "2022-04-14T08:14:57.114Z"
   },
   {
    "duration": 11,
    "start_time": "2022-04-14T08:15:23.625Z"
   },
   {
    "duration": 5,
    "start_time": "2022-04-14T08:15:29.375Z"
   },
   {
    "duration": 12,
    "start_time": "2022-04-14T08:15:31.211Z"
   },
   {
    "duration": 111,
    "start_time": "2022-04-14T08:36:37.246Z"
   },
   {
    "duration": 120,
    "start_time": "2022-04-14T08:38:19.370Z"
   },
   {
    "duration": 113,
    "start_time": "2022-04-14T08:40:12.954Z"
   },
   {
    "duration": 2036,
    "start_time": "2022-04-14T08:41:08.838Z"
   },
   {
    "duration": 48,
    "start_time": "2022-04-14T08:53:40.261Z"
   },
   {
    "duration": 15,
    "start_time": "2022-04-14T08:55:13.105Z"
   },
   {
    "duration": 7,
    "start_time": "2022-04-14T08:55:50.612Z"
   },
   {
    "duration": 7,
    "start_time": "2022-04-14T08:57:32.545Z"
   },
   {
    "duration": 8,
    "start_time": "2022-04-14T08:57:41.441Z"
   },
   {
    "duration": 7,
    "start_time": "2022-04-14T08:57:49.807Z"
   },
   {
    "duration": 8,
    "start_time": "2022-04-14T08:58:48.826Z"
   },
   {
    "duration": 7,
    "start_time": "2022-04-14T09:03:20.209Z"
   },
   {
    "duration": 6,
    "start_time": "2022-04-14T09:04:32.198Z"
   },
   {
    "duration": 9,
    "start_time": "2022-04-14T09:04:38.053Z"
   },
   {
    "duration": 6,
    "start_time": "2022-04-14T09:11:31.625Z"
   },
   {
    "duration": 910,
    "start_time": "2022-04-14T09:11:31.635Z"
   },
   {
    "duration": 29,
    "start_time": "2022-04-14T09:11:32.548Z"
   },
   {
    "duration": 58,
    "start_time": "2022-04-14T09:11:32.580Z"
   },
   {
    "duration": 34,
    "start_time": "2022-04-14T09:11:32.642Z"
   },
   {
    "duration": 582,
    "start_time": "2022-04-14T09:11:32.679Z"
   },
   {
    "duration": 10,
    "start_time": "2022-04-14T09:11:33.264Z"
   },
   {
    "duration": 15,
    "start_time": "2022-04-14T09:11:33.277Z"
   },
   {
    "duration": 32,
    "start_time": "2022-04-14T09:11:33.295Z"
   },
   {
    "duration": 6,
    "start_time": "2022-04-14T09:11:33.330Z"
   },
   {
    "duration": 5,
    "start_time": "2022-04-14T09:11:33.342Z"
   },
   {
    "duration": 16,
    "start_time": "2022-04-14T09:11:33.350Z"
   },
   {
    "duration": 13,
    "start_time": "2022-04-14T09:11:33.369Z"
   },
   {
    "duration": 40,
    "start_time": "2022-04-14T09:11:33.385Z"
   },
   {
    "duration": 14,
    "start_time": "2022-04-14T09:11:33.428Z"
   },
   {
    "duration": 46,
    "start_time": "2022-04-14T09:11:33.444Z"
   },
   {
    "duration": 47,
    "start_time": "2022-04-14T09:11:33.493Z"
   },
   {
    "duration": 21,
    "start_time": "2022-04-14T09:11:33.542Z"
   },
   {
    "duration": 14,
    "start_time": "2022-04-14T09:11:33.566Z"
   },
   {
    "duration": 395,
    "start_time": "2022-04-14T09:11:33.584Z"
   },
   {
    "duration": 12,
    "start_time": "2022-04-14T09:11:33.982Z"
   },
   {
    "duration": 627,
    "start_time": "2022-04-14T09:11:33.997Z"
   },
   {
    "duration": 7,
    "start_time": "2022-04-14T09:11:34.628Z"
   },
   {
    "duration": 17,
    "start_time": "2022-04-14T09:11:34.638Z"
   },
   {
    "duration": 16,
    "start_time": "2022-04-14T09:11:34.658Z"
   },
   {
    "duration": 8,
    "start_time": "2022-04-14T09:11:34.677Z"
   },
   {
    "duration": 646,
    "start_time": "2022-04-14T09:11:34.688Z"
   },
   {
    "duration": 661,
    "start_time": "2022-04-14T09:11:35.337Z"
   },
   {
    "duration": 684,
    "start_time": "2022-04-14T09:11:36.008Z"
   },
   {
    "duration": 9,
    "start_time": "2022-04-14T09:11:36.695Z"
   },
   {
    "duration": 1117,
    "start_time": "2022-04-14T09:11:36.707Z"
   },
   {
    "duration": 1201,
    "start_time": "2022-04-14T09:11:37.827Z"
   },
   {
    "duration": 8,
    "start_time": "2022-04-14T09:11:39.031Z"
   },
   {
    "duration": 22,
    "start_time": "2022-04-14T09:11:39.041Z"
   },
   {
    "duration": 27,
    "start_time": "2022-04-14T09:11:39.066Z"
   },
   {
    "duration": 20,
    "start_time": "2022-04-14T09:11:39.095Z"
   },
   {
    "duration": 1935,
    "start_time": "2022-04-14T09:11:39.118Z"
   },
   {
    "duration": 7,
    "start_time": "2022-04-14T09:11:41.055Z"
   },
   {
    "duration": 296,
    "start_time": "2022-04-14T09:11:41.064Z"
   },
   {
    "duration": 7,
    "start_time": "2022-04-14T09:11:41.363Z"
   },
   {
    "duration": 310,
    "start_time": "2022-04-14T09:11:41.373Z"
   },
   {
    "duration": 7,
    "start_time": "2022-04-14T09:11:41.687Z"
   },
   {
    "duration": 438,
    "start_time": "2022-04-14T09:11:41.697Z"
   },
   {
    "duration": 92,
    "start_time": "2022-04-14T09:11:42.138Z"
   },
   {
    "duration": 8,
    "start_time": "2022-04-14T09:11:42.233Z"
   },
   {
    "duration": 31,
    "start_time": "2022-04-14T09:11:42.244Z"
   },
   {
    "duration": 14,
    "start_time": "2022-04-14T09:11:42.278Z"
   },
   {
    "duration": 108,
    "start_time": "2022-04-14T09:11:42.294Z"
   },
   {
    "duration": 2706,
    "start_time": "2022-04-14T09:11:42.404Z"
   },
   {
    "duration": 19,
    "start_time": "2022-04-14T09:11:45.114Z"
   },
   {
    "duration": 19,
    "start_time": "2022-04-14T09:11:45.135Z"
   },
   {
    "duration": 26,
    "start_time": "2022-04-14T09:11:45.156Z"
   },
   {
    "duration": 15,
    "start_time": "2022-04-14T09:11:45.185Z"
   },
   {
    "duration": 163,
    "start_time": "2022-04-14T09:11:45.204Z"
   },
   {
    "duration": 0,
    "start_time": "2022-04-14T09:11:45.370Z"
   },
   {
    "duration": 0,
    "start_time": "2022-04-14T09:11:45.372Z"
   },
   {
    "duration": 0,
    "start_time": "2022-04-14T09:11:45.374Z"
   },
   {
    "duration": 0,
    "start_time": "2022-04-14T09:11:45.376Z"
   },
   {
    "duration": 0,
    "start_time": "2022-04-14T09:11:45.379Z"
   },
   {
    "duration": 0,
    "start_time": "2022-04-14T09:11:45.381Z"
   },
   {
    "duration": 0,
    "start_time": "2022-04-14T09:11:45.384Z"
   },
   {
    "duration": 0,
    "start_time": "2022-04-14T09:11:45.386Z"
   },
   {
    "duration": 0,
    "start_time": "2022-04-14T09:11:45.388Z"
   },
   {
    "duration": 0,
    "start_time": "2022-04-14T09:11:45.390Z"
   },
   {
    "duration": 0,
    "start_time": "2022-04-14T09:11:45.393Z"
   },
   {
    "duration": 0,
    "start_time": "2022-04-14T09:11:45.395Z"
   },
   {
    "duration": 0,
    "start_time": "2022-04-14T09:11:45.397Z"
   },
   {
    "duration": 0,
    "start_time": "2022-04-14T09:11:45.400Z"
   },
   {
    "duration": 0,
    "start_time": "2022-04-14T09:11:45.402Z"
   },
   {
    "duration": 1,
    "start_time": "2022-04-14T09:11:45.404Z"
   },
   {
    "duration": 0,
    "start_time": "2022-04-14T09:11:45.407Z"
   },
   {
    "duration": 0,
    "start_time": "2022-04-14T09:11:45.408Z"
   },
   {
    "duration": 0,
    "start_time": "2022-04-14T09:11:45.409Z"
   },
   {
    "duration": 0,
    "start_time": "2022-04-14T09:11:45.411Z"
   },
   {
    "duration": 0,
    "start_time": "2022-04-14T09:11:45.427Z"
   },
   {
    "duration": 0,
    "start_time": "2022-04-14T09:11:45.429Z"
   },
   {
    "duration": 0,
    "start_time": "2022-04-14T09:11:45.430Z"
   },
   {
    "duration": 0,
    "start_time": "2022-04-14T09:11:45.433Z"
   },
   {
    "duration": 10,
    "start_time": "2022-04-14T09:19:43.230Z"
   },
   {
    "duration": 1148,
    "start_time": "2022-04-14T09:19:44.322Z"
   },
   {
    "duration": 25,
    "start_time": "2022-04-14T09:20:16.732Z"
   },
   {
    "duration": 28,
    "start_time": "2022-04-14T09:20:18.842Z"
   },
   {
    "duration": 35,
    "start_time": "2022-04-14T09:20:28.354Z"
   },
   {
    "duration": 372,
    "start_time": "2022-04-14T09:20:29.452Z"
   },
   {
    "duration": 9,
    "start_time": "2022-04-14T09:20:35.921Z"
   },
   {
    "duration": 9,
    "start_time": "2022-04-14T09:20:36.993Z"
   },
   {
    "duration": 11,
    "start_time": "2022-04-14T09:20:38.987Z"
   },
   {
    "duration": 6,
    "start_time": "2022-04-14T09:20:42.698Z"
   },
   {
    "duration": 4,
    "start_time": "2022-04-14T09:20:45.730Z"
   },
   {
    "duration": 7,
    "start_time": "2022-04-14T09:20:46.714Z"
   },
   {
    "duration": 4,
    "start_time": "2022-04-14T09:20:47.641Z"
   },
   {
    "duration": 3,
    "start_time": "2022-04-14T09:20:49.289Z"
   },
   {
    "duration": 9,
    "start_time": "2022-04-14T09:20:50.938Z"
   },
   {
    "duration": 32,
    "start_time": "2022-04-14T09:20:56.483Z"
   },
   {
    "duration": 21,
    "start_time": "2022-04-14T09:20:57.497Z"
   },
   {
    "duration": 22,
    "start_time": "2022-04-14T09:20:58.649Z"
   },
   {
    "duration": 13,
    "start_time": "2022-04-14T09:21:03.108Z"
   },
   {
    "duration": 405,
    "start_time": "2022-04-14T09:21:04.961Z"
   },
   {
    "duration": 16,
    "start_time": "2022-04-14T09:21:06.446Z"
   },
   {
    "duration": 488,
    "start_time": "2022-04-14T09:21:07.386Z"
   },
   {
    "duration": 9,
    "start_time": "2022-04-14T09:21:14.318Z"
   },
   {
    "duration": 7,
    "start_time": "2022-04-14T09:21:15.441Z"
   },
   {
    "duration": 6,
    "start_time": "2022-04-14T09:21:19.115Z"
   },
   {
    "duration": 6,
    "start_time": "2022-04-14T09:21:20.322Z"
   },
   {
    "duration": 834,
    "start_time": "2022-04-14T09:21:21.953Z"
   },
   {
    "duration": 867,
    "start_time": "2022-04-14T09:21:24.489Z"
   },
   {
    "duration": 918,
    "start_time": "2022-04-14T09:21:26.873Z"
   },
   {
    "duration": 8,
    "start_time": "2022-04-14T09:21:33.490Z"
   },
   {
    "duration": 1035,
    "start_time": "2022-04-14T09:21:35.082Z"
   },
   {
    "duration": 759,
    "start_time": "2022-04-14T09:21:37.689Z"
   },
   {
    "duration": 7,
    "start_time": "2022-04-14T09:21:42.944Z"
   },
   {
    "duration": 8,
    "start_time": "2022-04-14T09:21:44.697Z"
   },
   {
    "duration": 10,
    "start_time": "2022-04-14T09:21:45.753Z"
   },
   {
    "duration": 6,
    "start_time": "2022-04-14T09:21:48.553Z"
   },
   {
    "duration": 2179,
    "start_time": "2022-04-14T09:21:49.985Z"
   },
   {
    "duration": 6,
    "start_time": "2022-04-14T09:21:52.167Z"
   },
   {
    "duration": 293,
    "start_time": "2022-04-14T09:21:53.434Z"
   },
   {
    "duration": 7,
    "start_time": "2022-04-14T09:21:55.085Z"
   },
   {
    "duration": 279,
    "start_time": "2022-04-14T09:21:56.257Z"
   },
   {
    "duration": 7,
    "start_time": "2022-04-14T09:21:57.663Z"
   },
   {
    "duration": 566,
    "start_time": "2022-04-14T09:21:59.108Z"
   },
   {
    "duration": 60,
    "start_time": "2022-04-14T09:22:05.331Z"
   },
   {
    "duration": 9,
    "start_time": "2022-04-14T09:22:07.390Z"
   },
   {
    "duration": 7,
    "start_time": "2022-04-14T09:22:09.480Z"
   },
   {
    "duration": 7,
    "start_time": "2022-04-14T09:22:10.425Z"
   },
   {
    "duration": 63,
    "start_time": "2022-04-14T09:22:12.322Z"
   },
   {
    "duration": 1809,
    "start_time": "2022-04-14T09:22:13.274Z"
   },
   {
    "duration": 7,
    "start_time": "2022-04-14T09:22:17.992Z"
   },
   {
    "duration": 10,
    "start_time": "2022-04-14T09:22:24.552Z"
   },
   {
    "duration": 7,
    "start_time": "2022-04-14T09:22:26.507Z"
   },
   {
    "duration": 10,
    "start_time": "2022-04-14T09:22:28.231Z"
   },
   {
    "duration": 116,
    "start_time": "2022-04-14T09:22:37.961Z"
   },
   {
    "duration": 7,
    "start_time": "2022-04-14T09:25:36.200Z"
   },
   {
    "duration": 4,
    "start_time": "2022-04-14T09:25:39.580Z"
   },
   {
    "duration": 13,
    "start_time": "2022-04-14T09:25:40.859Z"
   },
   {
    "duration": 3,
    "start_time": "2022-04-14T09:25:42.290Z"
   },
   {
    "duration": 3,
    "start_time": "2022-04-14T09:25:45.780Z"
   },
   {
    "duration": 503,
    "start_time": "2022-04-14T09:25:49.435Z"
   },
   {
    "duration": 8,
    "start_time": "2022-04-14T09:26:09.252Z"
   },
   {
    "duration": 4,
    "start_time": "2022-04-14T09:26:10.587Z"
   },
   {
    "duration": 12,
    "start_time": "2022-04-14T09:26:11.222Z"
   },
   {
    "duration": 5,
    "start_time": "2022-04-14T09:26:12.002Z"
   },
   {
    "duration": 6,
    "start_time": "2022-04-14T09:26:14.195Z"
   },
   {
    "duration": 290,
    "start_time": "2022-04-14T09:26:15.637Z"
   },
   {
    "duration": 7,
    "start_time": "2022-04-14T09:26:46.085Z"
   },
   {
    "duration": 4,
    "start_time": "2022-04-14T09:26:54.491Z"
   },
   {
    "duration": 21,
    "start_time": "2022-04-14T09:26:55.434Z"
   },
   {
    "duration": 5,
    "start_time": "2022-04-14T09:26:56.438Z"
   },
   {
    "duration": 4,
    "start_time": "2022-04-14T09:26:58.004Z"
   },
   {
    "duration": 235,
    "start_time": "2022-04-14T09:26:59.492Z"
   },
   {
    "duration": 5,
    "start_time": "2022-04-14T09:28:37.932Z"
   },
   {
    "duration": 801,
    "start_time": "2022-04-14T09:28:38.532Z"
   },
   {
    "duration": 38,
    "start_time": "2022-04-14T09:28:40.830Z"
   },
   {
    "duration": 52,
    "start_time": "2022-04-14T09:28:41.548Z"
   },
   {
    "duration": 33,
    "start_time": "2022-04-14T09:28:43.507Z"
   },
   {
    "duration": 376,
    "start_time": "2022-04-14T09:28:44.108Z"
   },
   {
    "duration": 9,
    "start_time": "2022-04-14T09:28:47.628Z"
   },
   {
    "duration": 8,
    "start_time": "2022-04-14T09:28:48.261Z"
   },
   {
    "duration": 9,
    "start_time": "2022-04-14T09:28:48.894Z"
   },
   {
    "duration": 6,
    "start_time": "2022-04-14T09:28:50.900Z"
   },
   {
    "duration": 4,
    "start_time": "2022-04-14T09:28:52.266Z"
   },
   {
    "duration": 7,
    "start_time": "2022-04-14T09:28:52.939Z"
   },
   {
    "duration": 4,
    "start_time": "2022-04-14T09:28:53.616Z"
   },
   {
    "duration": 4,
    "start_time": "2022-04-14T09:28:54.308Z"
   },
   {
    "duration": 13,
    "start_time": "2022-04-14T09:28:55.101Z"
   },
   {
    "duration": 31,
    "start_time": "2022-04-14T09:28:57.804Z"
   },
   {
    "duration": 22,
    "start_time": "2022-04-14T09:28:58.467Z"
   },
   {
    "duration": 20,
    "start_time": "2022-04-14T09:28:59.149Z"
   },
   {
    "duration": 13,
    "start_time": "2022-04-14T09:29:01.764Z"
   },
   {
    "duration": 375,
    "start_time": "2022-04-14T09:29:02.485Z"
   },
   {
    "duration": 12,
    "start_time": "2022-04-14T09:29:03.164Z"
   },
   {
    "duration": 389,
    "start_time": "2022-04-14T09:29:04.355Z"
   },
   {
    "duration": 6,
    "start_time": "2022-04-14T09:29:06.257Z"
   },
   {
    "duration": 5,
    "start_time": "2022-04-14T09:29:06.813Z"
   },
   {
    "duration": 7,
    "start_time": "2022-04-14T09:29:08.620Z"
   },
   {
    "duration": 6,
    "start_time": "2022-04-14T09:29:09.315Z"
   },
   {
    "duration": 415,
    "start_time": "2022-04-14T09:29:09.973Z"
   },
   {
    "duration": 893,
    "start_time": "2022-04-14T09:29:10.668Z"
   },
   {
    "duration": 915,
    "start_time": "2022-04-14T09:29:11.668Z"
   },
   {
    "duration": 9,
    "start_time": "2022-04-14T09:29:15.514Z"
   },
   {
    "duration": 1348,
    "start_time": "2022-04-14T09:29:16.230Z"
   },
   {
    "duration": 1106,
    "start_time": "2022-04-14T09:29:18.811Z"
   },
   {
    "duration": 8,
    "start_time": "2022-04-14T09:29:23.516Z"
   },
   {
    "duration": 6,
    "start_time": "2022-04-14T09:29:25.636Z"
   },
   {
    "duration": 7,
    "start_time": "2022-04-14T09:29:26.214Z"
   },
   {
    "duration": 5,
    "start_time": "2022-04-14T09:29:26.875Z"
   },
   {
    "duration": 2464,
    "start_time": "2022-04-14T09:29:27.512Z"
   },
   {
    "duration": 7,
    "start_time": "2022-04-14T09:29:29.979Z"
   },
   {
    "duration": 613,
    "start_time": "2022-04-14T09:29:29.988Z"
   },
   {
    "duration": 7,
    "start_time": "2022-04-14T09:29:30.706Z"
   },
   {
    "duration": 295,
    "start_time": "2022-04-14T09:29:30.718Z"
   },
   {
    "duration": 13,
    "start_time": "2022-04-14T09:29:31.015Z"
   },
   {
    "duration": 293,
    "start_time": "2022-04-14T09:29:31.299Z"
   },
   {
    "duration": 64,
    "start_time": "2022-04-14T09:29:33.790Z"
   },
   {
    "duration": 8,
    "start_time": "2022-04-14T09:29:34.371Z"
   },
   {
    "duration": 8,
    "start_time": "2022-04-14T09:29:35.028Z"
   },
   {
    "duration": 9,
    "start_time": "2022-04-14T09:29:35.643Z"
   },
   {
    "duration": 121,
    "start_time": "2022-04-14T09:29:36.218Z"
   },
   {
    "duration": 3568,
    "start_time": "2022-04-14T09:29:36.828Z"
   },
   {
    "duration": 27,
    "start_time": "2022-04-14T09:29:40.400Z"
   },
   {
    "duration": 21,
    "start_time": "2022-04-14T09:29:40.430Z"
   },
   {
    "duration": 14,
    "start_time": "2022-04-14T09:29:40.455Z"
   },
   {
    "duration": 14,
    "start_time": "2022-04-14T09:29:40.539Z"
   },
   {
    "duration": 9,
    "start_time": "2022-04-14T09:29:47.844Z"
   },
   {
    "duration": 5,
    "start_time": "2022-04-14T09:29:51.443Z"
   },
   {
    "duration": 17,
    "start_time": "2022-04-14T09:29:53.571Z"
   },
   {
    "duration": 4,
    "start_time": "2022-04-14T09:29:58.268Z"
   },
   {
    "duration": 5,
    "start_time": "2022-04-14T09:29:59.101Z"
   },
   {
    "duration": 393,
    "start_time": "2022-04-14T09:30:00.146Z"
   },
   {
    "duration": 313,
    "start_time": "2022-04-14T09:32:13.921Z"
   },
   {
    "duration": 6,
    "start_time": "2022-04-14T09:32:55.743Z"
   },
   {
    "duration": 3,
    "start_time": "2022-04-14T09:32:57.423Z"
   },
   {
    "duration": 13,
    "start_time": "2022-04-14T09:32:58.381Z"
   },
   {
    "duration": 5,
    "start_time": "2022-04-14T09:32:59.469Z"
   },
   {
    "duration": 4,
    "start_time": "2022-04-14T09:33:00.144Z"
   },
   {
    "duration": 578,
    "start_time": "2022-04-14T09:33:01.549Z"
   },
   {
    "duration": 10,
    "start_time": "2022-04-14T09:35:13.793Z"
   },
   {
    "duration": 5,
    "start_time": "2022-04-14T09:35:15.464Z"
   },
   {
    "duration": 13,
    "start_time": "2022-04-14T09:35:16.310Z"
   },
   {
    "duration": 5,
    "start_time": "2022-04-14T09:35:17.334Z"
   },
   {
    "duration": 6,
    "start_time": "2022-04-14T09:35:18.062Z"
   },
   {
    "duration": 644,
    "start_time": "2022-04-14T09:35:19.190Z"
   },
   {
    "duration": 7,
    "start_time": "2022-04-14T09:35:48.089Z"
   },
   {
    "duration": 4,
    "start_time": "2022-04-14T09:35:55.233Z"
   },
   {
    "duration": 12,
    "start_time": "2022-04-14T09:35:56.424Z"
   },
   {
    "duration": 5,
    "start_time": "2022-04-14T09:35:57.095Z"
   },
   {
    "duration": 5,
    "start_time": "2022-04-14T09:36:00.079Z"
   },
   {
    "duration": 2466,
    "start_time": "2022-04-14T09:36:28.860Z"
   },
   {
    "duration": 6,
    "start_time": "2022-04-14T09:38:04.181Z"
   },
   {
    "duration": 4,
    "start_time": "2022-04-14T09:38:10.434Z"
   },
   {
    "duration": 13,
    "start_time": "2022-04-14T09:38:10.901Z"
   },
   {
    "duration": 5,
    "start_time": "2022-04-14T09:38:11.504Z"
   },
   {
    "duration": 5,
    "start_time": "2022-04-14T09:38:12.028Z"
   },
   {
    "duration": 739,
    "start_time": "2022-04-14T09:38:22.693Z"
   },
   {
    "duration": 7,
    "start_time": "2022-04-14T09:39:13.298Z"
   },
   {
    "duration": 4,
    "start_time": "2022-04-14T09:39:14.348Z"
   },
   {
    "duration": 19,
    "start_time": "2022-04-14T09:39:14.874Z"
   },
   {
    "duration": 4,
    "start_time": "2022-04-14T09:39:15.455Z"
   },
   {
    "duration": 5,
    "start_time": "2022-04-14T09:39:16.302Z"
   },
   {
    "duration": 683,
    "start_time": "2022-04-14T09:39:18.346Z"
   },
   {
    "duration": 10,
    "start_time": "2022-04-14T09:40:30.962Z"
   },
   {
    "duration": 4,
    "start_time": "2022-04-14T09:40:32.937Z"
   },
   {
    "duration": 12,
    "start_time": "2022-04-14T09:40:33.657Z"
   },
   {
    "duration": 5,
    "start_time": "2022-04-14T09:40:34.289Z"
   },
   {
    "duration": 4,
    "start_time": "2022-04-14T09:40:35.312Z"
   },
   {
    "duration": 1983,
    "start_time": "2022-04-14T09:40:36.043Z"
   },
   {
    "duration": 806,
    "start_time": "2022-04-14T09:40:46.149Z"
   },
   {
    "duration": 779,
    "start_time": "2022-04-14T09:40:46.966Z"
   },
   {
    "duration": 41043,
    "start_time": "2022-04-14T09:41:54.124Z"
   },
   {
    "duration": 836,
    "start_time": "2022-04-14T09:42:43.148Z"
   },
   {
    "duration": 5482,
    "start_time": "2022-04-14T09:42:58.932Z"
   },
   {
    "duration": 13185,
    "start_time": "2022-04-14T09:43:14.246Z"
   },
   {
    "duration": 88082,
    "start_time": "2022-04-14T09:43:54.100Z"
   },
   {
    "duration": 7,
    "start_time": "2022-04-14T09:45:28.398Z"
   },
   {
    "duration": 18,
    "start_time": "2022-04-14T09:45:29.810Z"
   },
   {
    "duration": 14,
    "start_time": "2022-04-14T09:45:31.330Z"
   },
   {
    "duration": 5,
    "start_time": "2022-04-14T09:45:33.802Z"
   },
   {
    "duration": 7,
    "start_time": "2022-04-14T09:45:35.913Z"
   },
   {
    "duration": 73,
    "start_time": "2022-04-14T09:45:37.457Z"
   },
   {
    "duration": 17,
    "start_time": "2022-04-14T09:45:39.185Z"
   },
   {
    "duration": 6,
    "start_time": "2022-04-14T09:45:58.108Z"
   },
   {
    "duration": 8,
    "start_time": "2022-04-14T09:46:02.051Z"
   },
   {
    "duration": 11,
    "start_time": "2022-04-14T09:46:07.428Z"
   },
   {
    "duration": 7,
    "start_time": "2022-04-14T09:46:12.896Z"
   },
   {
    "duration": 16,
    "start_time": "2022-04-14T09:46:15.372Z"
   },
   {
    "duration": 7,
    "start_time": "2022-04-14T09:46:19.060Z"
   },
   {
    "duration": 7,
    "start_time": "2022-04-14T09:46:25.747Z"
   },
   {
    "duration": 14,
    "start_time": "2022-04-14T09:46:36.498Z"
   },
   {
    "duration": 13,
    "start_time": "2022-04-14T09:46:50.211Z"
   },
   {
    "duration": 31,
    "start_time": "2022-04-14T09:49:30.358Z"
   },
   {
    "duration": 12,
    "start_time": "2022-04-14T09:49:54.203Z"
   },
   {
    "duration": 4,
    "start_time": "2022-04-14T09:49:58.074Z"
   },
   {
    "duration": 11,
    "start_time": "2022-04-14T09:49:58.758Z"
   },
   {
    "duration": 5,
    "start_time": "2022-04-14T09:50:13.546Z"
   },
   {
    "duration": 1002,
    "start_time": "2022-04-14T09:50:13.555Z"
   },
   {
    "duration": 21,
    "start_time": "2022-04-14T09:50:14.561Z"
   },
   {
    "duration": 58,
    "start_time": "2022-04-14T09:50:14.584Z"
   },
   {
    "duration": 32,
    "start_time": "2022-04-14T09:50:14.645Z"
   },
   {
    "duration": 401,
    "start_time": "2022-04-14T09:50:14.679Z"
   },
   {
    "duration": 9,
    "start_time": "2022-04-14T09:50:15.083Z"
   },
   {
    "duration": 37,
    "start_time": "2022-04-14T09:50:15.094Z"
   },
   {
    "duration": 29,
    "start_time": "2022-04-14T09:50:15.134Z"
   },
   {
    "duration": 23,
    "start_time": "2022-04-14T09:50:15.165Z"
   },
   {
    "duration": 20,
    "start_time": "2022-04-14T09:50:15.192Z"
   },
   {
    "duration": 44,
    "start_time": "2022-04-14T09:50:15.214Z"
   },
   {
    "duration": 19,
    "start_time": "2022-04-14T09:50:15.261Z"
   },
   {
    "duration": 32,
    "start_time": "2022-04-14T09:50:15.282Z"
   },
   {
    "duration": 24,
    "start_time": "2022-04-14T09:50:15.316Z"
   },
   {
    "duration": 48,
    "start_time": "2022-04-14T09:50:15.343Z"
   },
   {
    "duration": 74,
    "start_time": "2022-04-14T09:50:15.393Z"
   },
   {
    "duration": 19,
    "start_time": "2022-04-14T09:50:15.469Z"
   },
   {
    "duration": 19,
    "start_time": "2022-04-14T09:50:15.491Z"
   },
   {
    "duration": 361,
    "start_time": "2022-04-14T09:50:15.512Z"
   },
   {
    "duration": 12,
    "start_time": "2022-04-14T09:50:15.875Z"
   },
   {
    "duration": 400,
    "start_time": "2022-04-14T09:50:15.889Z"
   },
   {
    "duration": 6,
    "start_time": "2022-04-14T09:50:16.291Z"
   },
   {
    "duration": 26,
    "start_time": "2022-04-14T09:50:16.299Z"
   },
   {
    "duration": 6,
    "start_time": "2022-04-14T09:50:16.327Z"
   },
   {
    "duration": 9,
    "start_time": "2022-04-14T09:50:16.336Z"
   },
   {
    "duration": 453,
    "start_time": "2022-04-14T09:50:16.348Z"
   },
   {
    "duration": 468,
    "start_time": "2022-04-14T09:50:16.804Z"
   },
   {
    "duration": 463,
    "start_time": "2022-04-14T09:50:17.279Z"
   },
   {
    "duration": 8,
    "start_time": "2022-04-14T09:50:17.745Z"
   },
   {
    "duration": 795,
    "start_time": "2022-04-14T09:50:17.755Z"
   },
   {
    "duration": 1121,
    "start_time": "2022-04-14T09:50:18.552Z"
   },
   {
    "duration": 7,
    "start_time": "2022-04-14T09:50:19.676Z"
   },
   {
    "duration": 9,
    "start_time": "2022-04-14T09:50:19.685Z"
   },
   {
    "duration": 28,
    "start_time": "2022-04-14T09:50:19.696Z"
   },
   {
    "duration": 3,
    "start_time": "2022-04-14T09:50:19.727Z"
   },
   {
    "duration": 1933,
    "start_time": "2022-04-14T09:50:19.732Z"
   },
   {
    "duration": 6,
    "start_time": "2022-04-14T09:50:21.668Z"
   },
   {
    "duration": 279,
    "start_time": "2022-04-14T09:50:21.677Z"
   },
   {
    "duration": 7,
    "start_time": "2022-04-14T09:50:21.959Z"
   },
   {
    "duration": 298,
    "start_time": "2022-04-14T09:50:21.969Z"
   },
   {
    "duration": 6,
    "start_time": "2022-04-14T09:50:22.269Z"
   },
   {
    "duration": 303,
    "start_time": "2022-04-14T09:50:22.277Z"
   },
   {
    "duration": 74,
    "start_time": "2022-04-14T09:50:22.583Z"
   },
   {
    "duration": 6,
    "start_time": "2022-04-14T09:50:22.660Z"
   },
   {
    "duration": 39,
    "start_time": "2022-04-14T09:50:22.668Z"
   },
   {
    "duration": 12,
    "start_time": "2022-04-14T09:50:22.709Z"
   },
   {
    "duration": 84,
    "start_time": "2022-04-14T09:50:22.724Z"
   },
   {
    "duration": 1868,
    "start_time": "2022-04-14T09:50:22.810Z"
   },
   {
    "duration": 7,
    "start_time": "2022-04-14T09:50:24.680Z"
   },
   {
    "duration": 36,
    "start_time": "2022-04-14T09:50:24.689Z"
   },
   {
    "duration": 9,
    "start_time": "2022-04-14T09:50:24.727Z"
   },
   {
    "duration": 20,
    "start_time": "2022-04-14T09:50:24.739Z"
   },
   {
    "duration": 10,
    "start_time": "2022-04-14T09:50:24.761Z"
   },
   {
    "duration": 12,
    "start_time": "2022-04-14T09:50:24.774Z"
   },
   {
    "duration": 40,
    "start_time": "2022-04-14T09:50:24.788Z"
   },
   {
    "duration": 10,
    "start_time": "2022-04-14T09:50:24.830Z"
   },
   {
    "duration": 8,
    "start_time": "2022-04-14T09:50:24.842Z"
   },
   {
    "duration": 1873,
    "start_time": "2022-04-14T09:50:24.853Z"
   },
   {
    "duration": 35854,
    "start_time": "2022-04-14T09:50:26.730Z"
   },
   {
    "duration": 5484,
    "start_time": "2022-04-14T09:51:02.587Z"
   },
   {
    "duration": 1705,
    "start_time": "2022-04-14T21:38:29.501Z"
   },
   {
    "duration": 616,
    "start_time": "2022-04-14T21:38:31.208Z"
   },
   {
    "duration": 12,
    "start_time": "2022-04-14T21:38:31.826Z"
   },
   {
    "duration": 16,
    "start_time": "2022-04-14T21:38:31.840Z"
   },
   {
    "duration": 23,
    "start_time": "2022-04-14T21:38:31.857Z"
   },
   {
    "duration": 132,
    "start_time": "2022-04-14T21:38:31.882Z"
   },
   {
    "duration": 0,
    "start_time": "2022-04-14T21:38:32.017Z"
   },
   {
    "duration": 0,
    "start_time": "2022-04-14T21:38:32.018Z"
   },
   {
    "duration": 0,
    "start_time": "2022-04-14T21:38:32.023Z"
   },
   {
    "duration": 0,
    "start_time": "2022-04-14T21:38:32.024Z"
   },
   {
    "duration": 0,
    "start_time": "2022-04-14T21:38:32.025Z"
   },
   {
    "duration": 0,
    "start_time": "2022-04-14T21:38:32.026Z"
   },
   {
    "duration": 0,
    "start_time": "2022-04-14T21:38:32.027Z"
   },
   {
    "duration": 0,
    "start_time": "2022-04-14T21:38:32.028Z"
   },
   {
    "duration": 0,
    "start_time": "2022-04-14T21:38:32.029Z"
   },
   {
    "duration": 0,
    "start_time": "2022-04-14T21:38:32.030Z"
   },
   {
    "duration": 0,
    "start_time": "2022-04-14T21:38:32.031Z"
   },
   {
    "duration": 0,
    "start_time": "2022-04-14T21:38:32.032Z"
   },
   {
    "duration": 0,
    "start_time": "2022-04-14T21:38:32.033Z"
   },
   {
    "duration": 0,
    "start_time": "2022-04-14T21:38:32.034Z"
   },
   {
    "duration": 0,
    "start_time": "2022-04-14T21:38:32.035Z"
   },
   {
    "duration": 0,
    "start_time": "2022-04-14T21:38:32.037Z"
   },
   {
    "duration": 0,
    "start_time": "2022-04-14T21:38:32.038Z"
   },
   {
    "duration": 0,
    "start_time": "2022-04-14T21:38:32.039Z"
   },
   {
    "duration": 0,
    "start_time": "2022-04-14T21:38:32.041Z"
   },
   {
    "duration": 0,
    "start_time": "2022-04-14T21:38:32.042Z"
   },
   {
    "duration": 0,
    "start_time": "2022-04-14T21:38:32.043Z"
   },
   {
    "duration": 0,
    "start_time": "2022-04-14T21:38:32.045Z"
   },
   {
    "duration": 0,
    "start_time": "2022-04-14T21:38:32.046Z"
   },
   {
    "duration": 0,
    "start_time": "2022-04-14T21:38:32.047Z"
   },
   {
    "duration": 0,
    "start_time": "2022-04-14T21:38:32.048Z"
   },
   {
    "duration": 0,
    "start_time": "2022-04-14T21:38:32.050Z"
   },
   {
    "duration": 0,
    "start_time": "2022-04-14T21:38:32.051Z"
   },
   {
    "duration": 0,
    "start_time": "2022-04-14T21:38:32.052Z"
   },
   {
    "duration": 1,
    "start_time": "2022-04-14T21:38:32.053Z"
   },
   {
    "duration": 0,
    "start_time": "2022-04-14T21:38:32.055Z"
   },
   {
    "duration": 0,
    "start_time": "2022-04-14T21:38:32.056Z"
   },
   {
    "duration": 0,
    "start_time": "2022-04-14T21:38:32.058Z"
   },
   {
    "duration": 0,
    "start_time": "2022-04-14T21:38:32.059Z"
   },
   {
    "duration": 0,
    "start_time": "2022-04-14T21:38:32.060Z"
   },
   {
    "duration": 0,
    "start_time": "2022-04-14T21:38:32.061Z"
   },
   {
    "duration": 0,
    "start_time": "2022-04-14T21:38:32.124Z"
   },
   {
    "duration": 0,
    "start_time": "2022-04-14T21:38:32.126Z"
   },
   {
    "duration": 0,
    "start_time": "2022-04-14T21:38:32.127Z"
   },
   {
    "duration": 0,
    "start_time": "2022-04-14T21:38:32.129Z"
   },
   {
    "duration": 0,
    "start_time": "2022-04-14T21:38:32.130Z"
   },
   {
    "duration": 0,
    "start_time": "2022-04-14T21:38:32.131Z"
   },
   {
    "duration": 0,
    "start_time": "2022-04-14T21:38:32.133Z"
   },
   {
    "duration": 0,
    "start_time": "2022-04-14T21:38:32.134Z"
   },
   {
    "duration": 0,
    "start_time": "2022-04-14T21:38:32.135Z"
   },
   {
    "duration": 0,
    "start_time": "2022-04-14T21:38:32.136Z"
   },
   {
    "duration": 0,
    "start_time": "2022-04-14T21:38:32.137Z"
   },
   {
    "duration": 0,
    "start_time": "2022-04-14T21:38:32.138Z"
   },
   {
    "duration": 0,
    "start_time": "2022-04-14T21:38:32.140Z"
   },
   {
    "duration": 0,
    "start_time": "2022-04-14T21:38:32.141Z"
   },
   {
    "duration": 0,
    "start_time": "2022-04-14T21:38:32.142Z"
   },
   {
    "duration": 0,
    "start_time": "2022-04-14T21:38:32.144Z"
   },
   {
    "duration": 0,
    "start_time": "2022-04-14T21:38:32.145Z"
   },
   {
    "duration": 0,
    "start_time": "2022-04-14T21:38:32.146Z"
   },
   {
    "duration": 0,
    "start_time": "2022-04-14T21:38:32.147Z"
   },
   {
    "duration": 0,
    "start_time": "2022-04-14T21:38:32.148Z"
   },
   {
    "duration": 0,
    "start_time": "2022-04-14T21:38:32.149Z"
   },
   {
    "duration": 0,
    "start_time": "2022-04-14T21:38:32.150Z"
   },
   {
    "duration": 0,
    "start_time": "2022-04-14T21:38:32.151Z"
   },
   {
    "duration": 0,
    "start_time": "2022-04-14T21:38:32.152Z"
   },
   {
    "duration": 0,
    "start_time": "2022-04-14T21:38:32.153Z"
   },
   {
    "duration": 0,
    "start_time": "2022-04-14T21:38:32.155Z"
   },
   {
    "duration": 0,
    "start_time": "2022-04-14T21:38:32.156Z"
   },
   {
    "duration": 0,
    "start_time": "2022-04-14T21:38:32.157Z"
   },
   {
    "duration": 0,
    "start_time": "2022-04-14T21:38:32.158Z"
   },
   {
    "duration": 0,
    "start_time": "2022-04-14T21:38:32.159Z"
   },
   {
    "duration": 0,
    "start_time": "2022-04-14T21:38:32.160Z"
   },
   {
    "duration": 0,
    "start_time": "2022-04-14T21:38:32.224Z"
   },
   {
    "duration": 0,
    "start_time": "2022-04-14T21:38:32.225Z"
   },
   {
    "duration": 0,
    "start_time": "2022-04-14T21:38:32.227Z"
   },
   {
    "duration": 0,
    "start_time": "2022-04-14T21:38:32.228Z"
   },
   {
    "duration": 0,
    "start_time": "2022-04-14T21:38:32.229Z"
   },
   {
    "duration": 0,
    "start_time": "2022-04-14T21:38:32.230Z"
   },
   {
    "duration": 9,
    "start_time": "2022-04-14T21:39:07.404Z"
   },
   {
    "duration": 5,
    "start_time": "2022-04-14T21:39:07.684Z"
   },
   {
    "duration": 5,
    "start_time": "2022-04-14T21:39:07.884Z"
   },
   {
    "duration": 9,
    "start_time": "2022-04-14T21:39:08.484Z"
   },
   {
    "duration": 2,
    "start_time": "2022-04-14T21:39:08.860Z"
   },
   {
    "duration": 4,
    "start_time": "2022-04-14T21:39:11.317Z"
   },
   {
    "duration": 2,
    "start_time": "2022-04-14T21:39:11.555Z"
   },
   {
    "duration": 2,
    "start_time": "2022-04-14T21:39:11.876Z"
   },
   {
    "duration": 6,
    "start_time": "2022-04-14T21:39:12.100Z"
   },
   {
    "duration": 16,
    "start_time": "2022-04-14T21:39:12.893Z"
   },
   {
    "duration": 20,
    "start_time": "2022-04-14T21:39:13.068Z"
   },
   {
    "duration": 11,
    "start_time": "2022-04-14T21:39:13.244Z"
   },
   {
    "duration": 8,
    "start_time": "2022-04-14T21:39:13.916Z"
   },
   {
    "duration": 174,
    "start_time": "2022-04-14T21:39:14.075Z"
   },
   {
    "duration": 7,
    "start_time": "2022-04-14T21:39:14.251Z"
   },
   {
    "duration": 178,
    "start_time": "2022-04-14T21:39:14.413Z"
   },
   {
    "duration": 3,
    "start_time": "2022-04-14T21:39:14.700Z"
   },
   {
    "duration": 4,
    "start_time": "2022-04-14T21:39:14.844Z"
   },
   {
    "duration": 3,
    "start_time": "2022-04-14T21:39:15.325Z"
   },
   {
    "duration": 3,
    "start_time": "2022-04-14T21:39:15.484Z"
   },
   {
    "duration": 288,
    "start_time": "2022-04-14T21:39:15.604Z"
   },
   {
    "duration": 242,
    "start_time": "2022-04-14T21:39:15.893Z"
   },
   {
    "duration": 261,
    "start_time": "2022-04-14T21:39:16.137Z"
   },
   {
    "duration": 4,
    "start_time": "2022-04-14T21:39:16.676Z"
   },
   {
    "duration": 554,
    "start_time": "2022-04-14T21:39:16.827Z"
   },
   {
    "duration": 518,
    "start_time": "2022-04-14T21:39:17.383Z"
   },
   {
    "duration": 4,
    "start_time": "2022-04-14T21:39:18.036Z"
   },
   {
    "duration": 4,
    "start_time": "2022-04-14T21:39:18.196Z"
   },
   {
    "duration": 5,
    "start_time": "2022-04-14T21:39:18.396Z"
   },
   {
    "duration": 3,
    "start_time": "2022-04-14T21:39:18.556Z"
   },
   {
    "duration": 1387,
    "start_time": "2022-04-14T21:39:18.756Z"
   },
   {
    "duration": 4,
    "start_time": "2022-04-14T21:39:20.145Z"
   },
   {
    "duration": 154,
    "start_time": "2022-04-14T21:39:20.150Z"
   },
   {
    "duration": 4,
    "start_time": "2022-04-14T21:39:20.306Z"
   },
   {
    "duration": 151,
    "start_time": "2022-04-14T21:39:20.323Z"
   },
   {
    "duration": 5,
    "start_time": "2022-04-14T21:39:20.475Z"
   },
   {
    "duration": 164,
    "start_time": "2022-04-14T21:39:20.481Z"
   },
   {
    "duration": 43,
    "start_time": "2022-04-14T21:39:20.777Z"
   },
   {
    "duration": 6,
    "start_time": "2022-04-14T21:39:20.916Z"
   },
   {
    "duration": 6,
    "start_time": "2022-04-14T21:39:21.091Z"
   },
   {
    "duration": 5,
    "start_time": "2022-04-14T21:39:21.252Z"
   },
   {
    "duration": 43,
    "start_time": "2022-04-14T21:39:21.428Z"
   },
   {
    "duration": 1474,
    "start_time": "2022-04-14T21:39:21.596Z"
   },
   {
    "duration": 5,
    "start_time": "2022-04-14T21:39:23.072Z"
   },
   {
    "duration": 8,
    "start_time": "2022-04-14T21:39:23.079Z"
   },
   {
    "duration": 7,
    "start_time": "2022-04-14T21:39:23.089Z"
   },
   {
    "duration": 33,
    "start_time": "2022-04-14T21:39:23.098Z"
   },
   {
    "duration": 4,
    "start_time": "2022-04-14T21:39:24.147Z"
   },
   {
    "duration": 3,
    "start_time": "2022-04-14T21:39:24.523Z"
   },
   {
    "duration": 11,
    "start_time": "2022-04-14T21:39:24.756Z"
   },
   {
    "duration": 3,
    "start_time": "2022-04-14T21:39:24.934Z"
   },
   {
    "duration": 3,
    "start_time": "2022-04-14T21:39:25.156Z"
   },
   {
    "duration": 1892,
    "start_time": "2022-04-14T21:39:25.340Z"
   },
   {
    "duration": 25693,
    "start_time": "2022-04-14T21:39:27.234Z"
   },
   {
    "duration": 3963,
    "start_time": "2022-04-14T21:39:52.929Z"
   },
   {
    "duration": 38943,
    "start_time": "2022-04-14T21:39:56.894Z"
   },
   {
    "duration": 4,
    "start_time": "2022-04-14T21:40:35.838Z"
   },
   {
    "duration": 16,
    "start_time": "2022-04-14T21:40:35.844Z"
   },
   {
    "duration": 7,
    "start_time": "2022-04-14T21:40:35.862Z"
   },
   {
    "duration": 4,
    "start_time": "2022-04-14T21:40:35.870Z"
   },
   {
    "duration": 6,
    "start_time": "2022-04-14T21:40:35.875Z"
   },
   {
    "duration": 40,
    "start_time": "2022-04-14T21:40:35.884Z"
   },
   {
    "duration": 10,
    "start_time": "2022-04-14T21:40:35.926Z"
   },
   {
    "duration": 11,
    "start_time": "2022-04-14T21:40:36.023Z"
   },
   {
    "duration": 4,
    "start_time": "2022-04-14T21:40:36.036Z"
   },
   {
    "duration": 9,
    "start_time": "2022-04-14T21:40:36.041Z"
   },
   {
    "duration": 82,
    "start_time": "2022-04-14T21:40:36.052Z"
   },
   {
    "duration": 93,
    "start_time": "2022-04-14T21:40:36.136Z"
   },
   {
    "duration": 9,
    "start_time": "2022-04-14T21:40:36.231Z"
   },
   {
    "duration": 8,
    "start_time": "2022-04-14T21:40:36.242Z"
   },
   {
    "duration": 5,
    "start_time": "2022-04-14T21:40:36.251Z"
   },
   {
    "duration": 7,
    "start_time": "2022-04-14T21:40:36.258Z"
   },
   {
    "duration": 250,
    "start_time": "2022-04-14T22:06:28.133Z"
   },
   {
    "duration": 836,
    "start_time": "2022-04-14T22:08:11.660Z"
   },
   {
    "duration": 1025,
    "start_time": "2022-04-14T22:09:32.109Z"
   },
   {
    "duration": 26,
    "start_time": "2022-04-14T22:10:30.846Z"
   },
   {
    "duration": 23,
    "start_time": "2022-04-14T22:12:31.998Z"
   },
   {
    "duration": 3,
    "start_time": "2022-04-14T22:13:48.183Z"
   },
   {
    "duration": 57,
    "start_time": "2022-04-15T05:10:23.245Z"
   },
   {
    "duration": 2283,
    "start_time": "2022-04-15T05:10:30.839Z"
   },
   {
    "duration": 1210,
    "start_time": "2022-04-15T05:10:33.392Z"
   },
   {
    "duration": 6,
    "start_time": "2022-04-15T05:13:37.536Z"
   },
   {
    "duration": 941,
    "start_time": "2022-04-15T05:13:38.512Z"
   },
   {
    "duration": 20,
    "start_time": "2022-04-15T05:13:49.258Z"
   },
   {
    "duration": 19,
    "start_time": "2022-04-15T05:14:13.380Z"
   },
   {
    "duration": 148,
    "start_time": "2022-04-15T05:15:23.243Z"
   },
   {
    "duration": 20,
    "start_time": "2022-04-15T05:15:57.547Z"
   },
   {
    "duration": 26,
    "start_time": "2022-04-15T05:16:06.325Z"
   },
   {
    "duration": 234,
    "start_time": "2022-04-15T05:16:07.603Z"
   },
   {
    "duration": 11,
    "start_time": "2022-04-15T05:17:16.055Z"
   },
   {
    "duration": 6,
    "start_time": "2022-04-15T05:17:16.926Z"
   },
   {
    "duration": 6,
    "start_time": "2022-04-15T05:17:17.849Z"
   },
   {
    "duration": 3,
    "start_time": "2022-04-15T05:17:23.953Z"
   },
   {
    "duration": 4,
    "start_time": "2022-04-15T05:17:27.932Z"
   },
   {
    "duration": 5,
    "start_time": "2022-04-15T05:17:29.104Z"
   },
   {
    "duration": 4,
    "start_time": "2022-04-15T05:17:30.543Z"
   },
   {
    "duration": 4,
    "start_time": "2022-04-15T05:17:32.093Z"
   },
   {
    "duration": 6,
    "start_time": "2022-04-15T05:17:32.944Z"
   },
   {
    "duration": 20,
    "start_time": "2022-04-15T05:17:37.747Z"
   },
   {
    "duration": 18,
    "start_time": "2022-04-15T05:31:55.485Z"
   },
   {
    "duration": 18,
    "start_time": "2022-04-15T05:44:16.313Z"
   },
   {
    "duration": 25,
    "start_time": "2022-04-15T05:44:22.425Z"
   },
   {
    "duration": 20,
    "start_time": "2022-04-15T05:44:40.606Z"
   },
   {
    "duration": 10,
    "start_time": "2022-04-15T05:44:56.523Z"
   },
   {
    "duration": 219,
    "start_time": "2022-04-15T05:44:57.761Z"
   },
   {
    "duration": 12,
    "start_time": "2022-04-15T05:44:59.241Z"
   },
   {
    "duration": 213,
    "start_time": "2022-04-15T05:45:00.092Z"
   },
   {
    "duration": 6,
    "start_time": "2022-04-15T05:45:02.511Z"
   },
   {
    "duration": 6,
    "start_time": "2022-04-15T05:45:04.096Z"
   },
   {
    "duration": 5,
    "start_time": "2022-04-15T05:45:09.773Z"
   },
   {
    "duration": 5,
    "start_time": "2022-04-15T05:45:11.179Z"
   },
   {
    "duration": 366,
    "start_time": "2022-04-15T05:45:12.402Z"
   },
   {
    "duration": 451,
    "start_time": "2022-04-15T05:45:13.770Z"
   },
   {
    "duration": 445,
    "start_time": "2022-04-15T05:45:14.721Z"
   },
   {
    "duration": 6,
    "start_time": "2022-04-15T05:45:20.746Z"
   },
   {
    "duration": 558,
    "start_time": "2022-04-15T05:45:22.786Z"
   },
   {
    "duration": 585,
    "start_time": "2022-04-15T05:45:24.282Z"
   },
   {
    "duration": 6,
    "start_time": "2022-04-15T05:45:29.032Z"
   },
   {
    "duration": 5,
    "start_time": "2022-04-15T05:45:30.369Z"
   },
   {
    "duration": 6,
    "start_time": "2022-04-15T05:45:34.154Z"
   },
   {
    "duration": 3,
    "start_time": "2022-04-15T05:45:35.202Z"
   },
   {
    "duration": 1454,
    "start_time": "2022-04-15T05:45:39.072Z"
   },
   {
    "duration": 2422,
    "start_time": "2022-04-15T05:52:37.707Z"
   },
   {
    "duration": 0,
    "start_time": "2022-04-15T05:52:40.132Z"
   },
   {
    "duration": 7,
    "start_time": "2022-04-15T05:53:58.563Z"
   },
   {
    "duration": 530,
    "start_time": "2022-04-15T05:54:00.234Z"
   },
   {
    "duration": 629,
    "start_time": "2022-04-15T05:54:01.115Z"
   },
   {
    "duration": 6,
    "start_time": "2022-04-15T05:54:06.231Z"
   },
   {
    "duration": 2606,
    "start_time": "2022-04-15T05:54:07.737Z"
   },
   {
    "duration": 1093,
    "start_time": "2022-04-15T05:55:23.807Z"
   },
   {
    "duration": 20,
    "start_time": "2022-04-15T05:55:31.445Z"
   },
   {
    "duration": 26,
    "start_time": "2022-04-15T05:55:37.355Z"
   },
   {
    "duration": 7,
    "start_time": "2022-04-15T05:57:33.817Z"
   },
   {
    "duration": 4,
    "start_time": "2022-04-15T05:58:09.208Z"
   },
   {
    "duration": 6,
    "start_time": "2022-04-15T05:59:21.823Z"
   },
   {
    "duration": 6,
    "start_time": "2022-04-15T05:59:26.603Z"
   },
   {
    "duration": 3,
    "start_time": "2022-04-15T05:59:35.649Z"
   },
   {
    "duration": 2542,
    "start_time": "2022-04-15T06:01:40.601Z"
   },
   {
    "duration": 4,
    "start_time": "2022-04-15T06:02:08.081Z"
   },
   {
    "duration": 2672,
    "start_time": "2022-04-15T06:02:08.520Z"
   },
   {
    "duration": 8,
    "start_time": "2022-04-15T06:02:46.913Z"
   },
   {
    "duration": 5,
    "start_time": "2022-04-15T06:02:47.592Z"
   },
   {
    "duration": 7,
    "start_time": "2022-04-15T06:02:48.523Z"
   },
   {
    "duration": 2,
    "start_time": "2022-04-15T06:02:49.542Z"
   },
   {
    "duration": 1872,
    "start_time": "2022-04-15T06:02:50.994Z"
   },
   {
    "duration": 157,
    "start_time": "2022-04-15T06:12:06.288Z"
   },
   {
    "duration": 6,
    "start_time": "2022-04-15T06:12:14.237Z"
   },
   {
    "duration": 5,
    "start_time": "2022-04-15T06:12:14.861Z"
   },
   {
    "duration": 5,
    "start_time": "2022-04-15T06:12:15.562Z"
   },
   {
    "duration": 3,
    "start_time": "2022-04-15T06:12:16.301Z"
   },
   {
    "duration": 1530,
    "start_time": "2022-04-15T06:12:19.341Z"
   },
   {
    "duration": 6,
    "start_time": "2022-04-15T06:12:27.876Z"
   },
   {
    "duration": 173,
    "start_time": "2022-04-15T06:12:30.382Z"
   },
   {
    "duration": 145,
    "start_time": "2022-04-15T06:13:23.751Z"
   },
   {
    "duration": 6,
    "start_time": "2022-04-15T06:13:54.284Z"
   },
   {
    "duration": 178,
    "start_time": "2022-04-15T06:13:55.189Z"
   },
   {
    "duration": 6,
    "start_time": "2022-04-15T06:14:54.572Z"
   },
   {
    "duration": 6,
    "start_time": "2022-04-15T06:14:55.237Z"
   },
   {
    "duration": 6,
    "start_time": "2022-04-15T06:14:55.930Z"
   },
   {
    "duration": 3,
    "start_time": "2022-04-15T06:14:56.773Z"
   },
   {
    "duration": 1473,
    "start_time": "2022-04-15T06:14:57.975Z"
   },
   {
    "duration": 3,
    "start_time": "2022-04-15T06:15:01.604Z"
   },
   {
    "duration": 147,
    "start_time": "2022-04-15T06:15:03.165Z"
   },
   {
    "duration": 4,
    "start_time": "2022-04-15T06:16:54.005Z"
   },
   {
    "duration": 687,
    "start_time": "2022-04-15T06:16:54.619Z"
   },
   {
    "duration": 14,
    "start_time": "2022-04-15T06:16:58.263Z"
   },
   {
    "duration": 20,
    "start_time": "2022-04-15T06:17:01.790Z"
   },
   {
    "duration": 27,
    "start_time": "2022-04-15T06:17:06.810Z"
   },
   {
    "duration": 251,
    "start_time": "2022-04-15T06:17:07.916Z"
   },
   {
    "duration": 7,
    "start_time": "2022-04-15T06:17:15.966Z"
   },
   {
    "duration": 7,
    "start_time": "2022-04-15T06:17:17.105Z"
   },
   {
    "duration": 7,
    "start_time": "2022-04-15T06:17:18.834Z"
   },
   {
    "duration": 5,
    "start_time": "2022-04-15T06:17:22.039Z"
   },
   {
    "duration": 3,
    "start_time": "2022-04-15T06:17:23.955Z"
   },
   {
    "duration": 6,
    "start_time": "2022-04-15T06:17:25.075Z"
   },
   {
    "duration": 3,
    "start_time": "2022-04-15T06:17:28.715Z"
   },
   {
    "duration": 3,
    "start_time": "2022-04-15T06:17:34.566Z"
   },
   {
    "duration": 7,
    "start_time": "2022-04-15T06:17:35.542Z"
   },
   {
    "duration": 25,
    "start_time": "2022-04-15T06:17:40.409Z"
   },
   {
    "duration": 25,
    "start_time": "2022-04-15T06:17:41.734Z"
   },
   {
    "duration": 22,
    "start_time": "2022-04-15T06:17:44.537Z"
   },
   {
    "duration": 19,
    "start_time": "2022-04-15T06:17:47.061Z"
   },
   {
    "duration": 13,
    "start_time": "2022-04-15T06:17:51.789Z"
   },
   {
    "duration": 323,
    "start_time": "2022-04-15T06:17:52.789Z"
   },
   {
    "duration": 13,
    "start_time": "2022-04-15T06:17:53.650Z"
   },
   {
    "duration": 331,
    "start_time": "2022-04-15T06:17:54.693Z"
   },
   {
    "duration": 5,
    "start_time": "2022-04-15T06:18:04.730Z"
   },
   {
    "duration": 5,
    "start_time": "2022-04-15T06:18:05.614Z"
   },
   {
    "duration": 5,
    "start_time": "2022-04-15T06:18:12.886Z"
   },
   {
    "duration": 4,
    "start_time": "2022-04-15T06:18:13.808Z"
   },
   {
    "duration": 282,
    "start_time": "2022-04-15T06:18:17.367Z"
   },
   {
    "duration": 289,
    "start_time": "2022-04-15T06:18:19.455Z"
   },
   {
    "duration": 293,
    "start_time": "2022-04-15T06:18:20.302Z"
   },
   {
    "duration": 5,
    "start_time": "2022-04-15T06:18:25.497Z"
   },
   {
    "duration": 574,
    "start_time": "2022-04-15T06:18:26.581Z"
   },
   {
    "duration": 982,
    "start_time": "2022-04-15T06:18:28.806Z"
   },
   {
    "duration": 6,
    "start_time": "2022-04-15T06:18:33.793Z"
   },
   {
    "duration": 6,
    "start_time": "2022-04-15T06:18:41.573Z"
   },
   {
    "duration": 6,
    "start_time": "2022-04-15T06:18:46.878Z"
   },
   {
    "duration": 3,
    "start_time": "2022-04-15T06:18:48.909Z"
   },
   {
    "duration": 1643,
    "start_time": "2022-04-15T06:19:00.599Z"
   },
   {
    "duration": 5,
    "start_time": "2022-04-15T06:19:15.529Z"
   },
   {
    "duration": 167,
    "start_time": "2022-04-15T06:19:18.035Z"
   },
   {
    "duration": 6,
    "start_time": "2022-04-15T06:19:49.632Z"
   },
   {
    "duration": 238,
    "start_time": "2022-04-15T06:19:54.786Z"
   },
   {
    "duration": 5,
    "start_time": "2022-04-15T06:21:38.481Z"
   },
   {
    "duration": 257,
    "start_time": "2022-04-15T06:21:59.135Z"
   },
   {
    "duration": 16,
    "start_time": "2022-04-15T06:25:23.544Z"
   },
   {
    "duration": 5,
    "start_time": "2022-04-15T06:25:36.810Z"
   },
   {
    "duration": 15,
    "start_time": "2022-04-15T06:25:37.702Z"
   },
   {
    "duration": 5,
    "start_time": "2022-04-15T06:25:53.472Z"
   },
   {
    "duration": 5,
    "start_time": "2022-04-15T06:26:33.194Z"
   },
   {
    "duration": 6,
    "start_time": "2022-04-15T06:31:35.784Z"
   },
   {
    "duration": 5,
    "start_time": "2022-04-15T06:31:36.435Z"
   },
   {
    "duration": 6,
    "start_time": "2022-04-15T06:31:37.129Z"
   },
   {
    "duration": 4,
    "start_time": "2022-04-15T06:31:37.996Z"
   },
   {
    "duration": 2736,
    "start_time": "2022-04-15T06:31:39.430Z"
   },
   {
    "duration": 4,
    "start_time": "2022-04-15T06:40:29.302Z"
   },
   {
    "duration": 838,
    "start_time": "2022-04-15T06:40:29.977Z"
   },
   {
    "duration": 24,
    "start_time": "2022-04-15T06:40:32.341Z"
   },
   {
    "duration": 20,
    "start_time": "2022-04-15T06:40:34.770Z"
   },
   {
    "duration": 23,
    "start_time": "2022-04-15T06:40:36.940Z"
   },
   {
    "duration": 365,
    "start_time": "2022-04-15T06:40:37.639Z"
   },
   {
    "duration": 7,
    "start_time": "2022-04-15T06:40:42.956Z"
   },
   {
    "duration": 7,
    "start_time": "2022-04-15T06:40:43.624Z"
   },
   {
    "duration": 7,
    "start_time": "2022-04-15T06:40:44.297Z"
   },
   {
    "duration": 4,
    "start_time": "2022-04-15T06:40:46.403Z"
   },
   {
    "duration": 3,
    "start_time": "2022-04-15T06:40:48.000Z"
   },
   {
    "duration": 6,
    "start_time": "2022-04-15T06:40:48.871Z"
   },
   {
    "duration": 7,
    "start_time": "2022-04-15T06:40:49.628Z"
   },
   {
    "duration": 4,
    "start_time": "2022-04-15T06:40:50.303Z"
   },
   {
    "duration": 8,
    "start_time": "2022-04-15T06:40:51.016Z"
   },
   {
    "duration": 30,
    "start_time": "2022-04-15T06:40:54.711Z"
   },
   {
    "duration": 24,
    "start_time": "2022-04-15T06:40:55.712Z"
   },
   {
    "duration": 23,
    "start_time": "2022-04-15T06:40:57.632Z"
   },
   {
    "duration": 19,
    "start_time": "2022-04-15T06:40:58.392Z"
   },
   {
    "duration": 14,
    "start_time": "2022-04-15T06:41:01.640Z"
   },
   {
    "duration": 225,
    "start_time": "2022-04-15T06:41:02.678Z"
   },
   {
    "duration": 10,
    "start_time": "2022-04-15T06:41:03.887Z"
   },
   {
    "duration": 224,
    "start_time": "2022-04-15T06:41:05.928Z"
   },
   {
    "duration": 6,
    "start_time": "2022-04-15T06:41:08.005Z"
   },
   {
    "duration": 5,
    "start_time": "2022-04-15T06:41:08.709Z"
   },
   {
    "duration": 4,
    "start_time": "2022-04-15T06:41:13.296Z"
   },
   {
    "duration": 4,
    "start_time": "2022-04-15T06:41:14.165Z"
   },
   {
    "duration": 278,
    "start_time": "2022-04-15T06:41:15.063Z"
   },
   {
    "duration": 461,
    "start_time": "2022-04-15T06:41:15.798Z"
   },
   {
    "duration": 309,
    "start_time": "2022-04-15T06:41:16.583Z"
   },
   {
    "duration": 4,
    "start_time": "2022-04-15T06:41:20.102Z"
   },
   {
    "duration": 691,
    "start_time": "2022-04-15T06:41:21.477Z"
   },
   {
    "duration": 841,
    "start_time": "2022-04-15T06:41:23.359Z"
   },
   {
    "duration": 6,
    "start_time": "2022-04-15T06:41:28.439Z"
   },
   {
    "duration": 6,
    "start_time": "2022-04-15T06:41:34.511Z"
   },
   {
    "duration": 6,
    "start_time": "2022-04-15T06:41:36.919Z"
   },
   {
    "duration": 3,
    "start_time": "2022-04-15T06:41:38.207Z"
   },
   {
    "duration": 2494,
    "start_time": "2022-04-15T06:41:39.457Z"
   },
   {
    "duration": 5,
    "start_time": "2022-04-15T06:50:47.346Z"
   },
   {
    "duration": 6,
    "start_time": "2022-04-15T06:50:48.211Z"
   },
   {
    "duration": 5,
    "start_time": "2022-04-15T06:50:49.156Z"
   },
   {
    "duration": 3,
    "start_time": "2022-04-15T06:50:50.570Z"
   },
   {
    "duration": 1681,
    "start_time": "2022-04-15T06:50:52.013Z"
   },
   {
    "duration": 1645,
    "start_time": "2022-04-15T06:51:50.829Z"
   },
   {
    "duration": 1431,
    "start_time": "2022-04-15T06:52:02.460Z"
   },
   {
    "duration": 4,
    "start_time": "2022-04-15T06:53:01.853Z"
   },
   {
    "duration": 285,
    "start_time": "2022-04-15T06:53:03.710Z"
   },
   {
    "duration": 189,
    "start_time": "2022-04-15T06:53:53.409Z"
   },
   {
    "duration": 198,
    "start_time": "2022-04-15T06:55:16.566Z"
   },
   {
    "duration": 175,
    "start_time": "2022-04-15T06:56:17.611Z"
   },
   {
    "duration": 1715,
    "start_time": "2022-04-15T06:58:14.778Z"
   },
   {
    "duration": 179,
    "start_time": "2022-04-15T06:58:48.297Z"
   },
   {
    "duration": 177,
    "start_time": "2022-04-15T06:58:51.645Z"
   },
   {
    "duration": 199,
    "start_time": "2022-04-15T06:59:09.983Z"
   },
   {
    "duration": 2320,
    "start_time": "2022-04-15T06:59:17.404Z"
   },
   {
    "duration": 37,
    "start_time": "2022-04-15T07:00:55.375Z"
   },
   {
    "duration": 6,
    "start_time": "2022-04-15T07:01:47.719Z"
   },
   {
    "duration": 6,
    "start_time": "2022-04-15T07:04:00.870Z"
   },
   {
    "duration": 7,
    "start_time": "2022-04-15T07:05:26.955Z"
   },
   {
    "duration": 44,
    "start_time": "2022-04-15T07:06:57.511Z"
   },
   {
    "duration": 3067,
    "start_time": "2022-04-15T07:07:06.028Z"
   },
   {
    "duration": 1635,
    "start_time": "2022-04-15T07:10:41.548Z"
   },
   {
    "duration": 7,
    "start_time": "2022-04-15T07:10:53.063Z"
   },
   {
    "duration": 7,
    "start_time": "2022-04-15T07:12:00.840Z"
   },
   {
    "duration": 6,
    "start_time": "2022-04-15T07:12:05.799Z"
   },
   {
    "duration": 9,
    "start_time": "2022-04-15T07:12:45.744Z"
   },
   {
    "duration": 6,
    "start_time": "2022-04-15T07:12:53.736Z"
   },
   {
    "duration": 3,
    "start_time": "2022-04-15T07:12:57.594Z"
   },
   {
    "duration": 12,
    "start_time": "2022-04-15T07:12:59.203Z"
   },
   {
    "duration": 4,
    "start_time": "2022-04-15T07:12:59.899Z"
   },
   {
    "duration": 4,
    "start_time": "2022-04-15T07:13:00.717Z"
   },
   {
    "duration": 10,
    "start_time": "2022-04-15T07:13:16.516Z"
   },
   {
    "duration": 3098,
    "start_time": "2022-04-15T07:13:19.335Z"
   },
   {
    "duration": 40323,
    "start_time": "2022-04-15T07:13:31.444Z"
   },
   {
    "duration": 6027,
    "start_time": "2022-04-15T07:14:44.577Z"
   },
   {
    "duration": 78061,
    "start_time": "2022-04-15T07:15:00.716Z"
   },
   {
    "duration": 7,
    "start_time": "2022-04-15T07:16:28.355Z"
   },
   {
    "duration": 18,
    "start_time": "2022-04-15T07:16:31.839Z"
   },
   {
    "duration": 11,
    "start_time": "2022-04-15T07:16:32.780Z"
   },
   {
    "duration": 6,
    "start_time": "2022-04-15T07:16:33.969Z"
   },
   {
    "duration": 6,
    "start_time": "2022-04-15T07:16:34.645Z"
   },
   {
    "duration": 28,
    "start_time": "2022-04-15T07:16:35.743Z"
   },
   {
    "duration": 7,
    "start_time": "2022-04-15T07:16:36.266Z"
   },
   {
    "duration": 10,
    "start_time": "2022-04-15T07:16:37.382Z"
   },
   {
    "duration": 7,
    "start_time": "2022-04-15T07:16:38.091Z"
   },
   {
    "duration": 69,
    "start_time": "2022-04-15T07:16:46.267Z"
   },
   {
    "duration": 8,
    "start_time": "2022-04-15T07:16:47.005Z"
   },
   {
    "duration": 7,
    "start_time": "2022-04-15T07:16:48.096Z"
   },
   {
    "duration": 16,
    "start_time": "2022-04-15T07:16:59.231Z"
   },
   {
    "duration": 13,
    "start_time": "2022-04-15T07:17:00.897Z"
   },
   {
    "duration": 4,
    "start_time": "2022-04-15T07:17:05.275Z"
   },
   {
    "duration": 12,
    "start_time": "2022-04-15T07:17:09.453Z"
   },
   {
    "duration": 4,
    "start_time": "2022-04-15T07:20:19.446Z"
   },
   {
    "duration": 806,
    "start_time": "2022-04-15T07:20:20.314Z"
   },
   {
    "duration": 37,
    "start_time": "2022-04-15T07:20:26.439Z"
   },
   {
    "duration": 23,
    "start_time": "2022-04-15T07:20:30.754Z"
   },
   {
    "duration": 26,
    "start_time": "2022-04-15T07:20:36.452Z"
   },
   {
    "duration": 263,
    "start_time": "2022-04-15T07:20:37.461Z"
   },
   {
    "duration": 10,
    "start_time": "2022-04-15T07:20:47.397Z"
   },
   {
    "duration": 7,
    "start_time": "2022-04-15T07:20:48.290Z"
   },
   {
    "duration": 7,
    "start_time": "2022-04-15T07:20:49.844Z"
   },
   {
    "duration": 5,
    "start_time": "2022-04-15T07:20:52.953Z"
   },
   {
    "duration": 3,
    "start_time": "2022-04-15T07:20:54.597Z"
   },
   {
    "duration": 7,
    "start_time": "2022-04-15T07:20:55.483Z"
   },
   {
    "duration": 3,
    "start_time": "2022-04-15T07:20:56.403Z"
   },
   {
    "duration": 4,
    "start_time": "2022-04-15T07:20:57.787Z"
   },
   {
    "duration": 9,
    "start_time": "2022-04-15T07:20:59.447Z"
   },
   {
    "duration": 35,
    "start_time": "2022-04-15T07:21:04.726Z"
   },
   {
    "duration": 33,
    "start_time": "2022-04-15T07:21:06.017Z"
   },
   {
    "duration": 22,
    "start_time": "2022-04-15T07:21:26.439Z"
   },
   {
    "duration": 20,
    "start_time": "2022-04-15T07:21:27.074Z"
   },
   {
    "duration": 18,
    "start_time": "2022-04-15T07:21:30.415Z"
   },
   {
    "duration": 319,
    "start_time": "2022-04-15T07:21:31.960Z"
   },
   {
    "duration": 27,
    "start_time": "2022-04-15T07:22:14.771Z"
   },
   {
    "duration": 26,
    "start_time": "2022-04-15T07:22:49.019Z"
   },
   {
    "duration": 24,
    "start_time": "2022-04-15T07:22:49.723Z"
   },
   {
    "duration": 10,
    "start_time": "2022-04-15T07:22:55.534Z"
   },
   {
    "duration": 230,
    "start_time": "2022-04-15T07:22:58.125Z"
   },
   {
    "duration": 16,
    "start_time": "2022-04-15T07:23:01.213Z"
   },
   {
    "duration": 346,
    "start_time": "2022-04-15T07:23:04.037Z"
   },
   {
    "duration": 6,
    "start_time": "2022-04-15T07:23:10.188Z"
   },
   {
    "duration": 5,
    "start_time": "2022-04-15T07:23:10.866Z"
   },
   {
    "duration": 6,
    "start_time": "2022-04-15T07:23:17.107Z"
   },
   {
    "duration": 5,
    "start_time": "2022-04-15T07:23:19.391Z"
   },
   {
    "duration": 409,
    "start_time": "2022-04-15T07:23:21.195Z"
   },
   {
    "duration": 480,
    "start_time": "2022-04-15T07:23:24.079Z"
   },
   {
    "duration": 453,
    "start_time": "2022-04-15T07:23:26.375Z"
   },
   {
    "duration": 5,
    "start_time": "2022-04-15T07:23:36.479Z"
   },
   {
    "duration": 794,
    "start_time": "2022-04-15T07:23:40.487Z"
   },
   {
    "duration": 675,
    "start_time": "2022-04-15T07:23:45.440Z"
   },
   {
    "duration": 6,
    "start_time": "2022-04-15T07:23:52.440Z"
   },
   {
    "duration": 7,
    "start_time": "2022-04-15T07:24:08.322Z"
   },
   {
    "duration": 6,
    "start_time": "2022-04-15T07:24:09.752Z"
   },
   {
    "duration": 6,
    "start_time": "2022-04-15T07:24:13.439Z"
   },
   {
    "duration": 4,
    "start_time": "2022-04-15T07:24:16.587Z"
   },
   {
    "duration": 1780,
    "start_time": "2022-04-15T07:24:18.821Z"
   },
   {
    "duration": 183,
    "start_time": "2022-04-15T07:24:39.353Z"
   },
   {
    "duration": 191,
    "start_time": "2022-04-15T07:24:43.164Z"
   },
   {
    "duration": 270,
    "start_time": "2022-04-15T07:24:49.562Z"
   },
   {
    "duration": 46,
    "start_time": "2022-04-15T07:25:09.060Z"
   },
   {
    "duration": 7,
    "start_time": "2022-04-15T07:25:12.873Z"
   },
   {
    "duration": 7,
    "start_time": "2022-04-15T07:25:14.972Z"
   },
   {
    "duration": 7,
    "start_time": "2022-04-15T07:25:16.382Z"
   },
   {
    "duration": 53,
    "start_time": "2022-04-15T07:25:20.724Z"
   },
   {
    "duration": 2100,
    "start_time": "2022-04-15T07:25:23.736Z"
   },
   {
    "duration": 8,
    "start_time": "2022-04-15T07:25:30.344Z"
   },
   {
    "duration": 8,
    "start_time": "2022-04-15T07:25:34.439Z"
   },
   {
    "duration": 7,
    "start_time": "2022-04-15T07:25:38.610Z"
   },
   {
    "duration": 9,
    "start_time": "2022-04-15T07:25:43.954Z"
   },
   {
    "duration": 7,
    "start_time": "2022-04-15T07:25:53.802Z"
   },
   {
    "duration": 3,
    "start_time": "2022-04-15T07:25:58.439Z"
   },
   {
    "duration": 10,
    "start_time": "2022-04-15T07:25:59.760Z"
   },
   {
    "duration": 4,
    "start_time": "2022-04-15T07:26:03.982Z"
   },
   {
    "duration": 4,
    "start_time": "2022-04-15T07:26:04.993Z"
   },
   {
    "duration": 2357,
    "start_time": "2022-04-15T07:26:08.890Z"
   },
   {
    "duration": 38304,
    "start_time": "2022-04-15T07:26:18.179Z"
   },
   {
    "duration": 5191,
    "start_time": "2022-04-15T07:27:11.504Z"
   },
   {
    "duration": 78313,
    "start_time": "2022-04-15T07:27:21.559Z"
   },
   {
    "duration": 6,
    "start_time": "2022-04-15T07:29:04.906Z"
   },
   {
    "duration": 20,
    "start_time": "2022-04-15T07:29:05.611Z"
   },
   {
    "duration": 10,
    "start_time": "2022-04-15T07:29:07.051Z"
   },
   {
    "duration": 7,
    "start_time": "2022-04-15T07:29:08.890Z"
   },
   {
    "duration": 6,
    "start_time": "2022-04-15T07:29:09.494Z"
   },
   {
    "duration": 17,
    "start_time": "2022-04-15T07:29:11.459Z"
   },
   {
    "duration": 8,
    "start_time": "2022-04-15T07:29:12.141Z"
   },
   {
    "duration": 10,
    "start_time": "2022-04-15T07:29:14.056Z"
   },
   {
    "duration": 6,
    "start_time": "2022-04-15T07:29:16.289Z"
   },
   {
    "duration": 87,
    "start_time": "2022-04-15T07:29:17.248Z"
   },
   {
    "duration": 6,
    "start_time": "2022-04-15T07:29:18.138Z"
   },
   {
    "duration": 6,
    "start_time": "2022-04-15T07:29:19.106Z"
   },
   {
    "duration": 12,
    "start_time": "2022-04-15T07:29:22.171Z"
   },
   {
    "duration": 17,
    "start_time": "2022-04-15T07:29:23.828Z"
   },
   {
    "duration": 3,
    "start_time": "2022-04-15T07:29:27.344Z"
   },
   {
    "duration": 10,
    "start_time": "2022-04-15T07:29:28.372Z"
   },
   {
    "duration": 2473,
    "start_time": "2022-04-15T07:30:28.646Z"
   },
   {
    "duration": 988,
    "start_time": "2022-04-15T07:30:31.122Z"
   },
   {
    "duration": 20,
    "start_time": "2022-04-15T07:30:32.111Z"
   },
   {
    "duration": 47,
    "start_time": "2022-04-15T07:30:32.134Z"
   },
   {
    "duration": 29,
    "start_time": "2022-04-15T07:30:32.183Z"
   },
   {
    "duration": 300,
    "start_time": "2022-04-15T07:30:32.213Z"
   },
   {
    "duration": 13,
    "start_time": "2022-04-15T07:30:32.523Z"
   },
   {
    "duration": 16,
    "start_time": "2022-04-15T07:30:32.539Z"
   },
   {
    "duration": 26,
    "start_time": "2022-04-15T07:30:32.557Z"
   },
   {
    "duration": 9,
    "start_time": "2022-04-15T07:30:32.586Z"
   },
   {
    "duration": 9,
    "start_time": "2022-04-15T07:30:32.598Z"
   },
   {
    "duration": 17,
    "start_time": "2022-04-15T07:30:32.609Z"
   },
   {
    "duration": 22,
    "start_time": "2022-04-15T07:30:32.628Z"
   },
   {
    "duration": 8,
    "start_time": "2022-04-15T07:30:32.653Z"
   },
   {
    "duration": 19,
    "start_time": "2022-04-15T07:30:32.663Z"
   },
   {
    "duration": 42,
    "start_time": "2022-04-15T07:30:32.685Z"
   },
   {
    "duration": 25,
    "start_time": "2022-04-15T07:30:32.729Z"
   },
   {
    "duration": 21,
    "start_time": "2022-04-15T07:30:32.756Z"
   },
   {
    "duration": 49,
    "start_time": "2022-04-15T07:30:32.780Z"
   },
   {
    "duration": 15,
    "start_time": "2022-04-15T07:30:32.832Z"
   },
   {
    "duration": 26,
    "start_time": "2022-04-15T07:30:32.849Z"
   },
   {
    "duration": 246,
    "start_time": "2022-04-15T07:30:32.877Z"
   },
   {
    "duration": 11,
    "start_time": "2022-04-15T07:30:33.125Z"
   },
   {
    "duration": 255,
    "start_time": "2022-04-15T07:30:33.138Z"
   },
   {
    "duration": 6,
    "start_time": "2022-04-15T07:30:33.396Z"
   },
   {
    "duration": 37,
    "start_time": "2022-04-15T07:30:33.405Z"
   },
   {
    "duration": 17,
    "start_time": "2022-04-15T07:30:33.444Z"
   },
   {
    "duration": 14,
    "start_time": "2022-04-15T07:30:33.469Z"
   },
   {
    "duration": 482,
    "start_time": "2022-04-15T07:30:33.486Z"
   },
   {
    "duration": 612,
    "start_time": "2022-04-15T07:30:33.971Z"
   },
   {
    "duration": 467,
    "start_time": "2022-04-15T07:30:34.586Z"
   },
   {
    "duration": 5,
    "start_time": "2022-04-15T07:30:35.056Z"
   },
   {
    "duration": 620,
    "start_time": "2022-04-15T07:30:35.063Z"
   },
   {
    "duration": 694,
    "start_time": "2022-04-15T07:30:35.685Z"
   },
   {
    "duration": 10,
    "start_time": "2022-04-15T07:30:36.381Z"
   },
   {
    "duration": 55,
    "start_time": "2022-04-15T07:30:36.393Z"
   },
   {
    "duration": 20,
    "start_time": "2022-04-15T07:30:36.450Z"
   },
   {
    "duration": 15,
    "start_time": "2022-04-15T07:30:36.472Z"
   },
   {
    "duration": 1598,
    "start_time": "2022-04-15T07:30:36.489Z"
   },
   {
    "duration": 462,
    "start_time": "2022-04-15T07:30:38.089Z"
   },
   {
    "duration": 0,
    "start_time": "2022-04-15T07:30:38.555Z"
   },
   {
    "duration": 0,
    "start_time": "2022-04-15T07:30:38.556Z"
   },
   {
    "duration": 0,
    "start_time": "2022-04-15T07:30:38.558Z"
   },
   {
    "duration": 0,
    "start_time": "2022-04-15T07:30:38.560Z"
   },
   {
    "duration": 0,
    "start_time": "2022-04-15T07:30:38.561Z"
   },
   {
    "duration": 0,
    "start_time": "2022-04-15T07:30:38.563Z"
   },
   {
    "duration": 0,
    "start_time": "2022-04-15T07:30:38.563Z"
   },
   {
    "duration": 0,
    "start_time": "2022-04-15T07:30:38.565Z"
   },
   {
    "duration": 0,
    "start_time": "2022-04-15T07:30:38.566Z"
   },
   {
    "duration": 0,
    "start_time": "2022-04-15T07:30:38.567Z"
   },
   {
    "duration": 0,
    "start_time": "2022-04-15T07:30:38.568Z"
   },
   {
    "duration": 0,
    "start_time": "2022-04-15T07:30:38.569Z"
   },
   {
    "duration": 0,
    "start_time": "2022-04-15T07:30:38.571Z"
   },
   {
    "duration": 0,
    "start_time": "2022-04-15T07:30:38.572Z"
   },
   {
    "duration": 0,
    "start_time": "2022-04-15T07:30:38.572Z"
   },
   {
    "duration": 0,
    "start_time": "2022-04-15T07:30:38.574Z"
   },
   {
    "duration": 0,
    "start_time": "2022-04-15T07:30:38.575Z"
   },
   {
    "duration": 0,
    "start_time": "2022-04-15T07:30:38.576Z"
   },
   {
    "duration": 0,
    "start_time": "2022-04-15T07:30:38.618Z"
   },
   {
    "duration": 0,
    "start_time": "2022-04-15T07:30:38.619Z"
   },
   {
    "duration": 0,
    "start_time": "2022-04-15T07:30:38.619Z"
   },
   {
    "duration": 0,
    "start_time": "2022-04-15T07:30:38.620Z"
   },
   {
    "duration": 0,
    "start_time": "2022-04-15T07:30:38.624Z"
   },
   {
    "duration": 0,
    "start_time": "2022-04-15T07:30:38.624Z"
   },
   {
    "duration": 0,
    "start_time": "2022-04-15T07:30:38.628Z"
   },
   {
    "duration": 0,
    "start_time": "2022-04-15T07:30:38.633Z"
   },
   {
    "duration": 0,
    "start_time": "2022-04-15T07:30:38.635Z"
   },
   {
    "duration": 0,
    "start_time": "2022-04-15T07:30:38.637Z"
   },
   {
    "duration": 0,
    "start_time": "2022-04-15T07:30:38.638Z"
   },
   {
    "duration": 0,
    "start_time": "2022-04-15T07:30:38.639Z"
   },
   {
    "duration": 0,
    "start_time": "2022-04-15T07:30:38.644Z"
   },
   {
    "duration": 0,
    "start_time": "2022-04-15T07:30:38.646Z"
   },
   {
    "duration": 0,
    "start_time": "2022-04-15T07:30:38.648Z"
   },
   {
    "duration": 0,
    "start_time": "2022-04-15T07:30:38.650Z"
   },
   {
    "duration": 0,
    "start_time": "2022-04-15T07:30:38.652Z"
   },
   {
    "duration": 0,
    "start_time": "2022-04-15T07:30:38.653Z"
   },
   {
    "duration": 0,
    "start_time": "2022-04-15T07:30:38.654Z"
   },
   {
    "duration": 185,
    "start_time": "2022-04-15T07:33:03.350Z"
   },
   {
    "duration": 190,
    "start_time": "2022-04-15T07:33:40.765Z"
   },
   {
    "duration": 294,
    "start_time": "2022-04-15T07:34:07.719Z"
   },
   {
    "duration": 2823,
    "start_time": "2022-04-15T07:34:19.707Z"
   },
   {
    "duration": 805,
    "start_time": "2022-04-15T07:34:22.533Z"
   },
   {
    "duration": 15,
    "start_time": "2022-04-15T07:34:23.340Z"
   },
   {
    "duration": 20,
    "start_time": "2022-04-15T07:34:23.358Z"
   },
   {
    "duration": 64,
    "start_time": "2022-04-15T07:34:23.380Z"
   },
   {
    "duration": 346,
    "start_time": "2022-04-15T07:34:23.446Z"
   },
   {
    "duration": 11,
    "start_time": "2022-04-15T07:34:23.794Z"
   },
   {
    "duration": 23,
    "start_time": "2022-04-15T07:34:23.820Z"
   },
   {
    "duration": 12,
    "start_time": "2022-04-15T07:34:23.846Z"
   },
   {
    "duration": 13,
    "start_time": "2022-04-15T07:34:23.861Z"
   },
   {
    "duration": 15,
    "start_time": "2022-04-15T07:34:23.876Z"
   },
   {
    "duration": 12,
    "start_time": "2022-04-15T07:34:23.893Z"
   },
   {
    "duration": 18,
    "start_time": "2022-04-15T07:34:23.907Z"
   },
   {
    "duration": 23,
    "start_time": "2022-04-15T07:34:23.927Z"
   },
   {
    "duration": 17,
    "start_time": "2022-04-15T07:34:23.953Z"
   },
   {
    "duration": 35,
    "start_time": "2022-04-15T07:34:23.972Z"
   },
   {
    "duration": 26,
    "start_time": "2022-04-15T07:34:24.011Z"
   },
   {
    "duration": 31,
    "start_time": "2022-04-15T07:34:24.039Z"
   },
   {
    "duration": 26,
    "start_time": "2022-04-15T07:34:24.073Z"
   },
   {
    "duration": 30,
    "start_time": "2022-04-15T07:34:24.101Z"
   },
   {
    "duration": 14,
    "start_time": "2022-04-15T07:34:24.133Z"
   },
   {
    "duration": 335,
    "start_time": "2022-04-15T07:34:24.150Z"
   },
   {
    "duration": 9,
    "start_time": "2022-04-15T07:34:24.487Z"
   },
   {
    "duration": 255,
    "start_time": "2022-04-15T07:34:24.498Z"
   },
   {
    "duration": 5,
    "start_time": "2022-04-15T07:34:24.755Z"
   },
   {
    "duration": 18,
    "start_time": "2022-04-15T07:34:24.761Z"
   },
   {
    "duration": 12,
    "start_time": "2022-04-15T07:34:24.781Z"
   },
   {
    "duration": 13,
    "start_time": "2022-04-15T07:34:24.799Z"
   },
   {
    "duration": 327,
    "start_time": "2022-04-15T07:34:24.817Z"
   },
   {
    "duration": 396,
    "start_time": "2022-04-15T07:34:25.146Z"
   },
   {
    "duration": 342,
    "start_time": "2022-04-15T07:34:25.546Z"
   },
   {
    "duration": 5,
    "start_time": "2022-04-15T07:34:25.891Z"
   },
   {
    "duration": 729,
    "start_time": "2022-04-15T07:34:25.899Z"
   },
   {
    "duration": 823,
    "start_time": "2022-04-15T07:34:26.631Z"
   },
   {
    "duration": 7,
    "start_time": "2022-04-15T07:34:27.457Z"
   },
   {
    "duration": 21,
    "start_time": "2022-04-15T07:34:27.467Z"
   },
   {
    "duration": 24,
    "start_time": "2022-04-15T07:34:27.491Z"
   },
   {
    "duration": 40,
    "start_time": "2022-04-15T07:34:27.517Z"
   },
   {
    "duration": 1990,
    "start_time": "2022-04-15T07:34:27.559Z"
   },
   {
    "duration": 433,
    "start_time": "2022-04-15T07:34:29.551Z"
   },
   {
    "duration": 207,
    "start_time": "2022-04-15T07:34:29.987Z"
   },
   {
    "duration": 284,
    "start_time": "2022-04-15T07:34:30.197Z"
   },
   {
    "duration": 71,
    "start_time": "2022-04-15T07:34:30.483Z"
   },
   {
    "duration": 6,
    "start_time": "2022-04-15T07:34:30.557Z"
   },
   {
    "duration": 17,
    "start_time": "2022-04-15T07:34:30.566Z"
   },
   {
    "duration": 16,
    "start_time": "2022-04-15T07:34:30.586Z"
   },
   {
    "duration": 69,
    "start_time": "2022-04-15T07:34:30.606Z"
   },
   {
    "duration": 1534,
    "start_time": "2022-04-15T07:34:30.677Z"
   },
   {
    "duration": 10,
    "start_time": "2022-04-15T07:34:32.214Z"
   },
   {
    "duration": 33,
    "start_time": "2022-04-15T07:34:32.227Z"
   },
   {
    "duration": 26,
    "start_time": "2022-04-15T07:34:32.263Z"
   },
   {
    "duration": 33,
    "start_time": "2022-04-15T07:34:32.291Z"
   },
   {
    "duration": 23,
    "start_time": "2022-04-15T07:34:32.326Z"
   },
   {
    "duration": 7,
    "start_time": "2022-04-15T07:34:32.352Z"
   },
   {
    "duration": 28,
    "start_time": "2022-04-15T07:34:32.361Z"
   },
   {
    "duration": 8,
    "start_time": "2022-04-15T07:34:32.391Z"
   },
   {
    "duration": 13,
    "start_time": "2022-04-15T07:34:32.401Z"
   },
   {
    "duration": 2405,
    "start_time": "2022-04-15T07:34:32.417Z"
   },
   {
    "duration": 37589,
    "start_time": "2022-04-15T07:34:34.831Z"
   },
   {
    "duration": 6313,
    "start_time": "2022-04-15T07:35:12.429Z"
   },
   {
    "duration": 81289,
    "start_time": "2022-04-15T07:35:18.745Z"
   },
   {
    "duration": 13,
    "start_time": "2022-04-15T07:36:40.039Z"
   },
   {
    "duration": 43,
    "start_time": "2022-04-15T07:36:40.054Z"
   },
   {
    "duration": 27,
    "start_time": "2022-04-15T07:36:40.100Z"
   },
   {
    "duration": 31,
    "start_time": "2022-04-15T07:36:40.130Z"
   },
   {
    "duration": 11,
    "start_time": "2022-04-15T07:36:40.163Z"
   },
   {
    "duration": 92,
    "start_time": "2022-04-15T07:36:40.177Z"
   },
   {
    "duration": 11,
    "start_time": "2022-04-15T07:36:40.326Z"
   },
   {
    "duration": 43,
    "start_time": "2022-04-15T07:36:40.340Z"
   },
   {
    "duration": 34,
    "start_time": "2022-04-15T07:36:40.386Z"
   },
   {
    "duration": 58,
    "start_time": "2022-04-15T07:36:40.425Z"
   },
   {
    "duration": 58,
    "start_time": "2022-04-15T07:36:40.485Z"
   },
   {
    "duration": 104,
    "start_time": "2022-04-15T07:36:40.546Z"
   },
   {
    "duration": 20,
    "start_time": "2022-04-15T07:36:40.653Z"
   },
   {
    "duration": 25,
    "start_time": "2022-04-15T07:36:40.676Z"
   },
   {
    "duration": 10,
    "start_time": "2022-04-15T07:36:40.704Z"
   },
   {
    "duration": 54,
    "start_time": "2022-04-15T07:36:40.716Z"
   },
   {
    "duration": 7,
    "start_time": "2022-04-15T07:37:20.855Z"
   },
   {
    "duration": 1116,
    "start_time": "2022-04-15T07:37:20.864Z"
   },
   {
    "duration": 15,
    "start_time": "2022-04-15T07:37:21.983Z"
   },
   {
    "duration": 55,
    "start_time": "2022-04-15T07:37:22.000Z"
   },
   {
    "duration": 34,
    "start_time": "2022-04-15T07:37:22.059Z"
   },
   {
    "duration": 364,
    "start_time": "2022-04-15T07:37:22.096Z"
   },
   {
    "duration": 8,
    "start_time": "2022-04-15T07:37:22.464Z"
   },
   {
    "duration": 15,
    "start_time": "2022-04-15T07:37:22.475Z"
   },
   {
    "duration": 17,
    "start_time": "2022-04-15T07:37:22.493Z"
   },
   {
    "duration": 48,
    "start_time": "2022-04-15T07:37:22.513Z"
   },
   {
    "duration": 9,
    "start_time": "2022-04-15T07:37:22.566Z"
   },
   {
    "duration": 13,
    "start_time": "2022-04-15T07:37:22.578Z"
   },
   {
    "duration": 8,
    "start_time": "2022-04-15T07:37:22.594Z"
   },
   {
    "duration": 10,
    "start_time": "2022-04-15T07:37:22.604Z"
   },
   {
    "duration": 44,
    "start_time": "2022-04-15T07:37:22.629Z"
   },
   {
    "duration": 38,
    "start_time": "2022-04-15T07:37:22.675Z"
   },
   {
    "duration": 30,
    "start_time": "2022-04-15T07:37:22.716Z"
   },
   {
    "duration": 37,
    "start_time": "2022-04-15T07:37:22.749Z"
   },
   {
    "duration": 18,
    "start_time": "2022-04-15T07:37:22.788Z"
   },
   {
    "duration": 29,
    "start_time": "2022-04-15T07:37:22.808Z"
   },
   {
    "duration": 36,
    "start_time": "2022-04-15T07:37:22.839Z"
   },
   {
    "duration": 279,
    "start_time": "2022-04-15T07:37:22.877Z"
   },
   {
    "duration": 13,
    "start_time": "2022-04-15T07:37:23.158Z"
   },
   {
    "duration": 305,
    "start_time": "2022-04-15T07:37:23.174Z"
   },
   {
    "duration": 4,
    "start_time": "2022-04-15T07:37:23.481Z"
   },
   {
    "duration": 16,
    "start_time": "2022-04-15T07:37:23.487Z"
   },
   {
    "duration": 17,
    "start_time": "2022-04-15T07:37:23.506Z"
   },
   {
    "duration": 49,
    "start_time": "2022-04-15T07:37:23.528Z"
   },
   {
    "duration": 343,
    "start_time": "2022-04-15T07:37:23.584Z"
   },
   {
    "duration": 468,
    "start_time": "2022-04-15T07:37:23.934Z"
   },
   {
    "duration": 380,
    "start_time": "2022-04-15T07:37:24.404Z"
   },
   {
    "duration": 5,
    "start_time": "2022-04-15T07:37:24.786Z"
   },
   {
    "duration": 641,
    "start_time": "2022-04-15T07:37:24.793Z"
   },
   {
    "duration": 855,
    "start_time": "2022-04-15T07:37:25.437Z"
   },
   {
    "duration": 7,
    "start_time": "2022-04-15T07:37:26.294Z"
   },
   {
    "duration": 16,
    "start_time": "2022-04-15T07:37:26.304Z"
   },
   {
    "duration": 66,
    "start_time": "2022-04-15T07:37:26.323Z"
   },
   {
    "duration": 12,
    "start_time": "2022-04-15T07:37:26.391Z"
   },
   {
    "duration": 1721,
    "start_time": "2022-04-15T07:37:26.406Z"
   },
   {
    "duration": 466,
    "start_time": "2022-04-15T07:37:28.130Z"
   },
   {
    "duration": 294,
    "start_time": "2022-04-15T07:37:28.598Z"
   },
   {
    "duration": 329,
    "start_time": "2022-04-15T07:37:28.894Z"
   },
   {
    "duration": 54,
    "start_time": "2022-04-15T07:37:29.225Z"
   },
   {
    "duration": 17,
    "start_time": "2022-04-15T07:37:29.282Z"
   },
   {
    "duration": 21,
    "start_time": "2022-04-15T07:37:29.302Z"
   },
   {
    "duration": 44,
    "start_time": "2022-04-15T07:37:29.325Z"
   },
   {
    "duration": 53,
    "start_time": "2022-04-15T07:37:29.371Z"
   },
   {
    "duration": 1812,
    "start_time": "2022-04-15T07:37:29.426Z"
   },
   {
    "duration": 8,
    "start_time": "2022-04-15T07:37:31.241Z"
   },
   {
    "duration": 51,
    "start_time": "2022-04-15T07:37:31.251Z"
   },
   {
    "duration": 69,
    "start_time": "2022-04-15T07:37:31.304Z"
   },
   {
    "duration": 16,
    "start_time": "2022-04-15T07:37:31.376Z"
   },
   {
    "duration": 23,
    "start_time": "2022-04-15T07:37:31.395Z"
   },
   {
    "duration": 54,
    "start_time": "2022-04-15T07:37:31.421Z"
   },
   {
    "duration": 28,
    "start_time": "2022-04-15T07:37:31.478Z"
   },
   {
    "duration": 56,
    "start_time": "2022-04-15T07:37:31.509Z"
   },
   {
    "duration": 22,
    "start_time": "2022-04-15T07:37:31.568Z"
   },
   {
    "duration": 3048,
    "start_time": "2022-04-15T07:37:31.593Z"
   },
   {
    "duration": 38499,
    "start_time": "2022-04-15T07:37:34.654Z"
   },
   {
    "duration": 6049,
    "start_time": "2022-04-15T07:38:13.156Z"
   },
   {
    "duration": 80131,
    "start_time": "2022-04-15T07:38:19.207Z"
   },
   {
    "duration": 6,
    "start_time": "2022-04-15T07:39:39.340Z"
   },
   {
    "duration": 37,
    "start_time": "2022-04-15T07:39:39.349Z"
   },
   {
    "duration": 11,
    "start_time": "2022-04-15T07:39:39.390Z"
   },
   {
    "duration": 26,
    "start_time": "2022-04-15T07:39:39.404Z"
   },
   {
    "duration": 37,
    "start_time": "2022-04-15T07:39:39.433Z"
   },
   {
    "duration": 28,
    "start_time": "2022-04-15T07:39:39.472Z"
   },
   {
    "duration": 111,
    "start_time": "2022-04-15T07:39:39.523Z"
   },
   {
    "duration": 33,
    "start_time": "2022-04-15T07:39:39.636Z"
   },
   {
    "duration": 24,
    "start_time": "2022-04-15T07:39:39.671Z"
   },
   {
    "duration": 40,
    "start_time": "2022-04-15T07:39:39.697Z"
   },
   {
    "duration": 93,
    "start_time": "2022-04-15T07:39:39.739Z"
   },
   {
    "duration": 75,
    "start_time": "2022-04-15T07:39:39.845Z"
   },
   {
    "duration": 18,
    "start_time": "2022-04-15T07:39:39.935Z"
   },
   {
    "duration": 16,
    "start_time": "2022-04-15T07:39:39.956Z"
   },
   {
    "duration": 13,
    "start_time": "2022-04-15T07:39:39.975Z"
   },
   {
    "duration": 21,
    "start_time": "2022-04-15T07:39:39.990Z"
   },
   {
    "duration": 1835,
    "start_time": "2022-04-15T17:04:57.672Z"
   },
   {
    "duration": 705,
    "start_time": "2022-04-15T17:04:59.509Z"
   },
   {
    "duration": 26,
    "start_time": "2022-04-15T17:05:00.215Z"
   },
   {
    "duration": 19,
    "start_time": "2022-04-15T17:05:00.244Z"
   },
   {
    "duration": 24,
    "start_time": "2022-04-15T17:05:00.265Z"
   },
   {
    "duration": 283,
    "start_time": "2022-04-15T17:05:00.290Z"
   },
   {
    "duration": 10,
    "start_time": "2022-04-15T17:05:00.574Z"
   },
   {
    "duration": 5,
    "start_time": "2022-04-15T17:05:00.586Z"
   },
   {
    "duration": 13,
    "start_time": "2022-04-15T17:05:00.592Z"
   },
   {
    "duration": 16,
    "start_time": "2022-04-15T17:05:00.608Z"
   },
   {
    "duration": 11,
    "start_time": "2022-04-15T17:05:00.625Z"
   },
   {
    "duration": 11,
    "start_time": "2022-04-15T17:05:00.638Z"
   },
   {
    "duration": 6,
    "start_time": "2022-04-15T17:05:00.650Z"
   },
   {
    "duration": 13,
    "start_time": "2022-04-15T17:05:00.658Z"
   },
   {
    "duration": 19,
    "start_time": "2022-04-15T17:05:00.673Z"
   },
   {
    "duration": 37,
    "start_time": "2022-04-15T17:05:00.694Z"
   },
   {
    "duration": 21,
    "start_time": "2022-04-15T17:05:00.733Z"
   },
   {
    "duration": 18,
    "start_time": "2022-04-15T17:05:00.756Z"
   },
   {
    "duration": 52,
    "start_time": "2022-04-15T17:05:00.776Z"
   },
   {
    "duration": 14,
    "start_time": "2022-04-15T17:05:00.831Z"
   },
   {
    "duration": 9,
    "start_time": "2022-04-15T17:05:00.847Z"
   },
   {
    "duration": 332,
    "start_time": "2022-04-15T17:05:00.858Z"
   },
   {
    "duration": 12,
    "start_time": "2022-04-15T17:05:01.192Z"
   },
   {
    "duration": 229,
    "start_time": "2022-04-15T17:05:01.206Z"
   },
   {
    "duration": 4,
    "start_time": "2022-04-15T17:05:01.437Z"
   },
   {
    "duration": 9,
    "start_time": "2022-04-15T17:05:01.443Z"
   },
   {
    "duration": 8,
    "start_time": "2022-04-15T17:05:01.454Z"
   },
   {
    "duration": 4,
    "start_time": "2022-04-15T17:05:01.467Z"
   },
   {
    "duration": 333,
    "start_time": "2022-04-15T17:05:01.472Z"
   },
   {
    "duration": 271,
    "start_time": "2022-04-15T17:05:01.807Z"
   },
   {
    "duration": 288,
    "start_time": "2022-04-15T17:05:02.080Z"
   },
   {
    "duration": 4,
    "start_time": "2022-04-15T17:05:02.370Z"
   },
   {
    "duration": 554,
    "start_time": "2022-04-15T17:05:02.375Z"
   },
   {
    "duration": 525,
    "start_time": "2022-04-15T17:05:02.930Z"
   },
   {
    "duration": 7,
    "start_time": "2022-04-15T17:05:03.458Z"
   },
   {
    "duration": 6,
    "start_time": "2022-04-15T17:05:03.466Z"
   },
   {
    "duration": 6,
    "start_time": "2022-04-15T17:05:03.474Z"
   },
   {
    "duration": 13,
    "start_time": "2022-04-15T17:05:03.482Z"
   },
   {
    "duration": 1527,
    "start_time": "2022-04-15T17:05:03.496Z"
   },
   {
    "duration": 170,
    "start_time": "2022-04-15T17:05:05.024Z"
   },
   {
    "duration": 342,
    "start_time": "2022-04-15T17:05:05.196Z"
   },
   {
    "duration": 174,
    "start_time": "2022-04-15T17:05:05.541Z"
   },
   {
    "duration": 37,
    "start_time": "2022-04-15T17:05:05.722Z"
   },
   {
    "duration": 5,
    "start_time": "2022-04-15T17:05:05.761Z"
   },
   {
    "duration": 10,
    "start_time": "2022-04-15T17:05:05.768Z"
   },
   {
    "duration": 8,
    "start_time": "2022-04-15T17:05:05.780Z"
   },
   {
    "duration": 78,
    "start_time": "2022-04-15T17:05:05.789Z"
   },
   {
    "duration": 1678,
    "start_time": "2022-04-15T17:05:05.869Z"
   },
   {
    "duration": 5,
    "start_time": "2022-04-15T17:05:07.549Z"
   },
   {
    "duration": 12,
    "start_time": "2022-04-15T17:05:07.555Z"
   },
   {
    "duration": 7,
    "start_time": "2022-04-15T17:05:07.569Z"
   },
   {
    "duration": 10,
    "start_time": "2022-04-15T17:05:07.577Z"
   },
   {
    "duration": 5,
    "start_time": "2022-04-15T17:05:07.589Z"
   },
   {
    "duration": 4,
    "start_time": "2022-04-15T17:05:07.595Z"
   },
   {
    "duration": 32,
    "start_time": "2022-04-15T17:05:07.601Z"
   },
   {
    "duration": 6,
    "start_time": "2022-04-15T17:05:07.635Z"
   },
   {
    "duration": 6,
    "start_time": "2022-04-15T17:05:07.643Z"
   },
   {
    "duration": 1891,
    "start_time": "2022-04-15T17:05:07.651Z"
   },
   {
    "duration": 30082,
    "start_time": "2022-04-15T17:05:09.546Z"
   },
   {
    "duration": 5303,
    "start_time": "2022-04-15T17:05:39.629Z"
   },
   {
    "duration": 52388,
    "start_time": "2022-04-15T17:05:44.934Z"
   },
   {
    "duration": 4,
    "start_time": "2022-04-15T17:06:37.324Z"
   },
   {
    "duration": 20,
    "start_time": "2022-04-15T17:06:37.329Z"
   },
   {
    "duration": 18,
    "start_time": "2022-04-15T17:06:37.350Z"
   },
   {
    "duration": 16,
    "start_time": "2022-04-15T17:06:37.369Z"
   },
   {
    "duration": 11,
    "start_time": "2022-04-15T17:06:37.386Z"
   },
   {
    "duration": 31,
    "start_time": "2022-04-15T17:06:37.399Z"
   },
   {
    "duration": 95,
    "start_time": "2022-04-15T17:06:37.432Z"
   },
   {
    "duration": 95,
    "start_time": "2022-04-15T17:06:37.529Z"
   },
   {
    "duration": 8,
    "start_time": "2022-04-15T17:06:37.626Z"
   },
   {
    "duration": 13,
    "start_time": "2022-04-15T17:06:37.636Z"
   },
   {
    "duration": 81,
    "start_time": "2022-04-15T17:06:37.651Z"
   },
   {
    "duration": 98,
    "start_time": "2022-04-15T17:06:37.735Z"
   },
   {
    "duration": 9,
    "start_time": "2022-04-15T17:06:37.835Z"
   },
   {
    "duration": 12,
    "start_time": "2022-04-15T17:06:37.846Z"
   },
   {
    "duration": 3,
    "start_time": "2022-04-15T17:06:37.860Z"
   },
   {
    "duration": 11,
    "start_time": "2022-04-15T17:06:37.865Z"
   }
  ],
  "kernelspec": {
   "display_name": "Python 3 (ipykernel)",
   "language": "python",
   "name": "python3"
  },
  "language_info": {
   "codemirror_mode": {
    "name": "ipython",
    "version": 3
   },
   "file_extension": ".py",
   "mimetype": "text/x-python",
   "name": "python",
   "nbconvert_exporter": "python",
   "pygments_lexer": "ipython3",
   "version": "3.9.5"
  },
  "toc": {
   "base_numbering": 1,
   "nav_menu": {},
   "number_sections": true,
   "sideBar": true,
   "skip_h1_title": true,
   "title_cell": "Содержание",
   "title_sidebar": "Contents",
   "toc_cell": true,
   "toc_position": {
    "height": "calc(100% - 180px)",
    "left": "10px",
    "top": "150px",
    "width": "165px"
   },
   "toc_section_display": true,
   "toc_window_display": true
  }
 },
 "nbformat": 4,
 "nbformat_minor": 2
}
