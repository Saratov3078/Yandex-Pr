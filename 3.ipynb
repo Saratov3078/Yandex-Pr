{
 "cells": [
  {
   "cell_type": "markdown",
   "metadata": {
    "toc": true
   },
   "source": [
    "<h1>Содержание<span class=\"tocSkip\"></span></h1>\n",
    "<div class=\"toc\"><ul class=\"toc-item\"><li><span><a href=\"#Изучение-данных-из-файла\" data-toc-modified-id=\"Изучение-данных-из-файла-1\"><span class=\"toc-item-num\">1&nbsp;&nbsp;</span>Изучение данных из файла</a></span><ul class=\"toc-item\"><li><span><a href=\"#Вывод\" data-toc-modified-id=\"Вывод-1.1\"><span class=\"toc-item-num\">1.1&nbsp;&nbsp;</span>Вывод</a></span></li></ul></li><li><span><a href=\"#Предобработка-данных\" data-toc-modified-id=\"Предобработка-данных-2\"><span class=\"toc-item-num\">2&nbsp;&nbsp;</span>Предобработка данных</a></span></li><li><span><a href=\"#Расчёты-и-добавление-результатов-в-таблицу\" data-toc-modified-id=\"Расчёты-и-добавление-результатов-в-таблицу-3\"><span class=\"toc-item-num\">3&nbsp;&nbsp;</span>Расчёты и добавление результатов в таблицу</a></span></li><li><span><a href=\"#Исследовательский-анализ-данных\" data-toc-modified-id=\"Исследовательский-анализ-данных-4\"><span class=\"toc-item-num\">4&nbsp;&nbsp;</span>Исследовательский анализ данных</a></span></li><li><span><a href=\"#Общий-вывод\" data-toc-modified-id=\"Общий-вывод-5\"><span class=\"toc-item-num\">5&nbsp;&nbsp;</span>Общий вывод</a></span></li><li><span><a href=\"#Чек-лист-готовности-проекта\" data-toc-modified-id=\"Чек-лист-готовности-проекта-6\"><span class=\"toc-item-num\">6&nbsp;&nbsp;</span>Чек-лист готовности проекта</a></span></li></ul></div>"
   ]
  },
  {
   "cell_type": "markdown",
   "metadata": {},
   "source": [
    "# Исследование объявлений о продаже квартир\n",
    "\n",
    "В вашем распоряжении данные сервиса Яндекс.Недвижимость — архив объявлений о продаже квартир в Санкт-Петербурге и соседних населённых пунктах за несколько лет. Нужно научиться определять рыночную стоимость объектов недвижимости. Ваша задача — установить параметры. Это позволит построить автоматизированную систему: она отследит аномалии и мошенническую деятельность. \n",
    "\n",
    "По каждой квартире на продажу доступны два вида данных. Первые вписаны пользователем, вторые получены автоматически на основе картографических данных. Например, расстояние до центра, аэропорта, ближайшего парка и водоёма. "
   ]
  },
  {
   "cell_type": "markdown",
   "metadata": {},
   "source": [
    "## Изучение данных из файла"
   ]
  },
  {
   "cell_type": "code",
   "execution_count": 2,
   "metadata": {},
   "outputs": [
    {
     "name": "stdout",
     "output_type": "stream",
     "text": [
      "<class 'pandas.core.frame.DataFrame'>\n",
      "RangeIndex: 23699 entries, 0 to 23698\n",
      "Data columns (total 22 columns):\n",
      "total_images            23699 non-null int64\n",
      "last_price              23699 non-null float64\n",
      "total_area              23699 non-null float64\n",
      "first_day_exposition    23699 non-null object\n",
      "rooms                   23699 non-null int64\n",
      "ceiling_height          14504 non-null float64\n",
      "floors_total            23613 non-null float64\n",
      "living_area             21796 non-null float64\n",
      "floor                   23699 non-null int64\n",
      "is_apartment            2775 non-null object\n",
      "studio                  23699 non-null bool\n",
      "open_plan               23699 non-null bool\n",
      "kitchen_area            21421 non-null float64\n",
      "balcony                 12180 non-null float64\n",
      "locality_name           23650 non-null object\n",
      "airports_nearest        18157 non-null float64\n",
      "cityCenters_nearest     18180 non-null float64\n",
      "parks_around3000        18181 non-null float64\n",
      "parks_nearest           8079 non-null float64\n",
      "ponds_around3000        18181 non-null float64\n",
      "ponds_nearest           9110 non-null float64\n",
      "days_exposition         20518 non-null float64\n",
      "dtypes: bool(2), float64(14), int64(3), object(3)\n",
      "memory usage: 3.7+ MB\n"
     ]
    },
    {
     "data": {
      "text/html": [
       "<div>\n",
       "<style scoped>\n",
       "    .dataframe tbody tr th:only-of-type {\n",
       "        vertical-align: middle;\n",
       "    }\n",
       "\n",
       "    .dataframe tbody tr th {\n",
       "        vertical-align: top;\n",
       "    }\n",
       "\n",
       "    .dataframe thead th {\n",
       "        text-align: right;\n",
       "    }\n",
       "</style>\n",
       "<table border=\"1\" class=\"dataframe\">\n",
       "  <thead>\n",
       "    <tr style=\"text-align: right;\">\n",
       "      <th></th>\n",
       "      <th>total_images</th>\n",
       "      <th>last_price</th>\n",
       "      <th>total_area</th>\n",
       "      <th>first_day_exposition</th>\n",
       "      <th>rooms</th>\n",
       "      <th>ceiling_height</th>\n",
       "      <th>floors_total</th>\n",
       "      <th>living_area</th>\n",
       "      <th>floor</th>\n",
       "      <th>is_apartment</th>\n",
       "      <th>...</th>\n",
       "      <th>kitchen_area</th>\n",
       "      <th>balcony</th>\n",
       "      <th>locality_name</th>\n",
       "      <th>airports_nearest</th>\n",
       "      <th>cityCenters_nearest</th>\n",
       "      <th>parks_around3000</th>\n",
       "      <th>parks_nearest</th>\n",
       "      <th>ponds_around3000</th>\n",
       "      <th>ponds_nearest</th>\n",
       "      <th>days_exposition</th>\n",
       "    </tr>\n",
       "  </thead>\n",
       "  <tbody>\n",
       "    <tr>\n",
       "      <td>0</td>\n",
       "      <td>20</td>\n",
       "      <td>13000000.0</td>\n",
       "      <td>108.00</td>\n",
       "      <td>2019-03-07T00:00:00</td>\n",
       "      <td>3</td>\n",
       "      <td>2.70</td>\n",
       "      <td>16.0</td>\n",
       "      <td>51.00</td>\n",
       "      <td>8</td>\n",
       "      <td>NaN</td>\n",
       "      <td>...</td>\n",
       "      <td>25.00</td>\n",
       "      <td>NaN</td>\n",
       "      <td>Санкт-Петербург</td>\n",
       "      <td>18863.0</td>\n",
       "      <td>16028.0</td>\n",
       "      <td>1.0</td>\n",
       "      <td>482.0</td>\n",
       "      <td>2.0</td>\n",
       "      <td>755.0</td>\n",
       "      <td>NaN</td>\n",
       "    </tr>\n",
       "    <tr>\n",
       "      <td>1</td>\n",
       "      <td>7</td>\n",
       "      <td>3350000.0</td>\n",
       "      <td>40.40</td>\n",
       "      <td>2018-12-04T00:00:00</td>\n",
       "      <td>1</td>\n",
       "      <td>NaN</td>\n",
       "      <td>11.0</td>\n",
       "      <td>18.60</td>\n",
       "      <td>1</td>\n",
       "      <td>NaN</td>\n",
       "      <td>...</td>\n",
       "      <td>11.00</td>\n",
       "      <td>2.0</td>\n",
       "      <td>посёлок Шушары</td>\n",
       "      <td>12817.0</td>\n",
       "      <td>18603.0</td>\n",
       "      <td>0.0</td>\n",
       "      <td>NaN</td>\n",
       "      <td>0.0</td>\n",
       "      <td>NaN</td>\n",
       "      <td>81.0</td>\n",
       "    </tr>\n",
       "    <tr>\n",
       "      <td>2</td>\n",
       "      <td>10</td>\n",
       "      <td>5196000.0</td>\n",
       "      <td>56.00</td>\n",
       "      <td>2015-08-20T00:00:00</td>\n",
       "      <td>2</td>\n",
       "      <td>NaN</td>\n",
       "      <td>5.0</td>\n",
       "      <td>34.30</td>\n",
       "      <td>4</td>\n",
       "      <td>NaN</td>\n",
       "      <td>...</td>\n",
       "      <td>8.30</td>\n",
       "      <td>0.0</td>\n",
       "      <td>Санкт-Петербург</td>\n",
       "      <td>21741.0</td>\n",
       "      <td>13933.0</td>\n",
       "      <td>1.0</td>\n",
       "      <td>90.0</td>\n",
       "      <td>2.0</td>\n",
       "      <td>574.0</td>\n",
       "      <td>558.0</td>\n",
       "    </tr>\n",
       "    <tr>\n",
       "      <td>3</td>\n",
       "      <td>0</td>\n",
       "      <td>64900000.0</td>\n",
       "      <td>159.00</td>\n",
       "      <td>2015-07-24T00:00:00</td>\n",
       "      <td>3</td>\n",
       "      <td>NaN</td>\n",
       "      <td>14.0</td>\n",
       "      <td>NaN</td>\n",
       "      <td>9</td>\n",
       "      <td>NaN</td>\n",
       "      <td>...</td>\n",
       "      <td>NaN</td>\n",
       "      <td>0.0</td>\n",
       "      <td>Санкт-Петербург</td>\n",
       "      <td>28098.0</td>\n",
       "      <td>6800.0</td>\n",
       "      <td>2.0</td>\n",
       "      <td>84.0</td>\n",
       "      <td>3.0</td>\n",
       "      <td>234.0</td>\n",
       "      <td>424.0</td>\n",
       "    </tr>\n",
       "    <tr>\n",
       "      <td>4</td>\n",
       "      <td>2</td>\n",
       "      <td>10000000.0</td>\n",
       "      <td>100.00</td>\n",
       "      <td>2018-06-19T00:00:00</td>\n",
       "      <td>2</td>\n",
       "      <td>3.03</td>\n",
       "      <td>14.0</td>\n",
       "      <td>32.00</td>\n",
       "      <td>13</td>\n",
       "      <td>NaN</td>\n",
       "      <td>...</td>\n",
       "      <td>41.00</td>\n",
       "      <td>NaN</td>\n",
       "      <td>Санкт-Петербург</td>\n",
       "      <td>31856.0</td>\n",
       "      <td>8098.0</td>\n",
       "      <td>2.0</td>\n",
       "      <td>112.0</td>\n",
       "      <td>1.0</td>\n",
       "      <td>48.0</td>\n",
       "      <td>121.0</td>\n",
       "    </tr>\n",
       "    <tr>\n",
       "      <td>5</td>\n",
       "      <td>10</td>\n",
       "      <td>2890000.0</td>\n",
       "      <td>30.40</td>\n",
       "      <td>2018-09-10T00:00:00</td>\n",
       "      <td>1</td>\n",
       "      <td>NaN</td>\n",
       "      <td>12.0</td>\n",
       "      <td>14.40</td>\n",
       "      <td>5</td>\n",
       "      <td>NaN</td>\n",
       "      <td>...</td>\n",
       "      <td>9.10</td>\n",
       "      <td>NaN</td>\n",
       "      <td>городской посёлок Янино-1</td>\n",
       "      <td>NaN</td>\n",
       "      <td>NaN</td>\n",
       "      <td>NaN</td>\n",
       "      <td>NaN</td>\n",
       "      <td>NaN</td>\n",
       "      <td>NaN</td>\n",
       "      <td>55.0</td>\n",
       "    </tr>\n",
       "    <tr>\n",
       "      <td>6</td>\n",
       "      <td>6</td>\n",
       "      <td>3700000.0</td>\n",
       "      <td>37.30</td>\n",
       "      <td>2017-11-02T00:00:00</td>\n",
       "      <td>1</td>\n",
       "      <td>NaN</td>\n",
       "      <td>26.0</td>\n",
       "      <td>10.60</td>\n",
       "      <td>6</td>\n",
       "      <td>NaN</td>\n",
       "      <td>...</td>\n",
       "      <td>14.40</td>\n",
       "      <td>1.0</td>\n",
       "      <td>посёлок Парголово</td>\n",
       "      <td>52996.0</td>\n",
       "      <td>19143.0</td>\n",
       "      <td>0.0</td>\n",
       "      <td>NaN</td>\n",
       "      <td>0.0</td>\n",
       "      <td>NaN</td>\n",
       "      <td>155.0</td>\n",
       "    </tr>\n",
       "    <tr>\n",
       "      <td>7</td>\n",
       "      <td>5</td>\n",
       "      <td>7915000.0</td>\n",
       "      <td>71.60</td>\n",
       "      <td>2019-04-18T00:00:00</td>\n",
       "      <td>2</td>\n",
       "      <td>NaN</td>\n",
       "      <td>24.0</td>\n",
       "      <td>NaN</td>\n",
       "      <td>22</td>\n",
       "      <td>NaN</td>\n",
       "      <td>...</td>\n",
       "      <td>18.90</td>\n",
       "      <td>2.0</td>\n",
       "      <td>Санкт-Петербург</td>\n",
       "      <td>23982.0</td>\n",
       "      <td>11634.0</td>\n",
       "      <td>0.0</td>\n",
       "      <td>NaN</td>\n",
       "      <td>0.0</td>\n",
       "      <td>NaN</td>\n",
       "      <td>NaN</td>\n",
       "    </tr>\n",
       "    <tr>\n",
       "      <td>8</td>\n",
       "      <td>20</td>\n",
       "      <td>2900000.0</td>\n",
       "      <td>33.16</td>\n",
       "      <td>2018-05-23T00:00:00</td>\n",
       "      <td>1</td>\n",
       "      <td>NaN</td>\n",
       "      <td>27.0</td>\n",
       "      <td>15.43</td>\n",
       "      <td>26</td>\n",
       "      <td>NaN</td>\n",
       "      <td>...</td>\n",
       "      <td>8.81</td>\n",
       "      <td>NaN</td>\n",
       "      <td>посёлок Мурино</td>\n",
       "      <td>NaN</td>\n",
       "      <td>NaN</td>\n",
       "      <td>NaN</td>\n",
       "      <td>NaN</td>\n",
       "      <td>NaN</td>\n",
       "      <td>NaN</td>\n",
       "      <td>189.0</td>\n",
       "    </tr>\n",
       "    <tr>\n",
       "      <td>9</td>\n",
       "      <td>18</td>\n",
       "      <td>5400000.0</td>\n",
       "      <td>61.00</td>\n",
       "      <td>2017-02-26T00:00:00</td>\n",
       "      <td>3</td>\n",
       "      <td>2.50</td>\n",
       "      <td>9.0</td>\n",
       "      <td>43.60</td>\n",
       "      <td>7</td>\n",
       "      <td>NaN</td>\n",
       "      <td>...</td>\n",
       "      <td>6.50</td>\n",
       "      <td>2.0</td>\n",
       "      <td>Санкт-Петербург</td>\n",
       "      <td>50898.0</td>\n",
       "      <td>15008.0</td>\n",
       "      <td>0.0</td>\n",
       "      <td>NaN</td>\n",
       "      <td>0.0</td>\n",
       "      <td>NaN</td>\n",
       "      <td>289.0</td>\n",
       "    </tr>\n",
       "  </tbody>\n",
       "</table>\n",
       "<p>10 rows × 22 columns</p>\n",
       "</div>"
      ],
      "text/plain": [
       "   total_images  last_price  total_area first_day_exposition  rooms  \\\n",
       "0            20  13000000.0      108.00  2019-03-07T00:00:00      3   \n",
       "1             7   3350000.0       40.40  2018-12-04T00:00:00      1   \n",
       "2            10   5196000.0       56.00  2015-08-20T00:00:00      2   \n",
       "3             0  64900000.0      159.00  2015-07-24T00:00:00      3   \n",
       "4             2  10000000.0      100.00  2018-06-19T00:00:00      2   \n",
       "5            10   2890000.0       30.40  2018-09-10T00:00:00      1   \n",
       "6             6   3700000.0       37.30  2017-11-02T00:00:00      1   \n",
       "7             5   7915000.0       71.60  2019-04-18T00:00:00      2   \n",
       "8            20   2900000.0       33.16  2018-05-23T00:00:00      1   \n",
       "9            18   5400000.0       61.00  2017-02-26T00:00:00      3   \n",
       "\n",
       "   ceiling_height  floors_total  living_area  floor is_apartment  ...  \\\n",
       "0            2.70          16.0        51.00      8          NaN  ...   \n",
       "1             NaN          11.0        18.60      1          NaN  ...   \n",
       "2             NaN           5.0        34.30      4          NaN  ...   \n",
       "3             NaN          14.0          NaN      9          NaN  ...   \n",
       "4            3.03          14.0        32.00     13          NaN  ...   \n",
       "5             NaN          12.0        14.40      5          NaN  ...   \n",
       "6             NaN          26.0        10.60      6          NaN  ...   \n",
       "7             NaN          24.0          NaN     22          NaN  ...   \n",
       "8             NaN          27.0        15.43     26          NaN  ...   \n",
       "9            2.50           9.0        43.60      7          NaN  ...   \n",
       "\n",
       "   kitchen_area  balcony              locality_name  airports_nearest  \\\n",
       "0         25.00      NaN            Санкт-Петербург           18863.0   \n",
       "1         11.00      2.0             посёлок Шушары           12817.0   \n",
       "2          8.30      0.0            Санкт-Петербург           21741.0   \n",
       "3           NaN      0.0            Санкт-Петербург           28098.0   \n",
       "4         41.00      NaN            Санкт-Петербург           31856.0   \n",
       "5          9.10      NaN  городской посёлок Янино-1               NaN   \n",
       "6         14.40      1.0          посёлок Парголово           52996.0   \n",
       "7         18.90      2.0            Санкт-Петербург           23982.0   \n",
       "8          8.81      NaN             посёлок Мурино               NaN   \n",
       "9          6.50      2.0            Санкт-Петербург           50898.0   \n",
       "\n",
       "  cityCenters_nearest  parks_around3000  parks_nearest  ponds_around3000  \\\n",
       "0             16028.0               1.0          482.0               2.0   \n",
       "1             18603.0               0.0            NaN               0.0   \n",
       "2             13933.0               1.0           90.0               2.0   \n",
       "3              6800.0               2.0           84.0               3.0   \n",
       "4              8098.0               2.0          112.0               1.0   \n",
       "5                 NaN               NaN            NaN               NaN   \n",
       "6             19143.0               0.0            NaN               0.0   \n",
       "7             11634.0               0.0            NaN               0.0   \n",
       "8                 NaN               NaN            NaN               NaN   \n",
       "9             15008.0               0.0            NaN               0.0   \n",
       "\n",
       "   ponds_nearest  days_exposition  \n",
       "0          755.0              NaN  \n",
       "1            NaN             81.0  \n",
       "2          574.0            558.0  \n",
       "3          234.0            424.0  \n",
       "4           48.0            121.0  \n",
       "5            NaN             55.0  \n",
       "6            NaN            155.0  \n",
       "7            NaN              NaN  \n",
       "8            NaN            189.0  \n",
       "9            NaN            289.0  \n",
       "\n",
       "[10 rows x 22 columns]"
      ]
     },
     "execution_count": 2,
     "metadata": {},
     "output_type": "execute_result"
    }
   ],
   "source": [
    "import pandas as pd\n",
    "import matplotlib.pyplot as plt\n",
    "import seaborn as sns\n",
    "data = pd.read_csv('/datasets/real_estate_data.csv', sep='\\t')\n",
    "data.info()\n",
    "data.head(10)"
   ]
  },
  {
   "cell_type": "markdown",
   "metadata": {},
   "source": [
    "### Вывод\n",
    "В таблице 22 столбца и 23699 записи.Есть пропущенные значения и некорректные типы данных. "
   ]
  },
  {
   "cell_type": "markdown",
   "metadata": {},
   "source": []
  },
  {
   "cell_type": "markdown",
   "metadata": {},
   "source": [
    "## Предобработка данных"
   ]
  },
  {
   "cell_type": "code",
   "execution_count": 17,
   "metadata": {
    "scrolled": true
   },
   "outputs": [
    {
     "data": {
      "text/plain": [
       "last_price                  0\n",
       "total_area                  0\n",
       "first_day_exposition        0\n",
       "rooms                       0\n",
       "ceiling_height              0\n",
       "floors_total                0\n",
       "living_area                 0\n",
       "floor                       0\n",
       "kitchen_area                0\n",
       "balcony                     0\n",
       "locality_name               0\n",
       "airports_nearest         5367\n",
       "cityCenters_nearest      5357\n",
       "parks_around3000            0\n",
       "parks_nearest           14324\n",
       "ponds_around3000            0\n",
       "ponds_nearest           13241\n",
       "days_exposition             0\n",
       "sm_price                    0\n",
       "weekday                     0\n",
       "month                       0\n",
       "year                        0\n",
       "area_ratio                  0\n",
       "kitchen_ratio               0\n",
       "floor_type                  0\n",
       "center_km                   0\n",
       "dtype: int64"
      ]
     },
     "execution_count": 17,
     "metadata": {},
     "output_type": "execute_result"
    }
   ],
   "source": [
    "# Приводим в целочисленный тип стоимость квартиры\n",
    "data['last_price'] = data['last_price'].astype(int)\n",
    "# Приводим к типу даты дату публикации\n",
    "data['first_day_exposition'] = pd.to_datetime(data['first_day_exposition'], format='%Y-%m-%dT%H:%M:%S')\n",
    "# Приводим в целочисленный тип количество балконов. Заменяем пропущенные значения на 0\n",
    "data['balcony'] = data['balcony'].fillna(value=0).astype(int)\n",
    "# Приводим в целочисленный тип количество парков. Заменяем пропущенные значения на 0\n",
    "data['parks_around3000'] = data['parks_around3000'].fillna(value=0).astype(int)\n",
    "# Приводим в целочисленный тип количество прудов. Заменяем пропущенные значения на 0\n",
    "data['ponds_around3000'] = data['ponds_around3000'].fillna(value=0).astype(int)\n",
    "# Удаляем записи, где отсутствует локация и этажность\n",
    "data.dropna(subset=['locality_name'], inplace=True)\n",
    "data.dropna(subset=['floors_total'], inplace=True)\n",
    "# Приводим этажность к целочисленному типу\n",
    "data['floors_total'] = data['floors_total'].astype(int)\n",
    "# Заменяем оставшиеся пустые значения высоты потолков на медианное значение по всему датасету\n",
    "data['ceiling_height'] = data.groupby(['locality_name', 'floors_total'])['ceiling_height'].apply(lambda x: x.fillna(x.median()))\n",
    "data['ceiling_height'].fillna(data['ceiling_height'].median(), inplace=True)\n",
    "# Заменяем пустые значения жилой площади и площади кухни\n",
    "living_ratio = data['living_area'].mean() / data['total_area'].mean()\n",
    "kitchen_ratio = data['kitchen_area'].mean() / data['total_area'].mean()\n",
    "data['living_area'].fillna(living_ratio * data['total_area'])\n",
    "data['kitchen_area'].fillna(kitchen_ratio * data['total_area'])\n",
    "data.isnull().sum()# Проверяем количество пропущенных значений\n",
    "\n"
   ]
  },
  {
   "cell_type": "markdown",
   "metadata": {},
   "source": [
    "Приводим в целочисленный тип стоимость квартиры.\n",
    "Приводим к типу даты дату публикации.\n",
    "Приводим в целочисленный тип количество балконов. Заменяем пропущенные значения на 0.Количество балконов не может быть float.\n",
    "Приводим в целочисленный тип количество парков. Заменяем пропущенные значения на 0.парков.Количество парков не может быть float.\n",
    "Приводим в целочисленный тип количество прудов. Заменяем пропущенные значения на 0.Количество прудов не может быть float.\n",
    "Удаляем записи, где отсутствует локация и этажность.\n",
    "Приводим этажность к целочисленному типу.\n",
    "Заменяем оставшиеся пустые значения высоты потолков на медианное значение по всему датасету.\n",
    "Заменяем пустые значения жилой площади и площади кухни на средние по датасету.\n",
    "\n",
    "\n"
   ]
  },
  {
   "cell_type": "markdown",
   "metadata": {},
   "source": [
    "```python\n",
    "\n",
    "columns = [col1, col2, col3]\n",
    "\n",
    "for i in columns:\n",
    "    df[i] = df[i].fillna(0)\n",
    "\n",
    "```"
   ]
  },
  {
   "cell_type": "markdown",
   "metadata": {},
   "source": [
    "## Расчёты и добавление результатов в таблицу"
   ]
  },
  {
   "cell_type": "code",
   "execution_count": 4,
   "metadata": {},
   "outputs": [
    {
     "data": {
      "text/html": [
       "<div>\n",
       "<style scoped>\n",
       "    .dataframe tbody tr th:only-of-type {\n",
       "        vertical-align: middle;\n",
       "    }\n",
       "\n",
       "    .dataframe tbody tr th {\n",
       "        vertical-align: top;\n",
       "    }\n",
       "\n",
       "    .dataframe thead th {\n",
       "        text-align: right;\n",
       "    }\n",
       "</style>\n",
       "<table border=\"1\" class=\"dataframe\">\n",
       "  <thead>\n",
       "    <tr style=\"text-align: right;\">\n",
       "      <th></th>\n",
       "      <th>last_price</th>\n",
       "      <th>total_area</th>\n",
       "      <th>first_day_exposition</th>\n",
       "      <th>rooms</th>\n",
       "      <th>ceiling_height</th>\n",
       "      <th>floors_total</th>\n",
       "      <th>living_area</th>\n",
       "      <th>floor</th>\n",
       "      <th>kitchen_area</th>\n",
       "      <th>balcony</th>\n",
       "      <th>...</th>\n",
       "      <th>ponds_around3000</th>\n",
       "      <th>ponds_nearest</th>\n",
       "      <th>days_exposition</th>\n",
       "      <th>sm_price</th>\n",
       "      <th>weekday</th>\n",
       "      <th>month</th>\n",
       "      <th>year</th>\n",
       "      <th>area_ratio</th>\n",
       "      <th>kitchen_ratio</th>\n",
       "      <th>floor_type</th>\n",
       "    </tr>\n",
       "  </thead>\n",
       "  <tbody>\n",
       "    <tr>\n",
       "      <td>0</td>\n",
       "      <td>13000000</td>\n",
       "      <td>108.00</td>\n",
       "      <td>2019-03-07</td>\n",
       "      <td>3</td>\n",
       "      <td>2.700</td>\n",
       "      <td>16</td>\n",
       "      <td>51.000000</td>\n",
       "      <td>8</td>\n",
       "      <td>25.000000</td>\n",
       "      <td>0</td>\n",
       "      <td>...</td>\n",
       "      <td>2</td>\n",
       "      <td>755.0</td>\n",
       "      <td>NaN</td>\n",
       "      <td>120370</td>\n",
       "      <td>3</td>\n",
       "      <td>3</td>\n",
       "      <td>2019</td>\n",
       "      <td>47</td>\n",
       "      <td>23</td>\n",
       "      <td>другой</td>\n",
       "    </tr>\n",
       "    <tr>\n",
       "      <td>1</td>\n",
       "      <td>3350000</td>\n",
       "      <td>40.40</td>\n",
       "      <td>2018-12-04</td>\n",
       "      <td>1</td>\n",
       "      <td>2.650</td>\n",
       "      <td>11</td>\n",
       "      <td>18.600000</td>\n",
       "      <td>1</td>\n",
       "      <td>11.000000</td>\n",
       "      <td>2</td>\n",
       "      <td>...</td>\n",
       "      <td>0</td>\n",
       "      <td>NaN</td>\n",
       "      <td>81.0</td>\n",
       "      <td>82920</td>\n",
       "      <td>1</td>\n",
       "      <td>12</td>\n",
       "      <td>2018</td>\n",
       "      <td>46</td>\n",
       "      <td>27</td>\n",
       "      <td>первый</td>\n",
       "    </tr>\n",
       "    <tr>\n",
       "      <td>2</td>\n",
       "      <td>5196000</td>\n",
       "      <td>56.00</td>\n",
       "      <td>2015-08-20</td>\n",
       "      <td>2</td>\n",
       "      <td>2.600</td>\n",
       "      <td>5</td>\n",
       "      <td>34.300000</td>\n",
       "      <td>4</td>\n",
       "      <td>8.300000</td>\n",
       "      <td>0</td>\n",
       "      <td>...</td>\n",
       "      <td>2</td>\n",
       "      <td>574.0</td>\n",
       "      <td>558.0</td>\n",
       "      <td>92785</td>\n",
       "      <td>3</td>\n",
       "      <td>8</td>\n",
       "      <td>2015</td>\n",
       "      <td>61</td>\n",
       "      <td>14</td>\n",
       "      <td>другой</td>\n",
       "    </tr>\n",
       "    <tr>\n",
       "      <td>3</td>\n",
       "      <td>64900000</td>\n",
       "      <td>159.00</td>\n",
       "      <td>2015-07-24</td>\n",
       "      <td>3</td>\n",
       "      <td>2.600</td>\n",
       "      <td>14</td>\n",
       "      <td>90.816648</td>\n",
       "      <td>9</td>\n",
       "      <td>27.836861</td>\n",
       "      <td>0</td>\n",
       "      <td>...</td>\n",
       "      <td>3</td>\n",
       "      <td>234.0</td>\n",
       "      <td>424.0</td>\n",
       "      <td>408176</td>\n",
       "      <td>4</td>\n",
       "      <td>7</td>\n",
       "      <td>2015</td>\n",
       "      <td>57</td>\n",
       "      <td>17</td>\n",
       "      <td>другой</td>\n",
       "    </tr>\n",
       "    <tr>\n",
       "      <td>4</td>\n",
       "      <td>10000000</td>\n",
       "      <td>100.00</td>\n",
       "      <td>2018-06-19</td>\n",
       "      <td>2</td>\n",
       "      <td>3.030</td>\n",
       "      <td>14</td>\n",
       "      <td>32.000000</td>\n",
       "      <td>13</td>\n",
       "      <td>41.000000</td>\n",
       "      <td>0</td>\n",
       "      <td>...</td>\n",
       "      <td>1</td>\n",
       "      <td>48.0</td>\n",
       "      <td>121.0</td>\n",
       "      <td>100000</td>\n",
       "      <td>1</td>\n",
       "      <td>6</td>\n",
       "      <td>2018</td>\n",
       "      <td>32</td>\n",
       "      <td>41</td>\n",
       "      <td>другой</td>\n",
       "    </tr>\n",
       "    <tr>\n",
       "      <td>5</td>\n",
       "      <td>2890000</td>\n",
       "      <td>30.40</td>\n",
       "      <td>2018-09-10</td>\n",
       "      <td>1</td>\n",
       "      <td>2.625</td>\n",
       "      <td>12</td>\n",
       "      <td>14.400000</td>\n",
       "      <td>5</td>\n",
       "      <td>9.100000</td>\n",
       "      <td>0</td>\n",
       "      <td>...</td>\n",
       "      <td>0</td>\n",
       "      <td>NaN</td>\n",
       "      <td>55.0</td>\n",
       "      <td>95065</td>\n",
       "      <td>0</td>\n",
       "      <td>9</td>\n",
       "      <td>2018</td>\n",
       "      <td>47</td>\n",
       "      <td>29</td>\n",
       "      <td>другой</td>\n",
       "    </tr>\n",
       "    <tr>\n",
       "      <td>6</td>\n",
       "      <td>3700000</td>\n",
       "      <td>37.30</td>\n",
       "      <td>2017-11-02</td>\n",
       "      <td>1</td>\n",
       "      <td>2.600</td>\n",
       "      <td>26</td>\n",
       "      <td>10.600000</td>\n",
       "      <td>6</td>\n",
       "      <td>14.400000</td>\n",
       "      <td>1</td>\n",
       "      <td>...</td>\n",
       "      <td>0</td>\n",
       "      <td>NaN</td>\n",
       "      <td>155.0</td>\n",
       "      <td>99195</td>\n",
       "      <td>3</td>\n",
       "      <td>11</td>\n",
       "      <td>2017</td>\n",
       "      <td>28</td>\n",
       "      <td>38</td>\n",
       "      <td>другой</td>\n",
       "    </tr>\n",
       "    <tr>\n",
       "      <td>7</td>\n",
       "      <td>7915000</td>\n",
       "      <td>71.60</td>\n",
       "      <td>2019-04-18</td>\n",
       "      <td>2</td>\n",
       "      <td>2.750</td>\n",
       "      <td>24</td>\n",
       "      <td>40.896050</td>\n",
       "      <td>22</td>\n",
       "      <td>18.900000</td>\n",
       "      <td>2</td>\n",
       "      <td>...</td>\n",
       "      <td>0</td>\n",
       "      <td>NaN</td>\n",
       "      <td>NaN</td>\n",
       "      <td>110544</td>\n",
       "      <td>3</td>\n",
       "      <td>4</td>\n",
       "      <td>2019</td>\n",
       "      <td>57</td>\n",
       "      <td>26</td>\n",
       "      <td>другой</td>\n",
       "    </tr>\n",
       "    <tr>\n",
       "      <td>8</td>\n",
       "      <td>2900000</td>\n",
       "      <td>33.16</td>\n",
       "      <td>2018-05-23</td>\n",
       "      <td>1</td>\n",
       "      <td>2.650</td>\n",
       "      <td>27</td>\n",
       "      <td>15.430000</td>\n",
       "      <td>26</td>\n",
       "      <td>8.810000</td>\n",
       "      <td>0</td>\n",
       "      <td>...</td>\n",
       "      <td>0</td>\n",
       "      <td>NaN</td>\n",
       "      <td>189.0</td>\n",
       "      <td>87454</td>\n",
       "      <td>2</td>\n",
       "      <td>5</td>\n",
       "      <td>2018</td>\n",
       "      <td>46</td>\n",
       "      <td>26</td>\n",
       "      <td>другой</td>\n",
       "    </tr>\n",
       "    <tr>\n",
       "      <td>9</td>\n",
       "      <td>5400000</td>\n",
       "      <td>61.00</td>\n",
       "      <td>2017-02-26</td>\n",
       "      <td>3</td>\n",
       "      <td>2.500</td>\n",
       "      <td>9</td>\n",
       "      <td>43.600000</td>\n",
       "      <td>7</td>\n",
       "      <td>6.500000</td>\n",
       "      <td>2</td>\n",
       "      <td>...</td>\n",
       "      <td>0</td>\n",
       "      <td>NaN</td>\n",
       "      <td>289.0</td>\n",
       "      <td>88524</td>\n",
       "      <td>6</td>\n",
       "      <td>2</td>\n",
       "      <td>2017</td>\n",
       "      <td>71</td>\n",
       "      <td>10</td>\n",
       "      <td>другой</td>\n",
       "    </tr>\n",
       "  </tbody>\n",
       "</table>\n",
       "<p>10 rows × 25 columns</p>\n",
       "</div>"
      ],
      "text/plain": [
       "   last_price  total_area first_day_exposition  rooms  ceiling_height  \\\n",
       "0    13000000      108.00           2019-03-07      3           2.700   \n",
       "1     3350000       40.40           2018-12-04      1           2.650   \n",
       "2     5196000       56.00           2015-08-20      2           2.600   \n",
       "3    64900000      159.00           2015-07-24      3           2.600   \n",
       "4    10000000      100.00           2018-06-19      2           3.030   \n",
       "5     2890000       30.40           2018-09-10      1           2.625   \n",
       "6     3700000       37.30           2017-11-02      1           2.600   \n",
       "7     7915000       71.60           2019-04-18      2           2.750   \n",
       "8     2900000       33.16           2018-05-23      1           2.650   \n",
       "9     5400000       61.00           2017-02-26      3           2.500   \n",
       "\n",
       "   floors_total  living_area  floor  kitchen_area  balcony  ...  \\\n",
       "0            16    51.000000      8     25.000000        0  ...   \n",
       "1            11    18.600000      1     11.000000        2  ...   \n",
       "2             5    34.300000      4      8.300000        0  ...   \n",
       "3            14    90.816648      9     27.836861        0  ...   \n",
       "4            14    32.000000     13     41.000000        0  ...   \n",
       "5            12    14.400000      5      9.100000        0  ...   \n",
       "6            26    10.600000      6     14.400000        1  ...   \n",
       "7            24    40.896050     22     18.900000        2  ...   \n",
       "8            27    15.430000     26      8.810000        0  ...   \n",
       "9             9    43.600000      7      6.500000        2  ...   \n",
       "\n",
       "  ponds_around3000  ponds_nearest  days_exposition  sm_price  weekday  month  \\\n",
       "0                2          755.0              NaN    120370        3      3   \n",
       "1                0            NaN             81.0     82920        1     12   \n",
       "2                2          574.0            558.0     92785        3      8   \n",
       "3                3          234.0            424.0    408176        4      7   \n",
       "4                1           48.0            121.0    100000        1      6   \n",
       "5                0            NaN             55.0     95065        0      9   \n",
       "6                0            NaN            155.0     99195        3     11   \n",
       "7                0            NaN              NaN    110544        3      4   \n",
       "8                0            NaN            189.0     87454        2      5   \n",
       "9                0            NaN            289.0     88524        6      2   \n",
       "\n",
       "   year  area_ratio  kitchen_ratio  floor_type  \n",
       "0  2019          47             23      другой  \n",
       "1  2018          46             27      первый  \n",
       "2  2015          61             14      другой  \n",
       "3  2015          57             17      другой  \n",
       "4  2018          32             41      другой  \n",
       "5  2018          47             29      другой  \n",
       "6  2017          28             38      другой  \n",
       "7  2019          57             26      другой  \n",
       "8  2018          46             26      другой  \n",
       "9  2017          71             10      другой  \n",
       "\n",
       "[10 rows x 25 columns]"
      ]
     },
     "execution_count": 4,
     "metadata": {},
     "output_type": "execute_result"
    }
   ],
   "source": [
    "# Добавляем столбец со стоимостью квадратного метра (sm_price) и приводим его в целочисленный тип\n",
    "data['sm_price'] = data['last_price'] / data['total_area']\n",
    "data['sm_price'] = data['sm_price'].astype(int)\n",
    "\n",
    "# Добавляем столбцы дня недели, месяца и года\n",
    "data['weekday'] = data['first_day_exposition'].dt.weekday\n",
    "data['month'] = data['first_day_exposition'].dt.month\n",
    "data['year'] = data['first_day_exposition'].dt.year\n",
    "# Добавляем столбец с отношением жилой площади к общей (area_ratio), переводим в % и приводим его в целочисленный тип\n",
    "data['area_ratio'] = data['living_area'] / data['total_area'] * 100\n",
    "data['area_ratio'] = data['area_ratio'].fillna(value=0).astype(int)\n",
    "# Добавляем столбец с отношением площади кухни к общей (kitchen_ratio), переводим в % и приводим его в целочисленный тип\n",
    "data['kitchen_ratio'] = data['kitchen_area'] / data['total_area'] * 100\n",
    "data['kitchen_ratio'] = data['kitchen_ratio'].fillna(value=0).astype(int)\n",
    "# Создаём функцию для заполнения нового столбца с типом этажа\n",
    "def floor_group(row):\n",
    "    if row['floor'] == 1:\n",
    "        return 'первый'\n",
    "    elif row['floor'] == row['floors_total']:\n",
    "        return 'последний'\n",
    "    else:\n",
    "        return 'другой'\n",
    "data['floor_type'] = data.apply(floor_group, axis=1)\n",
    "data.drop(['is_apartment'], axis='columns', inplace=True)#в процессе работы над проектом мы не будем использовать \n",
    "                                                         #столбец is_apartment.Его можно удалитьть\n",
    "data.drop(['total_images'], axis='columns', inplace=True)# Также можно избавиться от столбцов \n",
    "data.drop(['studio'], axis='columns', inplace=True)#total_images, studio и open_plan  \n",
    "data.drop(['open_plan'], axis='columns', inplace=True)#в дальнейшей работе они нам не понадобятся.\n",
    "data.head(10)"
   ]
  },
  {
   "cell_type": "markdown",
   "metadata": {},
   "source": [
    "## Исследовательский анализ данных"
   ]
  },
  {
   "cell_type": "code",
   "execution_count": 5,
   "metadata": {
    "scrolled": true
   },
   "outputs": [
    {
     "data": {
      "image/png": "[encoded data removed]",
      "text/plain": [
       "<Figure size 432x288 with 1 Axes>"
      ]
     },
     "metadata": {
      "needs_background": "light"
     },
     "output_type": "display_data"
    },
    {
     "data": {
      "image/png": "[encoded data removed]",
      "text/plain": [
       "<Figure size 432x288 with 1 Axes>"
      ]
     },
     "metadata": {
      "needs_background": "light"
     },
     "output_type": "display_data"
    }
   ],
   "source": [
    "plt.hist(data['total_area'], bins=30, range=(10,200))#Посмотрим, как выглядят диаграммы размаха для изученных данных \n",
    "                               #и избавимся от выбросов\n",
    "plt.title('Площадь квартир')\n",
    "plt.xlabel('Квадратные метры')\n",
    "plt.ylabel('Количество квартир')\n",
    "plt.show()\n",
    "data.boxplot('total_area')\n",
    "plt.ylim(-50, 200)\n",
    "plt.show() #Разброс нормальных значений начинается около 15 кв.м изаканчивается у 120 кв.м. \n",
    "data = data.query('total_area>=15 and total_area<=120')#Избавимся от всех выбивающихся значений. \n",
    "\n",
    "\n"
   ]
  },
  {
   "cell_type": "markdown",
   "metadata": {},
   "source": [
    "ВЫВОД:Гистограмма по столбцу total_area выглядит правдоподобно - квартир площадью менее 20 кв.м \n",
    "                                 почти нет, большая доля квартир имеет площадь 30-60 кв.м, также видим \n",
    "                                 мощный пик у значения 45 кв.м. \n",
    "                                 После значения 100 кв.м число квартир стремительно убывает"
   ]
  },
  {
   "cell_type": "code",
   "execution_count": 6,
   "metadata": {},
   "outputs": [
    {
     "data": {
      "image/png": "[encoded data removed]",
      "text/plain": [
       "<Figure size 432x288 with 1 Axes>"
      ]
     },
     "metadata": {
      "needs_background": "light"
     },
     "output_type": "display_data"
    },
    {
     "data": {
      "image/png": "[encoded data removed]",
      "text/plain": [
       "<Figure size 432x288 with 1 Axes>"
      ]
     },
     "metadata": {
      "needs_background": "light"
     },
     "output_type": "display_data"
    }
   ],
   "source": [
    "plt.hist(data['last_price'], bins=30, range=(0,20000000))\n",
    "plt.title('Стоимость квартир')\n",
    "plt.xlabel('Стоимость')\n",
    "plt.ylabel('Количество квартир')\n",
    "plt.show()#цена..\n",
    "plt.show()    \n",
    "data.boxplot('last_price')#Нормальные значения находятся в интервале от нуля до 11 млн. Оставим только их.\n",
    "plt.ylim(-500000, 15000000)\n",
    "plt.show()\n",
    "data = data.query('last_price>10000 and last_price<=11000000')\n",
    "\n"
   ]
  },
  {
   "cell_type": "markdown",
   "metadata": {},
   "source": [
    "ВЫВОД:График принимает ожидаемый вид. Можем отметить пик у значения цены 3 млн. Квартир,\n",
    "дороже 10 млн, гораздо меньше.В основном стоимость квартир - порядка 5 миллионов. Больше 20 миллионов вариантов мало. "
   ]
  },
  {
   "cell_type": "code",
   "execution_count": 73,
   "metadata": {},
   "outputs": [
    {
     "data": {
      "image/png": "[encoded data removed]",
      "text/plain": [
       "<Figure size 432x288 with 1 Axes>"
      ]
     },
     "metadata": {
      "needs_background": "light"
     },
     "output_type": "display_data"
    },
    {
     "data": {
      "image/png": "[encoded data removed]",
      "text/plain": [
       "<Figure size 432x288 with 1 Axes>"
      ]
     },
     "metadata": {
      "needs_background": "light"
     },
     "output_type": "display_data"
    }
   ],
   "source": [
    "plt.hist(data['rooms'], bins=7, range=(1,7))\n",
    "plt.title('Комнаты')\n",
    "plt.xlabel('Количество комнат')\n",
    "plt.ylabel('Количество квартир')#Количество комнат. \n",
    "plt.show()    \n",
    "data.boxplot('rooms')\n",
    "plt.ylim(-1, 10)\n",
    "plt.show() \n",
    "\n",
    "data = data.query('rooms>=0 and rooms <7')#Нормальные значения - от 0 до 6, оставим только их.\n"
   ]
  },
  {
   "cell_type": "markdown",
   "metadata": {},
   "source": [
    "ВЫВОД:В основном квартиры состоят из 1, 2 и 3 комнат. Есть небольшая доля 4 и 5-комнатных квартир. "
   ]
  },
  {
   "cell_type": "code",
   "execution_count": 7,
   "metadata": {},
   "outputs": [
    {
     "data": {
      "image/png": "[encoded data removed]",
      "text/plain": [
       "<Figure size 432x288 with 1 Axes>"
      ]
     },
     "metadata": {
      "needs_background": "light"
     },
     "output_type": "display_data"
    },
    {
     "data": {
      "image/png": "[encoded data removed]",
      "text/plain": [
       "<Figure size 432x288 with 1 Axes>"
      ]
     },
     "metadata": {
      "needs_background": "light"
     },
     "output_type": "display_data"
    }
   ],
   "source": [
    "plt.hist(data.query('(ceiling_height > 2) & (ceiling_height < 4)')['ceiling_height'], bins=20)\n",
    "plt.title('Высота потолков')#высота потолков.\n",
    "plt.xlabel('Метры')\n",
    "plt.ylabel('Количество квартир')\n",
    "plt.show()\n",
    "data.boxplot('ceiling_height')\n",
    "plt.ylim(2, 4)\n",
    "data = data.query('ceiling_height>=2.2 and ceiling_height <=3')#Избавимся от всех значений, меньших 2.2 и больших 3.\n",
    "plt.show()\n",
    "\n"
   ]
  },
  {
   "cell_type": "markdown",
   "metadata": {},
   "source": [
    "ВЫВОД:У большей части квартир высота потолков 2.5-2.7 м."
   ]
  },
  {
   "cell_type": "code",
   "execution_count": 8,
   "metadata": {},
   "outputs": [
    {
     "name": "stdout",
     "output_type": "stream",
     "text": [
      "Время продажи (медиана): 89 \n",
      "\n",
      "Время продажи (среднее): 169 \n",
      "\n"
     ]
    },
    {
     "data": {
      "image/png": "[encoded data removed]",
      "text/plain": [
       "<Figure size 432x288 with 1 Axes>"
      ]
     },
     "metadata": {
      "needs_background": "light"
     },
     "output_type": "display_data"
    },
    {
     "data": {
      "text/plain": [
       "count    17753.000000\n",
       "mean       168.905537\n",
       "std        206.990721\n",
       "min          1.000000\n",
       "25%         43.000000\n",
       "50%         89.000000\n",
       "75%        213.000000\n",
       "max       1580.000000\n",
       "Name: days_exposition, dtype: float64"
      ]
     },
     "execution_count": 8,
     "metadata": {},
     "output_type": "execute_result"
    }
   ],
   "source": [
    "# Устанавливаем маркер 9999 для пропусков в сроке продажи и приводим к целочисленному типу\n",
    "data['days_exposition'].fillna(9999, inplace=True)\n",
    "data['days_exposition'] = data['days_exposition'].astype(int)\n",
    "data['days_exposition'] = data['days_exposition'].astype(int)\n",
    "\n",
    "\n",
    "# Отбрасываем маркеры пустых значений\n",
    "print('Время продажи (медиана):', round(data.query('days_exposition != 9999')['days_exposition'].median()),'\\n')\n",
    "print('Время продажи (среднее):', round(data.query('days_exposition != 9999')['days_exposition'].mean()),'\\n')\n",
    "\n",
    "plt.hist(data.query('days_exposition != 9999')['days_exposition'], bins=100, range=(0,1600))# Гистограма времени продажи\n",
    "plt.title('Время продажи')\n",
    "plt.xlabel('Дни')\n",
    "plt.ylabel('Количество квартир')\n",
    "plt.show()\n",
    "\n",
    "# Изучаем значения срока продажи\n",
    "data.query('days_exposition != 9999')['days_exposition'].describe()\n",
    "\n"
   ]
  },
  {
   "cell_type": "markdown",
   "metadata": {},
   "source": [
    "ВЫВОД:Медианное время продажи - 89 дней. Среднее время продажи - 169 дней.\n",
    "В основном квартиры продаются за срок в 100 дней. Есть большое число квартир, проданных всего за несколько дней после публикации. А также есть варианты, которые продавались несколько десятков месяцев.\n",
    "Быстрой продажей можно назвать срок в 43 дня и меньше. Долгой продажей - 213 дней  и дольше."
   ]
  },
  {
   "cell_type": "code",
   "execution_count": 9,
   "metadata": {},
   "outputs": [
    {
     "data": {
      "image/png": "[encoded data removed]",
      "text/plain": [
       "<Figure size 432x288 with 1 Axes>"
      ]
     },
     "metadata": {
      "needs_background": "light"
     },
     "output_type": "display_data"
    },
    {
     "data": {
      "image/png": "[encoded data removed]",
      "text/plain": [
       "<Figure size 432x288 with 1 Axes>"
      ]
     },
     "metadata": {
      "needs_background": "light"
     },
     "output_type": "display_data"
    }
   ],
   "source": [
    "# Изучим, какие факторы больше всего влияют на стоимость квартиры. Зависит ли цена квадратного метра от числа комнат и удалённости от центра? Также изучим зависимость цены от того, на каком этаже расположена квартира: первом, последнем или другом.\n",
    "def draw_plot(data, y, x):\n",
    "    data.plot(y=y, x=x, kind='scatter', alpha=0.05)\n",
    "index = data.index \n",
    "price_rooms_area_corr = data.pivot_table(index=index, values=['total_area','rooms', 'sm_price'], aggfunc='mean')\n",
    "price_rooms_area_corr.corr()\n",
    "draw_plot(price_rooms_area_corr, 'sm_price', 'rooms')\n",
    "draw_plot(price_rooms_area_corr, 'sm_price', 'total_area')\n",
    "\n",
    "\n",
    "\n"
   ]
  },
  {
   "cell_type": "markdown",
   "metadata": {},
   "source": [
    "ВЫВОД:Видим, что стоимость средне зависит от общей площади, и в меньшей степени от количества комнат. Как наблюдение - больше всего в таблице зависимость между количеством комнат и площадью, что достаточно логично.\n",
    "Тем не менее, с увеличением количества комнат цена за кв.м падает. А если рассматриваем общую площадь, то стоимость за квадратный метр падает с каждым метром при увеличении площади после 60 кв.м\n",
    "#Зависимость от удаления от центра"
   ]
  },
  {
   "cell_type": "code",
   "execution_count": 10,
   "metadata": {},
   "outputs": [
    {
     "data": {
      "text/plain": [
       "-0.3942752140793194"
      ]
     },
     "execution_count": 10,
     "metadata": {},
     "output_type": "execute_result"
    }
   ],
   "source": [
    "# Зависимость цены от удалённости от центра\n",
    "distance_from_center = data.query('cityCenters_nearest != -1')\n",
    "distance_from_center['sm_price'].corr(distance_from_center['cityCenters_nearest'])"
   ]
  },
  {
   "cell_type": "markdown",
   "metadata": {},
   "source": [
    "ВЫВОД:Коэффициент корреляции отрицательный. Это значит, что увеличение расстояния от центра связано с уменьшением стоимости квартиры, что подтверждается на графике."
   ]
  },
  {
   "cell_type": "code",
   "execution_count": 11,
   "metadata": {},
   "outputs": [
    {
     "data": {
      "image/png": "[encoded data removed]",
      "text/plain": [
       "<Figure size 360x360 with 1 Axes>"
      ]
     },
     "metadata": {
      "needs_background": "light"
     },
     "output_type": "display_data"
    }
   ],
   "source": [
    "#Посмотрим на взаимосвязь стоимости квартиры и этажа, на котором она расположена.\n",
    "# Зависимость цены от этажа\n",
    "\n",
    "(\n",
    "    data.pivot_table(index='floor_type', values='last_price', aggfunc='median')\n",
    "    .plot(grid=True, style='o-', figsize=(5, 5))\n",
    ")\n",
    "plt.show()\n"
   ]
  },
  {
   "cell_type": "code",
   "execution_count": 59,
   "metadata": {},
   "outputs": [
    {
     "name": "stdout",
     "output_type": "stream",
     "text": [
      "             month  sm_price   weekday      year\n",
      "month     1.000000 -0.002316  0.009718 -0.268930\n",
      "sm_price -0.002316  1.000000 -0.007478  0.076405\n",
      "weekday   0.009718 -0.007478  1.000000 -0.001840\n",
      "year     -0.268930  0.076405 -0.001840  1.000000\n"
     ]
    },
    {
     "data": {
      "text/plain": [
       "array([[<matplotlib.axes._subplots.AxesSubplot object at 0x7f823ec53450>,\n",
       "        <matplotlib.axes._subplots.AxesSubplot object at 0x7f823de32ad0>,\n",
       "        <matplotlib.axes._subplots.AxesSubplot object at 0x7f822ff8dc50>,\n",
       "        <matplotlib.axes._subplots.AxesSubplot object at 0x7f823405ca90>],\n",
       "       [<matplotlib.axes._subplots.AxesSubplot object at 0x7f8234221d90>,\n",
       "        <matplotlib.axes._subplots.AxesSubplot object at 0x7f823e3a9ad0>,\n",
       "        <matplotlib.axes._subplots.AxesSubplot object at 0x7f82340b3dd0>,\n",
       "        <matplotlib.axes._subplots.AxesSubplot object at 0x7f8234100b10>],\n",
       "       [<matplotlib.axes._subplots.AxesSubplot object at 0x7f82340fd690>,\n",
       "        <matplotlib.axes._subplots.AxesSubplot object at 0x7f823415dfd0>,\n",
       "        <matplotlib.axes._subplots.AxesSubplot object at 0x7f8234082e50>,\n",
       "        <matplotlib.axes._subplots.AxesSubplot object at 0x7f822f93eb90>],\n",
       "       [<matplotlib.axes._subplots.AxesSubplot object at 0x7f822ff45e90>,\n",
       "        <matplotlib.axes._subplots.AxesSubplot object at 0x7f822ff05bd0>,\n",
       "        <matplotlib.axes._subplots.AxesSubplot object at 0x7f822ff3aed0>,\n",
       "        <matplotlib.axes._subplots.AxesSubplot object at 0x7f822fefbcd0>]],\n",
       "      dtype=object)"
      ]
     },
     "execution_count": 59,
     "metadata": {},
     "output_type": "execute_result"
    },
    {
     "data": {
      "image/png": "[encoded data removed]",
      "text/plain": [
       "<Figure size 720x720 with 16 Axes>"
      ]
     },
     "metadata": {
      "needs_background": "light"
     },
     "output_type": "display_data"
    }
   ],
   "source": [
    "#Посмотрим на взаимосвязь стоимости и времени размещения объявления: дня недели, месяца и года.\n",
    "exposition_date = data.pivot_table(index=index, values=['weekday', 'month', 'year', 'sm_price'], aggfunc='mean')\n",
    "print(exposition_date.corr())\n",
    "pd.plotting.scatter_matrix(exposition_date, figsize=(10, 10), alpha=0.03)\n"
   ]
  },
  {
   "cell_type": "markdown",
   "metadata": {},
   "source": [
    "ВЫВОД:При взгляде на коэффициент корреляции год, день недели и месяц размещения практически не связаны со стоимостью квартир. Однако, связь здесь может быть нелинейной, поэтому взглянем на графики зависимости.\n",
    "Дешевле всего квадратный метр стоит в объявлениях, размещенных на выходных.\n",
    "Квартиры, выставленные на продажу зимой, в декабре и январе, дороже всего. Дешевле всего - в мае.\n",
    "Можем отметить тенденцию роста цен от года к году, однако дороже всего квартиры стоили в 2018."
   ]
  },
  {
   "cell_type": "code",
   "execution_count": 12,
   "metadata": {},
   "outputs": [
    {
     "name": "stdout",
     "output_type": "stream",
     "text": [
      "                   count  mean_sm_price\n",
      "locality_name                          \n",
      "Санкт-Петербург    12494  104763.150392\n",
      "посёлок Мурино       518   85645.445946\n",
      "посёлок Шушары       437   78516.693364\n",
      "Всеволожск           389   67215.136247\n",
      "посёлок Парголово    326   90331.840491\n",
      "Колпино              325   75260.267692\n",
      "Пушкин               321  100071.467290\n",
      "деревня Кудрово      298   92409.265101\n",
      "Гатчина              297   68558.178451\n",
      "Выборг               202   57657.524752\n"
     ]
    },
    {
     "data": {
      "image/png": "[encoded data removed]",
      "text/plain": [
       "<Figure size 504x504 with 1 Axes>"
      ]
     },
     "metadata": {},
     "output_type": "display_data"
    },
    {
     "data": {
      "image/png": "[encoded data removed]",
      "text/plain": [
       "<Figure size 720x360 with 1 Axes>"
      ]
     },
     "metadata": {
      "needs_background": "light"
     },
     "output_type": "display_data"
    }
   ],
   "source": [
    "#Выберем 10 населённых пунктов с наибольшим числом объявлений. Посчитем среднюю цену квадратного метра в этих населённых пунктах. Выделим населённые пункты с самой высокой и низкой стоимостью жилья.\n",
    "# Сравниваем среднюю стоимость квадратного метра в топ-10 городов по числу объявлений\n",
    "locality_sm_price = data.loc[:, ['locality_name', 'sm_price']]\n",
    "locality_sm_price = locality_sm_price.pivot_table(index='locality_name', values='sm_price', aggfunc=['count', 'mean'])\n",
    "locality_sm_price.columns = ['count', 'mean_sm_price']\n",
    "top10_locality = locality_sm_price.sort_values(by='count', ascending=False).head(10)\n",
    "top10_locality.plot(y='count', kind='pie', figsize=(7, 7))\n",
    "print(top10_locality)\n",
    "\n",
    "\n",
    "\n",
    "# Добавляем столбец с расстоянием до центра в км, округляем до целого\n",
    "data['center_km'] = data['cityCenters_nearest'] / 1000\n",
    "data['center_km'] = data['center_km'].fillna(value=0).astype(int)\n",
    "# Выбираем Санкт-Петербург, смотрим на график, где указана средняя стоимость для каждого км\n",
    "(\n",
    "    data.query('locality_name == \"Санкт-Петербург\"')\n",
    "    .pivot_table(index='center_km', values='last_price')\n",
    "    .plot(grid=True, style='o-', xlim=(0,15), figsize=(10, 5))\n",
    ")\n",
    "plt.show()\n",
    "\n",
    "spb_center = data.query('(locality_name == \"Санкт-Петербург\") & (center_km <= 7)')\n",
    "\n"
   ]
  },
  {
   "cell_type": "markdown",
   "metadata": {},
   "source": [
    "ВЫВОД:Дороже всего кадратный метр стоит в Санкт-Петербурге и в Пушкине.Из топ-10 наименьшая стоимость в Гатчине и Всеволожске, из которых далеко ехать до Санкт-Петербурга, а также неболшой по численности населения Выборг, расположенный на большом расстоянии от Санкт-Петербурга.\n",
    "Центральная зона - это 7 км и меньше. Дальше 7 км средняя цена на квартиры резко снижается."
   ]
  },
  {
   "cell_type": "code",
   "execution_count": 14,
   "metadata": {},
   "outputs": [
    {
     "name": "stdout",
     "output_type": "stream",
     "text": [
      "Площадь (медиана): 49 \n",
      "\n",
      "Площадь в центре (медиана): 59 \n",
      "\n",
      "Площадь (среднее): 53 \n",
      "\n",
      "Площадь в центре (среднее): 61 \n",
      "\n"
     ]
    },
    {
     "data": {
      "image/png": "[encoded data removed]",
      "text/plain": [
       "<Figure size 720x720 with 1 Axes>"
      ]
     },
     "metadata": {
      "needs_background": "light"
     },
     "output_type": "display_data"
    },
    {
     "name": "stdout",
     "output_type": "stream",
     "text": [
      "Число вариантов с ценой больше 20 млн: 0\n"
     ]
    },
    {
     "data": {
      "image/png": "[encoded data removed]",
      "text/plain": [
       "<Figure size 432x288 with 1 Axes>"
      ]
     },
     "metadata": {
      "needs_background": "light"
     },
     "output_type": "display_data"
    }
   ],
   "source": [
    "# Изучаем площадь\n",
    "print('Площадь (медиана):', round(data.query('locality_name == \"Санкт-Петербург\"')['total_area'].median()),'\\n')\n",
    "print('Площадь в центре (медиана):', round(spb_center['total_area'].median()),'\\n')\n",
    "print('Площадь (среднее):', round(data.query('locality_name == \"Санкт-Петербург\"')['total_area'].mean()),'\\n')\n",
    "print('Площадь в центре (среднее):', round(spb_center['total_area'].mean()),'\\n')\n",
    "spb_center['total_area'].hist(bins=30, range=(25,300), figsize=(10,10))\n",
    "plt.title('Площадь квартир')\n",
    "plt.xlabel('Квадратные метры')\n",
    "plt.ylabel('Количество квартир')\n",
    "plt.show()\n",
    "# Работаем со стоимостью\n",
    "spb_center['last_price'].hist(bins=100)\n",
    "print('Число вариантов с ценой больше 20 млн:', spb_center.query('last_price > 20000000')['last_price'].count())\n",
    "plt.show()\n",
    "\n"
   ]
  },
  {
   "cell_type": "code",
   "execution_count": 81,
   "metadata": {},
   "outputs": [
    {
     "data": {
      "text/html": [
       "<div>\n",
       "<style scoped>\n",
       "    .dataframe tbody tr th:only-of-type {\n",
       "        vertical-align: middle;\n",
       "    }\n",
       "\n",
       "    .dataframe tbody tr th {\n",
       "        vertical-align: top;\n",
       "    }\n",
       "\n",
       "    .dataframe thead th {\n",
       "        text-align: right;\n",
       "    }\n",
       "</style>\n",
       "<table border=\"1\" class=\"dataframe\">\n",
       "  <thead>\n",
       "    <tr style=\"text-align: right;\">\n",
       "      <th></th>\n",
       "      <th>count</th>\n",
       "      <th>rooms_ratio</th>\n",
       "      <th>center_count</th>\n",
       "      <th>center_rooms_ratio</th>\n",
       "      <th>center_cap</th>\n",
       "    </tr>\n",
       "    <tr>\n",
       "      <th>rooms</th>\n",
       "      <th></th>\n",
       "      <th></th>\n",
       "      <th></th>\n",
       "      <th></th>\n",
       "      <th></th>\n",
       "    </tr>\n",
       "  </thead>\n",
       "  <tbody>\n",
       "    <tr>\n",
       "      <td>1</td>\n",
       "      <td>4721</td>\n",
       "      <td>38.091012</td>\n",
       "      <td>457</td>\n",
       "      <td>28.071253</td>\n",
       "      <td>10.0</td>\n",
       "    </tr>\n",
       "    <tr>\n",
       "      <td>2</td>\n",
       "      <td>4340</td>\n",
       "      <td>35.016944</td>\n",
       "      <td>614</td>\n",
       "      <td>37.714988</td>\n",
       "      <td>14.0</td>\n",
       "    </tr>\n",
       "    <tr>\n",
       "      <td>3</td>\n",
       "      <td>2871</td>\n",
       "      <td>23.164434</td>\n",
       "      <td>435</td>\n",
       "      <td>26.719902</td>\n",
       "      <td>15.0</td>\n",
       "    </tr>\n",
       "    <tr>\n",
       "      <td>4</td>\n",
       "      <td>423</td>\n",
       "      <td>3.412942</td>\n",
       "      <td>105</td>\n",
       "      <td>6.449631</td>\n",
       "      <td>25.0</td>\n",
       "    </tr>\n",
       "    <tr>\n",
       "      <td>5</td>\n",
       "      <td>36</td>\n",
       "      <td>0.290463</td>\n",
       "      <td>16</td>\n",
       "      <td>0.982801</td>\n",
       "      <td>44.0</td>\n",
       "    </tr>\n",
       "    <tr>\n",
       "      <td>6</td>\n",
       "      <td>3</td>\n",
       "      <td>0.024205</td>\n",
       "      <td>1</td>\n",
       "      <td>0.061425</td>\n",
       "      <td>33.0</td>\n",
       "    </tr>\n",
       "  </tbody>\n",
       "</table>\n",
       "</div>"
      ],
      "text/plain": [
       "       count  rooms_ratio  center_count  center_rooms_ratio  center_cap\n",
       "rooms                                                                  \n",
       "1       4721    38.091012           457           28.071253        10.0\n",
       "2       4340    35.016944           614           37.714988        14.0\n",
       "3       2871    23.164434           435           26.719902        15.0\n",
       "4        423     3.412942           105            6.449631        25.0\n",
       "5         36     0.290463            16            0.982801        44.0\n",
       "6          3     0.024205             1            0.061425        33.0"
      ]
     },
     "metadata": {},
     "output_type": "display_data"
    }
   ],
   "source": [
    "\n",
    "\n",
    "# Изучаем число комнат\n",
    "spb_rooms = data.query('(locality_name == \"Санкт-Петербург\") & (rooms > 0)').pivot_table(index='rooms', values='floor', aggfunc='count')\n",
    "spb_rooms.columns = ['count']\n",
    "spb_rooms['rooms_ratio'] = spb_rooms['count'] / spb_rooms['count'].sum() * 100\n",
    "spb_rooms_center = data.query('(locality_name == \"Санкт-Петербург\") & (center_km <= 7)  & (rooms > 0)').pivot_table(index='rooms', values='floor', aggfunc='count')\n",
    "spb_rooms_center.columns = ['center_count']\n",
    "spb_rooms_center['center_rooms_ratio'] = spb_rooms_center['center_count'] / spb_rooms_center['center_count'].sum() * 100\n",
    "rooms_alldata = pd.merge(spb_rooms, spb_rooms_center, 'left', on = 'rooms')\n",
    "rooms_alldata['center_cap'] = round(rooms_alldata['center_count'] / rooms_alldata['count'] * 100)\n",
    "display(rooms_alldata)\n",
    "\n"
   ]
  },
  {
   "cell_type": "code",
   "execution_count": 65,
   "metadata": {},
   "outputs": [
    {
     "name": "stdout",
     "output_type": "stream",
     "text": [
      "Высота потолков (медиана): 2.65 \n",
      "\n",
      "Высота потолков в центре (медиана): 2.75 \n",
      "\n",
      "Высота потолков (среднее): 2.661294621418281 \n",
      "\n",
      "Высота потолков в центре (среднее): 2.764301403294692 \n",
      "\n"
     ]
    },
    {
     "data": {
      "image/png": "[encoded data removed]",
      "text/plain": [
       "<Figure size 360x360 with 1 Axes>"
      ]
     },
     "metadata": {
      "needs_background": "light"
     },
     "output_type": "display_data"
    },
    {
     "name": "stdout",
     "output_type": "stream",
     "text": [
      "Корреляция цены и числа комнат: \n",
      "\n",
      "            last_price     rooms\n",
      "last_price    1.000000  0.246389\n",
      "rooms         0.246389  1.000000 \n",
      "\n"
     ]
    }
   ],
   "source": [
    "# Изучаем высоту потолков\n",
    "print('Высота потолков (медиана):', data.query('locality_name == \"Санкт-Петербург\"')['ceiling_height'].median(),'\\n')\n",
    "print('Высота потолков в центре (медиана):', spb_center['ceiling_height'].median(),'\\n')\n",
    "print('Высота потолков (среднее):', data.query('locality_name == \"Санкт-Петербург\"')['ceiling_height'].mean(),'\\n')\n",
    "print('Высота потолков в центре (среднее):', spb_center['ceiling_height'].mean(),'\\n')\n",
    "(\n",
    "    spb_center.query('(rooms > 0) & (rooms < 7)').pivot_table(index='rooms', values='last_price')\n",
    "    .plot(grid=True, style='o-', figsize=(5, 5))\n",
    ")\n",
    "plt.show()\n",
    "print('Корреляция цены и числа комнат:','\\n')\n",
    "print(spb_center.query('(rooms > 0) & (rooms < 7)').pivot_table(index='floor', values=['rooms', 'last_price']).corr(),'\\n')\n",
    "# Зависимость цены от числа комнат\n"
   ]
  },
  {
   "cell_type": "code",
   "execution_count": 82,
   "metadata": {},
   "outputs": [
    {
     "data": {
      "image/png": "[encoded data removed]",
      "text/plain": [
       "<Figure size 360x360 with 1 Axes>"
      ]
     },
     "metadata": {
      "needs_background": "light"
     },
     "output_type": "display_data"
    },
    {
     "data": {
      "image/png": "[encoded data removed]",
      "text/plain": [
       "<Figure size 360x360 with 1 Axes>"
      ]
     },
     "metadata": {
      "needs_background": "light"
     },
     "output_type": "display_data"
    },
    {
     "name": "stdout",
     "output_type": "stream",
     "text": [
      "Корреляция цены и удалённости от центра: \n",
      "\n",
      "                     cityCenters_nearest  last_price\n",
      "cityCenters_nearest             1.000000    0.314025\n",
      "last_price                      0.314025    1.000000 \n",
      "\n"
     ]
    }
   ],
   "source": [
    "\n",
    "\n",
    "# Зависимость цены от этажа\n",
    "(\n",
    "    spb_center.pivot_table(index='floor_type', values='last_price', aggfunc='median')\n",
    "    .plot(grid=True, style='o-', figsize=(5, 5))\n",
    ")\n",
    "plt.show()\n",
    "\n",
    "# Зависимость цены от удалённости от центра\n",
    "(\n",
    "    spb_center.pivot_table(index='cityCenters_nearest', values='last_price', aggfunc='median')\n",
    "    .plot(grid=True, style='o', figsize=(5, 5))\n",
    ")\n",
    "plt.show()\n",
    "print('Корреляция цены и удалённости от центра:','\\n')\n",
    "print(spb_center.pivot_table(index='floor', values=['cityCenters_nearest', 'last_price']).corr(),'\\n')\n"
   ]
  },
  {
   "cell_type": "code",
   "execution_count": 83,
   "metadata": {},
   "outputs": [
    {
     "data": {
      "image/png": "[encoded data removed]",
      "text/plain": [
       "<Figure size 360x360 with 1 Axes>"
      ]
     },
     "metadata": {
      "needs_background": "light"
     },
     "output_type": "display_data"
    },
    {
     "name": "stdout",
     "output_type": "stream",
     "text": [
      "Корреляция цены за квадрат и площади: \n",
      "\n",
      "            sm_price  total_area\n",
      "sm_price    1.000000   -0.575883\n",
      "total_area -0.575883    1.000000 \n",
      "\n"
     ]
    },
    {
     "data": {
      "image/png": "[encoded data removed]",
      "text/plain": [
       "<Figure size 360x360 with 1 Axes>"
      ]
     },
     "metadata": {
      "needs_background": "light"
     },
     "output_type": "display_data"
    },
    {
     "name": "stdout",
     "output_type": "stream",
     "text": [
      "Корреляция цены за квадрат и числа комнат: \n",
      "\n",
      "             rooms  sm_price\n",
      "rooms     1.000000 -0.730687\n",
      "sm_price -0.730687  1.000000 \n",
      "\n"
     ]
    }
   ],
   "source": [
    "# Зависимость цены за квадрат от площади\n",
    "(\n",
    "    spb_center.pivot_table(index='total_area', values='sm_price')\n",
    "    .plot(grid=True, style='o', figsize=(5, 5))\n",
    ")\n",
    "plt.show()\n",
    "print('Корреляция цены за квадрат и площади:','\\n')\n",
    "print(spb_center.pivot_table(index='floor', values=['total_area', 'sm_price']).corr(),'\\n')\n",
    "\n",
    "# Зависимость цены за квадрат от числа комнат\n",
    "(\n",
    "    spb_center.query('rooms > 0').pivot_table(index='rooms', values='sm_price')\n",
    "    .plot(grid=True, style='o-', figsize=(5, 5))\n",
    ")\n",
    "plt.show()\n",
    "print('Корреляция цены за квадрат и числа комнат:','\\n')\n",
    "print(spb_center.query('rooms > 0').pivot_table(index='floor', values=['rooms', 'sm_price']).corr(),'\\n')\n"
   ]
  },
  {
   "cell_type": "code",
   "execution_count": 67,
   "metadata": {},
   "outputs": [
    {
     "data": {
      "image/png": "[encoded data removed]",
      "text/plain": [
       "<Figure size 360x360 with 1 Axes>"
      ]
     },
     "metadata": {
      "needs_background": "light"
     },
     "output_type": "display_data"
    },
    {
     "data": {
      "image/png": "[encoded data removed]",
      "text/plain": [
       "<Figure size 720x360 with 1 Axes>"
      ]
     },
     "metadata": {
      "needs_background": "light"
     },
     "output_type": "display_data"
    },
    {
     "data": {
      "image/png": "[encoded data removed]",
      "text/plain": [
       "<Figure size 360x360 with 1 Axes>"
      ]
     },
     "metadata": {
      "needs_background": "light"
     },
     "output_type": "display_data"
    }
   ],
   "source": [
    "# Зависимость от дня размещения\n",
    "(\n",
    "    spb_center.pivot_table(index='weekday', values='last_price')\n",
    "    .plot(grid=True, style='o-', figsize=(5, 5))\n",
    ")\n",
    "plt.show()\n",
    "# Зависимость от месяца размещения\n",
    "(\n",
    "    spb_center.pivot_table(index='month', values='last_price')\n",
    "    .plot(grid=True, style='o-', xlim=(1,12), figsize=(10, 5))\n",
    ")\n",
    "plt.show()\n",
    "# Зависимость от года размещения\n",
    "(\n",
    "    spb_center.pivot_table(index='year', values='last_price')\n",
    "    .plot(grid=True, style='o-', figsize=(5, 5))\n",
    ")\n",
    "plt.show()"
   ]
  },
  {
   "cell_type": "markdown",
   "metadata": {},
   "source": [
    "ВЫВОД:Площадь квартир в центре значительно больше, чем в целом по городу - в среднем на 9-10 метров. Также в центре находится большое число квартир с огромной площадью (100 квадратных метров и более).\n",
    "\n",
    "Комнаты. В центре  ниже доля однокомнатных квартир(28%) , чем в среднем по городу(38%) . 25% четырёхкомнатных квартир находится в центре города , их доля выше, чем в среднем по городу (3 %). Большинство квартир с 5 комнатами и более находятся в центре города.\n",
    "\n",
    "Высота потолков в центре выше в среднем на 10 сантиметров.\n",
    "\n",
    "Зависимость цены квартиры от числа комнат в центре такая же, как и в целом по городу. \n",
    "\n",
    "В центре верхний этаж стоит практически столько же, сколько и другие этажи, кроме первого.\n",
    "\n",
    "В центре есть очень дорогие однокомнатные квартиры.\n",
    "\n",
    "В центральной зоне почти нет зависимости от удалённости от центра города. Стоимость даже немного повышается при удалении от центра - вероятно, это связано с расположением точки, которая является формальным центром города.\n",
    "\n",
    "В центре значительно выше стоимость квартир, опубликованных в субботу и в декабре (вероятно, перед Новым годом люди хотят сделать подарок)\n",
    "\n",
    "Стоимость квартир в центре значительно выросла в 2015 году и снизилась только в 2017 году. "
   ]
  },
  {
   "cell_type": "markdown",
   "metadata": {},
   "source": [
    "## Общий вывод"
   ]
  },
  {
   "cell_type": "markdown",
   "metadata": {},
   "source": [
    "Срок продажи квартиры\n",
    "Чаще всего квартиру продают за 89 дней. Если меньше 43 дней, то это быстро, если дольше 213 дней - это долго.\n",
    "Есть большое число квартир, проданных всего за несколько дней после публикации.\n",
    "Также есть варианты, которые продавались несколько десятков месяцев.\n",
    "\n",
    "Факторы, влияющие на стоимость\n",
    "На стоимость больше влияет площадь квартиры, нежели число комнат. Т.е. могут быть дорогие квартиры с малым числом комнат, но где комнаты просторные.\n",
    "Первый этаж значительно дешевле остальных вариантов. Также стоимость квартиры на последнем этаже ниже, чем на остальных, кроме первого.\n",
    "Отдаление от центра города связано с уменьшением стоимости недвижимости, при этом центральной цасти города это не касается - здесь квартиры одинаково дорогие\n",
    "\n",
    "Стоимость квадратного метра в топ-10 населённых пунктов\n",
    "Дороже всего квадратный метр в Санкт-Петербурге - 104763\n",
    "Дешевле всего квадратный метр в Выборге - 57657\n",
    "\n",
    "Факторы, влияющие на стоимость в центре Санкт-Петербурга\n",
    "В центре города практически нет разницы, насколько квартира удалена от условного центра города.\n",
    "В центре города последний этаж практически не влияет на стоимость квартиры, в отличие от остального города.\n",
    "В центре есть очень дорогие однокомнатные квартиры.\n",
    "Обнаружилась следующая cвязь между временем размещения объявления и стоимостью квартиры: квартиры, выставленные на продажу в декабре и январе дороже, чем в другие месяцы; квартиры, выставленные на продажу на выходных, дешевле, чем в другие дни недели; квартиры были дороже всего в 2017 и 2018 году для центра С-П и в 2018 для всех остальных районов и населенных пунктов.\n"
   ]
  }
 ],
 "metadata": {
  "ExecuteTimeLog": [
   {
    "duration": 1264,
    "start_time": "2022-01-18T03:58:33.155Z"
   },
   {
    "duration": 104,
    "start_time": "2022-01-18T03:59:34.996Z"
   },
   {
    "duration": 24,
    "start_time": "2022-01-18T04:32:02.745Z"
   },
   {
    "duration": 41,
    "start_time": "2022-01-18T04:33:04.336Z"
   },
   {
    "duration": 349,
    "start_time": "2022-01-18T04:40:11.450Z"
   },
   {
    "duration": 276,
    "start_time": "2022-01-18T04:40:50.894Z"
   },
   {
    "duration": 46,
    "start_time": "2022-01-18T04:41:17.102Z"
   },
   {
    "duration": 101,
    "start_time": "2022-01-18T05:15:44.343Z"
   },
   {
    "duration": 89,
    "start_time": "2022-01-18T05:15:55.535Z"
   },
   {
    "duration": 102,
    "start_time": "2022-01-18T05:16:28.568Z"
   },
   {
    "duration": 91,
    "start_time": "2022-01-18T05:16:34.278Z"
   },
   {
    "duration": 135,
    "start_time": "2022-01-18T05:17:52.710Z"
   },
   {
    "duration": 23,
    "start_time": "2022-01-18T05:18:49.022Z"
   },
   {
    "duration": 14,
    "start_time": "2022-01-18T05:19:01.031Z"
   },
   {
    "duration": 517,
    "start_time": "2022-01-18T05:42:55.525Z"
   },
   {
    "duration": 103,
    "start_time": "2022-01-18T05:43:11.716Z"
   },
   {
    "duration": 476,
    "start_time": "2022-01-18T05:43:19.444Z"
   },
   {
    "duration": 488,
    "start_time": "2022-01-18T05:44:53.581Z"
   },
   {
    "duration": 25,
    "start_time": "2022-01-18T05:45:29.823Z"
   },
   {
    "duration": 654,
    "start_time": "2022-01-18T05:53:11.441Z"
   },
   {
    "duration": 329,
    "start_time": "2022-01-18T06:58:32.634Z"
   },
   {
    "duration": 464,
    "start_time": "2022-01-18T06:59:55.330Z"
   },
   {
    "duration": 620,
    "start_time": "2022-01-18T07:00:48.820Z"
   },
   {
    "duration": 845,
    "start_time": "2022-01-18T07:01:34.044Z"
   },
   {
    "duration": 1142,
    "start_time": "2022-01-18T07:03:06.173Z"
   },
   {
    "duration": 1426,
    "start_time": "2022-01-18T07:04:14.989Z"
   },
   {
    "duration": 1607,
    "start_time": "2022-01-18T07:05:25.768Z"
   },
   {
    "duration": 2029,
    "start_time": "2022-01-18T07:54:22.996Z"
   },
   {
    "duration": 2210,
    "start_time": "2022-01-18T07:55:23.515Z"
   },
   {
    "duration": 2442,
    "start_time": "2022-01-18T07:55:52.309Z"
   },
   {
    "duration": 1903,
    "start_time": "2022-01-18T07:56:10.327Z"
   },
   {
    "duration": 1985,
    "start_time": "2022-01-18T07:56:32.612Z"
   },
   {
    "duration": 1921,
    "start_time": "2022-01-18T07:59:14.995Z"
   },
   {
    "duration": 1920,
    "start_time": "2022-01-18T07:59:50.645Z"
   },
   {
    "duration": 4,
    "start_time": "2022-01-18T08:07:45.306Z"
   },
   {
    "duration": 95,
    "start_time": "2022-01-18T08:08:03.620Z"
   },
   {
    "duration": 493,
    "start_time": "2022-01-18T08:08:08.295Z"
   },
   {
    "duration": 602,
    "start_time": "2022-01-18T08:08:16.437Z"
   },
   {
    "duration": 4,
    "start_time": "2022-01-18T08:08:22.534Z"
   },
   {
    "duration": 416,
    "start_time": "2022-01-18T08:09:41.458Z"
   },
   {
    "duration": 221,
    "start_time": "2022-01-18T08:10:17.403Z"
   },
   {
    "duration": 234,
    "start_time": "2022-01-18T08:11:08.033Z"
   },
   {
    "duration": 211,
    "start_time": "2022-01-18T08:11:16.508Z"
   },
   {
    "duration": 240,
    "start_time": "2022-01-18T08:11:21.987Z"
   },
   {
    "duration": 209,
    "start_time": "2022-01-18T08:13:12.980Z"
   },
   {
    "duration": 138,
    "start_time": "2022-01-18T08:13:38.160Z"
   },
   {
    "duration": 208,
    "start_time": "2022-01-18T08:14:24.211Z"
   },
   {
    "duration": 239,
    "start_time": "2022-01-18T08:14:37.521Z"
   },
   {
    "duration": 245,
    "start_time": "2022-01-18T08:14:45.625Z"
   },
   {
    "duration": 12,
    "start_time": "2022-01-18T08:15:00.985Z"
   },
   {
    "duration": 242,
    "start_time": "2022-01-18T08:15:24.131Z"
   },
   {
    "duration": 324,
    "start_time": "2022-01-18T08:16:15.923Z"
   },
   {
    "duration": 252,
    "start_time": "2022-01-18T08:17:06.164Z"
   },
   {
    "duration": 366,
    "start_time": "2022-01-18T08:17:42.908Z"
   },
   {
    "duration": 12,
    "start_time": "2022-01-18T08:19:40.063Z"
   },
   {
    "duration": 512,
    "start_time": "2022-01-18T08:20:22.051Z"
   },
   {
    "duration": 224,
    "start_time": "2022-01-18T08:21:06.389Z"
   },
   {
    "duration": 249,
    "start_time": "2022-01-18T08:21:41.672Z"
   },
   {
    "duration": 88,
    "start_time": "2022-01-18T08:22:23.093Z"
   },
   {
    "duration": 212,
    "start_time": "2022-01-18T08:22:37.588Z"
   },
   {
    "duration": 242,
    "start_time": "2022-01-18T08:23:23.967Z"
   },
   {
    "duration": 326,
    "start_time": "2022-01-18T08:26:34.720Z"
   },
   {
    "duration": 369,
    "start_time": "2022-01-18T08:26:57.438Z"
   },
   {
    "duration": 126,
    "start_time": "2022-01-18T08:31:09.633Z"
   },
   {
    "duration": 185,
    "start_time": "2022-01-18T08:32:38.874Z"
   },
   {
    "duration": 347,
    "start_time": "2022-01-18T08:33:17.910Z"
   },
   {
    "duration": 289,
    "start_time": "2022-01-18T08:35:10.132Z"
   },
   {
    "duration": 252,
    "start_time": "2022-01-18T08:35:50.696Z"
   },
   {
    "duration": 125,
    "start_time": "2022-01-18T08:37:39.824Z"
   },
   {
    "duration": 264,
    "start_time": "2022-01-18T08:39:08.989Z"
   },
   {
    "duration": 141,
    "start_time": "2022-01-18T08:40:49.046Z"
   },
   {
    "duration": 241,
    "start_time": "2022-01-18T08:45:31.276Z"
   },
   {
    "duration": 135,
    "start_time": "2022-01-18T08:46:12.095Z"
   },
   {
    "duration": 254,
    "start_time": "2022-01-18T08:47:56.287Z"
   },
   {
    "duration": 378,
    "start_time": "2022-01-18T08:48:48.928Z"
   },
   {
    "duration": 322,
    "start_time": "2022-01-18T08:51:00.865Z"
   },
   {
    "duration": 309,
    "start_time": "2022-01-18T08:51:10.034Z"
   },
   {
    "duration": 152,
    "start_time": "2022-01-18T08:53:34.132Z"
   },
   {
    "duration": 174,
    "start_time": "2022-01-18T08:54:39.154Z"
   },
   {
    "duration": 172,
    "start_time": "2022-01-18T09:01:12.365Z"
   },
   {
    "duration": 606,
    "start_time": "2022-01-19T07:24:42.648Z"
   },
   {
    "duration": 1201,
    "start_time": "2022-01-19T07:25:11.441Z"
   },
   {
    "duration": 525,
    "start_time": "2022-01-19T07:25:17.922Z"
   },
   {
    "duration": 550,
    "start_time": "2022-01-19T07:25:34.068Z"
   },
   {
    "duration": 637,
    "start_time": "2022-01-19T07:25:38.862Z"
   },
   {
    "duration": 708,
    "start_time": "2022-01-19T07:26:39.241Z"
   },
   {
    "duration": 202,
    "start_time": "2022-01-19T07:27:12.188Z"
   },
   {
    "duration": 724,
    "start_time": "2022-01-19T07:57:28.298Z"
   },
   {
    "duration": 1139,
    "start_time": "2022-01-19T07:58:25.004Z"
   },
   {
    "duration": 717,
    "start_time": "2022-01-19T07:58:39.194Z"
   },
   {
    "duration": 828,
    "start_time": "2022-01-19T08:13:29.695Z"
   },
   {
    "duration": 865,
    "start_time": "2022-01-19T08:13:50.758Z"
   },
   {
    "duration": 378,
    "start_time": "2022-01-19T08:14:13.797Z"
   },
   {
    "duration": 228,
    "start_time": "2022-01-19T08:14:35.916Z"
   },
   {
    "duration": 235,
    "start_time": "2022-01-19T08:14:52.071Z"
   },
   {
    "duration": 230,
    "start_time": "2022-01-19T08:15:09.103Z"
   },
   {
    "duration": 1188,
    "start_time": "2022-01-19T08:20:53.501Z"
   },
   {
    "duration": 1321,
    "start_time": "2022-01-19T08:22:44.450Z"
   },
   {
    "duration": 753,
    "start_time": "2022-01-19T08:23:27.343Z"
   },
   {
    "duration": 534,
    "start_time": "2022-01-19T08:23:55.809Z"
   },
   {
    "duration": 2232,
    "start_time": "2022-01-19T08:27:09.260Z"
   },
   {
    "duration": 945,
    "start_time": "2022-01-19T08:40:04.431Z"
   },
   {
    "duration": 1286,
    "start_time": "2022-01-19T08:42:54.032Z"
   },
   {
    "duration": 1527,
    "start_time": "2022-01-20T10:12:07.784Z"
   },
   {
    "duration": 99,
    "start_time": "2022-01-20T10:12:17.223Z"
   },
   {
    "duration": 103,
    "start_time": "2022-01-20T10:14:50.917Z"
   },
   {
    "duration": 826,
    "start_time": "2022-01-20T10:15:02.360Z"
   },
   {
    "duration": 825,
    "start_time": "2022-01-20T10:15:09.676Z"
   },
   {
    "duration": 120,
    "start_time": "2022-01-20T10:15:18.137Z"
   },
   {
    "duration": 120,
    "start_time": "2022-01-20T10:15:29.132Z"
   },
   {
    "duration": 110,
    "start_time": "2022-01-20T10:15:35.758Z"
   },
   {
    "duration": 107,
    "start_time": "2022-01-20T10:15:44.249Z"
   },
   {
    "duration": 104,
    "start_time": "2022-01-20T10:15:54.323Z"
   },
   {
    "duration": 115,
    "start_time": "2022-01-20T10:16:01.535Z"
   },
   {
    "duration": 95,
    "start_time": "2022-01-20T10:16:08.474Z"
   },
   {
    "duration": 24,
    "start_time": "2022-01-20T10:16:17.429Z"
   },
   {
    "duration": 27,
    "start_time": "2022-01-20T10:16:29.615Z"
   },
   {
    "duration": 28,
    "start_time": "2022-01-20T10:16:36.840Z"
   },
   {
    "duration": 835,
    "start_time": "2022-01-20T10:16:49.402Z"
   },
   {
    "duration": 805,
    "start_time": "2022-01-20T10:16:54.971Z"
   },
   {
    "duration": 888,
    "start_time": "2022-01-20T10:17:02.628Z"
   },
   {
    "duration": 934,
    "start_time": "2022-01-20T10:17:08.339Z"
   },
   {
    "duration": 827,
    "start_time": "2022-01-20T10:17:15.440Z"
   },
   {
    "duration": 841,
    "start_time": "2022-01-20T10:17:25.168Z"
   },
   {
    "duration": 104,
    "start_time": "2022-01-20T10:17:30.457Z"
   },
   {
    "duration": 1743,
    "start_time": "2022-01-20T10:22:14.441Z"
   },
   {
    "duration": 907,
    "start_time": "2022-01-20T10:22:36.867Z"
   },
   {
    "duration": 932,
    "start_time": "2022-01-20T10:26:09.791Z"
   },
   {
    "duration": 828,
    "start_time": "2022-01-20T10:28:46.431Z"
   },
   {
    "duration": 1247,
    "start_time": "2022-01-20T10:29:15.325Z"
   },
   {
    "duration": 1198,
    "start_time": "2022-01-20T10:31:14.083Z"
   },
   {
    "duration": 1583,
    "start_time": "2022-01-20T10:32:11.277Z"
   },
   {
    "duration": 1004,
    "start_time": "2022-01-20T10:38:58.000Z"
   },
   {
    "duration": 1286,
    "start_time": "2022-01-20T10:42:40.280Z"
   },
   {
    "duration": 9910,
    "start_time": "2022-01-20T10:43:52.739Z"
   },
   {
    "duration": 163,
    "start_time": "2022-01-20T10:44:08.368Z"
   },
   {
    "duration": 889,
    "start_time": "2022-01-20T10:44:16.098Z"
   },
   {
    "duration": 1001,
    "start_time": "2022-01-20T10:44:38.691Z"
   },
   {
    "duration": 2282,
    "start_time": "2022-01-20T10:45:17.501Z"
   },
   {
    "duration": 2786,
    "start_time": "2022-01-20T10:47:45.722Z"
   },
   {
    "duration": 2448,
    "start_time": "2022-01-20T10:48:24.131Z"
   },
   {
    "duration": 127,
    "start_time": "2022-01-20T10:49:25.595Z"
   },
   {
    "duration": 975,
    "start_time": "2022-01-20T10:49:31.361Z"
   },
   {
    "duration": 1024,
    "start_time": "2022-01-20T10:49:47.112Z"
   },
   {
    "duration": 2778,
    "start_time": "2022-01-20T10:49:55.423Z"
   },
   {
    "duration": 2485,
    "start_time": "2022-01-20T10:54:39.462Z"
   },
   {
    "duration": 2582,
    "start_time": "2022-01-20T10:57:31.484Z"
   },
   {
    "duration": 2365,
    "start_time": "2022-01-20T10:58:16.549Z"
   },
   {
    "duration": 2619,
    "start_time": "2022-01-20T10:59:16.049Z"
   },
   {
    "duration": 2699,
    "start_time": "2022-01-20T11:00:00.945Z"
   },
   {
    "duration": 3000,
    "start_time": "2022-01-20T11:02:39.826Z"
   },
   {
    "duration": 3066,
    "start_time": "2022-01-20T11:03:14.718Z"
   },
   {
    "duration": 2943,
    "start_time": "2022-01-20T11:03:45.680Z"
   },
   {
    "duration": 2989,
    "start_time": "2022-01-20T11:04:13.028Z"
   },
   {
    "duration": 4096,
    "start_time": "2022-01-20T11:04:37.677Z"
   },
   {
    "duration": 2863,
    "start_time": "2022-01-20T11:06:07.662Z"
   },
   {
    "duration": 2871,
    "start_time": "2022-01-20T11:08:59.629Z"
   },
   {
    "duration": 136,
    "start_time": "2022-01-20T11:11:40.201Z"
   },
   {
    "duration": 918,
    "start_time": "2022-01-20T11:11:46.048Z"
   },
   {
    "duration": 1142,
    "start_time": "2022-01-20T11:12:01.802Z"
   },
   {
    "duration": 2907,
    "start_time": "2022-01-20T11:12:08.867Z"
   },
   {
    "duration": 2756,
    "start_time": "2022-01-20T11:12:40.276Z"
   },
   {
    "duration": 2823,
    "start_time": "2022-01-20T11:13:34.559Z"
   },
   {
    "duration": 2906,
    "start_time": "2022-01-20T11:14:05.045Z"
   },
   {
    "duration": 3010,
    "start_time": "2022-01-20T11:26:51.792Z"
   },
   {
    "duration": 2997,
    "start_time": "2022-01-20T11:28:51.549Z"
   },
   {
    "duration": 2787,
    "start_time": "2022-01-20T14:40:53.906Z"
   },
   {
    "duration": 2671,
    "start_time": "2022-01-20T14:41:09.975Z"
   },
   {
    "duration": 7670,
    "start_time": "2022-01-20T14:48:18.737Z"
   },
   {
    "duration": 714,
    "start_time": "2022-01-20T14:50:08.990Z"
   },
   {
    "duration": 730,
    "start_time": "2022-01-20T14:52:18.496Z"
   },
   {
    "duration": 120,
    "start_time": "2022-01-20T14:53:46.514Z"
   },
   {
    "duration": 865,
    "start_time": "2022-01-20T14:53:53.469Z"
   },
   {
    "duration": 1092,
    "start_time": "2022-01-20T14:54:52.093Z"
   },
   {
    "duration": 2995,
    "start_time": "2022-01-20T14:55:53.873Z"
   },
   {
    "duration": 2794,
    "start_time": "2022-01-20T15:00:03.531Z"
   },
   {
    "duration": 2947,
    "start_time": "2022-01-20T15:01:50.407Z"
   },
   {
    "duration": 3051,
    "start_time": "2022-01-20T15:02:16.497Z"
   },
   {
    "duration": 3147,
    "start_time": "2022-01-20T15:03:23.877Z"
   },
   {
    "duration": 3324,
    "start_time": "2022-01-20T15:05:44.099Z"
   },
   {
    "duration": 3612,
    "start_time": "2022-01-20T15:07:08.395Z"
   },
   {
    "duration": 4314,
    "start_time": "2022-01-20T15:07:41.184Z"
   },
   {
    "duration": 3156,
    "start_time": "2022-01-20T15:08:46.422Z"
   },
   {
    "duration": 3160,
    "start_time": "2022-01-20T15:09:57.541Z"
   },
   {
    "duration": 3388,
    "start_time": "2022-01-20T15:10:36.532Z"
   },
   {
    "duration": 3305,
    "start_time": "2022-01-20T15:11:12.111Z"
   },
   {
    "duration": 3403,
    "start_time": "2022-01-20T15:11:36.333Z"
   },
   {
    "duration": 4802,
    "start_time": "2022-01-20T15:12:01.965Z"
   },
   {
    "duration": 3252,
    "start_time": "2022-01-20T15:12:20.880Z"
   },
   {
    "duration": 3823,
    "start_time": "2022-01-20T15:12:44.235Z"
   },
   {
    "duration": 3022,
    "start_time": "2022-01-20T15:13:28.873Z"
   },
   {
    "duration": 4134,
    "start_time": "2022-01-20T15:14:07.972Z"
   },
   {
    "duration": 4087,
    "start_time": "2022-01-20T15:35:12.904Z"
   },
   {
    "duration": 4801,
    "start_time": "2022-01-20T15:37:28.894Z"
   },
   {
    "duration": 5154,
    "start_time": "2022-01-20T15:44:33.436Z"
   },
   {
    "duration": 5164,
    "start_time": "2022-01-20T15:48:25.368Z"
   },
   {
    "duration": 177,
    "start_time": "2022-01-20T15:48:47.848Z"
   },
   {
    "duration": 1372,
    "start_time": "2022-01-20T15:48:53.037Z"
   },
   {
    "duration": 1025,
    "start_time": "2022-01-20T15:49:00.613Z"
   },
   {
    "duration": 3247,
    "start_time": "2022-01-20T15:49:08.008Z"
   },
   {
    "duration": 3470,
    "start_time": "2022-01-20T15:52:36.408Z"
   },
   {
    "duration": 134,
    "start_time": "2022-01-20T15:54:06.157Z"
   },
   {
    "duration": 979,
    "start_time": "2022-01-20T15:54:12.791Z"
   },
   {
    "duration": 973,
    "start_time": "2022-01-20T15:54:18.713Z"
   },
   {
    "duration": 2618,
    "start_time": "2022-01-20T15:54:27.365Z"
   },
   {
    "duration": 130,
    "start_time": "2022-01-20T15:57:29.740Z"
   },
   {
    "duration": 2995,
    "start_time": "2022-01-20T16:00:42.743Z"
   },
   {
    "duration": 130,
    "start_time": "2022-01-20T16:01:13.931Z"
   },
   {
    "duration": 987,
    "start_time": "2022-01-20T16:01:18.826Z"
   },
   {
    "duration": 1000,
    "start_time": "2022-01-20T16:01:24.355Z"
   },
   {
    "duration": 3051,
    "start_time": "2022-01-20T16:01:29.844Z"
   },
   {
    "duration": 2528,
    "start_time": "2022-01-20T16:14:10.399Z"
   },
   {
    "duration": 181,
    "start_time": "2022-01-20T16:14:36.968Z"
   },
   {
    "duration": 902,
    "start_time": "2022-01-20T16:14:42.941Z"
   },
   {
    "duration": 1148,
    "start_time": "2022-01-20T16:14:48.689Z"
   },
   {
    "duration": 2643,
    "start_time": "2022-01-20T16:14:57.422Z"
   },
   {
    "duration": 3340,
    "start_time": "2022-01-20T16:15:13.186Z"
   },
   {
    "duration": 3097,
    "start_time": "2022-01-20T16:17:08.470Z"
   },
   {
    "duration": 3391,
    "start_time": "2022-01-20T16:18:40.240Z"
   },
   {
    "duration": 2901,
    "start_time": "2022-01-20T16:19:39.324Z"
   },
   {
    "duration": 3165,
    "start_time": "2022-01-20T16:20:48.057Z"
   },
   {
    "duration": 3315,
    "start_time": "2022-01-20T16:21:24.062Z"
   },
   {
    "duration": 3604,
    "start_time": "2022-01-20T16:28:56.932Z"
   },
   {
    "duration": 4169,
    "start_time": "2022-01-20T16:29:35.148Z"
   },
   {
    "duration": 4581,
    "start_time": "2022-01-20T16:33:12.702Z"
   },
   {
    "duration": 5037,
    "start_time": "2022-01-20T16:35:19.392Z"
   },
   {
    "duration": 4344,
    "start_time": "2022-01-20T16:38:46.304Z"
   },
   {
    "duration": 5451,
    "start_time": "2022-01-20T16:41:45.939Z"
   },
   {
    "duration": 4918,
    "start_time": "2022-01-20T16:45:05.957Z"
   },
   {
    "duration": 4437,
    "start_time": "2022-01-20T16:46:15.025Z"
   },
   {
    "duration": 11815,
    "start_time": "2022-01-20T16:48:07.546Z"
   },
   {
    "duration": 12532,
    "start_time": "2022-01-20T16:53:56.201Z"
   },
   {
    "duration": 16019,
    "start_time": "2022-01-20T16:54:39.783Z"
   },
   {
    "duration": 19355,
    "start_time": "2022-01-20T16:55:42.356Z"
   },
   {
    "duration": 13021,
    "start_time": "2022-01-20T16:56:37.479Z"
   },
   {
    "duration": 12483,
    "start_time": "2022-01-20T17:00:20.943Z"
   },
   {
    "duration": 13403,
    "start_time": "2022-01-20T17:01:40.638Z"
   },
   {
    "duration": 12635,
    "start_time": "2022-01-20T17:05:39.106Z"
   },
   {
    "duration": 12797,
    "start_time": "2022-01-20T17:07:19.513Z"
   },
   {
    "duration": 14238,
    "start_time": "2022-01-20T17:11:07.156Z"
   },
   {
    "duration": 15009,
    "start_time": "2022-01-20T17:26:32.892Z"
   },
   {
    "duration": 16042,
    "start_time": "2022-01-20T17:27:58.292Z"
   },
   {
    "duration": 16164,
    "start_time": "2022-01-20T17:31:15.055Z"
   },
   {
    "duration": 126,
    "start_time": "2022-01-20T17:32:55.934Z"
   },
   {
    "duration": 983,
    "start_time": "2022-01-20T17:33:02.796Z"
   },
   {
    "duration": 953,
    "start_time": "2022-01-20T17:33:08.566Z"
   },
   {
    "duration": 16727,
    "start_time": "2022-01-20T17:33:18.099Z"
   },
   {
    "duration": 17065,
    "start_time": "2022-01-20T17:37:33.765Z"
   },
   {
    "duration": 2066,
    "start_time": "2022-01-21T03:10:33.882Z"
   },
   {
    "duration": 1180,
    "start_time": "2022-01-21T03:10:44.556Z"
   },
   {
    "duration": 1415,
    "start_time": "2022-01-21T03:10:51.797Z"
   },
   {
    "duration": 21872,
    "start_time": "2022-01-21T03:10:58.715Z"
   },
   {
    "duration": 7699,
    "start_time": "2022-01-21T03:33:35.879Z"
   },
   {
    "duration": 7091,
    "start_time": "2022-01-21T03:34:28.091Z"
   },
   {
    "duration": 857,
    "start_time": "2022-01-21T03:38:30.357Z"
   },
   {
    "duration": 822,
    "start_time": "2022-01-21T03:38:47.276Z"
   },
   {
    "duration": 838,
    "start_time": "2022-01-21T03:42:25.265Z"
   },
   {
    "duration": 16159,
    "start_time": "2022-01-21T04:24:22.997Z"
   },
   {
    "duration": 17275,
    "start_time": "2022-01-21T04:27:43.478Z"
   },
   {
    "duration": 179,
    "start_time": "2022-01-21T04:40:50.827Z"
   },
   {
    "duration": 995,
    "start_time": "2022-01-21T04:40:57.941Z"
   },
   {
    "duration": 946,
    "start_time": "2022-01-21T04:41:07.610Z"
   },
   {
    "duration": 565,
    "start_time": "2022-01-21T04:41:13.791Z"
   },
   {
    "duration": 584,
    "start_time": "2022-01-21T04:41:19.419Z"
   },
   {
    "duration": 490,
    "start_time": "2022-01-21T04:41:26.851Z"
   },
   {
    "duration": 620,
    "start_time": "2022-01-21T04:41:32.484Z"
   },
   {
    "duration": 576,
    "start_time": "2022-01-21T05:07:08.985Z"
   },
   {
    "duration": 1869,
    "start_time": "2022-01-21T05:07:16.395Z"
   },
   {
    "duration": 416,
    "start_time": "2022-01-21T05:10:44.419Z"
   },
   {
    "duration": 1769,
    "start_time": "2022-01-21T05:12:37.857Z"
   },
   {
    "duration": 249,
    "start_time": "2022-01-21T05:12:47.041Z"
   },
   {
    "duration": 7116,
    "start_time": "2022-01-21T05:13:47.336Z"
   },
   {
    "duration": 648,
    "start_time": "2022-01-21T05:15:15.816Z"
   },
   {
    "duration": 638,
    "start_time": "2022-01-21T05:16:14.302Z"
   },
   {
    "duration": 603,
    "start_time": "2022-01-21T05:16:54.491Z"
   },
   {
    "duration": 647,
    "start_time": "2022-01-21T05:18:43.176Z"
   },
   {
    "duration": 1126,
    "start_time": "2022-01-21T05:19:26.661Z"
   },
   {
    "duration": 50,
    "start_time": "2022-01-21T05:20:19.701Z"
   },
   {
    "duration": 2335,
    "start_time": "2022-01-21T05:21:30.036Z"
   },
   {
    "duration": 27,
    "start_time": "2022-01-21T05:22:00.581Z"
   },
   {
    "duration": 103,
    "start_time": "2022-01-21T05:23:19.691Z"
   },
   {
    "duration": 330,
    "start_time": "2022-01-21T05:25:25.896Z"
   },
   {
    "duration": 551,
    "start_time": "2022-01-21T05:26:42.253Z"
   },
   {
    "duration": 675,
    "start_time": "2022-01-21T05:32:06.159Z"
   },
   {
    "duration": 993,
    "start_time": "2022-01-21T05:32:12.540Z"
   },
   {
    "duration": 126,
    "start_time": "2022-01-21T05:45:52.741Z"
   },
   {
    "duration": 903,
    "start_time": "2022-01-21T05:46:06.370Z"
   },
   {
    "duration": 550,
    "start_time": "2022-01-21T05:53:13.690Z"
   },
   {
    "duration": 530,
    "start_time": "2022-01-21T06:08:02.152Z"
   },
   {
    "duration": 797,
    "start_time": "2022-01-21T06:17:15.273Z"
   },
   {
    "duration": 117,
    "start_time": "2022-01-21T06:17:44.022Z"
   },
   {
    "duration": 893,
    "start_time": "2022-01-21T06:17:50.902Z"
   },
   {
    "duration": 910,
    "start_time": "2022-01-21T06:17:56.580Z"
   },
   {
    "duration": 90,
    "start_time": "2022-01-21T06:18:04.229Z"
   },
   {
    "duration": 123,
    "start_time": "2022-01-21T06:18:21.195Z"
   },
   {
    "duration": 99,
    "start_time": "2022-01-21T06:18:55.985Z"
   },
   {
    "duration": 856,
    "start_time": "2022-01-21T06:19:29.683Z"
   },
   {
    "duration": 578,
    "start_time": "2022-01-21T06:20:01.461Z"
   },
   {
    "duration": 477,
    "start_time": "2022-01-21T06:21:29.893Z"
   },
   {
    "duration": 638,
    "start_time": "2022-01-21T06:22:28.102Z"
   },
   {
    "duration": 536,
    "start_time": "2022-01-21T06:22:57.229Z"
   },
   {
    "duration": 1388,
    "start_time": "2022-01-21T06:23:28.727Z"
   },
   {
    "duration": 296,
    "start_time": "2022-01-21T06:25:01.613Z"
   },
   {
    "duration": 12,
    "start_time": "2022-01-21T06:26:01.061Z"
   },
   {
    "duration": 1253,
    "start_time": "2022-01-21T06:28:33.975Z"
   },
   {
    "duration": 265,
    "start_time": "2022-01-21T06:31:07.943Z"
   },
   {
    "duration": 8261,
    "start_time": "2022-01-21T06:34:32.878Z"
   },
   {
    "duration": 742,
    "start_time": "2022-01-21T06:35:14.926Z"
   },
   {
    "duration": 991,
    "start_time": "2022-01-21T06:53:24.400Z"
   },
   {
    "duration": 49,
    "start_time": "2022-01-21T06:53:54.248Z"
   },
   {
    "duration": 332,
    "start_time": "2022-01-21T06:55:21.028Z"
   },
   {
    "duration": 55,
    "start_time": "2022-01-21T06:59:17.242Z"
   },
   {
    "duration": 442,
    "start_time": "2022-01-21T06:59:23.640Z"
   },
   {
    "duration": 677,
    "start_time": "2022-01-21T06:59:38.170Z"
   },
   {
    "duration": 1116,
    "start_time": "2022-01-21T06:59:43.843Z"
   },
   {
    "duration": 170,
    "start_time": "2022-01-21T07:25:23.153Z"
   },
   {
    "duration": 806,
    "start_time": "2022-01-21T07:25:32.486Z"
   },
   {
    "duration": 900,
    "start_time": "2022-01-21T07:25:43.295Z"
   },
   {
    "duration": 559,
    "start_time": "2022-01-21T07:25:52.006Z"
   },
   {
    "duration": 575,
    "start_time": "2022-01-21T07:26:26.954Z"
   },
   {
    "duration": 500,
    "start_time": "2022-01-21T07:26:58.228Z"
   },
   {
    "duration": 628,
    "start_time": "2022-01-21T07:27:27.169Z"
   },
   {
    "duration": 535,
    "start_time": "2022-01-21T07:27:49.800Z"
   },
   {
    "duration": 1179,
    "start_time": "2022-01-21T07:28:09.903Z"
   },
   {
    "duration": 13,
    "start_time": "2022-01-21T07:28:48.621Z"
   },
   {
    "duration": 250,
    "start_time": "2022-01-21T07:28:59.501Z"
   },
   {
    "duration": 629,
    "start_time": "2022-01-21T07:29:32.431Z"
   },
   {
    "duration": 959,
    "start_time": "2022-01-21T07:30:04.114Z"
   },
   {
    "duration": 50,
    "start_time": "2022-01-21T07:30:31.307Z"
   },
   {
    "duration": 557,
    "start_time": "2022-01-21T07:31:14.520Z"
   },
   {
    "duration": 693,
    "start_time": "2022-01-21T07:31:55.913Z"
   },
   {
    "duration": 81,
    "start_time": "2022-01-25T17:32:36.111Z"
   },
   {
    "duration": 359,
    "start_time": "2022-01-26T07:01:56.179Z"
   },
   {
    "duration": 1202,
    "start_time": "2022-01-26T07:02:20.059Z"
   },
   {
    "duration": 456,
    "start_time": "2022-01-26T07:02:25.237Z"
   },
   {
    "duration": 666,
    "start_time": "2022-01-26T07:02:43.743Z"
   },
   {
    "duration": 324,
    "start_time": "2022-01-26T07:02:53.612Z"
   },
   {
    "duration": 387,
    "start_time": "2022-01-26T07:03:01.279Z"
   },
   {
    "duration": 305,
    "start_time": "2022-01-26T07:03:25.052Z"
   },
   {
    "duration": 305,
    "start_time": "2022-01-26T07:03:37.614Z"
   },
   {
    "duration": 881,
    "start_time": "2022-01-26T07:03:50.063Z"
   },
   {
    "duration": 9,
    "start_time": "2022-01-26T07:03:58.580Z"
   },
   {
    "duration": 155,
    "start_time": "2022-01-26T07:04:03.139Z"
   },
   {
    "duration": 383,
    "start_time": "2022-01-26T07:04:12.264Z"
   },
   {
    "duration": 633,
    "start_time": "2022-01-26T07:04:21.596Z"
   },
   {
    "duration": 546,
    "start_time": "2022-01-26T07:27:44.456Z"
   },
   {
    "duration": 428,
    "start_time": "2022-01-26T07:56:00.467Z"
   },
   {
    "duration": 418,
    "start_time": "2022-01-26T07:56:43.003Z"
   },
   {
    "duration": 496,
    "start_time": "2022-01-26T07:57:01.058Z"
   }
  ],
  "kernelspec": {
   "display_name": "Python 3 (ipykernel)",
   "language": "python",
   "name": "python3"
  },
  "language_info": {
   "codemirror_mode": {
    "name": "ipython",
    "version": 3
   },
   "file_extension": ".py",
   "mimetype": "text/x-python",
   "name": "python",
   "nbconvert_exporter": "python",
   "pygments_lexer": "ipython3",
   "version": "3.9.5"
  },
  "toc": {
   "base_numbering": 1,
   "nav_menu": {},
   "number_sections": true,
   "sideBar": true,
   "skip_h1_title": true,
   "title_cell": "Содержание",
   "title_sidebar": "Contents",
   "toc_cell": true,
   "toc_position": {
    "height": "calc(100% - 180px)",
    "left": "10px",
    "top": "150px",
    "width": "254px"
   },
   "toc_section_display": true,
   "toc_window_display": true
  }
 },
 "nbformat": 4,
 "nbformat_minor": 2
}
