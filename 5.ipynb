{
 "cells": [
  {
   "cell_type": "markdown",
   "metadata": {},
   "source": [
    "## Описание проекта\n",
    "Вы работаете в интернет-магазине «Стримчик», который продаёт по всему миру компьютерные игры. Из открытых источников доступны исторические данные о продажах игр, оценки пользователей и экспертов, жанры и платформы (например, Xbox или PlayStation). Вам нужно выявить определяющие успешность игры закономерности. Это позволит сделать ставку на потенциально популярный продукт и спланировать рекламные кампании. Перед вами данные до 2016 года. Представим, что сейчас декабрь 2016 г., и вы планируете кампанию на 2017-й. Нужно отработать принцип работы с данными. Неважно, прогнозируете ли вы продажи на 2017 год по данным 2016-го или же 2027-й — по данным 2026 года. В наборе данных попадается аббревиатура ESRB (Entertainment Software Rating Board) — это ассоциация, определяющая возрастной рейтинг компьютерных игр. ESRB оценивает игровой контент и присваивает ему подходящую возрастную категорию, например, «Для взрослых», «Для детей младшего возраста» или «Для подростков».\n"
   ]
  },
  {
   "cell_type": "markdown",
   "metadata": {},
   "source": [
    "## Шаг 1. Изучение данных"
   ]
  },
  {
   "cell_type": "code",
   "execution_count": 535,
   "metadata": {},
   "outputs": [],
   "source": [
    "import pandas as pd"
   ]
  },
  {
   "cell_type": "code",
   "execution_count": 536,
   "metadata": {},
   "outputs": [],
   "source": [
    "import numpy as np"
   ]
  },
  {
   "cell_type": "code",
   "execution_count": 537,
   "metadata": {},
   "outputs": [],
   "source": [
    "import matplotlib.pyplot as plt"
   ]
  },
  {
   "cell_type": "code",
   "execution_count": 538,
   "metadata": {},
   "outputs": [],
   "source": [
    "import seaborn as sns"
   ]
  },
  {
   "cell_type": "code",
   "execution_count": 539,
   "metadata": {},
   "outputs": [],
   "source": [
    "from scipy import stats as st"
   ]
  },
  {
   "cell_type": "code",
   "execution_count": 540,
   "metadata": {},
   "outputs": [],
   "source": [
    "df = pd.read_csv('/datasets/games.csv')"
   ]
  },
  {
   "cell_type": "code",
   "execution_count": 541,
   "metadata": {},
   "outputs": [
    {
     "data": {
      "text/html": [
       "<div>\n",
       "<style scoped>\n",
       "    .dataframe tbody tr th:only-of-type {\n",
       "        vertical-align: middle;\n",
       "    }\n",
       "\n",
       "    .dataframe tbody tr th {\n",
       "        vertical-align: top;\n",
       "    }\n",
       "\n",
       "    .dataframe thead th {\n",
       "        text-align: right;\n",
       "    }\n",
       "</style>\n",
       "<table border=\"1\" class=\"dataframe\">\n",
       "  <thead>\n",
       "    <tr style=\"text-align: right;\">\n",
       "      <th></th>\n",
       "      <th>Name</th>\n",
       "      <th>Platform</th>\n",
       "      <th>Year_of_Release</th>\n",
       "      <th>Genre</th>\n",
       "      <th>NA_sales</th>\n",
       "      <th>EU_sales</th>\n",
       "      <th>JP_sales</th>\n",
       "      <th>Other_sales</th>\n",
       "      <th>Critic_Score</th>\n",
       "      <th>User_Score</th>\n",
       "      <th>Rating</th>\n",
       "    </tr>\n",
       "  </thead>\n",
       "  <tbody>\n",
       "    <tr>\n",
       "      <td>0</td>\n",
       "      <td>Wii Sports</td>\n",
       "      <td>Wii</td>\n",
       "      <td>2006.0</td>\n",
       "      <td>Sports</td>\n",
       "      <td>41.36</td>\n",
       "      <td>28.96</td>\n",
       "      <td>3.77</td>\n",
       "      <td>8.45</td>\n",
       "      <td>76.0</td>\n",
       "      <td>8</td>\n",
       "      <td>E</td>\n",
       "    </tr>\n",
       "    <tr>\n",
       "      <td>1</td>\n",
       "      <td>Super Mario Bros.</td>\n",
       "      <td>NES</td>\n",
       "      <td>1985.0</td>\n",
       "      <td>Platform</td>\n",
       "      <td>29.08</td>\n",
       "      <td>3.58</td>\n",
       "      <td>6.81</td>\n",
       "      <td>0.77</td>\n",
       "      <td>NaN</td>\n",
       "      <td>NaN</td>\n",
       "      <td>NaN</td>\n",
       "    </tr>\n",
       "    <tr>\n",
       "      <td>2</td>\n",
       "      <td>Mario Kart Wii</td>\n",
       "      <td>Wii</td>\n",
       "      <td>2008.0</td>\n",
       "      <td>Racing</td>\n",
       "      <td>15.68</td>\n",
       "      <td>12.76</td>\n",
       "      <td>3.79</td>\n",
       "      <td>3.29</td>\n",
       "      <td>82.0</td>\n",
       "      <td>8.3</td>\n",
       "      <td>E</td>\n",
       "    </tr>\n",
       "    <tr>\n",
       "      <td>3</td>\n",
       "      <td>Wii Sports Resort</td>\n",
       "      <td>Wii</td>\n",
       "      <td>2009.0</td>\n",
       "      <td>Sports</td>\n",
       "      <td>15.61</td>\n",
       "      <td>10.93</td>\n",
       "      <td>3.28</td>\n",
       "      <td>2.95</td>\n",
       "      <td>80.0</td>\n",
       "      <td>8</td>\n",
       "      <td>E</td>\n",
       "    </tr>\n",
       "    <tr>\n",
       "      <td>4</td>\n",
       "      <td>Pokemon Red/Pokemon Blue</td>\n",
       "      <td>GB</td>\n",
       "      <td>1996.0</td>\n",
       "      <td>Role-Playing</td>\n",
       "      <td>11.27</td>\n",
       "      <td>8.89</td>\n",
       "      <td>10.22</td>\n",
       "      <td>1.00</td>\n",
       "      <td>NaN</td>\n",
       "      <td>NaN</td>\n",
       "      <td>NaN</td>\n",
       "    </tr>\n",
       "    <tr>\n",
       "      <td>...</td>\n",
       "      <td>...</td>\n",
       "      <td>...</td>\n",
       "      <td>...</td>\n",
       "      <td>...</td>\n",
       "      <td>...</td>\n",
       "      <td>...</td>\n",
       "      <td>...</td>\n",
       "      <td>...</td>\n",
       "      <td>...</td>\n",
       "      <td>...</td>\n",
       "      <td>...</td>\n",
       "    </tr>\n",
       "    <tr>\n",
       "      <td>16710</td>\n",
       "      <td>Samurai Warriors: Sanada Maru</td>\n",
       "      <td>PS3</td>\n",
       "      <td>2016.0</td>\n",
       "      <td>Action</td>\n",
       "      <td>0.00</td>\n",
       "      <td>0.00</td>\n",
       "      <td>0.01</td>\n",
       "      <td>0.00</td>\n",
       "      <td>NaN</td>\n",
       "      <td>NaN</td>\n",
       "      <td>NaN</td>\n",
       "    </tr>\n",
       "    <tr>\n",
       "      <td>16711</td>\n",
       "      <td>LMA Manager 2007</td>\n",
       "      <td>X360</td>\n",
       "      <td>2006.0</td>\n",
       "      <td>Sports</td>\n",
       "      <td>0.00</td>\n",
       "      <td>0.01</td>\n",
       "      <td>0.00</td>\n",
       "      <td>0.00</td>\n",
       "      <td>NaN</td>\n",
       "      <td>NaN</td>\n",
       "      <td>NaN</td>\n",
       "    </tr>\n",
       "    <tr>\n",
       "      <td>16712</td>\n",
       "      <td>Haitaka no Psychedelica</td>\n",
       "      <td>PSV</td>\n",
       "      <td>2016.0</td>\n",
       "      <td>Adventure</td>\n",
       "      <td>0.00</td>\n",
       "      <td>0.00</td>\n",
       "      <td>0.01</td>\n",
       "      <td>0.00</td>\n",
       "      <td>NaN</td>\n",
       "      <td>NaN</td>\n",
       "      <td>NaN</td>\n",
       "    </tr>\n",
       "    <tr>\n",
       "      <td>16713</td>\n",
       "      <td>Spirits &amp; Spells</td>\n",
       "      <td>GBA</td>\n",
       "      <td>2003.0</td>\n",
       "      <td>Platform</td>\n",
       "      <td>0.01</td>\n",
       "      <td>0.00</td>\n",
       "      <td>0.00</td>\n",
       "      <td>0.00</td>\n",
       "      <td>NaN</td>\n",
       "      <td>NaN</td>\n",
       "      <td>NaN</td>\n",
       "    </tr>\n",
       "    <tr>\n",
       "      <td>16714</td>\n",
       "      <td>Winning Post 8 2016</td>\n",
       "      <td>PSV</td>\n",
       "      <td>2016.0</td>\n",
       "      <td>Simulation</td>\n",
       "      <td>0.00</td>\n",
       "      <td>0.00</td>\n",
       "      <td>0.01</td>\n",
       "      <td>0.00</td>\n",
       "      <td>NaN</td>\n",
       "      <td>NaN</td>\n",
       "      <td>NaN</td>\n",
       "    </tr>\n",
       "  </tbody>\n",
       "</table>\n",
       "<p>16715 rows × 11 columns</p>\n",
       "</div>"
      ],
      "text/plain": [
       "                                Name Platform  Year_of_Release         Genre  \\\n",
       "0                         Wii Sports      Wii           2006.0        Sports   \n",
       "1                  Super Mario Bros.      NES           1985.0      Platform   \n",
       "2                     Mario Kart Wii      Wii           2008.0        Racing   \n",
       "3                  Wii Sports Resort      Wii           2009.0        Sports   \n",
       "4           Pokemon Red/Pokemon Blue       GB           1996.0  Role-Playing   \n",
       "...                              ...      ...              ...           ...   \n",
       "16710  Samurai Warriors: Sanada Maru      PS3           2016.0        Action   \n",
       "16711               LMA Manager 2007     X360           2006.0        Sports   \n",
       "16712        Haitaka no Psychedelica      PSV           2016.0     Adventure   \n",
       "16713               Spirits & Spells      GBA           2003.0      Platform   \n",
       "16714            Winning Post 8 2016      PSV           2016.0    Simulation   \n",
       "\n",
       "       NA_sales  EU_sales  JP_sales  Other_sales  Critic_Score User_Score  \\\n",
       "0         41.36     28.96      3.77         8.45          76.0          8   \n",
       "1         29.08      3.58      6.81         0.77           NaN        NaN   \n",
       "2         15.68     12.76      3.79         3.29          82.0        8.3   \n",
       "3         15.61     10.93      3.28         2.95          80.0          8   \n",
       "4         11.27      8.89     10.22         1.00           NaN        NaN   \n",
       "...         ...       ...       ...          ...           ...        ...   \n",
       "16710      0.00      0.00      0.01         0.00           NaN        NaN   \n",
       "16711      0.00      0.01      0.00         0.00           NaN        NaN   \n",
       "16712      0.00      0.00      0.01         0.00           NaN        NaN   \n",
       "16713      0.01      0.00      0.00         0.00           NaN        NaN   \n",
       "16714      0.00      0.00      0.01         0.00           NaN        NaN   \n",
       "\n",
       "      Rating  \n",
       "0          E  \n",
       "1        NaN  \n",
       "2          E  \n",
       "3          E  \n",
       "4        NaN  \n",
       "...      ...  \n",
       "16710    NaN  \n",
       "16711    NaN  \n",
       "16712    NaN  \n",
       "16713    NaN  \n",
       "16714    NaN  \n",
       "\n",
       "[16715 rows x 11 columns]"
      ]
     },
     "execution_count": 541,
     "metadata": {},
     "output_type": "execute_result"
    }
   ],
   "source": [
    "df"
   ]
  },
  {
   "cell_type": "markdown",
   "metadata": {},
   "source": [
    "Вывод\n",
    "Мы видим таблицу с данными из открытых источников о продажах игр.\n",
    "\n",
    "Name — название игры\n",
    "\n",
    "Platform — платформа\n",
    "\n",
    "Year_of_Release — год выпуска\n",
    "\n",
    "Genre — жанр игры\n",
    "\n",
    "NA_sales — продажи в Северной Америке (миллионы проданных копий)\n",
    "\n",
    "EU_sales — продажи в Европе (миллионы проданных копий)\n",
    "\n",
    "JP_sales — продажи в Японии (миллионы проданных копий)\n",
    "\n",
    "Other_sales — продажи в других странах (миллионы проданных копий)\n",
    "\n",
    "Critic_Score — оценка критиков (максимум 100)\n",
    "\n",
    "User_Score — оценка пользователей (максимум 10)\n",
    "\n",
    "Rating — рейтинг от организации ESRB (англ. Entertainment Software Rating Board).\n",
    "https://ru.wikipedia.org/wiki/Entertainment_Software_Rating_Board\n",
    "«EC» («Early childhood») — «Для детей младшего возраста»: Игра подходит для детей от 3 лет\n",
    "\n",
    "«E» («Everyone») — «Для всех»: Содержание вполне подходит для возрастной категории от 6 лет.\n",
    "\n",
    "«E10+» («Everyone 10 and older») — «Для всех от 10 лет и старше»\n",
    "\n",
    "«T» («Teen») — «Подросткам» Игра подходит для лиц от 13 лет.\n",
    "\n",
    "«M» («Mature») — «Для взрослых»: Материалы игры не подходят для подростков младше 17 лет\n",
    "\n",
    "«AO» («Adults Only 18+») — «Только для взрослых»: Содержание игры только для взрослых старше 18 лет\n",
    ".\n",
    "«RP» («Rating Pending») — «Рейтинг ожидается»:\n",
    "\n",
    "K-A for Kids to Adults: Games that contain content that is suitable for a general audience. This rating was used until the year 1998 when it renamed to E\n",
    "\n",
    "В данных есть проблемы с типами, проблемы с верхними регистрами, есть пропуски.\n",
    "\n",
    "Полагаю пропуски связаны с нехваткой данных из-за большого периода выпуска игр, возможно рейтинги не столь давно ведут. Еще возможно часть игр не имеет больших продаж и ее даже не оценивали."
   ]
  },
  {
   "cell_type": "markdown",
   "metadata": {},
   "source": [
    "## Шаг 2. Подготовка данных \n",
    "\n"
   ]
  },
  {
   "cell_type": "markdown",
   "metadata": {},
   "source": [
    "### Шаг 2.1. Предобработка данных"
   ]
  },
  {
   "cell_type": "code",
   "execution_count": 542,
   "metadata": {},
   "outputs": [
    {
     "name": "stdout",
     "output_type": "stream",
     "text": [
      "<class 'pandas.core.frame.DataFrame'>\n",
      "RangeIndex: 16715 entries, 0 to 16714\n",
      "Data columns (total 11 columns):\n",
      "Name               16713 non-null object\n",
      "Platform           16715 non-null object\n",
      "Year_of_Release    16446 non-null float64\n",
      "Genre              16713 non-null object\n",
      "NA_sales           16715 non-null float64\n",
      "EU_sales           16715 non-null float64\n",
      "JP_sales           16715 non-null float64\n",
      "Other_sales        16715 non-null float64\n",
      "Critic_Score       8137 non-null float64\n",
      "User_Score         10014 non-null object\n",
      "Rating             9949 non-null object\n",
      "dtypes: float64(6), object(5)\n",
      "memory usage: 1.4+ MB\n"
     ]
    }
   ],
   "source": [
    "df.info()"
   ]
  },
  {
   "cell_type": "code",
   "execution_count": 543,
   "metadata": {},
   "outputs": [],
   "source": [
    "#приведем названия столбцов к нижнему регистру\n",
    "df.columns = df.columns.str.lower()"
   ]
  },
  {
   "cell_type": "code",
   "execution_count": 544,
   "metadata": {},
   "outputs": [
    {
     "data": {
      "text/plain": [
       "Index(['name', 'platform', 'year_of_release', 'genre', 'na_sales', 'eu_sales',\n",
       "       'jp_sales', 'other_sales', 'critic_score', 'user_score', 'rating'],\n",
       "      dtype='object')"
      ]
     },
     "execution_count": 544,
     "metadata": {},
     "output_type": "execute_result"
    }
   ],
   "source": [
    "df.columns"
   ]
  },
  {
   "cell_type": "code",
   "execution_count": 545,
   "metadata": {},
   "outputs": [
    {
     "data": {
      "text/plain": [
       "name                  2\n",
       "platform              0\n",
       "year_of_release     269\n",
       "genre                 2\n",
       "na_sales              0\n",
       "eu_sales              0\n",
       "jp_sales              0\n",
       "other_sales           0\n",
       "critic_score       8578\n",
       "user_score         6701\n",
       "rating             6766\n",
       "dtype: int64"
      ]
     },
     "execution_count": 545,
     "metadata": {},
     "output_type": "execute_result"
    }
   ],
   "source": [
    "df.isnull().sum() #пропуски"
   ]
  },
  {
   "cell_type": "code",
   "execution_count": 546,
   "metadata": {},
   "outputs": [
    {
     "data": {
      "text/html": [
       "<div>\n",
       "<style scoped>\n",
       "    .dataframe tbody tr th:only-of-type {\n",
       "        vertical-align: middle;\n",
       "    }\n",
       "\n",
       "    .dataframe tbody tr th {\n",
       "        vertical-align: top;\n",
       "    }\n",
       "\n",
       "    .dataframe thead th {\n",
       "        text-align: right;\n",
       "    }\n",
       "</style>\n",
       "<table border=\"1\" class=\"dataframe\">\n",
       "  <thead>\n",
       "    <tr style=\"text-align: right;\">\n",
       "      <th></th>\n",
       "      <th>name</th>\n",
       "      <th>platform</th>\n",
       "      <th>year_of_release</th>\n",
       "      <th>genre</th>\n",
       "      <th>na_sales</th>\n",
       "      <th>eu_sales</th>\n",
       "      <th>jp_sales</th>\n",
       "      <th>other_sales</th>\n",
       "      <th>critic_score</th>\n",
       "      <th>user_score</th>\n",
       "      <th>rating</th>\n",
       "    </tr>\n",
       "  </thead>\n",
       "  <tbody>\n",
       "    <tr>\n",
       "      <td>659</td>\n",
       "      <td>NaN</td>\n",
       "      <td>GEN</td>\n",
       "      <td>1993.0</td>\n",
       "      <td>NaN</td>\n",
       "      <td>1.78</td>\n",
       "      <td>0.53</td>\n",
       "      <td>0.00</td>\n",
       "      <td>0.08</td>\n",
       "      <td>NaN</td>\n",
       "      <td>NaN</td>\n",
       "      <td>NaN</td>\n",
       "    </tr>\n",
       "    <tr>\n",
       "      <td>14244</td>\n",
       "      <td>NaN</td>\n",
       "      <td>GEN</td>\n",
       "      <td>1993.0</td>\n",
       "      <td>NaN</td>\n",
       "      <td>0.00</td>\n",
       "      <td>0.00</td>\n",
       "      <td>0.03</td>\n",
       "      <td>0.00</td>\n",
       "      <td>NaN</td>\n",
       "      <td>NaN</td>\n",
       "      <td>NaN</td>\n",
       "    </tr>\n",
       "  </tbody>\n",
       "</table>\n",
       "</div>"
      ],
      "text/plain": [
       "      name platform  year_of_release genre  na_sales  eu_sales  jp_sales  \\\n",
       "659    NaN      GEN           1993.0   NaN      1.78      0.53      0.00   \n",
       "14244  NaN      GEN           1993.0   NaN      0.00      0.00      0.03   \n",
       "\n",
       "       other_sales  critic_score user_score rating  \n",
       "659           0.08           NaN        NaN    NaN  \n",
       "14244         0.00           NaN        NaN    NaN  "
      ]
     },
     "execution_count": 546,
     "metadata": {},
     "output_type": "execute_result"
    }
   ],
   "source": [
    "df.query('name.isnull()')"
   ]
  },
  {
   "cell_type": "markdown",
   "metadata": {},
   "source": [
    "В столбце name имеется два пропуска. Оба от 1993 года, к тому же имеют много пропусков в других столбцах . Избавимся от них, на результат дальнейшего исследования они не повлияют."
   ]
  },
  {
   "cell_type": "code",
   "execution_count": 547,
   "metadata": {},
   "outputs": [],
   "source": [
    "df.dropna(subset = ['name'], inplace = True)"
   ]
  },
  {
   "cell_type": "markdown",
   "metadata": {},
   "source": [
    "В столбцах year_of_release и user_score заменим тип данных, предварительно заменив пропущенные значение на нетипичное -1. Год выпуска - это целое число, поэтому эти значения будут указаны в формате int64\n",
    "\n",
    "TBD - аббревиатура от английского To Be Determined (будет определено) или To Be Decided (будет решено). Используется, если какая-то информация еще не определена или решение по вопросу не принято. Наблюдения со значением tbd в столбце user_score заменим на -1."
   ]
  },
  {
   "cell_type": "code",
   "execution_count": 548,
   "metadata": {},
   "outputs": [],
   "source": [
    "df['user_score'] = df['user_score'].replace('tbd', -1)\n",
    "df['year_of_release'] = df['year_of_release'].fillna(-1).astype(int)\n",
    "df['user_score'] = df['user_score'].fillna(-1).astype(float)"
   ]
  },
  {
   "cell_type": "markdown",
   "metadata": {},
   "source": [
    "\n",
    "\n",
    "Пропуски в столбцах critic_score и user_score (также как и в year_of_release и rating) могли появиться по разным причинам. Можно заметить, что у старых наблюдений отсутствует рейтинг и оценка критиков/пользователей. Напрашивается мысль, что раньше эти данные просто не собирались. Но пропуски есть и у относительно новых наблюдений. Здесь могли сыграть роль баги системы, ошибки при выгрузке данных, человеческий фактор и другие.\n",
    "\n",
    "В user_score мы уже заполнили пропуски нетипичным значением -1. Сделаем то же самое с пропусками в critic_score, а затем будем учитывать это в дальнейшей работе. Это поможет нам сохранить данные и не повлиять на результаты исследования."
   ]
  },
  {
   "cell_type": "code",
   "execution_count": 549,
   "metadata": {},
   "outputs": [],
   "source": [
    "df['critic_score'] = df['critic_score'].fillna(-1)\n"
   ]
  },
  {
   "cell_type": "code",
   "execution_count": 550,
   "metadata": {},
   "outputs": [],
   "source": [
    "df['rating'] = df['rating'].fillna('Unknown')"
   ]
  },
  {
   "cell_type": "code",
   "execution_count": 551,
   "metadata": {},
   "outputs": [],
   "source": [
    "#рейтинг K-A заменим на E, так как это одна и тп же категория\n",
    "df['rating'] = df['rating'].replace('K-A', 'E')"
   ]
  },
  {
   "cell_type": "code",
   "execution_count": 552,
   "metadata": {},
   "outputs": [
    {
     "data": {
      "text/plain": [
       "name               0\n",
       "platform           0\n",
       "year_of_release    0\n",
       "genre              0\n",
       "na_sales           0\n",
       "eu_sales           0\n",
       "jp_sales           0\n",
       "other_sales        0\n",
       "critic_score       0\n",
       "user_score         0\n",
       "rating             0\n",
       "dtype: int64"
      ]
     },
     "execution_count": 552,
     "metadata": {},
     "output_type": "execute_result"
    }
   ],
   "source": [
    "df.isnull().sum()"
   ]
  },
  {
   "cell_type": "code",
   "execution_count": 553,
   "metadata": {},
   "outputs": [
    {
     "name": "stdout",
     "output_type": "stream",
     "text": [
      "<class 'pandas.core.frame.DataFrame'>\n",
      "Int64Index: 16713 entries, 0 to 16714\n",
      "Data columns (total 11 columns):\n",
      "name               16713 non-null object\n",
      "platform           16713 non-null object\n",
      "year_of_release    16713 non-null int64\n",
      "genre              16713 non-null object\n",
      "na_sales           16713 non-null float64\n",
      "eu_sales           16713 non-null float64\n",
      "jp_sales           16713 non-null float64\n",
      "other_sales        16713 non-null float64\n",
      "critic_score       16713 non-null float64\n",
      "user_score         16713 non-null float64\n",
      "rating             16713 non-null object\n",
      "dtypes: float64(6), int64(1), object(4)\n",
      "memory usage: 1.5+ MB\n"
     ]
    }
   ],
   "source": [
    "df.info()"
   ]
  },
  {
   "cell_type": "markdown",
   "metadata": {},
   "source": [
    "### Шаг 2.2. Категоризация данных"
   ]
  },
  {
   "cell_type": "markdown",
   "metadata": {},
   "source": [
    "Посчитаем суммарные продажи во всех регионах и запишем их в отдельный столбец."
   ]
  },
  {
   "cell_type": "code",
   "execution_count": 554,
   "metadata": {},
   "outputs": [],
   "source": [
    "df['total_sales'] = df['na_sales'] + df['eu_sales'] + df['jp_sales'] + df['other_sales']"
   ]
  },
  {
   "cell_type": "code",
   "execution_count": 555,
   "metadata": {},
   "outputs": [
    {
     "data": {
      "text/html": [
       "<div>\n",
       "<style scoped>\n",
       "    .dataframe tbody tr th:only-of-type {\n",
       "        vertical-align: middle;\n",
       "    }\n",
       "\n",
       "    .dataframe tbody tr th {\n",
       "        vertical-align: top;\n",
       "    }\n",
       "\n",
       "    .dataframe thead th {\n",
       "        text-align: right;\n",
       "    }\n",
       "</style>\n",
       "<table border=\"1\" class=\"dataframe\">\n",
       "  <thead>\n",
       "    <tr style=\"text-align: right;\">\n",
       "      <th></th>\n",
       "      <th>name</th>\n",
       "      <th>platform</th>\n",
       "      <th>year_of_release</th>\n",
       "      <th>genre</th>\n",
       "      <th>na_sales</th>\n",
       "      <th>eu_sales</th>\n",
       "      <th>jp_sales</th>\n",
       "      <th>other_sales</th>\n",
       "      <th>critic_score</th>\n",
       "      <th>user_score</th>\n",
       "      <th>rating</th>\n",
       "      <th>total_sales</th>\n",
       "    </tr>\n",
       "  </thead>\n",
       "  <tbody>\n",
       "    <tr>\n",
       "      <td>0</td>\n",
       "      <td>Wii Sports</td>\n",
       "      <td>Wii</td>\n",
       "      <td>2006</td>\n",
       "      <td>Sports</td>\n",
       "      <td>41.36</td>\n",
       "      <td>28.96</td>\n",
       "      <td>3.77</td>\n",
       "      <td>8.45</td>\n",
       "      <td>76.0</td>\n",
       "      <td>8.0</td>\n",
       "      <td>E</td>\n",
       "      <td>82.54</td>\n",
       "    </tr>\n",
       "    <tr>\n",
       "      <td>1</td>\n",
       "      <td>Super Mario Bros.</td>\n",
       "      <td>NES</td>\n",
       "      <td>1985</td>\n",
       "      <td>Platform</td>\n",
       "      <td>29.08</td>\n",
       "      <td>3.58</td>\n",
       "      <td>6.81</td>\n",
       "      <td>0.77</td>\n",
       "      <td>-1.0</td>\n",
       "      <td>-1.0</td>\n",
       "      <td>Unknown</td>\n",
       "      <td>40.24</td>\n",
       "    </tr>\n",
       "    <tr>\n",
       "      <td>2</td>\n",
       "      <td>Mario Kart Wii</td>\n",
       "      <td>Wii</td>\n",
       "      <td>2008</td>\n",
       "      <td>Racing</td>\n",
       "      <td>15.68</td>\n",
       "      <td>12.76</td>\n",
       "      <td>3.79</td>\n",
       "      <td>3.29</td>\n",
       "      <td>82.0</td>\n",
       "      <td>8.3</td>\n",
       "      <td>E</td>\n",
       "      <td>35.52</td>\n",
       "    </tr>\n",
       "    <tr>\n",
       "      <td>3</td>\n",
       "      <td>Wii Sports Resort</td>\n",
       "      <td>Wii</td>\n",
       "      <td>2009</td>\n",
       "      <td>Sports</td>\n",
       "      <td>15.61</td>\n",
       "      <td>10.93</td>\n",
       "      <td>3.28</td>\n",
       "      <td>2.95</td>\n",
       "      <td>80.0</td>\n",
       "      <td>8.0</td>\n",
       "      <td>E</td>\n",
       "      <td>32.77</td>\n",
       "    </tr>\n",
       "    <tr>\n",
       "      <td>4</td>\n",
       "      <td>Pokemon Red/Pokemon Blue</td>\n",
       "      <td>GB</td>\n",
       "      <td>1996</td>\n",
       "      <td>Role-Playing</td>\n",
       "      <td>11.27</td>\n",
       "      <td>8.89</td>\n",
       "      <td>10.22</td>\n",
       "      <td>1.00</td>\n",
       "      <td>-1.0</td>\n",
       "      <td>-1.0</td>\n",
       "      <td>Unknown</td>\n",
       "      <td>31.38</td>\n",
       "    </tr>\n",
       "    <tr>\n",
       "      <td>5</td>\n",
       "      <td>Tetris</td>\n",
       "      <td>GB</td>\n",
       "      <td>1989</td>\n",
       "      <td>Puzzle</td>\n",
       "      <td>23.20</td>\n",
       "      <td>2.26</td>\n",
       "      <td>4.22</td>\n",
       "      <td>0.58</td>\n",
       "      <td>-1.0</td>\n",
       "      <td>-1.0</td>\n",
       "      <td>Unknown</td>\n",
       "      <td>30.26</td>\n",
       "    </tr>\n",
       "    <tr>\n",
       "      <td>6</td>\n",
       "      <td>New Super Mario Bros.</td>\n",
       "      <td>DS</td>\n",
       "      <td>2006</td>\n",
       "      <td>Platform</td>\n",
       "      <td>11.28</td>\n",
       "      <td>9.14</td>\n",
       "      <td>6.50</td>\n",
       "      <td>2.88</td>\n",
       "      <td>89.0</td>\n",
       "      <td>8.5</td>\n",
       "      <td>E</td>\n",
       "      <td>29.80</td>\n",
       "    </tr>\n",
       "    <tr>\n",
       "      <td>7</td>\n",
       "      <td>Wii Play</td>\n",
       "      <td>Wii</td>\n",
       "      <td>2006</td>\n",
       "      <td>Misc</td>\n",
       "      <td>13.96</td>\n",
       "      <td>9.18</td>\n",
       "      <td>2.93</td>\n",
       "      <td>2.84</td>\n",
       "      <td>58.0</td>\n",
       "      <td>6.6</td>\n",
       "      <td>E</td>\n",
       "      <td>28.91</td>\n",
       "    </tr>\n",
       "    <tr>\n",
       "      <td>8</td>\n",
       "      <td>New Super Mario Bros. Wii</td>\n",
       "      <td>Wii</td>\n",
       "      <td>2009</td>\n",
       "      <td>Platform</td>\n",
       "      <td>14.44</td>\n",
       "      <td>6.94</td>\n",
       "      <td>4.70</td>\n",
       "      <td>2.24</td>\n",
       "      <td>87.0</td>\n",
       "      <td>8.4</td>\n",
       "      <td>E</td>\n",
       "      <td>28.32</td>\n",
       "    </tr>\n",
       "    <tr>\n",
       "      <td>9</td>\n",
       "      <td>Duck Hunt</td>\n",
       "      <td>NES</td>\n",
       "      <td>1984</td>\n",
       "      <td>Shooter</td>\n",
       "      <td>26.93</td>\n",
       "      <td>0.63</td>\n",
       "      <td>0.28</td>\n",
       "      <td>0.47</td>\n",
       "      <td>-1.0</td>\n",
       "      <td>-1.0</td>\n",
       "      <td>Unknown</td>\n",
       "      <td>28.31</td>\n",
       "    </tr>\n",
       "  </tbody>\n",
       "</table>\n",
       "</div>"
      ],
      "text/plain": [
       "                        name platform  year_of_release         genre  \\\n",
       "0                 Wii Sports      Wii             2006        Sports   \n",
       "1          Super Mario Bros.      NES             1985      Platform   \n",
       "2             Mario Kart Wii      Wii             2008        Racing   \n",
       "3          Wii Sports Resort      Wii             2009        Sports   \n",
       "4   Pokemon Red/Pokemon Blue       GB             1996  Role-Playing   \n",
       "5                     Tetris       GB             1989        Puzzle   \n",
       "6      New Super Mario Bros.       DS             2006      Platform   \n",
       "7                   Wii Play      Wii             2006          Misc   \n",
       "8  New Super Mario Bros. Wii      Wii             2009      Platform   \n",
       "9                  Duck Hunt      NES             1984       Shooter   \n",
       "\n",
       "   na_sales  eu_sales  jp_sales  other_sales  critic_score  user_score  \\\n",
       "0     41.36     28.96      3.77         8.45          76.0         8.0   \n",
       "1     29.08      3.58      6.81         0.77          -1.0        -1.0   \n",
       "2     15.68     12.76      3.79         3.29          82.0         8.3   \n",
       "3     15.61     10.93      3.28         2.95          80.0         8.0   \n",
       "4     11.27      8.89     10.22         1.00          -1.0        -1.0   \n",
       "5     23.20      2.26      4.22         0.58          -1.0        -1.0   \n",
       "6     11.28      9.14      6.50         2.88          89.0         8.5   \n",
       "7     13.96      9.18      2.93         2.84          58.0         6.6   \n",
       "8     14.44      6.94      4.70         2.24          87.0         8.4   \n",
       "9     26.93      0.63      0.28         0.47          -1.0        -1.0   \n",
       "\n",
       "    rating  total_sales  \n",
       "0        E        82.54  \n",
       "1  Unknown        40.24  \n",
       "2        E        35.52  \n",
       "3        E        32.77  \n",
       "4  Unknown        31.38  \n",
       "5  Unknown        30.26  \n",
       "6        E        29.80  \n",
       "7        E        28.91  \n",
       "8        E        28.32  \n",
       "9  Unknown        28.31  "
      ]
     },
     "execution_count": 555,
     "metadata": {},
     "output_type": "execute_result"
    }
   ],
   "source": [
    "df.head(10)"
   ]
  },
  {
   "cell_type": "markdown",
   "metadata": {},
   "source": [
    "### Вывод:\n",
    "\n",
    "привели названия столбцов к нижнему регистру;\n",
    "\n",
    "преобразовали данные в year_of_release в формат int64, а в user_score в float64;\n",
    "\n",
    "обработали пропуски - в столбцах сritic_score, user_score и rating пропущена почти половина значений. Заполнение этих пропусков синтетическими данными привело бы к искажению результатов исследования, поэтому заменили их на -1 и будем учитывать это в дальнейшем исследовании;\n",
    "\n",
    "от пропусков в name избавились;\n",
    "\n",
    "пропуски в rating заменил значением Unknown;\n",
    "\n",
    "в user_score изменили значения tbd на -1;\n",
    "\n",
    "посчитали суммарные продажи во всех регионах и записали их в отдельный столбец total_sales\n",
    "\n"
   ]
  },
  {
   "cell_type": "markdown",
   "metadata": {},
   "source": [
    "## Шаг 3. Исследовательский анализ данных"
   ]
  },
  {
   "cell_type": "code",
   "execution_count": 556,
   "metadata": {},
   "outputs": [
    {
     "data": {
      "text/html": [
       "<div>\n",
       "<style scoped>\n",
       "    .dataframe tbody tr th:only-of-type {\n",
       "        vertical-align: middle;\n",
       "    }\n",
       "\n",
       "    .dataframe tbody tr th {\n",
       "        vertical-align: top;\n",
       "    }\n",
       "\n",
       "    .dataframe thead th {\n",
       "        text-align: right;\n",
       "    }\n",
       "</style>\n",
       "<table border=\"1\" class=\"dataframe\">\n",
       "  <thead>\n",
       "    <tr style=\"text-align: right;\">\n",
       "      <th></th>\n",
       "      <th>name</th>\n",
       "      <th>platform</th>\n",
       "      <th>year_of_release</th>\n",
       "      <th>genre</th>\n",
       "      <th>na_sales</th>\n",
       "      <th>eu_sales</th>\n",
       "      <th>jp_sales</th>\n",
       "      <th>other_sales</th>\n",
       "      <th>critic_score</th>\n",
       "      <th>user_score</th>\n",
       "      <th>rating</th>\n",
       "      <th>total_sales</th>\n",
       "    </tr>\n",
       "  </thead>\n",
       "  <tbody>\n",
       "    <tr>\n",
       "      <td>0</td>\n",
       "      <td>Wii Sports</td>\n",
       "      <td>Wii</td>\n",
       "      <td>2006</td>\n",
       "      <td>Sports</td>\n",
       "      <td>41.36</td>\n",
       "      <td>28.96</td>\n",
       "      <td>3.77</td>\n",
       "      <td>8.45</td>\n",
       "      <td>76.0</td>\n",
       "      <td>8.0</td>\n",
       "      <td>E</td>\n",
       "      <td>82.54</td>\n",
       "    </tr>\n",
       "    <tr>\n",
       "      <td>1</td>\n",
       "      <td>Super Mario Bros.</td>\n",
       "      <td>NES</td>\n",
       "      <td>1985</td>\n",
       "      <td>Platform</td>\n",
       "      <td>29.08</td>\n",
       "      <td>3.58</td>\n",
       "      <td>6.81</td>\n",
       "      <td>0.77</td>\n",
       "      <td>-1.0</td>\n",
       "      <td>-1.0</td>\n",
       "      <td>Unknown</td>\n",
       "      <td>40.24</td>\n",
       "    </tr>\n",
       "    <tr>\n",
       "      <td>2</td>\n",
       "      <td>Mario Kart Wii</td>\n",
       "      <td>Wii</td>\n",
       "      <td>2008</td>\n",
       "      <td>Racing</td>\n",
       "      <td>15.68</td>\n",
       "      <td>12.76</td>\n",
       "      <td>3.79</td>\n",
       "      <td>3.29</td>\n",
       "      <td>82.0</td>\n",
       "      <td>8.3</td>\n",
       "      <td>E</td>\n",
       "      <td>35.52</td>\n",
       "    </tr>\n",
       "    <tr>\n",
       "      <td>3</td>\n",
       "      <td>Wii Sports Resort</td>\n",
       "      <td>Wii</td>\n",
       "      <td>2009</td>\n",
       "      <td>Sports</td>\n",
       "      <td>15.61</td>\n",
       "      <td>10.93</td>\n",
       "      <td>3.28</td>\n",
       "      <td>2.95</td>\n",
       "      <td>80.0</td>\n",
       "      <td>8.0</td>\n",
       "      <td>E</td>\n",
       "      <td>32.77</td>\n",
       "    </tr>\n",
       "    <tr>\n",
       "      <td>4</td>\n",
       "      <td>Pokemon Red/Pokemon Blue</td>\n",
       "      <td>GB</td>\n",
       "      <td>1996</td>\n",
       "      <td>Role-Playing</td>\n",
       "      <td>11.27</td>\n",
       "      <td>8.89</td>\n",
       "      <td>10.22</td>\n",
       "      <td>1.00</td>\n",
       "      <td>-1.0</td>\n",
       "      <td>-1.0</td>\n",
       "      <td>Unknown</td>\n",
       "      <td>31.38</td>\n",
       "    </tr>\n",
       "  </tbody>\n",
       "</table>\n",
       "</div>"
      ],
      "text/plain": [
       "                       name platform  year_of_release         genre  na_sales  \\\n",
       "0                Wii Sports      Wii             2006        Sports     41.36   \n",
       "1         Super Mario Bros.      NES             1985      Platform     29.08   \n",
       "2            Mario Kart Wii      Wii             2008        Racing     15.68   \n",
       "3         Wii Sports Resort      Wii             2009        Sports     15.61   \n",
       "4  Pokemon Red/Pokemon Blue       GB             1996  Role-Playing     11.27   \n",
       "\n",
       "   eu_sales  jp_sales  other_sales  critic_score  user_score   rating  \\\n",
       "0     28.96      3.77         8.45          76.0         8.0        E   \n",
       "1      3.58      6.81         0.77          -1.0        -1.0  Unknown   \n",
       "2     12.76      3.79         3.29          82.0         8.3        E   \n",
       "3     10.93      3.28         2.95          80.0         8.0        E   \n",
       "4      8.89     10.22         1.00          -1.0        -1.0  Unknown   \n",
       "\n",
       "   total_sales  \n",
       "0        82.54  \n",
       "1        40.24  \n",
       "2        35.52  \n",
       "3        32.77  \n",
       "4        31.38  "
      ]
     },
     "execution_count": 556,
     "metadata": {},
     "output_type": "execute_result"
    }
   ],
   "source": [
    "df.head()"
   ]
  },
  {
   "cell_type": "markdown",
   "metadata": {},
   "source": [
    " Обратим внимание на изменение продаж у платформ, начиная с 1980 года и определим промежуток времени, который будем исследовать в дальнейшем."
   ]
  },
  {
   "cell_type": "code",
   "execution_count": 557,
   "metadata": {},
   "outputs": [
    {
     "data": {
      "text/plain": [
       "Text(0.5, 0, 'Год выпуска')"
      ]
     },
     "execution_count": 557,
     "metadata": {},
     "output_type": "execute_result"
    },
    {
     "data": {
      "image/png": "[encoded data removed]",
      "text/plain": [
       "<Figure size 648x648 with 1 Axes>"
      ]
     },
     "metadata": {
      "needs_background": "light"
     },
     "output_type": "display_data"
    }
   ],
   "source": [
    "count_by_year = df.query('year_of_release >= 1980').groupby('year_of_release')['name'].count()\n",
    "count_by_year.plot(legend=True, style='o-', grid=True,figsize=(9, 9), title='Кол-во выпущенных игр по годам')\n",
    "ax = plt.gca()\n",
    "ax.set_ylabel('Игры, шт.')\n",
    "ax.set_xlabel('Год выпуска')\n"
   ]
  },
  {
   "cell_type": "markdown",
   "metadata": {},
   "source": [
    "Мы видим резкий рост выпуска игр с 1990 и спад с 2009 года.До 1990 года количество выпускаемых игр малО, и данные за этот период можно считать выбросами. Основной период с 2000 по 2016. \n",
    "\n",
    "Компьютерные игры - это очень инновационная отрасль, где каждый год случается революция. Поэтому за актуальный период возьмем короткий период - 2-3 года.  Для прогноза на 2017 год по продажам, возьмём данные за 2014,2015 и 2016 года\n",
    "\n"
   ]
  },
  {
   "cell_type": "markdown",
   "metadata": {},
   "source": [
    "Посмотрим, как менялись продажи по платформам. Выберем платформы с наибольшими суммарными продажами и построим распределение по годам. Определим какой характерный срок появляются новые и исчезают старые платформы?"
   ]
  },
  {
   "cell_type": "code",
   "execution_count": 558,
   "metadata": {},
   "outputs": [
    {
     "data": {
      "text/html": [
       "<div>\n",
       "<style scoped>\n",
       "    .dataframe tbody tr th:only-of-type {\n",
       "        vertical-align: middle;\n",
       "    }\n",
       "\n",
       "    .dataframe tbody tr th {\n",
       "        vertical-align: top;\n",
       "    }\n",
       "\n",
       "    .dataframe thead tr th {\n",
       "        text-align: left;\n",
       "    }\n",
       "\n",
       "    .dataframe thead tr:last-of-type th {\n",
       "        text-align: right;\n",
       "    }\n",
       "</style>\n",
       "<table border=\"1\" class=\"dataframe\">\n",
       "  <thead>\n",
       "    <tr>\n",
       "      <th></th>\n",
       "      <th>total_sales</th>\n",
       "    </tr>\n",
       "    <tr>\n",
       "      <th></th>\n",
       "      <th>sum</th>\n",
       "    </tr>\n",
       "    <tr>\n",
       "      <th>platform</th>\n",
       "      <th></th>\n",
       "    </tr>\n",
       "  </thead>\n",
       "  <tbody>\n",
       "    <tr>\n",
       "      <td>PS2</td>\n",
       "      <td>1233.56</td>\n",
       "    </tr>\n",
       "    <tr>\n",
       "      <td>X360</td>\n",
       "      <td>961.24</td>\n",
       "    </tr>\n",
       "    <tr>\n",
       "      <td>PS3</td>\n",
       "      <td>931.34</td>\n",
       "    </tr>\n",
       "    <tr>\n",
       "      <td>Wii</td>\n",
       "      <td>891.18</td>\n",
       "    </tr>\n",
       "    <tr>\n",
       "      <td>DS</td>\n",
       "      <td>802.76</td>\n",
       "    </tr>\n",
       "    <tr>\n",
       "      <td>PS4</td>\n",
       "      <td>314.14</td>\n",
       "    </tr>\n",
       "    <tr>\n",
       "      <td>GBA</td>\n",
       "      <td>312.88</td>\n",
       "    </tr>\n",
       "    <tr>\n",
       "      <td>PSP</td>\n",
       "      <td>289.53</td>\n",
       "    </tr>\n",
       "    <tr>\n",
       "      <td>3DS</td>\n",
       "      <td>257.81</td>\n",
       "    </tr>\n",
       "    <tr>\n",
       "      <td>XB</td>\n",
       "      <td>251.57</td>\n",
       "    </tr>\n",
       "  </tbody>\n",
       "</table>\n",
       "</div>"
      ],
      "text/plain": [
       "         total_sales\n",
       "                 sum\n",
       "platform            \n",
       "PS2          1233.56\n",
       "X360          961.24\n",
       "PS3           931.34\n",
       "Wii           891.18\n",
       "DS            802.76\n",
       "PS4           314.14\n",
       "GBA           312.88\n",
       "PSP           289.53\n",
       "3DS           257.81\n",
       "XB            251.57"
      ]
     },
     "execution_count": 558,
     "metadata": {},
     "output_type": "execute_result"
    }
   ],
   "source": [
    "top_platforms = (df\n",
    "    .query('2000 <= year_of_release <= 2017')\n",
    "    .groupby('platform')\n",
    "    .agg({'total_sales':['sum']})\n",
    "    .sort_values(by=('total_sales', 'sum'), ascending=False)\n",
    "    .head(10)\n",
    ")\n",
    "top_platforms"
   ]
  },
  {
   "cell_type": "code",
   "execution_count": 559,
   "metadata": {},
   "outputs": [
    {
     "data": {
      "text/html": [
       "<div>\n",
       "<style scoped>\n",
       "    .dataframe tbody tr th:only-of-type {\n",
       "        vertical-align: middle;\n",
       "    }\n",
       "\n",
       "    .dataframe tbody tr th {\n",
       "        vertical-align: top;\n",
       "    }\n",
       "\n",
       "    .dataframe thead tr th {\n",
       "        text-align: left;\n",
       "    }\n",
       "\n",
       "    .dataframe thead tr:last-of-type th {\n",
       "        text-align: right;\n",
       "    }\n",
       "</style>\n",
       "<table border=\"1\" class=\"dataframe\">\n",
       "  <thead>\n",
       "    <tr>\n",
       "      <th></th>\n",
       "      <th></th>\n",
       "      <th>total_sales</th>\n",
       "    </tr>\n",
       "    <tr>\n",
       "      <th></th>\n",
       "      <th></th>\n",
       "      <th>sum</th>\n",
       "    </tr>\n",
       "    <tr>\n",
       "      <th>platform</th>\n",
       "      <th>year_of_release</th>\n",
       "      <th></th>\n",
       "    </tr>\n",
       "  </thead>\n",
       "  <tbody>\n",
       "    <tr>\n",
       "      <td rowspan=\"5\" valign=\"top\">3DS</td>\n",
       "      <td>2011</td>\n",
       "      <td>63.20</td>\n",
       "    </tr>\n",
       "    <tr>\n",
       "      <td>2012</td>\n",
       "      <td>51.36</td>\n",
       "    </tr>\n",
       "    <tr>\n",
       "      <td>2013</td>\n",
       "      <td>56.57</td>\n",
       "    </tr>\n",
       "    <tr>\n",
       "      <td>2014</td>\n",
       "      <td>43.76</td>\n",
       "    </tr>\n",
       "    <tr>\n",
       "      <td>2015</td>\n",
       "      <td>27.78</td>\n",
       "    </tr>\n",
       "    <tr>\n",
       "      <td>...</td>\n",
       "      <td>...</td>\n",
       "      <td>...</td>\n",
       "    </tr>\n",
       "    <tr>\n",
       "      <td rowspan=\"5\" valign=\"top\">XB</td>\n",
       "      <td>2004</td>\n",
       "      <td>65.42</td>\n",
       "    </tr>\n",
       "    <tr>\n",
       "      <td>2005</td>\n",
       "      <td>49.08</td>\n",
       "    </tr>\n",
       "    <tr>\n",
       "      <td>2006</td>\n",
       "      <td>10.04</td>\n",
       "    </tr>\n",
       "    <tr>\n",
       "      <td>2007</td>\n",
       "      <td>0.55</td>\n",
       "    </tr>\n",
       "    <tr>\n",
       "      <td>2008</td>\n",
       "      <td>0.18</td>\n",
       "    </tr>\n",
       "  </tbody>\n",
       "</table>\n",
       "<p>95 rows × 1 columns</p>\n",
       "</div>"
      ],
      "text/plain": [
       "                         total_sales\n",
       "                                 sum\n",
       "platform year_of_release            \n",
       "3DS      2011                  63.20\n",
       "         2012                  51.36\n",
       "         2013                  56.57\n",
       "         2014                  43.76\n",
       "         2015                  27.78\n",
       "...                              ...\n",
       "XB       2004                  65.42\n",
       "         2005                  49.08\n",
       "         2006                  10.04\n",
       "         2007                   0.55\n",
       "         2008                   0.18\n",
       "\n",
       "[95 rows x 1 columns]"
      ]
     },
     "execution_count": 559,
     "metadata": {},
     "output_type": "execute_result"
    }
   ],
   "source": [
    "platf = (df\n",
    "    .query('platform in @top_platforms.index and 2000 <= year_of_release <= 2017')\n",
    "    .groupby(['platform','year_of_release'])\n",
    "    .agg({'total_sales':['sum']})\n",
    ") \n",
    "platf"
   ]
  },
  {
   "cell_type": "markdown",
   "metadata": {},
   "source": [
    "Дропнем мультииндекс с годами и посчитаем количество лет жизни платформы за последние 15 лет без выбросов"
   ]
  },
  {
   "cell_type": "code",
   "execution_count": 560,
   "metadata": {},
   "outputs": [
    {
     "data": {
      "text/plain": [
       "PS2     12\n",
       "X360    12\n",
       "PSP     12\n",
       "PS3     11\n",
       "Wii     11\n",
       "DS      10\n",
       "XB       9\n",
       "GBA      8\n",
       "3DS      6\n",
       "PS4      4\n",
       "Name: platform, dtype: int64"
      ]
     },
     "execution_count": 560,
     "metadata": {},
     "output_type": "execute_result"
    }
   ],
   "source": [
    "platf.droplevel(level=1).index.value_counts()"
   ]
  },
  {
   "cell_type": "code",
   "execution_count": 561,
   "metadata": {},
   "outputs": [
    {
     "data": {
      "text/plain": [
       "9.5"
      ]
     },
     "execution_count": 561,
     "metadata": {},
     "output_type": "execute_result"
    }
   ],
   "source": [
    "platf.droplevel(level=1).index.value_counts().mean()"
   ]
  },
  {
   "cell_type": "markdown",
   "metadata": {},
   "source": [
    "Мы видим что средний срок жизни платформы 9.5 лет по данным с 2000 по 2015 год - это актуальный срок жизни платформы. Но самые актуальные для нас данные в посткризисное время после 2008.\n",
    "Теперь посмотрим данные по топовым платформам именно за интервал с 2014 - 2017\n"
   ]
  },
  {
   "cell_type": "code",
   "execution_count": 562,
   "metadata": {},
   "outputs": [
    {
     "data": {
      "text/html": [
       "<div>\n",
       "<style scoped>\n",
       "    .dataframe tbody tr th:only-of-type {\n",
       "        vertical-align: middle;\n",
       "    }\n",
       "\n",
       "    .dataframe tbody tr th {\n",
       "        vertical-align: top;\n",
       "    }\n",
       "\n",
       "    .dataframe thead th {\n",
       "        text-align: right;\n",
       "    }\n",
       "</style>\n",
       "<table border=\"1\" class=\"dataframe\">\n",
       "  <thead>\n",
       "    <tr style=\"text-align: right;\">\n",
       "      <th></th>\n",
       "      <th>platform</th>\n",
       "      <th>total_sales</th>\n",
       "    </tr>\n",
       "  </thead>\n",
       "  <tbody>\n",
       "    <tr>\n",
       "      <td>0</td>\n",
       "      <td>PS2</td>\n",
       "      <td>1255.77</td>\n",
       "    </tr>\n",
       "    <tr>\n",
       "      <td>1</td>\n",
       "      <td>X360</td>\n",
       "      <td>971.42</td>\n",
       "    </tr>\n",
       "    <tr>\n",
       "      <td>2</td>\n",
       "      <td>PS3</td>\n",
       "      <td>939.65</td>\n",
       "    </tr>\n",
       "    <tr>\n",
       "      <td>3</td>\n",
       "      <td>Wii</td>\n",
       "      <td>907.51</td>\n",
       "    </tr>\n",
       "    <tr>\n",
       "      <td>4</td>\n",
       "      <td>DS</td>\n",
       "      <td>806.12</td>\n",
       "    </tr>\n",
       "    <tr>\n",
       "      <td>5</td>\n",
       "      <td>PS</td>\n",
       "      <td>730.86</td>\n",
       "    </tr>\n",
       "    <tr>\n",
       "      <td>6</td>\n",
       "      <td>GBA</td>\n",
       "      <td>317.85</td>\n",
       "    </tr>\n",
       "    <tr>\n",
       "      <td>7</td>\n",
       "      <td>PS4</td>\n",
       "      <td>314.14</td>\n",
       "    </tr>\n",
       "    <tr>\n",
       "      <td>8</td>\n",
       "      <td>PSP</td>\n",
       "      <td>294.05</td>\n",
       "    </tr>\n",
       "    <tr>\n",
       "      <td>9</td>\n",
       "      <td>PC</td>\n",
       "      <td>259.52</td>\n",
       "    </tr>\n",
       "  </tbody>\n",
       "</table>\n",
       "</div>"
      ],
      "text/plain": [
       "  platform  total_sales\n",
       "0      PS2      1255.77\n",
       "1     X360       971.42\n",
       "2      PS3       939.65\n",
       "3      Wii       907.51\n",
       "4       DS       806.12\n",
       "5       PS       730.86\n",
       "6      GBA       317.85\n",
       "7      PS4       314.14\n",
       "8      PSP       294.05\n",
       "9       PC       259.52"
      ]
     },
     "execution_count": 562,
     "metadata": {},
     "output_type": "execute_result"
    }
   ],
   "source": [
    "df_new = df.query('year_of_release > 2013')\n",
    "#найдем платформы с наибольшими суммарными продажами\n",
    "platform_sales = df.groupby('platform')['total_sales'].sum().sort_values(ascending=False).reset_index().head(10)\n",
    "platform_sales.head(10)"
   ]
  },
  {
   "cell_type": "code",
   "execution_count": 563,
   "metadata": {},
   "outputs": [
    {
     "data": {
      "text/plain": [
       "['PS2', 'X360', 'PS3', 'Wii', 'DS', 'PS', 'GBA', 'PS4', 'PSP', 'PC']"
      ]
     },
     "execution_count": 563,
     "metadata": {},
     "output_type": "execute_result"
    }
   ],
   "source": [
    "top_platforms = platform_sales['platform'].to_list()\n",
    "top_platforms"
   ]
  },
  {
   "cell_type": "code",
   "execution_count": 564,
   "metadata": {
    "scrolled": true
   },
   "outputs": [
    {
     "data": {
      "text/html": [
       "<div>\n",
       "<style scoped>\n",
       "    .dataframe tbody tr th:only-of-type {\n",
       "        vertical-align: middle;\n",
       "    }\n",
       "\n",
       "    .dataframe tbody tr th {\n",
       "        vertical-align: top;\n",
       "    }\n",
       "\n",
       "    .dataframe thead th {\n",
       "        text-align: right;\n",
       "    }\n",
       "</style>\n",
       "<table border=\"1\" class=\"dataframe\">\n",
       "  <thead>\n",
       "    <tr style=\"text-align: right;\">\n",
       "      <th></th>\n",
       "      <th>name</th>\n",
       "      <th>platform</th>\n",
       "      <th>year_of_release</th>\n",
       "      <th>genre</th>\n",
       "      <th>na_sales</th>\n",
       "      <th>eu_sales</th>\n",
       "      <th>jp_sales</th>\n",
       "      <th>other_sales</th>\n",
       "      <th>critic_score</th>\n",
       "      <th>user_score</th>\n",
       "      <th>rating</th>\n",
       "      <th>total_sales</th>\n",
       "    </tr>\n",
       "  </thead>\n",
       "  <tbody>\n",
       "    <tr>\n",
       "      <td>31</td>\n",
       "      <td>Call of Duty: Black Ops 3</td>\n",
       "      <td>PS4</td>\n",
       "      <td>2015</td>\n",
       "      <td>Shooter</td>\n",
       "      <td>6.03</td>\n",
       "      <td>5.86</td>\n",
       "      <td>0.36</td>\n",
       "      <td>2.38</td>\n",
       "      <td>-1.0</td>\n",
       "      <td>-1.0</td>\n",
       "      <td>Unknown</td>\n",
       "      <td>14.63</td>\n",
       "    </tr>\n",
       "    <tr>\n",
       "      <td>42</td>\n",
       "      <td>Grand Theft Auto V</td>\n",
       "      <td>PS4</td>\n",
       "      <td>2014</td>\n",
       "      <td>Action</td>\n",
       "      <td>3.96</td>\n",
       "      <td>6.31</td>\n",
       "      <td>0.38</td>\n",
       "      <td>1.97</td>\n",
       "      <td>97.0</td>\n",
       "      <td>8.3</td>\n",
       "      <td>M</td>\n",
       "      <td>12.62</td>\n",
       "    </tr>\n",
       "    <tr>\n",
       "      <td>77</td>\n",
       "      <td>FIFA 16</td>\n",
       "      <td>PS4</td>\n",
       "      <td>2015</td>\n",
       "      <td>Sports</td>\n",
       "      <td>1.12</td>\n",
       "      <td>6.12</td>\n",
       "      <td>0.06</td>\n",
       "      <td>1.28</td>\n",
       "      <td>82.0</td>\n",
       "      <td>4.3</td>\n",
       "      <td>E</td>\n",
       "      <td>8.58</td>\n",
       "    </tr>\n",
       "    <tr>\n",
       "      <td>87</td>\n",
       "      <td>Star Wars Battlefront (2015)</td>\n",
       "      <td>PS4</td>\n",
       "      <td>2015</td>\n",
       "      <td>Shooter</td>\n",
       "      <td>2.99</td>\n",
       "      <td>3.49</td>\n",
       "      <td>0.22</td>\n",
       "      <td>1.28</td>\n",
       "      <td>-1.0</td>\n",
       "      <td>-1.0</td>\n",
       "      <td>Unknown</td>\n",
       "      <td>7.98</td>\n",
       "    </tr>\n",
       "    <tr>\n",
       "      <td>92</td>\n",
       "      <td>Call of Duty: Advanced Warfare</td>\n",
       "      <td>PS4</td>\n",
       "      <td>2014</td>\n",
       "      <td>Shooter</td>\n",
       "      <td>2.81</td>\n",
       "      <td>3.48</td>\n",
       "      <td>0.14</td>\n",
       "      <td>1.23</td>\n",
       "      <td>83.0</td>\n",
       "      <td>5.7</td>\n",
       "      <td>M</td>\n",
       "      <td>7.66</td>\n",
       "    </tr>\n",
       "  </tbody>\n",
       "</table>\n",
       "</div>"
      ],
      "text/plain": [
       "                              name platform  year_of_release    genre  \\\n",
       "31       Call of Duty: Black Ops 3      PS4             2015  Shooter   \n",
       "42              Grand Theft Auto V      PS4             2014   Action   \n",
       "77                         FIFA 16      PS4             2015   Sports   \n",
       "87    Star Wars Battlefront (2015)      PS4             2015  Shooter   \n",
       "92  Call of Duty: Advanced Warfare      PS4             2014  Shooter   \n",
       "\n",
       "    na_sales  eu_sales  jp_sales  other_sales  critic_score  user_score  \\\n",
       "31      6.03      5.86      0.36         2.38          -1.0        -1.0   \n",
       "42      3.96      6.31      0.38         1.97          97.0         8.3   \n",
       "77      1.12      6.12      0.06         1.28          82.0         4.3   \n",
       "87      2.99      3.49      0.22         1.28          -1.0        -1.0   \n",
       "92      2.81      3.48      0.14         1.23          83.0         5.7   \n",
       "\n",
       "     rating  total_sales  \n",
       "31  Unknown        14.63  \n",
       "42        M        12.62  \n",
       "77        E         8.58  \n",
       "87  Unknown         7.98  \n",
       "92        M         7.66  "
      ]
     },
     "execution_count": 564,
     "metadata": {},
     "output_type": "execute_result"
    }
   ],
   "source": [
    "df_new_top = df_new.query('platform in @top_platforms')\n",
    "df_new_top.head()"
   ]
  },
  {
   "cell_type": "code",
   "execution_count": 565,
   "metadata": {},
   "outputs": [
    {
     "data": {
      "text/html": [
       "<div>\n",
       "<style scoped>\n",
       "    .dataframe tbody tr th:only-of-type {\n",
       "        vertical-align: middle;\n",
       "    }\n",
       "\n",
       "    .dataframe tbody tr th {\n",
       "        vertical-align: top;\n",
       "    }\n",
       "\n",
       "    .dataframe thead th {\n",
       "        text-align: right;\n",
       "    }\n",
       "</style>\n",
       "<table border=\"1\" class=\"dataframe\">\n",
       "  <thead>\n",
       "    <tr style=\"text-align: right;\">\n",
       "      <th>year_of_release</th>\n",
       "      <th>2014</th>\n",
       "      <th>2015</th>\n",
       "      <th>2016</th>\n",
       "    </tr>\n",
       "    <tr>\n",
       "      <th>platform</th>\n",
       "      <th></th>\n",
       "      <th></th>\n",
       "      <th></th>\n",
       "    </tr>\n",
       "  </thead>\n",
       "  <tbody>\n",
       "    <tr>\n",
       "      <td>PC</td>\n",
       "      <td>13.28</td>\n",
       "      <td>8.52</td>\n",
       "      <td>5.25</td>\n",
       "    </tr>\n",
       "    <tr>\n",
       "      <td>PS3</td>\n",
       "      <td>47.76</td>\n",
       "      <td>16.82</td>\n",
       "      <td>3.6</td>\n",
       "    </tr>\n",
       "    <tr>\n",
       "      <td>PS4</td>\n",
       "      <td>100.00</td>\n",
       "      <td>118.90</td>\n",
       "      <td>69.25</td>\n",
       "    </tr>\n",
       "    <tr>\n",
       "      <td>PSP</td>\n",
       "      <td>0.24</td>\n",
       "      <td>0.12</td>\n",
       "      <td>-</td>\n",
       "    </tr>\n",
       "    <tr>\n",
       "      <td>Wii</td>\n",
       "      <td>3.75</td>\n",
       "      <td>1.14</td>\n",
       "      <td>0.18</td>\n",
       "    </tr>\n",
       "    <tr>\n",
       "      <td>X360</td>\n",
       "      <td>34.74</td>\n",
       "      <td>11.96</td>\n",
       "      <td>1.52</td>\n",
       "    </tr>\n",
       "  </tbody>\n",
       "</table>\n",
       "</div>"
      ],
      "text/plain": [
       "year_of_release    2014    2015   2016\n",
       "platform                              \n",
       "PC                13.28    8.52   5.25\n",
       "PS3               47.76   16.82    3.6\n",
       "PS4              100.00  118.90  69.25\n",
       "PSP                0.24    0.12      -\n",
       "Wii                3.75    1.14   0.18\n",
       "X360              34.74   11.96   1.52"
      ]
     },
     "execution_count": 565,
     "metadata": {},
     "output_type": "execute_result"
    }
   ],
   "source": [
    "#сводная таблица уже по новым данным\n",
    "df_new_top.pivot_table(index='platform', columns='year_of_release', values='total_sales', aggfunc='sum', fill_value='-')"
   ]
  },
  {
   "cell_type": "markdown",
   "metadata": {},
   "source": [
    "За исследуемый период с 2014 по 2016 года назвать потенциально прибыльной (учитывая, что в нашем распоряжении данные не за полный 2016 год) можно только платформу PS4.У остальных топовых платформ выручка снижается."
   ]
  },
  {
   "cell_type": "markdown",
   "metadata": {},
   "source": [
    "Построим «ящик с усами» по глобальным продажам c разбивкой по платформам."
   ]
  },
  {
   "cell_type": "code",
   "execution_count": 566,
   "metadata": {},
   "outputs": [
    {
     "data": {
      "image/png": "[encoded data removed]",
      "text/plain": [
       "<Figure size 1080x1080 with 1 Axes>"
      ]
     },
     "metadata": {
      "needs_background": "light"
     },
     "output_type": "display_data"
    },
    {
     "name": "stdout",
     "output_type": "stream",
     "text": [
      "\n"
     ]
    }
   ],
   "source": [
    "\n",
    "\n",
    "# Построим график «ящик с усами» по глобальным продажам игр в разбивке по платформам\n",
    "plt.figure(figsize=(15,15))\n",
    "sns.boxplot(x = 'total_sales', y = 'platform', data = df_new_top.query('total_sales < 10'), orient=\"h\", palette=\"Set3\")\n",
    "plt.title(f'По параметру total_sales')\n",
    "plt.xlim([0,0.1])\n",
    "plt.xticks([0,1,2,3])\n",
    "plt.show()\n",
    "\n",
    "print()"
   ]
  },
  {
   "cell_type": "code",
   "execution_count": 567,
   "metadata": {},
   "outputs": [
    {
     "data": {
      "image/png": "[encoded data removed]",
      "text/plain": [
       "<Figure size 720x720 with 1 Axes>"
      ]
     },
     "metadata": {
      "needs_background": "light"
     },
     "output_type": "display_data"
    }
   ],
   "source": [
    "plot = df_new_top.boxplot('total_sales', figsize=(10, 10)).set_ylim(0, 1.5)"
   ]
  },
  {
   "cell_type": "markdown",
   "metadata": {},
   "source": [
    "Разница в продажах игр очень велика.На графике очень много выбросов (больших значений)."
   ]
  },
  {
   "cell_type": "code",
   "execution_count": 568,
   "metadata": {},
   "outputs": [
    {
     "data": {
      "text/plain": [
       "Text(0.5, 0, 'Выручка, млн дол.')"
      ]
     },
     "execution_count": 568,
     "metadata": {},
     "output_type": "execute_result"
    },
    {
     "data": {
      "image/png": "[encoded data removed]",
      "text/plain": [
       "<Figure size 432x288 with 1 Axes>"
      ]
     },
     "metadata": {
      "needs_background": "light"
     },
     "output_type": "display_data"
    }
   ],
   "source": [
    "\n",
    "p = df_new.groupby('platform')['total_sales'].sum().reset_index()\n",
    "ax = sns.boxplot('total_sales', data=p)\n",
    "ax.set_title('Глобальные сборы по платформам')\n",
    "ax.set_xlabel('Выручка, млн дол.')"
   ]
  },
  {
   "cell_type": "markdown",
   "metadata": {},
   "source": [
    "Основная часть значений находится в промежутке 100 - 400, также видим хвост из больших значений, которые однако не влияют на медиану."
   ]
  },
  {
   "cell_type": "code",
   "execution_count": 569,
   "metadata": {},
   "outputs": [
    {
     "data": {
      "text/plain": [
       "Text(0, 0.5, '')"
      ]
     },
     "execution_count": 569,
     "metadata": {},
     "output_type": "execute_result"
    },
    {
     "data": {
      "image/png": "[encoded data removed]",
      "text/plain": [
       "<Figure size 648x648 with 1 Axes>"
      ]
     },
     "metadata": {},
     "output_type": "display_data"
    }
   ],
   "source": [
    "#посмотрим на среднюю выручку платформ по годам за выбранный период\n",
    "revenue_mean = df_new.groupby('platform')['total_sales'].mean()\n",
    "revenue_mean.plot(kind='pie', figsize=(9, 9), autopct='%1.0f%%', shadow=True, title='Доля выручки платформ за 2014-2016 гг.')\n",
    "ax = plt.gca()\n",
    "ax.set_ylabel('')"
   ]
  },
  {
   "cell_type": "markdown",
   "metadata": {},
   "source": [
    "За выбранный период есть несколько лидеров по средним продажам - PS4, X360, PS3, Wii, и XOne."
   ]
  },
  {
   "cell_type": "markdown",
   "metadata": {},
   "source": [
    " Построим диаграммы рассеяния и посчитаем корреляцию между отзывами и продажами."
   ]
  },
  {
   "cell_type": "markdown",
   "metadata": {},
   "source": [
    "Посмотрим, как графики и корреляция будут выглядеть для всех десяти платформ."
   ]
  },
  {
   "cell_type": "code",
   "execution_count": 570,
   "metadata": {},
   "outputs": [
    {
     "data": {
      "text/plain": [
       "Text(0.5, 0, 'Оценка пользователей')"
      ]
     },
     "execution_count": 570,
     "metadata": {},
     "output_type": "execute_result"
    },
    {
     "data": {
      "image/png": "[encoded data removed]",
      "text/plain": [
       "<Figure size 432x288 with 1 Axes>"
      ]
     },
     "metadata": {
      "needs_background": "light"
     },
     "output_type": "display_data"
    }
   ],
   "source": [
    "df_new_filtered = df_new.query('user_score != -1 and critic_score != -1')\n",
    "df_new_filtered.plot(y='total_sales', x='user_score', kind='scatter', alpha=0.5, title='Зависимость выручки всех платформ от оценки пользователей')\n",
    "ax = plt.gca()\n",
    "ax.set_ylabel('Выручка, млн дол.')\n",
    "ax.set_xlabel('Оценка пользователей')"
   ]
  },
  {
   "cell_type": "code",
   "execution_count": 571,
   "metadata": {},
   "outputs": [
    {
     "data": {
      "text/plain": [
       "0.005202258360087501"
      ]
     },
     "execution_count": 571,
     "metadata": {},
     "output_type": "execute_result"
    }
   ],
   "source": [
    "df_new_filtered['total_sales'].corr(df_new_filtered['user_score'])#корреляция\n"
   ]
  },
  {
   "cell_type": "code",
   "execution_count": 572,
   "metadata": {},
   "outputs": [
    {
     "data": {
      "text/plain": [
       "Text(0.5, 0, 'Оценка критиков')"
      ]
     },
     "execution_count": 572,
     "metadata": {},
     "output_type": "execute_result"
    },
    {
     "data": {
      "image/png": "[encoded data removed]",
      "text/plain": [
       "<Figure size 432x288 with 1 Axes>"
      ]
     },
     "metadata": {
      "needs_background": "light"
     },
     "output_type": "display_data"
    }
   ],
   "source": [
    "df_new_filtered.plot(y='total_sales', x='critic_score', kind='scatter', alpha=0.5, title='Зависимость выручки всех платформ от оценки критиков')\n",
    "ax = plt.gca()\n",
    "ax.set_ylabel('Выручка, млн дол.')\n",
    "ax.set_xlabel('Оценка критиков')"
   ]
  },
  {
   "cell_type": "code",
   "execution_count": 573,
   "metadata": {},
   "outputs": [
    {
     "data": {
      "text/plain": [
       "0.32536261200758865"
      ]
     },
     "execution_count": 573,
     "metadata": {},
     "output_type": "execute_result"
    }
   ],
   "source": [
    "df_new_filtered['total_sales'].corr(df_new_filtered['critic_score'])#корреляция"
   ]
  },
  {
   "cell_type": "markdown",
   "metadata": {},
   "source": [
    " Разница в корреляции оценка критика/выручка и оценка пользователя/выручка небольшая."
   ]
  },
  {
   "cell_type": "code",
   "execution_count": 574,
   "metadata": {
    "scrolled": true
   },
   "outputs": [
    {
     "data": {
      "text/html": [
       "<div>\n",
       "<style scoped>\n",
       "    .dataframe tbody tr th:only-of-type {\n",
       "        vertical-align: middle;\n",
       "    }\n",
       "\n",
       "    .dataframe tbody tr th {\n",
       "        vertical-align: top;\n",
       "    }\n",
       "\n",
       "    .dataframe thead th {\n",
       "        text-align: right;\n",
       "    }\n",
       "</style>\n",
       "<table border=\"1\" class=\"dataframe\">\n",
       "  <thead>\n",
       "    <tr style=\"text-align: right;\">\n",
       "      <th></th>\n",
       "      <th>name</th>\n",
       "      <th>platform</th>\n",
       "      <th>year_of_release</th>\n",
       "      <th>genre</th>\n",
       "      <th>na_sales</th>\n",
       "      <th>eu_sales</th>\n",
       "      <th>jp_sales</th>\n",
       "      <th>other_sales</th>\n",
       "      <th>critic_score</th>\n",
       "      <th>user_score</th>\n",
       "      <th>rating</th>\n",
       "      <th>total_sales</th>\n",
       "    </tr>\n",
       "  </thead>\n",
       "  <tbody>\n",
       "    <tr>\n",
       "      <td>42</td>\n",
       "      <td>Grand Theft Auto V</td>\n",
       "      <td>PS4</td>\n",
       "      <td>2014</td>\n",
       "      <td>Action</td>\n",
       "      <td>3.96</td>\n",
       "      <td>6.31</td>\n",
       "      <td>0.38</td>\n",
       "      <td>1.97</td>\n",
       "      <td>97.0</td>\n",
       "      <td>8.3</td>\n",
       "      <td>M</td>\n",
       "      <td>12.62</td>\n",
       "    </tr>\n",
       "    <tr>\n",
       "      <td>77</td>\n",
       "      <td>FIFA 16</td>\n",
       "      <td>PS4</td>\n",
       "      <td>2015</td>\n",
       "      <td>Sports</td>\n",
       "      <td>1.12</td>\n",
       "      <td>6.12</td>\n",
       "      <td>0.06</td>\n",
       "      <td>1.28</td>\n",
       "      <td>82.0</td>\n",
       "      <td>4.3</td>\n",
       "      <td>E</td>\n",
       "      <td>8.58</td>\n",
       "    </tr>\n",
       "    <tr>\n",
       "      <td>92</td>\n",
       "      <td>Call of Duty: Advanced Warfare</td>\n",
       "      <td>PS4</td>\n",
       "      <td>2014</td>\n",
       "      <td>Shooter</td>\n",
       "      <td>2.81</td>\n",
       "      <td>3.48</td>\n",
       "      <td>0.14</td>\n",
       "      <td>1.23</td>\n",
       "      <td>83.0</td>\n",
       "      <td>5.7</td>\n",
       "      <td>M</td>\n",
       "      <td>7.66</td>\n",
       "    </tr>\n",
       "    <tr>\n",
       "      <td>94</td>\n",
       "      <td>FIFA 17</td>\n",
       "      <td>PS4</td>\n",
       "      <td>2016</td>\n",
       "      <td>Sports</td>\n",
       "      <td>0.66</td>\n",
       "      <td>5.75</td>\n",
       "      <td>0.08</td>\n",
       "      <td>1.11</td>\n",
       "      <td>85.0</td>\n",
       "      <td>5.0</td>\n",
       "      <td>E</td>\n",
       "      <td>7.60</td>\n",
       "    </tr>\n",
       "    <tr>\n",
       "      <td>105</td>\n",
       "      <td>Fallout 4</td>\n",
       "      <td>PS4</td>\n",
       "      <td>2015</td>\n",
       "      <td>Role-Playing</td>\n",
       "      <td>2.53</td>\n",
       "      <td>3.27</td>\n",
       "      <td>0.24</td>\n",
       "      <td>1.13</td>\n",
       "      <td>87.0</td>\n",
       "      <td>6.5</td>\n",
       "      <td>M</td>\n",
       "      <td>7.17</td>\n",
       "    </tr>\n",
       "    <tr>\n",
       "      <td>...</td>\n",
       "      <td>...</td>\n",
       "      <td>...</td>\n",
       "      <td>...</td>\n",
       "      <td>...</td>\n",
       "      <td>...</td>\n",
       "      <td>...</td>\n",
       "      <td>...</td>\n",
       "      <td>...</td>\n",
       "      <td>...</td>\n",
       "      <td>...</td>\n",
       "      <td>...</td>\n",
       "      <td>...</td>\n",
       "    </tr>\n",
       "    <tr>\n",
       "      <td>16486</td>\n",
       "      <td>Super Dungeon Bros</td>\n",
       "      <td>PS4</td>\n",
       "      <td>2016</td>\n",
       "      <td>Action</td>\n",
       "      <td>0.01</td>\n",
       "      <td>0.00</td>\n",
       "      <td>0.00</td>\n",
       "      <td>0.00</td>\n",
       "      <td>42.0</td>\n",
       "      <td>2.3</td>\n",
       "      <td>E10+</td>\n",
       "      <td>0.01</td>\n",
       "    </tr>\n",
       "    <tr>\n",
       "      <td>16499</td>\n",
       "      <td>Sherlock Holmes: The Devil's Daughter</td>\n",
       "      <td>PS4</td>\n",
       "      <td>2016</td>\n",
       "      <td>Adventure</td>\n",
       "      <td>0.01</td>\n",
       "      <td>0.00</td>\n",
       "      <td>0.00</td>\n",
       "      <td>0.00</td>\n",
       "      <td>70.0</td>\n",
       "      <td>6.8</td>\n",
       "      <td>T</td>\n",
       "      <td>0.01</td>\n",
       "    </tr>\n",
       "    <tr>\n",
       "      <td>16500</td>\n",
       "      <td>Root Letter</td>\n",
       "      <td>PS4</td>\n",
       "      <td>2016</td>\n",
       "      <td>Adventure</td>\n",
       "      <td>0.00</td>\n",
       "      <td>0.00</td>\n",
       "      <td>0.01</td>\n",
       "      <td>0.00</td>\n",
       "      <td>69.0</td>\n",
       "      <td>7.5</td>\n",
       "      <td>Unknown</td>\n",
       "      <td>0.01</td>\n",
       "    </tr>\n",
       "    <tr>\n",
       "      <td>16526</td>\n",
       "      <td>Dungeons 2</td>\n",
       "      <td>PS4</td>\n",
       "      <td>2016</td>\n",
       "      <td>Role-Playing</td>\n",
       "      <td>0.01</td>\n",
       "      <td>0.00</td>\n",
       "      <td>0.00</td>\n",
       "      <td>0.00</td>\n",
       "      <td>61.0</td>\n",
       "      <td>7.9</td>\n",
       "      <td>T</td>\n",
       "      <td>0.01</td>\n",
       "    </tr>\n",
       "    <tr>\n",
       "      <td>16530</td>\n",
       "      <td>Carmageddon: Max Damage</td>\n",
       "      <td>PS4</td>\n",
       "      <td>2016</td>\n",
       "      <td>Action</td>\n",
       "      <td>0.01</td>\n",
       "      <td>0.00</td>\n",
       "      <td>0.00</td>\n",
       "      <td>0.00</td>\n",
       "      <td>51.0</td>\n",
       "      <td>5.5</td>\n",
       "      <td>M</td>\n",
       "      <td>0.01</td>\n",
       "    </tr>\n",
       "  </tbody>\n",
       "</table>\n",
       "<p>234 rows × 12 columns</p>\n",
       "</div>"
      ],
      "text/plain": [
       "                                        name platform  year_of_release  \\\n",
       "42                        Grand Theft Auto V      PS4             2014   \n",
       "77                                   FIFA 16      PS4             2015   \n",
       "92            Call of Duty: Advanced Warfare      PS4             2014   \n",
       "94                                   FIFA 17      PS4             2016   \n",
       "105                                Fallout 4      PS4             2015   \n",
       "...                                      ...      ...              ...   \n",
       "16486                     Super Dungeon Bros      PS4             2016   \n",
       "16499  Sherlock Holmes: The Devil's Daughter      PS4             2016   \n",
       "16500                            Root Letter      PS4             2016   \n",
       "16526                             Dungeons 2      PS4             2016   \n",
       "16530                Carmageddon: Max Damage      PS4             2016   \n",
       "\n",
       "              genre  na_sales  eu_sales  jp_sales  other_sales  critic_score  \\\n",
       "42           Action      3.96      6.31      0.38         1.97          97.0   \n",
       "77           Sports      1.12      6.12      0.06         1.28          82.0   \n",
       "92          Shooter      2.81      3.48      0.14         1.23          83.0   \n",
       "94           Sports      0.66      5.75      0.08         1.11          85.0   \n",
       "105    Role-Playing      2.53      3.27      0.24         1.13          87.0   \n",
       "...             ...       ...       ...       ...          ...           ...   \n",
       "16486        Action      0.01      0.00      0.00         0.00          42.0   \n",
       "16499     Adventure      0.01      0.00      0.00         0.00          70.0   \n",
       "16500     Adventure      0.00      0.00      0.01         0.00          69.0   \n",
       "16526  Role-Playing      0.01      0.00      0.00         0.00          61.0   \n",
       "16530        Action      0.01      0.00      0.00         0.00          51.0   \n",
       "\n",
       "       user_score   rating  total_sales  \n",
       "42            8.3        M        12.62  \n",
       "77            4.3        E         8.58  \n",
       "92            5.7        M         7.66  \n",
       "94            5.0        E         7.60  \n",
       "105           6.5        M         7.17  \n",
       "...           ...      ...          ...  \n",
       "16486         2.3     E10+         0.01  \n",
       "16499         6.8        T         0.01  \n",
       "16500         7.5  Unknown         0.01  \n",
       "16526         7.9        T         0.01  \n",
       "16530         5.5        M         0.01  \n",
       "\n",
       "[234 rows x 12 columns]"
      ]
     },
     "execution_count": 574,
     "metadata": {},
     "output_type": "execute_result"
    }
   ],
   "source": [
    "#выделим в отдельную таблицу продажи по PS4\n",
    "df_new_ps4 = df_new.query('platform == \"PS4\" and user_score != -1 and critic_score != -1')\n",
    "df_new_ps4"
   ]
  },
  {
   "cell_type": "code",
   "execution_count": 575,
   "metadata": {},
   "outputs": [
    {
     "data": {
      "text/plain": [
       "Text(0.5, 0, 'Оценка пользователей')"
      ]
     },
     "execution_count": 575,
     "metadata": {},
     "output_type": "execute_result"
    },
    {
     "data": {
      "image/png": "[encoded data removed]",
      "text/plain": [
       "<Figure size 432x288 with 1 Axes>"
      ]
     },
     "metadata": {
      "needs_background": "light"
     },
     "output_type": "display_data"
    }
   ],
   "source": [
    "df_new_ps4.plot(y='total_sales', x='user_score', kind='scatter', alpha=0.5, title='Зависимость выручки PS4 от оценки пользователей')\n",
    "ax = plt.gca()\n",
    "ax.set_ylabel('Выручка, млн дол.')\n",
    "ax.set_xlabel('Оценка пользователей')"
   ]
  },
  {
   "cell_type": "code",
   "execution_count": 576,
   "metadata": {},
   "outputs": [
    {
     "data": {
      "text/plain": [
       "-0.04318585997193634"
      ]
     },
     "execution_count": 576,
     "metadata": {},
     "output_type": "execute_result"
    }
   ],
   "source": [
    "df_new_ps4['total_sales'].corr(df_new_ps4['user_score'])#корреляция"
   ]
  },
  {
   "cell_type": "code",
   "execution_count": 577,
   "metadata": {},
   "outputs": [
    {
     "data": {
      "text/plain": [
       "Text(0.5, 0, 'Оценка критиков')"
      ]
     },
     "execution_count": 577,
     "metadata": {},
     "output_type": "execute_result"
    },
    {
     "data": {
      "image/png": "[encoded data removed]",
      "text/plain": [
       "<Figure size 432x288 with 1 Axes>"
      ]
     },
     "metadata": {
      "needs_background": "light"
     },
     "output_type": "display_data"
    }
   ],
   "source": [
    "df_new_ps4.plot(y='total_sales', x='critic_score', kind='scatter', alpha=0.5, title='Зависимость выручки PS4 от оценки критиков')\n",
    "ax = plt.gca()\n",
    "ax.set_ylabel('Выручка, млн дол.')\n",
    "ax.set_xlabel('Оценка критиков')"
   ]
  },
  {
   "cell_type": "code",
   "execution_count": 578,
   "metadata": {},
   "outputs": [
    {
     "data": {
      "text/plain": [
       "0.40190287811475334"
      ]
     },
     "execution_count": 578,
     "metadata": {},
     "output_type": "execute_result"
    }
   ],
   "source": [
    "df_new_ps4['total_sales'].corr(df_new_ps4['critic_score'])#корреляция"
   ]
  },
  {
   "cell_type": "code",
   "execution_count": 579,
   "metadata": {},
   "outputs": [
    {
     "data": {
      "text/html": [
       "<div>\n",
       "<style scoped>\n",
       "    .dataframe tbody tr th:only-of-type {\n",
       "        vertical-align: middle;\n",
       "    }\n",
       "\n",
       "    .dataframe tbody tr th {\n",
       "        vertical-align: top;\n",
       "    }\n",
       "\n",
       "    .dataframe thead th {\n",
       "        text-align: right;\n",
       "    }\n",
       "</style>\n",
       "<table border=\"1\" class=\"dataframe\">\n",
       "  <thead>\n",
       "    <tr style=\"text-align: right;\">\n",
       "      <th></th>\n",
       "      <th>name</th>\n",
       "      <th>platform</th>\n",
       "      <th>year_of_release</th>\n",
       "      <th>genre</th>\n",
       "      <th>na_sales</th>\n",
       "      <th>eu_sales</th>\n",
       "      <th>jp_sales</th>\n",
       "      <th>other_sales</th>\n",
       "      <th>critic_score</th>\n",
       "      <th>user_score</th>\n",
       "      <th>rating</th>\n",
       "      <th>total_sales</th>\n",
       "    </tr>\n",
       "  </thead>\n",
       "  <tbody>\n",
       "    <tr>\n",
       "      <td>1422</td>\n",
       "      <td>Titanfall</td>\n",
       "      <td>X360</td>\n",
       "      <td>2014</td>\n",
       "      <td>Shooter</td>\n",
       "      <td>0.87</td>\n",
       "      <td>0.34</td>\n",
       "      <td>0.02</td>\n",
       "      <td>0.13</td>\n",
       "      <td>83.0</td>\n",
       "      <td>5.9</td>\n",
       "      <td>M</td>\n",
       "      <td>1.36</td>\n",
       "    </tr>\n",
       "    <tr>\n",
       "      <td>1548</td>\n",
       "      <td>The LEGO Movie Videogame</td>\n",
       "      <td>X360</td>\n",
       "      <td>2014</td>\n",
       "      <td>Action</td>\n",
       "      <td>0.69</td>\n",
       "      <td>0.47</td>\n",
       "      <td>0.00</td>\n",
       "      <td>0.11</td>\n",
       "      <td>69.0</td>\n",
       "      <td>7.2</td>\n",
       "      <td>E10+</td>\n",
       "      <td>1.27</td>\n",
       "    </tr>\n",
       "    <tr>\n",
       "      <td>1911</td>\n",
       "      <td>Plants vs. Zombies: Garden Warfare</td>\n",
       "      <td>X360</td>\n",
       "      <td>2014</td>\n",
       "      <td>Shooter</td>\n",
       "      <td>0.51</td>\n",
       "      <td>0.47</td>\n",
       "      <td>0.00</td>\n",
       "      <td>0.09</td>\n",
       "      <td>69.0</td>\n",
       "      <td>7.3</td>\n",
       "      <td>E10+</td>\n",
       "      <td>1.07</td>\n",
       "    </tr>\n",
       "    <tr>\n",
       "      <td>2050</td>\n",
       "      <td>Assassin's Creed: Rogue</td>\n",
       "      <td>X360</td>\n",
       "      <td>2014</td>\n",
       "      <td>Action</td>\n",
       "      <td>0.58</td>\n",
       "      <td>0.34</td>\n",
       "      <td>0.00</td>\n",
       "      <td>0.09</td>\n",
       "      <td>72.0</td>\n",
       "      <td>7.3</td>\n",
       "      <td>M</td>\n",
       "      <td>1.01</td>\n",
       "    </tr>\n",
       "    <tr>\n",
       "      <td>2249</td>\n",
       "      <td>South Park: The Stick of Truth</td>\n",
       "      <td>X360</td>\n",
       "      <td>2014</td>\n",
       "      <td>Role-Playing</td>\n",
       "      <td>0.58</td>\n",
       "      <td>0.26</td>\n",
       "      <td>0.00</td>\n",
       "      <td>0.09</td>\n",
       "      <td>82.0</td>\n",
       "      <td>8.4</td>\n",
       "      <td>M</td>\n",
       "      <td>0.93</td>\n",
       "    </tr>\n",
       "    <tr>\n",
       "      <td>2756</td>\n",
       "      <td>Dark Souls II</td>\n",
       "      <td>X360</td>\n",
       "      <td>2014</td>\n",
       "      <td>Role-Playing</td>\n",
       "      <td>0.48</td>\n",
       "      <td>0.18</td>\n",
       "      <td>0.01</td>\n",
       "      <td>0.07</td>\n",
       "      <td>91.0</td>\n",
       "      <td>7.9</td>\n",
       "      <td>T</td>\n",
       "      <td>0.74</td>\n",
       "    </tr>\n",
       "    <tr>\n",
       "      <td>2847</td>\n",
       "      <td>Borderlands: The Pre-Sequel</td>\n",
       "      <td>X360</td>\n",
       "      <td>2014</td>\n",
       "      <td>Shooter</td>\n",
       "      <td>0.46</td>\n",
       "      <td>0.19</td>\n",
       "      <td>0.01</td>\n",
       "      <td>0.07</td>\n",
       "      <td>74.0</td>\n",
       "      <td>6.4</td>\n",
       "      <td>M</td>\n",
       "      <td>0.73</td>\n",
       "    </tr>\n",
       "    <tr>\n",
       "      <td>3139</td>\n",
       "      <td>WWE 2K15</td>\n",
       "      <td>X360</td>\n",
       "      <td>2014</td>\n",
       "      <td>Sports</td>\n",
       "      <td>0.38</td>\n",
       "      <td>0.20</td>\n",
       "      <td>0.00</td>\n",
       "      <td>0.06</td>\n",
       "      <td>50.0</td>\n",
       "      <td>4.0</td>\n",
       "      <td>T</td>\n",
       "      <td>0.64</td>\n",
       "    </tr>\n",
       "    <tr>\n",
       "      <td>4283</td>\n",
       "      <td>LEGO The Hobbit</td>\n",
       "      <td>X360</td>\n",
       "      <td>2014</td>\n",
       "      <td>Action</td>\n",
       "      <td>0.20</td>\n",
       "      <td>0.21</td>\n",
       "      <td>0.00</td>\n",
       "      <td>0.04</td>\n",
       "      <td>70.0</td>\n",
       "      <td>8.7</td>\n",
       "      <td>E10+</td>\n",
       "      <td>0.45</td>\n",
       "    </tr>\n",
       "    <tr>\n",
       "      <td>4550</td>\n",
       "      <td>2014 FIFA World Cup Brazil</td>\n",
       "      <td>X360</td>\n",
       "      <td>2014</td>\n",
       "      <td>Sports</td>\n",
       "      <td>0.15</td>\n",
       "      <td>0.25</td>\n",
       "      <td>0.00</td>\n",
       "      <td>0.03</td>\n",
       "      <td>74.0</td>\n",
       "      <td>4.4</td>\n",
       "      <td>E</td>\n",
       "      <td>0.43</td>\n",
       "    </tr>\n",
       "    <tr>\n",
       "      <td>7118</td>\n",
       "      <td>F1 2014</td>\n",
       "      <td>X360</td>\n",
       "      <td>2014</td>\n",
       "      <td>Racing</td>\n",
       "      <td>0.08</td>\n",
       "      <td>0.13</td>\n",
       "      <td>0.00</td>\n",
       "      <td>0.02</td>\n",
       "      <td>64.0</td>\n",
       "      <td>4.1</td>\n",
       "      <td>E</td>\n",
       "      <td>0.23</td>\n",
       "    </tr>\n",
       "    <tr>\n",
       "      <td>7262</td>\n",
       "      <td>Naruto Shippuden: Ultimate Ninja Storm Revolution</td>\n",
       "      <td>X360</td>\n",
       "      <td>2014</td>\n",
       "      <td>Fighting</td>\n",
       "      <td>0.14</td>\n",
       "      <td>0.06</td>\n",
       "      <td>0.00</td>\n",
       "      <td>0.02</td>\n",
       "      <td>62.0</td>\n",
       "      <td>7.3</td>\n",
       "      <td>T</td>\n",
       "      <td>0.22</td>\n",
       "    </tr>\n",
       "    <tr>\n",
       "      <td>8426</td>\n",
       "      <td>NASCAR '14</td>\n",
       "      <td>X360</td>\n",
       "      <td>2014</td>\n",
       "      <td>Racing</td>\n",
       "      <td>0.15</td>\n",
       "      <td>0.00</td>\n",
       "      <td>0.00</td>\n",
       "      <td>0.02</td>\n",
       "      <td>65.0</td>\n",
       "      <td>5.1</td>\n",
       "      <td>E</td>\n",
       "      <td>0.17</td>\n",
       "    </tr>\n",
       "    <tr>\n",
       "      <td>10399</td>\n",
       "      <td>Pac-Man and the Ghostly Adventures 2</td>\n",
       "      <td>X360</td>\n",
       "      <td>2014</td>\n",
       "      <td>Adventure</td>\n",
       "      <td>0.05</td>\n",
       "      <td>0.04</td>\n",
       "      <td>0.00</td>\n",
       "      <td>0.01</td>\n",
       "      <td>60.0</td>\n",
       "      <td>6.5</td>\n",
       "      <td>E10+</td>\n",
       "      <td>0.10</td>\n",
       "    </tr>\n",
       "    <tr>\n",
       "      <td>11023</td>\n",
       "      <td>Castlevania: Lords of Shadow 2</td>\n",
       "      <td>X360</td>\n",
       "      <td>2014</td>\n",
       "      <td>Action</td>\n",
       "      <td>0.02</td>\n",
       "      <td>0.06</td>\n",
       "      <td>0.00</td>\n",
       "      <td>0.01</td>\n",
       "      <td>70.0</td>\n",
       "      <td>7.8</td>\n",
       "      <td>M</td>\n",
       "      <td>0.09</td>\n",
       "    </tr>\n",
       "    <tr>\n",
       "      <td>11146</td>\n",
       "      <td>GRID Autosport</td>\n",
       "      <td>X360</td>\n",
       "      <td>2014</td>\n",
       "      <td>Racing</td>\n",
       "      <td>0.03</td>\n",
       "      <td>0.05</td>\n",
       "      <td>0.00</td>\n",
       "      <td>0.01</td>\n",
       "      <td>75.0</td>\n",
       "      <td>6.0</td>\n",
       "      <td>E</td>\n",
       "      <td>0.09</td>\n",
       "    </tr>\n",
       "    <tr>\n",
       "      <td>11451</td>\n",
       "      <td>Persona 4: Arena Ultimax</td>\n",
       "      <td>X360</td>\n",
       "      <td>2014</td>\n",
       "      <td>Fighting</td>\n",
       "      <td>0.06</td>\n",
       "      <td>0.01</td>\n",
       "      <td>0.00</td>\n",
       "      <td>0.01</td>\n",
       "      <td>85.0</td>\n",
       "      <td>7.4</td>\n",
       "      <td>T</td>\n",
       "      <td>0.08</td>\n",
       "    </tr>\n",
       "    <tr>\n",
       "      <td>11971</td>\n",
       "      <td>Escape Dead Island</td>\n",
       "      <td>X360</td>\n",
       "      <td>2014</td>\n",
       "      <td>Action</td>\n",
       "      <td>0.03</td>\n",
       "      <td>0.04</td>\n",
       "      <td>0.00</td>\n",
       "      <td>0.01</td>\n",
       "      <td>32.0</td>\n",
       "      <td>3.8</td>\n",
       "      <td>M</td>\n",
       "      <td>0.08</td>\n",
       "    </tr>\n",
       "    <tr>\n",
       "      <td>12197</td>\n",
       "      <td>Dragon Ball Z: Battle of Z</td>\n",
       "      <td>X360</td>\n",
       "      <td>2014</td>\n",
       "      <td>Fighting</td>\n",
       "      <td>0.01</td>\n",
       "      <td>0.05</td>\n",
       "      <td>0.00</td>\n",
       "      <td>0.00</td>\n",
       "      <td>53.0</td>\n",
       "      <td>5.1</td>\n",
       "      <td>T</td>\n",
       "      <td>0.06</td>\n",
       "    </tr>\n",
       "    <tr>\n",
       "      <td>12280</td>\n",
       "      <td>Risen 3: Titan Lords</td>\n",
       "      <td>X360</td>\n",
       "      <td>2014</td>\n",
       "      <td>Role-Playing</td>\n",
       "      <td>0.02</td>\n",
       "      <td>0.04</td>\n",
       "      <td>0.00</td>\n",
       "      <td>0.00</td>\n",
       "      <td>44.0</td>\n",
       "      <td>4.4</td>\n",
       "      <td>M</td>\n",
       "      <td>0.06</td>\n",
       "    </tr>\n",
       "    <tr>\n",
       "      <td>12461</td>\n",
       "      <td>MX vs. ATV Supercross</td>\n",
       "      <td>X360</td>\n",
       "      <td>2014</td>\n",
       "      <td>Racing</td>\n",
       "      <td>0.03</td>\n",
       "      <td>0.02</td>\n",
       "      <td>0.00</td>\n",
       "      <td>0.01</td>\n",
       "      <td>48.0</td>\n",
       "      <td>4.8</td>\n",
       "      <td>E</td>\n",
       "      <td>0.06</td>\n",
       "    </tr>\n",
       "    <tr>\n",
       "      <td>12641</td>\n",
       "      <td>Adventure Time: The Secret of the Nameless Kin...</td>\n",
       "      <td>X360</td>\n",
       "      <td>2014</td>\n",
       "      <td>Action</td>\n",
       "      <td>0.00</td>\n",
       "      <td>0.05</td>\n",
       "      <td>0.00</td>\n",
       "      <td>0.00</td>\n",
       "      <td>58.0</td>\n",
       "      <td>7.5</td>\n",
       "      <td>E10+</td>\n",
       "      <td>0.05</td>\n",
       "    </tr>\n",
       "    <tr>\n",
       "      <td>12751</td>\n",
       "      <td>Tropico 5</td>\n",
       "      <td>X360</td>\n",
       "      <td>2014</td>\n",
       "      <td>Simulation</td>\n",
       "      <td>0.03</td>\n",
       "      <td>0.02</td>\n",
       "      <td>0.00</td>\n",
       "      <td>0.00</td>\n",
       "      <td>71.0</td>\n",
       "      <td>7.2</td>\n",
       "      <td>T</td>\n",
       "      <td>0.05</td>\n",
       "    </tr>\n",
       "    <tr>\n",
       "      <td>13059</td>\n",
       "      <td>Sacred 3</td>\n",
       "      <td>X360</td>\n",
       "      <td>2014</td>\n",
       "      <td>Role-Playing</td>\n",
       "      <td>0.03</td>\n",
       "      <td>0.02</td>\n",
       "      <td>0.00</td>\n",
       "      <td>0.00</td>\n",
       "      <td>51.0</td>\n",
       "      <td>4.1</td>\n",
       "      <td>M</td>\n",
       "      <td>0.05</td>\n",
       "    </tr>\n",
       "    <tr>\n",
       "      <td>13414</td>\n",
       "      <td>Yaiba: Ninja Gaiden Z</td>\n",
       "      <td>X360</td>\n",
       "      <td>2014</td>\n",
       "      <td>Action</td>\n",
       "      <td>0.03</td>\n",
       "      <td>0.01</td>\n",
       "      <td>0.00</td>\n",
       "      <td>0.00</td>\n",
       "      <td>50.0</td>\n",
       "      <td>5.3</td>\n",
       "      <td>M</td>\n",
       "      <td>0.04</td>\n",
       "    </tr>\n",
       "    <tr>\n",
       "      <td>13579</td>\n",
       "      <td>Enemy Front</td>\n",
       "      <td>X360</td>\n",
       "      <td>2014</td>\n",
       "      <td>Shooter</td>\n",
       "      <td>0.02</td>\n",
       "      <td>0.02</td>\n",
       "      <td>0.00</td>\n",
       "      <td>0.00</td>\n",
       "      <td>35.0</td>\n",
       "      <td>5.8</td>\n",
       "      <td>M</td>\n",
       "      <td>0.04</td>\n",
       "    </tr>\n",
       "  </tbody>\n",
       "</table>\n",
       "</div>"
      ],
      "text/plain": [
       "                                                    name platform  \\\n",
       "1422                                           Titanfall     X360   \n",
       "1548                            The LEGO Movie Videogame     X360   \n",
       "1911                  Plants vs. Zombies: Garden Warfare     X360   \n",
       "2050                             Assassin's Creed: Rogue     X360   \n",
       "2249                      South Park: The Stick of Truth     X360   \n",
       "2756                                       Dark Souls II     X360   \n",
       "2847                         Borderlands: The Pre-Sequel     X360   \n",
       "3139                                            WWE 2K15     X360   \n",
       "4283                                     LEGO The Hobbit     X360   \n",
       "4550                          2014 FIFA World Cup Brazil     X360   \n",
       "7118                                             F1 2014     X360   \n",
       "7262   Naruto Shippuden: Ultimate Ninja Storm Revolution     X360   \n",
       "8426                                          NASCAR '14     X360   \n",
       "10399               Pac-Man and the Ghostly Adventures 2     X360   \n",
       "11023                     Castlevania: Lords of Shadow 2     X360   \n",
       "11146                                     GRID Autosport     X360   \n",
       "11451                           Persona 4: Arena Ultimax     X360   \n",
       "11971                                 Escape Dead Island     X360   \n",
       "12197                         Dragon Ball Z: Battle of Z     X360   \n",
       "12280                               Risen 3: Titan Lords     X360   \n",
       "12461                              MX vs. ATV Supercross     X360   \n",
       "12641  Adventure Time: The Secret of the Nameless Kin...     X360   \n",
       "12751                                          Tropico 5     X360   \n",
       "13059                                           Sacred 3     X360   \n",
       "13414                              Yaiba: Ninja Gaiden Z     X360   \n",
       "13579                                        Enemy Front     X360   \n",
       "\n",
       "       year_of_release         genre  na_sales  eu_sales  jp_sales  \\\n",
       "1422              2014       Shooter      0.87      0.34      0.02   \n",
       "1548              2014        Action      0.69      0.47      0.00   \n",
       "1911              2014       Shooter      0.51      0.47      0.00   \n",
       "2050              2014        Action      0.58      0.34      0.00   \n",
       "2249              2014  Role-Playing      0.58      0.26      0.00   \n",
       "2756              2014  Role-Playing      0.48      0.18      0.01   \n",
       "2847              2014       Shooter      0.46      0.19      0.01   \n",
       "3139              2014        Sports      0.38      0.20      0.00   \n",
       "4283              2014        Action      0.20      0.21      0.00   \n",
       "4550              2014        Sports      0.15      0.25      0.00   \n",
       "7118              2014        Racing      0.08      0.13      0.00   \n",
       "7262              2014      Fighting      0.14      0.06      0.00   \n",
       "8426              2014        Racing      0.15      0.00      0.00   \n",
       "10399             2014     Adventure      0.05      0.04      0.00   \n",
       "11023             2014        Action      0.02      0.06      0.00   \n",
       "11146             2014        Racing      0.03      0.05      0.00   \n",
       "11451             2014      Fighting      0.06      0.01      0.00   \n",
       "11971             2014        Action      0.03      0.04      0.00   \n",
       "12197             2014      Fighting      0.01      0.05      0.00   \n",
       "12280             2014  Role-Playing      0.02      0.04      0.00   \n",
       "12461             2014        Racing      0.03      0.02      0.00   \n",
       "12641             2014        Action      0.00      0.05      0.00   \n",
       "12751             2014    Simulation      0.03      0.02      0.00   \n",
       "13059             2014  Role-Playing      0.03      0.02      0.00   \n",
       "13414             2014        Action      0.03      0.01      0.00   \n",
       "13579             2014       Shooter      0.02      0.02      0.00   \n",
       "\n",
       "       other_sales  critic_score  user_score rating  total_sales  \n",
       "1422          0.13          83.0         5.9      M         1.36  \n",
       "1548          0.11          69.0         7.2   E10+         1.27  \n",
       "1911          0.09          69.0         7.3   E10+         1.07  \n",
       "2050          0.09          72.0         7.3      M         1.01  \n",
       "2249          0.09          82.0         8.4      M         0.93  \n",
       "2756          0.07          91.0         7.9      T         0.74  \n",
       "2847          0.07          74.0         6.4      M         0.73  \n",
       "3139          0.06          50.0         4.0      T         0.64  \n",
       "4283          0.04          70.0         8.7   E10+         0.45  \n",
       "4550          0.03          74.0         4.4      E         0.43  \n",
       "7118          0.02          64.0         4.1      E         0.23  \n",
       "7262          0.02          62.0         7.3      T         0.22  \n",
       "8426          0.02          65.0         5.1      E         0.17  \n",
       "10399         0.01          60.0         6.5   E10+         0.10  \n",
       "11023         0.01          70.0         7.8      M         0.09  \n",
       "11146         0.01          75.0         6.0      E         0.09  \n",
       "11451         0.01          85.0         7.4      T         0.08  \n",
       "11971         0.01          32.0         3.8      M         0.08  \n",
       "12197         0.00          53.0         5.1      T         0.06  \n",
       "12280         0.00          44.0         4.4      M         0.06  \n",
       "12461         0.01          48.0         4.8      E         0.06  \n",
       "12641         0.00          58.0         7.5   E10+         0.05  \n",
       "12751         0.00          71.0         7.2      T         0.05  \n",
       "13059         0.00          51.0         4.1      M         0.05  \n",
       "13414         0.00          50.0         5.3      M         0.04  \n",
       "13579         0.00          35.0         5.8      M         0.04  "
      ]
     },
     "execution_count": 579,
     "metadata": {},
     "output_type": "execute_result"
    }
   ],
   "source": [
    "#выделим в отдельную таблицу продажи по X360\n",
    "df_new_x360 = df_new.query('platform == \"X360\" and user_score != -1 and critic_score != -1')\n",
    "df_new_x360"
   ]
  },
  {
   "cell_type": "code",
   "execution_count": 580,
   "metadata": {},
   "outputs": [
    {
     "data": {
      "text/plain": [
       "Text(0.5, 0, 'Оценка пользователей')"
      ]
     },
     "execution_count": 580,
     "metadata": {},
     "output_type": "execute_result"
    },
    {
     "data": {
      "image/png": "[encoded data removed]",
      "text/plain": [
       "<Figure size 432x288 with 1 Axes>"
      ]
     },
     "metadata": {
      "needs_background": "light"
     },
     "output_type": "display_data"
    }
   ],
   "source": [
    "df_new_x360.plot(y='total_sales', x='user_score', kind='scatter', alpha=0.5, title='Зависимость выручки X360 от оценки пользователей')\n",
    "ax = plt.gca()\n",
    "ax.set_ylabel('Выручка, млн дол.')\n",
    "ax.set_xlabel('Оценка пользователей')"
   ]
  },
  {
   "cell_type": "code",
   "execution_count": 581,
   "metadata": {},
   "outputs": [
    {
     "data": {
      "text/plain": [
       "0.3365136248359934"
      ]
     },
     "execution_count": 581,
     "metadata": {},
     "output_type": "execute_result"
    }
   ],
   "source": [
    "df_new_x360['total_sales'].corr(df_new_x360['user_score'])#корреляция"
   ]
  },
  {
   "cell_type": "code",
   "execution_count": 582,
   "metadata": {},
   "outputs": [
    {
     "data": {
      "text/plain": [
       "Text(0.5, 0, 'Оценка критиков')"
      ]
     },
     "execution_count": 582,
     "metadata": {},
     "output_type": "execute_result"
    },
    {
     "data": {
      "image/png": "[encoded data removed]",
      "text/plain": [
       "<Figure size 432x288 with 1 Axes>"
      ]
     },
     "metadata": {
      "needs_background": "light"
     },
     "output_type": "display_data"
    }
   ],
   "source": [
    "df_new_x360.plot(y='total_sales', x='critic_score', kind='scatter', alpha=0.5, title='Зависимость выручки X360 от оценки критиков')\n",
    "ax = plt.gca()\n",
    "ax.set_ylabel('Выручка, млн дол.')\n",
    "ax.set_xlabel('Оценка критиков')"
   ]
  },
  {
   "cell_type": "code",
   "execution_count": 583,
   "metadata": {},
   "outputs": [
    {
     "data": {
      "text/plain": [
       "0.5257228356581523"
      ]
     },
     "execution_count": 583,
     "metadata": {},
     "output_type": "execute_result"
    }
   ],
   "source": [
    "df_new_x360['total_sales'].corr(df_new_x360['critic_score'])#корреляция"
   ]
  },
  {
   "cell_type": "code",
   "execution_count": 584,
   "metadata": {},
   "outputs": [
    {
     "data": {
      "text/html": [
       "<div>\n",
       "<style scoped>\n",
       "    .dataframe tbody tr th:only-of-type {\n",
       "        vertical-align: middle;\n",
       "    }\n",
       "\n",
       "    .dataframe tbody tr th {\n",
       "        vertical-align: top;\n",
       "    }\n",
       "\n",
       "    .dataframe thead th {\n",
       "        text-align: right;\n",
       "    }\n",
       "</style>\n",
       "<table border=\"1\" class=\"dataframe\">\n",
       "  <thead>\n",
       "    <tr style=\"text-align: right;\">\n",
       "      <th></th>\n",
       "      <th>name</th>\n",
       "      <th>platform</th>\n",
       "      <th>year_of_release</th>\n",
       "      <th>genre</th>\n",
       "      <th>na_sales</th>\n",
       "      <th>eu_sales</th>\n",
       "      <th>jp_sales</th>\n",
       "      <th>other_sales</th>\n",
       "      <th>critic_score</th>\n",
       "      <th>user_score</th>\n",
       "      <th>rating</th>\n",
       "      <th>total_sales</th>\n",
       "    </tr>\n",
       "  </thead>\n",
       "  <tbody>\n",
       "    <tr>\n",
       "      <td>1532</td>\n",
       "      <td>Assassin's Creed: Rogue</td>\n",
       "      <td>PS3</td>\n",
       "      <td>2014</td>\n",
       "      <td>Action</td>\n",
       "      <td>0.46</td>\n",
       "      <td>0.56</td>\n",
       "      <td>0.06</td>\n",
       "      <td>0.20</td>\n",
       "      <td>72.0</td>\n",
       "      <td>7.5</td>\n",
       "      <td>M</td>\n",
       "      <td>1.28</td>\n",
       "    </tr>\n",
       "    <tr>\n",
       "      <td>1550</td>\n",
       "      <td>Dark Souls II</td>\n",
       "      <td>PS3</td>\n",
       "      <td>2014</td>\n",
       "      <td>Role-Playing</td>\n",
       "      <td>0.40</td>\n",
       "      <td>0.33</td>\n",
       "      <td>0.40</td>\n",
       "      <td>0.15</td>\n",
       "      <td>91.0</td>\n",
       "      <td>8.1</td>\n",
       "      <td>T</td>\n",
       "      <td>1.28</td>\n",
       "    </tr>\n",
       "    <tr>\n",
       "      <td>2236</td>\n",
       "      <td>The LEGO Movie Videogame</td>\n",
       "      <td>PS3</td>\n",
       "      <td>2014</td>\n",
       "      <td>Action</td>\n",
       "      <td>0.33</td>\n",
       "      <td>0.43</td>\n",
       "      <td>0.02</td>\n",
       "      <td>0.15</td>\n",
       "      <td>80.0</td>\n",
       "      <td>6.8</td>\n",
       "      <td>E10+</td>\n",
       "      <td>0.93</td>\n",
       "    </tr>\n",
       "    <tr>\n",
       "      <td>2248</td>\n",
       "      <td>South Park: The Stick of Truth</td>\n",
       "      <td>PS3</td>\n",
       "      <td>2014</td>\n",
       "      <td>Role-Playing</td>\n",
       "      <td>0.43</td>\n",
       "      <td>0.34</td>\n",
       "      <td>0.00</td>\n",
       "      <td>0.16</td>\n",
       "      <td>85.0</td>\n",
       "      <td>8.5</td>\n",
       "      <td>M</td>\n",
       "      <td>0.93</td>\n",
       "    </tr>\n",
       "    <tr>\n",
       "      <td>2613</td>\n",
       "      <td>WWE 2K15</td>\n",
       "      <td>PS3</td>\n",
       "      <td>2014</td>\n",
       "      <td>Sports</td>\n",
       "      <td>0.36</td>\n",
       "      <td>0.29</td>\n",
       "      <td>0.00</td>\n",
       "      <td>0.13</td>\n",
       "      <td>55.0</td>\n",
       "      <td>3.1</td>\n",
       "      <td>T</td>\n",
       "      <td>0.78</td>\n",
       "    </tr>\n",
       "    <tr>\n",
       "      <td>3271</td>\n",
       "      <td>2014 FIFA World Cup Brazil</td>\n",
       "      <td>PS3</td>\n",
       "      <td>2014</td>\n",
       "      <td>Sports</td>\n",
       "      <td>0.15</td>\n",
       "      <td>0.36</td>\n",
       "      <td>0.01</td>\n",
       "      <td>0.09</td>\n",
       "      <td>73.0</td>\n",
       "      <td>4.3</td>\n",
       "      <td>E</td>\n",
       "      <td>0.61</td>\n",
       "    </tr>\n",
       "    <tr>\n",
       "      <td>3301</td>\n",
       "      <td>Borderlands: The Pre-Sequel</td>\n",
       "      <td>PS3</td>\n",
       "      <td>2014</td>\n",
       "      <td>Shooter</td>\n",
       "      <td>0.26</td>\n",
       "      <td>0.21</td>\n",
       "      <td>0.05</td>\n",
       "      <td>0.10</td>\n",
       "      <td>77.0</td>\n",
       "      <td>6.3</td>\n",
       "      <td>M</td>\n",
       "      <td>0.62</td>\n",
       "    </tr>\n",
       "    <tr>\n",
       "      <td>3416</td>\n",
       "      <td>Metal Gear Solid V: Ground Zeroes</td>\n",
       "      <td>PS3</td>\n",
       "      <td>2014</td>\n",
       "      <td>Action</td>\n",
       "      <td>0.14</td>\n",
       "      <td>0.12</td>\n",
       "      <td>0.27</td>\n",
       "      <td>0.05</td>\n",
       "      <td>66.0</td>\n",
       "      <td>5.9</td>\n",
       "      <td>M</td>\n",
       "      <td>0.58</td>\n",
       "    </tr>\n",
       "    <tr>\n",
       "      <td>4490</td>\n",
       "      <td>Naruto Shippuden: Ultimate Ninja Storm Revolution</td>\n",
       "      <td>PS3</td>\n",
       "      <td>2014</td>\n",
       "      <td>Fighting</td>\n",
       "      <td>0.15</td>\n",
       "      <td>0.14</td>\n",
       "      <td>0.09</td>\n",
       "      <td>0.06</td>\n",
       "      <td>73.0</td>\n",
       "      <td>7.5</td>\n",
       "      <td>T</td>\n",
       "      <td>0.44</td>\n",
       "    </tr>\n",
       "    <tr>\n",
       "      <td>4495</td>\n",
       "      <td>MLB 14: The Show</td>\n",
       "      <td>PS3</td>\n",
       "      <td>2014</td>\n",
       "      <td>Sports</td>\n",
       "      <td>0.35</td>\n",
       "      <td>0.00</td>\n",
       "      <td>0.00</td>\n",
       "      <td>0.08</td>\n",
       "      <td>81.0</td>\n",
       "      <td>6.8</td>\n",
       "      <td>E</td>\n",
       "      <td>0.43</td>\n",
       "    </tr>\n",
       "    <tr>\n",
       "      <td>4703</td>\n",
       "      <td>F1 2014</td>\n",
       "      <td>PS3</td>\n",
       "      <td>2014</td>\n",
       "      <td>Racing</td>\n",
       "      <td>0.07</td>\n",
       "      <td>0.26</td>\n",
       "      <td>0.02</td>\n",
       "      <td>0.06</td>\n",
       "      <td>62.0</td>\n",
       "      <td>4.1</td>\n",
       "      <td>E</td>\n",
       "      <td>0.41</td>\n",
       "    </tr>\n",
       "    <tr>\n",
       "      <td>5815</td>\n",
       "      <td>Dragon Ball Z: Battle of Z</td>\n",
       "      <td>PS3</td>\n",
       "      <td>2014</td>\n",
       "      <td>Fighting</td>\n",
       "      <td>0.10</td>\n",
       "      <td>0.10</td>\n",
       "      <td>0.06</td>\n",
       "      <td>0.04</td>\n",
       "      <td>54.0</td>\n",
       "      <td>5.3</td>\n",
       "      <td>T</td>\n",
       "      <td>0.30</td>\n",
       "    </tr>\n",
       "    <tr>\n",
       "      <td>6225</td>\n",
       "      <td>One Piece: Unlimited World Red</td>\n",
       "      <td>PS3</td>\n",
       "      <td>2014</td>\n",
       "      <td>Action</td>\n",
       "      <td>0.09</td>\n",
       "      <td>0.10</td>\n",
       "      <td>0.06</td>\n",
       "      <td>0.04</td>\n",
       "      <td>71.0</td>\n",
       "      <td>7.3</td>\n",
       "      <td>T</td>\n",
       "      <td>0.29</td>\n",
       "    </tr>\n",
       "    <tr>\n",
       "      <td>6678</td>\n",
       "      <td>Hatsune Miku: Project Diva F 2nd</td>\n",
       "      <td>PS3</td>\n",
       "      <td>2014</td>\n",
       "      <td>Misc</td>\n",
       "      <td>0.09</td>\n",
       "      <td>0.03</td>\n",
       "      <td>0.10</td>\n",
       "      <td>0.03</td>\n",
       "      <td>78.0</td>\n",
       "      <td>8.6</td>\n",
       "      <td>T</td>\n",
       "      <td>0.25</td>\n",
       "    </tr>\n",
       "    <tr>\n",
       "      <td>7710</td>\n",
       "      <td>Castlevania: Lords of Shadow 2</td>\n",
       "      <td>PS3</td>\n",
       "      <td>2014</td>\n",
       "      <td>Action</td>\n",
       "      <td>0.03</td>\n",
       "      <td>0.12</td>\n",
       "      <td>0.02</td>\n",
       "      <td>0.03</td>\n",
       "      <td>63.0</td>\n",
       "      <td>7.8</td>\n",
       "      <td>M</td>\n",
       "      <td>0.20</td>\n",
       "    </tr>\n",
       "    <tr>\n",
       "      <td>8035</td>\n",
       "      <td>Atelier Shallie: Alchemists of the Dusk Sea</td>\n",
       "      <td>PS3</td>\n",
       "      <td>2014</td>\n",
       "      <td>Role-Playing</td>\n",
       "      <td>0.06</td>\n",
       "      <td>0.02</td>\n",
       "      <td>0.08</td>\n",
       "      <td>0.02</td>\n",
       "      <td>76.0</td>\n",
       "      <td>7.7</td>\n",
       "      <td>E10+</td>\n",
       "      <td>0.18</td>\n",
       "    </tr>\n",
       "    <tr>\n",
       "      <td>8093</td>\n",
       "      <td>GRID Autosport</td>\n",
       "      <td>PS3</td>\n",
       "      <td>2014</td>\n",
       "      <td>Racing</td>\n",
       "      <td>0.05</td>\n",
       "      <td>0.09</td>\n",
       "      <td>0.01</td>\n",
       "      <td>0.03</td>\n",
       "      <td>75.0</td>\n",
       "      <td>6.8</td>\n",
       "      <td>E</td>\n",
       "      <td>0.18</td>\n",
       "    </tr>\n",
       "    <tr>\n",
       "      <td>8480</td>\n",
       "      <td>Dengeki Bunko Fighting Climax</td>\n",
       "      <td>PS3</td>\n",
       "      <td>2014</td>\n",
       "      <td>Fighting</td>\n",
       "      <td>0.05</td>\n",
       "      <td>0.00</td>\n",
       "      <td>0.09</td>\n",
       "      <td>0.01</td>\n",
       "      <td>66.0</td>\n",
       "      <td>8.2</td>\n",
       "      <td>T</td>\n",
       "      <td>0.15</td>\n",
       "    </tr>\n",
       "    <tr>\n",
       "      <td>8645</td>\n",
       "      <td>Ar Nosurge: Ode to an Unborn Star</td>\n",
       "      <td>PS3</td>\n",
       "      <td>2014</td>\n",
       "      <td>Role-Playing</td>\n",
       "      <td>0.05</td>\n",
       "      <td>0.03</td>\n",
       "      <td>0.06</td>\n",
       "      <td>0.02</td>\n",
       "      <td>67.0</td>\n",
       "      <td>7.8</td>\n",
       "      <td>T</td>\n",
       "      <td>0.16</td>\n",
       "    </tr>\n",
       "    <tr>\n",
       "      <td>8919</td>\n",
       "      <td>The Legend of Heroes: Trails of Cold Steel II</td>\n",
       "      <td>PS3</td>\n",
       "      <td>2014</td>\n",
       "      <td>Role-Playing</td>\n",
       "      <td>0.02</td>\n",
       "      <td>0.02</td>\n",
       "      <td>0.11</td>\n",
       "      <td>0.01</td>\n",
       "      <td>90.0</td>\n",
       "      <td>7.8</td>\n",
       "      <td>T</td>\n",
       "      <td>0.16</td>\n",
       "    </tr>\n",
       "    <tr>\n",
       "      <td>9279</td>\n",
       "      <td>Persona 4: Arena Ultimax</td>\n",
       "      <td>PS3</td>\n",
       "      <td>2014</td>\n",
       "      <td>Fighting</td>\n",
       "      <td>0.00</td>\n",
       "      <td>0.00</td>\n",
       "      <td>0.13</td>\n",
       "      <td>0.00</td>\n",
       "      <td>84.0</td>\n",
       "      <td>8.1</td>\n",
       "      <td>T</td>\n",
       "      <td>0.13</td>\n",
       "    </tr>\n",
       "    <tr>\n",
       "      <td>9997</td>\n",
       "      <td>Deception IV: Blood Ties</td>\n",
       "      <td>PS3</td>\n",
       "      <td>2014</td>\n",
       "      <td>Action</td>\n",
       "      <td>0.03</td>\n",
       "      <td>0.02</td>\n",
       "      <td>0.06</td>\n",
       "      <td>0.01</td>\n",
       "      <td>70.0</td>\n",
       "      <td>8.2</td>\n",
       "      <td>M</td>\n",
       "      <td>0.12</td>\n",
       "    </tr>\n",
       "    <tr>\n",
       "      <td>10334</td>\n",
       "      <td>NASCAR '14</td>\n",
       "      <td>PS3</td>\n",
       "      <td>2014</td>\n",
       "      <td>Racing</td>\n",
       "      <td>0.09</td>\n",
       "      <td>0.00</td>\n",
       "      <td>0.00</td>\n",
       "      <td>0.02</td>\n",
       "      <td>67.0</td>\n",
       "      <td>4.6</td>\n",
       "      <td>E</td>\n",
       "      <td>0.11</td>\n",
       "    </tr>\n",
       "    <tr>\n",
       "      <td>10446</td>\n",
       "      <td>Sacred 3</td>\n",
       "      <td>PS3</td>\n",
       "      <td>2014</td>\n",
       "      <td>Role-Playing</td>\n",
       "      <td>0.03</td>\n",
       "      <td>0.04</td>\n",
       "      <td>0.03</td>\n",
       "      <td>0.01</td>\n",
       "      <td>56.0</td>\n",
       "      <td>3.4</td>\n",
       "      <td>M</td>\n",
       "      <td>0.11</td>\n",
       "    </tr>\n",
       "    <tr>\n",
       "      <td>10855</td>\n",
       "      <td>Pac-Man and the Ghostly Adventures 2</td>\n",
       "      <td>PS3</td>\n",
       "      <td>2014</td>\n",
       "      <td>Adventure</td>\n",
       "      <td>0.05</td>\n",
       "      <td>0.03</td>\n",
       "      <td>0.00</td>\n",
       "      <td>0.02</td>\n",
       "      <td>59.0</td>\n",
       "      <td>6.3</td>\n",
       "      <td>E10+</td>\n",
       "      <td>0.10</td>\n",
       "    </tr>\n",
       "    <tr>\n",
       "      <td>11014</td>\n",
       "      <td>Digimon All-Star Rumble</td>\n",
       "      <td>PS3</td>\n",
       "      <td>2014</td>\n",
       "      <td>Fighting</td>\n",
       "      <td>0.06</td>\n",
       "      <td>0.02</td>\n",
       "      <td>0.00</td>\n",
       "      <td>0.02</td>\n",
       "      <td>49.0</td>\n",
       "      <td>5.8</td>\n",
       "      <td>E10+</td>\n",
       "      <td>0.10</td>\n",
       "    </tr>\n",
       "    <tr>\n",
       "      <td>11022</td>\n",
       "      <td>Yaiba: Ninja Gaiden Z</td>\n",
       "      <td>PS3</td>\n",
       "      <td>2014</td>\n",
       "      <td>Action</td>\n",
       "      <td>0.05</td>\n",
       "      <td>0.03</td>\n",
       "      <td>0.00</td>\n",
       "      <td>0.02</td>\n",
       "      <td>43.0</td>\n",
       "      <td>4.5</td>\n",
       "      <td>M</td>\n",
       "      <td>0.10</td>\n",
       "    </tr>\n",
       "    <tr>\n",
       "      <td>11437</td>\n",
       "      <td>Risen 3: Titan Lords</td>\n",
       "      <td>PS3</td>\n",
       "      <td>2014</td>\n",
       "      <td>Role-Playing</td>\n",
       "      <td>0.02</td>\n",
       "      <td>0.05</td>\n",
       "      <td>0.00</td>\n",
       "      <td>0.01</td>\n",
       "      <td>36.0</td>\n",
       "      <td>3.7</td>\n",
       "      <td>M</td>\n",
       "      <td>0.08</td>\n",
       "    </tr>\n",
       "    <tr>\n",
       "      <td>11771</td>\n",
       "      <td>Lost Dimension</td>\n",
       "      <td>PS3</td>\n",
       "      <td>2014</td>\n",
       "      <td>Role-Playing</td>\n",
       "      <td>0.05</td>\n",
       "      <td>0.01</td>\n",
       "      <td>0.00</td>\n",
       "      <td>0.01</td>\n",
       "      <td>71.0</td>\n",
       "      <td>7.3</td>\n",
       "      <td>T</td>\n",
       "      <td>0.07</td>\n",
       "    </tr>\n",
       "    <tr>\n",
       "      <td>11817</td>\n",
       "      <td>Escape Dead Island</td>\n",
       "      <td>PS3</td>\n",
       "      <td>2014</td>\n",
       "      <td>Action</td>\n",
       "      <td>0.04</td>\n",
       "      <td>0.03</td>\n",
       "      <td>0.00</td>\n",
       "      <td>0.01</td>\n",
       "      <td>40.0</td>\n",
       "      <td>3.5</td>\n",
       "      <td>M</td>\n",
       "      <td>0.08</td>\n",
       "    </tr>\n",
       "    <tr>\n",
       "      <td>12776</td>\n",
       "      <td>Tokyo Twilight Ghost Hunters</td>\n",
       "      <td>PS3</td>\n",
       "      <td>2014</td>\n",
       "      <td>Role-Playing</td>\n",
       "      <td>0.03</td>\n",
       "      <td>0.00</td>\n",
       "      <td>0.02</td>\n",
       "      <td>0.01</td>\n",
       "      <td>64.0</td>\n",
       "      <td>6.4</td>\n",
       "      <td>T</td>\n",
       "      <td>0.06</td>\n",
       "    </tr>\n",
       "    <tr>\n",
       "      <td>12898</td>\n",
       "      <td>Enemy Front</td>\n",
       "      <td>PS3</td>\n",
       "      <td>2014</td>\n",
       "      <td>Shooter</td>\n",
       "      <td>0.01</td>\n",
       "      <td>0.04</td>\n",
       "      <td>0.00</td>\n",
       "      <td>0.01</td>\n",
       "      <td>43.0</td>\n",
       "      <td>6.0</td>\n",
       "      <td>M</td>\n",
       "      <td>0.06</td>\n",
       "    </tr>\n",
       "    <tr>\n",
       "      <td>14799</td>\n",
       "      <td>MX vs. ATV Supercross</td>\n",
       "      <td>PS3</td>\n",
       "      <td>2014</td>\n",
       "      <td>Racing</td>\n",
       "      <td>0.02</td>\n",
       "      <td>0.01</td>\n",
       "      <td>0.00</td>\n",
       "      <td>0.00</td>\n",
       "      <td>58.0</td>\n",
       "      <td>3.5</td>\n",
       "      <td>E</td>\n",
       "      <td>0.03</td>\n",
       "    </tr>\n",
       "    <tr>\n",
       "      <td>15416</td>\n",
       "      <td>The Awakened Fate Ultimatum</td>\n",
       "      <td>PS3</td>\n",
       "      <td>2014</td>\n",
       "      <td>Role-Playing</td>\n",
       "      <td>0.00</td>\n",
       "      <td>0.00</td>\n",
       "      <td>0.02</td>\n",
       "      <td>0.00</td>\n",
       "      <td>65.0</td>\n",
       "      <td>7.3</td>\n",
       "      <td>T</td>\n",
       "      <td>0.02</td>\n",
       "    </tr>\n",
       "    <tr>\n",
       "      <td>15418</td>\n",
       "      <td>Xblaze: Lost Memories</td>\n",
       "      <td>PS3</td>\n",
       "      <td>2015</td>\n",
       "      <td>Adventure</td>\n",
       "      <td>0.02</td>\n",
       "      <td>0.00</td>\n",
       "      <td>0.00</td>\n",
       "      <td>0.00</td>\n",
       "      <td>63.0</td>\n",
       "      <td>6.2</td>\n",
       "      <td>M</td>\n",
       "      <td>0.02</td>\n",
       "    </tr>\n",
       "    <tr>\n",
       "      <td>16146</td>\n",
       "      <td>Don Bradman Cricket 14</td>\n",
       "      <td>PS3</td>\n",
       "      <td>2014</td>\n",
       "      <td>Sports</td>\n",
       "      <td>0.00</td>\n",
       "      <td>0.01</td>\n",
       "      <td>0.00</td>\n",
       "      <td>0.00</td>\n",
       "      <td>73.0</td>\n",
       "      <td>6.9</td>\n",
       "      <td>E</td>\n",
       "      <td>0.01</td>\n",
       "    </tr>\n",
       "  </tbody>\n",
       "</table>\n",
       "</div>"
      ],
      "text/plain": [
       "                                                    name platform  \\\n",
       "1532                             Assassin's Creed: Rogue      PS3   \n",
       "1550                                       Dark Souls II      PS3   \n",
       "2236                            The LEGO Movie Videogame      PS3   \n",
       "2248                      South Park: The Stick of Truth      PS3   \n",
       "2613                                            WWE 2K15      PS3   \n",
       "3271                          2014 FIFA World Cup Brazil      PS3   \n",
       "3301                         Borderlands: The Pre-Sequel      PS3   \n",
       "3416                   Metal Gear Solid V: Ground Zeroes      PS3   \n",
       "4490   Naruto Shippuden: Ultimate Ninja Storm Revolution      PS3   \n",
       "4495                                    MLB 14: The Show      PS3   \n",
       "4703                                             F1 2014      PS3   \n",
       "5815                          Dragon Ball Z: Battle of Z      PS3   \n",
       "6225                      One Piece: Unlimited World Red      PS3   \n",
       "6678                    Hatsune Miku: Project Diva F 2nd      PS3   \n",
       "7710                      Castlevania: Lords of Shadow 2      PS3   \n",
       "8035         Atelier Shallie: Alchemists of the Dusk Sea      PS3   \n",
       "8093                                      GRID Autosport      PS3   \n",
       "8480                       Dengeki Bunko Fighting Climax      PS3   \n",
       "8645                   Ar Nosurge: Ode to an Unborn Star      PS3   \n",
       "8919       The Legend of Heroes: Trails of Cold Steel II      PS3   \n",
       "9279                            Persona 4: Arena Ultimax      PS3   \n",
       "9997                            Deception IV: Blood Ties      PS3   \n",
       "10334                                         NASCAR '14      PS3   \n",
       "10446                                           Sacred 3      PS3   \n",
       "10855               Pac-Man and the Ghostly Adventures 2      PS3   \n",
       "11014                            Digimon All-Star Rumble      PS3   \n",
       "11022                              Yaiba: Ninja Gaiden Z      PS3   \n",
       "11437                               Risen 3: Titan Lords      PS3   \n",
       "11771                                     Lost Dimension      PS3   \n",
       "11817                                 Escape Dead Island      PS3   \n",
       "12776                       Tokyo Twilight Ghost Hunters      PS3   \n",
       "12898                                        Enemy Front      PS3   \n",
       "14799                              MX vs. ATV Supercross      PS3   \n",
       "15416                        The Awakened Fate Ultimatum      PS3   \n",
       "15418                              Xblaze: Lost Memories      PS3   \n",
       "16146                             Don Bradman Cricket 14      PS3   \n",
       "\n",
       "       year_of_release         genre  na_sales  eu_sales  jp_sales  \\\n",
       "1532              2014        Action      0.46      0.56      0.06   \n",
       "1550              2014  Role-Playing      0.40      0.33      0.40   \n",
       "2236              2014        Action      0.33      0.43      0.02   \n",
       "2248              2014  Role-Playing      0.43      0.34      0.00   \n",
       "2613              2014        Sports      0.36      0.29      0.00   \n",
       "3271              2014        Sports      0.15      0.36      0.01   \n",
       "3301              2014       Shooter      0.26      0.21      0.05   \n",
       "3416              2014        Action      0.14      0.12      0.27   \n",
       "4490              2014      Fighting      0.15      0.14      0.09   \n",
       "4495              2014        Sports      0.35      0.00      0.00   \n",
       "4703              2014        Racing      0.07      0.26      0.02   \n",
       "5815              2014      Fighting      0.10      0.10      0.06   \n",
       "6225              2014        Action      0.09      0.10      0.06   \n",
       "6678              2014          Misc      0.09      0.03      0.10   \n",
       "7710              2014        Action      0.03      0.12      0.02   \n",
       "8035              2014  Role-Playing      0.06      0.02      0.08   \n",
       "8093              2014        Racing      0.05      0.09      0.01   \n",
       "8480              2014      Fighting      0.05      0.00      0.09   \n",
       "8645              2014  Role-Playing      0.05      0.03      0.06   \n",
       "8919              2014  Role-Playing      0.02      0.02      0.11   \n",
       "9279              2014      Fighting      0.00      0.00      0.13   \n",
       "9997              2014        Action      0.03      0.02      0.06   \n",
       "10334             2014        Racing      0.09      0.00      0.00   \n",
       "10446             2014  Role-Playing      0.03      0.04      0.03   \n",
       "10855             2014     Adventure      0.05      0.03      0.00   \n",
       "11014             2014      Fighting      0.06      0.02      0.00   \n",
       "11022             2014        Action      0.05      0.03      0.00   \n",
       "11437             2014  Role-Playing      0.02      0.05      0.00   \n",
       "11771             2014  Role-Playing      0.05      0.01      0.00   \n",
       "11817             2014        Action      0.04      0.03      0.00   \n",
       "12776             2014  Role-Playing      0.03      0.00      0.02   \n",
       "12898             2014       Shooter      0.01      0.04      0.00   \n",
       "14799             2014        Racing      0.02      0.01      0.00   \n",
       "15416             2014  Role-Playing      0.00      0.00      0.02   \n",
       "15418             2015     Adventure      0.02      0.00      0.00   \n",
       "16146             2014        Sports      0.00      0.01      0.00   \n",
       "\n",
       "       other_sales  critic_score  user_score rating  total_sales  \n",
       "1532          0.20          72.0         7.5      M         1.28  \n",
       "1550          0.15          91.0         8.1      T         1.28  \n",
       "2236          0.15          80.0         6.8   E10+         0.93  \n",
       "2248          0.16          85.0         8.5      M         0.93  \n",
       "2613          0.13          55.0         3.1      T         0.78  \n",
       "3271          0.09          73.0         4.3      E         0.61  \n",
       "3301          0.10          77.0         6.3      M         0.62  \n",
       "3416          0.05          66.0         5.9      M         0.58  \n",
       "4490          0.06          73.0         7.5      T         0.44  \n",
       "4495          0.08          81.0         6.8      E         0.43  \n",
       "4703          0.06          62.0         4.1      E         0.41  \n",
       "5815          0.04          54.0         5.3      T         0.30  \n",
       "6225          0.04          71.0         7.3      T         0.29  \n",
       "6678          0.03          78.0         8.6      T         0.25  \n",
       "7710          0.03          63.0         7.8      M         0.20  \n",
       "8035          0.02          76.0         7.7   E10+         0.18  \n",
       "8093          0.03          75.0         6.8      E         0.18  \n",
       "8480          0.01          66.0         8.2      T         0.15  \n",
       "8645          0.02          67.0         7.8      T         0.16  \n",
       "8919          0.01          90.0         7.8      T         0.16  \n",
       "9279          0.00          84.0         8.1      T         0.13  \n",
       "9997          0.01          70.0         8.2      M         0.12  \n",
       "10334         0.02          67.0         4.6      E         0.11  \n",
       "10446         0.01          56.0         3.4      M         0.11  \n",
       "10855         0.02          59.0         6.3   E10+         0.10  \n",
       "11014         0.02          49.0         5.8   E10+         0.10  \n",
       "11022         0.02          43.0         4.5      M         0.10  \n",
       "11437         0.01          36.0         3.7      M         0.08  \n",
       "11771         0.01          71.0         7.3      T         0.07  \n",
       "11817         0.01          40.0         3.5      M         0.08  \n",
       "12776         0.01          64.0         6.4      T         0.06  \n",
       "12898         0.01          43.0         6.0      M         0.06  \n",
       "14799         0.00          58.0         3.5      E         0.03  \n",
       "15416         0.00          65.0         7.3      T         0.02  \n",
       "15418         0.00          63.0         6.2      M         0.02  \n",
       "16146         0.00          73.0         6.9      E         0.01  "
      ]
     },
     "execution_count": 584,
     "metadata": {},
     "output_type": "execute_result"
    }
   ],
   "source": [
    "#выделим в отдельную таблицу продажи по PS3\n",
    "df_new_ps3 = df_new.query('platform == \"PS3\" and user_score != -1 and critic_score != -1')\n",
    "df_new_ps3"
   ]
  },
  {
   "cell_type": "code",
   "execution_count": 585,
   "metadata": {},
   "outputs": [
    {
     "data": {
      "text/plain": [
       "Text(0.5, 0, 'Оценка пользователей')"
      ]
     },
     "execution_count": 585,
     "metadata": {},
     "output_type": "execute_result"
    },
    {
     "data": {
      "image/png": "[encoded data removed]",
      "text/plain": [
       "<Figure size 432x288 with 1 Axes>"
      ]
     },
     "metadata": {
      "needs_background": "light"
     },
     "output_type": "display_data"
    }
   ],
   "source": [
    "df_new_ps3.plot(y='total_sales', x='user_score', kind='scatter', alpha=0.5, title='Зависимость выручки PS3 от оценки пользователей')\n",
    "ax = plt.gca()\n",
    "ax.set_ylabel('Выручка, млн дол.')\n",
    "ax.set_xlabel('Оценка пользователей')"
   ]
  },
  {
   "cell_type": "code",
   "execution_count": 586,
   "metadata": {},
   "outputs": [
    {
     "data": {
      "text/plain": [
       "0.1565951618135996"
      ]
     },
     "execution_count": 586,
     "metadata": {},
     "output_type": "execute_result"
    }
   ],
   "source": [
    "df_new_ps3['total_sales'].corr(df_new_ps3['user_score'])#корреляция"
   ]
  },
  {
   "cell_type": "code",
   "execution_count": 587,
   "metadata": {},
   "outputs": [
    {
     "data": {
      "text/plain": [
       "Text(0.5, 0, 'Оценка критиков')"
      ]
     },
     "execution_count": 587,
     "metadata": {},
     "output_type": "execute_result"
    },
    {
     "data": {
      "image/png": "[encoded data removed]",
      "text/plain": [
       "<Figure size 432x288 with 1 Axes>"
      ]
     },
     "metadata": {
      "needs_background": "light"
     },
     "output_type": "display_data"
    }
   ],
   "source": [
    "df_new_ps3.plot(y='total_sales', x='critic_score', kind='scatter', alpha=0.5, title='Зависимость выручки PS3 от оценки критиков')\n",
    "ax = plt.gca()\n",
    "ax.set_ylabel('Выручка, млн дол.')\n",
    "ax.set_xlabel('Оценка критиков')"
   ]
  },
  {
   "cell_type": "code",
   "execution_count": 588,
   "metadata": {},
   "outputs": [
    {
     "data": {
      "text/plain": [
       "0.44657460493190704"
      ]
     },
     "execution_count": 588,
     "metadata": {},
     "output_type": "execute_result"
    }
   ],
   "source": [
    "df_new_ps3['total_sales'].corr(df_new_ps3['critic_score'])#корреляция"
   ]
  },
  {
   "cell_type": "code",
   "execution_count": 589,
   "metadata": {},
   "outputs": [
    {
     "data": {
      "text/html": [
       "<div>\n",
       "<style scoped>\n",
       "    .dataframe tbody tr th:only-of-type {\n",
       "        vertical-align: middle;\n",
       "    }\n",
       "\n",
       "    .dataframe tbody tr th {\n",
       "        vertical-align: top;\n",
       "    }\n",
       "\n",
       "    .dataframe thead th {\n",
       "        text-align: right;\n",
       "    }\n",
       "</style>\n",
       "<table border=\"1\" class=\"dataframe\">\n",
       "  <thead>\n",
       "    <tr style=\"text-align: right;\">\n",
       "      <th></th>\n",
       "      <th>name</th>\n",
       "      <th>platform</th>\n",
       "      <th>year_of_release</th>\n",
       "      <th>genre</th>\n",
       "      <th>na_sales</th>\n",
       "      <th>eu_sales</th>\n",
       "      <th>jp_sales</th>\n",
       "      <th>other_sales</th>\n",
       "      <th>critic_score</th>\n",
       "      <th>user_score</th>\n",
       "      <th>rating</th>\n",
       "      <th>total_sales</th>\n",
       "    </tr>\n",
       "  </thead>\n",
       "  <tbody>\n",
       "    <tr>\n",
       "      <td>165</td>\n",
       "      <td>Grand Theft Auto V</td>\n",
       "      <td>XOne</td>\n",
       "      <td>2014</td>\n",
       "      <td>Action</td>\n",
       "      <td>2.81</td>\n",
       "      <td>2.19</td>\n",
       "      <td>0.00</td>\n",
       "      <td>0.47</td>\n",
       "      <td>97.0</td>\n",
       "      <td>7.9</td>\n",
       "      <td>M</td>\n",
       "      <td>5.47</td>\n",
       "    </tr>\n",
       "    <tr>\n",
       "      <td>179</td>\n",
       "      <td>Call of Duty: Advanced Warfare</td>\n",
       "      <td>XOne</td>\n",
       "      <td>2014</td>\n",
       "      <td>Shooter</td>\n",
       "      <td>3.22</td>\n",
       "      <td>1.55</td>\n",
       "      <td>0.01</td>\n",
       "      <td>0.48</td>\n",
       "      <td>81.0</td>\n",
       "      <td>5.4</td>\n",
       "      <td>M</td>\n",
       "      <td>5.26</td>\n",
       "    </tr>\n",
       "    <tr>\n",
       "      <td>242</td>\n",
       "      <td>Halo 5: Guardians</td>\n",
       "      <td>XOne</td>\n",
       "      <td>2015</td>\n",
       "      <td>Shooter</td>\n",
       "      <td>2.78</td>\n",
       "      <td>1.27</td>\n",
       "      <td>0.03</td>\n",
       "      <td>0.41</td>\n",
       "      <td>84.0</td>\n",
       "      <td>6.4</td>\n",
       "      <td>T</td>\n",
       "      <td>4.49</td>\n",
       "    </tr>\n",
       "    <tr>\n",
       "      <td>270</td>\n",
       "      <td>Fallout 4</td>\n",
       "      <td>XOne</td>\n",
       "      <td>2015</td>\n",
       "      <td>Role-Playing</td>\n",
       "      <td>2.51</td>\n",
       "      <td>1.32</td>\n",
       "      <td>0.01</td>\n",
       "      <td>0.38</td>\n",
       "      <td>88.0</td>\n",
       "      <td>6.2</td>\n",
       "      <td>M</td>\n",
       "      <td>4.22</td>\n",
       "    </tr>\n",
       "    <tr>\n",
       "      <td>373</td>\n",
       "      <td>Assassin's Creed: Unity</td>\n",
       "      <td>XOne</td>\n",
       "      <td>2014</td>\n",
       "      <td>Action</td>\n",
       "      <td>2.27</td>\n",
       "      <td>0.90</td>\n",
       "      <td>0.00</td>\n",
       "      <td>0.33</td>\n",
       "      <td>72.0</td>\n",
       "      <td>4.1</td>\n",
       "      <td>M</td>\n",
       "      <td>3.50</td>\n",
       "    </tr>\n",
       "    <tr>\n",
       "      <td>...</td>\n",
       "      <td>...</td>\n",
       "      <td>...</td>\n",
       "      <td>...</td>\n",
       "      <td>...</td>\n",
       "      <td>...</td>\n",
       "      <td>...</td>\n",
       "      <td>...</td>\n",
       "      <td>...</td>\n",
       "      <td>...</td>\n",
       "      <td>...</td>\n",
       "      <td>...</td>\n",
       "      <td>...</td>\n",
       "    </tr>\n",
       "    <tr>\n",
       "      <td>16322</td>\n",
       "      <td>Agatha Christie's The ABC Murders</td>\n",
       "      <td>XOne</td>\n",
       "      <td>2016</td>\n",
       "      <td>Adventure</td>\n",
       "      <td>0.01</td>\n",
       "      <td>0.00</td>\n",
       "      <td>0.00</td>\n",
       "      <td>0.00</td>\n",
       "      <td>66.0</td>\n",
       "      <td>7.5</td>\n",
       "      <td>Unknown</td>\n",
       "      <td>0.01</td>\n",
       "    </tr>\n",
       "    <tr>\n",
       "      <td>16392</td>\n",
       "      <td>Goat Simulator</td>\n",
       "      <td>XOne</td>\n",
       "      <td>2016</td>\n",
       "      <td>Simulation</td>\n",
       "      <td>0.00</td>\n",
       "      <td>0.01</td>\n",
       "      <td>0.00</td>\n",
       "      <td>0.00</td>\n",
       "      <td>53.0</td>\n",
       "      <td>6.3</td>\n",
       "      <td>T</td>\n",
       "      <td>0.01</td>\n",
       "    </tr>\n",
       "    <tr>\n",
       "      <td>16597</td>\n",
       "      <td>Saints Row: Gat out of Hell</td>\n",
       "      <td>XOne</td>\n",
       "      <td>2015</td>\n",
       "      <td>Action</td>\n",
       "      <td>0.00</td>\n",
       "      <td>0.01</td>\n",
       "      <td>0.00</td>\n",
       "      <td>0.00</td>\n",
       "      <td>65.0</td>\n",
       "      <td>6.0</td>\n",
       "      <td>M</td>\n",
       "      <td>0.01</td>\n",
       "    </tr>\n",
       "    <tr>\n",
       "      <td>16630</td>\n",
       "      <td>Sébastien Loeb Rally Evo</td>\n",
       "      <td>XOne</td>\n",
       "      <td>2016</td>\n",
       "      <td>Racing</td>\n",
       "      <td>0.00</td>\n",
       "      <td>0.01</td>\n",
       "      <td>0.00</td>\n",
       "      <td>0.00</td>\n",
       "      <td>63.0</td>\n",
       "      <td>8.2</td>\n",
       "      <td>E</td>\n",
       "      <td>0.01</td>\n",
       "    </tr>\n",
       "    <tr>\n",
       "      <td>16660</td>\n",
       "      <td>Prison Architect</td>\n",
       "      <td>XOne</td>\n",
       "      <td>2016</td>\n",
       "      <td>Action</td>\n",
       "      <td>0.01</td>\n",
       "      <td>0.00</td>\n",
       "      <td>0.00</td>\n",
       "      <td>0.00</td>\n",
       "      <td>74.0</td>\n",
       "      <td>6.7</td>\n",
       "      <td>Unknown</td>\n",
       "      <td>0.01</td>\n",
       "    </tr>\n",
       "  </tbody>\n",
       "</table>\n",
       "<p>151 rows × 12 columns</p>\n",
       "</div>"
      ],
      "text/plain": [
       "                                    name platform  year_of_release  \\\n",
       "165                   Grand Theft Auto V     XOne             2014   \n",
       "179       Call of Duty: Advanced Warfare     XOne             2014   \n",
       "242                    Halo 5: Guardians     XOne             2015   \n",
       "270                            Fallout 4     XOne             2015   \n",
       "373              Assassin's Creed: Unity     XOne             2014   \n",
       "...                                  ...      ...              ...   \n",
       "16322  Agatha Christie's The ABC Murders     XOne             2016   \n",
       "16392                     Goat Simulator     XOne             2016   \n",
       "16597        Saints Row: Gat out of Hell     XOne             2015   \n",
       "16630           Sébastien Loeb Rally Evo     XOne             2016   \n",
       "16660                   Prison Architect     XOne             2016   \n",
       "\n",
       "              genre  na_sales  eu_sales  jp_sales  other_sales  critic_score  \\\n",
       "165          Action      2.81      2.19      0.00         0.47          97.0   \n",
       "179         Shooter      3.22      1.55      0.01         0.48          81.0   \n",
       "242         Shooter      2.78      1.27      0.03         0.41          84.0   \n",
       "270    Role-Playing      2.51      1.32      0.01         0.38          88.0   \n",
       "373          Action      2.27      0.90      0.00         0.33          72.0   \n",
       "...             ...       ...       ...       ...          ...           ...   \n",
       "16322     Adventure      0.01      0.00      0.00         0.00          66.0   \n",
       "16392    Simulation      0.00      0.01      0.00         0.00          53.0   \n",
       "16597        Action      0.00      0.01      0.00         0.00          65.0   \n",
       "16630        Racing      0.00      0.01      0.00         0.00          63.0   \n",
       "16660        Action      0.01      0.00      0.00         0.00          74.0   \n",
       "\n",
       "       user_score   rating  total_sales  \n",
       "165           7.9        M         5.47  \n",
       "179           5.4        M         5.26  \n",
       "242           6.4        T         4.49  \n",
       "270           6.2        M         4.22  \n",
       "373           4.1        M         3.50  \n",
       "...           ...      ...          ...  \n",
       "16322         7.5  Unknown         0.01  \n",
       "16392         6.3        T         0.01  \n",
       "16597         6.0        M         0.01  \n",
       "16630         8.2        E         0.01  \n",
       "16660         6.7  Unknown         0.01  \n",
       "\n",
       "[151 rows x 12 columns]"
      ]
     },
     "execution_count": 589,
     "metadata": {},
     "output_type": "execute_result"
    }
   ],
   "source": [
    "#выделим в отдельную таблицу продажи по XOne\n",
    "df_new_xone = df_new.query('platform == \"XOne\" and user_score != -1 and critic_score != -1')\n",
    "df_new_xone"
   ]
  },
  {
   "cell_type": "code",
   "execution_count": 590,
   "metadata": {},
   "outputs": [
    {
     "data": {
      "text/plain": [
       "Text(0.5, 0, 'Оценка пользователей')"
      ]
     },
     "execution_count": 590,
     "metadata": {},
     "output_type": "execute_result"
    },
    {
     "data": {
      "image/png": "[encoded data removed]",
      "text/plain": [
       "<Figure size 432x288 with 1 Axes>"
      ]
     },
     "metadata": {
      "needs_background": "light"
     },
     "output_type": "display_data"
    }
   ],
   "source": [
    "df_new_xone.plot(y='total_sales', x='user_score', kind='scatter', alpha=0.5, title='Зависимость выручки XOne от оценки пользователей')\n",
    "ax = plt.gca()\n",
    "ax.set_ylabel('Выручка, млн дол.')\n",
    "ax.set_xlabel('Оценка пользователей')"
   ]
  },
  {
   "cell_type": "code",
   "execution_count": 591,
   "metadata": {},
   "outputs": [
    {
     "data": {
      "text/plain": [
       "-0.09173434503310748"
      ]
     },
     "execution_count": 591,
     "metadata": {},
     "output_type": "execute_result"
    }
   ],
   "source": [
    "df_new_xone['total_sales'].corr(df_new_xone['user_score'])#корреляция"
   ]
  },
  {
   "cell_type": "code",
   "execution_count": 592,
   "metadata": {},
   "outputs": [
    {
     "data": {
      "text/plain": [
       "Text(0.5, 0, 'Оценка критиков')"
      ]
     },
     "execution_count": 592,
     "metadata": {},
     "output_type": "execute_result"
    },
    {
     "data": {
      "image/png": "[encoded data removed]",
      "text/plain": [
       "<Figure size 432x288 with 1 Axes>"
      ]
     },
     "metadata": {
      "needs_background": "light"
     },
     "output_type": "display_data"
    }
   ],
   "source": [
    "df_new_xone.plot(y='total_sales', x='critic_score', kind='scatter', alpha=0.5, title='Зависимость выручки XOne. от оценки критиков')\n",
    "ax = plt.gca()\n",
    "ax.set_ylabel('Выручка, млн дол.')\n",
    "ax.set_xlabel('Оценка критиков')"
   ]
  },
  {
   "cell_type": "code",
   "execution_count": 593,
   "metadata": {},
   "outputs": [
    {
     "data": {
      "text/plain": [
       "0.4221118510555765"
      ]
     },
     "execution_count": 593,
     "metadata": {},
     "output_type": "execute_result"
    }
   ],
   "source": [
    "df_new_xone['total_sales'].corr(df_new_xone['critic_score'])#корреляция"
   ]
  },
  {
   "cell_type": "code",
   "execution_count": 594,
   "metadata": {},
   "outputs": [
    {
     "data": {
      "text/html": [
       "<div>\n",
       "<style scoped>\n",
       "    .dataframe tbody tr th:only-of-type {\n",
       "        vertical-align: middle;\n",
       "    }\n",
       "\n",
       "    .dataframe tbody tr th {\n",
       "        vertical-align: top;\n",
       "    }\n",
       "\n",
       "    .dataframe thead th {\n",
       "        text-align: right;\n",
       "    }\n",
       "</style>\n",
       "<table border=\"1\" class=\"dataframe\">\n",
       "  <thead>\n",
       "    <tr style=\"text-align: right;\">\n",
       "      <th></th>\n",
       "      <th>name</th>\n",
       "      <th>platform</th>\n",
       "      <th>year_of_release</th>\n",
       "      <th>genre</th>\n",
       "      <th>na_sales</th>\n",
       "      <th>eu_sales</th>\n",
       "      <th>jp_sales</th>\n",
       "      <th>other_sales</th>\n",
       "      <th>critic_score</th>\n",
       "      <th>user_score</th>\n",
       "      <th>rating</th>\n",
       "      <th>total_sales</th>\n",
       "    </tr>\n",
       "  </thead>\n",
       "  <tbody>\n",
       "    <tr>\n",
       "      <td>312</td>\n",
       "      <td>Monster Hunter 4 Ultimate</td>\n",
       "      <td>3DS</td>\n",
       "      <td>2014</td>\n",
       "      <td>Role-Playing</td>\n",
       "      <td>0.68</td>\n",
       "      <td>0.48</td>\n",
       "      <td>2.62</td>\n",
       "      <td>0.11</td>\n",
       "      <td>86.0</td>\n",
       "      <td>8.7</td>\n",
       "      <td>T</td>\n",
       "      <td>3.89</td>\n",
       "    </tr>\n",
       "    <tr>\n",
       "      <td>457</td>\n",
       "      <td>Animal Crossing: Happy Home Designer</td>\n",
       "      <td>3DS</td>\n",
       "      <td>2015</td>\n",
       "      <td>Simulation</td>\n",
       "      <td>0.51</td>\n",
       "      <td>1.02</td>\n",
       "      <td>1.40</td>\n",
       "      <td>0.12</td>\n",
       "      <td>66.0</td>\n",
       "      <td>6.9</td>\n",
       "      <td>E</td>\n",
       "      <td>3.05</td>\n",
       "    </tr>\n",
       "    <tr>\n",
       "      <td>677</td>\n",
       "      <td>The Legend of Zelda: Majora's Mask 3D</td>\n",
       "      <td>3DS</td>\n",
       "      <td>2015</td>\n",
       "      <td>Action</td>\n",
       "      <td>1.15</td>\n",
       "      <td>0.55</td>\n",
       "      <td>0.47</td>\n",
       "      <td>0.17</td>\n",
       "      <td>89.0</td>\n",
       "      <td>9.0</td>\n",
       "      <td>E10+</td>\n",
       "      <td>2.34</td>\n",
       "    </tr>\n",
       "    <tr>\n",
       "      <td>952</td>\n",
       "      <td>Kirby: Triple Deluxe</td>\n",
       "      <td>3DS</td>\n",
       "      <td>2014</td>\n",
       "      <td>Platform</td>\n",
       "      <td>0.61</td>\n",
       "      <td>0.34</td>\n",
       "      <td>0.79</td>\n",
       "      <td>0.09</td>\n",
       "      <td>80.0</td>\n",
       "      <td>8.8</td>\n",
       "      <td>E</td>\n",
       "      <td>1.83</td>\n",
       "    </tr>\n",
       "    <tr>\n",
       "      <td>1395</td>\n",
       "      <td>Yoshi's New Island</td>\n",
       "      <td>3DS</td>\n",
       "      <td>2014</td>\n",
       "      <td>Platform</td>\n",
       "      <td>0.48</td>\n",
       "      <td>0.53</td>\n",
       "      <td>0.28</td>\n",
       "      <td>0.09</td>\n",
       "      <td>64.0</td>\n",
       "      <td>6.1</td>\n",
       "      <td>E</td>\n",
       "      <td>1.38</td>\n",
       "    </tr>\n",
       "    <tr>\n",
       "      <td>1596</td>\n",
       "      <td>Pokemon Super Mystery Dungeon</td>\n",
       "      <td>3DS</td>\n",
       "      <td>2015</td>\n",
       "      <td>Role-Playing</td>\n",
       "      <td>0.48</td>\n",
       "      <td>0.35</td>\n",
       "      <td>0.34</td>\n",
       "      <td>0.08</td>\n",
       "      <td>69.0</td>\n",
       "      <td>8.8</td>\n",
       "      <td>E</td>\n",
       "      <td>1.25</td>\n",
       "    </tr>\n",
       "    <tr>\n",
       "      <td>1817</td>\n",
       "      <td>The Legend of Zelda: Tri Force Heroes</td>\n",
       "      <td>3DS</td>\n",
       "      <td>2015</td>\n",
       "      <td>Action</td>\n",
       "      <td>0.53</td>\n",
       "      <td>0.33</td>\n",
       "      <td>0.17</td>\n",
       "      <td>0.08</td>\n",
       "      <td>73.0</td>\n",
       "      <td>7.6</td>\n",
       "      <td>E</td>\n",
       "      <td>1.11</td>\n",
       "    </tr>\n",
       "    <tr>\n",
       "      <td>2219</td>\n",
       "      <td>Kirby: Planet Robobot</td>\n",
       "      <td>3DS</td>\n",
       "      <td>2016</td>\n",
       "      <td>Action</td>\n",
       "      <td>0.28</td>\n",
       "      <td>0.14</td>\n",
       "      <td>0.47</td>\n",
       "      <td>0.04</td>\n",
       "      <td>81.0</td>\n",
       "      <td>8.7</td>\n",
       "      <td>E</td>\n",
       "      <td>0.93</td>\n",
       "    </tr>\n",
       "    <tr>\n",
       "      <td>2839</td>\n",
       "      <td>Persona Q: Shadow of the Labyrinth</td>\n",
       "      <td>3DS</td>\n",
       "      <td>2014</td>\n",
       "      <td>Role-Playing</td>\n",
       "      <td>0.34</td>\n",
       "      <td>0.07</td>\n",
       "      <td>0.27</td>\n",
       "      <td>0.04</td>\n",
       "      <td>83.0</td>\n",
       "      <td>8.1</td>\n",
       "      <td>M</td>\n",
       "      <td>0.72</td>\n",
       "    </tr>\n",
       "    <tr>\n",
       "      <td>3718</td>\n",
       "      <td>Final Fantasy Explorers</td>\n",
       "      <td>3DS</td>\n",
       "      <td>2014</td>\n",
       "      <td>Role-Playing</td>\n",
       "      <td>0.16</td>\n",
       "      <td>0.07</td>\n",
       "      <td>0.28</td>\n",
       "      <td>0.02</td>\n",
       "      <td>69.0</td>\n",
       "      <td>7.0</td>\n",
       "      <td>E10+</td>\n",
       "      <td>0.53</td>\n",
       "    </tr>\n",
       "    <tr>\n",
       "      <td>4051</td>\n",
       "      <td>Pokemon Art Academy</td>\n",
       "      <td>3DS</td>\n",
       "      <td>2014</td>\n",
       "      <td>Misc</td>\n",
       "      <td>0.18</td>\n",
       "      <td>0.12</td>\n",
       "      <td>0.16</td>\n",
       "      <td>0.03</td>\n",
       "      <td>76.0</td>\n",
       "      <td>7.7</td>\n",
       "      <td>E</td>\n",
       "      <td>0.49</td>\n",
       "    </tr>\n",
       "    <tr>\n",
       "      <td>4069</td>\n",
       "      <td>Bravely Second: End Layer</td>\n",
       "      <td>3DS</td>\n",
       "      <td>2015</td>\n",
       "      <td>Role-Playing</td>\n",
       "      <td>0.17</td>\n",
       "      <td>0.10</td>\n",
       "      <td>0.18</td>\n",
       "      <td>0.03</td>\n",
       "      <td>81.0</td>\n",
       "      <td>7.4</td>\n",
       "      <td>T</td>\n",
       "      <td>0.48</td>\n",
       "    </tr>\n",
       "    <tr>\n",
       "      <td>4096</td>\n",
       "      <td>Mario Golf: World Tour</td>\n",
       "      <td>3DS</td>\n",
       "      <td>2014</td>\n",
       "      <td>Sports</td>\n",
       "      <td>0.15</td>\n",
       "      <td>0.13</td>\n",
       "      <td>0.17</td>\n",
       "      <td>0.03</td>\n",
       "      <td>78.0</td>\n",
       "      <td>8.2</td>\n",
       "      <td>E</td>\n",
       "      <td>0.48</td>\n",
       "    </tr>\n",
       "    <tr>\n",
       "      <td>4618</td>\n",
       "      <td>Story of Seasons</td>\n",
       "      <td>3DS</td>\n",
       "      <td>2014</td>\n",
       "      <td>Simulation</td>\n",
       "      <td>0.00</td>\n",
       "      <td>0.14</td>\n",
       "      <td>0.27</td>\n",
       "      <td>0.01</td>\n",
       "      <td>76.0</td>\n",
       "      <td>8.2</td>\n",
       "      <td>E10+</td>\n",
       "      <td>0.42</td>\n",
       "    </tr>\n",
       "    <tr>\n",
       "      <td>5115</td>\n",
       "      <td>Theatrhythm Final Fantasy: Curtain Call</td>\n",
       "      <td>3DS</td>\n",
       "      <td>2014</td>\n",
       "      <td>Misc</td>\n",
       "      <td>0.13</td>\n",
       "      <td>0.08</td>\n",
       "      <td>0.15</td>\n",
       "      <td>0.02</td>\n",
       "      <td>83.0</td>\n",
       "      <td>8.2</td>\n",
       "      <td>T</td>\n",
       "      <td>0.38</td>\n",
       "    </tr>\n",
       "    <tr>\n",
       "      <td>5224</td>\n",
       "      <td>Fossil Fighters: Frontier</td>\n",
       "      <td>3DS</td>\n",
       "      <td>2014</td>\n",
       "      <td>Role-Playing</td>\n",
       "      <td>0.08</td>\n",
       "      <td>0.04</td>\n",
       "      <td>0.23</td>\n",
       "      <td>0.01</td>\n",
       "      <td>57.0</td>\n",
       "      <td>4.8</td>\n",
       "      <td>E10+</td>\n",
       "      <td>0.36</td>\n",
       "    </tr>\n",
       "    <tr>\n",
       "      <td>5502</td>\n",
       "      <td>Dragon Ball Z: Extreme Butoden</td>\n",
       "      <td>3DS</td>\n",
       "      <td>2015</td>\n",
       "      <td>Fighting</td>\n",
       "      <td>0.12</td>\n",
       "      <td>0.03</td>\n",
       "      <td>0.16</td>\n",
       "      <td>0.02</td>\n",
       "      <td>61.0</td>\n",
       "      <td>6.6</td>\n",
       "      <td>T</td>\n",
       "      <td>0.33</td>\n",
       "    </tr>\n",
       "    <tr>\n",
       "      <td>5564</td>\n",
       "      <td>Hatsune Miku: Project Mirai DX</td>\n",
       "      <td>3DS</td>\n",
       "      <td>2015</td>\n",
       "      <td>Misc</td>\n",
       "      <td>0.16</td>\n",
       "      <td>0.04</td>\n",
       "      <td>0.10</td>\n",
       "      <td>0.02</td>\n",
       "      <td>80.0</td>\n",
       "      <td>8.5</td>\n",
       "      <td>E10+</td>\n",
       "      <td>0.32</td>\n",
       "    </tr>\n",
       "    <tr>\n",
       "      <td>5840</td>\n",
       "      <td>Mario Party: Star Rush</td>\n",
       "      <td>3DS</td>\n",
       "      <td>2016</td>\n",
       "      <td>Misc</td>\n",
       "      <td>0.08</td>\n",
       "      <td>0.13</td>\n",
       "      <td>0.08</td>\n",
       "      <td>0.02</td>\n",
       "      <td>68.0</td>\n",
       "      <td>6.8</td>\n",
       "      <td>E</td>\n",
       "      <td>0.31</td>\n",
       "    </tr>\n",
       "    <tr>\n",
       "      <td>6037</td>\n",
       "      <td>Sonic Boom: Shattered Crystal</td>\n",
       "      <td>3DS</td>\n",
       "      <td>2014</td>\n",
       "      <td>Action</td>\n",
       "      <td>0.17</td>\n",
       "      <td>0.09</td>\n",
       "      <td>0.00</td>\n",
       "      <td>0.03</td>\n",
       "      <td>47.0</td>\n",
       "      <td>6.3</td>\n",
       "      <td>E</td>\n",
       "      <td>0.29</td>\n",
       "    </tr>\n",
       "    <tr>\n",
       "      <td>6377</td>\n",
       "      <td>Ultimate NES Remix</td>\n",
       "      <td>3DS</td>\n",
       "      <td>2014</td>\n",
       "      <td>Action</td>\n",
       "      <td>0.15</td>\n",
       "      <td>0.09</td>\n",
       "      <td>0.00</td>\n",
       "      <td>0.02</td>\n",
       "      <td>69.0</td>\n",
       "      <td>7.6</td>\n",
       "      <td>E</td>\n",
       "      <td>0.26</td>\n",
       "    </tr>\n",
       "    <tr>\n",
       "      <td>6629</td>\n",
       "      <td>The Legend of Legacy</td>\n",
       "      <td>3DS</td>\n",
       "      <td>2015</td>\n",
       "      <td>Role-Playing</td>\n",
       "      <td>0.12</td>\n",
       "      <td>0.01</td>\n",
       "      <td>0.10</td>\n",
       "      <td>0.02</td>\n",
       "      <td>67.0</td>\n",
       "      <td>7.1</td>\n",
       "      <td>E10+</td>\n",
       "      <td>0.25</td>\n",
       "    </tr>\n",
       "    <tr>\n",
       "      <td>6769</td>\n",
       "      <td>Stella Glow</td>\n",
       "      <td>3DS</td>\n",
       "      <td>2015</td>\n",
       "      <td>Role-Playing</td>\n",
       "      <td>0.16</td>\n",
       "      <td>0.01</td>\n",
       "      <td>0.05</td>\n",
       "      <td>0.02</td>\n",
       "      <td>79.0</td>\n",
       "      <td>8.7</td>\n",
       "      <td>T</td>\n",
       "      <td>0.24</td>\n",
       "    </tr>\n",
       "    <tr>\n",
       "      <td>6877</td>\n",
       "      <td>Etrian Mystery Dungeon</td>\n",
       "      <td>3DS</td>\n",
       "      <td>2015</td>\n",
       "      <td>Role-Playing</td>\n",
       "      <td>0.09</td>\n",
       "      <td>0.01</td>\n",
       "      <td>0.13</td>\n",
       "      <td>0.01</td>\n",
       "      <td>77.0</td>\n",
       "      <td>7.9</td>\n",
       "      <td>E10+</td>\n",
       "      <td>0.24</td>\n",
       "    </tr>\n",
       "    <tr>\n",
       "      <td>7254</td>\n",
       "      <td>Senran Kagura 2: Deep Crimson</td>\n",
       "      <td>3DS</td>\n",
       "      <td>2014</td>\n",
       "      <td>Action</td>\n",
       "      <td>0.10</td>\n",
       "      <td>0.02</td>\n",
       "      <td>0.08</td>\n",
       "      <td>0.01</td>\n",
       "      <td>58.0</td>\n",
       "      <td>6.8</td>\n",
       "      <td>M</td>\n",
       "      <td>0.21</td>\n",
       "    </tr>\n",
       "    <tr>\n",
       "      <td>7337</td>\n",
       "      <td>Code Name: S.T.E.A.M.</td>\n",
       "      <td>3DS</td>\n",
       "      <td>2015</td>\n",
       "      <td>Strategy</td>\n",
       "      <td>0.14</td>\n",
       "      <td>0.05</td>\n",
       "      <td>0.01</td>\n",
       "      <td>0.02</td>\n",
       "      <td>69.0</td>\n",
       "      <td>7.7</td>\n",
       "      <td>T</td>\n",
       "      <td>0.22</td>\n",
       "    </tr>\n",
       "    <tr>\n",
       "      <td>7371</td>\n",
       "      <td>Dragon Ball: Fusions</td>\n",
       "      <td>3DS</td>\n",
       "      <td>2016</td>\n",
       "      <td>Role-Playing</td>\n",
       "      <td>0.02</td>\n",
       "      <td>0.00</td>\n",
       "      <td>0.19</td>\n",
       "      <td>0.00</td>\n",
       "      <td>68.0</td>\n",
       "      <td>7.6</td>\n",
       "      <td>T</td>\n",
       "      <td>0.21</td>\n",
       "    </tr>\n",
       "    <tr>\n",
       "      <td>7457</td>\n",
       "      <td>Mega Man Legacy Collection</td>\n",
       "      <td>3DS</td>\n",
       "      <td>2016</td>\n",
       "      <td>Platform</td>\n",
       "      <td>0.14</td>\n",
       "      <td>0.00</td>\n",
       "      <td>0.05</td>\n",
       "      <td>0.02</td>\n",
       "      <td>77.0</td>\n",
       "      <td>7.1</td>\n",
       "      <td>E</td>\n",
       "      <td>0.21</td>\n",
       "    </tr>\n",
       "    <tr>\n",
       "      <td>7771</td>\n",
       "      <td>LEGO Marvel's Avengers</td>\n",
       "      <td>3DS</td>\n",
       "      <td>2016</td>\n",
       "      <td>Action</td>\n",
       "      <td>0.07</td>\n",
       "      <td>0.09</td>\n",
       "      <td>0.01</td>\n",
       "      <td>0.01</td>\n",
       "      <td>60.0</td>\n",
       "      <td>7.1</td>\n",
       "      <td>E10+</td>\n",
       "      <td>0.18</td>\n",
       "    </tr>\n",
       "    <tr>\n",
       "      <td>8453</td>\n",
       "      <td>7th Dragon III Code: VFD</td>\n",
       "      <td>3DS</td>\n",
       "      <td>2015</td>\n",
       "      <td>Role-Playing</td>\n",
       "      <td>0.04</td>\n",
       "      <td>0.00</td>\n",
       "      <td>0.12</td>\n",
       "      <td>0.00</td>\n",
       "      <td>77.0</td>\n",
       "      <td>8.2</td>\n",
       "      <td>T</td>\n",
       "      <td>0.16</td>\n",
       "    </tr>\n",
       "    <tr>\n",
       "      <td>8518</td>\n",
       "      <td>Return to PopoloCrois: A Story of Seasons Fair...</td>\n",
       "      <td>3DS</td>\n",
       "      <td>2015</td>\n",
       "      <td>Simulation</td>\n",
       "      <td>0.05</td>\n",
       "      <td>0.00</td>\n",
       "      <td>0.10</td>\n",
       "      <td>0.01</td>\n",
       "      <td>72.0</td>\n",
       "      <td>6.8</td>\n",
       "      <td>E10+</td>\n",
       "      <td>0.16</td>\n",
       "    </tr>\n",
       "    <tr>\n",
       "      <td>9143</td>\n",
       "      <td>Shovel Knight</td>\n",
       "      <td>3DS</td>\n",
       "      <td>2015</td>\n",
       "      <td>Platform</td>\n",
       "      <td>0.08</td>\n",
       "      <td>0.04</td>\n",
       "      <td>0.02</td>\n",
       "      <td>0.01</td>\n",
       "      <td>90.0</td>\n",
       "      <td>8.2</td>\n",
       "      <td>E</td>\n",
       "      <td>0.15</td>\n",
       "    </tr>\n",
       "    <tr>\n",
       "      <td>10026</td>\n",
       "      <td>Disney Art Academy</td>\n",
       "      <td>3DS</td>\n",
       "      <td>2016</td>\n",
       "      <td>Action</td>\n",
       "      <td>0.02</td>\n",
       "      <td>0.01</td>\n",
       "      <td>0.08</td>\n",
       "      <td>0.00</td>\n",
       "      <td>72.0</td>\n",
       "      <td>6.8</td>\n",
       "      <td>E</td>\n",
       "      <td>0.11</td>\n",
       "    </tr>\n",
       "    <tr>\n",
       "      <td>11059</td>\n",
       "      <td>Pokemon Rumble World</td>\n",
       "      <td>3DS</td>\n",
       "      <td>2015</td>\n",
       "      <td>Action</td>\n",
       "      <td>0.00</td>\n",
       "      <td>0.01</td>\n",
       "      <td>0.08</td>\n",
       "      <td>0.00</td>\n",
       "      <td>58.0</td>\n",
       "      <td>6.4</td>\n",
       "      <td>E10+</td>\n",
       "      <td>0.09</td>\n",
       "    </tr>\n",
       "    <tr>\n",
       "      <td>11168</td>\n",
       "      <td>Terraria</td>\n",
       "      <td>3DS</td>\n",
       "      <td>2016</td>\n",
       "      <td>Action</td>\n",
       "      <td>0.00</td>\n",
       "      <td>0.04</td>\n",
       "      <td>0.05</td>\n",
       "      <td>0.00</td>\n",
       "      <td>71.0</td>\n",
       "      <td>7.1</td>\n",
       "      <td>T</td>\n",
       "      <td>0.09</td>\n",
       "    </tr>\n",
       "    <tr>\n",
       "      <td>11436</td>\n",
       "      <td>Adventure Time: The Secret of the Nameless Kin...</td>\n",
       "      <td>3DS</td>\n",
       "      <td>2014</td>\n",
       "      <td>Action</td>\n",
       "      <td>0.00</td>\n",
       "      <td>0.07</td>\n",
       "      <td>0.00</td>\n",
       "      <td>0.00</td>\n",
       "      <td>65.0</td>\n",
       "      <td>5.6</td>\n",
       "      <td>E10+</td>\n",
       "      <td>0.07</td>\n",
       "    </tr>\n",
       "    <tr>\n",
       "      <td>11681</td>\n",
       "      <td>Samurai Warriors Chronicles 3</td>\n",
       "      <td>3DS</td>\n",
       "      <td>2014</td>\n",
       "      <td>Action</td>\n",
       "      <td>0.00</td>\n",
       "      <td>0.00</td>\n",
       "      <td>0.08</td>\n",
       "      <td>0.00</td>\n",
       "      <td>63.0</td>\n",
       "      <td>6.1</td>\n",
       "      <td>T</td>\n",
       "      <td>0.08</td>\n",
       "    </tr>\n",
       "    <tr>\n",
       "      <td>11725</td>\n",
       "      <td>Zero Escape: Zero Time Dilemma</td>\n",
       "      <td>3DS</td>\n",
       "      <td>2016</td>\n",
       "      <td>Adventure</td>\n",
       "      <td>0.05</td>\n",
       "      <td>0.00</td>\n",
       "      <td>0.02</td>\n",
       "      <td>0.01</td>\n",
       "      <td>81.0</td>\n",
       "      <td>8.5</td>\n",
       "      <td>M</td>\n",
       "      <td>0.08</td>\n",
       "    </tr>\n",
       "    <tr>\n",
       "      <td>12333</td>\n",
       "      <td>Mario vs. Donkey Kong: Tipping Stars</td>\n",
       "      <td>3DS</td>\n",
       "      <td>2015</td>\n",
       "      <td>Puzzle</td>\n",
       "      <td>0.00</td>\n",
       "      <td>0.00</td>\n",
       "      <td>0.06</td>\n",
       "      <td>0.00</td>\n",
       "      <td>70.0</td>\n",
       "      <td>7.5</td>\n",
       "      <td>E</td>\n",
       "      <td>0.06</td>\n",
       "    </tr>\n",
       "    <tr>\n",
       "      <td>12629</td>\n",
       "      <td>Lord of Magna: Maiden Heaven</td>\n",
       "      <td>3DS</td>\n",
       "      <td>2014</td>\n",
       "      <td>Role-Playing</td>\n",
       "      <td>0.00</td>\n",
       "      <td>0.00</td>\n",
       "      <td>0.06</td>\n",
       "      <td>0.00</td>\n",
       "      <td>68.0</td>\n",
       "      <td>7.8</td>\n",
       "      <td>T</td>\n",
       "      <td>0.06</td>\n",
       "    </tr>\n",
       "    <tr>\n",
       "      <td>13214</td>\n",
       "      <td>Metroid Prime: Federation Force</td>\n",
       "      <td>3DS</td>\n",
       "      <td>2016</td>\n",
       "      <td>Action</td>\n",
       "      <td>0.02</td>\n",
       "      <td>0.01</td>\n",
       "      <td>0.01</td>\n",
       "      <td>0.00</td>\n",
       "      <td>64.0</td>\n",
       "      <td>5.1</td>\n",
       "      <td>T</td>\n",
       "      <td>0.04</td>\n",
       "    </tr>\n",
       "    <tr>\n",
       "      <td>13588</td>\n",
       "      <td>Shantae and the Pirate's Curse</td>\n",
       "      <td>3DS</td>\n",
       "      <td>2015</td>\n",
       "      <td>Platform</td>\n",
       "      <td>0.01</td>\n",
       "      <td>0.00</td>\n",
       "      <td>0.03</td>\n",
       "      <td>0.00</td>\n",
       "      <td>82.0</td>\n",
       "      <td>8.5</td>\n",
       "      <td>E10+</td>\n",
       "      <td>0.04</td>\n",
       "    </tr>\n",
       "    <tr>\n",
       "      <td>13694</td>\n",
       "      <td>Gravity Falls: Legend of the Gnome Gemulets</td>\n",
       "      <td>3DS</td>\n",
       "      <td>2015</td>\n",
       "      <td>Action</td>\n",
       "      <td>0.03</td>\n",
       "      <td>0.00</td>\n",
       "      <td>0.00</td>\n",
       "      <td>0.00</td>\n",
       "      <td>46.0</td>\n",
       "      <td>5.8</td>\n",
       "      <td>E</td>\n",
       "      <td>0.03</td>\n",
       "    </tr>\n",
       "    <tr>\n",
       "      <td>13695</td>\n",
       "      <td>Rodea the Sky Soldier</td>\n",
       "      <td>3DS</td>\n",
       "      <td>2015</td>\n",
       "      <td>Action</td>\n",
       "      <td>0.03</td>\n",
       "      <td>0.00</td>\n",
       "      <td>0.00</td>\n",
       "      <td>0.00</td>\n",
       "      <td>45.0</td>\n",
       "      <td>5.6</td>\n",
       "      <td>E10+</td>\n",
       "      <td>0.03</td>\n",
       "    </tr>\n",
       "    <tr>\n",
       "      <td>15211</td>\n",
       "      <td>Phoenix Wright: Ace Attorney Trilogy</td>\n",
       "      <td>3DS</td>\n",
       "      <td>2014</td>\n",
       "      <td>Adventure</td>\n",
       "      <td>0.00</td>\n",
       "      <td>0.00</td>\n",
       "      <td>0.02</td>\n",
       "      <td>0.00</td>\n",
       "      <td>81.0</td>\n",
       "      <td>9.0</td>\n",
       "      <td>T</td>\n",
       "      <td>0.02</td>\n",
       "    </tr>\n",
       "    <tr>\n",
       "      <td>15521</td>\n",
       "      <td>Tenkai Knights: Brave Battle</td>\n",
       "      <td>3DS</td>\n",
       "      <td>2014</td>\n",
       "      <td>Action</td>\n",
       "      <td>0.01</td>\n",
       "      <td>0.01</td>\n",
       "      <td>0.00</td>\n",
       "      <td>0.00</td>\n",
       "      <td>26.0</td>\n",
       "      <td>2.4</td>\n",
       "      <td>E10+</td>\n",
       "      <td>0.02</td>\n",
       "    </tr>\n",
       "    <tr>\n",
       "      <td>16143</td>\n",
       "      <td>Azure Striker Gunvolt</td>\n",
       "      <td>3DS</td>\n",
       "      <td>2016</td>\n",
       "      <td>Action</td>\n",
       "      <td>0.01</td>\n",
       "      <td>0.00</td>\n",
       "      <td>0.00</td>\n",
       "      <td>0.00</td>\n",
       "      <td>77.0</td>\n",
       "      <td>8.4</td>\n",
       "      <td>E10+</td>\n",
       "      <td>0.01</td>\n",
       "    </tr>\n",
       "  </tbody>\n",
       "</table>\n",
       "</div>"
      ],
      "text/plain": [
       "                                                    name platform  \\\n",
       "312                            Monster Hunter 4 Ultimate      3DS   \n",
       "457                 Animal Crossing: Happy Home Designer      3DS   \n",
       "677                The Legend of Zelda: Majora's Mask 3D      3DS   \n",
       "952                                 Kirby: Triple Deluxe      3DS   \n",
       "1395                                  Yoshi's New Island      3DS   \n",
       "1596                       Pokemon Super Mystery Dungeon      3DS   \n",
       "1817               The Legend of Zelda: Tri Force Heroes      3DS   \n",
       "2219                               Kirby: Planet Robobot      3DS   \n",
       "2839                  Persona Q: Shadow of the Labyrinth      3DS   \n",
       "3718                             Final Fantasy Explorers      3DS   \n",
       "4051                                Pokemon Art Academy       3DS   \n",
       "4069                           Bravely Second: End Layer      3DS   \n",
       "4096                              Mario Golf: World Tour      3DS   \n",
       "4618                                    Story of Seasons      3DS   \n",
       "5115             Theatrhythm Final Fantasy: Curtain Call      3DS   \n",
       "5224                           Fossil Fighters: Frontier      3DS   \n",
       "5502                      Dragon Ball Z: Extreme Butoden      3DS   \n",
       "5564                      Hatsune Miku: Project Mirai DX      3DS   \n",
       "5840                              Mario Party: Star Rush      3DS   \n",
       "6037                       Sonic Boom: Shattered Crystal      3DS   \n",
       "6377                                  Ultimate NES Remix      3DS   \n",
       "6629                                The Legend of Legacy      3DS   \n",
       "6769                                         Stella Glow      3DS   \n",
       "6877                              Etrian Mystery Dungeon      3DS   \n",
       "7254                      Senran Kagura 2: Deep Crimson       3DS   \n",
       "7337                               Code Name: S.T.E.A.M.      3DS   \n",
       "7371                                Dragon Ball: Fusions      3DS   \n",
       "7457                          Mega Man Legacy Collection      3DS   \n",
       "7771                              LEGO Marvel's Avengers      3DS   \n",
       "8453                            7th Dragon III Code: VFD      3DS   \n",
       "8518   Return to PopoloCrois: A Story of Seasons Fair...      3DS   \n",
       "9143                                       Shovel Knight      3DS   \n",
       "10026                                 Disney Art Academy      3DS   \n",
       "11059                               Pokemon Rumble World      3DS   \n",
       "11168                                           Terraria      3DS   \n",
       "11436  Adventure Time: The Secret of the Nameless Kin...      3DS   \n",
       "11681                      Samurai Warriors Chronicles 3      3DS   \n",
       "11725                     Zero Escape: Zero Time Dilemma      3DS   \n",
       "12333               Mario vs. Donkey Kong: Tipping Stars      3DS   \n",
       "12629                       Lord of Magna: Maiden Heaven      3DS   \n",
       "13214                    Metroid Prime: Federation Force      3DS   \n",
       "13588                     Shantae and the Pirate's Curse      3DS   \n",
       "13694        Gravity Falls: Legend of the Gnome Gemulets      3DS   \n",
       "13695                              Rodea the Sky Soldier      3DS   \n",
       "15211               Phoenix Wright: Ace Attorney Trilogy      3DS   \n",
       "15521                       Tenkai Knights: Brave Battle      3DS   \n",
       "16143                              Azure Striker Gunvolt      3DS   \n",
       "\n",
       "       year_of_release         genre  na_sales  eu_sales  jp_sales  \\\n",
       "312               2014  Role-Playing      0.68      0.48      2.62   \n",
       "457               2015    Simulation      0.51      1.02      1.40   \n",
       "677               2015        Action      1.15      0.55      0.47   \n",
       "952               2014      Platform      0.61      0.34      0.79   \n",
       "1395              2014      Platform      0.48      0.53      0.28   \n",
       "1596              2015  Role-Playing      0.48      0.35      0.34   \n",
       "1817              2015        Action      0.53      0.33      0.17   \n",
       "2219              2016        Action      0.28      0.14      0.47   \n",
       "2839              2014  Role-Playing      0.34      0.07      0.27   \n",
       "3718              2014  Role-Playing      0.16      0.07      0.28   \n",
       "4051              2014          Misc      0.18      0.12      0.16   \n",
       "4069              2015  Role-Playing      0.17      0.10      0.18   \n",
       "4096              2014        Sports      0.15      0.13      0.17   \n",
       "4618              2014    Simulation      0.00      0.14      0.27   \n",
       "5115              2014          Misc      0.13      0.08      0.15   \n",
       "5224              2014  Role-Playing      0.08      0.04      0.23   \n",
       "5502              2015      Fighting      0.12      0.03      0.16   \n",
       "5564              2015          Misc      0.16      0.04      0.10   \n",
       "5840              2016          Misc      0.08      0.13      0.08   \n",
       "6037              2014        Action      0.17      0.09      0.00   \n",
       "6377              2014        Action      0.15      0.09      0.00   \n",
       "6629              2015  Role-Playing      0.12      0.01      0.10   \n",
       "6769              2015  Role-Playing      0.16      0.01      0.05   \n",
       "6877              2015  Role-Playing      0.09      0.01      0.13   \n",
       "7254              2014        Action      0.10      0.02      0.08   \n",
       "7337              2015      Strategy      0.14      0.05      0.01   \n",
       "7371              2016  Role-Playing      0.02      0.00      0.19   \n",
       "7457              2016      Platform      0.14      0.00      0.05   \n",
       "7771              2016        Action      0.07      0.09      0.01   \n",
       "8453              2015  Role-Playing      0.04      0.00      0.12   \n",
       "8518              2015    Simulation      0.05      0.00      0.10   \n",
       "9143              2015      Platform      0.08      0.04      0.02   \n",
       "10026             2016        Action      0.02      0.01      0.08   \n",
       "11059             2015        Action      0.00      0.01      0.08   \n",
       "11168             2016        Action      0.00      0.04      0.05   \n",
       "11436             2014        Action      0.00      0.07      0.00   \n",
       "11681             2014        Action      0.00      0.00      0.08   \n",
       "11725             2016     Adventure      0.05      0.00      0.02   \n",
       "12333             2015        Puzzle      0.00      0.00      0.06   \n",
       "12629             2014  Role-Playing      0.00      0.00      0.06   \n",
       "13214             2016        Action      0.02      0.01      0.01   \n",
       "13588             2015      Platform      0.01      0.00      0.03   \n",
       "13694             2015        Action      0.03      0.00      0.00   \n",
       "13695             2015        Action      0.03      0.00      0.00   \n",
       "15211             2014     Adventure      0.00      0.00      0.02   \n",
       "15521             2014        Action      0.01      0.01      0.00   \n",
       "16143             2016        Action      0.01      0.00      0.00   \n",
       "\n",
       "       other_sales  critic_score  user_score rating  total_sales  \n",
       "312           0.11          86.0         8.7      T         3.89  \n",
       "457           0.12          66.0         6.9      E         3.05  \n",
       "677           0.17          89.0         9.0   E10+         2.34  \n",
       "952           0.09          80.0         8.8      E         1.83  \n",
       "1395          0.09          64.0         6.1      E         1.38  \n",
       "1596          0.08          69.0         8.8      E         1.25  \n",
       "1817          0.08          73.0         7.6      E         1.11  \n",
       "2219          0.04          81.0         8.7      E         0.93  \n",
       "2839          0.04          83.0         8.1      M         0.72  \n",
       "3718          0.02          69.0         7.0   E10+         0.53  \n",
       "4051          0.03          76.0         7.7      E         0.49  \n",
       "4069          0.03          81.0         7.4      T         0.48  \n",
       "4096          0.03          78.0         8.2      E         0.48  \n",
       "4618          0.01          76.0         8.2   E10+         0.42  \n",
       "5115          0.02          83.0         8.2      T         0.38  \n",
       "5224          0.01          57.0         4.8   E10+         0.36  \n",
       "5502          0.02          61.0         6.6      T         0.33  \n",
       "5564          0.02          80.0         8.5   E10+         0.32  \n",
       "5840          0.02          68.0         6.8      E         0.31  \n",
       "6037          0.03          47.0         6.3      E         0.29  \n",
       "6377          0.02          69.0         7.6      E         0.26  \n",
       "6629          0.02          67.0         7.1   E10+         0.25  \n",
       "6769          0.02          79.0         8.7      T         0.24  \n",
       "6877          0.01          77.0         7.9   E10+         0.24  \n",
       "7254          0.01          58.0         6.8      M         0.21  \n",
       "7337          0.02          69.0         7.7      T         0.22  \n",
       "7371          0.00          68.0         7.6      T         0.21  \n",
       "7457          0.02          77.0         7.1      E         0.21  \n",
       "7771          0.01          60.0         7.1   E10+         0.18  \n",
       "8453          0.00          77.0         8.2      T         0.16  \n",
       "8518          0.01          72.0         6.8   E10+         0.16  \n",
       "9143          0.01          90.0         8.2      E         0.15  \n",
       "10026         0.00          72.0         6.8      E         0.11  \n",
       "11059         0.00          58.0         6.4   E10+         0.09  \n",
       "11168         0.00          71.0         7.1      T         0.09  \n",
       "11436         0.00          65.0         5.6   E10+         0.07  \n",
       "11681         0.00          63.0         6.1      T         0.08  \n",
       "11725         0.01          81.0         8.5      M         0.08  \n",
       "12333         0.00          70.0         7.5      E         0.06  \n",
       "12629         0.00          68.0         7.8      T         0.06  \n",
       "13214         0.00          64.0         5.1      T         0.04  \n",
       "13588         0.00          82.0         8.5   E10+         0.04  \n",
       "13694         0.00          46.0         5.8      E         0.03  \n",
       "13695         0.00          45.0         5.6   E10+         0.03  \n",
       "15211         0.00          81.0         9.0      T         0.02  \n",
       "15521         0.00          26.0         2.4   E10+         0.02  \n",
       "16143         0.00          77.0         8.4   E10+         0.01  "
      ]
     },
     "execution_count": 594,
     "metadata": {},
     "output_type": "execute_result"
    }
   ],
   "source": [
    "#выделим в отдельную таблицу продажи по 3DS\n",
    "df_new_3ds = df_new.query('platform == \"3DS\" and user_score != -1 and critic_score != -1')\n",
    "df_new_3ds"
   ]
  },
  {
   "cell_type": "code",
   "execution_count": 595,
   "metadata": {},
   "outputs": [
    {
     "data": {
      "text/plain": [
       "Text(0.5, 0, 'Оценка пользователей')"
      ]
     },
     "execution_count": 595,
     "metadata": {},
     "output_type": "execute_result"
    },
    {
     "data": {
      "image/png": "[encoded data removed]",
      "text/plain": [
       "<Figure size 432x288 with 1 Axes>"
      ]
     },
     "metadata": {
      "needs_background": "light"
     },
     "output_type": "display_data"
    }
   ],
   "source": [
    "df_new_3ds.plot(y='total_sales', x='user_score', kind='scatter', alpha=0.5, title='Зависимость выручки  3DS от оценки пользователей')\n",
    "ax = plt.gca()\n",
    "ax.set_ylabel('Выручка, млн дол.')\n",
    "ax.set_xlabel('Оценка пользователей')"
   ]
  },
  {
   "cell_type": "code",
   "execution_count": 596,
   "metadata": {},
   "outputs": [
    {
     "data": {
      "text/plain": [
       "0.2798498792503281"
      ]
     },
     "execution_count": 596,
     "metadata": {},
     "output_type": "execute_result"
    }
   ],
   "source": [
    "df_new_3ds['total_sales'].corr(df_new_3ds['user_score'])#корреляция"
   ]
  },
  {
   "cell_type": "code",
   "execution_count": 597,
   "metadata": {},
   "outputs": [
    {
     "data": {
      "text/plain": [
       "Text(0.5, 0, 'Оценка критиков')"
      ]
     },
     "execution_count": 597,
     "metadata": {},
     "output_type": "execute_result"
    },
    {
     "data": {
      "image/png": "[encoded data removed]",
      "text/plain": [
       "<Figure size 432x288 with 1 Axes>"
      ]
     },
     "metadata": {
      "needs_background": "light"
     },
     "output_type": "display_data"
    }
   ],
   "source": [
    "df_new_3ds.plot(y='total_sales', x='critic_score', kind='scatter', alpha=0.5, title='Зависимость выручки  3DS. от оценки критиков')\n",
    "ax = plt.gca()\n",
    "ax.set_ylabel('Выручка, млн дол.')\n",
    "ax.set_xlabel('Оценка критиков')"
   ]
  },
  {
   "cell_type": "code",
   "execution_count": 598,
   "metadata": {},
   "outputs": [
    {
     "data": {
      "text/plain": [
       "0.28468579095782925"
      ]
     },
     "execution_count": 598,
     "metadata": {},
     "output_type": "execute_result"
    }
   ],
   "source": [
    "df_new_3ds['total_sales'].corr(df_new_3ds['critic_score'])#корреляция"
   ]
  },
  {
   "cell_type": "markdown",
   "metadata": {},
   "source": [
    "Общее распределение игр по жанрам."
   ]
  },
  {
   "cell_type": "code",
   "execution_count": 599,
   "metadata": {},
   "outputs": [],
   "source": [
    "df_new.pivot_table = df_new.groupby('genre').agg({'name':'count','total_sales':['median','sum']})"
   ]
  },
  {
   "cell_type": "code",
   "execution_count": 600,
   "metadata": {},
   "outputs": [],
   "source": [
    "df_new.pivot_table.columns = ['mean', 'median','sum']"
   ]
  },
  {
   "cell_type": "code",
   "execution_count": 601,
   "metadata": {},
   "outputs": [],
   "source": [
    "df_new.pivot_table = df_new.pivot_table.sort_values(by = 'mean', ascending = False)"
   ]
  },
  {
   "cell_type": "code",
   "execution_count": 602,
   "metadata": {},
   "outputs": [
    {
     "data": {
      "text/html": [
       "<div>\n",
       "<style scoped>\n",
       "    .dataframe tbody tr th:only-of-type {\n",
       "        vertical-align: middle;\n",
       "    }\n",
       "\n",
       "    .dataframe tbody tr th {\n",
       "        vertical-align: top;\n",
       "    }\n",
       "\n",
       "    .dataframe thead th {\n",
       "        text-align: right;\n",
       "    }\n",
       "</style>\n",
       "<table border=\"1\" class=\"dataframe\">\n",
       "  <thead>\n",
       "    <tr style=\"text-align: right;\">\n",
       "      <th></th>\n",
       "      <th>mean</th>\n",
       "      <th>median</th>\n",
       "      <th>sum</th>\n",
       "    </tr>\n",
       "    <tr>\n",
       "      <th>genre</th>\n",
       "      <th></th>\n",
       "      <th></th>\n",
       "      <th></th>\n",
       "    </tr>\n",
       "  </thead>\n",
       "  <tbody>\n",
       "    <tr>\n",
       "      <td>Action</td>\n",
       "      <td>619</td>\n",
       "      <td>0.090</td>\n",
       "      <td>199.36</td>\n",
       "    </tr>\n",
       "    <tr>\n",
       "      <td>Shooter</td>\n",
       "      <td>128</td>\n",
       "      <td>0.515</td>\n",
       "      <td>170.94</td>\n",
       "    </tr>\n",
       "    <tr>\n",
       "      <td>Sports</td>\n",
       "      <td>161</td>\n",
       "      <td>0.180</td>\n",
       "      <td>109.48</td>\n",
       "    </tr>\n",
       "    <tr>\n",
       "      <td>Role-Playing</td>\n",
       "      <td>221</td>\n",
       "      <td>0.110</td>\n",
       "      <td>101.44</td>\n",
       "    </tr>\n",
       "    <tr>\n",
       "      <td>Misc</td>\n",
       "      <td>113</td>\n",
       "      <td>0.090</td>\n",
       "      <td>37.55</td>\n",
       "    </tr>\n",
       "    <tr>\n",
       "      <td>Fighting</td>\n",
       "      <td>60</td>\n",
       "      <td>0.125</td>\n",
       "      <td>28.22</td>\n",
       "    </tr>\n",
       "    <tr>\n",
       "      <td>Racing</td>\n",
       "      <td>69</td>\n",
       "      <td>0.090</td>\n",
       "      <td>27.52</td>\n",
       "    </tr>\n",
       "    <tr>\n",
       "      <td>Platform</td>\n",
       "      <td>38</td>\n",
       "      <td>0.140</td>\n",
       "      <td>18.09</td>\n",
       "    </tr>\n",
       "    <tr>\n",
       "      <td>Adventure</td>\n",
       "      <td>185</td>\n",
       "      <td>0.030</td>\n",
       "      <td>17.55</td>\n",
       "    </tr>\n",
       "    <tr>\n",
       "      <td>Simulation</td>\n",
       "      <td>44</td>\n",
       "      <td>0.100</td>\n",
       "      <td>13.13</td>\n",
       "    </tr>\n",
       "    <tr>\n",
       "      <td>Strategy</td>\n",
       "      <td>37</td>\n",
       "      <td>0.060</td>\n",
       "      <td>3.96</td>\n",
       "    </tr>\n",
       "    <tr>\n",
       "      <td>Puzzle</td>\n",
       "      <td>14</td>\n",
       "      <td>0.045</td>\n",
       "      <td>2.21</td>\n",
       "    </tr>\n",
       "  </tbody>\n",
       "</table>\n",
       "</div>"
      ],
      "text/plain": [
       "              mean  median     sum\n",
       "genre                             \n",
       "Action         619   0.090  199.36\n",
       "Shooter        128   0.515  170.94\n",
       "Sports         161   0.180  109.48\n",
       "Role-Playing   221   0.110  101.44\n",
       "Misc           113   0.090   37.55\n",
       "Fighting        60   0.125   28.22\n",
       "Racing          69   0.090   27.52\n",
       "Platform        38   0.140   18.09\n",
       "Adventure      185   0.030   17.55\n",
       "Simulation      44   0.100   13.13\n",
       "Strategy        37   0.060    3.96\n",
       "Puzzle          14   0.045    2.21"
      ]
     },
     "execution_count": 602,
     "metadata": {},
     "output_type": "execute_result"
    }
   ],
   "source": [
    "df_new.pivot_table = df_new.pivot_table.sort_values(by = 'sum', ascending = False)\n",
    "df_new.pivot_table"
   ]
  },
  {
   "cell_type": "code",
   "execution_count": 603,
   "metadata": {},
   "outputs": [
    {
     "data": {
      "text/html": [
       "<div>\n",
       "<style scoped>\n",
       "    .dataframe tbody tr th:only-of-type {\n",
       "        vertical-align: middle;\n",
       "    }\n",
       "\n",
       "    .dataframe tbody tr th {\n",
       "        vertical-align: top;\n",
       "    }\n",
       "\n",
       "    .dataframe thead th {\n",
       "        text-align: right;\n",
       "    }\n",
       "</style>\n",
       "<table border=\"1\" class=\"dataframe\">\n",
       "  <thead>\n",
       "    <tr style=\"text-align: right;\">\n",
       "      <th></th>\n",
       "      <th>mean</th>\n",
       "      <th>median</th>\n",
       "      <th>sum</th>\n",
       "    </tr>\n",
       "    <tr>\n",
       "      <th>genre</th>\n",
       "      <th></th>\n",
       "      <th></th>\n",
       "      <th></th>\n",
       "    </tr>\n",
       "  </thead>\n",
       "  <tbody>\n",
       "    <tr>\n",
       "      <td>Shooter</td>\n",
       "      <td>128</td>\n",
       "      <td>0.515</td>\n",
       "      <td>170.94</td>\n",
       "    </tr>\n",
       "    <tr>\n",
       "      <td>Sports</td>\n",
       "      <td>161</td>\n",
       "      <td>0.180</td>\n",
       "      <td>109.48</td>\n",
       "    </tr>\n",
       "    <tr>\n",
       "      <td>Platform</td>\n",
       "      <td>38</td>\n",
       "      <td>0.140</td>\n",
       "      <td>18.09</td>\n",
       "    </tr>\n",
       "    <tr>\n",
       "      <td>Fighting</td>\n",
       "      <td>60</td>\n",
       "      <td>0.125</td>\n",
       "      <td>28.22</td>\n",
       "    </tr>\n",
       "    <tr>\n",
       "      <td>Role-Playing</td>\n",
       "      <td>221</td>\n",
       "      <td>0.110</td>\n",
       "      <td>101.44</td>\n",
       "    </tr>\n",
       "    <tr>\n",
       "      <td>Simulation</td>\n",
       "      <td>44</td>\n",
       "      <td>0.100</td>\n",
       "      <td>13.13</td>\n",
       "    </tr>\n",
       "    <tr>\n",
       "      <td>Action</td>\n",
       "      <td>619</td>\n",
       "      <td>0.090</td>\n",
       "      <td>199.36</td>\n",
       "    </tr>\n",
       "    <tr>\n",
       "      <td>Misc</td>\n",
       "      <td>113</td>\n",
       "      <td>0.090</td>\n",
       "      <td>37.55</td>\n",
       "    </tr>\n",
       "    <tr>\n",
       "      <td>Racing</td>\n",
       "      <td>69</td>\n",
       "      <td>0.090</td>\n",
       "      <td>27.52</td>\n",
       "    </tr>\n",
       "    <tr>\n",
       "      <td>Strategy</td>\n",
       "      <td>37</td>\n",
       "      <td>0.060</td>\n",
       "      <td>3.96</td>\n",
       "    </tr>\n",
       "    <tr>\n",
       "      <td>Puzzle</td>\n",
       "      <td>14</td>\n",
       "      <td>0.045</td>\n",
       "      <td>2.21</td>\n",
       "    </tr>\n",
       "    <tr>\n",
       "      <td>Adventure</td>\n",
       "      <td>185</td>\n",
       "      <td>0.030</td>\n",
       "      <td>17.55</td>\n",
       "    </tr>\n",
       "  </tbody>\n",
       "</table>\n",
       "</div>"
      ],
      "text/plain": [
       "              mean  median     sum\n",
       "genre                             \n",
       "Shooter        128   0.515  170.94\n",
       "Sports         161   0.180  109.48\n",
       "Platform        38   0.140   18.09\n",
       "Fighting        60   0.125   28.22\n",
       "Role-Playing   221   0.110  101.44\n",
       "Simulation      44   0.100   13.13\n",
       "Action         619   0.090  199.36\n",
       "Misc           113   0.090   37.55\n",
       "Racing          69   0.090   27.52\n",
       "Strategy        37   0.060    3.96\n",
       "Puzzle          14   0.045    2.21\n",
       "Adventure      185   0.030   17.55"
      ]
     },
     "execution_count": 603,
     "metadata": {},
     "output_type": "execute_result"
    }
   ],
   "source": [
    "df_new.pivot_table = df_new.pivot_table.sort_values(by = 'median', ascending = False)\n",
    "df_new.pivot_table"
   ]
  },
  {
   "cell_type": "code",
   "execution_count": 604,
   "metadata": {},
   "outputs": [
    {
     "data": {
      "image/png": "[encoded data removed]",
      "text/plain": [
       "<Figure size 432x288 with 1 Axes>"
      ]
     },
     "metadata": {
      "needs_background": "light"
     },
     "output_type": "display_data"
    }
   ],
   "source": [
    "boxplot = df_new.pivot_table.boxplot(column=['mean'])\n"
   ]
  },
  {
   "cell_type": "code",
   "execution_count": 605,
   "metadata": {},
   "outputs": [
    {
     "data": {
      "image/png": "[encoded data removed]",
      "text/plain": [
       "<Figure size 432x288 with 1 Axes>"
      ]
     },
     "metadata": {
      "needs_background": "light"
     },
     "output_type": "display_data"
    }
   ],
   "source": [
    "boxplot = df_new.pivot_table.boxplot(column=['median'])"
   ]
  },
  {
   "cell_type": "code",
   "execution_count": 606,
   "metadata": {},
   "outputs": [
    {
     "data": {
      "image/png": "[encoded data removed]",
      "text/plain": [
       "<Figure size 432x288 with 1 Axes>"
      ]
     },
     "metadata": {
      "needs_background": "light"
     },
     "output_type": "display_data"
    }
   ],
   "source": [
    "boxplot = df_new.pivot_table.boxplot(column=['sum'])"
   ]
  },
  {
   "cell_type": "markdown",
   "metadata": {},
   "source": [
    "Если судить по средним и  суммарным продажам, то лидируют игры жанра Action, за ними идут жанры Sports и Shooter в суммарных и Role-Playing и Adventure в средних продажах. Самые низкие сборы у жанров Simulation,Strategy,Puzzle.\n",
    "По медианным продажам лидером является жанр Shooter. за ним Sports и Platform. Аутсайдеры здесь женры:Strategy,Puzzle,Adventure.\n",
    " "
   ]
  },
  {
   "cell_type": "markdown",
   "metadata": {},
   "source": [
    "Вывод:\n",
    "\n",
    "Провели исследовательский анализ данных, выделили срез данных за 2009-2016 гг, нашли 10 платформ-лидеров по продажам.\n",
    "\n",
    " Прибыли у большинства платформ приходится на 2008-2011 годы. Позднее выручка становится все меньше и меньше. Назвать потенциально прибыльной  можно только платформу PS4.\n",
    "\n",
    "На примере PS4 рассмотрели корреляцию оценка критика/выручка и оценка пользователя/выручка и пришли к выводу, что отзывы критиков в большей степени влияют на продажи, чем отзывы пользователей.\n",
    "\n",
    "Больше всего выручка у платформы при оценке критиков 70 и выше.\n",
    "\n",
    "Самыми прибыльными оказались жанры Action, Sports и Shooter по суммарным и средним продажам и жанры Shooter, Sports и Platform по медианным.\n",
    "\n",
    "Самые низкие сборы у жанров Simulation,Strategy,Puzzle по суммарным и средним продажам и Strategy,Puzzle,Adventure по медианным.\n",
    "\n",
    "По всем платформам наблюдается средняя корреляция между оценками пользователей и критиков.\n",
    "\n"
   ]
  },
  {
   "cell_type": "markdown",
   "metadata": {},
   "source": [
    "## Шаг 4. Составим портрет пользователя каждого региона\n",
    "Определим для пользователя каждого региона (NA, EU, JP):\n",
    "\n",
    "самые популярные платформы (топ-5)\n",
    "\n",
    "самые популярные жанры (топ-5)\n",
    "\n",
    "влияние рейтинга ESRB на продажи в регионе"
   ]
  },
  {
   "cell_type": "markdown",
   "metadata": {},
   "source": [
    "Северная Америка"
   ]
  },
  {
   "cell_type": "code",
   "execution_count": 607,
   "metadata": {},
   "outputs": [
    {
     "data": {
      "text/html": [
       "<div>\n",
       "<style scoped>\n",
       "    .dataframe tbody tr th:only-of-type {\n",
       "        vertical-align: middle;\n",
       "    }\n",
       "\n",
       "    .dataframe tbody tr th {\n",
       "        vertical-align: top;\n",
       "    }\n",
       "\n",
       "    .dataframe thead th {\n",
       "        text-align: right;\n",
       "    }\n",
       "</style>\n",
       "<table border=\"1\" class=\"dataframe\">\n",
       "  <thead>\n",
       "    <tr style=\"text-align: right;\">\n",
       "      <th></th>\n",
       "      <th>platform</th>\n",
       "      <th>na_sales</th>\n",
       "    </tr>\n",
       "  </thead>\n",
       "  <tbody>\n",
       "    <tr>\n",
       "      <td>3</td>\n",
       "      <td>PS4</td>\n",
       "      <td>98.61</td>\n",
       "    </tr>\n",
       "    <tr>\n",
       "      <td>9</td>\n",
       "      <td>XOne</td>\n",
       "      <td>81.27</td>\n",
       "    </tr>\n",
       "    <tr>\n",
       "      <td>8</td>\n",
       "      <td>X360</td>\n",
       "      <td>28.30</td>\n",
       "    </tr>\n",
       "    <tr>\n",
       "      <td>0</td>\n",
       "      <td>3DS</td>\n",
       "      <td>22.64</td>\n",
       "    </tr>\n",
       "    <tr>\n",
       "      <td>2</td>\n",
       "      <td>PS3</td>\n",
       "      <td>22.05</td>\n",
       "    </tr>\n",
       "  </tbody>\n",
       "</table>\n",
       "</div>"
      ],
      "text/plain": [
       "  platform  na_sales\n",
       "3      PS4     98.61\n",
       "9     XOne     81.27\n",
       "8     X360     28.30\n",
       "0      3DS     22.64\n",
       "2      PS3     22.05"
      ]
     },
     "execution_count": 607,
     "metadata": {},
     "output_type": "execute_result"
    }
   ],
   "source": [
    "(df_new\n",
    " .groupby('platform')['na_sales']\n",
    " .sum()\n",
    " .reset_index()\n",
    " .sort_values(by='na_sales', ascending=False)\n",
    " .head(5)\n",
    ")"
   ]
  },
  {
   "cell_type": "code",
   "execution_count": 608,
   "metadata": {},
   "outputs": [
    {
     "data": {
      "text/html": [
       "<div>\n",
       "<style scoped>\n",
       "    .dataframe tbody tr th:only-of-type {\n",
       "        vertical-align: middle;\n",
       "    }\n",
       "\n",
       "    .dataframe tbody tr th {\n",
       "        vertical-align: top;\n",
       "    }\n",
       "\n",
       "    .dataframe thead th {\n",
       "        text-align: right;\n",
       "    }\n",
       "</style>\n",
       "<table border=\"1\" class=\"dataframe\">\n",
       "  <thead>\n",
       "    <tr style=\"text-align: right;\">\n",
       "      <th></th>\n",
       "      <th>genre</th>\n",
       "      <th>na_sales</th>\n",
       "    </tr>\n",
       "  </thead>\n",
       "  <tbody>\n",
       "    <tr>\n",
       "      <td>8</td>\n",
       "      <td>Shooter</td>\n",
       "      <td>79.02</td>\n",
       "    </tr>\n",
       "    <tr>\n",
       "      <td>0</td>\n",
       "      <td>Action</td>\n",
       "      <td>72.53</td>\n",
       "    </tr>\n",
       "    <tr>\n",
       "      <td>10</td>\n",
       "      <td>Sports</td>\n",
       "      <td>46.13</td>\n",
       "    </tr>\n",
       "    <tr>\n",
       "      <td>7</td>\n",
       "      <td>Role-Playing</td>\n",
       "      <td>33.47</td>\n",
       "    </tr>\n",
       "    <tr>\n",
       "      <td>3</td>\n",
       "      <td>Misc</td>\n",
       "      <td>15.05</td>\n",
       "    </tr>\n",
       "  </tbody>\n",
       "</table>\n",
       "</div>"
      ],
      "text/plain": [
       "           genre  na_sales\n",
       "8        Shooter     79.02\n",
       "0         Action     72.53\n",
       "10        Sports     46.13\n",
       "7   Role-Playing     33.47\n",
       "3           Misc     15.05"
      ]
     },
     "execution_count": 608,
     "metadata": {},
     "output_type": "execute_result"
    }
   ],
   "source": [
    "(df_new\n",
    " .groupby('genre')['na_sales']\n",
    " .sum()\n",
    " .reset_index()\n",
    " .sort_values(by='na_sales', ascending=False)\n",
    " .head(5)\n",
    ")"
   ]
  },
  {
   "cell_type": "code",
   "execution_count": 609,
   "metadata": {},
   "outputs": [
    {
     "data": {
      "text/html": [
       "<div>\n",
       "<style scoped>\n",
       "    .dataframe tbody tr th:only-of-type {\n",
       "        vertical-align: middle;\n",
       "    }\n",
       "\n",
       "    .dataframe tbody tr th {\n",
       "        vertical-align: top;\n",
       "    }\n",
       "\n",
       "    .dataframe thead th {\n",
       "        text-align: right;\n",
       "    }\n",
       "</style>\n",
       "<table border=\"1\" class=\"dataframe\">\n",
       "  <thead>\n",
       "    <tr style=\"text-align: right;\">\n",
       "      <th></th>\n",
       "      <th>rating</th>\n",
       "      <th>na_sales</th>\n",
       "    </tr>\n",
       "  </thead>\n",
       "  <tbody>\n",
       "    <tr>\n",
       "      <td>0</td>\n",
       "      <td>M</td>\n",
       "      <td>96.42</td>\n",
       "    </tr>\n",
       "    <tr>\n",
       "      <td>1</td>\n",
       "      <td>Unknown</td>\n",
       "      <td>64.72</td>\n",
       "    </tr>\n",
       "    <tr>\n",
       "      <td>2</td>\n",
       "      <td>E</td>\n",
       "      <td>50.74</td>\n",
       "    </tr>\n",
       "    <tr>\n",
       "      <td>3</td>\n",
       "      <td>T</td>\n",
       "      <td>38.95</td>\n",
       "    </tr>\n",
       "    <tr>\n",
       "      <td>4</td>\n",
       "      <td>E10+</td>\n",
       "      <td>33.23</td>\n",
       "    </tr>\n",
       "  </tbody>\n",
       "</table>\n",
       "</div>"
      ],
      "text/plain": [
       "    rating  na_sales\n",
       "0        M     96.42\n",
       "1  Unknown     64.72\n",
       "2        E     50.74\n",
       "3        T     38.95\n",
       "4     E10+     33.23"
      ]
     },
     "execution_count": 609,
     "metadata": {},
     "output_type": "execute_result"
    }
   ],
   "source": [
    "df_rating_na = pd.pivot_table(df_new,\n",
    "                             index='rating',\n",
    "                             values='na_sales',\n",
    "                             aggfunc='sum').sort_values(\n",
    "    by=(('na_sales')), ascending=False).reset_index()\n",
    "df_rating_na                                                   "
   ]
  },
  {
   "cell_type": "markdown",
   "metadata": {},
   "source": [
    "в Северной Америке лидируют платформы X360, PS3 и Wii.\n",
    "\n",
    "самые популярные жанры - Action, Shooter, Sports, Misc и Role-Playing\n",
    "\n",
    " по продажам лидирует рейтинг М, затем идут не определенный рейтинг Unknown и Е"
   ]
  },
  {
   "cell_type": "markdown",
   "metadata": {},
   "source": [
    "Европа"
   ]
  },
  {
   "cell_type": "code",
   "execution_count": 610,
   "metadata": {},
   "outputs": [
    {
     "data": {
      "text/html": [
       "<div>\n",
       "<style scoped>\n",
       "    .dataframe tbody tr th:only-of-type {\n",
       "        vertical-align: middle;\n",
       "    }\n",
       "\n",
       "    .dataframe tbody tr th {\n",
       "        vertical-align: top;\n",
       "    }\n",
       "\n",
       "    .dataframe thead th {\n",
       "        text-align: right;\n",
       "    }\n",
       "</style>\n",
       "<table border=\"1\" class=\"dataframe\">\n",
       "  <thead>\n",
       "    <tr style=\"text-align: right;\">\n",
       "      <th></th>\n",
       "      <th>platform</th>\n",
       "      <th>eu_sales</th>\n",
       "    </tr>\n",
       "  </thead>\n",
       "  <tbody>\n",
       "    <tr>\n",
       "      <td>3</td>\n",
       "      <td>PS4</td>\n",
       "      <td>130.04</td>\n",
       "    </tr>\n",
       "    <tr>\n",
       "      <td>9</td>\n",
       "      <td>XOne</td>\n",
       "      <td>46.25</td>\n",
       "    </tr>\n",
       "    <tr>\n",
       "      <td>2</td>\n",
       "      <td>PS3</td>\n",
       "      <td>25.54</td>\n",
       "    </tr>\n",
       "    <tr>\n",
       "      <td>1</td>\n",
       "      <td>PC</td>\n",
       "      <td>17.97</td>\n",
       "    </tr>\n",
       "    <tr>\n",
       "      <td>0</td>\n",
       "      <td>3DS</td>\n",
       "      <td>16.12</td>\n",
       "    </tr>\n",
       "  </tbody>\n",
       "</table>\n",
       "</div>"
      ],
      "text/plain": [
       "  platform  eu_sales\n",
       "3      PS4    130.04\n",
       "9     XOne     46.25\n",
       "2      PS3     25.54\n",
       "1       PC     17.97\n",
       "0      3DS     16.12"
      ]
     },
     "execution_count": 610,
     "metadata": {},
     "output_type": "execute_result"
    }
   ],
   "source": [
    "(df_new\n",
    " .groupby('platform')['eu_sales']\n",
    " .sum()\n",
    " .reset_index()\n",
    " .sort_values(by='eu_sales', ascending=False)\n",
    " .head(5)\n",
    ")"
   ]
  },
  {
   "cell_type": "code",
   "execution_count": 611,
   "metadata": {},
   "outputs": [
    {
     "data": {
      "text/html": [
       "<div>\n",
       "<style scoped>\n",
       "    .dataframe tbody tr th:only-of-type {\n",
       "        vertical-align: middle;\n",
       "    }\n",
       "\n",
       "    .dataframe tbody tr th {\n",
       "        vertical-align: top;\n",
       "    }\n",
       "\n",
       "    .dataframe thead th {\n",
       "        text-align: right;\n",
       "    }\n",
       "</style>\n",
       "<table border=\"1\" class=\"dataframe\">\n",
       "  <thead>\n",
       "    <tr style=\"text-align: right;\">\n",
       "      <th></th>\n",
       "      <th>genre</th>\n",
       "      <th>eu_sales</th>\n",
       "    </tr>\n",
       "  </thead>\n",
       "  <tbody>\n",
       "    <tr>\n",
       "      <td>0</td>\n",
       "      <td>Action</td>\n",
       "      <td>74.68</td>\n",
       "    </tr>\n",
       "    <tr>\n",
       "      <td>8</td>\n",
       "      <td>Shooter</td>\n",
       "      <td>65.52</td>\n",
       "    </tr>\n",
       "    <tr>\n",
       "      <td>10</td>\n",
       "      <td>Sports</td>\n",
       "      <td>45.73</td>\n",
       "    </tr>\n",
       "    <tr>\n",
       "      <td>7</td>\n",
       "      <td>Role-Playing</td>\n",
       "      <td>28.17</td>\n",
       "    </tr>\n",
       "    <tr>\n",
       "      <td>6</td>\n",
       "      <td>Racing</td>\n",
       "      <td>14.13</td>\n",
       "    </tr>\n",
       "  </tbody>\n",
       "</table>\n",
       "</div>"
      ],
      "text/plain": [
       "           genre  eu_sales\n",
       "0         Action     74.68\n",
       "8        Shooter     65.52\n",
       "10        Sports     45.73\n",
       "7   Role-Playing     28.17\n",
       "6         Racing     14.13"
      ]
     },
     "execution_count": 611,
     "metadata": {},
     "output_type": "execute_result"
    }
   ],
   "source": [
    "(df_new\n",
    " .groupby('genre')['eu_sales']\n",
    " .sum()\n",
    " .reset_index()\n",
    " .sort_values(by='eu_sales', ascending=False)\n",
    " .head(5)\n",
    ")"
   ]
  },
  {
   "cell_type": "code",
   "execution_count": 612,
   "metadata": {},
   "outputs": [
    {
     "data": {
      "text/html": [
       "<div>\n",
       "<style scoped>\n",
       "    .dataframe tbody tr th:only-of-type {\n",
       "        vertical-align: middle;\n",
       "    }\n",
       "\n",
       "    .dataframe tbody tr th {\n",
       "        vertical-align: top;\n",
       "    }\n",
       "\n",
       "    .dataframe thead th {\n",
       "        text-align: right;\n",
       "    }\n",
       "</style>\n",
       "<table border=\"1\" class=\"dataframe\">\n",
       "  <thead>\n",
       "    <tr style=\"text-align: right;\">\n",
       "      <th></th>\n",
       "      <th>rating</th>\n",
       "      <th>eu_sales</th>\n",
       "    </tr>\n",
       "  </thead>\n",
       "  <tbody>\n",
       "    <tr>\n",
       "      <td>0</td>\n",
       "      <td>M</td>\n",
       "      <td>93.44</td>\n",
       "    </tr>\n",
       "    <tr>\n",
       "      <td>1</td>\n",
       "      <td>Unknown</td>\n",
       "      <td>58.95</td>\n",
       "    </tr>\n",
       "    <tr>\n",
       "      <td>2</td>\n",
       "      <td>E</td>\n",
       "      <td>58.06</td>\n",
       "    </tr>\n",
       "    <tr>\n",
       "      <td>3</td>\n",
       "      <td>T</td>\n",
       "      <td>34.07</td>\n",
       "    </tr>\n",
       "    <tr>\n",
       "      <td>4</td>\n",
       "      <td>E10+</td>\n",
       "      <td>26.16</td>\n",
       "    </tr>\n",
       "  </tbody>\n",
       "</table>\n",
       "</div>"
      ],
      "text/plain": [
       "    rating  eu_sales\n",
       "0        M     93.44\n",
       "1  Unknown     58.95\n",
       "2        E     58.06\n",
       "3        T     34.07\n",
       "4     E10+     26.16"
      ]
     },
     "execution_count": 612,
     "metadata": {},
     "output_type": "execute_result"
    }
   ],
   "source": [
    "df_rating_eu = pd.pivot_table(df_new,\n",
    "                             index='rating',\n",
    "                             values='eu_sales',\n",
    "                             aggfunc='sum').sort_values(\n",
    "    by=(('eu_sales')), ascending=False).reset_index()\n",
    "df_rating_eu"
   ]
  },
  {
   "cell_type": "markdown",
   "metadata": {},
   "source": [
    "в Европе лидируют все те же приставки, но распределение немного другое, здесь в топе PS3, затем X360 и Wii\n",
    "\n",
    "самые популярные жанры все те же - Action, Shooter, Sports,Misc и Role-Playing\n",
    "\n",
    "лидируют рейтинги M, Unknown и E"
   ]
  },
  {
   "cell_type": "markdown",
   "metadata": {},
   "source": [
    "Япония"
   ]
  },
  {
   "cell_type": "code",
   "execution_count": 613,
   "metadata": {},
   "outputs": [
    {
     "data": {
      "text/html": [
       "<div>\n",
       "<style scoped>\n",
       "    .dataframe tbody tr th:only-of-type {\n",
       "        vertical-align: middle;\n",
       "    }\n",
       "\n",
       "    .dataframe tbody tr th {\n",
       "        vertical-align: top;\n",
       "    }\n",
       "\n",
       "    .dataframe thead th {\n",
       "        text-align: right;\n",
       "    }\n",
       "</style>\n",
       "<table border=\"1\" class=\"dataframe\">\n",
       "  <thead>\n",
       "    <tr style=\"text-align: right;\">\n",
       "      <th></th>\n",
       "      <th>platform</th>\n",
       "      <th>jp_sales</th>\n",
       "    </tr>\n",
       "  </thead>\n",
       "  <tbody>\n",
       "    <tr>\n",
       "      <td>0</td>\n",
       "      <td>3DS</td>\n",
       "      <td>44.24</td>\n",
       "    </tr>\n",
       "    <tr>\n",
       "      <td>3</td>\n",
       "      <td>PS4</td>\n",
       "      <td>15.02</td>\n",
       "    </tr>\n",
       "    <tr>\n",
       "      <td>5</td>\n",
       "      <td>PSV</td>\n",
       "      <td>14.54</td>\n",
       "    </tr>\n",
       "    <tr>\n",
       "      <td>2</td>\n",
       "      <td>PS3</td>\n",
       "      <td>11.22</td>\n",
       "    </tr>\n",
       "    <tr>\n",
       "      <td>7</td>\n",
       "      <td>WiiU</td>\n",
       "      <td>7.31</td>\n",
       "    </tr>\n",
       "  </tbody>\n",
       "</table>\n",
       "</div>"
      ],
      "text/plain": [
       "  platform  jp_sales\n",
       "0      3DS     44.24\n",
       "3      PS4     15.02\n",
       "5      PSV     14.54\n",
       "2      PS3     11.22\n",
       "7     WiiU      7.31"
      ]
     },
     "execution_count": 613,
     "metadata": {},
     "output_type": "execute_result"
    }
   ],
   "source": [
    "(df_new\n",
    " .groupby('platform')['jp_sales']\n",
    " .sum()\n",
    " .reset_index()\n",
    " .sort_values(by='jp_sales', ascending=False)\n",
    " .head(5)\n",
    ")"
   ]
  },
  {
   "cell_type": "code",
   "execution_count": 614,
   "metadata": {},
   "outputs": [
    {
     "data": {
      "text/html": [
       "<div>\n",
       "<style scoped>\n",
       "    .dataframe tbody tr th:only-of-type {\n",
       "        vertical-align: middle;\n",
       "    }\n",
       "\n",
       "    .dataframe tbody tr th {\n",
       "        vertical-align: top;\n",
       "    }\n",
       "\n",
       "    .dataframe thead th {\n",
       "        text-align: right;\n",
       "    }\n",
       "</style>\n",
       "<table border=\"1\" class=\"dataframe\">\n",
       "  <thead>\n",
       "    <tr style=\"text-align: right;\">\n",
       "      <th></th>\n",
       "      <th>genre</th>\n",
       "      <th>jp_sales</th>\n",
       "    </tr>\n",
       "  </thead>\n",
       "  <tbody>\n",
       "    <tr>\n",
       "      <td>7</td>\n",
       "      <td>Role-Playing</td>\n",
       "      <td>31.16</td>\n",
       "    </tr>\n",
       "    <tr>\n",
       "      <td>0</td>\n",
       "      <td>Action</td>\n",
       "      <td>29.58</td>\n",
       "    </tr>\n",
       "    <tr>\n",
       "      <td>2</td>\n",
       "      <td>Fighting</td>\n",
       "      <td>6.37</td>\n",
       "    </tr>\n",
       "    <tr>\n",
       "      <td>3</td>\n",
       "      <td>Misc</td>\n",
       "      <td>5.61</td>\n",
       "    </tr>\n",
       "    <tr>\n",
       "      <td>8</td>\n",
       "      <td>Shooter</td>\n",
       "      <td>4.87</td>\n",
       "    </tr>\n",
       "  </tbody>\n",
       "</table>\n",
       "</div>"
      ],
      "text/plain": [
       "          genre  jp_sales\n",
       "7  Role-Playing     31.16\n",
       "0        Action     29.58\n",
       "2      Fighting      6.37\n",
       "3          Misc      5.61\n",
       "8       Shooter      4.87"
      ]
     },
     "execution_count": 614,
     "metadata": {},
     "output_type": "execute_result"
    }
   ],
   "source": [
    "(df_new\n",
    " .groupby('genre')['jp_sales']\n",
    " .sum()\n",
    " .reset_index()\n",
    " .sort_values(by='jp_sales', ascending=False)\n",
    " .head(5)\n",
    ")"
   ]
  },
  {
   "cell_type": "code",
   "execution_count": 615,
   "metadata": {},
   "outputs": [
    {
     "data": {
      "text/html": [
       "<div>\n",
       "<style scoped>\n",
       "    .dataframe tbody tr th:only-of-type {\n",
       "        vertical-align: middle;\n",
       "    }\n",
       "\n",
       "    .dataframe tbody tr th {\n",
       "        vertical-align: top;\n",
       "    }\n",
       "\n",
       "    .dataframe thead th {\n",
       "        text-align: right;\n",
       "    }\n",
       "</style>\n",
       "<table border=\"1\" class=\"dataframe\">\n",
       "  <thead>\n",
       "    <tr style=\"text-align: right;\">\n",
       "      <th></th>\n",
       "      <th>rating</th>\n",
       "      <th>jp_sales</th>\n",
       "    </tr>\n",
       "  </thead>\n",
       "  <tbody>\n",
       "    <tr>\n",
       "      <td>0</td>\n",
       "      <td>Unknown</td>\n",
       "      <td>56.90</td>\n",
       "    </tr>\n",
       "    <tr>\n",
       "      <td>1</td>\n",
       "      <td>T</td>\n",
       "      <td>14.78</td>\n",
       "    </tr>\n",
       "    <tr>\n",
       "      <td>2</td>\n",
       "      <td>E</td>\n",
       "      <td>8.94</td>\n",
       "    </tr>\n",
       "    <tr>\n",
       "      <td>3</td>\n",
       "      <td>M</td>\n",
       "      <td>8.01</td>\n",
       "    </tr>\n",
       "    <tr>\n",
       "      <td>4</td>\n",
       "      <td>E10+</td>\n",
       "      <td>4.46</td>\n",
       "    </tr>\n",
       "  </tbody>\n",
       "</table>\n",
       "</div>"
      ],
      "text/plain": [
       "    rating  jp_sales\n",
       "0  Unknown     56.90\n",
       "1        T     14.78\n",
       "2        E      8.94\n",
       "3        M      8.01\n",
       "4     E10+      4.46"
      ]
     },
     "execution_count": 615,
     "metadata": {},
     "output_type": "execute_result"
    }
   ],
   "source": [
    "df_rating_jp = pd.pivot_table(df_new,\n",
    "                             index='rating',\n",
    "                             values='jp_sales',\n",
    "                             aggfunc='sum').sort_values(\n",
    "    by=(('jp_sales')), ascending=False).reset_index()\n",
    "df_rating_jp\n"
   ]
  },
  {
   "cell_type": "markdown",
   "metadata": {},
   "source": [
    "лидируют совсем другие платформы - 3DS, DS, PS3, PSP, Wii\n",
    "\n",
    "самые популярные жанры - Role-Playing, Action, Misc, Sports, Adventure. \n",
    "\n",
    "самые большие продажи у рейтингов, которые не определены. Затем T (для подростков) и Е(для всех. Похоже, в Японии выбирают более спокойные игры."
   ]
  },
  {
   "cell_type": "markdown",
   "metadata": {},
   "source": [
    "Другие страны"
   ]
  },
  {
   "cell_type": "code",
   "execution_count": 616,
   "metadata": {},
   "outputs": [
    {
     "data": {
      "text/html": [
       "<div>\n",
       "<style scoped>\n",
       "    .dataframe tbody tr th:only-of-type {\n",
       "        vertical-align: middle;\n",
       "    }\n",
       "\n",
       "    .dataframe tbody tr th {\n",
       "        vertical-align: top;\n",
       "    }\n",
       "\n",
       "    .dataframe thead th {\n",
       "        text-align: right;\n",
       "    }\n",
       "</style>\n",
       "<table border=\"1\" class=\"dataframe\">\n",
       "  <thead>\n",
       "    <tr style=\"text-align: right;\">\n",
       "      <th></th>\n",
       "      <th>platform</th>\n",
       "      <th>other_sales</th>\n",
       "    </tr>\n",
       "  </thead>\n",
       "  <tbody>\n",
       "    <tr>\n",
       "      <td>3</td>\n",
       "      <td>PS4</td>\n",
       "      <td>44.48</td>\n",
       "    </tr>\n",
       "    <tr>\n",
       "      <td>9</td>\n",
       "      <td>XOne</td>\n",
       "      <td>12.52</td>\n",
       "    </tr>\n",
       "    <tr>\n",
       "      <td>2</td>\n",
       "      <td>PS3</td>\n",
       "      <td>9.37</td>\n",
       "    </tr>\n",
       "    <tr>\n",
       "      <td>8</td>\n",
       "      <td>X360</td>\n",
       "      <td>4.35</td>\n",
       "    </tr>\n",
       "    <tr>\n",
       "      <td>0</td>\n",
       "      <td>3DS</td>\n",
       "      <td>3.68</td>\n",
       "    </tr>\n",
       "  </tbody>\n",
       "</table>\n",
       "</div>"
      ],
      "text/plain": [
       "  platform  other_sales\n",
       "3      PS4        44.48\n",
       "9     XOne        12.52\n",
       "2      PS3         9.37\n",
       "8     X360         4.35\n",
       "0      3DS         3.68"
      ]
     },
     "execution_count": 616,
     "metadata": {},
     "output_type": "execute_result"
    }
   ],
   "source": [
    "(df_new\n",
    " .groupby('platform')['other_sales']\n",
    " .sum()\n",
    " .reset_index()\n",
    " .sort_values(by='other_sales', ascending=False)\n",
    " .head(5)\n",
    ")"
   ]
  },
  {
   "cell_type": "code",
   "execution_count": 617,
   "metadata": {},
   "outputs": [
    {
     "data": {
      "text/html": [
       "<div>\n",
       "<style scoped>\n",
       "    .dataframe tbody tr th:only-of-type {\n",
       "        vertical-align: middle;\n",
       "    }\n",
       "\n",
       "    .dataframe tbody tr th {\n",
       "        vertical-align: top;\n",
       "    }\n",
       "\n",
       "    .dataframe thead th {\n",
       "        text-align: right;\n",
       "    }\n",
       "</style>\n",
       "<table border=\"1\" class=\"dataframe\">\n",
       "  <thead>\n",
       "    <tr style=\"text-align: right;\">\n",
       "      <th></th>\n",
       "      <th>genre</th>\n",
       "      <th>other_sales</th>\n",
       "    </tr>\n",
       "  </thead>\n",
       "  <tbody>\n",
       "    <tr>\n",
       "      <td>0</td>\n",
       "      <td>Action</td>\n",
       "      <td>22.57</td>\n",
       "    </tr>\n",
       "    <tr>\n",
       "      <td>8</td>\n",
       "      <td>Shooter</td>\n",
       "      <td>21.53</td>\n",
       "    </tr>\n",
       "    <tr>\n",
       "      <td>10</td>\n",
       "      <td>Sports</td>\n",
       "      <td>14.36</td>\n",
       "    </tr>\n",
       "    <tr>\n",
       "      <td>7</td>\n",
       "      <td>Role-Playing</td>\n",
       "      <td>8.64</td>\n",
       "    </tr>\n",
       "    <tr>\n",
       "      <td>3</td>\n",
       "      <td>Misc</td>\n",
       "      <td>4.03</td>\n",
       "    </tr>\n",
       "  </tbody>\n",
       "</table>\n",
       "</div>"
      ],
      "text/plain": [
       "           genre  other_sales\n",
       "0         Action        22.57\n",
       "8        Shooter        21.53\n",
       "10        Sports        14.36\n",
       "7   Role-Playing         8.64\n",
       "3           Misc         4.03"
      ]
     },
     "execution_count": 617,
     "metadata": {},
     "output_type": "execute_result"
    }
   ],
   "source": [
    "(df_new\n",
    " .groupby('genre')['other_sales']\n",
    " .sum()\n",
    " .reset_index()\n",
    " .sort_values(by='other_sales', ascending=False)\n",
    " .head(5)\n",
    ")"
   ]
  },
  {
   "cell_type": "code",
   "execution_count": 618,
   "metadata": {},
   "outputs": [
    {
     "data": {
      "text/html": [
       "<div>\n",
       "<style scoped>\n",
       "    .dataframe tbody tr th:only-of-type {\n",
       "        vertical-align: middle;\n",
       "    }\n",
       "\n",
       "    .dataframe tbody tr th {\n",
       "        vertical-align: top;\n",
       "    }\n",
       "\n",
       "    .dataframe thead th {\n",
       "        text-align: right;\n",
       "    }\n",
       "</style>\n",
       "<table border=\"1\" class=\"dataframe\">\n",
       "  <thead>\n",
       "    <tr style=\"text-align: right;\">\n",
       "      <th></th>\n",
       "      <th>rating</th>\n",
       "      <th>other_sales</th>\n",
       "    </tr>\n",
       "  </thead>\n",
       "  <tbody>\n",
       "    <tr>\n",
       "      <td>0</td>\n",
       "      <td>M</td>\n",
       "      <td>28.67</td>\n",
       "    </tr>\n",
       "    <tr>\n",
       "      <td>1</td>\n",
       "      <td>Unknown</td>\n",
       "      <td>18.40</td>\n",
       "    </tr>\n",
       "    <tr>\n",
       "      <td>2</td>\n",
       "      <td>E</td>\n",
       "      <td>15.39</td>\n",
       "    </tr>\n",
       "    <tr>\n",
       "      <td>3</td>\n",
       "      <td>T</td>\n",
       "      <td>11.33</td>\n",
       "    </tr>\n",
       "    <tr>\n",
       "      <td>4</td>\n",
       "      <td>E10+</td>\n",
       "      <td>7.83</td>\n",
       "    </tr>\n",
       "  </tbody>\n",
       "</table>\n",
       "</div>"
      ],
      "text/plain": [
       "    rating  other_sales\n",
       "0        M        28.67\n",
       "1  Unknown        18.40\n",
       "2        E        15.39\n",
       "3        T        11.33\n",
       "4     E10+         7.83"
      ]
     },
     "execution_count": 618,
     "metadata": {},
     "output_type": "execute_result"
    }
   ],
   "source": [
    " df_rating_other_sales = pd.pivot_table(df_new,\n",
    "                             index='rating',\n",
    "                             values='other_sales',\n",
    "                             aggfunc='sum').sort_values(\n",
    "    by=(('other_sales')), ascending=False).reset_index()\n",
    " df_rating_other_sales"
   ]
  },
  {
   "cell_type": "code",
   "execution_count": 619,
   "metadata": {},
   "outputs": [
    {
     "data": {
      "text/plain": [
       "Unknown    749\n",
       "T          271\n",
       "M          265\n",
       "E          219\n",
       "E10+       185\n",
       "Name: rating, dtype: int64"
      ]
     },
     "execution_count": 619,
     "metadata": {},
     "output_type": "execute_result"
    }
   ],
   "source": [
    "# Комментарий ревьюера \n",
    "df_new.rating.value_counts()"
   ]
  },
  {
   "cell_type": "markdown",
   "metadata": {},
   "source": [
    "Вывод:\n",
    "\n",
    "В Северной Америке и Европе картина примерно одинакова:\n",
    "\n",
    "лидируют платформы X360, Wii и DS, PS3 с небольшой разницей в распределении продаж.\n",
    "самые популярные жанры - Action, Sports,Shooter, Misc.\n",
    "Лидирует рейтинг М (для всех), на втором месте Е (18+) в Европе и М и Unknown  в Сев. Америке. На третьем месте Е.\n",
    "\n",
    "В Японии немного по-другому:\n",
    "лидируют совсем другие платформы - 3DS, WiiU, DS, PSP, PS3\n",
    "Самые популярные жанры - Role-Playing, Platform, Sports, Misc, Action. Самые большие продажи у рейтингов, которые не определены. Затем T (для подростков) и Е(для всех.\n",
    "\n",
    "Другие страны:\n",
    "Для остальных стран портрет потребителя примерно схож с потребителями из СА и Европы. Лидируют те же платформы, жанры и рейтинги. Значит Япония - достаточно специфический рынок, к которому нужен особый подход в плане рекламных кампаний."
   ]
  },
  {
   "cell_type": "markdown",
   "metadata": {},
   "source": [
    "## Шаг 5. Проверим гипотезы"
   ]
  },
  {
   "cell_type": "markdown",
   "metadata": {},
   "source": [
    "1. Средние пользовательские рейтинги платформ Xbox One и PC одинаковые"
   ]
  },
  {
   "cell_type": "markdown",
   "metadata": {},
   "source": [
    "Нулевая гипотеза : Средние пользовательские рейтинги платформ Xbox One и PC одинаковые.\n",
    "H₀ - средние пользовательские рейтинги платформ Xbox One и PC равны\n",
    "\n",
    "Чтобы проверить гипотезу о равенстве среднего двух генеральных совокупностей по взятым из них выборкам, применим метод scipy.stats.ttest_ind ()\n",
    "\n",
    "Альтернативная гипотеза: Средние пользовательские рейтинги платформ Xbox One и PC различаются.\n",
    "H₁ - средние пользовательские рейтинги платформ Xbox One и PC не равны\n"
   ]
  },
  {
   "cell_type": "code",
   "execution_count": 529,
   "metadata": {},
   "outputs": [],
   "source": [
    "#зададим критический уровень статистической значимости\n",
    "alpha = 0.05"
   ]
  },
  {
   "cell_type": "code",
   "execution_count": 530,
   "metadata": {},
   "outputs": [],
   "source": [
    "xone = df_new.query('platform == \"XOne\" and user_score != -1')['user_score']\n",
    "pc =df_new.query('platform == \"PC\" and user_score != -1')['user_score']\n",
    "\n"
   ]
  },
  {
   "cell_type": "code",
   "execution_count": 531,
   "metadata": {},
   "outputs": [
    {
     "name": "stdout",
     "output_type": "stream",
     "text": [
      "p-значение: 0.11601398086668827\n",
      "Не получилось отвергнуть нулевую гипотезу\n"
     ]
    }
   ],
   "source": [
    "\n",
    "results = st.ttest_ind(\n",
    "    xone, \n",
    "    pc, equal_var=False)\n",
    "print('p-значение:', results.pvalue)\n",
    "\n",
    "if (results.pvalue < alpha):\n",
    "    print(\"Отвергаем нулевую гипотезу\")\n",
    "else:\n",
    "    print(\"Не получилось отвергнуть нулевую гипотезу\")\n",
    "    \n"
   ]
  },
  {
   "cell_type": "markdown",
   "metadata": {},
   "source": [
    "Вывод:\n",
    "\n",
    "p-значение 11,6%, мы не можем отвергнуть нулевую гипотезу. Средние пользовательские рейтинги платформ Xbox One и PC одинаковые."
   ]
  },
  {
   "cell_type": "markdown",
   "metadata": {},
   "source": [
    "2. Средние пользовательские рейтинги жанров Action (англ. «действие», экшен-игры) и Sports (англ. «спортивные соревнования») разные.\n",
    "\n",
    "H₀ - средние пользовательские рейтинги жанров Action и Sports равны\n",
    "Средние пользовательские рейтинги жанров Action и Sports одинаковые.\n",
    "\n",
    "H₁ - средние пользовательские рейтинги жанров Action и Sports не равны\n",
    "Средние пользовательские рейтинги жанров Action и Sports различаются."
   ]
  },
  {
   "cell_type": "code",
   "execution_count": 532,
   "metadata": {},
   "outputs": [],
   "source": [
    "alpha = 0.05"
   ]
  },
  {
   "cell_type": "code",
   "execution_count": 533,
   "metadata": {},
   "outputs": [],
   "source": [
    "action = df.query('genre == \"Action\" and user_score != -1')['user_score']\n",
    "sports = df.query('genre == \"Sports\" and user_score != -1')['user_score']"
   ]
  },
  {
   "cell_type": "code",
   "execution_count": 534,
   "metadata": {},
   "outputs": [
    {
     "name": "stdout",
     "output_type": "stream",
     "text": [
      "p-значение: 0.11483818791498286\n",
      "Не получилось отвергнуть нулевую гипотезу\n"
     ]
    }
   ],
   "source": [
    "results = st.ttest_ind(\n",
    "    action,\n",
    "    sports, equal_var=False)\n",
    "\n",
    "\n",
    "print('p-значение:', results.pvalue)\n",
    "\n",
    "if (results.pvalue < alpha):\n",
    "    print(\"Отвергаем нулевую гипотезу\")\n",
    "else:\n",
    "    print(\"Не получилось отвергнуть нулевую гипотезу\")"
   ]
  },
  {
   "cell_type": "markdown",
   "metadata": {},
   "source": [
    "Вывод\n",
    "\n",
    "p-значение менее 5%, мы можем отвергнуть нулевую гипотезу. Средние пользовательские рейтинги жанров Action и Sports различаются."
   ]
  },
  {
   "cell_type": "markdown",
   "metadata": {},
   "source": [
    "## Общий вывод.\n",
    "В связи с тем , что данные из открытых источников достаточно много пропущенных значений. При предобработке :\n",
    "удалены строки с отсутствующим названием игры(2 строки).\n",
    "По году выпуска изменен тип данных на int.\n",
    "Пропущенные данные по оценке пользователей и критиков не заполнялись. По оценке пользователей изменен тип данных на float. Значение tbd заменено на -1, так же как и пропуски  в  оценке пользователей и критиков \n",
    " \n",
    "\n",
    "Мы видим что средний срок жизни платформы около 9.5 лет и актуальность данных 3года(с 2013по 2016)\n",
    "\n",
    "Исходя из данных мы видим лидеров по платформам: PS4, X360 и PS3. \n",
    "Мы видим слабую корреляцию между отзывами пользователей и продажами для топовой платформы, и среднюю корреляцию между отзывами критиков и объемами продаж игр. \n",
    "Самые прибыльные жанры: Action, Sports, Shooter.\n",
    "Самые низкодоходные жанры: Adventure, Strategy, Puzzle\n",
    "\n",
    "Составили портреты пользователей:\n",
    "Протрет пользователя в Северной Америке:\n",
    "\n",
    "лидируют платформы X360, PS3 и Wii.\n",
    "самые популярные жанры - Action, Shooter, Sports, Misc и Role-Playing\n",
    "по продажам лидирует рейтинг М, затем идут не определенный рейтинг Unknown и Е\n",
    "\n",
    "Протрет пользователя в Европе:\n",
    "лидируют все те же приставки, но распределение немного другое, здесь в топе PS3, затем X360 и Wii\n",
    "самые популярные жанры все те же - Action, Shooter, Sports,Misc и Role-Playing\n",
    "также лидируют рейтинги E и M\n",
    "\n",
    "Протрет пользователя в Японии:\n",
    "лидируют совсем другие платформы - 3DS, DS, PS3, PSP, Wii\n",
    "самые популярные жанры - Role-Playing, Action, Misc, Sports, Adventure.\n",
    "Самые большие продажи у рейтингов, которые не определены. Затем T (для подростков) и Е(для всех.\n",
    "\n",
    "Мы видим, что портрет американского потребителя и европейского почти одинаковый. Японцы имеют другой интерес по платформам и  больше предпочитают ролевые игры. \n",
    "\n",
    "Мы проверили гипотезы:\n",
    "\n",
    "Средние пользовательские рейтинги платформ Xbox One и PC одинаковые. У нас не получилось опровергнуть нулевую гипотезу о равнстве генеральных совокупностей с альфа= 5%, соответственно по альтернативной гипотезе средние пользовательские рейтинги могут отличатся, опровергнуть ее у нас не получилось.\n",
    "Средние пользовательские рейтинги жанров Action (англ. «действие», экшен-игры) и Sports (англ. «спортивные соревнования») разные. У нас получилось опровергнуть нулевую гипотезу о равнстве генеральных совокупностей с альфа= 5%, соответственно делать какие либо выводы по данным от разных жанров мы не можем.\n"
   ]
  }
 ],
 "metadata": {
  "ExecuteTimeLog": [
   {
    "duration": 333,
    "start_time": "2022-02-17T04:27:29.521Z"
   },
   {
    "duration": 301,
    "start_time": "2022-02-17T04:27:48.108Z"
   },
   {
    "duration": 297,
    "start_time": "2022-02-17T04:27:48.826Z"
   },
   {
    "duration": 281,
    "start_time": "2022-02-17T04:28:29.716Z"
   },
   {
    "duration": 536,
    "start_time": "2022-02-17T04:29:51.308Z"
   },
   {
    "duration": 578,
    "start_time": "2022-02-17T04:34:25.254Z"
   },
   {
    "duration": 3,
    "start_time": "2022-02-17T04:34:25.834Z"
   },
   {
    "duration": 73,
    "start_time": "2022-02-17T04:34:26.275Z"
   },
   {
    "duration": 474,
    "start_time": "2022-02-17T04:34:26.700Z"
   },
   {
    "duration": 2,
    "start_time": "2022-02-17T04:34:27.244Z"
   },
   {
    "duration": 44,
    "start_time": "2022-02-17T04:34:28.395Z"
   },
   {
    "duration": 20,
    "start_time": "2022-02-17T04:34:30.561Z"
   },
   {
    "duration": 10,
    "start_time": "2022-02-17T04:35:28.368Z"
   },
   {
    "duration": 5,
    "start_time": "2022-02-17T04:39:52.775Z"
   },
   {
    "duration": 363,
    "start_time": "2022-02-17T04:41:06.795Z"
   },
   {
    "duration": 3,
    "start_time": "2022-02-17T04:41:59.217Z"
   },
   {
    "duration": 4,
    "start_time": "2022-02-17T04:45:13.241Z"
   },
   {
    "duration": 4,
    "start_time": "2022-02-17T04:45:27.473Z"
   },
   {
    "duration": 5,
    "start_time": "2022-02-17T04:56:20.428Z"
   },
   {
    "duration": 10,
    "start_time": "2022-02-17T06:12:05.065Z"
   },
   {
    "duration": 17,
    "start_time": "2022-02-17T06:14:23.412Z"
   },
   {
    "duration": 293,
    "start_time": "2022-02-17T06:15:39.970Z"
   },
   {
    "duration": 8,
    "start_time": "2022-02-17T06:15:51.580Z"
   },
   {
    "duration": 316,
    "start_time": "2022-02-17T06:20:33.484Z"
   },
   {
    "duration": 6,
    "start_time": "2022-02-17T06:20:39.495Z"
   },
   {
    "duration": 5,
    "start_time": "2022-02-17T06:23:45.029Z"
   },
   {
    "duration": 9,
    "start_time": "2022-02-17T06:28:18.472Z"
   },
   {
    "duration": 8,
    "start_time": "2022-02-17T06:43:20.374Z"
   },
   {
    "duration": 13,
    "start_time": "2022-02-17T07:05:23.221Z"
   },
   {
    "duration": 5,
    "start_time": "2022-02-17T07:05:45.599Z"
   },
   {
    "duration": 14,
    "start_time": "2022-02-17T07:05:48.095Z"
   },
   {
    "duration": 12,
    "start_time": "2022-02-17T07:15:11.391Z"
   },
   {
    "duration": 11,
    "start_time": "2022-02-17T07:15:48.730Z"
   },
   {
    "duration": 1222,
    "start_time": "2022-02-17T07:20:49.620Z"
   },
   {
    "duration": 3,
    "start_time": "2022-02-17T07:21:00.260Z"
   },
   {
    "duration": 3,
    "start_time": "2022-02-17T07:21:00.619Z"
   },
   {
    "duration": 2,
    "start_time": "2022-02-17T07:21:00.928Z"
   },
   {
    "duration": 3,
    "start_time": "2022-02-17T07:21:01.209Z"
   },
   {
    "duration": 2,
    "start_time": "2022-02-17T07:21:01.496Z"
   },
   {
    "duration": 35,
    "start_time": "2022-02-17T07:21:01.950Z"
   },
   {
    "duration": 15,
    "start_time": "2022-02-17T07:21:03.207Z"
   },
   {
    "duration": 9,
    "start_time": "2022-02-17T07:21:09.074Z"
   },
   {
    "duration": 3,
    "start_time": "2022-02-17T07:21:13.768Z"
   },
   {
    "duration": 4,
    "start_time": "2022-02-17T07:21:15.122Z"
   },
   {
    "duration": 10,
    "start_time": "2022-02-17T07:21:16.945Z"
   },
   {
    "duration": 14,
    "start_time": "2022-02-17T07:21:19.961Z"
   },
   {
    "duration": 7,
    "start_time": "2022-02-17T07:21:23.490Z"
   },
   {
    "duration": 6,
    "start_time": "2022-02-17T07:21:29.932Z"
   },
   {
    "duration": 4,
    "start_time": "2022-02-17T07:22:02.764Z"
   },
   {
    "duration": 6,
    "start_time": "2022-02-17T07:22:03.707Z"
   },
   {
    "duration": 8,
    "start_time": "2022-02-17T07:22:07.283Z"
   },
   {
    "duration": 4,
    "start_time": "2022-02-17T07:24:20.513Z"
   },
   {
    "duration": 116,
    "start_time": "2022-02-17T07:24:21.044Z"
   },
   {
    "duration": 315,
    "start_time": "2022-02-17T07:24:39.571Z"
   },
   {
    "duration": 7,
    "start_time": "2022-02-17T07:25:53.654Z"
   },
   {
    "duration": 3,
    "start_time": "2022-02-17T07:26:29.825Z"
   },
   {
    "duration": 310,
    "start_time": "2022-02-17T07:26:31.858Z"
   },
   {
    "duration": 4,
    "start_time": "2022-02-17T07:33:42.343Z"
   },
   {
    "duration": 8,
    "start_time": "2022-02-17T07:33:44.555Z"
   },
   {
    "duration": 9,
    "start_time": "2022-02-17T07:33:49.015Z"
   },
   {
    "duration": 5,
    "start_time": "2022-02-17T08:15:33.680Z"
   },
   {
    "duration": 8,
    "start_time": "2022-02-17T08:15:35.173Z"
   },
   {
    "duration": 9,
    "start_time": "2022-02-17T08:15:44.184Z"
   },
   {
    "duration": 5,
    "start_time": "2022-02-17T08:15:55.177Z"
   },
   {
    "duration": 15,
    "start_time": "2022-02-17T08:15:56.950Z"
   },
   {
    "duration": 276,
    "start_time": "2022-02-17T08:32:28.109Z"
   },
   {
    "duration": 167,
    "start_time": "2022-02-17T08:34:21.671Z"
   },
   {
    "duration": 315,
    "start_time": "2022-02-17T08:36:17.960Z"
   },
   {
    "duration": 14,
    "start_time": "2022-02-17T08:38:46.739Z"
   },
   {
    "duration": 3,
    "start_time": "2022-02-17T08:38:59.507Z"
   },
   {
    "duration": 2,
    "start_time": "2022-02-17T08:38:59.873Z"
   },
   {
    "duration": 3,
    "start_time": "2022-02-17T08:39:00.240Z"
   },
   {
    "duration": 3,
    "start_time": "2022-02-17T08:39:00.421Z"
   },
   {
    "duration": 2,
    "start_time": "2022-02-17T08:39:00.667Z"
   },
   {
    "duration": 43,
    "start_time": "2022-02-17T08:39:00.931Z"
   },
   {
    "duration": 16,
    "start_time": "2022-02-17T08:39:01.145Z"
   },
   {
    "duration": 10,
    "start_time": "2022-02-17T08:39:03.539Z"
   },
   {
    "duration": 3,
    "start_time": "2022-02-17T08:39:04.311Z"
   },
   {
    "duration": 4,
    "start_time": "2022-02-17T08:39:05.191Z"
   },
   {
    "duration": 8,
    "start_time": "2022-02-17T08:39:06.099Z"
   },
   {
    "duration": 14,
    "start_time": "2022-02-17T08:39:06.880Z"
   },
   {
    "duration": 7,
    "start_time": "2022-02-17T08:39:08.775Z"
   },
   {
    "duration": 9,
    "start_time": "2022-02-17T08:39:10.326Z"
   },
   {
    "duration": 4,
    "start_time": "2022-02-17T08:39:11.880Z"
   },
   {
    "duration": 5,
    "start_time": "2022-02-17T08:39:12.685Z"
   },
   {
    "duration": 4,
    "start_time": "2022-02-17T08:39:13.527Z"
   },
   {
    "duration": 8,
    "start_time": "2022-02-17T08:39:14.203Z"
   },
   {
    "duration": 9,
    "start_time": "2022-02-17T08:39:15.064Z"
   },
   {
    "duration": 5,
    "start_time": "2022-02-17T08:39:17.652Z"
   },
   {
    "duration": 13,
    "start_time": "2022-02-17T08:39:18.451Z"
   },
   {
    "duration": 323,
    "start_time": "2022-02-17T08:39:22.049Z"
   },
   {
    "duration": 270,
    "start_time": "2022-02-17T08:39:55.945Z"
   },
   {
    "duration": 12,
    "start_time": "2022-02-17T08:45:00.650Z"
   },
   {
    "duration": 267,
    "start_time": "2022-02-17T08:46:08.091Z"
   },
   {
    "duration": 181,
    "start_time": "2022-02-17T08:46:52.307Z"
   },
   {
    "duration": 398,
    "start_time": "2022-02-17T08:48:38.753Z"
   },
   {
    "duration": 188,
    "start_time": "2022-02-17T08:51:30.428Z"
   },
   {
    "duration": 251,
    "start_time": "2022-02-17T08:54:15.517Z"
   },
   {
    "duration": 347,
    "start_time": "2022-02-18T05:19:31.883Z"
   },
   {
    "duration": 744,
    "start_time": "2022-02-18T05:19:41.679Z"
   },
   {
    "duration": 4,
    "start_time": "2022-02-18T05:19:42.425Z"
   },
   {
    "duration": 115,
    "start_time": "2022-02-18T05:19:42.696Z"
   },
   {
    "duration": 591,
    "start_time": "2022-02-18T05:19:43.048Z"
   },
   {
    "duration": 3,
    "start_time": "2022-02-18T05:19:43.642Z"
   },
   {
    "duration": 47,
    "start_time": "2022-02-18T05:19:43.669Z"
   },
   {
    "duration": 34,
    "start_time": "2022-02-18T05:19:44.595Z"
   },
   {
    "duration": 15,
    "start_time": "2022-02-18T05:19:47.313Z"
   },
   {
    "duration": 4,
    "start_time": "2022-02-18T05:19:48.073Z"
   },
   {
    "duration": 6,
    "start_time": "2022-02-18T05:19:48.939Z"
   },
   {
    "duration": 12,
    "start_time": "2022-02-18T05:19:49.701Z"
   },
   {
    "duration": 29,
    "start_time": "2022-02-18T05:19:50.367Z"
   },
   {
    "duration": 13,
    "start_time": "2022-02-18T05:19:51.982Z"
   },
   {
    "duration": 12,
    "start_time": "2022-02-18T05:19:53.329Z"
   },
   {
    "duration": 5,
    "start_time": "2022-02-18T05:19:54.694Z"
   },
   {
    "duration": 7,
    "start_time": "2022-02-18T05:19:55.328Z"
   },
   {
    "duration": 7,
    "start_time": "2022-02-18T05:19:55.966Z"
   },
   {
    "duration": 11,
    "start_time": "2022-02-18T05:19:56.591Z"
   },
   {
    "duration": 13,
    "start_time": "2022-02-18T05:19:57.291Z"
   },
   {
    "duration": 6,
    "start_time": "2022-02-18T05:19:59.607Z"
   },
   {
    "duration": 32,
    "start_time": "2022-02-18T05:20:00.230Z"
   },
   {
    "duration": 19,
    "start_time": "2022-02-18T05:20:02.559Z"
   },
   {
    "duration": 301,
    "start_time": "2022-02-18T05:20:05.435Z"
   },
   {
    "duration": 4,
    "start_time": "2022-02-18T05:22:25.378Z"
   },
   {
    "duration": 3,
    "start_time": "2022-02-18T05:22:25.826Z"
   },
   {
    "duration": 4,
    "start_time": "2022-02-18T05:22:26.392Z"
   },
   {
    "duration": 4,
    "start_time": "2022-02-18T05:22:26.807Z"
   },
   {
    "duration": 42,
    "start_time": "2022-02-18T05:22:27.239Z"
   },
   {
    "duration": 29,
    "start_time": "2022-02-18T05:22:27.650Z"
   },
   {
    "duration": 14,
    "start_time": "2022-02-18T05:22:29.664Z"
   },
   {
    "duration": 5,
    "start_time": "2022-02-18T05:22:30.367Z"
   },
   {
    "duration": 5,
    "start_time": "2022-02-18T05:22:31.021Z"
   },
   {
    "duration": 12,
    "start_time": "2022-02-18T05:22:31.667Z"
   },
   {
    "duration": 22,
    "start_time": "2022-02-18T05:22:32.335Z"
   },
   {
    "duration": 11,
    "start_time": "2022-02-18T05:22:33.584Z"
   },
   {
    "duration": 14,
    "start_time": "2022-02-18T05:22:34.667Z"
   },
   {
    "duration": 5,
    "start_time": "2022-02-18T05:22:35.873Z"
   },
   {
    "duration": 7,
    "start_time": "2022-02-18T05:22:36.480Z"
   },
   {
    "duration": 6,
    "start_time": "2022-02-18T05:22:37.062Z"
   },
   {
    "duration": 14,
    "start_time": "2022-02-18T05:22:37.696Z"
   },
   {
    "duration": 16,
    "start_time": "2022-02-18T05:22:38.367Z"
   },
   {
    "duration": 7,
    "start_time": "2022-02-18T05:22:43.830Z"
   },
   {
    "duration": 22,
    "start_time": "2022-02-18T05:22:44.623Z"
   },
   {
    "duration": 22,
    "start_time": "2022-02-18T05:22:47.848Z"
   },
   {
    "duration": 465,
    "start_time": "2022-02-18T05:22:50.376Z"
   },
   {
    "duration": 475,
    "start_time": "2022-02-18T05:24:10.070Z"
   },
   {
    "duration": 468,
    "start_time": "2022-02-18T05:27:26.413Z"
   },
   {
    "duration": 465,
    "start_time": "2022-02-18T05:27:42.141Z"
   },
   {
    "duration": 521,
    "start_time": "2022-02-18T05:28:13.051Z"
   },
   {
    "duration": 481,
    "start_time": "2022-02-18T05:28:30.072Z"
   },
   {
    "duration": 519,
    "start_time": "2022-02-18T05:30:22.445Z"
   },
   {
    "duration": 359,
    "start_time": "2022-02-18T05:31:20.665Z"
   },
   {
    "duration": 326,
    "start_time": "2022-02-18T05:32:34.591Z"
   },
   {
    "duration": 336,
    "start_time": "2022-02-18T05:33:47.236Z"
   },
   {
    "duration": 349,
    "start_time": "2022-02-18T05:34:48.876Z"
   },
   {
    "duration": 353,
    "start_time": "2022-02-18T05:35:25.733Z"
   },
   {
    "duration": 387,
    "start_time": "2022-02-18T05:36:41.764Z"
   },
   {
    "duration": 408,
    "start_time": "2022-02-18T05:37:20.047Z"
   },
   {
    "duration": 27,
    "start_time": "2022-02-18T05:41:14.690Z"
   },
   {
    "duration": 37,
    "start_time": "2022-02-18T05:59:23.584Z"
   },
   {
    "duration": 9,
    "start_time": "2022-02-18T06:00:51.415Z"
   },
   {
    "duration": 11,
    "start_time": "2022-02-18T06:01:09.666Z"
   },
   {
    "duration": 16,
    "start_time": "2022-02-18T06:05:35.321Z"
   },
   {
    "duration": 421,
    "start_time": "2022-02-18T06:29:01.272Z"
   },
   {
    "duration": 22,
    "start_time": "2022-02-18T06:30:32.341Z"
   },
   {
    "duration": 6,
    "start_time": "2022-02-18T06:30:56.692Z"
   },
   {
    "duration": 4,
    "start_time": "2022-02-18T06:31:26.930Z"
   },
   {
    "duration": 4,
    "start_time": "2022-02-18T06:31:27.453Z"
   },
   {
    "duration": 3,
    "start_time": "2022-02-18T06:31:27.797Z"
   },
   {
    "duration": 4,
    "start_time": "2022-02-18T06:31:28.130Z"
   },
   {
    "duration": 4,
    "start_time": "2022-02-18T06:31:28.425Z"
   },
   {
    "duration": 47,
    "start_time": "2022-02-18T06:31:28.702Z"
   },
   {
    "duration": 29,
    "start_time": "2022-02-18T06:31:29.141Z"
   },
   {
    "duration": 14,
    "start_time": "2022-02-18T06:31:35.442Z"
   },
   {
    "duration": 4,
    "start_time": "2022-02-18T06:31:37.441Z"
   },
   {
    "duration": 7,
    "start_time": "2022-02-18T06:31:38.021Z"
   },
   {
    "duration": 12,
    "start_time": "2022-02-18T06:31:40.618Z"
   },
   {
    "duration": 24,
    "start_time": "2022-02-18T06:31:42.810Z"
   },
   {
    "duration": 11,
    "start_time": "2022-02-18T06:31:45.294Z"
   },
   {
    "duration": 12,
    "start_time": "2022-02-18T06:31:46.548Z"
   },
   {
    "duration": 6,
    "start_time": "2022-02-18T06:31:50.002Z"
   },
   {
    "duration": 6,
    "start_time": "2022-02-18T06:31:50.827Z"
   },
   {
    "duration": 5,
    "start_time": "2022-02-18T06:31:51.766Z"
   },
   {
    "duration": 13,
    "start_time": "2022-02-18T06:31:52.581Z"
   },
   {
    "duration": 14,
    "start_time": "2022-02-18T06:31:53.397Z"
   },
   {
    "duration": 6,
    "start_time": "2022-02-18T06:31:55.857Z"
   },
   {
    "duration": 32,
    "start_time": "2022-02-18T06:31:56.652Z"
   },
   {
    "duration": 21,
    "start_time": "2022-02-18T06:32:01.597Z"
   },
   {
    "duration": 344,
    "start_time": "2022-02-18T06:32:06.308Z"
   },
   {
    "duration": 27,
    "start_time": "2022-02-18T06:32:11.679Z"
   },
   {
    "duration": 36,
    "start_time": "2022-02-18T06:32:13.980Z"
   },
   {
    "duration": 10,
    "start_time": "2022-02-18T06:32:22.820Z"
   },
   {
    "duration": 9,
    "start_time": "2022-02-18T06:32:27.953Z"
   },
   {
    "duration": 23,
    "start_time": "2022-02-18T06:32:31.709Z"
   },
   {
    "duration": 5,
    "start_time": "2022-02-18T06:32:36.369Z"
   },
   {
    "duration": 26,
    "start_time": "2022-02-18T06:33:53.704Z"
   },
   {
    "duration": 42,
    "start_time": "2022-02-18T06:34:53.774Z"
   },
   {
    "duration": 340,
    "start_time": "2022-02-18T06:37:47.986Z"
   },
   {
    "duration": 233,
    "start_time": "2022-02-18T06:38:09.072Z"
   },
   {
    "duration": 13,
    "start_time": "2022-02-18T06:38:59.623Z"
   },
   {
    "duration": 7069,
    "start_time": "2022-02-18T08:58:51.980Z"
   },
   {
    "duration": 15,
    "start_time": "2022-02-18T08:59:26.679Z"
   },
   {
    "duration": 557,
    "start_time": "2022-02-18T08:59:50.490Z"
   },
   {
    "duration": 107,
    "start_time": "2022-02-18T09:00:25.561Z"
   },
   {
    "duration": 246,
    "start_time": "2022-02-18T09:00:34.624Z"
   },
   {
    "duration": 232,
    "start_time": "2022-02-18T09:01:00.537Z"
   },
   {
    "duration": 95,
    "start_time": "2022-02-18T09:02:31.449Z"
   },
   {
    "duration": 16,
    "start_time": "2022-02-18T09:02:49.702Z"
   },
   {
    "duration": 226,
    "start_time": "2022-02-18T09:03:40.543Z"
   },
   {
    "duration": 21,
    "start_time": "2022-02-18T09:04:48.662Z"
   },
   {
    "duration": 322,
    "start_time": "2022-02-18T09:05:51.228Z"
   },
   {
    "duration": 15,
    "start_time": "2022-02-18T09:06:18.875Z"
   },
   {
    "duration": 223,
    "start_time": "2022-02-18T09:13:46.096Z"
   },
   {
    "duration": 244,
    "start_time": "2022-02-18T09:15:10.175Z"
   },
   {
    "duration": 755,
    "start_time": "2022-02-19T04:50:46.255Z"
   },
   {
    "duration": 4,
    "start_time": "2022-02-19T04:50:47.012Z"
   },
   {
    "duration": 119,
    "start_time": "2022-02-19T04:50:47.298Z"
   },
   {
    "duration": 613,
    "start_time": "2022-02-19T04:50:47.695Z"
   },
   {
    "duration": 4,
    "start_time": "2022-02-19T04:50:48.311Z"
   },
   {
    "duration": 50,
    "start_time": "2022-02-19T04:50:48.486Z"
   },
   {
    "duration": 35,
    "start_time": "2022-02-19T04:50:50.132Z"
   },
   {
    "duration": 16,
    "start_time": "2022-02-19T04:50:58.250Z"
   },
   {
    "duration": 5,
    "start_time": "2022-02-19T04:51:00.515Z"
   },
   {
    "duration": 5,
    "start_time": "2022-02-19T04:51:01.254Z"
   },
   {
    "duration": 14,
    "start_time": "2022-02-19T04:51:01.995Z"
   },
   {
    "duration": 26,
    "start_time": "2022-02-19T04:51:02.727Z"
   },
   {
    "duration": 12,
    "start_time": "2022-02-19T04:51:04.291Z"
   },
   {
    "duration": 13,
    "start_time": "2022-02-19T04:51:11.411Z"
   },
   {
    "duration": 5,
    "start_time": "2022-02-19T04:51:15.336Z"
   },
   {
    "duration": 6,
    "start_time": "2022-02-19T04:51:16.536Z"
   },
   {
    "duration": 6,
    "start_time": "2022-02-19T04:51:17.544Z"
   },
   {
    "duration": 13,
    "start_time": "2022-02-19T04:51:18.485Z"
   },
   {
    "duration": 16,
    "start_time": "2022-02-19T04:51:19.492Z"
   },
   {
    "duration": 8,
    "start_time": "2022-02-19T04:51:24.962Z"
   },
   {
    "duration": 24,
    "start_time": "2022-02-19T04:51:27.034Z"
   },
   {
    "duration": 22,
    "start_time": "2022-02-19T04:51:32.724Z"
   },
   {
    "duration": 383,
    "start_time": "2022-02-19T04:51:38.149Z"
   },
   {
    "duration": 28,
    "start_time": "2022-02-19T04:51:57.771Z"
   },
   {
    "duration": 35,
    "start_time": "2022-02-19T04:52:01.020Z"
   },
   {
    "duration": 9,
    "start_time": "2022-02-19T04:52:20.739Z"
   },
   {
    "duration": 11,
    "start_time": "2022-02-19T04:52:25.446Z"
   },
   {
    "duration": 23,
    "start_time": "2022-02-19T04:52:36.339Z"
   },
   {
    "duration": 6,
    "start_time": "2022-02-19T04:52:52.603Z"
   },
   {
    "duration": 25,
    "start_time": "2022-02-19T04:52:58.070Z"
   },
   {
    "duration": 42,
    "start_time": "2022-02-19T04:54:09.200Z"
   },
   {
    "duration": 232,
    "start_time": "2022-02-19T04:54:42.224Z"
   },
   {
    "duration": 236,
    "start_time": "2022-02-19T04:59:11.618Z"
   },
   {
    "duration": 914,
    "start_time": "2022-02-19T07:08:06.834Z"
   },
   {
    "duration": 302,
    "start_time": "2022-02-19T07:09:08.409Z"
   },
   {
    "duration": 5,
    "start_time": "2022-02-19T07:09:13.836Z"
   },
   {
    "duration": 287,
    "start_time": "2022-02-19T07:09:36.528Z"
   },
   {
    "duration": 241,
    "start_time": "2022-02-19T07:13:09.591Z"
   },
   {
    "duration": 363,
    "start_time": "2022-02-19T07:22:53.555Z"
   },
   {
    "duration": 336,
    "start_time": "2022-02-19T07:23:41.212Z"
   },
   {
    "duration": 90,
    "start_time": "2022-02-19T07:25:53.454Z"
   },
   {
    "duration": 1444,
    "start_time": "2022-02-19T07:26:28.843Z"
   },
   {
    "duration": 285,
    "start_time": "2022-02-19T07:40:15.819Z"
   },
   {
    "duration": 331,
    "start_time": "2022-02-19T07:40:54.445Z"
   },
   {
    "duration": 388,
    "start_time": "2022-02-19T07:45:09.066Z"
   },
   {
    "duration": 453,
    "start_time": "2022-02-19T07:47:03.235Z"
   },
   {
    "duration": 32,
    "start_time": "2022-02-19T12:35:40.725Z"
   },
   {
    "duration": 462,
    "start_time": "2022-02-19T12:39:43.768Z"
   },
   {
    "duration": 273,
    "start_time": "2022-02-19T12:40:47.844Z"
   },
   {
    "duration": 274,
    "start_time": "2022-02-19T12:41:46.505Z"
   },
   {
    "duration": 9,
    "start_time": "2022-02-19T12:42:19.939Z"
   },
   {
    "duration": 498,
    "start_time": "2022-02-19T12:43:32.655Z"
   },
   {
    "duration": 8,
    "start_time": "2022-02-19T12:44:47.519Z"
   },
   {
    "duration": 284,
    "start_time": "2022-02-19T12:56:54.324Z"
   },
   {
    "duration": 313,
    "start_time": "2022-02-19T12:57:39.211Z"
   },
   {
    "duration": 10,
    "start_time": "2022-02-19T12:58:38.807Z"
   },
   {
    "duration": 39,
    "start_time": "2022-02-19T12:58:55.140Z"
   },
   {
    "duration": 462,
    "start_time": "2022-02-19T12:59:40.994Z"
   },
   {
    "duration": 552,
    "start_time": "2022-02-19T14:20:32.309Z"
   },
   {
    "duration": 9,
    "start_time": "2022-02-19T14:20:55.151Z"
   },
   {
    "duration": 424,
    "start_time": "2022-02-19T14:21:47.155Z"
   },
   {
    "duration": 7,
    "start_time": "2022-02-19T14:22:21.297Z"
   },
   {
    "duration": 337,
    "start_time": "2022-02-19T14:24:30.107Z"
   },
   {
    "duration": 23,
    "start_time": "2022-02-19T14:24:40.219Z"
   },
   {
    "duration": 354,
    "start_time": "2022-02-19T14:34:11.187Z"
   },
   {
    "duration": 730,
    "start_time": "2022-02-19T15:13:57.149Z"
   },
   {
    "duration": 513,
    "start_time": "2022-02-19T15:14:57.389Z"
   },
   {
    "duration": 533,
    "start_time": "2022-02-19T15:15:20.581Z"
   },
   {
    "duration": 857,
    "start_time": "2022-02-19T15:15:38.298Z"
   },
   {
    "duration": 758,
    "start_time": "2022-02-19T15:16:24.221Z"
   },
   {
    "duration": 755,
    "start_time": "2022-02-19T15:16:49.518Z"
   },
   {
    "duration": 405,
    "start_time": "2022-02-19T15:17:15.033Z"
   },
   {
    "duration": 766,
    "start_time": "2022-02-19T15:17:57.988Z"
   },
   {
    "duration": 757,
    "start_time": "2022-02-19T15:18:17.007Z"
   },
   {
    "duration": 282,
    "start_time": "2022-02-19T15:27:22.104Z"
   },
   {
    "duration": 17,
    "start_time": "2022-02-19T15:27:58.898Z"
   },
   {
    "duration": 16,
    "start_time": "2022-02-19T15:28:51.753Z"
   },
   {
    "duration": 21,
    "start_time": "2022-02-19T15:29:55.499Z"
   },
   {
    "duration": 18,
    "start_time": "2022-02-19T15:34:40.693Z"
   },
   {
    "duration": 15,
    "start_time": "2022-02-19T15:35:25.787Z"
   },
   {
    "duration": 20,
    "start_time": "2022-02-19T15:36:17.467Z"
   },
   {
    "duration": 16,
    "start_time": "2022-02-19T15:40:26.182Z"
   },
   {
    "duration": 18,
    "start_time": "2022-02-19T15:41:30.303Z"
   },
   {
    "duration": 20,
    "start_time": "2022-02-19T15:42:28.202Z"
   },
   {
    "duration": 15,
    "start_time": "2022-02-19T15:46:52.054Z"
   },
   {
    "duration": 17,
    "start_time": "2022-02-19T15:47:37.187Z"
   },
   {
    "duration": 20,
    "start_time": "2022-02-19T15:48:28.451Z"
   },
   {
    "duration": 286,
    "start_time": "2022-02-19T15:57:08.240Z"
   },
   {
    "duration": 10,
    "start_time": "2022-02-19T15:57:16.182Z"
   },
   {
    "duration": 309,
    "start_time": "2022-02-19T15:57:18.340Z"
   },
   {
    "duration": 4,
    "start_time": "2022-02-19T15:57:28.052Z"
   },
   {
    "duration": 11,
    "start_time": "2022-02-19T15:57:28.778Z"
   },
   {
    "duration": 11,
    "start_time": "2022-02-19T15:57:29.692Z"
   },
   {
    "duration": 111,
    "start_time": "2022-02-19T15:58:58.940Z"
   },
   {
    "duration": 4,
    "start_time": "2022-02-19T15:59:13.897Z"
   },
   {
    "duration": 10,
    "start_time": "2022-02-19T15:59:14.857Z"
   },
   {
    "duration": 9,
    "start_time": "2022-02-19T15:59:16.086Z"
   },
   {
    "duration": 288,
    "start_time": "2022-02-19T16:22:27.755Z"
   },
   {
    "duration": 3,
    "start_time": "2022-02-19T16:22:53.766Z"
   },
   {
    "duration": 5,
    "start_time": "2022-02-19T16:22:54.287Z"
   },
   {
    "duration": 4,
    "start_time": "2022-02-19T16:22:54.767Z"
   },
   {
    "duration": 5,
    "start_time": "2022-02-19T16:22:55.256Z"
   },
   {
    "duration": 4,
    "start_time": "2022-02-19T16:22:55.767Z"
   },
   {
    "duration": 45,
    "start_time": "2022-02-19T16:22:56.321Z"
   },
   {
    "duration": 31,
    "start_time": "2022-02-19T16:22:57.107Z"
   },
   {
    "duration": 14,
    "start_time": "2022-02-19T16:22:59.931Z"
   },
   {
    "duration": 5,
    "start_time": "2022-02-19T16:23:00.733Z"
   },
   {
    "duration": 6,
    "start_time": "2022-02-19T16:23:01.477Z"
   },
   {
    "duration": 13,
    "start_time": "2022-02-19T16:23:02.466Z"
   },
   {
    "duration": 26,
    "start_time": "2022-02-19T16:23:03.592Z"
   },
   {
    "duration": 16,
    "start_time": "2022-02-19T16:23:05.651Z"
   },
   {
    "duration": 14,
    "start_time": "2022-02-19T16:23:07.238Z"
   },
   {
    "duration": 6,
    "start_time": "2022-02-19T16:23:09.504Z"
   },
   {
    "duration": 8,
    "start_time": "2022-02-19T16:23:10.252Z"
   },
   {
    "duration": 7,
    "start_time": "2022-02-19T16:23:10.839Z"
   },
   {
    "duration": 12,
    "start_time": "2022-02-19T16:23:11.619Z"
   },
   {
    "duration": 15,
    "start_time": "2022-02-19T16:23:12.709Z"
   },
   {
    "duration": 6,
    "start_time": "2022-02-19T16:23:15.004Z"
   },
   {
    "duration": 39,
    "start_time": "2022-02-19T16:23:18.919Z"
   },
   {
    "duration": 29,
    "start_time": "2022-02-19T16:23:21.454Z"
   },
   {
    "duration": 482,
    "start_time": "2022-02-19T16:23:24.175Z"
   },
   {
    "duration": 28,
    "start_time": "2022-02-19T16:23:28.826Z"
   },
   {
    "duration": 38,
    "start_time": "2022-02-19T16:23:30.104Z"
   },
   {
    "duration": 9,
    "start_time": "2022-02-19T16:23:32.299Z"
   },
   {
    "duration": 11,
    "start_time": "2022-02-19T16:23:33.496Z"
   },
   {
    "duration": 20,
    "start_time": "2022-02-19T16:23:35.726Z"
   },
   {
    "duration": 6,
    "start_time": "2022-02-19T16:23:36.987Z"
   },
   {
    "duration": 27,
    "start_time": "2022-02-19T16:23:37.825Z"
   },
   {
    "duration": 40,
    "start_time": "2022-02-19T16:23:38.955Z"
   },
   {
    "duration": 788,
    "start_time": "2022-02-19T16:23:47.838Z"
   },
   {
    "duration": 245,
    "start_time": "2022-02-19T16:23:51.966Z"
   },
   {
    "duration": 328,
    "start_time": "2022-02-19T16:23:54.581Z"
   },
   {
    "duration": 100,
    "start_time": "2022-02-19T16:23:57.499Z"
   },
   {
    "duration": 621,
    "start_time": "2022-02-19T16:24:10.673Z"
   },
   {
    "duration": 9,
    "start_time": "2022-02-19T16:24:13.034Z"
   },
   {
    "duration": 484,
    "start_time": "2022-02-19T16:24:14.428Z"
   },
   {
    "duration": 8,
    "start_time": "2022-02-19T16:24:15.984Z"
   },
   {
    "duration": 39,
    "start_time": "2022-02-19T16:24:19.283Z"
   },
   {
    "duration": 457,
    "start_time": "2022-02-19T16:24:22.073Z"
   },
   {
    "duration": 6,
    "start_time": "2022-02-19T16:24:22.907Z"
   },
   {
    "duration": 482,
    "start_time": "2022-02-19T16:24:24.698Z"
   },
   {
    "duration": 7,
    "start_time": "2022-02-19T16:24:25.797Z"
   },
   {
    "duration": 90,
    "start_time": "2022-02-19T16:24:28.395Z"
   },
   {
    "duration": 23,
    "start_time": "2022-02-19T16:24:37.211Z"
   },
   {
    "duration": 16,
    "start_time": "2022-02-19T16:24:43.960Z"
   },
   {
    "duration": 17,
    "start_time": "2022-02-19T16:24:45.122Z"
   },
   {
    "duration": 21,
    "start_time": "2022-02-19T16:24:46.145Z"
   },
   {
    "duration": 17,
    "start_time": "2022-02-19T16:24:49.892Z"
   },
   {
    "duration": 15,
    "start_time": "2022-02-19T16:24:51.038Z"
   },
   {
    "duration": 21,
    "start_time": "2022-02-19T16:24:52.053Z"
   },
   {
    "duration": 18,
    "start_time": "2022-02-19T16:24:55.007Z"
   },
   {
    "duration": 17,
    "start_time": "2022-02-19T16:24:55.813Z"
   },
   {
    "duration": 20,
    "start_time": "2022-02-19T16:24:56.734Z"
   },
   {
    "duration": 16,
    "start_time": "2022-02-19T16:24:59.300Z"
   },
   {
    "duration": 16,
    "start_time": "2022-02-19T16:25:00.093Z"
   },
   {
    "duration": 19,
    "start_time": "2022-02-19T16:25:00.951Z"
   },
   {
    "duration": 4,
    "start_time": "2022-02-19T16:25:06.183Z"
   },
   {
    "duration": 276,
    "start_time": "2022-02-19T16:25:07.752Z"
   },
   {
    "duration": 338,
    "start_time": "2022-02-20T06:54:50.195Z"
   },
   {
    "duration": 673,
    "start_time": "2022-02-20T06:55:18.234Z"
   },
   {
    "duration": 3,
    "start_time": "2022-02-20T06:55:18.991Z"
   },
   {
    "duration": 85,
    "start_time": "2022-02-20T06:55:19.470Z"
   },
   {
    "duration": 515,
    "start_time": "2022-02-20T06:55:21.692Z"
   },
   {
    "duration": 3,
    "start_time": "2022-02-20T06:55:22.209Z"
   },
   {
    "duration": 41,
    "start_time": "2022-02-20T06:55:22.607Z"
   },
   {
    "duration": 24,
    "start_time": "2022-02-20T06:55:23.160Z"
   },
   {
    "duration": 11,
    "start_time": "2022-02-20T06:55:25.577Z"
   },
   {
    "duration": 3,
    "start_time": "2022-02-20T06:55:26.327Z"
   },
   {
    "duration": 6,
    "start_time": "2022-02-20T06:55:26.967Z"
   },
   {
    "duration": 11,
    "start_time": "2022-02-20T06:55:27.684Z"
   },
   {
    "duration": 21,
    "start_time": "2022-02-20T06:55:28.566Z"
   },
   {
    "duration": 9,
    "start_time": "2022-02-20T06:55:30.062Z"
   },
   {
    "duration": 11,
    "start_time": "2022-02-20T06:55:31.384Z"
   },
   {
    "duration": 6,
    "start_time": "2022-02-20T06:55:32.706Z"
   },
   {
    "duration": 6,
    "start_time": "2022-02-20T06:55:33.422Z"
   },
   {
    "duration": 5,
    "start_time": "2022-02-20T06:55:34.124Z"
   },
   {
    "duration": 11,
    "start_time": "2022-02-20T06:55:34.819Z"
   },
   {
    "duration": 12,
    "start_time": "2022-02-20T06:55:35.728Z"
   },
   {
    "duration": 5,
    "start_time": "2022-02-20T06:55:37.946Z"
   },
   {
    "duration": 18,
    "start_time": "2022-02-20T06:55:38.684Z"
   },
   {
    "duration": 16,
    "start_time": "2022-02-20T06:55:41.150Z"
   },
   {
    "duration": 243,
    "start_time": "2022-02-20T06:55:42.784Z"
   },
   {
    "duration": 21,
    "start_time": "2022-02-20T06:55:45.963Z"
   },
   {
    "duration": 26,
    "start_time": "2022-02-20T06:55:46.892Z"
   },
   {
    "duration": 6,
    "start_time": "2022-02-20T06:55:49.448Z"
   },
   {
    "duration": 6,
    "start_time": "2022-02-20T06:55:50.203Z"
   },
   {
    "duration": 16,
    "start_time": "2022-02-20T06:55:51.697Z"
   },
   {
    "duration": 5,
    "start_time": "2022-02-20T06:55:52.507Z"
   },
   {
    "duration": 17,
    "start_time": "2022-02-20T06:55:53.260Z"
   },
   {
    "duration": 27,
    "start_time": "2022-02-20T06:55:54.031Z"
   },
   {
    "duration": 510,
    "start_time": "2022-02-20T06:55:58.358Z"
   },
   {
    "duration": 151,
    "start_time": "2022-02-20T06:56:04.227Z"
   },
   {
    "duration": 222,
    "start_time": "2022-02-20T06:56:06.457Z"
   },
   {
    "duration": 343,
    "start_time": "2022-02-20T06:56:11.533Z"
   },
   {
    "duration": 6,
    "start_time": "2022-02-20T06:56:13.120Z"
   },
   {
    "duration": 380,
    "start_time": "2022-02-20T06:56:15.174Z"
   },
   {
    "duration": 6,
    "start_time": "2022-02-20T06:56:17.176Z"
   },
   {
    "duration": 27,
    "start_time": "2022-02-20T06:56:19.277Z"
   },
   {
    "duration": 414,
    "start_time": "2022-02-20T06:56:21.442Z"
   },
   {
    "duration": 5,
    "start_time": "2022-02-20T06:56:23.804Z"
   },
   {
    "duration": 329,
    "start_time": "2022-02-20T06:56:24.639Z"
   },
   {
    "duration": 6,
    "start_time": "2022-02-20T06:56:26.166Z"
   },
   {
    "duration": 16,
    "start_time": "2022-02-20T06:56:29.171Z"
   },
   {
    "duration": 13,
    "start_time": "2022-02-20T06:56:35.428Z"
   },
   {
    "duration": 13,
    "start_time": "2022-02-20T06:56:36.493Z"
   },
   {
    "duration": 15,
    "start_time": "2022-02-20T06:56:37.352Z"
   },
   {
    "duration": 12,
    "start_time": "2022-02-20T06:56:39.768Z"
   },
   {
    "duration": 12,
    "start_time": "2022-02-20T06:56:40.572Z"
   },
   {
    "duration": 16,
    "start_time": "2022-02-20T06:56:41.321Z"
   },
   {
    "duration": 11,
    "start_time": "2022-02-20T06:56:43.517Z"
   },
   {
    "duration": 13,
    "start_time": "2022-02-20T06:56:44.191Z"
   },
   {
    "duration": 17,
    "start_time": "2022-02-20T06:56:44.886Z"
   },
   {
    "duration": 12,
    "start_time": "2022-02-20T06:56:46.907Z"
   },
   {
    "duration": 12,
    "start_time": "2022-02-20T06:56:47.635Z"
   },
   {
    "duration": 15,
    "start_time": "2022-02-20T06:56:48.377Z"
   },
   {
    "duration": 5,
    "start_time": "2022-02-20T06:56:53.027Z"
   },
   {
    "duration": 311,
    "start_time": "2022-02-20T06:56:57.108Z"
   },
   {
    "duration": 8,
    "start_time": "2022-02-20T06:57:16.584Z"
   },
   {
    "duration": 7,
    "start_time": "2022-02-20T06:57:19.388Z"
   },
   {
    "duration": 3,
    "start_time": "2022-02-20T07:02:54.473Z"
   },
   {
    "duration": 8,
    "start_time": "2022-02-20T07:02:55.063Z"
   },
   {
    "duration": 9,
    "start_time": "2022-02-20T07:02:55.716Z"
   },
   {
    "duration": 3,
    "start_time": "2022-02-20T07:04:02.047Z"
   },
   {
    "duration": 305,
    "start_time": "2022-02-20T07:04:02.699Z"
   },
   {
    "duration": 11,
    "start_time": "2022-02-20T07:06:46.168Z"
   },
   {
    "duration": 9,
    "start_time": "2022-02-20T07:07:05.152Z"
   },
   {
    "duration": 8,
    "start_time": "2022-02-20T07:07:08.361Z"
   },
   {
    "duration": 9,
    "start_time": "2022-02-20T07:11:05.082Z"
   },
   {
    "duration": 257,
    "start_time": "2022-02-20T07:11:06.280Z"
   },
   {
    "duration": 9,
    "start_time": "2022-02-20T07:11:30.453Z"
   },
   {
    "duration": 8,
    "start_time": "2022-02-20T07:11:33.038Z"
   },
   {
    "duration": 6,
    "start_time": "2022-02-20T07:17:15.401Z"
   },
   {
    "duration": 8,
    "start_time": "2022-02-20T07:20:43.881Z"
   },
   {
    "duration": 469,
    "start_time": "2022-02-20T07:20:44.875Z"
   },
   {
    "duration": 3,
    "start_time": "2022-02-20T07:21:30.950Z"
   },
   {
    "duration": 10,
    "start_time": "2022-02-20T07:21:31.553Z"
   },
   {
    "duration": 459,
    "start_time": "2022-02-20T07:21:32.980Z"
   },
   {
    "duration": 4,
    "start_time": "2022-02-20T07:22:01.984Z"
   },
   {
    "duration": 11,
    "start_time": "2022-02-20T07:22:02.601Z"
   },
   {
    "duration": 482,
    "start_time": "2022-02-20T07:22:03.837Z"
   },
   {
    "duration": 10,
    "start_time": "2022-02-20T07:22:35.468Z"
   },
   {
    "duration": 484,
    "start_time": "2022-02-20T07:22:36.178Z"
   },
   {
    "duration": 11,
    "start_time": "2022-02-20T07:23:21.754Z"
   },
   {
    "duration": 7,
    "start_time": "2022-02-20T07:23:23.191Z"
   },
   {
    "duration": 21,
    "start_time": "2022-02-20T09:54:01.958Z"
   },
   {
    "duration": 28,
    "start_time": "2022-02-20T09:54:21.277Z"
   },
   {
    "duration": 8,
    "start_time": "2022-02-20T09:54:38.624Z"
   },
   {
    "duration": 7,
    "start_time": "2022-02-20T09:54:44.976Z"
   },
   {
    "duration": 18,
    "start_time": "2022-02-20T09:55:36.755Z"
   },
   {
    "duration": 20,
    "start_time": "2022-02-20T09:56:34.045Z"
   },
   {
    "duration": 6,
    "start_time": "2022-02-20T09:56:38.602Z"
   },
   {
    "duration": 18,
    "start_time": "2022-02-20T09:56:46.324Z"
   },
   {
    "duration": 27,
    "start_time": "2022-02-20T09:56:54.259Z"
   },
   {
    "duration": 482,
    "start_time": "2022-02-20T09:59:02.215Z"
   },
   {
    "duration": 252,
    "start_time": "2022-02-20T10:06:44.559Z"
   },
   {
    "duration": 120,
    "start_time": "2022-02-20T10:07:06.749Z"
   },
   {
    "duration": 303,
    "start_time": "2022-02-20T10:07:17.079Z"
   },
   {
    "duration": 305,
    "start_time": "2022-02-20T10:08:12.689Z"
   },
   {
    "duration": 163,
    "start_time": "2022-02-20T10:08:39.327Z"
   },
   {
    "duration": 283,
    "start_time": "2022-02-20T10:09:11.081Z"
   },
   {
    "duration": 142,
    "start_time": "2022-02-20T10:09:17.735Z"
   },
   {
    "duration": 149,
    "start_time": "2022-02-20T10:13:00.452Z"
   },
   {
    "duration": 229,
    "start_time": "2022-02-20T10:13:10.696Z"
   },
   {
    "duration": 389,
    "start_time": "2022-02-20T10:14:01.208Z"
   },
   {
    "duration": 7,
    "start_time": "2022-02-20T10:14:05.175Z"
   },
   {
    "duration": 470,
    "start_time": "2022-02-20T10:14:13.785Z"
   },
   {
    "duration": 6,
    "start_time": "2022-02-20T10:14:17.184Z"
   },
   {
    "duration": 27,
    "start_time": "2022-02-20T10:14:51.723Z"
   },
   {
    "duration": 341,
    "start_time": "2022-02-20T10:14:58.217Z"
   },
   {
    "duration": 6,
    "start_time": "2022-02-20T10:15:04.827Z"
   },
   {
    "duration": 301,
    "start_time": "2022-02-20T10:15:08.239Z"
   },
   {
    "duration": 6,
    "start_time": "2022-02-20T10:15:11.788Z"
   },
   {
    "duration": 17,
    "start_time": "2022-02-20T10:15:56.799Z"
   },
   {
    "duration": 12,
    "start_time": "2022-02-20T10:16:52.257Z"
   },
   {
    "duration": 11,
    "start_time": "2022-02-20T10:16:57.809Z"
   },
   {
    "duration": 16,
    "start_time": "2022-02-20T10:17:04.315Z"
   },
   {
    "duration": 12,
    "start_time": "2022-02-20T10:17:46.791Z"
   },
   {
    "duration": 12,
    "start_time": "2022-02-20T10:17:51.441Z"
   },
   {
    "duration": 15,
    "start_time": "2022-02-20T10:17:55.856Z"
   },
   {
    "duration": 14,
    "start_time": "2022-02-20T10:19:39.233Z"
   },
   {
    "duration": 12,
    "start_time": "2022-02-20T10:19:42.721Z"
   },
   {
    "duration": 17,
    "start_time": "2022-02-20T10:19:45.408Z"
   },
   {
    "duration": 20,
    "start_time": "2022-02-20T10:20:32.522Z"
   },
   {
    "duration": 14,
    "start_time": "2022-02-20T10:20:35.728Z"
   },
   {
    "duration": 17,
    "start_time": "2022-02-20T10:20:37.137Z"
   },
   {
    "duration": 3,
    "start_time": "2022-02-20T10:22:28.256Z"
   },
   {
    "duration": 18,
    "start_time": "2022-02-20T10:22:32.850Z"
   },
   {
    "duration": 7,
    "start_time": "2022-02-20T10:22:35.215Z"
   },
   {
    "duration": 4,
    "start_time": "2022-02-20T10:23:13.874Z"
   },
   {
    "duration": 11,
    "start_time": "2022-02-20T10:23:14.692Z"
   },
   {
    "duration": 6,
    "start_time": "2022-02-20T10:23:15.837Z"
   },
   {
    "duration": 236,
    "start_time": "2022-02-20T10:23:19.013Z"
   },
   {
    "duration": 3,
    "start_time": "2022-02-20T14:40:48.222Z"
   },
   {
    "duration": 3,
    "start_time": "2022-02-20T14:40:48.869Z"
   },
   {
    "duration": 3,
    "start_time": "2022-02-20T14:40:49.525Z"
   },
   {
    "duration": 3,
    "start_time": "2022-02-20T14:40:53.527Z"
   },
   {
    "duration": 3,
    "start_time": "2022-02-20T14:40:54.013Z"
   },
   {
    "duration": 33,
    "start_time": "2022-02-20T14:40:55.034Z"
   },
   {
    "duration": 22,
    "start_time": "2022-02-20T14:40:56.834Z"
   },
   {
    "duration": 11,
    "start_time": "2022-02-20T14:41:58.201Z"
   },
   {
    "duration": 3,
    "start_time": "2022-02-20T14:42:02.160Z"
   },
   {
    "duration": 5,
    "start_time": "2022-02-20T14:42:05.264Z"
   },
   {
    "duration": 10,
    "start_time": "2022-02-20T14:42:08.488Z"
   },
   {
    "duration": 18,
    "start_time": "2022-02-20T14:42:13.502Z"
   },
   {
    "duration": 10,
    "start_time": "2022-02-20T14:42:20.050Z"
   },
   {
    "duration": 10,
    "start_time": "2022-02-20T14:42:43.634Z"
   },
   {
    "duration": 4,
    "start_time": "2022-02-20T14:43:11.055Z"
   },
   {
    "duration": 6,
    "start_time": "2022-02-20T14:43:12.775Z"
   },
   {
    "duration": 5,
    "start_time": "2022-02-20T14:43:16.528Z"
   },
   {
    "duration": 11,
    "start_time": "2022-02-20T14:43:20.942Z"
   },
   {
    "duration": 11,
    "start_time": "2022-02-20T14:43:24.343Z"
   },
   {
    "duration": 6,
    "start_time": "2022-02-20T14:43:33.782Z"
   },
   {
    "duration": 17,
    "start_time": "2022-02-20T14:43:35.643Z"
   },
   {
    "duration": 16,
    "start_time": "2022-02-20T14:44:02.317Z"
   },
   {
    "duration": 244,
    "start_time": "2022-02-20T14:44:13.463Z"
   },
   {
    "duration": 19,
    "start_time": "2022-02-20T14:45:15.375Z"
   },
   {
    "duration": 26,
    "start_time": "2022-02-20T14:45:19.153Z"
   },
   {
    "duration": 7,
    "start_time": "2022-02-20T14:53:54.335Z"
   },
   {
    "duration": 7,
    "start_time": "2022-02-20T14:53:55.762Z"
   },
   {
    "duration": 19,
    "start_time": "2022-02-20T14:54:09.996Z"
   },
   {
    "duration": 6,
    "start_time": "2022-02-20T14:54:13.715Z"
   },
   {
    "duration": 20,
    "start_time": "2022-02-20T14:54:18.411Z"
   },
   {
    "duration": 28,
    "start_time": "2022-02-20T14:54:21.622Z"
   },
   {
    "duration": 524,
    "start_time": "2022-02-20T14:54:32.939Z"
   },
   {
    "duration": 143,
    "start_time": "2022-02-20T14:54:42.924Z"
   },
   {
    "duration": 230,
    "start_time": "2022-02-20T14:55:03.355Z"
   },
   {
    "duration": 257,
    "start_time": "2022-02-20T14:56:16.904Z"
   },
   {
    "duration": 356,
    "start_time": "2022-02-20T14:56:30.374Z"
   },
   {
    "duration": 331,
    "start_time": "2022-02-20T14:57:05.526Z"
   },
   {
    "duration": 6,
    "start_time": "2022-02-20T14:57:11.525Z"
   },
   {
    "duration": 326,
    "start_time": "2022-02-20T14:57:15.623Z"
   },
   {
    "duration": 6,
    "start_time": "2022-02-20T14:57:23.076Z"
   },
   {
    "duration": 27,
    "start_time": "2022-02-20T14:57:36.389Z"
   },
   {
    "duration": 344,
    "start_time": "2022-02-20T14:57:41.285Z"
   },
   {
    "duration": 6,
    "start_time": "2022-02-20T14:57:47.896Z"
   },
   {
    "duration": 387,
    "start_time": "2022-02-20T14:57:50.981Z"
   },
   {
    "duration": 6,
    "start_time": "2022-02-20T14:57:55.925Z"
   },
   {
    "duration": 16,
    "start_time": "2022-02-20T14:58:07.708Z"
   },
   {
    "duration": 11,
    "start_time": "2022-02-20T14:58:55.292Z"
   },
   {
    "duration": 14,
    "start_time": "2022-02-20T14:59:00.613Z"
   },
   {
    "duration": 17,
    "start_time": "2022-02-20T14:59:02.730Z"
   },
   {
    "duration": 13,
    "start_time": "2022-02-20T14:59:09.812Z"
   },
   {
    "duration": 12,
    "start_time": "2022-02-20T14:59:11.582Z"
   },
   {
    "duration": 16,
    "start_time": "2022-02-20T14:59:13.741Z"
   },
   {
    "duration": 12,
    "start_time": "2022-02-20T14:59:20.988Z"
   },
   {
    "duration": 17,
    "start_time": "2022-02-20T14:59:23.402Z"
   },
   {
    "duration": 24,
    "start_time": "2022-02-20T14:59:25.688Z"
   },
   {
    "duration": 13,
    "start_time": "2022-02-20T14:59:34.563Z"
   },
   {
    "duration": 17,
    "start_time": "2022-02-20T14:59:37.404Z"
   },
   {
    "duration": 17,
    "start_time": "2022-02-20T14:59:40.207Z"
   },
   {
    "duration": 3,
    "start_time": "2022-02-20T15:00:10.364Z"
   },
   {
    "duration": 10,
    "start_time": "2022-02-20T15:00:14.323Z"
   },
   {
    "duration": 7,
    "start_time": "2022-02-20T15:00:16.784Z"
   },
   {
    "duration": 3,
    "start_time": "2022-02-20T15:00:30.137Z"
   },
   {
    "duration": 11,
    "start_time": "2022-02-20T15:00:30.923Z"
   },
   {
    "duration": 6,
    "start_time": "2022-02-20T15:00:32.331Z"
   },
   {
    "duration": 572,
    "start_time": "2022-03-02T09:30:02.056Z"
   },
   {
    "duration": 5,
    "start_time": "2022-03-02T09:30:02.632Z"
   },
   {
    "duration": 106,
    "start_time": "2022-03-02T09:30:02.639Z"
   },
   {
    "duration": 480,
    "start_time": "2022-03-02T09:30:02.747Z"
   },
   {
    "duration": 2,
    "start_time": "2022-03-02T09:30:03.229Z"
   },
   {
    "duration": 58,
    "start_time": "2022-03-02T09:30:03.233Z"
   },
   {
    "duration": 21,
    "start_time": "2022-03-02T09:30:03.293Z"
   },
   {
    "duration": 45,
    "start_time": "2022-03-02T09:30:03.316Z"
   },
   {
    "duration": 7,
    "start_time": "2022-03-02T09:30:03.363Z"
   },
   {
    "duration": 7,
    "start_time": "2022-03-02T09:30:03.371Z"
   },
   {
    "duration": 14,
    "start_time": "2022-03-02T09:30:03.379Z"
   },
   {
    "duration": 17,
    "start_time": "2022-03-02T09:30:03.394Z"
   },
   {
    "duration": 8,
    "start_time": "2022-03-02T09:30:03.412Z"
   },
   {
    "duration": 17,
    "start_time": "2022-03-02T09:30:03.421Z"
   },
   {
    "duration": 5,
    "start_time": "2022-03-02T09:30:03.440Z"
   },
   {
    "duration": 5,
    "start_time": "2022-03-02T09:30:03.447Z"
   },
   {
    "duration": 7,
    "start_time": "2022-03-02T09:30:03.453Z"
   },
   {
    "duration": 11,
    "start_time": "2022-03-02T09:30:03.462Z"
   },
   {
    "duration": 8,
    "start_time": "2022-03-02T09:30:03.474Z"
   },
   {
    "duration": 5,
    "start_time": "2022-03-02T09:30:03.484Z"
   },
   {
    "duration": 15,
    "start_time": "2022-03-02T09:30:03.490Z"
   },
   {
    "duration": 16,
    "start_time": "2022-03-02T09:30:03.534Z"
   },
   {
    "duration": 230,
    "start_time": "2022-03-02T09:30:03.555Z"
   },
   {
    "duration": 16,
    "start_time": "2022-03-02T09:30:03.788Z"
   },
   {
    "duration": 41,
    "start_time": "2022-03-02T09:30:03.806Z"
   },
   {
    "duration": 8,
    "start_time": "2022-03-02T09:30:03.850Z"
   },
   {
    "duration": 9,
    "start_time": "2022-03-02T09:30:03.860Z"
   },
   {
    "duration": 15,
    "start_time": "2022-03-02T09:30:03.871Z"
   },
   {
    "duration": 3,
    "start_time": "2022-03-02T09:30:03.888Z"
   },
   {
    "duration": 17,
    "start_time": "2022-03-02T09:30:03.892Z"
   },
   {
    "duration": 52,
    "start_time": "2022-03-02T09:30:03.910Z"
   },
   {
    "duration": 429,
    "start_time": "2022-03-02T09:30:03.964Z"
   },
   {
    "duration": 127,
    "start_time": "2022-03-02T09:30:04.395Z"
   },
   {
    "duration": 210,
    "start_time": "2022-03-02T09:30:04.524Z"
   },
   {
    "duration": 326,
    "start_time": "2022-03-02T09:30:04.736Z"
   },
   {
    "duration": 4,
    "start_time": "2022-03-02T09:30:05.064Z"
   },
   {
    "duration": 309,
    "start_time": "2022-03-02T09:30:05.069Z"
   },
   {
    "duration": 5,
    "start_time": "2022-03-02T09:30:05.380Z"
   },
   {
    "duration": 23,
    "start_time": "2022-03-02T09:30:05.386Z"
   },
   {
    "duration": 361,
    "start_time": "2022-03-02T09:30:05.410Z"
   },
   {
    "duration": 5,
    "start_time": "2022-03-02T09:30:05.773Z"
   },
   {
    "duration": 289,
    "start_time": "2022-03-02T09:30:05.780Z"
   },
   {
    "duration": 4,
    "start_time": "2022-03-02T09:30:06.071Z"
   },
   {
    "duration": 25,
    "start_time": "2022-03-02T09:30:06.077Z"
   },
   {
    "duration": 13,
    "start_time": "2022-03-02T09:30:06.104Z"
   },
   {
    "duration": 27,
    "start_time": "2022-03-02T09:30:06.119Z"
   },
   {
    "duration": 19,
    "start_time": "2022-03-02T09:30:06.148Z"
   },
   {
    "duration": 10,
    "start_time": "2022-03-02T09:30:06.169Z"
   },
   {
    "duration": 12,
    "start_time": "2022-03-02T09:30:06.180Z"
   },
   {
    "duration": 12,
    "start_time": "2022-03-02T09:30:06.194Z"
   },
   {
    "duration": 46,
    "start_time": "2022-03-02T09:30:06.208Z"
   },
   {
    "duration": 11,
    "start_time": "2022-03-02T09:30:06.256Z"
   },
   {
    "duration": 12,
    "start_time": "2022-03-02T09:30:06.269Z"
   },
   {
    "duration": 10,
    "start_time": "2022-03-02T09:30:06.283Z"
   },
   {
    "duration": 10,
    "start_time": "2022-03-02T09:30:06.294Z"
   },
   {
    "duration": 37,
    "start_time": "2022-03-02T09:30:06.305Z"
   },
   {
    "duration": 2,
    "start_time": "2022-03-02T09:30:06.344Z"
   },
   {
    "duration": 14,
    "start_time": "2022-03-02T09:30:06.348Z"
   },
   {
    "duration": 10,
    "start_time": "2022-03-02T09:30:06.364Z"
   },
   {
    "duration": 11,
    "start_time": "2022-03-02T09:30:06.376Z"
   },
   {
    "duration": 15,
    "start_time": "2022-03-02T09:30:06.388Z"
   },
   {
    "duration": 6,
    "start_time": "2022-03-02T09:30:06.405Z"
   },
   {
    "duration": 12,
    "start_time": "2022-03-02T16:45:51.359Z"
   },
   {
    "duration": 9,
    "start_time": "2022-03-02T16:48:30.850Z"
   },
   {
    "duration": 73,
    "start_time": "2022-03-02T16:59:30.301Z"
   },
   {
    "duration": 315,
    "start_time": "2022-03-03T04:19:29.046Z"
   },
   {
    "duration": 532,
    "start_time": "2022-03-03T04:19:45.752Z"
   },
   {
    "duration": 3,
    "start_time": "2022-03-03T04:19:46.375Z"
   },
   {
    "duration": 71,
    "start_time": "2022-03-03T04:19:46.721Z"
   },
   {
    "duration": 417,
    "start_time": "2022-03-03T04:19:47.017Z"
   },
   {
    "duration": 2,
    "start_time": "2022-03-03T04:19:47.435Z"
   },
   {
    "duration": 45,
    "start_time": "2022-03-03T04:19:48.677Z"
   },
   {
    "duration": 18,
    "start_time": "2022-03-03T04:19:49.474Z"
   },
   {
    "duration": 10,
    "start_time": "2022-03-03T04:19:53.551Z"
   },
   {
    "duration": 3,
    "start_time": "2022-03-03T04:19:54.184Z"
   },
   {
    "duration": 4,
    "start_time": "2022-03-03T04:19:55.550Z"
   },
   {
    "duration": 8,
    "start_time": "2022-03-03T04:19:56.309Z"
   },
   {
    "duration": 15,
    "start_time": "2022-03-03T04:19:57.025Z"
   },
   {
    "duration": 8,
    "start_time": "2022-03-03T04:19:58.488Z"
   },
   {
    "duration": 8,
    "start_time": "2022-03-03T04:20:03.091Z"
   },
   {
    "duration": 4,
    "start_time": "2022-03-03T04:20:04.132Z"
   },
   {
    "duration": 4,
    "start_time": "2022-03-03T04:20:04.797Z"
   },
   {
    "duration": 5,
    "start_time": "2022-03-03T04:20:06.299Z"
   },
   {
    "duration": 8,
    "start_time": "2022-03-03T04:20:08.853Z"
   },
   {
    "duration": 9,
    "start_time": "2022-03-03T04:20:09.710Z"
   },
   {
    "duration": 4,
    "start_time": "2022-03-03T04:20:17.945Z"
   },
   {
    "duration": 14,
    "start_time": "2022-03-03T04:20:19.739Z"
   },
   {
    "duration": 12,
    "start_time": "2022-03-03T04:20:22.447Z"
   },
   {
    "duration": 203,
    "start_time": "2022-03-03T04:20:24.588Z"
   },
   {
    "duration": 252,
    "start_time": "2022-03-03T04:21:28.789Z"
   },
   {
    "duration": 327,
    "start_time": "2022-03-03T04:27:28.842Z"
   },
   {
    "duration": 13,
    "start_time": "2022-03-03T04:27:36.815Z"
   },
   {
    "duration": 11,
    "start_time": "2022-03-03T04:27:39.448Z"
   },
   {
    "duration": 304,
    "start_time": "2022-03-03T04:27:41.262Z"
   },
   {
    "duration": 295,
    "start_time": "2022-03-03T04:32:14.564Z"
   },
   {
    "duration": 290,
    "start_time": "2022-03-03T04:32:27.132Z"
   },
   {
    "duration": 298,
    "start_time": "2022-03-03T04:33:36.476Z"
   },
   {
    "duration": 9,
    "start_time": "2022-03-03T04:35:23.889Z"
   },
   {
    "duration": 5,
    "start_time": "2022-03-03T04:35:27.218Z"
   },
   {
    "duration": 14,
    "start_time": "2022-03-03T04:35:29.094Z"
   },
   {
    "duration": 12,
    "start_time": "2022-03-03T04:35:32.203Z"
   },
   {
    "duration": 257,
    "start_time": "2022-03-03T04:35:36.098Z"
   },
   {
    "duration": 190,
    "start_time": "2022-03-03T04:39:19.135Z"
   },
   {
    "duration": 322,
    "start_time": "2022-03-03T04:39:56.455Z"
   },
   {
    "duration": 13,
    "start_time": "2022-03-03T04:40:07.654Z"
   },
   {
    "duration": 2334,
    "start_time": "2022-03-03T04:40:09.456Z"
   },
   {
    "duration": 1567,
    "start_time": "2022-03-03T04:40:51.486Z"
   },
   {
    "duration": 9,
    "start_time": "2022-03-03T04:41:11.350Z"
   },
   {
    "duration": 4,
    "start_time": "2022-03-03T04:41:14.500Z"
   },
   {
    "duration": 13,
    "start_time": "2022-03-03T04:41:16.048Z"
   },
   {
    "duration": 12,
    "start_time": "2022-03-03T04:41:18.333Z"
   },
   {
    "duration": 276,
    "start_time": "2022-03-03T04:41:20.928Z"
   },
   {
    "duration": 4,
    "start_time": "2022-03-03T04:41:40.607Z"
   },
   {
    "duration": 8,
    "start_time": "2022-03-03T04:41:41.272Z"
   },
   {
    "duration": 9,
    "start_time": "2022-03-03T04:41:41.816Z"
   },
   {
    "duration": 4,
    "start_time": "2022-03-03T04:41:44.128Z"
   },
   {
    "duration": 14,
    "start_time": "2022-03-03T04:41:45.085Z"
   },
   {
    "duration": 13,
    "start_time": "2022-03-03T04:41:46.814Z"
   },
   {
    "duration": 289,
    "start_time": "2022-03-03T04:41:48.181Z"
   },
   {
    "duration": 3,
    "start_time": "2022-03-03T04:42:01.231Z"
   },
   {
    "duration": 2,
    "start_time": "2022-03-03T04:42:01.803Z"
   },
   {
    "duration": 2,
    "start_time": "2022-03-03T04:42:02.101Z"
   },
   {
    "duration": 2,
    "start_time": "2022-03-03T04:42:02.349Z"
   },
   {
    "duration": 3,
    "start_time": "2022-03-03T04:42:02.646Z"
   },
   {
    "duration": 45,
    "start_time": "2022-03-03T04:42:03.193Z"
   },
   {
    "duration": 16,
    "start_time": "2022-03-03T04:42:03.534Z"
   },
   {
    "duration": 9,
    "start_time": "2022-03-03T04:42:05.012Z"
   },
   {
    "duration": 3,
    "start_time": "2022-03-03T04:42:05.243Z"
   },
   {
    "duration": 4,
    "start_time": "2022-03-03T04:42:05.668Z"
   },
   {
    "duration": 8,
    "start_time": "2022-03-03T04:42:05.916Z"
   },
   {
    "duration": 13,
    "start_time": "2022-03-03T04:42:06.393Z"
   },
   {
    "duration": 8,
    "start_time": "2022-03-03T04:42:06.890Z"
   },
   {
    "duration": 8,
    "start_time": "2022-03-03T04:42:07.983Z"
   },
   {
    "duration": 3,
    "start_time": "2022-03-03T04:42:09.590Z"
   },
   {
    "duration": 4,
    "start_time": "2022-03-03T04:42:09.885Z"
   },
   {
    "duration": 4,
    "start_time": "2022-03-03T04:42:10.531Z"
   },
   {
    "duration": 9,
    "start_time": "2022-03-03T04:42:10.876Z"
   },
   {
    "duration": 9,
    "start_time": "2022-03-03T04:42:11.764Z"
   },
   {
    "duration": 4,
    "start_time": "2022-03-03T04:42:13.128Z"
   },
   {
    "duration": 14,
    "start_time": "2022-03-03T04:42:13.796Z"
   },
   {
    "duration": 12,
    "start_time": "2022-03-03T04:42:15.900Z"
   },
   {
    "duration": 347,
    "start_time": "2022-03-03T04:42:17.861Z"
   },
   {
    "duration": 176,
    "start_time": "2022-03-03T04:43:30.172Z"
   },
   {
    "duration": 169,
    "start_time": "2022-03-03T04:43:42.637Z"
   },
   {
    "duration": 175,
    "start_time": "2022-03-03T04:44:01.467Z"
   },
   {
    "duration": 240,
    "start_time": "2022-03-03T04:45:03.784Z"
   },
   {
    "duration": 175,
    "start_time": "2022-03-03T04:45:17.905Z"
   },
   {
    "duration": 239,
    "start_time": "2022-03-03T04:45:41.471Z"
   },
   {
    "duration": 258,
    "start_time": "2022-03-03T04:46:23.204Z"
   },
   {
    "duration": 3,
    "start_time": "2022-03-03T04:55:01.556Z"
   },
   {
    "duration": 2,
    "start_time": "2022-03-03T04:55:01.947Z"
   },
   {
    "duration": 2,
    "start_time": "2022-03-03T04:55:02.297Z"
   },
   {
    "duration": 2,
    "start_time": "2022-03-03T04:55:02.682Z"
   },
   {
    "duration": 3,
    "start_time": "2022-03-03T04:55:03.125Z"
   },
   {
    "duration": 46,
    "start_time": "2022-03-03T04:55:11.324Z"
   },
   {
    "duration": 17,
    "start_time": "2022-03-03T04:55:12.284Z"
   },
   {
    "duration": 9,
    "start_time": "2022-03-03T04:55:14.988Z"
   },
   {
    "duration": 3,
    "start_time": "2022-03-03T04:55:17.593Z"
   },
   {
    "duration": 4,
    "start_time": "2022-03-03T04:55:17.838Z"
   },
   {
    "duration": 8,
    "start_time": "2022-03-03T04:55:21.798Z"
   },
   {
    "duration": 17,
    "start_time": "2022-03-03T04:55:22.670Z"
   },
   {
    "duration": 8,
    "start_time": "2022-03-03T04:55:25.834Z"
   },
   {
    "duration": 8,
    "start_time": "2022-03-03T04:55:28.883Z"
   },
   {
    "duration": 4,
    "start_time": "2022-03-03T04:55:33.057Z"
   },
   {
    "duration": 5,
    "start_time": "2022-03-03T04:55:33.063Z"
   },
   {
    "duration": 4,
    "start_time": "2022-03-03T04:55:34.182Z"
   },
   {
    "duration": 8,
    "start_time": "2022-03-03T04:55:34.980Z"
   },
   {
    "duration": 9,
    "start_time": "2022-03-03T04:55:36.267Z"
   },
   {
    "duration": 5,
    "start_time": "2022-03-03T04:55:40.074Z"
   },
   {
    "duration": 13,
    "start_time": "2022-03-03T04:55:41.771Z"
   },
   {
    "duration": 12,
    "start_time": "2022-03-03T04:55:45.739Z"
   },
   {
    "duration": 249,
    "start_time": "2022-03-03T04:55:50.444Z"
   },
   {
    "duration": 16,
    "start_time": "2022-03-03T04:56:15.875Z"
   },
   {
    "duration": 21,
    "start_time": "2022-03-03T04:56:24.030Z"
   },
   {
    "duration": 6,
    "start_time": "2022-03-03T04:56:40.406Z"
   },
   {
    "duration": 6,
    "start_time": "2022-03-03T04:56:43.558Z"
   },
   {
    "duration": 13,
    "start_time": "2022-03-03T04:56:51.018Z"
   },
   {
    "duration": 4,
    "start_time": "2022-03-03T04:56:52.245Z"
   },
   {
    "duration": 15,
    "start_time": "2022-03-03T04:56:56.489Z"
   },
   {
    "duration": 23,
    "start_time": "2022-03-03T04:57:14.060Z"
   },
   {
    "duration": 14,
    "start_time": "2022-03-03T05:05:22.766Z"
   },
   {
    "duration": 16,
    "start_time": "2022-03-03T05:05:39.370Z"
   },
   {
    "duration": 6,
    "start_time": "2022-03-03T05:05:57.825Z"
   },
   {
    "duration": 6,
    "start_time": "2022-03-03T05:06:05.815Z"
   },
   {
    "duration": 237,
    "start_time": "2022-03-03T05:14:12.881Z"
   },
   {
    "duration": 236,
    "start_time": "2022-03-03T05:38:51.911Z"
   },
   {
    "duration": 14,
    "start_time": "2022-03-03T05:39:43.553Z"
   },
   {
    "duration": 20,
    "start_time": "2022-03-03T05:40:00.622Z"
   },
   {
    "duration": 6,
    "start_time": "2022-03-03T05:40:34.613Z"
   },
   {
    "duration": 6,
    "start_time": "2022-03-03T05:40:40.207Z"
   },
   {
    "duration": 16,
    "start_time": "2022-03-03T05:41:23.090Z"
   },
   {
    "duration": 20,
    "start_time": "2022-03-03T05:41:33.402Z"
   },
   {
    "duration": 6,
    "start_time": "2022-03-03T05:41:38.878Z"
   },
   {
    "duration": 5,
    "start_time": "2022-03-03T05:41:42.257Z"
   },
   {
    "duration": 12,
    "start_time": "2022-03-03T05:42:19.862Z"
   },
   {
    "duration": 4,
    "start_time": "2022-03-03T05:42:30.855Z"
   },
   {
    "duration": 15,
    "start_time": "2022-03-03T05:42:35.528Z"
   },
   {
    "duration": 19,
    "start_time": "2022-03-03T05:42:40.820Z"
   },
   {
    "duration": 13,
    "start_time": "2022-03-03T05:43:35.517Z"
   },
   {
    "duration": 4,
    "start_time": "2022-03-03T05:43:56.763Z"
   },
   {
    "duration": 14,
    "start_time": "2022-03-03T05:44:06.159Z"
   },
   {
    "duration": 14,
    "start_time": "2022-03-03T05:44:39.049Z"
   },
   {
    "duration": 19,
    "start_time": "2022-03-03T05:44:43.576Z"
   },
   {
    "duration": 145,
    "start_time": "2022-03-03T06:11:12.142Z"
   },
   {
    "duration": 145,
    "start_time": "2022-03-03T06:11:49.825Z"
   },
   {
    "duration": 107,
    "start_time": "2022-03-03T06:12:07.916Z"
   },
   {
    "duration": 181,
    "start_time": "2022-03-03T06:12:18.474Z"
   },
   {
    "duration": 187,
    "start_time": "2022-03-03T06:12:54.321Z"
   },
   {
    "duration": 182,
    "start_time": "2022-03-03T06:13:21.303Z"
   },
   {
    "duration": 489,
    "start_time": "2022-03-03T06:19:15.237Z"
   },
   {
    "duration": 1165,
    "start_time": "2022-03-03T06:20:10.911Z"
   },
   {
    "duration": 511,
    "start_time": "2022-03-03T06:20:46.145Z"
   },
   {
    "duration": 537,
    "start_time": "2022-03-03T06:25:52.337Z"
   },
   {
    "duration": 578,
    "start_time": "2022-03-03T06:29:21.141Z"
   },
   {
    "duration": 110,
    "start_time": "2022-03-03T06:29:38.627Z"
   },
   {
    "duration": 146,
    "start_time": "2022-03-03T06:29:53.944Z"
   },
   {
    "duration": 495,
    "start_time": "2022-03-03T06:31:11.482Z"
   },
   {
    "duration": 105,
    "start_time": "2022-03-03T06:33:35.228Z"
   },
   {
    "duration": 157,
    "start_time": "2022-03-03T06:34:05.154Z"
   },
   {
    "duration": 98,
    "start_time": "2022-03-03T06:37:48.224Z"
   },
   {
    "duration": 137,
    "start_time": "2022-03-03T06:38:45.195Z"
   },
   {
    "duration": 101,
    "start_time": "2022-03-03T06:39:06.445Z"
   },
   {
    "duration": 91,
    "start_time": "2022-03-03T06:39:18.205Z"
   },
   {
    "duration": 100,
    "start_time": "2022-03-03T06:39:25.779Z"
   },
   {
    "duration": 101,
    "start_time": "2022-03-03T06:39:33.997Z"
   },
   {
    "duration": 295,
    "start_time": "2022-03-03T06:43:34.139Z"
   },
   {
    "duration": 297,
    "start_time": "2022-03-03T06:44:22.473Z"
   },
   {
    "duration": 376,
    "start_time": "2022-03-03T06:45:01.864Z"
   },
   {
    "duration": 281,
    "start_time": "2022-03-03T06:46:53.739Z"
   },
   {
    "duration": 668,
    "start_time": "2022-03-03T06:49:38.240Z"
   },
   {
    "duration": 510,
    "start_time": "2022-03-03T06:50:05.446Z"
   },
   {
    "duration": 574,
    "start_time": "2022-03-03T06:50:45.128Z"
   },
   {
    "duration": 354,
    "start_time": "2022-03-03T06:51:10.109Z"
   },
   {
    "duration": 357,
    "start_time": "2022-03-03T06:51:28.539Z"
   },
   {
    "duration": 353,
    "start_time": "2022-03-03T06:51:45.016Z"
   },
   {
    "duration": 364,
    "start_time": "2022-03-03T06:51:55.430Z"
   },
   {
    "duration": 358,
    "start_time": "2022-03-03T06:52:10.807Z"
   },
   {
    "duration": 362,
    "start_time": "2022-03-03T06:52:20.041Z"
   },
   {
    "duration": 357,
    "start_time": "2022-03-03T06:52:42.792Z"
   },
   {
    "duration": 351,
    "start_time": "2022-03-03T07:04:45.375Z"
   },
   {
    "duration": 385,
    "start_time": "2022-03-03T07:04:59.201Z"
   },
   {
    "duration": 373,
    "start_time": "2022-03-03T07:05:22.205Z"
   },
   {
    "duration": 471,
    "start_time": "2022-03-03T07:05:33.484Z"
   },
   {
    "duration": 375,
    "start_time": "2022-03-03T07:05:48.198Z"
   },
   {
    "duration": 378,
    "start_time": "2022-03-03T07:06:05.726Z"
   },
   {
    "duration": 367,
    "start_time": "2022-03-03T07:06:17.431Z"
   },
   {
    "duration": 359,
    "start_time": "2022-03-03T07:06:31.310Z"
   },
   {
    "duration": 363,
    "start_time": "2022-03-03T07:06:44.582Z"
   },
   {
    "duration": 383,
    "start_time": "2022-03-03T07:07:00.902Z"
   },
   {
    "duration": 248,
    "start_time": "2022-03-03T07:07:16.079Z"
   },
   {
    "duration": 292,
    "start_time": "2022-03-03T07:07:36.215Z"
   },
   {
    "duration": 237,
    "start_time": "2022-03-03T07:07:53.313Z"
   },
   {
    "duration": 531,
    "start_time": "2022-03-03T07:08:10.097Z"
   },
   {
    "duration": 635,
    "start_time": "2022-03-03T07:08:22.860Z"
   },
   {
    "duration": 514,
    "start_time": "2022-03-03T07:08:45.834Z"
   },
   {
    "duration": 519,
    "start_time": "2022-03-03T07:08:56.520Z"
   },
   {
    "duration": 524,
    "start_time": "2022-03-03T07:13:32.338Z"
   },
   {
    "duration": 510,
    "start_time": "2022-03-03T07:13:47.833Z"
   },
   {
    "duration": 494,
    "start_time": "2022-03-03T07:13:54.843Z"
   },
   {
    "duration": 515,
    "start_time": "2022-03-03T07:14:07.352Z"
   },
   {
    "duration": 513,
    "start_time": "2022-03-03T07:14:18.009Z"
   },
   {
    "duration": 523,
    "start_time": "2022-03-03T07:14:38.218Z"
   },
   {
    "duration": 523,
    "start_time": "2022-03-03T07:14:59.890Z"
   },
   {
    "duration": 619,
    "start_time": "2022-03-03T07:15:08.491Z"
   },
   {
    "duration": 739,
    "start_time": "2022-03-03T07:15:19.282Z"
   },
   {
    "duration": 574,
    "start_time": "2022-03-03T07:15:29.411Z"
   },
   {
    "duration": 520,
    "start_time": "2022-03-03T07:15:43.538Z"
   },
   {
    "duration": 524,
    "start_time": "2022-03-03T07:15:54.502Z"
   },
   {
    "duration": 537,
    "start_time": "2022-03-03T07:16:07.218Z"
   },
   {
    "duration": 528,
    "start_time": "2022-03-03T07:16:25.791Z"
   },
   {
    "duration": 110,
    "start_time": "2022-03-03T07:16:42.238Z"
   },
   {
    "duration": 531,
    "start_time": "2022-03-03T07:17:04.470Z"
   },
   {
    "duration": 531,
    "start_time": "2022-03-03T07:17:17.498Z"
   },
   {
    "duration": 520,
    "start_time": "2022-03-03T07:17:33.541Z"
   },
   {
    "duration": 521,
    "start_time": "2022-03-03T07:17:44.860Z"
   },
   {
    "duration": 248,
    "start_time": "2022-03-03T07:18:03.108Z"
   },
   {
    "duration": 478,
    "start_time": "2022-03-03T07:18:17.617Z"
   },
   {
    "duration": 404,
    "start_time": "2022-03-03T07:18:33.079Z"
   },
   {
    "duration": 381,
    "start_time": "2022-03-03T07:18:48.614Z"
   },
   {
    "duration": 371,
    "start_time": "2022-03-03T07:18:55.739Z"
   },
   {
    "duration": 383,
    "start_time": "2022-03-03T07:20:56.705Z"
   },
   {
    "duration": 354,
    "start_time": "2022-03-03T07:21:23.808Z"
   },
   {
    "duration": 367,
    "start_time": "2022-03-03T07:21:39.179Z"
   },
   {
    "duration": 363,
    "start_time": "2022-03-03T07:22:03.884Z"
   },
   {
    "duration": 375,
    "start_time": "2022-03-03T07:22:23.590Z"
   },
   {
    "duration": 365,
    "start_time": "2022-03-03T07:22:47.805Z"
   },
   {
    "duration": 410,
    "start_time": "2022-03-03T07:23:03.791Z"
   },
   {
    "duration": 474,
    "start_time": "2022-03-03T07:23:14.495Z"
   },
   {
    "duration": 373,
    "start_time": "2022-03-03T07:23:26.557Z"
   },
   {
    "duration": 370,
    "start_time": "2022-03-03T07:23:46.816Z"
   },
   {
    "duration": 362,
    "start_time": "2022-03-03T07:46:41.339Z"
   },
   {
    "duration": 433,
    "start_time": "2022-03-03T07:46:57.804Z"
   },
   {
    "duration": 357,
    "start_time": "2022-03-03T07:47:14.570Z"
   },
   {
    "duration": 366,
    "start_time": "2022-03-03T07:47:42.702Z"
   },
   {
    "duration": 372,
    "start_time": "2022-03-03T07:47:55.582Z"
   },
   {
    "duration": 361,
    "start_time": "2022-03-03T07:48:06.752Z"
   },
   {
    "duration": 370,
    "start_time": "2022-03-03T07:48:28.714Z"
   },
   {
    "duration": 177,
    "start_time": "2022-03-03T07:49:51.015Z"
   },
   {
    "duration": 282,
    "start_time": "2022-03-03T08:01:38.453Z"
   },
   {
    "duration": 20,
    "start_time": "2022-03-03T08:01:55.758Z"
   },
   {
    "duration": 397,
    "start_time": "2022-03-03T08:02:03.204Z"
   },
   {
    "duration": 7,
    "start_time": "2022-03-03T08:03:10.638Z"
   },
   {
    "duration": 290,
    "start_time": "2022-03-03T08:04:37.216Z"
   },
   {
    "duration": 21,
    "start_time": "2022-03-03T08:05:01.411Z"
   },
   {
    "duration": 319,
    "start_time": "2022-03-03T08:05:02.801Z"
   },
   {
    "duration": 5,
    "start_time": "2022-03-03T08:05:04.476Z"
   },
   {
    "duration": 295,
    "start_time": "2022-03-03T08:05:07.184Z"
   },
   {
    "duration": 319,
    "start_time": "2022-03-03T08:05:24.372Z"
   },
   {
    "duration": 5,
    "start_time": "2022-03-03T08:06:37.785Z"
   },
   {
    "duration": 20,
    "start_time": "2022-03-03T08:11:51.882Z"
   },
   {
    "duration": 295,
    "start_time": "2022-03-03T08:11:58.616Z"
   },
   {
    "duration": 5,
    "start_time": "2022-03-03T08:12:02.516Z"
   },
   {
    "duration": 266,
    "start_time": "2022-03-03T08:12:05.856Z"
   },
   {
    "duration": 5,
    "start_time": "2022-03-03T08:12:12.221Z"
   },
   {
    "duration": 11,
    "start_time": "2022-03-03T08:48:26.536Z"
   },
   {
    "duration": 279,
    "start_time": "2022-03-03T08:48:46.013Z"
   },
   {
    "duration": 10,
    "start_time": "2022-03-03T08:49:05.945Z"
   },
   {
    "duration": 292,
    "start_time": "2022-03-03T08:49:07.851Z"
   },
   {
    "duration": 305,
    "start_time": "2022-03-03T08:49:17.615Z"
   },
   {
    "duration": 2,
    "start_time": "2022-03-03T08:49:39.031Z"
   },
   {
    "duration": 3,
    "start_time": "2022-03-03T08:49:39.639Z"
   },
   {
    "duration": 2,
    "start_time": "2022-03-03T08:49:40.137Z"
   },
   {
    "duration": 3,
    "start_time": "2022-03-03T08:49:40.638Z"
   },
   {
    "duration": 3,
    "start_time": "2022-03-03T08:49:41.037Z"
   },
   {
    "duration": 43,
    "start_time": "2022-03-03T08:49:42.463Z"
   },
   {
    "duration": 17,
    "start_time": "2022-03-03T08:49:44.079Z"
   },
   {
    "duration": 9,
    "start_time": "2022-03-03T08:49:47.449Z"
   },
   {
    "duration": 3,
    "start_time": "2022-03-03T08:49:48.586Z"
   },
   {
    "duration": 4,
    "start_time": "2022-03-03T08:49:50.701Z"
   },
   {
    "duration": 10,
    "start_time": "2022-03-03T08:49:51.623Z"
   },
   {
    "duration": 14,
    "start_time": "2022-03-03T08:49:52.732Z"
   },
   {
    "duration": 8,
    "start_time": "2022-03-03T08:49:55.201Z"
   },
   {
    "duration": 9,
    "start_time": "2022-03-03T08:49:58.799Z"
   },
   {
    "duration": 4,
    "start_time": "2022-03-03T08:50:01.680Z"
   },
   {
    "duration": 5,
    "start_time": "2022-03-03T08:50:02.936Z"
   },
   {
    "duration": 5,
    "start_time": "2022-03-03T08:50:04.918Z"
   },
   {
    "duration": 11,
    "start_time": "2022-03-03T08:50:06.111Z"
   },
   {
    "duration": 9,
    "start_time": "2022-03-03T08:50:07.191Z"
   },
   {
    "duration": 4,
    "start_time": "2022-03-03T08:50:10.413Z"
   },
   {
    "duration": 14,
    "start_time": "2022-03-03T08:50:12.362Z"
   },
   {
    "duration": 12,
    "start_time": "2022-03-03T08:50:15.559Z"
   },
   {
    "duration": 241,
    "start_time": "2022-03-03T08:50:18.053Z"
   },
   {
    "duration": 16,
    "start_time": "2022-03-03T08:50:32.247Z"
   },
   {
    "duration": 20,
    "start_time": "2022-03-03T08:50:33.504Z"
   },
   {
    "duration": 20,
    "start_time": "2022-03-03T08:50:51.906Z"
   },
   {
    "duration": 6,
    "start_time": "2022-03-03T08:51:00.958Z"
   },
   {
    "duration": 5,
    "start_time": "2022-03-03T08:51:02.216Z"
   },
   {
    "duration": 13,
    "start_time": "2022-03-03T08:51:05.254Z"
   },
   {
    "duration": 4,
    "start_time": "2022-03-03T08:51:06.808Z"
   },
   {
    "duration": 15,
    "start_time": "2022-03-03T08:51:10.163Z"
   },
   {
    "duration": 18,
    "start_time": "2022-03-03T08:51:11.239Z"
   },
   {
    "duration": 370,
    "start_time": "2022-03-03T08:51:18.647Z"
   },
   {
    "duration": 188,
    "start_time": "2022-03-03T08:51:19.996Z"
   },
   {
    "duration": 125,
    "start_time": "2022-03-03T08:51:27.478Z"
   },
   {
    "duration": 177,
    "start_time": "2022-03-03T08:51:29.981Z"
   },
   {
    "duration": 307,
    "start_time": "2022-03-03T08:51:40.703Z"
   },
   {
    "duration": 5,
    "start_time": "2022-03-03T08:51:42.743Z"
   },
   {
    "duration": 299,
    "start_time": "2022-03-03T08:51:44.368Z"
   },
   {
    "duration": 5,
    "start_time": "2022-03-03T08:51:45.829Z"
   },
   {
    "duration": 20,
    "start_time": "2022-03-03T08:51:54.261Z"
   },
   {
    "duration": 322,
    "start_time": "2022-03-03T08:51:59.079Z"
   },
   {
    "duration": 6,
    "start_time": "2022-03-03T08:52:00.727Z"
   },
   {
    "duration": 274,
    "start_time": "2022-03-03T08:52:02.545Z"
   },
   {
    "duration": 4,
    "start_time": "2022-03-03T08:52:03.962Z"
   },
   {
    "duration": 20,
    "start_time": "2022-03-03T08:52:05.321Z"
   },
   {
    "duration": 420,
    "start_time": "2022-03-03T08:52:07.095Z"
   },
   {
    "duration": 5,
    "start_time": "2022-03-03T08:52:12.840Z"
   },
   {
    "duration": 275,
    "start_time": "2022-03-03T08:52:15.833Z"
   },
   {
    "duration": 5,
    "start_time": "2022-03-03T08:52:19.834Z"
   },
   {
    "duration": 22,
    "start_time": "2022-03-03T08:52:24.452Z"
   },
   {
    "duration": 252,
    "start_time": "2022-03-03T08:52:30.633Z"
   },
   {
    "duration": 5,
    "start_time": "2022-03-03T08:52:35.415Z"
   },
   {
    "duration": 227,
    "start_time": "2022-03-03T08:52:39.543Z"
   },
   {
    "duration": 5,
    "start_time": "2022-03-03T08:52:43.535Z"
   },
   {
    "duration": 11,
    "start_time": "2022-03-03T08:52:46.192Z"
   },
   {
    "duration": 21,
    "start_time": "2022-03-03T08:53:20.363Z"
   },
   {
    "duration": 268,
    "start_time": "2022-03-03T08:53:25.219Z"
   },
   {
    "duration": 5,
    "start_time": "2022-03-03T08:53:31.570Z"
   },
   {
    "duration": 273,
    "start_time": "2022-03-03T08:53:36.048Z"
   },
   {
    "duration": 319,
    "start_time": "2022-03-03T08:53:40.489Z"
   },
   {
    "duration": 4,
    "start_time": "2022-03-03T08:53:53.249Z"
   },
   {
    "duration": 10,
    "start_time": "2022-03-03T08:58:32.075Z"
   },
   {
    "duration": 302,
    "start_time": "2022-03-03T08:58:44.172Z"
   },
   {
    "duration": 313,
    "start_time": "2022-03-03T08:58:59.070Z"
   },
   {
    "duration": 5,
    "start_time": "2022-03-03T08:59:03.916Z"
   },
   {
    "duration": 24,
    "start_time": "2022-03-03T08:59:07.680Z"
   },
   {
    "duration": 277,
    "start_time": "2022-03-03T08:59:09.762Z"
   },
   {
    "duration": 5,
    "start_time": "2022-03-03T08:59:11.787Z"
   },
   {
    "duration": 270,
    "start_time": "2022-03-03T08:59:18.723Z"
   },
   {
    "duration": 4,
    "start_time": "2022-03-03T08:59:20.620Z"
   },
   {
    "duration": 22,
    "start_time": "2022-03-03T08:59:21.980Z"
   },
   {
    "duration": 272,
    "start_time": "2022-03-03T08:59:23.917Z"
   },
   {
    "duration": 5,
    "start_time": "2022-03-03T08:59:25.819Z"
   },
   {
    "duration": 254,
    "start_time": "2022-03-03T08:59:27.338Z"
   },
   {
    "duration": 5,
    "start_time": "2022-03-03T08:59:29.386Z"
   },
   {
    "duration": 10,
    "start_time": "2022-03-03T08:59:32.342Z"
   },
   {
    "duration": 2,
    "start_time": "2022-03-03T09:00:31.258Z"
   },
   {
    "duration": 2,
    "start_time": "2022-03-03T09:00:31.802Z"
   },
   {
    "duration": 3,
    "start_time": "2022-03-03T09:00:32.329Z"
   },
   {
    "duration": 2,
    "start_time": "2022-03-03T09:00:32.890Z"
   },
   {
    "duration": 3,
    "start_time": "2022-03-03T09:00:33.249Z"
   },
   {
    "duration": 43,
    "start_time": "2022-03-03T09:00:34.406Z"
   },
   {
    "duration": 17,
    "start_time": "2022-03-03T09:00:35.227Z"
   },
   {
    "duration": 9,
    "start_time": "2022-03-03T09:00:39.195Z"
   },
   {
    "duration": 3,
    "start_time": "2022-03-03T09:00:40.177Z"
   },
   {
    "duration": 4,
    "start_time": "2022-03-03T09:00:42.195Z"
   },
   {
    "duration": 8,
    "start_time": "2022-03-03T09:00:43.169Z"
   },
   {
    "duration": 14,
    "start_time": "2022-03-03T09:00:44.026Z"
   },
   {
    "duration": 7,
    "start_time": "2022-03-03T09:00:46.019Z"
   },
   {
    "duration": 8,
    "start_time": "2022-03-03T09:00:52.128Z"
   },
   {
    "duration": 4,
    "start_time": "2022-03-03T09:00:59.003Z"
   },
   {
    "duration": 5,
    "start_time": "2022-03-03T09:00:59.718Z"
   },
   {
    "duration": 4,
    "start_time": "2022-03-03T09:01:01.361Z"
   },
   {
    "duration": 8,
    "start_time": "2022-03-03T09:01:02.322Z"
   },
   {
    "duration": 9,
    "start_time": "2022-03-03T09:01:03.393Z"
   },
   {
    "duration": 5,
    "start_time": "2022-03-03T09:01:06.649Z"
   },
   {
    "duration": 14,
    "start_time": "2022-03-03T09:01:08.306Z"
   },
   {
    "duration": 12,
    "start_time": "2022-03-03T09:01:11.776Z"
   },
   {
    "duration": 234,
    "start_time": "2022-03-03T09:01:13.826Z"
   },
   {
    "duration": 18,
    "start_time": "2022-03-03T09:01:22.610Z"
   },
   {
    "duration": 21,
    "start_time": "2022-03-03T09:01:23.792Z"
   },
   {
    "duration": 7,
    "start_time": "2022-03-03T09:01:26.290Z"
   },
   {
    "duration": 6,
    "start_time": "2022-03-03T09:01:27.225Z"
   },
   {
    "duration": 14,
    "start_time": "2022-03-03T09:01:29.072Z"
   },
   {
    "duration": 5,
    "start_time": "2022-03-03T09:01:30.548Z"
   },
   {
    "duration": 16,
    "start_time": "2022-03-03T09:01:32.538Z"
   },
   {
    "duration": 21,
    "start_time": "2022-03-03T09:01:34.370Z"
   },
   {
    "duration": 377,
    "start_time": "2022-03-03T09:01:41.369Z"
   },
   {
    "duration": 183,
    "start_time": "2022-03-03T09:01:42.955Z"
   },
   {
    "duration": 123,
    "start_time": "2022-03-03T09:01:49.913Z"
   },
   {
    "duration": 166,
    "start_time": "2022-03-03T09:01:53.849Z"
   },
   {
    "duration": 270,
    "start_time": "2022-03-03T09:01:59.841Z"
   },
   {
    "duration": 5,
    "start_time": "2022-03-03T09:02:01.314Z"
   },
   {
    "duration": 378,
    "start_time": "2022-03-03T09:02:02.950Z"
   },
   {
    "duration": 5,
    "start_time": "2022-03-03T09:02:04.642Z"
   },
   {
    "duration": 20,
    "start_time": "2022-03-03T09:02:11.332Z"
   },
   {
    "duration": 299,
    "start_time": "2022-03-03T09:02:14.970Z"
   },
   {
    "duration": 5,
    "start_time": "2022-03-03T09:02:16.419Z"
   },
   {
    "duration": 267,
    "start_time": "2022-03-03T09:02:21.322Z"
   },
   {
    "duration": 6,
    "start_time": "2022-03-03T09:02:25.395Z"
   },
   {
    "duration": 22,
    "start_time": "2022-03-03T09:02:29.974Z"
   },
   {
    "duration": 300,
    "start_time": "2022-03-03T09:02:31.807Z"
   },
   {
    "duration": 5,
    "start_time": "2022-03-03T09:02:35.778Z"
   },
   {
    "duration": 268,
    "start_time": "2022-03-03T09:02:39.557Z"
   },
   {
    "duration": 6,
    "start_time": "2022-03-03T09:02:42.723Z"
   },
   {
    "duration": 22,
    "start_time": "2022-03-03T09:02:45.307Z"
   },
   {
    "duration": 255,
    "start_time": "2022-03-03T09:02:47.229Z"
   },
   {
    "duration": 5,
    "start_time": "2022-03-03T09:02:51.795Z"
   },
   {
    "duration": 252,
    "start_time": "2022-03-03T09:03:00.627Z"
   },
   {
    "duration": 5,
    "start_time": "2022-03-03T09:03:05.178Z"
   },
   {
    "duration": 21,
    "start_time": "2022-03-03T09:03:07.436Z"
   },
   {
    "duration": 235,
    "start_time": "2022-03-03T09:03:08.946Z"
   },
   {
    "duration": 5,
    "start_time": "2022-03-03T09:03:13.178Z"
   },
   {
    "duration": 273,
    "start_time": "2022-03-03T09:03:17.013Z"
   },
   {
    "duration": 5,
    "start_time": "2022-03-03T09:03:20.751Z"
   },
   {
    "duration": 11,
    "start_time": "2022-03-03T09:03:23.594Z"
   },
   {
    "duration": 11,
    "start_time": "2022-03-03T09:03:39.323Z"
   },
   {
    "duration": 299,
    "start_time": "2022-03-03T09:04:16.845Z"
   },
   {
    "duration": 4,
    "start_time": "2022-03-03T09:04:23.742Z"
   },
   {
    "duration": 292,
    "start_time": "2022-03-03T09:04:25.493Z"
   },
   {
    "duration": 4,
    "start_time": "2022-03-03T09:04:31.709Z"
   },
   {
    "duration": 11,
    "start_time": "2022-03-03T09:06:50.680Z"
   },
   {
    "duration": 11,
    "start_time": "2022-03-03T09:07:00.679Z"
   },
   {
    "duration": 11,
    "start_time": "2022-03-03T09:11:01.451Z"
   },
   {
    "duration": 11,
    "start_time": "2022-03-03T09:12:30.968Z"
   },
   {
    "duration": 809,
    "start_time": "2022-03-04T10:32:36.599Z"
   },
   {
    "duration": 3,
    "start_time": "2022-03-04T10:32:37.411Z"
   },
   {
    "duration": 115,
    "start_time": "2022-03-04T10:32:37.917Z"
   },
   {
    "duration": 608,
    "start_time": "2022-03-04T10:32:38.579Z"
   },
   {
    "duration": 3,
    "start_time": "2022-03-04T10:32:39.596Z"
   },
   {
    "duration": 59,
    "start_time": "2022-03-04T10:32:41.190Z"
   },
   {
    "duration": 32,
    "start_time": "2022-03-04T10:32:42.341Z"
   },
   {
    "duration": 14,
    "start_time": "2022-03-04T10:32:47.318Z"
   },
   {
    "duration": 4,
    "start_time": "2022-03-04T10:32:52.149Z"
   },
   {
    "duration": 5,
    "start_time": "2022-03-04T10:32:54.878Z"
   },
   {
    "duration": 11,
    "start_time": "2022-03-04T10:32:58.124Z"
   },
   {
    "duration": 24,
    "start_time": "2022-03-04T10:33:01.534Z"
   },
   {
    "duration": 11,
    "start_time": "2022-03-04T10:33:12.754Z"
   },
   {
    "duration": 17,
    "start_time": "2022-03-04T10:33:17.866Z"
   },
   {
    "duration": 6,
    "start_time": "2022-03-04T10:33:47.698Z"
   },
   {
    "duration": 7,
    "start_time": "2022-03-04T10:33:51.219Z"
   },
   {
    "duration": 7,
    "start_time": "2022-03-04T10:34:07.315Z"
   },
   {
    "duration": 17,
    "start_time": "2022-03-04T10:34:07.995Z"
   },
   {
    "duration": 19,
    "start_time": "2022-03-04T10:34:10.164Z"
   },
   {
    "duration": 8,
    "start_time": "2022-03-04T10:34:26.602Z"
   },
   {
    "duration": 23,
    "start_time": "2022-03-04T10:34:31.604Z"
   },
   {
    "duration": 19,
    "start_time": "2022-03-04T10:34:39.284Z"
   },
   {
    "duration": 436,
    "start_time": "2022-03-04T10:35:08.126Z"
   },
   {
    "duration": 27,
    "start_time": "2022-03-04T10:35:55.316Z"
   },
   {
    "duration": 38,
    "start_time": "2022-03-04T10:36:00.249Z"
   },
   {
    "duration": 12,
    "start_time": "2022-03-04T10:36:17.339Z"
   },
   {
    "duration": 9,
    "start_time": "2022-03-04T10:36:21.924Z"
   },
   {
    "duration": 20,
    "start_time": "2022-03-04T10:36:43.605Z"
   },
   {
    "duration": 7,
    "start_time": "2022-03-04T10:36:58.270Z"
   },
   {
    "duration": 34,
    "start_time": "2022-03-04T10:37:04.710Z"
   },
   {
    "duration": 34,
    "start_time": "2022-03-04T10:37:11.542Z"
   },
   {
    "duration": 676,
    "start_time": "2022-03-04T10:37:38.835Z"
   },
   {
    "duration": 349,
    "start_time": "2022-03-04T10:37:43.485Z"
   },
   {
    "duration": 221,
    "start_time": "2022-03-04T10:38:00.401Z"
   },
   {
    "duration": 309,
    "start_time": "2022-03-04T10:38:10.380Z"
   },
   {
    "duration": 417,
    "start_time": "2022-03-04T10:38:22.973Z"
   },
   {
    "duration": 7,
    "start_time": "2022-03-04T10:38:27.410Z"
   },
   {
    "duration": 436,
    "start_time": "2022-03-04T10:38:33.897Z"
   },
   {
    "duration": 7,
    "start_time": "2022-03-04T10:38:37.548Z"
   },
   {
    "duration": 53,
    "start_time": "2022-03-04T10:38:57.630Z"
   },
   {
    "duration": 659,
    "start_time": "2022-03-04T10:39:03.278Z"
   },
   {
    "duration": 6,
    "start_time": "2022-03-04T10:39:07.922Z"
   },
   {
    "duration": 463,
    "start_time": "2022-03-04T10:39:10.805Z"
   },
   {
    "duration": 6,
    "start_time": "2022-03-04T10:39:17.965Z"
   },
   {
    "duration": 35,
    "start_time": "2022-03-04T10:39:21.116Z"
   },
   {
    "duration": 409,
    "start_time": "2022-03-04T10:39:28.874Z"
   },
   {
    "duration": 7,
    "start_time": "2022-03-04T10:39:33.550Z"
   },
   {
    "duration": 574,
    "start_time": "2022-03-04T10:39:39.029Z"
   },
   {
    "duration": 6,
    "start_time": "2022-03-04T10:39:44.471Z"
   },
   {
    "duration": 35,
    "start_time": "2022-03-04T10:39:48.938Z"
   },
   {
    "duration": 386,
    "start_time": "2022-03-04T10:39:52.375Z"
   },
   {
    "duration": 7,
    "start_time": "2022-03-04T10:39:56.523Z"
   },
   {
    "duration": 428,
    "start_time": "2022-03-04T10:40:01.553Z"
   },
   {
    "duration": 7,
    "start_time": "2022-03-04T10:40:05.967Z"
   },
   {
    "duration": 36,
    "start_time": "2022-03-04T10:40:12.040Z"
   },
   {
    "duration": 442,
    "start_time": "2022-03-04T10:40:19.993Z"
   },
   {
    "duration": 9,
    "start_time": "2022-03-04T10:40:24.439Z"
   },
   {
    "duration": 543,
    "start_time": "2022-03-04T10:40:28.540Z"
   },
   {
    "duration": 9,
    "start_time": "2022-03-04T10:40:32.645Z"
   },
   {
    "duration": 17,
    "start_time": "2022-03-04T10:40:37.047Z"
   },
   {
    "duration": 527,
    "start_time": "2022-03-04T10:42:05.058Z"
   },
   {
    "duration": 17,
    "start_time": "2022-03-04T10:43:03.520Z"
   },
   {
    "duration": 34,
    "start_time": "2022-03-04T11:04:07.078Z"
   },
   {
    "duration": 39,
    "start_time": "2022-03-04T11:05:35.934Z"
   },
   {
    "duration": 409,
    "start_time": "2022-03-04T11:05:51.919Z"
   },
   {
    "duration": 319,
    "start_time": "2022-03-04T11:06:06.891Z"
   },
   {
    "duration": 6,
    "start_time": "2022-03-04T11:06:20.225Z"
   },
   {
    "duration": 359,
    "start_time": "2022-03-04T11:07:15.666Z"
   },
   {
    "duration": 6,
    "start_time": "2022-03-04T11:07:34.915Z"
   },
   {
    "duration": 1324,
    "start_time": "2022-03-04T11:20:06.863Z"
   },
   {
    "duration": 19,
    "start_time": "2022-03-04T11:20:21.311Z"
   },
   {
    "duration": 239,
    "start_time": "2022-03-04T11:36:25.719Z"
   },
   {
    "duration": 315,
    "start_time": "2022-03-04T11:37:08.609Z"
   },
   {
    "duration": 395,
    "start_time": "2022-03-04T11:37:48.511Z"
   },
   {
    "duration": 315,
    "start_time": "2022-03-04T11:38:22.784Z"
   },
   {
    "duration": 142,
    "start_time": "2022-03-04T11:48:52.983Z"
   },
   {
    "duration": 615,
    "start_time": "2022-03-04T11:49:03.381Z"
   },
   {
    "duration": 440,
    "start_time": "2022-03-04T11:50:33.267Z"
   },
   {
    "duration": 404,
    "start_time": "2022-03-04T11:50:55.375Z"
   },
   {
    "duration": 532,
    "start_time": "2022-03-04T11:51:08.093Z"
   },
   {
    "duration": 411,
    "start_time": "2022-03-04T11:51:23.430Z"
   },
   {
    "duration": 535,
    "start_time": "2022-03-04T11:52:06.099Z"
   },
   {
    "duration": 728,
    "start_time": "2022-03-04T11:59:10.184Z"
   },
   {
    "duration": 677,
    "start_time": "2022-03-04T12:00:24.338Z"
   },
   {
    "duration": 459,
    "start_time": "2022-03-04T12:00:39.241Z"
   },
   {
    "duration": 613,
    "start_time": "2022-03-04T12:01:59.985Z"
   },
   {
    "duration": 850,
    "start_time": "2022-03-04T12:05:20.213Z"
   },
   {
    "duration": 381,
    "start_time": "2022-03-04T12:05:48.994Z"
   },
   {
    "duration": 330,
    "start_time": "2022-03-04T12:06:07.019Z"
   },
   {
    "duration": 646,
    "start_time": "2022-03-04T12:06:47.459Z"
   },
   {
    "duration": 318,
    "start_time": "2022-03-04T12:14:59.326Z"
   },
   {
    "duration": 15,
    "start_time": "2022-03-04T12:15:06.286Z"
   },
   {
    "duration": 16,
    "start_time": "2022-03-04T12:15:08.287Z"
   },
   {
    "duration": 335,
    "start_time": "2022-03-04T12:15:21.401Z"
   },
   {
    "duration": 324,
    "start_time": "2022-03-04T12:16:02.602Z"
   },
   {
    "duration": 23,
    "start_time": "2022-03-04T12:16:41.546Z"
   },
   {
    "duration": 159,
    "start_time": "2022-03-04T12:41:30.243Z"
   },
   {
    "duration": 111,
    "start_time": "2022-03-04T12:41:46.480Z"
   },
   {
    "duration": 102,
    "start_time": "2022-03-04T12:42:24.617Z"
   },
   {
    "duration": 407,
    "start_time": "2022-03-04T12:42:56.650Z"
   },
   {
    "duration": 6,
    "start_time": "2022-03-04T12:48:26.306Z"
   },
   {
    "duration": 8,
    "start_time": "2022-03-04T12:48:26.977Z"
   },
   {
    "duration": 8,
    "start_time": "2022-03-04T12:48:28.967Z"
   },
   {
    "duration": 18,
    "start_time": "2022-03-04T12:48:30.321Z"
   },
   {
    "duration": 13,
    "start_time": "2022-03-04T12:48:31.665Z"
   },
   {
    "duration": 5,
    "start_time": "2022-03-04T12:48:34.972Z"
   },
   {
    "duration": 22,
    "start_time": "2022-03-04T12:48:36.454Z"
   },
   {
    "duration": 20,
    "start_time": "2022-03-04T12:48:39.150Z"
   },
   {
    "duration": 427,
    "start_time": "2022-03-04T12:48:40.608Z"
   },
   {
    "duration": 26,
    "start_time": "2022-03-04T12:48:45.816Z"
   },
   {
    "duration": 35,
    "start_time": "2022-03-04T12:48:46.769Z"
   },
   {
    "duration": 10,
    "start_time": "2022-03-04T12:48:48.758Z"
   },
   {
    "duration": 10,
    "start_time": "2022-03-04T12:48:49.597Z"
   },
   {
    "duration": 22,
    "start_time": "2022-03-04T12:48:51.013Z"
   },
   {
    "duration": 7,
    "start_time": "2022-03-04T12:48:51.824Z"
   },
   {
    "duration": 24,
    "start_time": "2022-03-04T12:48:52.696Z"
   },
   {
    "duration": 31,
    "start_time": "2022-03-04T12:48:53.448Z"
   },
   {
    "duration": 679,
    "start_time": "2022-03-04T12:48:56.735Z"
   },
   {
    "duration": 333,
    "start_time": "2022-03-04T12:48:58.397Z"
   },
   {
    "duration": 214,
    "start_time": "2022-03-04T12:49:05.279Z"
   },
   {
    "duration": 294,
    "start_time": "2022-03-04T12:49:07.288Z"
   },
   {
    "duration": 433,
    "start_time": "2022-03-04T12:49:11.583Z"
   },
   {
    "duration": 7,
    "start_time": "2022-03-04T12:49:12.920Z"
   },
   {
    "duration": 398,
    "start_time": "2022-03-04T12:49:13.739Z"
   },
   {
    "duration": 7,
    "start_time": "2022-03-04T12:49:14.494Z"
   },
   {
    "duration": 36,
    "start_time": "2022-03-04T12:49:16.641Z"
   },
   {
    "duration": 446,
    "start_time": "2022-03-04T12:49:18.286Z"
   },
   {
    "duration": 8,
    "start_time": "2022-03-04T12:49:19.046Z"
   },
   {
    "duration": 473,
    "start_time": "2022-03-04T12:49:19.902Z"
   },
   {
    "duration": 6,
    "start_time": "2022-03-04T12:49:20.686Z"
   },
   {
    "duration": 36,
    "start_time": "2022-03-04T12:49:21.496Z"
   },
   {
    "duration": 400,
    "start_time": "2022-03-04T12:49:22.368Z"
   },
   {
    "duration": 6,
    "start_time": "2022-03-04T12:49:23.207Z"
   },
   {
    "duration": 446,
    "start_time": "2022-03-04T12:49:24.082Z"
   },
   {
    "duration": 8,
    "start_time": "2022-03-04T12:49:25.015Z"
   },
   {
    "duration": 36,
    "start_time": "2022-03-04T12:49:25.929Z"
   },
   {
    "duration": 446,
    "start_time": "2022-03-04T12:49:26.975Z"
   },
   {
    "duration": 9,
    "start_time": "2022-03-04T12:49:27.762Z"
   },
   {
    "duration": 393,
    "start_time": "2022-03-04T12:49:32.215Z"
   },
   {
    "duration": 7,
    "start_time": "2022-03-04T12:49:32.984Z"
   },
   {
    "duration": 37,
    "start_time": "2022-03-04T12:49:33.928Z"
   },
   {
    "duration": 393,
    "start_time": "2022-03-04T12:49:34.855Z"
   },
   {
    "duration": 7,
    "start_time": "2022-03-04T12:49:35.695Z"
   },
   {
    "duration": 444,
    "start_time": "2022-03-04T12:49:36.495Z"
   },
   {
    "duration": 7,
    "start_time": "2022-03-04T12:49:37.310Z"
   },
   {
    "duration": 37,
    "start_time": "2022-03-04T12:49:38.168Z"
   },
   {
    "duration": 387,
    "start_time": "2022-03-04T12:49:39.256Z"
   },
   {
    "duration": 6,
    "start_time": "2022-03-04T12:49:40.056Z"
   },
   {
    "duration": 380,
    "start_time": "2022-03-04T12:49:41.650Z"
   },
   {
    "duration": 7,
    "start_time": "2022-03-04T12:49:43.047Z"
   },
   {
    "duration": 19,
    "start_time": "2022-03-04T12:49:59.466Z"
   },
   {
    "duration": 750,
    "start_time": "2022-03-04T12:50:04.961Z"
   },
   {
    "duration": 16,
    "start_time": "2022-03-04T12:50:15.765Z"
   },
   {
    "duration": 16,
    "start_time": "2022-03-04T12:50:17.672Z"
   },
   {
    "duration": 396,
    "start_time": "2022-03-04T12:50:33.815Z"
   },
   {
    "duration": 352,
    "start_time": "2022-03-04T12:51:05.115Z"
   },
   {
    "duration": 3,
    "start_time": "2022-03-04T12:51:59.665Z"
   },
   {
    "duration": 3,
    "start_time": "2022-03-04T12:52:00.608Z"
   },
   {
    "duration": 4,
    "start_time": "2022-03-04T12:52:01.162Z"
   },
   {
    "duration": 4,
    "start_time": "2022-03-04T12:52:01.546Z"
   },
   {
    "duration": 4,
    "start_time": "2022-03-04T12:52:01.911Z"
   },
   {
    "duration": 45,
    "start_time": "2022-03-04T12:52:03.145Z"
   },
   {
    "duration": 29,
    "start_time": "2022-03-04T12:52:04.546Z"
   },
   {
    "duration": 15,
    "start_time": "2022-03-04T12:52:07.399Z"
   },
   {
    "duration": 4,
    "start_time": "2022-03-04T12:52:07.937Z"
   },
   {
    "duration": 6,
    "start_time": "2022-03-04T12:52:08.697Z"
   },
   {
    "duration": 12,
    "start_time": "2022-03-04T12:52:09.152Z"
   },
   {
    "duration": 32,
    "start_time": "2022-03-04T12:52:09.515Z"
   },
   {
    "duration": 14,
    "start_time": "2022-03-04T12:52:10.399Z"
   },
   {
    "duration": 16,
    "start_time": "2022-03-04T12:52:11.183Z"
   },
   {
    "duration": 6,
    "start_time": "2022-03-04T12:52:11.769Z"
   },
   {
    "duration": 8,
    "start_time": "2022-03-04T12:52:11.975Z"
   },
   {
    "duration": 7,
    "start_time": "2022-03-04T12:52:12.358Z"
   },
   {
    "duration": 13,
    "start_time": "2022-03-04T12:52:12.560Z"
   },
   {
    "duration": 12,
    "start_time": "2022-03-04T12:52:12.800Z"
   },
   {
    "duration": 7,
    "start_time": "2022-03-04T12:52:23.023Z"
   },
   {
    "duration": 23,
    "start_time": "2022-03-04T12:52:23.431Z"
   },
   {
    "duration": 21,
    "start_time": "2022-03-04T12:52:24.002Z"
   },
   {
    "duration": 579,
    "start_time": "2022-03-04T12:52:24.453Z"
   },
   {
    "duration": 26,
    "start_time": "2022-03-04T12:52:25.541Z"
   },
   {
    "duration": 34,
    "start_time": "2022-03-04T12:52:25.960Z"
   },
   {
    "duration": 8,
    "start_time": "2022-03-04T12:52:26.432Z"
   },
   {
    "duration": 8,
    "start_time": "2022-03-04T12:52:26.820Z"
   },
   {
    "duration": 20,
    "start_time": "2022-03-04T12:52:27.334Z"
   },
   {
    "duration": 6,
    "start_time": "2022-03-04T12:52:27.634Z"
   },
   {
    "duration": 31,
    "start_time": "2022-03-04T12:52:27.899Z"
   },
   {
    "duration": 34,
    "start_time": "2022-03-04T12:52:28.063Z"
   },
   {
    "duration": 721,
    "start_time": "2022-03-04T12:52:28.882Z"
   },
   {
    "duration": 376,
    "start_time": "2022-03-04T12:52:29.607Z"
   },
   {
    "duration": 263,
    "start_time": "2022-03-04T12:52:29.986Z"
   },
   {
    "duration": 310,
    "start_time": "2022-03-04T12:52:30.302Z"
   },
   {
    "duration": 411,
    "start_time": "2022-03-04T12:52:32.863Z"
   },
   {
    "duration": 8,
    "start_time": "2022-03-04T12:52:33.278Z"
   },
   {
    "duration": 430,
    "start_time": "2022-03-04T12:52:33.407Z"
   },
   {
    "duration": 8,
    "start_time": "2022-03-04T12:52:33.840Z"
   },
   {
    "duration": 38,
    "start_time": "2022-03-04T12:52:35.023Z"
   },
   {
    "duration": 456,
    "start_time": "2022-03-04T12:52:36.289Z"
   },
   {
    "duration": 6,
    "start_time": "2022-03-04T12:52:36.748Z"
   },
   {
    "duration": 440,
    "start_time": "2022-03-04T12:52:36.779Z"
   },
   {
    "duration": 7,
    "start_time": "2022-03-04T12:52:38.131Z"
   },
   {
    "duration": 53,
    "start_time": "2022-03-04T12:52:38.873Z"
   },
   {
    "duration": 582,
    "start_time": "2022-03-04T12:52:39.263Z"
   },
   {
    "duration": 8,
    "start_time": "2022-03-04T12:52:40.007Z"
   },
   {
    "duration": 587,
    "start_time": "2022-03-04T12:52:41.112Z"
   },
   {
    "duration": 8,
    "start_time": "2022-03-04T12:52:41.817Z"
   },
   {
    "duration": 52,
    "start_time": "2022-03-04T12:52:42.784Z"
   },
   {
    "duration": 402,
    "start_time": "2022-03-04T12:52:43.842Z"
   },
   {
    "duration": 7,
    "start_time": "2022-03-04T12:52:45.140Z"
   },
   {
    "duration": 380,
    "start_time": "2022-03-04T12:52:45.767Z"
   },
   {
    "duration": 6,
    "start_time": "2022-03-04T12:52:46.433Z"
   },
   {
    "duration": 35,
    "start_time": "2022-03-04T12:52:47.361Z"
   },
   {
    "duration": 387,
    "start_time": "2022-03-04T12:52:48.456Z"
   },
   {
    "duration": 7,
    "start_time": "2022-03-04T12:52:49.834Z"
   },
   {
    "duration": 431,
    "start_time": "2022-03-04T12:52:50.976Z"
   },
   {
    "duration": 8,
    "start_time": "2022-03-04T12:52:52.602Z"
   },
   {
    "duration": 45,
    "start_time": "2022-03-04T12:52:54.345Z"
   },
   {
    "duration": 414,
    "start_time": "2022-03-04T12:52:55.679Z"
   },
   {
    "duration": 6,
    "start_time": "2022-03-04T12:52:57.297Z"
   },
   {
    "duration": 407,
    "start_time": "2022-03-04T12:52:58.577Z"
   },
   {
    "duration": 8,
    "start_time": "2022-03-04T12:53:02.708Z"
   },
   {
    "duration": 26,
    "start_time": "2022-03-04T12:53:09.097Z"
   },
   {
    "duration": 543,
    "start_time": "2022-03-04T12:53:11.169Z"
   },
   {
    "duration": 17,
    "start_time": "2022-03-04T12:53:27.424Z"
   },
   {
    "duration": 15,
    "start_time": "2022-03-04T12:53:29.114Z"
   },
   {
    "duration": 391,
    "start_time": "2022-03-04T12:53:30.809Z"
   },
   {
    "duration": 7587,
    "start_time": "2022-03-04T13:07:49.576Z"
   },
   {
    "duration": 7549,
    "start_time": "2022-03-04T13:08:16.140Z"
   },
   {
    "duration": 39,
    "start_time": "2022-03-04T13:08:48.514Z"
   },
   {
    "duration": 18,
    "start_time": "2022-03-04T13:08:58.617Z"
   },
   {
    "duration": 16,
    "start_time": "2022-03-04T13:09:00.791Z"
   },
   {
    "duration": 8126,
    "start_time": "2022-03-04T13:09:03.985Z"
   },
   {
    "duration": 7488,
    "start_time": "2022-03-04T13:11:41.045Z"
   },
   {
    "duration": 27,
    "start_time": "2022-03-04T13:13:12.067Z"
   },
   {
    "duration": 4,
    "start_time": "2022-03-04T13:14:12.609Z"
   },
   {
    "duration": 4,
    "start_time": "2022-03-04T13:14:13.750Z"
   },
   {
    "duration": 5,
    "start_time": "2022-03-04T13:14:13.850Z"
   },
   {
    "duration": 4,
    "start_time": "2022-03-04T13:14:15.552Z"
   },
   {
    "duration": 3,
    "start_time": "2022-03-04T13:14:15.560Z"
   },
   {
    "duration": 54,
    "start_time": "2022-03-04T13:14:16.989Z"
   },
   {
    "duration": 33,
    "start_time": "2022-03-04T13:14:18.209Z"
   },
   {
    "duration": 18,
    "start_time": "2022-03-04T13:14:23.223Z"
   },
   {
    "duration": 4,
    "start_time": "2022-03-04T13:14:24.350Z"
   },
   {
    "duration": 8,
    "start_time": "2022-03-04T13:14:27.573Z"
   },
   {
    "duration": 13,
    "start_time": "2022-03-04T13:14:36.113Z"
   },
   {
    "duration": 24,
    "start_time": "2022-03-04T13:14:37.736Z"
   },
   {
    "duration": 12,
    "start_time": "2022-03-04T13:14:42.847Z"
   },
   {
    "duration": 11,
    "start_time": "2022-03-04T13:14:55.814Z"
   },
   {
    "duration": 4,
    "start_time": "2022-03-04T13:15:06.903Z"
   },
   {
    "duration": 6,
    "start_time": "2022-03-04T13:15:08.359Z"
   },
   {
    "duration": 5,
    "start_time": "2022-03-04T13:15:11.458Z"
   },
   {
    "duration": 11,
    "start_time": "2022-03-04T13:15:13.512Z"
   },
   {
    "duration": 14,
    "start_time": "2022-03-04T13:15:17.352Z"
   },
   {
    "duration": 6,
    "start_time": "2022-03-04T13:15:23.212Z"
   },
   {
    "duration": 24,
    "start_time": "2022-03-04T13:15:33.621Z"
   },
   {
    "duration": 21,
    "start_time": "2022-03-04T13:15:36.902Z"
   },
   {
    "duration": 555,
    "start_time": "2022-03-04T13:15:39.368Z"
   },
   {
    "duration": 27,
    "start_time": "2022-03-04T13:15:49.150Z"
   },
   {
    "duration": 35,
    "start_time": "2022-03-04T13:15:50.152Z"
   },
   {
    "duration": 10,
    "start_time": "2022-03-04T13:15:51.919Z"
   },
   {
    "duration": 8,
    "start_time": "2022-03-04T13:15:52.879Z"
   },
   {
    "duration": 24,
    "start_time": "2022-03-04T13:15:55.116Z"
   },
   {
    "duration": 6,
    "start_time": "2022-03-04T13:15:56.303Z"
   },
   {
    "duration": 24,
    "start_time": "2022-03-04T13:15:57.408Z"
   },
   {
    "duration": 35,
    "start_time": "2022-03-04T13:15:58.264Z"
   },
   {
    "duration": 685,
    "start_time": "2022-03-04T13:16:02.269Z"
   },
   {
    "duration": 642,
    "start_time": "2022-03-04T13:16:03.872Z"
   },
   {
    "duration": 228,
    "start_time": "2022-03-04T13:16:07.958Z"
   },
   {
    "duration": 302,
    "start_time": "2022-03-04T13:16:09.846Z"
   },
   {
    "duration": 388,
    "start_time": "2022-03-04T13:16:15.936Z"
   },
   {
    "duration": 11,
    "start_time": "2022-03-04T13:16:16.326Z"
   },
   {
    "duration": 415,
    "start_time": "2022-03-04T13:16:16.339Z"
   },
   {
    "duration": 7,
    "start_time": "2022-03-04T13:16:16.756Z"
   },
   {
    "duration": 50,
    "start_time": "2022-03-04T13:16:19.343Z"
   },
   {
    "duration": 434,
    "start_time": "2022-03-04T13:16:20.990Z"
   },
   {
    "duration": 6,
    "start_time": "2022-03-04T13:16:21.627Z"
   },
   {
    "duration": 421,
    "start_time": "2022-03-04T13:16:22.255Z"
   },
   {
    "duration": 6,
    "start_time": "2022-03-04T13:16:22.866Z"
   },
   {
    "duration": 37,
    "start_time": "2022-03-04T13:16:23.376Z"
   },
   {
    "duration": 447,
    "start_time": "2022-03-04T13:16:23.943Z"
   },
   {
    "duration": 7,
    "start_time": "2022-03-04T13:16:24.424Z"
   },
   {
    "duration": 421,
    "start_time": "2022-03-04T13:16:24.959Z"
   },
   {
    "duration": 9,
    "start_time": "2022-03-04T13:16:25.466Z"
   },
   {
    "duration": 38,
    "start_time": "2022-03-04T13:16:26.074Z"
   },
   {
    "duration": 482,
    "start_time": "2022-03-04T13:16:26.543Z"
   },
   {
    "duration": 8,
    "start_time": "2022-03-04T13:16:27.032Z"
   },
   {
    "duration": 370,
    "start_time": "2022-03-04T13:16:27.783Z"
   },
   {
    "duration": 9,
    "start_time": "2022-03-04T13:16:28.405Z"
   },
   {
    "duration": 36,
    "start_time": "2022-03-04T13:16:28.983Z"
   },
   {
    "duration": 396,
    "start_time": "2022-03-04T13:16:30.367Z"
   },
   {
    "duration": 7,
    "start_time": "2022-03-04T13:16:31.142Z"
   },
   {
    "duration": 448,
    "start_time": "2022-03-04T13:16:32.005Z"
   },
   {
    "duration": 8,
    "start_time": "2022-03-04T13:16:32.706Z"
   },
   {
    "duration": 37,
    "start_time": "2022-03-04T13:16:33.241Z"
   },
   {
    "duration": 400,
    "start_time": "2022-03-04T13:16:34.174Z"
   },
   {
    "duration": 7,
    "start_time": "2022-03-04T13:16:35.025Z"
   },
   {
    "duration": 420,
    "start_time": "2022-03-04T13:16:35.823Z"
   },
   {
    "duration": 7,
    "start_time": "2022-03-04T13:16:37.912Z"
   },
   {
    "duration": 20,
    "start_time": "2022-03-04T13:16:44.272Z"
   },
   {
    "duration": 532,
    "start_time": "2022-03-04T13:16:45.913Z"
   },
   {
    "duration": 22,
    "start_time": "2022-03-04T13:16:56.871Z"
   },
   {
    "duration": 17,
    "start_time": "2022-03-04T13:17:02.439Z"
   },
   {
    "duration": 27,
    "start_time": "2022-03-04T13:17:11.000Z"
   },
   {
    "duration": 20,
    "start_time": "2022-03-04T13:18:03.068Z"
   },
   {
    "duration": 21,
    "start_time": "2022-03-04T13:19:44.380Z"
   },
   {
    "duration": 188,
    "start_time": "2022-03-04T13:20:16.873Z"
   },
   {
    "duration": 25,
    "start_time": "2022-03-04T13:20:25.670Z"
   },
   {
    "duration": 7,
    "start_time": "2022-03-04T13:21:01.372Z"
   },
   {
    "duration": 7,
    "start_time": "2022-03-04T13:22:23.265Z"
   },
   {
    "duration": 310,
    "start_time": "2022-03-04T13:22:59.739Z"
   },
   {
    "duration": 9,
    "start_time": "2022-03-04T13:23:20.314Z"
   },
   {
    "duration": 8,
    "start_time": "2022-03-04T13:23:40.510Z"
   },
   {
    "duration": 21,
    "start_time": "2022-03-04T13:23:56.412Z"
   },
   {
    "duration": 10,
    "start_time": "2022-03-04T13:25:01.209Z"
   },
   {
    "duration": 335,
    "start_time": "2022-03-05T05:20:51.707Z"
   },
   {
    "duration": 714,
    "start_time": "2022-03-05T05:21:17.310Z"
   },
   {
    "duration": 5,
    "start_time": "2022-03-05T05:21:18.026Z"
   },
   {
    "duration": 119,
    "start_time": "2022-03-05T05:21:18.620Z"
   },
   {
    "duration": 654,
    "start_time": "2022-03-05T05:21:19.100Z"
   },
   {
    "duration": 3,
    "start_time": "2022-03-05T05:21:19.757Z"
   },
   {
    "duration": 44,
    "start_time": "2022-03-05T05:21:21.162Z"
   },
   {
    "duration": 33,
    "start_time": "2022-03-05T05:21:21.928Z"
   },
   {
    "duration": 14,
    "start_time": "2022-03-05T05:21:25.203Z"
   },
   {
    "duration": 4,
    "start_time": "2022-03-05T05:21:26.062Z"
   },
   {
    "duration": 6,
    "start_time": "2022-03-05T05:21:27.842Z"
   },
   {
    "duration": 12,
    "start_time": "2022-03-05T05:21:29.871Z"
   },
   {
    "duration": 23,
    "start_time": "2022-03-05T05:21:29.885Z"
   },
   {
    "duration": 13,
    "start_time": "2022-03-05T05:21:31.212Z"
   },
   {
    "duration": 13,
    "start_time": "2022-03-05T05:21:33.571Z"
   },
   {
    "duration": 4,
    "start_time": "2022-03-05T05:21:35.836Z"
   },
   {
    "duration": 6,
    "start_time": "2022-03-05T05:21:36.516Z"
   },
   {
    "duration": 6,
    "start_time": "2022-03-05T05:21:38.133Z"
   },
   {
    "duration": 13,
    "start_time": "2022-03-05T05:21:38.797Z"
   },
   {
    "duration": 14,
    "start_time": "2022-03-05T05:21:39.635Z"
   },
   {
    "duration": 6,
    "start_time": "2022-03-05T05:21:42.666Z"
   },
   {
    "duration": 23,
    "start_time": "2022-03-05T05:21:44.288Z"
   },
   {
    "duration": 20,
    "start_time": "2022-03-05T05:21:47.018Z"
   },
   {
    "duration": 457,
    "start_time": "2022-03-05T05:21:48.611Z"
   },
   {
    "duration": 28,
    "start_time": "2022-03-05T05:21:54.827Z"
   },
   {
    "duration": 34,
    "start_time": "2022-03-05T05:21:55.716Z"
   },
   {
    "duration": 9,
    "start_time": "2022-03-05T05:21:57.619Z"
   },
   {
    "duration": 8,
    "start_time": "2022-03-05T05:21:58.625Z"
   },
   {
    "duration": 20,
    "start_time": "2022-03-05T05:22:00.172Z"
   },
   {
    "duration": 6,
    "start_time": "2022-03-05T05:22:01.028Z"
   },
   {
    "duration": 24,
    "start_time": "2022-03-05T05:22:01.982Z"
   },
   {
    "duration": 35,
    "start_time": "2022-03-05T05:22:02.912Z"
   },
   {
    "duration": 681,
    "start_time": "2022-03-05T05:22:06.651Z"
   },
   {
    "duration": 346,
    "start_time": "2022-03-05T05:22:08.353Z"
   },
   {
    "duration": 225,
    "start_time": "2022-03-05T05:22:11.836Z"
   },
   {
    "duration": 306,
    "start_time": "2022-03-05T05:22:13.481Z"
   },
   {
    "duration": 406,
    "start_time": "2022-03-05T05:22:18.469Z"
   },
   {
    "duration": 7,
    "start_time": "2022-03-05T05:22:19.412Z"
   },
   {
    "duration": 406,
    "start_time": "2022-03-05T05:22:20.353Z"
   },
   {
    "duration": 7,
    "start_time": "2022-03-05T05:22:21.087Z"
   },
   {
    "duration": 36,
    "start_time": "2022-03-05T05:22:23.350Z"
   },
   {
    "duration": 499,
    "start_time": "2022-03-05T05:22:24.740Z"
   },
   {
    "duration": 7,
    "start_time": "2022-03-05T05:22:25.454Z"
   },
   {
    "duration": 414,
    "start_time": "2022-03-05T05:22:26.103Z"
   },
   {
    "duration": 6,
    "start_time": "2022-03-05T05:22:26.776Z"
   },
   {
    "duration": 35,
    "start_time": "2022-03-05T05:22:27.510Z"
   },
   {
    "duration": 429,
    "start_time": "2022-03-05T05:22:28.229Z"
   },
   {
    "duration": 6,
    "start_time": "2022-03-05T05:22:28.944Z"
   },
   {
    "duration": 465,
    "start_time": "2022-03-05T05:22:29.652Z"
   },
   {
    "duration": 7,
    "start_time": "2022-03-05T05:22:30.371Z"
   },
   {
    "duration": 37,
    "start_time": "2022-03-05T05:22:31.102Z"
   },
   {
    "duration": 439,
    "start_time": "2022-03-05T05:22:31.838Z"
   },
   {
    "duration": 7,
    "start_time": "2022-03-05T05:22:32.702Z"
   },
   {
    "duration": 430,
    "start_time": "2022-03-05T05:22:33.555Z"
   },
   {
    "duration": 7,
    "start_time": "2022-03-05T05:22:34.330Z"
   },
   {
    "duration": 39,
    "start_time": "2022-03-05T05:22:35.169Z"
   },
   {
    "duration": 417,
    "start_time": "2022-03-05T05:22:36.009Z"
   },
   {
    "duration": 7,
    "start_time": "2022-03-05T05:22:36.757Z"
   },
   {
    "duration": 436,
    "start_time": "2022-03-05T05:22:37.518Z"
   },
   {
    "duration": 7,
    "start_time": "2022-03-05T05:22:38.222Z"
   },
   {
    "duration": 37,
    "start_time": "2022-03-05T05:22:38.990Z"
   },
   {
    "duration": 416,
    "start_time": "2022-03-05T05:22:39.718Z"
   },
   {
    "duration": 7,
    "start_time": "2022-03-05T05:22:40.447Z"
   },
   {
    "duration": 449,
    "start_time": "2022-03-05T05:22:41.240Z"
   },
   {
    "duration": 7,
    "start_time": "2022-03-05T05:22:42.077Z"
   },
   {
    "duration": 21,
    "start_time": "2022-03-05T05:22:46.344Z"
   },
   {
    "duration": 641,
    "start_time": "2022-03-05T05:22:47.654Z"
   },
   {
    "duration": 16,
    "start_time": "2022-03-05T05:22:53.860Z"
   },
   {
    "duration": 15,
    "start_time": "2022-03-05T05:22:54.798Z"
   },
   {
    "duration": 22,
    "start_time": "2022-03-05T05:22:55.649Z"
   },
   {
    "duration": 16,
    "start_time": "2022-03-05T05:22:58.106Z"
   },
   {
    "duration": 15,
    "start_time": "2022-03-05T05:22:58.790Z"
   },
   {
    "duration": 8,
    "start_time": "2022-03-05T05:22:59.518Z"
   },
   {
    "duration": 16,
    "start_time": "2022-03-05T05:23:01.629Z"
   },
   {
    "duration": 16,
    "start_time": "2022-03-05T05:23:02.427Z"
   },
   {
    "duration": 8,
    "start_time": "2022-03-05T05:23:03.196Z"
   },
   {
    "duration": 17,
    "start_time": "2022-03-05T05:23:05.790Z"
   },
   {
    "duration": 17,
    "start_time": "2022-03-05T05:23:08.486Z"
   },
   {
    "duration": 9,
    "start_time": "2022-03-05T05:23:11.036Z"
   },
   {
    "duration": 8,
    "start_time": "2022-03-05T05:23:13.613Z"
   },
   {
    "duration": 3,
    "start_time": "2022-03-05T05:23:25.411Z"
   },
   {
    "duration": 318,
    "start_time": "2022-03-05T05:23:27.415Z"
   },
   {
    "duration": 240,
    "start_time": "2022-03-05T05:25:30.676Z"
   },
   {
    "duration": 263,
    "start_time": "2022-03-05T05:26:50.635Z"
   },
   {
    "duration": 9,
    "start_time": "2022-03-05T05:27:37.251Z"
   },
   {
    "duration": 8,
    "start_time": "2022-03-05T05:27:39.716Z"
   },
   {
    "duration": 258,
    "start_time": "2022-03-05T05:29:22.602Z"
   },
   {
    "duration": 273,
    "start_time": "2022-03-05T05:30:01.988Z"
   },
   {
    "duration": 269,
    "start_time": "2022-03-05T05:30:34.988Z"
   },
   {
    "duration": 102,
    "start_time": "2022-03-05T05:32:38.316Z"
   },
   {
    "duration": 258,
    "start_time": "2022-03-05T05:33:07.839Z"
   },
   {
    "duration": 240,
    "start_time": "2022-03-05T05:33:46.100Z"
   },
   {
    "duration": 92,
    "start_time": "2022-03-05T05:38:04.535Z"
   },
   {
    "duration": 96,
    "start_time": "2022-03-05T05:38:22.311Z"
   },
   {
    "duration": 81,
    "start_time": "2022-03-05T05:50:09.795Z"
   },
   {
    "duration": 117,
    "start_time": "2022-03-05T05:51:00.898Z"
   },
   {
    "duration": 267,
    "start_time": "2022-03-05T05:53:32.635Z"
   },
   {
    "duration": 240,
    "start_time": "2022-03-05T05:56:25.758Z"
   },
   {
    "duration": 17,
    "start_time": "2022-03-05T05:59:14.992Z"
   },
   {
    "duration": 2976,
    "start_time": "2022-03-05T05:59:24.396Z"
   },
   {
    "duration": 7,
    "start_time": "2022-03-05T06:01:32.734Z"
   },
   {
    "duration": 19,
    "start_time": "2022-03-05T06:08:34.296Z"
   },
   {
    "duration": 96,
    "start_time": "2022-03-05T06:08:42.644Z"
   },
   {
    "duration": 7,
    "start_time": "2022-03-05T06:09:00.745Z"
   },
   {
    "duration": 15,
    "start_time": "2022-03-05T06:12:19.991Z"
   },
   {
    "duration": 6,
    "start_time": "2022-03-05T06:12:23.050Z"
   },
   {
    "duration": 16,
    "start_time": "2022-03-05T06:12:56.139Z"
   },
   {
    "duration": 6,
    "start_time": "2022-03-05T06:12:58.254Z"
   },
   {
    "duration": 13,
    "start_time": "2022-03-05T06:13:32.057Z"
   },
   {
    "duration": 7,
    "start_time": "2022-03-05T06:13:36.523Z"
   },
   {
    "duration": 14,
    "start_time": "2022-03-05T06:13:47.402Z"
   },
   {
    "duration": 6,
    "start_time": "2022-03-05T06:13:49.546Z"
   },
   {
    "duration": 13,
    "start_time": "2022-03-05T06:13:58.036Z"
   },
   {
    "duration": 7,
    "start_time": "2022-03-05T06:13:58.987Z"
   },
   {
    "duration": 15,
    "start_time": "2022-03-05T06:14:18.461Z"
   },
   {
    "duration": 8,
    "start_time": "2022-03-05T06:14:20.098Z"
   },
   {
    "duration": 82,
    "start_time": "2022-03-05T06:15:03.174Z"
   },
   {
    "duration": 266,
    "start_time": "2022-03-05T11:30:11.988Z"
   },
   {
    "duration": 93,
    "start_time": "2022-03-05T11:30:40.797Z"
   },
   {
    "duration": 164,
    "start_time": "2022-03-05T11:30:53.917Z"
   },
   {
    "duration": 186,
    "start_time": "2022-03-05T11:31:02.287Z"
   },
   {
    "duration": 389,
    "start_time": "2022-03-05T11:31:10.455Z"
   },
   {
    "duration": 15,
    "start_time": "2022-03-05T12:04:04.562Z"
   },
   {
    "duration": 14,
    "start_time": "2022-03-05T12:04:11.441Z"
   },
   {
    "duration": 4,
    "start_time": "2022-03-05T12:06:01.995Z"
   },
   {
    "duration": 237,
    "start_time": "2022-03-05T12:06:52.085Z"
   },
   {
    "duration": 8,
    "start_time": "2022-03-05T12:07:04.890Z"
   },
   {
    "duration": 11,
    "start_time": "2022-03-05T12:07:31.655Z"
   },
   {
    "duration": 5,
    "start_time": "2022-03-05T12:10:08.001Z"
   },
   {
    "duration": 5,
    "start_time": "2022-03-05T12:40:19.525Z"
   },
   {
    "duration": 5,
    "start_time": "2022-03-05T12:40:42.916Z"
   },
   {
    "duration": 7,
    "start_time": "2022-03-05T12:41:16.522Z"
   },
   {
    "duration": 12,
    "start_time": "2022-03-05T12:41:25.250Z"
   },
   {
    "duration": 6,
    "start_time": "2022-03-05T12:42:25.784Z"
   },
   {
    "duration": 12,
    "start_time": "2022-03-05T12:42:26.650Z"
   },
   {
    "duration": 7,
    "start_time": "2022-03-05T12:43:19.673Z"
   },
   {
    "duration": 18,
    "start_time": "2022-03-05T12:43:20.268Z"
   },
   {
    "duration": 261,
    "start_time": "2022-03-05T12:53:08.467Z"
   },
   {
    "duration": 291,
    "start_time": "2022-03-05T12:53:49.948Z"
   },
   {
    "duration": 351,
    "start_time": "2022-03-05T12:55:08.303Z"
   },
   {
    "duration": 301,
    "start_time": "2022-03-05T12:56:29.113Z"
   },
   {
    "duration": 256,
    "start_time": "2022-03-05T12:57:41.401Z"
   },
   {
    "duration": 267,
    "start_time": "2022-03-05T12:58:32.228Z"
   },
   {
    "duration": 4,
    "start_time": "2022-03-05T12:58:33.008Z"
   },
   {
    "duration": 3,
    "start_time": "2022-03-05T12:59:04.651Z"
   },
   {
    "duration": 3,
    "start_time": "2022-03-05T12:59:05.634Z"
   },
   {
    "duration": 3,
    "start_time": "2022-03-05T12:59:06.294Z"
   },
   {
    "duration": 4,
    "start_time": "2022-03-05T12:59:06.704Z"
   },
   {
    "duration": 3,
    "start_time": "2022-03-05T12:59:07.013Z"
   },
   {
    "duration": 43,
    "start_time": "2022-03-05T12:59:07.828Z"
   },
   {
    "duration": 36,
    "start_time": "2022-03-05T12:59:08.668Z"
   },
   {
    "duration": 14,
    "start_time": "2022-03-05T12:59:11.453Z"
   },
   {
    "duration": 4,
    "start_time": "2022-03-05T12:59:12.253Z"
   },
   {
    "duration": 6,
    "start_time": "2022-03-05T12:59:14.714Z"
   },
   {
    "duration": 13,
    "start_time": "2022-03-05T12:59:15.607Z"
   },
   {
    "duration": 24,
    "start_time": "2022-03-05T12:59:16.725Z"
   },
   {
    "duration": 11,
    "start_time": "2022-03-05T12:59:18.891Z"
   },
   {
    "duration": 17,
    "start_time": "2022-03-05T12:59:22.078Z"
   },
   {
    "duration": 5,
    "start_time": "2022-03-05T12:59:25.462Z"
   },
   {
    "duration": 6,
    "start_time": "2022-03-05T12:59:26.505Z"
   },
   {
    "duration": 8,
    "start_time": "2022-03-05T12:59:28.076Z"
   },
   {
    "duration": 12,
    "start_time": "2022-03-05T12:59:28.808Z"
   },
   {
    "duration": 13,
    "start_time": "2022-03-05T12:59:29.685Z"
   },
   {
    "duration": 7,
    "start_time": "2022-03-05T12:59:32.516Z"
   },
   {
    "duration": 24,
    "start_time": "2022-03-05T12:59:34.087Z"
   },
   {
    "duration": 27,
    "start_time": "2022-03-05T12:59:37.366Z"
   },
   {
    "duration": 506,
    "start_time": "2022-03-05T12:59:39.550Z"
   },
   {
    "duration": 27,
    "start_time": "2022-03-05T12:59:46.829Z"
   },
   {
    "duration": 36,
    "start_time": "2022-03-05T12:59:48.011Z"
   },
   {
    "duration": 13,
    "start_time": "2022-03-05T12:59:50.894Z"
   },
   {
    "duration": 16,
    "start_time": "2022-03-05T12:59:51.878Z"
   },
   {
    "duration": 21,
    "start_time": "2022-03-05T12:59:53.917Z"
   },
   {
    "duration": 6,
    "start_time": "2022-03-05T12:59:55.302Z"
   },
   {
    "duration": 24,
    "start_time": "2022-03-05T12:59:56.406Z"
   },
   {
    "duration": 40,
    "start_time": "2022-03-05T12:59:57.952Z"
   },
   {
    "duration": 753,
    "start_time": "2022-03-05T13:00:04.965Z"
   },
   {
    "duration": 384,
    "start_time": "2022-03-05T13:00:06.447Z"
   },
   {
    "duration": 334,
    "start_time": "2022-03-05T13:00:28.144Z"
   },
   {
    "duration": 330,
    "start_time": "2022-03-05T13:00:31.483Z"
   },
   {
    "duration": 430,
    "start_time": "2022-03-05T13:00:39.958Z"
   },
   {
    "duration": 7,
    "start_time": "2022-03-05T13:00:40.727Z"
   },
   {
    "duration": 429,
    "start_time": "2022-03-05T13:00:41.520Z"
   },
   {
    "duration": 7,
    "start_time": "2022-03-05T13:00:42.349Z"
   },
   {
    "duration": 37,
    "start_time": "2022-03-05T13:00:44.909Z"
   },
   {
    "duration": 415,
    "start_time": "2022-03-05T13:00:47.005Z"
   },
   {
    "duration": 7,
    "start_time": "2022-03-05T13:00:47.765Z"
   },
   {
    "duration": 562,
    "start_time": "2022-03-05T13:00:48.662Z"
   },
   {
    "duration": 7,
    "start_time": "2022-03-05T13:00:49.440Z"
   },
   {
    "duration": 42,
    "start_time": "2022-03-05T13:00:50.264Z"
   },
   {
    "duration": 458,
    "start_time": "2022-03-05T13:00:50.986Z"
   },
   {
    "duration": 8,
    "start_time": "2022-03-05T13:00:51.697Z"
   },
   {
    "duration": 462,
    "start_time": "2022-03-05T13:00:52.474Z"
   },
   {
    "duration": 7,
    "start_time": "2022-03-05T13:00:53.224Z"
   },
   {
    "duration": 36,
    "start_time": "2022-03-05T13:00:54.216Z"
   },
   {
    "duration": 457,
    "start_time": "2022-03-05T13:00:55.254Z"
   },
   {
    "duration": 7,
    "start_time": "2022-03-05T13:00:56.732Z"
   },
   {
    "duration": 409,
    "start_time": "2022-03-05T13:00:58.513Z"
   },
   {
    "duration": 7,
    "start_time": "2022-03-05T13:00:59.788Z"
   },
   {
    "duration": 37,
    "start_time": "2022-03-05T13:01:00.810Z"
   },
   {
    "duration": 436,
    "start_time": "2022-03-05T13:01:01.880Z"
   },
   {
    "duration": 6,
    "start_time": "2022-03-05T13:01:03.239Z"
   },
   {
    "duration": 449,
    "start_time": "2022-03-05T13:01:04.264Z"
   },
   {
    "duration": 6,
    "start_time": "2022-03-05T13:01:05.418Z"
   },
   {
    "duration": 38,
    "start_time": "2022-03-05T13:01:15.013Z"
   },
   {
    "duration": 456,
    "start_time": "2022-03-05T13:01:16.450Z"
   },
   {
    "duration": 6,
    "start_time": "2022-03-05T13:01:18.352Z"
   },
   {
    "duration": 436,
    "start_time": "2022-03-05T13:01:19.337Z"
   },
   {
    "duration": 7,
    "start_time": "2022-03-05T13:01:21.159Z"
   },
   {
    "duration": 269,
    "start_time": "2022-03-05T13:01:26.654Z"
   },
   {
    "duration": 253,
    "start_time": "2022-03-05T13:01:48.017Z"
   },
   {
    "duration": 14,
    "start_time": "2022-03-05T13:03:17.643Z"
   },
   {
    "duration": 4,
    "start_time": "2022-03-05T13:03:25.305Z"
   },
   {
    "duration": 5,
    "start_time": "2022-03-05T13:03:26.627Z"
   },
   {
    "duration": 15,
    "start_time": "2022-03-05T13:03:28.370Z"
   },
   {
    "duration": 264,
    "start_time": "2022-03-05T13:03:32.252Z"
   },
   {
    "duration": 517,
    "start_time": "2022-03-05T13:08:00.261Z"
   },
   {
    "duration": 512,
    "start_time": "2022-03-05T13:10:18.361Z"
   },
   {
    "duration": 14,
    "start_time": "2022-03-05T13:11:20.735Z"
   },
   {
    "duration": 975,
    "start_time": "2022-03-05T13:11:21.523Z"
   },
   {
    "duration": 763,
    "start_time": "2022-03-05T13:11:21.737Z"
   },
   {
    "duration": 15,
    "start_time": "2022-03-05T13:11:23.893Z"
   },
   {
    "duration": 4,
    "start_time": "2022-03-05T13:12:08.797Z"
   },
   {
    "duration": 5,
    "start_time": "2022-03-05T13:12:11.486Z"
   },
   {
    "duration": 12,
    "start_time": "2022-03-05T13:12:34.336Z"
   },
   {
    "duration": 606,
    "start_time": "2022-03-05T13:12:41.605Z"
   },
   {
    "duration": 109,
    "start_time": "2022-03-05T13:14:04.128Z"
   },
   {
    "duration": 669,
    "start_time": "2022-03-05T13:14:32.813Z"
   },
   {
    "duration": 88,
    "start_time": "2022-03-05T13:23:28.656Z"
   },
   {
    "duration": 244,
    "start_time": "2022-03-05T13:23:41.486Z"
   },
   {
    "duration": 524,
    "start_time": "2022-03-05T13:24:29.975Z"
   },
   {
    "duration": 302,
    "start_time": "2022-03-05T13:24:50.042Z"
   },
   {
    "duration": 685,
    "start_time": "2022-03-05T14:13:34.331Z"
   },
   {
    "duration": 285,
    "start_time": "2022-03-05T14:13:52.047Z"
   },
   {
    "duration": 287,
    "start_time": "2022-03-05T14:14:34.041Z"
   },
   {
    "duration": 311,
    "start_time": "2022-03-05T14:14:42.054Z"
   },
   {
    "duration": 302,
    "start_time": "2022-03-05T14:14:55.882Z"
   },
   {
    "duration": 287,
    "start_time": "2022-03-05T14:15:11.786Z"
   },
   {
    "duration": 288,
    "start_time": "2022-03-05T14:15:21.409Z"
   },
   {
    "duration": 285,
    "start_time": "2022-03-05T14:15:40.698Z"
   },
   {
    "duration": 291,
    "start_time": "2022-03-05T14:15:54.369Z"
   },
   {
    "duration": 279,
    "start_time": "2022-03-05T14:16:07.351Z"
   },
   {
    "duration": 315,
    "start_time": "2022-03-05T14:16:23.317Z"
   },
   {
    "duration": 302,
    "start_time": "2022-03-05T14:16:29.432Z"
   },
   {
    "duration": 308,
    "start_time": "2022-03-05T14:16:38.330Z"
   },
   {
    "duration": 318,
    "start_time": "2022-03-05T14:16:47.503Z"
   },
   {
    "duration": 296,
    "start_time": "2022-03-05T14:16:56.545Z"
   },
   {
    "duration": 617,
    "start_time": "2022-03-05T14:17:02.768Z"
   },
   {
    "duration": 294,
    "start_time": "2022-03-05T14:17:08.145Z"
   },
   {
    "duration": 296,
    "start_time": "2022-03-05T14:17:15.413Z"
   },
   {
    "duration": 277,
    "start_time": "2022-03-05T14:17:29.702Z"
   },
   {
    "duration": 281,
    "start_time": "2022-03-05T14:45:12.912Z"
   },
   {
    "duration": 275,
    "start_time": "2022-03-05T14:45:23.407Z"
   },
   {
    "duration": 267,
    "start_time": "2022-03-05T14:45:50.455Z"
   },
   {
    "duration": 278,
    "start_time": "2022-03-05T14:46:03.192Z"
   },
   {
    "duration": 272,
    "start_time": "2022-03-05T14:46:10.449Z"
   },
   {
    "duration": 290,
    "start_time": "2022-03-05T14:46:33.623Z"
   },
   {
    "duration": 226,
    "start_time": "2022-03-05T14:46:54.477Z"
   },
   {
    "duration": 197,
    "start_time": "2022-03-05T14:47:30.834Z"
   },
   {
    "duration": 214,
    "start_time": "2022-03-05T14:48:42.586Z"
   },
   {
    "duration": 4,
    "start_time": "2022-03-05T14:51:10.727Z"
   },
   {
    "duration": 13,
    "start_time": "2022-03-05T14:51:33.975Z"
   },
   {
    "duration": 13,
    "start_time": "2022-03-05T14:54:47.933Z"
   },
   {
    "duration": 91,
    "start_time": "2022-03-05T15:41:56.277Z"
   },
   {
    "duration": 4,
    "start_time": "2022-03-05T15:42:27.627Z"
   },
   {
    "duration": 43,
    "start_time": "2022-03-05T15:42:29.783Z"
   },
   {
    "duration": 29,
    "start_time": "2022-03-05T15:42:34.598Z"
   },
   {
    "duration": 14,
    "start_time": "2022-03-05T15:42:46.536Z"
   },
   {
    "duration": 5,
    "start_time": "2022-03-05T15:42:50.633Z"
   },
   {
    "duration": 6,
    "start_time": "2022-03-05T15:42:52.919Z"
   },
   {
    "duration": 12,
    "start_time": "2022-03-05T15:42:55.794Z"
   },
   {
    "duration": 24,
    "start_time": "2022-03-05T15:42:58.377Z"
   },
   {
    "duration": 11,
    "start_time": "2022-03-05T15:43:03.009Z"
   },
   {
    "duration": 13,
    "start_time": "2022-03-05T15:43:14.662Z"
   },
   {
    "duration": 5,
    "start_time": "2022-03-05T15:43:44.172Z"
   },
   {
    "duration": 7,
    "start_time": "2022-03-05T15:43:49.267Z"
   },
   {
    "duration": 5,
    "start_time": "2022-03-05T15:43:53.172Z"
   },
   {
    "duration": 12,
    "start_time": "2022-03-05T15:43:56.474Z"
   },
   {
    "duration": 14,
    "start_time": "2022-03-05T15:43:59.862Z"
   },
   {
    "duration": 7,
    "start_time": "2022-03-05T15:44:09.106Z"
   },
   {
    "duration": 24,
    "start_time": "2022-03-05T15:44:21.446Z"
   },
   {
    "duration": 30,
    "start_time": "2022-03-05T15:44:29.811Z"
   },
   {
    "duration": 461,
    "start_time": "2022-03-05T15:44:39.886Z"
   },
   {
    "duration": 28,
    "start_time": "2022-03-05T15:45:19.098Z"
   },
   {
    "duration": 38,
    "start_time": "2022-03-05T15:45:38.194Z"
   },
   {
    "duration": 10,
    "start_time": "2022-03-05T15:45:44.729Z"
   },
   {
    "duration": 9,
    "start_time": "2022-03-05T15:45:56.296Z"
   },
   {
    "duration": 21,
    "start_time": "2022-03-05T15:46:10.602Z"
   },
   {
    "duration": 22,
    "start_time": "2022-03-05T15:46:19.467Z"
   },
   {
    "duration": 6,
    "start_time": "2022-03-05T15:46:27.407Z"
   },
   {
    "duration": 26,
    "start_time": "2022-03-05T15:46:37.477Z"
   },
   {
    "duration": 32,
    "start_time": "2022-03-05T15:46:51.432Z"
   },
   {
    "duration": 760,
    "start_time": "2022-03-05T15:47:09.142Z"
   },
   {
    "duration": 516,
    "start_time": "2022-03-05T15:47:29.101Z"
   },
   {
    "duration": 230,
    "start_time": "2022-03-05T15:48:47.682Z"
   },
   {
    "duration": 297,
    "start_time": "2022-03-05T15:48:56.122Z"
   },
   {
    "duration": 447,
    "start_time": "2022-03-05T15:49:37.060Z"
   },
   {
    "duration": 7,
    "start_time": "2022-03-05T15:49:42.910Z"
   },
   {
    "duration": 422,
    "start_time": "2022-03-05T15:49:44.096Z"
   },
   {
    "duration": 8,
    "start_time": "2022-03-05T15:49:48.509Z"
   },
   {
    "duration": 58,
    "start_time": "2022-03-05T15:49:57.564Z"
   },
   {
    "duration": 450,
    "start_time": "2022-03-05T15:50:10.067Z"
   },
   {
    "duration": 7,
    "start_time": "2022-03-05T15:50:13.506Z"
   },
   {
    "duration": 435,
    "start_time": "2022-03-05T15:50:16.700Z"
   },
   {
    "duration": 7,
    "start_time": "2022-03-05T15:50:19.423Z"
   },
   {
    "duration": 36,
    "start_time": "2022-03-05T15:50:22.453Z"
   },
   {
    "duration": 392,
    "start_time": "2022-03-05T15:50:31.293Z"
   },
   {
    "duration": 7,
    "start_time": "2022-03-05T15:50:36.738Z"
   },
   {
    "duration": 523,
    "start_time": "2022-03-05T15:50:39.988Z"
   },
   {
    "duration": 7,
    "start_time": "2022-03-05T15:50:45.949Z"
   },
   {
    "duration": 42,
    "start_time": "2022-03-05T15:50:50.699Z"
   },
   {
    "duration": 435,
    "start_time": "2022-03-05T15:50:57.062Z"
   },
   {
    "duration": 6,
    "start_time": "2022-03-05T15:51:00.254Z"
   },
   {
    "duration": 449,
    "start_time": "2022-03-05T15:51:03.231Z"
   },
   {
    "duration": 7,
    "start_time": "2022-03-05T15:51:06.794Z"
   },
   {
    "duration": 59,
    "start_time": "2022-03-05T15:51:10.569Z"
   },
   {
    "duration": 436,
    "start_time": "2022-03-05T15:51:18.831Z"
   },
   {
    "duration": 6,
    "start_time": "2022-03-05T15:51:24.429Z"
   },
   {
    "duration": 442,
    "start_time": "2022-03-05T15:51:30.344Z"
   },
   {
    "duration": 7,
    "start_time": "2022-03-05T15:51:35.097Z"
   },
   {
    "duration": 45,
    "start_time": "2022-03-05T15:51:40.117Z"
   },
   {
    "duration": 414,
    "start_time": "2022-03-05T15:51:42.810Z"
   },
   {
    "duration": 7,
    "start_time": "2022-03-05T15:51:50.550Z"
   },
   {
    "duration": 417,
    "start_time": "2022-03-05T15:51:52.982Z"
   },
   {
    "duration": 8,
    "start_time": "2022-03-05T15:51:56.886Z"
   },
   {
    "duration": 15,
    "start_time": "2022-03-05T15:52:13.673Z"
   },
   {
    "duration": 4,
    "start_time": "2022-03-05T15:52:15.947Z"
   },
   {
    "duration": 5,
    "start_time": "2022-03-05T15:52:17.290Z"
   },
   {
    "duration": 12,
    "start_time": "2022-03-05T15:52:19.593Z"
   },
   {
    "duration": 12,
    "start_time": "2022-03-05T15:52:29.236Z"
   },
   {
    "duration": 12,
    "start_time": "2022-03-05T15:52:32.081Z"
   },
   {
    "duration": 232,
    "start_time": "2022-03-05T15:52:40.971Z"
   },
   {
    "duration": 208,
    "start_time": "2022-03-05T15:52:45.608Z"
   },
   {
    "duration": 233,
    "start_time": "2022-03-05T15:52:48.656Z"
   },
   {
    "duration": 23,
    "start_time": "2022-03-05T15:54:02.598Z"
   },
   {
    "duration": 23,
    "start_time": "2022-03-05T15:54:05.080Z"
   },
   {
    "duration": 254,
    "start_time": "2022-03-05T15:54:07.012Z"
   },
   {
    "duration": 277,
    "start_time": "2022-03-05T15:54:16.786Z"
   },
   {
    "duration": 17,
    "start_time": "2022-03-05T15:54:26.101Z"
   },
   {
    "duration": 15,
    "start_time": "2022-03-05T15:54:31.350Z"
   },
   {
    "duration": 252,
    "start_time": "2022-03-05T15:54:42.822Z"
   },
   {
    "duration": 261,
    "start_time": "2022-03-05T15:59:25.910Z"
   },
   {
    "duration": 252,
    "start_time": "2022-03-05T16:08:08.804Z"
   },
   {
    "duration": 383,
    "start_time": "2022-03-05T16:09:10.415Z"
   },
   {
    "duration": 238,
    "start_time": "2022-03-05T16:14:18.214Z"
   },
   {
    "duration": 15,
    "start_time": "2022-03-05T16:14:38.719Z"
   },
   {
    "duration": 234,
    "start_time": "2022-03-05T16:16:41.163Z"
   },
   {
    "duration": 251,
    "start_time": "2022-03-05T16:16:58.090Z"
   },
   {
    "duration": 9,
    "start_time": "2022-03-05T16:19:19.288Z"
   },
   {
    "duration": 8,
    "start_time": "2022-03-05T16:19:26.510Z"
   },
   {
    "duration": 16,
    "start_time": "2022-03-05T16:19:32.606Z"
   },
   {
    "duration": 16,
    "start_time": "2022-03-05T16:19:34.751Z"
   },
   {
    "duration": 7,
    "start_time": "2022-03-05T16:19:36.829Z"
   },
   {
    "duration": 8,
    "start_time": "2022-03-05T16:19:40.573Z"
   },
   {
    "duration": 8,
    "start_time": "2022-03-05T16:20:15.729Z"
   },
   {
    "duration": 253,
    "start_time": "2022-03-05T16:21:10.841Z"
   },
   {
    "duration": 8,
    "start_time": "2022-03-05T16:21:54.769Z"
   },
   {
    "duration": 8,
    "start_time": "2022-03-05T16:22:26.759Z"
   },
   {
    "duration": 20,
    "start_time": "2022-03-05T16:23:03.609Z"
   },
   {
    "duration": 445,
    "start_time": "2022-03-05T16:23:06.344Z"
   },
   {
    "duration": 26,
    "start_time": "2022-03-05T16:23:15.006Z"
   },
   {
    "duration": 37,
    "start_time": "2022-03-05T16:23:16.423Z"
   },
   {
    "duration": 9,
    "start_time": "2022-03-05T16:23:19.078Z"
   },
   {
    "duration": 8,
    "start_time": "2022-03-05T16:23:20.640Z"
   },
   {
    "duration": 20,
    "start_time": "2022-03-05T16:23:26.927Z"
   },
   {
    "duration": 7,
    "start_time": "2022-03-05T16:23:28.150Z"
   },
   {
    "duration": 25,
    "start_time": "2022-03-05T16:23:30.810Z"
   },
   {
    "duration": 31,
    "start_time": "2022-03-05T16:23:38.977Z"
   },
   {
    "duration": 660,
    "start_time": "2022-03-05T16:23:50.843Z"
   },
   {
    "duration": 610,
    "start_time": "2022-03-05T16:23:57.826Z"
   },
   {
    "duration": 228,
    "start_time": "2022-03-05T16:24:09.969Z"
   },
   {
    "duration": 297,
    "start_time": "2022-03-05T16:24:15.694Z"
   },
   {
    "duration": 476,
    "start_time": "2022-03-05T16:24:24.137Z"
   },
   {
    "duration": 7,
    "start_time": "2022-03-05T16:24:28.627Z"
   },
   {
    "duration": 416,
    "start_time": "2022-03-05T16:24:29.521Z"
   },
   {
    "duration": 7,
    "start_time": "2022-03-05T16:24:31.148Z"
   },
   {
    "duration": 36,
    "start_time": "2022-03-05T16:24:34.714Z"
   },
   {
    "duration": 439,
    "start_time": "2022-03-05T16:24:36.673Z"
   },
   {
    "duration": 7,
    "start_time": "2022-03-05T16:24:38.256Z"
   },
   {
    "duration": 445,
    "start_time": "2022-03-05T16:24:40.032Z"
   },
   {
    "duration": 7,
    "start_time": "2022-03-05T16:24:41.712Z"
   },
   {
    "duration": 34,
    "start_time": "2022-03-05T16:24:42.649Z"
   },
   {
    "duration": 434,
    "start_time": "2022-03-05T16:24:44.028Z"
   },
   {
    "duration": 8,
    "start_time": "2022-03-05T16:24:45.758Z"
   },
   {
    "duration": 413,
    "start_time": "2022-03-05T16:24:46.819Z"
   },
   {
    "duration": 6,
    "start_time": "2022-03-05T16:24:48.296Z"
   },
   {
    "duration": 41,
    "start_time": "2022-03-05T16:24:50.293Z"
   },
   {
    "duration": 554,
    "start_time": "2022-03-05T16:24:51.374Z"
   },
   {
    "duration": 7,
    "start_time": "2022-03-05T16:24:52.487Z"
   },
   {
    "duration": 444,
    "start_time": "2022-03-05T16:24:53.763Z"
   },
   {
    "duration": 8,
    "start_time": "2022-03-05T16:24:54.770Z"
   },
   {
    "duration": 37,
    "start_time": "2022-03-05T16:24:55.802Z"
   },
   {
    "duration": 439,
    "start_time": "2022-03-05T16:24:57.440Z"
   },
   {
    "duration": 7,
    "start_time": "2022-03-05T16:25:00.922Z"
   },
   {
    "duration": 433,
    "start_time": "2022-03-05T16:25:02.033Z"
   },
   {
    "duration": 7,
    "start_time": "2022-03-05T16:25:03.376Z"
   },
   {
    "duration": 49,
    "start_time": "2022-03-05T16:25:04.952Z"
   },
   {
    "duration": 545,
    "start_time": "2022-03-05T16:25:06.121Z"
   },
   {
    "duration": 7,
    "start_time": "2022-03-05T16:25:07.905Z"
   },
   {
    "duration": 459,
    "start_time": "2022-03-05T16:25:09.656Z"
   },
   {
    "duration": 7,
    "start_time": "2022-03-05T16:25:11.989Z"
   },
   {
    "duration": 14,
    "start_time": "2022-03-05T16:25:21.866Z"
   },
   {
    "duration": 4,
    "start_time": "2022-03-05T16:25:22.762Z"
   },
   {
    "duration": 5,
    "start_time": "2022-03-05T16:25:23.721Z"
   },
   {
    "duration": 12,
    "start_time": "2022-03-05T16:25:25.499Z"
   },
   {
    "duration": 14,
    "start_time": "2022-03-05T16:25:28.751Z"
   },
   {
    "duration": 14,
    "start_time": "2022-03-05T16:25:32.419Z"
   },
   {
    "duration": 212,
    "start_time": "2022-03-05T16:25:37.802Z"
   },
   {
    "duration": 217,
    "start_time": "2022-03-05T16:25:39.993Z"
   },
   {
    "duration": 217,
    "start_time": "2022-03-05T16:25:42.122Z"
   },
   {
    "duration": 16,
    "start_time": "2022-03-05T16:25:59.255Z"
   },
   {
    "duration": 18,
    "start_time": "2022-03-05T16:26:03.428Z"
   },
   {
    "duration": 9,
    "start_time": "2022-03-05T16:26:06.423Z"
   },
   {
    "duration": 7,
    "start_time": "2022-03-05T16:26:43.460Z"
   },
   {
    "duration": 7,
    "start_time": "2022-03-05T16:26:49.470Z"
   },
   {
    "duration": 17,
    "start_time": "2022-03-05T16:26:52.923Z"
   },
   {
    "duration": 17,
    "start_time": "2022-03-05T16:26:54.651Z"
   },
   {
    "duration": 8,
    "start_time": "2022-03-05T16:26:58.212Z"
   },
   {
    "duration": 17,
    "start_time": "2022-03-05T16:27:05.514Z"
   },
   {
    "duration": 16,
    "start_time": "2022-03-05T16:27:06.852Z"
   },
   {
    "duration": 7,
    "start_time": "2022-03-05T16:27:08.676Z"
   },
   {
    "duration": 16,
    "start_time": "2022-03-05T16:27:17.759Z"
   },
   {
    "duration": 16,
    "start_time": "2022-03-05T16:27:19.282Z"
   },
   {
    "duration": 9,
    "start_time": "2022-03-05T16:27:27.697Z"
   },
   {
    "duration": 8,
    "start_time": "2022-03-05T16:27:50.606Z"
   },
   {
    "duration": 4,
    "start_time": "2022-03-05T16:27:57.489Z"
   },
   {
    "duration": 13,
    "start_time": "2022-03-05T16:27:58.345Z"
   },
   {
    "duration": 7,
    "start_time": "2022-03-05T16:28:00.498Z"
   },
   {
    "duration": 4,
    "start_time": "2022-03-05T16:29:21.474Z"
   },
   {
    "duration": 16,
    "start_time": "2022-03-05T16:29:23.539Z"
   },
   {
    "duration": 8,
    "start_time": "2022-03-05T16:29:28.290Z"
   },
   {
    "duration": 3,
    "start_time": "2022-03-05T16:35:40.075Z"
   },
   {
    "duration": 3,
    "start_time": "2022-03-05T16:35:40.724Z"
   },
   {
    "duration": 4,
    "start_time": "2022-03-05T16:35:41.341Z"
   },
   {
    "duration": 5,
    "start_time": "2022-03-05T16:35:41.988Z"
   },
   {
    "duration": 4,
    "start_time": "2022-03-05T16:35:42.638Z"
   },
   {
    "duration": 43,
    "start_time": "2022-03-05T16:35:44.348Z"
   },
   {
    "duration": 32,
    "start_time": "2022-03-05T16:35:45.410Z"
   },
   {
    "duration": 14,
    "start_time": "2022-03-05T16:35:48.965Z"
   },
   {
    "duration": 4,
    "start_time": "2022-03-05T16:35:49.930Z"
   },
   {
    "duration": 5,
    "start_time": "2022-03-05T16:35:51.651Z"
   },
   {
    "duration": 12,
    "start_time": "2022-03-05T16:35:52.519Z"
   },
   {
    "duration": 24,
    "start_time": "2022-03-05T16:35:53.477Z"
   },
   {
    "duration": 12,
    "start_time": "2022-03-05T16:35:55.162Z"
   },
   {
    "duration": 12,
    "start_time": "2022-03-05T16:35:57.426Z"
   },
   {
    "duration": 5,
    "start_time": "2022-03-05T16:35:59.587Z"
   },
   {
    "duration": 6,
    "start_time": "2022-03-05T16:36:00.309Z"
   },
   {
    "duration": 6,
    "start_time": "2022-03-05T16:36:01.742Z"
   },
   {
    "duration": 14,
    "start_time": "2022-03-05T16:36:02.493Z"
   },
   {
    "duration": 13,
    "start_time": "2022-03-05T16:36:03.213Z"
   },
   {
    "duration": 7,
    "start_time": "2022-03-05T16:36:06.266Z"
   },
   {
    "duration": 24,
    "start_time": "2022-03-05T16:36:07.651Z"
   },
   {
    "duration": 21,
    "start_time": "2022-03-05T16:36:10.283Z"
   },
   {
    "duration": 439,
    "start_time": "2022-03-05T16:36:11.919Z"
   },
   {
    "duration": 28,
    "start_time": "2022-03-05T16:36:16.882Z"
   },
   {
    "duration": 36,
    "start_time": "2022-03-05T16:36:17.806Z"
   },
   {
    "duration": 10,
    "start_time": "2022-03-05T16:36:20.058Z"
   },
   {
    "duration": 9,
    "start_time": "2022-03-05T16:36:20.796Z"
   },
   {
    "duration": 20,
    "start_time": "2022-03-05T16:36:22.413Z"
   },
   {
    "duration": 6,
    "start_time": "2022-03-05T16:36:23.383Z"
   },
   {
    "duration": 25,
    "start_time": "2022-03-05T16:36:24.305Z"
   },
   {
    "duration": 34,
    "start_time": "2022-03-05T16:36:25.112Z"
   },
   {
    "duration": 675,
    "start_time": "2022-03-05T16:36:29.039Z"
   },
   {
    "duration": 353,
    "start_time": "2022-03-05T16:36:30.292Z"
   },
   {
    "duration": 227,
    "start_time": "2022-03-05T16:36:33.918Z"
   },
   {
    "duration": 487,
    "start_time": "2022-03-05T16:36:36.004Z"
   },
   {
    "duration": 474,
    "start_time": "2022-03-05T16:36:39.739Z"
   },
   {
    "duration": 7,
    "start_time": "2022-03-05T16:36:40.572Z"
   },
   {
    "duration": 452,
    "start_time": "2022-03-05T16:36:41.477Z"
   },
   {
    "duration": 13,
    "start_time": "2022-03-05T16:36:42.293Z"
   },
   {
    "duration": 37,
    "start_time": "2022-03-05T16:36:44.720Z"
   },
   {
    "duration": 436,
    "start_time": "2022-03-05T16:36:46.718Z"
   },
   {
    "duration": 7,
    "start_time": "2022-03-05T16:36:47.491Z"
   },
   {
    "duration": 425,
    "start_time": "2022-03-05T16:36:48.373Z"
   },
   {
    "duration": 7,
    "start_time": "2022-03-05T16:36:49.156Z"
   },
   {
    "duration": 35,
    "start_time": "2022-03-05T16:36:49.894Z"
   },
   {
    "duration": 421,
    "start_time": "2022-03-05T16:36:51.429Z"
   },
   {
    "duration": 8,
    "start_time": "2022-03-05T16:36:52.260Z"
   },
   {
    "duration": 440,
    "start_time": "2022-03-05T16:36:53.117Z"
   },
   {
    "duration": 7,
    "start_time": "2022-03-05T16:36:53.878Z"
   },
   {
    "duration": 39,
    "start_time": "2022-03-05T16:36:54.719Z"
   },
   {
    "duration": 408,
    "start_time": "2022-03-05T16:36:55.908Z"
   },
   {
    "duration": 7,
    "start_time": "2022-03-05T16:36:56.812Z"
   },
   {
    "duration": 560,
    "start_time": "2022-03-05T16:36:57.727Z"
   },
   {
    "duration": 9,
    "start_time": "2022-03-05T16:36:59.438Z"
   },
   {
    "duration": 39,
    "start_time": "2022-03-05T16:37:00.303Z"
   },
   {
    "duration": 458,
    "start_time": "2022-03-05T16:37:01.853Z"
   },
   {
    "duration": 7,
    "start_time": "2022-03-05T16:37:03.278Z"
   },
   {
    "duration": 460,
    "start_time": "2022-03-05T16:37:04.527Z"
   },
   {
    "duration": 6,
    "start_time": "2022-03-05T16:37:07.837Z"
   },
   {
    "duration": 47,
    "start_time": "2022-03-05T16:37:08.808Z"
   },
   {
    "duration": 472,
    "start_time": "2022-03-05T16:37:09.781Z"
   },
   {
    "duration": 7,
    "start_time": "2022-03-05T16:37:11.234Z"
   },
   {
    "duration": 404,
    "start_time": "2022-03-05T16:37:12.093Z"
   },
   {
    "duration": 7,
    "start_time": "2022-03-05T16:37:13.541Z"
   },
   {
    "duration": 15,
    "start_time": "2022-03-05T16:37:22.059Z"
   },
   {
    "duration": 5,
    "start_time": "2022-03-05T16:37:23.292Z"
   },
   {
    "duration": 5,
    "start_time": "2022-03-05T16:37:24.198Z"
   },
   {
    "duration": 12,
    "start_time": "2022-03-05T16:37:25.918Z"
   },
   {
    "duration": 13,
    "start_time": "2022-03-05T16:37:26.806Z"
   },
   {
    "duration": 13,
    "start_time": "2022-03-05T16:37:27.789Z"
   },
   {
    "duration": 221,
    "start_time": "2022-03-05T16:37:30.413Z"
   },
   {
    "duration": 213,
    "start_time": "2022-03-05T16:37:32.328Z"
   },
   {
    "duration": 231,
    "start_time": "2022-03-05T16:37:33.437Z"
   },
   {
    "duration": 15,
    "start_time": "2022-03-05T16:37:43.285Z"
   },
   {
    "duration": 16,
    "start_time": "2022-03-05T16:37:47.085Z"
   },
   {
    "duration": 7,
    "start_time": "2022-03-05T16:37:48.943Z"
   },
   {
    "duration": 15,
    "start_time": "2022-03-05T16:37:52.863Z"
   },
   {
    "duration": 16,
    "start_time": "2022-03-05T16:37:54.129Z"
   },
   {
    "duration": 7,
    "start_time": "2022-03-05T16:37:56.094Z"
   },
   {
    "duration": 17,
    "start_time": "2022-03-05T16:37:59.311Z"
   },
   {
    "duration": 17,
    "start_time": "2022-03-05T16:38:00.886Z"
   },
   {
    "duration": 9,
    "start_time": "2022-03-05T16:38:02.318Z"
   },
   {
    "duration": 19,
    "start_time": "2022-03-05T16:38:06.828Z"
   },
   {
    "duration": 16,
    "start_time": "2022-03-05T16:38:08.310Z"
   },
   {
    "duration": 8,
    "start_time": "2022-03-05T16:38:10.973Z"
   },
   {
    "duration": 8,
    "start_time": "2022-03-05T16:38:47.158Z"
   },
   {
    "duration": 3,
    "start_time": "2022-03-05T16:38:56.727Z"
   },
   {
    "duration": 15,
    "start_time": "2022-03-05T16:38:57.413Z"
   },
   {
    "duration": 7,
    "start_time": "2022-03-05T16:38:58.133Z"
   },
   {
    "duration": 4,
    "start_time": "2022-03-05T16:39:01.564Z"
   },
   {
    "duration": 16,
    "start_time": "2022-03-05T16:39:02.161Z"
   },
   {
    "duration": 7,
    "start_time": "2022-03-05T16:39:02.591Z"
   },
   {
    "duration": 757,
    "start_time": "2022-03-05T20:26:48.187Z"
   },
   {
    "duration": 3,
    "start_time": "2022-03-05T20:26:48.947Z"
   },
   {
    "duration": 136,
    "start_time": "2022-03-05T20:26:48.957Z"
   },
   {
    "duration": 664,
    "start_time": "2022-03-05T20:26:49.095Z"
   },
   {
    "duration": 3,
    "start_time": "2022-03-05T20:26:49.762Z"
   },
   {
    "duration": 52,
    "start_time": "2022-03-05T20:26:49.767Z"
   },
   {
    "duration": 37,
    "start_time": "2022-03-05T20:26:49.823Z"
   },
   {
    "duration": 28,
    "start_time": "2022-03-05T20:26:49.864Z"
   },
   {
    "duration": 5,
    "start_time": "2022-03-05T20:26:49.894Z"
   },
   {
    "duration": 10,
    "start_time": "2022-03-05T20:26:49.901Z"
   },
   {
    "duration": 14,
    "start_time": "2022-03-05T20:26:49.914Z"
   },
   {
    "duration": 63,
    "start_time": "2022-03-05T20:26:49.930Z"
   },
   {
    "duration": 10,
    "start_time": "2022-03-05T20:26:49.996Z"
   },
   {
    "duration": 14,
    "start_time": "2022-03-05T20:26:50.009Z"
   },
   {
    "duration": 7,
    "start_time": "2022-03-05T20:26:50.026Z"
   },
   {
    "duration": 8,
    "start_time": "2022-03-05T20:26:50.036Z"
   },
   {
    "duration": 39,
    "start_time": "2022-03-05T20:26:50.046Z"
   },
   {
    "duration": 17,
    "start_time": "2022-03-05T20:26:50.087Z"
   },
   {
    "duration": 13,
    "start_time": "2022-03-05T20:26:50.107Z"
   },
   {
    "duration": 11,
    "start_time": "2022-03-05T20:26:50.122Z"
   },
   {
    "duration": 53,
    "start_time": "2022-03-05T20:26:50.135Z"
   },
   {
    "duration": 20,
    "start_time": "2022-03-05T20:26:50.195Z"
   },
   {
    "duration": 468,
    "start_time": "2022-03-05T20:26:50.219Z"
   },
   {
    "duration": 25,
    "start_time": "2022-03-05T20:26:50.690Z"
   },
   {
    "duration": 63,
    "start_time": "2022-03-05T20:26:50.718Z"
   },
   {
    "duration": 11,
    "start_time": "2022-03-05T20:26:50.784Z"
   },
   {
    "duration": 11,
    "start_time": "2022-03-05T20:26:50.797Z"
   },
   {
    "duration": 21,
    "start_time": "2022-03-05T20:26:50.811Z"
   },
   {
    "duration": 47,
    "start_time": "2022-03-05T20:26:50.835Z"
   },
   {
    "duration": 24,
    "start_time": "2022-03-05T20:26:50.885Z"
   },
   {
    "duration": 30,
    "start_time": "2022-03-05T20:26:50.911Z"
   },
   {
    "duration": 688,
    "start_time": "2022-03-05T20:26:50.943Z"
   },
   {
    "duration": 361,
    "start_time": "2022-03-05T20:26:51.635Z"
   },
   {
    "duration": 243,
    "start_time": "2022-03-05T20:26:51.998Z"
   },
   {
    "duration": 319,
    "start_time": "2022-03-05T20:26:52.243Z"
   },
   {
    "duration": 437,
    "start_time": "2022-03-05T20:26:52.564Z"
   },
   {
    "duration": 7,
    "start_time": "2022-03-05T20:26:53.004Z"
   },
   {
    "duration": 482,
    "start_time": "2022-03-05T20:26:53.013Z"
   },
   {
    "duration": 6,
    "start_time": "2022-03-05T20:26:53.498Z"
   },
   {
    "duration": 37,
    "start_time": "2022-03-05T20:26:53.507Z"
   },
   {
    "duration": 542,
    "start_time": "2022-03-05T20:26:53.547Z"
   },
   {
    "duration": 6,
    "start_time": "2022-03-05T20:26:54.091Z"
   },
   {
    "duration": 430,
    "start_time": "2022-03-05T20:26:54.101Z"
   },
   {
    "duration": 6,
    "start_time": "2022-03-05T20:26:54.534Z"
   },
   {
    "duration": 57,
    "start_time": "2022-03-05T20:26:54.543Z"
   },
   {
    "duration": 397,
    "start_time": "2022-03-05T20:26:54.602Z"
   },
   {
    "duration": 6,
    "start_time": "2022-03-05T20:26:55.001Z"
   },
   {
    "duration": 406,
    "start_time": "2022-03-05T20:26:55.010Z"
   },
   {
    "duration": 6,
    "start_time": "2022-03-05T20:26:55.419Z"
   },
   {
    "duration": 58,
    "start_time": "2022-03-05T20:26:55.427Z"
   },
   {
    "duration": 425,
    "start_time": "2022-03-05T20:26:55.487Z"
   },
   {
    "duration": 7,
    "start_time": "2022-03-05T20:26:55.914Z"
   },
   {
    "duration": 409,
    "start_time": "2022-03-05T20:26:55.923Z"
   },
   {
    "duration": 7,
    "start_time": "2022-03-05T20:26:56.335Z"
   },
   {
    "duration": 62,
    "start_time": "2022-03-05T20:26:56.345Z"
   },
   {
    "duration": 415,
    "start_time": "2022-03-05T20:26:56.410Z"
   },
   {
    "duration": 7,
    "start_time": "2022-03-05T20:26:56.827Z"
   },
   {
    "duration": 576,
    "start_time": "2022-03-05T20:26:56.837Z"
   },
   {
    "duration": 6,
    "start_time": "2022-03-05T20:26:57.416Z"
   },
   {
    "duration": 74,
    "start_time": "2022-03-05T20:26:57.425Z"
   },
   {
    "duration": 401,
    "start_time": "2022-03-05T20:26:57.502Z"
   },
   {
    "duration": 6,
    "start_time": "2022-03-05T20:26:57.906Z"
   },
   {
    "duration": 433,
    "start_time": "2022-03-05T20:26:57.915Z"
   },
   {
    "duration": 7,
    "start_time": "2022-03-05T20:26:58.350Z"
   },
   {
    "duration": 31,
    "start_time": "2022-03-05T20:26:58.359Z"
   },
   {
    "duration": 3,
    "start_time": "2022-03-05T20:26:58.393Z"
   },
   {
    "duration": 5,
    "start_time": "2022-03-05T20:26:58.405Z"
   },
   {
    "duration": 13,
    "start_time": "2022-03-05T20:26:58.413Z"
   },
   {
    "duration": 12,
    "start_time": "2022-03-05T20:26:58.428Z"
   },
   {
    "duration": 13,
    "start_time": "2022-03-05T20:26:58.482Z"
   },
   {
    "duration": 235,
    "start_time": "2022-03-05T20:26:58.498Z"
   },
   {
    "duration": 312,
    "start_time": "2022-03-05T20:26:58.736Z"
   },
   {
    "duration": 227,
    "start_time": "2022-03-05T20:26:59.051Z"
   },
   {
    "duration": 16,
    "start_time": "2022-03-05T20:26:59.282Z"
   },
   {
    "duration": 15,
    "start_time": "2022-03-05T20:26:59.300Z"
   },
   {
    "duration": 362,
    "start_time": "2022-03-05T20:26:59.318Z"
   },
   {
    "duration": 325,
    "start_time": "2022-03-05T20:26:59.357Z"
   },
   {
    "duration": 318,
    "start_time": "2022-03-05T20:26:59.366Z"
   },
   {
    "duration": 304,
    "start_time": "2022-03-05T20:26:59.381Z"
   },
   {
    "duration": 298,
    "start_time": "2022-03-05T20:26:59.389Z"
   },
   {
    "duration": 293,
    "start_time": "2022-03-05T20:26:59.396Z"
   },
   {
    "duration": 285,
    "start_time": "2022-03-05T20:26:59.405Z"
   },
   {
    "duration": 280,
    "start_time": "2022-03-05T20:26:59.411Z"
   },
   {
    "duration": 272,
    "start_time": "2022-03-05T20:26:59.420Z"
   },
   {
    "duration": 266,
    "start_time": "2022-03-05T20:26:59.427Z"
   },
   {
    "duration": 260,
    "start_time": "2022-03-05T20:26:59.435Z"
   },
   {
    "duration": 254,
    "start_time": "2022-03-05T20:26:59.442Z"
   },
   {
    "duration": 248,
    "start_time": "2022-03-05T20:26:59.449Z"
   },
   {
    "duration": 242,
    "start_time": "2022-03-05T20:26:59.456Z"
   },
   {
    "duration": 235,
    "start_time": "2022-03-05T20:26:59.464Z"
   },
   {
    "duration": 231,
    "start_time": "2022-03-05T20:26:59.470Z"
   },
   {
    "duration": 225,
    "start_time": "2022-03-05T20:26:59.477Z"
   },
   {
    "duration": 8,
    "start_time": "2022-03-05T20:27:53.711Z"
   },
   {
    "duration": 295,
    "start_time": "2022-03-06T02:24:42.427Z"
   },
   {
    "duration": 232,
    "start_time": "2022-03-06T02:24:52.199Z"
   },
   {
    "duration": 246,
    "start_time": "2022-03-06T02:25:07.766Z"
   },
   {
    "duration": 233,
    "start_time": "2022-03-06T02:34:45.963Z"
   },
   {
    "duration": 225,
    "start_time": "2022-03-06T02:35:14.408Z"
   },
   {
    "duration": 726,
    "start_time": "2022-03-06T02:37:26.017Z"
   },
   {
    "duration": 6,
    "start_time": "2022-03-06T02:37:26.745Z"
   },
   {
    "duration": 114,
    "start_time": "2022-03-06T02:37:26.937Z"
   },
   {
    "duration": 602,
    "start_time": "2022-03-06T02:37:27.393Z"
   },
   {
    "duration": 4,
    "start_time": "2022-03-06T02:37:27.998Z"
   },
   {
    "duration": 47,
    "start_time": "2022-03-06T02:37:28.591Z"
   },
   {
    "duration": 35,
    "start_time": "2022-03-06T02:37:29.428Z"
   },
   {
    "duration": 17,
    "start_time": "2022-03-06T02:37:31.815Z"
   },
   {
    "duration": 4,
    "start_time": "2022-03-06T02:37:32.541Z"
   },
   {
    "duration": 6,
    "start_time": "2022-03-06T02:37:33.728Z"
   },
   {
    "duration": 13,
    "start_time": "2022-03-06T02:37:34.224Z"
   },
   {
    "duration": 26,
    "start_time": "2022-03-06T02:37:34.938Z"
   },
   {
    "duration": 11,
    "start_time": "2022-03-06T02:37:36.318Z"
   },
   {
    "duration": 12,
    "start_time": "2022-03-06T02:37:37.968Z"
   },
   {
    "duration": 6,
    "start_time": "2022-03-06T02:37:39.515Z"
   },
   {
    "duration": 6,
    "start_time": "2022-03-06T02:37:40.016Z"
   },
   {
    "duration": 6,
    "start_time": "2022-03-06T02:37:41.171Z"
   },
   {
    "duration": 15,
    "start_time": "2022-03-06T02:37:47.375Z"
   },
   {
    "duration": 13,
    "start_time": "2022-03-06T02:37:48.151Z"
   },
   {
    "duration": 7,
    "start_time": "2022-03-06T02:37:50.700Z"
   },
   {
    "duration": 24,
    "start_time": "2022-03-06T02:37:51.783Z"
   },
   {
    "duration": 20,
    "start_time": "2022-03-06T02:37:53.381Z"
   },
   {
    "duration": 418,
    "start_time": "2022-03-06T02:37:54.516Z"
   },
   {
    "duration": 30,
    "start_time": "2022-03-06T02:37:58.182Z"
   },
   {
    "duration": 36,
    "start_time": "2022-03-06T02:37:58.880Z"
   },
   {
    "duration": 13,
    "start_time": "2022-03-06T02:38:00.132Z"
   },
   {
    "duration": 8,
    "start_time": "2022-03-06T02:38:00.799Z"
   },
   {
    "duration": 20,
    "start_time": "2022-03-06T02:38:02.118Z"
   },
   {
    "duration": 6,
    "start_time": "2022-03-06T02:38:02.770Z"
   },
   {
    "duration": 24,
    "start_time": "2022-03-06T02:38:03.495Z"
   },
   {
    "duration": 29,
    "start_time": "2022-03-06T02:38:04.191Z"
   },
   {
    "duration": 643,
    "start_time": "2022-03-06T02:38:06.853Z"
   },
   {
    "duration": 330,
    "start_time": "2022-03-06T02:38:07.787Z"
   },
   {
    "duration": 213,
    "start_time": "2022-03-06T02:38:10.395Z"
   },
   {
    "duration": 275,
    "start_time": "2022-03-06T02:38:11.789Z"
   },
   {
    "duration": 437,
    "start_time": "2022-03-06T02:38:14.821Z"
   },
   {
    "duration": 7,
    "start_time": "2022-03-06T02:38:15.543Z"
   },
   {
    "duration": 448,
    "start_time": "2022-03-06T02:38:32.021Z"
   },
   {
    "duration": 7,
    "start_time": "2022-03-06T02:38:32.951Z"
   },
   {
    "duration": 36,
    "start_time": "2022-03-06T02:38:35.158Z"
   },
   {
    "duration": 511,
    "start_time": "2022-03-06T02:38:36.478Z"
   },
   {
    "duration": 7,
    "start_time": "2022-03-06T02:38:37.138Z"
   },
   {
    "duration": 415,
    "start_time": "2022-03-06T02:38:38.047Z"
   },
   {
    "duration": 7,
    "start_time": "2022-03-06T02:38:38.720Z"
   },
   {
    "duration": 33,
    "start_time": "2022-03-06T02:38:39.689Z"
   },
   {
    "duration": 384,
    "start_time": "2022-03-06T02:38:40.494Z"
   },
   {
    "duration": 7,
    "start_time": "2022-03-06T02:38:41.366Z"
   },
   {
    "duration": 385,
    "start_time": "2022-03-06T02:38:42.056Z"
   },
   {
    "duration": 6,
    "start_time": "2022-03-06T02:38:42.951Z"
   },
   {
    "duration": 37,
    "start_time": "2022-03-06T02:38:43.776Z"
   },
   {
    "duration": 385,
    "start_time": "2022-03-06T02:38:44.762Z"
   },
   {
    "duration": 7,
    "start_time": "2022-03-06T02:38:46.683Z"
   },
   {
    "duration": 396,
    "start_time": "2022-03-06T02:38:47.590Z"
   },
   {
    "duration": 7,
    "start_time": "2022-03-06T02:38:48.945Z"
   },
   {
    "duration": 34,
    "start_time": "2022-03-06T02:38:49.960Z"
   },
   {
    "duration": 441,
    "start_time": "2022-03-06T02:38:51.435Z"
   },
   {
    "duration": 6,
    "start_time": "2022-03-06T02:38:52.706Z"
   },
   {
    "duration": 379,
    "start_time": "2022-03-06T02:38:53.779Z"
   },
   {
    "duration": 6,
    "start_time": "2022-03-06T02:38:54.797Z"
   },
   {
    "duration": 42,
    "start_time": "2022-03-06T02:38:55.946Z"
   },
   {
    "duration": 423,
    "start_time": "2022-03-06T02:38:56.859Z"
   },
   {
    "duration": 7,
    "start_time": "2022-03-06T02:38:58.500Z"
   },
   {
    "duration": 432,
    "start_time": "2022-03-06T02:38:59.836Z"
   },
   {
    "duration": 7,
    "start_time": "2022-03-06T02:39:01.216Z"
   },
   {
    "duration": 13,
    "start_time": "2022-03-06T02:39:06.574Z"
   },
   {
    "duration": 5,
    "start_time": "2022-03-06T02:39:07.782Z"
   },
   {
    "duration": 5,
    "start_time": "2022-03-06T02:39:10.527Z"
   },
   {
    "duration": 11,
    "start_time": "2022-03-06T02:39:13.752Z"
   },
   {
    "duration": 12,
    "start_time": "2022-03-06T02:39:15.821Z"
   },
   {
    "duration": 13,
    "start_time": "2022-03-06T02:39:17.036Z"
   },
   {
    "duration": 207,
    "start_time": "2022-03-06T02:39:18.353Z"
   },
   {
    "duration": 199,
    "start_time": "2022-03-06T02:39:19.720Z"
   },
   {
    "duration": 208,
    "start_time": "2022-03-06T02:39:20.696Z"
   },
   {
    "duration": 17,
    "start_time": "2022-03-06T02:39:32.622Z"
   },
   {
    "duration": 17,
    "start_time": "2022-03-06T02:39:33.934Z"
   },
   {
    "duration": 15,
    "start_time": "2022-03-06T02:39:38.190Z"
   },
   {
    "duration": 306,
    "start_time": "2022-03-06T02:40:08.827Z"
   },
   {
    "duration": 253,
    "start_time": "2022-03-06T02:44:38.282Z"
   },
   {
    "duration": 250,
    "start_time": "2022-03-06T02:45:59.144Z"
   },
   {
    "duration": 4,
    "start_time": "2022-03-06T02:46:20.700Z"
   },
   {
    "duration": 3,
    "start_time": "2022-03-06T02:46:21.052Z"
   },
   {
    "duration": 4,
    "start_time": "2022-03-06T02:46:21.332Z"
   },
   {
    "duration": 4,
    "start_time": "2022-03-06T02:46:21.613Z"
   },
   {
    "duration": 4,
    "start_time": "2022-03-06T02:46:21.893Z"
   },
   {
    "duration": 41,
    "start_time": "2022-03-06T02:46:22.442Z"
   },
   {
    "duration": 113,
    "start_time": "2022-03-06T02:46:23.324Z"
   },
   {
    "duration": 13,
    "start_time": "2022-03-06T02:46:25.858Z"
   },
   {
    "duration": 4,
    "start_time": "2022-03-06T02:46:26.670Z"
   },
   {
    "duration": 6,
    "start_time": "2022-03-06T02:46:28.308Z"
   },
   {
    "duration": 11,
    "start_time": "2022-03-06T02:46:28.864Z"
   },
   {
    "duration": 22,
    "start_time": "2022-03-06T02:46:30.909Z"
   },
   {
    "duration": 21,
    "start_time": "2022-03-06T02:46:30.934Z"
   },
   {
    "duration": 11,
    "start_time": "2022-03-06T02:46:33.105Z"
   },
   {
    "duration": 5,
    "start_time": "2022-03-06T02:46:35.392Z"
   },
   {
    "duration": 6,
    "start_time": "2022-03-06T02:46:36.090Z"
   },
   {
    "duration": 5,
    "start_time": "2022-03-06T02:46:37.400Z"
   },
   {
    "duration": 15,
    "start_time": "2022-03-06T02:46:38.153Z"
   },
   {
    "duration": 13,
    "start_time": "2022-03-06T02:46:38.905Z"
   },
   {
    "duration": 6,
    "start_time": "2022-03-06T02:46:41.680Z"
   },
   {
    "duration": 22,
    "start_time": "2022-03-06T02:46:43.008Z"
   },
   {
    "duration": 20,
    "start_time": "2022-03-06T02:46:44.992Z"
   },
   {
    "duration": 407,
    "start_time": "2022-03-06T02:46:46.230Z"
   },
   {
    "duration": 26,
    "start_time": "2022-03-06T02:46:49.010Z"
   },
   {
    "duration": 32,
    "start_time": "2022-03-06T02:46:49.296Z"
   },
   {
    "duration": 9,
    "start_time": "2022-03-06T02:46:49.928Z"
   },
   {
    "duration": 33,
    "start_time": "2022-03-06T02:46:52.824Z"
   },
   {
    "duration": 8,
    "start_time": "2022-03-06T02:46:53.285Z"
   },
   {
    "duration": 8,
    "start_time": "2022-03-06T02:46:53.499Z"
   },
   {
    "duration": 20,
    "start_time": "2022-03-06T02:46:53.955Z"
   },
   {
    "duration": 5,
    "start_time": "2022-03-06T02:46:54.179Z"
   },
   {
    "duration": 24,
    "start_time": "2022-03-06T02:46:54.376Z"
   },
   {
    "duration": 29,
    "start_time": "2022-03-06T02:46:54.756Z"
   },
   {
    "duration": 620,
    "start_time": "2022-03-06T02:46:55.543Z"
   },
   {
    "duration": 336,
    "start_time": "2022-03-06T02:46:56.166Z"
   },
   {
    "duration": 215,
    "start_time": "2022-03-06T02:46:56.626Z"
   },
   {
    "duration": 279,
    "start_time": "2022-03-06T02:46:57.042Z"
   },
   {
    "duration": 472,
    "start_time": "2022-03-06T02:46:57.916Z"
   },
   {
    "duration": 7,
    "start_time": "2022-03-06T02:46:58.390Z"
   },
   {
    "duration": 475,
    "start_time": "2022-03-06T02:46:58.400Z"
   },
   {
    "duration": 7,
    "start_time": "2022-03-06T02:46:58.877Z"
   },
   {
    "duration": 34,
    "start_time": "2022-03-06T02:46:59.203Z"
   },
   {
    "duration": 414,
    "start_time": "2022-03-06T02:46:59.633Z"
   },
   {
    "duration": 9,
    "start_time": "2022-03-06T02:47:00.051Z"
   },
   {
    "duration": 412,
    "start_time": "2022-03-06T02:47:00.073Z"
   },
   {
    "duration": 9,
    "start_time": "2022-03-06T02:47:00.488Z"
   },
   {
    "duration": 37,
    "start_time": "2022-03-06T02:47:00.629Z"
   },
   {
    "duration": 415,
    "start_time": "2022-03-06T02:47:00.828Z"
   },
   {
    "duration": 7,
    "start_time": "2022-03-06T02:47:01.247Z"
   },
   {
    "duration": 388,
    "start_time": "2022-03-06T02:47:01.372Z"
   },
   {
    "duration": 6,
    "start_time": "2022-03-06T02:47:01.763Z"
   },
   {
    "duration": 42,
    "start_time": "2022-03-06T02:47:01.835Z"
   },
   {
    "duration": 406,
    "start_time": "2022-03-06T02:47:02.048Z"
   },
   {
    "duration": 9,
    "start_time": "2022-03-06T02:47:02.458Z"
   },
   {
    "duration": 490,
    "start_time": "2022-03-06T02:47:02.471Z"
   },
   {
    "duration": 7,
    "start_time": "2022-03-06T02:47:02.963Z"
   },
   {
    "duration": 35,
    "start_time": "2022-03-06T02:47:02.972Z"
   },
   {
    "duration": 447,
    "start_time": "2022-03-06T02:47:03.122Z"
   },
   {
    "duration": 6,
    "start_time": "2022-03-06T02:47:03.571Z"
   },
   {
    "duration": 586,
    "start_time": "2022-03-06T02:47:03.587Z"
   },
   {
    "duration": 7,
    "start_time": "2022-03-06T02:47:04.176Z"
   },
   {
    "duration": 85,
    "start_time": "2022-03-06T02:47:04.187Z"
   },
   {
    "duration": 402,
    "start_time": "2022-03-06T02:47:04.275Z"
   },
   {
    "duration": 7,
    "start_time": "2022-03-06T02:47:04.680Z"
   },
   {
    "duration": 478,
    "start_time": "2022-03-06T02:47:04.690Z"
   },
   {
    "duration": 6,
    "start_time": "2022-03-06T02:47:05.170Z"
   },
   {
    "duration": 14,
    "start_time": "2022-03-06T02:47:05.723Z"
   },
   {
    "duration": 5,
    "start_time": "2022-03-06T02:47:05.890Z"
   },
   {
    "duration": 5,
    "start_time": "2022-03-06T02:47:06.190Z"
   },
   {
    "duration": 11,
    "start_time": "2022-03-06T02:47:06.445Z"
   },
   {
    "duration": 15,
    "start_time": "2022-03-06T02:47:06.620Z"
   },
   {
    "duration": 12,
    "start_time": "2022-03-06T02:47:09.922Z"
   },
   {
    "duration": 192,
    "start_time": "2022-03-06T02:47:10.682Z"
   },
   {
    "duration": 209,
    "start_time": "2022-03-06T02:47:11.307Z"
   },
   {
    "duration": 207,
    "start_time": "2022-03-06T02:47:12.001Z"
   },
   {
    "duration": 16,
    "start_time": "2022-03-06T02:47:16.912Z"
   },
   {
    "duration": 15,
    "start_time": "2022-03-06T02:47:17.610Z"
   },
   {
    "duration": 223,
    "start_time": "2022-03-06T02:47:28.197Z"
   },
   {
    "duration": 253,
    "start_time": "2022-03-06T03:35:35.453Z"
   },
   {
    "duration": 223,
    "start_time": "2022-03-06T03:36:32.997Z"
   },
   {
    "duration": 3,
    "start_time": "2022-03-06T03:36:43.023Z"
   },
   {
    "duration": 3,
    "start_time": "2022-03-06T03:36:43.282Z"
   },
   {
    "duration": 3,
    "start_time": "2022-03-06T03:36:43.612Z"
   },
   {
    "duration": 3,
    "start_time": "2022-03-06T03:36:44.186Z"
   },
   {
    "duration": 6,
    "start_time": "2022-03-06T03:36:44.191Z"
   },
   {
    "duration": 39,
    "start_time": "2022-03-06T03:36:44.417Z"
   },
   {
    "duration": 28,
    "start_time": "2022-03-06T03:36:44.673Z"
   },
   {
    "duration": 16,
    "start_time": "2022-03-06T03:36:45.574Z"
   },
   {
    "duration": 4,
    "start_time": "2022-03-06T03:36:45.846Z"
   },
   {
    "duration": 6,
    "start_time": "2022-03-06T03:36:46.218Z"
   },
   {
    "duration": 13,
    "start_time": "2022-03-06T03:36:46.513Z"
   },
   {
    "duration": 23,
    "start_time": "2022-03-06T03:36:46.753Z"
   },
   {
    "duration": 12,
    "start_time": "2022-03-06T03:36:49.026Z"
   },
   {
    "duration": 14,
    "start_time": "2022-03-06T03:36:49.670Z"
   },
   {
    "duration": 4,
    "start_time": "2022-03-06T03:36:50.329Z"
   },
   {
    "duration": 7,
    "start_time": "2022-03-06T03:36:50.507Z"
   },
   {
    "duration": 6,
    "start_time": "2022-03-06T03:36:50.975Z"
   },
   {
    "duration": 14,
    "start_time": "2022-03-06T03:36:51.203Z"
   },
   {
    "duration": 12,
    "start_time": "2022-03-06T03:36:51.422Z"
   },
   {
    "duration": 5,
    "start_time": "2022-03-06T03:36:52.396Z"
   },
   {
    "duration": 23,
    "start_time": "2022-03-06T03:36:53.227Z"
   },
   {
    "duration": 22,
    "start_time": "2022-03-06T03:36:53.924Z"
   },
   {
    "duration": 418,
    "start_time": "2022-03-06T03:36:54.401Z"
   },
   {
    "duration": 25,
    "start_time": "2022-03-06T03:36:55.551Z"
   },
   {
    "duration": 34,
    "start_time": "2022-03-06T03:36:55.757Z"
   },
   {
    "duration": 8,
    "start_time": "2022-03-06T03:36:56.120Z"
   },
   {
    "duration": 9,
    "start_time": "2022-03-06T03:36:56.304Z"
   },
   {
    "duration": 20,
    "start_time": "2022-03-06T03:36:56.710Z"
   },
   {
    "duration": 5,
    "start_time": "2022-03-06T03:36:56.959Z"
   },
   {
    "duration": 23,
    "start_time": "2022-03-06T03:36:57.229Z"
   },
   {
    "duration": 31,
    "start_time": "2022-03-06T03:36:57.447Z"
   },
   {
    "duration": 623,
    "start_time": "2022-03-06T03:36:58.603Z"
   },
   {
    "duration": 346,
    "start_time": "2022-03-06T03:36:59.228Z"
   },
   {
    "duration": 204,
    "start_time": "2022-03-06T03:36:59.596Z"
   },
   {
    "duration": 276,
    "start_time": "2022-03-06T03:36:59.989Z"
   },
   {
    "duration": 445,
    "start_time": "2022-03-06T03:37:00.817Z"
   },
   {
    "duration": 7,
    "start_time": "2022-03-06T03:37:01.264Z"
   },
   {
    "duration": 406,
    "start_time": "2022-03-06T03:37:01.274Z"
   },
   {
    "duration": 7,
    "start_time": "2022-03-06T03:37:01.682Z"
   },
   {
    "duration": 39,
    "start_time": "2022-03-06T03:37:02.210Z"
   },
   {
    "duration": 398,
    "start_time": "2022-03-06T03:37:02.791Z"
   },
   {
    "duration": 7,
    "start_time": "2022-03-06T03:37:03.192Z"
   },
   {
    "duration": 392,
    "start_time": "2022-03-06T03:37:03.497Z"
   },
   {
    "duration": 7,
    "start_time": "2022-03-06T03:37:04.235Z"
   },
   {
    "duration": 34,
    "start_time": "2022-03-06T03:37:04.521Z"
   },
   {
    "duration": 399,
    "start_time": "2022-03-06T03:37:04.905Z"
   },
   {
    "duration": 8,
    "start_time": "2022-03-06T03:37:05.589Z"
   },
   {
    "duration": 391,
    "start_time": "2022-03-06T03:37:05.797Z"
   },
   {
    "duration": 7,
    "start_time": "2022-03-06T03:37:06.191Z"
   },
   {
    "duration": 55,
    "start_time": "2022-03-06T03:37:06.205Z"
   },
   {
    "duration": 517,
    "start_time": "2022-03-06T03:37:06.543Z"
   },
   {
    "duration": 7,
    "start_time": "2022-03-06T03:37:07.062Z"
   },
   {
    "duration": 377,
    "start_time": "2022-03-06T03:37:07.293Z"
   },
   {
    "duration": 7,
    "start_time": "2022-03-06T03:37:07.672Z"
   },
   {
    "duration": 36,
    "start_time": "2022-03-06T03:37:07.871Z"
   },
   {
    "duration": 35,
    "start_time": "2022-03-06T03:37:11.235Z"
   },
   {
    "duration": 399,
    "start_time": "2022-03-06T03:37:11.845Z"
   },
   {
    "duration": 6,
    "start_time": "2022-03-06T03:37:12.251Z"
   },
   {
    "duration": 410,
    "start_time": "2022-03-06T03:37:12.347Z"
   },
   {
    "duration": 6,
    "start_time": "2022-03-06T03:37:12.760Z"
   },
   {
    "duration": 43,
    "start_time": "2022-03-06T03:37:13.023Z"
   },
   {
    "duration": 405,
    "start_time": "2022-03-06T03:37:13.346Z"
   },
   {
    "duration": 8,
    "start_time": "2022-03-06T03:37:13.979Z"
   },
   {
    "duration": 428,
    "start_time": "2022-03-06T03:37:17.849Z"
   },
   {
    "duration": 7,
    "start_time": "2022-03-06T03:37:18.563Z"
   },
   {
    "duration": 14,
    "start_time": "2022-03-06T03:37:21.022Z"
   },
   {
    "duration": 4,
    "start_time": "2022-03-06T03:37:21.861Z"
   },
   {
    "duration": 4,
    "start_time": "2022-03-06T03:37:22.117Z"
   },
   {
    "duration": 11,
    "start_time": "2022-03-06T03:37:22.380Z"
   },
   {
    "duration": 13,
    "start_time": "2022-03-06T03:37:23.301Z"
   },
   {
    "duration": 12,
    "start_time": "2022-03-06T03:37:24.654Z"
   },
   {
    "duration": 187,
    "start_time": "2022-03-06T03:37:27.916Z"
   },
   {
    "duration": 185,
    "start_time": "2022-03-06T03:37:28.900Z"
   },
   {
    "duration": 218,
    "start_time": "2022-03-06T03:37:31.045Z"
   },
   {
    "duration": 14,
    "start_time": "2022-03-06T03:37:38.309Z"
   },
   {
    "duration": 15,
    "start_time": "2022-03-06T03:37:39.236Z"
   },
   {
    "duration": 253,
    "start_time": "2022-03-06T03:37:40.404Z"
   },
   {
    "duration": 235,
    "start_time": "2022-03-06T03:38:14.198Z"
   },
   {
    "duration": 5411,
    "start_time": "2022-03-06T03:38:52.423Z"
   },
   {
    "duration": 229,
    "start_time": "2022-03-06T03:40:30.120Z"
   },
   {
    "duration": 215,
    "start_time": "2022-03-06T03:40:47.195Z"
   },
   {
    "duration": 299,
    "start_time": "2022-03-06T03:42:21.666Z"
   },
   {
    "duration": 33,
    "start_time": "2022-03-06T03:42:48.969Z"
   },
   {
    "duration": 241,
    "start_time": "2022-03-06T03:45:04.479Z"
   },
   {
    "duration": 234,
    "start_time": "2022-03-06T03:46:04.573Z"
   },
   {
    "duration": 4,
    "start_time": "2022-03-06T03:46:25.824Z"
   },
   {
    "duration": 3,
    "start_time": "2022-03-06T03:46:26.448Z"
   },
   {
    "duration": 4,
    "start_time": "2022-03-06T03:46:27.007Z"
   },
   {
    "duration": 3,
    "start_time": "2022-03-06T03:46:27.521Z"
   },
   {
    "duration": 3,
    "start_time": "2022-03-06T03:46:28.036Z"
   },
   {
    "duration": 40,
    "start_time": "2022-03-06T03:46:30.403Z"
   },
   {
    "duration": 28,
    "start_time": "2022-03-06T03:46:30.446Z"
   },
   {
    "duration": 13,
    "start_time": "2022-03-06T03:46:31.334Z"
   },
   {
    "duration": 3,
    "start_time": "2022-03-06T03:46:31.735Z"
   },
   {
    "duration": 6,
    "start_time": "2022-03-06T03:46:32.341Z"
   },
   {
    "duration": 13,
    "start_time": "2022-03-06T03:46:32.613Z"
   },
   {
    "duration": 22,
    "start_time": "2022-03-06T03:46:32.890Z"
   },
   {
    "duration": 13,
    "start_time": "2022-03-06T03:46:33.304Z"
   },
   {
    "duration": 14,
    "start_time": "2022-03-06T03:46:34.110Z"
   },
   {
    "duration": 5,
    "start_time": "2022-03-06T03:46:34.669Z"
   },
   {
    "duration": 6,
    "start_time": "2022-03-06T03:46:34.868Z"
   },
   {
    "duration": 6,
    "start_time": "2022-03-06T03:46:35.382Z"
   },
   {
    "duration": 14,
    "start_time": "2022-03-06T03:46:35.585Z"
   },
   {
    "duration": 15,
    "start_time": "2022-03-06T03:46:35.792Z"
   },
   {
    "duration": 7,
    "start_time": "2022-03-06T03:46:36.541Z"
   },
   {
    "duration": 24,
    "start_time": "2022-03-06T03:46:36.926Z"
   },
   {
    "duration": 19,
    "start_time": "2022-03-06T03:46:37.508Z"
   },
   {
    "duration": 400,
    "start_time": "2022-03-06T03:46:37.902Z"
   },
   {
    "duration": 28,
    "start_time": "2022-03-06T03:46:39.046Z"
   },
   {
    "duration": 34,
    "start_time": "2022-03-06T03:46:39.262Z"
   },
   {
    "duration": 9,
    "start_time": "2022-03-06T03:46:39.702Z"
   },
   {
    "duration": 8,
    "start_time": "2022-03-06T03:46:39.914Z"
   },
   {
    "duration": 22,
    "start_time": "2022-03-06T03:46:40.303Z"
   },
   {
    "duration": 6,
    "start_time": "2022-03-06T03:46:40.488Z"
   },
   {
    "duration": 25,
    "start_time": "2022-03-06T03:46:40.659Z"
   },
   {
    "duration": 30,
    "start_time": "2022-03-06T03:46:40.861Z"
   },
   {
    "duration": 622,
    "start_time": "2022-03-06T03:46:41.787Z"
   },
   {
    "duration": 344,
    "start_time": "2022-03-06T03:46:42.412Z"
   },
   {
    "duration": 217,
    "start_time": "2022-03-06T03:46:42.760Z"
   },
   {
    "duration": 284,
    "start_time": "2022-03-06T03:46:43.167Z"
   },
   {
    "duration": 385,
    "start_time": "2022-03-06T03:46:43.974Z"
   },
   {
    "duration": 7,
    "start_time": "2022-03-06T03:46:44.363Z"
   },
   {
    "duration": 407,
    "start_time": "2022-03-06T03:46:44.373Z"
   },
   {
    "duration": 6,
    "start_time": "2022-03-06T03:46:44.783Z"
   },
   {
    "duration": 37,
    "start_time": "2022-03-06T03:46:45.142Z"
   },
   {
    "duration": 396,
    "start_time": "2022-03-06T03:46:45.456Z"
   },
   {
    "duration": 6,
    "start_time": "2022-03-06T03:46:45.855Z"
   },
   {
    "duration": 524,
    "start_time": "2022-03-06T03:46:45.865Z"
   },
   {
    "duration": 6,
    "start_time": "2022-03-06T03:46:46.391Z"
   },
   {
    "duration": 54,
    "start_time": "2022-03-06T03:46:46.400Z"
   },
   {
    "duration": 374,
    "start_time": "2022-03-06T03:46:46.582Z"
   },
   {
    "duration": 7,
    "start_time": "2022-03-06T03:46:46.959Z"
   },
   {
    "duration": 398,
    "start_time": "2022-03-06T03:46:47.189Z"
   },
   {
    "duration": 8,
    "start_time": "2022-03-06T03:46:47.591Z"
   },
   {
    "duration": 64,
    "start_time": "2022-03-06T03:46:47.603Z"
   },
   {
    "duration": 576,
    "start_time": "2022-03-06T03:46:47.753Z"
   },
   {
    "duration": 19,
    "start_time": "2022-03-06T03:46:48.332Z"
   },
   {
    "duration": 388,
    "start_time": "2022-03-06T03:46:48.354Z"
   },
   {
    "duration": 7,
    "start_time": "2022-03-06T03:46:49.276Z"
   },
   {
    "duration": 38,
    "start_time": "2022-03-06T03:46:49.747Z"
   },
   {
    "duration": 429,
    "start_time": "2022-03-06T03:46:49.950Z"
   },
   {
    "duration": 7,
    "start_time": "2022-03-06T03:46:50.382Z"
   },
   {
    "duration": 399,
    "start_time": "2022-03-06T03:46:51.286Z"
   },
   {
    "duration": 6,
    "start_time": "2022-03-06T03:46:51.688Z"
   },
   {
    "duration": 54,
    "start_time": "2022-03-06T03:46:51.736Z"
   },
   {
    "duration": 416,
    "start_time": "2022-03-06T03:46:51.961Z"
   },
   {
    "duration": 6,
    "start_time": "2022-03-06T03:46:52.380Z"
   },
   {
    "duration": 451,
    "start_time": "2022-03-06T03:46:52.419Z"
   },
   {
    "duration": 6,
    "start_time": "2022-03-06T03:46:52.873Z"
   },
   {
    "duration": 7,
    "start_time": "2022-03-06T03:46:53.531Z"
   },
   {
    "duration": 416,
    "start_time": "2022-03-06T03:46:54.343Z"
   },
   {
    "duration": 6,
    "start_time": "2022-03-06T03:46:54.761Z"
   },
   {
    "duration": 13,
    "start_time": "2022-03-06T03:46:55.490Z"
   },
   {
    "duration": 4,
    "start_time": "2022-03-06T03:46:55.671Z"
   },
   {
    "duration": 5,
    "start_time": "2022-03-06T03:46:55.910Z"
   },
   {
    "duration": 11,
    "start_time": "2022-03-06T03:46:56.175Z"
   },
   {
    "duration": 13,
    "start_time": "2022-03-06T03:46:56.336Z"
   },
   {
    "duration": 13,
    "start_time": "2022-03-06T03:46:56.615Z"
   },
   {
    "duration": 201,
    "start_time": "2022-03-06T03:46:56.823Z"
   },
   {
    "duration": 196,
    "start_time": "2022-03-06T03:46:57.067Z"
   },
   {
    "duration": 234,
    "start_time": "2022-03-06T03:46:57.267Z"
   },
   {
    "duration": 16,
    "start_time": "2022-03-06T03:46:59.500Z"
   },
   {
    "duration": 15,
    "start_time": "2022-03-06T03:46:59.679Z"
   },
   {
    "duration": 241,
    "start_time": "2022-03-06T03:46:59.918Z"
   },
   {
    "duration": 18,
    "start_time": "2022-03-06T03:47:00.733Z"
   },
   {
    "duration": 16,
    "start_time": "2022-03-06T03:47:00.954Z"
   },
   {
    "duration": 5517,
    "start_time": "2022-03-06T03:47:01.185Z"
   },
   {
    "duration": 227,
    "start_time": "2022-03-06T03:47:13.370Z"
   },
   {
    "duration": 239,
    "start_time": "2022-03-06T03:51:56.084Z"
   },
   {
    "duration": 30,
    "start_time": "2022-03-06T03:53:00.683Z"
   },
   {
    "duration": 31,
    "start_time": "2022-03-06T03:53:36.568Z"
   },
   {
    "duration": 228,
    "start_time": "2022-03-06T03:54:06.958Z"
   },
   {
    "duration": 248,
    "start_time": "2022-03-06T03:57:20.694Z"
   },
   {
    "duration": 315,
    "start_time": "2022-03-06T04:49:08.518Z"
   },
   {
    "duration": 207,
    "start_time": "2022-03-06T04:49:27.429Z"
   },
   {
    "duration": 14,
    "start_time": "2022-03-06T04:50:14.231Z"
   },
   {
    "duration": 4,
    "start_time": "2022-03-06T04:50:15.647Z"
   },
   {
    "duration": 6,
    "start_time": "2022-03-06T04:50:16.343Z"
   },
   {
    "duration": 69,
    "start_time": "2022-03-06T04:50:18.191Z"
   },
   {
    "duration": 225,
    "start_time": "2022-03-06T04:51:35.327Z"
   },
   {
    "duration": 229,
    "start_time": "2022-03-06T04:52:56.055Z"
   },
   {
    "duration": 249,
    "start_time": "2022-03-06T04:56:30.233Z"
   },
   {
    "duration": 239,
    "start_time": "2022-03-06T04:56:51.666Z"
   },
   {
    "duration": 240,
    "start_time": "2022-03-06T05:00:20.855Z"
   },
   {
    "duration": 31,
    "start_time": "2022-03-06T05:00:55.010Z"
   },
   {
    "duration": 248,
    "start_time": "2022-03-06T05:01:46.155Z"
   },
   {
    "duration": 230,
    "start_time": "2022-03-06T05:02:02.867Z"
   },
   {
    "duration": 229,
    "start_time": "2022-03-06T05:04:29.082Z"
   },
   {
    "duration": 245,
    "start_time": "2022-03-06T05:07:43.866Z"
   },
   {
    "duration": 230,
    "start_time": "2022-03-06T05:10:08.495Z"
   },
   {
    "duration": 18,
    "start_time": "2022-03-06T05:10:44.343Z"
   },
   {
    "duration": 12,
    "start_time": "2022-03-06T05:11:04.720Z"
   },
   {
    "duration": 7,
    "start_time": "2022-03-06T05:12:02.290Z"
   },
   {
    "duration": 8,
    "start_time": "2022-03-06T05:12:34.062Z"
   },
   {
    "duration": 8,
    "start_time": "2022-03-06T05:12:42.658Z"
   },
   {
    "duration": 8,
    "start_time": "2022-03-06T05:12:52.719Z"
   },
   {
    "duration": 14,
    "start_time": "2022-03-06T05:14:59.774Z"
   },
   {
    "duration": 4,
    "start_time": "2022-03-06T05:15:00.638Z"
   },
   {
    "duration": 5,
    "start_time": "2022-03-06T05:15:01.360Z"
   },
   {
    "duration": 13,
    "start_time": "2022-03-06T05:15:02.847Z"
   },
   {
    "duration": 12,
    "start_time": "2022-03-06T05:15:07.718Z"
   },
   {
    "duration": 198,
    "start_time": "2022-03-06T05:15:10.959Z"
   },
   {
    "duration": 197,
    "start_time": "2022-03-06T05:15:13.456Z"
   },
   {
    "duration": 199,
    "start_time": "2022-03-06T05:15:15.671Z"
   },
   {
    "duration": 15,
    "start_time": "2022-03-06T05:15:29.592Z"
   },
   {
    "duration": 15,
    "start_time": "2022-03-06T05:15:34.225Z"
   },
   {
    "duration": 17,
    "start_time": "2022-03-06T05:15:41.246Z"
   },
   {
    "duration": 7,
    "start_time": "2022-03-06T05:15:44.070Z"
   },
   {
    "duration": 19,
    "start_time": "2022-03-06T05:15:58.175Z"
   },
   {
    "duration": 16,
    "start_time": "2022-03-06T05:16:00.814Z"
   },
   {
    "duration": 8,
    "start_time": "2022-03-06T05:16:03.296Z"
   },
   {
    "duration": 15,
    "start_time": "2022-03-06T05:17:29.135Z"
   },
   {
    "duration": 15,
    "start_time": "2022-03-06T05:17:32.711Z"
   },
   {
    "duration": 8,
    "start_time": "2022-03-06T05:17:34.688Z"
   },
   {
    "duration": 15,
    "start_time": "2022-03-06T05:17:52.697Z"
   },
   {
    "duration": 16,
    "start_time": "2022-03-06T05:17:53.855Z"
   },
   {
    "duration": 8,
    "start_time": "2022-03-06T05:17:55.982Z"
   },
   {
    "duration": 8,
    "start_time": "2022-03-06T05:18:19.074Z"
   },
   {
    "duration": 229,
    "start_time": "2022-03-06T05:19:04.402Z"
   },
   {
    "duration": 6,
    "start_time": "2022-03-06T05:19:26.497Z"
   },
   {
    "duration": 15,
    "start_time": "2022-03-06T05:19:35.266Z"
   },
   {
    "duration": 15,
    "start_time": "2022-03-06T05:19:36.818Z"
   },
   {
    "duration": 9,
    "start_time": "2022-03-06T05:19:36.835Z"
   },
   {
    "duration": 18,
    "start_time": "2022-03-06T05:19:41.098Z"
   },
   {
    "duration": 17,
    "start_time": "2022-03-06T05:19:41.896Z"
   },
   {
    "duration": 8,
    "start_time": "2022-03-06T05:19:42.696Z"
   },
   {
    "duration": 18,
    "start_time": "2022-03-06T05:19:45.748Z"
   },
   {
    "duration": 15,
    "start_time": "2022-03-06T05:19:46.269Z"
   },
   {
    "duration": 7,
    "start_time": "2022-03-06T05:19:47.783Z"
   },
   {
    "duration": 218,
    "start_time": "2022-03-06T05:20:10.081Z"
   },
   {
    "duration": 16,
    "start_time": "2022-03-06T05:20:30.406Z"
   },
   {
    "duration": 13,
    "start_time": "2022-03-06T05:20:30.425Z"
   },
   {
    "duration": 5,
    "start_time": "2022-03-06T05:20:31.940Z"
   },
   {
    "duration": 14,
    "start_time": "2022-03-06T05:20:33.068Z"
   },
   {
    "duration": 13,
    "start_time": "2022-03-06T05:20:33.968Z"
   },
   {
    "duration": 207,
    "start_time": "2022-03-06T05:20:34.825Z"
   },
   {
    "duration": 197,
    "start_time": "2022-03-06T05:20:35.729Z"
   },
   {
    "duration": 209,
    "start_time": "2022-03-06T05:20:36.394Z"
   },
   {
    "duration": 15,
    "start_time": "2022-03-06T05:20:42.283Z"
   },
   {
    "duration": 16,
    "start_time": "2022-03-06T05:20:43.204Z"
   },
   {
    "duration": 262,
    "start_time": "2022-03-06T05:20:44.741Z"
   },
   {
    "duration": 6,
    "start_time": "2022-03-06T05:20:48.632Z"
   },
   {
    "duration": 16,
    "start_time": "2022-03-06T05:22:25.142Z"
   },
   {
    "duration": 16,
    "start_time": "2022-03-06T05:22:27.174Z"
   },
   {
    "duration": 239,
    "start_time": "2022-03-06T05:22:31.207Z"
   },
   {
    "duration": 221,
    "start_time": "2022-03-06T05:23:30.752Z"
   },
   {
    "duration": 77,
    "start_time": "2022-03-06T05:23:54.821Z"
   },
   {
    "duration": 100,
    "start_time": "2022-03-06T05:24:21.808Z"
   },
   {
    "duration": 69,
    "start_time": "2022-03-06T05:24:31.995Z"
   },
   {
    "duration": 69,
    "start_time": "2022-03-06T05:24:56.534Z"
   },
   {
    "duration": 73,
    "start_time": "2022-03-06T05:25:14.694Z"
   },
   {
    "duration": 70,
    "start_time": "2022-03-06T05:26:32.655Z"
   },
   {
    "duration": 74,
    "start_time": "2022-03-06T05:26:51.814Z"
   },
   {
    "duration": 90,
    "start_time": "2022-03-06T05:27:10.636Z"
   },
   {
    "duration": 68,
    "start_time": "2022-03-06T05:28:17.798Z"
   },
   {
    "duration": 232,
    "start_time": "2022-03-06T05:28:46.172Z"
   },
   {
    "duration": 235,
    "start_time": "2022-03-06T05:29:17.104Z"
   },
   {
    "duration": 244,
    "start_time": "2022-03-06T05:30:02.726Z"
   },
   {
    "duration": 217,
    "start_time": "2022-03-06T05:30:27.595Z"
   },
   {
    "duration": 219,
    "start_time": "2022-03-06T05:31:48.484Z"
   },
   {
    "duration": 17,
    "start_time": "2022-03-06T05:33:22.783Z"
   },
   {
    "duration": 7,
    "start_time": "2022-03-06T05:33:32.905Z"
   },
   {
    "duration": 224,
    "start_time": "2022-03-06T05:35:59.802Z"
   },
   {
    "duration": 15,
    "start_time": "2022-03-06T06:14:56.991Z"
   },
   {
    "duration": 7,
    "start_time": "2022-03-06T06:15:07.046Z"
   },
   {
    "duration": 7,
    "start_time": "2022-03-06T06:15:16.710Z"
   },
   {
    "duration": 16,
    "start_time": "2022-03-06T06:15:20.767Z"
   },
   {
    "duration": 23,
    "start_time": "2022-03-06T06:15:49.941Z"
   },
   {
    "duration": 15,
    "start_time": "2022-03-06T06:16:41.841Z"
   },
   {
    "duration": 24,
    "start_time": "2022-03-06T06:16:47.015Z"
   },
   {
    "duration": 21,
    "start_time": "2022-03-06T06:17:37.590Z"
   },
   {
    "duration": 22,
    "start_time": "2022-03-06T06:18:10.347Z"
   },
   {
    "duration": 23,
    "start_time": "2022-03-06T06:19:36.601Z"
   },
   {
    "duration": 21,
    "start_time": "2022-03-06T06:20:36.985Z"
   },
   {
    "duration": 21,
    "start_time": "2022-03-06T06:22:41.554Z"
   },
   {
    "duration": 15,
    "start_time": "2022-03-06T06:23:00.195Z"
   },
   {
    "duration": 21,
    "start_time": "2022-03-06T06:23:40.723Z"
   },
   {
    "duration": 24,
    "start_time": "2022-03-06T06:25:39.312Z"
   },
   {
    "duration": 22,
    "start_time": "2022-03-06T06:26:27.486Z"
   },
   {
    "duration": 3,
    "start_time": "2022-03-06T06:27:28.543Z"
   },
   {
    "duration": 3,
    "start_time": "2022-03-06T06:27:29.169Z"
   },
   {
    "duration": 4,
    "start_time": "2022-03-06T06:27:29.878Z"
   },
   {
    "duration": 3,
    "start_time": "2022-03-06T06:27:30.728Z"
   },
   {
    "duration": 3,
    "start_time": "2022-03-06T06:27:31.566Z"
   },
   {
    "duration": 45,
    "start_time": "2022-03-06T06:27:34.295Z"
   },
   {
    "duration": 30,
    "start_time": "2022-03-06T06:27:35.826Z"
   },
   {
    "duration": 14,
    "start_time": "2022-03-06T06:27:40.000Z"
   },
   {
    "duration": 5,
    "start_time": "2022-03-06T06:27:41.011Z"
   },
   {
    "duration": 6,
    "start_time": "2022-03-06T06:27:42.848Z"
   },
   {
    "duration": 12,
    "start_time": "2022-03-06T06:27:43.841Z"
   },
   {
    "duration": 22,
    "start_time": "2022-03-06T06:27:45.545Z"
   },
   {
    "duration": 12,
    "start_time": "2022-03-06T06:27:47.761Z"
   },
   {
    "duration": 12,
    "start_time": "2022-03-06T06:27:50.227Z"
   },
   {
    "duration": 5,
    "start_time": "2022-03-06T06:27:53.284Z"
   },
   {
    "duration": 5,
    "start_time": "2022-03-06T06:27:53.992Z"
   },
   {
    "duration": 6,
    "start_time": "2022-03-06T06:27:55.425Z"
   },
   {
    "duration": 12,
    "start_time": "2022-03-06T06:27:56.551Z"
   },
   {
    "duration": 13,
    "start_time": "2022-03-06T06:27:58.076Z"
   },
   {
    "duration": 6,
    "start_time": "2022-03-06T06:28:01.656Z"
   },
   {
    "duration": 26,
    "start_time": "2022-03-06T06:28:03.320Z"
   },
   {
    "duration": 20,
    "start_time": "2022-03-06T06:28:06.163Z"
   },
   {
    "duration": 404,
    "start_time": "2022-03-06T06:28:08.192Z"
   },
   {
    "duration": 25,
    "start_time": "2022-03-06T06:28:13.464Z"
   },
   {
    "duration": 33,
    "start_time": "2022-03-06T06:28:14.243Z"
   },
   {
    "duration": 9,
    "start_time": "2022-03-06T06:28:15.907Z"
   },
   {
    "duration": 8,
    "start_time": "2022-03-06T06:28:16.714Z"
   },
   {
    "duration": 20,
    "start_time": "2022-03-06T06:28:18.609Z"
   },
   {
    "duration": 5,
    "start_time": "2022-03-06T06:28:19.514Z"
   },
   {
    "duration": 24,
    "start_time": "2022-03-06T06:28:20.387Z"
   },
   {
    "duration": 30,
    "start_time": "2022-03-06T06:28:21.258Z"
   },
   {
    "duration": 605,
    "start_time": "2022-03-06T06:28:25.704Z"
   },
   {
    "duration": 340,
    "start_time": "2022-03-06T06:28:26.707Z"
   },
   {
    "duration": 227,
    "start_time": "2022-03-06T06:28:31.347Z"
   },
   {
    "duration": 285,
    "start_time": "2022-03-06T06:28:33.296Z"
   },
   {
    "duration": 412,
    "start_time": "2022-03-06T06:28:37.264Z"
   },
   {
    "duration": 7,
    "start_time": "2022-03-06T06:28:38.672Z"
   },
   {
    "duration": 441,
    "start_time": "2022-03-06T06:28:39.559Z"
   },
   {
    "duration": 6,
    "start_time": "2022-03-06T06:28:40.528Z"
   },
   {
    "duration": 37,
    "start_time": "2022-03-06T06:28:51.902Z"
   },
   {
    "duration": 627,
    "start_time": "2022-03-06T06:28:53.843Z"
   },
   {
    "duration": 6,
    "start_time": "2022-03-06T06:29:04.506Z"
   },
   {
    "duration": 398,
    "start_time": "2022-03-06T06:29:05.690Z"
   },
   {
    "duration": 7,
    "start_time": "2022-03-06T06:29:06.961Z"
   },
   {
    "duration": 34,
    "start_time": "2022-03-06T06:29:07.906Z"
   },
   {
    "duration": 423,
    "start_time": "2022-03-06T06:29:08.933Z"
   },
   {
    "duration": 7,
    "start_time": "2022-03-06T06:29:09.872Z"
   },
   {
    "duration": 456,
    "start_time": "2022-03-06T06:29:12.114Z"
   },
   {
    "duration": 7,
    "start_time": "2022-03-06T06:29:14.478Z"
   },
   {
    "duration": 40,
    "start_time": "2022-03-06T06:29:15.429Z"
   },
   {
    "duration": 459,
    "start_time": "2022-03-06T06:29:17.410Z"
   },
   {
    "duration": 8,
    "start_time": "2022-03-06T06:29:18.938Z"
   },
   {
    "duration": 436,
    "start_time": "2022-03-06T06:29:20.429Z"
   },
   {
    "duration": 9,
    "start_time": "2022-03-06T06:29:21.841Z"
   },
   {
    "duration": 39,
    "start_time": "2022-03-06T06:29:22.794Z"
   },
   {
    "duration": 407,
    "start_time": "2022-03-06T06:29:23.977Z"
   },
   {
    "duration": 7,
    "start_time": "2022-03-06T06:29:25.474Z"
   },
   {
    "duration": 422,
    "start_time": "2022-03-06T06:29:26.529Z"
   },
   {
    "duration": 8,
    "start_time": "2022-03-06T06:29:27.801Z"
   },
   {
    "duration": 43,
    "start_time": "2022-03-06T06:29:28.851Z"
   },
   {
    "duration": 405,
    "start_time": "2022-03-06T06:29:30.098Z"
   },
   {
    "duration": 7,
    "start_time": "2022-03-06T06:29:31.587Z"
   },
   {
    "duration": 403,
    "start_time": "2022-03-06T06:29:32.600Z"
   },
   {
    "duration": 7,
    "start_time": "2022-03-06T06:29:34.034Z"
   },
   {
    "duration": 15,
    "start_time": "2022-03-06T06:29:43.268Z"
   },
   {
    "duration": 4,
    "start_time": "2022-03-06T06:29:46.915Z"
   },
   {
    "duration": 5,
    "start_time": "2022-03-06T06:29:51.621Z"
   },
   {
    "duration": 13,
    "start_time": "2022-03-06T06:30:00.411Z"
   },
   {
    "duration": 14,
    "start_time": "2022-03-06T06:30:08.810Z"
   },
   {
    "duration": 209,
    "start_time": "2022-03-06T06:30:14.651Z"
   },
   {
    "duration": 204,
    "start_time": "2022-03-06T06:30:18.722Z"
   },
   {
    "duration": 249,
    "start_time": "2022-03-06T06:30:24.622Z"
   },
   {
    "duration": 16,
    "start_time": "2022-03-06T06:30:39.537Z"
   },
   {
    "duration": 16,
    "start_time": "2022-03-06T06:30:43.347Z"
   },
   {
    "duration": 22,
    "start_time": "2022-03-06T06:30:47.170Z"
   },
   {
    "duration": 16,
    "start_time": "2022-03-06T06:30:55.467Z"
   },
   {
    "duration": 15,
    "start_time": "2022-03-06T06:30:56.459Z"
   },
   {
    "duration": 22,
    "start_time": "2022-03-06T06:30:58.603Z"
   },
   {
    "duration": 16,
    "start_time": "2022-03-06T06:31:04.232Z"
   },
   {
    "duration": 17,
    "start_time": "2022-03-06T06:31:07.969Z"
   },
   {
    "duration": 24,
    "start_time": "2022-03-06T06:31:11.821Z"
   },
   {
    "duration": 18,
    "start_time": "2022-03-06T06:31:18.913Z"
   },
   {
    "duration": 17,
    "start_time": "2022-03-06T06:31:20.818Z"
   },
   {
    "duration": 23,
    "start_time": "2022-03-06T06:31:24.874Z"
   },
   {
    "duration": 9,
    "start_time": "2022-03-06T06:31:31.787Z"
   },
   {
    "duration": 4,
    "start_time": "2022-03-06T06:31:37.248Z"
   },
   {
    "duration": 13,
    "start_time": "2022-03-06T06:31:39.098Z"
   },
   {
    "duration": 6,
    "start_time": "2022-03-06T06:31:47.576Z"
   },
   {
    "duration": 4,
    "start_time": "2022-03-06T06:31:54.948Z"
   },
   {
    "duration": 16,
    "start_time": "2022-03-06T06:31:55.627Z"
   },
   {
    "duration": 6,
    "start_time": "2022-03-06T06:31:56.763Z"
   },
   {
    "duration": 3,
    "start_time": "2022-03-06T06:34:23.563Z"
   },
   {
    "duration": 3,
    "start_time": "2022-03-06T06:34:24.123Z"
   },
   {
    "duration": 3,
    "start_time": "2022-03-06T06:34:24.757Z"
   },
   {
    "duration": 3,
    "start_time": "2022-03-06T06:34:25.435Z"
   },
   {
    "duration": 3,
    "start_time": "2022-03-06T06:34:26.101Z"
   },
   {
    "duration": 40,
    "start_time": "2022-03-06T06:34:27.330Z"
   },
   {
    "duration": 29,
    "start_time": "2022-03-06T06:34:28.031Z"
   },
   {
    "duration": 13,
    "start_time": "2022-03-06T06:34:30.801Z"
   },
   {
    "duration": 4,
    "start_time": "2022-03-06T06:34:31.420Z"
   },
   {
    "duration": 6,
    "start_time": "2022-03-06T06:34:32.842Z"
   },
   {
    "duration": 12,
    "start_time": "2022-03-06T06:34:33.539Z"
   },
   {
    "duration": 22,
    "start_time": "2022-03-06T06:34:34.275Z"
   },
   {
    "duration": 11,
    "start_time": "2022-03-06T06:34:35.723Z"
   },
   {
    "duration": 13,
    "start_time": "2022-03-06T06:34:37.673Z"
   },
   {
    "duration": 5,
    "start_time": "2022-03-06T06:34:39.641Z"
   },
   {
    "duration": 6,
    "start_time": "2022-03-06T06:34:40.387Z"
   },
   {
    "duration": 6,
    "start_time": "2022-03-06T06:34:41.825Z"
   },
   {
    "duration": 11,
    "start_time": "2022-03-06T06:34:42.547Z"
   },
   {
    "duration": 13,
    "start_time": "2022-03-06T06:34:43.397Z"
   },
   {
    "duration": 6,
    "start_time": "2022-03-06T06:34:46.273Z"
   },
   {
    "duration": 23,
    "start_time": "2022-03-06T06:34:47.659Z"
   },
   {
    "duration": 20,
    "start_time": "2022-03-06T06:34:49.865Z"
   },
   {
    "duration": 407,
    "start_time": "2022-03-06T06:34:51.274Z"
   },
   {
    "duration": 26,
    "start_time": "2022-03-06T06:34:55.898Z"
   },
   {
    "duration": 33,
    "start_time": "2022-03-06T06:34:56.771Z"
   },
   {
    "duration": 9,
    "start_time": "2022-03-06T06:34:58.386Z"
   },
   {
    "duration": 9,
    "start_time": "2022-03-06T06:34:59.119Z"
   },
   {
    "duration": 20,
    "start_time": "2022-03-06T06:35:00.564Z"
   },
   {
    "duration": 7,
    "start_time": "2022-03-06T06:35:01.323Z"
   },
   {
    "duration": 24,
    "start_time": "2022-03-06T06:35:02.085Z"
   },
   {
    "duration": 34,
    "start_time": "2022-03-06T06:35:03.412Z"
   },
   {
    "duration": 639,
    "start_time": "2022-03-06T06:35:06.448Z"
   },
   {
    "duration": 324,
    "start_time": "2022-03-06T06:35:07.875Z"
   },
   {
    "duration": 209,
    "start_time": "2022-03-06T06:35:11.905Z"
   },
   {
    "duration": 288,
    "start_time": "2022-03-06T06:35:13.346Z"
   },
   {
    "duration": 421,
    "start_time": "2022-03-06T06:35:16.977Z"
   },
   {
    "duration": 6,
    "start_time": "2022-03-06T06:35:17.700Z"
   },
   {
    "duration": 420,
    "start_time": "2022-03-06T06:35:18.501Z"
   },
   {
    "duration": 7,
    "start_time": "2022-03-06T06:35:19.293Z"
   },
   {
    "duration": 36,
    "start_time": "2022-03-06T06:35:21.574Z"
   },
   {
    "duration": 458,
    "start_time": "2022-03-06T06:35:23.223Z"
   },
   {
    "duration": 8,
    "start_time": "2022-03-06T06:35:24.035Z"
   },
   {
    "duration": 431,
    "start_time": "2022-03-06T06:35:24.844Z"
   },
   {
    "duration": 7,
    "start_time": "2022-03-06T06:35:25.603Z"
   },
   {
    "duration": 33,
    "start_time": "2022-03-06T06:35:26.365Z"
   },
   {
    "duration": 393,
    "start_time": "2022-03-06T06:35:28.364Z"
   },
   {
    "duration": 8,
    "start_time": "2022-03-06T06:35:29.060Z"
   },
   {
    "duration": 411,
    "start_time": "2022-03-06T06:35:29.773Z"
   },
   {
    "duration": 7,
    "start_time": "2022-03-06T06:35:30.540Z"
   },
   {
    "duration": 40,
    "start_time": "2022-03-06T06:35:31.438Z"
   },
   {
    "duration": 415,
    "start_time": "2022-03-06T06:35:32.132Z"
   },
   {
    "duration": 6,
    "start_time": "2022-03-06T06:35:32.875Z"
   },
   {
    "duration": 395,
    "start_time": "2022-03-06T06:35:33.611Z"
   },
   {
    "duration": 7,
    "start_time": "2022-03-06T06:35:34.325Z"
   },
   {
    "duration": 36,
    "start_time": "2022-03-06T06:35:35.020Z"
   },
   {
    "duration": 604,
    "start_time": "2022-03-06T06:35:36.945Z"
   },
   {
    "duration": 6,
    "start_time": "2022-03-06T06:35:37.931Z"
   },
   {
    "duration": 409,
    "start_time": "2022-03-06T06:35:38.660Z"
   },
   {
    "duration": 8,
    "start_time": "2022-03-06T06:35:39.336Z"
   },
   {
    "duration": 46,
    "start_time": "2022-03-06T06:35:40.057Z"
   },
   {
    "duration": 450,
    "start_time": "2022-03-06T06:35:40.809Z"
   },
   {
    "duration": 8,
    "start_time": "2022-03-06T06:35:41.787Z"
   },
   {
    "duration": 409,
    "start_time": "2022-03-06T06:35:42.597Z"
   },
   {
    "duration": 7,
    "start_time": "2022-03-06T06:35:43.253Z"
   },
   {
    "duration": 13,
    "start_time": "2022-03-06T06:35:47.370Z"
   },
   {
    "duration": 4,
    "start_time": "2022-03-06T06:35:48.203Z"
   },
   {
    "duration": 5,
    "start_time": "2022-03-06T06:35:48.864Z"
   },
   {
    "duration": 13,
    "start_time": "2022-03-06T06:35:49.957Z"
   },
   {
    "duration": 13,
    "start_time": "2022-03-06T06:35:50.994Z"
   },
   {
    "duration": 216,
    "start_time": "2022-03-06T06:35:52.052Z"
   },
   {
    "duration": 192,
    "start_time": "2022-03-06T06:35:52.995Z"
   },
   {
    "duration": 228,
    "start_time": "2022-03-06T06:35:53.949Z"
   },
   {
    "duration": 16,
    "start_time": "2022-03-06T06:35:59.890Z"
   },
   {
    "duration": 16,
    "start_time": "2022-03-06T06:36:00.756Z"
   },
   {
    "duration": 23,
    "start_time": "2022-03-06T06:36:03.204Z"
   },
   {
    "duration": 16,
    "start_time": "2022-03-06T06:36:08.005Z"
   },
   {
    "duration": 15,
    "start_time": "2022-03-06T06:36:08.713Z"
   },
   {
    "duration": 22,
    "start_time": "2022-03-06T06:36:09.588Z"
   },
   {
    "duration": 16,
    "start_time": "2022-03-06T06:36:12.282Z"
   },
   {
    "duration": 17,
    "start_time": "2022-03-06T06:36:12.943Z"
   },
   {
    "duration": 22,
    "start_time": "2022-03-06T06:36:13.932Z"
   },
   {
    "duration": 19,
    "start_time": "2022-03-06T06:36:18.940Z"
   },
   {
    "duration": 24,
    "start_time": "2022-03-06T06:36:19.580Z"
   },
   {
    "duration": 23,
    "start_time": "2022-03-06T06:36:21.298Z"
   },
   {
    "duration": 8,
    "start_time": "2022-03-06T06:36:26.155Z"
   }
  ],
  "kernelspec": {
   "display_name": "Python 3 (ipykernel)",
   "language": "python",
   "name": "python3"
  },
  "language_info": {
   "codemirror_mode": {
    "name": "ipython",
    "version": 3
   },
   "file_extension": ".py",
   "mimetype": "text/x-python",
   "name": "python",
   "nbconvert_exporter": "python",
   "pygments_lexer": "ipython3",
   "version": "3.9.5"
  },
  "toc": {
   "base_numbering": 1,
   "nav_menu": {},
   "number_sections": true,
   "sideBar": true,
   "skip_h1_title": true,
   "title_cell": "Table of Contents",
   "title_sidebar": "Contents",
   "toc_cell": false,
   "toc_position": {
    "height": "calc(100% - 180px)",
    "left": "10px",
    "top": "150px",
    "width": "229.631px"
   },
   "toc_section_display": true,
   "toc_window_display": true
  }
 },
 "nbformat": 4,
 "nbformat_minor": 2
}
