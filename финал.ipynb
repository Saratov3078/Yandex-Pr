{
 "cells": [
  {
   "cell_type": "markdown",
   "metadata": {},
   "source": [
    "## Техническое задание\n",
    "Оператор связи «Ниединогоразрыва.ком» хочет научиться прогнозировать отток клиентов. Если выяснится, что пользователь планирует уйти, ему будут предложены промокоды и специальные условия. Команда оператора собрала персональные данные о некоторых клиентах, информацию об их тарифах и договорах."
   ]
  },
  {
   "cell_type": "markdown",
   "metadata": {},
   "source": [
    "### Описание услуг\n",
    "\n",
    "Оператор предоставляет два основных типа услуг: \n",
    "\n",
    "1. Стационарную телефонную связь. Возможно подключение телефонного аппарата к нескольким линиям одновременно.\n",
    "2. Интернет. Подключение может быть двух типов: через телефонную линию (DSL*,* от англ. *digital subscriber line*, «цифровая абонентская линия») или оптоволоконный кабель (*Fiber optic*).\n",
    "\n",
    "Также доступны такие услуги:\n",
    "\n",
    "- Интернет-безопасность: антивирус (*DeviceProtection*) и блокировка небезопасных сайтов (*OnlineSecurity*);\n",
    "- Выделенная линия технической поддержки (*TechSupport*);\n",
    "- Облачное хранилище файлов для резервного копирования данных (*OnlineBackup*);\n",
    "- Стриминговое телевидение (*StreamingTV*) и каталог фильмов (*StreamingMovies*).\n",
    "\n",
    "За услуги клиенты могут платить каждый месяц или заключить договор на 1–2 года. Доступны различные способы расчёта и возможность получения электронного чека."
   ]
  },
  {
   "cell_type": "markdown",
   "metadata": {},
   "source": [
    "#### Описание данных\n",
    "Данные состоят из файлов, полученных из разных источников:\n",
    "\n",
    "- contract.csv — информация о договоре;\n",
    "\n",
    "- personal.csv — персональные данные клиента;\n",
    "\n",
    "- internet.csv — информация об интернет-услугах;\n",
    "\n",
    "- phone.csv — информация об услугах телефонии.\n",
    "\n",
    "Во всех файлах столбец `customerID` содержит код клиента.\n",
    "\n",
    "Информация о договорах актуальна на 1 февраля 2020."
   ]
  },
  {
   "cell_type": "markdown",
   "metadata": {},
   "source": [
    "#### Описание полей данных:\n",
    "- BeginDate – дата начала пользования услугами,\n",
    "\n",
    "- EndDate – дата окончания пользования услугами,\n",
    "\n",
    "- Type – тип оплаты: ежемесячный, годовой и тд,\n",
    "\n",
    "- PaperlessBilling – электронный документ об оплате,\n",
    "\n",
    "- PaymentMethod – способ оплаты,\n",
    "\n",
    "- MonthlyCharges – ежемесячные траты на услуги,\n",
    "\n",
    "- TotalCharges – всего потрачено денег на услуги,\n",
    "\n",
    "- Dependents – наличие иждивенцев,\n",
    "\n",
    "- Senior Citizen – наличие пенсионного статуса по возрасту,\n",
    "\n",
    "- Partner – наличие супруга(и),\n",
    "\n",
    "- MultipleLines – наличие возможности ведения параллельных линий во время звонка."
   ]
  },
  {
   "cell_type": "markdown",
   "metadata": {},
   "source": [
    "### План работы\n",
    "\n",
    "1. Техническое задание.\n",
    "\n",
    "2. Импорт библиотек и загрузка данных\n",
    "\n",
    "3. Изучение полученных данных.\n",
    "\n",
    "4. Предобработка данных.\n",
    "\n",
    "5. Исследовательский анализ данных.\n",
    "\n",
    "6. Подготовка данных к расчету модели. (Кодирование категориальных переменных ,разбиение данных).\n",
    "\n",
    "7.  Моделирование (определение исследуемых моделей, тестовая модель, подбор гиперпараметров).\n",
    "\n",
    "8. Сравнение моделей, определение порога нужных метрик,важность признаков.\n",
    "\n",
    "9. Общий вывод.\n",
    "\n",
    "10. Отчет."
   ]
  },
  {
   "cell_type": "markdown",
   "metadata": {},
   "source": [
    "## Импорт библиотек и загрузка данных."
   ]
  },
  {
   "cell_type": "code",
   "execution_count": 1,
   "metadata": {},
   "outputs": [],
   "source": [
    "import pandas as pd\n",
    "import seaborn as sns\n",
    "import matplotlib.pyplot as plt\n",
    "\n",
    "\n",
    "from sklearn.model_selection import train_test_split, GridSearchCV\n",
    "import numpy as np\n",
    "import time\n",
    "from sklearn.utils import shuffle\n",
    "\n",
    "\n",
    "from sklearn.preprocessing import StandardScaler\n",
    "from sklearn.model_selection import train_test_split, RandomizedSearchCV\n",
    "\n",
    "from sklearn.tree import DecisionTreeClassifier\n",
    "from sklearn.linear_model import LogisticRegression\n",
    "from sklearn.ensemble import RandomForestClassifier\n",
    "\n",
    "from catboost import CatBoostClassifier\n",
    "\n",
    "from sklearn.metrics import accuracy_score, roc_auc_score, precision_score, recall_score, roc_curve, confusion_matrix\n",
    "pd.set_option('display.max_columns', None)\n",
    "\n",
    "RANDOM_STATE = 250722\n",
    "\n",
    "alpha = 0.05"
   ]
  },
  {
   "cell_type": "code",
   "execution_count": 2,
   "metadata": {},
   "outputs": [],
   "source": [
    "contract = pd.read_csv('/datasets/final_provider/contract.csv')\n",
    "personal = pd.read_csv('/datasets/final_provider/personal.csv')\n",
    "internet = pd.read_csv('/datasets/final_provider/internet.csv')\n",
    "phone = pd.read_csv('/datasets/final_provider/phone.csv')"
   ]
  },
  {
   "cell_type": "markdown",
   "metadata": {},
   "source": [
    "## Изучение полученных данных."
   ]
  },
  {
   "cell_type": "code",
   "execution_count": 3,
   "metadata": {},
   "outputs": [],
   "source": [
    "def analyze_df(df):\n",
    "    rows_count, columns_count = df.shape\n",
    "    print('Количество стобцов:', columns_count)\n",
    "    print('Количество строк:', rows_count)\n",
    "    display(df.head(5))\n",
    "    display(df.describe())\n",
    "    df.info()"
   ]
  },
  {
   "cell_type": "code",
   "execution_count": 4,
   "metadata": {},
   "outputs": [
    {
     "name": "stdout",
     "output_type": "stream",
     "text": [
      "Количество стобцов: 8\n",
      "Количество строк: 7043\n"
     ]
    },
    {
     "data": {
      "text/html": [
       "<div>\n",
       "<style scoped>\n",
       "    .dataframe tbody tr th:only-of-type {\n",
       "        vertical-align: middle;\n",
       "    }\n",
       "\n",
       "    .dataframe tbody tr th {\n",
       "        vertical-align: top;\n",
       "    }\n",
       "\n",
       "    .dataframe thead th {\n",
       "        text-align: right;\n",
       "    }\n",
       "</style>\n",
       "<table border=\"1\" class=\"dataframe\">\n",
       "  <thead>\n",
       "    <tr style=\"text-align: right;\">\n",
       "      <th></th>\n",
       "      <th>customerID</th>\n",
       "      <th>BeginDate</th>\n",
       "      <th>EndDate</th>\n",
       "      <th>Type</th>\n",
       "      <th>PaperlessBilling</th>\n",
       "      <th>PaymentMethod</th>\n",
       "      <th>MonthlyCharges</th>\n",
       "      <th>TotalCharges</th>\n",
       "    </tr>\n",
       "  </thead>\n",
       "  <tbody>\n",
       "    <tr>\n",
       "      <th>0</th>\n",
       "      <td>7590-VHVEG</td>\n",
       "      <td>2020-01-01</td>\n",
       "      <td>No</td>\n",
       "      <td>Month-to-month</td>\n",
       "      <td>Yes</td>\n",
       "      <td>Electronic check</td>\n",
       "      <td>29.85</td>\n",
       "      <td>29.85</td>\n",
       "    </tr>\n",
       "    <tr>\n",
       "      <th>1</th>\n",
       "      <td>5575-GNVDE</td>\n",
       "      <td>2017-04-01</td>\n",
       "      <td>No</td>\n",
       "      <td>One year</td>\n",
       "      <td>No</td>\n",
       "      <td>Mailed check</td>\n",
       "      <td>56.95</td>\n",
       "      <td>1889.5</td>\n",
       "    </tr>\n",
       "    <tr>\n",
       "      <th>2</th>\n",
       "      <td>3668-QPYBK</td>\n",
       "      <td>2019-10-01</td>\n",
       "      <td>2019-12-01 00:00:00</td>\n",
       "      <td>Month-to-month</td>\n",
       "      <td>Yes</td>\n",
       "      <td>Mailed check</td>\n",
       "      <td>53.85</td>\n",
       "      <td>108.15</td>\n",
       "    </tr>\n",
       "    <tr>\n",
       "      <th>3</th>\n",
       "      <td>7795-CFOCW</td>\n",
       "      <td>2016-05-01</td>\n",
       "      <td>No</td>\n",
       "      <td>One year</td>\n",
       "      <td>No</td>\n",
       "      <td>Bank transfer (automatic)</td>\n",
       "      <td>42.30</td>\n",
       "      <td>1840.75</td>\n",
       "    </tr>\n",
       "    <tr>\n",
       "      <th>4</th>\n",
       "      <td>9237-HQITU</td>\n",
       "      <td>2019-09-01</td>\n",
       "      <td>2019-11-01 00:00:00</td>\n",
       "      <td>Month-to-month</td>\n",
       "      <td>Yes</td>\n",
       "      <td>Electronic check</td>\n",
       "      <td>70.70</td>\n",
       "      <td>151.65</td>\n",
       "    </tr>\n",
       "  </tbody>\n",
       "</table>\n",
       "</div>"
      ],
      "text/plain": [
       "   customerID   BeginDate              EndDate            Type  \\\n",
       "0  7590-VHVEG  2020-01-01                   No  Month-to-month   \n",
       "1  5575-GNVDE  2017-04-01                   No        One year   \n",
       "2  3668-QPYBK  2019-10-01  2019-12-01 00:00:00  Month-to-month   \n",
       "3  7795-CFOCW  2016-05-01                   No        One year   \n",
       "4  9237-HQITU  2019-09-01  2019-11-01 00:00:00  Month-to-month   \n",
       "\n",
       "  PaperlessBilling              PaymentMethod  MonthlyCharges TotalCharges  \n",
       "0              Yes           Electronic check           29.85        29.85  \n",
       "1               No               Mailed check           56.95       1889.5  \n",
       "2              Yes               Mailed check           53.85       108.15  \n",
       "3               No  Bank transfer (automatic)           42.30      1840.75  \n",
       "4              Yes           Electronic check           70.70       151.65  "
      ]
     },
     "metadata": {},
     "output_type": "display_data"
    },
    {
     "data": {
      "text/html": [
       "<div>\n",
       "<style scoped>\n",
       "    .dataframe tbody tr th:only-of-type {\n",
       "        vertical-align: middle;\n",
       "    }\n",
       "\n",
       "    .dataframe tbody tr th {\n",
       "        vertical-align: top;\n",
       "    }\n",
       "\n",
       "    .dataframe thead th {\n",
       "        text-align: right;\n",
       "    }\n",
       "</style>\n",
       "<table border=\"1\" class=\"dataframe\">\n",
       "  <thead>\n",
       "    <tr style=\"text-align: right;\">\n",
       "      <th></th>\n",
       "      <th>MonthlyCharges</th>\n",
       "    </tr>\n",
       "  </thead>\n",
       "  <tbody>\n",
       "    <tr>\n",
       "      <th>count</th>\n",
       "      <td>7043.000000</td>\n",
       "    </tr>\n",
       "    <tr>\n",
       "      <th>mean</th>\n",
       "      <td>64.761692</td>\n",
       "    </tr>\n",
       "    <tr>\n",
       "      <th>std</th>\n",
       "      <td>30.090047</td>\n",
       "    </tr>\n",
       "    <tr>\n",
       "      <th>min</th>\n",
       "      <td>18.250000</td>\n",
       "    </tr>\n",
       "    <tr>\n",
       "      <th>25%</th>\n",
       "      <td>35.500000</td>\n",
       "    </tr>\n",
       "    <tr>\n",
       "      <th>50%</th>\n",
       "      <td>70.350000</td>\n",
       "    </tr>\n",
       "    <tr>\n",
       "      <th>75%</th>\n",
       "      <td>89.850000</td>\n",
       "    </tr>\n",
       "    <tr>\n",
       "      <th>max</th>\n",
       "      <td>118.750000</td>\n",
       "    </tr>\n",
       "  </tbody>\n",
       "</table>\n",
       "</div>"
      ],
      "text/plain": [
       "       MonthlyCharges\n",
       "count     7043.000000\n",
       "mean        64.761692\n",
       "std         30.090047\n",
       "min         18.250000\n",
       "25%         35.500000\n",
       "50%         70.350000\n",
       "75%         89.850000\n",
       "max        118.750000"
      ]
     },
     "metadata": {},
     "output_type": "display_data"
    },
    {
     "name": "stdout",
     "output_type": "stream",
     "text": [
      "<class 'pandas.core.frame.DataFrame'>\n",
      "RangeIndex: 7043 entries, 0 to 7042\n",
      "Data columns (total 8 columns):\n",
      " #   Column            Non-Null Count  Dtype  \n",
      "---  ------            --------------  -----  \n",
      " 0   customerID        7043 non-null   object \n",
      " 1   BeginDate         7043 non-null   object \n",
      " 2   EndDate           7043 non-null   object \n",
      " 3   Type              7043 non-null   object \n",
      " 4   PaperlessBilling  7043 non-null   object \n",
      " 5   PaymentMethod     7043 non-null   object \n",
      " 6   MonthlyCharges    7043 non-null   float64\n",
      " 7   TotalCharges      7043 non-null   object \n",
      "dtypes: float64(1), object(7)\n",
      "memory usage: 440.3+ KB\n"
     ]
    }
   ],
   "source": [
    "analyze_df(contract)"
   ]
  },
  {
   "cell_type": "code",
   "execution_count": 5,
   "metadata": {},
   "outputs": [
    {
     "data": {
      "text/plain": [
       "Electronic check             2365\n",
       "Mailed check                 1612\n",
       "Bank transfer (automatic)    1544\n",
       "Credit card (automatic)      1522\n",
       "Name: PaymentMethod, dtype: int64"
      ]
     },
     "execution_count": 5,
     "metadata": {},
     "output_type": "execute_result"
    }
   ],
   "source": [
    "contract['PaymentMethod'].value_counts()"
   ]
  },
  {
   "cell_type": "code",
   "execution_count": 6,
   "metadata": {},
   "outputs": [
    {
     "data": {
      "text/plain": [
       "Month-to-month    3875\n",
       "Two year          1695\n",
       "One year          1473\n",
       "Name: Type, dtype: int64"
      ]
     },
     "execution_count": 6,
     "metadata": {},
     "output_type": "execute_result"
    }
   ],
   "source": [
    "contract['Type'].value_counts()"
   ]
  },
  {
   "cell_type": "markdown",
   "metadata": {},
   "source": [
    "#####  Вывод  \n",
    "-  В данных нет пропусков\n",
    "- BeginDate и EndDate надо перевести в формат даты\n",
    "- No в EndDate означает, что пользователь продолжает пользоваться услугами - это целевой признак\n",
    "- После выделения целевого признака надо будет заменить No на 01.02.2020 в EndDate\n",
    "- TotalCharges надо перевести в числовой тип\n",
    "- К PaymentMethod, Type и PaperlessBilling надо применить One Hot Encoding"
   ]
  },
  {
   "cell_type": "code",
   "execution_count": 7,
   "metadata": {},
   "outputs": [
    {
     "name": "stdout",
     "output_type": "stream",
     "text": [
      "Количество стобцов: 5\n",
      "Количество строк: 7043\n"
     ]
    },
    {
     "data": {
      "text/html": [
       "<div>\n",
       "<style scoped>\n",
       "    .dataframe tbody tr th:only-of-type {\n",
       "        vertical-align: middle;\n",
       "    }\n",
       "\n",
       "    .dataframe tbody tr th {\n",
       "        vertical-align: top;\n",
       "    }\n",
       "\n",
       "    .dataframe thead th {\n",
       "        text-align: right;\n",
       "    }\n",
       "</style>\n",
       "<table border=\"1\" class=\"dataframe\">\n",
       "  <thead>\n",
       "    <tr style=\"text-align: right;\">\n",
       "      <th></th>\n",
       "      <th>customerID</th>\n",
       "      <th>gender</th>\n",
       "      <th>SeniorCitizen</th>\n",
       "      <th>Partner</th>\n",
       "      <th>Dependents</th>\n",
       "    </tr>\n",
       "  </thead>\n",
       "  <tbody>\n",
       "    <tr>\n",
       "      <th>0</th>\n",
       "      <td>7590-VHVEG</td>\n",
       "      <td>Female</td>\n",
       "      <td>0</td>\n",
       "      <td>Yes</td>\n",
       "      <td>No</td>\n",
       "    </tr>\n",
       "    <tr>\n",
       "      <th>1</th>\n",
       "      <td>5575-GNVDE</td>\n",
       "      <td>Male</td>\n",
       "      <td>0</td>\n",
       "      <td>No</td>\n",
       "      <td>No</td>\n",
       "    </tr>\n",
       "    <tr>\n",
       "      <th>2</th>\n",
       "      <td>3668-QPYBK</td>\n",
       "      <td>Male</td>\n",
       "      <td>0</td>\n",
       "      <td>No</td>\n",
       "      <td>No</td>\n",
       "    </tr>\n",
       "    <tr>\n",
       "      <th>3</th>\n",
       "      <td>7795-CFOCW</td>\n",
       "      <td>Male</td>\n",
       "      <td>0</td>\n",
       "      <td>No</td>\n",
       "      <td>No</td>\n",
       "    </tr>\n",
       "    <tr>\n",
       "      <th>4</th>\n",
       "      <td>9237-HQITU</td>\n",
       "      <td>Female</td>\n",
       "      <td>0</td>\n",
       "      <td>No</td>\n",
       "      <td>No</td>\n",
       "    </tr>\n",
       "  </tbody>\n",
       "</table>\n",
       "</div>"
      ],
      "text/plain": [
       "   customerID  gender  SeniorCitizen Partner Dependents\n",
       "0  7590-VHVEG  Female              0     Yes         No\n",
       "1  5575-GNVDE    Male              0      No         No\n",
       "2  3668-QPYBK    Male              0      No         No\n",
       "3  7795-CFOCW    Male              0      No         No\n",
       "4  9237-HQITU  Female              0      No         No"
      ]
     },
     "metadata": {},
     "output_type": "display_data"
    },
    {
     "data": {
      "text/html": [
       "<div>\n",
       "<style scoped>\n",
       "    .dataframe tbody tr th:only-of-type {\n",
       "        vertical-align: middle;\n",
       "    }\n",
       "\n",
       "    .dataframe tbody tr th {\n",
       "        vertical-align: top;\n",
       "    }\n",
       "\n",
       "    .dataframe thead th {\n",
       "        text-align: right;\n",
       "    }\n",
       "</style>\n",
       "<table border=\"1\" class=\"dataframe\">\n",
       "  <thead>\n",
       "    <tr style=\"text-align: right;\">\n",
       "      <th></th>\n",
       "      <th>SeniorCitizen</th>\n",
       "    </tr>\n",
       "  </thead>\n",
       "  <tbody>\n",
       "    <tr>\n",
       "      <th>count</th>\n",
       "      <td>7043.000000</td>\n",
       "    </tr>\n",
       "    <tr>\n",
       "      <th>mean</th>\n",
       "      <td>0.162147</td>\n",
       "    </tr>\n",
       "    <tr>\n",
       "      <th>std</th>\n",
       "      <td>0.368612</td>\n",
       "    </tr>\n",
       "    <tr>\n",
       "      <th>min</th>\n",
       "      <td>0.000000</td>\n",
       "    </tr>\n",
       "    <tr>\n",
       "      <th>25%</th>\n",
       "      <td>0.000000</td>\n",
       "    </tr>\n",
       "    <tr>\n",
       "      <th>50%</th>\n",
       "      <td>0.000000</td>\n",
       "    </tr>\n",
       "    <tr>\n",
       "      <th>75%</th>\n",
       "      <td>0.000000</td>\n",
       "    </tr>\n",
       "    <tr>\n",
       "      <th>max</th>\n",
       "      <td>1.000000</td>\n",
       "    </tr>\n",
       "  </tbody>\n",
       "</table>\n",
       "</div>"
      ],
      "text/plain": [
       "       SeniorCitizen\n",
       "count    7043.000000\n",
       "mean        0.162147\n",
       "std         0.368612\n",
       "min         0.000000\n",
       "25%         0.000000\n",
       "50%         0.000000\n",
       "75%         0.000000\n",
       "max         1.000000"
      ]
     },
     "metadata": {},
     "output_type": "display_data"
    },
    {
     "name": "stdout",
     "output_type": "stream",
     "text": [
      "<class 'pandas.core.frame.DataFrame'>\n",
      "RangeIndex: 7043 entries, 0 to 7042\n",
      "Data columns (total 5 columns):\n",
      " #   Column         Non-Null Count  Dtype \n",
      "---  ------         --------------  ----- \n",
      " 0   customerID     7043 non-null   object\n",
      " 1   gender         7043 non-null   object\n",
      " 2   SeniorCitizen  7043 non-null   int64 \n",
      " 3   Partner        7043 non-null   object\n",
      " 4   Dependents     7043 non-null   object\n",
      "dtypes: int64(1), object(4)\n",
      "memory usage: 275.2+ KB\n"
     ]
    }
   ],
   "source": [
    "analyze_df(personal)"
   ]
  },
  {
   "cell_type": "markdown",
   "metadata": {},
   "source": [
    "##### Выводы:\n",
    "\n",
    " - В данных нет пропусков\n",
    " - К gender, Partner и Dependents надо применить One Hot Encoding"
   ]
  },
  {
   "cell_type": "code",
   "execution_count": 8,
   "metadata": {},
   "outputs": [
    {
     "name": "stdout",
     "output_type": "stream",
     "text": [
      "Количество стобцов: 8\n",
      "Количество строк: 5517\n"
     ]
    },
    {
     "data": {
      "text/html": [
       "<div>\n",
       "<style scoped>\n",
       "    .dataframe tbody tr th:only-of-type {\n",
       "        vertical-align: middle;\n",
       "    }\n",
       "\n",
       "    .dataframe tbody tr th {\n",
       "        vertical-align: top;\n",
       "    }\n",
       "\n",
       "    .dataframe thead th {\n",
       "        text-align: right;\n",
       "    }\n",
       "</style>\n",
       "<table border=\"1\" class=\"dataframe\">\n",
       "  <thead>\n",
       "    <tr style=\"text-align: right;\">\n",
       "      <th></th>\n",
       "      <th>customerID</th>\n",
       "      <th>InternetService</th>\n",
       "      <th>OnlineSecurity</th>\n",
       "      <th>OnlineBackup</th>\n",
       "      <th>DeviceProtection</th>\n",
       "      <th>TechSupport</th>\n",
       "      <th>StreamingTV</th>\n",
       "      <th>StreamingMovies</th>\n",
       "    </tr>\n",
       "  </thead>\n",
       "  <tbody>\n",
       "    <tr>\n",
       "      <th>0</th>\n",
       "      <td>7590-VHVEG</td>\n",
       "      <td>DSL</td>\n",
       "      <td>No</td>\n",
       "      <td>Yes</td>\n",
       "      <td>No</td>\n",
       "      <td>No</td>\n",
       "      <td>No</td>\n",
       "      <td>No</td>\n",
       "    </tr>\n",
       "    <tr>\n",
       "      <th>1</th>\n",
       "      <td>5575-GNVDE</td>\n",
       "      <td>DSL</td>\n",
       "      <td>Yes</td>\n",
       "      <td>No</td>\n",
       "      <td>Yes</td>\n",
       "      <td>No</td>\n",
       "      <td>No</td>\n",
       "      <td>No</td>\n",
       "    </tr>\n",
       "    <tr>\n",
       "      <th>2</th>\n",
       "      <td>3668-QPYBK</td>\n",
       "      <td>DSL</td>\n",
       "      <td>Yes</td>\n",
       "      <td>Yes</td>\n",
       "      <td>No</td>\n",
       "      <td>No</td>\n",
       "      <td>No</td>\n",
       "      <td>No</td>\n",
       "    </tr>\n",
       "    <tr>\n",
       "      <th>3</th>\n",
       "      <td>7795-CFOCW</td>\n",
       "      <td>DSL</td>\n",
       "      <td>Yes</td>\n",
       "      <td>No</td>\n",
       "      <td>Yes</td>\n",
       "      <td>Yes</td>\n",
       "      <td>No</td>\n",
       "      <td>No</td>\n",
       "    </tr>\n",
       "    <tr>\n",
       "      <th>4</th>\n",
       "      <td>9237-HQITU</td>\n",
       "      <td>Fiber optic</td>\n",
       "      <td>No</td>\n",
       "      <td>No</td>\n",
       "      <td>No</td>\n",
       "      <td>No</td>\n",
       "      <td>No</td>\n",
       "      <td>No</td>\n",
       "    </tr>\n",
       "  </tbody>\n",
       "</table>\n",
       "</div>"
      ],
      "text/plain": [
       "   customerID InternetService OnlineSecurity OnlineBackup DeviceProtection  \\\n",
       "0  7590-VHVEG             DSL             No          Yes               No   \n",
       "1  5575-GNVDE             DSL            Yes           No              Yes   \n",
       "2  3668-QPYBK             DSL            Yes          Yes               No   \n",
       "3  7795-CFOCW             DSL            Yes           No              Yes   \n",
       "4  9237-HQITU     Fiber optic             No           No               No   \n",
       "\n",
       "  TechSupport StreamingTV StreamingMovies  \n",
       "0          No          No              No  \n",
       "1          No          No              No  \n",
       "2          No          No              No  \n",
       "3         Yes          No              No  \n",
       "4          No          No              No  "
      ]
     },
     "metadata": {},
     "output_type": "display_data"
    },
    {
     "data": {
      "text/html": [
       "<div>\n",
       "<style scoped>\n",
       "    .dataframe tbody tr th:only-of-type {\n",
       "        vertical-align: middle;\n",
       "    }\n",
       "\n",
       "    .dataframe tbody tr th {\n",
       "        vertical-align: top;\n",
       "    }\n",
       "\n",
       "    .dataframe thead th {\n",
       "        text-align: right;\n",
       "    }\n",
       "</style>\n",
       "<table border=\"1\" class=\"dataframe\">\n",
       "  <thead>\n",
       "    <tr style=\"text-align: right;\">\n",
       "      <th></th>\n",
       "      <th>customerID</th>\n",
       "      <th>InternetService</th>\n",
       "      <th>OnlineSecurity</th>\n",
       "      <th>OnlineBackup</th>\n",
       "      <th>DeviceProtection</th>\n",
       "      <th>TechSupport</th>\n",
       "      <th>StreamingTV</th>\n",
       "      <th>StreamingMovies</th>\n",
       "    </tr>\n",
       "  </thead>\n",
       "  <tbody>\n",
       "    <tr>\n",
       "      <th>count</th>\n",
       "      <td>5517</td>\n",
       "      <td>5517</td>\n",
       "      <td>5517</td>\n",
       "      <td>5517</td>\n",
       "      <td>5517</td>\n",
       "      <td>5517</td>\n",
       "      <td>5517</td>\n",
       "      <td>5517</td>\n",
       "    </tr>\n",
       "    <tr>\n",
       "      <th>unique</th>\n",
       "      <td>5517</td>\n",
       "      <td>2</td>\n",
       "      <td>2</td>\n",
       "      <td>2</td>\n",
       "      <td>2</td>\n",
       "      <td>2</td>\n",
       "      <td>2</td>\n",
       "      <td>2</td>\n",
       "    </tr>\n",
       "    <tr>\n",
       "      <th>top</th>\n",
       "      <td>7439-DKZTW</td>\n",
       "      <td>Fiber optic</td>\n",
       "      <td>No</td>\n",
       "      <td>No</td>\n",
       "      <td>No</td>\n",
       "      <td>No</td>\n",
       "      <td>No</td>\n",
       "      <td>No</td>\n",
       "    </tr>\n",
       "    <tr>\n",
       "      <th>freq</th>\n",
       "      <td>1</td>\n",
       "      <td>3096</td>\n",
       "      <td>3498</td>\n",
       "      <td>3088</td>\n",
       "      <td>3095</td>\n",
       "      <td>3473</td>\n",
       "      <td>2810</td>\n",
       "      <td>2785</td>\n",
       "    </tr>\n",
       "  </tbody>\n",
       "</table>\n",
       "</div>"
      ],
      "text/plain": [
       "        customerID InternetService OnlineSecurity OnlineBackup  \\\n",
       "count         5517            5517           5517         5517   \n",
       "unique        5517               2              2            2   \n",
       "top     7439-DKZTW     Fiber optic             No           No   \n",
       "freq             1            3096           3498         3088   \n",
       "\n",
       "       DeviceProtection TechSupport StreamingTV StreamingMovies  \n",
       "count              5517        5517        5517            5517  \n",
       "unique                2           2           2               2  \n",
       "top                  No          No          No              No  \n",
       "freq               3095        3473        2810            2785  "
      ]
     },
     "metadata": {},
     "output_type": "display_data"
    },
    {
     "name": "stdout",
     "output_type": "stream",
     "text": [
      "<class 'pandas.core.frame.DataFrame'>\n",
      "RangeIndex: 5517 entries, 0 to 5516\n",
      "Data columns (total 8 columns):\n",
      " #   Column            Non-Null Count  Dtype \n",
      "---  ------            --------------  ----- \n",
      " 0   customerID        5517 non-null   object\n",
      " 1   InternetService   5517 non-null   object\n",
      " 2   OnlineSecurity    5517 non-null   object\n",
      " 3   OnlineBackup      5517 non-null   object\n",
      " 4   DeviceProtection  5517 non-null   object\n",
      " 5   TechSupport       5517 non-null   object\n",
      " 6   StreamingTV       5517 non-null   object\n",
      " 7   StreamingMovies   5517 non-null   object\n",
      "dtypes: object(8)\n",
      "memory usage: 344.9+ KB\n"
     ]
    }
   ],
   "source": [
    "analyze_df(internet)"
   ]
  },
  {
   "cell_type": "code",
   "execution_count": 9,
   "metadata": {},
   "outputs": [
    {
     "data": {
      "text/plain": [
       "Fiber optic    3096\n",
       "DSL            2421\n",
       "Name: InternetService, dtype: int64"
      ]
     },
     "execution_count": 9,
     "metadata": {},
     "output_type": "execute_result"
    }
   ],
   "source": [
    "internet['InternetService'].value_counts()"
   ]
  },
  {
   "cell_type": "markdown",
   "metadata": {},
   "source": [
    "##### Выводы:\n",
    "\n",
    "- В данных нет пропусков\n",
    "- Данные есть не по всем клиентам\n",
    "- К InternetService, OnlineSecurity, OnlineBackup, DeviceProtection, TechSupport, StreamingTV, StreamingMovies надо применить One Hot Encoding"
   ]
  },
  {
   "cell_type": "code",
   "execution_count": 10,
   "metadata": {
    "scrolled": true
   },
   "outputs": [
    {
     "name": "stdout",
     "output_type": "stream",
     "text": [
      "Количество стобцов: 2\n",
      "Количество строк: 6361\n"
     ]
    },
    {
     "data": {
      "text/html": [
       "<div>\n",
       "<style scoped>\n",
       "    .dataframe tbody tr th:only-of-type {\n",
       "        vertical-align: middle;\n",
       "    }\n",
       "\n",
       "    .dataframe tbody tr th {\n",
       "        vertical-align: top;\n",
       "    }\n",
       "\n",
       "    .dataframe thead th {\n",
       "        text-align: right;\n",
       "    }\n",
       "</style>\n",
       "<table border=\"1\" class=\"dataframe\">\n",
       "  <thead>\n",
       "    <tr style=\"text-align: right;\">\n",
       "      <th></th>\n",
       "      <th>customerID</th>\n",
       "      <th>MultipleLines</th>\n",
       "    </tr>\n",
       "  </thead>\n",
       "  <tbody>\n",
       "    <tr>\n",
       "      <th>0</th>\n",
       "      <td>5575-GNVDE</td>\n",
       "      <td>No</td>\n",
       "    </tr>\n",
       "    <tr>\n",
       "      <th>1</th>\n",
       "      <td>3668-QPYBK</td>\n",
       "      <td>No</td>\n",
       "    </tr>\n",
       "    <tr>\n",
       "      <th>2</th>\n",
       "      <td>9237-HQITU</td>\n",
       "      <td>No</td>\n",
       "    </tr>\n",
       "    <tr>\n",
       "      <th>3</th>\n",
       "      <td>9305-CDSKC</td>\n",
       "      <td>Yes</td>\n",
       "    </tr>\n",
       "    <tr>\n",
       "      <th>4</th>\n",
       "      <td>1452-KIOVK</td>\n",
       "      <td>Yes</td>\n",
       "    </tr>\n",
       "  </tbody>\n",
       "</table>\n",
       "</div>"
      ],
      "text/plain": [
       "   customerID MultipleLines\n",
       "0  5575-GNVDE            No\n",
       "1  3668-QPYBK            No\n",
       "2  9237-HQITU            No\n",
       "3  9305-CDSKC           Yes\n",
       "4  1452-KIOVK           Yes"
      ]
     },
     "metadata": {},
     "output_type": "display_data"
    },
    {
     "data": {
      "text/html": [
       "<div>\n",
       "<style scoped>\n",
       "    .dataframe tbody tr th:only-of-type {\n",
       "        vertical-align: middle;\n",
       "    }\n",
       "\n",
       "    .dataframe tbody tr th {\n",
       "        vertical-align: top;\n",
       "    }\n",
       "\n",
       "    .dataframe thead th {\n",
       "        text-align: right;\n",
       "    }\n",
       "</style>\n",
       "<table border=\"1\" class=\"dataframe\">\n",
       "  <thead>\n",
       "    <tr style=\"text-align: right;\">\n",
       "      <th></th>\n",
       "      <th>customerID</th>\n",
       "      <th>MultipleLines</th>\n",
       "    </tr>\n",
       "  </thead>\n",
       "  <tbody>\n",
       "    <tr>\n",
       "      <th>count</th>\n",
       "      <td>6361</td>\n",
       "      <td>6361</td>\n",
       "    </tr>\n",
       "    <tr>\n",
       "      <th>unique</th>\n",
       "      <td>6361</td>\n",
       "      <td>2</td>\n",
       "    </tr>\n",
       "    <tr>\n",
       "      <th>top</th>\n",
       "      <td>4983-CLMLV</td>\n",
       "      <td>No</td>\n",
       "    </tr>\n",
       "    <tr>\n",
       "      <th>freq</th>\n",
       "      <td>1</td>\n",
       "      <td>3390</td>\n",
       "    </tr>\n",
       "  </tbody>\n",
       "</table>\n",
       "</div>"
      ],
      "text/plain": [
       "        customerID MultipleLines\n",
       "count         6361          6361\n",
       "unique        6361             2\n",
       "top     4983-CLMLV            No\n",
       "freq             1          3390"
      ]
     },
     "metadata": {},
     "output_type": "display_data"
    },
    {
     "name": "stdout",
     "output_type": "stream",
     "text": [
      "<class 'pandas.core.frame.DataFrame'>\n",
      "RangeIndex: 6361 entries, 0 to 6360\n",
      "Data columns (total 2 columns):\n",
      " #   Column         Non-Null Count  Dtype \n",
      "---  ------         --------------  ----- \n",
      " 0   customerID     6361 non-null   object\n",
      " 1   MultipleLines  6361 non-null   object\n",
      "dtypes: object(2)\n",
      "memory usage: 99.5+ KB\n"
     ]
    }
   ],
   "source": [
    "analyze_df(phone)"
   ]
  },
  {
   "cell_type": "markdown",
   "metadata": {},
   "source": [
    "##### Выводы:\n",
    "\n",
    "- В данных нет пропусков\n",
    "- Данные есть не по всем клиентам\n",
    "- К MultipleLines надо применить One Hot Encoding"
   ]
  },
  {
   "cell_type": "markdown",
   "metadata": {},
   "source": [
    "## Предобработка данных."
   ]
  },
  {
   "cell_type": "markdown",
   "metadata": {},
   "source": [
    "Для удобства приведем названия столбцов к нижнему регистру:"
   ]
  },
  {
   "cell_type": "code",
   "execution_count": 11,
   "metadata": {},
   "outputs": [],
   "source": [
    "\n",
    "contract.columns = contract.columns.str.lower()\n",
    "personal.columns = personal.columns.str.lower()\n",
    "internet.columns = internet.columns.str.lower()\n",
    "phone.columns = phone.columns.str.lower()"
   ]
  },
  {
   "cell_type": "markdown",
   "metadata": {},
   "source": [
    "Добавим целевой признак churn, который будет означать отказался клиент от услуг или нет.\n",
    "Если значение в столбце enddate равно \"No\", то значит клиент не ушел и целевой признак равен 0.\n",
    "Если дата ухода есть, то целевой признак равен 1."
   ]
  },
  {
   "cell_type": "code",
   "execution_count": 12,
   "metadata": {},
   "outputs": [
    {
     "data": {
      "text/html": [
       "<div>\n",
       "<style scoped>\n",
       "    .dataframe tbody tr th:only-of-type {\n",
       "        vertical-align: middle;\n",
       "    }\n",
       "\n",
       "    .dataframe tbody tr th {\n",
       "        vertical-align: top;\n",
       "    }\n",
       "\n",
       "    .dataframe thead th {\n",
       "        text-align: right;\n",
       "    }\n",
       "</style>\n",
       "<table border=\"1\" class=\"dataframe\">\n",
       "  <thead>\n",
       "    <tr style=\"text-align: right;\">\n",
       "      <th></th>\n",
       "      <th>customerid</th>\n",
       "      <th>begindate</th>\n",
       "      <th>enddate</th>\n",
       "      <th>type</th>\n",
       "      <th>paperlessbilling</th>\n",
       "      <th>paymentmethod</th>\n",
       "      <th>monthlycharges</th>\n",
       "      <th>totalcharges</th>\n",
       "      <th>churn</th>\n",
       "    </tr>\n",
       "  </thead>\n",
       "  <tbody>\n",
       "    <tr>\n",
       "      <th>0</th>\n",
       "      <td>7590-VHVEG</td>\n",
       "      <td>2020-01-01</td>\n",
       "      <td>No</td>\n",
       "      <td>Month-to-month</td>\n",
       "      <td>Yes</td>\n",
       "      <td>Electronic check</td>\n",
       "      <td>29.85</td>\n",
       "      <td>29.85</td>\n",
       "      <td>0</td>\n",
       "    </tr>\n",
       "    <tr>\n",
       "      <th>1</th>\n",
       "      <td>5575-GNVDE</td>\n",
       "      <td>2017-04-01</td>\n",
       "      <td>No</td>\n",
       "      <td>One year</td>\n",
       "      <td>No</td>\n",
       "      <td>Mailed check</td>\n",
       "      <td>56.95</td>\n",
       "      <td>1889.5</td>\n",
       "      <td>0</td>\n",
       "    </tr>\n",
       "    <tr>\n",
       "      <th>2</th>\n",
       "      <td>3668-QPYBK</td>\n",
       "      <td>2019-10-01</td>\n",
       "      <td>2019-12-01 00:00:00</td>\n",
       "      <td>Month-to-month</td>\n",
       "      <td>Yes</td>\n",
       "      <td>Mailed check</td>\n",
       "      <td>53.85</td>\n",
       "      <td>108.15</td>\n",
       "      <td>1</td>\n",
       "    </tr>\n",
       "    <tr>\n",
       "      <th>3</th>\n",
       "      <td>7795-CFOCW</td>\n",
       "      <td>2016-05-01</td>\n",
       "      <td>No</td>\n",
       "      <td>One year</td>\n",
       "      <td>No</td>\n",
       "      <td>Bank transfer (automatic)</td>\n",
       "      <td>42.30</td>\n",
       "      <td>1840.75</td>\n",
       "      <td>0</td>\n",
       "    </tr>\n",
       "    <tr>\n",
       "      <th>4</th>\n",
       "      <td>9237-HQITU</td>\n",
       "      <td>2019-09-01</td>\n",
       "      <td>2019-11-01 00:00:00</td>\n",
       "      <td>Month-to-month</td>\n",
       "      <td>Yes</td>\n",
       "      <td>Electronic check</td>\n",
       "      <td>70.70</td>\n",
       "      <td>151.65</td>\n",
       "      <td>1</td>\n",
       "    </tr>\n",
       "  </tbody>\n",
       "</table>\n",
       "</div>"
      ],
      "text/plain": [
       "   customerid   begindate              enddate            type  \\\n",
       "0  7590-VHVEG  2020-01-01                   No  Month-to-month   \n",
       "1  5575-GNVDE  2017-04-01                   No        One year   \n",
       "2  3668-QPYBK  2019-10-01  2019-12-01 00:00:00  Month-to-month   \n",
       "3  7795-CFOCW  2016-05-01                   No        One year   \n",
       "4  9237-HQITU  2019-09-01  2019-11-01 00:00:00  Month-to-month   \n",
       "\n",
       "  paperlessbilling              paymentmethod  monthlycharges totalcharges  \\\n",
       "0              Yes           Electronic check           29.85        29.85   \n",
       "1               No               Mailed check           56.95       1889.5   \n",
       "2              Yes               Mailed check           53.85       108.15   \n",
       "3               No  Bank transfer (automatic)           42.30      1840.75   \n",
       "4              Yes           Electronic check           70.70       151.65   \n",
       "\n",
       "   churn  \n",
       "0      0  \n",
       "1      0  \n",
       "2      1  \n",
       "3      0  \n",
       "4      1  "
      ]
     },
     "execution_count": 12,
     "metadata": {},
     "output_type": "execute_result"
    }
   ],
   "source": [
    "contract['churn'] = (contract['enddate'] != 'No').astype(int)\n",
    "contract.head()"
   ]
  },
  {
   "cell_type": "markdown",
   "metadata": {},
   "source": [
    "Заменим все значения \"No\" в EndDate на начальную  дату датасета - 01.02.2020"
   ]
  },
  {
   "cell_type": "code",
   "execution_count": 13,
   "metadata": {},
   "outputs": [
    {
     "name": "stdout",
     "output_type": "stream",
     "text": [
      "0\n"
     ]
    }
   ],
   "source": [
    "contract['enddate'] = contract['enddate'].replace(['No'], ['2020-02-01'])\n",
    "print(contract[contract['enddate'] == 'No'].shape[0])"
   ]
  },
  {
   "cell_type": "markdown",
   "metadata": {},
   "source": [
    "Переведем enddate и begindate в формат даты"
   ]
  },
  {
   "cell_type": "code",
   "execution_count": 14,
   "metadata": {},
   "outputs": [
    {
     "name": "stdout",
     "output_type": "stream",
     "text": [
      "<class 'pandas.core.frame.DataFrame'>\n",
      "RangeIndex: 7043 entries, 0 to 7042\n",
      "Data columns (total 9 columns):\n",
      " #   Column            Non-Null Count  Dtype         \n",
      "---  ------            --------------  -----         \n",
      " 0   customerid        7043 non-null   object        \n",
      " 1   begindate         7043 non-null   datetime64[ns]\n",
      " 2   enddate           7043 non-null   datetime64[ns]\n",
      " 3   type              7043 non-null   object        \n",
      " 4   paperlessbilling  7043 non-null   object        \n",
      " 5   paymentmethod     7043 non-null   object        \n",
      " 6   monthlycharges    7043 non-null   float64       \n",
      " 7   totalcharges      7043 non-null   object        \n",
      " 8   churn             7043 non-null   int64         \n",
      "dtypes: datetime64[ns](2), float64(1), int64(1), object(5)\n",
      "memory usage: 495.3+ KB\n"
     ]
    }
   ],
   "source": [
    "contract['begindate'] = pd.to_datetime(contract['begindate'], format='%Y-%m-%d')\n",
    "contract['enddate'] = pd.to_datetime(contract['enddate'], format='%Y-%m-%d')\n",
    "contract.info()"
   ]
  },
  {
   "cell_type": "markdown",
   "metadata": {},
   "source": [
    "Заведем новый столбец totaldays, который будет означать, сколько пользователь пользовался услугами"
   ]
  },
  {
   "cell_type": "code",
   "execution_count": 15,
   "metadata": {},
   "outputs": [],
   "source": [
    "contract['totaldays'] = (contract['enddate'] - contract['begindate']).dt.days"
   ]
  },
  {
   "cell_type": "markdown",
   "metadata": {},
   "source": [
    "Переведем totalcharges в числовой тип"
   ]
  },
  {
   "cell_type": "code",
   "execution_count": 16,
   "metadata": {},
   "outputs": [
    {
     "name": "stdout",
     "output_type": "stream",
     "text": [
      "<class 'pandas.core.frame.DataFrame'>\n",
      "RangeIndex: 7043 entries, 0 to 7042\n",
      "Data columns (total 10 columns):\n",
      " #   Column            Non-Null Count  Dtype         \n",
      "---  ------            --------------  -----         \n",
      " 0   customerid        7043 non-null   object        \n",
      " 1   begindate         7043 non-null   datetime64[ns]\n",
      " 2   enddate           7043 non-null   datetime64[ns]\n",
      " 3   type              7043 non-null   object        \n",
      " 4   paperlessbilling  7043 non-null   object        \n",
      " 5   paymentmethod     7043 non-null   object        \n",
      " 6   monthlycharges    7043 non-null   float64       \n",
      " 7   totalcharges      7032 non-null   float64       \n",
      " 8   churn             7043 non-null   int64         \n",
      " 9   totaldays         7043 non-null   int64         \n",
      "dtypes: datetime64[ns](2), float64(2), int64(2), object(4)\n",
      "memory usage: 550.4+ KB\n"
     ]
    }
   ],
   "source": [
    "contract['totalcharges'] = pd.to_numeric(contract['totalcharges'], errors ='coerce')\n",
    "contract.info()"
   ]
  },
  {
   "cell_type": "markdown",
   "metadata": {},
   "source": [
    "В столбце totalcharges есть пропуски, посмотрим на них.\n"
   ]
  },
  {
   "cell_type": "code",
   "execution_count": 17,
   "metadata": {},
   "outputs": [
    {
     "data": {
      "text/html": [
       "<div>\n",
       "<style scoped>\n",
       "    .dataframe tbody tr th:only-of-type {\n",
       "        vertical-align: middle;\n",
       "    }\n",
       "\n",
       "    .dataframe tbody tr th {\n",
       "        vertical-align: top;\n",
       "    }\n",
       "\n",
       "    .dataframe thead th {\n",
       "        text-align: right;\n",
       "    }\n",
       "</style>\n",
       "<table border=\"1\" class=\"dataframe\">\n",
       "  <thead>\n",
       "    <tr style=\"text-align: right;\">\n",
       "      <th></th>\n",
       "      <th>customerid</th>\n",
       "      <th>begindate</th>\n",
       "      <th>enddate</th>\n",
       "      <th>type</th>\n",
       "      <th>paperlessbilling</th>\n",
       "      <th>paymentmethod</th>\n",
       "      <th>monthlycharges</th>\n",
       "      <th>totalcharges</th>\n",
       "      <th>churn</th>\n",
       "      <th>totaldays</th>\n",
       "    </tr>\n",
       "  </thead>\n",
       "  <tbody>\n",
       "    <tr>\n",
       "      <th>488</th>\n",
       "      <td>4472-LVYGI</td>\n",
       "      <td>2020-02-01</td>\n",
       "      <td>2020-02-01</td>\n",
       "      <td>Two year</td>\n",
       "      <td>Yes</td>\n",
       "      <td>Bank transfer (automatic)</td>\n",
       "      <td>52.55</td>\n",
       "      <td>NaN</td>\n",
       "      <td>0</td>\n",
       "      <td>0</td>\n",
       "    </tr>\n",
       "    <tr>\n",
       "      <th>753</th>\n",
       "      <td>3115-CZMZD</td>\n",
       "      <td>2020-02-01</td>\n",
       "      <td>2020-02-01</td>\n",
       "      <td>Two year</td>\n",
       "      <td>No</td>\n",
       "      <td>Mailed check</td>\n",
       "      <td>20.25</td>\n",
       "      <td>NaN</td>\n",
       "      <td>0</td>\n",
       "      <td>0</td>\n",
       "    </tr>\n",
       "    <tr>\n",
       "      <th>936</th>\n",
       "      <td>5709-LVOEQ</td>\n",
       "      <td>2020-02-01</td>\n",
       "      <td>2020-02-01</td>\n",
       "      <td>Two year</td>\n",
       "      <td>No</td>\n",
       "      <td>Mailed check</td>\n",
       "      <td>80.85</td>\n",
       "      <td>NaN</td>\n",
       "      <td>0</td>\n",
       "      <td>0</td>\n",
       "    </tr>\n",
       "    <tr>\n",
       "      <th>1082</th>\n",
       "      <td>4367-NUYAO</td>\n",
       "      <td>2020-02-01</td>\n",
       "      <td>2020-02-01</td>\n",
       "      <td>Two year</td>\n",
       "      <td>No</td>\n",
       "      <td>Mailed check</td>\n",
       "      <td>25.75</td>\n",
       "      <td>NaN</td>\n",
       "      <td>0</td>\n",
       "      <td>0</td>\n",
       "    </tr>\n",
       "    <tr>\n",
       "      <th>1340</th>\n",
       "      <td>1371-DWPAZ</td>\n",
       "      <td>2020-02-01</td>\n",
       "      <td>2020-02-01</td>\n",
       "      <td>Two year</td>\n",
       "      <td>No</td>\n",
       "      <td>Credit card (automatic)</td>\n",
       "      <td>56.05</td>\n",
       "      <td>NaN</td>\n",
       "      <td>0</td>\n",
       "      <td>0</td>\n",
       "    </tr>\n",
       "    <tr>\n",
       "      <th>3331</th>\n",
       "      <td>7644-OMVMY</td>\n",
       "      <td>2020-02-01</td>\n",
       "      <td>2020-02-01</td>\n",
       "      <td>Two year</td>\n",
       "      <td>No</td>\n",
       "      <td>Mailed check</td>\n",
       "      <td>19.85</td>\n",
       "      <td>NaN</td>\n",
       "      <td>0</td>\n",
       "      <td>0</td>\n",
       "    </tr>\n",
       "    <tr>\n",
       "      <th>3826</th>\n",
       "      <td>3213-VVOLG</td>\n",
       "      <td>2020-02-01</td>\n",
       "      <td>2020-02-01</td>\n",
       "      <td>Two year</td>\n",
       "      <td>No</td>\n",
       "      <td>Mailed check</td>\n",
       "      <td>25.35</td>\n",
       "      <td>NaN</td>\n",
       "      <td>0</td>\n",
       "      <td>0</td>\n",
       "    </tr>\n",
       "    <tr>\n",
       "      <th>4380</th>\n",
       "      <td>2520-SGTTA</td>\n",
       "      <td>2020-02-01</td>\n",
       "      <td>2020-02-01</td>\n",
       "      <td>Two year</td>\n",
       "      <td>No</td>\n",
       "      <td>Mailed check</td>\n",
       "      <td>20.00</td>\n",
       "      <td>NaN</td>\n",
       "      <td>0</td>\n",
       "      <td>0</td>\n",
       "    </tr>\n",
       "    <tr>\n",
       "      <th>5218</th>\n",
       "      <td>2923-ARZLG</td>\n",
       "      <td>2020-02-01</td>\n",
       "      <td>2020-02-01</td>\n",
       "      <td>One year</td>\n",
       "      <td>Yes</td>\n",
       "      <td>Mailed check</td>\n",
       "      <td>19.70</td>\n",
       "      <td>NaN</td>\n",
       "      <td>0</td>\n",
       "      <td>0</td>\n",
       "    </tr>\n",
       "    <tr>\n",
       "      <th>6670</th>\n",
       "      <td>4075-WKNIU</td>\n",
       "      <td>2020-02-01</td>\n",
       "      <td>2020-02-01</td>\n",
       "      <td>Two year</td>\n",
       "      <td>No</td>\n",
       "      <td>Mailed check</td>\n",
       "      <td>73.35</td>\n",
       "      <td>NaN</td>\n",
       "      <td>0</td>\n",
       "      <td>0</td>\n",
       "    </tr>\n",
       "    <tr>\n",
       "      <th>6754</th>\n",
       "      <td>2775-SEFEE</td>\n",
       "      <td>2020-02-01</td>\n",
       "      <td>2020-02-01</td>\n",
       "      <td>Two year</td>\n",
       "      <td>Yes</td>\n",
       "      <td>Bank transfer (automatic)</td>\n",
       "      <td>61.90</td>\n",
       "      <td>NaN</td>\n",
       "      <td>0</td>\n",
       "      <td>0</td>\n",
       "    </tr>\n",
       "  </tbody>\n",
       "</table>\n",
       "</div>"
      ],
      "text/plain": [
       "      customerid  begindate    enddate      type paperlessbilling  \\\n",
       "488   4472-LVYGI 2020-02-01 2020-02-01  Two year              Yes   \n",
       "753   3115-CZMZD 2020-02-01 2020-02-01  Two year               No   \n",
       "936   5709-LVOEQ 2020-02-01 2020-02-01  Two year               No   \n",
       "1082  4367-NUYAO 2020-02-01 2020-02-01  Two year               No   \n",
       "1340  1371-DWPAZ 2020-02-01 2020-02-01  Two year               No   \n",
       "3331  7644-OMVMY 2020-02-01 2020-02-01  Two year               No   \n",
       "3826  3213-VVOLG 2020-02-01 2020-02-01  Two year               No   \n",
       "4380  2520-SGTTA 2020-02-01 2020-02-01  Two year               No   \n",
       "5218  2923-ARZLG 2020-02-01 2020-02-01  One year              Yes   \n",
       "6670  4075-WKNIU 2020-02-01 2020-02-01  Two year               No   \n",
       "6754  2775-SEFEE 2020-02-01 2020-02-01  Two year              Yes   \n",
       "\n",
       "                  paymentmethod  monthlycharges  totalcharges  churn  \\\n",
       "488   Bank transfer (automatic)           52.55           NaN      0   \n",
       "753                Mailed check           20.25           NaN      0   \n",
       "936                Mailed check           80.85           NaN      0   \n",
       "1082               Mailed check           25.75           NaN      0   \n",
       "1340    Credit card (automatic)           56.05           NaN      0   \n",
       "3331               Mailed check           19.85           NaN      0   \n",
       "3826               Mailed check           25.35           NaN      0   \n",
       "4380               Mailed check           20.00           NaN      0   \n",
       "5218               Mailed check           19.70           NaN      0   \n",
       "6670               Mailed check           73.35           NaN      0   \n",
       "6754  Bank transfer (automatic)           61.90           NaN      0   \n",
       "\n",
       "      totaldays  \n",
       "488           0  \n",
       "753           0  \n",
       "936           0  \n",
       "1082          0  \n",
       "1340          0  \n",
       "3331          0  \n",
       "3826          0  \n",
       "4380          0  \n",
       "5218          0  \n",
       "6670          0  \n",
       "6754          0  "
      ]
     },
     "execution_count": 17,
     "metadata": {},
     "output_type": "execute_result"
    }
   ],
   "source": [
    "contract[contract['totalcharges'].isnull()]"
   ]
  },
  {
   "cell_type": "markdown",
   "metadata": {},
   "source": [
    "Видно, что все эти клиенты подключены всего 1 день.Это новички. Заполним пропуски в totalcharges на 0"
   ]
  },
  {
   "cell_type": "code",
   "execution_count": 18,
   "metadata": {},
   "outputs": [
    {
     "data": {
      "text/plain": [
       "0"
      ]
     },
     "execution_count": 18,
     "metadata": {},
     "output_type": "execute_result"
    }
   ],
   "source": [
    "contract['totalcharges'] = contract['totalcharges'].fillna(0)\n",
    "contract['totalcharges'].isnull().sum()"
   ]
  },
  {
   "cell_type": "markdown",
   "metadata": {},
   "source": [
    "Объединим все таблицы в один датафрейм"
   ]
  },
  {
   "cell_type": "code",
   "execution_count": 19,
   "metadata": {},
   "outputs": [],
   "source": [
    "churn = contract \\\n",
    "    .merge(personal, how='left', on='customerid') \\\n",
    "    .merge(internet, how='left', on='customerid') \\\n",
    "    .merge(phone, how='left', on='customerid')"
   ]
  },
  {
   "cell_type": "markdown",
   "metadata": {},
   "source": [
    "Уникальность customerid"
   ]
  },
  {
   "cell_type": "code",
   "execution_count": 20,
   "metadata": {},
   "outputs": [
    {
     "data": {
      "text/plain": [
       "True"
      ]
     },
     "execution_count": 20,
     "metadata": {},
     "output_type": "execute_result"
    }
   ],
   "source": [
    "churn['customerid'].is_unique"
   ]
  },
  {
   "cell_type": "markdown",
   "metadata": {},
   "source": [
    "Установим CustomerID в качестве индекса"
   ]
  },
  {
   "cell_type": "code",
   "execution_count": 21,
   "metadata": {},
   "outputs": [],
   "source": [
    "churn = churn.set_index('customerid')"
   ]
  },
  {
   "cell_type": "code",
   "execution_count": 22,
   "metadata": {},
   "outputs": [
    {
     "name": "stdout",
     "output_type": "stream",
     "text": [
      "Количество стобцов: 21\n",
      "Количество строк: 7043\n"
     ]
    },
    {
     "data": {
      "text/html": [
       "<div>\n",
       "<style scoped>\n",
       "    .dataframe tbody tr th:only-of-type {\n",
       "        vertical-align: middle;\n",
       "    }\n",
       "\n",
       "    .dataframe tbody tr th {\n",
       "        vertical-align: top;\n",
       "    }\n",
       "\n",
       "    .dataframe thead th {\n",
       "        text-align: right;\n",
       "    }\n",
       "</style>\n",
       "<table border=\"1\" class=\"dataframe\">\n",
       "  <thead>\n",
       "    <tr style=\"text-align: right;\">\n",
       "      <th></th>\n",
       "      <th>begindate</th>\n",
       "      <th>enddate</th>\n",
       "      <th>type</th>\n",
       "      <th>paperlessbilling</th>\n",
       "      <th>paymentmethod</th>\n",
       "      <th>monthlycharges</th>\n",
       "      <th>totalcharges</th>\n",
       "      <th>churn</th>\n",
       "      <th>totaldays</th>\n",
       "      <th>gender</th>\n",
       "      <th>seniorcitizen</th>\n",
       "      <th>partner</th>\n",
       "      <th>dependents</th>\n",
       "      <th>internetservice</th>\n",
       "      <th>onlinesecurity</th>\n",
       "      <th>onlinebackup</th>\n",
       "      <th>deviceprotection</th>\n",
       "      <th>techsupport</th>\n",
       "      <th>streamingtv</th>\n",
       "      <th>streamingmovies</th>\n",
       "      <th>multiplelines</th>\n",
       "    </tr>\n",
       "    <tr>\n",
       "      <th>customerid</th>\n",
       "      <th></th>\n",
       "      <th></th>\n",
       "      <th></th>\n",
       "      <th></th>\n",
       "      <th></th>\n",
       "      <th></th>\n",
       "      <th></th>\n",
       "      <th></th>\n",
       "      <th></th>\n",
       "      <th></th>\n",
       "      <th></th>\n",
       "      <th></th>\n",
       "      <th></th>\n",
       "      <th></th>\n",
       "      <th></th>\n",
       "      <th></th>\n",
       "      <th></th>\n",
       "      <th></th>\n",
       "      <th></th>\n",
       "      <th></th>\n",
       "      <th></th>\n",
       "    </tr>\n",
       "  </thead>\n",
       "  <tbody>\n",
       "    <tr>\n",
       "      <th>7590-VHVEG</th>\n",
       "      <td>2020-01-01</td>\n",
       "      <td>2020-02-01</td>\n",
       "      <td>Month-to-month</td>\n",
       "      <td>Yes</td>\n",
       "      <td>Electronic check</td>\n",
       "      <td>29.85</td>\n",
       "      <td>29.85</td>\n",
       "      <td>0</td>\n",
       "      <td>31</td>\n",
       "      <td>Female</td>\n",
       "      <td>0</td>\n",
       "      <td>Yes</td>\n",
       "      <td>No</td>\n",
       "      <td>DSL</td>\n",
       "      <td>No</td>\n",
       "      <td>Yes</td>\n",
       "      <td>No</td>\n",
       "      <td>No</td>\n",
       "      <td>No</td>\n",
       "      <td>No</td>\n",
       "      <td>NaN</td>\n",
       "    </tr>\n",
       "    <tr>\n",
       "      <th>5575-GNVDE</th>\n",
       "      <td>2017-04-01</td>\n",
       "      <td>2020-02-01</td>\n",
       "      <td>One year</td>\n",
       "      <td>No</td>\n",
       "      <td>Mailed check</td>\n",
       "      <td>56.95</td>\n",
       "      <td>1889.50</td>\n",
       "      <td>0</td>\n",
       "      <td>1036</td>\n",
       "      <td>Male</td>\n",
       "      <td>0</td>\n",
       "      <td>No</td>\n",
       "      <td>No</td>\n",
       "      <td>DSL</td>\n",
       "      <td>Yes</td>\n",
       "      <td>No</td>\n",
       "      <td>Yes</td>\n",
       "      <td>No</td>\n",
       "      <td>No</td>\n",
       "      <td>No</td>\n",
       "      <td>No</td>\n",
       "    </tr>\n",
       "    <tr>\n",
       "      <th>3668-QPYBK</th>\n",
       "      <td>2019-10-01</td>\n",
       "      <td>2019-12-01</td>\n",
       "      <td>Month-to-month</td>\n",
       "      <td>Yes</td>\n",
       "      <td>Mailed check</td>\n",
       "      <td>53.85</td>\n",
       "      <td>108.15</td>\n",
       "      <td>1</td>\n",
       "      <td>61</td>\n",
       "      <td>Male</td>\n",
       "      <td>0</td>\n",
       "      <td>No</td>\n",
       "      <td>No</td>\n",
       "      <td>DSL</td>\n",
       "      <td>Yes</td>\n",
       "      <td>Yes</td>\n",
       "      <td>No</td>\n",
       "      <td>No</td>\n",
       "      <td>No</td>\n",
       "      <td>No</td>\n",
       "      <td>No</td>\n",
       "    </tr>\n",
       "    <tr>\n",
       "      <th>7795-CFOCW</th>\n",
       "      <td>2016-05-01</td>\n",
       "      <td>2020-02-01</td>\n",
       "      <td>One year</td>\n",
       "      <td>No</td>\n",
       "      <td>Bank transfer (automatic)</td>\n",
       "      <td>42.30</td>\n",
       "      <td>1840.75</td>\n",
       "      <td>0</td>\n",
       "      <td>1371</td>\n",
       "      <td>Male</td>\n",
       "      <td>0</td>\n",
       "      <td>No</td>\n",
       "      <td>No</td>\n",
       "      <td>DSL</td>\n",
       "      <td>Yes</td>\n",
       "      <td>No</td>\n",
       "      <td>Yes</td>\n",
       "      <td>Yes</td>\n",
       "      <td>No</td>\n",
       "      <td>No</td>\n",
       "      <td>NaN</td>\n",
       "    </tr>\n",
       "    <tr>\n",
       "      <th>9237-HQITU</th>\n",
       "      <td>2019-09-01</td>\n",
       "      <td>2019-11-01</td>\n",
       "      <td>Month-to-month</td>\n",
       "      <td>Yes</td>\n",
       "      <td>Electronic check</td>\n",
       "      <td>70.70</td>\n",
       "      <td>151.65</td>\n",
       "      <td>1</td>\n",
       "      <td>61</td>\n",
       "      <td>Female</td>\n",
       "      <td>0</td>\n",
       "      <td>No</td>\n",
       "      <td>No</td>\n",
       "      <td>Fiber optic</td>\n",
       "      <td>No</td>\n",
       "      <td>No</td>\n",
       "      <td>No</td>\n",
       "      <td>No</td>\n",
       "      <td>No</td>\n",
       "      <td>No</td>\n",
       "      <td>No</td>\n",
       "    </tr>\n",
       "  </tbody>\n",
       "</table>\n",
       "</div>"
      ],
      "text/plain": [
       "            begindate    enddate            type paperlessbilling  \\\n",
       "customerid                                                          \n",
       "7590-VHVEG 2020-01-01 2020-02-01  Month-to-month              Yes   \n",
       "5575-GNVDE 2017-04-01 2020-02-01        One year               No   \n",
       "3668-QPYBK 2019-10-01 2019-12-01  Month-to-month              Yes   \n",
       "7795-CFOCW 2016-05-01 2020-02-01        One year               No   \n",
       "9237-HQITU 2019-09-01 2019-11-01  Month-to-month              Yes   \n",
       "\n",
       "                        paymentmethod  monthlycharges  totalcharges  churn  \\\n",
       "customerid                                                                   \n",
       "7590-VHVEG           Electronic check           29.85         29.85      0   \n",
       "5575-GNVDE               Mailed check           56.95       1889.50      0   \n",
       "3668-QPYBK               Mailed check           53.85        108.15      1   \n",
       "7795-CFOCW  Bank transfer (automatic)           42.30       1840.75      0   \n",
       "9237-HQITU           Electronic check           70.70        151.65      1   \n",
       "\n",
       "            totaldays  gender  seniorcitizen partner dependents  \\\n",
       "customerid                                                        \n",
       "7590-VHVEG         31  Female              0     Yes         No   \n",
       "5575-GNVDE       1036    Male              0      No         No   \n",
       "3668-QPYBK         61    Male              0      No         No   \n",
       "7795-CFOCW       1371    Male              0      No         No   \n",
       "9237-HQITU         61  Female              0      No         No   \n",
       "\n",
       "           internetservice onlinesecurity onlinebackup deviceprotection  \\\n",
       "customerid                                                                \n",
       "7590-VHVEG             DSL             No          Yes               No   \n",
       "5575-GNVDE             DSL            Yes           No              Yes   \n",
       "3668-QPYBK             DSL            Yes          Yes               No   \n",
       "7795-CFOCW             DSL            Yes           No              Yes   \n",
       "9237-HQITU     Fiber optic             No           No               No   \n",
       "\n",
       "           techsupport streamingtv streamingmovies multiplelines  \n",
       "customerid                                                        \n",
       "7590-VHVEG          No          No              No           NaN  \n",
       "5575-GNVDE          No          No              No            No  \n",
       "3668-QPYBK          No          No              No            No  \n",
       "7795-CFOCW         Yes          No              No           NaN  \n",
       "9237-HQITU          No          No              No            No  "
      ]
     },
     "metadata": {},
     "output_type": "display_data"
    },
    {
     "data": {
      "text/html": [
       "<div>\n",
       "<style scoped>\n",
       "    .dataframe tbody tr th:only-of-type {\n",
       "        vertical-align: middle;\n",
       "    }\n",
       "\n",
       "    .dataframe tbody tr th {\n",
       "        vertical-align: top;\n",
       "    }\n",
       "\n",
       "    .dataframe thead th {\n",
       "        text-align: right;\n",
       "    }\n",
       "</style>\n",
       "<table border=\"1\" class=\"dataframe\">\n",
       "  <thead>\n",
       "    <tr style=\"text-align: right;\">\n",
       "      <th></th>\n",
       "      <th>monthlycharges</th>\n",
       "      <th>totalcharges</th>\n",
       "      <th>churn</th>\n",
       "      <th>totaldays</th>\n",
       "      <th>seniorcitizen</th>\n",
       "    </tr>\n",
       "  </thead>\n",
       "  <tbody>\n",
       "    <tr>\n",
       "      <th>count</th>\n",
       "      <td>7043.000000</td>\n",
       "      <td>7043.000000</td>\n",
       "      <td>7043.000000</td>\n",
       "      <td>7043.000000</td>\n",
       "      <td>7043.000000</td>\n",
       "    </tr>\n",
       "    <tr>\n",
       "      <th>mean</th>\n",
       "      <td>64.761692</td>\n",
       "      <td>2279.734304</td>\n",
       "      <td>0.265370</td>\n",
       "      <td>985.996166</td>\n",
       "      <td>0.162147</td>\n",
       "    </tr>\n",
       "    <tr>\n",
       "      <th>std</th>\n",
       "      <td>30.090047</td>\n",
       "      <td>2266.794470</td>\n",
       "      <td>0.441561</td>\n",
       "      <td>747.587844</td>\n",
       "      <td>0.368612</td>\n",
       "    </tr>\n",
       "    <tr>\n",
       "      <th>min</th>\n",
       "      <td>18.250000</td>\n",
       "      <td>0.000000</td>\n",
       "      <td>0.000000</td>\n",
       "      <td>0.000000</td>\n",
       "      <td>0.000000</td>\n",
       "    </tr>\n",
       "    <tr>\n",
       "      <th>25%</th>\n",
       "      <td>35.500000</td>\n",
       "      <td>398.550000</td>\n",
       "      <td>0.000000</td>\n",
       "      <td>273.000000</td>\n",
       "      <td>0.000000</td>\n",
       "    </tr>\n",
       "    <tr>\n",
       "      <th>50%</th>\n",
       "      <td>70.350000</td>\n",
       "      <td>1394.550000</td>\n",
       "      <td>0.000000</td>\n",
       "      <td>883.000000</td>\n",
       "      <td>0.000000</td>\n",
       "    </tr>\n",
       "    <tr>\n",
       "      <th>75%</th>\n",
       "      <td>89.850000</td>\n",
       "      <td>3786.600000</td>\n",
       "      <td>1.000000</td>\n",
       "      <td>1676.000000</td>\n",
       "      <td>0.000000</td>\n",
       "    </tr>\n",
       "    <tr>\n",
       "      <th>max</th>\n",
       "      <td>118.750000</td>\n",
       "      <td>8684.800000</td>\n",
       "      <td>1.000000</td>\n",
       "      <td>2191.000000</td>\n",
       "      <td>1.000000</td>\n",
       "    </tr>\n",
       "  </tbody>\n",
       "</table>\n",
       "</div>"
      ],
      "text/plain": [
       "       monthlycharges  totalcharges        churn    totaldays  seniorcitizen\n",
       "count     7043.000000   7043.000000  7043.000000  7043.000000    7043.000000\n",
       "mean        64.761692   2279.734304     0.265370   985.996166       0.162147\n",
       "std         30.090047   2266.794470     0.441561   747.587844       0.368612\n",
       "min         18.250000      0.000000     0.000000     0.000000       0.000000\n",
       "25%         35.500000    398.550000     0.000000   273.000000       0.000000\n",
       "50%         70.350000   1394.550000     0.000000   883.000000       0.000000\n",
       "75%         89.850000   3786.600000     1.000000  1676.000000       0.000000\n",
       "max        118.750000   8684.800000     1.000000  2191.000000       1.000000"
      ]
     },
     "metadata": {},
     "output_type": "display_data"
    },
    {
     "name": "stdout",
     "output_type": "stream",
     "text": [
      "<class 'pandas.core.frame.DataFrame'>\n",
      "Index: 7043 entries, 7590-VHVEG to 3186-AJIEK\n",
      "Data columns (total 21 columns):\n",
      " #   Column            Non-Null Count  Dtype         \n",
      "---  ------            --------------  -----         \n",
      " 0   begindate         7043 non-null   datetime64[ns]\n",
      " 1   enddate           7043 non-null   datetime64[ns]\n",
      " 2   type              7043 non-null   object        \n",
      " 3   paperlessbilling  7043 non-null   object        \n",
      " 4   paymentmethod     7043 non-null   object        \n",
      " 5   monthlycharges    7043 non-null   float64       \n",
      " 6   totalcharges      7043 non-null   float64       \n",
      " 7   churn             7043 non-null   int64         \n",
      " 8   totaldays         7043 non-null   int64         \n",
      " 9   gender            7043 non-null   object        \n",
      " 10  seniorcitizen     7043 non-null   int64         \n",
      " 11  partner           7043 non-null   object        \n",
      " 12  dependents        7043 non-null   object        \n",
      " 13  internetservice   5517 non-null   object        \n",
      " 14  onlinesecurity    5517 non-null   object        \n",
      " 15  onlinebackup      5517 non-null   object        \n",
      " 16  deviceprotection  5517 non-null   object        \n",
      " 17  techsupport       5517 non-null   object        \n",
      " 18  streamingtv       5517 non-null   object        \n",
      " 19  streamingmovies   5517 non-null   object        \n",
      " 20  multiplelines     6361 non-null   object        \n",
      "dtypes: datetime64[ns](2), float64(2), int64(3), object(14)\n",
      "memory usage: 1.2+ MB\n"
     ]
    }
   ],
   "source": [
    "analyze_df(churn)"
   ]
  },
  {
   "cell_type": "markdown",
   "metadata": {},
   "source": [
    "Пропуски в internetservice, onlinesecurity, onlinebackup, deviceprotection, techsupport, streamingtv, streamingmovies и multiplelines скорее всего означают, что у клиентов  данные услуги не подключены. Заменим пропуски на \"No\""
   ]
  },
  {
   "cell_type": "code",
   "execution_count": 23,
   "metadata": {},
   "outputs": [],
   "source": [
    "for column in ('internetservice','onlinesecurity', 'onlinebackup', 'deviceprotection',\\\n",
    "               'techsupport', 'streamingtv', 'streamingmovies' , 'multiplelines'):\n",
    "    churn[column] = churn[column].fillna('No')"
   ]
  },
  {
   "cell_type": "code",
   "execution_count": 24,
   "metadata": {},
   "outputs": [
    {
     "name": "stdout",
     "output_type": "stream",
     "text": [
      "<class 'pandas.core.frame.DataFrame'>\n",
      "Index: 7043 entries, 7590-VHVEG to 3186-AJIEK\n",
      "Data columns (total 21 columns):\n",
      " #   Column            Non-Null Count  Dtype         \n",
      "---  ------            --------------  -----         \n",
      " 0   begindate         7043 non-null   datetime64[ns]\n",
      " 1   enddate           7043 non-null   datetime64[ns]\n",
      " 2   type              7043 non-null   object        \n",
      " 3   paperlessbilling  7043 non-null   object        \n",
      " 4   paymentmethod     7043 non-null   object        \n",
      " 5   monthlycharges    7043 non-null   float64       \n",
      " 6   totalcharges      7043 non-null   float64       \n",
      " 7   churn             7043 non-null   int64         \n",
      " 8   totaldays         7043 non-null   int64         \n",
      " 9   gender            7043 non-null   object        \n",
      " 10  seniorcitizen     7043 non-null   int64         \n",
      " 11  partner           7043 non-null   object        \n",
      " 12  dependents        7043 non-null   object        \n",
      " 13  internetservice   7043 non-null   object        \n",
      " 14  onlinesecurity    7043 non-null   object        \n",
      " 15  onlinebackup      7043 non-null   object        \n",
      " 16  deviceprotection  7043 non-null   object        \n",
      " 17  techsupport       7043 non-null   object        \n",
      " 18  streamingtv       7043 non-null   object        \n",
      " 19  streamingmovies   7043 non-null   object        \n",
      " 20  multiplelines     7043 non-null   object        \n",
      "dtypes: datetime64[ns](2), float64(2), int64(3), object(14)\n",
      "memory usage: 1.2+ MB\n"
     ]
    }
   ],
   "source": [
    "churn.info()"
   ]
  },
  {
   "cell_type": "markdown",
   "metadata": {},
   "source": [
    "## Исследовательский анализ данных."
   ]
  },
  {
   "cell_type": "code",
   "execution_count": 25,
   "metadata": {},
   "outputs": [],
   "source": [
    "numeric_columns = ['monthlycharges', 'totalcharges','totaldays']# количественные признаки\n",
    "categorial_columns = [#категориальные признаки\n",
    "    'type',\n",
    "    'paperlessbilling',\n",
    "    'paymentmethod',\n",
    "    'gender',\n",
    "    'seniorcitizen',\n",
    "    'partner',\n",
    "    'dependents',\n",
    "    'internetservice', \n",
    "    'onlinesecurity', \n",
    "    'onlinebackup', \n",
    "    'deviceprotection', \n",
    "    'techsupport', \n",
    "    'streamingtv', \n",
    "    'streamingmovies', \n",
    "    'multiplelines',\n",
    "]"
   ]
  },
  {
   "cell_type": "code",
   "execution_count": 26,
   "metadata": {},
   "outputs": [],
   "source": [
    "def plot_numerical(df):\n",
    "    cols = 3\n",
    "    rows = 2\n",
    "\n",
    "    plt.figure(figsize=(15, 10))\n",
    "\n",
    "    idx = 0\n",
    "    for column in numeric_columns:\n",
    "        idx += 1 \n",
    "    \n",
    "        plt.subplot(rows, cols, idx)\n",
    "        plt.hist(df[column])\n",
    "        plt.title(column)\n",
    "    \n",
    "    for column in numeric_columns:\n",
    "        idx += 1 \n",
    "    \n",
    "        plt.subplot(rows, cols, idx)\n",
    "        plt.boxplot(df[column])\n",
    "        plt.title(column)\n",
    "        \n",
    "    plt.show()\n",
    "\n",
    "    display(df[numeric_columns].describe())"
   ]
  },
  {
   "cell_type": "markdown",
   "metadata": {},
   "source": [
    "Посмотрим распределение значений для категориальных данных"
   ]
  },
  {
   "cell_type": "code",
   "execution_count": 27,
   "metadata": {},
   "outputs": [
    {
     "data": {
      "image/png": "[encoded data removed]",
      "text/plain": [
       "<Figure size 1440x2520 with 15 Axes>"
      ]
     },
     "metadata": {
      "needs_background": "light"
     },
     "output_type": "display_data"
    }
   ],
   "source": [
    "cols = 2\n",
    "rows = int(np.ceil(len(categorial_columns) / cols))\n",
    "\n",
    "plt.figure(figsize=(20, 35))\n",
    "\n",
    "for idx, column in enumerate(categorial_columns):\n",
    "    ax = plt.subplot(rows, cols, idx + 1)\n",
    "    \n",
    "    churn[column].value_counts().plot(\n",
    "        kind='bar', \n",
    "        title=column, \n",
    "        ax=ax,\n",
    "        rot=0,\n",
    "    )\n",
    "        \n",
    "plt.show()"
   ]
  },
  {
   "cell_type": "markdown",
   "metadata": {},
   "source": [
    "##### Выводы:\n",
    "\n",
    "- Самый популярный способ оплаты - помесячный\n",
    "- Люди чаще предпочитают получать счета в электронном виде и оплачивать их при помощи электронного чека\n",
    "- Мужчин столько же, сколько женщин.\n",
    "- Люде пенсионного возраста меньше.\n",
    "- Самый частый способ подключения - оптоволокно\n",
    "- Дополнительные услуги OnlineSecurity, OnlineBackup, DeviceProtection, TechSupport, StreamingTV, StreamingMovies, MultipleLines не пользуются популярностью у пользователей"
   ]
  },
  {
   "cell_type": "markdown",
   "metadata": {},
   "source": [
    "Посмотрим распределение значений и диаграммы размаха для количественных данных"
   ]
  },
  {
   "cell_type": "code",
   "execution_count": 28,
   "metadata": {},
   "outputs": [
    {
     "data": {
      "image/png": "[encoded data removed]",
      "text/plain": [
       "<Figure size 1080x720 with 6 Axes>"
      ]
     },
     "metadata": {
      "needs_background": "light"
     },
     "output_type": "display_data"
    },
    {
     "data": {
      "text/html": [
       "<div>\n",
       "<style scoped>\n",
       "    .dataframe tbody tr th:only-of-type {\n",
       "        vertical-align: middle;\n",
       "    }\n",
       "\n",
       "    .dataframe tbody tr th {\n",
       "        vertical-align: top;\n",
       "    }\n",
       "\n",
       "    .dataframe thead th {\n",
       "        text-align: right;\n",
       "    }\n",
       "</style>\n",
       "<table border=\"1\" class=\"dataframe\">\n",
       "  <thead>\n",
       "    <tr style=\"text-align: right;\">\n",
       "      <th></th>\n",
       "      <th>monthlycharges</th>\n",
       "      <th>totalcharges</th>\n",
       "      <th>totaldays</th>\n",
       "    </tr>\n",
       "  </thead>\n",
       "  <tbody>\n",
       "    <tr>\n",
       "      <th>count</th>\n",
       "      <td>7043.000000</td>\n",
       "      <td>7043.000000</td>\n",
       "      <td>7043.000000</td>\n",
       "    </tr>\n",
       "    <tr>\n",
       "      <th>mean</th>\n",
       "      <td>64.761692</td>\n",
       "      <td>2279.734304</td>\n",
       "      <td>985.996166</td>\n",
       "    </tr>\n",
       "    <tr>\n",
       "      <th>std</th>\n",
       "      <td>30.090047</td>\n",
       "      <td>2266.794470</td>\n",
       "      <td>747.587844</td>\n",
       "    </tr>\n",
       "    <tr>\n",
       "      <th>min</th>\n",
       "      <td>18.250000</td>\n",
       "      <td>0.000000</td>\n",
       "      <td>0.000000</td>\n",
       "    </tr>\n",
       "    <tr>\n",
       "      <th>25%</th>\n",
       "      <td>35.500000</td>\n",
       "      <td>398.550000</td>\n",
       "      <td>273.000000</td>\n",
       "    </tr>\n",
       "    <tr>\n",
       "      <th>50%</th>\n",
       "      <td>70.350000</td>\n",
       "      <td>1394.550000</td>\n",
       "      <td>883.000000</td>\n",
       "    </tr>\n",
       "    <tr>\n",
       "      <th>75%</th>\n",
       "      <td>89.850000</td>\n",
       "      <td>3786.600000</td>\n",
       "      <td>1676.000000</td>\n",
       "    </tr>\n",
       "    <tr>\n",
       "      <th>max</th>\n",
       "      <td>118.750000</td>\n",
       "      <td>8684.800000</td>\n",
       "      <td>2191.000000</td>\n",
       "    </tr>\n",
       "  </tbody>\n",
       "</table>\n",
       "</div>"
      ],
      "text/plain": [
       "       monthlycharges  totalcharges    totaldays\n",
       "count     7043.000000   7043.000000  7043.000000\n",
       "mean        64.761692   2279.734304   985.996166\n",
       "std         30.090047   2266.794470   747.587844\n",
       "min         18.250000      0.000000     0.000000\n",
       "25%         35.500000    398.550000   273.000000\n",
       "50%         70.350000   1394.550000   883.000000\n",
       "75%         89.850000   3786.600000  1676.000000\n",
       "max        118.750000   8684.800000  2191.000000"
      ]
     },
     "metadata": {},
     "output_type": "display_data"
    }
   ],
   "source": [
    "plot_numerical(churn)"
   ]
  },
  {
   "cell_type": "markdown",
   "metadata": {},
   "source": [
    "##### Выводы:\n",
    "\n",
    "- Значения в столбце totalcharges убывают, в то же время в столбце monthlycharges виден пик в райне 85 - это значит, что пользователи, которые платят за тариф много на долго не остаются\n",
    "- В столбце totaldays видно 2 пика - в районе новых клиентов и клиентов, которые долго пользуются услугами\n",
    "- Также у monthlycharges виден пик в районе 20, что является минимальным значением\n",
    "- Аномальных выбросов нет"
   ]
  },
  {
   "cell_type": "code",
   "execution_count": 29,
   "metadata": {},
   "outputs": [
    {
     "data": {
      "image/png": "[encoded data removed]",
      "text/plain": [
       "<Figure size 1440x2160 with 15 Axes>"
      ]
     },
     "metadata": {
      "needs_background": "light"
     },
     "output_type": "display_data"
    }
   ],
   "source": [
    "cols = 2\n",
    "rows = int(np.ceil(len(categorial_columns) / cols))\n",
    "\n",
    "plt.figure(figsize=(20, 30))\n",
    "\n",
    "for idx, column in enumerate(categorial_columns):\n",
    "    churn_grouped = churn.groupby([column, 'churn'])['churn'].count()\n",
    "    churn_grouped = churn_grouped.unstack()\n",
    "    \n",
    "    ax = plt.subplot(rows, cols, idx + 1)\n",
    "\n",
    "    ax.bar(churn_grouped.T.index, churn_grouped.T[churn_grouped.T.columns[0]], label=churn_grouped.T.columns[0])\n",
    "    bottom = np.array(churn_grouped.T[churn_grouped.T.columns[0]])\n",
    "    for color_idx, value in enumerate(churn_grouped.T.columns[1:]): \n",
    "        ax.bar(churn_grouped.T.index, churn_grouped.T[value], bottom=bottom, label=value)\n",
    "        bottom += np.array(churn_grouped.T[value])\n",
    "    plt.title(column)\n",
    "    plt.legend()\n",
    "        \n",
    "plt.show()"
   ]
  },
  {
   "cell_type": "markdown",
   "metadata": {},
   "source": [
    "##### Выводы:\n",
    "\n",
    "- Доля отказов среди тех, кто использует помесячную оплату выше, чем среди тех, кто сразу платит за 1/2 года\n",
    "- Дополнительные услуги слабо влияют на отказы\n",
    "- Пользователи использующие \"Electronic check\" для оплаты чаще отказываются от услуг, возможно в оплате онлайн есть какие-то неудобства\n",
    "- Пенсионеры уходят чаще\n",
    "- Если пользователь не пользуется интернетом, то вероятность отказа ниже. Скорее всего это связано с тем, что более возрастные люди не хотят разбираться в том, как сменить поставщика услуг"
   ]
  },
  {
   "cell_type": "code",
   "execution_count": 30,
   "metadata": {},
   "outputs": [
    {
     "data": {
      "image/png": "[encoded data removed]",
      "text/plain": [
       "<Figure size 1080x720 with 6 Axes>"
      ]
     },
     "metadata": {
      "needs_background": "light"
     },
     "output_type": "display_data"
    },
    {
     "data": {
      "text/html": [
       "<div>\n",
       "<style scoped>\n",
       "    .dataframe tbody tr th:only-of-type {\n",
       "        vertical-align: middle;\n",
       "    }\n",
       "\n",
       "    .dataframe tbody tr th {\n",
       "        vertical-align: top;\n",
       "    }\n",
       "\n",
       "    .dataframe thead th {\n",
       "        text-align: right;\n",
       "    }\n",
       "</style>\n",
       "<table border=\"1\" class=\"dataframe\">\n",
       "  <thead>\n",
       "    <tr style=\"text-align: right;\">\n",
       "      <th></th>\n",
       "      <th>monthlycharges</th>\n",
       "      <th>totalcharges</th>\n",
       "      <th>totaldays</th>\n",
       "    </tr>\n",
       "  </thead>\n",
       "  <tbody>\n",
       "    <tr>\n",
       "      <th>count</th>\n",
       "      <td>1869.000000</td>\n",
       "      <td>1869.000000</td>\n",
       "      <td>1869.000000</td>\n",
       "    </tr>\n",
       "    <tr>\n",
       "      <th>mean</th>\n",
       "      <td>74.441332</td>\n",
       "      <td>1531.796094</td>\n",
       "      <td>547.352060</td>\n",
       "    </tr>\n",
       "    <tr>\n",
       "      <th>std</th>\n",
       "      <td>24.666053</td>\n",
       "      <td>1890.822994</td>\n",
       "      <td>594.389607</td>\n",
       "    </tr>\n",
       "    <tr>\n",
       "      <th>min</th>\n",
       "      <td>18.850000</td>\n",
       "      <td>18.850000</td>\n",
       "      <td>30.000000</td>\n",
       "    </tr>\n",
       "    <tr>\n",
       "      <th>25%</th>\n",
       "      <td>56.150000</td>\n",
       "      <td>134.500000</td>\n",
       "      <td>61.000000</td>\n",
       "    </tr>\n",
       "    <tr>\n",
       "      <th>50%</th>\n",
       "      <td>79.650000</td>\n",
       "      <td>703.550000</td>\n",
       "      <td>304.000000</td>\n",
       "    </tr>\n",
       "    <tr>\n",
       "      <th>75%</th>\n",
       "      <td>94.200000</td>\n",
       "      <td>2331.300000</td>\n",
       "      <td>883.000000</td>\n",
       "    </tr>\n",
       "    <tr>\n",
       "      <th>max</th>\n",
       "      <td>118.350000</td>\n",
       "      <td>8684.800000</td>\n",
       "      <td>2191.000000</td>\n",
       "    </tr>\n",
       "  </tbody>\n",
       "</table>\n",
       "</div>"
      ],
      "text/plain": [
       "       monthlycharges  totalcharges    totaldays\n",
       "count     1869.000000   1869.000000  1869.000000\n",
       "mean        74.441332   1531.796094   547.352060\n",
       "std         24.666053   1890.822994   594.389607\n",
       "min         18.850000     18.850000    30.000000\n",
       "25%         56.150000    134.500000    61.000000\n",
       "50%         79.650000    703.550000   304.000000\n",
       "75%         94.200000   2331.300000   883.000000\n",
       "max        118.350000   8684.800000  2191.000000"
      ]
     },
     "metadata": {},
     "output_type": "display_data"
    }
   ],
   "source": [
    "plot_numerical(churn[churn['churn'] == 1])"
   ]
  },
  {
   "cell_type": "code",
   "execution_count": 31,
   "metadata": {},
   "outputs": [
    {
     "data": {
      "image/png": "[encoded data removed]",
      "text/plain": [
       "<Figure size 1080x720 with 6 Axes>"
      ]
     },
     "metadata": {
      "needs_background": "light"
     },
     "output_type": "display_data"
    },
    {
     "data": {
      "text/html": [
       "<div>\n",
       "<style scoped>\n",
       "    .dataframe tbody tr th:only-of-type {\n",
       "        vertical-align: middle;\n",
       "    }\n",
       "\n",
       "    .dataframe tbody tr th {\n",
       "        vertical-align: top;\n",
       "    }\n",
       "\n",
       "    .dataframe thead th {\n",
       "        text-align: right;\n",
       "    }\n",
       "</style>\n",
       "<table border=\"1\" class=\"dataframe\">\n",
       "  <thead>\n",
       "    <tr style=\"text-align: right;\">\n",
       "      <th></th>\n",
       "      <th>monthlycharges</th>\n",
       "      <th>totalcharges</th>\n",
       "      <th>totaldays</th>\n",
       "    </tr>\n",
       "  </thead>\n",
       "  <tbody>\n",
       "    <tr>\n",
       "      <th>count</th>\n",
       "      <td>5174.000000</td>\n",
       "      <td>5174.000000</td>\n",
       "      <td>5174.000000</td>\n",
       "    </tr>\n",
       "    <tr>\n",
       "      <th>mean</th>\n",
       "      <td>61.265124</td>\n",
       "      <td>2549.911442</td>\n",
       "      <td>1144.447236</td>\n",
       "    </tr>\n",
       "    <tr>\n",
       "      <th>std</th>\n",
       "      <td>31.092648</td>\n",
       "      <td>2329.954215</td>\n",
       "      <td>733.897937</td>\n",
       "    </tr>\n",
       "    <tr>\n",
       "      <th>min</th>\n",
       "      <td>18.250000</td>\n",
       "      <td>0.000000</td>\n",
       "      <td>0.000000</td>\n",
       "    </tr>\n",
       "    <tr>\n",
       "      <th>25%</th>\n",
       "      <td>25.100000</td>\n",
       "      <td>572.900000</td>\n",
       "      <td>457.000000</td>\n",
       "    </tr>\n",
       "    <tr>\n",
       "      <th>50%</th>\n",
       "      <td>64.425000</td>\n",
       "      <td>1679.525000</td>\n",
       "      <td>1157.000000</td>\n",
       "    </tr>\n",
       "    <tr>\n",
       "      <th>75%</th>\n",
       "      <td>88.400000</td>\n",
       "      <td>4262.850000</td>\n",
       "      <td>1857.000000</td>\n",
       "    </tr>\n",
       "    <tr>\n",
       "      <th>max</th>\n",
       "      <td>118.750000</td>\n",
       "      <td>8672.450000</td>\n",
       "      <td>2191.000000</td>\n",
       "    </tr>\n",
       "  </tbody>\n",
       "</table>\n",
       "</div>"
      ],
      "text/plain": [
       "       monthlycharges  totalcharges    totaldays\n",
       "count     5174.000000   5174.000000  5174.000000\n",
       "mean        61.265124   2549.911442  1144.447236\n",
       "std         31.092648   2329.954215   733.897937\n",
       "min         18.250000      0.000000     0.000000\n",
       "25%         25.100000    572.900000   457.000000\n",
       "50%         64.425000   1679.525000  1157.000000\n",
       "75%         88.400000   4262.850000  1857.000000\n",
       "max        118.750000   8672.450000  2191.000000"
      ]
     },
     "metadata": {},
     "output_type": "display_data"
    }
   ],
   "source": [
    "plot_numerical(churn[churn['churn'] == 0])"
   ]
  },
  {
   "cell_type": "markdown",
   "metadata": {},
   "source": [
    "##### Выводы:\n",
    "\n",
    "- Чем больше время пользования услугами, тем меньше  вероятность отказа от услуг.\n",
    "- Отказывались от услуг те, кто платил больше\n",
    "- Текущие клиенты платят  меньше в месяц, чем те, кто отказался"
   ]
  },
  {
   "cell_type": "markdown",
   "metadata": {},
   "source": [
    "Рассмотррим матрицу корреляции"
   ]
  },
  {
   "cell_type": "code",
   "execution_count": 32,
   "metadata": {},
   "outputs": [
    {
     "data": {
      "text/plain": [
       "churn             1.000000\n",
       "monthlycharges    0.193356\n",
       "seniorcitizen     0.150889\n",
       "totalcharges     -0.198324\n",
       "totaldays        -0.352673\n",
       "Name: churn, dtype: float64"
      ]
     },
     "execution_count": 32,
     "metadata": {},
     "output_type": "execute_result"
    }
   ],
   "source": [
    "churn.corr()['churn'].sort_values(ascending=False)"
   ]
  },
  {
   "cell_type": "markdown",
   "metadata": {},
   "source": [
    "- чем дольше клиент пользовался услугами, тем меньше вероятность, что он уйдет\n",
    "- чем выше цена за услуги в месяц, тем больше вероятность, что клиент уйдет"
   ]
  },
  {
   "cell_type": "markdown",
   "metadata": {},
   "source": [
    "## Подготовка данных к расчету модели."
   ]
  },
  {
   "cell_type": "markdown",
   "metadata": {},
   "source": [
    "Удалим ненужные для обучения столбцы begindate и enddate"
   ]
  },
  {
   "cell_type": "code",
   "execution_count": 33,
   "metadata": {},
   "outputs": [],
   "source": [
    "del churn['begindate'], churn['enddate']"
   ]
  },
  {
   "cell_type": "markdown",
   "metadata": {},
   "source": [
    "Перекодируем категориальные признаки в количественные с помощью техники OHE"
   ]
  },
  {
   "cell_type": "code",
   "execution_count": 34,
   "metadata": {},
   "outputs": [
    {
     "data": {
      "text/html": [
       "<div>\n",
       "<style scoped>\n",
       "    .dataframe tbody tr th:only-of-type {\n",
       "        vertical-align: middle;\n",
       "    }\n",
       "\n",
       "    .dataframe tbody tr th {\n",
       "        vertical-align: top;\n",
       "    }\n",
       "\n",
       "    .dataframe thead th {\n",
       "        text-align: right;\n",
       "    }\n",
       "</style>\n",
       "<table border=\"1\" class=\"dataframe\">\n",
       "  <thead>\n",
       "    <tr style=\"text-align: right;\">\n",
       "      <th></th>\n",
       "      <th>monthlycharges</th>\n",
       "      <th>totalcharges</th>\n",
       "      <th>churn</th>\n",
       "      <th>totaldays</th>\n",
       "      <th>seniorcitizen</th>\n",
       "      <th>type_One year</th>\n",
       "      <th>type_Two year</th>\n",
       "      <th>paperlessbilling_Yes</th>\n",
       "      <th>paymentmethod_Credit card (automatic)</th>\n",
       "      <th>paymentmethod_Electronic check</th>\n",
       "      <th>paymentmethod_Mailed check</th>\n",
       "      <th>gender_Male</th>\n",
       "      <th>partner_Yes</th>\n",
       "      <th>dependents_Yes</th>\n",
       "      <th>internetservice_Fiber optic</th>\n",
       "      <th>internetservice_No</th>\n",
       "      <th>onlinesecurity_Yes</th>\n",
       "      <th>onlinebackup_Yes</th>\n",
       "      <th>deviceprotection_Yes</th>\n",
       "      <th>techsupport_Yes</th>\n",
       "      <th>streamingtv_Yes</th>\n",
       "      <th>streamingmovies_Yes</th>\n",
       "      <th>multiplelines_Yes</th>\n",
       "    </tr>\n",
       "    <tr>\n",
       "      <th>customerid</th>\n",
       "      <th></th>\n",
       "      <th></th>\n",
       "      <th></th>\n",
       "      <th></th>\n",
       "      <th></th>\n",
       "      <th></th>\n",
       "      <th></th>\n",
       "      <th></th>\n",
       "      <th></th>\n",
       "      <th></th>\n",
       "      <th></th>\n",
       "      <th></th>\n",
       "      <th></th>\n",
       "      <th></th>\n",
       "      <th></th>\n",
       "      <th></th>\n",
       "      <th></th>\n",
       "      <th></th>\n",
       "      <th></th>\n",
       "      <th></th>\n",
       "      <th></th>\n",
       "      <th></th>\n",
       "      <th></th>\n",
       "    </tr>\n",
       "  </thead>\n",
       "  <tbody>\n",
       "    <tr>\n",
       "      <th>7590-VHVEG</th>\n",
       "      <td>29.85</td>\n",
       "      <td>29.85</td>\n",
       "      <td>0</td>\n",
       "      <td>31</td>\n",
       "      <td>0</td>\n",
       "      <td>0</td>\n",
       "      <td>0</td>\n",
       "      <td>1</td>\n",
       "      <td>0</td>\n",
       "      <td>1</td>\n",
       "      <td>0</td>\n",
       "      <td>0</td>\n",
       "      <td>1</td>\n",
       "      <td>0</td>\n",
       "      <td>0</td>\n",
       "      <td>0</td>\n",
       "      <td>0</td>\n",
       "      <td>1</td>\n",
       "      <td>0</td>\n",
       "      <td>0</td>\n",
       "      <td>0</td>\n",
       "      <td>0</td>\n",
       "      <td>0</td>\n",
       "    </tr>\n",
       "    <tr>\n",
       "      <th>5575-GNVDE</th>\n",
       "      <td>56.95</td>\n",
       "      <td>1889.50</td>\n",
       "      <td>0</td>\n",
       "      <td>1036</td>\n",
       "      <td>0</td>\n",
       "      <td>1</td>\n",
       "      <td>0</td>\n",
       "      <td>0</td>\n",
       "      <td>0</td>\n",
       "      <td>0</td>\n",
       "      <td>1</td>\n",
       "      <td>1</td>\n",
       "      <td>0</td>\n",
       "      <td>0</td>\n",
       "      <td>0</td>\n",
       "      <td>0</td>\n",
       "      <td>1</td>\n",
       "      <td>0</td>\n",
       "      <td>1</td>\n",
       "      <td>0</td>\n",
       "      <td>0</td>\n",
       "      <td>0</td>\n",
       "      <td>0</td>\n",
       "    </tr>\n",
       "    <tr>\n",
       "      <th>3668-QPYBK</th>\n",
       "      <td>53.85</td>\n",
       "      <td>108.15</td>\n",
       "      <td>1</td>\n",
       "      <td>61</td>\n",
       "      <td>0</td>\n",
       "      <td>0</td>\n",
       "      <td>0</td>\n",
       "      <td>1</td>\n",
       "      <td>0</td>\n",
       "      <td>0</td>\n",
       "      <td>1</td>\n",
       "      <td>1</td>\n",
       "      <td>0</td>\n",
       "      <td>0</td>\n",
       "      <td>0</td>\n",
       "      <td>0</td>\n",
       "      <td>1</td>\n",
       "      <td>1</td>\n",
       "      <td>0</td>\n",
       "      <td>0</td>\n",
       "      <td>0</td>\n",
       "      <td>0</td>\n",
       "      <td>0</td>\n",
       "    </tr>\n",
       "    <tr>\n",
       "      <th>7795-CFOCW</th>\n",
       "      <td>42.30</td>\n",
       "      <td>1840.75</td>\n",
       "      <td>0</td>\n",
       "      <td>1371</td>\n",
       "      <td>0</td>\n",
       "      <td>1</td>\n",
       "      <td>0</td>\n",
       "      <td>0</td>\n",
       "      <td>0</td>\n",
       "      <td>0</td>\n",
       "      <td>0</td>\n",
       "      <td>1</td>\n",
       "      <td>0</td>\n",
       "      <td>0</td>\n",
       "      <td>0</td>\n",
       "      <td>0</td>\n",
       "      <td>1</td>\n",
       "      <td>0</td>\n",
       "      <td>1</td>\n",
       "      <td>1</td>\n",
       "      <td>0</td>\n",
       "      <td>0</td>\n",
       "      <td>0</td>\n",
       "    </tr>\n",
       "    <tr>\n",
       "      <th>9237-HQITU</th>\n",
       "      <td>70.70</td>\n",
       "      <td>151.65</td>\n",
       "      <td>1</td>\n",
       "      <td>61</td>\n",
       "      <td>0</td>\n",
       "      <td>0</td>\n",
       "      <td>0</td>\n",
       "      <td>1</td>\n",
       "      <td>0</td>\n",
       "      <td>1</td>\n",
       "      <td>0</td>\n",
       "      <td>0</td>\n",
       "      <td>0</td>\n",
       "      <td>0</td>\n",
       "      <td>1</td>\n",
       "      <td>0</td>\n",
       "      <td>0</td>\n",
       "      <td>0</td>\n",
       "      <td>0</td>\n",
       "      <td>0</td>\n",
       "      <td>0</td>\n",
       "      <td>0</td>\n",
       "      <td>0</td>\n",
       "    </tr>\n",
       "  </tbody>\n",
       "</table>\n",
       "</div>"
      ],
      "text/plain": [
       "            monthlycharges  totalcharges  churn  totaldays  seniorcitizen  \\\n",
       "customerid                                                                  \n",
       "7590-VHVEG           29.85         29.85      0         31              0   \n",
       "5575-GNVDE           56.95       1889.50      0       1036              0   \n",
       "3668-QPYBK           53.85        108.15      1         61              0   \n",
       "7795-CFOCW           42.30       1840.75      0       1371              0   \n",
       "9237-HQITU           70.70        151.65      1         61              0   \n",
       "\n",
       "            type_One year  type_Two year  paperlessbilling_Yes  \\\n",
       "customerid                                                       \n",
       "7590-VHVEG              0              0                     1   \n",
       "5575-GNVDE              1              0                     0   \n",
       "3668-QPYBK              0              0                     1   \n",
       "7795-CFOCW              1              0                     0   \n",
       "9237-HQITU              0              0                     1   \n",
       "\n",
       "            paymentmethod_Credit card (automatic)  \\\n",
       "customerid                                          \n",
       "7590-VHVEG                                      0   \n",
       "5575-GNVDE                                      0   \n",
       "3668-QPYBK                                      0   \n",
       "7795-CFOCW                                      0   \n",
       "9237-HQITU                                      0   \n",
       "\n",
       "            paymentmethod_Electronic check  paymentmethod_Mailed check  \\\n",
       "customerid                                                               \n",
       "7590-VHVEG                               1                           0   \n",
       "5575-GNVDE                               0                           1   \n",
       "3668-QPYBK                               0                           1   \n",
       "7795-CFOCW                               0                           0   \n",
       "9237-HQITU                               1                           0   \n",
       "\n",
       "            gender_Male  partner_Yes  dependents_Yes  \\\n",
       "customerid                                             \n",
       "7590-VHVEG            0            1               0   \n",
       "5575-GNVDE            1            0               0   \n",
       "3668-QPYBK            1            0               0   \n",
       "7795-CFOCW            1            0               0   \n",
       "9237-HQITU            0            0               0   \n",
       "\n",
       "            internetservice_Fiber optic  internetservice_No  \\\n",
       "customerid                                                    \n",
       "7590-VHVEG                            0                   0   \n",
       "5575-GNVDE                            0                   0   \n",
       "3668-QPYBK                            0                   0   \n",
       "7795-CFOCW                            0                   0   \n",
       "9237-HQITU                            1                   0   \n",
       "\n",
       "            onlinesecurity_Yes  onlinebackup_Yes  deviceprotection_Yes  \\\n",
       "customerid                                                               \n",
       "7590-VHVEG                   0                 1                     0   \n",
       "5575-GNVDE                   1                 0                     1   \n",
       "3668-QPYBK                   1                 1                     0   \n",
       "7795-CFOCW                   1                 0                     1   \n",
       "9237-HQITU                   0                 0                     0   \n",
       "\n",
       "            techsupport_Yes  streamingtv_Yes  streamingmovies_Yes  \\\n",
       "customerid                                                          \n",
       "7590-VHVEG                0                0                    0   \n",
       "5575-GNVDE                0                0                    0   \n",
       "3668-QPYBK                0                0                    0   \n",
       "7795-CFOCW                1                0                    0   \n",
       "9237-HQITU                0                0                    0   \n",
       "\n",
       "            multiplelines_Yes  \n",
       "customerid                     \n",
       "7590-VHVEG                  0  \n",
       "5575-GNVDE                  0  \n",
       "3668-QPYBK                  0  \n",
       "7795-CFOCW                  0  \n",
       "9237-HQITU                  0  "
      ]
     },
     "execution_count": 34,
     "metadata": {},
     "output_type": "execute_result"
    }
   ],
   "source": [
    "churn = pd.get_dummies(churn, drop_first=True)\n",
    "churn.head(5)"
   ]
  },
  {
   "cell_type": "markdown",
   "metadata": {},
   "source": [
    "Выделим  целевой показатель churn"
   ]
  },
  {
   "cell_type": "code",
   "execution_count": 35,
   "metadata": {},
   "outputs": [],
   "source": [
    "target = churn['churn'] \n",
    "features = churn.drop(columns=['churn'])"
   ]
  },
  {
   "cell_type": "markdown",
   "metadata": {},
   "source": [
    "Разделим датафрейм на обучающую и тестовую выбороки"
   ]
  },
  {
   "cell_type": "code",
   "execution_count": 36,
   "metadata": {},
   "outputs": [],
   "source": [
    "features_train, features_test, target_train, target_test = train_test_split(features, target,\\\n",
    "                                                                            test_size=0.2, random_state=RANDOM_STATE)"
   ]
  },
  {
   "cell_type": "markdown",
   "metadata": {},
   "source": [
    "Проведем масштабирование количественных признаков"
   ]
  },
  {
   "cell_type": "code",
   "execution_count": 37,
   "metadata": {},
   "outputs": [],
   "source": [
    "scaler = StandardScaler()\n",
    "\n",
    "scaler.fit(features_train[numeric_columns])\n",
    "\n",
    "features_train = features_train.copy()\n",
    "features_train[numeric_columns] = scaler.transform(features_train[numeric_columns])\n",
    "\n",
    "features_test = features_test.copy()\n",
    "features_test[numeric_columns] = scaler.transform(features_test[numeric_columns])"
   ]
  },
  {
   "cell_type": "markdown",
   "metadata": {},
   "source": [
    "Проверим баланс классов"
   ]
  },
  {
   "cell_type": "code",
   "execution_count": 38,
   "metadata": {},
   "outputs": [
    {
     "data": {
      "image/png": "[encoded data removed]",
      "text/plain": [
       "<Figure size 720x360 with 1 Axes>"
      ]
     },
     "metadata": {
      "needs_background": "light"
     },
     "output_type": "display_data"
    }
   ],
   "source": [
    "target_train.value_counts().plot(\n",
    "    kind='bar', \n",
    "    figsize=(10, 5), \n",
    "    legend=False, \n",
    "    title='Распределение значений целевого признака', \n",
    ").set(xlabel='Значение', ylabel='Кол-во значений')\n",
    "plt.show()"
   ]
  },
  {
   "cell_type": "markdown",
   "metadata": {},
   "source": [
    "Налицо дисбаланс классов, который исправим с помощью upsampling, т.е увеличением числа объектов меньшего класса."
   ]
  },
  {
   "cell_type": "code",
   "execution_count": 39,
   "metadata": {},
   "outputs": [],
   "source": [
    "def upsample(features, target, repeat):     \n",
    "    features_zeros = features[target == 0]     \n",
    "    features_ones = features[target == 1]     \n",
    "    target_zeros = target[target == 0]     \n",
    "    target_ones = target[target == 1] \n",
    "\n",
    "    features_upsampled = pd.concat([features_zeros] + [features_ones] * repeat)     \n",
    "    target_upsampled = pd.concat([target_zeros] + [target_ones] * repeat)     \n",
    "    \n",
    "    features_upsampled, target_upsampled = shuffle(         \n",
    "        features_upsampled, target_upsampled, random_state=RANDOM_STATE)          \n",
    "    \n",
    "    return features_upsampled, target_upsampled"
   ]
  },
  {
   "cell_type": "code",
   "execution_count": 40,
   "metadata": {},
   "outputs": [],
   "source": [
    "features_train, target_train = upsample(features_train, target_train, 3)"
   ]
  },
  {
   "cell_type": "code",
   "execution_count": 41,
   "metadata": {},
   "outputs": [
    {
     "data": {
      "image/png": "[encoded data removed]",
      "text/plain": [
       "<Figure size 720x360 with 1 Axes>"
      ]
     },
     "metadata": {
      "needs_background": "light"
     },
     "output_type": "display_data"
    }
   ],
   "source": [
    "target_train.value_counts().plot(\n",
    "    kind='bar', \n",
    "    figsize=(10, 5), \n",
    "    legend=False, \n",
    "    title='Распределение значений целевого признака', \n",
    ").set(xlabel='Значение', ylabel='Кол-во значений')\n",
    "plt.show()"
   ]
  },
  {
   "cell_type": "markdown",
   "metadata": {},
   "source": [
    "Распределение значений целевого признака выправилось"
   ]
  },
  {
   "cell_type": "markdown",
   "metadata": {},
   "source": [
    "## Моделирование\n"
   ]
  },
  {
   "cell_type": "code",
   "execution_count": 42,
   "metadata": {},
   "outputs": [],
   "source": [
    "def plot_roc_curve(target_test, predictions):\n",
    "    print('ROC-AUC score', roc_auc_score(target_test, predictions))\n",
    "    \n",
    "    fpr, tpr, thresholds = roc_curve(target_test, predictions)\n",
    "\n",
    "    plt.figure(figsize=(11, 5))\n",
    "    \n",
    "    plt.plot(fpr, tpr)\n",
    "    \n",
    "    plt.plot([0, 1], [0, 1], linestyle='--')\n",
    "    \n",
    "    plt.xlim([0.0, 1.0])\n",
    "    plt.ylim([0.0, 1.0])\n",
    "    \n",
    "    plt.xlabel('False Positive Rate')\n",
    "    plt.ylabel('True Positive Rate')\n",
    "    \n",
    "    plt.title('ROC-кривая')\n",
    "    \n",
    "    plt.show()"
   ]
  },
  {
   "cell_type": "markdown",
   "metadata": {},
   "source": [
    "LogisticRegression"
   ]
  },
  {
   "cell_type": "code",
   "execution_count": 43,
   "metadata": {},
   "outputs": [
    {
     "name": "stdout",
     "output_type": "stream",
     "text": [
      "{'C': 1000}\n"
     ]
    }
   ],
   "source": [
    "param_grid = {'C': [0.001, 0.01, 0.1, 1, 10, 100, 1000]}\n",
    "\n",
    "model = LogisticRegression(solver='lbfgs', n_jobs=-1)\n",
    "\n",
    "search = GridSearchCV(model, param_grid, cv=5, scoring='roc_auc')\n",
    "search.fit(features_train, target_train)\n",
    "\n",
    "print(search.best_params_)\n",
    "\n",
    "predicted_probalities = search.best_estimator_.predict_proba(features_test)[:, 1]"
   ]
  },
  {
   "cell_type": "code",
   "execution_count": 44,
   "metadata": {},
   "outputs": [
    {
     "name": "stdout",
     "output_type": "stream",
     "text": [
      "ROC-AUC score 0.8564248286342984\n"
     ]
    },
    {
     "data": {
      "image/png": "[encoded data removed]",
      "text/plain": [
       "<Figure size 792x360 with 1 Axes>"
      ]
     },
     "metadata": {
      "needs_background": "light"
     },
     "output_type": "display_data"
    }
   ],
   "source": [
    "plot_roc_curve(target_test, predicted_probalities)"
   ]
  },
  {
   "cell_type": "markdown",
   "metadata": {},
   "source": [
    "RandomForestClassifier"
   ]
  },
  {
   "cell_type": "code",
   "execution_count": 45,
   "metadata": {},
   "outputs": [
    {
     "name": "stdout",
     "output_type": "stream",
     "text": [
      "{'max_depth': 20, 'min_samples_leaf': 2, 'min_samples_split': 2, 'n_estimators': 100}\n"
     ]
    }
   ],
   "source": [
    "param_grid = {\n",
    "    'max_depth': [5, 10, 20],\n",
    "    'min_samples_split': [2, 10],\n",
    "    'min_samples_leaf': [2, 10],\n",
    "    'n_estimators': [10, 50, 100], \n",
    "}\n",
    "\n",
    "model = RandomForestClassifier(random_state=RANDOM_STATE)\n",
    "\n",
    "search = GridSearchCV(model, param_grid, cv=5, scoring='roc_auc')\n",
    "search.fit(features_train, target_train)\n",
    "\n",
    "print(search.best_params_)\n",
    "\n",
    "predicted_probalities = search.best_estimator_.predict_proba(features_test)[:, 1]"
   ]
  },
  {
   "cell_type": "code",
   "execution_count": 46,
   "metadata": {},
   "outputs": [
    {
     "name": "stdout",
     "output_type": "stream",
     "text": [
      "ROC-AUC score 0.85923475122291\n"
     ]
    },
    {
     "data": {
      "image/png": "[encoded data removed]",
      "text/plain": [
       "<Figure size 792x360 with 1 Axes>"
      ]
     },
     "metadata": {
      "needs_background": "light"
     },
     "output_type": "display_data"
    }
   ],
   "source": [
    "plot_roc_curve(target_test, predicted_probalities)"
   ]
  },
  {
   "cell_type": "markdown",
   "metadata": {},
   "source": [
    "CatBoostClassifier"
   ]
  },
  {
   "cell_type": "code",
   "execution_count": 47,
   "metadata": {},
   "outputs": [
    {
     "name": "stdout",
     "output_type": "stream",
     "text": [
      "{'iterations': 100, 'l2_leaf_reg': 3, 'learning_rate': 0.3}\n"
     ]
    }
   ],
   "source": [
    "param_grid = {\n",
    "    'learning_rate': [0.1, 0.3],\n",
    "    'iterations': [50, 100],\n",
    "    'l2_leaf_reg': [3, 9]\n",
    "}\n",
    "\n",
    "model = CatBoostClassifier(random_state=RANDOM_STATE, verbose=0)\n",
    "\n",
    "search = GridSearchCV(model, param_grid, cv=5, scoring='roc_auc')\n",
    "search.fit(features_train, target_train)\n",
    "\n",
    "print(search.best_params_)\n",
    "\n",
    "predicted_probalities = search.best_estimator_.predict_proba(features_test)[:, 1]"
   ]
  },
  {
   "cell_type": "code",
   "execution_count": 48,
   "metadata": {},
   "outputs": [
    {
     "name": "stdout",
     "output_type": "stream",
     "text": [
      "ROC-AUC score 0.9116035291572343\n"
     ]
    },
    {
     "data": {
      "image/png": "[encoded data removed]",
      "text/plain": [
       "<Figure size 792x360 with 1 Axes>"
      ]
     },
     "metadata": {
      "needs_background": "light"
     },
     "output_type": "display_data"
    }
   ],
   "source": [
    "plot_roc_curve(target_test, predicted_probalities)"
   ]
  },
  {
   "cell_type": "markdown",
   "metadata": {},
   "source": [
    "Catboost показал лучшее значение метрики ROC-AUC - 0.911"
   ]
  },
  {
   "cell_type": "code",
   "execution_count": 49,
   "metadata": {},
   "outputs": [
    {
     "data": {
      "text/html": [
       "<div>\n",
       "<style scoped>\n",
       "    .dataframe tbody tr th:only-of-type {\n",
       "        vertical-align: middle;\n",
       "    }\n",
       "\n",
       "    .dataframe tbody tr th {\n",
       "        vertical-align: top;\n",
       "    }\n",
       "\n",
       "    .dataframe thead th {\n",
       "        text-align: right;\n",
       "    }\n",
       "</style>\n",
       "<table border=\"1\" class=\"dataframe\">\n",
       "  <thead>\n",
       "    <tr style=\"text-align: right;\">\n",
       "      <th></th>\n",
       "      <th>importances</th>\n",
       "    </tr>\n",
       "  </thead>\n",
       "  <tbody>\n",
       "    <tr>\n",
       "      <th>totaldays</th>\n",
       "      <td>52.226928</td>\n",
       "    </tr>\n",
       "    <tr>\n",
       "      <th>monthlycharges</th>\n",
       "      <td>9.331359</td>\n",
       "    </tr>\n",
       "    <tr>\n",
       "      <th>totalcharges</th>\n",
       "      <td>9.149535</td>\n",
       "    </tr>\n",
       "    <tr>\n",
       "      <th>type_Two year</th>\n",
       "      <td>4.466679</td>\n",
       "    </tr>\n",
       "    <tr>\n",
       "      <th>internetservice_Fiber optic</th>\n",
       "      <td>2.309615</td>\n",
       "    </tr>\n",
       "    <tr>\n",
       "      <th>type_One year</th>\n",
       "      <td>2.246386</td>\n",
       "    </tr>\n",
       "    <tr>\n",
       "      <th>techsupport_Yes</th>\n",
       "      <td>2.065700</td>\n",
       "    </tr>\n",
       "    <tr>\n",
       "      <th>paymentmethod_Electronic check</th>\n",
       "      <td>2.018445</td>\n",
       "    </tr>\n",
       "    <tr>\n",
       "      <th>dependents_Yes</th>\n",
       "      <td>1.775840</td>\n",
       "    </tr>\n",
       "    <tr>\n",
       "      <th>streamingmovies_Yes</th>\n",
       "      <td>1.713369</td>\n",
       "    </tr>\n",
       "    <tr>\n",
       "      <th>onlinesecurity_Yes</th>\n",
       "      <td>1.403147</td>\n",
       "    </tr>\n",
       "    <tr>\n",
       "      <th>gender_Male</th>\n",
       "      <td>1.381575</td>\n",
       "    </tr>\n",
       "    <tr>\n",
       "      <th>paperlessbilling_Yes</th>\n",
       "      <td>1.333575</td>\n",
       "    </tr>\n",
       "    <tr>\n",
       "      <th>partner_Yes</th>\n",
       "      <td>1.271494</td>\n",
       "    </tr>\n",
       "    <tr>\n",
       "      <th>multiplelines_Yes</th>\n",
       "      <td>1.159700</td>\n",
       "    </tr>\n",
       "    <tr>\n",
       "      <th>onlinebackup_Yes</th>\n",
       "      <td>1.137274</td>\n",
       "    </tr>\n",
       "    <tr>\n",
       "      <th>internetservice_No</th>\n",
       "      <td>1.046655</td>\n",
       "    </tr>\n",
       "    <tr>\n",
       "      <th>streamingtv_Yes</th>\n",
       "      <td>0.994699</td>\n",
       "    </tr>\n",
       "    <tr>\n",
       "      <th>paymentmethod_Credit card (automatic)</th>\n",
       "      <td>0.852943</td>\n",
       "    </tr>\n",
       "    <tr>\n",
       "      <th>deviceprotection_Yes</th>\n",
       "      <td>0.748107</td>\n",
       "    </tr>\n",
       "    <tr>\n",
       "      <th>seniorcitizen</th>\n",
       "      <td>0.685668</td>\n",
       "    </tr>\n",
       "    <tr>\n",
       "      <th>paymentmethod_Mailed check</th>\n",
       "      <td>0.681308</td>\n",
       "    </tr>\n",
       "  </tbody>\n",
       "</table>\n",
       "</div>"
      ],
      "text/plain": [
       "                                       importances\n",
       "totaldays                                52.226928\n",
       "monthlycharges                            9.331359\n",
       "totalcharges                              9.149535\n",
       "type_Two year                             4.466679\n",
       "internetservice_Fiber optic               2.309615\n",
       "type_One year                             2.246386\n",
       "techsupport_Yes                           2.065700\n",
       "paymentmethod_Electronic check            2.018445\n",
       "dependents_Yes                            1.775840\n",
       "streamingmovies_Yes                       1.713369\n",
       "onlinesecurity_Yes                        1.403147\n",
       "gender_Male                               1.381575\n",
       "paperlessbilling_Yes                      1.333575\n",
       "partner_Yes                               1.271494\n",
       "multiplelines_Yes                         1.159700\n",
       "onlinebackup_Yes                          1.137274\n",
       "internetservice_No                        1.046655\n",
       "streamingtv_Yes                           0.994699\n",
       "paymentmethod_Credit card (automatic)     0.852943\n",
       "deviceprotection_Yes                      0.748107\n",
       "seniorcitizen                             0.685668\n",
       "paymentmethod_Mailed check                0.681308"
      ]
     },
     "execution_count": 49,
     "metadata": {},
     "output_type": "execute_result"
    }
   ],
   "source": [
    "importances_df = pd.DataFrame(search.best_estimator_.feature_importances_, index = features_test.columns, columns=['importances'])\n",
    "importances_df = importances_df.sort_values(by='importances', ascending=False)\n",
    "importances_df"
   ]
  },
  {
   "cell_type": "code",
   "execution_count": 50,
   "metadata": {},
   "outputs": [
    {
     "data": {
      "image/png": "[encoded data removed]",
      "text/plain": [
       "<Figure size 720x360 with 1 Axes>"
      ]
     },
     "metadata": {
      "needs_background": "light"
     },
     "output_type": "display_data"
    }
   ],
   "source": [
    "importances_df.plot(kind='bar', figsize=(10, 5), title='Важность факторов')\n",
    "plt.show()"
   ]
  },
  {
   "cell_type": "markdown",
   "metadata": {},
   "source": [
    "Самые важные факторы - сколько клиент пользуется услугами и сколько он платит в месяц"
   ]
  },
  {
   "cell_type": "markdown",
   "metadata": {},
   "source": [
    "## Вывод\n",
    "- В данной работе проведена работа по предсказанию того, откажется ли клиент от услуг оператора сотовой связи или нет\n",
    "- Сначала данные были прочитаны и по ним были сделаны предварительные выводы\n",
    "- После этого была произведена первичная обработка данных - переименованы столбцы, изменены типы данных\n",
    "- Были добавлены 2 новых столбца - целевой признак сhurn, который означает отказался ли клиент от услуг и totaldays, который обозначает сколько по времени пользователь пользовался услугами\n",
    "-  Был проведен исследовательский анализ данных - проанализированы количественные и категоральные признаки, проведена попытка найти связь между ними и целевым признаком. Были сделаны следующие выводы: со временем вероятность отказа от услуг снижается и обычно отказывались от услуг те, кто платил больше\n",
    "- После этого была проведена подготовка данных к обучению моделей: удалены ненужные столбцы, применена техника OHE, датафрейм был разделен на обучающую и тестовую выборки, проведено масштабирование количественных признаков и проведен upsample\n",
    "- На данных были обучены 3 модели: LogisticRegression, RandomForestClassifier и CatBoostClassifier\n",
    "- Лучший результат показала модель CatBoostClassifier со значением метрики ROC-AUC в 0.91. \n",
    "- Самые важные факторы - сколько клиент пользуется услугами и сколько он платит в месяц"
   ]
  }
 ],
 "metadata": {
  "ExecuteTimeLog": [
   {
    "duration": 94,
    "start_time": "2022-08-01T12:14:14.706Z"
   },
   {
    "duration": 81,
    "start_time": "2022-08-01T12:14:18.343Z"
   },
   {
    "duration": 1979,
    "start_time": "2022-08-01T12:40:35.878Z"
   },
   {
    "duration": 159,
    "start_time": "2022-08-01T12:40:55.746Z"
   },
   {
    "duration": 70,
    "start_time": "2022-08-01T12:55:38.171Z"
   },
   {
    "duration": 55,
    "start_time": "2022-08-01T12:57:14.156Z"
   },
   {
    "duration": 330,
    "start_time": "2022-08-01T12:58:52.638Z"
   },
   {
    "duration": 4,
    "start_time": "2022-08-01T13:00:10.451Z"
   },
   {
    "duration": 105,
    "start_time": "2022-08-01T13:00:11.080Z"
   },
   {
    "duration": 3,
    "start_time": "2022-08-01T13:06:10.085Z"
   },
   {
    "duration": 30,
    "start_time": "2022-08-01T13:06:50.794Z"
   },
   {
    "duration": 6,
    "start_time": "2022-08-01T13:08:42.843Z"
   },
   {
    "duration": 6,
    "start_time": "2022-08-01T13:09:19.669Z"
   },
   {
    "duration": 24,
    "start_time": "2022-08-01T13:17:50.999Z"
   },
   {
    "duration": 41,
    "start_time": "2022-08-01T13:19:37.847Z"
   },
   {
    "duration": 5,
    "start_time": "2022-08-01T13:22:05.662Z"
   },
   {
    "duration": 24,
    "start_time": "2022-08-01T13:24:42.031Z"
   },
   {
    "duration": 22,
    "start_time": "2022-08-01T15:45:23.737Z"
   },
   {
    "duration": 118,
    "start_time": "2022-08-01T15:45:25.004Z"
   },
   {
    "duration": 3,
    "start_time": "2022-08-01T15:45:26.603Z"
   },
   {
    "duration": 27,
    "start_time": "2022-08-01T15:45:27.933Z"
   },
   {
    "duration": 6,
    "start_time": "2022-08-01T15:45:29.204Z"
   },
   {
    "duration": 6,
    "start_time": "2022-08-01T15:45:30.351Z"
   },
   {
    "duration": 23,
    "start_time": "2022-08-01T15:45:31.955Z"
   },
   {
    "duration": 39,
    "start_time": "2022-08-01T15:45:33.822Z"
   },
   {
    "duration": 5,
    "start_time": "2022-08-01T15:45:34.566Z"
   },
   {
    "duration": 25,
    "start_time": "2022-08-01T15:45:36.077Z"
   },
   {
    "duration": 4,
    "start_time": "2022-08-01T15:47:14.843Z"
   },
   {
    "duration": 11,
    "start_time": "2022-08-01T15:49:58.995Z"
   },
   {
    "duration": 5,
    "start_time": "2022-08-01T15:54:35.198Z"
   },
   {
    "duration": 3,
    "start_time": "2022-08-01T15:54:35.746Z"
   },
   {
    "duration": 39,
    "start_time": "2022-08-01T15:54:36.731Z"
   },
   {
    "duration": 5,
    "start_time": "2022-08-01T15:54:38.034Z"
   },
   {
    "duration": 6,
    "start_time": "2022-08-01T15:54:38.786Z"
   },
   {
    "duration": 25,
    "start_time": "2022-08-01T15:54:40.036Z"
   },
   {
    "duration": 37,
    "start_time": "2022-08-01T15:54:41.478Z"
   },
   {
    "duration": 5,
    "start_time": "2022-08-01T15:54:42.530Z"
   },
   {
    "duration": 27,
    "start_time": "2022-08-01T15:54:44.139Z"
   },
   {
    "duration": 9,
    "start_time": "2022-08-01T15:54:47.355Z"
   },
   {
    "duration": 19,
    "start_time": "2022-08-01T15:57:23.717Z"
   },
   {
    "duration": 3,
    "start_time": "2022-08-01T15:58:18.130Z"
   },
   {
    "duration": 2,
    "start_time": "2022-08-01T15:59:29.925Z"
   },
   {
    "duration": 7,
    "start_time": "2022-08-01T15:59:31.118Z"
   },
   {
    "duration": 4,
    "start_time": "2022-08-01T15:59:34.472Z"
   },
   {
    "duration": 4,
    "start_time": "2022-08-01T15:59:37.216Z"
   },
   {
    "duration": 17,
    "start_time": "2022-08-01T15:59:58.285Z"
   },
   {
    "duration": 11,
    "start_time": "2022-08-01T16:02:56.891Z"
   },
   {
    "duration": 13,
    "start_time": "2022-08-01T16:03:07.239Z"
   },
   {
    "duration": 1251,
    "start_time": "2022-08-01T16:05:13.523Z"
   },
   {
    "duration": 6,
    "start_time": "2022-08-01T16:05:58.578Z"
   },
   {
    "duration": 9,
    "start_time": "2022-08-01T16:07:44.706Z"
   },
   {
    "duration": 17,
    "start_time": "2022-08-01T16:23:20.845Z"
   },
   {
    "duration": 13,
    "start_time": "2022-08-01T16:29:28.063Z"
   },
   {
    "duration": 9,
    "start_time": "2022-08-01T16:30:44.684Z"
   },
   {
    "duration": 17,
    "start_time": "2022-08-01T16:31:11.451Z"
   },
   {
    "duration": 6,
    "start_time": "2022-08-01T16:33:03.924Z"
   },
   {
    "duration": 209,
    "start_time": "2022-08-01T16:35:48.958Z"
   },
   {
    "duration": 21,
    "start_time": "2022-08-01T16:36:53.083Z"
   },
   {
    "duration": 72,
    "start_time": "2022-08-01T16:39:51.232Z"
   },
   {
    "duration": 85,
    "start_time": "2022-08-01T16:40:08.489Z"
   },
   {
    "duration": 10,
    "start_time": "2022-08-01T16:41:28.461Z"
   },
   {
    "duration": 22,
    "start_time": "2022-08-01T16:41:39.968Z"
   },
   {
    "duration": 80,
    "start_time": "2022-08-01T16:41:41.952Z"
   },
   {
    "duration": 9,
    "start_time": "2022-08-01T16:42:38.714Z"
   },
   {
    "duration": 6,
    "start_time": "2022-08-01T16:42:45.143Z"
   },
   {
    "duration": 48,
    "start_time": "2022-08-01T16:43:51.254Z"
   },
   {
    "duration": 11,
    "start_time": "2022-08-01T16:48:37.753Z"
   },
   {
    "duration": 1283,
    "start_time": "2022-08-01T16:51:14.188Z"
   },
   {
    "duration": 12,
    "start_time": "2022-08-01T16:51:36.170Z"
   },
   {
    "duration": 12,
    "start_time": "2022-08-01T16:51:59.262Z"
   },
   {
    "duration": 118,
    "start_time": "2022-08-01T16:54:01.788Z"
   },
   {
    "duration": 1549,
    "start_time": "2022-08-01T16:54:20.711Z"
   },
   {
    "duration": 3,
    "start_time": "2022-08-01T16:57:57.892Z"
   },
   {
    "duration": 3,
    "start_time": "2022-08-01T16:57:58.672Z"
   },
   {
    "duration": 5,
    "start_time": "2022-08-01T17:11:48.495Z"
   },
   {
    "duration": 1260,
    "start_time": "2022-08-01T17:11:58.671Z"
   },
   {
    "duration": 1239,
    "start_time": "2022-08-01T17:16:43.645Z"
   },
   {
    "duration": 4,
    "start_time": "2022-08-01T17:21:12.338Z"
   },
   {
    "duration": 4,
    "start_time": "2022-08-01T17:21:23.919Z"
   },
   {
    "duration": 16,
    "start_time": "2022-08-01T17:21:28.203Z"
   },
   {
    "duration": 5,
    "start_time": "2022-08-01T17:21:34.184Z"
   },
   {
    "duration": 85,
    "start_time": "2022-08-01T17:21:39.548Z"
   },
   {
    "duration": 12,
    "start_time": "2022-08-01T17:21:48.057Z"
   },
   {
    "duration": 8,
    "start_time": "2022-08-01T17:21:55.163Z"
   },
   {
    "duration": 20,
    "start_time": "2022-08-01T17:22:32.651Z"
   },
   {
    "duration": 13,
    "start_time": "2022-08-01T17:22:41.232Z"
   },
   {
    "duration": 31,
    "start_time": "2022-08-01T17:24:44.775Z"
   },
   {
    "duration": 33,
    "start_time": "2022-08-01T17:25:03.236Z"
   },
   {
    "duration": 96,
    "start_time": "2022-08-01T17:25:34.685Z"
   },
   {
    "duration": 3,
    "start_time": "2022-08-01T17:25:38.114Z"
   },
   {
    "duration": 35,
    "start_time": "2022-08-01T17:25:47.442Z"
   },
   {
    "duration": 7,
    "start_time": "2022-08-01T17:25:54.668Z"
   },
   {
    "duration": 5,
    "start_time": "2022-08-01T17:26:01.276Z"
   },
   {
    "duration": 27,
    "start_time": "2022-08-01T17:26:08.641Z"
   },
   {
    "duration": 46,
    "start_time": "2022-08-01T17:26:20.231Z"
   },
   {
    "duration": 6,
    "start_time": "2022-08-01T17:26:25.385Z"
   },
   {
    "duration": 26,
    "start_time": "2022-08-01T17:26:33.043Z"
   },
   {
    "duration": 3,
    "start_time": "2022-08-01T17:26:41.758Z"
   },
   {
    "duration": 13,
    "start_time": "2022-08-01T17:26:47.543Z"
   },
   {
    "duration": 6,
    "start_time": "2022-08-01T17:26:55.464Z"
   },
   {
    "duration": 17,
    "start_time": "2022-08-01T17:27:00.893Z"
   },
   {
    "duration": 15,
    "start_time": "2022-08-01T17:27:13.256Z"
   },
   {
    "duration": 13,
    "start_time": "2022-08-01T17:27:28.466Z"
   },
   {
    "duration": 5,
    "start_time": "2022-08-01T17:27:39.989Z"
   },
   {
    "duration": 29,
    "start_time": "2022-08-01T17:27:45.126Z"
   },
   {
    "duration": 6,
    "start_time": "2022-08-01T17:27:47.719Z"
   },
   {
    "duration": 52,
    "start_time": "2022-08-01T17:27:53.394Z"
   },
   {
    "duration": 9,
    "start_time": "2022-08-01T17:28:05.159Z"
   },
   {
    "duration": 16,
    "start_time": "2022-08-01T17:28:08.045Z"
   },
   {
    "duration": 4,
    "start_time": "2022-08-01T17:28:13.282Z"
   },
   {
    "duration": 1365,
    "start_time": "2022-08-01T17:28:16.157Z"
   },
   {
    "duration": 1281,
    "start_time": "2022-08-01T17:32:29.264Z"
   },
   {
    "duration": 3,
    "start_time": "2022-08-01T17:36:42.697Z"
   },
   {
    "duration": 5,
    "start_time": "2022-08-01T17:36:45.163Z"
   },
   {
    "duration": 1380,
    "start_time": "2022-08-01T17:36:49.728Z"
   },
   {
    "duration": 1505,
    "start_time": "2022-08-01T17:37:00.479Z"
   },
   {
    "duration": 3,
    "start_time": "2022-08-01T17:37:39.599Z"
   },
   {
    "duration": 4,
    "start_time": "2022-08-01T17:37:42.885Z"
   },
   {
    "duration": 1216,
    "start_time": "2022-08-01T17:37:45.043Z"
   },
   {
    "duration": 447,
    "start_time": "2022-08-01T17:37:47.374Z"
   },
   {
    "duration": 1838,
    "start_time": "2022-08-01T17:58:37.627Z"
   },
   {
    "duration": 11,
    "start_time": "2022-08-01T18:03:50.816Z"
   },
   {
    "duration": 470,
    "start_time": "2022-08-01T18:04:17.246Z"
   },
   {
    "duration": 448,
    "start_time": "2022-08-01T18:04:37.234Z"
   },
   {
    "duration": 1391,
    "start_time": "2022-08-02T03:16:01.482Z"
   },
   {
    "duration": 325,
    "start_time": "2022-08-02T03:16:02.875Z"
   },
   {
    "duration": 3,
    "start_time": "2022-08-02T03:16:06.926Z"
   },
   {
    "duration": 29,
    "start_time": "2022-08-02T03:16:09.194Z"
   },
   {
    "duration": 7,
    "start_time": "2022-08-02T03:16:10.987Z"
   },
   {
    "duration": 5,
    "start_time": "2022-08-02T03:16:12.326Z"
   },
   {
    "duration": 22,
    "start_time": "2022-08-02T03:16:13.965Z"
   },
   {
    "duration": 38,
    "start_time": "2022-08-02T03:16:15.925Z"
   },
   {
    "duration": 7,
    "start_time": "2022-08-02T03:16:17.231Z"
   },
   {
    "duration": 29,
    "start_time": "2022-08-02T03:16:19.399Z"
   },
   {
    "duration": 5,
    "start_time": "2022-08-02T03:16:23.763Z"
   },
   {
    "duration": 12,
    "start_time": "2022-08-02T03:16:41.997Z"
   },
   {
    "duration": 7,
    "start_time": "2022-08-02T03:16:52.089Z"
   },
   {
    "duration": 16,
    "start_time": "2022-08-02T03:17:00.586Z"
   },
   {
    "duration": 18,
    "start_time": "2022-08-02T03:17:20.593Z"
   },
   {
    "duration": 13,
    "start_time": "2022-08-02T03:17:31.781Z"
   },
   {
    "duration": 5,
    "start_time": "2022-08-02T03:17:39.527Z"
   },
   {
    "duration": 22,
    "start_time": "2022-08-02T03:17:45.342Z"
   },
   {
    "duration": 5,
    "start_time": "2022-08-02T03:17:49.262Z"
   },
   {
    "duration": 48,
    "start_time": "2022-08-02T03:17:55.025Z"
   },
   {
    "duration": 9,
    "start_time": "2022-08-02T03:18:27.450Z"
   },
   {
    "duration": 13,
    "start_time": "2022-08-02T03:18:29.645Z"
   },
   {
    "duration": 3,
    "start_time": "2022-08-02T03:19:02.493Z"
   },
   {
    "duration": 3,
    "start_time": "2022-08-02T03:20:03.958Z"
   },
   {
    "duration": 5,
    "start_time": "2022-08-02T03:20:12.376Z"
   },
   {
    "duration": 1258,
    "start_time": "2022-08-02T03:20:18.236Z"
   },
   {
    "duration": 341,
    "start_time": "2022-08-02T03:21:34.543Z"
   },
   {
    "duration": 1591,
    "start_time": "2022-08-02T03:23:50.307Z"
   },
   {
    "duration": 322,
    "start_time": "2022-08-02T03:23:58.661Z"
   },
   {
    "duration": 7,
    "start_time": "2022-08-02T05:27:12.468Z"
   },
   {
    "duration": 107,
    "start_time": "2022-08-02T05:29:14.309Z"
   },
   {
    "duration": 8,
    "start_time": "2022-08-02T05:29:21.408Z"
   },
   {
    "duration": 3,
    "start_time": "2022-08-02T05:33:51.273Z"
   },
   {
    "duration": 205,
    "start_time": "2022-08-02T05:35:35.160Z"
   },
   {
    "duration": 434,
    "start_time": "2022-08-02T05:36:40.479Z"
   },
   {
    "duration": 1527,
    "start_time": "2022-08-02T05:37:41.713Z"
   },
   {
    "duration": 1524,
    "start_time": "2022-08-02T05:38:04.655Z"
   },
   {
    "duration": 103,
    "start_time": "2022-08-02T05:38:14.200Z"
   },
   {
    "duration": 118,
    "start_time": "2022-08-02T05:38:50.155Z"
   },
   {
    "duration": 35,
    "start_time": "2022-08-02T05:39:41.254Z"
   },
   {
    "duration": 117,
    "start_time": "2022-08-02T05:40:16.904Z"
   },
   {
    "duration": 4,
    "start_time": "2022-08-02T05:41:01.049Z"
   },
   {
    "duration": 4,
    "start_time": "2022-08-02T05:41:10.290Z"
   },
   {
    "duration": 4,
    "start_time": "2022-08-02T05:45:33.153Z"
   },
   {
    "duration": 142,
    "start_time": "2022-08-02T05:46:05.306Z"
   },
   {
    "duration": 5,
    "start_time": "2022-08-02T05:47:14.763Z"
   },
   {
    "duration": 130,
    "start_time": "2022-08-02T05:47:17.360Z"
   },
   {
    "duration": 4,
    "start_time": "2022-08-02T05:47:18.605Z"
   },
   {
    "duration": 34,
    "start_time": "2022-08-02T05:47:19.205Z"
   },
   {
    "duration": 6,
    "start_time": "2022-08-02T05:47:19.971Z"
   },
   {
    "duration": 6,
    "start_time": "2022-08-02T05:47:20.766Z"
   },
   {
    "duration": 26,
    "start_time": "2022-08-02T05:47:22.052Z"
   },
   {
    "duration": 37,
    "start_time": "2022-08-02T05:47:23.478Z"
   },
   {
    "duration": 6,
    "start_time": "2022-08-02T05:47:24.153Z"
   },
   {
    "duration": 25,
    "start_time": "2022-08-02T05:47:25.548Z"
   },
   {
    "duration": 4,
    "start_time": "2022-08-02T05:47:28.204Z"
   },
   {
    "duration": 12,
    "start_time": "2022-08-02T05:47:29.564Z"
   },
   {
    "duration": 6,
    "start_time": "2022-08-02T05:47:31.004Z"
   },
   {
    "duration": 16,
    "start_time": "2022-08-02T05:47:32.372Z"
   },
   {
    "duration": 14,
    "start_time": "2022-08-02T05:47:33.701Z"
   },
   {
    "duration": 13,
    "start_time": "2022-08-02T05:47:35.091Z"
   },
   {
    "duration": 6,
    "start_time": "2022-08-02T05:47:36.509Z"
   },
   {
    "duration": 36,
    "start_time": "2022-08-02T05:47:37.924Z"
   },
   {
    "duration": 5,
    "start_time": "2022-08-02T05:47:38.709Z"
   },
   {
    "duration": 46,
    "start_time": "2022-08-02T05:47:39.461Z"
   },
   {
    "duration": 8,
    "start_time": "2022-08-02T05:47:41.077Z"
   },
   {
    "duration": 12,
    "start_time": "2022-08-02T05:47:41.870Z"
   },
   {
    "duration": 5,
    "start_time": "2022-08-02T05:47:43.351Z"
   },
   {
    "duration": 3,
    "start_time": "2022-08-02T05:47:44.083Z"
   },
   {
    "duration": 1226,
    "start_time": "2022-08-02T05:47:45.679Z"
   },
   {
    "duration": 489,
    "start_time": "2022-08-02T05:47:50.697Z"
   },
   {
    "duration": 1692,
    "start_time": "2022-08-02T05:47:53.125Z"
   },
   {
    "duration": 400,
    "start_time": "2022-08-02T05:47:59.669Z"
   },
   {
    "duration": 481,
    "start_time": "2022-08-02T05:48:02.908Z"
   },
   {
    "duration": 8,
    "start_time": "2022-08-02T05:48:10.742Z"
   },
   {
    "duration": 9,
    "start_time": "2022-08-02T05:48:13.763Z"
   },
   {
    "duration": 4,
    "start_time": "2022-08-02T05:48:18.863Z"
   },
   {
    "duration": 445,
    "start_time": "2022-08-02T05:48:22.379Z"
   },
   {
    "duration": 101,
    "start_time": "2022-08-02T05:48:25.503Z"
   },
   {
    "duration": 111,
    "start_time": "2022-08-02T05:48:27.353Z"
   },
   {
    "duration": 39,
    "start_time": "2022-08-02T05:48:29.142Z"
   },
   {
    "duration": 118,
    "start_time": "2022-08-02T05:48:32.482Z"
   },
   {
    "duration": 5,
    "start_time": "2022-08-02T05:48:34.182Z"
   },
   {
    "duration": 4,
    "start_time": "2022-08-02T05:48:36.198Z"
   },
   {
    "duration": 3,
    "start_time": "2022-08-02T05:48:40.194Z"
   },
   {
    "duration": 233,
    "start_time": "2022-08-02T05:48:42.091Z"
   },
   {
    "duration": 105,
    "start_time": "2022-08-02T05:49:13.574Z"
   },
   {
    "duration": 3,
    "start_time": "2022-08-02T05:52:56.704Z"
   },
   {
    "duration": 7,
    "start_time": "2022-08-02T05:54:07.892Z"
   },
   {
    "duration": 17,
    "start_time": "2022-08-02T05:54:52.525Z"
   },
   {
    "duration": 4,
    "start_time": "2022-08-02T05:56:07.360Z"
   },
   {
    "duration": 107,
    "start_time": "2022-08-02T05:56:07.977Z"
   },
   {
    "duration": 4,
    "start_time": "2022-08-02T05:56:09.526Z"
   },
   {
    "duration": 26,
    "start_time": "2022-08-02T05:56:10.263Z"
   },
   {
    "duration": 7,
    "start_time": "2022-08-02T05:56:10.987Z"
   },
   {
    "duration": 6,
    "start_time": "2022-08-02T05:56:11.806Z"
   },
   {
    "duration": 24,
    "start_time": "2022-08-02T05:56:13.477Z"
   },
   {
    "duration": 48,
    "start_time": "2022-08-02T05:56:15.214Z"
   },
   {
    "duration": 5,
    "start_time": "2022-08-02T05:56:16.143Z"
   },
   {
    "duration": 27,
    "start_time": "2022-08-02T05:56:17.843Z"
   },
   {
    "duration": 4,
    "start_time": "2022-08-02T05:56:21.053Z"
   },
   {
    "duration": 12,
    "start_time": "2022-08-02T05:56:22.546Z"
   },
   {
    "duration": 5,
    "start_time": "2022-08-02T05:56:24.116Z"
   },
   {
    "duration": 17,
    "start_time": "2022-08-02T05:56:25.837Z"
   },
   {
    "duration": 15,
    "start_time": "2022-08-02T05:56:28.617Z"
   },
   {
    "duration": 14,
    "start_time": "2022-08-02T05:56:30.196Z"
   },
   {
    "duration": 5,
    "start_time": "2022-08-02T05:56:31.982Z"
   },
   {
    "duration": 24,
    "start_time": "2022-08-02T05:56:33.642Z"
   },
   {
    "duration": 10,
    "start_time": "2022-08-02T05:56:34.330Z"
   },
   {
    "duration": 53,
    "start_time": "2022-08-02T05:56:35.214Z"
   },
   {
    "duration": 9,
    "start_time": "2022-08-02T05:56:36.751Z"
   },
   {
    "duration": 13,
    "start_time": "2022-08-02T05:56:37.467Z"
   },
   {
    "duration": 4,
    "start_time": "2022-08-02T05:56:38.993Z"
   },
   {
    "duration": 6,
    "start_time": "2022-08-02T05:56:39.926Z"
   },
   {
    "duration": 1210,
    "start_time": "2022-08-02T05:56:41.652Z"
   },
   {
    "duration": 485,
    "start_time": "2022-08-02T05:56:44.262Z"
   },
   {
    "duration": 1706,
    "start_time": "2022-08-02T05:56:46.193Z"
   },
   {
    "duration": 372,
    "start_time": "2022-08-02T05:56:48.671Z"
   },
   {
    "duration": 482,
    "start_time": "2022-08-02T05:56:50.070Z"
   },
   {
    "duration": 8,
    "start_time": "2022-08-02T05:56:53.242Z"
   },
   {
    "duration": 8,
    "start_time": "2022-08-02T05:56:55.672Z"
   },
   {
    "duration": 4,
    "start_time": "2022-08-02T05:56:58.376Z"
   },
   {
    "duration": 437,
    "start_time": "2022-08-02T05:57:00.063Z"
   },
   {
    "duration": 112,
    "start_time": "2022-08-02T05:57:01.829Z"
   },
   {
    "duration": 112,
    "start_time": "2022-08-02T05:57:03.445Z"
   },
   {
    "duration": 36,
    "start_time": "2022-08-02T05:57:05.072Z"
   },
   {
    "duration": 136,
    "start_time": "2022-08-02T05:57:07.026Z"
   },
   {
    "duration": 4,
    "start_time": "2022-08-02T05:57:08.093Z"
   },
   {
    "duration": 5,
    "start_time": "2022-08-02T05:57:08.942Z"
   },
   {
    "duration": 3,
    "start_time": "2022-08-02T05:57:10.864Z"
   },
   {
    "duration": 234,
    "start_time": "2022-08-02T05:57:11.842Z"
   },
   {
    "duration": 123,
    "start_time": "2022-08-02T05:57:12.800Z"
   },
   {
    "duration": 5,
    "start_time": "2022-08-02T05:57:15.942Z"
   },
   {
    "duration": 484506,
    "start_time": "2022-08-02T06:05:21.939Z"
   },
   {
    "duration": 121,
    "start_time": "2022-08-02T06:54:26.574Z"
   },
   {
    "duration": 167019,
    "start_time": "2022-08-02T06:55:22.778Z"
   },
   {
    "duration": 124,
    "start_time": "2022-08-02T06:58:28.942Z"
   },
   {
    "duration": 145230,
    "start_time": "2022-08-02T06:59:21.443Z"
   },
   {
    "duration": 118,
    "start_time": "2022-08-02T07:03:46.497Z"
   },
   {
    "duration": 218,
    "start_time": "2022-08-02T07:05:10.286Z"
   },
   {
    "duration": 11,
    "start_time": "2022-08-02T07:07:09.284Z"
   },
   {
    "duration": 10,
    "start_time": "2022-08-02T07:09:51.764Z"
   },
   {
    "duration": 122734,
    "start_time": "2022-08-02T07:09:51.776Z"
   },
   {
    "duration": 9,
    "start_time": "2022-08-02T09:00:50.971Z"
   },
   {
    "duration": 10,
    "start_time": "2022-08-02T09:02:18.429Z"
   },
   {
    "duration": 19,
    "start_time": "2022-08-02T09:02:40.104Z"
   },
   {
    "duration": 10,
    "start_time": "2022-08-02T09:04:22.600Z"
   },
   {
    "duration": 4,
    "start_time": "2022-08-02T09:05:22.092Z"
   },
   {
    "duration": 105,
    "start_time": "2022-08-02T09:05:22.881Z"
   },
   {
    "duration": 3,
    "start_time": "2022-08-02T09:05:24.430Z"
   },
   {
    "duration": 30,
    "start_time": "2022-08-02T09:05:25.294Z"
   },
   {
    "duration": 5,
    "start_time": "2022-08-02T09:05:26.261Z"
   },
   {
    "duration": 6,
    "start_time": "2022-08-02T09:05:27.119Z"
   },
   {
    "duration": 23,
    "start_time": "2022-08-02T09:05:28.718Z"
   },
   {
    "duration": 41,
    "start_time": "2022-08-02T09:05:30.518Z"
   },
   {
    "duration": 6,
    "start_time": "2022-08-02T09:05:31.727Z"
   },
   {
    "duration": 24,
    "start_time": "2022-08-02T09:05:33.632Z"
   },
   {
    "duration": 4,
    "start_time": "2022-08-02T09:05:36.814Z"
   },
   {
    "duration": 14,
    "start_time": "2022-08-02T09:05:41.566Z"
   },
   {
    "duration": 6,
    "start_time": "2022-08-02T09:05:43.757Z"
   },
   {
    "duration": 17,
    "start_time": "2022-08-02T09:05:45.758Z"
   },
   {
    "duration": 17,
    "start_time": "2022-08-02T09:05:48.221Z"
   },
   {
    "duration": 13,
    "start_time": "2022-08-02T09:05:51.231Z"
   },
   {
    "duration": 5,
    "start_time": "2022-08-02T09:05:53.777Z"
   },
   {
    "duration": 29,
    "start_time": "2022-08-02T09:05:55.408Z"
   },
   {
    "duration": 7,
    "start_time": "2022-08-02T09:05:57.206Z"
   },
   {
    "duration": 6,
    "start_time": "2022-08-02T09:05:59.216Z"
   },
   {
    "duration": 1330,
    "start_time": "2022-08-02T09:06:13.105Z"
   },
   {
    "duration": 0,
    "start_time": "2022-08-02T09:06:14.437Z"
   },
   {
    "duration": 8,
    "start_time": "2022-08-02T09:06:15.748Z"
   },
   {
    "duration": 13,
    "start_time": "2022-08-02T09:06:16.304Z"
   },
   {
    "duration": 6,
    "start_time": "2022-08-02T09:06:17.714Z"
   },
   {
    "duration": 4,
    "start_time": "2022-08-02T09:06:18.361Z"
   },
   {
    "duration": 1193,
    "start_time": "2022-08-02T09:06:19.659Z"
   },
   {
    "duration": 376,
    "start_time": "2022-08-02T09:06:23.330Z"
   },
   {
    "duration": 1662,
    "start_time": "2022-08-02T09:06:26.991Z"
   },
   {
    "duration": 371,
    "start_time": "2022-08-02T09:06:30.429Z"
   },
   {
    "duration": 366,
    "start_time": "2022-08-02T09:06:33.475Z"
   },
   {
    "duration": 7,
    "start_time": "2022-08-02T09:06:37.398Z"
   },
   {
    "duration": 11,
    "start_time": "2022-08-02T09:06:39.877Z"
   },
   {
    "duration": 4,
    "start_time": "2022-08-02T09:06:41.879Z"
   },
   {
    "duration": 35,
    "start_time": "2022-08-02T09:06:43.161Z"
   },
   {
    "duration": 5,
    "start_time": "2022-08-02T09:06:44.768Z"
   },
   {
    "duration": 19,
    "start_time": "2022-08-02T09:06:46.312Z"
   },
   {
    "duration": 14,
    "start_time": "2022-08-02T09:06:48.028Z"
   },
   {
    "duration": 138,
    "start_time": "2022-08-02T09:06:49.822Z"
   },
   {
    "duration": 5,
    "start_time": "2022-08-02T09:06:50.866Z"
   },
   {
    "duration": 4,
    "start_time": "2022-08-02T09:06:52.426Z"
   },
   {
    "duration": 4,
    "start_time": "2022-08-02T09:06:54.085Z"
   },
   {
    "duration": 15,
    "start_time": "2022-08-02T09:06:55.460Z"
   },
   {
    "duration": 105,
    "start_time": "2022-08-02T09:06:56.457Z"
   },
   {
    "duration": 4,
    "start_time": "2022-08-02T09:07:00.267Z"
   },
   {
    "duration": 13248,
    "start_time": "2022-08-02T09:07:02.984Z"
   },
   {
    "duration": 114,
    "start_time": "2022-08-02T09:08:29.061Z"
   },
   {
    "duration": 38306,
    "start_time": "2022-08-02T09:08:33.727Z"
   },
   {
    "duration": 4,
    "start_time": "2022-08-02T09:09:34.059Z"
   },
   {
    "duration": 102,
    "start_time": "2022-08-02T09:09:35.020Z"
   },
   {
    "duration": 3,
    "start_time": "2022-08-02T09:09:36.617Z"
   },
   {
    "duration": 32,
    "start_time": "2022-08-02T09:09:37.708Z"
   },
   {
    "duration": 6,
    "start_time": "2022-08-02T09:09:38.962Z"
   },
   {
    "duration": 6,
    "start_time": "2022-08-02T09:09:40.367Z"
   },
   {
    "duration": 22,
    "start_time": "2022-08-02T09:09:42.255Z"
   },
   {
    "duration": 37,
    "start_time": "2022-08-02T09:09:44.031Z"
   },
   {
    "duration": 6,
    "start_time": "2022-08-02T09:09:45.355Z"
   },
   {
    "duration": 26,
    "start_time": "2022-08-02T09:09:47.303Z"
   },
   {
    "duration": 4,
    "start_time": "2022-08-02T09:09:56.703Z"
   },
   {
    "duration": 13,
    "start_time": "2022-08-02T09:10:00.487Z"
   },
   {
    "duration": 6,
    "start_time": "2022-08-02T09:10:10.224Z"
   },
   {
    "duration": 16,
    "start_time": "2022-08-02T09:10:13.390Z"
   },
   {
    "duration": 14,
    "start_time": "2022-08-02T09:10:18.309Z"
   },
   {
    "duration": 14,
    "start_time": "2022-08-02T09:10:22.859Z"
   },
   {
    "duration": 5,
    "start_time": "2022-08-02T09:10:33.998Z"
   },
   {
    "duration": 24,
    "start_time": "2022-08-02T09:10:42.121Z"
   },
   {
    "duration": 6,
    "start_time": "2022-08-02T09:10:44.663Z"
   },
   {
    "duration": 44,
    "start_time": "2022-08-02T09:10:49.322Z"
   },
   {
    "duration": 48,
    "start_time": "2022-08-02T09:10:54.819Z"
   },
   {
    "duration": 8,
    "start_time": "2022-08-02T09:11:06.460Z"
   },
   {
    "duration": 13,
    "start_time": "2022-08-02T09:11:08.233Z"
   },
   {
    "duration": 4,
    "start_time": "2022-08-02T09:11:12.497Z"
   },
   {
    "duration": 4,
    "start_time": "2022-08-02T09:11:15.917Z"
   },
   {
    "duration": 1186,
    "start_time": "2022-08-02T09:11:21.968Z"
   },
   {
    "duration": 374,
    "start_time": "2022-08-02T09:11:33.432Z"
   },
   {
    "duration": 1612,
    "start_time": "2022-08-02T09:11:42.362Z"
   },
   {
    "duration": 350,
    "start_time": "2022-08-02T09:11:54.824Z"
   },
   {
    "duration": 372,
    "start_time": "2022-08-02T09:11:59.660Z"
   },
   {
    "duration": 6,
    "start_time": "2022-08-02T09:12:06.289Z"
   },
   {
    "duration": 8,
    "start_time": "2022-08-02T09:12:11.178Z"
   },
   {
    "duration": 4,
    "start_time": "2022-08-02T09:12:15.922Z"
   },
   {
    "duration": 1973,
    "start_time": "2022-08-02T09:12:19.029Z"
   },
   {
    "duration": 2027,
    "start_time": "2022-08-02T09:14:49.617Z"
   },
   {
    "duration": 22,
    "start_time": "2022-08-02T09:20:12.383Z"
   },
   {
    "duration": 6,
    "start_time": "2022-08-02T09:20:13.071Z"
   },
   {
    "duration": 5,
    "start_time": "2022-08-02T09:20:14.448Z"
   },
   {
    "duration": 44,
    "start_time": "2022-08-02T09:20:18.076Z"
   },
   {
    "duration": 10,
    "start_time": "2022-08-02T09:20:26.548Z"
   },
   {
    "duration": 20,
    "start_time": "2022-08-02T09:20:28.136Z"
   },
   {
    "duration": 4,
    "start_time": "2022-08-02T09:20:32.702Z"
   },
   {
    "duration": 6,
    "start_time": "2022-08-02T09:20:38.001Z"
   },
   {
    "duration": 1189,
    "start_time": "2022-08-02T09:20:43.642Z"
   },
   {
    "duration": 1682,
    "start_time": "2022-08-02T09:20:53.958Z"
   },
   {
    "duration": 1672,
    "start_time": "2022-08-02T09:21:02.048Z"
   },
   {
    "duration": 404,
    "start_time": "2022-08-02T09:21:10.467Z"
   },
   {
    "duration": 496,
    "start_time": "2022-08-02T09:21:16.686Z"
   },
   {
    "duration": 8,
    "start_time": "2022-08-02T09:21:24.577Z"
   },
   {
    "duration": 8,
    "start_time": "2022-08-02T09:21:30.106Z"
   },
   {
    "duration": 4,
    "start_time": "2022-08-02T09:21:38.148Z"
   },
   {
    "duration": 34,
    "start_time": "2022-08-02T09:21:42.190Z"
   },
   {
    "duration": 5,
    "start_time": "2022-08-02T09:21:59.235Z"
   },
   {
    "duration": 8,
    "start_time": "2022-08-02T09:22:01.558Z"
   },
   {
    "duration": 14,
    "start_time": "2022-08-02T09:22:04.139Z"
   },
   {
    "duration": 123,
    "start_time": "2022-08-02T09:22:06.872Z"
   },
   {
    "duration": 5,
    "start_time": "2022-08-02T09:22:09.638Z"
   },
   {
    "duration": 3,
    "start_time": "2022-08-02T09:22:10.862Z"
   },
   {
    "duration": 3,
    "start_time": "2022-08-02T09:22:12.836Z"
   },
   {
    "duration": 12,
    "start_time": "2022-08-02T09:22:14.342Z"
   },
   {
    "duration": 105,
    "start_time": "2022-08-02T09:22:16.435Z"
   },
   {
    "duration": 4,
    "start_time": "2022-08-02T09:22:20.072Z"
   },
   {
    "duration": 13089,
    "start_time": "2022-08-02T09:22:22.554Z"
   },
   {
    "duration": 117,
    "start_time": "2022-08-02T09:22:51.534Z"
   },
   {
    "duration": 39972,
    "start_time": "2022-08-02T09:22:57.544Z"
   },
   {
    "duration": 122,
    "start_time": "2022-08-02T09:23:46.129Z"
   },
   {
    "duration": 31893,
    "start_time": "2022-08-02T09:23:52.568Z"
   },
   {
    "duration": 124,
    "start_time": "2022-08-02T09:24:29.136Z"
   },
   {
    "duration": 27,
    "start_time": "2022-08-02T09:24:58.343Z"
   },
   {
    "duration": 13,
    "start_time": "2022-08-02T09:25:09.236Z"
   },
   {
    "duration": 244,
    "start_time": "2022-08-02T09:25:14.535Z"
   },
   {
    "duration": 119,
    "start_time": "2022-08-02T09:25:39.590Z"
   },
   {
    "duration": 22,
    "start_time": "2022-08-02T09:37:12.527Z"
   },
   {
    "duration": 9,
    "start_time": "2022-08-02T09:37:15.029Z"
   },
   {
    "duration": 5,
    "start_time": "2022-08-02T09:37:53.267Z"
   },
   {
    "duration": 13,
    "start_time": "2022-08-02T09:37:57.432Z"
   },
   {
    "duration": 12,
    "start_time": "2022-08-02T09:38:19.579Z"
   },
   {
    "duration": 5,
    "start_time": "2022-08-02T09:38:48.627Z"
   },
   {
    "duration": 122,
    "start_time": "2022-08-02T09:38:49.250Z"
   },
   {
    "duration": 4,
    "start_time": "2022-08-02T09:38:50.737Z"
   },
   {
    "duration": 26,
    "start_time": "2022-08-02T09:38:51.779Z"
   },
   {
    "duration": 6,
    "start_time": "2022-08-02T09:38:52.838Z"
   },
   {
    "duration": 6,
    "start_time": "2022-08-02T09:38:54.770Z"
   },
   {
    "duration": 23,
    "start_time": "2022-08-02T09:38:56.695Z"
   },
   {
    "duration": 40,
    "start_time": "2022-08-02T09:38:58.661Z"
   },
   {
    "duration": 7,
    "start_time": "2022-08-02T09:38:59.754Z"
   },
   {
    "duration": 25,
    "start_time": "2022-08-02T09:39:02.173Z"
   },
   {
    "duration": 5,
    "start_time": "2022-08-02T09:39:08.944Z"
   },
   {
    "duration": 13,
    "start_time": "2022-08-02T09:39:11.593Z"
   },
   {
    "duration": 7,
    "start_time": "2022-08-02T09:39:14.180Z"
   },
   {
    "duration": 16,
    "start_time": "2022-08-02T09:39:17.941Z"
   },
   {
    "duration": 4,
    "start_time": "2022-08-02T09:39:20.370Z"
   },
   {
    "duration": 13,
    "start_time": "2022-08-02T09:39:23.574Z"
   },
   {
    "duration": 15,
    "start_time": "2022-08-02T09:39:29.774Z"
   },
   {
    "duration": 5,
    "start_time": "2022-08-02T09:39:32.476Z"
   },
   {
    "duration": 23,
    "start_time": "2022-08-02T09:39:34.234Z"
   },
   {
    "duration": 6,
    "start_time": "2022-08-02T09:39:39.185Z"
   },
   {
    "duration": 5,
    "start_time": "2022-08-02T09:39:40.429Z"
   },
   {
    "duration": 45,
    "start_time": "2022-08-02T09:39:43.467Z"
   },
   {
    "duration": 10,
    "start_time": "2022-08-02T09:40:22.681Z"
   },
   {
    "duration": 14,
    "start_time": "2022-08-02T09:40:24.453Z"
   },
   {
    "duration": 3,
    "start_time": "2022-08-02T09:40:56.531Z"
   },
   {
    "duration": 4,
    "start_time": "2022-08-02T09:40:57.658Z"
   },
   {
    "duration": 1267,
    "start_time": "2022-08-02T09:41:03.228Z"
   },
   {
    "duration": 501,
    "start_time": "2022-08-02T09:41:49.539Z"
   },
   {
    "duration": 1628,
    "start_time": "2022-08-02T09:42:03.281Z"
   },
   {
    "duration": 465,
    "start_time": "2022-08-02T09:42:11.860Z"
   },
   {
    "duration": 487,
    "start_time": "2022-08-02T09:42:25.048Z"
   },
   {
    "duration": 6,
    "start_time": "2022-08-02T09:42:47.290Z"
   },
   {
    "duration": 11,
    "start_time": "2022-08-02T09:42:58.052Z"
   },
   {
    "duration": 4,
    "start_time": "2022-08-02T09:43:14.349Z"
   },
   {
    "duration": 32,
    "start_time": "2022-08-02T09:43:16.830Z"
   },
   {
    "duration": 4,
    "start_time": "2022-08-02T09:43:24.098Z"
   },
   {
    "duration": 8,
    "start_time": "2022-08-02T09:43:27.965Z"
   },
   {
    "duration": 17,
    "start_time": "2022-08-02T09:43:29.980Z"
   },
   {
    "duration": 115,
    "start_time": "2022-08-02T09:43:32.596Z"
   },
   {
    "duration": 4,
    "start_time": "2022-08-02T09:43:33.794Z"
   },
   {
    "duration": 3,
    "start_time": "2022-08-02T09:43:35.931Z"
   },
   {
    "duration": 4,
    "start_time": "2022-08-02T09:43:38.140Z"
   },
   {
    "duration": 11,
    "start_time": "2022-08-02T09:43:39.534Z"
   },
   {
    "duration": 103,
    "start_time": "2022-08-02T09:43:41.692Z"
   },
   {
    "duration": 3,
    "start_time": "2022-08-02T09:43:46.691Z"
   },
   {
    "duration": 16594,
    "start_time": "2022-08-02T09:43:54.945Z"
   },
   {
    "duration": 124,
    "start_time": "2022-08-02T09:44:15.634Z"
   },
   {
    "duration": 40640,
    "start_time": "2022-08-02T09:44:31.104Z"
   },
   {
    "duration": 123,
    "start_time": "2022-08-02T09:45:15.702Z"
   },
   {
    "duration": 34732,
    "start_time": "2022-08-02T09:45:29.971Z"
   },
   {
    "duration": 134,
    "start_time": "2022-08-02T09:46:09.404Z"
   },
   {
    "duration": 9,
    "start_time": "2022-08-02T09:46:35.151Z"
   },
   {
    "duration": 301,
    "start_time": "2022-08-02T09:46:37.994Z"
   },
   {
    "duration": 5,
    "start_time": "2022-08-02T09:53:13.538Z"
   },
   {
    "duration": 100,
    "start_time": "2022-08-02T09:53:15.638Z"
   },
   {
    "duration": 3,
    "start_time": "2022-08-02T09:53:19.571Z"
   },
   {
    "duration": 3,
    "start_time": "2022-08-02T09:53:24.829Z"
   },
   {
    "duration": 27,
    "start_time": "2022-08-02T09:53:29.166Z"
   },
   {
    "duration": 8,
    "start_time": "2022-08-02T09:53:34.533Z"
   },
   {
    "duration": 8,
    "start_time": "2022-08-02T09:53:36.389Z"
   },
   {
    "duration": 1338,
    "start_time": "2022-08-02T10:01:59.732Z"
   },
   {
    "duration": 1461,
    "start_time": "2022-08-02T10:02:23.739Z"
   },
   {
    "duration": 4,
    "start_time": "2022-08-02T10:02:40.488Z"
   },
   {
    "duration": 100,
    "start_time": "2022-08-02T10:02:41.173Z"
   },
   {
    "duration": 3,
    "start_time": "2022-08-02T10:02:42.346Z"
   },
   {
    "duration": 29,
    "start_time": "2022-08-02T10:02:42.990Z"
   },
   {
    "duration": 6,
    "start_time": "2022-08-02T10:02:43.649Z"
   },
   {
    "duration": 6,
    "start_time": "2022-08-02T10:02:44.305Z"
   },
   {
    "duration": 23,
    "start_time": "2022-08-02T10:02:45.665Z"
   },
   {
    "duration": 38,
    "start_time": "2022-08-02T10:02:47.159Z"
   },
   {
    "duration": 6,
    "start_time": "2022-08-02T10:02:48.249Z"
   },
   {
    "duration": 24,
    "start_time": "2022-08-02T10:02:50.345Z"
   },
   {
    "duration": 4,
    "start_time": "2022-08-02T10:02:53.738Z"
   },
   {
    "duration": 12,
    "start_time": "2022-08-02T10:02:55.385Z"
   },
   {
    "duration": 7,
    "start_time": "2022-08-02T10:02:57.283Z"
   },
   {
    "duration": 17,
    "start_time": "2022-08-02T10:02:58.955Z"
   },
   {
    "duration": 6,
    "start_time": "2022-08-02T10:03:00.740Z"
   },
   {
    "duration": 14,
    "start_time": "2022-08-02T10:03:05.885Z"
   },
   {
    "duration": 13,
    "start_time": "2022-08-02T10:03:08.562Z"
   },
   {
    "duration": 4,
    "start_time": "2022-08-02T10:03:14.238Z"
   },
   {
    "duration": 29,
    "start_time": "2022-08-02T10:03:52.738Z"
   },
   {
    "duration": 5,
    "start_time": "2022-08-02T10:03:53.796Z"
   },
   {
    "duration": 84,
    "start_time": "2022-08-02T10:04:18.425Z"
   },
   {
    "duration": 4,
    "start_time": "2022-08-02T10:04:27.307Z"
   },
   {
    "duration": 6,
    "start_time": "2022-08-02T10:04:59.399Z"
   },
   {
    "duration": 46,
    "start_time": "2022-08-02T10:05:03.841Z"
   },
   {
    "duration": 8,
    "start_time": "2022-08-02T10:06:04.253Z"
   },
   {
    "duration": 13,
    "start_time": "2022-08-02T10:06:09.155Z"
   },
   {
    "duration": 3,
    "start_time": "2022-08-02T10:06:16.653Z"
   },
   {
    "duration": 4,
    "start_time": "2022-08-02T10:06:19.554Z"
   },
   {
    "duration": 1327,
    "start_time": "2022-08-02T10:06:47.054Z"
   },
   {
    "duration": 6,
    "start_time": "2022-08-02T10:20:11.298Z"
   },
   {
    "duration": 1449,
    "start_time": "2022-08-02T10:27:19.071Z"
   },
   {
    "duration": 136,
    "start_time": "2022-08-02T10:27:20.522Z"
   },
   {
    "duration": 3,
    "start_time": "2022-08-02T10:27:20.660Z"
   },
   {
    "duration": 36,
    "start_time": "2022-08-02T10:27:20.665Z"
   },
   {
    "duration": 5,
    "start_time": "2022-08-02T10:27:20.703Z"
   },
   {
    "duration": 11,
    "start_time": "2022-08-02T10:27:20.709Z"
   },
   {
    "duration": 38,
    "start_time": "2022-08-02T10:27:20.721Z"
   },
   {
    "duration": 39,
    "start_time": "2022-08-02T10:27:20.761Z"
   },
   {
    "duration": 5,
    "start_time": "2022-08-02T10:27:20.801Z"
   },
   {
    "duration": 61,
    "start_time": "2022-08-02T10:27:20.808Z"
   },
   {
    "duration": 5,
    "start_time": "2022-08-02T10:27:20.870Z"
   },
   {
    "duration": 13,
    "start_time": "2022-08-02T10:27:20.876Z"
   },
   {
    "duration": 5,
    "start_time": "2022-08-02T10:27:20.890Z"
   },
   {
    "duration": 45,
    "start_time": "2022-08-02T10:27:20.897Z"
   },
   {
    "duration": 8,
    "start_time": "2022-08-02T10:27:20.951Z"
   },
   {
    "duration": 16,
    "start_time": "2022-08-02T10:27:20.961Z"
   },
   {
    "duration": 15,
    "start_time": "2022-08-02T10:27:20.979Z"
   },
   {
    "duration": 5,
    "start_time": "2022-08-02T10:27:20.995Z"
   },
   {
    "duration": 47,
    "start_time": "2022-08-02T10:27:21.001Z"
   },
   {
    "duration": 5,
    "start_time": "2022-08-02T10:27:21.051Z"
   },
   {
    "duration": 13,
    "start_time": "2022-08-02T10:27:21.058Z"
   },
   {
    "duration": 44,
    "start_time": "2022-08-02T10:27:21.072Z"
   },
   {
    "duration": 28,
    "start_time": "2022-08-02T10:27:21.117Z"
   },
   {
    "duration": 27,
    "start_time": "2022-08-02T10:27:21.151Z"
   },
   {
    "duration": 4,
    "start_time": "2022-08-02T10:27:21.179Z"
   },
   {
    "duration": 16,
    "start_time": "2022-08-02T10:27:21.184Z"
   },
   {
    "duration": 1528,
    "start_time": "2022-08-02T10:27:21.201Z"
   },
   {
    "duration": 586,
    "start_time": "2022-08-02T10:27:22.735Z"
   },
   {
    "duration": 1875,
    "start_time": "2022-08-02T10:27:23.322Z"
   },
   {
    "duration": 582,
    "start_time": "2022-08-02T10:27:25.199Z"
   },
   {
    "duration": 587,
    "start_time": "2022-08-02T10:27:25.782Z"
   },
   {
    "duration": 6,
    "start_time": "2022-08-02T10:27:26.371Z"
   },
   {
    "duration": 4,
    "start_time": "2022-08-02T10:27:26.378Z"
   },
   {
    "duration": 35,
    "start_time": "2022-08-02T10:27:26.384Z"
   },
   {
    "duration": 11,
    "start_time": "2022-08-02T10:27:26.434Z"
   },
   {
    "duration": 16,
    "start_time": "2022-08-02T10:27:26.448Z"
   },
   {
    "duration": 15,
    "start_time": "2022-08-02T10:27:26.466Z"
   },
   {
    "duration": 132,
    "start_time": "2022-08-02T10:27:26.482Z"
   },
   {
    "duration": 3,
    "start_time": "2022-08-02T10:27:26.616Z"
   },
   {
    "duration": 23,
    "start_time": "2022-08-02T10:27:26.621Z"
   },
   {
    "duration": 126,
    "start_time": "2022-08-02T10:27:26.649Z"
   },
   {
    "duration": 4,
    "start_time": "2022-08-02T10:27:26.777Z"
   },
   {
    "duration": 40262,
    "start_time": "2022-08-02T10:27:26.782Z"
   },
   {
    "duration": 299,
    "start_time": "2022-08-02T10:28:07.045Z"
   },
   {
    "duration": 41699,
    "start_time": "2022-08-02T10:28:07.346Z"
   },
   {
    "duration": 117,
    "start_time": "2022-08-02T10:28:49.046Z"
   },
   {
    "duration": 33952,
    "start_time": "2022-08-02T10:28:49.164Z"
   },
   {
    "duration": 128,
    "start_time": "2022-08-02T10:29:23.118Z"
   },
   {
    "duration": 9,
    "start_time": "2022-08-02T10:29:23.248Z"
   },
   {
    "duration": 256,
    "start_time": "2022-08-02T10:29:23.259Z"
   },
   {
    "duration": 1162,
    "start_time": "2022-08-03T01:38:23.144Z"
   },
   {
    "duration": 95,
    "start_time": "2022-08-03T01:38:24.308Z"
   },
   {
    "duration": 3,
    "start_time": "2022-08-03T01:38:52.835Z"
   },
   {
    "duration": 33,
    "start_time": "2022-08-03T01:38:53.420Z"
   },
   {
    "duration": 7,
    "start_time": "2022-08-03T01:38:54.070Z"
   },
   {
    "duration": 6,
    "start_time": "2022-08-03T01:38:54.781Z"
   },
   {
    "duration": 24,
    "start_time": "2022-08-03T01:38:55.631Z"
   },
   {
    "duration": 40,
    "start_time": "2022-08-03T01:38:56.816Z"
   },
   {
    "duration": 7,
    "start_time": "2022-08-03T01:38:57.461Z"
   },
   {
    "duration": 27,
    "start_time": "2022-08-03T01:38:58.153Z"
   },
   {
    "duration": 5,
    "start_time": "2022-08-03T01:39:10.583Z"
   },
   {
    "duration": 12,
    "start_time": "2022-08-03T01:39:12.140Z"
   },
   {
    "duration": 5,
    "start_time": "2022-08-03T01:39:35.993Z"
   },
   {
    "duration": 17,
    "start_time": "2022-08-03T01:39:37.767Z"
   },
   {
    "duration": 5,
    "start_time": "2022-08-03T01:39:39.995Z"
   },
   {
    "duration": 16,
    "start_time": "2022-08-03T01:40:01.463Z"
   },
   {
    "duration": 13,
    "start_time": "2022-08-03T01:40:05.354Z"
   },
   {
    "duration": 7,
    "start_time": "2022-08-03T01:40:24.376Z"
   },
   {
    "duration": 27,
    "start_time": "2022-08-03T01:40:25.214Z"
   },
   {
    "duration": 5,
    "start_time": "2022-08-03T01:40:25.992Z"
   },
   {
    "duration": 5,
    "start_time": "2022-08-03T01:40:26.830Z"
   },
   {
    "duration": 46,
    "start_time": "2022-08-03T01:40:27.674Z"
   },
   {
    "duration": 8,
    "start_time": "2022-08-03T01:40:49.726Z"
   },
   {
    "duration": 14,
    "start_time": "2022-08-03T01:40:50.414Z"
   }
  ],
  "kernelspec": {
   "display_name": "Python 3 (ipykernel)",
   "language": "python",
   "name": "python3"
  },
  "language_info": {
   "codemirror_mode": {
    "name": "ipython",
    "version": 3
   },
   "file_extension": ".py",
   "mimetype": "text/x-python",
   "name": "python",
   "nbconvert_exporter": "python",
   "pygments_lexer": "ipython3",
   "version": "3.9.5"
  },
  "toc": {
   "base_numbering": 1,
   "nav_menu": {},
   "number_sections": true,
   "sideBar": true,
   "skip_h1_title": true,
   "title_cell": "Table of Contents",
   "title_sidebar": "Contents",
   "toc_cell": false,
   "toc_position": {},
   "toc_section_display": true,
   "toc_window_display": false
  }
 },
 "nbformat": 4,
 "nbformat_minor": 2
}
