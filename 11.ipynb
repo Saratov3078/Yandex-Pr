{
 "cells": [
  {
   "cell_type": "markdown",
   "metadata": {},
   "source": [
    "# Определение стоимости автомобилей"
   ]
  },
  {
   "cell_type": "markdown",
   "metadata": {},
   "source": [
    "Сервис по продаже автомобилей с пробегом «Не бит, не крашен» разрабатывает приложение для привлечения новых клиентов. В нём можно быстро узнать рыночную стоимость своего автомобиля. В вашем распоряжении исторические данные: технические характеристики, комплектации и цены автомобилей. Вам нужно построить модель для определения стоимости. \n",
    "\n",
    "Заказчику важны:\n",
    "\n",
    "- качество предсказания;\n",
    "- скорость предсказания;\n",
    "- время обучения.\n",
    "\n",
    "\n",
    "Признаки\n",
    "\n",
    "DateCrawled — дата скачивания анкеты из базы\n",
    "\n",
    "VehicleType — тип автомобильного кузова\n",
    "\n",
    "RegistrationYear — год регистрации автомобиля\n",
    "\n",
    "Gearbox — тип коробки передач\n",
    "\n",
    "Power — мощность (л. с.)\n",
    "\n",
    "Model — модель автомобиля\n",
    "\n",
    "Kilometer — пробег (км)\n",
    "\n",
    "RegistrationMonth — месяц регистрации автомобиля\n",
    "\n",
    "FuelType — тип топлива\n",
    "\n",
    "Brand — марка автомобиля\n",
    "\n",
    "NotRepaired — была машина в ремонте или нет\n",
    "\n",
    "DateCreated — дата создания анкеты\n",
    "\n",
    "NumberOfPictures — количество фотографий автомобиля\n",
    "\n",
    "PostalCode — почтовый индекс владельца анкеты (пользователя)\n",
    "\n",
    "LastSeen — дата последней активности пользователя\n",
    "\n",
    "Целевой признак\n",
    "\n",
    "Price — цена (евро)"
   ]
  },
  {
   "cell_type": "markdown",
   "metadata": {},
   "source": [
    "## Подготовка данных"
   ]
  },
  {
   "cell_type": "code",
   "execution_count": 1,
   "metadata": {},
   "outputs": [],
   "source": [
    "import pandas as pd \n",
    "import numpy as np \n",
    "import matplotlib.pyplot as plt\n",
    "import seaborn as sns\n",
    "from sklearn.metrics import mean_squared_error\n",
    "import time \n",
    "from sklearn.linear_model import LinearRegression\n",
    "from sklearn.preprocessing import StandardScaler \n",
    "import warnings\n",
    "from sklearn.model_selection import train_test_split, cross_val_score\n",
    "from catboost import CatBoostRegressor \n",
    "from lightgbm import LGBMRegressor\n"
   ]
  },
  {
   "cell_type": "code",
   "execution_count": 2,
   "metadata": {},
   "outputs": [],
   "source": [
    "df=pd.read_csv('/datasets/autos.csv')"
   ]
  },
  {
   "cell_type": "code",
   "execution_count": 3,
   "metadata": {},
   "outputs": [
    {
     "data": {
      "text/html": [
       "<div>\n",
       "<style scoped>\n",
       "    .dataframe tbody tr th:only-of-type {\n",
       "        vertical-align: middle;\n",
       "    }\n",
       "\n",
       "    .dataframe tbody tr th {\n",
       "        vertical-align: top;\n",
       "    }\n",
       "\n",
       "    .dataframe thead th {\n",
       "        text-align: right;\n",
       "    }\n",
       "</style>\n",
       "<table border=\"1\" class=\"dataframe\">\n",
       "  <thead>\n",
       "    <tr style=\"text-align: right;\">\n",
       "      <th></th>\n",
       "      <th>DateCrawled</th>\n",
       "      <th>Price</th>\n",
       "      <th>VehicleType</th>\n",
       "      <th>RegistrationYear</th>\n",
       "      <th>Gearbox</th>\n",
       "      <th>Power</th>\n",
       "      <th>Model</th>\n",
       "      <th>Kilometer</th>\n",
       "      <th>RegistrationMonth</th>\n",
       "      <th>FuelType</th>\n",
       "      <th>Brand</th>\n",
       "      <th>NotRepaired</th>\n",
       "      <th>DateCreated</th>\n",
       "      <th>NumberOfPictures</th>\n",
       "      <th>PostalCode</th>\n",
       "      <th>LastSeen</th>\n",
       "    </tr>\n",
       "  </thead>\n",
       "  <tbody>\n",
       "    <tr>\n",
       "      <th>0</th>\n",
       "      <td>2016-03-24 11:52:17</td>\n",
       "      <td>480</td>\n",
       "      <td>NaN</td>\n",
       "      <td>1993</td>\n",
       "      <td>manual</td>\n",
       "      <td>0</td>\n",
       "      <td>golf</td>\n",
       "      <td>150000</td>\n",
       "      <td>0</td>\n",
       "      <td>petrol</td>\n",
       "      <td>volkswagen</td>\n",
       "      <td>NaN</td>\n",
       "      <td>2016-03-24 00:00:00</td>\n",
       "      <td>0</td>\n",
       "      <td>70435</td>\n",
       "      <td>2016-04-07 03:16:57</td>\n",
       "    </tr>\n",
       "    <tr>\n",
       "      <th>1</th>\n",
       "      <td>2016-03-24 10:58:45</td>\n",
       "      <td>18300</td>\n",
       "      <td>coupe</td>\n",
       "      <td>2011</td>\n",
       "      <td>manual</td>\n",
       "      <td>190</td>\n",
       "      <td>NaN</td>\n",
       "      <td>125000</td>\n",
       "      <td>5</td>\n",
       "      <td>gasoline</td>\n",
       "      <td>audi</td>\n",
       "      <td>yes</td>\n",
       "      <td>2016-03-24 00:00:00</td>\n",
       "      <td>0</td>\n",
       "      <td>66954</td>\n",
       "      <td>2016-04-07 01:46:50</td>\n",
       "    </tr>\n",
       "    <tr>\n",
       "      <th>2</th>\n",
       "      <td>2016-03-14 12:52:21</td>\n",
       "      <td>9800</td>\n",
       "      <td>suv</td>\n",
       "      <td>2004</td>\n",
       "      <td>auto</td>\n",
       "      <td>163</td>\n",
       "      <td>grand</td>\n",
       "      <td>125000</td>\n",
       "      <td>8</td>\n",
       "      <td>gasoline</td>\n",
       "      <td>jeep</td>\n",
       "      <td>NaN</td>\n",
       "      <td>2016-03-14 00:00:00</td>\n",
       "      <td>0</td>\n",
       "      <td>90480</td>\n",
       "      <td>2016-04-05 12:47:46</td>\n",
       "    </tr>\n",
       "    <tr>\n",
       "      <th>3</th>\n",
       "      <td>2016-03-17 16:54:04</td>\n",
       "      <td>1500</td>\n",
       "      <td>small</td>\n",
       "      <td>2001</td>\n",
       "      <td>manual</td>\n",
       "      <td>75</td>\n",
       "      <td>golf</td>\n",
       "      <td>150000</td>\n",
       "      <td>6</td>\n",
       "      <td>petrol</td>\n",
       "      <td>volkswagen</td>\n",
       "      <td>no</td>\n",
       "      <td>2016-03-17 00:00:00</td>\n",
       "      <td>0</td>\n",
       "      <td>91074</td>\n",
       "      <td>2016-03-17 17:40:17</td>\n",
       "    </tr>\n",
       "    <tr>\n",
       "      <th>4</th>\n",
       "      <td>2016-03-31 17:25:20</td>\n",
       "      <td>3600</td>\n",
       "      <td>small</td>\n",
       "      <td>2008</td>\n",
       "      <td>manual</td>\n",
       "      <td>69</td>\n",
       "      <td>fabia</td>\n",
       "      <td>90000</td>\n",
       "      <td>7</td>\n",
       "      <td>gasoline</td>\n",
       "      <td>skoda</td>\n",
       "      <td>no</td>\n",
       "      <td>2016-03-31 00:00:00</td>\n",
       "      <td>0</td>\n",
       "      <td>60437</td>\n",
       "      <td>2016-04-06 10:17:21</td>\n",
       "    </tr>\n",
       "    <tr>\n",
       "      <th>...</th>\n",
       "      <td>...</td>\n",
       "      <td>...</td>\n",
       "      <td>...</td>\n",
       "      <td>...</td>\n",
       "      <td>...</td>\n",
       "      <td>...</td>\n",
       "      <td>...</td>\n",
       "      <td>...</td>\n",
       "      <td>...</td>\n",
       "      <td>...</td>\n",
       "      <td>...</td>\n",
       "      <td>...</td>\n",
       "      <td>...</td>\n",
       "      <td>...</td>\n",
       "      <td>...</td>\n",
       "      <td>...</td>\n",
       "    </tr>\n",
       "    <tr>\n",
       "      <th>354364</th>\n",
       "      <td>2016-03-21 09:50:58</td>\n",
       "      <td>0</td>\n",
       "      <td>NaN</td>\n",
       "      <td>2005</td>\n",
       "      <td>manual</td>\n",
       "      <td>0</td>\n",
       "      <td>colt</td>\n",
       "      <td>150000</td>\n",
       "      <td>7</td>\n",
       "      <td>petrol</td>\n",
       "      <td>mitsubishi</td>\n",
       "      <td>yes</td>\n",
       "      <td>2016-03-21 00:00:00</td>\n",
       "      <td>0</td>\n",
       "      <td>2694</td>\n",
       "      <td>2016-03-21 10:42:49</td>\n",
       "    </tr>\n",
       "    <tr>\n",
       "      <th>354365</th>\n",
       "      <td>2016-03-14 17:48:27</td>\n",
       "      <td>2200</td>\n",
       "      <td>NaN</td>\n",
       "      <td>2005</td>\n",
       "      <td>NaN</td>\n",
       "      <td>0</td>\n",
       "      <td>NaN</td>\n",
       "      <td>20000</td>\n",
       "      <td>1</td>\n",
       "      <td>NaN</td>\n",
       "      <td>sonstige_autos</td>\n",
       "      <td>NaN</td>\n",
       "      <td>2016-03-14 00:00:00</td>\n",
       "      <td>0</td>\n",
       "      <td>39576</td>\n",
       "      <td>2016-04-06 00:46:52</td>\n",
       "    </tr>\n",
       "    <tr>\n",
       "      <th>354366</th>\n",
       "      <td>2016-03-05 19:56:21</td>\n",
       "      <td>1199</td>\n",
       "      <td>convertible</td>\n",
       "      <td>2000</td>\n",
       "      <td>auto</td>\n",
       "      <td>101</td>\n",
       "      <td>fortwo</td>\n",
       "      <td>125000</td>\n",
       "      <td>3</td>\n",
       "      <td>petrol</td>\n",
       "      <td>smart</td>\n",
       "      <td>no</td>\n",
       "      <td>2016-03-05 00:00:00</td>\n",
       "      <td>0</td>\n",
       "      <td>26135</td>\n",
       "      <td>2016-03-11 18:17:12</td>\n",
       "    </tr>\n",
       "    <tr>\n",
       "      <th>354367</th>\n",
       "      <td>2016-03-19 18:57:12</td>\n",
       "      <td>9200</td>\n",
       "      <td>bus</td>\n",
       "      <td>1996</td>\n",
       "      <td>manual</td>\n",
       "      <td>102</td>\n",
       "      <td>transporter</td>\n",
       "      <td>150000</td>\n",
       "      <td>3</td>\n",
       "      <td>gasoline</td>\n",
       "      <td>volkswagen</td>\n",
       "      <td>no</td>\n",
       "      <td>2016-03-19 00:00:00</td>\n",
       "      <td>0</td>\n",
       "      <td>87439</td>\n",
       "      <td>2016-04-07 07:15:26</td>\n",
       "    </tr>\n",
       "    <tr>\n",
       "      <th>354368</th>\n",
       "      <td>2016-03-20 19:41:08</td>\n",
       "      <td>3400</td>\n",
       "      <td>wagon</td>\n",
       "      <td>2002</td>\n",
       "      <td>manual</td>\n",
       "      <td>100</td>\n",
       "      <td>golf</td>\n",
       "      <td>150000</td>\n",
       "      <td>6</td>\n",
       "      <td>gasoline</td>\n",
       "      <td>volkswagen</td>\n",
       "      <td>NaN</td>\n",
       "      <td>2016-03-20 00:00:00</td>\n",
       "      <td>0</td>\n",
       "      <td>40764</td>\n",
       "      <td>2016-03-24 12:45:21</td>\n",
       "    </tr>\n",
       "  </tbody>\n",
       "</table>\n",
       "<p>354369 rows × 16 columns</p>\n",
       "</div>"
      ],
      "text/plain": [
       "                DateCrawled  Price  VehicleType  RegistrationYear Gearbox  \\\n",
       "0       2016-03-24 11:52:17    480          NaN              1993  manual   \n",
       "1       2016-03-24 10:58:45  18300        coupe              2011  manual   \n",
       "2       2016-03-14 12:52:21   9800          suv              2004    auto   \n",
       "3       2016-03-17 16:54:04   1500        small              2001  manual   \n",
       "4       2016-03-31 17:25:20   3600        small              2008  manual   \n",
       "...                     ...    ...          ...               ...     ...   \n",
       "354364  2016-03-21 09:50:58      0          NaN              2005  manual   \n",
       "354365  2016-03-14 17:48:27   2200          NaN              2005     NaN   \n",
       "354366  2016-03-05 19:56:21   1199  convertible              2000    auto   \n",
       "354367  2016-03-19 18:57:12   9200          bus              1996  manual   \n",
       "354368  2016-03-20 19:41:08   3400        wagon              2002  manual   \n",
       "\n",
       "        Power        Model  Kilometer  RegistrationMonth  FuelType  \\\n",
       "0           0         golf     150000                  0    petrol   \n",
       "1         190          NaN     125000                  5  gasoline   \n",
       "2         163        grand     125000                  8  gasoline   \n",
       "3          75         golf     150000                  6    petrol   \n",
       "4          69        fabia      90000                  7  gasoline   \n",
       "...       ...          ...        ...                ...       ...   \n",
       "354364      0         colt     150000                  7    petrol   \n",
       "354365      0          NaN      20000                  1       NaN   \n",
       "354366    101       fortwo     125000                  3    petrol   \n",
       "354367    102  transporter     150000                  3  gasoline   \n",
       "354368    100         golf     150000                  6  gasoline   \n",
       "\n",
       "                 Brand NotRepaired          DateCreated  NumberOfPictures  \\\n",
       "0           volkswagen         NaN  2016-03-24 00:00:00                 0   \n",
       "1                 audi         yes  2016-03-24 00:00:00                 0   \n",
       "2                 jeep         NaN  2016-03-14 00:00:00                 0   \n",
       "3           volkswagen          no  2016-03-17 00:00:00                 0   \n",
       "4                skoda          no  2016-03-31 00:00:00                 0   \n",
       "...                ...         ...                  ...               ...   \n",
       "354364      mitsubishi         yes  2016-03-21 00:00:00                 0   \n",
       "354365  sonstige_autos         NaN  2016-03-14 00:00:00                 0   \n",
       "354366           smart          no  2016-03-05 00:00:00                 0   \n",
       "354367      volkswagen          no  2016-03-19 00:00:00                 0   \n",
       "354368      volkswagen         NaN  2016-03-20 00:00:00                 0   \n",
       "\n",
       "        PostalCode             LastSeen  \n",
       "0            70435  2016-04-07 03:16:57  \n",
       "1            66954  2016-04-07 01:46:50  \n",
       "2            90480  2016-04-05 12:47:46  \n",
       "3            91074  2016-03-17 17:40:17  \n",
       "4            60437  2016-04-06 10:17:21  \n",
       "...            ...                  ...  \n",
       "354364        2694  2016-03-21 10:42:49  \n",
       "354365       39576  2016-04-06 00:46:52  \n",
       "354366       26135  2016-03-11 18:17:12  \n",
       "354367       87439  2016-04-07 07:15:26  \n",
       "354368       40764  2016-03-24 12:45:21  \n",
       "\n",
       "[354369 rows x 16 columns]"
      ]
     },
     "execution_count": 3,
     "metadata": {},
     "output_type": "execute_result"
    }
   ],
   "source": [
    "df"
   ]
  },
  {
   "cell_type": "code",
   "execution_count": 4,
   "metadata": {},
   "outputs": [],
   "source": [
    "#меняем регистр названий столбцов\n",
    "new_columns = df.columns.str.lower()\n",
    "df.set_axis(new_columns, axis = 'columns', inplace = True)"
   ]
  },
  {
   "cell_type": "code",
   "execution_count": 5,
   "metadata": {},
   "outputs": [
    {
     "data": {
      "text/html": [
       "<div>\n",
       "<style scoped>\n",
       "    .dataframe tbody tr th:only-of-type {\n",
       "        vertical-align: middle;\n",
       "    }\n",
       "\n",
       "    .dataframe tbody tr th {\n",
       "        vertical-align: top;\n",
       "    }\n",
       "\n",
       "    .dataframe thead th {\n",
       "        text-align: right;\n",
       "    }\n",
       "</style>\n",
       "<table border=\"1\" class=\"dataframe\">\n",
       "  <thead>\n",
       "    <tr style=\"text-align: right;\">\n",
       "      <th></th>\n",
       "      <th>datecrawled</th>\n",
       "      <th>price</th>\n",
       "      <th>vehicletype</th>\n",
       "      <th>registrationyear</th>\n",
       "      <th>gearbox</th>\n",
       "      <th>power</th>\n",
       "      <th>model</th>\n",
       "      <th>kilometer</th>\n",
       "      <th>registrationmonth</th>\n",
       "      <th>fueltype</th>\n",
       "      <th>brand</th>\n",
       "      <th>notrepaired</th>\n",
       "      <th>datecreated</th>\n",
       "      <th>numberofpictures</th>\n",
       "      <th>postalcode</th>\n",
       "      <th>lastseen</th>\n",
       "    </tr>\n",
       "  </thead>\n",
       "  <tbody>\n",
       "    <tr>\n",
       "      <th>0</th>\n",
       "      <td>2016-03-24 11:52:17</td>\n",
       "      <td>480</td>\n",
       "      <td>NaN</td>\n",
       "      <td>1993</td>\n",
       "      <td>manual</td>\n",
       "      <td>0</td>\n",
       "      <td>golf</td>\n",
       "      <td>150000</td>\n",
       "      <td>0</td>\n",
       "      <td>petrol</td>\n",
       "      <td>volkswagen</td>\n",
       "      <td>NaN</td>\n",
       "      <td>2016-03-24 00:00:00</td>\n",
       "      <td>0</td>\n",
       "      <td>70435</td>\n",
       "      <td>2016-04-07 03:16:57</td>\n",
       "    </tr>\n",
       "    <tr>\n",
       "      <th>1</th>\n",
       "      <td>2016-03-24 10:58:45</td>\n",
       "      <td>18300</td>\n",
       "      <td>coupe</td>\n",
       "      <td>2011</td>\n",
       "      <td>manual</td>\n",
       "      <td>190</td>\n",
       "      <td>NaN</td>\n",
       "      <td>125000</td>\n",
       "      <td>5</td>\n",
       "      <td>gasoline</td>\n",
       "      <td>audi</td>\n",
       "      <td>yes</td>\n",
       "      <td>2016-03-24 00:00:00</td>\n",
       "      <td>0</td>\n",
       "      <td>66954</td>\n",
       "      <td>2016-04-07 01:46:50</td>\n",
       "    </tr>\n",
       "    <tr>\n",
       "      <th>2</th>\n",
       "      <td>2016-03-14 12:52:21</td>\n",
       "      <td>9800</td>\n",
       "      <td>suv</td>\n",
       "      <td>2004</td>\n",
       "      <td>auto</td>\n",
       "      <td>163</td>\n",
       "      <td>grand</td>\n",
       "      <td>125000</td>\n",
       "      <td>8</td>\n",
       "      <td>gasoline</td>\n",
       "      <td>jeep</td>\n",
       "      <td>NaN</td>\n",
       "      <td>2016-03-14 00:00:00</td>\n",
       "      <td>0</td>\n",
       "      <td>90480</td>\n",
       "      <td>2016-04-05 12:47:46</td>\n",
       "    </tr>\n",
       "    <tr>\n",
       "      <th>3</th>\n",
       "      <td>2016-03-17 16:54:04</td>\n",
       "      <td>1500</td>\n",
       "      <td>small</td>\n",
       "      <td>2001</td>\n",
       "      <td>manual</td>\n",
       "      <td>75</td>\n",
       "      <td>golf</td>\n",
       "      <td>150000</td>\n",
       "      <td>6</td>\n",
       "      <td>petrol</td>\n",
       "      <td>volkswagen</td>\n",
       "      <td>no</td>\n",
       "      <td>2016-03-17 00:00:00</td>\n",
       "      <td>0</td>\n",
       "      <td>91074</td>\n",
       "      <td>2016-03-17 17:40:17</td>\n",
       "    </tr>\n",
       "    <tr>\n",
       "      <th>4</th>\n",
       "      <td>2016-03-31 17:25:20</td>\n",
       "      <td>3600</td>\n",
       "      <td>small</td>\n",
       "      <td>2008</td>\n",
       "      <td>manual</td>\n",
       "      <td>69</td>\n",
       "      <td>fabia</td>\n",
       "      <td>90000</td>\n",
       "      <td>7</td>\n",
       "      <td>gasoline</td>\n",
       "      <td>skoda</td>\n",
       "      <td>no</td>\n",
       "      <td>2016-03-31 00:00:00</td>\n",
       "      <td>0</td>\n",
       "      <td>60437</td>\n",
       "      <td>2016-04-06 10:17:21</td>\n",
       "    </tr>\n",
       "  </tbody>\n",
       "</table>\n",
       "</div>"
      ],
      "text/plain": [
       "           datecrawled  price vehicletype  registrationyear gearbox  power  \\\n",
       "0  2016-03-24 11:52:17    480         NaN              1993  manual      0   \n",
       "1  2016-03-24 10:58:45  18300       coupe              2011  manual    190   \n",
       "2  2016-03-14 12:52:21   9800         suv              2004    auto    163   \n",
       "3  2016-03-17 16:54:04   1500       small              2001  manual     75   \n",
       "4  2016-03-31 17:25:20   3600       small              2008  manual     69   \n",
       "\n",
       "   model  kilometer  registrationmonth  fueltype       brand notrepaired  \\\n",
       "0   golf     150000                  0    petrol  volkswagen         NaN   \n",
       "1    NaN     125000                  5  gasoline        audi         yes   \n",
       "2  grand     125000                  8  gasoline        jeep         NaN   \n",
       "3   golf     150000                  6    petrol  volkswagen          no   \n",
       "4  fabia      90000                  7  gasoline       skoda          no   \n",
       "\n",
       "           datecreated  numberofpictures  postalcode             lastseen  \n",
       "0  2016-03-24 00:00:00                 0       70435  2016-04-07 03:16:57  \n",
       "1  2016-03-24 00:00:00                 0       66954  2016-04-07 01:46:50  \n",
       "2  2016-03-14 00:00:00                 0       90480  2016-04-05 12:47:46  \n",
       "3  2016-03-17 00:00:00                 0       91074  2016-03-17 17:40:17  \n",
       "4  2016-03-31 00:00:00                 0       60437  2016-04-06 10:17:21  "
      ]
     },
     "execution_count": 5,
     "metadata": {},
     "output_type": "execute_result"
    }
   ],
   "source": [
    "df.head()"
   ]
  },
  {
   "cell_type": "code",
   "execution_count": 6,
   "metadata": {},
   "outputs": [
    {
     "name": "stdout",
     "output_type": "stream",
     "text": [
      "<class 'pandas.core.frame.DataFrame'>\n",
      "RangeIndex: 354369 entries, 0 to 354368\n",
      "Data columns (total 16 columns):\n",
      " #   Column             Non-Null Count   Dtype \n",
      "---  ------             --------------   ----- \n",
      " 0   datecrawled        354369 non-null  object\n",
      " 1   price              354369 non-null  int64 \n",
      " 2   vehicletype        316879 non-null  object\n",
      " 3   registrationyear   354369 non-null  int64 \n",
      " 4   gearbox            334536 non-null  object\n",
      " 5   power              354369 non-null  int64 \n",
      " 6   model              334664 non-null  object\n",
      " 7   kilometer          354369 non-null  int64 \n",
      " 8   registrationmonth  354369 non-null  int64 \n",
      " 9   fueltype           321474 non-null  object\n",
      " 10  brand              354369 non-null  object\n",
      " 11  notrepaired        283215 non-null  object\n",
      " 12  datecreated        354369 non-null  object\n",
      " 13  numberofpictures   354369 non-null  int64 \n",
      " 14  postalcode         354369 non-null  int64 \n",
      " 15  lastseen           354369 non-null  object\n",
      "dtypes: int64(7), object(9)\n",
      "memory usage: 43.3+ MB\n"
     ]
    }
   ],
   "source": [
    "df.info()"
   ]
  },
  {
   "cell_type": "code",
   "execution_count": 7,
   "metadata": {},
   "outputs": [
    {
     "name": "stderr",
     "output_type": "stream",
     "text": [
      "/opt/conda/lib/python3.9/site-packages/seaborn/distributions.py:2557: FutureWarning: `distplot` is a deprecated function and will be removed in a future version. Please adapt your code to use either `displot` (a figure-level function with similar flexibility) or `histplot` (an axes-level function for histograms).\n",
      "  warnings.warn(msg, FutureWarning)\n"
     ]
    },
    {
     "data": {
      "text/plain": [
       "<AxesSubplot:title={'center':'Цена'}, xlabel='price', ylabel='Density'>"
      ]
     },
     "execution_count": 7,
     "metadata": {},
     "output_type": "execute_result"
    },
    {
     "data": {
      "image/png": "[encoded data removed]",
      "text/plain": [
       "<Figure size 720x360 with 1 Axes>"
      ]
     },
     "metadata": {
      "needs_background": "light"
     },
     "output_type": "display_data"
    }
   ],
   "source": [
    "# Распределение целевого признака\n",
    "plt.figure(figsize=(10,5))\n",
    "plt.title('Цена')\n",
    "sns.distplot(df['price'])"
   ]
  },
  {
   "cell_type": "code",
   "execution_count": 8,
   "metadata": {},
   "outputs": [
    {
     "data": {
      "text/plain": [
       "datecrawled              0\n",
       "price                    0\n",
       "vehicletype          37490\n",
       "registrationyear         0\n",
       "gearbox              19833\n",
       "power                    0\n",
       "model                19705\n",
       "kilometer                0\n",
       "registrationmonth        0\n",
       "fueltype             32895\n",
       "brand                    0\n",
       "notrepaired          71154\n",
       "datecreated              0\n",
       "numberofpictures         0\n",
       "postalcode               0\n",
       "lastseen                 0\n",
       "dtype: int64"
      ]
     },
     "execution_count": 8,
     "metadata": {},
     "output_type": "execute_result"
    }
   ],
   "source": [
    "(df.isnull().sum())"
   ]
  },
  {
   "cell_type": "markdown",
   "metadata": {},
   "source": [
    "При первом взгляде на датасет заметно, что в нем есть пропуски, а также много ненужных столбцов, например:\n",
    "\n",
    "datecreated — дата скачивания анкеты из базы\n",
    "\n",
    "registrationyear — месяц регистрации автомобиля\n",
    "\n",
    "datecreated — дата создания анкеты\n",
    "\n",
    "numberofpictures — количество фотографий автомобиля\n",
    "\n",
    "postalcode — почтовый индекс владельца анкеты (пользователя)\n",
    "\n",
    "lastseen — дата последней активности пользователя\n",
    "\n"
   ]
  },
  {
   "cell_type": "code",
   "execution_count": 9,
   "metadata": {},
   "outputs": [
    {
     "data": {
      "text/html": [
       "<div>\n",
       "<style scoped>\n",
       "    .dataframe tbody tr th:only-of-type {\n",
       "        vertical-align: middle;\n",
       "    }\n",
       "\n",
       "    .dataframe tbody tr th {\n",
       "        vertical-align: top;\n",
       "    }\n",
       "\n",
       "    .dataframe thead th {\n",
       "        text-align: right;\n",
       "    }\n",
       "</style>\n",
       "<table border=\"1\" class=\"dataframe\">\n",
       "  <thead>\n",
       "    <tr style=\"text-align: right;\">\n",
       "      <th></th>\n",
       "      <th>datecrawled</th>\n",
       "      <th>vehicletype</th>\n",
       "      <th>gearbox</th>\n",
       "      <th>model</th>\n",
       "      <th>fueltype</th>\n",
       "      <th>brand</th>\n",
       "      <th>notrepaired</th>\n",
       "      <th>datecreated</th>\n",
       "      <th>lastseen</th>\n",
       "    </tr>\n",
       "  </thead>\n",
       "  <tbody>\n",
       "    <tr>\n",
       "      <th>count</th>\n",
       "      <td>354369</td>\n",
       "      <td>316879</td>\n",
       "      <td>334536</td>\n",
       "      <td>334664</td>\n",
       "      <td>321474</td>\n",
       "      <td>354369</td>\n",
       "      <td>283215</td>\n",
       "      <td>354369</td>\n",
       "      <td>354369</td>\n",
       "    </tr>\n",
       "    <tr>\n",
       "      <th>unique</th>\n",
       "      <td>271174</td>\n",
       "      <td>8</td>\n",
       "      <td>2</td>\n",
       "      <td>250</td>\n",
       "      <td>7</td>\n",
       "      <td>40</td>\n",
       "      <td>2</td>\n",
       "      <td>109</td>\n",
       "      <td>179150</td>\n",
       "    </tr>\n",
       "    <tr>\n",
       "      <th>top</th>\n",
       "      <td>2016-03-24 14:49:47</td>\n",
       "      <td>sedan</td>\n",
       "      <td>manual</td>\n",
       "      <td>golf</td>\n",
       "      <td>petrol</td>\n",
       "      <td>volkswagen</td>\n",
       "      <td>no</td>\n",
       "      <td>2016-04-03 00:00:00</td>\n",
       "      <td>2016-04-06 13:45:54</td>\n",
       "    </tr>\n",
       "    <tr>\n",
       "      <th>freq</th>\n",
       "      <td>7</td>\n",
       "      <td>91457</td>\n",
       "      <td>268251</td>\n",
       "      <td>29232</td>\n",
       "      <td>216352</td>\n",
       "      <td>77013</td>\n",
       "      <td>247161</td>\n",
       "      <td>13719</td>\n",
       "      <td>17</td>\n",
       "    </tr>\n",
       "  </tbody>\n",
       "</table>\n",
       "</div>"
      ],
      "text/plain": [
       "                datecrawled vehicletype gearbox   model fueltype       brand  \\\n",
       "count                354369      316879  334536  334664   321474      354369   \n",
       "unique               271174           8       2     250        7          40   \n",
       "top     2016-03-24 14:49:47       sedan  manual    golf   petrol  volkswagen   \n",
       "freq                      7       91457  268251   29232   216352       77013   \n",
       "\n",
       "       notrepaired          datecreated             lastseen  \n",
       "count       283215               354369               354369  \n",
       "unique           2                  109               179150  \n",
       "top             no  2016-04-03 00:00:00  2016-04-06 13:45:54  \n",
       "freq        247161                13719                   17  "
      ]
     },
     "metadata": {},
     "output_type": "display_data"
    }
   ],
   "source": [
    "display(df.describe(include=['object', 'bool']))"
   ]
  },
  {
   "cell_type": "code",
   "execution_count": 10,
   "metadata": {},
   "outputs": [
    {
     "data": {
      "text/html": [
       "<div>\n",
       "<style scoped>\n",
       "    .dataframe tbody tr th:only-of-type {\n",
       "        vertical-align: middle;\n",
       "    }\n",
       "\n",
       "    .dataframe tbody tr th {\n",
       "        vertical-align: top;\n",
       "    }\n",
       "\n",
       "    .dataframe thead th {\n",
       "        text-align: right;\n",
       "    }\n",
       "</style>\n",
       "<table border=\"1\" class=\"dataframe\">\n",
       "  <thead>\n",
       "    <tr style=\"text-align: right;\">\n",
       "      <th></th>\n",
       "      <th>price</th>\n",
       "      <th>registrationyear</th>\n",
       "      <th>power</th>\n",
       "      <th>kilometer</th>\n",
       "      <th>registrationmonth</th>\n",
       "      <th>numberofpictures</th>\n",
       "      <th>postalcode</th>\n",
       "    </tr>\n",
       "  </thead>\n",
       "  <tbody>\n",
       "    <tr>\n",
       "      <th>count</th>\n",
       "      <td>354369.000000</td>\n",
       "      <td>354369.000000</td>\n",
       "      <td>354369.000000</td>\n",
       "      <td>354369.000000</td>\n",
       "      <td>354369.000000</td>\n",
       "      <td>354369.0</td>\n",
       "      <td>354369.000000</td>\n",
       "    </tr>\n",
       "    <tr>\n",
       "      <th>mean</th>\n",
       "      <td>4416.656776</td>\n",
       "      <td>2004.234448</td>\n",
       "      <td>110.094337</td>\n",
       "      <td>128211.172535</td>\n",
       "      <td>5.714645</td>\n",
       "      <td>0.0</td>\n",
       "      <td>50508.689087</td>\n",
       "    </tr>\n",
       "    <tr>\n",
       "      <th>std</th>\n",
       "      <td>4514.158514</td>\n",
       "      <td>90.227958</td>\n",
       "      <td>189.850405</td>\n",
       "      <td>37905.341530</td>\n",
       "      <td>3.726421</td>\n",
       "      <td>0.0</td>\n",
       "      <td>25783.096248</td>\n",
       "    </tr>\n",
       "    <tr>\n",
       "      <th>min</th>\n",
       "      <td>0.000000</td>\n",
       "      <td>1000.000000</td>\n",
       "      <td>0.000000</td>\n",
       "      <td>5000.000000</td>\n",
       "      <td>0.000000</td>\n",
       "      <td>0.0</td>\n",
       "      <td>1067.000000</td>\n",
       "    </tr>\n",
       "    <tr>\n",
       "      <th>25%</th>\n",
       "      <td>1050.000000</td>\n",
       "      <td>1999.000000</td>\n",
       "      <td>69.000000</td>\n",
       "      <td>125000.000000</td>\n",
       "      <td>3.000000</td>\n",
       "      <td>0.0</td>\n",
       "      <td>30165.000000</td>\n",
       "    </tr>\n",
       "    <tr>\n",
       "      <th>50%</th>\n",
       "      <td>2700.000000</td>\n",
       "      <td>2003.000000</td>\n",
       "      <td>105.000000</td>\n",
       "      <td>150000.000000</td>\n",
       "      <td>6.000000</td>\n",
       "      <td>0.0</td>\n",
       "      <td>49413.000000</td>\n",
       "    </tr>\n",
       "    <tr>\n",
       "      <th>75%</th>\n",
       "      <td>6400.000000</td>\n",
       "      <td>2008.000000</td>\n",
       "      <td>143.000000</td>\n",
       "      <td>150000.000000</td>\n",
       "      <td>9.000000</td>\n",
       "      <td>0.0</td>\n",
       "      <td>71083.000000</td>\n",
       "    </tr>\n",
       "    <tr>\n",
       "      <th>max</th>\n",
       "      <td>20000.000000</td>\n",
       "      <td>9999.000000</td>\n",
       "      <td>20000.000000</td>\n",
       "      <td>150000.000000</td>\n",
       "      <td>12.000000</td>\n",
       "      <td>0.0</td>\n",
       "      <td>99998.000000</td>\n",
       "    </tr>\n",
       "  </tbody>\n",
       "</table>\n",
       "</div>"
      ],
      "text/plain": [
       "               price  registrationyear          power      kilometer  \\\n",
       "count  354369.000000     354369.000000  354369.000000  354369.000000   \n",
       "mean     4416.656776       2004.234448     110.094337  128211.172535   \n",
       "std      4514.158514         90.227958     189.850405   37905.341530   \n",
       "min         0.000000       1000.000000       0.000000    5000.000000   \n",
       "25%      1050.000000       1999.000000      69.000000  125000.000000   \n",
       "50%      2700.000000       2003.000000     105.000000  150000.000000   \n",
       "75%      6400.000000       2008.000000     143.000000  150000.000000   \n",
       "max     20000.000000       9999.000000   20000.000000  150000.000000   \n",
       "\n",
       "       registrationmonth  numberofpictures     postalcode  \n",
       "count      354369.000000          354369.0  354369.000000  \n",
       "mean            5.714645               0.0   50508.689087  \n",
       "std             3.726421               0.0   25783.096248  \n",
       "min             0.000000               0.0    1067.000000  \n",
       "25%             3.000000               0.0   30165.000000  \n",
       "50%             6.000000               0.0   49413.000000  \n",
       "75%             9.000000               0.0   71083.000000  \n",
       "max            12.000000               0.0   99998.000000  "
      ]
     },
     "metadata": {},
     "output_type": "display_data"
    }
   ],
   "source": [
    "display(df.describe())"
   ]
  },
  {
   "cell_type": "code",
   "execution_count": 11,
   "metadata": {},
   "outputs": [],
   "source": [
    "df = df.drop(['datecrawled', 'registrationmonth', 'datecreated', \\\n",
    "              'numberofpictures', 'postalcode', 'lastseen'], axis='columns')"
   ]
  },
  {
   "cell_type": "markdown",
   "metadata": {},
   "source": [
    "Посмотрим на выбросы"
   ]
  },
  {
   "cell_type": "code",
   "execution_count": 12,
   "metadata": {},
   "outputs": [
    {
     "data": {
      "text/plain": [
       "<AxesSubplot:>"
      ]
     },
     "execution_count": 12,
     "metadata": {},
     "output_type": "execute_result"
    },
    {
     "data": {
      "image/png": "[encoded data removed]",
      "text/plain": [
       "<Figure size 432x288 with 1 Axes>"
      ]
     },
     "metadata": {
      "needs_background": "light"
     },
     "output_type": "display_data"
    }
   ],
   "source": [
    "df.boxplot()"
   ]
  },
  {
   "cell_type": "markdown",
   "metadata": {},
   "source": [
    "Пробег и цена могут быть какими угодно, а мощность и год регистрации нужно рассмотреть повнимательнее."
   ]
  },
  {
   "cell_type": "code",
   "execution_count": 13,
   "metadata": {},
   "outputs": [],
   "source": [
    "#уберем выбросы\n",
    "#наиболее ранняя дата регистрации автомолбилей - это 1932 год. Пусть это будет нижней границей, а максимальную мощность \n",
    "#возьмём  за 350л/с\n",
    "df = df.query('registrationyear <= 2022 and registrationyear >= 1932 and 50 <= power <= 500')\n",
    "            \n"
   ]
  },
  {
   "cell_type": "code",
   "execution_count": 14,
   "metadata": {},
   "outputs": [
    {
     "data": {
      "text/plain": [
       "(307702, 10)"
      ]
     },
     "execution_count": 14,
     "metadata": {},
     "output_type": "execute_result"
    }
   ],
   "source": [
    "df.shape"
   ]
  },
  {
   "cell_type": "code",
   "execution_count": 15,
   "metadata": {},
   "outputs": [
    {
     "data": {
      "text/plain": [
       "<AxesSubplot:>"
      ]
     },
     "execution_count": 15,
     "metadata": {},
     "output_type": "execute_result"
    },
    {
     "data": {
      "image/png": "[encoded data removed]",
      "text/plain": [
       "<Figure size 432x288 with 1 Axes>"
      ]
     },
     "metadata": {
      "needs_background": "light"
     },
     "output_type": "display_data"
    }
   ],
   "source": [
    "(df.isna().sum().sort_values(ascending=False) / df.shape[0] * 100).plot(kind='bar')"
   ]
  },
  {
   "cell_type": "markdown",
   "metadata": {},
   "source": [
    "Пропуски есть в столбцах VehicleType, Gearbox, Model, FuelType, NotRepaired. Заменим NaN-ы нетипичным значением unk - модель воспримет их как отдельную категорию.\n",
    "\n",
    "20% в столбце NotRepaired. Скорее всего владельцы пропустили это значения потому что авто прежде не ремонтировалось. Либо просто скрыли информацию, чтобы автомобиль не казался менее привлекательным к покупке\n",
    "\n",
    "10% в столбце VehicleType\n",
    "\n",
    "9% в столбце FuelType\n",
    "\n",
    "5% в столбце GearBox\n",
    "\n",
    "5% в столбце Model"
   ]
  },
  {
   "cell_type": "code",
   "execution_count": 16,
   "metadata": {},
   "outputs": [
    {
     "data": {
      "text/html": [
       "<div>\n",
       "<style scoped>\n",
       "    .dataframe tbody tr th:only-of-type {\n",
       "        vertical-align: middle;\n",
       "    }\n",
       "\n",
       "    .dataframe tbody tr th {\n",
       "        vertical-align: top;\n",
       "    }\n",
       "\n",
       "    .dataframe thead th {\n",
       "        text-align: right;\n",
       "    }\n",
       "</style>\n",
       "<table border=\"1\" class=\"dataframe\">\n",
       "  <thead>\n",
       "    <tr style=\"text-align: right;\">\n",
       "      <th></th>\n",
       "      <th>price</th>\n",
       "      <th>vehicletype</th>\n",
       "      <th>registrationyear</th>\n",
       "      <th>gearbox</th>\n",
       "      <th>power</th>\n",
       "      <th>model</th>\n",
       "      <th>kilometer</th>\n",
       "      <th>fueltype</th>\n",
       "      <th>brand</th>\n",
       "      <th>notrepaired</th>\n",
       "    </tr>\n",
       "  </thead>\n",
       "  <tbody>\n",
       "    <tr>\n",
       "      <th>1</th>\n",
       "      <td>18300</td>\n",
       "      <td>coupe</td>\n",
       "      <td>2011</td>\n",
       "      <td>manual</td>\n",
       "      <td>190</td>\n",
       "      <td>unk</td>\n",
       "      <td>125000</td>\n",
       "      <td>gasoline</td>\n",
       "      <td>audi</td>\n",
       "      <td>yes</td>\n",
       "    </tr>\n",
       "    <tr>\n",
       "      <th>2</th>\n",
       "      <td>9800</td>\n",
       "      <td>suv</td>\n",
       "      <td>2004</td>\n",
       "      <td>auto</td>\n",
       "      <td>163</td>\n",
       "      <td>grand</td>\n",
       "      <td>125000</td>\n",
       "      <td>gasoline</td>\n",
       "      <td>jeep</td>\n",
       "      <td>unk</td>\n",
       "    </tr>\n",
       "    <tr>\n",
       "      <th>3</th>\n",
       "      <td>1500</td>\n",
       "      <td>small</td>\n",
       "      <td>2001</td>\n",
       "      <td>manual</td>\n",
       "      <td>75</td>\n",
       "      <td>golf</td>\n",
       "      <td>150000</td>\n",
       "      <td>petrol</td>\n",
       "      <td>volkswagen</td>\n",
       "      <td>no</td>\n",
       "    </tr>\n",
       "    <tr>\n",
       "      <th>4</th>\n",
       "      <td>3600</td>\n",
       "      <td>small</td>\n",
       "      <td>2008</td>\n",
       "      <td>manual</td>\n",
       "      <td>69</td>\n",
       "      <td>fabia</td>\n",
       "      <td>90000</td>\n",
       "      <td>gasoline</td>\n",
       "      <td>skoda</td>\n",
       "      <td>no</td>\n",
       "    </tr>\n",
       "    <tr>\n",
       "      <th>5</th>\n",
       "      <td>650</td>\n",
       "      <td>sedan</td>\n",
       "      <td>1995</td>\n",
       "      <td>manual</td>\n",
       "      <td>102</td>\n",
       "      <td>3er</td>\n",
       "      <td>150000</td>\n",
       "      <td>petrol</td>\n",
       "      <td>bmw</td>\n",
       "      <td>yes</td>\n",
       "    </tr>\n",
       "  </tbody>\n",
       "</table>\n",
       "</div>"
      ],
      "text/plain": [
       "   price vehicletype  registrationyear gearbox  power  model  kilometer  \\\n",
       "1  18300       coupe              2011  manual    190    unk     125000   \n",
       "2   9800         suv              2004    auto    163  grand     125000   \n",
       "3   1500       small              2001  manual     75   golf     150000   \n",
       "4   3600       small              2008  manual     69  fabia      90000   \n",
       "5    650       sedan              1995  manual    102    3er     150000   \n",
       "\n",
       "   fueltype       brand notrepaired  \n",
       "1  gasoline        audi         yes  \n",
       "2  gasoline        jeep         unk  \n",
       "3    petrol  volkswagen          no  \n",
       "4  gasoline       skoda          no  \n",
       "5    petrol         bmw         yes  "
      ]
     },
     "execution_count": 16,
     "metadata": {},
     "output_type": "execute_result"
    }
   ],
   "source": [
    "df.fillna(value='unk', inplace=True)\n",
    "df.head()"
   ]
  },
  {
   "cell_type": "code",
   "execution_count": 17,
   "metadata": {},
   "outputs": [],
   "source": [
    "#Убрали дубликаты\n",
    "df = df.drop_duplicates().reset_index(drop=True)"
   ]
  },
  {
   "cell_type": "code",
   "execution_count": 18,
   "metadata": {},
   "outputs": [],
   "source": [
    "def make_price_plot(feature, title):\n",
    "    mean_price = df[[feature, 'price']].groupby(feature, as_index=False).mean().astype('int')\n",
    "    plt.figure(figsize=(10,5))\n",
    "    plt.grid(axis = 'both')\n",
    "    sns.lineplot(x=feature, y='price', data=mean_price)\n",
    "    plt.xlabel(feature, size=5)\n",
    "    plt.ylabel('Средняя цена ', size=12)\n",
    "    plt.title(title, size=15, y=1.02)\n",
    "    plt.show()"
   ]
  },
  {
   "cell_type": "code",
   "execution_count": 19,
   "metadata": {},
   "outputs": [
    {
     "data": {
      "image/png": "[encoded data removed]",
      "text/plain": [
       "<Figure size 720x360 with 1 Axes>"
      ]
     },
     "metadata": {
      "needs_background": "light"
     },
     "output_type": "display_data"
    }
   ],
   "source": [
    "make_price_plot('registrationyear', 'Изменение цены в зависимости от года регистрации')"
   ]
  },
  {
   "cell_type": "markdown",
   "metadata": {},
   "source": [
    "Резкое падение цены с 2016 года."
   ]
  },
  {
   "cell_type": "code",
   "execution_count": 20,
   "metadata": {},
   "outputs": [
    {
     "data": {
      "image/png": "[encoded data removed]",
      "text/plain": [
       "<Figure size 720x360 with 1 Axes>"
      ]
     },
     "metadata": {
      "needs_background": "light"
     },
     "output_type": "display_data"
    }
   ],
   "source": [
    "make_price_plot('power', 'Изменение цены в зависимости от мощности')"
   ]
  },
  {
   "cell_type": "markdown",
   "metadata": {},
   "source": [
    "Цена растет вместе с мощностью."
   ]
  },
  {
   "cell_type": "code",
   "execution_count": 21,
   "metadata": {},
   "outputs": [
    {
     "data": {
      "image/png": "[encoded data removed]",
      "text/plain": [
       "<Figure size 720x360 with 1 Axes>"
      ]
     },
     "metadata": {
      "needs_background": "light"
     },
     "output_type": "display_data"
    }
   ],
   "source": [
    "make_price_plot('kilometer', 'Изменение цены в зависимости от пробега')"
   ]
  },
  {
   "cell_type": "markdown",
   "metadata": {},
   "source": [
    "Чем больше пробег, тем ниже цена. Всё логично."
   ]
  },
  {
   "cell_type": "code",
   "execution_count": 22,
   "metadata": {},
   "outputs": [],
   "source": [
    "def make_plotbar(index, title):\n",
    "    pivot = pd.DataFrame(df.pivot_table(index=index, aggfunc=\"size\").sort_values(ascending=False)).head(10)\n",
    "    pivot.columns = ['count']\n",
    "    plt.figure(figsize=(12,6))\n",
    "    plt.title(title)\n",
    "    sns.barplot(x='count', y=pivot.index, data=pivot)"
   ]
  },
  {
   "cell_type": "code",
   "execution_count": 23,
   "metadata": {},
   "outputs": [
    {
     "data": {
      "image/png": "[encoded data removed]",
      "text/plain": [
       "<Figure size 864x432 with 1 Axes>"
      ]
     },
     "metadata": {
      "needs_background": "light"
     },
     "output_type": "display_data"
    }
   ],
   "source": [
    "make_plotbar('model', '10 популярных моделей авто')"
   ]
  },
  {
   "cell_type": "code",
   "execution_count": 24,
   "metadata": {},
   "outputs": [
    {
     "data": {
      "image/png": "[encoded data removed]",
      "text/plain": [
       "<Figure size 864x432 with 1 Axes>"
      ]
     },
     "metadata": {
      "needs_background": "light"
     },
     "output_type": "display_data"
    }
   ],
   "source": [
    "make_plotbar('vehicletype', 'Типы автомобильного кузова')"
   ]
  },
  {
   "cell_type": "code",
   "execution_count": 25,
   "metadata": {},
   "outputs": [
    {
     "data": {
      "image/png": "[encoded data removed]",
      "text/plain": [
       "<Figure size 864x432 with 1 Axes>"
      ]
     },
     "metadata": {
      "needs_background": "light"
     },
     "output_type": "display_data"
    }
   ],
   "source": [
    "make_plotbar('gearbox', 'Коробки передач')"
   ]
  },
  {
   "cell_type": "code",
   "execution_count": 26,
   "metadata": {},
   "outputs": [
    {
     "data": {
      "image/png": "[encoded data removed]",
      "text/plain": [
       "<Figure size 864x432 with 1 Axes>"
      ]
     },
     "metadata": {
      "needs_background": "light"
     },
     "output_type": "display_data"
    }
   ],
   "source": [
    "make_plotbar('brand', '10 популярных автомобильных брендов')"
   ]
  },
  {
   "cell_type": "code",
   "execution_count": 27,
   "metadata": {},
   "outputs": [
    {
     "data": {
      "image/png": "[encoded data removed]",
      "text/plain": [
       "<Figure size 864x432 with 1 Axes>"
      ]
     },
     "metadata": {
      "needs_background": "light"
     },
     "output_type": "display_data"
    }
   ],
   "source": [
    "make_plotbar('fueltype', 'Типы топлива для авто')"
   ]
  },
  {
   "cell_type": "markdown",
   "metadata": {},
   "source": [
    "#### Вывод\n",
    "354365 строк и 16 столбцов\n",
    "\n",
    "Присутствуют пропуски. Заменены не типичным значением.\n",
    "\n",
    "Средняя стоимость авто 2700 евро\n",
    "\n",
    "Минимальный год регистриции автомобиля 1000, максимальный - 9999 - Год регистрации ограничен рамками 1932-2022.\n",
    "\n",
    "Макс.значение в мощности автомобиля в лошадинных силах = 20 000. Показатель не реальный.Мощность ограничена 350л/с.\n",
    "\n",
    "Минимальный пробег авто 5000, максимальный - 150000, но при этом много авто имееют максимальный пробег. Возможно просто ограничение ввода данных на сайте\n",
    "\n",
    "Неправильно выставлены месяцы. Если первый месяц 0, то последний месяц не должен быть 12\n",
    "\n",
    "Столбец с фото автомобилей. У нас их нет\n",
    "\n",
    "8 уникальных типов автомобильного кузова\n",
    "\n",
    "Чаще встречаются авто с ручной коробкой передач\n",
    "\n",
    "Чаще встречаются автомобиле на бензине\n",
    "\n",
    "Самый популярный бренд авто Volkswagen\n",
    "\n",
    "Много пропусков в столбце о ремонте авто, но чаще встречаются автомобили без ремонта\n",
    "\n",
    "В датасете присутствуют неинформативные признаки. Не нужные столбцы удалены."
   ]
  },
  {
   "cell_type": "code",
   "execution_count": 28,
   "metadata": {},
   "outputs": [
    {
     "data": {
      "text/plain": [
       "(5652, 10)"
      ]
     },
     "execution_count": 28,
     "metadata": {},
     "output_type": "execute_result"
    }
   ],
   "source": [
    "cars_for_free = df.query('price == 0')\n",
    "cars_for_free.shape"
   ]
  },
  {
   "cell_type": "code",
   "execution_count": 29,
   "metadata": {},
   "outputs": [],
   "source": [
    "df = df.query('price != 0')"
   ]
  },
  {
   "cell_type": "markdown",
   "metadata": {},
   "source": [
    "## Обучение моделей"
   ]
  },
  {
   "cell_type": "code",
   "execution_count": 30,
   "metadata": {},
   "outputs": [],
   "source": [
    "df_ohe = pd.get_dummies(df, drop_first=True) "
   ]
  },
  {
   "cell_type": "code",
   "execution_count": 31,
   "metadata": {},
   "outputs": [],
   "source": [
    "#признаки для обучения модели линейной регрессии\n",
    "features_lr = df_ohe.drop(['price'], axis = 1)\n",
    "target_lr = df_ohe['price']\n",
    "\n",
    "features_train_lr, features_test_lr, target_train_lr, target_test_lr = \\\n",
    "train_test_split(features_lr,target_lr, test_size=.25, random_state=12345)"
   ]
  },
  {
   "cell_type": "code",
   "execution_count": 32,
   "metadata": {},
   "outputs": [],
   "source": [
    "categorical = ['vehicletype', 'gearbox', 'model', 'fueltype', 'brand', 'notrepaired']"
   ]
  },
  {
   "cell_type": "code",
   "execution_count": 33,
   "metadata": {},
   "outputs": [],
   "source": [
    "for col in categorical:\n",
    "    df[col] = df[col].astype('category')"
   ]
  },
  {
   "cell_type": "code",
   "execution_count": 34,
   "metadata": {},
   "outputs": [],
   "source": [
    "#признаки для обучения моделей CBR и LGBM\n",
    "features = df.drop(['price'], axis = 1)\n",
    "target = df['price']\n"
   ]
  },
  {
   "cell_type": "code",
   "execution_count": 35,
   "metadata": {},
   "outputs": [],
   "source": [
    "# Получение пропорции 60:40\n",
    "\n",
    "features_train, features_40, target_train, target_40 = train_test_split(\n",
    "    features, target, test_size = 0.40, random_state = 12345)\n",
    "# Разделение 40 % на две части\n",
    "\n",
    "features_valid, features_test, target_valid, target_test = train_test_split(\n",
    "    features_40, target_40, test_size = 0.50, random_state = 12345)"
   ]
  },
  {
   "cell_type": "code",
   "execution_count": 36,
   "metadata": {},
   "outputs": [
    {
     "name": "stderr",
     "output_type": "stream",
     "text": [
      "/tmp/ipykernel_115/3616344165.py:7: SettingWithCopyWarning: \n",
      "A value is trying to be set on a copy of a slice from a DataFrame.\n",
      "Try using .loc[row_indexer,col_indexer] = value instead\n",
      "\n",
      "See the caveats in the documentation: https://pandas.pydata.org/pandas-docs/stable/user_guide/indexing.html#returning-a-view-versus-a-copy\n",
      "  features_train[numeric] = scaler.transform(features_train[numeric])\n",
      "/opt/conda/lib/python3.9/site-packages/pandas/core/indexing.py:1738: SettingWithCopyWarning: \n",
      "A value is trying to be set on a copy of a slice from a DataFrame.\n",
      "Try using .loc[row_indexer,col_indexer] = value instead\n",
      "\n",
      "See the caveats in the documentation: https://pandas.pydata.org/pandas-docs/stable/user_guide/indexing.html#returning-a-view-versus-a-copy\n",
      "  self._setitem_single_column(loc, value[:, i].tolist(), pi)\n",
      "/tmp/ipykernel_115/3616344165.py:8: SettingWithCopyWarning: \n",
      "A value is trying to be set on a copy of a slice from a DataFrame.\n",
      "Try using .loc[row_indexer,col_indexer] = value instead\n",
      "\n",
      "See the caveats in the documentation: https://pandas.pydata.org/pandas-docs/stable/user_guide/indexing.html#returning-a-view-versus-a-copy\n",
      "  features_valid[numeric] = scaler.transform(features_valid[numeric])\n",
      "/opt/conda/lib/python3.9/site-packages/pandas/core/indexing.py:1738: SettingWithCopyWarning: \n",
      "A value is trying to be set on a copy of a slice from a DataFrame.\n",
      "Try using .loc[row_indexer,col_indexer] = value instead\n",
      "\n",
      "See the caveats in the documentation: https://pandas.pydata.org/pandas-docs/stable/user_guide/indexing.html#returning-a-view-versus-a-copy\n",
      "  self._setitem_single_column(loc, value[:, i].tolist(), pi)\n",
      "/tmp/ipykernel_115/3616344165.py:9: SettingWithCopyWarning: \n",
      "A value is trying to be set on a copy of a slice from a DataFrame.\n",
      "Try using .loc[row_indexer,col_indexer] = value instead\n",
      "\n",
      "See the caveats in the documentation: https://pandas.pydata.org/pandas-docs/stable/user_guide/indexing.html#returning-a-view-versus-a-copy\n",
      "  features_test[numeric] = scaler.transform(features_test[numeric])\n",
      "/opt/conda/lib/python3.9/site-packages/pandas/core/indexing.py:1738: SettingWithCopyWarning: \n",
      "A value is trying to be set on a copy of a slice from a DataFrame.\n",
      "Try using .loc[row_indexer,col_indexer] = value instead\n",
      "\n",
      "See the caveats in the documentation: https://pandas.pydata.org/pandas-docs/stable/user_guide/indexing.html#returning-a-view-versus-a-copy\n",
      "  self._setitem_single_column(loc, value[:, i].tolist(), pi)\n",
      "/tmp/ipykernel_115/3616344165.py:10: SettingWithCopyWarning: \n",
      "A value is trying to be set on a copy of a slice from a DataFrame.\n",
      "Try using .loc[row_indexer,col_indexer] = value instead\n",
      "\n",
      "See the caveats in the documentation: https://pandas.pydata.org/pandas-docs/stable/user_guide/indexing.html#returning-a-view-versus-a-copy\n",
      "  features_train_lr[numeric] = scaler.transform(features_train_lr[numeric])\n",
      "/opt/conda/lib/python3.9/site-packages/pandas/core/indexing.py:1738: SettingWithCopyWarning: \n",
      "A value is trying to be set on a copy of a slice from a DataFrame.\n",
      "Try using .loc[row_indexer,col_indexer] = value instead\n",
      "\n",
      "See the caveats in the documentation: https://pandas.pydata.org/pandas-docs/stable/user_guide/indexing.html#returning-a-view-versus-a-copy\n",
      "  self._setitem_single_column(loc, value[:, i].tolist(), pi)\n",
      "/tmp/ipykernel_115/3616344165.py:11: SettingWithCopyWarning: \n",
      "A value is trying to be set on a copy of a slice from a DataFrame.\n",
      "Try using .loc[row_indexer,col_indexer] = value instead\n",
      "\n",
      "See the caveats in the documentation: https://pandas.pydata.org/pandas-docs/stable/user_guide/indexing.html#returning-a-view-versus-a-copy\n",
      "  features_test_lr[numeric] = scaler.transform(features_test_lr[numeric])\n",
      "/opt/conda/lib/python3.9/site-packages/pandas/core/indexing.py:1738: SettingWithCopyWarning: \n",
      "A value is trying to be set on a copy of a slice from a DataFrame.\n",
      "Try using .loc[row_indexer,col_indexer] = value instead\n",
      "\n",
      "See the caveats in the documentation: https://pandas.pydata.org/pandas-docs/stable/user_guide/indexing.html#returning-a-view-versus-a-copy\n",
      "  self._setitem_single_column(loc, value[:, i].tolist(), pi)\n"
     ]
    }
   ],
   "source": [
    "numeric = (\n",
    "    ['registrationyear', 'power', 'kilometer']\n",
    ")\n",
    "scaler = StandardScaler()\n",
    "scaler.fit(features_train[numeric])\n",
    "\n",
    "features_train[numeric] = scaler.transform(features_train[numeric])\n",
    "features_valid[numeric] = scaler.transform(features_valid[numeric])\n",
    "features_test[numeric] = scaler.transform(features_test[numeric])\n",
    "features_train_lr[numeric] = scaler.transform(features_train_lr[numeric])\n",
    "features_test_lr[numeric] = scaler.transform(features_test_lr[numeric])"
   ]
  },
  {
   "cell_type": "code",
   "execution_count": 37,
   "metadata": {},
   "outputs": [],
   "source": [
    "#напишем формулу для получения значения метрики RMSE\n",
    "def rmse (target, predictions):\n",
    "    mse = mean_squared_error(target, predictions)\n",
    "    rmse = mse ** 0.5\n",
    "    return rmse\n",
    "          "
   ]
  },
  {
   "cell_type": "code",
   "execution_count": 38,
   "metadata": {},
   "outputs": [],
   "source": [
    "#LinearRegression\n",
    "lr_model = LinearRegression()\n"
   ]
  },
  {
   "cell_type": "code",
   "execution_count": 39,
   "metadata": {},
   "outputs": [
    {
     "name": "stdout",
     "output_type": "stream",
     "text": [
      "CPU times: user 22.6 s, sys: 21.4 s, total: 44 s\n",
      "Wall time: 44.5 s\n"
     ]
    },
    {
     "data": {
      "text/plain": [
       "LinearRegression()"
      ]
     },
     "execution_count": 39,
     "metadata": {},
     "output_type": "execute_result"
    }
   ],
   "source": [
    "%%time\n",
    "lr_model.fit(features_train_lr, target_train_lr)"
   ]
  },
  {
   "cell_type": "code",
   "execution_count": 40,
   "metadata": {},
   "outputs": [
    {
     "name": "stdout",
     "output_type": "stream",
     "text": [
      "CPU times: user 86.5 ms, sys: 134 ms, total: 220 ms\n",
      "Wall time: 263 ms\n"
     ]
    }
   ],
   "source": [
    "%%time\n",
    "predicted_lr = pd.Series(lr_model.predict(features_test_lr))"
   ]
  },
  {
   "cell_type": "code",
   "execution_count": 41,
   "metadata": {},
   "outputs": [
    {
     "data": {
      "text/plain": [
       "2634.8890741972427"
      ]
     },
     "execution_count": 41,
     "metadata": {},
     "output_type": "execute_result"
    }
   ],
   "source": [
    "rmse(target_test_lr, predicted_lr)"
   ]
  },
  {
   "cell_type": "code",
   "execution_count": 42,
   "metadata": {},
   "outputs": [
    {
     "name": "stdout",
     "output_type": "stream",
     "text": [
      "Learning rate set to 0.5\n",
      "0:\tlearn: 3167.3242160\ttotal: 144ms\tremaining: 1.3s\n",
      "9:\tlearn: 1782.9147602\ttotal: 684ms\tremaining: 0us\n",
      "Learning rate set to 0.5\n",
      "0:\tlearn: 3175.5207018\ttotal: 59.4ms\tremaining: 535ms\n",
      "9:\tlearn: 1790.2088563\ttotal: 527ms\tremaining: 0us\n",
      "Score при iterations = 10 : [0.84171117 0.84316937]\n",
      "Score mean = 0.8424402687419308\n",
      "\n",
      "Learning rate set to 0.5\n",
      "0:\tlearn: 3167.3242160\ttotal: 53.2ms\tremaining: 1.81s\n",
      "10:\tlearn: 1758.6207855\ttotal: 570ms\tremaining: 1.24s\n",
      "20:\tlearn: 1669.1196133\ttotal: 1.13s\tremaining: 750ms\n",
      "30:\tlearn: 1607.8546216\ttotal: 1.67s\tremaining: 216ms\n",
      "34:\tlearn: 1592.5245016\ttotal: 1.88s\tremaining: 0us\n",
      "Learning rate set to 0.5\n",
      "0:\tlearn: 3175.5207018\ttotal: 57.1ms\tremaining: 1.94s\n",
      "10:\tlearn: 1779.1363155\ttotal: 644ms\tremaining: 1.41s\n",
      "20:\tlearn: 1681.2138229\ttotal: 1.22s\tremaining: 816ms\n",
      "30:\tlearn: 1623.2306542\ttotal: 1.82s\tremaining: 235ms\n",
      "34:\tlearn: 1601.6950454\ttotal: 2.02s\tremaining: 0us\n",
      "Score при iterations = 35 : [0.85770469 0.85825534]\n",
      "Score mean = 0.8579800109320981\n",
      "\n",
      "Learning rate set to 0.5\n",
      "0:\tlearn: 3167.3242160\ttotal: 53.1ms\tremaining: 3.13s\n",
      "10:\tlearn: 1758.6207855\ttotal: 634ms\tremaining: 2.83s\n",
      "20:\tlearn: 1669.1196133\ttotal: 1.26s\tremaining: 2.34s\n",
      "30:\tlearn: 1607.8546216\ttotal: 1.88s\tremaining: 1.76s\n",
      "40:\tlearn: 1560.2254439\ttotal: 2.47s\tremaining: 1.15s\n",
      "50:\tlearn: 1530.3877763\ttotal: 3.07s\tremaining: 542ms\n",
      "59:\tlearn: 1495.8044015\ttotal: 3.67s\tremaining: 0us\n",
      "Learning rate set to 0.5\n",
      "0:\tlearn: 3175.5207018\ttotal: 93.3ms\tremaining: 5.51s\n",
      "10:\tlearn: 1779.1363155\ttotal: 801ms\tremaining: 3.57s\n",
      "20:\tlearn: 1681.2138229\ttotal: 1.49s\tremaining: 2.76s\n",
      "30:\tlearn: 1623.2306542\ttotal: 2.17s\tremaining: 2.03s\n",
      "40:\tlearn: 1578.7972935\ttotal: 2.81s\tremaining: 1.3s\n",
      "50:\tlearn: 1551.5428671\ttotal: 3.6s\tremaining: 636ms\n",
      "59:\tlearn: 1518.5903411\ttotal: 4.18s\tremaining: 0us\n",
      "Score при iterations = 60 : [0.86139032 0.86196045]\n",
      "Score mean = 0.8616753846059924\n",
      "\n",
      "Learning rate set to 0.5\n",
      "0:\tlearn: 3167.3242160\ttotal: 53.5ms\tremaining: 4.49s\n",
      "10:\tlearn: 1758.6207855\ttotal: 615ms\tremaining: 4.14s\n",
      "20:\tlearn: 1669.1196133\ttotal: 1.21s\tremaining: 3.7s\n",
      "30:\tlearn: 1607.8546216\ttotal: 1.78s\tremaining: 3.1s\n",
      "40:\tlearn: 1560.2254439\ttotal: 2.41s\tremaining: 2.59s\n",
      "50:\tlearn: 1530.3877763\ttotal: 3.05s\tremaining: 2.04s\n",
      "60:\tlearn: 1492.0496201\ttotal: 3.75s\tremaining: 1.48s\n",
      "70:\tlearn: 1458.4103783\ttotal: 4.56s\tremaining: 898ms\n",
      "80:\tlearn: 1434.6739410\ttotal: 5.25s\tremaining: 259ms\n",
      "84:\tlearn: 1431.2445361\ttotal: 5.5s\tremaining: 0us\n",
      "Learning rate set to 0.5\n",
      "0:\tlearn: 3175.5207018\ttotal: 62.1ms\tremaining: 5.22s\n",
      "10:\tlearn: 1779.1363155\ttotal: 751ms\tremaining: 5.05s\n",
      "20:\tlearn: 1681.2138229\ttotal: 1.3s\tremaining: 3.96s\n",
      "30:\tlearn: 1623.2306542\ttotal: 1.88s\tremaining: 3.27s\n",
      "40:\tlearn: 1578.7972935\ttotal: 2.54s\tremaining: 2.73s\n",
      "50:\tlearn: 1551.5428671\ttotal: 3.21s\tremaining: 2.14s\n",
      "60:\tlearn: 1514.7104409\ttotal: 4s\tremaining: 1.57s\n",
      "70:\tlearn: 1485.4230807\ttotal: 4.61s\tremaining: 909ms\n",
      "80:\tlearn: 1466.3767497\ttotal: 5.29s\tremaining: 261ms\n",
      "84:\tlearn: 1459.2132860\ttotal: 5.54s\tremaining: 0us\n",
      "Score при iterations = 85 : [0.86351838 0.86371141]\n",
      "Score mean = 0.8636148943752795\n",
      "\n",
      "Learning rate set to 0.490895\n",
      "0:\tlearn: 3189.3968573\ttotal: 58.8ms\tremaining: 6.41s\n",
      "10:\tlearn: 1776.7791295\ttotal: 686ms\tremaining: 6.17s\n",
      "20:\tlearn: 1670.4739457\ttotal: 1.27s\tremaining: 5.38s\n",
      "30:\tlearn: 1611.1396343\ttotal: 1.99s\tremaining: 5.08s\n",
      "40:\tlearn: 1575.0768505\ttotal: 2.7s\tremaining: 4.54s\n",
      "50:\tlearn: 1546.6281843\ttotal: 3.41s\tremaining: 3.94s\n",
      "60:\tlearn: 1518.2639552\ttotal: 4.11s\tremaining: 3.31s\n",
      "70:\tlearn: 1484.4271902\ttotal: 4.73s\tremaining: 2.6s\n",
      "80:\tlearn: 1463.3012476\ttotal: 5.44s\tremaining: 1.95s\n",
      "90:\tlearn: 1442.0998713\ttotal: 6.13s\tremaining: 1.28s\n",
      "100:\tlearn: 1421.4816161\ttotal: 6.63s\tremaining: 591ms\n",
      "109:\tlearn: 1403.4177310\ttotal: 7.24s\tremaining: 0us\n",
      "Learning rate set to 0.490895\n",
      "0:\tlearn: 3197.7366923\ttotal: 69.4ms\tremaining: 7.56s\n",
      "10:\tlearn: 1779.2464664\ttotal: 770ms\tremaining: 6.93s\n",
      "20:\tlearn: 1677.3736877\ttotal: 1.39s\tremaining: 5.91s\n",
      "30:\tlearn: 1614.4301451\ttotal: 2.06s\tremaining: 5.25s\n",
      "40:\tlearn: 1568.7605800\ttotal: 2.7s\tremaining: 4.55s\n",
      "50:\tlearn: 1537.2091167\ttotal: 3.43s\tremaining: 3.96s\n",
      "60:\tlearn: 1506.0141109\ttotal: 4.02s\tremaining: 3.23s\n",
      "70:\tlearn: 1485.1867675\ttotal: 4.67s\tremaining: 2.56s\n",
      "80:\tlearn: 1465.9008705\ttotal: 5.38s\tremaining: 1.93s\n",
      "90:\tlearn: 1438.2866036\ttotal: 6.08s\tremaining: 1.27s\n",
      "100:\tlearn: 1420.8813343\ttotal: 6.75s\tremaining: 602ms\n",
      "109:\tlearn: 1404.1161619\ttotal: 7.33s\tremaining: 0us\n",
      "Score при iterations = 110 : [0.86359063 0.86493277]\n",
      "Score mean = 0.8642617005399396\n",
      "\n"
     ]
    }
   ],
   "source": [
    "#CatBoostRegressor\n",
    "#построим модель CBR и исследуем её работу с различными значениями гиперпараметра iterations \n",
    "#с помощью кросс-валидации\n",
    "for iteration in range(10, 111, 25):\n",
    "    cat_model = CatBoostRegressor(loss_function=\"RMSE\", iterations=iteration, depth=10,\\\n",
    "                                  verbose=10, cat_features=categorical)\n",
    "    cat_cv = cross_val_score(cat_model, features_train, target_train, cv=2)\n",
    "    print(\"Score при iterations =\", iteration, \":\", cat_cv)\n",
    "    print(\"Score mean =\", sum(cat_cv)/len(cat_cv))\n",
    "    print()\n"
   ]
  },
  {
   "cell_type": "code",
   "execution_count": 43,
   "metadata": {},
   "outputs": [
    {
     "name": "stdout",
     "output_type": "stream",
     "text": [
      "Learning rate set to 0.5\n",
      "0:\tlearn: 3423.5362483\ttotal: 51.2ms\tremaining: 973ms\n",
      "10:\tlearn: 1995.1581444\ttotal: 398ms\tremaining: 325ms\n",
      "19:\tlearn: 1897.3713421\ttotal: 716ms\tremaining: 0us\n",
      "Learning rate set to 0.5\n",
      "0:\tlearn: 3440.1486214\ttotal: 50.8ms\tremaining: 964ms\n",
      "10:\tlearn: 2005.2909564\ttotal: 419ms\tremaining: 343ms\n",
      "19:\tlearn: 1905.3648064\ttotal: 721ms\tremaining: 0us\n",
      "Score при depth = 5 : [0.82958567 0.83156436]\n",
      "Score mean = 0.8305750127546687\n",
      "\n",
      "Learning rate set to 0.5\n",
      "0:\tlearn: 3251.9350334\ttotal: 37.6ms\tremaining: 715ms\n",
      "10:\tlearn: 1885.1486910\ttotal: 394ms\tremaining: 322ms\n",
      "19:\tlearn: 1805.2270479\ttotal: 714ms\tremaining: 0us\n",
      "Learning rate set to 0.5\n",
      "0:\tlearn: 3281.5071059\ttotal: 47.6ms\tremaining: 905ms\n",
      "10:\tlearn: 1896.0429366\ttotal: 514ms\tremaining: 421ms\n",
      "19:\tlearn: 1813.7586776\ttotal: 991ms\tremaining: 0us\n",
      "Score при depth = 7 : [0.8425688  0.84403068]\n",
      "Score mean = 0.8432997362884646\n",
      "\n",
      "Learning rate set to 0.5\n",
      "0:\tlearn: 3175.1290281\ttotal: 102ms\tremaining: 1.94s\n",
      "10:\tlearn: 1787.3059921\ttotal: 719ms\tremaining: 589ms\n",
      "19:\tlearn: 1708.4943734\ttotal: 1.23s\tremaining: 0us\n",
      "Learning rate set to 0.5\n",
      "0:\tlearn: 3223.2697515\ttotal: 57.4ms\tremaining: 1.09s\n",
      "10:\tlearn: 1811.3142114\ttotal: 802ms\tremaining: 656ms\n",
      "19:\tlearn: 1729.7959708\ttotal: 1.36s\tremaining: 0us\n",
      "Score при depth = 9 : [0.84954953 0.85021461]\n",
      "Score mean = 0.8498820709662047\n",
      "\n",
      "Learning rate set to 0.5\n",
      "0:\tlearn: 3146.0097787\ttotal: 71.7ms\tremaining: 1.36s\n",
      "10:\tlearn: 1724.0217742\ttotal: 1.07s\tremaining: 874ms\n",
      "19:\tlearn: 1633.0696294\ttotal: 1.82s\tremaining: 0us\n",
      "Learning rate set to 0.5\n",
      "0:\tlearn: 3165.4740411\ttotal: 73ms\tremaining: 1.39s\n",
      "10:\tlearn: 1736.6021330\ttotal: 1s\tremaining: 822ms\n",
      "19:\tlearn: 1646.3704224\ttotal: 1.65s\tremaining: 0us\n",
      "Score при depth = 11 : [0.85466    0.85347324]\n",
      "Score mean = 0.8540666225677636\n",
      "\n",
      "Learning rate set to 0.5\n",
      "0:\tlearn: 3130.9115521\ttotal: 178ms\tremaining: 3.37s\n",
      "10:\tlearn: 1647.3741912\ttotal: 1.84s\tremaining: 1.51s\n",
      "19:\tlearn: 1541.3774475\ttotal: 3.42s\tremaining: 0us\n",
      "Learning rate set to 0.5\n",
      "0:\tlearn: 3133.6562428\ttotal: 173ms\tremaining: 3.29s\n",
      "10:\tlearn: 1665.2033037\ttotal: 2.27s\tremaining: 1.86s\n",
      "19:\tlearn: 1564.4996359\ttotal: 4.21s\tremaining: 0us\n",
      "Score при depth = 13 : [0.85443809 0.85441349]\n",
      "Score mean = 0.8544257907229574\n",
      "\n",
      "Learning rate set to 0.5\n",
      "0:\tlearn: 3105.4408624\ttotal: 470ms\tremaining: 8.93s\n",
      "10:\tlearn: 1581.6793433\ttotal: 6.87s\tremaining: 5.62s\n",
      "19:\tlearn: 1465.4508401\ttotal: 11.7s\tremaining: 0us\n",
      "Learning rate set to 0.5\n",
      "0:\tlearn: 3116.3891034\ttotal: 725ms\tremaining: 13.8s\n",
      "10:\tlearn: 1598.9757076\ttotal: 6.39s\tremaining: 5.23s\n",
      "19:\tlearn: 1476.6839915\ttotal: 11.1s\tremaining: 0us\n",
      "Score при depth = 15 : [0.85517589 0.85596918]\n",
      "Score mean = 0.8555725358882383\n",
      "\n"
     ]
    }
   ],
   "source": [
    "#исследуем работу модели с различными значениями гиперпараметра depth\n",
    "for depth in range(5, 16, 2):\n",
    "    cat_model = CatBoostRegressor(loss_function=\"RMSE\", iterations=20, depth=depth,\\\n",
    "                                  verbose=10, cat_features=categorical)\n",
    "    cat_cv = cross_val_score(cat_model, features_train, target_train, cv=2)\n",
    "    print(\"Score при depth =\", depth, \":\", cat_cv)\n",
    "    print(\"Score mean =\", sum(cat_cv)/len(cat_cv))\n",
    "    print()"
   ]
  },
  {
   "cell_type": "markdown",
   "metadata": {},
   "source": [
    "Можно отметить, что при увеличении iterations модель сначала дает бОльшую точность , затем увеличение точности начинает снижаться, до тех пор, пока разница не становится незначительной. Нужно помнить, что скорость обучения модели для нас важна так же, как и точность ее работы, поэтому не будем жертвовать скоростью и выберем оптимальный вариант с числом iterations 90.\n",
    "\n",
    "При изменении параметра depth прослеживается такая же тенденция, поэтому оптимальной глубиной будет число 13.\n",
    "\n",
    "Измерим время обучения и работы модели со значением iterations = 90 и depth = 11."
   ]
  },
  {
   "cell_type": "code",
   "execution_count": 44,
   "metadata": {},
   "outputs": [],
   "source": [
    "cat_model_90_11= CatBoostRegressor(loss_function=\"RMSE\", iterations=90, depth=11, verbose=10)"
   ]
  },
  {
   "cell_type": "code",
   "execution_count": 45,
   "metadata": {},
   "outputs": [
    {
     "name": "stdout",
     "output_type": "stream",
     "text": [
      "Learning rate set to 0.5\n",
      "0:\tlearn: 3144.5777862\ttotal: 141ms\tremaining: 12.5s\n",
      "10:\tlearn: 1745.7805423\ttotal: 1.37s\tremaining: 9.86s\n",
      "20:\tlearn: 1652.4894430\ttotal: 2.74s\tremaining: 9s\n",
      "30:\tlearn: 1596.1142146\ttotal: 4.06s\tremaining: 7.73s\n",
      "40:\tlearn: 1551.7274484\ttotal: 5.4s\tremaining: 6.45s\n",
      "50:\tlearn: 1513.3642935\ttotal: 6.64s\tremaining: 5.08s\n",
      "60:\tlearn: 1490.4713698\ttotal: 8s\tremaining: 3.8s\n",
      "70:\tlearn: 1465.1141726\ttotal: 9.31s\tremaining: 2.49s\n",
      "80:\tlearn: 1450.7934884\ttotal: 10.6s\tremaining: 1.18s\n",
      "89:\tlearn: 1434.4189582\ttotal: 11.8s\tremaining: 0us\n",
      "CPU times: user 11.8 s, sys: 131 ms, total: 12 s\n",
      "Wall time: 12.4 s\n"
     ]
    },
    {
     "data": {
      "text/plain": [
       "<catboost.core.CatBoostRegressor at 0x7f2458860f40>"
      ]
     },
     "execution_count": 45,
     "metadata": {},
     "output_type": "execute_result"
    }
   ],
   "source": [
    "%%time\n",
    "cat_model_90_11.fit(features_train, target_train, cat_features=categorical)"
   ]
  },
  {
   "cell_type": "code",
   "execution_count": 46,
   "metadata": {},
   "outputs": [
    {
     "name": "stdout",
     "output_type": "stream",
     "text": [
      "CPU times: user 93.1 ms, sys: 0 ns, total: 93.1 ms\n",
      "Wall time: 95 ms\n"
     ]
    }
   ],
   "source": [
    "%%time\n",
    "predicted_cat_90_11 = pd.Series(cat_model_90_11.predict(features_test))"
   ]
  },
  {
   "cell_type": "code",
   "execution_count": 47,
   "metadata": {},
   "outputs": [
    {
     "data": {
      "text/plain": [
       "1659.2009925001914"
      ]
     },
     "execution_count": 47,
     "metadata": {},
     "output_type": "execute_result"
    }
   ],
   "source": [
    "rmse(target_test, predicted_cat_90_11)"
   ]
  },
  {
   "cell_type": "code",
   "execution_count": 48,
   "metadata": {},
   "outputs": [],
   "source": [
    "#LightGBM\n",
    "params = {\n",
    "    'boosting_type': 'gbdt',\n",
    "    'objective': 'regression',\n",
    "    'metric': 'rmse',\n",
    "    'max_depth': 6, \n",
    "    'learning_rate': 0.1,\n",
    "    'verbose': 0\n",
    "}"
   ]
  },
  {
   "cell_type": "code",
   "execution_count": 49,
   "metadata": {},
   "outputs": [],
   "source": [
    "lgbm_model = LGBMRegressor(**params)"
   ]
  },
  {
   "cell_type": "code",
   "execution_count": 50,
   "metadata": {},
   "outputs": [
    {
     "name": "stdout",
     "output_type": "stream",
     "text": [
      "[LightGBM] [Warning] Accuracy may be bad since you didn't explicitly set num_leaves OR 2^max_depth > num_leaves. (num_leaves=31).\n",
      "[LightGBM] [Warning] Accuracy may be bad since you didn't explicitly set num_leaves OR 2^max_depth > num_leaves. (num_leaves=31).\n",
      "[LightGBM] [Warning] Auto-choosing row-wise multi-threading, the overhead of testing was 0.309406 seconds.\n",
      "You can set `force_row_wise=true` to remove the overhead.\n",
      "And if memory is not enough, you can set `force_col_wise=true`.\n",
      "[LightGBM] [Warning] No further splits with positive gain, best gain: -inf\n",
      "[LightGBM] [Warning] No further splits with positive gain, best gain: -inf\n",
      "[LightGBM] [Warning] No further splits with positive gain, best gain: -inf\n",
      "CPU times: user 4min 36s, sys: 3.25 s, total: 4min 39s\n",
      "Wall time: 4min 42s\n"
     ]
    },
    {
     "data": {
      "text/plain": [
       "LGBMRegressor(max_depth=6, metric='rmse', objective='regression', silent=True,\n",
       "              verbose=0)"
      ]
     },
     "execution_count": 50,
     "metadata": {},
     "output_type": "execute_result"
    }
   ],
   "source": [
    "%%time\n",
    "lgbm_model.fit(features_train, target_train)\n",
    "LGBMRegressor(boosting_type='gbdt', class_weight=None, colsample_bytree=1.0,\n",
    "              importance_type='split', learning_rate=0.1, max_depth=6,\n",
    "              metric='rmse', min_child_samples=20, min_child_weight=0.001,\n",
    "              min_split_gain=0.0, n_estimators=100, n_jobs=-1, num_leaves=31,\n",
    "              objective='regression', random_state=None, reg_alpha=0.0,\n",
    "              reg_lambda=0.0, silent=True, subsample=1.0,\n",
    "              subsample_for_bin=200000, subsample_freq=0, verbose=0)"
   ]
  },
  {
   "cell_type": "code",
   "execution_count": 51,
   "metadata": {},
   "outputs": [
    {
     "name": "stdout",
     "output_type": "stream",
     "text": [
      "CPU times: user 535 ms, sys: 0 ns, total: 535 ms\n",
      "Wall time: 580 ms\n"
     ]
    }
   ],
   "source": [
    "%%time\n",
    "predictions_lgbm = lgbm_model.predict(features_test)"
   ]
  },
  {
   "cell_type": "code",
   "execution_count": 52,
   "metadata": {},
   "outputs": [
    {
     "data": {
      "text/plain": [
       "1663.6159831686948"
      ]
     },
     "execution_count": 52,
     "metadata": {},
     "output_type": "execute_result"
    }
   ],
   "source": [
    "rmse(target_test, predictions_lgbm)"
   ]
  },
  {
   "cell_type": "markdown",
   "metadata": {},
   "source": [
    "## Анализ моделей"
   ]
  },
  {
   "cell_type": "code",
   "execution_count": 53,
   "metadata": {},
   "outputs": [],
   "source": [
    "#финальное тестирование лучшей модели с подобранными гиперпараметрамми\n",
    "cat_model_90_11= CatBoostRegressor(loss_function=\"RMSE\", iterations=90, depth=11, verbose=10)"
   ]
  },
  {
   "cell_type": "code",
   "execution_count": 54,
   "metadata": {},
   "outputs": [
    {
     "name": "stdout",
     "output_type": "stream",
     "text": [
      "Learning rate set to 0.5\n",
      "0:\tlearn: 3144.5777862\ttotal: 126ms\tremaining: 11.2s\n",
      "10:\tlearn: 1745.7805423\ttotal: 1.31s\tremaining: 9.38s\n",
      "20:\tlearn: 1652.4894430\ttotal: 2.53s\tremaining: 8.32s\n",
      "30:\tlearn: 1596.1142146\ttotal: 3.67s\tremaining: 6.99s\n",
      "40:\tlearn: 1551.7274484\ttotal: 4.86s\tremaining: 5.81s\n",
      "50:\tlearn: 1513.3642935\ttotal: 6.05s\tremaining: 4.63s\n",
      "60:\tlearn: 1490.4713698\ttotal: 7.35s\tremaining: 3.49s\n",
      "70:\tlearn: 1465.1141726\ttotal: 8.53s\tremaining: 2.28s\n",
      "80:\tlearn: 1450.7934884\ttotal: 9.67s\tremaining: 1.07s\n",
      "89:\tlearn: 1434.4189582\ttotal: 10.7s\tremaining: 0us\n",
      "CPU times: user 10.8 s, sys: 142 ms, total: 10.9 s\n",
      "Wall time: 11.4 s\n"
     ]
    },
    {
     "data": {
      "text/plain": [
       "<catboost.core.CatBoostRegressor at 0x7f2458f4fee0>"
      ]
     },
     "execution_count": 54,
     "metadata": {},
     "output_type": "execute_result"
    }
   ],
   "source": [
    "%%time\n",
    "cat_model_90_11.fit(features_train, target_train, cat_features=categorical)"
   ]
  },
  {
   "cell_type": "code",
   "execution_count": 55,
   "metadata": {},
   "outputs": [
    {
     "name": "stdout",
     "output_type": "stream",
     "text": [
      "CPU times: user 67.4 ms, sys: 0 ns, total: 67.4 ms\n",
      "Wall time: 65.5 ms\n"
     ]
    }
   ],
   "source": [
    "%%time\n",
    "predicted_cat_90_11 = pd.Series(cat_model_90_11.predict(features_valid))"
   ]
  },
  {
   "cell_type": "code",
   "execution_count": 56,
   "metadata": {},
   "outputs": [
    {
     "data": {
      "text/plain": [
       "1671.135770919882"
      ]
     },
     "execution_count": 56,
     "metadata": {},
     "output_type": "execute_result"
    }
   ],
   "source": [
    "rmse(target_valid, predicted_cat_90_11)"
   ]
  },
  {
   "cell_type": "code",
   "execution_count": 57,
   "metadata": {},
   "outputs": [
    {
     "data": {
      "text/html": [
       "<div>\n",
       "<style scoped>\n",
       "    .dataframe tbody tr th:only-of-type {\n",
       "        vertical-align: middle;\n",
       "    }\n",
       "\n",
       "    .dataframe tbody tr th {\n",
       "        vertical-align: top;\n",
       "    }\n",
       "\n",
       "    .dataframe thead th {\n",
       "        text-align: right;\n",
       "    }\n",
       "</style>\n",
       "<table border=\"1\" class=\"dataframe\">\n",
       "  <thead>\n",
       "    <tr style=\"text-align: right;\">\n",
       "      <th></th>\n",
       "      <th>model</th>\n",
       "      <th>train_time, sec</th>\n",
       "      <th>work_time, msec</th>\n",
       "      <th>rmse</th>\n",
       "    </tr>\n",
       "  </thead>\n",
       "  <tbody>\n",
       "    <tr>\n",
       "      <th>0</th>\n",
       "      <td>LR</td>\n",
       "      <td>16.50</td>\n",
       "      <td>154.0</td>\n",
       "      <td>2634.80</td>\n",
       "    </tr>\n",
       "    <tr>\n",
       "      <th>1</th>\n",
       "      <td>CBR</td>\n",
       "      <td>11.30</td>\n",
       "      <td>53.3</td>\n",
       "      <td>1659.20</td>\n",
       "    </tr>\n",
       "    <tr>\n",
       "      <th>2</th>\n",
       "      <td>LGB</td>\n",
       "      <td>3.69</td>\n",
       "      <td>463.0</td>\n",
       "      <td>1663.00</td>\n",
       "    </tr>\n",
       "    <tr>\n",
       "      <th>3</th>\n",
       "      <td>Final_test</td>\n",
       "      <td>10.20</td>\n",
       "      <td>54.4</td>\n",
       "      <td>1671.13</td>\n",
       "    </tr>\n",
       "  </tbody>\n",
       "</table>\n",
       "</div>"
      ],
      "text/plain": [
       "        model  train_time, sec  work_time, msec     rmse\n",
       "0          LR            16.50            154.0  2634.80\n",
       "1         CBR            11.30             53.3  1659.20\n",
       "2         LGB             3.69            463.0  1663.00\n",
       "3  Final_test            10.20             54.4  1671.13"
      ]
     },
     "execution_count": 57,
     "metadata": {},
     "output_type": "execute_result"
    }
   ],
   "source": [
    "\n",
    "models = [['LR', 16.5, 154, 2634.8], ['CBR', 11.3, 53.3, 1659.2], \n",
    "       ['LGB', 3.69, 463, 1663],['Final_test', 10.2, 54.4, 1671.13]] \n",
    "    \n",
    "df = pd.DataFrame(models, columns =['model', 'train_time, sec', 'work_time, msec', 'rmse']) \n",
    "df \n"
   ]
  },
  {
   "cell_type": "markdown",
   "metadata": {},
   "source": [
    "###  Вывод\n",
    "Время предсказания любой модели значительно меньше, чем её обучение. Важно, чтобы время предсказания было как можно меньше.\n",
    "\n",
    "Метрика RMSE лучше всего выглядит у модели CBR. Время работы и обучения наименьшее у модели LGB. Так как в проекте значение имеют и скорость обучения и точность модели,ввиду того, что временная разница в обучении CBR и LGB не критичная - предпочтение я отдал модели CBR из-за лучшей точности.\n",
    "\n",
    " Худшие результаты как по времени обучения, так и по точности показала модель Линейной Регрессии.\n",
    "\n",
    " Модель CatBoostRegressor можно посоветовать сервису как прототип."
   ]
  }
 ],
 "metadata": {
  "ExecuteTimeLog": [
   {
    "duration": 1802,
    "start_time": "2022-05-10T04:29:59.366Z"
   },
   {
    "duration": 100,
    "start_time": "2022-05-10T04:44:20.129Z"
   },
   {
    "duration": 810,
    "start_time": "2022-05-10T04:44:30.168Z"
   },
   {
    "duration": 20,
    "start_time": "2022-05-10T04:44:30.980Z"
   },
   {
    "duration": 131,
    "start_time": "2022-05-10T04:44:54.857Z"
   },
   {
    "duration": 1604,
    "start_time": "2022-05-10T04:45:41.652Z"
   },
   {
    "duration": 4,
    "start_time": "2022-05-10T04:48:01.610Z"
   },
   {
    "duration": 794,
    "start_time": "2022-05-10T04:48:02.089Z"
   },
   {
    "duration": 15,
    "start_time": "2022-05-10T04:48:02.885Z"
   },
   {
    "duration": 126,
    "start_time": "2022-05-10T04:48:03.745Z"
   },
   {
    "duration": 1483,
    "start_time": "2022-05-10T04:48:05.071Z"
   },
   {
    "duration": 1420,
    "start_time": "2022-05-10T04:48:30.523Z"
   },
   {
    "duration": 127,
    "start_time": "2022-05-10T04:53:02.727Z"
   },
   {
    "duration": 4,
    "start_time": "2022-05-10T04:54:03.356Z"
   },
   {
    "duration": 462,
    "start_time": "2022-05-10T04:54:10.644Z"
   },
   {
    "duration": 543,
    "start_time": "2022-05-10T04:54:50.245Z"
   },
   {
    "duration": 1055,
    "start_time": "2022-05-10T04:54:58.398Z"
   },
   {
    "duration": 18,
    "start_time": "2022-05-10T04:57:12.831Z"
   },
   {
    "duration": 126,
    "start_time": "2022-05-10T04:57:15.102Z"
   },
   {
    "duration": 459,
    "start_time": "2022-05-10T04:57:21.624Z"
   },
   {
    "duration": 1024,
    "start_time": "2022-05-10T04:57:25.110Z"
   },
   {
    "duration": 21,
    "start_time": "2022-05-10T04:57:46.965Z"
   },
   {
    "duration": 26,
    "start_time": "2022-05-10T04:58:01.832Z"
   },
   {
    "duration": 81,
    "start_time": "2022-05-10T04:58:06.671Z"
   },
   {
    "duration": 157,
    "start_time": "2022-05-10T04:58:08.527Z"
   },
   {
    "duration": 18,
    "start_time": "2022-05-10T04:58:22.054Z"
   },
   {
    "duration": 81,
    "start_time": "2022-05-10T04:59:47.648Z"
   },
   {
    "duration": 155,
    "start_time": "2022-05-10T05:00:20.817Z"
   },
   {
    "duration": 310,
    "start_time": "2022-05-10T05:01:00.466Z"
   },
   {
    "duration": 17,
    "start_time": "2022-05-10T05:01:05.552Z"
   },
   {
    "duration": 13,
    "start_time": "2022-05-10T05:01:33.636Z"
   },
   {
    "duration": 766,
    "start_time": "2022-05-10T05:01:41.961Z"
   },
   {
    "duration": 12,
    "start_time": "2022-05-10T05:01:42.729Z"
   },
   {
    "duration": 199,
    "start_time": "2022-05-10T05:01:43.023Z"
   },
   {
    "duration": 1468,
    "start_time": "2022-05-10T05:01:43.824Z"
   },
   {
    "duration": 119,
    "start_time": "2022-05-10T05:01:46.458Z"
   },
   {
    "duration": 16,
    "start_time": "2022-05-10T05:01:48.488Z"
   },
   {
    "duration": 17,
    "start_time": "2022-05-10T05:01:55.473Z"
   },
   {
    "duration": 318,
    "start_time": "2022-05-10T05:01:59.248Z"
   },
   {
    "duration": 84,
    "start_time": "2022-05-10T05:04:55.627Z"
   },
   {
    "duration": 9,
    "start_time": "2022-05-10T05:09:04.868Z"
   },
   {
    "duration": 11,
    "start_time": "2022-05-10T05:09:30.673Z"
   },
   {
    "duration": 3,
    "start_time": "2022-05-10T05:09:37.679Z"
   },
   {
    "duration": 743,
    "start_time": "2022-05-10T05:09:38.197Z"
   },
   {
    "duration": 13,
    "start_time": "2022-05-10T05:09:38.942Z"
   },
   {
    "duration": 126,
    "start_time": "2022-05-10T05:09:40.066Z"
   },
   {
    "duration": 1526,
    "start_time": "2022-05-10T05:09:41.053Z"
   },
   {
    "duration": 132,
    "start_time": "2022-05-10T05:09:44.004Z"
   },
   {
    "duration": 16,
    "start_time": "2022-05-10T05:09:47.093Z"
   },
   {
    "duration": 17,
    "start_time": "2022-05-10T05:09:48.303Z"
   },
   {
    "duration": 96,
    "start_time": "2022-05-10T05:09:52.700Z"
   },
   {
    "duration": 9,
    "start_time": "2022-05-10T05:10:01.246Z"
   },
   {
    "duration": 150,
    "start_time": "2022-05-10T05:11:03.255Z"
   },
   {
    "duration": 9,
    "start_time": "2022-05-10T05:11:09.533Z"
   },
   {
    "duration": 16,
    "start_time": "2022-05-10T05:11:31.881Z"
   },
   {
    "duration": 17,
    "start_time": "2022-05-10T05:11:59.902Z"
   },
   {
    "duration": 4,
    "start_time": "2022-05-10T05:12:15.167Z"
   },
   {
    "duration": 4,
    "start_time": "2022-05-10T05:12:38.095Z"
   },
   {
    "duration": 9,
    "start_time": "2022-05-10T05:12:58.813Z"
   },
   {
    "duration": 9,
    "start_time": "2022-05-10T05:13:07.790Z"
   },
   {
    "duration": 9,
    "start_time": "2022-05-10T05:13:57.682Z"
   },
   {
    "duration": 10,
    "start_time": "2022-05-10T05:14:10.302Z"
   },
   {
    "duration": 10,
    "start_time": "2022-05-10T05:14:35.910Z"
   },
   {
    "duration": 4,
    "start_time": "2022-05-10T05:14:52.765Z"
   },
   {
    "duration": 802,
    "start_time": "2022-05-10T05:14:53.332Z"
   },
   {
    "duration": 3,
    "start_time": "2022-05-10T05:14:54.136Z"
   },
   {
    "duration": 13,
    "start_time": "2022-05-10T05:14:55.790Z"
   },
   {
    "duration": 125,
    "start_time": "2022-05-10T05:14:59.694Z"
   },
   {
    "duration": 2338,
    "start_time": "2022-05-10T05:15:03.278Z"
   },
   {
    "duration": 0,
    "start_time": "2022-05-10T05:15:05.618Z"
   },
   {
    "duration": 1458,
    "start_time": "2022-05-10T05:15:20.793Z"
   },
   {
    "duration": 119,
    "start_time": "2022-05-10T05:15:25.286Z"
   },
   {
    "duration": 14,
    "start_time": "2022-05-10T05:15:29.997Z"
   },
   {
    "duration": 143,
    "start_time": "2022-05-10T05:15:50.416Z"
   },
   {
    "duration": 806,
    "start_time": "2022-05-10T05:17:18.656Z"
   },
   {
    "duration": 85,
    "start_time": "2022-05-10T05:19:08.207Z"
   },
   {
    "duration": 736,
    "start_time": "2022-05-10T05:23:58.946Z"
   },
   {
    "duration": 21,
    "start_time": "2022-05-10T05:24:08.640Z"
   },
   {
    "duration": 3,
    "start_time": "2022-05-10T05:24:13.586Z"
   },
   {
    "duration": 12,
    "start_time": "2022-05-10T05:24:14.486Z"
   },
   {
    "duration": 131,
    "start_time": "2022-05-10T05:24:18.662Z"
   },
   {
    "duration": 1493,
    "start_time": "2022-05-10T05:24:24.651Z"
   },
   {
    "duration": 121,
    "start_time": "2022-05-10T05:24:33.307Z"
   },
   {
    "duration": 147,
    "start_time": "2022-05-10T05:26:14.016Z"
   },
   {
    "duration": 889,
    "start_time": "2022-05-10T05:26:55.105Z"
   },
   {
    "duration": 85,
    "start_time": "2022-05-10T05:27:02.874Z"
   },
   {
    "duration": 20,
    "start_time": "2022-05-10T05:33:58.636Z"
   },
   {
    "duration": 17,
    "start_time": "2022-05-10T06:12:38.667Z"
   },
   {
    "duration": 1375,
    "start_time": "2022-05-10T06:12:39.920Z"
   },
   {
    "duration": 13,
    "start_time": "2022-05-10T06:15:26.791Z"
   },
   {
    "duration": 9,
    "start_time": "2022-05-10T06:15:38.644Z"
   },
   {
    "duration": 8,
    "start_time": "2022-05-10T06:16:47.410Z"
   },
   {
    "duration": 228,
    "start_time": "2022-05-10T06:17:28.028Z"
   },
   {
    "duration": 229,
    "start_time": "2022-05-10T06:17:50.134Z"
   },
   {
    "duration": 113,
    "start_time": "2022-05-10T06:18:11.555Z"
   },
   {
    "duration": 334,
    "start_time": "2022-05-10T06:20:57.393Z"
   },
   {
    "duration": 318,
    "start_time": "2022-05-10T06:22:12.398Z"
   },
   {
    "duration": 118,
    "start_time": "2022-05-10T06:23:11.660Z"
   },
   {
    "duration": 221,
    "start_time": "2022-05-10T06:23:27.601Z"
   },
   {
    "duration": 139,
    "start_time": "2022-05-10T06:23:35.679Z"
   },
   {
    "duration": 17,
    "start_time": "2022-05-10T06:23:55.156Z"
   },
   {
    "duration": 221,
    "start_time": "2022-05-10T06:24:04.854Z"
   },
   {
    "duration": 16,
    "start_time": "2022-05-10T06:24:12.610Z"
   },
   {
    "duration": 218,
    "start_time": "2022-05-10T06:24:19.723Z"
   },
   {
    "duration": 40,
    "start_time": "2022-05-10T06:31:07.394Z"
   },
   {
    "duration": 33,
    "start_time": "2022-05-10T06:33:09.334Z"
   },
   {
    "duration": 37,
    "start_time": "2022-05-10T06:33:31.078Z"
   },
   {
    "duration": 4,
    "start_time": "2022-05-10T06:34:05.313Z"
   },
   {
    "duration": 235,
    "start_time": "2022-05-10T06:36:42.753Z"
   },
   {
    "duration": 93,
    "start_time": "2022-05-10T06:40:46.027Z"
   },
   {
    "duration": 1590,
    "start_time": "2022-05-13T07:37:37.715Z"
   },
   {
    "duration": 723,
    "start_time": "2022-05-13T07:37:39.307Z"
   },
   {
    "duration": 23,
    "start_time": "2022-05-13T07:37:43.461Z"
   },
   {
    "duration": 3,
    "start_time": "2022-05-13T07:37:50.752Z"
   },
   {
    "duration": 12,
    "start_time": "2022-05-13T07:37:53.977Z"
   },
   {
    "duration": 128,
    "start_time": "2022-05-13T07:37:57.183Z"
   },
   {
    "duration": 1450,
    "start_time": "2022-05-13T07:38:03.907Z"
   },
   {
    "duration": 119,
    "start_time": "2022-05-13T07:38:17.185Z"
   },
   {
    "duration": 791,
    "start_time": "2022-05-13T07:39:09.430Z"
   },
   {
    "duration": 84,
    "start_time": "2022-05-13T07:39:17.289Z"
   },
   {
    "duration": 17,
    "start_time": "2022-05-13T07:40:24.420Z"
   },
   {
    "duration": 1440,
    "start_time": "2022-05-13T07:40:27.219Z"
   },
   {
    "duration": 38,
    "start_time": "2022-05-13T07:41:32.922Z"
   },
   {
    "duration": 5,
    "start_time": "2022-05-13T07:41:35.418Z"
   },
   {
    "duration": 201,
    "start_time": "2022-05-13T07:41:48.538Z"
   },
   {
    "duration": 81,
    "start_time": "2022-05-13T07:42:26.197Z"
   },
   {
    "duration": 174,
    "start_time": "2022-05-13T07:44:12.917Z"
   },
   {
    "duration": 100,
    "start_time": "2022-05-13T07:45:02.336Z"
   },
   {
    "duration": 62,
    "start_time": "2022-05-13T07:45:38.007Z"
   },
   {
    "duration": 4,
    "start_time": "2022-05-13T07:45:40.956Z"
   },
   {
    "duration": 187,
    "start_time": "2022-05-13T07:45:42.053Z"
   },
   {
    "duration": 3,
    "start_time": "2022-05-13T07:46:04.996Z"
   },
   {
    "duration": 706,
    "start_time": "2022-05-13T07:46:05.571Z"
   },
   {
    "duration": 20,
    "start_time": "2022-05-13T07:46:06.278Z"
   },
   {
    "duration": 3,
    "start_time": "2022-05-13T07:46:06.669Z"
   },
   {
    "duration": 13,
    "start_time": "2022-05-13T07:46:07.427Z"
   },
   {
    "duration": 115,
    "start_time": "2022-05-13T07:46:07.943Z"
   },
   {
    "duration": 1467,
    "start_time": "2022-05-13T07:46:08.587Z"
   },
   {
    "duration": 116,
    "start_time": "2022-05-13T07:46:10.056Z"
   },
   {
    "duration": 912,
    "start_time": "2022-05-13T07:46:10.313Z"
   },
   {
    "duration": 88,
    "start_time": "2022-05-13T07:46:11.228Z"
   },
   {
    "duration": 14,
    "start_time": "2022-05-13T07:46:12.379Z"
   },
   {
    "duration": 1234,
    "start_time": "2022-05-13T07:46:13.514Z"
   },
   {
    "duration": 114,
    "start_time": "2022-05-13T07:46:15.040Z"
   },
   {
    "duration": 98,
    "start_time": "2022-05-13T07:46:15.901Z"
   },
   {
    "duration": 26,
    "start_time": "2022-05-13T07:46:27.621Z"
   },
   {
    "duration": 3,
    "start_time": "2022-05-13T07:46:29.043Z"
   },
   {
    "duration": 203,
    "start_time": "2022-05-13T07:46:30.148Z"
   },
   {
    "duration": 94,
    "start_time": "2022-05-13T07:46:40.978Z"
   },
   {
    "duration": 98,
    "start_time": "2022-05-13T07:46:50.804Z"
   },
   {
    "duration": 106,
    "start_time": "2022-05-13T07:47:03.875Z"
   },
   {
    "duration": 75,
    "start_time": "2022-05-13T07:47:15.845Z"
   },
   {
    "duration": 100,
    "start_time": "2022-05-13T07:47:22.653Z"
   },
   {
    "duration": 188,
    "start_time": "2022-05-13T07:47:29.732Z"
   },
   {
    "duration": 115,
    "start_time": "2022-05-13T07:48:08.758Z"
   },
   {
    "duration": 102,
    "start_time": "2022-05-13T07:48:16.797Z"
   },
   {
    "duration": 101,
    "start_time": "2022-05-13T07:48:24.556Z"
   },
   {
    "duration": 207,
    "start_time": "2022-05-13T08:09:50.665Z"
   },
   {
    "duration": 3,
    "start_time": "2022-05-13T08:10:54.207Z"
   },
   {
    "duration": 155,
    "start_time": "2022-05-13T08:11:18.359Z"
   },
   {
    "duration": 5,
    "start_time": "2022-05-13T08:14:47.443Z"
   },
   {
    "duration": 141,
    "start_time": "2022-05-13T08:14:50.680Z"
   },
   {
    "duration": 4,
    "start_time": "2022-05-13T08:15:41.898Z"
   },
   {
    "duration": 142,
    "start_time": "2022-05-13T08:15:42.674Z"
   },
   {
    "duration": 254,
    "start_time": "2022-05-13T08:18:19.018Z"
   },
   {
    "duration": 24,
    "start_time": "2022-05-13T08:21:04.075Z"
   },
   {
    "duration": 4,
    "start_time": "2022-05-13T08:21:04.844Z"
   },
   {
    "duration": 209,
    "start_time": "2022-05-13T08:21:05.740Z"
   },
   {
    "duration": 76,
    "start_time": "2022-05-13T08:21:08.723Z"
   },
   {
    "duration": 173,
    "start_time": "2022-05-13T08:21:10.462Z"
   },
   {
    "duration": 4,
    "start_time": "2022-05-13T08:21:12.370Z"
   },
   {
    "duration": 140,
    "start_time": "2022-05-13T08:21:13.093Z"
   },
   {
    "duration": 169,
    "start_time": "2022-05-13T08:21:23.364Z"
   },
   {
    "duration": 149,
    "start_time": "2022-05-13T08:22:25.996Z"
   },
   {
    "duration": 1957,
    "start_time": "2022-05-14T05:00:21.299Z"
   },
   {
    "duration": 0,
    "start_time": "2022-05-14T05:00:23.258Z"
   },
   {
    "duration": 0,
    "start_time": "2022-05-14T05:00:23.259Z"
   },
   {
    "duration": 9,
    "start_time": "2022-05-14T05:00:23.503Z"
   },
   {
    "duration": 9,
    "start_time": "2022-05-14T05:00:24.235Z"
   },
   {
    "duration": 12,
    "start_time": "2022-05-14T05:00:33.243Z"
   },
   {
    "duration": 209,
    "start_time": "2022-05-14T05:00:47.335Z"
   },
   {
    "duration": 856,
    "start_time": "2022-05-14T05:00:50.073Z"
   },
   {
    "duration": 25,
    "start_time": "2022-05-14T05:00:51.152Z"
   },
   {
    "duration": 4,
    "start_time": "2022-05-14T05:00:52.140Z"
   },
   {
    "duration": 14,
    "start_time": "2022-05-14T05:00:54.129Z"
   },
   {
    "duration": 129,
    "start_time": "2022-05-14T05:00:55.871Z"
   },
   {
    "duration": 1503,
    "start_time": "2022-05-14T05:00:57.322Z"
   },
   {
    "duration": 127,
    "start_time": "2022-05-14T05:00:58.827Z"
   },
   {
    "duration": 4,
    "start_time": "2022-05-14T05:09:10.285Z"
   },
   {
    "duration": 3,
    "start_time": "2022-05-14T05:09:28.779Z"
   },
   {
    "duration": 87,
    "start_time": "2022-05-14T05:09:46.430Z"
   },
   {
    "duration": 4,
    "start_time": "2022-05-14T05:11:43.256Z"
   },
   {
    "duration": 185,
    "start_time": "2022-05-14T05:12:01.431Z"
   },
   {
    "duration": 169,
    "start_time": "2022-05-14T05:12:57.235Z"
   },
   {
    "duration": 211,
    "start_time": "2022-05-14T05:13:27.767Z"
   },
   {
    "duration": 198,
    "start_time": "2022-05-14T05:13:54.079Z"
   },
   {
    "duration": 169,
    "start_time": "2022-05-14T05:14:23.161Z"
   },
   {
    "duration": 16,
    "start_time": "2022-05-14T05:42:38.045Z"
   },
   {
    "duration": 11,
    "start_time": "2022-05-14T05:42:48.276Z"
   },
   {
    "duration": 10,
    "start_time": "2022-05-14T05:43:03.555Z"
   },
   {
    "duration": 1524,
    "start_time": "2022-05-14T05:43:14.923Z"
   },
   {
    "duration": 864,
    "start_time": "2022-05-14T05:47:25.295Z"
   },
   {
    "duration": 196,
    "start_time": "2022-05-14T05:53:30.344Z"
   },
   {
    "duration": 171,
    "start_time": "2022-05-14T05:53:57.364Z"
   },
   {
    "duration": 66,
    "start_time": "2022-05-14T05:55:27.938Z"
   },
   {
    "duration": 146,
    "start_time": "2022-05-14T05:59:34.326Z"
   },
   {
    "duration": 58,
    "start_time": "2022-05-14T05:59:36.410Z"
   },
   {
    "duration": 14,
    "start_time": "2022-05-14T06:02:22.354Z"
   },
   {
    "duration": 1305,
    "start_time": "2022-05-14T06:02:37.868Z"
   },
   {
    "duration": 17,
    "start_time": "2022-05-14T06:02:43.727Z"
   },
   {
    "duration": 13,
    "start_time": "2022-05-14T06:03:11.147Z"
   },
   {
    "duration": 10,
    "start_time": "2022-05-14T06:05:47.590Z"
   },
   {
    "duration": 228,
    "start_time": "2022-05-14T06:06:12.193Z"
   },
   {
    "duration": 1296,
    "start_time": "2022-05-14T06:06:16.289Z"
   },
   {
    "duration": 101,
    "start_time": "2022-05-14T06:06:21.879Z"
   },
   {
    "duration": 742,
    "start_time": "2022-05-14T06:06:25.674Z"
   },
   {
    "duration": 357,
    "start_time": "2022-05-14T06:42:51.903Z"
   },
   {
    "duration": 899,
    "start_time": "2022-05-14T06:47:37.279Z"
   },
   {
    "duration": 10,
    "start_time": "2022-05-14T06:48:01.005Z"
   },
   {
    "duration": 206,
    "start_time": "2022-05-14T06:48:32.020Z"
   },
   {
    "duration": 3,
    "start_time": "2022-05-14T06:49:47.486Z"
   },
   {
    "duration": 165,
    "start_time": "2022-05-14T06:50:33.133Z"
   },
   {
    "duration": 10,
    "start_time": "2022-05-14T06:51:21.896Z"
   },
   {
    "duration": 407,
    "start_time": "2022-05-14T06:51:41.471Z"
   },
   {
    "duration": 4,
    "start_time": "2022-05-14T06:52:24.616Z"
   },
   {
    "duration": 11,
    "start_time": "2022-05-14T06:53:16.369Z"
   },
   {
    "duration": 23,
    "start_time": "2022-05-14T06:53:59.094Z"
   },
   {
    "duration": 801,
    "start_time": "2022-05-14T06:54:11.263Z"
   },
   {
    "duration": 23,
    "start_time": "2022-05-14T06:54:12.066Z"
   },
   {
    "duration": 4,
    "start_time": "2022-05-14T06:54:13.046Z"
   },
   {
    "duration": 14,
    "start_time": "2022-05-14T06:54:13.879Z"
   },
   {
    "duration": 135,
    "start_time": "2022-05-14T06:54:14.822Z"
   },
   {
    "duration": 1660,
    "start_time": "2022-05-14T06:54:16.031Z"
   },
   {
    "duration": 135,
    "start_time": "2022-05-14T06:54:17.693Z"
   },
   {
    "duration": 903,
    "start_time": "2022-05-14T06:54:19.320Z"
   },
   {
    "duration": 90,
    "start_time": "2022-05-14T06:54:20.281Z"
   },
   {
    "duration": 16,
    "start_time": "2022-05-14T06:54:22.382Z"
   },
   {
    "duration": 1334,
    "start_time": "2022-05-14T06:54:24.206Z"
   },
   {
    "duration": 115,
    "start_time": "2022-05-14T06:54:25.943Z"
   },
   {
    "duration": 108,
    "start_time": "2022-05-14T06:54:26.879Z"
   },
   {
    "duration": 27,
    "start_time": "2022-05-14T06:54:27.742Z"
   },
   {
    "duration": 4,
    "start_time": "2022-05-14T06:54:28.540Z"
   },
   {
    "duration": 216,
    "start_time": "2022-05-14T06:54:29.397Z"
   },
   {
    "duration": 93,
    "start_time": "2022-05-14T06:54:31.142Z"
   },
   {
    "duration": 201,
    "start_time": "2022-05-14T06:54:31.942Z"
   },
   {
    "duration": 4,
    "start_time": "2022-05-14T06:54:32.702Z"
   },
   {
    "duration": 163,
    "start_time": "2022-05-14T06:54:33.526Z"
   },
   {
    "duration": 206,
    "start_time": "2022-05-14T06:54:35.253Z"
   },
   {
    "duration": 256,
    "start_time": "2022-05-14T06:54:37.306Z"
   },
   {
    "duration": 4,
    "start_time": "2022-05-14T06:54:39.037Z"
   },
   {
    "duration": 180,
    "start_time": "2022-05-14T06:54:40.097Z"
   },
   {
    "duration": 187,
    "start_time": "2022-05-14T06:54:41.102Z"
   },
   {
    "duration": 136,
    "start_time": "2022-05-14T06:54:42.088Z"
   },
   {
    "duration": 191,
    "start_time": "2022-05-14T06:54:42.966Z"
   },
   {
    "duration": 175,
    "start_time": "2022-05-14T06:54:43.905Z"
   },
   {
    "duration": 762,
    "start_time": "2022-05-14T06:54:46.062Z"
   },
   {
    "duration": 172,
    "start_time": "2022-05-14T06:54:46.826Z"
   },
   {
    "duration": 145,
    "start_time": "2022-05-14T06:54:47.454Z"
   },
   {
    "duration": 6,
    "start_time": "2022-05-14T06:54:48.102Z"
   },
   {
    "duration": 302,
    "start_time": "2022-05-14T06:54:49.237Z"
   },
   {
    "duration": 3,
    "start_time": "2022-05-14T06:54:50.054Z"
   },
   {
    "duration": 4,
    "start_time": "2022-05-14T06:54:51.887Z"
   },
   {
    "duration": 3,
    "start_time": "2022-05-14T06:57:08.027Z"
   },
   {
    "duration": 31207,
    "start_time": "2022-05-14T06:57:38.826Z"
   },
   {
    "duration": 303,
    "start_time": "2022-05-14T06:58:10.124Z"
   },
   {
    "duration": 16,
    "start_time": "2022-05-14T06:58:59.537Z"
   },
   {
    "duration": 4,
    "start_time": "2022-05-14T06:59:48.433Z"
   },
   {
    "duration": 766,
    "start_time": "2022-05-14T06:59:49.840Z"
   },
   {
    "duration": 31,
    "start_time": "2022-05-14T06:59:50.609Z"
   },
   {
    "duration": 4,
    "start_time": "2022-05-14T06:59:50.943Z"
   },
   {
    "duration": 14,
    "start_time": "2022-05-14T06:59:51.472Z"
   },
   {
    "duration": 132,
    "start_time": "2022-05-14T06:59:52.063Z"
   },
   {
    "duration": 1643,
    "start_time": "2022-05-14T06:59:52.620Z"
   },
   {
    "duration": 141,
    "start_time": "2022-05-14T06:59:54.265Z"
   },
   {
    "duration": 887,
    "start_time": "2022-05-14T06:59:54.409Z"
   },
   {
    "duration": 94,
    "start_time": "2022-05-14T06:59:55.298Z"
   },
   {
    "duration": 15,
    "start_time": "2022-05-14T06:59:56.128Z"
   },
   {
    "duration": 1589,
    "start_time": "2022-05-14T06:59:57.311Z"
   },
   {
    "duration": 144,
    "start_time": "2022-05-14T06:59:58.902Z"
   },
   {
    "duration": 120,
    "start_time": "2022-05-14T06:59:59.067Z"
   },
   {
    "duration": 28,
    "start_time": "2022-05-14T06:59:59.740Z"
   },
   {
    "duration": 4,
    "start_time": "2022-05-14T07:00:00.434Z"
   },
   {
    "duration": 252,
    "start_time": "2022-05-14T07:00:01.178Z"
   },
   {
    "duration": 96,
    "start_time": "2022-05-14T07:00:03.200Z"
   },
   {
    "duration": 203,
    "start_time": "2022-05-14T07:00:04.072Z"
   },
   {
    "duration": 4,
    "start_time": "2022-05-14T07:00:04.632Z"
   },
   {
    "duration": 165,
    "start_time": "2022-05-14T07:00:05.336Z"
   },
   {
    "duration": 307,
    "start_time": "2022-05-14T07:00:06.744Z"
   },
   {
    "duration": 165,
    "start_time": "2022-05-14T07:00:08.151Z"
   },
   {
    "duration": 4,
    "start_time": "2022-05-14T07:00:09.310Z"
   },
   {
    "duration": 190,
    "start_time": "2022-05-14T07:00:09.883Z"
   },
   {
    "duration": 205,
    "start_time": "2022-05-14T07:00:10.497Z"
   },
   {
    "duration": 144,
    "start_time": "2022-05-14T07:00:11.143Z"
   },
   {
    "duration": 202,
    "start_time": "2022-05-14T07:00:11.809Z"
   },
   {
    "duration": 185,
    "start_time": "2022-05-14T07:00:12.528Z"
   },
   {
    "duration": 1023,
    "start_time": "2022-05-14T07:00:13.937Z"
   },
   {
    "duration": 185,
    "start_time": "2022-05-14T07:00:14.962Z"
   },
   {
    "duration": 147,
    "start_time": "2022-05-14T07:00:15.313Z"
   },
   {
    "duration": 6,
    "start_time": "2022-05-14T07:00:16.430Z"
   },
   {
    "duration": 307,
    "start_time": "2022-05-14T07:00:19.487Z"
   },
   {
    "duration": 3,
    "start_time": "2022-05-14T07:00:20.352Z"
   },
   {
    "duration": 3,
    "start_time": "2022-05-14T07:00:23.135Z"
   },
   {
    "duration": 30218,
    "start_time": "2022-05-14T07:00:24.909Z"
   },
   {
    "duration": 264,
    "start_time": "2022-05-14T07:01:00.560Z"
   },
   {
    "duration": 5,
    "start_time": "2022-05-14T07:01:04.850Z"
   },
   {
    "duration": 11,
    "start_time": "2022-05-14T08:38:25.750Z"
   },
   {
    "duration": 11,
    "start_time": "2022-05-14T08:39:29.888Z"
   },
   {
    "duration": 12,
    "start_time": "2022-05-14T08:40:43.891Z"
   },
   {
    "duration": 4,
    "start_time": "2022-05-14T08:41:30.193Z"
   },
   {
    "duration": 842,
    "start_time": "2022-05-14T08:41:32.511Z"
   },
   {
    "duration": 22,
    "start_time": "2022-05-14T08:41:33.355Z"
   },
   {
    "duration": 25,
    "start_time": "2022-05-14T08:41:33.379Z"
   },
   {
    "duration": 14,
    "start_time": "2022-05-14T08:41:33.685Z"
   },
   {
    "duration": 145,
    "start_time": "2022-05-14T08:41:34.645Z"
   },
   {
    "duration": 1599,
    "start_time": "2022-05-14T08:41:35.118Z"
   },
   {
    "duration": 136,
    "start_time": "2022-05-14T08:41:36.723Z"
   },
   {
    "duration": 921,
    "start_time": "2022-05-14T08:41:36.888Z"
   },
   {
    "duration": 91,
    "start_time": "2022-05-14T08:41:37.811Z"
   },
   {
    "duration": 20,
    "start_time": "2022-05-14T08:41:39.414Z"
   },
   {
    "duration": 1469,
    "start_time": "2022-05-14T08:41:40.574Z"
   },
   {
    "duration": 120,
    "start_time": "2022-05-14T08:41:42.255Z"
   },
   {
    "duration": 123,
    "start_time": "2022-05-14T08:41:43.165Z"
   },
   {
    "duration": 28,
    "start_time": "2022-05-14T08:41:44.150Z"
   },
   {
    "duration": 4,
    "start_time": "2022-05-14T08:41:45.284Z"
   },
   {
    "duration": 236,
    "start_time": "2022-05-14T08:41:46.032Z"
   },
   {
    "duration": 107,
    "start_time": "2022-05-14T08:41:49.239Z"
   },
   {
    "duration": 223,
    "start_time": "2022-05-14T08:41:50.122Z"
   },
   {
    "duration": 6,
    "start_time": "2022-05-14T08:41:50.830Z"
   },
   {
    "duration": 172,
    "start_time": "2022-05-14T08:41:51.701Z"
   },
   {
    "duration": 339,
    "start_time": "2022-05-14T08:41:53.313Z"
   },
   {
    "duration": 184,
    "start_time": "2022-05-14T08:41:54.771Z"
   },
   {
    "duration": 4,
    "start_time": "2022-05-14T08:41:56.316Z"
   },
   {
    "duration": 198,
    "start_time": "2022-05-14T08:41:56.814Z"
   },
   {
    "duration": 206,
    "start_time": "2022-05-14T08:41:57.420Z"
   },
   {
    "duration": 136,
    "start_time": "2022-05-14T08:41:58.054Z"
   },
   {
    "duration": 219,
    "start_time": "2022-05-14T08:41:58.725Z"
   },
   {
    "duration": 189,
    "start_time": "2022-05-14T08:41:59.315Z"
   },
   {
    "duration": 901,
    "start_time": "2022-05-14T08:42:00.908Z"
   },
   {
    "duration": 184,
    "start_time": "2022-05-14T08:42:01.810Z"
   },
   {
    "duration": 152,
    "start_time": "2022-05-14T08:42:02.173Z"
   },
   {
    "duration": 5,
    "start_time": "2022-05-14T08:42:03.550Z"
   },
   {
    "duration": 314,
    "start_time": "2022-05-14T08:42:04.535Z"
   },
   {
    "duration": 3,
    "start_time": "2022-05-14T08:42:05.550Z"
   },
   {
    "duration": 3,
    "start_time": "2022-05-14T08:42:06.862Z"
   },
   {
    "duration": 28662,
    "start_time": "2022-05-14T08:42:11.270Z"
   },
   {
    "duration": 315,
    "start_time": "2022-05-14T08:42:52.015Z"
   },
   {
    "duration": 7,
    "start_time": "2022-05-14T08:42:55.534Z"
   },
   {
    "duration": 63116,
    "start_time": "2022-05-14T08:42:58.343Z"
   },
   {
    "duration": 60303,
    "start_time": "2022-05-14T08:44:39.193Z"
   },
   {
    "duration": 3,
    "start_time": "2022-05-14T08:51:59.993Z"
   },
   {
    "duration": 17836,
    "start_time": "2022-05-14T08:52:16.547Z"
   },
   {
    "duration": 102,
    "start_time": "2022-05-14T08:52:56.253Z"
   },
   {
    "duration": 6,
    "start_time": "2022-05-14T08:53:28.443Z"
   },
   {
    "duration": 4,
    "start_time": "2022-05-14T08:54:45.045Z"
   },
   {
    "duration": 14263,
    "start_time": "2022-05-14T08:54:47.147Z"
   },
   {
    "duration": 85,
    "start_time": "2022-05-14T08:55:05.340Z"
   },
   {
    "duration": 5,
    "start_time": "2022-05-14T08:55:09.796Z"
   },
   {
    "duration": 3,
    "start_time": "2022-05-14T08:55:18.220Z"
   },
   {
    "duration": 21760,
    "start_time": "2022-05-14T08:55:18.913Z"
   },
   {
    "duration": 94,
    "start_time": "2022-05-14T08:55:48.586Z"
   },
   {
    "duration": 5,
    "start_time": "2022-05-14T08:56:03.493Z"
   },
   {
    "duration": 3,
    "start_time": "2022-05-14T08:56:24.941Z"
   },
   {
    "duration": 11392,
    "start_time": "2022-05-14T08:56:29.734Z"
   },
   {
    "duration": 84,
    "start_time": "2022-05-14T08:56:44.181Z"
   },
   {
    "duration": 5,
    "start_time": "2022-05-14T08:56:48.044Z"
   },
   {
    "duration": 4,
    "start_time": "2022-05-14T08:57:01.293Z"
   },
   {
    "duration": 14932,
    "start_time": "2022-05-14T08:57:01.869Z"
   },
   {
    "duration": 91,
    "start_time": "2022-05-14T08:57:19.770Z"
   },
   {
    "duration": 5,
    "start_time": "2022-05-14T08:57:23.636Z"
   },
   {
    "duration": 3,
    "start_time": "2022-05-14T08:57:33.604Z"
   },
   {
    "duration": 17084,
    "start_time": "2022-05-14T08:57:34.252Z"
   },
   {
    "duration": 101,
    "start_time": "2022-05-14T08:57:51.338Z"
   },
   {
    "duration": 6,
    "start_time": "2022-05-14T08:57:55.778Z"
   },
   {
    "duration": 3,
    "start_time": "2022-05-14T08:59:02.063Z"
   },
   {
    "duration": 4,
    "start_time": "2022-05-14T08:59:19.626Z"
   },
   {
    "duration": 27324,
    "start_time": "2022-05-14T08:59:35.221Z"
   },
   {
    "duration": 51877,
    "start_time": "2022-05-14T09:01:08.455Z"
   },
   {
    "duration": 852,
    "start_time": "2022-05-14T09:02:14.091Z"
   },
   {
    "duration": 5,
    "start_time": "2022-05-14T09:02:34.063Z"
   },
   {
    "duration": 10,
    "start_time": "2022-05-14T09:03:44.639Z"
   },
   {
    "duration": 11,
    "start_time": "2022-05-14T10:16:52.528Z"
   },
   {
    "duration": 5,
    "start_time": "2022-05-14T10:20:05.419Z"
   },
   {
    "duration": 809,
    "start_time": "2022-05-14T10:20:06.115Z"
   },
   {
    "duration": 25,
    "start_time": "2022-05-14T10:20:07.822Z"
   },
   {
    "duration": 4,
    "start_time": "2022-05-14T10:20:09.515Z"
   },
   {
    "duration": 14,
    "start_time": "2022-05-14T10:20:12.643Z"
   },
   {
    "duration": 146,
    "start_time": "2022-05-14T10:20:14.483Z"
   },
   {
    "duration": 1535,
    "start_time": "2022-05-14T10:20:19.042Z"
   },
   {
    "duration": 129,
    "start_time": "2022-05-14T10:20:25.228Z"
   },
   {
    "duration": 904,
    "start_time": "2022-05-14T10:20:43.251Z"
   },
   {
    "duration": 88,
    "start_time": "2022-05-14T10:20:46.246Z"
   },
   {
    "duration": 18,
    "start_time": "2022-05-14T10:21:01.420Z"
   },
   {
    "duration": 1448,
    "start_time": "2022-05-14T10:21:02.747Z"
   },
   {
    "duration": 138,
    "start_time": "2022-05-14T10:21:28.742Z"
   },
   {
    "duration": 145,
    "start_time": "2022-05-14T10:21:38.886Z"
   },
   {
    "duration": 110,
    "start_time": "2022-05-14T10:21:48.220Z"
   },
   {
    "duration": 151,
    "start_time": "2022-05-14T10:21:59.123Z"
   },
   {
    "duration": 138,
    "start_time": "2022-05-14T10:22:48.677Z"
   },
   {
    "duration": 139,
    "start_time": "2022-05-14T10:23:00.268Z"
   },
   {
    "duration": 3208,
    "start_time": "2022-05-14T10:24:31.492Z"
   },
   {
    "duration": 272,
    "start_time": "2022-05-14T10:24:44.318Z"
   },
   {
    "duration": 131,
    "start_time": "2022-05-14T10:26:04.525Z"
   },
   {
    "duration": 142,
    "start_time": "2022-05-14T10:26:12.992Z"
   },
   {
    "duration": 114,
    "start_time": "2022-05-14T10:26:21.975Z"
   },
   {
    "duration": 127,
    "start_time": "2022-05-14T10:26:29.007Z"
   },
   {
    "duration": 1740,
    "start_time": "2022-05-14T10:27:18.624Z"
   },
   {
    "duration": 26,
    "start_time": "2022-05-14T10:32:26.071Z"
   },
   {
    "duration": 4,
    "start_time": "2022-05-14T10:32:26.761Z"
   },
   {
    "duration": 241,
    "start_time": "2022-05-14T10:32:31.609Z"
   },
   {
    "duration": 40,
    "start_time": "2022-05-14T10:33:34.548Z"
   },
   {
    "duration": 5,
    "start_time": "2022-05-14T10:33:34.590Z"
   },
   {
    "duration": 240,
    "start_time": "2022-05-14T10:33:36.096Z"
   },
   {
    "duration": 96,
    "start_time": "2022-05-14T10:34:06.769Z"
   },
   {
    "duration": 115,
    "start_time": "2022-05-14T10:34:29.458Z"
   },
   {
    "duration": 126,
    "start_time": "2022-05-14T10:34:56.187Z"
   },
   {
    "duration": 127,
    "start_time": "2022-05-14T10:35:12.611Z"
   },
   {
    "duration": 327,
    "start_time": "2022-05-14T10:35:23.366Z"
   },
   {
    "duration": 6,
    "start_time": "2022-05-14T10:35:27.918Z"
   },
   {
    "duration": 163,
    "start_time": "2022-05-14T10:35:43.414Z"
   },
   {
    "duration": 193,
    "start_time": "2022-05-14T10:36:22.258Z"
   },
   {
    "duration": 167,
    "start_time": "2022-05-14T10:36:32.162Z"
   },
   {
    "duration": 4,
    "start_time": "2022-05-14T10:36:38.853Z"
   },
   {
    "duration": 273,
    "start_time": "2022-05-14T10:36:41.553Z"
   },
   {
    "duration": 291,
    "start_time": "2022-05-14T10:36:58.203Z"
   },
   {
    "duration": 204,
    "start_time": "2022-05-14T10:37:08.086Z"
   },
   {
    "duration": 295,
    "start_time": "2022-05-14T10:37:18.476Z"
   },
   {
    "duration": 207,
    "start_time": "2022-05-14T10:37:28.855Z"
   },
   {
    "duration": 945,
    "start_time": "2022-05-14T10:45:04.172Z"
   },
   {
    "duration": 176,
    "start_time": "2022-05-14T10:45:09.357Z"
   },
   {
    "duration": 155,
    "start_time": "2022-05-14T10:45:20.391Z"
   },
   {
    "duration": 6,
    "start_time": "2022-05-14T10:45:25.542Z"
   },
   {
    "duration": 322,
    "start_time": "2022-05-14T10:45:28.973Z"
   },
   {
    "duration": 3,
    "start_time": "2022-05-14T10:45:40.704Z"
   },
   {
    "duration": 3,
    "start_time": "2022-05-14T10:45:43.661Z"
   },
   {
    "duration": 31180,
    "start_time": "2022-05-14T10:45:46.950Z"
   },
   {
    "duration": 267,
    "start_time": "2022-05-14T10:46:23.557Z"
   },
   {
    "duration": 5,
    "start_time": "2022-05-14T10:46:27.340Z"
   },
   {
    "duration": 65790,
    "start_time": "2022-05-14T10:46:37.078Z"
   },
   {
    "duration": 59998,
    "start_time": "2022-05-14T10:47:49.558Z"
   },
   {
    "duration": 3,
    "start_time": "2022-05-14T10:48:56.022Z"
   },
   {
    "duration": 17173,
    "start_time": "2022-05-14T10:49:00.550Z"
   },
   {
    "duration": 92,
    "start_time": "2022-05-14T10:49:25.509Z"
   },
   {
    "duration": 6,
    "start_time": "2022-05-14T10:49:38.845Z"
   },
   {
    "duration": 3,
    "start_time": "2022-05-14T10:49:43.688Z"
   },
   {
    "duration": 3,
    "start_time": "2022-05-14T10:49:45.333Z"
   },
   {
    "duration": 21019,
    "start_time": "2022-05-14T10:49:47.510Z"
   },
   {
    "duration": 756,
    "start_time": "2022-05-14T10:50:22.879Z"
   },
   {
    "duration": 5,
    "start_time": "2022-05-14T10:50:27.795Z"
   },
   {
    "duration": 11,
    "start_time": "2022-05-14T10:51:39.924Z"
   },
   {
    "duration": 1890,
    "start_time": "2022-05-14T11:05:38.657Z"
   },
   {
    "duration": 925,
    "start_time": "2022-05-14T11:05:40.549Z"
   },
   {
    "duration": 29,
    "start_time": "2022-05-14T11:05:41.476Z"
   },
   {
    "duration": 15,
    "start_time": "2022-05-14T11:05:41.508Z"
   },
   {
    "duration": 17,
    "start_time": "2022-05-14T11:05:41.527Z"
   },
   {
    "duration": 170,
    "start_time": "2022-05-14T11:05:41.546Z"
   },
   {
    "duration": 1617,
    "start_time": "2022-05-14T11:05:41.717Z"
   },
   {
    "duration": 146,
    "start_time": "2022-05-14T11:05:43.337Z"
   },
   {
    "duration": 1092,
    "start_time": "2022-05-14T11:05:43.485Z"
   },
   {
    "duration": 112,
    "start_time": "2022-05-14T11:05:44.580Z"
   },
   {
    "duration": 35,
    "start_time": "2022-05-14T11:05:44.694Z"
   },
   {
    "duration": 1578,
    "start_time": "2022-05-14T11:05:44.731Z"
   },
   {
    "duration": 47,
    "start_time": "2022-05-14T11:05:46.311Z"
   },
   {
    "duration": 4,
    "start_time": "2022-05-14T11:05:46.360Z"
   },
   {
    "duration": 321,
    "start_time": "2022-05-14T11:05:46.365Z"
   },
   {
    "duration": 106,
    "start_time": "2022-05-14T11:05:46.688Z"
   },
   {
    "duration": 245,
    "start_time": "2022-05-14T11:05:46.796Z"
   },
   {
    "duration": 4,
    "start_time": "2022-05-14T11:05:47.043Z"
   },
   {
    "duration": 188,
    "start_time": "2022-05-14T11:05:47.049Z"
   },
   {
    "duration": 224,
    "start_time": "2022-05-14T11:05:47.239Z"
   },
   {
    "duration": 184,
    "start_time": "2022-05-14T11:05:47.466Z"
   },
   {
    "duration": 4,
    "start_time": "2022-05-14T11:05:47.652Z"
   },
   {
    "duration": 202,
    "start_time": "2022-05-14T11:05:47.658Z"
   },
   {
    "duration": 200,
    "start_time": "2022-05-14T11:05:47.862Z"
   },
   {
    "duration": 152,
    "start_time": "2022-05-14T11:05:48.064Z"
   },
   {
    "duration": 223,
    "start_time": "2022-05-14T11:05:48.218Z"
   },
   {
    "duration": 200,
    "start_time": "2022-05-14T11:05:48.443Z"
   },
   {
    "duration": 828,
    "start_time": "2022-05-14T11:05:48.647Z"
   },
   {
    "duration": 168,
    "start_time": "2022-05-14T11:05:49.477Z"
   },
   {
    "duration": 129,
    "start_time": "2022-05-14T11:05:49.647Z"
   },
   {
    "duration": 0,
    "start_time": "2022-05-14T11:05:49.778Z"
   },
   {
    "duration": 0,
    "start_time": "2022-05-14T11:05:49.779Z"
   },
   {
    "duration": 0,
    "start_time": "2022-05-14T11:05:49.780Z"
   },
   {
    "duration": 0,
    "start_time": "2022-05-14T11:05:49.781Z"
   },
   {
    "duration": 0,
    "start_time": "2022-05-14T11:05:49.782Z"
   },
   {
    "duration": 0,
    "start_time": "2022-05-14T11:05:49.783Z"
   },
   {
    "duration": 0,
    "start_time": "2022-05-14T11:05:49.784Z"
   },
   {
    "duration": 0,
    "start_time": "2022-05-14T11:05:49.785Z"
   },
   {
    "duration": 0,
    "start_time": "2022-05-14T11:05:49.786Z"
   },
   {
    "duration": 0,
    "start_time": "2022-05-14T11:05:49.787Z"
   },
   {
    "duration": 0,
    "start_time": "2022-05-14T11:05:49.788Z"
   },
   {
    "duration": 0,
    "start_time": "2022-05-14T11:05:49.789Z"
   },
   {
    "duration": 0,
    "start_time": "2022-05-14T11:05:49.790Z"
   },
   {
    "duration": 0,
    "start_time": "2022-05-14T11:05:49.791Z"
   },
   {
    "duration": 0,
    "start_time": "2022-05-14T11:05:49.792Z"
   },
   {
    "duration": 0,
    "start_time": "2022-05-14T11:05:49.826Z"
   },
   {
    "duration": 0,
    "start_time": "2022-05-14T11:05:49.827Z"
   },
   {
    "duration": 0,
    "start_time": "2022-05-14T11:05:49.828Z"
   },
   {
    "duration": 0,
    "start_time": "2022-05-14T11:05:49.832Z"
   },
   {
    "duration": 996,
    "start_time": "2022-05-14T11:11:18.309Z"
   },
   {
    "duration": 174,
    "start_time": "2022-05-14T11:11:19.307Z"
   },
   {
    "duration": 15,
    "start_time": "2022-05-14T11:11:19.569Z"
   },
   {
    "duration": 453,
    "start_time": "2022-05-14T11:11:21.222Z"
   },
   {
    "duration": 3,
    "start_time": "2022-05-14T11:11:23.517Z"
   },
   {
    "duration": 2,
    "start_time": "2022-05-14T11:11:24.191Z"
   },
   {
    "duration": 34618,
    "start_time": "2022-05-14T11:11:25.126Z"
   },
   {
    "duration": 390,
    "start_time": "2022-05-14T11:11:59.747Z"
   },
   {
    "duration": 6,
    "start_time": "2022-05-14T11:12:11.557Z"
   },
   {
    "duration": 12,
    "start_time": "2022-05-14T11:12:14.184Z"
   },
   {
    "duration": 968,
    "start_time": "2022-05-14T11:15:09.600Z"
   },
   {
    "duration": 183,
    "start_time": "2022-05-14T11:15:10.570Z"
   },
   {
    "duration": 3,
    "start_time": "2022-05-14T11:15:10.755Z"
   },
   {
    "duration": 10,
    "start_time": "2022-05-14T11:15:11.807Z"
   },
   {
    "duration": 151,
    "start_time": "2022-05-14T11:15:37.499Z"
   },
   {
    "duration": 9,
    "start_time": "2022-05-14T11:15:38.730Z"
   },
   {
    "duration": 307,
    "start_time": "2022-05-14T11:15:39.329Z"
   },
   {
    "duration": 3,
    "start_time": "2022-05-14T11:15:40.529Z"
   },
   {
    "duration": 3,
    "start_time": "2022-05-14T11:15:41.684Z"
   },
   {
    "duration": 33137,
    "start_time": "2022-05-14T11:15:42.695Z"
   },
   {
    "duration": 218,
    "start_time": "2022-05-14T11:16:31.111Z"
   },
   {
    "duration": 6,
    "start_time": "2022-05-14T11:16:35.550Z"
   },
   {
    "duration": 198,
    "start_time": "2022-05-14T11:16:40.834Z"
   },
   {
    "duration": 67071,
    "start_time": "2022-05-14T11:17:00.929Z"
   },
   {
    "duration": 63752,
    "start_time": "2022-05-14T11:18:14.769Z"
   },
   {
    "duration": 4,
    "start_time": "2022-05-14T11:19:32.933Z"
   },
   {
    "duration": 17244,
    "start_time": "2022-05-14T11:19:37.852Z"
   },
   {
    "duration": 92,
    "start_time": "2022-05-14T11:20:01.320Z"
   },
   {
    "duration": 7,
    "start_time": "2022-05-14T11:20:06.625Z"
   },
   {
    "duration": 3,
    "start_time": "2022-05-14T11:20:09.658Z"
   },
   {
    "duration": 3,
    "start_time": "2022-05-14T11:20:11.585Z"
   },
   {
    "duration": 32061,
    "start_time": "2022-05-14T11:20:13.577Z"
   },
   {
    "duration": 915,
    "start_time": "2022-05-14T11:20:55.218Z"
   },
   {
    "duration": 6,
    "start_time": "2022-05-14T11:21:00.058Z"
   },
   {
    "duration": 15,
    "start_time": "2022-05-14T11:22:14.618Z"
   },
   {
    "duration": 1909,
    "start_time": "2022-05-14T11:28:22.788Z"
   },
   {
    "duration": 946,
    "start_time": "2022-05-14T11:28:24.701Z"
   },
   {
    "duration": 27,
    "start_time": "2022-05-14T11:28:25.649Z"
   },
   {
    "duration": 3,
    "start_time": "2022-05-14T11:28:25.678Z"
   },
   {
    "duration": 17,
    "start_time": "2022-05-14T11:28:25.683Z"
   },
   {
    "duration": 177,
    "start_time": "2022-05-14T11:28:25.702Z"
   },
   {
    "duration": 1637,
    "start_time": "2022-05-14T11:28:25.880Z"
   },
   {
    "duration": 148,
    "start_time": "2022-05-14T11:28:27.519Z"
   },
   {
    "duration": 981,
    "start_time": "2022-05-14T11:28:27.670Z"
   },
   {
    "duration": 109,
    "start_time": "2022-05-14T11:28:28.653Z"
   },
   {
    "duration": 18,
    "start_time": "2022-05-14T11:28:28.764Z"
   },
   {
    "duration": 1590,
    "start_time": "2022-05-14T11:28:28.783Z"
   },
   {
    "duration": 50,
    "start_time": "2022-05-14T11:28:30.376Z"
   },
   {
    "duration": 6,
    "start_time": "2022-05-14T11:28:30.428Z"
   },
   {
    "duration": 335,
    "start_time": "2022-05-14T11:28:30.438Z"
   },
   {
    "duration": 108,
    "start_time": "2022-05-14T11:28:30.775Z"
   },
   {
    "duration": 267,
    "start_time": "2022-05-14T11:28:30.885Z"
   },
   {
    "duration": 4,
    "start_time": "2022-05-14T11:28:31.154Z"
   },
   {
    "duration": 178,
    "start_time": "2022-05-14T11:28:31.160Z"
   },
   {
    "duration": 232,
    "start_time": "2022-05-14T11:28:31.339Z"
   },
   {
    "duration": 180,
    "start_time": "2022-05-14T11:28:31.573Z"
   },
   {
    "duration": 4,
    "start_time": "2022-05-14T11:28:31.755Z"
   },
   {
    "duration": 196,
    "start_time": "2022-05-14T11:28:31.760Z"
   },
   {
    "duration": 204,
    "start_time": "2022-05-14T11:28:31.957Z"
   },
   {
    "duration": 141,
    "start_time": "2022-05-14T11:28:32.163Z"
   },
   {
    "duration": 213,
    "start_time": "2022-05-14T11:28:32.306Z"
   },
   {
    "duration": 203,
    "start_time": "2022-05-14T11:28:32.524Z"
   },
   {
    "duration": 812,
    "start_time": "2022-05-14T11:28:32.728Z"
   },
   {
    "duration": 174,
    "start_time": "2022-05-14T11:28:33.542Z"
   },
   {
    "duration": 4,
    "start_time": "2022-05-14T11:28:33.718Z"
   },
   {
    "duration": 153,
    "start_time": "2022-05-14T11:28:33.724Z"
   },
   {
    "duration": 5,
    "start_time": "2022-05-14T11:28:33.879Z"
   },
   {
    "duration": 316,
    "start_time": "2022-05-14T11:28:33.886Z"
   },
   {
    "duration": 3,
    "start_time": "2022-05-14T11:28:34.204Z"
   },
   {
    "duration": 21,
    "start_time": "2022-05-14T11:28:34.209Z"
   },
   {
    "duration": 37797,
    "start_time": "2022-05-14T11:28:34.232Z"
   },
   {
    "duration": 214,
    "start_time": "2022-05-14T11:29:12.031Z"
   },
   {
    "duration": 95,
    "start_time": "2022-05-14T11:29:12.328Z"
   },
   {
    "duration": 66469,
    "start_time": "2022-05-14T11:29:12.425Z"
   },
   {
    "duration": 59851,
    "start_time": "2022-05-14T11:30:18.896Z"
   },
   {
    "duration": 4,
    "start_time": "2022-05-14T11:31:18.748Z"
   },
   {
    "duration": 18121,
    "start_time": "2022-05-14T11:31:18.753Z"
   },
   {
    "duration": 92,
    "start_time": "2022-05-14T11:31:36.876Z"
   },
   {
    "duration": 5,
    "start_time": "2022-05-14T11:31:36.970Z"
   },
   {
    "duration": 4,
    "start_time": "2022-05-14T11:31:36.977Z"
   },
   {
    "duration": 3,
    "start_time": "2022-05-14T11:31:36.983Z"
   },
   {
    "duration": 32052,
    "start_time": "2022-05-14T11:31:36.988Z"
   },
   {
    "duration": 894,
    "start_time": "2022-05-14T11:32:09.041Z"
   },
   {
    "duration": 6,
    "start_time": "2022-05-14T11:32:09.937Z"
   },
   {
    "duration": 30,
    "start_time": "2022-05-14T11:32:09.945Z"
   },
   {
    "duration": 11,
    "start_time": "2022-05-14T11:35:11.026Z"
   },
   {
    "duration": 871,
    "start_time": "2022-05-14T11:35:30.313Z"
   },
   {
    "duration": 1816,
    "start_time": "2022-05-14T11:46:14.042Z"
   },
   {
    "duration": 998,
    "start_time": "2022-05-14T11:46:15.861Z"
   },
   {
    "duration": 43,
    "start_time": "2022-05-14T11:46:16.861Z"
   },
   {
    "duration": 4,
    "start_time": "2022-05-14T11:46:16.907Z"
   },
   {
    "duration": 21,
    "start_time": "2022-05-14T11:46:16.923Z"
   },
   {
    "duration": 163,
    "start_time": "2022-05-14T11:46:16.947Z"
   },
   {
    "duration": 1907,
    "start_time": "2022-05-14T11:46:17.112Z"
   },
   {
    "duration": 243,
    "start_time": "2022-05-14T11:46:19.021Z"
   },
   {
    "duration": 1355,
    "start_time": "2022-05-14T11:46:19.267Z"
   },
   {
    "duration": 112,
    "start_time": "2022-05-14T11:46:20.627Z"
   },
   {
    "duration": 21,
    "start_time": "2022-05-14T11:46:20.741Z"
   },
   {
    "duration": 1565,
    "start_time": "2022-05-14T11:46:20.764Z"
   },
   {
    "duration": 36,
    "start_time": "2022-05-14T11:46:22.331Z"
   },
   {
    "duration": 4,
    "start_time": "2022-05-14T11:46:22.369Z"
   },
   {
    "duration": 339,
    "start_time": "2022-05-14T11:46:22.375Z"
   },
   {
    "duration": 116,
    "start_time": "2022-05-14T11:46:22.716Z"
   },
   {
    "duration": 231,
    "start_time": "2022-05-14T11:46:22.833Z"
   },
   {
    "duration": 4,
    "start_time": "2022-05-14T11:46:23.066Z"
   },
   {
    "duration": 181,
    "start_time": "2022-05-14T11:46:23.072Z"
   },
   {
    "duration": 236,
    "start_time": "2022-05-14T11:46:23.255Z"
   },
   {
    "duration": 185,
    "start_time": "2022-05-14T11:46:23.493Z"
   },
   {
    "duration": 3,
    "start_time": "2022-05-14T11:46:23.680Z"
   },
   {
    "duration": 201,
    "start_time": "2022-05-14T11:46:23.685Z"
   },
   {
    "duration": 207,
    "start_time": "2022-05-14T11:46:23.888Z"
   },
   {
    "duration": 149,
    "start_time": "2022-05-14T11:46:24.097Z"
   },
   {
    "duration": 217,
    "start_time": "2022-05-14T11:46:24.248Z"
   },
   {
    "duration": 194,
    "start_time": "2022-05-14T11:46:24.467Z"
   },
   {
    "duration": 916,
    "start_time": "2022-05-14T11:46:24.665Z"
   },
   {
    "duration": 176,
    "start_time": "2022-05-14T11:46:25.583Z"
   },
   {
    "duration": 3,
    "start_time": "2022-05-14T11:46:25.761Z"
   },
   {
    "duration": 163,
    "start_time": "2022-05-14T11:46:25.766Z"
   },
   {
    "duration": 6,
    "start_time": "2022-05-14T11:46:25.932Z"
   },
   {
    "duration": 313,
    "start_time": "2022-05-14T11:46:25.940Z"
   },
   {
    "duration": 3,
    "start_time": "2022-05-14T11:46:26.255Z"
   },
   {
    "duration": 5,
    "start_time": "2022-05-14T11:46:26.259Z"
   },
   {
    "duration": 33673,
    "start_time": "2022-05-14T11:46:26.266Z"
   },
   {
    "duration": 287,
    "start_time": "2022-05-14T11:46:59.941Z"
   },
   {
    "duration": 93,
    "start_time": "2022-05-14T11:47:00.231Z"
   },
   {
    "duration": 66017,
    "start_time": "2022-05-14T11:47:00.330Z"
   },
   {
    "duration": 62095,
    "start_time": "2022-05-14T11:48:06.350Z"
   },
   {
    "duration": 3,
    "start_time": "2022-05-14T11:49:08.447Z"
   },
   {
    "duration": 17603,
    "start_time": "2022-05-14T11:49:08.452Z"
   },
   {
    "duration": 91,
    "start_time": "2022-05-14T11:49:26.056Z"
   },
   {
    "duration": 5,
    "start_time": "2022-05-14T11:49:26.149Z"
   },
   {
    "duration": 14,
    "start_time": "2022-05-14T11:49:26.155Z"
   },
   {
    "duration": 8,
    "start_time": "2022-05-14T11:49:26.171Z"
   },
   {
    "duration": 33752,
    "start_time": "2022-05-14T11:49:26.181Z"
   },
   {
    "duration": 908,
    "start_time": "2022-05-14T11:49:59.936Z"
   },
   {
    "duration": 5,
    "start_time": "2022-05-14T11:50:00.846Z"
   },
   {
    "duration": 14,
    "start_time": "2022-05-14T11:50:00.853Z"
   },
   {
    "duration": 11,
    "start_time": "2022-05-14T11:50:40.996Z"
   },
   {
    "duration": 1885,
    "start_time": "2022-05-15T06:23:10.321Z"
   },
   {
    "duration": 775,
    "start_time": "2022-05-15T06:23:12.208Z"
   },
   {
    "duration": 24,
    "start_time": "2022-05-15T06:23:12.985Z"
   },
   {
    "duration": 3,
    "start_time": "2022-05-15T06:23:20.366Z"
   },
   {
    "duration": 13,
    "start_time": "2022-05-15T06:23:21.018Z"
   },
   {
    "duration": 125,
    "start_time": "2022-05-15T06:23:25.829Z"
   },
   {
    "duration": 1361,
    "start_time": "2022-05-15T06:23:26.800Z"
   },
   {
    "duration": 567,
    "start_time": "2022-05-15T06:23:43.222Z"
   },
   {
    "duration": 663,
    "start_time": "2022-05-15T06:24:47.114Z"
   },
   {
    "duration": 123,
    "start_time": "2022-05-15T06:24:52.466Z"
   },
   {
    "duration": 893,
    "start_time": "2022-05-15T06:25:19.966Z"
   },
   {
    "duration": 26,
    "start_time": "2022-05-15T06:25:32.721Z"
   },
   {
    "duration": 1284,
    "start_time": "2022-05-15T06:25:44.092Z"
   },
   {
    "duration": 36,
    "start_time": "2022-05-15T06:26:16.054Z"
   },
   {
    "duration": 4,
    "start_time": "2022-05-15T06:27:48.867Z"
   },
   {
    "duration": 211,
    "start_time": "2022-05-15T06:27:49.316Z"
   },
   {
    "duration": 89,
    "start_time": "2022-05-15T06:28:37.506Z"
   },
   {
    "duration": 150,
    "start_time": "2022-05-15T06:28:57.759Z"
   },
   {
    "duration": 208,
    "start_time": "2022-05-15T06:29:00.979Z"
   },
   {
    "duration": 4,
    "start_time": "2022-05-15T06:29:50.241Z"
   },
   {
    "duration": 146,
    "start_time": "2022-05-15T06:29:50.819Z"
   },
   {
    "duration": 156,
    "start_time": "2022-05-15T06:30:25.908Z"
   },
   {
    "duration": 172,
    "start_time": "2022-05-15T06:30:47.449Z"
   },
   {
    "duration": 158,
    "start_time": "2022-05-15T06:30:51.389Z"
   },
   {
    "duration": 3,
    "start_time": "2022-05-15T06:31:08.958Z"
   },
   {
    "duration": 176,
    "start_time": "2022-05-15T06:31:09.968Z"
   },
   {
    "duration": 182,
    "start_time": "2022-05-15T06:31:30.027Z"
   },
   {
    "duration": 130,
    "start_time": "2022-05-15T06:31:30.635Z"
   },
   {
    "duration": 291,
    "start_time": "2022-05-15T06:31:33.695Z"
   },
   {
    "duration": 169,
    "start_time": "2022-05-15T06:31:34.054Z"
   },
   {
    "duration": 6,
    "start_time": "2022-05-15T06:32:59.411Z"
   },
   {
    "duration": 5,
    "start_time": "2022-05-15T06:33:06.523Z"
   },
   {
    "duration": 6,
    "start_time": "2022-05-15T06:33:13.615Z"
   },
   {
    "duration": 690,
    "start_time": "2022-05-15T06:35:30.276Z"
   },
   {
    "duration": 176,
    "start_time": "2022-05-15T06:35:52.246Z"
   },
   {
    "duration": 3,
    "start_time": "2022-05-15T06:35:55.569Z"
   },
   {
    "duration": 129,
    "start_time": "2022-05-15T06:35:59.678Z"
   },
   {
    "duration": 6,
    "start_time": "2022-05-15T06:36:06.277Z"
   },
   {
    "duration": 301,
    "start_time": "2022-05-15T06:36:55.497Z"
   },
   {
    "duration": 3,
    "start_time": "2022-05-15T06:38:13.257Z"
   },
   {
    "duration": 2,
    "start_time": "2022-05-15T06:38:14.662Z"
   },
   {
    "duration": 3,
    "start_time": "2022-05-15T06:38:41.360Z"
   },
   {
    "duration": 23249,
    "start_time": "2022-05-15T06:38:42.995Z"
   },
   {
    "duration": 31,
    "start_time": "2022-05-15T06:39:13.515Z"
   },
   {
    "duration": 172,
    "start_time": "2022-05-15T08:00:30.505Z"
   },
   {
    "duration": 46,
    "start_time": "2022-05-15T08:14:46.455Z"
   },
   {
    "duration": 1837,
    "start_time": "2022-05-15T08:15:28.320Z"
   },
   {
    "duration": 870,
    "start_time": "2022-05-15T08:15:30.159Z"
   },
   {
    "duration": 26,
    "start_time": "2022-05-15T08:15:31.031Z"
   },
   {
    "duration": 11,
    "start_time": "2022-05-15T08:15:31.059Z"
   },
   {
    "duration": 13,
    "start_time": "2022-05-15T08:15:31.131Z"
   },
   {
    "duration": 132,
    "start_time": "2022-05-15T08:15:32.001Z"
   },
   {
    "duration": 1732,
    "start_time": "2022-05-15T08:15:32.800Z"
   },
   {
    "duration": 134,
    "start_time": "2022-05-15T08:15:34.534Z"
   },
   {
    "duration": 894,
    "start_time": "2022-05-15T08:15:37.077Z"
   },
   {
    "duration": 107,
    "start_time": "2022-05-15T08:15:37.973Z"
   },
   {
    "duration": 17,
    "start_time": "2022-05-15T08:15:38.872Z"
   },
   {
    "duration": 1458,
    "start_time": "2022-05-15T08:15:45.502Z"
   },
   {
    "duration": 41,
    "start_time": "2022-05-15T08:15:49.678Z"
   },
   {
    "duration": 4,
    "start_time": "2022-05-15T08:15:57.461Z"
   },
   {
    "duration": 236,
    "start_time": "2022-05-15T08:15:58.382Z"
   },
   {
    "duration": 83,
    "start_time": "2022-05-15T08:16:00.476Z"
   },
   {
    "duration": 212,
    "start_time": "2022-05-15T08:16:01.928Z"
   },
   {
    "duration": 4,
    "start_time": "2022-05-15T08:16:07.488Z"
   },
   {
    "duration": 252,
    "start_time": "2022-05-15T08:16:09.742Z"
   },
   {
    "duration": 212,
    "start_time": "2022-05-15T08:16:11.614Z"
   },
   {
    "duration": 177,
    "start_time": "2022-05-15T08:16:16.510Z"
   },
   {
    "duration": 4,
    "start_time": "2022-05-15T08:16:19.293Z"
   },
   {
    "duration": 191,
    "start_time": "2022-05-15T08:16:19.963Z"
   },
   {
    "duration": 191,
    "start_time": "2022-05-15T08:16:21.359Z"
   },
   {
    "duration": 160,
    "start_time": "2022-05-15T08:16:22.832Z"
   },
   {
    "duration": 197,
    "start_time": "2022-05-15T08:16:24.390Z"
   },
   {
    "duration": 189,
    "start_time": "2022-05-15T08:16:26.046Z"
   },
   {
    "duration": 651,
    "start_time": "2022-05-15T08:16:32.661Z"
   },
   {
    "duration": 159,
    "start_time": "2022-05-15T08:16:34.662Z"
   },
   {
    "duration": 3,
    "start_time": "2022-05-15T08:16:36.054Z"
   },
   {
    "duration": 121,
    "start_time": "2022-05-15T08:16:44.605Z"
   },
   {
    "duration": 5,
    "start_time": "2022-05-15T08:16:49.207Z"
   },
   {
    "duration": 274,
    "start_time": "2022-05-15T08:16:51.526Z"
   },
   {
    "duration": 177,
    "start_time": "2022-05-15T08:16:55.666Z"
   },
   {
    "duration": 41,
    "start_time": "2022-05-15T08:23:12.456Z"
   },
   {
    "duration": 121,
    "start_time": "2022-05-15T08:23:15.130Z"
   },
   {
    "duration": 3,
    "start_time": "2022-05-15T08:23:26.808Z"
   },
   {
    "duration": 3,
    "start_time": "2022-05-15T08:23:28.677Z"
   },
   {
    "duration": 21698,
    "start_time": "2022-05-15T08:23:31.141Z"
   },
   {
    "duration": 227,
    "start_time": "2022-05-15T08:24:02.815Z"
   },
   {
    "duration": 5,
    "start_time": "2022-05-15T08:24:06.231Z"
   },
   {
    "duration": 531,
    "start_time": "2022-05-15T08:25:16.900Z"
   },
   {
    "duration": 167,
    "start_time": "2022-05-15T08:25:18.337Z"
   },
   {
    "duration": 3,
    "start_time": "2022-05-15T08:25:20.726Z"
   },
   {
    "duration": 5,
    "start_time": "2022-05-15T08:25:23.229Z"
   },
   {
    "duration": 5,
    "start_time": "2022-05-15T08:25:24.677Z"
   },
   {
    "duration": 43,
    "start_time": "2022-05-15T08:25:28.049Z"
   },
   {
    "duration": 117,
    "start_time": "2022-05-15T08:25:37.245Z"
   },
   {
    "duration": 3,
    "start_time": "2022-05-15T08:25:40.684Z"
   },
   {
    "duration": 2,
    "start_time": "2022-05-15T08:25:44.020Z"
   },
   {
    "duration": 18951,
    "start_time": "2022-05-15T08:25:58.887Z"
   },
   {
    "duration": 197,
    "start_time": "2022-05-15T08:26:22.151Z"
   },
   {
    "duration": 5,
    "start_time": "2022-05-15T08:26:25.580Z"
   },
   {
    "duration": 45849,
    "start_time": "2022-05-15T08:27:58.510Z"
   },
   {
    "duration": 49221,
    "start_time": "2022-05-15T08:28:51.592Z"
   },
   {
    "duration": 3,
    "start_time": "2022-05-15T08:29:59.906Z"
   },
   {
    "duration": 12214,
    "start_time": "2022-05-15T08:30:05.630Z"
   },
   {
    "duration": 62,
    "start_time": "2022-05-15T08:30:24.214Z"
   },
   {
    "duration": 5,
    "start_time": "2022-05-15T08:30:29.404Z"
   },
   {
    "duration": 3,
    "start_time": "2022-05-15T08:30:33.740Z"
   },
   {
    "duration": 3,
    "start_time": "2022-05-15T08:30:35.259Z"
   },
   {
    "duration": 3761,
    "start_time": "2022-05-15T08:30:37.085Z"
   },
   {
    "duration": 540,
    "start_time": "2022-05-15T08:30:47.702Z"
   },
   {
    "duration": 5,
    "start_time": "2022-05-15T08:30:58.901Z"
   },
   {
    "duration": 47,
    "start_time": "2022-05-16T03:54:50.345Z"
   },
   {
    "duration": 1728,
    "start_time": "2022-05-16T03:55:09.708Z"
   },
   {
    "duration": 866,
    "start_time": "2022-05-16T03:55:11.438Z"
   },
   {
    "duration": 26,
    "start_time": "2022-05-16T03:55:12.306Z"
   },
   {
    "duration": 3,
    "start_time": "2022-05-16T03:55:12.334Z"
   },
   {
    "duration": 13,
    "start_time": "2022-05-16T03:55:12.507Z"
   },
   {
    "duration": 142,
    "start_time": "2022-05-16T03:55:13.687Z"
   },
   {
    "duration": 1602,
    "start_time": "2022-05-16T03:55:14.975Z"
   },
   {
    "duration": 142,
    "start_time": "2022-05-16T03:55:16.579Z"
   },
   {
    "duration": 910,
    "start_time": "2022-05-16T03:55:18.913Z"
   },
   {
    "duration": 105,
    "start_time": "2022-05-16T03:55:19.825Z"
   },
   {
    "duration": 17,
    "start_time": "2022-05-16T03:55:20.786Z"
   },
   {
    "duration": 1354,
    "start_time": "2022-05-16T03:55:23.362Z"
   },
   {
    "duration": 33,
    "start_time": "2022-05-16T03:55:26.853Z"
   },
   {
    "duration": 4,
    "start_time": "2022-05-16T03:55:34.807Z"
   },
   {
    "duration": 213,
    "start_time": "2022-05-16T03:55:36.228Z"
   },
   {
    "duration": 82,
    "start_time": "2022-05-16T03:55:38.811Z"
   },
   {
    "duration": 190,
    "start_time": "2022-05-16T03:55:40.020Z"
   },
   {
    "duration": 4,
    "start_time": "2022-05-16T03:55:47.139Z"
   },
   {
    "duration": 226,
    "start_time": "2022-05-16T03:55:49.355Z"
   },
   {
    "duration": 203,
    "start_time": "2022-05-16T03:55:50.705Z"
   },
   {
    "duration": 195,
    "start_time": "2022-05-16T03:55:52.292Z"
   },
   {
    "duration": 4,
    "start_time": "2022-05-16T03:55:53.894Z"
   },
   {
    "duration": 190,
    "start_time": "2022-05-16T03:55:54.818Z"
   },
   {
    "duration": 189,
    "start_time": "2022-05-16T03:55:55.947Z"
   },
   {
    "duration": 146,
    "start_time": "2022-05-16T03:55:57.378Z"
   },
   {
    "duration": 202,
    "start_time": "2022-05-16T03:55:58.754Z"
   },
   {
    "duration": 181,
    "start_time": "2022-05-16T03:55:59.675Z"
   },
   {
    "duration": 10,
    "start_time": "2022-05-16T03:56:02.144Z"
   },
   {
    "duration": 18,
    "start_time": "2022-05-16T03:56:53.133Z"
   },
   {
    "duration": 488,
    "start_time": "2022-05-16T03:56:57.629Z"
   },
   {
    "duration": 158,
    "start_time": "2022-05-16T03:56:59.950Z"
   },
   {
    "duration": 3,
    "start_time": "2022-05-16T03:57:01.422Z"
   },
   {
    "duration": 117,
    "start_time": "2022-05-16T03:57:38.950Z"
   },
   {
    "duration": 5,
    "start_time": "2022-05-16T03:57:39.894Z"
   },
   {
    "duration": 40,
    "start_time": "2022-05-16T03:57:41.324Z"
   },
   {
    "duration": 109,
    "start_time": "2022-05-16T03:57:45.496Z"
   },
   {
    "duration": 3,
    "start_time": "2022-05-16T03:57:46.742Z"
   },
   {
    "duration": 2,
    "start_time": "2022-05-16T03:57:49.828Z"
   },
   {
    "duration": 137,
    "start_time": "2022-05-16T03:57:51.064Z"
   },
   {
    "duration": 319,
    "start_time": "2022-05-16T04:05:46.718Z"
   },
   {
    "duration": 2,
    "start_time": "2022-05-16T04:05:47.472Z"
   },
   {
    "duration": 7,
    "start_time": "2022-05-16T04:05:48.093Z"
   },
   {
    "duration": 5,
    "start_time": "2022-05-16T04:05:49.768Z"
   },
   {
    "duration": 40,
    "start_time": "2022-05-16T04:05:50.838Z"
   },
   {
    "duration": 110,
    "start_time": "2022-05-16T04:05:53.588Z"
   },
   {
    "duration": 2,
    "start_time": "2022-05-16T04:05:54.751Z"
   },
   {
    "duration": 2,
    "start_time": "2022-05-16T04:05:56.159Z"
   },
   {
    "duration": 16504,
    "start_time": "2022-05-16T04:05:57.311Z"
   },
   {
    "duration": 158,
    "start_time": "2022-05-16T04:06:24.560Z"
   },
   {
    "duration": 5,
    "start_time": "2022-05-16T04:06:27.696Z"
   },
   {
    "duration": 39871,
    "start_time": "2022-05-16T04:06:33.222Z"
   },
   {
    "duration": 41310,
    "start_time": "2022-05-16T04:07:28.585Z"
   },
   {
    "duration": 2,
    "start_time": "2022-05-16T04:08:09.898Z"
   },
   {
    "duration": 11279,
    "start_time": "2022-05-16T04:08:10.791Z"
   },
   {
    "duration": 57,
    "start_time": "2022-05-16T04:08:42.631Z"
   },
   {
    "duration": 5,
    "start_time": "2022-05-16T04:08:45.246Z"
   },
   {
    "duration": 2,
    "start_time": "2022-05-16T04:08:50.411Z"
   },
   {
    "duration": 3,
    "start_time": "2022-05-16T04:08:56.241Z"
   },
   {
    "duration": 3693,
    "start_time": "2022-05-16T04:08:59.225Z"
   },
   {
    "duration": 551,
    "start_time": "2022-05-16T04:09:10.257Z"
   },
   {
    "duration": 5,
    "start_time": "2022-05-16T04:09:14.801Z"
   },
   {
    "duration": 3,
    "start_time": "2022-05-16T05:42:37.470Z"
   },
   {
    "duration": 6618,
    "start_time": "2022-05-16T05:42:40.089Z"
   },
   {
    "duration": 58,
    "start_time": "2022-05-16T05:42:51.102Z"
   },
   {
    "duration": 5,
    "start_time": "2022-05-16T05:43:33.951Z"
   },
   {
    "duration": 5,
    "start_time": "2022-05-16T05:46:46.408Z"
   },
   {
    "duration": 16,
    "start_time": "2022-05-16T05:54:35.788Z"
   },
   {
    "duration": 5,
    "start_time": "2022-05-16T05:56:45.723Z"
   },
   {
    "duration": 15,
    "start_time": "2022-05-16T05:56:46.244Z"
   },
   {
    "duration": 15,
    "start_time": "2022-05-16T05:57:23.387Z"
   },
   {
    "duration": 12,
    "start_time": "2022-05-16T06:01:14.396Z"
   },
   {
    "duration": 11,
    "start_time": "2022-05-16T06:05:19.384Z"
   },
   {
    "duration": 369,
    "start_time": "2022-05-16T06:05:46.235Z"
   },
   {
    "duration": 337,
    "start_time": "2022-05-16T06:06:16.342Z"
   },
   {
    "duration": 402,
    "start_time": "2022-05-16T06:06:42.392Z"
   },
   {
    "duration": 10,
    "start_time": "2022-05-16T06:07:13.030Z"
   },
   {
    "duration": 12,
    "start_time": "2022-05-16T06:11:30.614Z"
   },
   {
    "duration": 10,
    "start_time": "2022-05-16T06:19:43.731Z"
   },
   {
    "duration": 1488,
    "start_time": "2022-05-16T06:53:52.554Z"
   },
   {
    "duration": 2277,
    "start_time": "2022-05-16T06:53:54.044Z"
   },
   {
    "duration": 26,
    "start_time": "2022-05-16T06:53:56.323Z"
   },
   {
    "duration": 3,
    "start_time": "2022-05-16T06:53:56.351Z"
   },
   {
    "duration": 16,
    "start_time": "2022-05-16T06:53:56.356Z"
   },
   {
    "duration": 159,
    "start_time": "2022-05-16T06:53:56.373Z"
   },
   {
    "duration": 1655,
    "start_time": "2022-05-16T06:53:56.535Z"
   },
   {
    "duration": 141,
    "start_time": "2022-05-16T06:53:58.192Z"
   },
   {
    "duration": 866,
    "start_time": "2022-05-16T06:53:58.334Z"
   },
   {
    "duration": 89,
    "start_time": "2022-05-16T06:53:59.203Z"
   },
   {
    "duration": 27,
    "start_time": "2022-05-16T06:53:59.293Z"
   },
   {
    "duration": 1387,
    "start_time": "2022-05-16T06:53:59.321Z"
   },
   {
    "duration": 35,
    "start_time": "2022-05-16T06:54:00.709Z"
   },
   {
    "duration": 4,
    "start_time": "2022-05-16T06:54:00.746Z"
   },
   {
    "duration": 306,
    "start_time": "2022-05-16T06:54:00.751Z"
   },
   {
    "duration": 89,
    "start_time": "2022-05-16T06:54:01.058Z"
   },
   {
    "duration": 205,
    "start_time": "2022-05-16T06:54:01.149Z"
   },
   {
    "duration": 5,
    "start_time": "2022-05-16T06:54:01.355Z"
   },
   {
    "duration": 182,
    "start_time": "2022-05-16T06:54:01.361Z"
   },
   {
    "duration": 211,
    "start_time": "2022-05-16T06:54:01.544Z"
   },
   {
    "duration": 175,
    "start_time": "2022-05-16T06:54:01.757Z"
   },
   {
    "duration": 3,
    "start_time": "2022-05-16T06:54:01.934Z"
   },
   {
    "duration": 189,
    "start_time": "2022-05-16T06:54:01.939Z"
   },
   {
    "duration": 193,
    "start_time": "2022-05-16T06:54:02.130Z"
   },
   {
    "duration": 151,
    "start_time": "2022-05-16T06:54:02.324Z"
   },
   {
    "duration": 196,
    "start_time": "2022-05-16T06:54:02.477Z"
   },
   {
    "duration": 195,
    "start_time": "2022-05-16T06:54:02.675Z"
   },
   {
    "duration": 11,
    "start_time": "2022-05-16T06:54:02.873Z"
   },
   {
    "duration": 33,
    "start_time": "2022-05-16T06:54:02.885Z"
   },
   {
    "duration": 535,
    "start_time": "2022-05-16T06:54:02.919Z"
   },
   {
    "duration": 391,
    "start_time": "2022-05-16T06:54:03.456Z"
   },
   {
    "duration": 2,
    "start_time": "2022-05-16T06:54:03.849Z"
   },
   {
    "duration": 130,
    "start_time": "2022-05-16T06:54:03.853Z"
   },
   {
    "duration": 5,
    "start_time": "2022-05-16T06:54:03.985Z"
   },
   {
    "duration": 52,
    "start_time": "2022-05-16T06:54:03.992Z"
   },
   {
    "duration": 135,
    "start_time": "2022-05-16T06:54:04.046Z"
   },
   {
    "duration": 3,
    "start_time": "2022-05-16T06:54:04.182Z"
   },
   {
    "duration": 8,
    "start_time": "2022-05-16T06:54:04.187Z"
   },
   {
    "duration": 17514,
    "start_time": "2022-05-16T06:54:04.197Z"
   },
   {
    "duration": 294,
    "start_time": "2022-05-16T06:54:21.713Z"
   },
   {
    "duration": 97,
    "start_time": "2022-05-16T06:54:22.012Z"
   },
   {
    "duration": 40623,
    "start_time": "2022-05-16T06:54:22.111Z"
   },
   {
    "duration": 42576,
    "start_time": "2022-05-16T06:55:02.736Z"
   },
   {
    "duration": 4,
    "start_time": "2022-05-16T06:55:45.314Z"
   },
   {
    "duration": 11598,
    "start_time": "2022-05-16T06:55:45.319Z"
   },
   {
    "duration": 59,
    "start_time": "2022-05-16T06:55:56.918Z"
   },
   {
    "duration": 4,
    "start_time": "2022-05-16T06:55:56.979Z"
   },
   {
    "duration": 4,
    "start_time": "2022-05-16T06:55:56.985Z"
   },
   {
    "duration": 20,
    "start_time": "2022-05-16T06:55:56.990Z"
   },
   {
    "duration": 3804,
    "start_time": "2022-05-16T06:55:57.012Z"
   },
   {
    "duration": 600,
    "start_time": "2022-05-16T06:56:00.818Z"
   },
   {
    "duration": 6,
    "start_time": "2022-05-16T06:56:01.419Z"
   },
   {
    "duration": 11,
    "start_time": "2022-05-16T06:56:01.426Z"
   },
   {
    "duration": 5911,
    "start_time": "2022-05-16T06:56:01.439Z"
   },
   {
    "duration": 60,
    "start_time": "2022-05-16T06:56:07.351Z"
   },
   {
    "duration": 5,
    "start_time": "2022-05-16T06:56:07.412Z"
   },
   {
    "duration": 11,
    "start_time": "2022-05-16T06:56:07.419Z"
   },
   {
    "duration": 2344,
    "start_time": "2022-05-16T12:29:52.827Z"
   },
   {
    "duration": 1046,
    "start_time": "2022-05-16T12:29:55.174Z"
   },
   {
    "duration": 47,
    "start_time": "2022-05-16T12:29:56.223Z"
   },
   {
    "duration": 5,
    "start_time": "2022-05-16T12:29:56.272Z"
   },
   {
    "duration": 20,
    "start_time": "2022-05-16T12:29:56.280Z"
   },
   {
    "duration": 198,
    "start_time": "2022-05-16T12:29:56.302Z"
   },
   {
    "duration": 2237,
    "start_time": "2022-05-16T12:29:56.502Z"
   },
   {
    "duration": 164,
    "start_time": "2022-05-16T12:29:58.741Z"
   },
   {
    "duration": 1035,
    "start_time": "2022-05-16T12:29:58.908Z"
   },
   {
    "duration": 129,
    "start_time": "2022-05-16T12:29:59.946Z"
   },
   {
    "duration": 30,
    "start_time": "2022-05-16T12:30:00.077Z"
   },
   {
    "duration": 1719,
    "start_time": "2022-05-16T12:30:00.109Z"
   },
   {
    "duration": 67,
    "start_time": "2022-05-16T12:30:01.830Z"
   },
   {
    "duration": 5,
    "start_time": "2022-05-16T12:30:01.901Z"
   },
   {
    "duration": 416,
    "start_time": "2022-05-16T12:30:01.908Z"
   },
   {
    "duration": 110,
    "start_time": "2022-05-16T12:30:02.326Z"
   },
   {
    "duration": 332,
    "start_time": "2022-05-16T12:30:02.438Z"
   },
   {
    "duration": 5,
    "start_time": "2022-05-16T12:30:02.772Z"
   },
   {
    "duration": 313,
    "start_time": "2022-05-16T12:30:02.780Z"
   },
   {
    "duration": 326,
    "start_time": "2022-05-16T12:30:03.095Z"
   },
   {
    "duration": 271,
    "start_time": "2022-05-16T12:30:03.423Z"
   },
   {
    "duration": 6,
    "start_time": "2022-05-16T12:30:03.696Z"
   },
   {
    "duration": 318,
    "start_time": "2022-05-16T12:30:03.703Z"
   },
   {
    "duration": 321,
    "start_time": "2022-05-16T12:30:04.023Z"
   },
   {
    "duration": 264,
    "start_time": "2022-05-16T12:30:04.346Z"
   },
   {
    "duration": 326,
    "start_time": "2022-05-16T12:30:04.612Z"
   },
   {
    "duration": 316,
    "start_time": "2022-05-16T12:30:04.940Z"
   },
   {
    "duration": 15,
    "start_time": "2022-05-16T12:30:05.258Z"
   },
   {
    "duration": 35,
    "start_time": "2022-05-16T12:30:05.275Z"
   },
   {
    "duration": 629,
    "start_time": "2022-05-16T12:30:05.313Z"
   },
   {
    "duration": 496,
    "start_time": "2022-05-16T12:30:05.945Z"
   },
   {
    "duration": 4,
    "start_time": "2022-05-16T12:30:06.444Z"
   },
   {
    "duration": 206,
    "start_time": "2022-05-16T12:30:06.450Z"
   },
   {
    "duration": 7,
    "start_time": "2022-05-16T12:30:06.658Z"
   },
   {
    "duration": 53,
    "start_time": "2022-05-16T12:30:06.667Z"
   },
   {
    "duration": 181,
    "start_time": "2022-05-16T12:30:06.723Z"
   },
   {
    "duration": 4,
    "start_time": "2022-05-16T12:30:06.906Z"
   },
   {
    "duration": 6,
    "start_time": "2022-05-16T12:30:06.912Z"
   },
   {
    "duration": 38,
    "start_time": "2022-05-16T12:32:03.594Z"
   },
   {
    "duration": 50,
    "start_time": "2022-05-16T13:12:57.969Z"
   },
   {
    "duration": 2011,
    "start_time": "2022-05-16T13:13:12.420Z"
   },
   {
    "duration": 1088,
    "start_time": "2022-05-16T13:13:14.433Z"
   },
   {
    "duration": 35,
    "start_time": "2022-05-16T13:13:15.523Z"
   },
   {
    "duration": 3,
    "start_time": "2022-05-16T13:13:15.561Z"
   },
   {
    "duration": 19,
    "start_time": "2022-05-16T13:13:15.566Z"
   },
   {
    "duration": 155,
    "start_time": "2022-05-16T13:13:15.949Z"
   },
   {
    "duration": 1795,
    "start_time": "2022-05-16T13:13:16.756Z"
   },
   {
    "duration": 133,
    "start_time": "2022-05-16T13:13:18.553Z"
   },
   {
    "duration": 926,
    "start_time": "2022-05-16T13:13:20.898Z"
   },
   {
    "duration": 98,
    "start_time": "2022-05-16T13:13:21.826Z"
   },
   {
    "duration": 26,
    "start_time": "2022-05-16T13:13:22.643Z"
   },
   {
    "duration": 1332,
    "start_time": "2022-05-16T13:13:25.067Z"
   },
   {
    "duration": 35,
    "start_time": "2022-05-16T13:13:26.401Z"
   },
   {
    "duration": 4,
    "start_time": "2022-05-16T13:13:31.818Z"
   },
   {
    "duration": 203,
    "start_time": "2022-05-16T13:13:32.677Z"
   },
   {
    "duration": 81,
    "start_time": "2022-05-16T13:13:35.515Z"
   },
   {
    "duration": 200,
    "start_time": "2022-05-16T13:13:36.503Z"
   },
   {
    "duration": 4,
    "start_time": "2022-05-16T13:13:38.676Z"
   },
   {
    "duration": 358,
    "start_time": "2022-05-16T13:13:40.202Z"
   },
   {
    "duration": 197,
    "start_time": "2022-05-16T13:13:41.465Z"
   },
   {
    "duration": 176,
    "start_time": "2022-05-16T13:13:42.842Z"
   },
   {
    "duration": 4,
    "start_time": "2022-05-16T13:13:44.362Z"
   },
   {
    "duration": 182,
    "start_time": "2022-05-16T13:13:45.320Z"
   },
   {
    "duration": 173,
    "start_time": "2022-05-16T13:13:45.861Z"
   },
   {
    "duration": 132,
    "start_time": "2022-05-16T13:13:46.500Z"
   },
   {
    "duration": 188,
    "start_time": "2022-05-16T13:13:47.251Z"
   },
   {
    "duration": 178,
    "start_time": "2022-05-16T13:13:48.346Z"
   },
   {
    "duration": 12,
    "start_time": "2022-05-16T13:13:51.921Z"
   },
   {
    "duration": 21,
    "start_time": "2022-05-16T13:13:55.680Z"
   },
   {
    "duration": 604,
    "start_time": "2022-05-16T13:13:59.681Z"
   },
   {
    "duration": 440,
    "start_time": "2022-05-16T13:14:01.200Z"
   },
   {
    "duration": 3,
    "start_time": "2022-05-16T13:14:03.762Z"
   },
   {
    "duration": 121,
    "start_time": "2022-05-16T13:14:04.488Z"
   },
   {
    "duration": 5,
    "start_time": "2022-05-16T13:14:05.276Z"
   },
   {
    "duration": 43,
    "start_time": "2022-05-16T13:14:06.786Z"
   },
   {
    "duration": 225,
    "start_time": "2022-05-16T13:14:11.443Z"
   },
   {
    "duration": 3,
    "start_time": "2022-05-16T13:14:17.234Z"
   },
   {
    "duration": 3,
    "start_time": "2022-05-16T13:14:18.563Z"
   },
   {
    "duration": 19564,
    "start_time": "2022-05-16T13:14:21.092Z"
   },
   {
    "duration": 153,
    "start_time": "2022-05-16T13:14:51.797Z"
   },
   {
    "duration": 5,
    "start_time": "2022-05-16T13:14:56.884Z"
   },
   {
    "duration": 48074,
    "start_time": "2022-05-16T13:15:09.708Z"
   },
   {
    "duration": 50468,
    "start_time": "2022-05-16T13:16:09.335Z"
   },
   {
    "duration": 3,
    "start_time": "2022-05-16T13:16:59.806Z"
   },
   {
    "duration": 12717,
    "start_time": "2022-05-16T13:17:05.182Z"
   },
   {
    "duration": 62,
    "start_time": "2022-05-16T13:17:23.179Z"
   },
   {
    "duration": 5,
    "start_time": "2022-05-16T13:17:27.796Z"
   },
   {
    "duration": 186,
    "start_time": "2022-05-16T13:19:22.358Z"
   },
   {
    "duration": 3,
    "start_time": "2022-05-16T13:21:08.511Z"
   },
   {
    "duration": 12747,
    "start_time": "2022-05-16T13:21:10.286Z"
   },
   {
    "duration": 58,
    "start_time": "2022-05-16T13:21:27.245Z"
   },
   {
    "duration": 5,
    "start_time": "2022-05-16T13:21:35.790Z"
   },
   {
    "duration": 3,
    "start_time": "2022-05-16T13:21:39.797Z"
   },
   {
    "duration": 3,
    "start_time": "2022-05-16T13:21:41.473Z"
   },
   {
    "duration": 3821,
    "start_time": "2022-05-16T13:21:42.741Z"
   },
   {
    "duration": 532,
    "start_time": "2022-05-16T13:21:59.723Z"
   },
   {
    "duration": 4,
    "start_time": "2022-05-16T13:22:03.565Z"
   },
   {
    "duration": 3,
    "start_time": "2022-05-16T13:22:08.244Z"
   },
   {
    "duration": 6033,
    "start_time": "2022-05-16T13:22:29.638Z"
   },
   {
    "duration": 63,
    "start_time": "2022-05-16T13:22:47.698Z"
   },
   {
    "duration": 7,
    "start_time": "2022-05-16T13:23:05.333Z"
   },
   {
    "duration": 13542,
    "start_time": "2022-05-16T14:41:02.717Z"
   },
   {
    "duration": 59,
    "start_time": "2022-05-16T14:41:32.267Z"
   },
   {
    "duration": 4,
    "start_time": "2022-05-16T14:41:33.747Z"
   },
   {
    "duration": 12647,
    "start_time": "2022-05-16T14:42:15.562Z"
   },
   {
    "duration": 63,
    "start_time": "2022-05-16T14:42:34.321Z"
   },
   {
    "duration": 5,
    "start_time": "2022-05-16T14:42:36.538Z"
   },
   {
    "duration": 3,
    "start_time": "2022-05-16T14:42:56.613Z"
   },
   {
    "duration": 12347,
    "start_time": "2022-05-16T14:42:57.924Z"
   },
   {
    "duration": 64,
    "start_time": "2022-05-16T14:43:12.275Z"
   },
   {
    "duration": 5,
    "start_time": "2022-05-16T14:43:15.723Z"
   },
   {
    "duration": 3,
    "start_time": "2022-05-16T14:44:01.252Z"
   },
   {
    "duration": 14500,
    "start_time": "2022-05-16T14:44:03.179Z"
   },
   {
    "duration": 64,
    "start_time": "2022-05-16T14:44:24.454Z"
   },
   {
    "duration": 5,
    "start_time": "2022-05-16T14:44:26.691Z"
   },
   {
    "duration": 3,
    "start_time": "2022-05-16T14:45:37.109Z"
   },
   {
    "duration": 6457,
    "start_time": "2022-05-16T14:45:38.407Z"
   },
   {
    "duration": 62,
    "start_time": "2022-05-16T14:45:54.731Z"
   },
   {
    "duration": 6,
    "start_time": "2022-05-16T14:46:01.375Z"
   },
   {
    "duration": 73,
    "start_time": "2022-05-16T14:52:54.306Z"
   },
   {
    "duration": 3,
    "start_time": "2022-05-16T14:55:34.497Z"
   },
   {
    "duration": 6265,
    "start_time": "2022-05-16T14:55:37.054Z"
   },
   {
    "duration": 58,
    "start_time": "2022-05-16T14:55:49.063Z"
   },
   {
    "duration": 103,
    "start_time": "2022-05-16T14:55:51.914Z"
   },
   {
    "duration": 17,
    "start_time": "2022-05-16T14:56:11.008Z"
   },
   {
    "duration": 3,
    "start_time": "2022-05-16T14:56:41.768Z"
   },
   {
    "duration": 6812,
    "start_time": "2022-05-16T14:56:42.400Z"
   },
   {
    "duration": 95,
    "start_time": "2022-05-16T14:56:52.912Z"
   },
   {
    "duration": 6,
    "start_time": "2022-05-16T14:56:59.114Z"
   },
   {
    "duration": 1701,
    "start_time": "2022-05-16T15:57:42.824Z"
   },
   {
    "duration": 829,
    "start_time": "2022-05-16T15:57:44.527Z"
   },
   {
    "duration": 27,
    "start_time": "2022-05-16T15:57:45.358Z"
   },
   {
    "duration": 3,
    "start_time": "2022-05-16T15:57:45.387Z"
   },
   {
    "duration": 15,
    "start_time": "2022-05-16T15:57:45.392Z"
   },
   {
    "duration": 163,
    "start_time": "2022-05-16T15:57:45.409Z"
   },
   {
    "duration": 1618,
    "start_time": "2022-05-16T15:57:45.574Z"
   },
   {
    "duration": 136,
    "start_time": "2022-05-16T15:57:47.193Z"
   },
   {
    "duration": 909,
    "start_time": "2022-05-16T15:57:47.330Z"
   },
   {
    "duration": 102,
    "start_time": "2022-05-16T15:57:48.242Z"
   },
   {
    "duration": 17,
    "start_time": "2022-05-16T15:57:48.350Z"
   },
   {
    "duration": 1411,
    "start_time": "2022-05-16T15:57:48.369Z"
   },
   {
    "duration": 34,
    "start_time": "2022-05-16T15:57:49.782Z"
   },
   {
    "duration": 4,
    "start_time": "2022-05-16T15:57:49.817Z"
   },
   {
    "duration": 299,
    "start_time": "2022-05-16T15:57:49.823Z"
   },
   {
    "duration": 84,
    "start_time": "2022-05-16T15:57:50.123Z"
   },
   {
    "duration": 207,
    "start_time": "2022-05-16T15:57:50.208Z"
   },
   {
    "duration": 5,
    "start_time": "2022-05-16T15:57:50.417Z"
   },
   {
    "duration": 275,
    "start_time": "2022-05-16T15:57:50.423Z"
   },
   {
    "duration": 234,
    "start_time": "2022-05-16T15:57:50.700Z"
   },
   {
    "duration": 165,
    "start_time": "2022-05-16T15:57:50.936Z"
   },
   {
    "duration": 4,
    "start_time": "2022-05-16T15:57:51.102Z"
   },
   {
    "duration": 190,
    "start_time": "2022-05-16T15:57:51.107Z"
   },
   {
    "duration": 288,
    "start_time": "2022-05-16T15:57:51.299Z"
   },
   {
    "duration": 142,
    "start_time": "2022-05-16T15:57:51.589Z"
   },
   {
    "duration": 180,
    "start_time": "2022-05-16T15:57:51.732Z"
   },
   {
    "duration": 180,
    "start_time": "2022-05-16T15:57:51.914Z"
   },
   {
    "duration": 10,
    "start_time": "2022-05-16T15:57:52.098Z"
   },
   {
    "duration": 40,
    "start_time": "2022-05-16T15:57:52.110Z"
   },
   {
    "duration": 593,
    "start_time": "2022-05-16T15:57:52.152Z"
   },
   {
    "duration": 381,
    "start_time": "2022-05-16T15:57:52.747Z"
   },
   {
    "duration": 4,
    "start_time": "2022-05-16T15:57:53.130Z"
   },
   {
    "duration": 136,
    "start_time": "2022-05-16T15:57:53.136Z"
   },
   {
    "duration": 6,
    "start_time": "2022-05-16T15:57:53.274Z"
   },
   {
    "duration": 53,
    "start_time": "2022-05-16T15:57:53.282Z"
   },
   {
    "duration": 249,
    "start_time": "2022-05-16T15:57:53.337Z"
   },
   {
    "duration": 3,
    "start_time": "2022-05-16T15:57:53.588Z"
   },
   {
    "duration": 4,
    "start_time": "2022-05-16T15:57:53.593Z"
   },
   {
    "duration": 22458,
    "start_time": "2022-05-16T15:57:53.599Z"
   },
   {
    "duration": 196,
    "start_time": "2022-05-16T15:58:16.059Z"
   },
   {
    "duration": 95,
    "start_time": "2022-05-16T15:58:16.258Z"
   },
   {
    "duration": 49386,
    "start_time": "2022-05-16T15:58:16.355Z"
   },
   {
    "duration": 50519,
    "start_time": "2022-05-16T15:59:05.743Z"
   },
   {
    "duration": 2,
    "start_time": "2022-05-16T15:59:56.264Z"
   },
   {
    "duration": 12202,
    "start_time": "2022-05-16T15:59:56.268Z"
   },
   {
    "duration": 58,
    "start_time": "2022-05-16T16:00:08.471Z"
   },
   {
    "duration": 4,
    "start_time": "2022-05-16T16:00:08.531Z"
   },
   {
    "duration": 13,
    "start_time": "2022-05-16T16:00:08.537Z"
   },
   {
    "duration": 4,
    "start_time": "2022-05-16T16:00:08.552Z"
   },
   {
    "duration": 5293,
    "start_time": "2022-05-16T16:00:08.558Z"
   },
   {
    "duration": 608,
    "start_time": "2022-05-16T16:00:13.853Z"
   },
   {
    "duration": 6,
    "start_time": "2022-05-16T16:00:14.462Z"
   },
   {
    "duration": 17,
    "start_time": "2022-05-16T16:00:14.469Z"
   },
   {
    "duration": 6854,
    "start_time": "2022-05-16T16:00:14.487Z"
   },
   {
    "duration": 61,
    "start_time": "2022-05-16T16:00:21.343Z"
   },
   {
    "duration": 5,
    "start_time": "2022-05-16T16:00:21.405Z"
   },
   {
    "duration": 11,
    "start_time": "2022-05-16T16:00:21.412Z"
   },
   {
    "duration": 57,
    "start_time": "2022-05-18T05:31:06.932Z"
   },
   {
    "duration": 1870,
    "start_time": "2022-05-18T05:31:29.619Z"
   },
   {
    "duration": 997,
    "start_time": "2022-05-18T05:31:31.491Z"
   },
   {
    "duration": 24,
    "start_time": "2022-05-18T05:31:32.490Z"
   },
   {
    "duration": 4,
    "start_time": "2022-05-18T05:31:32.516Z"
   },
   {
    "duration": 12,
    "start_time": "2022-05-18T05:31:32.527Z"
   },
   {
    "duration": 118,
    "start_time": "2022-05-18T05:31:32.906Z"
   },
   {
    "duration": 1551,
    "start_time": "2022-05-18T05:31:33.818Z"
   },
   {
    "duration": 111,
    "start_time": "2022-05-18T05:31:35.453Z"
   },
   {
    "duration": 737,
    "start_time": "2022-05-18T05:31:37.693Z"
   },
   {
    "duration": 88,
    "start_time": "2022-05-18T05:31:38.446Z"
   },
   {
    "duration": 16,
    "start_time": "2022-05-18T05:31:39.376Z"
   },
   {
    "duration": 1238,
    "start_time": "2022-05-18T05:31:41.669Z"
   },
   {
    "duration": 33,
    "start_time": "2022-05-18T05:31:44.080Z"
   },
   {
    "duration": 4,
    "start_time": "2022-05-18T05:32:20.802Z"
   },
   {
    "duration": 202,
    "start_time": "2022-05-18T05:32:21.786Z"
   },
   {
    "duration": 72,
    "start_time": "2022-05-18T05:32:23.907Z"
   },
   {
    "duration": 179,
    "start_time": "2022-05-18T05:32:24.868Z"
   },
   {
    "duration": 4,
    "start_time": "2022-05-18T05:32:28.674Z"
   },
   {
    "duration": 167,
    "start_time": "2022-05-18T05:32:30.272Z"
   },
   {
    "duration": 229,
    "start_time": "2022-05-18T05:32:31.846Z"
   },
   {
    "duration": 191,
    "start_time": "2022-05-18T05:32:33.618Z"
   },
   {
    "duration": 4,
    "start_time": "2022-05-18T05:32:35.501Z"
   },
   {
    "duration": 216,
    "start_time": "2022-05-18T05:32:36.344Z"
   },
   {
    "duration": 174,
    "start_time": "2022-05-18T05:32:37.240Z"
   },
   {
    "duration": 136,
    "start_time": "2022-05-18T05:32:38.117Z"
   },
   {
    "duration": 270,
    "start_time": "2022-05-18T05:32:38.972Z"
   },
   {
    "duration": 193,
    "start_time": "2022-05-18T05:32:40.065Z"
   },
   {
    "duration": 11,
    "start_time": "2022-05-18T05:32:41.849Z"
   },
   {
    "duration": 20,
    "start_time": "2022-05-18T05:32:42.773Z"
   },
   {
    "duration": 495,
    "start_time": "2022-05-18T05:32:46.932Z"
   },
   {
    "duration": 416,
    "start_time": "2022-05-18T05:32:48.567Z"
   },
   {
    "duration": 3,
    "start_time": "2022-05-18T05:32:49.431Z"
   },
   {
    "duration": 102,
    "start_time": "2022-05-18T05:33:02.574Z"
   },
   {
    "duration": 5,
    "start_time": "2022-05-18T05:33:04.471Z"
   },
   {
    "duration": 37,
    "start_time": "2022-05-18T05:33:22.976Z"
   },
   {
    "duration": 196,
    "start_time": "2022-05-18T05:33:58.135Z"
   },
   {
    "duration": 3,
    "start_time": "2022-05-18T05:34:05.243Z"
   },
   {
    "duration": 3,
    "start_time": "2022-05-18T05:34:14.326Z"
   },
   {
    "duration": 17755,
    "start_time": "2022-05-18T05:34:15.177Z"
   },
   {
    "duration": 179,
    "start_time": "2022-05-18T05:34:51.048Z"
   },
   {
    "duration": 5,
    "start_time": "2022-05-18T05:34:54.408Z"
   },
   {
    "duration": 34393,
    "start_time": "2022-05-18T05:35:05.512Z"
   },
   {
    "duration": 36078,
    "start_time": "2022-05-18T05:37:45.087Z"
   },
   {
    "duration": 3,
    "start_time": "2022-05-18T05:38:21.166Z"
   },
   {
    "duration": 9946,
    "start_time": "2022-05-18T05:38:25.782Z"
   },
   {
    "duration": 53,
    "start_time": "2022-05-18T05:38:48.481Z"
   },
   {
    "duration": 5,
    "start_time": "2022-05-18T05:38:53.630Z"
   },
   {
    "duration": 3,
    "start_time": "2022-05-18T05:39:01.490Z"
   },
   {
    "duration": 3,
    "start_time": "2022-05-18T05:39:03.809Z"
   },
   {
    "duration": 4843,
    "start_time": "2022-05-18T05:39:10.389Z"
   },
   {
    "duration": 489,
    "start_time": "2022-05-18T05:39:27.250Z"
   },
   {
    "duration": 5,
    "start_time": "2022-05-18T05:39:31.687Z"
   },
   {
    "duration": 3,
    "start_time": "2022-05-18T05:39:36.914Z"
   },
   {
    "duration": 10186,
    "start_time": "2022-05-18T05:39:49.090Z"
   },
   {
    "duration": 58,
    "start_time": "2022-05-18T05:40:07.978Z"
   },
   {
    "duration": 6,
    "start_time": "2022-05-18T05:40:22.455Z"
   },
   {
    "duration": 3,
    "start_time": "2022-05-18T05:41:53.114Z"
   },
   {
    "duration": 10983,
    "start_time": "2022-05-18T05:41:55.081Z"
   },
   {
    "duration": 75,
    "start_time": "2022-05-18T05:42:13.883Z"
   },
   {
    "duration": 6,
    "start_time": "2022-05-18T05:42:18.471Z"
   },
   {
    "duration": 11,
    "start_time": "2022-05-18T05:42:21.841Z"
   },
   {
    "duration": 1391,
    "start_time": "2022-05-18T05:47:32.872Z"
   },
   {
    "duration": 828,
    "start_time": "2022-05-18T05:47:34.265Z"
   },
   {
    "duration": 33,
    "start_time": "2022-05-18T05:47:35.095Z"
   },
   {
    "duration": 5,
    "start_time": "2022-05-18T05:47:35.130Z"
   },
   {
    "duration": 27,
    "start_time": "2022-05-18T05:47:35.137Z"
   },
   {
    "duration": 163,
    "start_time": "2022-05-18T05:47:35.166Z"
   },
   {
    "duration": 1743,
    "start_time": "2022-05-18T05:47:35.331Z"
   },
   {
    "duration": 122,
    "start_time": "2022-05-18T05:47:37.076Z"
   },
   {
    "duration": 838,
    "start_time": "2022-05-18T05:47:37.200Z"
   },
   {
    "duration": 104,
    "start_time": "2022-05-18T05:47:38.041Z"
   },
   {
    "duration": 17,
    "start_time": "2022-05-18T05:47:38.146Z"
   },
   {
    "duration": 1269,
    "start_time": "2022-05-18T05:47:38.164Z"
   },
   {
    "duration": 33,
    "start_time": "2022-05-18T05:47:39.434Z"
   },
   {
    "duration": 4,
    "start_time": "2022-05-18T05:47:39.469Z"
   },
   {
    "duration": 255,
    "start_time": "2022-05-18T05:47:39.474Z"
   },
   {
    "duration": 73,
    "start_time": "2022-05-18T05:47:39.730Z"
   },
   {
    "duration": 193,
    "start_time": "2022-05-18T05:47:39.805Z"
   },
   {
    "duration": 4,
    "start_time": "2022-05-18T05:47:40.000Z"
   },
   {
    "duration": 175,
    "start_time": "2022-05-18T05:47:40.006Z"
   },
   {
    "duration": 208,
    "start_time": "2022-05-18T05:47:40.183Z"
   },
   {
    "duration": 168,
    "start_time": "2022-05-18T05:47:40.392Z"
   },
   {
    "duration": 4,
    "start_time": "2022-05-18T05:47:40.562Z"
   },
   {
    "duration": 187,
    "start_time": "2022-05-18T05:47:40.568Z"
   },
   {
    "duration": 187,
    "start_time": "2022-05-18T05:47:40.757Z"
   },
   {
    "duration": 248,
    "start_time": "2022-05-18T05:47:40.946Z"
   },
   {
    "duration": 206,
    "start_time": "2022-05-18T05:47:41.196Z"
   },
   {
    "duration": 191,
    "start_time": "2022-05-18T05:47:41.404Z"
   },
   {
    "duration": 11,
    "start_time": "2022-05-18T05:47:41.599Z"
   },
   {
    "duration": 35,
    "start_time": "2022-05-18T05:47:41.612Z"
   },
   {
    "duration": 525,
    "start_time": "2022-05-18T05:47:41.649Z"
   },
   {
    "duration": 401,
    "start_time": "2022-05-18T05:47:42.175Z"
   },
   {
    "duration": 4,
    "start_time": "2022-05-18T05:47:42.578Z"
   },
   {
    "duration": 117,
    "start_time": "2022-05-18T05:47:42.584Z"
   },
   {
    "duration": 5,
    "start_time": "2022-05-18T05:47:42.703Z"
   },
   {
    "duration": 51,
    "start_time": "2022-05-18T05:47:42.710Z"
   },
   {
    "duration": 237,
    "start_time": "2022-05-18T05:47:42.763Z"
   },
   {
    "duration": 3,
    "start_time": "2022-05-18T05:47:43.002Z"
   },
   {
    "duration": 10,
    "start_time": "2022-05-18T05:47:43.007Z"
   },
   {
    "duration": 26137,
    "start_time": "2022-05-18T05:47:43.019Z"
   },
   {
    "duration": 268,
    "start_time": "2022-05-18T05:48:09.159Z"
   },
   {
    "duration": 7,
    "start_time": "2022-05-18T05:48:09.431Z"
   },
   {
    "duration": 36468,
    "start_time": "2022-05-18T05:48:09.440Z"
   },
   {
    "duration": 38574,
    "start_time": "2022-05-18T05:48:45.910Z"
   },
   {
    "duration": 2,
    "start_time": "2022-05-18T05:49:24.486Z"
   },
   {
    "duration": 10694,
    "start_time": "2022-05-18T05:49:24.490Z"
   },
   {
    "duration": 55,
    "start_time": "2022-05-18T05:49:35.185Z"
   },
   {
    "duration": 7,
    "start_time": "2022-05-18T05:49:35.242Z"
   },
   {
    "duration": 6,
    "start_time": "2022-05-18T05:49:35.252Z"
   },
   {
    "duration": 10,
    "start_time": "2022-05-18T05:49:35.259Z"
   },
   {
    "duration": 1469,
    "start_time": "2022-05-18T05:54:30.656Z"
   },
   {
    "duration": 854,
    "start_time": "2022-05-18T05:54:32.134Z"
   },
   {
    "duration": 36,
    "start_time": "2022-05-18T05:54:32.991Z"
   },
   {
    "duration": 4,
    "start_time": "2022-05-18T05:54:33.030Z"
   },
   {
    "duration": 35,
    "start_time": "2022-05-18T05:54:33.037Z"
   },
   {
    "duration": 210,
    "start_time": "2022-05-18T05:54:33.074Z"
   },
   {
    "duration": 1501,
    "start_time": "2022-05-18T05:54:33.286Z"
   },
   {
    "duration": 144,
    "start_time": "2022-05-18T05:54:34.789Z"
   },
   {
    "duration": 937,
    "start_time": "2022-05-18T05:54:34.934Z"
   },
   {
    "duration": 119,
    "start_time": "2022-05-18T05:54:35.874Z"
   },
   {
    "duration": 19,
    "start_time": "2022-05-18T05:54:35.995Z"
   },
   {
    "duration": 1528,
    "start_time": "2022-05-18T05:54:36.015Z"
   },
   {
    "duration": 34,
    "start_time": "2022-05-18T05:54:37.545Z"
   },
   {
    "duration": 4,
    "start_time": "2022-05-18T05:54:37.581Z"
   },
   {
    "duration": 257,
    "start_time": "2022-05-18T05:54:37.587Z"
   },
   {
    "duration": 82,
    "start_time": "2022-05-18T05:54:37.846Z"
   },
   {
    "duration": 197,
    "start_time": "2022-05-18T05:54:37.930Z"
   },
   {
    "duration": 5,
    "start_time": "2022-05-18T05:54:38.128Z"
   },
   {
    "duration": 168,
    "start_time": "2022-05-18T05:54:38.135Z"
   },
   {
    "duration": 215,
    "start_time": "2022-05-18T05:54:38.304Z"
   },
   {
    "duration": 180,
    "start_time": "2022-05-18T05:54:38.521Z"
   },
   {
    "duration": 4,
    "start_time": "2022-05-18T05:54:38.703Z"
   },
   {
    "duration": 187,
    "start_time": "2022-05-18T05:54:38.708Z"
   },
   {
    "duration": 187,
    "start_time": "2022-05-18T05:54:38.896Z"
   },
   {
    "duration": 272,
    "start_time": "2022-05-18T05:54:39.085Z"
   },
   {
    "duration": 277,
    "start_time": "2022-05-18T05:54:39.359Z"
   },
   {
    "duration": 219,
    "start_time": "2022-05-18T05:54:39.638Z"
   },
   {
    "duration": 11,
    "start_time": "2022-05-18T05:54:39.862Z"
   },
   {
    "duration": 29,
    "start_time": "2022-05-18T05:54:39.875Z"
   },
   {
    "duration": 554,
    "start_time": "2022-05-18T05:54:39.906Z"
   },
   {
    "duration": 403,
    "start_time": "2022-05-18T05:54:40.462Z"
   },
   {
    "duration": 3,
    "start_time": "2022-05-18T05:54:40.867Z"
   },
   {
    "duration": 113,
    "start_time": "2022-05-18T05:54:40.872Z"
   },
   {
    "duration": 6,
    "start_time": "2022-05-18T05:54:40.987Z"
   },
   {
    "duration": 79,
    "start_time": "2022-05-18T05:54:40.995Z"
   },
   {
    "duration": 247,
    "start_time": "2022-05-18T05:54:41.076Z"
   },
   {
    "duration": 3,
    "start_time": "2022-05-18T05:54:41.330Z"
   },
   {
    "duration": 15,
    "start_time": "2022-05-18T05:54:41.336Z"
   },
   {
    "duration": 44507,
    "start_time": "2022-05-18T05:54:41.353Z"
   },
   {
    "duration": 267,
    "start_time": "2022-05-18T05:55:25.862Z"
   },
   {
    "duration": 8,
    "start_time": "2022-05-18T05:55:26.131Z"
   },
   {
    "duration": 43122,
    "start_time": "2022-05-18T05:55:26.141Z"
   },
   {
    "duration": 44603,
    "start_time": "2022-05-18T05:56:09.265Z"
   },
   {
    "duration": 4,
    "start_time": "2022-05-18T05:56:53.870Z"
   },
   {
    "duration": 12399,
    "start_time": "2022-05-18T05:56:53.875Z"
   },
   {
    "duration": 102,
    "start_time": "2022-05-18T05:57:06.276Z"
   },
   {
    "duration": 8,
    "start_time": "2022-05-18T05:57:06.380Z"
   },
   {
    "duration": 6,
    "start_time": "2022-05-18T05:57:06.390Z"
   },
   {
    "duration": 12,
    "start_time": "2022-05-18T05:57:06.398Z"
   },
   {
    "duration": 282038,
    "start_time": "2022-05-18T05:57:06.412Z"
   },
   {
    "duration": 583,
    "start_time": "2022-05-18T06:01:48.454Z"
   },
   {
    "duration": 6,
    "start_time": "2022-05-18T06:01:49.038Z"
   },
   {
    "duration": 11,
    "start_time": "2022-05-18T06:01:49.045Z"
   },
   {
    "duration": 11411,
    "start_time": "2022-05-18T06:01:49.058Z"
   },
   {
    "duration": 79,
    "start_time": "2022-05-18T06:02:00.470Z"
   },
   {
    "duration": 6,
    "start_time": "2022-05-18T06:02:00.551Z"
   },
   {
    "duration": 26,
    "start_time": "2022-05-18T06:02:00.559Z"
   }
  ],
  "kernelspec": {
   "display_name": "Python 3 (ipykernel)",
   "language": "python",
   "name": "python3"
  },
  "language_info": {
   "codemirror_mode": {
    "name": "ipython",
    "version": 3
   },
   "file_extension": ".py",
   "mimetype": "text/x-python",
   "name": "python",
   "nbconvert_exporter": "python",
   "pygments_lexer": "ipython3",
   "version": "3.9.5"
  },
  "toc": {
   "base_numbering": 1,
   "nav_menu": {},
   "number_sections": true,
   "sideBar": true,
   "skip_h1_title": true,
   "title_cell": "Table of Contents",
   "title_sidebar": "Contents",
   "toc_cell": false,
   "toc_position": {},
   "toc_section_display": true,
   "toc_window_display": true
  }
 },
 "nbformat": 4,
 "nbformat_minor": 2
}
