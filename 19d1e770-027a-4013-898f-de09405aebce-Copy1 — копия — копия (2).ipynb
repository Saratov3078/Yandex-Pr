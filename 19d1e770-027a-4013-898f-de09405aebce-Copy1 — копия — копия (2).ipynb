{
 "cells": [
  {
   "cell_type": "markdown",
   "metadata": {
    "id": "E0vqbgi9ay0H"
   },
   "source": [
    "# Яндекс.Музыка"
   ]
  },
  {
   "cell_type": "markdown",
   "metadata": {
    "id": "VUC88oWjTJw2"
   },
   "source": [
    "Сравнение Москвы и Петербурга окружено мифами. Например:\n",
    " * Москва — мегаполис, подчинённый жёсткому ритму рабочей недели;\n",
    " * Петербург — культурная столица, со своими вкусами.\n",
    "\n",
    "На данных Яндекс.Музыки вы сравните поведение пользователей двух столиц.\n",
    "\n",
    "**Цель исследования** — проверьте три гипотезы:\n",
    "1. Активность пользователей зависит от дня недели. Причём в Москве и Петербурге это проявляется по-разному.\n",
    "2. В понедельник утром в Москве преобладают одни жанры, а в Петербурге — другие. Так же и вечером пятницы преобладают разные жанры — в зависимости от города. \n",
    "3. Москва и Петербург предпочитают разные жанры музыки. В Москве чаще слушают поп-музыку, в Петербурге — русский рэп.\n",
    "\n",
    "**Ход исследования**\n",
    "\n",
    "Данные о поведении пользователей вы получите из файла `yandex_music_project.csv`. О качестве данных ничего не известно. Поэтому перед проверкой гипотез понадобится обзор данных. \n",
    "\n",
    "Вы проверите данные на ошибки и оцените их влияние на исследование. Затем, на этапе предобработки вы поищете возможность исправить самые критичные ошибки данных.\n",
    " \n",
    "Таким образом, исследование пройдёт в три этапа:\n",
    " 1. Обзор данных.\n",
    " 2. Предобработка данных.\n",
    " 3. Проверка гипотез.\n",
    "\n"
   ]
  },
  {
   "cell_type": "markdown",
   "metadata": {
    "id": "Ml1hmfXC_Zcs"
   },
   "source": [
    "## Обзор данных\n",
    "\n",
    "Составьте первое представление о данных Яндекс.Музыки.\n",
    "\n",
    "\n"
   ]
  },
  {
   "cell_type": "markdown",
   "metadata": {
    "id": "57eAOGIz_Zcs"
   },
   "source": [
    "Основной инструмент аналитика — `pandas`. Импортируйте эту библиотеку."
   ]
  },
  {
   "cell_type": "code",
   "execution_count": 1,
   "metadata": {
    "id": "AXN7PHPN_Zcs"
   },
   "outputs": [],
   "source": [
    "import pandas as pd # импорт библиотеки pandas"
   ]
  },
  {
   "cell_type": "markdown",
   "metadata": {
    "id": "SG23P8tt_Zcs"
   },
   "source": [
    "Прочитайте файл `yandex_music_project.csv` из папки `/datasets` и сохраните его в переменной `df`:"
   ]
  },
  {
   "cell_type": "code",
   "execution_count": 2,
   "metadata": {
    "id": "fFVu7vqh_Zct"
   },
   "outputs": [],
   "source": [
    "df = pd.read_csv('/datasets/music_project.csv') # чтение файла с данными и сохранение в df"
   ]
  },
  {
   "cell_type": "markdown",
   "metadata": {
    "id": "rDoOMd3uTqnZ"
   },
   "source": [
    "Выведите на экран первые десять строк таблицы:"
   ]
  },
  {
   "cell_type": "code",
   "execution_count": 3,
   "metadata": {
    "id": "oWTVX3gW_Zct"
   },
   "outputs": [
    {
     "data": {
      "text/html": [
       "<div>\n",
       "<style scoped>\n",
       "    .dataframe tbody tr th:only-of-type {\n",
       "        vertical-align: middle;\n",
       "    }\n",
       "\n",
       "    .dataframe tbody tr th {\n",
       "        vertical-align: top;\n",
       "    }\n",
       "\n",
       "    .dataframe thead th {\n",
       "        text-align: right;\n",
       "    }\n",
       "</style>\n",
       "<table border=\"1\" class=\"dataframe\">\n",
       "  <thead>\n",
       "    <tr style=\"text-align: right;\">\n",
       "      <th></th>\n",
       "      <th>userID</th>\n",
       "      <th>Track</th>\n",
       "      <th>artist</th>\n",
       "      <th>genre</th>\n",
       "      <th>City</th>\n",
       "      <th>time</th>\n",
       "      <th>Day</th>\n",
       "    </tr>\n",
       "  </thead>\n",
       "  <tbody>\n",
       "    <tr>\n",
       "      <td>0</td>\n",
       "      <td>FFB692EC</td>\n",
       "      <td>Kamigata To Boots</td>\n",
       "      <td>The Mass Missile</td>\n",
       "      <td>rock</td>\n",
       "      <td>Saint-Petersburg</td>\n",
       "      <td>20:28:33</td>\n",
       "      <td>Wednesday</td>\n",
       "    </tr>\n",
       "    <tr>\n",
       "      <td>1</td>\n",
       "      <td>55204538</td>\n",
       "      <td>Delayed Because of Accident</td>\n",
       "      <td>Andreas Rönnberg</td>\n",
       "      <td>rock</td>\n",
       "      <td>Moscow</td>\n",
       "      <td>14:07:09</td>\n",
       "      <td>Friday</td>\n",
       "    </tr>\n",
       "    <tr>\n",
       "      <td>2</td>\n",
       "      <td>20EC38</td>\n",
       "      <td>Funiculì funiculà</td>\n",
       "      <td>Mario Lanza</td>\n",
       "      <td>pop</td>\n",
       "      <td>Saint-Petersburg</td>\n",
       "      <td>20:58:07</td>\n",
       "      <td>Wednesday</td>\n",
       "    </tr>\n",
       "    <tr>\n",
       "      <td>3</td>\n",
       "      <td>A3DD03C9</td>\n",
       "      <td>Dragons in the Sunset</td>\n",
       "      <td>Fire + Ice</td>\n",
       "      <td>folk</td>\n",
       "      <td>Saint-Petersburg</td>\n",
       "      <td>08:37:09</td>\n",
       "      <td>Monday</td>\n",
       "    </tr>\n",
       "    <tr>\n",
       "      <td>4</td>\n",
       "      <td>E2DC1FAE</td>\n",
       "      <td>Soul People</td>\n",
       "      <td>Space Echo</td>\n",
       "      <td>dance</td>\n",
       "      <td>Moscow</td>\n",
       "      <td>08:34:34</td>\n",
       "      <td>Monday</td>\n",
       "    </tr>\n",
       "    <tr>\n",
       "      <td>5</td>\n",
       "      <td>842029A1</td>\n",
       "      <td>Преданная</td>\n",
       "      <td>IMPERVTOR</td>\n",
       "      <td>rusrap</td>\n",
       "      <td>Saint-Petersburg</td>\n",
       "      <td>13:09:41</td>\n",
       "      <td>Friday</td>\n",
       "    </tr>\n",
       "    <tr>\n",
       "      <td>6</td>\n",
       "      <td>4CB90AA5</td>\n",
       "      <td>True</td>\n",
       "      <td>Roman Messer</td>\n",
       "      <td>dance</td>\n",
       "      <td>Moscow</td>\n",
       "      <td>13:00:07</td>\n",
       "      <td>Wednesday</td>\n",
       "    </tr>\n",
       "    <tr>\n",
       "      <td>7</td>\n",
       "      <td>F03E1C1F</td>\n",
       "      <td>Feeling This Way</td>\n",
       "      <td>Polina Griffith</td>\n",
       "      <td>dance</td>\n",
       "      <td>Moscow</td>\n",
       "      <td>20:47:49</td>\n",
       "      <td>Wednesday</td>\n",
       "    </tr>\n",
       "    <tr>\n",
       "      <td>8</td>\n",
       "      <td>8FA1D3BE</td>\n",
       "      <td>И вновь продолжается бой</td>\n",
       "      <td>NaN</td>\n",
       "      <td>ruspop</td>\n",
       "      <td>Moscow</td>\n",
       "      <td>09:17:40</td>\n",
       "      <td>Friday</td>\n",
       "    </tr>\n",
       "    <tr>\n",
       "      <td>9</td>\n",
       "      <td>E772D5C0</td>\n",
       "      <td>Pessimist</td>\n",
       "      <td>NaN</td>\n",
       "      <td>dance</td>\n",
       "      <td>Saint-Petersburg</td>\n",
       "      <td>21:20:49</td>\n",
       "      <td>Wednesday</td>\n",
       "    </tr>\n",
       "  </tbody>\n",
       "</table>\n",
       "</div>"
      ],
      "text/plain": [
       "     userID                        Track            artist   genre  \\\n",
       "0  FFB692EC            Kamigata To Boots  The Mass Missile    rock   \n",
       "1  55204538  Delayed Because of Accident  Andreas Rönnberg    rock   \n",
       "2    20EC38            Funiculì funiculà       Mario Lanza     pop   \n",
       "3  A3DD03C9        Dragons in the Sunset        Fire + Ice    folk   \n",
       "4  E2DC1FAE                  Soul People        Space Echo   dance   \n",
       "5  842029A1                    Преданная         IMPERVTOR  rusrap   \n",
       "6  4CB90AA5                         True      Roman Messer   dance   \n",
       "7  F03E1C1F             Feeling This Way   Polina Griffith   dance   \n",
       "8  8FA1D3BE     И вновь продолжается бой               NaN  ruspop   \n",
       "9  E772D5C0                    Pessimist               NaN   dance   \n",
       "\n",
       "             City        time        Day  \n",
       "0  Saint-Petersburg  20:28:33  Wednesday  \n",
       "1            Moscow  14:07:09     Friday  \n",
       "2  Saint-Petersburg  20:58:07  Wednesday  \n",
       "3  Saint-Petersburg  08:37:09     Monday  \n",
       "4            Moscow  08:34:34     Monday  \n",
       "5  Saint-Petersburg  13:09:41     Friday  \n",
       "6            Moscow  13:00:07  Wednesday  \n",
       "7            Moscow  20:47:49  Wednesday  \n",
       "8            Moscow  09:17:40     Friday  \n",
       "9  Saint-Petersburg  21:20:49  Wednesday  "
      ]
     },
     "execution_count": 3,
     "metadata": {},
     "output_type": "execute_result"
    }
   ],
   "source": [
    "df.head(10)# получение первых 10 строк таблицы df"
   ]
  },
  {
   "cell_type": "markdown",
   "metadata": {
    "id": "EO73Kwic_Zct"
   },
   "source": [
    "Одной командой получить общую информацию о таблице:"
   ]
  },
  {
   "cell_type": "code",
   "execution_count": 4,
   "metadata": {
    "id": "DSf2kIb-_Zct"
   },
   "outputs": [
    {
     "name": "stdout",
     "output_type": "stream",
     "text": [
      "<class 'pandas.core.frame.DataFrame'>\n",
      "RangeIndex: 65079 entries, 0 to 65078\n",
      "Data columns (total 7 columns):\n",
      "  userID    65079 non-null object\n",
      "Track       63848 non-null object\n",
      "artist      57876 non-null object\n",
      "genre       63881 non-null object\n",
      "  City      65079 non-null object\n",
      "time        65079 non-null object\n",
      "Day         65079 non-null object\n",
      "dtypes: object(7)\n",
      "memory usage: 3.5+ MB\n"
     ]
    }
   ],
   "source": [
    "df.info()# получение общей информации о данных в таблице df"
   ]
  },
  {
   "cell_type": "markdown",
   "metadata": {
    "id": "TaQ2Iwbr_Zct"
   },
   "source": [
    "Итак, в таблице семь столбцов. Тип данных во всех столбцах — `object`.\n",
    "\n",
    "Согласно документации к данным:\n",
    "* `userID` — идентификатор пользователя;\n",
    "* `Track` — название трека;  \n",
    "* `artist` — имя исполнителя;\n",
    "* `genre` — название жанра;\n",
    "* `City` — город пользователя;\n",
    "* `time` — время начала прослушивания;\n",
    "* `Day` — день недели.\n",
    "\n",
    "В названиях колонок видны три нарушения стиля:\n",
    "1. Строчные буквы сочетаются с прописными.\n",
    "2. Встречаются пробелы.\n",
    "3. В названии первой колонки отсутствует «змеиный_регистр».\n",
    "\n",
    "\n",
    "\n",
    "Количество значений в столбцах различается. Значит, в данных есть пропущенные значения.\n"
   ]
  },
  {
   "cell_type": "markdown",
   "metadata": {
    "id": "MCB6-dXG_Zct"
   },
   "source": [
    "**Выводы**\n",
    "\n",
    "В каждой строке таблицы — данные о прослушанном треке. Часть колонок описывает саму композицию: название, исполнителя и жанр. Остальные данные рассказывают о пользователе: из какого он города, когда он слушал музыку. \n",
    "\n",
    "Предварительно можно утверждать, что, данных достаточно для проверки гипотез. Но встречаются пропуски в данных, а в названиях колонок — расхождения с хорошим стилем.\n",
    "\n",
    "Чтобы двигаться дальше, нужно устранить проблемы в данных."
   ]
  },
  {
   "cell_type": "markdown",
   "metadata": {
    "id": "SjYF6Ub9_Zct"
   },
   "source": [
    "## Предобработка данных\n",
    "Исправьте стиль в заголовках столбцов, исключите пропуски. Затем проверьте данные на дубликаты."
   ]
  },
  {
   "cell_type": "markdown",
   "metadata": {
    "id": "dIaKXr29_Zct"
   },
   "source": [
    "### Стиль заголовков\n",
    "Выведите на экран названия столбцов:"
   ]
  },
  {
   "cell_type": "code",
   "execution_count": 5,
   "metadata": {
    "id": "oKOTdF_Q_Zct"
   },
   "outputs": [
    {
     "data": {
      "text/plain": [
       "Index(['  userID', 'Track', 'artist', 'genre', '  City  ', 'time', 'Day'], dtype='object')"
      ]
     },
     "execution_count": 5,
     "metadata": {},
     "output_type": "execute_result"
    }
   ],
   "source": [
    "df.columns# перечень названий столбцов таблицы df"
   ]
  },
  {
   "cell_type": "markdown",
   "metadata": {
    "id": "zj5534cv_Zct"
   },
   "source": [
    "Приведите названия в соответствие с хорошим стилем:\n",
    "* несколько слов в названии запишите в «змеином_регистре»,\n",
    "* все символы сделайте строчными,\n",
    "* устраните пробелы.\n",
    "\n",
    "Для этого переименуйте колонки так:\n",
    "* `'  userID'` → `'user_id'`;\n",
    "* `'Track'` → `'track'`;\n",
    "* `'  City  '` → `'city'`;\n",
    "* `'Day'` → `'day'`."
   ]
  },
  {
   "cell_type": "code",
   "execution_count": 6,
   "metadata": {
    "id": "ISlFqs5y_Zct"
   },
   "outputs": [],
   "source": [
    "df = df.rename(columns={'  userID' : 'user_id' , 'Track' :  'track' , '  City  ' : 'city' , 'Day' : 'day'})# переименование столбцов"
   ]
  },
  {
   "cell_type": "markdown",
   "metadata": {
    "id": "1dqbh00J_Zct"
   },
   "source": [
    "Проверьте результат. Для этого ещё раз выведите на экран названия столбцов:"
   ]
  },
  {
   "cell_type": "code",
   "execution_count": 7,
   "metadata": {
    "id": "d4NOAmTW_Zct"
   },
   "outputs": [
    {
     "data": {
      "text/plain": [
       "Index(['user_id', 'track', 'artist', 'genre', 'city', 'time', 'day'], dtype='object')"
      ]
     },
     "execution_count": 7,
     "metadata": {},
     "output_type": "execute_result"
    }
   ],
   "source": [
    "df.columns# проверка результатов - перечень названий столбцов"
   ]
  },
  {
   "cell_type": "markdown",
   "metadata": {
    "id": "5ISfbcfY_Zct"
   },
   "source": [
    "### Пропуски значений\n",
    "Сначала посчитайте, сколько в таблице пропущенных значений. Для этого достаточно двух методов `pandas`:"
   ]
  },
  {
   "cell_type": "code",
   "execution_count": 8,
   "metadata": {
    "id": "RskX29qr_Zct"
   },
   "outputs": [
    {
     "data": {
      "text/plain": [
       "user_id       0\n",
       "track      1231\n",
       "artist     7203\n",
       "genre      1198\n",
       "city          0\n",
       "time          0\n",
       "day           0\n",
       "dtype: int64"
      ]
     },
     "execution_count": 8,
     "metadata": {},
     "output_type": "execute_result"
    }
   ],
   "source": [
    "df.isna().sum()# подсчёт пропусков"
   ]
  },
  {
   "cell_type": "markdown",
   "metadata": {
    "id": "qubhgnlO_Zct"
   },
   "source": [
    "Не все пропущенные значения влияют на исследование. Так в `track` и `artist` пропуски не важны для вашей работы. Достаточно заменить их явными обозначениями.\n",
    "\n",
    "Но пропуски в `genre` могут помешать сравнению музыкальных вкусов в Москве и Санкт-Петербурге. На практике было бы правильно установить причину пропусков и восстановить данные. Такой возможности нет в учебном проекте. Придётся:\n",
    "* заполнить и эти пропуски явными обозначениями,\n",
    "* оценить, насколько они повредят расчётам. "
   ]
  },
  {
   "cell_type": "markdown",
   "metadata": {
    "id": "fSv2laPA_Zct"
   },
   "source": [
    "Замените пропущенные значения в столбцах `track`, `artist` и `genre` на строку `'unknown'`. Для этого создайте список `columns_to_replace`, переберите его элементы циклом `for` и для каждого столбца выполните замену пропущенных значений:"
   ]
  },
  {
   "cell_type": "code",
   "execution_count": 9,
   "metadata": {
    "id": "KplB5qWs_Zct"
   },
   "outputs": [],
   "source": [
    "columns_to_replace = ['track', 'artist', 'genre']\n",
    "for column in columns_to_replace:# перебор названий столбцов в цикле и замена пропущенных значений на 'unknown' \n",
    "    df[column]=df[column].fillna('unknown')"
   ]
  },
  {
   "cell_type": "markdown",
   "metadata": {
    "id": "Ilsm-MZo_Zct"
   },
   "source": [
    "Убедитесь, что в таблице не осталось пропусков. Для этого ещё раз посчитайте пропущенные значения."
   ]
  },
  {
   "cell_type": "code",
   "execution_count": 10,
   "metadata": {
    "id": "Tq4nYRX4_Zct"
   },
   "outputs": [
    {
     "data": {
      "text/plain": [
       "user_id    0\n",
       "track      0\n",
       "artist     0\n",
       "genre      0\n",
       "city       0\n",
       "time       0\n",
       "day        0\n",
       "dtype: int64"
      ]
     },
     "execution_count": 10,
     "metadata": {},
     "output_type": "execute_result"
    }
   ],
   "source": [
    "df.isna().sum()# подсчёт пропусков"
   ]
  },
  {
   "cell_type": "markdown",
   "metadata": {
    "id": "BWKRtBJ3_Zct"
   },
   "source": [
    "### Дубликаты\n",
    "Посчитайте явные дубликаты в таблице одной командой:"
   ]
  },
  {
   "cell_type": "code",
   "execution_count": 11,
   "metadata": {
    "id": "36eES_S0_Zct"
   },
   "outputs": [
    {
     "data": {
      "text/plain": [
       "3826"
      ]
     },
     "execution_count": 11,
     "metadata": {},
     "output_type": "execute_result"
    }
   ],
   "source": [
    "df.duplicated().sum()# подсчёт явных дубликатов"
   ]
  },
  {
   "cell_type": "markdown",
   "metadata": {
    "id": "Ot25h6XR_Zct"
   },
   "source": [
    "Вызовите специальный метод `pandas`, чтобы удалить явные дубликаты:"
   ]
  },
  {
   "cell_type": "code",
   "execution_count": 12,
   "metadata": {
    "id": "exFHq6tt_Zct"
   },
   "outputs": [],
   "source": [
    "df = df.drop_duplicates().reset_index(drop=True) # удаление явных дубликатов (с удалением старых индексов и формированием новых)"
   ]
  },
  {
   "cell_type": "markdown",
   "metadata": {
    "id": "Im2YwBEG_Zct"
   },
   "source": [
    "Ещё раз посчитайте явные дубликаты в таблице — убедитесь, что полностью от них избавились:"
   ]
  },
  {
   "cell_type": "code",
   "execution_count": 13,
   "metadata": {
    "id": "-8PuNWQ0_Zct"
   },
   "outputs": [
    {
     "data": {
      "text/plain": [
       "0"
      ]
     },
     "execution_count": 13,
     "metadata": {},
     "output_type": "execute_result"
    }
   ],
   "source": [
    "df.duplicated().sum()# проверка на отсутствие дубликатов"
   ]
  },
  {
   "cell_type": "markdown",
   "metadata": {
    "id": "QlFBsxAr_Zct"
   },
   "source": [
    "Теперь избавьтесь от неявных дубликатов в колонке `genre`. Например, название одного и того же жанра может быть записано немного по-разному. Такие ошибки тоже повлияют на результат исследования."
   ]
  },
  {
   "cell_type": "markdown",
   "metadata": {
    "id": "eSjWwsOh_Zct"
   },
   "source": [
    "Выведите на экран список уникальных названий жанров, отсортированный в алфавитном порядке. Для этого:\n",
    "* извлеките нужный столбец датафрейма, \n",
    "* примените к нему метод сортировки,\n",
    "* для отсортированного столбца вызовите метод, который вернёт уникальные значения из столбца."
   ]
  },
  {
   "cell_type": "code",
   "execution_count": 14,
   "metadata": {
    "id": "JIUcqzZN_Zct"
   },
   "outputs": [
    {
     "data": {
      "text/plain": [
       "31916           acid\n",
       "57580       acoustic\n",
       "3636        acoustic\n",
       "14611       acoustic\n",
       "20264       acoustic\n",
       "            ...     \n",
       "41879          world\n",
       "39063      worldbeat\n",
       "27939      worldbeat\n",
       "8448             ïîï\n",
       "6465     электроника\n",
       "Name: genre, Length: 61253, dtype: object"
      ]
     },
     "execution_count": 14,
     "metadata": {},
     "output_type": "execute_result"
    }
   ],
   "source": [
    "df['genre'].sort_values()# Просмотр уникальных названий жанров \n",
    "\n",
    "\n",
    "\n"
   ]
  },
  {
   "cell_type": "markdown",
   "metadata": {
    "id": "qej-Qmuo_Zct"
   },
   "source": [
    "Просмотрите список и найдите неявные дубликаты названия `hiphop`. Это могут быть названия с ошибками или альтернативные названия того же жанра.\n",
    "\n",
    "Вы увидите следующие неявные дубликаты:\n",
    "* *hip*,\n",
    "* *hop*,\n",
    "* *hip-hop*.\n",
    "\n",
    "Чтобы очистить от них таблицу, напишите функцию `replace_wrong_genres()` с двумя параметрами: \n",
    "* `wrong_genres` — список дубликатов,\n",
    "* `correct_genre` — строка с правильным значением.\n",
    "\n",
    "Функция должна исправить колонку `genre` в таблице `df`: заменить каждое значение из списка `wrong_genres` на значение из `correct_genre`."
   ]
  },
  {
   "cell_type": "code",
   "execution_count": 15,
   "metadata": {
    "id": "ErNDkmns_Zct"
   },
   "outputs": [],
   "source": [
    "def replace_wrong_genres(wrong_genres , correct_genre):#создание функции с двумя параментрами\n",
    "    for index in wrong_genres:# перебираем список с неправильными значениями\n",
    "         df['genre'] = df['genre'].replace(index, correct_genre)\n",
    "        "
   ]
  },
  {
   "cell_type": "markdown",
   "metadata": {
    "id": "aDoBJxbA_Zct"
   },
   "source": [
    "Вызовите `replace_wrong_genres()` и передайте ей такие аргументы, чтобы она устранила неявные дубликаты: вместо `hip`, `hop` и `hip-hop` в таблице должно быть значение `hiphop`:"
   ]
  },
  {
   "cell_type": "code",
   "execution_count": 16,
   "metadata": {
    "id": "YN5i2hpmSo09"
   },
   "outputs": [],
   "source": [
    "replace_wrong_genres(['hip', 'hop', 'hip-hop'], 'hiphop')\n",
    "\n"
   ]
  },
  {
   "cell_type": "markdown",
   "metadata": {
    "id": "zQKF16_RG15m"
   },
   "source": [
    "Проверьте, что заменили неправильные названия:\n",
    "\n",
    "*   hip\n",
    "*   hop\n",
    "*   hip-hop\n",
    "\n",
    "Выведите отсортированный список уникальных значений столбца `genre`:"
   ]
  },
  {
   "cell_type": "code",
   "execution_count": 17,
   "metadata": {
    "id": "wvixALnFG15m"
   },
   "outputs": [
    {
     "data": {
      "text/plain": [
       "array(['rock', 'pop', 'folk', 'dance', 'rusrap', 'ruspop', 'world',\n",
       "       'electronic', 'unknown', 'alternative', 'children', 'rnb',\n",
       "       'hiphop', 'jazz', 'postrock', 'latin', 'classical', 'metal',\n",
       "       'reggae', 'tatar', 'blues', 'instrumental', 'rusrock', 'dnb',\n",
       "       'türk', 'post', 'country', 'psychedelic', 'conjazz', 'indie',\n",
       "       'posthardcore', 'local', 'avantgarde', 'punk', 'videogame',\n",
       "       'techno', 'house', 'christmas', 'melodic', 'caucasian',\n",
       "       'reggaeton', 'soundtrack', 'singer', 'ska', 'shanson', 'ambient',\n",
       "       'film', 'western', 'rap', 'beats', \"hard'n'heavy\", 'progmetal',\n",
       "       'minimal', 'contemporary', 'new', 'soul', 'holiday', 'german',\n",
       "       'tropical', 'fairytail', 'spiritual', 'urban', 'gospel', 'nujazz',\n",
       "       'folkmetal', 'trance', 'miscellaneous', 'anime', 'hardcore',\n",
       "       'progressive', 'chanson', 'numetal', 'vocal', 'estrada', 'russian',\n",
       "       'classicmetal', 'dubstep', 'club', 'deep', 'southern', 'black',\n",
       "       'folkrock', 'fitness', 'french', 'disco', 'religious', 'drum',\n",
       "       'extrememetal', 'türkçe', 'experimental', 'easy', 'metalcore',\n",
       "       'modern', 'argentinetango', 'old', 'breaks', 'eurofolk',\n",
       "       'stonerrock', 'industrial', 'funk', 'jpop', 'middle', 'variété',\n",
       "       'other', 'adult', 'christian', 'gothic', 'international', 'muslim',\n",
       "       'relax', 'schlager', 'caribbean', 'ukrrock', 'nu', 'breakbeat',\n",
       "       'comedy', 'chill', 'newage', 'specialty', 'uzbek', 'k-pop',\n",
       "       'balkan', 'chinese', 'meditative', 'dub', 'power', 'death',\n",
       "       'grime', 'arabesk', 'romance', 'flamenco', 'leftfield', 'european',\n",
       "       'tech', 'newwave', 'dancehall', 'mpb', 'piano', 'top', 'bigroom',\n",
       "       'opera', 'celtic', 'tradjazz', 'acoustic', 'epicmetal',\n",
       "       'historisch', 'downbeat', 'downtempo', 'africa', 'audiobook',\n",
       "       'jewish', 'sängerportrait', 'deutschrock', 'eastern', 'action',\n",
       "       'future', 'electropop', 'folklore', 'bollywood', 'marschmusik',\n",
       "       'rnr', 'karaoke', 'indian', 'rancheras', 'электроника',\n",
       "       'afrikaans', 'tango', 'rhythm', 'sound', 'deutschspr', 'trip',\n",
       "       'lovers', 'choral', 'dancepop', 'podcasts', 'retro', 'smooth',\n",
       "       'mexican', 'brazilian', 'ïîï', 'mood', 'surf', 'author', 'gangsta',\n",
       "       'triphop', 'inspirational', 'idm', 'ethnic', 'bluegrass',\n",
       "       'broadway', 'animated', 'americana', 'karadeniz', 'rockabilly',\n",
       "       'colombian', 'self', 'synthrock', 'sertanejo', 'japanese',\n",
       "       'canzone', 'swing', 'lounge', 'sport', 'korean', 'ragga',\n",
       "       'traditional', 'gitarre', 'frankreich', 'alternativepunk', 'emo',\n",
       "       'laiko', 'cantopop', 'glitch', 'documentary', 'rockalternative',\n",
       "       'thrash', 'hymn', 'oceania', 'rockother', 'popeurodance', 'dark',\n",
       "       'vi', 'grunge', 'hardstyle', 'samba', 'garage', 'soft', 'art',\n",
       "       'folktronica', 'entehno', 'mediterranean', 'chamber', 'cuban',\n",
       "       'taraftar', 'rockindie', 'gypsy', 'hardtechno', 'shoegazing',\n",
       "       'skarock', 'bossa', 'salsa', 'latino', 'worldbeat', 'malaysian',\n",
       "       'baile', 'ghazal', 'loungeelectronic', 'arabic', 'popelectronic',\n",
       "       'acid', 'kayokyoku', 'neoklassik', 'tribal', 'tanzorchester',\n",
       "       'native', 'independent', 'cantautori', 'handsup', 'poprussian',\n",
       "       'punjabi', 'synthpop', 'rave', 'französisch', 'quebecois',\n",
       "       'speech', 'soulful', 'teen', 'jam', 'ram', 'horror', 'scenic',\n",
       "       'orchestral', 'neue', 'roots', 'slow', 'jungle', 'indipop', 'axé',\n",
       "       'fado', 'showtunes', 'arena', 'irish', 'mandopop', 'forró',\n",
       "       'popdance', 'dirty', 'regional'], dtype=object)"
      ]
     },
     "execution_count": 17,
     "metadata": {},
     "output_type": "execute_result"
    }
   ],
   "source": [
    "df['genre'].unique()\n",
    "# Проверка на неявные дубликаты"
   ]
  },
  {
   "cell_type": "markdown",
   "metadata": {
    "id": "jz6a9-7HQUDd"
   },
   "source": [
    "**Выводы**\n",
    "\n",
    "Предобработка обнаружила три проблемы в данных:\n",
    "\n",
    "- нарушения в стиле заголовков,\n",
    "- пропущенные значения,\n",
    "- дубликаты — явные и неявные.\n",
    "\n",
    "Вы исправили заголовки, чтобы упростить работу с таблицей. Без дубликатов исследование станет более точным.\n",
    "\n",
    "Пропущенные значения вы заменили на `'unknown'`. Ещё предстоит увидеть, не повредят ли исследованию пропуски в колонке `genre`.\n",
    "\n",
    "Теперь можно перейти к проверке гипотез. "
   ]
  },
  {
   "cell_type": "markdown",
   "metadata": {
    "id": "WttZHXH0SqKk"
   },
   "source": [
    "## Проверка гипотез"
   ]
  },
  {
   "cell_type": "markdown",
   "metadata": {
    "id": "Im936VVi_Zcu"
   },
   "source": [
    "### Сравнение поведения пользователей двух столиц"
   ]
  },
  {
   "cell_type": "markdown",
   "metadata": {
    "id": "nwt_MuaL_Zcu"
   },
   "source": [
    "Первая гипотеза утверждает, что пользователи по-разному слушают музыку в Москве и Санкт-Петербурге. Проверьте это предположение по данным о трёх днях недели — понедельнике, среде и пятнице. Для этого:\n",
    "\n",
    "* Разделите пользователей Москвы и Санкт-Петербурга\n",
    "* Сравните, сколько треков послушала каждая группа пользователей в понедельник, среду и пятницу.\n"
   ]
  },
  {
   "cell_type": "markdown",
   "metadata": {
    "id": "8Dw_YMmT_Zcu"
   },
   "source": [
    "Для тренировки сначала выполните каждый из расчётов по отдельности. \n",
    "\n",
    "Оцените активность пользователей в каждом городе. Сгруппируйте данные по городу и посчитайте прослушивания в каждой группе.\n",
    "\n"
   ]
  },
  {
   "cell_type": "code",
   "execution_count": 18,
   "metadata": {
    "id": "0_Qs96oh_Zcu"
   },
   "outputs": [
    {
     "data": {
      "text/html": [
       "<div>\n",
       "<style scoped>\n",
       "    .dataframe tbody tr th:only-of-type {\n",
       "        vertical-align: middle;\n",
       "    }\n",
       "\n",
       "    .dataframe tbody tr th {\n",
       "        vertical-align: top;\n",
       "    }\n",
       "\n",
       "    .dataframe thead th {\n",
       "        text-align: right;\n",
       "    }\n",
       "</style>\n",
       "<table border=\"1\" class=\"dataframe\">\n",
       "  <thead>\n",
       "    <tr style=\"text-align: right;\">\n",
       "      <th></th>\n",
       "      <th>user_id</th>\n",
       "      <th>track</th>\n",
       "      <th>artist</th>\n",
       "      <th>genre</th>\n",
       "      <th>time</th>\n",
       "      <th>day</th>\n",
       "    </tr>\n",
       "    <tr>\n",
       "      <th>city</th>\n",
       "      <th></th>\n",
       "      <th></th>\n",
       "      <th></th>\n",
       "      <th></th>\n",
       "      <th></th>\n",
       "      <th></th>\n",
       "    </tr>\n",
       "  </thead>\n",
       "  <tbody>\n",
       "    <tr>\n",
       "      <td>Moscow</td>\n",
       "      <td>42741</td>\n",
       "      <td>42741</td>\n",
       "      <td>42741</td>\n",
       "      <td>42741</td>\n",
       "      <td>42741</td>\n",
       "      <td>42741</td>\n",
       "    </tr>\n",
       "    <tr>\n",
       "      <td>Saint-Petersburg</td>\n",
       "      <td>18512</td>\n",
       "      <td>18512</td>\n",
       "      <td>18512</td>\n",
       "      <td>18512</td>\n",
       "      <td>18512</td>\n",
       "      <td>18512</td>\n",
       "    </tr>\n",
       "  </tbody>\n",
       "</table>\n",
       "</div>"
      ],
      "text/plain": [
       "                  user_id  track  artist  genre   time    day\n",
       "city                                                         \n",
       "Moscow              42741  42741   42741  42741  42741  42741\n",
       "Saint-Petersburg    18512  18512   18512  18512  18512  18512"
      ]
     },
     "execution_count": 18,
     "metadata": {},
     "output_type": "execute_result"
    }
   ],
   "source": [
    "\n",
    "df.groupby('city').count()# Подсчёт прослушиваний в каждом городе"
   ]
  },
  {
   "cell_type": "markdown",
   "metadata": {
    "id": "dzli3w8o_Zcu"
   },
   "source": [
    "В Москве прослушиваний больше, чем в Петербурге. Из этого не следует, что московские пользователи чаще слушают музыку. Просто самих пользователей в Москве больше.\n",
    "\n",
    "Теперь сгруппируйте данные по дню недели и подсчитайте прослушивания в понедельник, среду и пятницу. Учтите, что в данных есть информация только о прослушиваниях только за эти дни.\n"
   ]
  },
  {
   "cell_type": "code",
   "execution_count": 19,
   "metadata": {
    "id": "uZMKjiJz_Zcu"
   },
   "outputs": [
    {
     "data": {
      "text/plain": [
       "day\n",
       "Friday       21840\n",
       "Monday       21354\n",
       "Wednesday    18059\n",
       "Name: day, dtype: int64"
      ]
     },
     "execution_count": 19,
     "metadata": {},
     "output_type": "execute_result"
    }
   ],
   "source": [
    "df.groupby('day')['day'].count()# Подсчёт прослушиваний в каждый из трёх дней"
   ]
  },
  {
   "cell_type": "markdown",
   "metadata": {
    "id": "cC2tNrlL_Zcu"
   },
   "source": [
    "В среднем пользователи из двух городов менее активны по средам. Но картина может измениться, если рассмотреть каждый город в отдельности."
   ]
  },
  {
   "cell_type": "markdown",
   "metadata": {
    "id": "POzs8bGa_Zcu"
   },
   "source": [
    "Вы видели, как работает группировка по городу и по дням недели. Теперь напишите функцию, которая объединит два эти расчёта.\n",
    "\n",
    "Создайте функцию `number_tracks()`, которая посчитает прослушивания для заданного дня и города. Ей понадобятся два параметра:\n",
    "* день недели,\n",
    "* название города.\n",
    "\n",
    "В функции сохраните в переменную строки исходной таблицы, у которых значение:\n",
    "  * в колонке `day` равно параметру `day`,\n",
    "  * в колонке `city` равно параметру `city`.\n",
    "\n",
    "Для этого примените последовательную фильтрацию с логической индексацией.\n",
    "\n",
    "Затем посчитайте значения в столбце `user_id` получившейся таблицы. Результат сохраните в новую переменную. Верните эту переменную из функции."
   ]
  },
  {
   "cell_type": "code",
   "execution_count": 20,
   "metadata": {
    "id": "Nz3GdQB1_Zcu"
   },
   "outputs": [],
   "source": [
    "# <создание функции number_tracks()>\n",
    "def number_tracks(day, city):# Объявляется функция с двумя параметрами: day, city.\n",
    "    track_list=df[(df['day']==day) & (df['city']==city)]# В переменной track_list сохраняются те строки таблицы df, для которых \n",
    "# значение в столбце 'day' равно параметру day и одновременно значение\n",
    "# в столбце 'city' равно параметру city (используйте последовательную фильтрацию\n",
    "# с помощью логической индексации).\n",
    "# В переменной track_list_count сохраняется число значений столбца 'user_id',\n",
    "    track_list_count = track_list['user_id'].count()# рассчитанное методом count() для таблицы track_list.\n",
    "    return track_list_count# Функция возвращает число - значение track_list_count.\n",
    "# Функция для подсчёта прослушиваний для конкретного города и дня.\n",
    "# С помощью последовательной фильтрации с логической индексацией она \n",
    "# сначала получит из исходной таблицы строки с нужным днём,\n",
    "# затем из результата отфильтрует строки с нужным городом,\n",
    "# методом count() посчитает количество значений в колонке user_id. \n",
    "# Это количество функция вернёт в качестве результата"
   ]
  },
  {
   "cell_type": "markdown",
   "metadata": {
    "id": "ytf7xFrFJQ2r"
   },
   "source": [
    "Вызовите `number_tracks()` шесть раз, меняя значение параметров — так, чтобы получить данные для каждого города в каждый из трёх дней."
   ]
  },
  {
   "cell_type": "code",
   "execution_count": 21,
   "metadata": {
    "id": "rJcRATNQ_Zcu"
   },
   "outputs": [
    {
     "data": {
      "text/plain": [
       "15740"
      ]
     },
     "execution_count": 21,
     "metadata": {},
     "output_type": "execute_result"
    }
   ],
   "source": [
    "number_tracks('Monday', 'Moscow')# количество прослушиваний в Москве по понедельникам"
   ]
  },
  {
   "cell_type": "code",
   "execution_count": 22,
   "metadata": {
    "id": "hq_ncZ5T_Zcu"
   },
   "outputs": [
    {
     "data": {
      "text/plain": [
       "5614"
      ]
     },
     "execution_count": 22,
     "metadata": {},
     "output_type": "execute_result"
    }
   ],
   "source": [
    "number_tracks('Monday', 'Saint-Petersburg')# количество прослушиваний в Санкт-Петербурге по понедельникам"
   ]
  },
  {
   "cell_type": "code",
   "execution_count": 23,
   "metadata": {
    "id": "_NTy2VPU_Zcu"
   },
   "outputs": [
    {
     "data": {
      "text/plain": [
       "11056"
      ]
     },
     "execution_count": 23,
     "metadata": {},
     "output_type": "execute_result"
    }
   ],
   "source": [
    "number_tracks('Wednesday', 'Moscow')# количество прослушиваний в Москве по средам"
   ]
  },
  {
   "cell_type": "code",
   "execution_count": 24,
   "metadata": {
    "id": "j2y3TAwo_Zcu"
   },
   "outputs": [
    {
     "data": {
      "text/plain": [
       "7003"
      ]
     },
     "execution_count": 24,
     "metadata": {},
     "output_type": "execute_result"
    }
   ],
   "source": [
    "number_tracks('Wednesday', 'Saint-Petersburg')# количество прослушиваний в Санкт-Петербурге по средам"
   ]
  },
  {
   "cell_type": "code",
   "execution_count": 25,
   "metadata": {
    "id": "vYDw5u_K_Zcu"
   },
   "outputs": [
    {
     "data": {
      "text/plain": [
       "15945"
      ]
     },
     "execution_count": 25,
     "metadata": {},
     "output_type": "execute_result"
    }
   ],
   "source": [
    "number_tracks('Friday', 'Moscow')# количество прослушиваний в Москве по пятницам"
   ]
  },
  {
   "cell_type": "code",
   "execution_count": 26,
   "metadata": {
    "id": "8_yzFtW3_Zcu"
   },
   "outputs": [
    {
     "data": {
      "text/plain": [
       "5895"
      ]
     },
     "execution_count": 26,
     "metadata": {},
     "output_type": "execute_result"
    }
   ],
   "source": [
    "number_tracks('Friday', 'Saint-Petersburg')# количество прослушиваний в Санкт-Петербурге по пятницам"
   ]
  },
  {
   "cell_type": "markdown",
   "metadata": {
    "id": "7QXffbO-_Zcu"
   },
   "source": [
    "Создайте c помощью конструктора `pd.DataFrame` таблицу, где\n",
    "* названия колонок — `['city', 'monday', 'wednesday', 'friday']`;\n",
    "* данные — результаты, которые вы получили с помощью `number_tracks`."
   ]
  },
  {
   "cell_type": "code",
   "execution_count": 27,
   "metadata": {
    "id": "APAcLpOr_Zcu"
   },
   "outputs": [
    {
     "data": {
      "text/html": [
       "<div>\n",
       "<style scoped>\n",
       "    .dataframe tbody tr th:only-of-type {\n",
       "        vertical-align: middle;\n",
       "    }\n",
       "\n",
       "    .dataframe tbody tr th {\n",
       "        vertical-align: top;\n",
       "    }\n",
       "\n",
       "    .dataframe thead th {\n",
       "        text-align: right;\n",
       "    }\n",
       "</style>\n",
       "<table border=\"1\" class=\"dataframe\">\n",
       "  <thead>\n",
       "    <tr style=\"text-align: right;\">\n",
       "      <th></th>\n",
       "      <th>user_id</th>\n",
       "      <th>track</th>\n",
       "      <th>artist</th>\n",
       "      <th>genre</th>\n",
       "      <th>city</th>\n",
       "      <th>time</th>\n",
       "      <th>day</th>\n",
       "    </tr>\n",
       "  </thead>\n",
       "  <tbody>\n",
       "    <tr>\n",
       "      <td>0</td>\n",
       "      <td>FFB692EC</td>\n",
       "      <td>Kamigata To Boots</td>\n",
       "      <td>The Mass Missile</td>\n",
       "      <td>rock</td>\n",
       "      <td>Saint-Petersburg</td>\n",
       "      <td>20:28:33</td>\n",
       "      <td>Wednesday</td>\n",
       "    </tr>\n",
       "    <tr>\n",
       "      <td>1</td>\n",
       "      <td>55204538</td>\n",
       "      <td>Delayed Because of Accident</td>\n",
       "      <td>Andreas Rönnberg</td>\n",
       "      <td>rock</td>\n",
       "      <td>Moscow</td>\n",
       "      <td>14:07:09</td>\n",
       "      <td>Friday</td>\n",
       "    </tr>\n",
       "    <tr>\n",
       "      <td>2</td>\n",
       "      <td>20EC38</td>\n",
       "      <td>Funiculì funiculà</td>\n",
       "      <td>Mario Lanza</td>\n",
       "      <td>pop</td>\n",
       "      <td>Saint-Petersburg</td>\n",
       "      <td>20:58:07</td>\n",
       "      <td>Wednesday</td>\n",
       "    </tr>\n",
       "    <tr>\n",
       "      <td>3</td>\n",
       "      <td>A3DD03C9</td>\n",
       "      <td>Dragons in the Sunset</td>\n",
       "      <td>Fire + Ice</td>\n",
       "      <td>folk</td>\n",
       "      <td>Saint-Petersburg</td>\n",
       "      <td>08:37:09</td>\n",
       "      <td>Monday</td>\n",
       "    </tr>\n",
       "    <tr>\n",
       "      <td>4</td>\n",
       "      <td>E2DC1FAE</td>\n",
       "      <td>Soul People</td>\n",
       "      <td>Space Echo</td>\n",
       "      <td>dance</td>\n",
       "      <td>Moscow</td>\n",
       "      <td>08:34:34</td>\n",
       "      <td>Monday</td>\n",
       "    </tr>\n",
       "  </tbody>\n",
       "</table>\n",
       "</div>"
      ],
      "text/plain": [
       "    user_id                        track            artist  genre  \\\n",
       "0  FFB692EC            Kamigata To Boots  The Mass Missile   rock   \n",
       "1  55204538  Delayed Because of Accident  Andreas Rönnberg   rock   \n",
       "2    20EC38            Funiculì funiculà       Mario Lanza    pop   \n",
       "3  A3DD03C9        Dragons in the Sunset        Fire + Ice   folk   \n",
       "4  E2DC1FAE                  Soul People        Space Echo  dance   \n",
       "\n",
       "               city      time        day  \n",
       "0  Saint-Petersburg  20:28:33  Wednesday  \n",
       "1            Moscow  14:07:09     Friday  \n",
       "2  Saint-Petersburg  20:58:07  Wednesday  \n",
       "3  Saint-Petersburg  08:37:09     Monday  \n",
       "4            Moscow  08:34:34     Monday  "
      ]
     },
     "execution_count": 27,
     "metadata": {},
     "output_type": "execute_result"
    }
   ],
   "source": [
    "data = [['Moscow', 15740, 11056, 15945],\n",
    "        ['Saint-Petersburg', 5614, 7003, 5895]]\n",
    "columns = ['city', 'monday', 'wednesday', 'friday'] \n",
    "table = pd.DataFrame(data = data, columns = columns) \n",
    "df.head()# Таблица с результатами"
   ]
  },
  {
   "cell_type": "markdown",
   "metadata": {
    "id": "-EgPIHYu_Zcu"
   },
   "source": [
    "**Выводы**\n",
    "\n",
    "Данные показывают разницу поведения пользователей:\n",
    "\n",
    "- В Москве пик прослушиваний приходится на понедельник и пятницу, а в среду заметен спад.\n",
    "- В Петербурге, наоборот, больше слушают музыку по средам. Активность в понедельник и пятницу здесь почти в равной мере уступает среде.\n",
    "\n",
    "Значит, данные говорят в пользу первой гипотезы."
   ]
  },
  {
   "cell_type": "markdown",
   "metadata": {
    "id": "atZAxtq4_Zcu"
   },
   "source": [
    "### Музыка в начале и в конце недели"
   ]
  },
  {
   "cell_type": "markdown",
   "metadata": {
    "id": "eXrQqXFH_Zcu"
   },
   "source": [
    "Согласно второй гипотезе, утром в понедельник в Москве преобладают одни жанры, а в Петербурге — другие. Так же и вечером пятницы преобладают разные жанры — в зависимости от города."
   ]
  },
  {
   "cell_type": "markdown",
   "metadata": {
    "id": "S8UcW6Hw_Zcu"
   },
   "source": [
    "Сохраните таблицы с данными в две переменные:\n",
    "* по Москве — в `moscow_general`;\n",
    "* по Санкт-Петербургу — в `spb_general`."
   ]
  },
  {
   "cell_type": "code",
   "execution_count": 28,
   "metadata": {
    "id": "qeaFfM_P_Zcu"
   },
   "outputs": [
    {
     "data": {
      "text/html": [
       "<div>\n",
       "<style scoped>\n",
       "    .dataframe tbody tr th:only-of-type {\n",
       "        vertical-align: middle;\n",
       "    }\n",
       "\n",
       "    .dataframe tbody tr th {\n",
       "        vertical-align: top;\n",
       "    }\n",
       "\n",
       "    .dataframe thead th {\n",
       "        text-align: right;\n",
       "    }\n",
       "</style>\n",
       "<table border=\"1\" class=\"dataframe\">\n",
       "  <thead>\n",
       "    <tr style=\"text-align: right;\">\n",
       "      <th></th>\n",
       "      <th>user_id</th>\n",
       "      <th>track</th>\n",
       "      <th>artist</th>\n",
       "      <th>genre</th>\n",
       "      <th>city</th>\n",
       "      <th>time</th>\n",
       "      <th>day</th>\n",
       "    </tr>\n",
       "  </thead>\n",
       "  <tbody>\n",
       "    <tr>\n",
       "      <td>1</td>\n",
       "      <td>55204538</td>\n",
       "      <td>Delayed Because of Accident</td>\n",
       "      <td>Andreas Rönnberg</td>\n",
       "      <td>rock</td>\n",
       "      <td>Moscow</td>\n",
       "      <td>14:07:09</td>\n",
       "      <td>Friday</td>\n",
       "    </tr>\n",
       "    <tr>\n",
       "      <td>4</td>\n",
       "      <td>E2DC1FAE</td>\n",
       "      <td>Soul People</td>\n",
       "      <td>Space Echo</td>\n",
       "      <td>dance</td>\n",
       "      <td>Moscow</td>\n",
       "      <td>08:34:34</td>\n",
       "      <td>Monday</td>\n",
       "    </tr>\n",
       "    <tr>\n",
       "      <td>6</td>\n",
       "      <td>4CB90AA5</td>\n",
       "      <td>True</td>\n",
       "      <td>Roman Messer</td>\n",
       "      <td>dance</td>\n",
       "      <td>Moscow</td>\n",
       "      <td>13:00:07</td>\n",
       "      <td>Wednesday</td>\n",
       "    </tr>\n",
       "    <tr>\n",
       "      <td>7</td>\n",
       "      <td>F03E1C1F</td>\n",
       "      <td>Feeling This Way</td>\n",
       "      <td>Polina Griffith</td>\n",
       "      <td>dance</td>\n",
       "      <td>Moscow</td>\n",
       "      <td>20:47:49</td>\n",
       "      <td>Wednesday</td>\n",
       "    </tr>\n",
       "    <tr>\n",
       "      <td>8</td>\n",
       "      <td>8FA1D3BE</td>\n",
       "      <td>И вновь продолжается бой</td>\n",
       "      <td>unknown</td>\n",
       "      <td>ruspop</td>\n",
       "      <td>Moscow</td>\n",
       "      <td>09:17:40</td>\n",
       "      <td>Friday</td>\n",
       "    </tr>\n",
       "  </tbody>\n",
       "</table>\n",
       "</div>"
      ],
      "text/plain": [
       "    user_id                        track            artist   genre    city  \\\n",
       "1  55204538  Delayed Because of Accident  Andreas Rönnberg    rock  Moscow   \n",
       "4  E2DC1FAE                  Soul People        Space Echo   dance  Moscow   \n",
       "6  4CB90AA5                         True      Roman Messer   dance  Moscow   \n",
       "7  F03E1C1F             Feeling This Way   Polina Griffith   dance  Moscow   \n",
       "8  8FA1D3BE     И вновь продолжается бой           unknown  ruspop  Moscow   \n",
       "\n",
       "       time        day  \n",
       "1  14:07:09     Friday  \n",
       "4  08:34:34     Monday  \n",
       "6  13:00:07  Wednesday  \n",
       "7  20:47:49  Wednesday  \n",
       "8  09:17:40     Friday  "
      ]
     },
     "execution_count": 28,
     "metadata": {},
     "output_type": "execute_result"
    }
   ],
   "source": [
    "moscow_general = df[df['city'] == 'Moscow']# получение таблицы moscow_general из тех строк таблицы df, \n",
    "moscow_general.head()# для которых значение в столбце 'city' равно 'Moscow'\n"
   ]
  },
  {
   "cell_type": "code",
   "execution_count": 29,
   "metadata": {
    "id": "ORaVRKto_Zcu"
   },
   "outputs": [
    {
     "data": {
      "text/html": [
       "<div>\n",
       "<style scoped>\n",
       "    .dataframe tbody tr th:only-of-type {\n",
       "        vertical-align: middle;\n",
       "    }\n",
       "\n",
       "    .dataframe tbody tr th {\n",
       "        vertical-align: top;\n",
       "    }\n",
       "\n",
       "    .dataframe thead th {\n",
       "        text-align: right;\n",
       "    }\n",
       "</style>\n",
       "<table border=\"1\" class=\"dataframe\">\n",
       "  <thead>\n",
       "    <tr style=\"text-align: right;\">\n",
       "      <th></th>\n",
       "      <th>user_id</th>\n",
       "      <th>track</th>\n",
       "      <th>artist</th>\n",
       "      <th>genre</th>\n",
       "      <th>city</th>\n",
       "      <th>time</th>\n",
       "      <th>day</th>\n",
       "    </tr>\n",
       "  </thead>\n",
       "  <tbody>\n",
       "    <tr>\n",
       "      <td>0</td>\n",
       "      <td>FFB692EC</td>\n",
       "      <td>Kamigata To Boots</td>\n",
       "      <td>The Mass Missile</td>\n",
       "      <td>rock</td>\n",
       "      <td>Saint-Petersburg</td>\n",
       "      <td>20:28:33</td>\n",
       "      <td>Wednesday</td>\n",
       "    </tr>\n",
       "    <tr>\n",
       "      <td>2</td>\n",
       "      <td>20EC38</td>\n",
       "      <td>Funiculì funiculà</td>\n",
       "      <td>Mario Lanza</td>\n",
       "      <td>pop</td>\n",
       "      <td>Saint-Petersburg</td>\n",
       "      <td>20:58:07</td>\n",
       "      <td>Wednesday</td>\n",
       "    </tr>\n",
       "    <tr>\n",
       "      <td>3</td>\n",
       "      <td>A3DD03C9</td>\n",
       "      <td>Dragons in the Sunset</td>\n",
       "      <td>Fire + Ice</td>\n",
       "      <td>folk</td>\n",
       "      <td>Saint-Petersburg</td>\n",
       "      <td>08:37:09</td>\n",
       "      <td>Monday</td>\n",
       "    </tr>\n",
       "    <tr>\n",
       "      <td>5</td>\n",
       "      <td>842029A1</td>\n",
       "      <td>Преданная</td>\n",
       "      <td>IMPERVTOR</td>\n",
       "      <td>rusrap</td>\n",
       "      <td>Saint-Petersburg</td>\n",
       "      <td>13:09:41</td>\n",
       "      <td>Friday</td>\n",
       "    </tr>\n",
       "    <tr>\n",
       "      <td>9</td>\n",
       "      <td>E772D5C0</td>\n",
       "      <td>Pessimist</td>\n",
       "      <td>unknown</td>\n",
       "      <td>dance</td>\n",
       "      <td>Saint-Petersburg</td>\n",
       "      <td>21:20:49</td>\n",
       "      <td>Wednesday</td>\n",
       "    </tr>\n",
       "  </tbody>\n",
       "</table>\n",
       "</div>"
      ],
      "text/plain": [
       "    user_id                  track            artist   genre  \\\n",
       "0  FFB692EC      Kamigata To Boots  The Mass Missile    rock   \n",
       "2    20EC38      Funiculì funiculà       Mario Lanza     pop   \n",
       "3  A3DD03C9  Dragons in the Sunset        Fire + Ice    folk   \n",
       "5  842029A1              Преданная         IMPERVTOR  rusrap   \n",
       "9  E772D5C0              Pessimist           unknown   dance   \n",
       "\n",
       "               city      time        day  \n",
       "0  Saint-Petersburg  20:28:33  Wednesday  \n",
       "2  Saint-Petersburg  20:58:07  Wednesday  \n",
       "3  Saint-Petersburg  08:37:09     Monday  \n",
       "5  Saint-Petersburg  13:09:41     Friday  \n",
       "9  Saint-Petersburg  21:20:49  Wednesday  "
      ]
     },
     "execution_count": 29,
     "metadata": {},
     "output_type": "execute_result"
    }
   ],
   "source": [
    "spb_general = df[df['city'] == 'Saint-Petersburg']# получение таблицы spb_general из тех строк таблицы df,\n",
    "spb_general.head()# для которых значение в столбце 'city' равно 'Saint-Petersburg'\n"
   ]
  },
  {
   "cell_type": "markdown",
   "metadata": {
    "id": "MEJV-CX2_Zcu"
   },
   "source": [
    "Создайте функцию `genre_weekday()` с четырьмя параметрами:\n",
    "* таблица (датафрейм) с данными,\n",
    "* день недели,\n",
    "* начальная временная метка в формате 'hh:mm', \n",
    "* последняя временная метка в формате 'hh:mm'.\n",
    "\n",
    "Функция должна вернуть информацию о топ-10 жанров тех треков, которые прослушивали в указанный день, в промежутке между двумя отметками времени."
   ]
  },
  {
   "cell_type": "code",
   "execution_count": 30,
   "metadata": {
    "id": "laJT9BYl_Zcu"
   },
   "outputs": [],
   "source": [
    "def genre_weekday(table, day, time1, time2):# Объявление функции genre_weekday() с параметрами table, day, time1, time2,\n",
    "# которая возвращает информацию о самых популярных жанрах в указанный день в\n",
    "# заданное время:\n",
    "\n",
    "    genre_df = table[table['day'] == day]# 1) в переменную genre_df сохраняются те строки переданного датафрейма table, для\n",
    "#    которых одновременно:\n",
    "    #   - значение в столбце day равно значению аргумента day\n",
    "    genre_df = genre_df[genre_df['time'] > time1]#    - значение в столбце time больше значения аргумента time1\n",
    "    genre_df = genre_df[genre_df['time'] < time2]#    - значение в столбце time меньше значения аргумента time2\n",
    "    genre_df_count = genre_df.groupby('genre')['track'].count()#    Используйте последовательную фильтрацию с помощью логической индексации.\n",
    "    genre_df_sorted = genre_df_count.sort_values(ascending=False)# 2) сгруппировать датафрейм genre_df по столбцу genre, взять один из его\n",
    "#    столбцов и посчитать методом count() количество записей для каждого из\n",
    "#    присутствующих жанров, получившийся Series записать в переменную\n",
    "#    genre_df_count\n",
    "# 3) отсортировать genre_df_count по убыванию встречаемости и сохранить\n",
    "#    в переменную genre_df_sorted\n",
    "    return genre_df_sorted.head(10)# 4) вернуть Series из 10 первых значений genre_df_sorted, это будут топ-10\n",
    "#    популярных жанров (в указанный день, в заданное время)"
   ]
  },
  {
   "cell_type": "markdown",
   "metadata": {
    "id": "la2s2_PF_Zcu"
   },
   "source": [
    "Cравните результаты функции `genre_weekday()` для Москвы и Санкт-Петербурга в понедельник утром (с 7:00 до 11:00) и в пятницу вечером (с 17:00 до 23:00):"
   ]
  },
  {
   "cell_type": "code",
   "execution_count": 31,
   "metadata": {
    "id": "yz7itPUQ_Zcu"
   },
   "outputs": [
    {
     "data": {
      "text/plain": [
       "genre\n",
       "pop            781\n",
       "dance          549\n",
       "electronic     480\n",
       "rock           474\n",
       "hiphop         286\n",
       "ruspop         186\n",
       "world          181\n",
       "rusrap         175\n",
       "alternative    164\n",
       "unknown        161\n",
       "Name: track, dtype: int64"
      ]
     },
     "execution_count": 31,
     "metadata": {},
     "output_type": "execute_result"
    }
   ],
   "source": [
    "genre_weekday(moscow_general, 'Monday', '07:00', '11:00')\n",
    "# вызов функции для утра понедельника в Москве (вместо df — таблица moscow_general)\n",
    "# объекты, хранящие время, являются строками и сравниваются как строки\n",
    "# пример вызова: genre_weekday(moscow_general, 'monday', '07:00', '11:00')\n",
    "\n"
   ]
  },
  {
   "cell_type": "code",
   "execution_count": 32,
   "metadata": {
    "id": "kwUcHPdy_Zcu"
   },
   "outputs": [
    {
     "data": {
      "text/plain": [
       "genre\n",
       "pop            218\n",
       "dance          182\n",
       "rock           162\n",
       "electronic     147\n",
       "hiphop          80\n",
       "ruspop          64\n",
       "alternative     58\n",
       "rusrap          55\n",
       "jazz            44\n",
       "classical       40\n",
       "Name: track, dtype: int64"
      ]
     },
     "execution_count": 32,
     "metadata": {},
     "output_type": "execute_result"
    }
   ],
   "source": [
    "genre_weekday(spb_general ,'Monday','07:00', '11:00')# вызов функции для утра понедельника в Петербурге (вместо df — таблица spb_general)\n"
   ]
  },
  {
   "cell_type": "code",
   "execution_count": 33,
   "metadata": {
    "id": "EzXVRE1o_Zcu"
   },
   "outputs": [
    {
     "data": {
      "text/plain": [
       "genre\n",
       "pop            713\n",
       "rock           517\n",
       "dance          495\n",
       "electronic     482\n",
       "hiphop         273\n",
       "world          208\n",
       "ruspop         170\n",
       "alternative    163\n",
       "classical      163\n",
       "rusrap         142\n",
       "Name: track, dtype: int64"
      ]
     },
     "execution_count": 33,
     "metadata": {},
     "output_type": "execute_result"
    }
   ],
   "source": [
    "genre_weekday(moscow_general, 'Friday', '17:00', '23:00')# вызов функции для вечера пятницы в Москве"
   ]
  },
  {
   "cell_type": "code",
   "execution_count": 34,
   "metadata": {
    "id": "JZaEKu5v_Zcu"
   },
   "outputs": [
    {
     "data": {
      "text/plain": [
       "genre\n",
       "pop            256\n",
       "rock           216\n",
       "electronic     216\n",
       "dance          210\n",
       "hiphop          97\n",
       "alternative     63\n",
       "jazz            61\n",
       "classical       60\n",
       "rusrap          59\n",
       "world           54\n",
       "Name: track, dtype: int64"
      ]
     },
     "execution_count": 34,
     "metadata": {},
     "output_type": "execute_result"
    }
   ],
   "source": [
    "genre_weekday(spb_general, 'Friday', '17:00', '23:00')# вызов функции для вечера пятницы в Петербурге"
   ]
  },
  {
   "cell_type": "markdown",
   "metadata": {
    "id": "wrCe4MNX_Zcu"
   },
   "source": [
    "**Выводы**\n",
    "\n",
    "Если сравнить топ-10 жанров в понедельник утром, можно сделать такие выводы:\n",
    "\n",
    "1. В Москве и Петербурге слушают похожую музыку. Единственное отличие — в московский рейтинг вошёл жанр “world”, а в петербургский — джаз и классика.\n",
    "\n",
    "2. В Москве пропущенных значений оказалось так много, что значение `'unknown'` заняло десятое место среди самых популярных жанров. Значит, пропущенные значения занимают существенную долю в данных и угрожают достоверности исследования.\n",
    "\n",
    "Вечер пятницы не меняет эту картину. Некоторые жанры поднимаются немного выше, другие спускаются, но в целом топ-10 остаётся тем же самым.\n",
    "\n",
    "Таким образом, вторая гипотеза подтвердилась лишь частично:\n",
    "* Пользователи слушают похожую музыку в начале недели и в конце.\n",
    "* Разница между Москвой и Петербургом не слишком выражена. В Москве чаще слушают русскую популярную музыку, в Петербурге — джаз.\n",
    "\n",
    "Однако пропуски в данных ставят под сомнение этот результат. В Москве их так много, что рейтинг топ-10 мог бы выглядеть иначе, если бы не утерянные  данные о жанрах."
   ]
  },
  {
   "cell_type": "markdown",
   "metadata": {
    "id": "JolODAqr_Zcu"
   },
   "source": [
    "### Жанровые предпочтения в Москве и Петербурге\n",
    "\n",
    "Гипотеза: Петербург — столица рэпа, музыку этого жанра там слушают чаще, чем в Москве.  А Москва — город контрастов, в котором, тем не менее, преобладает поп-музыка."
   ]
  },
  {
   "cell_type": "markdown",
   "metadata": {
    "id": "DlegSvaT_Zcu"
   },
   "source": [
    "Сгруппируйте таблицу `moscow_general` по жанру и посчитайте прослушивания треков каждого жанра методом `count()`. Затем отсортируйте результат в порядке убывания и сохраните его в таблице `moscow_genres`."
   ]
  },
  {
   "cell_type": "code",
   "execution_count": 35,
   "metadata": {
    "id": "r19lIPke_Zcu"
   },
   "outputs": [],
   "source": [
    "moscow_genres=moscow_general.groupby('genre')['genre'].count().sort_values(ascending = False)# одной строкой: группировка таблицы moscow_general по столбцу 'genre', \n",
    "# подсчёт числа значений 'genre' в этой группировке методом count(), \n",
    "# сортировка получившегося Series в порядке убывания и сохранение в moscow_genres"
   ]
  },
  {
   "cell_type": "markdown",
   "metadata": {
    "id": "6kMuomxTiIr8"
   },
   "source": [
    "Выведите на экран первые десять строк `moscow_genres`:"
   ]
  },
  {
   "cell_type": "code",
   "execution_count": 36,
   "metadata": {
    "id": "WhCSooF8_Zcv"
   },
   "outputs": [
    {
     "data": {
      "text/plain": [
       "genre\n",
       "pop            5892\n",
       "dance          4435\n",
       "rock           3965\n",
       "electronic     3786\n",
       "hiphop         2096\n",
       "classical      1616\n",
       "world          1432\n",
       "alternative    1379\n",
       "ruspop         1372\n",
       "rusrap         1161\n",
       "Name: genre, dtype: int64"
      ]
     },
     "execution_count": 36,
     "metadata": {},
     "output_type": "execute_result"
    }
   ],
   "source": [
    "moscow_genres.head(10)# просмотр первых 10 строк moscow_genres"
   ]
  },
  {
   "cell_type": "markdown",
   "metadata": {
    "id": "cnPG2vnN_Zcv"
   },
   "source": [
    "Теперь повторите то же и для Петербурга.\n",
    "\n",
    "Сгруппируйте таблицу `spb_general` по жанру. Посчитайте прослушивания треков каждого жанра. Результат отсортируйте в порядке убывания и сохраните в таблице `spb_genres`:\n"
   ]
  },
  {
   "cell_type": "code",
   "execution_count": 37,
   "metadata": {
    "id": "gluLIpE7_Zcv"
   },
   "outputs": [],
   "source": [
    "spb_genres=spb_general.groupby('genre')['genre'].count().sort_values(ascending = False)# одной строкой: группировка таблицы spb_general по столбцу 'genre', \n",
    "# подсчёт числа значений 'genre' в этой группировке методом count(), \n",
    "# сортировка получившегося Series в порядке убывания и сохранение в spb_genres"
   ]
  },
  {
   "cell_type": "markdown",
   "metadata": {
    "id": "5Doha_ODgyQ8"
   },
   "source": [
    "Выведите на экран первые десять строк `spb_genres`:"
   ]
  },
  {
   "cell_type": "code",
   "execution_count": 38,
   "metadata": {
    "id": "uaGJHjVU_Zcv"
   },
   "outputs": [
    {
     "data": {
      "text/plain": [
       "genre\n",
       "pop            2431\n",
       "dance          1932\n",
       "rock           1879\n",
       "electronic     1736\n",
       "hiphop          960\n",
       "alternative     649\n",
       "classical       646\n",
       "rusrap          564\n",
       "ruspop          538\n",
       "world           515\n",
       "Name: genre, dtype: int64"
      ]
     },
     "execution_count": 38,
     "metadata": {},
     "output_type": "execute_result"
    }
   ],
   "source": [
    "spb_genres.head(10)# просмотр первых 10 строк spb_genres"
   ]
  },
  {
   "cell_type": "markdown",
   "metadata": {
    "id": "RY51YJYu_Zcv"
   },
   "source": [
    "**Выводы**"
   ]
  },
  {
   "cell_type": "markdown",
   "metadata": {
    "id": "nVhnJEm__Zcv"
   },
   "source": [
    "Гипотеза частично подтвердилась:\n",
    "* Поп-музыка — самый популярный жанр в Москве, как и предполагала гипотеза. Более того, в топ-10 жанров встречается близкий жанр — русская популярная музыка.\n",
    "* Вопреки ожиданиям, рэп одинаково популярен в Москве и Петербурге. \n"
   ]
  },
  {
   "cell_type": "markdown",
   "metadata": {
    "id": "ykKQ0N65_Zcv"
   },
   "source": [
    "## Итоги исследования"
   ]
  },
  {
   "cell_type": "markdown",
   "metadata": {
    "id": "tjUwbHb3_Zcv"
   },
   "source": [
    "Вы проверили три гипотезы и установили:\n",
    "\n",
    "1. День недели по-разному влияет на активность пользователей в Москве и Петербурге. \n",
    "\n",
    "Первая гипотеза полностью подтвердилась.\n",
    "\n",
    "2. Музыкальные предпочтения не сильно меняются в течение недели — будь то Москва или Петербург. Небольшие различия заметны в начале недели, по понедельникам:\n",
    "* в Москве слушают музыку жанра “world”,\n",
    "* в Петербурге — джаз и классику.\n",
    "\n",
    "Таким образом, вторая гипотеза подтвердилась лишь отчасти. Этот результат мог оказаться иным, если бы не пропуски в данных.\n",
    "\n",
    "3. Во вкусах пользователей Москвы и Петербурга больше общего чем различий. Вопреки ожиданиям, предпочтения жанров в Петербурге напоминают московские.\n",
    "\n",
    "Третья гипотеза не подтвердилась. Если различия в предпочтениях и существуют, на основной массе пользователей они незаметны.\n",
    "\n",
    "**На практике исследования содержат проверки статистических гипотез.**\n",
    "Из данных одного сервиса не всегда можно сделать вывод о всех жителях города.\n",
    "Проверки статистических гипотез покажут, насколько они достоверны, исходя из имеющихся данных. \n",
    "С методами проверок гипотез вы ещё познакомитесь в следующих темах."
   ]
  }
 ],
 "metadata": {
  "ExecuteTimeLog": [
   {
    "duration": 271,
    "start_time": "2021-12-15T02:13:26.605Z"
   },
   {
    "duration": 249,
    "start_time": "2021-12-15T02:15:57.878Z"
   },
   {
    "duration": 236,
    "start_time": "2021-12-15T02:16:12.244Z"
   },
   {
    "duration": 527,
    "start_time": "2021-12-15T02:19:10.320Z"
   },
   {
    "duration": 122,
    "start_time": "2021-12-15T02:19:17.920Z"
   },
   {
    "duration": 15,
    "start_time": "2021-12-15T02:19:25.892Z"
   },
   {
    "duration": 22,
    "start_time": "2021-12-15T02:20:07.592Z"
   },
   {
    "duration": 4,
    "start_time": "2021-12-15T02:29:54.606Z"
   },
   {
    "duration": 3,
    "start_time": "2021-12-15T02:30:58.231Z"
   },
   {
    "duration": 4,
    "start_time": "2021-12-15T02:31:24.363Z"
   },
   {
    "duration": 22,
    "start_time": "2021-12-15T04:02:54.164Z"
   },
   {
    "duration": 18,
    "start_time": "2021-12-15T04:04:03.620Z"
   },
   {
    "duration": 21,
    "start_time": "2021-12-15T04:04:54.650Z"
   },
   {
    "duration": 58,
    "start_time": "2021-12-15T04:05:19.993Z"
   },
   {
    "duration": 104,
    "start_time": "2021-12-15T04:05:47.700Z"
   },
   {
    "duration": 92,
    "start_time": "2021-12-15T04:06:09.053Z"
   },
   {
    "duration": 10,
    "start_time": "2021-12-15T04:06:57.457Z"
   },
   {
    "duration": 81,
    "start_time": "2021-12-15T04:12:04.547Z"
   },
   {
    "duration": 257,
    "start_time": "2021-12-15T04:13:20.797Z"
   },
   {
    "duration": 3,
    "start_time": "2021-12-15T04:14:25.374Z"
   },
   {
    "duration": 77,
    "start_time": "2021-12-15T04:16:10.209Z"
   },
   {
    "duration": 234,
    "start_time": "2021-12-15T04:16:30.697Z"
   },
   {
    "duration": 3,
    "start_time": "2021-12-15T04:16:59.179Z"
   },
   {
    "duration": 2,
    "start_time": "2021-12-15T04:18:53.772Z"
   },
   {
    "duration": 12,
    "start_time": "2021-12-15T04:20:59.351Z"
   },
   {
    "duration": 254,
    "start_time": "2021-12-15T04:21:29.832Z"
   },
   {
    "duration": 6,
    "start_time": "2021-12-15T04:40:56.295Z"
   },
   {
    "duration": 31,
    "start_time": "2021-12-15T04:41:49.121Z"
   },
   {
    "duration": 30,
    "start_time": "2021-12-15T04:42:30.160Z"
   },
   {
    "duration": 78,
    "start_time": "2021-12-15T04:47:48.889Z"
   },
   {
    "duration": 386,
    "start_time": "2021-12-15T04:48:32.864Z"
   },
   {
    "duration": 109,
    "start_time": "2021-12-15T04:49:43.062Z"
   },
   {
    "duration": 83,
    "start_time": "2021-12-15T04:50:04.612Z"
   },
   {
    "duration": 83,
    "start_time": "2021-12-15T04:50:15.841Z"
   },
   {
    "duration": 77,
    "start_time": "2021-12-15T04:50:29.713Z"
   },
   {
    "duration": 3,
    "start_time": "2021-12-15T04:50:37.475Z"
   },
   {
    "duration": 1162,
    "start_time": "2021-12-15T04:50:57.360Z"
   },
   {
    "duration": 5978,
    "start_time": "2021-12-15T04:51:20.335Z"
   },
   {
    "duration": 82,
    "start_time": "2021-12-15T04:51:27.541Z"
   },
   {
    "duration": 3,
    "start_time": "2021-12-15T04:51:38.938Z"
   },
   {
    "duration": 5945,
    "start_time": "2021-12-15T04:52:16.550Z"
   },
   {
    "duration": 1130,
    "start_time": "2021-12-15T04:52:21.367Z"
   },
   {
    "duration": 3,
    "start_time": "2021-12-15T04:53:13.459Z"
   },
   {
    "duration": 3,
    "start_time": "2021-12-15T04:53:21.074Z"
   },
   {
    "duration": 15,
    "start_time": "2021-12-15T04:53:28.337Z"
   },
   {
    "duration": 13,
    "start_time": "2021-12-15T04:54:01.882Z"
   },
   {
    "duration": 14,
    "start_time": "2021-12-15T04:54:19.152Z"
   },
   {
    "duration": 13,
    "start_time": "2021-12-15T04:54:44.938Z"
   },
   {
    "duration": 17,
    "start_time": "2021-12-15T04:55:10.402Z"
   },
   {
    "duration": 13,
    "start_time": "2021-12-15T04:55:30.368Z"
   },
   {
    "duration": 11,
    "start_time": "2021-12-15T04:56:26.851Z"
   },
   {
    "duration": 4,
    "start_time": "2021-12-15T04:56:50.005Z"
   },
   {
    "duration": 4,
    "start_time": "2021-12-15T04:56:56.034Z"
   },
   {
    "duration": 10,
    "start_time": "2021-12-15T04:57:02.714Z"
   },
   {
    "duration": 17,
    "start_time": "2021-12-15T04:58:37.008Z"
   },
   {
    "duration": 15,
    "start_time": "2021-12-15T04:59:28.018Z"
   },
   {
    "duration": 4,
    "start_time": "2021-12-15T05:04:33.546Z"
   },
   {
    "duration": 6333,
    "start_time": "2021-12-15T05:24:04.955Z"
   },
   {
    "duration": 6096,
    "start_time": "2021-12-15T05:28:25.902Z"
   },
   {
    "duration": 5829,
    "start_time": "2021-12-15T05:28:33.250Z"
   },
   {
    "duration": 1029,
    "start_time": "2021-12-15T05:28:38.052Z"
   },
   {
    "duration": 6079,
    "start_time": "2021-12-15T05:32:21.904Z"
   },
   {
    "duration": 6190,
    "start_time": "2021-12-15T05:32:57.703Z"
   },
   {
    "duration": 7198,
    "start_time": "2021-12-15T05:41:07.471Z"
   },
   {
    "duration": 4,
    "start_time": "2021-12-15T05:44:16.669Z"
   },
   {
    "duration": 4,
    "start_time": "2021-12-15T05:51:06.769Z"
   },
   {
    "duration": 4,
    "start_time": "2021-12-15T06:54:50.513Z"
   },
   {
    "duration": 6285,
    "start_time": "2021-12-15T06:54:56.527Z"
   },
   {
    "duration": 4,
    "start_time": "2021-12-15T06:56:48.968Z"
   },
   {
    "duration": 6390,
    "start_time": "2021-12-15T07:03:17.167Z"
   },
   {
    "duration": 7224,
    "start_time": "2021-12-15T07:03:41.622Z"
   },
   {
    "duration": 6834,
    "start_time": "2021-12-15T07:04:53.476Z"
   },
   {
    "duration": 6662,
    "start_time": "2021-12-15T07:05:05.165Z"
   },
   {
    "duration": 6511,
    "start_time": "2021-12-15T07:16:27.580Z"
   },
   {
    "duration": 6341,
    "start_time": "2021-12-15T07:16:55.472Z"
   },
   {
    "duration": 4,
    "start_time": "2021-12-15T07:21:28.875Z"
   },
   {
    "duration": 640,
    "start_time": "2021-12-15T07:21:38.524Z"
   },
   {
    "duration": 3,
    "start_time": "2021-12-15T07:22:16.234Z"
   },
   {
    "duration": 462,
    "start_time": "2021-12-15T07:22:45.673Z"
   },
   {
    "duration": 475,
    "start_time": "2021-12-15T07:23:27.705Z"
   },
   {
    "duration": 4,
    "start_time": "2021-12-15T07:25:25.827Z"
   },
   {
    "duration": 469,
    "start_time": "2021-12-15T07:26:33.923Z"
   },
   {
    "duration": 77,
    "start_time": "2021-12-15T07:32:02.893Z"
   },
   {
    "duration": 4,
    "start_time": "2021-12-15T07:32:13.406Z"
   },
   {
    "duration": 497,
    "start_time": "2021-12-15T07:32:57.866Z"
   },
   {
    "duration": 4,
    "start_time": "2021-12-15T07:36:11.014Z"
   },
   {
    "duration": 17,
    "start_time": "2021-12-15T07:36:21.162Z"
   },
   {
    "duration": 9,
    "start_time": "2021-12-15T07:37:16.398Z"
   },
   {
    "duration": 16,
    "start_time": "2021-12-15T07:37:28.673Z"
   },
   {
    "duration": 9,
    "start_time": "2021-12-15T07:37:34.743Z"
   },
   {
    "duration": 3,
    "start_time": "2021-12-15T07:46:57.402Z"
   },
   {
    "duration": 483,
    "start_time": "2021-12-15T07:47:08.131Z"
   },
   {
    "duration": 4,
    "start_time": "2021-12-15T07:51:25.807Z"
   },
   {
    "duration": 478,
    "start_time": "2021-12-15T07:51:35.427Z"
   },
   {
    "duration": 483,
    "start_time": "2021-12-15T07:51:45.332Z"
   },
   {
    "duration": 520,
    "start_time": "2021-12-15T07:51:52.593Z"
   },
   {
    "duration": 542,
    "start_time": "2021-12-15T07:52:04.892Z"
   },
   {
    "duration": 7,
    "start_time": "2021-12-15T07:52:44.230Z"
   },
   {
    "duration": 83,
    "start_time": "2021-12-15T07:53:18.316Z"
   },
   {
    "duration": 77,
    "start_time": "2021-12-15T07:54:06.955Z"
   },
   {
    "duration": 277,
    "start_time": "2021-12-15T07:54:23.492Z"
   },
   {
    "duration": 4,
    "start_time": "2021-12-15T08:01:18.503Z"
   },
   {
    "duration": 18,
    "start_time": "2021-12-15T08:01:30.307Z"
   },
   {
    "duration": 257,
    "start_time": "2021-12-15T08:03:54.057Z"
   },
   {
    "duration": 26,
    "start_time": "2021-12-15T08:04:59.048Z"
   },
   {
    "duration": 17,
    "start_time": "2021-12-15T08:09:01.577Z"
   },
   {
    "duration": 3,
    "start_time": "2021-12-15T08:17:45.517Z"
   },
   {
    "duration": 493,
    "start_time": "2021-12-15T08:17:57.541Z"
   },
   {
    "duration": 4,
    "start_time": "2021-12-15T08:18:55.448Z"
   },
   {
    "duration": 584,
    "start_time": "2021-12-15T08:19:04.511Z"
   },
   {
    "duration": 468,
    "start_time": "2021-12-15T08:19:41.048Z"
   },
   {
    "duration": 4,
    "start_time": "2021-12-15T08:20:22.350Z"
   },
   {
    "duration": 18,
    "start_time": "2021-12-15T08:20:49.646Z"
   },
   {
    "duration": 11,
    "start_time": "2021-12-15T08:22:44.046Z"
   },
   {
    "duration": 19,
    "start_time": "2021-12-15T08:22:59.215Z"
   },
   {
    "duration": 7,
    "start_time": "2021-12-15T08:51:35.995Z"
   },
   {
    "duration": 3,
    "start_time": "2021-12-15T09:06:12.419Z"
   },
   {
    "duration": 19,
    "start_time": "2021-12-15T09:06:20.447Z"
   },
   {
    "duration": 6,
    "start_time": "2021-12-15T09:06:27.579Z"
   },
   {
    "duration": 30,
    "start_time": "2021-12-15T09:06:37.938Z"
   },
   {
    "duration": 29,
    "start_time": "2021-12-15T09:06:49.506Z"
   },
   {
    "duration": 12,
    "start_time": "2021-12-15T09:06:58.994Z"
   },
   {
    "duration": 17,
    "start_time": "2021-12-15T09:07:07.170Z"
   },
   {
    "duration": 7,
    "start_time": "2021-12-15T09:07:38.594Z"
   },
   {
    "duration": 24,
    "start_time": "2021-12-15T09:09:06.745Z"
   },
   {
    "duration": 5829,
    "start_time": "2021-12-15T09:11:11.709Z"
   },
   {
    "duration": 6,
    "start_time": "2021-12-15T09:11:39.964Z"
   },
   {
    "duration": 371,
    "start_time": "2021-12-16T06:02:41.396Z"
   },
   {
    "duration": 233,
    "start_time": "2021-12-16T06:03:12.954Z"
   },
   {
    "duration": 295,
    "start_time": "2021-12-16T06:05:58.896Z"
   },
   {
    "duration": 233,
    "start_time": "2021-12-16T06:07:01.648Z"
   },
   {
    "duration": 4,
    "start_time": "2021-12-16T06:11:51.606Z"
   },
   {
    "duration": 3,
    "start_time": "2021-12-16T06:11:59.477Z"
   },
   {
    "duration": 4,
    "start_time": "2021-12-16T06:12:09.575Z"
   },
   {
    "duration": 4,
    "start_time": "2021-12-16T06:12:40.536Z"
   },
   {
    "duration": 3,
    "start_time": "2021-12-16T06:12:51.632Z"
   },
   {
    "duration": 3,
    "start_time": "2021-12-16T06:13:33.874Z"
   },
   {
    "duration": 4,
    "start_time": "2021-12-16T06:13:41.345Z"
   },
   {
    "duration": 3,
    "start_time": "2021-12-16T06:13:47.513Z"
   },
   {
    "duration": 4,
    "start_time": "2021-12-16T06:13:56.124Z"
   },
   {
    "duration": 3,
    "start_time": "2021-12-16T06:14:02.742Z"
   },
   {
    "duration": 3,
    "start_time": "2021-12-16T06:14:15.275Z"
   },
   {
    "duration": 110,
    "start_time": "2021-12-16T06:14:50.337Z"
   },
   {
    "duration": 4,
    "start_time": "2021-12-16T06:14:57.039Z"
   },
   {
    "duration": 3,
    "start_time": "2021-12-16T06:15:20.007Z"
   },
   {
    "duration": 3,
    "start_time": "2021-12-16T06:15:32.224Z"
   },
   {
    "duration": 4,
    "start_time": "2021-12-16T06:15:41.440Z"
   },
   {
    "duration": 80,
    "start_time": "2021-12-16T06:16:33.529Z"
   },
   {
    "duration": 3,
    "start_time": "2021-12-16T06:16:42.248Z"
   },
   {
    "duration": 3,
    "start_time": "2021-12-16T06:16:50.922Z"
   },
   {
    "duration": 2,
    "start_time": "2021-12-16T06:16:59.605Z"
   },
   {
    "duration": 3,
    "start_time": "2021-12-16T06:17:07.402Z"
   },
   {
    "duration": 3,
    "start_time": "2021-12-16T06:17:15.540Z"
   },
   {
    "duration": 3,
    "start_time": "2021-12-16T06:17:28.240Z"
   },
   {
    "duration": 3,
    "start_time": "2021-12-16T06:18:40.715Z"
   },
   {
    "duration": 3,
    "start_time": "2021-12-16T06:18:55.945Z"
   },
   {
    "duration": 3,
    "start_time": "2021-12-16T06:19:14.517Z"
   },
   {
    "duration": 4,
    "start_time": "2021-12-16T06:19:33.347Z"
   },
   {
    "duration": 3,
    "start_time": "2021-12-16T06:20:00.891Z"
   },
   {
    "duration": 3,
    "start_time": "2021-12-16T06:20:03.728Z"
   },
   {
    "duration": 3,
    "start_time": "2021-12-16T06:20:04.570Z"
   },
   {
    "duration": 4,
    "start_time": "2021-12-16T06:20:05.265Z"
   },
   {
    "duration": 782,
    "start_time": "2021-12-16T06:22:29.589Z"
   },
   {
    "duration": 187,
    "start_time": "2021-12-16T06:23:56.759Z"
   },
   {
    "duration": 378,
    "start_time": "2021-12-16T06:25:14.321Z"
   },
   {
    "duration": 2064,
    "start_time": "2021-12-16T06:26:25.740Z"
   },
   {
    "duration": 204,
    "start_time": "2021-12-16T06:28:32.236Z"
   },
   {
    "duration": 330,
    "start_time": "2021-12-16T06:28:43.196Z"
   },
   {
    "duration": 28,
    "start_time": "2021-12-16T06:28:53.547Z"
   },
   {
    "duration": 34,
    "start_time": "2021-12-16T06:29:45.743Z"
   },
   {
    "duration": 5,
    "start_time": "2021-12-16T06:31:40.382Z"
   },
   {
    "duration": 77,
    "start_time": "2021-12-16T06:38:06.953Z"
   },
   {
    "duration": 26,
    "start_time": "2021-12-16T06:38:41.786Z"
   },
   {
    "duration": 5,
    "start_time": "2021-12-16T06:38:58.058Z"
   },
   {
    "duration": 3,
    "start_time": "2021-12-16T06:39:15.257Z"
   },
   {
    "duration": 29,
    "start_time": "2021-12-16T06:40:35.088Z"
   },
   {
    "duration": 85,
    "start_time": "2021-12-16T06:49:06.944Z"
   },
   {
    "duration": 6102,
    "start_time": "2021-12-16T06:50:05.003Z"
   },
   {
    "duration": 5749,
    "start_time": "2021-12-16T06:51:18.433Z"
   },
   {
    "duration": 6852,
    "start_time": "2021-12-16T06:53:07.527Z"
   },
   {
    "duration": 24,
    "start_time": "2021-12-16T06:54:17.704Z"
   },
   {
    "duration": 30,
    "start_time": "2021-12-16T06:54:51.901Z"
   },
   {
    "duration": 83,
    "start_time": "2021-12-16T06:56:26.103Z"
   },
   {
    "duration": 95,
    "start_time": "2021-12-16T06:58:06.629Z"
   },
   {
    "duration": 84,
    "start_time": "2021-12-16T06:58:20.164Z"
   },
   {
    "duration": 11,
    "start_time": "2021-12-16T06:59:46.750Z"
   },
   {
    "duration": 82,
    "start_time": "2021-12-16T07:03:45.682Z"
   },
   {
    "duration": 113,
    "start_time": "2021-12-16T07:03:55.463Z"
   },
   {
    "duration": 82,
    "start_time": "2021-12-16T07:04:43.000Z"
   },
   {
    "duration": 89,
    "start_time": "2021-12-16T07:05:16.992Z"
   },
   {
    "duration": 79,
    "start_time": "2021-12-16T07:05:33.328Z"
   },
   {
    "duration": 5,
    "start_time": "2021-12-16T07:07:12.297Z"
   },
   {
    "duration": 485,
    "start_time": "2021-12-16T07:08:41.161Z"
   },
   {
    "duration": 548,
    "start_time": "2021-12-16T07:11:13.276Z"
   },
   {
    "duration": 462,
    "start_time": "2021-12-16T07:12:52.738Z"
   },
   {
    "duration": 477,
    "start_time": "2021-12-16T07:28:50.370Z"
   },
   {
    "duration": 5,
    "start_time": "2021-12-16T07:30:01.017Z"
   },
   {
    "duration": 14,
    "start_time": "2021-12-16T07:30:08.153Z"
   },
   {
    "duration": 15,
    "start_time": "2021-12-16T07:31:24.103Z"
   },
   {
    "duration": 6926,
    "start_time": "2021-12-16T07:35:15.052Z"
   },
   {
    "duration": 6177,
    "start_time": "2021-12-16T07:35:32.662Z"
   },
   {
    "duration": 10,
    "start_time": "2021-12-16T07:36:12.064Z"
   },
   {
    "duration": 47,
    "start_time": "2021-12-16T07:39:42.824Z"
   },
   {
    "duration": 240,
    "start_time": "2021-12-16T07:40:26.175Z"
   },
   {
    "duration": 44,
    "start_time": "2021-12-16T07:40:44.055Z"
   },
   {
    "duration": 5,
    "start_time": "2021-12-16T07:44:39.035Z"
   },
   {
    "duration": 22,
    "start_time": "2021-12-16T07:45:22.838Z"
   },
   {
    "duration": 19,
    "start_time": "2021-12-16T07:45:40.104Z"
   },
   {
    "duration": 20,
    "start_time": "2021-12-16T07:45:57.348Z"
   },
   {
    "duration": 18,
    "start_time": "2021-12-16T07:46:16.169Z"
   },
   {
    "duration": 20,
    "start_time": "2021-12-16T07:46:35.047Z"
   },
   {
    "duration": 19,
    "start_time": "2021-12-16T07:46:59.643Z"
   },
   {
    "duration": 17,
    "start_time": "2021-12-16T07:48:00.720Z"
   },
   {
    "duration": 26,
    "start_time": "2021-12-16T07:49:25.705Z"
   },
   {
    "duration": 25,
    "start_time": "2021-12-16T07:50:16.548Z"
   },
   {
    "duration": 5,
    "start_time": "2021-12-16T07:55:35.321Z"
   },
   {
    "duration": 16,
    "start_time": "2021-12-16T07:56:01.180Z"
   },
   {
    "duration": 14,
    "start_time": "2021-12-16T07:59:09.853Z"
   },
   {
    "duration": 5,
    "start_time": "2021-12-16T08:01:55.311Z"
   },
   {
    "duration": 13,
    "start_time": "2021-12-16T08:02:02.110Z"
   },
   {
    "duration": 5,
    "start_time": "2021-12-16T08:22:48.568Z"
   },
   {
    "duration": 23,
    "start_time": "2021-12-16T08:24:44.123Z"
   },
   {
    "duration": 17,
    "start_time": "2021-12-16T08:27:08.607Z"
   },
   {
    "duration": 23,
    "start_time": "2021-12-16T08:29:04.632Z"
   },
   {
    "duration": 17,
    "start_time": "2021-12-16T08:29:52.703Z"
   },
   {
    "duration": 15,
    "start_time": "2021-12-16T08:33:44.156Z"
   },
   {
    "duration": 6,
    "start_time": "2021-12-16T08:33:51.753Z"
   },
   {
    "duration": 7,
    "start_time": "2021-12-16T08:35:52.463Z"
   },
   {
    "duration": 7,
    "start_time": "2021-12-16T08:35:57.177Z"
   },
   {
    "duration": 769,
    "start_time": "2021-12-16T11:46:15.623Z"
   },
   {
    "duration": 141,
    "start_time": "2021-12-16T11:46:16.394Z"
   },
   {
    "duration": 17,
    "start_time": "2021-12-16T11:46:16.537Z"
   },
   {
    "duration": 26,
    "start_time": "2021-12-16T11:46:16.556Z"
   },
   {
    "duration": 4,
    "start_time": "2021-12-16T11:46:16.584Z"
   },
   {
    "duration": 22,
    "start_time": "2021-12-16T11:46:16.591Z"
   },
   {
    "duration": 30,
    "start_time": "2021-12-16T11:46:16.615Z"
   },
   {
    "duration": 25,
    "start_time": "2021-12-16T11:46:16.647Z"
   },
   {
    "duration": 17,
    "start_time": "2021-12-16T11:46:16.676Z"
   },
   {
    "duration": 50,
    "start_time": "2021-12-16T11:46:16.696Z"
   },
   {
    "duration": 59,
    "start_time": "2021-12-16T11:46:16.748Z"
   },
   {
    "duration": 86,
    "start_time": "2021-12-16T11:46:16.809Z"
   },
   {
    "duration": 58,
    "start_time": "2021-12-16T11:46:16.896Z"
   },
   {
    "duration": 6,
    "start_time": "2021-12-16T11:46:16.956Z"
   },
   {
    "duration": 7,
    "start_time": "2021-12-16T11:46:16.964Z"
   },
   {
    "duration": 11,
    "start_time": "2021-12-16T11:46:16.972Z"
   },
   {
    "duration": 11,
    "start_time": "2021-12-16T11:46:16.985Z"
   },
   {
    "duration": 47,
    "start_time": "2021-12-16T11:46:16.998Z"
   },
   {
    "duration": 31,
    "start_time": "2021-12-16T11:46:17.047Z"
   },
   {
    "duration": 3,
    "start_time": "2021-12-16T11:46:17.080Z"
   },
   {
    "duration": 40,
    "start_time": "2021-12-16T11:46:17.084Z"
   },
   {
    "duration": 21,
    "start_time": "2021-12-16T11:46:17.126Z"
   },
   {
    "duration": 22,
    "start_time": "2021-12-16T11:46:17.148Z"
   },
   {
    "duration": 20,
    "start_time": "2021-12-16T11:46:17.172Z"
   },
   {
    "duration": 35,
    "start_time": "2021-12-16T11:46:17.193Z"
   },
   {
    "duration": 21,
    "start_time": "2021-12-16T11:46:17.230Z"
   },
   {
    "duration": 28,
    "start_time": "2021-12-16T11:46:17.254Z"
   },
   {
    "duration": 32,
    "start_time": "2021-12-16T11:46:17.284Z"
   },
   {
    "duration": 15,
    "start_time": "2021-12-16T11:46:17.318Z"
   },
   {
    "duration": 4,
    "start_time": "2021-12-16T11:46:17.335Z"
   },
   {
    "duration": 39,
    "start_time": "2021-12-16T11:46:17.341Z"
   },
   {
    "duration": 12,
    "start_time": "2021-12-16T11:46:17.382Z"
   },
   {
    "duration": 23,
    "start_time": "2021-12-16T11:46:17.396Z"
   },
   {
    "duration": 11,
    "start_time": "2021-12-16T11:46:17.421Z"
   },
   {
    "duration": 12,
    "start_time": "2021-12-16T11:46:17.434Z"
   },
   {
    "duration": 4,
    "start_time": "2021-12-16T11:46:17.448Z"
   },
   {
    "duration": 6,
    "start_time": "2021-12-16T11:46:17.454Z"
   },
   {
    "duration": 6,
    "start_time": "2021-12-16T11:46:17.462Z"
   },
   {
    "duration": 564,
    "start_time": "2021-12-16T11:46:45.095Z"
   },
   {
    "duration": 136,
    "start_time": "2021-12-16T11:46:45.661Z"
   },
   {
    "duration": 15,
    "start_time": "2021-12-16T11:46:45.799Z"
   },
   {
    "duration": 33,
    "start_time": "2021-12-16T11:46:45.816Z"
   },
   {
    "duration": 4,
    "start_time": "2021-12-16T11:46:45.851Z"
   },
   {
    "duration": 20,
    "start_time": "2021-12-16T11:46:45.856Z"
   },
   {
    "duration": 5,
    "start_time": "2021-12-16T11:46:45.877Z"
   },
   {
    "duration": 24,
    "start_time": "2021-12-16T11:46:45.883Z"
   },
   {
    "duration": 43,
    "start_time": "2021-12-16T11:46:45.910Z"
   },
   {
    "duration": 22,
    "start_time": "2021-12-16T11:46:45.955Z"
   },
   {
    "duration": 77,
    "start_time": "2021-12-16T11:46:45.979Z"
   },
   {
    "duration": 68,
    "start_time": "2021-12-16T11:46:46.058Z"
   },
   {
    "duration": 59,
    "start_time": "2021-12-16T11:46:46.127Z"
   },
   {
    "duration": 7,
    "start_time": "2021-12-16T11:46:46.188Z"
   },
   {
    "duration": 3,
    "start_time": "2021-12-16T11:46:46.196Z"
   },
   {
    "duration": 15,
    "start_time": "2021-12-16T11:46:46.201Z"
   },
   {
    "duration": 7,
    "start_time": "2021-12-16T11:46:46.218Z"
   },
   {
    "duration": 31,
    "start_time": "2021-12-16T11:46:46.245Z"
   },
   {
    "duration": 30,
    "start_time": "2021-12-16T11:46:46.278Z"
   },
   {
    "duration": 4,
    "start_time": "2021-12-16T11:46:46.310Z"
   },
   {
    "duration": 17,
    "start_time": "2021-12-16T11:46:46.344Z"
   },
   {
    "duration": 16,
    "start_time": "2021-12-16T11:46:46.363Z"
   },
   {
    "duration": 15,
    "start_time": "2021-12-16T11:46:46.381Z"
   },
   {
    "duration": 17,
    "start_time": "2021-12-16T11:46:46.398Z"
   },
   {
    "duration": 43,
    "start_time": "2021-12-16T11:46:46.417Z"
   },
   {
    "duration": 16,
    "start_time": "2021-12-16T11:46:46.462Z"
   },
   {
    "duration": 10,
    "start_time": "2021-12-16T11:46:46.482Z"
   },
   {
    "duration": 20,
    "start_time": "2021-12-16T11:46:46.495Z"
   },
   {
    "duration": 43,
    "start_time": "2021-12-16T11:46:46.517Z"
   },
   {
    "duration": 4,
    "start_time": "2021-12-16T11:46:46.562Z"
   },
   {
    "duration": 24,
    "start_time": "2021-12-16T11:46:46.568Z"
   },
   {
    "duration": 13,
    "start_time": "2021-12-16T11:46:46.594Z"
   },
   {
    "duration": 48,
    "start_time": "2021-12-16T11:46:46.609Z"
   },
   {
    "duration": 13,
    "start_time": "2021-12-16T11:46:46.660Z"
   },
   {
    "duration": 8,
    "start_time": "2021-12-16T11:46:46.675Z"
   },
   {
    "duration": 4,
    "start_time": "2021-12-16T11:46:46.685Z"
   },
   {
    "duration": 7,
    "start_time": "2021-12-16T11:46:46.691Z"
   },
   {
    "duration": 4,
    "start_time": "2021-12-16T11:46:46.700Z"
   },
   {
    "duration": 7,
    "start_time": "2021-12-16T11:48:37.006Z"
   },
   {
    "duration": 301,
    "start_time": "2021-12-17T09:52:19.879Z"
   },
   {
    "duration": 265,
    "start_time": "2021-12-17T09:53:56.540Z"
   },
   {
    "duration": 3,
    "start_time": "2021-12-17T09:54:43.198Z"
   },
   {
    "duration": 515,
    "start_time": "2021-12-17T09:54:46.949Z"
   },
   {
    "duration": 263,
    "start_time": "2021-12-17T10:01:44.108Z"
   },
   {
    "duration": 336,
    "start_time": "2021-12-17T10:02:06.482Z"
   },
   {
    "duration": 274,
    "start_time": "2021-12-17T10:02:22.654Z"
   },
   {
    "duration": 251,
    "start_time": "2021-12-17T10:04:31.537Z"
   },
   {
    "duration": 271,
    "start_time": "2021-12-17T10:08:31.011Z"
   },
   {
    "duration": 578,
    "start_time": "2021-12-17T10:24:14.437Z"
   },
   {
    "duration": 263,
    "start_time": "2021-12-17T10:24:40.616Z"
   },
   {
    "duration": 534,
    "start_time": "2021-12-17T10:30:33.367Z"
   },
   {
    "duration": 1800,
    "start_time": "2021-12-17T10:39:36.047Z"
   },
   {
    "duration": 633,
    "start_time": "2021-12-17T11:18:50.762Z"
   },
   {
    "duration": 139,
    "start_time": "2021-12-17T11:18:54.570Z"
   },
   {
    "duration": 16,
    "start_time": "2021-12-17T11:19:01.907Z"
   },
   {
    "duration": 24,
    "start_time": "2021-12-17T11:19:07.253Z"
   },
   {
    "duration": 4,
    "start_time": "2021-12-17T11:19:14.202Z"
   },
   {
    "duration": 20,
    "start_time": "2021-12-17T11:19:19.332Z"
   },
   {
    "duration": 4,
    "start_time": "2021-12-17T11:19:24.815Z"
   },
   {
    "duration": 23,
    "start_time": "2021-12-17T11:19:29.051Z"
   },
   {
    "duration": 17,
    "start_time": "2021-12-17T11:19:35.220Z"
   },
   {
    "duration": 23,
    "start_time": "2021-12-17T11:19:39.844Z"
   },
   {
    "duration": 58,
    "start_time": "2021-12-17T11:19:43.796Z"
   },
   {
    "duration": 72,
    "start_time": "2021-12-17T11:19:49.139Z"
   },
   {
    "duration": 51,
    "start_time": "2021-12-17T11:19:52.261Z"
   },
   {
    "duration": 8,
    "start_time": "2021-12-17T11:19:55.802Z"
   },
   {
    "duration": 3,
    "start_time": "2021-12-17T11:20:04.724Z"
   },
   {
    "duration": 10,
    "start_time": "2021-12-17T11:20:07.404Z"
   },
   {
    "duration": 10,
    "start_time": "2021-12-17T11:20:11.804Z"
   },
   {
    "duration": 7,
    "start_time": "2021-12-17T11:20:16.151Z"
   },
   {
    "duration": 30,
    "start_time": "2021-12-17T11:20:26.446Z"
   },
   {
    "duration": 32,
    "start_time": "2021-12-17T11:20:30.703Z"
   },
   {
    "duration": 12,
    "start_time": "2021-12-17T11:20:37.008Z"
   },
   {
    "duration": 23,
    "start_time": "2021-12-17T11:20:42.050Z"
   },
   {
    "duration": 16,
    "start_time": "2021-12-17T11:20:46.300Z"
   },
   {
    "duration": 4,
    "start_time": "2021-12-17T11:20:52.021Z"
   },
   {
    "duration": 19,
    "start_time": "2021-12-17T11:20:58.042Z"
   },
   {
    "duration": 19,
    "start_time": "2021-12-17T11:21:05.178Z"
   },
   {
    "duration": 14,
    "start_time": "2021-12-17T11:21:10.172Z"
   },
   {
    "duration": 9,
    "start_time": "2021-12-17T11:21:15.887Z"
   },
   {
    "duration": 5,
    "start_time": "2021-12-17T11:21:20.629Z"
   },
   {
    "duration": 6,
    "start_time": "2021-12-17T11:21:23.709Z"
   },
   {
    "duration": 5,
    "start_time": "2021-12-17T11:21:27.759Z"
   },
   {
    "duration": 105,
    "start_time": "2021-12-17T11:25:03.416Z"
   },
   {
    "duration": 89,
    "start_time": "2021-12-17T11:25:34.002Z"
   },
   {
    "duration": 10,
    "start_time": "2021-12-17T11:26:25.497Z"
   },
   {
    "duration": 10,
    "start_time": "2021-12-17T11:27:45.456Z"
   },
   {
    "duration": 10,
    "start_time": "2021-12-17T11:27:58.626Z"
   },
   {
    "duration": 42,
    "start_time": "2021-12-17T11:34:26.853Z"
   },
   {
    "duration": 44,
    "start_time": "2021-12-17T11:34:52.706Z"
   },
   {
    "duration": 38,
    "start_time": "2021-12-17T11:35:59.395Z"
   },
   {
    "duration": 376,
    "start_time": "2021-12-17T11:39:05.779Z"
   },
   {
    "duration": 42,
    "start_time": "2021-12-17T11:55:18.730Z"
   },
   {
    "duration": 40,
    "start_time": "2021-12-17T11:56:27.441Z"
   },
   {
    "duration": 43,
    "start_time": "2021-12-17T11:57:30.626Z"
   },
   {
    "duration": 43,
    "start_time": "2021-12-17T11:58:35.426Z"
   },
   {
    "duration": 1964,
    "start_time": "2021-12-17T12:04:24.324Z"
   },
   {
    "duration": 270,
    "start_time": "2021-12-17T12:04:48.039Z"
   },
   {
    "duration": 88,
    "start_time": "2021-12-17T12:11:40.154Z"
   },
   {
    "duration": 274,
    "start_time": "2021-12-17T12:12:54.252Z"
   },
   {
    "duration": 275,
    "start_time": "2021-12-17T12:13:54.674Z"
   },
   {
    "duration": 280,
    "start_time": "2021-12-17T12:14:05.722Z"
   },
   {
    "duration": 270,
    "start_time": "2021-12-17T12:15:05.211Z"
   },
   {
    "duration": 281,
    "start_time": "2021-12-17T12:16:26.958Z"
   },
   {
    "duration": 271,
    "start_time": "2021-12-17T12:16:38.723Z"
   },
   {
    "duration": 333,
    "start_time": "2021-12-17T12:19:43.594Z"
   },
   {
    "duration": 299,
    "start_time": "2021-12-17T12:19:57.521Z"
   },
   {
    "duration": 269,
    "start_time": "2021-12-17T12:21:22.084Z"
   },
   {
    "duration": 261,
    "start_time": "2021-12-17T12:27:11.575Z"
   },
   {
    "duration": 277,
    "start_time": "2021-12-17T12:28:59.400Z"
   },
   {
    "duration": 272,
    "start_time": "2021-12-17T12:29:28.109Z"
   },
   {
    "duration": 280,
    "start_time": "2021-12-17T12:29:39.317Z"
   },
   {
    "duration": 263,
    "start_time": "2021-12-17T12:31:17.368Z"
   },
   {
    "duration": 1818,
    "start_time": "2021-12-17T12:34:06.274Z"
   },
   {
    "duration": 1812,
    "start_time": "2021-12-17T12:34:26.139Z"
   },
   {
    "duration": 6983,
    "start_time": "2021-12-17T12:35:33.837Z"
   },
   {
    "duration": 1813,
    "start_time": "2021-12-17T12:37:50.042Z"
   },
   {
    "duration": 1825,
    "start_time": "2021-12-17T12:38:24.441Z"
   },
   {
    "duration": 1873,
    "start_time": "2021-12-17T12:40:42.097Z"
   },
   {
    "duration": 5,
    "start_time": "2021-12-17T12:40:56.633Z"
   },
   {
    "duration": 24,
    "start_time": "2021-12-17T12:41:01.916Z"
   },
   {
    "duration": 5,
    "start_time": "2021-12-17T12:41:05.906Z"
   },
   {
    "duration": 21,
    "start_time": "2021-12-17T12:41:09.298Z"
   },
   {
    "duration": 16,
    "start_time": "2021-12-17T12:41:12.817Z"
   },
   {
    "duration": 21,
    "start_time": "2021-12-17T12:41:16.155Z"
   },
   {
    "duration": 1953,
    "start_time": "2021-12-17T12:41:20.377Z"
   },
   {
    "duration": 1815,
    "start_time": "2021-12-17T12:41:24.113Z"
   },
   {
    "duration": 1816,
    "start_time": "2021-12-17T12:41:32.882Z"
   },
   {
    "duration": 3,
    "start_time": "2021-12-17T12:42:18.377Z"
   },
   {
    "duration": 147,
    "start_time": "2021-12-17T12:42:24.298Z"
   },
   {
    "duration": 10,
    "start_time": "2021-12-17T12:42:29.169Z"
   },
   {
    "duration": 25,
    "start_time": "2021-12-17T12:42:33.411Z"
   },
   {
    "duration": 4,
    "start_time": "2021-12-17T12:42:40.011Z"
   },
   {
    "duration": 16,
    "start_time": "2021-12-17T12:42:46.579Z"
   },
   {
    "duration": 4,
    "start_time": "2021-12-17T12:42:50.635Z"
   },
   {
    "duration": 23,
    "start_time": "2021-12-17T12:42:55.210Z"
   },
   {
    "duration": 19,
    "start_time": "2021-12-17T12:43:00.582Z"
   },
   {
    "duration": 24,
    "start_time": "2021-12-17T12:43:04.820Z"
   },
   {
    "duration": 59,
    "start_time": "2021-12-17T12:43:09.247Z"
   },
   {
    "duration": 66,
    "start_time": "2021-12-17T12:43:16.867Z"
   },
   {
    "duration": 53,
    "start_time": "2021-12-17T12:43:24.565Z"
   },
   {
    "duration": 7,
    "start_time": "2021-12-17T12:43:29.339Z"
   },
   {
    "duration": 3,
    "start_time": "2021-12-17T12:44:42.654Z"
   },
   {
    "duration": 149,
    "start_time": "2021-12-17T12:44:47.554Z"
   },
   {
    "duration": 12,
    "start_time": "2021-12-17T12:44:50.725Z"
   },
   {
    "duration": 26,
    "start_time": "2021-12-17T12:44:54.180Z"
   },
   {
    "duration": 5,
    "start_time": "2021-12-17T12:45:00.709Z"
   },
   {
    "duration": 14,
    "start_time": "2021-12-17T12:45:07.182Z"
   },
   {
    "duration": 4,
    "start_time": "2021-12-17T12:45:09.870Z"
   },
   {
    "duration": 25,
    "start_time": "2021-12-17T12:45:13.723Z"
   },
   {
    "duration": 18,
    "start_time": "2021-12-17T12:45:19.428Z"
   },
   {
    "duration": 22,
    "start_time": "2021-12-17T12:45:22.398Z"
   },
   {
    "duration": 58,
    "start_time": "2021-12-17T12:45:26.165Z"
   },
   {
    "duration": 70,
    "start_time": "2021-12-17T12:45:30.768Z"
   },
   {
    "duration": 54,
    "start_time": "2021-12-17T12:45:34.511Z"
   },
   {
    "duration": 45,
    "start_time": "2021-12-17T12:45:40.603Z"
   },
   {
    "duration": 4,
    "start_time": "2021-12-17T12:47:27.358Z"
   },
   {
    "duration": 213,
    "start_time": "2021-12-17T12:47:31.363Z"
   },
   {
    "duration": 15,
    "start_time": "2021-12-17T12:47:34.739Z"
   },
   {
    "duration": 25,
    "start_time": "2021-12-17T12:47:38.051Z"
   },
   {
    "duration": 4,
    "start_time": "2021-12-17T12:47:45.188Z"
   },
   {
    "duration": 14,
    "start_time": "2021-12-17T12:47:50.771Z"
   },
   {
    "duration": 4,
    "start_time": "2021-12-17T12:47:54.115Z"
   },
   {
    "duration": 37,
    "start_time": "2021-12-17T12:47:56.983Z"
   },
   {
    "duration": 22,
    "start_time": "2021-12-17T12:48:01.436Z"
   },
   {
    "duration": 24,
    "start_time": "2021-12-17T12:48:04.388Z"
   },
   {
    "duration": 90,
    "start_time": "2021-12-17T12:48:08.334Z"
   },
   {
    "duration": 91,
    "start_time": "2021-12-17T12:48:12.620Z"
   },
   {
    "duration": 77,
    "start_time": "2021-12-17T12:48:15.826Z"
   },
   {
    "duration": 262,
    "start_time": "2021-12-17T12:48:20.515Z"
   },
   {
    "duration": 20,
    "start_time": "2021-12-17T12:51:12.151Z"
   },
   {
    "duration": 5,
    "start_time": "2021-12-17T12:51:15.345Z"
   },
   {
    "duration": 36,
    "start_time": "2021-12-17T12:51:19.509Z"
   },
   {
    "duration": 17,
    "start_time": "2021-12-17T12:51:24.617Z"
   },
   {
    "duration": 22,
    "start_time": "2021-12-17T12:51:28.702Z"
   },
   {
    "duration": 54,
    "start_time": "2021-12-17T12:51:34.638Z"
   },
   {
    "duration": 55,
    "start_time": "2021-12-17T12:51:43.598Z"
   },
   {
    "duration": 66,
    "start_time": "2021-12-17T12:51:53.782Z"
   },
   {
    "duration": 52,
    "start_time": "2021-12-17T12:51:58.342Z"
   },
   {
    "duration": 311,
    "start_time": "2021-12-17T12:52:02.470Z"
   },
   {
    "duration": 45,
    "start_time": "2021-12-17T12:52:16.686Z"
   },
   {
    "duration": 3,
    "start_time": "2021-12-17T12:52:33.438Z"
   },
   {
    "duration": 194,
    "start_time": "2021-12-17T12:52:37.329Z"
   },
   {
    "duration": 15,
    "start_time": "2021-12-17T12:52:39.491Z"
   },
   {
    "duration": 39,
    "start_time": "2021-12-17T12:52:43.388Z"
   },
   {
    "duration": 5,
    "start_time": "2021-12-17T12:52:51.871Z"
   },
   {
    "duration": 14,
    "start_time": "2021-12-17T12:52:57.382Z"
   },
   {
    "duration": 4,
    "start_time": "2021-12-17T12:53:03.128Z"
   },
   {
    "duration": 23,
    "start_time": "2021-12-17T12:53:07.566Z"
   },
   {
    "duration": 19,
    "start_time": "2021-12-17T12:53:13.494Z"
   },
   {
    "duration": 22,
    "start_time": "2021-12-17T12:53:19.563Z"
   },
   {
    "duration": 56,
    "start_time": "2021-12-17T12:53:25.047Z"
   },
   {
    "duration": 71,
    "start_time": "2021-12-17T12:53:30.134Z"
   },
   {
    "duration": 56,
    "start_time": "2021-12-17T12:53:33.486Z"
   },
   {
    "duration": 46,
    "start_time": "2021-12-17T12:53:41.494Z"
   },
   {
    "duration": 3,
    "start_time": "2021-12-17T13:09:25.301Z"
   },
   {
    "duration": 151,
    "start_time": "2021-12-17T13:09:29.004Z"
   },
   {
    "duration": 10,
    "start_time": "2021-12-17T13:09:32.243Z"
   },
   {
    "duration": 27,
    "start_time": "2021-12-17T13:09:36.927Z"
   },
   {
    "duration": 4,
    "start_time": "2021-12-17T13:09:44.300Z"
   },
   {
    "duration": 13,
    "start_time": "2021-12-17T13:09:49.147Z"
   },
   {
    "duration": 5,
    "start_time": "2021-12-17T13:09:54.173Z"
   },
   {
    "duration": 24,
    "start_time": "2021-12-17T13:09:57.381Z"
   },
   {
    "duration": 19,
    "start_time": "2021-12-17T13:10:01.259Z"
   },
   {
    "duration": 40,
    "start_time": "2021-12-17T13:10:11.871Z"
   },
   {
    "duration": 63,
    "start_time": "2021-12-17T13:10:15.572Z"
   },
   {
    "duration": 94,
    "start_time": "2021-12-17T13:10:19.252Z"
   },
   {
    "duration": 51,
    "start_time": "2021-12-17T13:10:23.080Z"
   },
   {
    "duration": 295,
    "start_time": "2021-12-17T13:10:28.435Z"
   },
   {
    "duration": 49,
    "start_time": "2021-12-17T13:10:42.463Z"
   },
   {
    "duration": 43,
    "start_time": "2021-12-17T13:10:59.884Z"
   },
   {
    "duration": 41,
    "start_time": "2021-12-17T13:11:22.087Z"
   },
   {
    "duration": 38,
    "start_time": "2021-12-17T13:11:42.222Z"
   },
   {
    "duration": 84,
    "start_time": "2021-12-17T13:12:57.470Z"
   },
   {
    "duration": 37,
    "start_time": "2021-12-17T13:13:05.031Z"
   },
   {
    "duration": 68,
    "start_time": "2021-12-17T13:18:09.562Z"
   },
   {
    "duration": 40,
    "start_time": "2021-12-17T13:18:55.124Z"
   },
   {
    "duration": 55,
    "start_time": "2021-12-17T13:24:00.072Z"
   },
   {
    "duration": 55,
    "start_time": "2021-12-17T13:24:23.609Z"
   },
   {
    "duration": 39,
    "start_time": "2021-12-17T13:25:24.037Z"
   },
   {
    "duration": 41,
    "start_time": "2021-12-17T13:26:20.105Z"
   },
   {
    "duration": 56,
    "start_time": "2021-12-17T13:34:46.754Z"
   },
   {
    "duration": 57,
    "start_time": "2021-12-17T13:36:27.729Z"
   },
   {
    "duration": 65,
    "start_time": "2021-12-17T13:36:54.977Z"
   },
   {
    "duration": 268,
    "start_time": "2021-12-17T13:40:23.172Z"
   },
   {
    "duration": 37,
    "start_time": "2021-12-17T13:40:39.235Z"
   },
   {
    "duration": 41,
    "start_time": "2021-12-17T13:47:51.221Z"
   },
   {
    "duration": 32,
    "start_time": "2021-12-17T13:48:44.214Z"
   },
   {
    "duration": 11,
    "start_time": "2021-12-17T14:01:29.555Z"
   },
   {
    "duration": 13,
    "start_time": "2021-12-17T14:02:09.590Z"
   },
   {
    "duration": 12,
    "start_time": "2021-12-17T14:02:29.481Z"
   },
   {
    "duration": 11,
    "start_time": "2021-12-17T14:02:53.028Z"
   },
   {
    "duration": 3,
    "start_time": "2021-12-17T14:05:56.626Z"
   },
   {
    "duration": 148,
    "start_time": "2021-12-17T14:06:00.547Z"
   },
   {
    "duration": 12,
    "start_time": "2021-12-17T14:06:03.404Z"
   },
   {
    "duration": 29,
    "start_time": "2021-12-17T14:06:07.201Z"
   },
   {
    "duration": 4,
    "start_time": "2021-12-17T14:06:15.346Z"
   },
   {
    "duration": 21,
    "start_time": "2021-12-17T14:06:21.370Z"
   },
   {
    "duration": 4,
    "start_time": "2021-12-17T14:06:27.754Z"
   },
   {
    "duration": 38,
    "start_time": "2021-12-17T14:06:32.931Z"
   },
   {
    "duration": 22,
    "start_time": "2021-12-17T14:12:00.743Z"
   },
   {
    "duration": 17,
    "start_time": "2021-12-17T14:12:06.891Z"
   },
   {
    "duration": 23,
    "start_time": "2021-12-17T14:12:11.140Z"
   },
   {
    "duration": 57,
    "start_time": "2021-12-17T14:12:16.877Z"
   },
   {
    "duration": 71,
    "start_time": "2021-12-17T14:12:20.956Z"
   },
   {
    "duration": 58,
    "start_time": "2021-12-17T14:12:24.268Z"
   },
   {
    "duration": 40,
    "start_time": "2021-12-17T14:12:29.318Z"
   },
   {
    "duration": 3,
    "start_time": "2021-12-17T14:12:40.417Z"
   },
   {
    "duration": 11,
    "start_time": "2021-12-17T14:12:44.608Z"
   },
   {
    "duration": 7,
    "start_time": "2021-12-17T14:12:52.932Z"
   },
   {
    "duration": 34,
    "start_time": "2021-12-17T14:13:00.481Z"
   },
   {
    "duration": 10,
    "start_time": "2021-12-17T14:13:04.910Z"
   },
   {
    "duration": 3,
    "start_time": "2021-12-17T14:13:16.887Z"
   },
   {
    "duration": 17,
    "start_time": "2021-12-17T14:13:23.124Z"
   },
   {
    "duration": 14,
    "start_time": "2021-12-17T14:13:26.351Z"
   },
   {
    "duration": 19,
    "start_time": "2021-12-17T14:13:28.869Z"
   },
   {
    "duration": 16,
    "start_time": "2021-12-17T14:13:31.311Z"
   },
   {
    "duration": 15,
    "start_time": "2021-12-17T14:13:35.734Z"
   },
   {
    "duration": 16,
    "start_time": "2021-12-17T14:13:40.605Z"
   },
   {
    "duration": 18,
    "start_time": "2021-12-17T14:14:04.286Z"
   },
   {
    "duration": 16,
    "start_time": "2021-12-17T14:14:08.065Z"
   },
   {
    "duration": 4,
    "start_time": "2021-12-17T14:14:17.138Z"
   },
   {
    "duration": 20,
    "start_time": "2021-12-17T14:14:23.788Z"
   },
   {
    "duration": 15,
    "start_time": "2021-12-17T14:14:28.413Z"
   },
   {
    "duration": 18,
    "start_time": "2021-12-17T14:14:31.931Z"
   },
   {
    "duration": 14,
    "start_time": "2021-12-17T14:14:38.869Z"
   },
   {
    "duration": 11,
    "start_time": "2021-12-17T14:14:43.686Z"
   },
   {
    "duration": 5,
    "start_time": "2021-12-17T14:14:46.270Z"
   },
   {
    "duration": 7,
    "start_time": "2021-12-17T14:14:50.317Z"
   },
   {
    "duration": 6,
    "start_time": "2021-12-17T14:14:53.735Z"
   },
   {
    "duration": 755,
    "start_time": "2021-12-17T19:46:14.548Z"
   },
   {
    "duration": 193,
    "start_time": "2021-12-17T19:46:15.306Z"
   },
   {
    "duration": 33,
    "start_time": "2021-12-17T19:46:15.505Z"
   },
   {
    "duration": 30,
    "start_time": "2021-12-17T19:46:15.540Z"
   },
   {
    "duration": 6,
    "start_time": "2021-12-17T19:46:15.573Z"
   },
   {
    "duration": 59,
    "start_time": "2021-12-17T19:46:15.582Z"
   },
   {
    "duration": 8,
    "start_time": "2021-12-17T19:46:15.644Z"
   },
   {
    "duration": 60,
    "start_time": "2021-12-17T19:46:15.658Z"
   },
   {
    "duration": 22,
    "start_time": "2021-12-17T19:46:15.721Z"
   },
   {
    "duration": 29,
    "start_time": "2021-12-17T19:46:15.746Z"
   },
   {
    "duration": 118,
    "start_time": "2021-12-17T19:46:15.777Z"
   },
   {
    "duration": 106,
    "start_time": "2021-12-17T19:46:15.897Z"
   },
   {
    "duration": 86,
    "start_time": "2021-12-17T19:46:16.005Z"
   },
   {
    "duration": 70,
    "start_time": "2021-12-17T19:46:16.094Z"
   },
   {
    "duration": 4,
    "start_time": "2021-12-17T19:46:16.167Z"
   },
   {
    "duration": 44,
    "start_time": "2021-12-17T19:46:16.173Z"
   },
   {
    "duration": 10,
    "start_time": "2021-12-17T19:46:16.219Z"
   },
   {
    "duration": 44,
    "start_time": "2021-12-17T19:46:16.232Z"
   },
   {
    "duration": 40,
    "start_time": "2021-12-17T19:46:16.278Z"
   },
   {
    "duration": 4,
    "start_time": "2021-12-17T19:46:16.321Z"
   },
   {
    "duration": 26,
    "start_time": "2021-12-17T19:46:16.328Z"
   },
   {
    "duration": 20,
    "start_time": "2021-12-17T19:46:16.356Z"
   },
   {
    "duration": 55,
    "start_time": "2021-12-17T19:46:16.379Z"
   },
   {
    "duration": 35,
    "start_time": "2021-12-17T19:46:16.436Z"
   },
   {
    "duration": 40,
    "start_time": "2021-12-17T19:46:16.474Z"
   },
   {
    "duration": 33,
    "start_time": "2021-12-17T19:46:16.518Z"
   },
   {
    "duration": 22,
    "start_time": "2021-12-17T19:46:16.553Z"
   },
   {
    "duration": 31,
    "start_time": "2021-12-17T19:46:16.578Z"
   },
   {
    "duration": 36,
    "start_time": "2021-12-17T19:46:16.612Z"
   },
   {
    "duration": 6,
    "start_time": "2021-12-17T19:46:16.651Z"
   },
   {
    "duration": 47,
    "start_time": "2021-12-17T19:46:16.659Z"
   },
   {
    "duration": 21,
    "start_time": "2021-12-17T19:46:16.709Z"
   },
   {
    "duration": 26,
    "start_time": "2021-12-17T19:46:16.733Z"
   },
   {
    "duration": 19,
    "start_time": "2021-12-17T19:46:16.762Z"
   },
   {
    "duration": 42,
    "start_time": "2021-12-17T19:46:16.783Z"
   },
   {
    "duration": 7,
    "start_time": "2021-12-17T19:46:16.827Z"
   },
   {
    "duration": 23,
    "start_time": "2021-12-17T19:46:16.836Z"
   },
   {
    "duration": 22,
    "start_time": "2021-12-17T19:46:16.862Z"
   }
  ],
  "colab": {
   "collapsed_sections": [
    "E0vqbgi9ay0H",
    "VUC88oWjTJw2"
   ],
   "name": "yandex_music_project_2021.2.ipynb",
   "provenance": []
  },
  "kernelspec": {
   "display_name": "Python 3 (ipykernel)",
   "language": "python",
   "name": "python3"
  },
  "language_info": {
   "codemirror_mode": {
    "name": "ipython",
    "version": 3
   },
   "file_extension": ".py",
   "mimetype": "text/x-python",
   "name": "python",
   "nbconvert_exporter": "python",
   "pygments_lexer": "ipython3",
   "version": "3.9.5"
  },
  "toc": {
   "base_numbering": 1,
   "nav_menu": {},
   "number_sections": true,
   "sideBar": true,
   "skip_h1_title": true,
   "title_cell": "Table of Contents",
   "title_sidebar": "Contents",
   "toc_cell": false,
   "toc_position": {
    "height": "calc(100% - 180px)",
    "left": "10px",
    "top": "150px",
    "width": "165px"
   },
   "toc_section_display": true,
   "toc_window_display": true
  }
 },
 "nbformat": 4,
 "nbformat_minor": 1
}
